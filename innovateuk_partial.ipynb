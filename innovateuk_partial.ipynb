{
 "cells": [
  {
   "cell_type": "code",
   "execution_count": 1,
   "id": "8012a7ca",
   "metadata": {
    "execution": {
     "iopub.execute_input": "2025-07-16T16:45:09.972966Z",
     "iopub.status.busy": "2025-07-16T16:45:09.971970Z",
     "iopub.status.idle": "2025-07-16T16:45:35.524775Z",
     "shell.execute_reply": "2025-07-16T16:45:35.524077Z"
    }
   },
   "outputs": [
    {
     "name": "stdout",
     "output_type": "stream",
     "text": [
      "🌐 Chargement de la page 1...\n",
      "📄 10 opportunités trouvées sur la page 1.\n",
      "✔ Pushing the frontiers of environmental research: January 2026 | 📅 22 July 2025 9:00am UK time → 21 January 2026 4:00pm UK time\n",
      "✔ Projects Peer Review Panel (PPRP) 2026 | 📅 8 September 2025 9:00am UK time → 27 August 2026 4:00pm UK time\n"
     ]
    },
    {
     "name": "stdout",
     "output_type": "stream",
     "text": [
      "✔ DRIVE35 scale-up: feasibility studies | 📅 14 July 2025 9:30am UK time → 3 September 2025 11:00am UK time\n",
      "✔ DRIVE35 innovation fund: collaborate | 📅 14 July 2025 9:30am UK time → 1 October 2025 11:00am UK time\n",
      "✔ BBSRC Brazil pump-priming award (FAPPA) | 📅 15 July 2025 9:00am UK time → Date de clôture non spécifiée\n",
      "✔ Drive35 innovation fund: demonstrate | 📅 14 July 2025 9:30am UK time → 1 October 2025 11:00am UK time\n",
      "✔ Innovate UK innovation loans round 22 | 📅 10 July 2025 → 27 August 2025 11:00am UK time\n",
      "✔ Contracts for Innovation: resource efficient chemicals impacts | 📅 14 July 2025 9:30am UK time → 27 August 2025 11:00am UK time\n"
     ]
    },
    {
     "name": "stdout",
     "output_type": "stream",
     "text": [
      "✔ Funding for core summer schools in 2026 | 📅 14 July 2025 9:00am UK time → 14 October 2025 5:00pm UK time\n",
      "✔ Smart Data Research UK Fellowships | 📅 15 July 2025 9:00am UK time → 23 September 2025 4:00pm UK time\n"
     ]
    },
    {
     "name": "stdout",
     "output_type": "stream",
     "text": [
      "🌐 Chargement de la page 2...\n",
      "📄 10 opportunités trouvées sur la page 2.\n",
      "✔ Institutional diversity fund (invite only) | 📅 21 July 2025 9:00am UK time → 16 September 2025 4:00pm UK time\n",
      "✔ Contracts for Innovation: resource efficient automotive impacts | 📅 14 July 2025 9:30am UK time → 27 August 2025 11:00am UK time\n",
      "✔ Gap fund for early-stage development of new healthcare interventions | 📅 10 July 2025 9:00am UK time → 12 November 2025 4:00pm UK time\n"
     ]
    },
    {
     "name": "stdout",
     "output_type": "stream",
     "text": [
      "✔ Contracts for Innovation: resource efficient construction impacts | 📅 14 July 2025 9:30am UK time → 27 August 2025 11:00am UK time\n",
      "✔ Digitise UK natural science collections | 📅 8 July 2025 9:00am UK time → 16 September 2025 4:00pm UK time\n",
      "✔ Expression of interest: ATI Programme strategic batch, Jul 2025 | 📅 7 July 2025 9:30am UK time → 23 July 2025 11:00am UK time\n",
      "✔ Pre-announcement: Local Innovation Partnerships Fund | 📅 Date d'ouverture non spécifiée → Date de clôture non spécifiée\n",
      "✔ Aviation’s non-CO2 Impacts on the Climate: programme coordinator | 📅 11 July 2025 9:00am UK time → 18 September 2025 4:00pm UK time\n"
     ]
    },
    {
     "name": "stdout",
     "output_type": "stream",
     "text": [
      "✔ Research and partnership hubs for a healthy society | 📅 15 July 2025 9:00am UK time → 21 October 2025 4:00pm UK time\n",
      "✔ Agri-tech and food technology, mid and north Wales: CRD | 📅 30 June 2025 9:30am UK time → 20 August 2025 11:00am UK time\n"
     ]
    },
    {
     "name": "stdout",
     "output_type": "stream",
     "text": [
      "🌐 Chargement de la page 3...\n",
      "📄 10 opportunités trouvées sur la page 3.\n",
      "✔ STFC leadership fellowships in public engagement | 📅 7 July 2025 9:00am UK time → 16 October 2025 4:00pm UK time\n",
      "✔ Computing resources on the STFC DiRAC HPC facility (RAC18) | 📅 3 July 2025 9:00am UK time → 18 September 2025 4:00pm UK time\n"
     ]
    },
    {
     "name": "stdout",
     "output_type": "stream",
     "text": [
      "✔ Experimental medicine: invited stage two application | 📅 8 July 2025 9:00am UK time → 3 September 2025 4:00pm UK time\n",
      "✔ US-UK and Germany-UK collaborative research: seed funding in semiconductor security | 📅 3 July 2025 9:00am UK time → 31 July 2025 4:00pm UK time\n",
      "✔ Pre-announcement: Biological influence on ocean carbon: novel modelling approaches | 📅 Date d'ouverture non spécifiée → Date de clôture non spécifiée\n",
      "✔ UKRI Gambling Harms Research Coordination Centre (GHRCC) | 📅 26 June 2025 9:00am UK time → 16 September 2025 4:00pm UK time\n"
     ]
    },
    {
     "name": "stdout",
     "output_type": "stream",
     "text": [
      "✔ Gambling harms research and innovation partnerships | 📅 26 June 2025 9:00am UK time → 16 September 2025 4:00pm UK time\n",
      "✔ Pre-announcement: multiple model assessment of biological influence on ocean carbon | 📅 Date d'ouverture non spécifiée → Date de clôture non spécifiée\n",
      "✔ Transdisciplinary research to tackle antimicrobial resistance: full application | 📅 18 June 2025 9:00am UK time → 23 September 2025 4:00pm UK time\n",
      "✔ Canada-UK NetworkPlus in semiconductor research | 📅 2 July 2025 9:00am UK time → 10 September 2025 4:00pm UK time\n"
     ]
    },
    {
     "name": "stdout",
     "output_type": "stream",
     "text": [
      "🌐 Chargement de la page 4...\n",
      "📄 10 opportunités trouvées sur la page 4.\n",
      "✔ Knowledge Transfer Partnership: 2025 to 2026 round three | 📅 16 June 2025 9:00am UK time → 17 September 2025 11:30am UK time\n",
      "✔ UK International Ocean Drilling Programme moratorium awards | 📅 24 June 2025 9:00am UK time → Date de clôture non spécifiée\n",
      "✔ Health Technologies Connectivity Awards: round two | 📅 19 June 2025 9:00am UK time → 2 October 2025 4:00pm UK time\n"
     ]
    },
    {
     "name": "stdout",
     "output_type": "stream",
     "text": [
      "✔ ADOPT facilitator support grant: round two | 📅 12 June 2025 9:30am UK time → 24 July 2025 11:00am UK time\n",
      "✔ Full ADOPT grant: round two | 📅 26 June 2025 9:30am UK time → 20 August 2025 11:00am UK time\n",
      "✔ Clinician scientist fellowship | 📅 11 June 2025 9:00am UK time → 3 September 2025 4:00pm UK time\n",
      "✔ Predoctoral clinical research training fellowship | 📅 11 June 2025 9:00am UK time → 3 September 2025 4:00pm UK time\n",
      "✔ Postdoctoral clinical research training fellowship | 📅 11 June 2025 9:00am UK time → 3 September 2025 4:00pm UK time\n"
     ]
    },
    {
     "name": "stdout",
     "output_type": "stream",
     "text": [
      "✔ Engineer next generation veterinary vaccine technology platforms | 📅 11 June 2025 9:00am UK time → 16 September 2025 4:00pm UK time\n",
      "✔ Strategic infrastructure for engineering and physical sciences: June 2025 | 📅 18 June 2025 9:00am UK time → 28 August 2025 4:00pm UK time\n"
     ]
    },
    {
     "name": "stdout",
     "output_type": "stream",
     "text": [
      "🌐 Chargement de la page 5...\n",
      "📄 10 opportunités trouvées sur la page 5.\n",
      "✔ Commercialising Knowledge Assets Fund: autumn 2025 | 📅 2 June 2025 9:30am UK time → 4 September 2025 11:00am UK time\n",
      "✔ Ernest Rutherford Fellowship 2025 | 📅 4 June 2025 9:00am UK time → 1 October 2025 4:00pm UK time\n"
     ]
    },
    {
     "name": "stdout",
     "output_type": "stream",
     "text": [
      "✔ Research to advance UK recycling capabilities: full stage | 📅 28 May 2025 9:00am UK time → 23 July 2025 4:00pm UK time\n",
      "✔ Sandpit: moving respiratory health diagnosis into the 21st century invite only | 📅 21 May 2025 9:00am UK time → 22 July 2025 4:00pm UK time\n",
      "✔ Canada-UK semiconductors | 📅 12 May 2025 9:30am UK time → 15 October 2025 11:00am UK time\n",
      "✔ MRC Centre of Research Excellence: round three: invited full application | 📅 15 May 2025 9:00am UK time → 11 September 2025 4:00pm UK time\n",
      "✔ MRC: partnership | 📅 6 May 2025 9:00am UK time → 4 September 2025 4:00pm UK time\n"
     ]
    },
    {
     "name": "stdout",
     "output_type": "stream",
     "text": [
      "✔ Infections and immunity: programme | 📅 6 May 2025 9:00am UK time → 4 September 2025 4:00pm UK time\n",
      "✔ Neurosciences and mental health: programme | 📅 6 May 2025 9:00am UK time → 4 September 2025 4:00pm UK time\n",
      "✔ Population and systems medicine: programme | 📅 6 May 2025 9:00am UK time → 4 September 2025 4:00pm UK time\n"
     ]
    },
    {
     "name": "stdout",
     "output_type": "stream",
     "text": [
      "🌐 Chargement de la page 6...\n",
      "📄 10 opportunités trouvées sur la page 6.\n",
      "✔ Molecular and cellular medicine: programme | 📅 6 May 2025 9:00am UK time → 4 September 2025 4:00pm UK time\n",
      "✔ Molecular and cellular medicine: new investigator | 📅 2 May 2025 9:00am UK time → 4 September 2025 4:00pm UK time\n"
     ]
    },
    {
     "name": "stdout",
     "output_type": "stream",
     "text": [
      "✔ Neurosciences and mental health: new investigator | 📅 2 May 2025 9:00am UK time → 4 September 2025 4:00pm UK time\n",
      "✔ Infections and immunity: new investigator | 📅 2 May 2025 9:00am UK time → 4 September 2025 4:00pm UK time\n",
      "✔ Population and systems medicine: new investigator | 📅 2 May 2025 9:00am UK time → 4 September 2025 4:00pm UK time\n",
      "✔ Neurosciences and mental health: research grant | 📅 1 May 2025 9:00am UK time → 4 September 2025 4:00pm UK time\n"
     ]
    },
    {
     "name": "stdout",
     "output_type": "stream",
     "text": [
      "✔ Population and systems medicine: research grant | 📅 1 May 2025 9:00am UK time → 4 September 2025 4:00pm UK time\n",
      "✔ Molecular and cellular medicine: research grant | 📅 1 May 2025 9:00am UK time → 4 September 2025 4:00pm UK time\n",
      "✔ Infections and immunity: research grant | 📅 1 May 2025 9:00am UK time → 4 September 2025 4:00pm UK time\n"
     ]
    },
    {
     "name": "stdout",
     "output_type": "stream",
     "text": [
      "✔ Pre-announcement: DARE UK Real-world Research Exemplar Programme | 📅 8 September 2025 9:00am UK time → 5 November 2025 4:00pm UK time\n"
     ]
    },
    {
     "name": "stdout",
     "output_type": "stream",
     "text": [
      "🌐 Chargement de la page 7...\n",
      "📄 10 opportunités trouvées sur la page 7.\n",
      "✔ BBSRC new investigator award: 2025 round 3: applicant-led mode | 📅 24 April 2025 9:00am UK time → 24 September 2025 4:00pm UK time\n",
      "✔ BBSRC standard research grant: 2025 round 3: applicant-led mode | 📅 24 April 2025 9:00am UK time → 24 September 2025 4:00pm UK time\n",
      "✔ Critical mass programmes to drive a sustainable future (invitation only) | 📅 1 May 2025 9:00am UK time → 17 July 2025 4:00pm UK time\n"
     ]
    },
    {
     "name": "stdout",
     "output_type": "stream",
     "text": [
      "✔ Experimental medicine stage one | 📅 17 April 2025 9:00am UK time → 1 October 2025 4:00pm UK time\n",
      "✔ Career development award | 📅 18 June 2025 9:00am UK time → 10 September 2025 4:00pm UK time\n",
      "✔ 2025 to 2026 strategic Longer and Larger (sLoLa) grants: stage one | 📅 29 May 2025 9:00am UK time → 24 July 2025 4:00pm UK time\n"
     ]
    },
    {
     "name": "stdout",
     "output_type": "stream",
     "text": [
      "✔ Collaborate with researchers in Norway | 📅 Date d'ouverture non spécifiée → Date de clôture non spécifiée\n",
      "✔ Collaborative doctoral landscape award in the arts and humanities | 📅 10 April 2025 9:00am UK time → 20 November 2025 4:00pm UK time\n",
      "✔ PATT travel grants for competitively awarded observation time 2025 | 📅 21 August 2025 9:00am UK time → 16 October 2025 4:00pm UK time\n",
      "✔ Future Leaders Fellowships: round 10, business and non-academic | 📅 23 June 2025 9:30am UK time → 5 November 2025 11:00am UK time\n"
     ]
    },
    {
     "name": "stdout",
     "output_type": "stream",
     "text": [
      "🌐 Chargement de la page 8...\n",
      "📄 10 opportunités trouvées sur la page 8.\n",
      "✔ Statements of Need in Research Infrastructure | 📅 17 March 2025 9:00am UK time → Date de clôture non spécifiée\n",
      "✔ EPSRC Programme grant full proposal | 📅 4 March 2025 9:00am UK time → Date de clôture non spécifiée\n"
     ]
    },
    {
     "name": "stdout",
     "output_type": "stream",
     "text": [
      "✔ Mathematical sciences postdoctoral fellowship | 📅 19 February 2025 9:00am UK time → Date de clôture non spécifiée\n",
      "✔ Pre-announcement: Opening up the Environment 2026 | 📅 Date d'ouverture non spécifiée → Date de clôture non spécifiée\n",
      "✔ Small molecule high throughput screen using AstraZeneca facilities | 📅 10 February 2025 9:00am UK time → 9 September 2025 4:00pm UK time\n",
      "✔ AHRC responsive mode: Curiosity Award | 📅 31 January 2025 9:00am UK time → Date de clôture non spécifiée\n"
     ]
    },
    {
     "name": "stdout",
     "output_type": "stream",
     "text": [
      "✔ AHRC responsive mode: catalyst awards | 📅 31 January 2025 9:00am UK time → Date de clôture non spécifiée\n",
      "✔ Mathematical sciences open and open plus fellowship | 📅 30 January 2025 9:00am UK time → Date de clôture non spécifiée\n",
      "✔ AHRC responsive mode: UKRI NSF-SBE lead agency | 📅 11 December 2024 9:00am UK time → Date de clôture non spécifiée\n",
      "✔ AHRC responsive mode: working with Brazilian researchers | 📅 11 December 2024 9:00am UK time → Date de clôture non spécifiée\n"
     ]
    },
    {
     "name": "stdout",
     "output_type": "stream",
     "text": [
      "🌐 Chargement de la page 9...\n",
      "📄 10 opportunités trouvées sur la page 9.\n",
      "✔ AHRC responsive mode: collaborate with researchers in Luxembourg | 📅 11 December 2024 9:00am UK time → Date de clôture non spécifiée\n",
      "✔ AHRC responsive mode: standard research grant | 📅 11 December 2024 9:00am UK time → Date de clôture non spécifiée\n",
      "✔ EPSRC programme grant outline stage | 📅 1 October 2024 9:00am UK time → Date de clôture non spécifiée\n"
     ]
    },
    {
     "name": "stdout",
     "output_type": "stream",
     "text": [
      "✔ International Travel Award Scheme for the Biological Sciences | 📅 1 October 2024 9:00am UK time → 30 September 2025 4:00pm UK time\n",
      "✔ Projects Peer Review Panel (PPRP) 2025 | 📅 1 October 2024 9:00am UK time → 28 August 2025 4:00pm UK time\n",
      "✔ NERC urgency funding | 📅 8 July 2024 9:00am UK time → Date de clôture non spécifiée\n",
      "✔ Strategic infrastructure outlines | 📅 18 June 2024 9:00am UK time → Date de clôture non spécifiée\n"
     ]
    },
    {
     "name": "stdout",
     "output_type": "stream",
     "text": [
      "✔ Work with US-based researchers on environmental science: NERC-NSF lead agency | 📅 Date d'ouverture non spécifiée → Date de clôture non spécifiée\n",
      "✔ Collaborate with the functional genomics screening laboratory | 📅 Date d'ouverture non spécifiée → Date de clôture non spécifiée\n",
      "✔ Open access fund for longform publications: stage two | 📅 15 January 2024 9:00am UK time → Date de clôture non spécifiée\n"
     ]
    },
    {
     "name": "stdout",
     "output_type": "stream",
     "text": [
      "🌐 Chargement de la page 10...\n",
      "📄 10 opportunités trouvées sur la page 10.\n",
      "✔ Mathematical sciences small grants | 📅 2 January 2024 9:00am UK time → Date de clôture non spécifiée\n",
      "✔ EPSRC network grant: Nov 2023: responsive mode | 📅 13 November 2023 9:00am UK time → Date de clôture non spécifiée\n",
      "✔ EPSRC working with overseas scientists: Nov 2023: responsive mode (invite only) | 📅 13 November 2023 9:00am UK time → Date de clôture non spécifiée\n"
     ]
    },
    {
     "name": "stdout",
     "output_type": "stream",
     "text": [
      "✔ EPSRC new investigator award: Nov 2023: responsive mode | 📅 13 November 2023 9:00am UK time → Date de clôture non spécifiée\n",
      "✔ EPSRC discipline hopping in ICT, Nov 2023: responsive mode | 📅 13 November 2023 9:00am UK time → Date de clôture non spécifiée\n",
      "✔ EPSRC overseas travel grant: Nov 2023: responsive mode | 📅 13 November 2023 9:00am UK time → Date de clôture non spécifiée\n",
      "✔ EPSRC standard research grant, Nov 2023: responsive mode | 📅 13 November 2023 9:00am UK time → Date de clôture non spécifiée\n"
     ]
    },
    {
     "name": "stdout",
     "output_type": "stream",
     "text": [
      "✔ ESRC responsive mode: research grants round two | 📅 29 September 2023 9:00am UK time → Date de clôture non spécifiée\n",
      "✔ ESRC responsive mode: new investigator grants round two | 📅 29 September 2023 9:00am UK time → Date de clôture non spécifiée\n",
      "✔ ESRC responsive mode: working with Luxembourg researchers round two | 📅 29 September 2023 9:00am UK time → Date de clôture non spécifiée\n"
     ]
    },
    {
     "name": "stdout",
     "output_type": "stream",
     "text": [
      "🌐 Chargement de la page 11...\n",
      "📄 10 opportunités trouvées sur la page 11.\n",
      "✔ ESRC responsive mode: secondary data analysis round two | 📅 29 September 2023 9:00am UK time → Date de clôture non spécifiée\n",
      "✔ ESRC responsive mode: UKRI-SBE lead agency opportunity round two | 📅 29 September 2023 9:00am UK time → Date de clôture non spécifiée\n",
      "✔ ESRC responsive mode: working with Brazilian researchers round two | 📅 29 September 2023 9:00am UK time → Date de clôture non spécifiée\n",
      "✔ Collaborate with researchers in Luxembourg | 📅 Date d'ouverture non spécifiée → Date de clôture non spécifiée\n"
     ]
    },
    {
     "name": "stdout",
     "output_type": "stream",
     "text": [
      "✔ Researching motor neurone disease: highlight notice | 📅 1 December 2022 → Date de clôture non spécifiée\n",
      "✔ Work with Brazilian researchers: NERC FAPESP lead agency | 📅 Date d'ouverture non spécifiée → Date de clôture non spécifiée\n",
      "✔ PATT travel claim for competitively awarded observation time | 📅 1 January 2021 → Date de clôture non spécifiée\n",
      "✔ Collaborate with researchers in Brazil | 📅 Date d'ouverture non spécifiée → Date de clôture non spécifiée\n",
      "✔ UKRI-SBE lead agency opportunity | 📅 Date d'ouverture non spécifiée → Date de clôture non spécifiée\n",
      "✔ Institutional strategic developmental projects in higher education | 📅 Date d'ouverture non spécifiée → Date de clôture non spécifiée\n"
     ]
    }
   ],
   "source": [
    "from selenium import webdriver\n",
    "from selenium.webdriver.chrome.service import Service\n",
    "from selenium.webdriver.chrome.options import Options\n",
    "from selenium.webdriver.common.by import By\n",
    "from selenium.webdriver.support.ui import WebDriverWait\n",
    "from selenium.webdriver.support import expected_conditions as EC\n",
    "import time\n",
    "\n",
    "# Configurer le driver Chrome\n",
    "chrome_options = Options()\n",
    "chrome_options.add_argument(\"--start-maximized\")\n",
    "\n",
    "service = Service(r\"C:\\Users\\HADIL MARAI\\Desktop\\ODF\\chromedriver-win64\\chromedriver-win64\\chromedriver.exe\")\n",
    "driver = webdriver.Chrome(service=service, options=chrome_options)\n",
    "base_url = \"https://www.ukri.org/opportunity/page/{}/\"\n",
    "\n",
    "with open(\"projets_UKRI_full.txt\", \"w\", encoding=\"utf-8\") as f:\n",
    "    for page_num in range(1, 12):  # Pages 1 à 8\n",
    "        url = base_url.format(page_num)\n",
    "        driver.get(url)\n",
    "        print(f\"🌐 Chargement de la page {page_num}...\")\n",
    "\n",
    "        try:\n",
    "            WebDriverWait(driver, 15).until(\n",
    "                EC.presence_of_element_located((By.CSS_SELECTOR, \"div.opportunity\"))\n",
    "            )\n",
    "        except Exception:\n",
    "            print(f\"❌ Échec du chargement de la page {page_num}.\")\n",
    "            continue\n",
    "\n",
    "        opportunities = driver.find_elements(By.CSS_SELECTOR, \"div.opportunity\")\n",
    "        print(f\"📄 {len(opportunities)} opportunités trouvées sur la page {page_num}.\")\n",
    "\n",
    "        for opp in opportunities:\n",
    "            try:\n",
    "                title_el = opp.find_element(By.CSS_SELECTOR, \"h3.entry-title a\")\n",
    "                title = title_el.text.strip()\n",
    "                link = title_el.get_attribute(\"href\")\n",
    "\n",
    "                try:\n",
    "                    description = opp.find_element(By.CSS_SELECTOR, \"div.entry-content p\").text.strip()\n",
    "                except:\n",
    "                    description = \"Description non trouvée\"\n",
    "\n",
    "                try:\n",
    "                    opening_date = opp.find_element(By.XPATH, \".//dt[contains(text(), 'Opening date:')]/following-sibling::dd[1]/time\").text.strip()\n",
    "                except:\n",
    "                    opening_date = \"Date d'ouverture non spécifiée\"\n",
    "\n",
    "                try:\n",
    "                    closing_date = opp.find_element(By.XPATH, \".//dt[contains(text(), 'Closing date:')]/following-sibling::dd[1]/time\").text.strip()\n",
    "                except:\n",
    "                    closing_date = \"Date de clôture non spécifiée\"\n",
    "\n",
    "                f.write(\n",
    "                    f\"Titre: {title}\\n\"\n",
    "                    f\"Lien: {link}\\n\"\n",
    "                    f\"Description: {description}\\n\"\n",
    "                    f\"Date d'ouverture: {opening_date}\\n\"\n",
    "                    f\"Date de clôture: {closing_date}\\n\\n\"\n",
    "                )\n",
    "                print(f\"✔ {title} | 📅 {opening_date} → {closing_date}\")\n",
    "\n",
    "            except Exception as e:\n",
    "                print(f\"⚠️ Erreur lors du traitement d'une opportunité : {e}\")\n",
    "\n",
    "\n",
    "driver.quit()\n"
   ]
  },
  {
   "cell_type": "code",
   "execution_count": 2,
   "id": "3fff1955",
   "metadata": {
    "execution": {
     "iopub.execute_input": "2025-07-16T16:45:35.527569Z",
     "iopub.status.busy": "2025-07-16T16:45:35.527569Z",
     "iopub.status.idle": "2025-07-16T16:45:36.408257Z",
     "shell.execute_reply": "2025-07-16T16:45:36.408257Z"
    }
   },
   "outputs": [
    {
     "data": {
      "text/html": [
       "<div>\n",
       "<style scoped>\n",
       "    .dataframe tbody tr th:only-of-type {\n",
       "        vertical-align: middle;\n",
       "    }\n",
       "\n",
       "    .dataframe tbody tr th {\n",
       "        vertical-align: top;\n",
       "    }\n",
       "\n",
       "    .dataframe thead th {\n",
       "        text-align: right;\n",
       "    }\n",
       "</style>\n",
       "<table border=\"1\" class=\"dataframe\">\n",
       "  <thead>\n",
       "    <tr style=\"text-align: right;\">\n",
       "      <th></th>\n",
       "      <th>Title</th>\n",
       "      <th>URL</th>\n",
       "      <th>Description</th>\n",
       "      <th>Start_date</th>\n",
       "      <th>Deadline</th>\n",
       "    </tr>\n",
       "  </thead>\n",
       "  <tbody>\n",
       "    <tr>\n",
       "      <th>0</th>\n",
       "      <td>Pushing the frontiers of environmental researc...</td>\n",
       "      <td>https://www.ukri.org/opportunity/pushing-the-f...</td>\n",
       "      <td>Apply for funding to pursue an ambitious, high...</td>\n",
       "      <td>22 July 2025 9:00am UK time</td>\n",
       "      <td>21 January 2026 4:00pm UK time</td>\n",
       "    </tr>\n",
       "    <tr>\n",
       "      <th>1</th>\n",
       "      <td>Projects Peer Review Panel (PPRP) 2026</td>\n",
       "      <td>https://www.ukri.org/opportunity/projects-peer...</td>\n",
       "      <td>Apply for funding to develop a large or comple...</td>\n",
       "      <td>8 September 2025 9:00am UK time</td>\n",
       "      <td>27 August 2026 4:00pm UK time</td>\n",
       "    </tr>\n",
       "    <tr>\n",
       "      <th>2</th>\n",
       "      <td>DRIVE35 scale-up: feasibility studies</td>\n",
       "      <td>https://www.ukri.org/opportunity/drive35-scale...</td>\n",
       "      <td>UK registered businesses can apply for a share...</td>\n",
       "      <td>14 July 2025 9:30am UK time</td>\n",
       "      <td>3 September 2025 11:00am UK time</td>\n",
       "    </tr>\n",
       "    <tr>\n",
       "      <th>3</th>\n",
       "      <td>DRIVE35 innovation fund: collaborate</td>\n",
       "      <td>https://www.ukri.org/opportunity/drive35-innov...</td>\n",
       "      <td>UK registered organisations can apply for a sh...</td>\n",
       "      <td>14 July 2025 9:30am UK time</td>\n",
       "      <td>1 October 2025 11:00am UK time</td>\n",
       "    </tr>\n",
       "    <tr>\n",
       "      <th>4</th>\n",
       "      <td>BBSRC Brazil pump-priming award (FAPPA)</td>\n",
       "      <td>https://www.ukri.org/opportunity/bbsrc-brazil-...</td>\n",
       "      <td>This award is for BBSRC-funded research groups...</td>\n",
       "      <td>15 July 2025 9:00am UK time</td>\n",
       "      <td>Date de clôture non spécifiée</td>\n",
       "    </tr>\n",
       "  </tbody>\n",
       "</table>\n",
       "</div>"
      ],
      "text/plain": [
       "                                               Title  \\\n",
       "0  Pushing the frontiers of environmental researc...   \n",
       "1             Projects Peer Review Panel (PPRP) 2026   \n",
       "2              DRIVE35 scale-up: feasibility studies   \n",
       "3               DRIVE35 innovation fund: collaborate   \n",
       "4            BBSRC Brazil pump-priming award (FAPPA)   \n",
       "\n",
       "                                                 URL  \\\n",
       "0  https://www.ukri.org/opportunity/pushing-the-f...   \n",
       "1  https://www.ukri.org/opportunity/projects-peer...   \n",
       "2  https://www.ukri.org/opportunity/drive35-scale...   \n",
       "3  https://www.ukri.org/opportunity/drive35-innov...   \n",
       "4  https://www.ukri.org/opportunity/bbsrc-brazil-...   \n",
       "\n",
       "                                         Description  \\\n",
       "0  Apply for funding to pursue an ambitious, high...   \n",
       "1  Apply for funding to develop a large or comple...   \n",
       "2  UK registered businesses can apply for a share...   \n",
       "3  UK registered organisations can apply for a sh...   \n",
       "4  This award is for BBSRC-funded research groups...   \n",
       "\n",
       "                        Start_date                          Deadline  \n",
       "0      22 July 2025 9:00am UK time    21 January 2026 4:00pm UK time  \n",
       "1  8 September 2025 9:00am UK time     27 August 2026 4:00pm UK time  \n",
       "2      14 July 2025 9:30am UK time  3 September 2025 11:00am UK time  \n",
       "3      14 July 2025 9:30am UK time    1 October 2025 11:00am UK time  \n",
       "4      15 July 2025 9:00am UK time     Date de clôture non spécifiée  "
      ]
     },
     "execution_count": 2,
     "metadata": {},
     "output_type": "execute_result"
    }
   ],
   "source": [
    "import pandas as pd\n",
    "\n",
    "def parse_ukri_project_file(filepath):\n",
    "    with open(filepath, 'r', encoding='utf-8') as f:\n",
    "        lines = [line.strip() for line in f if line.strip()]\n",
    "\n",
    "    data = []\n",
    "    current_project = {}\n",
    "\n",
    "    for line in lines:\n",
    "        if line.startswith(\"Titre:\"):\n",
    "            if current_project:\n",
    "                data.append(current_project)\n",
    "            current_project = {\"Titre\": line.split(\":\", 1)[1].strip()}\n",
    "        elif line.startswith(\"Lien:\"):\n",
    "            current_project[\"Lien\"] = line.split(\":\", 1)[1].strip()\n",
    "        elif line.startswith(\"Description:\"):\n",
    "            current_project[\"Description\"] = line.split(\":\", 1)[1].strip()\n",
    "        elif line.startswith(\"Date d'ouverture:\"):\n",
    "            current_project[\"Date d'ouverture\"] = line.split(\":\", 1)[1].strip()\n",
    "        elif line.startswith(\"Date de clôture:\"):\n",
    "            current_project[\"Date de clôture\"] = line.split(\":\", 1)[1].strip()\n",
    "\n",
    "    if current_project:\n",
    "        data.append(current_project)\n",
    "\n",
    "    # Création du DataFrame avec renommage des colonnes en anglais\n",
    "    df = pd.DataFrame(data)\n",
    "    df.rename(columns={\n",
    "        \"Titre\": \"Title\",\n",
    "        \"Lien\": \"URL\",\n",
    "        \"Description\": \"Description\",\n",
    "        \"Date d'ouverture\": \"Start_date\",\n",
    "        \"Date de clôture\": \"Deadline\"\n",
    "    }, inplace=True)\n",
    "\n",
    "    return df\n",
    "\n",
    "# Utilisation\n",
    "df = parse_ukri_project_file(\"projets_UKRI_full.txt\")\n",
    "\n",
    "# Aperçu\n",
    "df.head()\n"
   ]
  },
  {
   "cell_type": "code",
   "execution_count": 3,
   "id": "bb1acac8",
   "metadata": {
    "execution": {
     "iopub.execute_input": "2025-07-16T16:45:36.411442Z",
     "iopub.status.busy": "2025-07-16T16:45:36.411442Z",
     "iopub.status.idle": "2025-07-16T16:45:36.418415Z",
     "shell.execute_reply": "2025-07-16T16:45:36.416423Z"
    }
   },
   "outputs": [
    {
     "name": "stdout",
     "output_type": "stream",
     "text": [
      "0      https://www.ukri.org/opportunity/pushing-the-frontiers-of-environmental-research-january-2026/\n",
      "1                              https://www.ukri.org/opportunity/projects-peer-review-panel-pprp-2026/\n",
      "2                              https://www.ukri.org/opportunity/drive35-scale-up-feasibility-studies/\n",
      "3                               https://www.ukri.org/opportunity/drive35-innovation-fund-collaborate/\n",
      "4                                   https://www.ukri.org/opportunity/bbsrc-brazil-pump-priming-award/\n",
      "                                                    ...                                              \n",
      "105         https://www.ukri.org/opportunity/work-with-brazilian-researchers-nerc-fapesp-lead-agency/\n",
      "106    https://www.ukri.org/opportunity/patt-travel-claim-for-competitively-awarded-observation-time/\n",
      "107                          https://www.ukri.org/opportunity/collaborate-with-researchers-in-brazil/\n",
      "108                                https://www.ukri.org/opportunity/ukri-sbe-lead-agency-opportunity/\n",
      "109                               https://www.ukri.org/opportunity/research-england-development-fund/\n",
      "Name: URL, Length: 110, dtype: object\n"
     ]
    }
   ],
   "source": [
    "pd.set_option('display.max_colwidth', None)\n",
    "print(df['URL'])"
   ]
  },
  {
   "cell_type": "code",
   "execution_count": 4,
   "id": "5d09c684",
   "metadata": {
    "execution": {
     "iopub.execute_input": "2025-07-16T16:45:36.420019Z",
     "iopub.status.busy": "2025-07-16T16:45:36.420019Z",
     "iopub.status.idle": "2025-07-16T16:45:36.433597Z",
     "shell.execute_reply": "2025-07-16T16:45:36.433597Z"
    }
   },
   "outputs": [],
   "source": [
    "# Dictionnaire de correspondance EN => FR\n",
    "all_keywords_text = {\n",
    "    \"strategic consulting\": \"conseil stratégique\",\n",
    "    \"technical assistance\": \"assistance technique\",\n",
    "    \"institutional support\": \"appui institutionnel\",\n",
    "    \"tailored support\": \"accompagnement personnalisé\",\n",
    "    \"innovation support\": \"accompagnement à l’innovation\",\n",
    "    \"fundraising support\": \"accompagnement à la levée de fonds\",\n",
    "    \"organizational development\": \"développement organisationnel\",\n",
    "    \"capacity building\": \"développement de capacités\",\n",
    "    \"program structuring\": \"structuration de programme\",\n",
    "    \"project design\": \"ingénierie de projet\",\n",
    "    \"project management\": \"gestion de projet\",\n",
    "    \"program steering\": \"pilotage de programme\",\n",
    "    \"growth strategy\": \"stratégie de croissance\",\n",
    "    \"sector expertise\": \"expertise sectorielle\",\n",
    "    \"project evaluation\": \"évaluation de projets\",\n",
    "    \"due diligence\": \"due diligence\",\n",
    "    \"project implementation\": \"mise en œuvre de projet\",\n",
    "    \"roadmap development\": \"élaboration de feuille de route\",\n",
    "    \"financial engineering\": \"ingénierie financière\",\n",
    "    \"strategic diagnosis\": \"diagnostic stratégique\",\n",
    "    \"monitoring and evaluation\": \"suivi-évaluation\",\n",
    "    \"operational action plan\": \"plan d’action opérationnel\",\n",
    "    \"public-private partnership\": \"partenariat public-privé\",\n",
    "    \"ecosystem animation\": \"animation d’écosystème\",\n",
    "    \"impact analysis\": \"analyse d’impact\",\n",
    "    \"partnership facilitation\": \"facilitation de partenariats\",\n",
    "    \"stakeholder mapping\": \"cartographie des acteurs\",\n",
    "    \"knowledge transfer\": \"transfert de compétences\",\n",
    "    \"collaborative innovation\": \"innovation collaborative\",\n",
    "    \"open innovation\": \"open innovation\",\n",
    "    \"economic development\": \"développement économique\",\n",
    "    \"ecosystem development\": \"développement d’écosystèmes\",\n",
    "    \"expansion strategy\": \"stratégie d’expansion\",\n",
    "    \"development strategy\": \"stratégie de développement\",\n",
    "    \"research valorization\": \"valorisation de la recherche\",\n",
    "    \"technology transfer\": \"transfert de technologie\",\n",
    "    \"technology maturation\": \"maturation technologique\",\n",
    "    \"prototype industrialization\": \"industrialisation de prototypes\",\n",
    "    \"technological co-development\": \"co-développement technologique\",\n",
    "    \"intellectual property\": \"propriété intellectuelle\",\n",
    "    \"research results\": \"résultats de recherche\",\n",
    "    \"technology readiness level\": \"niveau de maturité technologique\",\n",
    "    \"university spin-off\": \"spin-off universitaire\",\n",
    "    \"research-industry collaboration\": \"collaboration recherche-industrie\",\n",
    "    \"technology startup\": \"start-up technologique\",\n",
    "    \"technology portfolio\": \"portefeuille technologique\",\n",
    "    \"innovation commercialization\": \"commercialisation d’innovations\",\n",
    "    \"proof of concept\": \"preuve de concept\",\n",
    "    \"prototyping\": \"prototypage\",\n",
    "    \"technology incubator\": \"incubateur technologique\",\n",
    "    \"R&D support\": \"accompagnement à la R&D\",\n",
    "    \"patent exploitation\": \"exploitation de brevets\",\n",
    "    \"call for projects\": \"appel à projets\",\n",
    "    \"call for proposals\": \"appel à propositions\",\n",
    "    \"call for expression of interest\": \"appel à manifestation d’intérêt\",\n",
    "    \"call for applications\": \"appel à candidatures\",\n",
    "    \"call for consultants\": \"appel à consultants\",\n",
    "    \"innovation grant\": \"subvention à l’innovation\",\n",
    "    \"R&D project funding\": \"financement de projet R&D\",\n",
    "    \"support program\": \"programme d’accompagnement\",\n",
    "    \"support fund\": \"fonds de soutien\",\n",
    "    \"innovation competition\": \"concours d’innovation\",\n",
    "    \"incubation program\": \"programme d’incubation\",\n",
    "    \"acceleration program\": \"programme d’accélération\",\n",
    "    \"consulting assignment\": \"mission de conseil\",\n",
    "    \"public procurement\": \"marché public\",\n",
    "    \"strategic partnership\": \"partenariat stratégique\",\n",
    "    \"service delivery\": \"prestation de services\",\n",
    "    \"expert mission\": \"mission d’expertise\",\n",
    "    \"deeptech\": \"deeptech\",\n",
    "    \"biotechnology\": \"biotechnologie\",\n",
    "    \"medtech\": \"medtech\",\n",
    "    \"greentech\": \"greentech\",\n",
    "    \"agritech\": \"agritech\",\n",
    "    \"climatetech\": \"climatetech\",\n",
    "    \"healthtech\": \"healthtech\",\n",
    "    \"nanotechnology\": \"nanotechnologie\",\n",
    "    \"robotics\": \"robotique\",\n",
    "    \"artificial intelligence\": \"intelligence artificielle\",\n",
    "    \"machine learning\": \"machine learning\",\n",
    "    \"industry 4.0\": \"industrie 4.0\",\n",
    "    \"advanced materials\": \"matériaux avancés\",\n",
    "    \"clean technologies\": \"technologies propres\",\n",
    "    \"renewable energy\": \"énergies renouvelables\",\n",
    "    \"cybersecurity\": \"cybersécurité\",\n",
    "    \"data science\": \"data science\",\n",
    "    \"internet of things\": \"internet des objets\",\n",
    "    \"sustainable development\": \"développement durable\",\n",
    "    \"climate resilience\": \"résilience climatique\",\n",
    "    \"economic inclusion\": \"inclusion économique\",\n",
    "    \"empowerment through innovation\": \"autonomisation par l’innovation\",\n",
    "    \"social innovation\": \"innovation sociale\",\n",
    "    \"inclusive growth\": \"croissance inclusive\",\n",
    "    \"social impact\": \"impact sociétal\",\n",
    "    \"youth empowerment\": \"autonomisation des jeunes\",\n",
    "    \"services digitalization\": \"digitalisation des services\",\n",
    "    \"technological sovereignty\": \"souveraineté technologique\",\n",
    "    \"territorial development\": \"développement territorial\",\n",
    "    \"digital transformation\": \"transformation numérique\",\n",
    "    \"researcher empowerment\": \"autonomisation des chercheurs\",\n",
    "    \"diaspora integration\": \"intégration de la diaspora\",\n",
    "    \"cross-sector collaboration\": \"collaboration intersectorielle\",\n",
    "    \"industrial partnerships\": \"partenariats industriels\",\n",
    "    \"market-driven innovation\": \"innovation orientée marché\",\n",
    "    \"innovative SMEs\": \"PME innovantes\",\n",
    "    \"industrial entrepreneurship\": \"entrepreneuriat industriel\",\n",
    "    \"market access\": \"accès au marché\",\n",
    "    \"value chain strengthening\": \"renforcement des chaînes de valeur\",\n",
    "    \"economic impact\": \"impact économique\",\n",
    "    \"economic empowerment\": \"autonomisation économique\",\n",
    "    \"industrial competitiveness\": \"compétitivité industrielle\",\n",
    "    \"applied research\": \"recherche appliquée\",\n",
    "    \"skills development\": \"montée en compétences\",\n",
    "    \"know-how transfer\": \"transfert de savoir-faire\",\n",
    "    \"co-development\": \"co-développement\",\n",
    "    \"technology leadership\": \"leadership technologique\"\n",
    "}\n"
   ]
  },
  {
   "cell_type": "markdown",
   "id": "6e976356",
   "metadata": {},
   "source": [
    "#### Voir les mots clées si ils existent dans toute la description sur le site directement "
   ]
  },
  {
   "cell_type": "code",
   "execution_count": 5,
   "id": "df003a75",
   "metadata": {
    "execution": {
     "iopub.execute_input": "2025-07-16T16:45:36.435620Z",
     "iopub.status.busy": "2025-07-16T16:45:36.435620Z",
     "iopub.status.idle": "2025-07-16T16:55:03.998367Z",
     "shell.execute_reply": "2025-07-16T16:55:03.997365Z"
    }
   },
   "outputs": [
    {
     "name": "stderr",
     "output_type": "stream",
     "text": [
      "\r",
      "Checking each project...:   0%|                                                                                | 0/110 [00:00<?, ?it/s]"
     ]
    },
    {
     "name": "stderr",
     "output_type": "stream",
     "text": [
      "\r",
      "Checking each project...:   1%|▋                                                                       | 1/110 [00:09<16:32,  9.11s/it]"
     ]
    },
    {
     "name": "stderr",
     "output_type": "stream",
     "text": [
      "\r",
      "Checking each project...:   2%|█▎                                                                      | 2/110 [00:14<12:09,  6.76s/it]"
     ]
    },
    {
     "name": "stderr",
     "output_type": "stream",
     "text": [
      "\r",
      "Checking each project...:   3%|█▉                                                                      | 3/110 [00:17<09:21,  5.25s/it]"
     ]
    },
    {
     "name": "stderr",
     "output_type": "stream",
     "text": [
      "\r",
      "Checking each project...:   4%|██▌                                                                     | 4/110 [00:21<08:11,  4.64s/it]"
     ]
    },
    {
     "name": "stderr",
     "output_type": "stream",
     "text": [
      "\r",
      "Checking each project...:   5%|███▎                                                                    | 5/110 [00:26<08:38,  4.94s/it]"
     ]
    },
    {
     "name": "stderr",
     "output_type": "stream",
     "text": [
      "\r",
      "Checking each project...:   5%|███▉                                                                    | 6/110 [00:30<07:43,  4.46s/it]"
     ]
    },
    {
     "name": "stderr",
     "output_type": "stream",
     "text": [
      "\r",
      "Checking each project...:   6%|████▌                                                                   | 7/110 [00:34<07:13,  4.21s/it]"
     ]
    },
    {
     "name": "stderr",
     "output_type": "stream",
     "text": [
      "\r",
      "Checking each project...:   7%|█████▏                                                                  | 8/110 [00:40<08:22,  4.93s/it]"
     ]
    },
    {
     "name": "stderr",
     "output_type": "stream",
     "text": [
      "\r",
      "Checking each project...:   8%|█████▉                                                                  | 9/110 [00:48<09:51,  5.86s/it]"
     ]
    },
    {
     "name": "stderr",
     "output_type": "stream",
     "text": [
      "\r",
      "Checking each project...:   9%|██████▍                                                                | 10/110 [00:53<09:21,  5.62s/it]"
     ]
    },
    {
     "name": "stderr",
     "output_type": "stream",
     "text": [
      "\r",
      "Checking each project...:  10%|███████                                                                | 11/110 [00:58<08:47,  5.33s/it]"
     ]
    },
    {
     "name": "stderr",
     "output_type": "stream",
     "text": [
      "\r",
      "Checking each project...:  11%|███████▋                                                               | 12/110 [01:01<07:49,  4.79s/it]"
     ]
    },
    {
     "name": "stderr",
     "output_type": "stream",
     "text": [
      "\r",
      "Checking each project...:  12%|████████▍                                                              | 13/110 [01:06<07:48,  4.83s/it]"
     ]
    },
    {
     "name": "stderr",
     "output_type": "stream",
     "text": [
      "\r",
      "Checking each project...:  13%|█████████                                                              | 14/110 [01:10<07:15,  4.53s/it]"
     ]
    },
    {
     "name": "stderr",
     "output_type": "stream",
     "text": [
      "\r",
      "Checking each project...:  14%|█████████▋                                                             | 15/110 [01:15<07:20,  4.64s/it]"
     ]
    },
    {
     "name": "stderr",
     "output_type": "stream",
     "text": [
      "\r",
      "Checking each project...:  15%|██████████▎                                                            | 16/110 [01:19<06:54,  4.41s/it]"
     ]
    },
    {
     "name": "stderr",
     "output_type": "stream",
     "text": [
      "\r",
      "Checking each project...:  15%|██████████▉                                                            | 17/110 [01:24<07:01,  4.53s/it]"
     ]
    },
    {
     "name": "stderr",
     "output_type": "stream",
     "text": [
      "\r",
      "Checking each project...:  16%|███████████▌                                                           | 18/110 [01:29<07:13,  4.71s/it]"
     ]
    },
    {
     "name": "stderr",
     "output_type": "stream",
     "text": [
      "\r",
      "Checking each project...:  17%|████████████▎                                                          | 19/110 [01:34<07:15,  4.78s/it]"
     ]
    },
    {
     "name": "stderr",
     "output_type": "stream",
     "text": [
      "\r",
      "Checking each project...:  18%|████████████▉                                                          | 20/110 [01:37<06:39,  4.44s/it]"
     ]
    },
    {
     "name": "stderr",
     "output_type": "stream",
     "text": [
      "\r",
      "Checking each project...:  19%|█████████████▌                                                         | 21/110 [01:42<06:50,  4.62s/it]"
     ]
    },
    {
     "name": "stderr",
     "output_type": "stream",
     "text": [
      "\r",
      "Checking each project...:  20%|██████████████▏                                                        | 22/110 [01:47<06:57,  4.75s/it]"
     ]
    },
    {
     "name": "stderr",
     "output_type": "stream",
     "text": [
      "\r",
      "Checking each project...:  21%|██████████████▊                                                        | 23/110 [01:52<06:59,  4.82s/it]"
     ]
    },
    {
     "name": "stderr",
     "output_type": "stream",
     "text": [
      "\r",
      "Checking each project...:  22%|███████████████▍                                                       | 24/110 [01:57<06:57,  4.85s/it]"
     ]
    },
    {
     "name": "stderr",
     "output_type": "stream",
     "text": [
      "\r",
      "Checking each project...:  23%|████████████████▏                                                      | 25/110 [02:02<06:49,  4.81s/it]"
     ]
    },
    {
     "name": "stderr",
     "output_type": "stream",
     "text": [
      "\r",
      "Checking each project...:  24%|████████████████▊                                                      | 26/110 [02:07<06:47,  4.85s/it]"
     ]
    },
    {
     "name": "stderr",
     "output_type": "stream",
     "text": [
      "\r",
      "Checking each project...:  25%|█████████████████▍                                                     | 27/110 [02:16<08:14,  5.96s/it]"
     ]
    },
    {
     "name": "stderr",
     "output_type": "stream",
     "text": [
      "\r",
      "Checking each project...:  25%|██████████████████                                                     | 28/110 [02:20<07:43,  5.65s/it]"
     ]
    },
    {
     "name": "stderr",
     "output_type": "stream",
     "text": [
      "\r",
      "Checking each project...:  26%|██████████████████▋                                                    | 29/110 [02:29<08:42,  6.46s/it]"
     ]
    },
    {
     "name": "stderr",
     "output_type": "stream",
     "text": [
      "\r",
      "Checking each project...:  27%|███████████████████▎                                                   | 30/110 [02:34<08:07,  6.09s/it]"
     ]
    },
    {
     "name": "stderr",
     "output_type": "stream",
     "text": [
      "\r",
      "Checking each project...:  28%|████████████████████                                                   | 31/110 [02:38<07:09,  5.43s/it]"
     ]
    },
    {
     "name": "stderr",
     "output_type": "stream",
     "text": [
      "\r",
      "Checking each project...:  29%|████████████████████▋                                                  | 32/110 [02:43<06:50,  5.26s/it]"
     ]
    },
    {
     "name": "stderr",
     "output_type": "stream",
     "text": [
      "\r",
      "Checking each project...:  30%|█████████████████████▎                                                 | 33/110 [02:48<06:33,  5.11s/it]"
     ]
    },
    {
     "name": "stderr",
     "output_type": "stream",
     "text": [
      "\r",
      "Checking each project...:  31%|█████████████████████▉                                                 | 34/110 [02:51<05:56,  4.69s/it]"
     ]
    },
    {
     "name": "stderr",
     "output_type": "stream",
     "text": [
      "\r",
      "Checking each project...:  32%|██████████████████████▌                                                | 35/110 [02:55<05:28,  4.37s/it]"
     ]
    },
    {
     "name": "stderr",
     "output_type": "stream",
     "text": [
      "\r",
      "Checking each project...:  33%|███████████████████████▏                                               | 36/110 [03:00<05:40,  4.60s/it]"
     ]
    },
    {
     "name": "stderr",
     "output_type": "stream",
     "text": [
      "\r",
      "Checking each project...:  34%|███████████████████████▉                                               | 37/110 [03:05<05:50,  4.81s/it]"
     ]
    },
    {
     "name": "stderr",
     "output_type": "stream",
     "text": [
      "\r",
      "Checking each project...:  35%|████████████████████████▌                                              | 38/110 [03:11<06:04,  5.06s/it]"
     ]
    },
    {
     "name": "stderr",
     "output_type": "stream",
     "text": [
      "\r",
      "Checking each project...:  35%|█████████████████████████▏                                             | 39/110 [03:16<06:04,  5.14s/it]"
     ]
    },
    {
     "name": "stderr",
     "output_type": "stream",
     "text": [
      "\r",
      "Checking each project...:  36%|█████████████████████████▊                                             | 40/110 [03:21<05:54,  5.07s/it]"
     ]
    },
    {
     "name": "stderr",
     "output_type": "stream",
     "text": [
      "\r",
      "Checking each project...:  37%|██████████████████████████▍                                            | 41/110 [03:25<05:26,  4.73s/it]"
     ]
    },
    {
     "name": "stderr",
     "output_type": "stream",
     "text": [
      "\r",
      "Checking each project...:  38%|███████████████████████████                                            | 42/110 [03:30<05:23,  4.75s/it]"
     ]
    },
    {
     "name": "stderr",
     "output_type": "stream",
     "text": [
      "\r",
      "Checking each project...:  39%|███████████████████████████▊                                           | 43/110 [03:35<05:22,  4.82s/it]"
     ]
    },
    {
     "name": "stderr",
     "output_type": "stream",
     "text": [
      "\r",
      "Checking each project...:  40%|████████████████████████████▍                                          | 44/110 [03:40<05:15,  4.78s/it]"
     ]
    },
    {
     "name": "stderr",
     "output_type": "stream",
     "text": [
      "\r",
      "Checking each project...:  41%|█████████████████████████████                                          | 45/110 [03:43<04:46,  4.41s/it]"
     ]
    },
    {
     "name": "stderr",
     "output_type": "stream",
     "text": [
      "\r",
      "Checking each project...:  42%|█████████████████████████████▋                                         | 46/110 [03:48<04:50,  4.54s/it]"
     ]
    },
    {
     "name": "stderr",
     "output_type": "stream",
     "text": [
      "\r",
      "Checking each project...:  43%|██████████████████████████████▎                                        | 47/110 [03:53<04:56,  4.71s/it]"
     ]
    },
    {
     "name": "stderr",
     "output_type": "stream",
     "text": [
      "\r",
      "Checking each project...:  44%|██████████████████████████████▉                                        | 48/110 [03:58<04:54,  4.75s/it]"
     ]
    },
    {
     "name": "stderr",
     "output_type": "stream",
     "text": [
      "\r",
      "Checking each project...:  45%|███████████████████████████████▋                                       | 49/110 [04:03<04:52,  4.80s/it]"
     ]
    },
    {
     "name": "stderr",
     "output_type": "stream",
     "text": [
      "\r",
      "Checking each project...:  45%|████████████████████████████████▎                                      | 50/110 [04:09<05:06,  5.11s/it]"
     ]
    },
    {
     "name": "stderr",
     "output_type": "stream",
     "text": [
      "\r",
      "Checking each project...:  46%|████████████████████████████████▉                                      | 51/110 [04:16<05:43,  5.83s/it]"
     ]
    },
    {
     "name": "stderr",
     "output_type": "stream",
     "text": [
      "\r",
      "Checking each project...:  47%|█████████████████████████████████▌                                     | 52/110 [04:22<05:32,  5.72s/it]"
     ]
    },
    {
     "name": "stderr",
     "output_type": "stream",
     "text": [
      "\r",
      "Checking each project...:  48%|██████████████████████████████████▏                                    | 53/110 [04:28<05:42,  6.01s/it]"
     ]
    },
    {
     "name": "stderr",
     "output_type": "stream",
     "text": [
      "\r",
      "Checking each project...:  49%|██████████████████████████████████▊                                    | 54/110 [04:34<05:35,  5.99s/it]"
     ]
    },
    {
     "name": "stderr",
     "output_type": "stream",
     "text": [
      "\r",
      "Checking each project...:  50%|███████████████████████████████████▌                                   | 55/110 [04:39<05:10,  5.65s/it]"
     ]
    },
    {
     "name": "stderr",
     "output_type": "stream",
     "text": [
      "\r",
      "Checking each project...:  51%|████████████████████████████████████▏                                  | 56/110 [04:44<04:53,  5.43s/it]"
     ]
    },
    {
     "name": "stderr",
     "output_type": "stream",
     "text": [
      "\r",
      "Checking each project...:  52%|████████████████████████████████████▊                                  | 57/110 [04:51<05:04,  5.75s/it]"
     ]
    },
    {
     "name": "stderr",
     "output_type": "stream",
     "text": [
      "\r",
      "Checking each project...:  53%|█████████████████████████████████████▍                                 | 58/110 [04:55<04:43,  5.45s/it]"
     ]
    },
    {
     "name": "stderr",
     "output_type": "stream",
     "text": [
      "\r",
      "Checking each project...:  54%|██████████████████████████████████████                                 | 59/110 [05:00<04:29,  5.28s/it]"
     ]
    },
    {
     "name": "stderr",
     "output_type": "stream",
     "text": [
      "\r",
      "Checking each project...:  55%|██████████████████████████████████████▋                                | 60/110 [05:05<04:22,  5.25s/it]"
     ]
    },
    {
     "name": "stderr",
     "output_type": "stream",
     "text": [
      "\r",
      "Checking each project...:  55%|███████████████████████████████████████▎                               | 61/110 [05:11<04:17,  5.25s/it]"
     ]
    },
    {
     "name": "stderr",
     "output_type": "stream",
     "text": [
      "\r",
      "Checking each project...:  56%|████████████████████████████████████████                               | 62/110 [05:15<04:04,  5.08s/it]"
     ]
    },
    {
     "name": "stderr",
     "output_type": "stream",
     "text": [
      "\r",
      "Checking each project...:  57%|████████████████████████████████████████▋                              | 63/110 [05:20<03:55,  5.00s/it]"
     ]
    },
    {
     "name": "stderr",
     "output_type": "stream",
     "text": [
      "\r",
      "Checking each project...:  58%|█████████████████████████████████████████▎                             | 64/110 [05:25<03:53,  5.07s/it]"
     ]
    },
    {
     "name": "stderr",
     "output_type": "stream",
     "text": [
      "\r",
      "Checking each project...:  59%|█████████████████████████████████████████▉                             | 65/110 [05:30<03:48,  5.08s/it]"
     ]
    },
    {
     "name": "stderr",
     "output_type": "stream",
     "text": [
      "\r",
      "Checking each project...:  60%|██████████████████████████████████████████▌                            | 66/110 [05:35<03:42,  5.06s/it]"
     ]
    },
    {
     "name": "stderr",
     "output_type": "stream",
     "text": [
      "\r",
      "Checking each project...:  61%|███████████████████████████████████████████▏                           | 67/110 [05:40<03:36,  5.03s/it]"
     ]
    },
    {
     "name": "stderr",
     "output_type": "stream",
     "text": [
      "\r",
      "Checking each project...:  62%|███████████████████████████████████████████▉                           | 68/110 [05:45<03:31,  5.04s/it]"
     ]
    },
    {
     "name": "stderr",
     "output_type": "stream",
     "text": [
      "\r",
      "Checking each project...:  63%|████████████████████████████████████████████▌                          | 69/110 [05:50<03:23,  4.96s/it]"
     ]
    },
    {
     "name": "stderr",
     "output_type": "stream",
     "text": [
      "\r",
      "Checking each project...:  64%|█████████████████████████████████████████████▏                         | 70/110 [05:54<03:02,  4.57s/it]"
     ]
    },
    {
     "name": "stderr",
     "output_type": "stream",
     "text": [
      "\r",
      "Checking each project...:  65%|█████████████████████████████████████████████▊                         | 71/110 [05:59<02:59,  4.61s/it]"
     ]
    },
    {
     "name": "stderr",
     "output_type": "stream",
     "text": [
      "\r",
      "Checking each project...:  65%|██████████████████████████████████████████████▍                        | 72/110 [06:06<03:28,  5.48s/it]"
     ]
    },
    {
     "name": "stderr",
     "output_type": "stream",
     "text": [
      "\r",
      "Checking each project...:  66%|███████████████████████████████████████████████                        | 73/110 [06:11<03:18,  5.35s/it]"
     ]
    },
    {
     "name": "stderr",
     "output_type": "stream",
     "text": [
      "\r",
      "Checking each project...:  67%|███████████████████████████████████████████████▊                       | 74/110 [06:16<03:08,  5.23s/it]"
     ]
    },
    {
     "name": "stderr",
     "output_type": "stream",
     "text": [
      "\r",
      "Checking each project...:  68%|████████████████████████████████████████████████▍                      | 75/110 [06:21<02:59,  5.13s/it]"
     ]
    },
    {
     "name": "stderr",
     "output_type": "stream",
     "text": [
      "\r",
      "Checking each project...:  69%|█████████████████████████████████████████████████                      | 76/110 [06:26<02:52,  5.08s/it]"
     ]
    },
    {
     "name": "stderr",
     "output_type": "stream",
     "text": [
      "\r",
      "Checking each project...:  70%|█████████████████████████████████████████████████▋                     | 77/110 [06:32<02:52,  5.24s/it]"
     ]
    },
    {
     "name": "stderr",
     "output_type": "stream",
     "text": [
      "\r",
      "Checking each project...:  71%|██████████████████████████████████████████████████▎                    | 78/110 [06:37<02:45,  5.19s/it]"
     ]
    },
    {
     "name": "stderr",
     "output_type": "stream",
     "text": [
      "\r",
      "Checking each project...:  72%|██████████████████████████████████████████████████▉                    | 79/110 [06:42<02:40,  5.17s/it]"
     ]
    },
    {
     "name": "stderr",
     "output_type": "stream",
     "text": [
      "\r",
      "Checking each project...:  73%|███████████████████████████████████████████████████▋                   | 80/110 [06:47<02:31,  5.07s/it]"
     ]
    },
    {
     "name": "stderr",
     "output_type": "stream",
     "text": [
      "\r",
      "Checking each project...:  74%|████████████████████████████████████████████████████▎                  | 81/110 [06:51<02:24,  4.98s/it]"
     ]
    },
    {
     "name": "stderr",
     "output_type": "stream",
     "text": [
      "\r",
      "Checking each project...:  75%|████████████████████████████████████████████████████▉                  | 82/110 [06:56<02:17,  4.90s/it]"
     ]
    },
    {
     "name": "stderr",
     "output_type": "stream",
     "text": [
      "\r",
      "Checking each project...:  75%|█████████████████████████████████████████████████████▌                 | 83/110 [07:01<02:14,  5.00s/it]"
     ]
    },
    {
     "name": "stderr",
     "output_type": "stream",
     "text": [
      "\r",
      "Checking each project...:  76%|██████████████████████████████████████████████████████▏                | 84/110 [07:06<02:08,  4.93s/it]"
     ]
    },
    {
     "name": "stderr",
     "output_type": "stream",
     "text": [
      "\r",
      "Checking each project...:  77%|██████████████████████████████████████████████████████▊                | 85/110 [07:11<02:02,  4.92s/it]"
     ]
    },
    {
     "name": "stderr",
     "output_type": "stream",
     "text": [
      "\r",
      "Checking each project...:  78%|███████████████████████████████████████████████████████▌               | 86/110 [07:16<01:57,  4.92s/it]"
     ]
    },
    {
     "name": "stderr",
     "output_type": "stream",
     "text": [
      "\r",
      "Checking each project...:  79%|████████████████████████████████████████████████████████▏              | 87/110 [07:21<01:53,  4.92s/it]"
     ]
    },
    {
     "name": "stderr",
     "output_type": "stream",
     "text": [
      "\r",
      "Checking each project...:  80%|████████████████████████████████████████████████████████▊              | 88/110 [07:26<01:47,  4.88s/it]"
     ]
    },
    {
     "name": "stderr",
     "output_type": "stream",
     "text": [
      "\r",
      "Checking each project...:  81%|█████████████████████████████████████████████████████████▍             | 89/110 [07:30<01:41,  4.85s/it]"
     ]
    },
    {
     "name": "stderr",
     "output_type": "stream",
     "text": [
      "\r",
      "Checking each project...:  82%|██████████████████████████████████████████████████████████             | 90/110 [07:35<01:36,  4.81s/it]"
     ]
    },
    {
     "name": "stderr",
     "output_type": "stream",
     "text": [
      "\r",
      "Checking each project...:  83%|██████████████████████████████████████████████████████████▋            | 91/110 [07:40<01:33,  4.95s/it]"
     ]
    },
    {
     "name": "stderr",
     "output_type": "stream",
     "text": [
      "\r",
      "Checking each project...:  84%|███████████████████████████████████████████████████████████▍           | 92/110 [07:45<01:27,  4.87s/it]"
     ]
    },
    {
     "name": "stderr",
     "output_type": "stream",
     "text": [
      "\r",
      "Checking each project...:  85%|████████████████████████████████████████████████████████████           | 93/110 [07:50<01:22,  4.85s/it]"
     ]
    },
    {
     "name": "stderr",
     "output_type": "stream",
     "text": [
      "\r",
      "Checking each project...:  85%|████████████████████████████████████████████████████████████▋          | 94/110 [08:00<01:42,  6.38s/it]"
     ]
    },
    {
     "name": "stderr",
     "output_type": "stream",
     "text": [
      "\r",
      "Checking each project...:  86%|█████████████████████████████████████████████████████████████▎         | 95/110 [08:05<01:30,  6.03s/it]"
     ]
    },
    {
     "name": "stderr",
     "output_type": "stream",
     "text": [
      "\r",
      "Checking each project...:  87%|█████████████████████████████████████████████████████████████▉         | 96/110 [08:10<01:20,  5.72s/it]"
     ]
    },
    {
     "name": "stderr",
     "output_type": "stream",
     "text": [
      "\r",
      "Checking each project...:  88%|██████████████████████████████████████████████████████████████▌        | 97/110 [08:16<01:14,  5.70s/it]"
     ]
    },
    {
     "name": "stderr",
     "output_type": "stream",
     "text": [
      "\r",
      "Checking each project...:  89%|███████████████████████████████████████████████████████████████▎       | 98/110 [08:21<01:08,  5.68s/it]"
     ]
    },
    {
     "name": "stderr",
     "output_type": "stream",
     "text": [
      "\r",
      "Checking each project...:  90%|███████████████████████████████████████████████████████████████▉       | 99/110 [08:28<01:05,  5.97s/it]"
     ]
    },
    {
     "name": "stderr",
     "output_type": "stream",
     "text": [
      "\r",
      "Checking each project...:  91%|███████████████████████████████████████████████████████████████▋      | 100/110 [08:33<00:57,  5.71s/it]"
     ]
    },
    {
     "name": "stderr",
     "output_type": "stream",
     "text": [
      "\r",
      "Checking each project...:  92%|████████████████████████████████████████████████████████████████▎     | 101/110 [08:38<00:49,  5.55s/it]"
     ]
    },
    {
     "name": "stderr",
     "output_type": "stream",
     "text": [
      "\r",
      "Checking each project...:  93%|████████████████████████████████████████████████████████████████▉     | 102/110 [08:43<00:43,  5.44s/it]"
     ]
    },
    {
     "name": "stderr",
     "output_type": "stream",
     "text": [
      "\r",
      "Checking each project...:  94%|█████████████████████████████████████████████████████████████████▌    | 103/110 [08:49<00:37,  5.33s/it]"
     ]
    },
    {
     "name": "stderr",
     "output_type": "stream",
     "text": [
      "\r",
      "Checking each project...:  95%|██████████████████████████████████████████████████████████████████▏   | 104/110 [08:54<00:31,  5.25s/it]"
     ]
    },
    {
     "name": "stderr",
     "output_type": "stream",
     "text": [
      "\r",
      "Checking each project...:  95%|██████████████████████████████████████████████████████████████████▊   | 105/110 [08:58<00:25,  5.11s/it]"
     ]
    },
    {
     "name": "stderr",
     "output_type": "stream",
     "text": [
      "\r",
      "Checking each project...:  96%|███████████████████████████████████████████████████████████████████▍  | 106/110 [09:03<00:20,  5.02s/it]"
     ]
    },
    {
     "name": "stderr",
     "output_type": "stream",
     "text": [
      "\r",
      "Checking each project...:  97%|████████████████████████████████████████████████████████████████████  | 107/110 [09:08<00:15,  5.07s/it]"
     ]
    },
    {
     "name": "stderr",
     "output_type": "stream",
     "text": [
      "\r",
      "Checking each project...:  98%|████████████████████████████████████████████████████████████████████▋ | 108/110 [09:13<00:10,  5.05s/it]"
     ]
    },
    {
     "name": "stderr",
     "output_type": "stream",
     "text": [
      "\r",
      "Checking each project...:  99%|█████████████████████████████████████████████████████████████████████▎| 109/110 [09:18<00:04,  4.95s/it]"
     ]
    },
    {
     "name": "stderr",
     "output_type": "stream",
     "text": [
      "\r",
      "Checking each project...: 100%|██████████████████████████████████████████████████████████████████████| 110/110 [09:23<00:00,  4.99s/it]"
     ]
    },
    {
     "name": "stderr",
     "output_type": "stream",
     "text": [
      "\r",
      "Checking each project...: 100%|██████████████████████████████████████████████████████████████████████| 110/110 [09:23<00:00,  5.12s/it]"
     ]
    },
    {
     "name": "stderr",
     "output_type": "stream",
     "text": [
      "\n"
     ]
    },
    {
     "name": "stdout",
     "output_type": "stream",
     "text": [
      "✅ Results saved to projets_UKRI_with_keywords.xlsx\n"
     ]
    }
   ],
   "source": [
    "from selenium import webdriver\n",
    "from selenium.webdriver.chrome.options import Options\n",
    "from selenium.webdriver.common.by import By\n",
    "import time\n",
    "import pandas as pd\n",
    "from tqdm import tqdm\n",
    "\n",
    "\n",
    "# === Configure headless browser ===\n",
    "options = Options()\n",
    "options.add_argument(\"--headless\")\n",
    "options.add_argument(\"--disable-gpu\")\n",
    "options.add_argument(\"--window-size=1920,1080\")\n",
    "\n",
    "driver = webdriver.Chrome(options=options)\n",
    "\n",
    "# === Initialize results ===\n",
    "pertinence_list = []\n",
    "keywords_list = []\n",
    "\n",
    "# === Loop through all project URLs ===\n",
    "for url in tqdm(df[\"URL\"], desc=\"Checking each project...\"):\n",
    "    try:\n",
    "        driver.get(url)\n",
    "        time.sleep(3)\n",
    "\n",
    "        # Try to open all accordion sections if present\n",
    "        try:\n",
    "            open_all_btn = driver.find_element(By.CLASS_NAME, \"govuk-accordion__open-all\")\n",
    "            open_all_btn.click()\n",
    "            time.sleep(1)\n",
    "        except:\n",
    "            pass  # No button or already opened\n",
    "\n",
    "        # Try to find the accordion text\n",
    "        try:\n",
    "            accordion_div = driver.find_element(By.CSS_SELECTOR, \".govuk-accordion.ukri-accordion\")\n",
    "            accordion_text = accordion_div.text\n",
    "        except:\n",
    "            accordion_text = \"\"\n",
    "\n",
    "        matched_keywords = [kw for kw in all_keywords_text if kw.lower() in accordion_text.lower()]\n",
    "        pertinence = \"Yes\" if matched_keywords else \"No\"\n",
    "\n",
    "    except Exception as e:\n",
    "        print(f\"Error with URL: {url} — {e}\")\n",
    "        matched_keywords = []\n",
    "        pertinence = \"No\"\n",
    "\n",
    "    # Store results\n",
    "    pertinence_list.append(pertinence)\n",
    "    keywords_list.append(\", \".join(matched_keywords))\n",
    "\n",
    "# === Add results to DataFrame ===\n",
    "df[\"Pertinence\"] = pertinence_list\n",
    "df[\"Matching Word(s)\"] = keywords_list\n",
    "\n",
    "# === Save to Excel ===\n",
    "df.to_excel(\"projets_UKRI_with_keywords.xlsx\", index=False)\n",
    "print(\"✅ Results saved to projets_UKRI_with_keywords.xlsx\")\n",
    "\n",
    "# === Close browser ===\n",
    "driver.quit()\n"
   ]
  },
  {
   "cell_type": "code",
   "execution_count": 6,
   "id": "ff38feea",
   "metadata": {
    "execution": {
     "iopub.execute_input": "2025-07-16T16:55:04.002353Z",
     "iopub.status.busy": "2025-07-16T16:55:04.002353Z",
     "iopub.status.idle": "2025-07-16T16:55:04.013614Z",
     "shell.execute_reply": "2025-07-16T16:55:04.013614Z"
    }
   },
   "outputs": [
    {
     "data": {
      "text/html": [
       "<div>\n",
       "<style scoped>\n",
       "    .dataframe tbody tr th:only-of-type {\n",
       "        vertical-align: middle;\n",
       "    }\n",
       "\n",
       "    .dataframe tbody tr th {\n",
       "        vertical-align: top;\n",
       "    }\n",
       "\n",
       "    .dataframe thead th {\n",
       "        text-align: right;\n",
       "    }\n",
       "</style>\n",
       "<table border=\"1\" class=\"dataframe\">\n",
       "  <thead>\n",
       "    <tr style=\"text-align: right;\">\n",
       "      <th></th>\n",
       "      <th>Title</th>\n",
       "      <th>URL</th>\n",
       "      <th>Description</th>\n",
       "      <th>Start_date</th>\n",
       "      <th>Deadline</th>\n",
       "      <th>Pertinence</th>\n",
       "      <th>Matching Word(s)</th>\n",
       "    </tr>\n",
       "  </thead>\n",
       "  <tbody>\n",
       "    <tr>\n",
       "      <th>0</th>\n",
       "      <td>Pushing the frontiers of environmental research: January 2026</td>\n",
       "      <td>https://www.ukri.org/opportunity/pushing-the-frontiers-of-environmental-research-january-2026/</td>\n",
       "      <td>Apply for funding to pursue an ambitious, high risk and high reward curiosity-driven project in environmental research.</td>\n",
       "      <td>22 July 2025 9:00am UK time</td>\n",
       "      <td>21 January 2026 4:00pm UK time</td>\n",
       "      <td>No</td>\n",
       "      <td></td>\n",
       "    </tr>\n",
       "    <tr>\n",
       "      <th>1</th>\n",
       "      <td>Projects Peer Review Panel (PPRP) 2026</td>\n",
       "      <td>https://www.ukri.org/opportunity/projects-peer-review-panel-pprp-2026/</td>\n",
       "      <td>Apply for funding to develop a large or complex scientific project. You must have already discussed your ideas with one of our programme managers and have been invited to submit a full proposal.</td>\n",
       "      <td>8 September 2025 9:00am UK time</td>\n",
       "      <td>27 August 2026 4:00pm UK time</td>\n",
       "      <td>Yes</td>\n",
       "      <td>project management, due diligence, artificial intelligence</td>\n",
       "    </tr>\n",
       "    <tr>\n",
       "      <th>2</th>\n",
       "      <td>DRIVE35 scale-up: feasibility studies</td>\n",
       "      <td>https://www.ukri.org/opportunity/drive35-scale-up-feasibility-studies/</td>\n",
       "      <td>UK registered businesses can apply for a share of up to £5 million for feasibility studies into UK manufacturing of zero emission vehicle technologies.</td>\n",
       "      <td>14 July 2025 9:30am UK time</td>\n",
       "      <td>3 September 2025 11:00am UK time</td>\n",
       "      <td>No</td>\n",
       "      <td></td>\n",
       "    </tr>\n",
       "    <tr>\n",
       "      <th>3</th>\n",
       "      <td>DRIVE35 innovation fund: collaborate</td>\n",
       "      <td>https://www.ukri.org/opportunity/drive35-innovation-fund-collaborate/</td>\n",
       "      <td>UK registered organisations can apply for a share of up to £40 million for late-stage collaborative research and development projects. Your project will support the UK’s transition to zero emission vehicles and a pathway to a net zero automotive industry.</td>\n",
       "      <td>14 July 2025 9:30am UK time</td>\n",
       "      <td>1 October 2025 11:00am UK time</td>\n",
       "      <td>No</td>\n",
       "      <td></td>\n",
       "    </tr>\n",
       "    <tr>\n",
       "      <th>4</th>\n",
       "      <td>BBSRC Brazil pump-priming award (FAPPA)</td>\n",
       "      <td>https://www.ukri.org/opportunity/bbsrc-brazil-pump-priming-award/</td>\n",
       "      <td>This award is for BBSRC-funded research groups to pump-prime interactions with FAPESP scientists in Brazil. Applications must be made by a project lead who is currently in receipt of BBSRC research funding.</td>\n",
       "      <td>15 July 2025 9:00am UK time</td>\n",
       "      <td>Date de clôture non spécifiée</td>\n",
       "      <td>Yes</td>\n",
       "      <td>due diligence, biotechnology, artificial intelligence</td>\n",
       "    </tr>\n",
       "    <tr>\n",
       "      <th>...</th>\n",
       "      <td>...</td>\n",
       "      <td>...</td>\n",
       "      <td>...</td>\n",
       "      <td>...</td>\n",
       "      <td>...</td>\n",
       "      <td>...</td>\n",
       "      <td>...</td>\n",
       "    </tr>\n",
       "    <tr>\n",
       "      <th>105</th>\n",
       "      <td>Work with Brazilian researchers: NERC FAPESP lead agency</td>\n",
       "      <td>https://www.ukri.org/opportunity/work-with-brazilian-researchers-nerc-fapesp-lead-agency/</td>\n",
       "      <td>This opportunity allows UK-based researchers and researchers in the State of São Paulo, Brazil to submit a collaborative application under existing NERC funding opportunities. This will go through a single review process.</td>\n",
       "      <td>Date d'ouverture non spécifiée</td>\n",
       "      <td>Date de clôture non spécifiée</td>\n",
       "      <td>Yes</td>\n",
       "      <td>intellectual property, research results</td>\n",
       "    </tr>\n",
       "    <tr>\n",
       "      <th>106</th>\n",
       "      <td>PATT travel claim for competitively awarded observation time</td>\n",
       "      <td>https://www.ukri.org/opportunity/patt-travel-claim-for-competitively-awarded-observation-time/</td>\n",
       "      <td>Claim back travel and subsistence costs when visiting an astronomy telescope. The visit must be for competitively awarded science observation time.</td>\n",
       "      <td>1 January 2021</td>\n",
       "      <td>Date de clôture non spécifiée</td>\n",
       "      <td>No</td>\n",
       "      <td></td>\n",
       "    </tr>\n",
       "    <tr>\n",
       "      <th>107</th>\n",
       "      <td>Collaborate with researchers in Brazil</td>\n",
       "      <td>https://www.ukri.org/opportunity/collaborate-with-researchers-in-brazil/</td>\n",
       "      <td>UK Research and Innovation (UKRI) and FAPESP’s lead agency agreement allows UKRI to assess joint applications from eligible UK and Brazil-based researchers from the state of São Paulo on behalf of both organisations.</td>\n",
       "      <td>Date d'ouverture non spécifiée</td>\n",
       "      <td>Date de clôture non spécifiée</td>\n",
       "      <td>Yes</td>\n",
       "      <td>intellectual property, research results</td>\n",
       "    </tr>\n",
       "    <tr>\n",
       "      <th>108</th>\n",
       "      <td>UKRI-SBE lead agency opportunity</td>\n",
       "      <td>https://www.ukri.org/opportunity/ukri-sbe-lead-agency-opportunity/</td>\n",
       "      <td>The UKRI-SBE lead agency opportunity allows UK and US-based researchers to submit a collaborative proposal that will go through a single review process. Grants are funded through existing funding programmes at the relevant lead agency.</td>\n",
       "      <td>Date d'ouverture non spécifiée</td>\n",
       "      <td>Date de clôture non spécifiée</td>\n",
       "      <td>Yes</td>\n",
       "      <td>biotechnology</td>\n",
       "    </tr>\n",
       "    <tr>\n",
       "      <th>109</th>\n",
       "      <td>Institutional strategic developmental projects in higher education</td>\n",
       "      <td>https://www.ukri.org/opportunity/research-england-development-fund/</td>\n",
       "      <td>Apply for funding to develop institutional-level innovations in research and knowledge exchange.</td>\n",
       "      <td>Date d'ouverture non spécifiée</td>\n",
       "      <td>Date de clôture non spécifiée</td>\n",
       "      <td>Yes</td>\n",
       "      <td>capacity building, social innovation</td>\n",
       "    </tr>\n",
       "  </tbody>\n",
       "</table>\n",
       "<p>110 rows × 7 columns</p>\n",
       "</div>"
      ],
      "text/plain": [
       "                                                                  Title  \\\n",
       "0         Pushing the frontiers of environmental research: January 2026   \n",
       "1                                Projects Peer Review Panel (PPRP) 2026   \n",
       "2                                 DRIVE35 scale-up: feasibility studies   \n",
       "3                                  DRIVE35 innovation fund: collaborate   \n",
       "4                               BBSRC Brazil pump-priming award (FAPPA)   \n",
       "..                                                                  ...   \n",
       "105            Work with Brazilian researchers: NERC FAPESP lead agency   \n",
       "106        PATT travel claim for competitively awarded observation time   \n",
       "107                              Collaborate with researchers in Brazil   \n",
       "108                                    UKRI-SBE lead agency opportunity   \n",
       "109  Institutional strategic developmental projects in higher education   \n",
       "\n",
       "                                                                                                URL  \\\n",
       "0    https://www.ukri.org/opportunity/pushing-the-frontiers-of-environmental-research-january-2026/   \n",
       "1                            https://www.ukri.org/opportunity/projects-peer-review-panel-pprp-2026/   \n",
       "2                            https://www.ukri.org/opportunity/drive35-scale-up-feasibility-studies/   \n",
       "3                             https://www.ukri.org/opportunity/drive35-innovation-fund-collaborate/   \n",
       "4                                 https://www.ukri.org/opportunity/bbsrc-brazil-pump-priming-award/   \n",
       "..                                                                                              ...   \n",
       "105       https://www.ukri.org/opportunity/work-with-brazilian-researchers-nerc-fapesp-lead-agency/   \n",
       "106  https://www.ukri.org/opportunity/patt-travel-claim-for-competitively-awarded-observation-time/   \n",
       "107                        https://www.ukri.org/opportunity/collaborate-with-researchers-in-brazil/   \n",
       "108                              https://www.ukri.org/opportunity/ukri-sbe-lead-agency-opportunity/   \n",
       "109                             https://www.ukri.org/opportunity/research-england-development-fund/   \n",
       "\n",
       "                                                                                                                                                                                                                                                         Description  \\\n",
       "0                                                                                                                                            Apply for funding to pursue an ambitious, high risk and high reward curiosity-driven project in environmental research.   \n",
       "1                                                                 Apply for funding to develop a large or complex scientific project. You must have already discussed your ideas with one of our programme managers and have been invited to submit a full proposal.   \n",
       "2                                                                                                            UK registered businesses can apply for a share of up to £5 million for feasibility studies into UK manufacturing of zero emission vehicle technologies.   \n",
       "3    UK registered organisations can apply for a share of up to £40 million for late-stage collaborative research and development projects. Your project will support the UK’s transition to zero emission vehicles and a pathway to a net zero automotive industry.   \n",
       "4                                                     This award is for BBSRC-funded research groups to pump-prime interactions with FAPESP scientists in Brazil. Applications must be made by a project lead who is currently in receipt of BBSRC research funding.   \n",
       "..                                                                                                                                                                                                                                                               ...   \n",
       "105                                    This opportunity allows UK-based researchers and researchers in the State of São Paulo, Brazil to submit a collaborative application under existing NERC funding opportunities. This will go through a single review process.   \n",
       "106                                                                                                              Claim back travel and subsistence costs when visiting an astronomy telescope. The visit must be for competitively awarded science observation time.   \n",
       "107                                         UK Research and Innovation (UKRI) and FAPESP’s lead agency agreement allows UKRI to assess joint applications from eligible UK and Brazil-based researchers from the state of São Paulo on behalf of both organisations.   \n",
       "108                      The UKRI-SBE lead agency opportunity allows UK and US-based researchers to submit a collaborative proposal that will go through a single review process. Grants are funded through existing funding programmes at the relevant lead agency.   \n",
       "109                                                                                                                                                                 Apply for funding to develop institutional-level innovations in research and knowledge exchange.   \n",
       "\n",
       "                          Start_date                          Deadline  \\\n",
       "0        22 July 2025 9:00am UK time    21 January 2026 4:00pm UK time   \n",
       "1    8 September 2025 9:00am UK time     27 August 2026 4:00pm UK time   \n",
       "2        14 July 2025 9:30am UK time  3 September 2025 11:00am UK time   \n",
       "3        14 July 2025 9:30am UK time    1 October 2025 11:00am UK time   \n",
       "4        15 July 2025 9:00am UK time     Date de clôture non spécifiée   \n",
       "..                               ...                               ...   \n",
       "105   Date d'ouverture non spécifiée     Date de clôture non spécifiée   \n",
       "106                   1 January 2021     Date de clôture non spécifiée   \n",
       "107   Date d'ouverture non spécifiée     Date de clôture non spécifiée   \n",
       "108   Date d'ouverture non spécifiée     Date de clôture non spécifiée   \n",
       "109   Date d'ouverture non spécifiée     Date de clôture non spécifiée   \n",
       "\n",
       "    Pertinence                                            Matching Word(s)  \n",
       "0           No                                                              \n",
       "1          Yes  project management, due diligence, artificial intelligence  \n",
       "2           No                                                              \n",
       "3           No                                                              \n",
       "4          Yes       due diligence, biotechnology, artificial intelligence  \n",
       "..         ...                                                         ...  \n",
       "105        Yes                     intellectual property, research results  \n",
       "106         No                                                              \n",
       "107        Yes                     intellectual property, research results  \n",
       "108        Yes                                               biotechnology  \n",
       "109        Yes                        capacity building, social innovation  \n",
       "\n",
       "[110 rows x 7 columns]"
      ]
     },
     "execution_count": 6,
     "metadata": {},
     "output_type": "execute_result"
    }
   ],
   "source": [
    "df"
   ]
  },
  {
   "cell_type": "code",
   "execution_count": 7,
   "id": "fd5866fc",
   "metadata": {
    "execution": {
     "iopub.execute_input": "2025-07-16T16:55:04.016607Z",
     "iopub.status.busy": "2025-07-16T16:55:04.016607Z",
     "iopub.status.idle": "2025-07-16T16:55:04.027975Z",
     "shell.execute_reply": "2025-07-16T16:55:04.027975Z"
    }
   },
   "outputs": [
    {
     "data": {
      "text/html": [
       "<div>\n",
       "<style scoped>\n",
       "    .dataframe tbody tr th:only-of-type {\n",
       "        vertical-align: middle;\n",
       "    }\n",
       "\n",
       "    .dataframe tbody tr th {\n",
       "        vertical-align: top;\n",
       "    }\n",
       "\n",
       "    .dataframe thead th {\n",
       "        text-align: right;\n",
       "    }\n",
       "</style>\n",
       "<table border=\"1\" class=\"dataframe\">\n",
       "  <thead>\n",
       "    <tr style=\"text-align: right;\">\n",
       "      <th></th>\n",
       "      <th>Title</th>\n",
       "      <th>URL</th>\n",
       "      <th>Description</th>\n",
       "      <th>Start_date</th>\n",
       "      <th>Deadline</th>\n",
       "      <th>Pertinence</th>\n",
       "      <th>Matching Word(s)</th>\n",
       "    </tr>\n",
       "  </thead>\n",
       "  <tbody>\n",
       "    <tr>\n",
       "      <th>1</th>\n",
       "      <td>Projects Peer Review Panel (PPRP) 2026</td>\n",
       "      <td>https://www.ukri.org/opportunity/projects-peer-review-panel-pprp-2026/</td>\n",
       "      <td>Apply for funding to develop a large or complex scientific project. You must have already discussed your ideas with one of our programme managers and have been invited to submit a full proposal.</td>\n",
       "      <td>8 September 2025 9:00am UK time</td>\n",
       "      <td>27 August 2026 4:00pm UK time</td>\n",
       "      <td>Yes</td>\n",
       "      <td>project management, due diligence, artificial intelligence</td>\n",
       "    </tr>\n",
       "    <tr>\n",
       "      <th>4</th>\n",
       "      <td>BBSRC Brazil pump-priming award (FAPPA)</td>\n",
       "      <td>https://www.ukri.org/opportunity/bbsrc-brazil-pump-priming-award/</td>\n",
       "      <td>This award is for BBSRC-funded research groups to pump-prime interactions with FAPESP scientists in Brazil. Applications must be made by a project lead who is currently in receipt of BBSRC research funding.</td>\n",
       "      <td>15 July 2025 9:00am UK time</td>\n",
       "      <td>Date de clôture non spécifiée</td>\n",
       "      <td>Yes</td>\n",
       "      <td>due diligence, biotechnology, artificial intelligence</td>\n",
       "    </tr>\n",
       "    <tr>\n",
       "      <th>9</th>\n",
       "      <td>Smart Data Research UK Fellowships</td>\n",
       "      <td>https://www.ukri.org/opportunity/smart-data-research-uk-fellowships/</td>\n",
       "      <td>Apply for a fellowship to undertake innovative and impact-focused research using smart data. Projects should address a significant real-world challenge which is relevant to the UK.</td>\n",
       "      <td>15 July 2025 9:00am UK time</td>\n",
       "      <td>23 September 2025 4:00pm UK time</td>\n",
       "      <td>Yes</td>\n",
       "      <td>capacity building, artificial intelligence, economic impact</td>\n",
       "    </tr>\n",
       "    <tr>\n",
       "      <th>10</th>\n",
       "      <td>Institutional diversity fund (invite only)</td>\n",
       "      <td>https://www.ukri.org/opportunity/institutional-diversity-fund-invite-only/</td>\n",
       "      <td>The purpose of this opportunity is to provide strategic research infrastructure base funding, supporting independent research organisations to support the diverse social science ecosystem in the UK.</td>\n",
       "      <td>21 July 2025 9:00am UK time</td>\n",
       "      <td>16 September 2025 4:00pm UK time</td>\n",
       "      <td>Yes</td>\n",
       "      <td>artificial intelligence</td>\n",
       "    </tr>\n",
       "    <tr>\n",
       "      <th>12</th>\n",
       "      <td>Gap fund for early-stage development of new healthcare interventions</td>\n",
       "      <td>https://www.ukri.org/opportunity/funding-for-early-stage-development-of-new-healthcare-interventions/</td>\n",
       "      <td>Apply to the Developmental Pathway Gap Fund to address a single-step evidence gap and de-risk the development of a new medicine, medical device, diagnostic test or other medical intervention.</td>\n",
       "      <td>10 July 2025 9:00am UK time</td>\n",
       "      <td>12 November 2025 4:00pm UK time</td>\n",
       "      <td>Yes</td>\n",
       "      <td>due diligence, development strategy, technology transfer, intellectual property, service delivery, artificial intelligence, applied research</td>\n",
       "    </tr>\n",
       "    <tr>\n",
       "      <th>...</th>\n",
       "      <td>...</td>\n",
       "      <td>...</td>\n",
       "      <td>...</td>\n",
       "      <td>...</td>\n",
       "      <td>...</td>\n",
       "      <td>...</td>\n",
       "      <td>...</td>\n",
       "    </tr>\n",
       "    <tr>\n",
       "      <th>103</th>\n",
       "      <td>Collaborate with researchers in Luxembourg</td>\n",
       "      <td>https://www.ukri.org/opportunity/collaborate-with-researchers-in-luxembourg/</td>\n",
       "      <td>UKRI and FNR have signed a memorandum of understanding to enable and support applications between researchers in the UK and Luxembourg. UKRI will fund the UK component and FNR will fund the Luxembourg component of the application.</td>\n",
       "      <td>Date d'ouverture non spécifiée</td>\n",
       "      <td>Date de clôture non spécifiée</td>\n",
       "      <td>Yes</td>\n",
       "      <td>intellectual property, research results</td>\n",
       "    </tr>\n",
       "    <tr>\n",
       "      <th>105</th>\n",
       "      <td>Work with Brazilian researchers: NERC FAPESP lead agency</td>\n",
       "      <td>https://www.ukri.org/opportunity/work-with-brazilian-researchers-nerc-fapesp-lead-agency/</td>\n",
       "      <td>This opportunity allows UK-based researchers and researchers in the State of São Paulo, Brazil to submit a collaborative application under existing NERC funding opportunities. This will go through a single review process.</td>\n",
       "      <td>Date d'ouverture non spécifiée</td>\n",
       "      <td>Date de clôture non spécifiée</td>\n",
       "      <td>Yes</td>\n",
       "      <td>intellectual property, research results</td>\n",
       "    </tr>\n",
       "    <tr>\n",
       "      <th>107</th>\n",
       "      <td>Collaborate with researchers in Brazil</td>\n",
       "      <td>https://www.ukri.org/opportunity/collaborate-with-researchers-in-brazil/</td>\n",
       "      <td>UK Research and Innovation (UKRI) and FAPESP’s lead agency agreement allows UKRI to assess joint applications from eligible UK and Brazil-based researchers from the state of São Paulo on behalf of both organisations.</td>\n",
       "      <td>Date d'ouverture non spécifiée</td>\n",
       "      <td>Date de clôture non spécifiée</td>\n",
       "      <td>Yes</td>\n",
       "      <td>intellectual property, research results</td>\n",
       "    </tr>\n",
       "    <tr>\n",
       "      <th>108</th>\n",
       "      <td>UKRI-SBE lead agency opportunity</td>\n",
       "      <td>https://www.ukri.org/opportunity/ukri-sbe-lead-agency-opportunity/</td>\n",
       "      <td>The UKRI-SBE lead agency opportunity allows UK and US-based researchers to submit a collaborative proposal that will go through a single review process. Grants are funded through existing funding programmes at the relevant lead agency.</td>\n",
       "      <td>Date d'ouverture non spécifiée</td>\n",
       "      <td>Date de clôture non spécifiée</td>\n",
       "      <td>Yes</td>\n",
       "      <td>biotechnology</td>\n",
       "    </tr>\n",
       "    <tr>\n",
       "      <th>109</th>\n",
       "      <td>Institutional strategic developmental projects in higher education</td>\n",
       "      <td>https://www.ukri.org/opportunity/research-england-development-fund/</td>\n",
       "      <td>Apply for funding to develop institutional-level innovations in research and knowledge exchange.</td>\n",
       "      <td>Date d'ouverture non spécifiée</td>\n",
       "      <td>Date de clôture non spécifiée</td>\n",
       "      <td>Yes</td>\n",
       "      <td>capacity building, social innovation</td>\n",
       "    </tr>\n",
       "  </tbody>\n",
       "</table>\n",
       "<p>86 rows × 7 columns</p>\n",
       "</div>"
      ],
      "text/plain": [
       "                                                                    Title  \\\n",
       "1                                  Projects Peer Review Panel (PPRP) 2026   \n",
       "4                                 BBSRC Brazil pump-priming award (FAPPA)   \n",
       "9                                      Smart Data Research UK Fellowships   \n",
       "10                             Institutional diversity fund (invite only)   \n",
       "12   Gap fund for early-stage development of new healthcare interventions   \n",
       "..                                                                    ...   \n",
       "103                            Collaborate with researchers in Luxembourg   \n",
       "105              Work with Brazilian researchers: NERC FAPESP lead agency   \n",
       "107                                Collaborate with researchers in Brazil   \n",
       "108                                      UKRI-SBE lead agency opportunity   \n",
       "109    Institutional strategic developmental projects in higher education   \n",
       "\n",
       "                                                                                                       URL  \\\n",
       "1                                   https://www.ukri.org/opportunity/projects-peer-review-panel-pprp-2026/   \n",
       "4                                        https://www.ukri.org/opportunity/bbsrc-brazil-pump-priming-award/   \n",
       "9                                     https://www.ukri.org/opportunity/smart-data-research-uk-fellowships/   \n",
       "10                              https://www.ukri.org/opportunity/institutional-diversity-fund-invite-only/   \n",
       "12   https://www.ukri.org/opportunity/funding-for-early-stage-development-of-new-healthcare-interventions/   \n",
       "..                                                                                                     ...   \n",
       "103                           https://www.ukri.org/opportunity/collaborate-with-researchers-in-luxembourg/   \n",
       "105              https://www.ukri.org/opportunity/work-with-brazilian-researchers-nerc-fapesp-lead-agency/   \n",
       "107                               https://www.ukri.org/opportunity/collaborate-with-researchers-in-brazil/   \n",
       "108                                     https://www.ukri.org/opportunity/ukri-sbe-lead-agency-opportunity/   \n",
       "109                                    https://www.ukri.org/opportunity/research-england-development-fund/   \n",
       "\n",
       "                                                                                                                                                                                                                                     Description  \\\n",
       "1                                             Apply for funding to develop a large or complex scientific project. You must have already discussed your ideas with one of our programme managers and have been invited to submit a full proposal.   \n",
       "4                                 This award is for BBSRC-funded research groups to pump-prime interactions with FAPESP scientists in Brazil. Applications must be made by a project lead who is currently in receipt of BBSRC research funding.   \n",
       "9                                                           Apply for a fellowship to undertake innovative and impact-focused research using smart data. Projects should address a significant real-world challenge which is relevant to the UK.   \n",
       "10                                        The purpose of this opportunity is to provide strategic research infrastructure base funding, supporting independent research organisations to support the diverse social science ecosystem in the UK.   \n",
       "12                                               Apply to the Developmental Pathway Gap Fund to address a single-step evidence gap and de-risk the development of a new medicine, medical device, diagnostic test or other medical intervention.   \n",
       "..                                                                                                                                                                                                                                           ...   \n",
       "103       UKRI and FNR have signed a memorandum of understanding to enable and support applications between researchers in the UK and Luxembourg. UKRI will fund the UK component and FNR will fund the Luxembourg component of the application.   \n",
       "105                This opportunity allows UK-based researchers and researchers in the State of São Paulo, Brazil to submit a collaborative application under existing NERC funding opportunities. This will go through a single review process.   \n",
       "107                     UK Research and Innovation (UKRI) and FAPESP’s lead agency agreement allows UKRI to assess joint applications from eligible UK and Brazil-based researchers from the state of São Paulo on behalf of both organisations.   \n",
       "108  The UKRI-SBE lead agency opportunity allows UK and US-based researchers to submit a collaborative proposal that will go through a single review process. Grants are funded through existing funding programmes at the relevant lead agency.   \n",
       "109                                                                                                                                             Apply for funding to develop institutional-level innovations in research and knowledge exchange.   \n",
       "\n",
       "                          Start_date                          Deadline  \\\n",
       "1    8 September 2025 9:00am UK time     27 August 2026 4:00pm UK time   \n",
       "4        15 July 2025 9:00am UK time     Date de clôture non spécifiée   \n",
       "9        15 July 2025 9:00am UK time  23 September 2025 4:00pm UK time   \n",
       "10       21 July 2025 9:00am UK time  16 September 2025 4:00pm UK time   \n",
       "12       10 July 2025 9:00am UK time   12 November 2025 4:00pm UK time   \n",
       "..                               ...                               ...   \n",
       "103   Date d'ouverture non spécifiée     Date de clôture non spécifiée   \n",
       "105   Date d'ouverture non spécifiée     Date de clôture non spécifiée   \n",
       "107   Date d'ouverture non spécifiée     Date de clôture non spécifiée   \n",
       "108   Date d'ouverture non spécifiée     Date de clôture non spécifiée   \n",
       "109   Date d'ouverture non spécifiée     Date de clôture non spécifiée   \n",
       "\n",
       "    Pertinence  \\\n",
       "1          Yes   \n",
       "4          Yes   \n",
       "9          Yes   \n",
       "10         Yes   \n",
       "12         Yes   \n",
       "..         ...   \n",
       "103        Yes   \n",
       "105        Yes   \n",
       "107        Yes   \n",
       "108        Yes   \n",
       "109        Yes   \n",
       "\n",
       "                                                                                                                                 Matching Word(s)  \n",
       "1                                                                                      project management, due diligence, artificial intelligence  \n",
       "4                                                                                           due diligence, biotechnology, artificial intelligence  \n",
       "9                                                                                     capacity building, artificial intelligence, economic impact  \n",
       "10                                                                                                                        artificial intelligence  \n",
       "12   due diligence, development strategy, technology transfer, intellectual property, service delivery, artificial intelligence, applied research  \n",
       "..                                                                                                                                            ...  \n",
       "103                                                                                                       intellectual property, research results  \n",
       "105                                                                                                       intellectual property, research results  \n",
       "107                                                                                                       intellectual property, research results  \n",
       "108                                                                                                                                 biotechnology  \n",
       "109                                                                                                          capacity building, social innovation  \n",
       "\n",
       "[86 rows x 7 columns]"
      ]
     },
     "execution_count": 7,
     "metadata": {},
     "output_type": "execute_result"
    }
   ],
   "source": [
    "df_pertinence_uk= df[df[\"Pertinence\"] == \"Yes\"]\n",
    "df_pertinence_uk"
   ]
  },
  {
   "cell_type": "code",
   "execution_count": 8,
   "id": "2531e784",
   "metadata": {
    "execution": {
     "iopub.execute_input": "2025-07-16T16:55:04.033631Z",
     "iopub.status.busy": "2025-07-16T16:55:04.033631Z",
     "iopub.status.idle": "2025-07-16T16:55:04.108775Z",
     "shell.execute_reply": "2025-07-16T16:55:04.107759Z"
    }
   },
   "outputs": [],
   "source": [
    "df_pertinence_uk.to_excel(\"projets_pertinents_keywords_InnUK_from_all_description.xlsx\", index=False)"
   ]
  },
  {
   "cell_type": "code",
   "execution_count": 9,
   "id": "bfa7c194",
   "metadata": {
    "execution": {
     "iopub.execute_input": "2025-07-16T16:55:04.112762Z",
     "iopub.status.busy": "2025-07-16T16:55:04.111803Z",
     "iopub.status.idle": "2025-07-16T16:55:04.122864Z",
     "shell.execute_reply": "2025-07-16T16:55:04.121844Z"
    }
   },
   "outputs": [],
   "source": [
    "import pandas as pd\n",
    "\n",
    "# Données extraites\n",
    "data = [\n",
    "    {\n",
    "        \"Project Name\": \"FACTORIAT\",\n",
    "        \"Description\": \"Support Deeptech & Hardware startups in prototyping and tech maturation with technical and financial help.\",\n",
    "        \"Period\": \"2022–2023\",\n",
    "        \"Axes / Thematic Areas\": \"Deeptech, Hardware, Incubation, Prototyping, Acceleration\",\n",
    "        \"Region\": \"Tunisia\",\n",
    "        \"Partners / Funders\": \"Industrial partners, ODF network\",\n",
    "        \"Key Figures / Impact\": \"7 prototypes, 4 pre-industrial units\"\n",
    "    },\n",
    "    {\n",
    "        \"Project Name\": \"National Entrepreneurship Program\",\n",
    "        \"Description\": \"Design and implementation of Lesotho's national entrepreneurship ecosystem.\",\n",
    "        \"Period\": \"2022–2025\",\n",
    "        \"Axes / Thematic Areas\": \"Capacity building, Strategy, Startup Ecosystem\",\n",
    "        \"Region\": \"Lesotho\",\n",
    "        \"Partners / Funders\": \"Local government, ODF\",\n",
    "        \"Key Figures / Impact\": \"500 entrepreneurs, 15 ESOs supported\"\n",
    "    },\n",
    "    {\n",
    "        \"Project Name\": \"Arab Bank Strategy\",\n",
    "        \"Description\": \"Develop funding & partnership strategy for African digital economy projects.\",\n",
    "        \"Period\": \"N/A\",\n",
    "        \"Axes / Thematic Areas\": \"Digital Economy, Strategic Development, Financing\",\n",
    "        \"Region\": \"Sub-Saharan Africa\",\n",
    "        \"Partners / Funders\": \"Arab Bank for Economic Development in Africa\",\n",
    "        \"Key Figures / Impact\": \"Strategy developed\"\n",
    "    },\n",
    "    {\n",
    "        \"Project Name\": \"World Bank Collaboration\",\n",
    "        \"Description\": \"Develop startup ecosystem in 5 Southern African countries including Lesotho.\",\n",
    "        \"Period\": \"2020–2022\",\n",
    "        \"Axes / Thematic Areas\": \"Startup Ecosystem, Digital Economy, Entrepreneurship\",\n",
    "        \"Region\": \"Southern Africa\",\n",
    "        \"Partners / Funders\": \"World Bank\",\n",
    "        \"Key Figures / Impact\": \"SA, Lesotho, Namibia, Botswana, Eswatini\"\n",
    "    },\n",
    "    {\n",
    "        \"Project Name\": \"MDBAN – Business Angels Network\",\n",
    "        \"Description\": \"Support early-stage Maghreb startups via diaspora angel investment.\",\n",
    "        \"Period\": \"2021–Present\",\n",
    "        \"Axes / Thematic Areas\": \"Startup Support, Investment, Diaspora Engagement\",\n",
    "        \"Region\": \"MENA, Diaspora\",\n",
    "        \"Partners / Funders\": \"MDBAN, ODF\",\n",
    "        \"Key Figures / Impact\": \"56 startups financed, 33 angels\"\n",
    "    },\n",
    "    {\n",
    "        \"Project Name\": \"BIATLABS\",\n",
    "        \"Description\": \"Incubation program by BIAT Bank, run by ODF.\",\n",
    "        \"Period\": \"2016–2018\",\n",
    "        \"Axes / Thematic Areas\": \"Startup Incubation, Early-Stage Innovation\",\n",
    "        \"Region\": \"Tunisia\",\n",
    "        \"Partners / Funders\": \"BIAT (Private Bank)\",\n",
    "        \"Key Figures / Impact\": \"4 cohorts, 45 startups, 15 labeled, 6 funded\"\n",
    "    },\n",
    "    {\n",
    "        \"Project Name\": \"TECHNORIAT PPP Program\",\n",
    "        \"Description\": \"Bridge research & entrepreneurship via incubation/acceleration of researchers.\",\n",
    "        \"Period\": \"2021–2023\",\n",
    "        \"Axes / Thematic Areas\": \"Scientific Research, Deeptech, Acceleration, Entrepreneurship\",\n",
    "        \"Region\": \"Tunisia\",\n",
    "        \"Partners / Funders\": \"TECHNORIAT, PPP\",\n",
    "        \"Key Figures / Impact\": \"800 sensitized, 136 preselected, 13 incubated, 8 accelerated\"\n",
    "    },\n",
    "    {\n",
    "        \"Project Name\": \"ABI – Applied Biotech & Innovation\",\n",
    "        \"Description\": \"Turn biotech discoveries into marketable solutions with IP licensing model.\",\n",
    "        \"Period\": \"N/A\",\n",
    "        \"Axes / Thematic Areas\": \"Biotech, One Health, IP Licensing, Innovation\",\n",
    "        \"Region\": \"N/A\",\n",
    "        \"Partners / Funders\": \"ODF internal program\",\n",
    "        \"Key Figures / Impact\": \"IP Model: License IN → Maturation → License OUT\"\n",
    "    }\n",
    "]\n",
    "\n",
    "# Création du DataFrame\n",
    "odf_df = pd.DataFrame(data)\n",
    "\n"
   ]
  },
  {
   "cell_type": "code",
   "execution_count": 10,
   "id": "e30f0df5",
   "metadata": {
    "execution": {
     "iopub.execute_input": "2025-07-16T16:55:04.127847Z",
     "iopub.status.busy": "2025-07-16T16:55:04.126849Z",
     "iopub.status.idle": "2025-07-17T13:59:42.752888Z",
     "shell.execute_reply": "2025-07-17T13:59:42.751532Z"
    }
   },
   "outputs": [
    {
     "name": "stderr",
     "output_type": "stream",
     "text": [
      "\r",
      "🔍 Analyse des URLs:   0%|                                                                                      | 0/86 [00:00<?, ?it/s]"
     ]
    },
    {
     "name": "stdout",
     "output_type": "stream",
     "text": [
      "🟡 Analyse en cours : https://www.ukri.org/opportunity/projects-peer-review-panel-pprp-2026/\n"
     ]
    },
    {
     "name": "stderr",
     "output_type": "stream",
     "text": [
      "\r",
      "🔍 Analyse des URLs:   1%|▉                                                                             | 1/86 [00:26<38:02, 26.86s/it]"
     ]
    },
    {
     "name": "stdout",
     "output_type": "stream",
     "text": [
      "🟡 Analyse en cours : https://www.ukri.org/opportunity/bbsrc-brazil-pump-priming-award/\n"
     ]
    },
    {
     "name": "stderr",
     "output_type": "stream",
     "text": [
      "\r",
      "🔍 Analyse des URLs:   2%|█▊                                                                            | 2/86 [00:51<35:34, 25.41s/it]"
     ]
    },
    {
     "name": "stdout",
     "output_type": "stream",
     "text": [
      "🟡 Analyse en cours : https://www.ukri.org/opportunity/smart-data-research-uk-fellowships/\n"
     ]
    },
    {
     "name": "stderr",
     "output_type": "stream",
     "text": [
      "\r",
      "🔍 Analyse des URLs:   3%|██▋                                                                           | 3/86 [01:15<34:40, 25.07s/it]"
     ]
    },
    {
     "name": "stdout",
     "output_type": "stream",
     "text": [
      "🟡 Analyse en cours : https://www.ukri.org/opportunity/institutional-diversity-fund-invite-only/\n"
     ]
    },
    {
     "name": "stderr",
     "output_type": "stream",
     "text": [
      "\r",
      "🔍 Analyse des URLs:   5%|███▋                                                                          | 4/86 [01:39<33:41, 24.65s/it]"
     ]
    },
    {
     "name": "stdout",
     "output_type": "stream",
     "text": [
      "🟡 Analyse en cours : https://www.ukri.org/opportunity/funding-for-early-stage-development-of-new-healthcare-interventions/\n"
     ]
    },
    {
     "name": "stderr",
     "output_type": "stream",
     "text": [
      "\r",
      "🔍 Analyse des URLs:   6%|████▌                                                                         | 5/86 [02:03<32:56, 24.40s/it]"
     ]
    },
    {
     "name": "stdout",
     "output_type": "stream",
     "text": [
      "🟡 Analyse en cours : https://www.ukri.org/opportunity/digitise-uk-natural-science-collections/\n"
     ]
    },
    {
     "name": "stderr",
     "output_type": "stream",
     "text": [
      "\r",
      "🔍 Analyse des URLs:   7%|█████▍                                                                        | 6/86 [02:28<32:26, 24.33s/it]"
     ]
    },
    {
     "name": "stdout",
     "output_type": "stream",
     "text": [
      "🟡 Analyse en cours : https://www.ukri.org/opportunity/aviations-non-co2-impacts-on-the-climate-programme-coordinator/\n"
     ]
    },
    {
     "name": "stderr",
     "output_type": "stream",
     "text": [
      "\r",
      "🔍 Analyse des URLs:   8%|██████▎                                                                       | 7/86 [02:52<32:07, 24.40s/it]"
     ]
    },
    {
     "name": "stdout",
     "output_type": "stream",
     "text": [
      "🟡 Analyse en cours : https://www.ukri.org/opportunity/research-and-partnership-hubs-for-a-healthy-society/\n"
     ]
    },
    {
     "name": "stderr",
     "output_type": "stream",
     "text": [
      "\r",
      "🔍 Analyse des URLs:   9%|███████▎                                                                      | 8/86 [03:16<31:35, 24.30s/it]"
     ]
    },
    {
     "name": "stdout",
     "output_type": "stream",
     "text": [
      "🟡 Analyse en cours : https://www.ukri.org/opportunity/stfc-leadership-fellowships-in-public-engagement/\n"
     ]
    },
    {
     "name": "stderr",
     "output_type": "stream",
     "text": [
      "\r",
      "🔍 Analyse des URLs:  10%|████████▏                                                                     | 9/86 [03:40<31:10, 24.30s/it]"
     ]
    },
    {
     "name": "stdout",
     "output_type": "stream",
     "text": [
      "🟡 Analyse en cours : https://www.ukri.org/opportunity/computing-resources-on-the-stfc-dirac-hpc-facility-rac18/\n"
     ]
    },
    {
     "name": "stderr",
     "output_type": "stream",
     "text": [
      "\r",
      "🔍 Analyse des URLs:  12%|████████▉                                                                    | 10/86 [04:06<31:19, 24.73s/it]"
     ]
    },
    {
     "name": "stdout",
     "output_type": "stream",
     "text": [
      "🟡 Analyse en cours : https://www.ukri.org/opportunity/experimental-medicine-invited-stage-two-application/\n"
     ]
    },
    {
     "name": "stderr",
     "output_type": "stream",
     "text": [
      "\r",
      "🔍 Analyse des URLs:  13%|█████████▊                                                                   | 11/86 [04:30<30:43, 24.57s/it]"
     ]
    },
    {
     "name": "stdout",
     "output_type": "stream",
     "text": [
      "🟡 Analyse en cours : https://www.ukri.org/opportunity/us-uk-and-germany-uk-collaborative-research-seed-funding-in-semiconductor-security/\n"
     ]
    },
    {
     "name": "stderr",
     "output_type": "stream",
     "text": [
      "\r",
      "🔍 Analyse des URLs:  14%|██████████▋                                                                  | 12/86 [04:54<30:04, 24.39s/it]"
     ]
    },
    {
     "name": "stdout",
     "output_type": "stream",
     "text": [
      "🟡 Analyse en cours : https://www.ukri.org/opportunity/biological-influence-on-ocean-carbon-novel-modelling-approaches/\n"
     ]
    },
    {
     "name": "stderr",
     "output_type": "stream",
     "text": [
      "\r",
      "🔍 Analyse des URLs:  15%|███████████▋                                                                 | 13/86 [05:20<30:06, 24.74s/it]"
     ]
    },
    {
     "name": "stdout",
     "output_type": "stream",
     "text": [
      "🟡 Analyse en cours : https://www.ukri.org/opportunity/ukri-gambling-harms-research-coordination-centre-ghrcc/\n"
     ]
    },
    {
     "name": "stderr",
     "output_type": "stream",
     "text": [
      "\r",
      "🔍 Analyse des URLs:  16%|████████████▌                                                                | 14/86 [05:48<30:59, 25.82s/it]"
     ]
    },
    {
     "name": "stdout",
     "output_type": "stream",
     "text": [
      "🟡 Analyse en cours : https://www.ukri.org/opportunity/gambling-harms-research-and-innovation-partnerships/\n"
     ]
    },
    {
     "name": "stderr",
     "output_type": "stream",
     "text": [
      "\r",
      "🔍 Analyse des URLs:  17%|█████████████▍                                                               | 15/86 [06:16<31:04, 26.26s/it]"
     ]
    },
    {
     "name": "stdout",
     "output_type": "stream",
     "text": [
      "🟡 Analyse en cours : https://www.ukri.org/opportunity/multiple-model-assessment-of-biological-influence-on-ocean-carbon/\n"
     ]
    },
    {
     "name": "stderr",
     "output_type": "stream",
     "text": [
      "\r",
      "🔍 Analyse des URLs:  19%|██████████████▎                                                              | 16/86 [06:43<30:54, 26.50s/it]"
     ]
    },
    {
     "name": "stdout",
     "output_type": "stream",
     "text": [
      "🟡 Analyse en cours : https://www.ukri.org/opportunity/transdisciplinary-research-to-tackle-antimicrobial-resistance-full-application/\n"
     ]
    },
    {
     "name": "stderr",
     "output_type": "stream",
     "text": [
      "\r",
      "🔍 Analyse des URLs:  20%|███████████████▏                                                             | 17/86 [07:07<29:47, 25.91s/it]"
     ]
    },
    {
     "name": "stdout",
     "output_type": "stream",
     "text": [
      "🟡 Analyse en cours : https://www.ukri.org/opportunity/canada-uk-networkplus-in-semiconductor-research/\n"
     ]
    },
    {
     "name": "stderr",
     "output_type": "stream",
     "text": [
      "\r",
      "🔍 Analyse des URLs:  21%|████████████████                                                             | 18/86 [07:31<28:48, 25.42s/it]"
     ]
    },
    {
     "name": "stdout",
     "output_type": "stream",
     "text": [
      "🟡 Analyse en cours : https://www.ukri.org/opportunity/uk-international-ocean-drilling-programme-moratorium-awards/\n"
     ]
    },
    {
     "name": "stderr",
     "output_type": "stream",
     "text": [
      "\r",
      "🔍 Analyse des URLs:  22%|█████████████████                                                            | 19/86 [07:56<28:03, 25.13s/it]"
     ]
    },
    {
     "name": "stdout",
     "output_type": "stream",
     "text": [
      "🟡 Analyse en cours : https://www.ukri.org/opportunity/health-technologies-connectivity-awards-round-two/\n"
     ]
    },
    {
     "name": "stderr",
     "output_type": "stream",
     "text": [
      "\r",
      "🔍 Analyse des URLs:  23%|█████████████████▉                                                           | 20/86 [08:20<27:26, 24.95s/it]"
     ]
    },
    {
     "name": "stdout",
     "output_type": "stream",
     "text": [
      "🟡 Analyse en cours : https://www.ukri.org/opportunity/clinician-scientist-fellowship/\n"
     ]
    },
    {
     "name": "stderr",
     "output_type": "stream",
     "text": [
      "\r",
      "🔍 Analyse des URLs:  24%|█████████████████                                                     | 21/86 [3:10:12<59:27:15, 3292.86s/it]"
     ]
    },
    {
     "name": "stdout",
     "output_type": "stream",
     "text": [
      "🟡 Analyse en cours : https://www.ukri.org/opportunity/pre-doctoral-clinical-research-training-fellowship/\n"
     ]
    },
    {
     "name": "stderr",
     "output_type": "stream",
     "text": [
      "\r",
      "🔍 Analyse des URLs:  26%|█████████████████▉                                                    | 22/86 [3:10:14<40:58:47, 2305.11s/it]"
     ]
    },
    {
     "name": "stdout",
     "output_type": "stream",
     "text": [
      "🟡 Analyse en cours : https://www.ukri.org/opportunity/post-doctoral-clinical-research-training-fellowship/\n"
     ]
    },
    {
     "name": "stderr",
     "output_type": "stream",
     "text": [
      "\r",
      "🔍 Analyse des URLs:  27%|██████████████████▋                                                   | 23/86 [3:10:16<28:14:36, 1613.91s/it]"
     ]
    },
    {
     "name": "stdout",
     "output_type": "stream",
     "text": [
      "🟡 Analyse en cours : https://www.ukri.org/opportunity/engineer-next-generation-veterinary-vaccine-technology-platforms/\n"
     ]
    },
    {
     "name": "stderr",
     "output_type": "stream",
     "text": [
      "\r",
      "🔍 Analyse des URLs:  28%|███████████████████▌                                                  | 24/86 [3:10:29<19:31:28, 1133.68s/it]"
     ]
    },
    {
     "name": "stdout",
     "output_type": "stream",
     "text": [
      "🟡 Analyse en cours : https://www.ukri.org/opportunity/strategic-infrastructure-for-engineering-and-physical-sciences-june-2025/\n"
     ]
    },
    {
     "name": "stderr",
     "output_type": "stream",
     "text": [
      "\r",
      "🔍 Analyse des URLs:  29%|███████████████████▍                                               | 25/86 [20:53:14<337:37:40, 19925.58s/it]"
     ]
    },
    {
     "name": "stdout",
     "output_type": "stream",
     "text": [
      "🟡 Analyse en cours : https://www.ukri.org/opportunity/ernest-rutherford-fellowship-2025/\n"
     ]
    },
    {
     "name": "stderr",
     "output_type": "stream",
     "text": [
      "\r",
      "🔍 Analyse des URLs:  30%|████████████████████▎                                              | 26/86 [20:53:26<232:31:03, 13951.06s/it]"
     ]
    },
    {
     "name": "stdout",
     "output_type": "stream",
     "text": [
      "🟡 Analyse en cours : https://www.ukri.org/opportunity/research-to-advance-uk-recycling-capabilities-full-stage/\n"
     ]
    },
    {
     "name": "stderr",
     "output_type": "stream",
     "text": [
      "\r",
      "🔍 Analyse des URLs:  31%|█████████████████████▎                                              | 27/86 [20:53:38<160:06:04, 9768.89s/it]"
     ]
    },
    {
     "name": "stdout",
     "output_type": "stream",
     "text": [
      "🟡 Analyse en cours : https://www.ukri.org/opportunity/sandpit-moving-respiratory-health-diagnosis-into-the-21st-century-invite-only/\n"
     ]
    },
    {
     "name": "stderr",
     "output_type": "stream",
     "text": [
      "\r",
      "🔍 Analyse des URLs:  33%|██████████████████████▏                                             | 28/86 [20:53:50<110:13:38, 6841.69s/it]"
     ]
    },
    {
     "name": "stdout",
     "output_type": "stream",
     "text": [
      "🟡 Analyse en cours : https://www.ukri.org/opportunity/mrc-centre-of-research-excellence-round-three/\n"
     ]
    },
    {
     "name": "stderr",
     "output_type": "stream",
     "text": [
      "\r",
      "🔍 Analyse des URLs:  34%|███████████████████████▎                                             | 29/86 [20:54:01<75:52:47, 4792.41s/it]"
     ]
    },
    {
     "name": "stdout",
     "output_type": "stream",
     "text": [
      "🟡 Analyse en cours : https://www.ukri.org/opportunity/responsive-mode-partnership/\n"
     ]
    },
    {
     "name": "stderr",
     "output_type": "stream",
     "text": [
      "\r",
      "🔍 Analyse des URLs:  35%|████████████████████████                                             | 30/86 [20:54:12<52:14:11, 3358.07s/it]"
     ]
    },
    {
     "name": "stdout",
     "output_type": "stream",
     "text": [
      "🟡 Analyse en cours : https://www.ukri.org/opportunity/infections-and-immunity-programme/\n"
     ]
    },
    {
     "name": "stderr",
     "output_type": "stream",
     "text": [
      "\r",
      "🔍 Analyse des URLs:  36%|████████████████████████▊                                            | 31/86 [20:54:23<35:57:47, 2353.95s/it]"
     ]
    },
    {
     "name": "stdout",
     "output_type": "stream",
     "text": [
      "🟡 Analyse en cours : https://www.ukri.org/opportunity/neurosciences-and-mental-health-programme/\n"
     ]
    },
    {
     "name": "stderr",
     "output_type": "stream",
     "text": [
      "\r",
      "🔍 Analyse des URLs:  37%|█████████████████████████▋                                           | 32/86 [20:54:35<24:46:02, 1651.17s/it]"
     ]
    },
    {
     "name": "stdout",
     "output_type": "stream",
     "text": [
      "🟡 Analyse en cours : https://www.ukri.org/opportunity/population-and-systems-medicine-programme/\n"
     ]
    },
    {
     "name": "stderr",
     "output_type": "stream",
     "text": [
      "\r",
      "🔍 Analyse des URLs:  38%|██████████████████████████▍                                          | 33/86 [20:54:46<17:03:54, 1159.14s/it]"
     ]
    },
    {
     "name": "stdout",
     "output_type": "stream",
     "text": [
      "🟡 Analyse en cours : https://www.ukri.org/opportunity/molecular-and-cellular-medicine-programme/\n"
     ]
    },
    {
     "name": "stderr",
     "output_type": "stream",
     "text": [
      "\r",
      "🔍 Analyse des URLs:  40%|███████████████████████████▋                                          | 34/86 [20:54:57<11:46:03, 814.69s/it]"
     ]
    },
    {
     "name": "stdout",
     "output_type": "stream",
     "text": [
      "🟡 Analyse en cours : https://www.ukri.org/opportunity/molecular-and-cellular-medicine-new-investigator/\n"
     ]
    },
    {
     "name": "stderr",
     "output_type": "stream",
     "text": [
      "\r",
      "🔍 Analyse des URLs:  41%|████████████████████████████▉                                          | 35/86 [20:55:08<8:07:37, 573.67s/it]"
     ]
    },
    {
     "name": "stdout",
     "output_type": "stream",
     "text": [
      "🟡 Analyse en cours : https://www.ukri.org/opportunity/neurosciences-and-mental-health-new-investigator/\n"
     ]
    },
    {
     "name": "stderr",
     "output_type": "stream",
     "text": [
      "\r",
      "🔍 Analyse des URLs:  42%|█████████████████████████████▋                                         | 36/86 [20:55:19<5:37:22, 404.84s/it]"
     ]
    },
    {
     "name": "stdout",
     "output_type": "stream",
     "text": [
      "🟡 Analyse en cours : https://www.ukri.org/opportunity/infections-and-immunity-new-investigator/\n"
     ]
    },
    {
     "name": "stderr",
     "output_type": "stream",
     "text": [
      "\r",
      "🔍 Analyse des URLs:  43%|██████████████████████████████▌                                        | 37/86 [20:55:30<3:54:09, 286.73s/it]"
     ]
    },
    {
     "name": "stdout",
     "output_type": "stream",
     "text": [
      "🟡 Analyse en cours : https://www.ukri.org/opportunity/population-and-systems-medicine-new-investigator/\n"
     ]
    },
    {
     "name": "stderr",
     "output_type": "stream",
     "text": [
      "\r",
      "🔍 Analyse des URLs:  44%|███████████████████████████████▎                                       | 38/86 [20:55:41<2:43:14, 204.05s/it]"
     ]
    },
    {
     "name": "stdout",
     "output_type": "stream",
     "text": [
      "🟡 Analyse en cours : https://www.ukri.org/opportunity/neurosciences-and-mental-health-research/\n"
     ]
    },
    {
     "name": "stderr",
     "output_type": "stream",
     "text": [
      "\r",
      "🔍 Analyse des URLs:  45%|████████████████████████████████▏                                      | 39/86 [20:55:52<1:54:28, 146.14s/it]"
     ]
    },
    {
     "name": "stdout",
     "output_type": "stream",
     "text": [
      "🟡 Analyse en cours : https://www.ukri.org/opportunity/population-and-systems-medicine-research/\n"
     ]
    },
    {
     "name": "stderr",
     "output_type": "stream",
     "text": [
      "\r",
      "🔍 Analyse des URLs:  47%|█████████████████████████████████                                      | 40/86 [20:56:03<1:20:59, 105.64s/it]"
     ]
    },
    {
     "name": "stdout",
     "output_type": "stream",
     "text": [
      "🟡 Analyse en cours : https://www.ukri.org/opportunity/molecular-and-cellular-medicine-research/\n"
     ]
    },
    {
     "name": "stderr",
     "output_type": "stream",
     "text": [
      "\r",
      "🔍 Analyse des URLs:  48%|███████████████████████████████████▎                                      | 41/86 [20:56:15<58:03, 77.41s/it]"
     ]
    },
    {
     "name": "stdout",
     "output_type": "stream",
     "text": [
      "🟡 Analyse en cours : https://www.ukri.org/opportunity/infections-and-immunity-research/\n"
     ]
    },
    {
     "name": "stderr",
     "output_type": "stream",
     "text": [
      "\r",
      "🔍 Analyse des URLs:  49%|████████████████████████████████████▏                                     | 42/86 [20:56:26<42:10, 57.52s/it]"
     ]
    },
    {
     "name": "stdout",
     "output_type": "stream",
     "text": [
      "🟡 Analyse en cours : https://www.ukri.org/opportunity/dare-uk-real-world-research-exemplar-programme/\n"
     ]
    },
    {
     "name": "stderr",
     "output_type": "stream",
     "text": [
      "\r",
      "🔍 Analyse des URLs:  50%|█████████████████████████████████████                                     | 43/86 [20:56:37<31:12, 43.55s/it]"
     ]
    },
    {
     "name": "stdout",
     "output_type": "stream",
     "text": [
      "🟡 Analyse en cours : https://www.ukri.org/opportunity/bbsrc-new-investigator-award-2025-round-3-applicant-led-mode/\n"
     ]
    },
    {
     "name": "stderr",
     "output_type": "stream",
     "text": [
      "\r",
      "🔍 Analyse des URLs:  51%|█████████████████████████████████████▊                                    | 44/86 [20:56:48<23:36, 33.72s/it]"
     ]
    },
    {
     "name": "stdout",
     "output_type": "stream",
     "text": [
      "🟡 Analyse en cours : https://www.ukri.org/opportunity/bbsrc-standard-research-grant-2025-round-3-applicant-led-mode/\n"
     ]
    },
    {
     "name": "stderr",
     "output_type": "stream",
     "text": [
      "\r",
      "🔍 Analyse des URLs:  52%|██████████████████████████████████████▋                                   | 45/86 [20:56:59<18:22, 26.89s/it]"
     ]
    },
    {
     "name": "stdout",
     "output_type": "stream",
     "text": [
      "🟡 Analyse en cours : https://www.ukri.org/opportunity/critical-mass-programmes-to-drive-a-sustainable-future-invitation-only/\n"
     ]
    },
    {
     "name": "stderr",
     "output_type": "stream",
     "text": [
      "\r",
      "🔍 Analyse des URLs:  53%|███████████████████████████████████████▌                                  | 46/86 [20:57:10<14:45, 22.14s/it]"
     ]
    },
    {
     "name": "stdout",
     "output_type": "stream",
     "text": [
      "🟡 Analyse en cours : https://www.ukri.org/opportunity/experimental-medicine/\n"
     ]
    },
    {
     "name": "stderr",
     "output_type": "stream",
     "text": [
      "\r",
      "🔍 Analyse des URLs:  55%|████████████████████████████████████████▍                                 | 47/86 [20:57:21<12:12, 18.78s/it]"
     ]
    },
    {
     "name": "stdout",
     "output_type": "stream",
     "text": [
      "🟡 Analyse en cours : https://www.ukri.org/opportunity/career-development-award/\n"
     ]
    },
    {
     "name": "stderr",
     "output_type": "stream",
     "text": [
      "\r",
      "🔍 Analyse des URLs:  56%|█████████████████████████████████████████▎                                | 48/86 [20:57:32<10:26, 16.49s/it]"
     ]
    },
    {
     "name": "stdout",
     "output_type": "stream",
     "text": [
      "🟡 Analyse en cours : https://www.ukri.org/opportunity/2025-to-2026-strategic-longer-and-larger-slola-grants/\n"
     ]
    },
    {
     "name": "stderr",
     "output_type": "stream",
     "text": [
      "\r",
      "🔍 Analyse des URLs:  57%|██████████████████████████████████████████▏                               | 49/86 [20:57:43<09:11, 14.90s/it]"
     ]
    },
    {
     "name": "stdout",
     "output_type": "stream",
     "text": [
      "🟡 Analyse en cours : https://www.ukri.org/opportunity/collaborate-with-researchers-in-norway/\n"
     ]
    },
    {
     "name": "stderr",
     "output_type": "stream",
     "text": [
      "\r",
      "🔍 Analyse des URLs:  58%|███████████████████████████████████████████                               | 50/86 [20:57:54<08:17, 13.82s/it]"
     ]
    },
    {
     "name": "stdout",
     "output_type": "stream",
     "text": [
      "🟡 Analyse en cours : https://www.ukri.org/opportunity/collaborative-doctoral-landscape-award-in-the-arts-and-humanities/\n"
     ]
    },
    {
     "name": "stderr",
     "output_type": "stream",
     "text": [
      "\r",
      "🔍 Analyse des URLs:  59%|███████████████████████████████████████████▉                              | 51/86 [20:58:06<07:40, 13.17s/it]"
     ]
    },
    {
     "name": "stdout",
     "output_type": "stream",
     "text": [
      "🟡 Analyse en cours : https://www.ukri.org/opportunity/patt-travel-grants-for-competitively-awarded-observation-time-2025/\n"
     ]
    },
    {
     "name": "stderr",
     "output_type": "stream",
     "text": [
      "\r",
      "🔍 Analyse des URLs:  60%|████████████████████████████████████████████▋                             | 52/86 [20:58:17<07:06, 12.54s/it]"
     ]
    },
    {
     "name": "stdout",
     "output_type": "stream",
     "text": [
      "🟡 Analyse en cours : https://www.ukri.org/opportunity/statements-of-need-in-research-infrastructure/\n"
     ]
    },
    {
     "name": "stderr",
     "output_type": "stream",
     "text": [
      "\r",
      "🔍 Analyse des URLs:  62%|█████████████████████████████████████████████▌                            | 53/86 [20:58:28<06:40, 12.15s/it]"
     ]
    },
    {
     "name": "stdout",
     "output_type": "stream",
     "text": [
      "🟡 Analyse en cours : https://www.ukri.org/opportunity/epsrc-programme-grant-full-proposal/\n"
     ]
    },
    {
     "name": "stderr",
     "output_type": "stream",
     "text": [
      "\r",
      "🔍 Analyse des URLs:  63%|██████████████████████████████████████████████▍                           | 54/86 [20:58:39<06:18, 11.83s/it]"
     ]
    },
    {
     "name": "stdout",
     "output_type": "stream",
     "text": [
      "🟡 Analyse en cours : https://www.ukri.org/opportunity/mathematical-sciences-postdoctoral-fellowship/\n"
     ]
    },
    {
     "name": "stderr",
     "output_type": "stream",
     "text": [
      "\r",
      "🔍 Analyse des URLs:  64%|███████████████████████████████████████████████▎                          | 55/86 [20:58:50<05:56, 11.49s/it]"
     ]
    },
    {
     "name": "stdout",
     "output_type": "stream",
     "text": [
      "🟡 Analyse en cours : https://www.ukri.org/opportunity/opening-up-the-environment-2026/\n"
     ]
    },
    {
     "name": "stderr",
     "output_type": "stream",
     "text": [
      "\r",
      "🔍 Analyse des URLs:  65%|████████████████████████████████████████████████▏                         | 56/86 [20:59:01<05:40, 11.36s/it]"
     ]
    },
    {
     "name": "stdout",
     "output_type": "stream",
     "text": [
      "🟡 Analyse en cours : https://www.ukri.org/opportunity/small-molecule-high-throughput-screen-using-astrazeneca-facilities/\n"
     ]
    },
    {
     "name": "stderr",
     "output_type": "stream",
     "text": [
      "\r",
      "🔍 Analyse des URLs:  66%|█████████████████████████████████████████████████                         | 57/86 [20:59:12<05:26, 11.25s/it]"
     ]
    },
    {
     "name": "stdout",
     "output_type": "stream",
     "text": [
      "🟡 Analyse en cours : https://www.ukri.org/opportunity/ahrc-responsive-mode-curiosity-award/\n"
     ]
    },
    {
     "name": "stderr",
     "output_type": "stream",
     "text": [
      "\r",
      "🔍 Analyse des URLs:  67%|█████████████████████████████████████████████████▉                        | 58/86 [20:59:23<05:15, 11.27s/it]"
     ]
    },
    {
     "name": "stdout",
     "output_type": "stream",
     "text": [
      "🟡 Analyse en cours : https://www.ukri.org/opportunity/ahrc-responsive-mode-catalyst-awards/\n"
     ]
    },
    {
     "name": "stderr",
     "output_type": "stream",
     "text": [
      "\r",
      "🔍 Analyse des URLs:  69%|██████████████████████████████████████████████████▊                       | 59/86 [20:59:34<05:01, 11.15s/it]"
     ]
    },
    {
     "name": "stdout",
     "output_type": "stream",
     "text": [
      "🟡 Analyse en cours : https://www.ukri.org/opportunity/mathematical-sciences-open-and-open-plus-fellowship/\n"
     ]
    },
    {
     "name": "stderr",
     "output_type": "stream",
     "text": [
      "\r",
      "🔍 Analyse des URLs:  70%|███████████████████████████████████████████████████▋                      | 60/86 [20:59:45<04:48, 11.11s/it]"
     ]
    },
    {
     "name": "stdout",
     "output_type": "stream",
     "text": [
      "🟡 Analyse en cours : https://www.ukri.org/opportunity/ahrc-responsive-mode-ukri-nsf-sbe-lead-agency/\n"
     ]
    },
    {
     "name": "stderr",
     "output_type": "stream",
     "text": [
      "\r",
      "🔍 Analyse des URLs:  71%|████████████████████████████████████████████████████▍                     | 61/86 [20:59:56<04:34, 10.99s/it]"
     ]
    },
    {
     "name": "stdout",
     "output_type": "stream",
     "text": [
      "🟡 Analyse en cours : https://www.ukri.org/opportunity/ahrc-responsive-mode-working-with-brazilian-researchers/\n"
     ]
    },
    {
     "name": "stderr",
     "output_type": "stream",
     "text": [
      "\r",
      "🔍 Analyse des URLs:  72%|█████████████████████████████████████████████████████▎                    | 62/86 [21:00:07<04:23, 10.96s/it]"
     ]
    },
    {
     "name": "stdout",
     "output_type": "stream",
     "text": [
      "🟡 Analyse en cours : https://www.ukri.org/opportunity/ahrc-responsive-mode-collaborate-with-researchers-in-luxembourg/\n"
     ]
    },
    {
     "name": "stderr",
     "output_type": "stream",
     "text": [
      "\r",
      "🔍 Analyse des URLs:  73%|██████████████████████████████████████████████████████▏                   | 63/86 [21:00:18<04:11, 10.94s/it]"
     ]
    },
    {
     "name": "stdout",
     "output_type": "stream",
     "text": [
      "🟡 Analyse en cours : https://www.ukri.org/opportunity/ahrc-responsive-mode-standard-research-grant/\n"
     ]
    },
    {
     "name": "stderr",
     "output_type": "stream",
     "text": [
      "\r",
      "🔍 Analyse des URLs:  74%|███████████████████████████████████████████████████████                   | 64/86 [21:00:29<04:01, 10.96s/it]"
     ]
    },
    {
     "name": "stdout",
     "output_type": "stream",
     "text": [
      "🟡 Analyse en cours : https://www.ukri.org/opportunity/epsrc-programme-grant-outline-stage/\n"
     ]
    },
    {
     "name": "stderr",
     "output_type": "stream",
     "text": [
      "\r",
      "🔍 Analyse des URLs:  76%|███████████████████████████████████████████████████████▉                  | 65/86 [21:00:40<03:51, 11.04s/it]"
     ]
    },
    {
     "name": "stdout",
     "output_type": "stream",
     "text": [
      "🟡 Analyse en cours : https://www.ukri.org/opportunity/bbsrc-international-travel-award-scheme/\n"
     ]
    },
    {
     "name": "stderr",
     "output_type": "stream",
     "text": [
      "\r",
      "🔍 Analyse des URLs:  77%|████████████████████████████████████████████████████████▊                 | 66/86 [21:00:51<03:42, 11.11s/it]"
     ]
    },
    {
     "name": "stdout",
     "output_type": "stream",
     "text": [
      "🟡 Analyse en cours : https://www.ukri.org/opportunity/projects-peer-review-panel-pprp-2025/\n"
     ]
    },
    {
     "name": "stderr",
     "output_type": "stream",
     "text": [
      "\r",
      "🔍 Analyse des URLs:  78%|█████████████████████████████████████████████████████████▋                | 67/86 [21:01:02<03:31, 11.12s/it]"
     ]
    },
    {
     "name": "stdout",
     "output_type": "stream",
     "text": [
      "🟡 Analyse en cours : https://www.ukri.org/opportunity/nerc-urgency-funding-open/\n"
     ]
    },
    {
     "name": "stderr",
     "output_type": "stream",
     "text": [
      "\r",
      "🔍 Analyse des URLs:  79%|██████████████████████████████████████████████████████████▌               | 68/86 [21:01:14<03:21, 11.17s/it]"
     ]
    },
    {
     "name": "stdout",
     "output_type": "stream",
     "text": [
      "🟡 Analyse en cours : https://www.ukri.org/opportunity/strategic-infrastructure-outlines/\n"
     ]
    },
    {
     "name": "stderr",
     "output_type": "stream",
     "text": [
      "\r",
      "🔍 Analyse des URLs:  80%|███████████████████████████████████████████████████████████▎              | 69/86 [21:01:25<03:11, 11.27s/it]"
     ]
    },
    {
     "name": "stdout",
     "output_type": "stream",
     "text": [
      "🟡 Analyse en cours : https://www.ukri.org/opportunity/epsrc-network-grant-nov-2023-responsive-mode/\n"
     ]
    },
    {
     "name": "stderr",
     "output_type": "stream",
     "text": [
      "\r",
      "🔍 Analyse des URLs:  81%|████████████████████████████████████████████████████████████▏             | 70/86 [21:01:36<02:58, 11.19s/it]"
     ]
    },
    {
     "name": "stdout",
     "output_type": "stream",
     "text": [
      "🟡 Analyse en cours : https://www.ukri.org/opportunity/epsrc-working-with-overseas-scientists-nov-2023-responsive-mode/\n"
     ]
    },
    {
     "name": "stderr",
     "output_type": "stream",
     "text": [
      "\r",
      "🔍 Analyse des URLs:  83%|█████████████████████████████████████████████████████████████             | 71/86 [21:01:47<02:46, 11.08s/it]"
     ]
    },
    {
     "name": "stdout",
     "output_type": "stream",
     "text": [
      "🟡 Analyse en cours : https://www.ukri.org/opportunity/epsrc-new-investigator-award-nov-2023-responsive-mode/\n"
     ]
    },
    {
     "name": "stderr",
     "output_type": "stream",
     "text": [
      "\r",
      "🔍 Analyse des URLs:  84%|█████████████████████████████████████████████████████████████▉            | 72/86 [21:01:58<02:34, 11.02s/it]"
     ]
    },
    {
     "name": "stdout",
     "output_type": "stream",
     "text": [
      "🟡 Analyse en cours : https://www.ukri.org/opportunity/epsrc-discipline-hopping-in-ict-nov-2023-responsive-mode/\n"
     ]
    },
    {
     "name": "stderr",
     "output_type": "stream",
     "text": [
      "\r",
      "🔍 Analyse des URLs:  85%|██████████████████████████████████████████████████████████████▊           | 73/86 [21:02:09<02:23, 11.02s/it]"
     ]
    },
    {
     "name": "stdout",
     "output_type": "stream",
     "text": [
      "🟡 Analyse en cours : https://www.ukri.org/opportunity/epsrc-overseas-travel-grant-nov-2023-responsive-mode/\n"
     ]
    },
    {
     "name": "stderr",
     "output_type": "stream",
     "text": [
      "\r",
      "🔍 Analyse des URLs:  86%|███████████████████████████████████████████████████████████████▋          | 74/86 [21:02:20<02:12, 11.07s/it]"
     ]
    },
    {
     "name": "stdout",
     "output_type": "stream",
     "text": [
      "🟡 Analyse en cours : https://www.ukri.org/opportunity/epsrc-standard-research-grant-nov-2023-responsive-mode/\n"
     ]
    },
    {
     "name": "stderr",
     "output_type": "stream",
     "text": [
      "\r",
      "🔍 Analyse des URLs:  87%|████████████████████████████████████████████████████████████████▌         | 75/86 [21:02:31<02:01, 11.05s/it]"
     ]
    },
    {
     "name": "stdout",
     "output_type": "stream",
     "text": [
      "🟡 Analyse en cours : https://www.ukri.org/opportunity/esrc-responsive-mode-research-grants-round-two/\n"
     ]
    },
    {
     "name": "stderr",
     "output_type": "stream",
     "text": [
      "\r",
      "🔍 Analyse des URLs:  88%|█████████████████████████████████████████████████████████████████▍        | 76/86 [21:02:43<01:51, 11.14s/it]"
     ]
    },
    {
     "name": "stdout",
     "output_type": "stream",
     "text": [
      "🟡 Analyse en cours : https://www.ukri.org/opportunity/esrc-responsive-mode-new-investigator-grants-round-two/\n"
     ]
    },
    {
     "name": "stderr",
     "output_type": "stream",
     "text": [
      "\r",
      "🔍 Analyse des URLs:  90%|██████████████████████████████████████████████████████████████████▎       | 77/86 [21:02:54<01:39, 11.09s/it]"
     ]
    },
    {
     "name": "stdout",
     "output_type": "stream",
     "text": [
      "🟡 Analyse en cours : https://www.ukri.org/opportunity/esrc-responsive-mode-working-with-luxembourg-researchers-round-two/\n"
     ]
    },
    {
     "name": "stderr",
     "output_type": "stream",
     "text": [
      "\r",
      "🔍 Analyse des URLs:  91%|███████████████████████████████████████████████████████████████████       | 78/86 [21:03:05<01:28, 11.08s/it]"
     ]
    },
    {
     "name": "stdout",
     "output_type": "stream",
     "text": [
      "🟡 Analyse en cours : https://www.ukri.org/opportunity/esrc-responsive-mode-secondary-data-analysis-round-two/\n"
     ]
    },
    {
     "name": "stderr",
     "output_type": "stream",
     "text": [
      "\r",
      "🔍 Analyse des URLs:  92%|███████████████████████████████████████████████████████████████████▉      | 79/86 [21:03:15<01:17, 11.03s/it]"
     ]
    },
    {
     "name": "stdout",
     "output_type": "stream",
     "text": [
      "🟡 Analyse en cours : https://www.ukri.org/opportunity/esrc-responsive-mode-ukri-sbe-lead-agency-opportunity-round-two/\n"
     ]
    },
    {
     "name": "stderr",
     "output_type": "stream",
     "text": [
      "\r",
      "🔍 Analyse des URLs:  93%|████████████████████████████████████████████████████████████████████▊     | 80/86 [21:03:27<01:06, 11.10s/it]"
     ]
    },
    {
     "name": "stdout",
     "output_type": "stream",
     "text": [
      "🟡 Analyse en cours : https://www.ukri.org/opportunity/esrc-responsive-mode-working-with-brazilian-researchers-round-two/\n"
     ]
    },
    {
     "name": "stderr",
     "output_type": "stream",
     "text": [
      "\r",
      "🔍 Analyse des URLs:  94%|█████████████████████████████████████████████████████████████████████▋    | 81/86 [21:03:38<00:55, 11.09s/it]"
     ]
    },
    {
     "name": "stdout",
     "output_type": "stream",
     "text": [
      "🟡 Analyse en cours : https://www.ukri.org/opportunity/collaborate-with-researchers-in-luxembourg/\n"
     ]
    },
    {
     "name": "stderr",
     "output_type": "stream",
     "text": [
      "\r",
      "🔍 Analyse des URLs:  95%|██████████████████████████████████████████████████████████████████████▌   | 82/86 [21:03:49<00:44, 11.09s/it]"
     ]
    },
    {
     "name": "stdout",
     "output_type": "stream",
     "text": [
      "🟡 Analyse en cours : https://www.ukri.org/opportunity/work-with-brazilian-researchers-nerc-fapesp-lead-agency/\n"
     ]
    },
    {
     "name": "stderr",
     "output_type": "stream",
     "text": [
      "\r",
      "🔍 Analyse des URLs:  97%|███████████████████████████████████████████████████████████████████████▍  | 83/86 [21:04:00<00:33, 11.06s/it]"
     ]
    },
    {
     "name": "stdout",
     "output_type": "stream",
     "text": [
      "🟡 Analyse en cours : https://www.ukri.org/opportunity/collaborate-with-researchers-in-brazil/\n"
     ]
    },
    {
     "name": "stderr",
     "output_type": "stream",
     "text": [
      "\r",
      "🔍 Analyse des URLs:  98%|████████████████████████████████████████████████████████████████████████▎ | 84/86 [21:04:11<00:21, 10.99s/it]"
     ]
    },
    {
     "name": "stdout",
     "output_type": "stream",
     "text": [
      "🟡 Analyse en cours : https://www.ukri.org/opportunity/ukri-sbe-lead-agency-opportunity/\n"
     ]
    },
    {
     "name": "stderr",
     "output_type": "stream",
     "text": [
      "\r",
      "🔍 Analyse des URLs:  99%|█████████████████████████████████████████████████████████████████████████▏| 85/86 [21:04:22<00:10, 10.99s/it]"
     ]
    },
    {
     "name": "stdout",
     "output_type": "stream",
     "text": [
      "🟡 Analyse en cours : https://www.ukri.org/opportunity/research-england-development-fund/\n"
     ]
    },
    {
     "name": "stderr",
     "output_type": "stream",
     "text": [
      "\r",
      "🔍 Analyse des URLs: 100%|██████████████████████████████████████████████████████████████████████████| 86/86 [21:04:33<00:00, 11.12s/it]"
     ]
    },
    {
     "name": "stderr",
     "output_type": "stream",
     "text": [
      "\r",
      "🔍 Analyse des URLs: 100%|█████████████████████████████████████████████████████████████████████████| 86/86 [21:04:33<00:00, 882.25s/it]"
     ]
    },
    {
     "name": "stderr",
     "output_type": "stream",
     "text": [
      "\n"
     ]
    },
    {
     "name": "stdout",
     "output_type": "stream",
     "text": [
      "\n",
      "✅ Résultats sauvegardés dans 'df_yes_avec_pertinence_et_resume_uk.csv'.\n"
     ]
    }
   ],
   "source": [
    "from selenium import webdriver\n",
    "from selenium.webdriver.chrome.options import Options\n",
    "from selenium.webdriver.common.by import By\n",
    "import time\n",
    "import pandas as pd\n",
    "from groq import Groq\n",
    "import re\n",
    "from tqdm import tqdm\n",
    "\n",
    "# === CONFIGURATION GROQ ===\n",
    "client = Groq(api_key=\"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\")\n",
    "MODEL_NAME = \"llama3-70b-8192\"\n",
    "\n",
    "# === CONFIGURATION SELENIUM HEADLESS ===\n",
    "options = Options()\n",
    "options.add_argument(\"--headless\")\n",
    "options.add_argument(\"--disable-gpu\")\n",
    "options.add_argument(\"--window-size=1920,1080\")\n",
    "driver = webdriver.Chrome(options=options)\n",
    "\n",
    "# === Nettoyage & Limitation texte ===\n",
    "def clean_and_limit_text(text, max_words=800):\n",
    "    text = re.sub(r'\\s+', ' ', text).strip()\n",
    "    words = text.split()\n",
    "    if len(words) > max_words:\n",
    "        return ' '.join(words[:max_words]) + \" [...] (texte tronqué)\"\n",
    "    return text\n",
    "\n",
    "# === Extraction texte depuis une URL ===\n",
    "def extract_text_from_URL(URL):\n",
    "    try:\n",
    "        driver.get(URL)\n",
    "        time.sleep(5)\n",
    "\n",
    "        for _ in range(10):\n",
    "            driver.execute_script(\"window.scrollBy(0, 500);\")\n",
    "            time.sleep(0.3)\n",
    "        time.sleep(3)\n",
    "\n",
    "        js_desc = \"\"\"\n",
    "        let desc = document.querySelector('div.showMore--three-lines');\n",
    "        return desc ? desc.innerText.trim() : '';\n",
    "        \"\"\"\n",
    "        description_text = driver.execute_script(js_desc)\n",
    "\n",
    "        try:\n",
    "            open_all_btn = driver.find_element(By.CLASS_NAME, \"govuk-accordion__open-all\")\n",
    "            open_all_btn.click()\n",
    "            time.sleep(1)\n",
    "        except:\n",
    "            pass\n",
    "\n",
    "        js_accordion = \"\"\"\n",
    "        let acc = document.querySelector('div.govuk-accordion.ukri-accordion');\n",
    "        return acc ? acc.innerText.trim() : '';\n",
    "        \"\"\"\n",
    "        accordion_text = driver.execute_script(js_accordion)\n",
    "\n",
    "        final_text = f\"{description_text}\\n\\n---\\n\\n{accordion_text}\".strip()\n",
    "        return final_text if final_text.strip() else \"Pas de contenu détecté.\"\n",
    "    \n",
    "    except Exception as e:\n",
    "        return f\"Erreur Selenium: {e}\"\n",
    "\n",
    "# === Construction du prompt pour Groq ===\n",
    "def build_prompt(projects, site_text):\n",
    "    projects_text = \"\\n\".join([\n",
    "        f\"{i+1}. {p['Project Name']} : {p['Description']} (axe {p['Axes / Thematic Areas']})\"\n",
    "        for i, p in enumerate(projects)\n",
    "    ])\n",
    "    return f\"\"\"\n",
    "Tu es un expert en analyse de projets d'entreprise.\n",
    "\n",
    "Voici une liste de projets que cette entreprise a déjà réalisés avec leurs descriptions et axes principaux :\n",
    "\n",
    "{projects_text}\n",
    "\n",
    "Voici maintenant le contenu d'un appel à projets extrait d'une page du portail européen :\n",
    "\n",
    "{site_text}\n",
    "\n",
    "Peux-tu me dire si cette opportunité est pertinente par rapport aux projets que l'entreprise a déjà réalisés ?\n",
    "Merci de répondre clairement :\n",
    "- Pertinence : Oui / Non\n",
    "- Projets similaires détectés : [liste]\n",
    "- Résumé rapide expliquant ta réponse.\n",
    "\"\"\"\n",
    "\n",
    "# === Requête Groq ===\n",
    "def query_groq(prompt, model=MODEL_NAME, max_completion_tokens=3000, temperature=1.0, stream=False, delay_between_requests=10):\n",
    "    try:\n",
    "        response = client.chat.completions.create(\n",
    "            model=model,\n",
    "            messages=[\n",
    "                {\"role\": \"system\", \"content\": \"Tu es un expert en comparaison de projets R&D.\"},\n",
    "                {\"role\": \"user\", \"content\": prompt}\n",
    "            ],\n",
    "            temperature=temperature,\n",
    "            max_completion_tokens=max_completion_tokens,\n",
    "            top_p=1,\n",
    "            stream=stream\n",
    "        )\n",
    "        if stream:\n",
    "            result = \"\"\n",
    "            for chunk in response:\n",
    "                delta = chunk.choices[0].delta.content\n",
    "                if delta:\n",
    "                    result += delta\n",
    "            time.sleep(delay_between_requests)\n",
    "            return result.strip()\n",
    "        else:\n",
    "            time.sleep(delay_between_requests)\n",
    "            return response.choices[0].message.content.strip()\n",
    "    except Exception as e:\n",
    "        return f\"Erreur Groq: {e}\"\n",
    "\n",
    "# === Parsing du résultat Groq ===\n",
    "def parse_result(text):\n",
    "    pertinence = \"Non\"\n",
    "    resume = \"\"\n",
    "\n",
    "    try:\n",
    "        match = re.search(r\"(?i)pertinence\\s*[:\\-–]\\s*(oui|non)\", text)\n",
    "        if match:\n",
    "            pertinence = match.group(1).capitalize()\n",
    "\n",
    "        resume_match = re.search(r\"(?i)résumé.*?:\\s*(.+)\", text)\n",
    "        if resume_match:\n",
    "            resume = resume_match.group(1).strip()\n",
    "        else:\n",
    "            resume = \"\\n\".join(text.splitlines()[1:4]).strip()\n",
    "    except:\n",
    "        pass\n",
    "\n",
    "    return pertinence, resume\n",
    "\n",
    "# === Analyse d'une URL ===\n",
    "def analyze_URL(URL, projects_list):\n",
    "    print(f\"🟡 Analyse en cours : {URL}\")\n",
    "    try:\n",
    "        site_text_raw = extract_text_from_URL(URL)\n",
    "        site_text = clean_and_limit_text(site_text_raw, max_words=800)\n",
    "        projects_list_sample = projects_list[:3]  # 3 projets max\n",
    "\n",
    "        prompt = build_prompt(projects_list_sample, site_text)\n",
    "        result_text = query_groq(prompt)\n",
    "        pertinence, resume = parse_result(result_text)\n",
    "        \n",
    "        return {\n",
    "            \"URL\": URL,\n",
    "            \"Pertinence LLM\": pertinence,\n",
    "            \"Résumé LLM\": resume,\n",
    "            \"Réponse brute\": result_text\n",
    "        }\n",
    "    except Exception as e:\n",
    "        return {\n",
    "            \"URL\": URL,\n",
    "            \"Pertinence LLM\": \"Erreur\",\n",
    "            \"Résumé LLM\": f\"Erreur pendant l'analyse : {e}\",\n",
    "            \"Réponse brute\": str(e)\n",
    "        }\n",
    "\n",
    "# === MAIN EXECUTION ===\n",
    "if __name__ == \"__main__\":\n",
    "    try:\n",
    "        df_pertinence_uk = pd.read_excel(\"projets_pertinents_keywords_InnUK_from_all_description.xlsx\")\n",
    "        projects_list = odf_df[['Project Name', 'Description', 'Axes / Thematic Areas']].dropna().to_dict(orient='records')\n",
    "        URL_list = df_pertinence_uk['URL'].dropna().unique()\n",
    "\n",
    "        results = []\n",
    "        for URL in tqdm(URL_list, desc=\"🔍 Analyse des URLs\"):\n",
    "            results.append(analyze_URL(URL, projects_list))\n",
    "\n",
    "        results_df = pd.DataFrame(results)\n",
    "        df_final_llm_uk = df_pertinence_uk.merge(results_df, on=\"URL\", how=\"left\")\n",
    "\n",
    "        df_final_llm_uk.to_excel(\"df_yes_avec_pertinence_et_resume_uk.xlsx\", index=False)\n",
    "        print(\"\\n✅ Résultats sauvegardés dans 'df_yes_avec_pertinence_et_resume_uk.csv'.\")\n",
    "        \n",
    "    finally:\n",
    "        driver.quit()\n"
   ]
  },
  {
   "cell_type": "code",
   "execution_count": 11,
   "id": "fc8947b2",
   "metadata": {
    "execution": {
     "iopub.execute_input": "2025-07-17T13:59:42.758875Z",
     "iopub.status.busy": "2025-07-17T13:59:42.758875Z",
     "iopub.status.idle": "2025-07-17T13:59:42.773406Z",
     "shell.execute_reply": "2025-07-17T13:59:42.773406Z"
    }
   },
   "outputs": [
    {
     "data": {
      "text/html": [
       "<div>\n",
       "<style scoped>\n",
       "    .dataframe tbody tr th:only-of-type {\n",
       "        vertical-align: middle;\n",
       "    }\n",
       "\n",
       "    .dataframe tbody tr th {\n",
       "        vertical-align: top;\n",
       "    }\n",
       "\n",
       "    .dataframe thead th {\n",
       "        text-align: right;\n",
       "    }\n",
       "</style>\n",
       "<table border=\"1\" class=\"dataframe\">\n",
       "  <thead>\n",
       "    <tr style=\"text-align: right;\">\n",
       "      <th></th>\n",
       "      <th>Title</th>\n",
       "      <th>URL</th>\n",
       "      <th>Description</th>\n",
       "      <th>Start_date</th>\n",
       "      <th>Deadline</th>\n",
       "      <th>Pertinence</th>\n",
       "      <th>Matching Word(s)</th>\n",
       "      <th>Pertinence LLM</th>\n",
       "      <th>Résumé LLM</th>\n",
       "      <th>Réponse brute</th>\n",
       "    </tr>\n",
       "  </thead>\n",
       "  <tbody>\n",
       "    <tr>\n",
       "      <th>0</th>\n",
       "      <td>Projects Peer Review Panel (PPRP) 2026</td>\n",
       "      <td>https://www.ukri.org/opportunity/projects-peer-review-panel-pprp-2026/</td>\n",
       "      <td>Apply for funding to develop a large or complex scientific project. You must have already discussed your ideas with one of our programme managers and have been invited to submit a full proposal.</td>\n",
       "      <td>8 September 2025 9:00am UK time</td>\n",
       "      <td>27 August 2026 4:00pm UK time</td>\n",
       "      <td>Yes</td>\n",
       "      <td>project management, due diligence, artificial intelligence</td>\n",
       "      <td>Oui</td>\n",
       "      <td>L'appel à projets semble concerner le soutien à l'entrepreneuriat, au développement économique et à l'innovation, qui sont des domaines déjà exploités par l'entreprise à travers ses projets précédents tels que FACTORIAT (incubation et accélération de startups), National Entrepreneurship Program (développement d'un écosystème entrepreneurial national) et Arab Bank Strategy (développement de la stratégie de financement pour les projets de l'économie numérique africaine). L'expérience de l'entreprise dans ces domaines la rend pertinente pour répondre à cet appel à projets.</td>\n",
       "      <td>Pertinence : Oui\\n\\nProjets similaires détectés : FACTORIAT, National Entrepreneurship Program, Arab Bank Strategy\\n\\nRésumé rapide : L'appel à projets semble concerner le soutien à l'entrepreneuriat, au développement économique et à l'innovation, qui sont des domaines déjà exploités par l'entreprise à travers ses projets précédents tels que FACTORIAT (incubation et accélération de startups), National Entrepreneurship Program (développement d'un écosystème entrepreneurial national) et Arab Bank Strategy (développement de la stratégie de financement pour les projets de l'économie numérique africaine). L'expérience de l'entreprise dans ces domaines la rend pertinente pour répondre à cet appel à projets.</td>\n",
       "    </tr>\n",
       "    <tr>\n",
       "      <th>1</th>\n",
       "      <td>BBSRC Brazil pump-priming award (FAPPA)</td>\n",
       "      <td>https://www.ukri.org/opportunity/bbsrc-brazil-pump-priming-award/</td>\n",
       "      <td>This award is for BBSRC-funded research groups to pump-prime interactions with FAPESP scientists in Brazil. Applications must be made by a project lead who is currently in receipt of BBSRC research funding.</td>\n",
       "      <td>15 July 2025 9:00am UK time</td>\n",
       "      <td>Date de clôture non spécifiée</td>\n",
       "      <td>Yes</td>\n",
       "      <td>due diligence, biotechnology, artificial intelligence</td>\n",
       "      <td>Non</td>\n",
       "      <td>**</td>\n",
       "      <td>Bonjour !\\n\\nAprès analyse de l'appel à projet et des projets de l'entreprise, voici ma réponse :\\n\\n**Pertinence : Non**\\n\\n**Projets similaires détectés : Aucun**\\n\\n**Résumé rapide :**\\nL'appel à projet concerne spécifiquement la coopération entre des groupes de recherche britanniques et brésiliens dans le domaine des biotechnologies et des sciences biologiques. Les projets de l'entreprise sont principalement axés sur l'innovation, l'incubation, l'accélération, le développement stratégique et la formation d'écosystèmes d'entreprises, mais ne ciblent pas spécifiquement la recherche scientifique ou les biotechnologies. Il n'y a donc pas de similarité directe entre les projets de l'entreprise et cet appel à projet.\\n\\nSi l'entreprise cherche à diversifier ses activités ou à explorer de nouveaux domaines, elle pourrait peut-être considérer cet appel à projet. Cependant, il faudrait définir comment elle pourrait adapter ses compétences et son expertise pour répondre à cet appel à projet.</td>\n",
       "    </tr>\n",
       "    <tr>\n",
       "      <th>2</th>\n",
       "      <td>Smart Data Research UK Fellowships</td>\n",
       "      <td>https://www.ukri.org/opportunity/smart-data-research-uk-fellowships/</td>\n",
       "      <td>Apply for a fellowship to undertake innovative and impact-focused research using smart data. Projects should address a significant real-world challenge which is relevant to the UK.</td>\n",
       "      <td>15 July 2025 9:00am UK time</td>\n",
       "      <td>23 September 2025 4:00pm UK time</td>\n",
       "      <td>Yes</td>\n",
       "      <td>capacity building, artificial intelligence, economic impact</td>\n",
       "      <td>Non</td>\n",
       "      <td>L'appel à projets concerne des fellowships pour la recherche sur les données intelligentes pour résoudre des défis du monde réel, ce qui est très différent des projets précédents de l'entreprise, qui portaient sur l'incubation, l'accélération, la stratégie et le développement économique. Les thèmes de la recherche, tels que la productivité, la santé et la société numérique, ne correspondent pas non plus aux axes de l'entreprise.</td>\n",
       "      <td>Pertinence : Non\\n\\nProjets similaires détectés : Aucun\\n\\nRésumé rapide : L'appel à projets concerne des fellowships pour la recherche sur les données intelligentes pour résoudre des défis du monde réel, ce qui est très différent des projets précédents de l'entreprise, qui portaient sur l'incubation, l'accélération, la stratégie et le développement économique. Les thèmes de la recherche, tels que la productivité, la santé et la société numérique, ne correspondent pas non plus aux axes de l'entreprise.</td>\n",
       "    </tr>\n",
       "    <tr>\n",
       "      <th>3</th>\n",
       "      <td>Institutional diversity fund (invite only)</td>\n",
       "      <td>https://www.ukri.org/opportunity/institutional-diversity-fund-invite-only/</td>\n",
       "      <td>The purpose of this opportunity is to provide strategic research infrastructure base funding, supporting independent research organisations to support the diverse social science ecosystem in the UK.</td>\n",
       "      <td>21 July 2025 9:00am UK time</td>\n",
       "      <td>16 September 2025 4:00pm UK time</td>\n",
       "      <td>Yes</td>\n",
       "      <td>artificial intelligence</td>\n",
       "      <td>Non</td>\n",
       "      <td>L'appel à projet ESRC ne semble pas aligné avec les projets précédents de l'entreprise, qui se concentrent sur l'incubation, l'accélération, le développement stratégique et la création d'écosystèmes pour les startups et les entreprises, ainsi que sur le financement de projets dans l'économie numérique. L'appel à projet ESRC est quant à lui focalisé sur le soutien à la recherche et à l'infrastructure dans le domaine des sciences sociales, avec une invitation à des organismes de recherche spécifiques pour soutenir leurs activités de recherche et de données. Les domaines d'intervention et les objectifs sont donc très différents.</td>\n",
       "      <td>Pertinence : Non\\n\\nProjets similaires détectés : Aucun\\n\\nRésumé rapide : L'appel à projet ESRC ne semble pas aligné avec les projets précédents de l'entreprise, qui se concentrent sur l'incubation, l'accélération, le développement stratégique et la création d'écosystèmes pour les startups et les entreprises, ainsi que sur le financement de projets dans l'économie numérique. L'appel à projet ESRC est quant à lui focalisé sur le soutien à la recherche et à l'infrastructure dans le domaine des sciences sociales, avec une invitation à des organismes de recherche spécifiques pour soutenir leurs activités de recherche et de données. Les domaines d'intervention et les objectifs sont donc très différents.</td>\n",
       "    </tr>\n",
       "    <tr>\n",
       "      <th>4</th>\n",
       "      <td>Gap fund for early-stage development of new healthcare interventions</td>\n",
       "      <td>https://www.ukri.org/opportunity/funding-for-early-stage-development-of-new-healthcare-interventions/</td>\n",
       "      <td>Apply to the Developmental Pathway Gap Fund to address a single-step evidence gap and de-risk the development of a new medicine, medical device, diagnostic test or other medical intervention.</td>\n",
       "      <td>10 July 2025 9:00am UK time</td>\n",
       "      <td>12 November 2025 4:00pm UK time</td>\n",
       "      <td>Yes</td>\n",
       "      <td>due diligence, development strategy, technology transfer, intellectual property, service delivery, artificial intelligence, applied research</td>\n",
       "      <td>Non</td>\n",
       "      <td>L'appel à projets est principalement orienté vers la recherche médicale, le développement de médicaments et de diagnostics, ce qui ne correspond pas aux Axes principaux des projets déjà réalisés par l'entreprise, qui sont principalement liés à l'incubation, à la stratégie, au développement économique et à l'écosystème des startups. Il n'y a pas de similarité évidente entre cet appel à projets et les projets déjà réalisés par l'entreprise.</td>\n",
       "      <td>Pertinence : Non\\n\\nProjets similaires détectés : Aucun\\n\\nRésumé rapide : L'appel à projets est principalement orienté vers la recherche médicale, le développement de médicaments et de diagnostics, ce qui ne correspond pas aux Axes principaux des projets déjà réalisés par l'entreprise, qui sont principalement liés à l'incubation, à la stratégie, au développement économique et à l'écosystème des startups. Il n'y a pas de similarité évidente entre cet appel à projets et les projets déjà réalisés par l'entreprise.</td>\n",
       "    </tr>\n",
       "    <tr>\n",
       "      <th>...</th>\n",
       "      <td>...</td>\n",
       "      <td>...</td>\n",
       "      <td>...</td>\n",
       "      <td>...</td>\n",
       "      <td>...</td>\n",
       "      <td>...</td>\n",
       "      <td>...</td>\n",
       "      <td>...</td>\n",
       "      <td>...</td>\n",
       "      <td>...</td>\n",
       "    </tr>\n",
       "    <tr>\n",
       "      <th>81</th>\n",
       "      <td>Collaborate with researchers in Luxembourg</td>\n",
       "      <td>https://www.ukri.org/opportunity/collaborate-with-researchers-in-luxembourg/</td>\n",
       "      <td>UKRI and FNR have signed a memorandum of understanding to enable and support applications between researchers in the UK and Luxembourg. UKRI will fund the UK component and FNR will fund the Luxembourg component of the application.</td>\n",
       "      <td>Date d'ouverture non spécifiée</td>\n",
       "      <td>Date de clôture non spécifiée</td>\n",
       "      <td>Yes</td>\n",
       "      <td>intellectual property, research results</td>\n",
       "      <td>Non</td>\n",
       "      <td>L'appel à projet présenté est erreur technique liée à Selenium et ne contient pas de description de projet ou d'objectif spécifique qui permettrait de le comparer aux projets déjà réalisés par l'entreprise. Les projets de l'entreprise sont axés sur l'innovation, l'entrepreneuriat, la Deeptech, le développement économique, etc. Il n'y a aucune correspondance avec le contenu technique présenté dans l'appel à projet.</td>\n",
       "      <td>Pertinence : Non\\n\\nProjets similaires détectés : Aucun\\n\\nRésumé rapide : L'appel à projet présenté est erreur technique liée à Selenium et ne contient pas de description de projet ou d'objectif spécifique qui permettrait de le comparer aux projets déjà réalisés par l'entreprise. Les projets de l'entreprise sont axés sur l'innovation, l'entrepreneuriat, la Deeptech, le développement économique, etc. Il n'y a aucune correspondance avec le contenu technique présenté dans l'appel à projet.</td>\n",
       "    </tr>\n",
       "    <tr>\n",
       "      <th>82</th>\n",
       "      <td>Work with Brazilian researchers: NERC FAPESP lead agency</td>\n",
       "      <td>https://www.ukri.org/opportunity/work-with-brazilian-researchers-nerc-fapesp-lead-agency/</td>\n",
       "      <td>This opportunity allows UK-based researchers and researchers in the State of São Paulo, Brazil to submit a collaborative application under existing NERC funding opportunities. This will go through a single review process.</td>\n",
       "      <td>Date d'ouverture non spécifiée</td>\n",
       "      <td>Date de clôture non spécifiée</td>\n",
       "      <td>Yes</td>\n",
       "      <td>intellectual property, research results</td>\n",
       "      <td>Non</td>\n",
       "      <td>Le contenu de l'appel à projets est corrompu et ne peut pas être évalué.</td>\n",
       "      <td>Erreur !\\n\\nIl semblerait que le contenu de l'appel à projets soit corrompu et ne contienne pas d'informations exploitables. Il s'agit probablement d'une erreur technique liée à Selenium.\\n\\nEn conséquence, je ne peux pas évaluer la pertinence de cet appel à projets par rapport aux projets déjà réalisés par l'entreprise.\\n\\nVoici ma réponse :\\n\\n* Pertinence : Non\\n* Projets similaires détectés : Aucun\\n* Résumé rapide : Le contenu de l'appel à projets est corrompu et ne peut pas être évalué.</td>\n",
       "    </tr>\n",
       "    <tr>\n",
       "      <th>83</th>\n",
       "      <td>Collaborate with researchers in Brazil</td>\n",
       "      <td>https://www.ukri.org/opportunity/collaborate-with-researchers-in-brazil/</td>\n",
       "      <td>UK Research and Innovation (UKRI) and FAPESP’s lead agency agreement allows UKRI to assess joint applications from eligible UK and Brazil-based researchers from the state of São Paulo on behalf of both organisations.</td>\n",
       "      <td>Date d'ouverture non spécifiée</td>\n",
       "      <td>Date de clôture non spécifiée</td>\n",
       "      <td>Yes</td>\n",
       "      <td>intellectual property, research results</td>\n",
       "      <td>Non</td>\n",
       "      <td>L'appel à projet présenté est une erreur technique liée à Selenium, qui n'a aucun rapport avec les domaines d'expertise de l'entreprise (Deeptech, Hardware, Incubation, Prototyping, Acceleration, Capacity building, Strategy, Startup Ecosystem, Digital Economy, Strategic Development, Financing). Ce n'est pas une opportunité pertinente pour l'entreprise.</td>\n",
       "      <td>Pertinence : Non\\nProjets similaires détectés : Aucun\\nRésumé rapide : L'appel à projet présenté est une erreur technique liée à Selenium, qui n'a aucun rapport avec les domaines d'expertise de l'entreprise (Deeptech, Hardware, Incubation, Prototyping, Acceleration, Capacity building, Strategy, Startup Ecosystem, Digital Economy, Strategic Development, Financing). Ce n'est pas une opportunité pertinente pour l'entreprise.</td>\n",
       "    </tr>\n",
       "    <tr>\n",
       "      <th>84</th>\n",
       "      <td>UKRI-SBE lead agency opportunity</td>\n",
       "      <td>https://www.ukri.org/opportunity/ukri-sbe-lead-agency-opportunity/</td>\n",
       "      <td>The UKRI-SBE lead agency opportunity allows UK and US-based researchers to submit a collaborative proposal that will go through a single review process. Grants are funded through existing funding programmes at the relevant lead agency.</td>\n",
       "      <td>Date d'ouverture non spécifiée</td>\n",
       "      <td>Date de clôture non spécifiée</td>\n",
       "      <td>Yes</td>\n",
       "      <td>biotechnology</td>\n",
       "      <td>Non</td>\n",
       "      <td>Le contenu de l'appel à projet est corrompu et ne peut être évalué.</td>\n",
       "      <td>Erreur !\\n\\nIl sembla que le contenu de l'appel à projet est corrompu ou ne contient pas les informations attendues. Il s'agit d'un message d'erreur technique (Selenium) qui n'a rien à voir avec le contenu réel de l'appel à projet.\\n\\nDonc, je ne peux pas évaluer la pertinence de cette opportunité par rapport aux projets que l'entreprise a déjà réalisés.\\n\\nJe réponds donc :\\n\\n- Pertinence : Non\\n- Projets similaires détectés : Aucun\\n- Résumé rapide : Le contenu de l'appel à projet est corrompu et ne peut être évalué.</td>\n",
       "    </tr>\n",
       "    <tr>\n",
       "      <th>85</th>\n",
       "      <td>Institutional strategic developmental projects in higher education</td>\n",
       "      <td>https://www.ukri.org/opportunity/research-england-development-fund/</td>\n",
       "      <td>Apply for funding to develop institutional-level innovations in research and knowledge exchange.</td>\n",
       "      <td>Date d'ouverture non spécifiée</td>\n",
       "      <td>Date de clôture non spécifiée</td>\n",
       "      <td>Yes</td>\n",
       "      <td>capacity building, social innovation</td>\n",
       "      <td>Non</td>\n",
       "      <td>Le contenu de l'appel à projet est incompréhensible, il ne correspond à aucun des axes principaux des projets déjà réalisés par l'entreprise. Les projets précédemment réalisés portaient sur l'incubation, la stratégie, le financement et l'économie numérique, alors que cet appel à projet ne contient pas d'information exploitables.</td>\n",
       "      <td>Erreur Selenium... Il semblerait que le contenu de l'appel à projet soit corrompu.\\n\\nMais ne vous inquiétez pas, je vais vous donner une réponse basée sur mon expertise d'analyse de projets d'entreprise.\\n\\nPertinence : Non\\nProjets similaires détectés : Aucun\\nRésumé rapide : Le contenu de l'appel à projet est incompréhensible, il ne correspond à aucun des axes principaux des projets déjà réalisés par l'entreprise. Les projets précédemment réalisés portaient sur l'incubation, la stratégie, le financement et l'économie numérique, alors que cet appel à projet ne contient pas d'information exploitables.</td>\n",
       "    </tr>\n",
       "  </tbody>\n",
       "</table>\n",
       "<p>86 rows × 10 columns</p>\n",
       "</div>"
      ],
      "text/plain": [
       "                                                                   Title  \\\n",
       "0                                 Projects Peer Review Panel (PPRP) 2026   \n",
       "1                                BBSRC Brazil pump-priming award (FAPPA)   \n",
       "2                                     Smart Data Research UK Fellowships   \n",
       "3                             Institutional diversity fund (invite only)   \n",
       "4   Gap fund for early-stage development of new healthcare interventions   \n",
       "..                                                                   ...   \n",
       "81                            Collaborate with researchers in Luxembourg   \n",
       "82              Work with Brazilian researchers: NERC FAPESP lead agency   \n",
       "83                                Collaborate with researchers in Brazil   \n",
       "84                                      UKRI-SBE lead agency opportunity   \n",
       "85    Institutional strategic developmental projects in higher education   \n",
       "\n",
       "                                                                                                      URL  \\\n",
       "0                                  https://www.ukri.org/opportunity/projects-peer-review-panel-pprp-2026/   \n",
       "1                                       https://www.ukri.org/opportunity/bbsrc-brazil-pump-priming-award/   \n",
       "2                                    https://www.ukri.org/opportunity/smart-data-research-uk-fellowships/   \n",
       "3                              https://www.ukri.org/opportunity/institutional-diversity-fund-invite-only/   \n",
       "4   https://www.ukri.org/opportunity/funding-for-early-stage-development-of-new-healthcare-interventions/   \n",
       "..                                                                                                    ...   \n",
       "81                           https://www.ukri.org/opportunity/collaborate-with-researchers-in-luxembourg/   \n",
       "82              https://www.ukri.org/opportunity/work-with-brazilian-researchers-nerc-fapesp-lead-agency/   \n",
       "83                               https://www.ukri.org/opportunity/collaborate-with-researchers-in-brazil/   \n",
       "84                                     https://www.ukri.org/opportunity/ukri-sbe-lead-agency-opportunity/   \n",
       "85                                    https://www.ukri.org/opportunity/research-england-development-fund/   \n",
       "\n",
       "                                                                                                                                                                                                                                    Description  \\\n",
       "0                                            Apply for funding to develop a large or complex scientific project. You must have already discussed your ideas with one of our programme managers and have been invited to submit a full proposal.   \n",
       "1                                This award is for BBSRC-funded research groups to pump-prime interactions with FAPESP scientists in Brazil. Applications must be made by a project lead who is currently in receipt of BBSRC research funding.   \n",
       "2                                                          Apply for a fellowship to undertake innovative and impact-focused research using smart data. Projects should address a significant real-world challenge which is relevant to the UK.   \n",
       "3                                        The purpose of this opportunity is to provide strategic research infrastructure base funding, supporting independent research organisations to support the diverse social science ecosystem in the UK.   \n",
       "4                                               Apply to the Developmental Pathway Gap Fund to address a single-step evidence gap and de-risk the development of a new medicine, medical device, diagnostic test or other medical intervention.   \n",
       "..                                                                                                                                                                                                                                          ...   \n",
       "81       UKRI and FNR have signed a memorandum of understanding to enable and support applications between researchers in the UK and Luxembourg. UKRI will fund the UK component and FNR will fund the Luxembourg component of the application.   \n",
       "82                This opportunity allows UK-based researchers and researchers in the State of São Paulo, Brazil to submit a collaborative application under existing NERC funding opportunities. This will go through a single review process.   \n",
       "83                     UK Research and Innovation (UKRI) and FAPESP’s lead agency agreement allows UKRI to assess joint applications from eligible UK and Brazil-based researchers from the state of São Paulo on behalf of both organisations.   \n",
       "84  The UKRI-SBE lead agency opportunity allows UK and US-based researchers to submit a collaborative proposal that will go through a single review process. Grants are funded through existing funding programmes at the relevant lead agency.   \n",
       "85                                                                                                                                             Apply for funding to develop institutional-level innovations in research and knowledge exchange.   \n",
       "\n",
       "                         Start_date                          Deadline  \\\n",
       "0   8 September 2025 9:00am UK time     27 August 2026 4:00pm UK time   \n",
       "1       15 July 2025 9:00am UK time     Date de clôture non spécifiée   \n",
       "2       15 July 2025 9:00am UK time  23 September 2025 4:00pm UK time   \n",
       "3       21 July 2025 9:00am UK time  16 September 2025 4:00pm UK time   \n",
       "4       10 July 2025 9:00am UK time   12 November 2025 4:00pm UK time   \n",
       "..                              ...                               ...   \n",
       "81   Date d'ouverture non spécifiée     Date de clôture non spécifiée   \n",
       "82   Date d'ouverture non spécifiée     Date de clôture non spécifiée   \n",
       "83   Date d'ouverture non spécifiée     Date de clôture non spécifiée   \n",
       "84   Date d'ouverture non spécifiée     Date de clôture non spécifiée   \n",
       "85   Date d'ouverture non spécifiée     Date de clôture non spécifiée   \n",
       "\n",
       "   Pertinence  \\\n",
       "0         Yes   \n",
       "1         Yes   \n",
       "2         Yes   \n",
       "3         Yes   \n",
       "4         Yes   \n",
       "..        ...   \n",
       "81        Yes   \n",
       "82        Yes   \n",
       "83        Yes   \n",
       "84        Yes   \n",
       "85        Yes   \n",
       "\n",
       "                                                                                                                                Matching Word(s)  \\\n",
       "0                                                                                     project management, due diligence, artificial intelligence   \n",
       "1                                                                                          due diligence, biotechnology, artificial intelligence   \n",
       "2                                                                                    capacity building, artificial intelligence, economic impact   \n",
       "3                                                                                                                        artificial intelligence   \n",
       "4   due diligence, development strategy, technology transfer, intellectual property, service delivery, artificial intelligence, applied research   \n",
       "..                                                                                                                                           ...   \n",
       "81                                                                                                       intellectual property, research results   \n",
       "82                                                                                                       intellectual property, research results   \n",
       "83                                                                                                       intellectual property, research results   \n",
       "84                                                                                                                                 biotechnology   \n",
       "85                                                                                                          capacity building, social innovation   \n",
       "\n",
       "   Pertinence LLM  \\\n",
       "0             Oui   \n",
       "1             Non   \n",
       "2             Non   \n",
       "3             Non   \n",
       "4             Non   \n",
       "..            ...   \n",
       "81            Non   \n",
       "82            Non   \n",
       "83            Non   \n",
       "84            Non   \n",
       "85            Non   \n",
       "\n",
       "                                                                                                                                                                                                                                                                                                                                                                                                                                                                                                                                                                                                                                                   Résumé LLM  \\\n",
       "0                                                            L'appel à projets semble concerner le soutien à l'entrepreneuriat, au développement économique et à l'innovation, qui sont des domaines déjà exploités par l'entreprise à travers ses projets précédents tels que FACTORIAT (incubation et accélération de startups), National Entrepreneurship Program (développement d'un écosystème entrepreneurial national) et Arab Bank Strategy (développement de la stratégie de financement pour les projets de l'économie numérique africaine). L'expérience de l'entreprise dans ces domaines la rend pertinente pour répondre à cet appel à projets.   \n",
       "1                                                                                                                                                                                                                                                                                                                                                                                                                                                                                                                                                                                                                                                          **   \n",
       "2                                                                                                                                                                                                            L'appel à projets concerne des fellowships pour la recherche sur les données intelligentes pour résoudre des défis du monde réel, ce qui est très différent des projets précédents de l'entreprise, qui portaient sur l'incubation, l'accélération, la stratégie et le développement économique. Les thèmes de la recherche, tels que la productivité, la santé et la société numérique, ne correspondent pas non plus aux axes de l'entreprise.   \n",
       "3   L'appel à projet ESRC ne semble pas aligné avec les projets précédents de l'entreprise, qui se concentrent sur l'incubation, l'accélération, le développement stratégique et la création d'écosystèmes pour les startups et les entreprises, ainsi que sur le financement de projets dans l'économie numérique. L'appel à projet ESRC est quant à lui focalisé sur le soutien à la recherche et à l'infrastructure dans le domaine des sciences sociales, avec une invitation à des organismes de recherche spécifiques pour soutenir leurs activités de recherche et de données. Les domaines d'intervention et les objectifs sont donc très différents.   \n",
       "4                                                                                                                                                                                                  L'appel à projets est principalement orienté vers la recherche médicale, le développement de médicaments et de diagnostics, ce qui ne correspond pas aux Axes principaux des projets déjà réalisés par l'entreprise, qui sont principalement liés à l'incubation, à la stratégie, au développement économique et à l'écosystème des startups. Il n'y a pas de similarité évidente entre cet appel à projets et les projets déjà réalisés par l'entreprise.   \n",
       "..                                                                                                                                                                                                                                                                                                                                                                                                                                                                                                                                                                                                                                                        ...   \n",
       "81                                                                                                                                                                                                                          L'appel à projet présenté est erreur technique liée à Selenium et ne contient pas de description de projet ou d'objectif spécifique qui permettrait de le comparer aux projets déjà réalisés par l'entreprise. Les projets de l'entreprise sont axés sur l'innovation, l'entrepreneuriat, la Deeptech, le développement économique, etc. Il n'y a aucune correspondance avec le contenu technique présenté dans l'appel à projet.   \n",
       "82                                                                                                                                                                                                                                                                                                                                                                                                                                                                                                                                                                                   Le contenu de l'appel à projets est corrompu et ne peut pas être évalué.   \n",
       "83                                                                                                                                                                                                                                                                                         L'appel à projet présenté est une erreur technique liée à Selenium, qui n'a aucun rapport avec les domaines d'expertise de l'entreprise (Deeptech, Hardware, Incubation, Prototyping, Acceleration, Capacity building, Strategy, Startup Ecosystem, Digital Economy, Strategic Development, Financing). Ce n'est pas une opportunité pertinente pour l'entreprise.   \n",
       "84                                                                                                                                                                                                                                                                                                                                                                                                                                                                                                                                                                                        Le contenu de l'appel à projet est corrompu et ne peut être évalué.   \n",
       "85                                                                                                                                                                                                                                                                                                                 Le contenu de l'appel à projet est incompréhensible, il ne correspond à aucun des axes principaux des projets déjà réalisés par l'entreprise. Les projets précédemment réalisés portaient sur l'incubation, la stratégie, le financement et l'économie numérique, alors que cet appel à projet ne contient pas d'information exploitables.   \n",
       "\n",
       "                                                                                                                                                                                                                                                                                                                                                                                                                                                                                                                                                                                                                                                                                                                                                                                                                                                                                                                                                                                                                               Réponse brute  \n",
       "0                                                                                                                                                                                                                                                                                                     Pertinence : Oui\\n\\nProjets similaires détectés : FACTORIAT, National Entrepreneurship Program, Arab Bank Strategy\\n\\nRésumé rapide : L'appel à projets semble concerner le soutien à l'entrepreneuriat, au développement économique et à l'innovation, qui sont des domaines déjà exploités par l'entreprise à travers ses projets précédents tels que FACTORIAT (incubation et accélération de startups), National Entrepreneurship Program (développement d'un écosystème entrepreneurial national) et Arab Bank Strategy (développement de la stratégie de financement pour les projets de l'économie numérique africaine). L'expérience de l'entreprise dans ces domaines la rend pertinente pour répondre à cet appel à projets.  \n",
       "1   Bonjour !\\n\\nAprès analyse de l'appel à projet et des projets de l'entreprise, voici ma réponse :\\n\\n**Pertinence : Non**\\n\\n**Projets similaires détectés : Aucun**\\n\\n**Résumé rapide :**\\nL'appel à projet concerne spécifiquement la coopération entre des groupes de recherche britanniques et brésiliens dans le domaine des biotechnologies et des sciences biologiques. Les projets de l'entreprise sont principalement axés sur l'innovation, l'incubation, l'accélération, le développement stratégique et la formation d'écosystèmes d'entreprises, mais ne ciblent pas spécifiquement la recherche scientifique ou les biotechnologies. Il n'y a donc pas de similarité directe entre les projets de l'entreprise et cet appel à projet.\\n\\nSi l'entreprise cherche à diversifier ses activités ou à explorer de nouveaux domaines, elle pourrait peut-être considérer cet appel à projet. Cependant, il faudrait définir comment elle pourrait adapter ses compétences et son expertise pour répondre à cet appel à projet.  \n",
       "2                                                                                                                                                                                                                                                                                                                                                                                                                                                                                                                Pertinence : Non\\n\\nProjets similaires détectés : Aucun\\n\\nRésumé rapide : L'appel à projets concerne des fellowships pour la recherche sur les données intelligentes pour résoudre des défis du monde réel, ce qui est très différent des projets précédents de l'entreprise, qui portaient sur l'incubation, l'accélération, la stratégie et le développement économique. Les thèmes de la recherche, tels que la productivité, la santé et la société numérique, ne correspondent pas non plus aux axes de l'entreprise.  \n",
       "3                                                                                                                                                                                                                                                                                                       Pertinence : Non\\n\\nProjets similaires détectés : Aucun\\n\\nRésumé rapide : L'appel à projet ESRC ne semble pas aligné avec les projets précédents de l'entreprise, qui se concentrent sur l'incubation, l'accélération, le développement stratégique et la création d'écosystèmes pour les startups et les entreprises, ainsi que sur le financement de projets dans l'économie numérique. L'appel à projet ESRC est quant à lui focalisé sur le soutien à la recherche et à l'infrastructure dans le domaine des sciences sociales, avec une invitation à des organismes de recherche spécifiques pour soutenir leurs activités de recherche et de données. Les domaines d'intervention et les objectifs sont donc très différents.  \n",
       "4                                                                                                                                                                                                                                                                                                                                                                                                                                                                                                      Pertinence : Non\\n\\nProjets similaires détectés : Aucun\\n\\nRésumé rapide : L'appel à projets est principalement orienté vers la recherche médicale, le développement de médicaments et de diagnostics, ce qui ne correspond pas aux Axes principaux des projets déjà réalisés par l'entreprise, qui sont principalement liés à l'incubation, à la stratégie, au développement économique et à l'écosystème des startups. Il n'y a pas de similarité évidente entre cet appel à projets et les projets déjà réalisés par l'entreprise.  \n",
       "..                                                                                                                                                                                                                                                                                                                                                                                                                                                                                                                                                                                                                                                                                                                                                                                                                                                                                                                                                                                                                                       ...  \n",
       "81                                                                                                                                                                                                                                                                                                                                                                                                                                                                                                                              Pertinence : Non\\n\\nProjets similaires détectés : Aucun\\n\\nRésumé rapide : L'appel à projet présenté est erreur technique liée à Selenium et ne contient pas de description de projet ou d'objectif spécifique qui permettrait de le comparer aux projets déjà réalisés par l'entreprise. Les projets de l'entreprise sont axés sur l'innovation, l'entrepreneuriat, la Deeptech, le développement économique, etc. Il n'y a aucune correspondance avec le contenu technique présenté dans l'appel à projet.  \n",
       "82                                                                                                                                                                                                                                                                                                                                                                                                                                                                                                                         Erreur !\\n\\nIl semblerait que le contenu de l'appel à projets soit corrompu et ne contienne pas d'informations exploitables. Il s'agit probablement d'une erreur technique liée à Selenium.\\n\\nEn conséquence, je ne peux pas évaluer la pertinence de cet appel à projets par rapport aux projets déjà réalisés par l'entreprise.\\n\\nVoici ma réponse :\\n\\n* Pertinence : Non\\n* Projets similaires détectés : Aucun\\n* Résumé rapide : Le contenu de l'appel à projets est corrompu et ne peut pas être évalué.  \n",
       "83                                                                                                                                                                                                                                                                                                                                                                                                                                                                                                                                                                                                 Pertinence : Non\\nProjets similaires détectés : Aucun\\nRésumé rapide : L'appel à projet présenté est une erreur technique liée à Selenium, qui n'a aucun rapport avec les domaines d'expertise de l'entreprise (Deeptech, Hardware, Incubation, Prototyping, Acceleration, Capacity building, Strategy, Startup Ecosystem, Digital Economy, Strategic Development, Financing). Ce n'est pas une opportunité pertinente pour l'entreprise.  \n",
       "84                                                                                                                                                                                                                                                                                                                                                                                                                                                                                             Erreur !\\n\\nIl sembla que le contenu de l'appel à projet est corrompu ou ne contient pas les informations attendues. Il s'agit d'un message d'erreur technique (Selenium) qui n'a rien à voir avec le contenu réel de l'appel à projet.\\n\\nDonc, je ne peux pas évaluer la pertinence de cette opportunité par rapport aux projets que l'entreprise a déjà réalisés.\\n\\nJe réponds donc :\\n\\n- Pertinence : Non\\n- Projets similaires détectés : Aucun\\n- Résumé rapide : Le contenu de l'appel à projet est corrompu et ne peut être évalué.  \n",
       "85                                                                                                                                                                                                                                                                                                                                                                                                         Erreur Selenium... Il semblerait que le contenu de l'appel à projet soit corrompu.\\n\\nMais ne vous inquiétez pas, je vais vous donner une réponse basée sur mon expertise d'analyse de projets d'entreprise.\\n\\nPertinence : Non\\nProjets similaires détectés : Aucun\\nRésumé rapide : Le contenu de l'appel à projet est incompréhensible, il ne correspond à aucun des axes principaux des projets déjà réalisés par l'entreprise. Les projets précédemment réalisés portaient sur l'incubation, la stratégie, le financement et l'économie numérique, alors que cet appel à projet ne contient pas d'information exploitables.  \n",
       "\n",
       "[86 rows x 10 columns]"
      ]
     },
     "execution_count": 11,
     "metadata": {},
     "output_type": "execute_result"
    }
   ],
   "source": [
    "df_final_llm_uk"
   ]
  },
  {
   "cell_type": "code",
   "execution_count": 12,
   "id": "01a42f1d",
   "metadata": {
    "execution": {
     "iopub.execute_input": "2025-07-17T13:59:42.776592Z",
     "iopub.status.busy": "2025-07-17T13:59:42.775531Z",
     "iopub.status.idle": "2025-07-17T13:59:43.288232Z",
     "shell.execute_reply": "2025-07-17T13:59:43.287229Z"
    }
   },
   "outputs": [
    {
     "ename": "NameError",
     "evalue": "name 'df_pertinence_uk_yes_llm' is not defined",
     "output_type": "error",
     "traceback": [
      "\u001b[31m---------------------------------------------------------------------------\u001b[39m",
      "\u001b[31mNameError\u001b[39m                                 Traceback (most recent call last)",
      "\u001b[36mCell\u001b[39m\u001b[36m \u001b[39m\u001b[32mIn[12]\u001b[39m\u001b[32m, line 1\u001b[39m\n\u001b[32m----> \u001b[39m\u001b[32m1\u001b[39m \u001b[43mdf_pertinence_uk_yes_llm\u001b[49m.shape\n",
      "\u001b[31mNameError\u001b[39m: name 'df_pertinence_uk_yes_llm' is not defined"
     ]
    }
   ],
   "source": [
    "df_pertinence_uk_yes_llm.shape"
   ]
  },
  {
   "cell_type": "code",
   "execution_count": 35,
   "id": "40898ded",
   "metadata": {},
   "outputs": [
    {
     "data": {
      "text/html": [
       "<div>\n",
       "<style scoped>\n",
       "    .dataframe tbody tr th:only-of-type {\n",
       "        vertical-align: middle;\n",
       "    }\n",
       "\n",
       "    .dataframe tbody tr th {\n",
       "        vertical-align: top;\n",
       "    }\n",
       "\n",
       "    .dataframe thead th {\n",
       "        text-align: right;\n",
       "    }\n",
       "</style>\n",
       "<table border=\"1\" class=\"dataframe\">\n",
       "  <thead>\n",
       "    <tr style=\"text-align: right;\">\n",
       "      <th></th>\n",
       "      <th>Title</th>\n",
       "      <th>URL</th>\n",
       "      <th>Description</th>\n",
       "      <th>Start_date</th>\n",
       "      <th>Deadline</th>\n",
       "      <th>Pertinence</th>\n",
       "      <th>Matching Word(s)</th>\n",
       "      <th>Pertinence LLM</th>\n",
       "      <th>Résumé LLM</th>\n",
       "      <th>Réponse brute</th>\n",
       "    </tr>\n",
       "  </thead>\n",
       "  <tbody>\n",
       "    <tr>\n",
       "      <th>0</th>\n",
       "      <td>Smart Data Research UK Fellowships</td>\n",
       "      <td>https://www.ukri.org/opportunity/smart-data-research-uk-fellowships/</td>\n",
       "      <td>Apply for a fellowship to undertake innovative and impact-focused research using smart data. Projects should address a significant real-world challenge which is relevant to the UK.</td>\n",
       "      <td>15 July 2025 9:00am UK time</td>\n",
       "      <td>23 September 2025 4:00pm UK time</td>\n",
       "      <td>Yes</td>\n",
       "      <td>capacity building, artificial intelligence, economic impact</td>\n",
       "      <td>Oui</td>\n",
       "      <td>L'appel à projets concerne le soutien à des entreprises et startups, ce qui correspond à l'axe d'incubation et d'accélération de FACTORIAT. De plus, l'appel à projets évoque une stratégie de financement et de partenariat, ce qui rappelle le projet Arab Bank Strategy. Enfin, la dimension de développement d'écosystème entrepreneurial dans l'appel à projets fait écho au projet National Entrepreneurship Program. L'expertise de l'entreprise dans ces domaines la rend donc pertinente pour répondre à cet appel à projets.</td>\n",
       "      <td>Après analyse de l'appel à projets et des projets précédemment réalisés par l'entreprise, voici ma réponse :\\n\\n- Pertinence : Oui\\n- Projets similaires détectés : FACTORIAT, National Entrepreneurship Program, Arab Bank Strategy\\n- Résumé rapide : L'appel à projets concerne le soutien à des entreprises et startups, ce qui correspond à l'axe d'incubation et d'accélération de FACTORIAT. De plus, l'appel à projets évoque une stratégie de financement et de partenariat, ce qui rappelle le projet Arab Bank Strategy. Enfin, la dimension de développement d'écosystème entrepreneurial dans l'appel à projets fait écho au projet National Entrepreneurship Program. L'expertise de l'entreprise dans ces domaines la rend donc pertinente pour répondre à cet appel à projets.</td>\n",
       "    </tr>\n",
       "    <tr>\n",
       "      <th>49</th>\n",
       "      <td>Applied global health partnership: stage two</td>\n",
       "      <td>https://www.ukri.org/opportunity/applied-global-health-partnership-invited-stage-two/</td>\n",
       "      <td>Apply for funding to support a new research partnership to enable the development and delivery of novel research that will address global health challenges and inequities.</td>\n",
       "      <td>30 April 2025 9:00am UK time</td>\n",
       "      <td>16 July 2025 4:00pm UK time</td>\n",
       "      <td>Yes</td>\n",
       "      <td>capacity building, due diligence, project implementation, economic development, technology transfer, intellectual property, artificial intelligence, applied research, co-development</td>\n",
       "      <td>Oui</td>\n",
       "      <td>L'appel à projets concerne la mise en place de partenariats de recherche pour répondre à des défis de santé mondiale, notamment dans les pays à faible revenu (LMICs). Les axes clés de cet appel à projets sont la création de partenariats, le développement de projets de recherche appliquée et la mise en œuvre de solutions pour améliorer la santé dans ces pays. Les projets similaires détectés chez l'entreprise sont le National Entrepreneurship Program, qui concerne la mise en place d'un écosystème entrepreneurial dans un pays en développement, et l'Arab Bank Strategy, qui vise à développer des partenariats et des financements pour des projets de économie numérique en Afrique. Les compétences et expériences acquises dans ces projets pourraient être pertinentes pour répondre à cet appel à projets.</td>\n",
       "      <td>Pertinence : Oui\\n\\nProjets similaires détectés : National Entrepreneurship Program, Arab Bank Strategy\\n\\nRésumé rapide : L'appel à projets concerne la mise en place de partenariats de recherche pour répondre à des défis de santé mondiale, notamment dans les pays à faible revenu (LMICs). Les axes clés de cet appel à projets sont la création de partenariats, le développement de projets de recherche appliquée et la mise en œuvre de solutions pour améliorer la santé dans ces pays. Les projets similaires détectés chez l'entreprise sont le National Entrepreneurship Program, qui concerne la mise en place d'un écosystème entrepreneurial dans un pays en développement, et l'Arab Bank Strategy, qui vise à développer des partenariats et des financements pour des projets de économie numérique en Afrique. Les compétences et expériences acquises dans ces projets pourraient être pertinentes pour répondre à cet appel à projets.</td>\n",
       "    </tr>\n",
       "    <tr>\n",
       "      <th>67</th>\n",
       "      <td>EPSRC programme grant outline stage</td>\n",
       "      <td>https://www.ukri.org/opportunity/epsrc-programme-grant-outline-stage/</td>\n",
       "      <td>Programme grants provide flexible funding to world-leading UK research groups addressing significant research challenges.</td>\n",
       "      <td>1 October 2024 9:00am UK time</td>\n",
       "      <td>Date de clôture non spécifiée</td>\n",
       "      <td>Yes</td>\n",
       "      <td>project management, due diligence</td>\n",
       "      <td>Oui</td>\n",
       "      <td>L'appel à projets EPSRC cherche des propositions qui rassemblent les meilleurs chercheurs pour résoudre des défis de recherche plus larges et plus ouverts, en encourageant la collaboration interdisciplinaire et la création de partenariats avec l'industrie. Cela correspond aux objectifs du projet Arab Bank Strategy, qui vise à développer des stratégies de financement et de partenariat pour les projets de l'économie numérique africaine, et du projet National Entrepreneurship Program, qui vise à créer un écosystème entrepreneurial national au Lesotho. L'accent mis sur la collaboration, la créativité, l'impact et le développement de carrière des jeunes chercheurs dans l'appel à projets EPSRC est similaire aux objectifs de ces deux projets. En revanche, le projet FACTORIAT est plus ciblé sur l'incubation et l'accélération de startups Deeptech et Hardware, et ne correspond pas directement à cette opportunité.</td>\n",
       "      <td>Pertinence : Oui\\n\\nProjets similaires détectés : Arab Bank Strategy, National Entrepreneurship Program\\n\\nRésumé rapide : L'appel à projets EPSRC cherche des propositions qui rassemblent les meilleurs chercheurs pour résoudre des défis de recherche plus larges et plus ouverts, en encourageant la collaboration interdisciplinaire et la création de partenariats avec l'industrie. Cela correspond aux objectifs du projet Arab Bank Strategy, qui vise à développer des stratégies de financement et de partenariat pour les projets de l'économie numérique africaine, et du projet National Entrepreneurship Program, qui vise à créer un écosystème entrepreneurial national au Lesotho. L'accent mis sur la collaboration, la créativité, l'impact et le développement de carrière des jeunes chercheurs dans l'appel à projets EPSRC est similaire aux objectifs de ces deux projets. En revanche, le projet FACTORIAT est plus ciblé sur l'incubation et l'accélération de startups Deeptech et Hardware, et ne correspond pas directement à cette opportunité.</td>\n",
       "    </tr>\n",
       "    <tr>\n",
       "      <th>72</th>\n",
       "      <td>EPSRC network grant: Nov 2023: responsive mode</td>\n",
       "      <td>https://www.ukri.org/opportunity/epsrc-network-grant-nov-2023-responsive-mode/</td>\n",
       "      <td>You can apply for a network grant in any area within the remit of Engineering and Physical Sciences Research Council (EPSRC).</td>\n",
       "      <td>13 November 2023 9:00am UK time</td>\n",
       "      <td>Date de clôture non spécifiée</td>\n",
       "      <td>Yes</td>\n",
       "      <td>artificial intelligence</td>\n",
       "      <td>Oui</td>\n",
       "      <td>L'appel à projets de l'EPSRC concerne le financement de recherche en réseau pour favoriser la collaboration entre les chercheurs, les industries et les gouvernements. Il vise à encourager la recherche interdisciplinaire et la formation de communautés de recherche nouvelles. Les projets similaires détectés sont FACTORIAT, qui soutient les startups deeptech et hardware, et le National Entrepreneurship Program, qui vise à développer l'écosystème entrepreneurial national. L'entreprise a déjà démontré son expertise dans la mise en place de programmes d'incubation et d'accélération, ainsi que dans la conception d'écosystèmes entrepreneuriaux. L'appel à projets EPSRC correspond à ces compétences et à ces intérêts.</td>\n",
       "      <td>Pertinence : Oui\\n\\nProjets similaires détectés : FACTORIAT, National Entrepreneurship Program\\n\\nRésumé rapide : L'appel à projets de l'EPSRC concerne le financement de recherche en réseau pour favoriser la collaboration entre les chercheurs, les industries et les gouvernements. Il vise à encourager la recherche interdisciplinaire et la formation de communautés de recherche nouvelles. Les projets similaires détectés sont FACTORIAT, qui soutient les startups deeptech et hardware, et le National Entrepreneurship Program, qui vise à développer l'écosystème entrepreneurial national. L'entreprise a déjà démontré son expertise dans la mise en place de programmes d'incubation et d'accélération, ainsi que dans la conception d'écosystèmes entrepreneuriaux. L'appel à projets EPSRC correspond à ces compétences et à ces intérêts.</td>\n",
       "    </tr>\n",
       "    <tr>\n",
       "      <th>88</th>\n",
       "      <td>Institutional strategic developmental projects in higher education</td>\n",
       "      <td>https://www.ukri.org/opportunity/research-england-development-fund/</td>\n",
       "      <td>Apply for funding to develop institutional-level innovations in research and knowledge exchange.</td>\n",
       "      <td>Date d'ouverture non spécifiée</td>\n",
       "      <td>Date de clôture non spécifiée</td>\n",
       "      <td>Yes</td>\n",
       "      <td>capacity building, social innovation</td>\n",
       "      <td>Oui</td>\n",
       "      <td>L'appel à projets RED Fund cherche à soutenir des projets stratégiques de développement institutionnel dans la recherche et l'échange de connaissances, avec un focus sur les approches novatrices et les collaborations avec des partenaires extérieurs. Les projets précédemment réalisés par l'entreprise, tels que le National Entrepreneurship Program et l'Arab Bank Strategy, montrent une expérience de développement de stratégies et d'écosystèmes pour l'innovation et l'entrepreneuriat, ainsi que la mise en place de partenariats pour soutenir l'économie numérique. Ces compétences pourraient être pertinentes pour répondre à l'appel à projets RED Fund, notamment sur les aspects de stratégie, de développement institutionnel et de collaborations avec des partenaires extérieurs.</td>\n",
       "      <td>Pertinence : Oui\\n\\nProjets similaires détectés : National Entrepreneurship Program, Arab Bank Strategy\\n\\nRésumé rapide : L'appel à projets RED Fund cherche à soutenir des projets stratégiques de développement institutionnel dans la recherche et l'échange de connaissances, avec un focus sur les approches novatrices et les collaborations avec des partenaires extérieurs. Les projets précédemment réalisés par l'entreprise, tels que le National Entrepreneurship Program et l'Arab Bank Strategy, montrent une expérience de développement de stratégies et d'écosystèmes pour l'innovation et l'entrepreneuriat, ainsi que la mise en place de partenariats pour soutenir l'économie numérique. Ces compétences pourraient être pertinentes pour répondre à l'appel à projets RED Fund, notamment sur les aspects de stratégie, de développement institutionnel et de collaborations avec des partenaires extérieurs.</td>\n",
       "    </tr>\n",
       "  </tbody>\n",
       "</table>\n",
       "</div>"
      ],
      "text/plain": [
       "                                                                 Title  \\\n",
       "0                                   Smart Data Research UK Fellowships   \n",
       "49                        Applied global health partnership: stage two   \n",
       "67                                 EPSRC programme grant outline stage   \n",
       "72                      EPSRC network grant: Nov 2023: responsive mode   \n",
       "88  Institutional strategic developmental projects in higher education   \n",
       "\n",
       "                                                                                      URL  \\\n",
       "0                    https://www.ukri.org/opportunity/smart-data-research-uk-fellowships/   \n",
       "49  https://www.ukri.org/opportunity/applied-global-health-partnership-invited-stage-two/   \n",
       "67                  https://www.ukri.org/opportunity/epsrc-programme-grant-outline-stage/   \n",
       "72         https://www.ukri.org/opportunity/epsrc-network-grant-nov-2023-responsive-mode/   \n",
       "88                    https://www.ukri.org/opportunity/research-england-development-fund/   \n",
       "\n",
       "                                                                                                                                                                             Description  \\\n",
       "0   Apply for a fellowship to undertake innovative and impact-focused research using smart data. Projects should address a significant real-world challenge which is relevant to the UK.   \n",
       "49           Apply for funding to support a new research partnership to enable the development and delivery of novel research that will address global health challenges and inequities.   \n",
       "67                                                             Programme grants provide flexible funding to world-leading UK research groups addressing significant research challenges.   \n",
       "72                                                         You can apply for a network grant in any area within the remit of Engineering and Physical Sciences Research Council (EPSRC).   \n",
       "88                                                                                      Apply for funding to develop institutional-level innovations in research and knowledge exchange.   \n",
       "\n",
       "                         Start_date                          Deadline  \\\n",
       "0       15 July 2025 9:00am UK time  23 September 2025 4:00pm UK time   \n",
       "49     30 April 2025 9:00am UK time       16 July 2025 4:00pm UK time   \n",
       "67    1 October 2024 9:00am UK time     Date de clôture non spécifiée   \n",
       "72  13 November 2023 9:00am UK time     Date de clôture non spécifiée   \n",
       "88   Date d'ouverture non spécifiée     Date de clôture non spécifiée   \n",
       "\n",
       "   Pertinence  \\\n",
       "0         Yes   \n",
       "49        Yes   \n",
       "67        Yes   \n",
       "72        Yes   \n",
       "88        Yes   \n",
       "\n",
       "                                                                                                                                                                         Matching Word(s)  \\\n",
       "0                                                                                                                             capacity building, artificial intelligence, economic impact   \n",
       "49  capacity building, due diligence, project implementation, economic development, technology transfer, intellectual property, artificial intelligence, applied research, co-development   \n",
       "67                                                                                                                                                      project management, due diligence   \n",
       "72                                                                                                                                                                artificial intelligence   \n",
       "88                                                                                                                                                   capacity building, social innovation   \n",
       "\n",
       "   Pertinence LLM  \\\n",
       "0             Oui   \n",
       "49            Oui   \n",
       "67            Oui   \n",
       "72            Oui   \n",
       "88            Oui   \n",
       "\n",
       "                                                                                                                                                                                                                                                                                                                                                                                                                                                                                                                                                                                                                                                                                                                                                                                                                                                                                                                                              Résumé LLM  \\\n",
       "0                                                                                                                                                                                                                                                                                                                                                                                                                 L'appel à projets concerne le soutien à des entreprises et startups, ce qui correspond à l'axe d'incubation et d'accélération de FACTORIAT. De plus, l'appel à projets évoque une stratégie de financement et de partenariat, ce qui rappelle le projet Arab Bank Strategy. Enfin, la dimension de développement d'écosystème entrepreneurial dans l'appel à projets fait écho au projet National Entrepreneurship Program. L'expertise de l'entreprise dans ces domaines la rend donc pertinente pour répondre à cet appel à projets.   \n",
       "49                                                                                                                   L'appel à projets concerne la mise en place de partenariats de recherche pour répondre à des défis de santé mondiale, notamment dans les pays à faible revenu (LMICs). Les axes clés de cet appel à projets sont la création de partenariats, le développement de projets de recherche appliquée et la mise en œuvre de solutions pour améliorer la santé dans ces pays. Les projets similaires détectés chez l'entreprise sont le National Entrepreneurship Program, qui concerne la mise en place d'un écosystème entrepreneurial dans un pays en développement, et l'Arab Bank Strategy, qui vise à développer des partenariats et des financements pour des projets de économie numérique en Afrique. Les compétences et expériences acquises dans ces projets pourraient être pertinentes pour répondre à cet appel à projets.   \n",
       "67  L'appel à projets EPSRC cherche des propositions qui rassemblent les meilleurs chercheurs pour résoudre des défis de recherche plus larges et plus ouverts, en encourageant la collaboration interdisciplinaire et la création de partenariats avec l'industrie. Cela correspond aux objectifs du projet Arab Bank Strategy, qui vise à développer des stratégies de financement et de partenariat pour les projets de l'économie numérique africaine, et du projet National Entrepreneurship Program, qui vise à créer un écosystème entrepreneurial national au Lesotho. L'accent mis sur la collaboration, la créativité, l'impact et le développement de carrière des jeunes chercheurs dans l'appel à projets EPSRC est similaire aux objectifs de ces deux projets. En revanche, le projet FACTORIAT est plus ciblé sur l'incubation et l'accélération de startups Deeptech et Hardware, et ne correspond pas directement à cette opportunité.   \n",
       "72                                                                                                                                                                                                          L'appel à projets de l'EPSRC concerne le financement de recherche en réseau pour favoriser la collaboration entre les chercheurs, les industries et les gouvernements. Il vise à encourager la recherche interdisciplinaire et la formation de communautés de recherche nouvelles. Les projets similaires détectés sont FACTORIAT, qui soutient les startups deeptech et hardware, et le National Entrepreneurship Program, qui vise à développer l'écosystème entrepreneurial national. L'entreprise a déjà démontré son expertise dans la mise en place de programmes d'incubation et d'accélération, ainsi que dans la conception d'écosystèmes entrepreneuriaux. L'appel à projets EPSRC correspond à ces compétences et à ces intérêts.   \n",
       "88                                                                                                                                             L'appel à projets RED Fund cherche à soutenir des projets stratégiques de développement institutionnel dans la recherche et l'échange de connaissances, avec un focus sur les approches novatrices et les collaborations avec des partenaires extérieurs. Les projets précédemment réalisés par l'entreprise, tels que le National Entrepreneurship Program et l'Arab Bank Strategy, montrent une expérience de développement de stratégies et d'écosystèmes pour l'innovation et l'entrepreneuriat, ainsi que la mise en place de partenariats pour soutenir l'économie numérique. Ces compétences pourraient être pertinentes pour répondre à l'appel à projets RED Fund, notamment sur les aspects de stratégie, de développement institutionnel et de collaborations avec des partenaires extérieurs.   \n",
       "\n",
       "                                                                                                                                                                                                                                                                                                                                                                                                                                                                                                                                                                                                                                                                                                                                                                                                                                                                                                                                                                                                                                                                      Réponse brute  \n",
       "0                                                                                                                                                                                                                                                                                    Après analyse de l'appel à projets et des projets précédemment réalisés par l'entreprise, voici ma réponse :\\n\\n- Pertinence : Oui\\n- Projets similaires détectés : FACTORIAT, National Entrepreneurship Program, Arab Bank Strategy\\n- Résumé rapide : L'appel à projets concerne le soutien à des entreprises et startups, ce qui correspond à l'axe d'incubation et d'accélération de FACTORIAT. De plus, l'appel à projets évoque une stratégie de financement et de partenariat, ce qui rappelle le projet Arab Bank Strategy. Enfin, la dimension de développement d'écosystème entrepreneurial dans l'appel à projets fait écho au projet National Entrepreneurship Program. L'expertise de l'entreprise dans ces domaines la rend donc pertinente pour répondre à cet appel à projets.  \n",
       "49                                                                                                                   Pertinence : Oui\\n\\nProjets similaires détectés : National Entrepreneurship Program, Arab Bank Strategy\\n\\nRésumé rapide : L'appel à projets concerne la mise en place de partenariats de recherche pour répondre à des défis de santé mondiale, notamment dans les pays à faible revenu (LMICs). Les axes clés de cet appel à projets sont la création de partenariats, le développement de projets de recherche appliquée et la mise en œuvre de solutions pour améliorer la santé dans ces pays. Les projets similaires détectés chez l'entreprise sont le National Entrepreneurship Program, qui concerne la mise en place d'un écosystème entrepreneurial dans un pays en développement, et l'Arab Bank Strategy, qui vise à développer des partenariats et des financements pour des projets de économie numérique en Afrique. Les compétences et expériences acquises dans ces projets pourraient être pertinentes pour répondre à cet appel à projets.  \n",
       "67  Pertinence : Oui\\n\\nProjets similaires détectés : Arab Bank Strategy, National Entrepreneurship Program\\n\\nRésumé rapide : L'appel à projets EPSRC cherche des propositions qui rassemblent les meilleurs chercheurs pour résoudre des défis de recherche plus larges et plus ouverts, en encourageant la collaboration interdisciplinaire et la création de partenariats avec l'industrie. Cela correspond aux objectifs du projet Arab Bank Strategy, qui vise à développer des stratégies de financement et de partenariat pour les projets de l'économie numérique africaine, et du projet National Entrepreneurship Program, qui vise à créer un écosystème entrepreneurial national au Lesotho. L'accent mis sur la collaboration, la créativité, l'impact et le développement de carrière des jeunes chercheurs dans l'appel à projets EPSRC est similaire aux objectifs de ces deux projets. En revanche, le projet FACTORIAT est plus ciblé sur l'incubation et l'accélération de startups Deeptech et Hardware, et ne correspond pas directement à cette opportunité.  \n",
       "72                                                                                                                                                                                                                   Pertinence : Oui\\n\\nProjets similaires détectés : FACTORIAT, National Entrepreneurship Program\\n\\nRésumé rapide : L'appel à projets de l'EPSRC concerne le financement de recherche en réseau pour favoriser la collaboration entre les chercheurs, les industries et les gouvernements. Il vise à encourager la recherche interdisciplinaire et la formation de communautés de recherche nouvelles. Les projets similaires détectés sont FACTORIAT, qui soutient les startups deeptech et hardware, et le National Entrepreneurship Program, qui vise à développer l'écosystème entrepreneurial national. L'entreprise a déjà démontré son expertise dans la mise en place de programmes d'incubation et d'accélération, ainsi que dans la conception d'écosystèmes entrepreneuriaux. L'appel à projets EPSRC correspond à ces compétences et à ces intérêts.  \n",
       "88                                                                                                                                             Pertinence : Oui\\n\\nProjets similaires détectés : National Entrepreneurship Program, Arab Bank Strategy\\n\\nRésumé rapide : L'appel à projets RED Fund cherche à soutenir des projets stratégiques de développement institutionnel dans la recherche et l'échange de connaissances, avec un focus sur les approches novatrices et les collaborations avec des partenaires extérieurs. Les projets précédemment réalisés par l'entreprise, tels que le National Entrepreneurship Program et l'Arab Bank Strategy, montrent une expérience de développement de stratégies et d'écosystèmes pour l'innovation et l'entrepreneuriat, ainsi que la mise en place de partenariats pour soutenir l'économie numérique. Ces compétences pourraient être pertinentes pour répondre à l'appel à projets RED Fund, notamment sur les aspects de stratégie, de développement institutionnel et de collaborations avec des partenaires extérieurs.  "
      ]
     },
     "execution_count": 35,
     "metadata": {},
     "output_type": "execute_result"
    }
   ],
   "source": [
    "df_pertinence_uk_yes_llm = df_final_llm_uk[df_final_llm_uk[\"Pertinence LLM\"] == \"Oui\"]\n",
    "df_pertinence_uk_yes_llm"
   ]
  },
  {
   "cell_type": "code",
   "execution_count": 34,
   "id": "35002837",
   "metadata": {},
   "outputs": [],
   "source": [
    "# Save to Excel\n",
    "df_final_llm_uk.to_excel('df_final_ukllm.xlsx', index=False, engine='openpyxl')"
   ]
  },
  {
   "cell_type": "code",
   "execution_count": null,
   "id": "24121d9b",
   "metadata": {},
   "outputs": [],
   "source": [
    "from selenium import webdriver\n",
    "from selenium.webdriver.chrome.options import Options\n",
    "from selenium.webdriver.common.by import By\n",
    "import time\n",
    "import pandas as pd\n",
    "from groq import Groq\n",
    "import re\n",
    "from tqdm import tqdm\n",
    "\n",
    "# === CONFIGURATION GROQ ===\n",
    "client = Groq(api_key=\"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\")\n",
    "MODEL_NAME = \"llama3-70b-8192\"\n",
    "\n",
    "# === CONFIGURATION SELENIUM HEADLESS ===\n",
    "options = Options()\n",
    "options.add_argument(\"--headless\")\n",
    "options.add_argument(\"--disable-gpu\")\n",
    "options.add_argument(\"--window-size=1920,1080\")\n",
    "driver = webdriver.Chrome(options=options)\n",
    "\n",
    "# === Nettoyage & Limitation texte ===\n",
    "def clean_and_limit_text(text, max_words=800):\n",
    "    text = re.sub(r'\\s+', ' ', text).strip()\n",
    "    words = text.split()\n",
    "    if len(words) > max_words:\n",
    "        return ' '.join(words[:max_words]) + \" [...] (texte tronqué)\"\n",
    "    return text\n",
    "\n",
    "# === Extraction texte depuis une URL ===\n",
    "def extract_text_from_URL(URL):\n",
    "    try:\n",
    "        driver.get(URL)\n",
    "        time.sleep(5)\n",
    "\n",
    "        for _ in range(10):\n",
    "            driver.execute_script(\"window.scrollBy(0, 500);\")\n",
    "            time.sleep(0.3)\n",
    "        time.sleep(3)\n",
    "\n",
    "        js_desc = \"\"\"\n",
    "        let desc = document.querySelector('div.showMore--three-lines');\n",
    "        return desc ? desc.innerText.trim() : '';\n",
    "        \"\"\"\n",
    "        description_text = driver.execute_script(js_desc)\n",
    "\n",
    "        try:\n",
    "            open_all_btn = driver.find_element(By.CLASS_NAME, \"govuk-accordion__open-all\")\n",
    "            open_all_btn.click()\n",
    "            time.sleep(1)\n",
    "        except:\n",
    "            pass\n",
    "\n",
    "        js_accordion = \"\"\"\n",
    "        let acc = document.querySelector('div.govuk-accordion.ukri-accordion');\n",
    "        return acc ? acc.innerText.trim() : '';\n",
    "        \"\"\"\n",
    "        accordion_text = driver.execute_script(js_accordion)\n",
    "\n",
    "        final_text = f\"{description_text}\\n\\n---\\n\\n{accordion_text}\".strip()\n",
    "        return final_text if final_text.strip() else \"Pas de contenu détecté.\"\n",
    "    \n",
    "    except Exception as e:\n",
    "        return f\"Erreur Selenium: {e}\"\n",
    "\n",
    "# === Construction du prompt pour Groq ===\n",
    "def build_prompt(projects, site_text):\n",
    "    projects_text = \"\\n\".join([\n",
    "        f\"{i+1}. {p['Project Name']} : {p['Description']} (axe {p['Axes / Thematic Areas']})\"\n",
    "        for i, p in enumerate(projects)\n",
    "    ])\n",
    "    return f\"\"\"\n",
    "Tu es un expert en analyse de projets d'entreprise.\n",
    "\n",
    "Voici une liste de projets que cette entreprise a déjà réalisés avec leurs descriptions et axes principaux :\n",
    "\n",
    "{projects_text}\n",
    "\n",
    "Voici maintenant le contenu d'un appel à projets extrait d'une page du portail européen :\n",
    "\n",
    "{site_text}\n",
    "\n",
    "Peux-tu me dire si cette opportunité est pertinente par rapport aux projets que l'entreprise a déjà réalisés ?\n",
    "Merci de répondre clairement :\n",
    "- Pertinence : Oui / Non\n",
    "- Projets similaires détectés : [liste]\n",
    "- Résumé rapide expliquant ta réponse.\n",
    "\"\"\"\n",
    "\n",
    "# === Requête Groq ===\n",
    "def query_groq(prompt, model=MODEL_NAME, max_tokens=3000, temperature=1.0, stream=False, delay_between_requests=10):\n",
    "    try:\n",
    "        response = client.chat.completions.create(\n",
    "            model=model,\n",
    "            messages=[\n",
    "                {\"role\": \"system\", \"content\": \"Tu es un expert en comparaison de projets R&D.\"},\n",
    "                {\"role\": \"user\", \"content\": prompt}\n",
    "            ],\n",
    "            temperature=temperature,\n",
    "            max_tokens=max_tokens,\n",
    "            top_p=1,\n",
    "            stream=stream\n",
    "        )\n",
    "        if stream:\n",
    "            result = \"\"\n",
    "            for chunk in response:\n",
    "                delta = chunk.choices[0].delta.content\n",
    "                if delta:\n",
    "                    result += delta\n",
    "            time.sleep(delay_between_requests)\n",
    "            return result.strip()\n",
    "        else:\n",
    "            time.sleep(delay_between_requests)\n",
    "            return response.choices[0].message.content.strip()\n",
    "    except Exception as e:\n",
    "        return f\"Erreur Groq: {e}\"\n",
    "\n",
    "# === Parsing du résultat Groq ===\n",
    "def parse_result(text):\n",
    "    pertinence = \"Non\"\n",
    "    resume = \"\"\n",
    "\n",
    "    try:\n",
    "        match = re.search(r\"(?i)pertinence\\s*[:\\-–]\\s*(oui|non)\", text)\n",
    "        if match:\n",
    "            pertinence = match.group(1).capitalize()\n",
    "\n",
    "        resume_match = re.search(r\"(?i)résumé.*?:\\s*(.+)\", text)\n",
    "        if resume_match:\n",
    "            resume = resume_match.group(1).strip()\n",
    "        else:\n",
    "            resume = \"\\n\".join(text.splitlines()[1:4]).strip()\n",
    "    except:\n",
    "        pass\n",
    "\n",
    "    return pertinence, resume\n",
    "\n",
    "# === Analyse d'une URL ===\n",
    "def analyze_URL(URL, projects_list):\n",
    "    print(f\"🟡 Analyse en cours : {URL}\")\n",
    "    try:\n",
    "        site_text_raw = extract_text_from_URL(URL)\n",
    "        site_text = clean_and_limit_text(site_text_raw, max_words=800)\n",
    "        projects_list_sample = projects_list[:3]  # 3 projets max\n",
    "\n",
    "        prompt = build_prompt(projects_list_sample, site_text)\n",
    "        result_text = query_groq(prompt)\n",
    "        pertinence, resume = parse_result(result_text)\n",
    "        \n",
    "        return {\n",
    "            \"URL\": URL,\n",
    "            \"Pertinence LLM\": pertinence,\n",
    "            \"Résumé LLM\": resume,\n",
    "            \"Réponse brute\": result_text\n",
    "        }\n",
    "    except Exception as e:\n",
    "        return {\n",
    "            \"URL\": URL,\n",
    "            \"Pertinence LLM\": \"Erreur\",\n",
    "            \"Résumé LLM\": f\"Erreur pendant l'analyse : {e}\",\n",
    "            \"Réponse brute\": str(e)\n",
    "        }\n",
    "\n",
    "# === MAIN EXECUTION ===\n",
    "if __name__ == \"__main__\":\n",
    "    try:\n",
    "        df_pertinence_uk = pd.read_excel(\"projets_pertinents_keywords_InnUK_from_all_description.xlsx\")\n",
    "        projects_list = odf_df[['Project Name', 'Description', 'Axes / Thematic Areas']].dropna().to_dict(orient='records')\n",
    "        URL_list = df_pertinence_uk['URL'].dropna().unique()\n",
    "\n",
    "        results = []\n",
    "        for URL in tqdm(URL_list, desc=\"🔍 Analyse des URLs\"):\n",
    "            results.append(analyze_URL(URL, projects_list))\n",
    "\n",
    "        results_df = pd.DataFrame(results)\n",
    "        df_final_llm_uk = df_pertinence_uk.merge(results_df, on=\"URL\", how=\"left\")\n",
    "\n",
    "        df_final_llm_uk.to_excel(\"df_yes_avec_pertinence_et_resume_uk.xlsx\", index=False)\n",
    "        print(\"\\n✅ Résultats sauvegardés dans 'df_yes_avec_pertinence_et_resume_uk.csv'.\")\n",
    "        \n",
    "    finally:\n",
    "        driver.quit()\n"
   ]
  }
 ],
 "metadata": {
  "kernelspec": {
   "display_name": "ai_env",
   "language": "python",
   "name": "python3"
  },
  "language_info": {
   "codemirror_mode": {
    "name": "ipython",
    "version": 3
   },
   "file_extension": ".py",
   "mimetype": "text/x-python",
   "name": "python",
   "nbconvert_exporter": "python",
   "pygments_lexer": "ipython3",
   "version": "3.12.3"
  }
 },
 "nbformat": 4,
 "nbformat_minor": 5
}
