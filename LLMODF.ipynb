{
 "cells": [
  {
   "cell_type": "code",
   "execution_count": 17,
   "id": "dcdd3adb",
   "metadata": {},
   "outputs": [
    {
     "name": "stdout",
     "output_type": "stream",
     "text": [
      "📄 Page 1 : 50 projets trouvés.\n",
      "✔ MSCA Choose Europe for Science 2025 | https://ec.europa.eu/info/funding-tenders/opportunities/portal/screen/opportunities/topic-details/HORIZON-MSCA-2025-COFUND-02-01?isExactMatch=true&status=31094501,31094502&order=DESC&pageNumber=1&pageSize=50&sortBy=startDate | Statut: Forthcoming | 📅 Ouverture: 01 October 2025 → Deadline: 03 December 2025 | Extra: Single-stage\n",
      "✔ New CO2 capture technologies | https://ec.europa.eu/info/funding-tenders/opportunities/portal/screen/opportunities/topic-details/HORIZON-CL5-2026-02-D3-24?isExactMatch=true&status=31094501,31094502&order=DESC&pageNumber=1&pageSize=50&sortBy=startDate | Statut: Forthcoming | 📅 Ouverture: 16 September 2025 → Deadline: 17 February 2026 | Extra: Single-stage\n",
      "✔ Innovative pathways for low carbon and climate resilient building stock and built environment (Built4People Partnership) | https://ec.europa.eu/info/funding-tenders/opportunities/portal/screen/opportunities/topic-details/HORIZON-CL5-2026-02-D4-03?isExactMatch=true&status=31094501,31094502&order=DESC&pageNumber=1&pageSize=50&sortBy=startDate | Statut: Forthcoming | 📅 Ouverture: 16 September 2025 → Deadline: 17 February 2026 | Extra: Single-stage\n",
      "✔ Optimal combination of low embodied carbon construction products, technical building systems and circularity principles for climate neutral buildings (Built4People Partnership) | https://ec.europa.eu/info/funding-tenders/opportunities/portal/screen/opportunities/topic-details/HORIZON-CL5-2026-02-D4-05?isExactMatch=true&status=31094501,31094502&order=DESC&pageNumber=1&pageSize=50&sortBy=startDate | Statut: Forthcoming | 📅 Ouverture: 16 September 2025 → Deadline: 17 February 2026 | Extra: Single-stage\n",
      "✔ Understand and minimise the environmental impacts of offshore wind energy | https://ec.europa.eu/info/funding-tenders/opportunities/portal/screen/opportunities/topic-details/HORIZON-CL5-2026-02-D3-08?isExactMatch=true&status=31094501,31094502&order=DESC&pageNumber=1&pageSize=50&sortBy=startDate | Statut: Forthcoming | 📅 Ouverture: 16 September 2025 → Deadline: 17 February 2026 | Extra: Single-stage\n",
      "✔ Smarter buildings as part of the energy system for increased efficiency and flexibility – Societal Readiness Pilot | https://ec.europa.eu/info/funding-tenders/opportunities/portal/screen/opportunities/topic-details/HORIZON-CL5-2026-02-D4-02?isExactMatch=true&status=31094501,31094502&order=DESC&pageNumber=1&pageSize=50&sortBy=startDate | Statut: Forthcoming | 📅 Ouverture: 16 September 2025 → Deadline: 17 February 2026 | Extra: Single-stage\n",
      "✔ Competitiveness, energy security and integration aspects of advanced biofuels and renewable fuels of non-biological origin value chains | https://ec.europa.eu/info/funding-tenders/opportunities/portal/screen/opportunities/topic-details/HORIZON-CL5-2026-02-D3-02?isExactMatch=true&status=31094501,31094502&order=DESC&pageNumber=1&pageSize=50&sortBy=startDate | Statut: Forthcoming | 📅 Ouverture: 16 September 2025 → Deadline: 17 February 2026 | Extra: Single-stage\n",
      "✔ Innovative solutions for a generative AI-powered digital spine of the EU energy system | https://ec.europa.eu/info/funding-tenders/opportunities/portal/screen/opportunities/topic-details/HORIZON-CL5-2026-02-D3-19?isExactMatch=true&status=31094501,31094502&order=DESC&pageNumber=1&pageSize=50&sortBy=startDate | Statut: Forthcoming | 📅 Ouverture: 16 September 2025 → Deadline: 17 February 2026 | Extra: Single-stage\n",
      "✔ Innovative tools and services to manage and empower energy communities | https://ec.europa.eu/info/funding-tenders/opportunities/portal/screen/opportunities/topic-details/HORIZON-CL5-2026-02-D3-20?isExactMatch=true&status=31094501,31094502&order=DESC&pageNumber=1&pageSize=50&sortBy=startDate | Statut: Forthcoming | 📅 Ouverture: 16 September 2025 → Deadline: 17 February 2026 | Extra: Single-stage\n",
      "✔ Phase out fossil fuel in energy intensive industries through the efficient integration of renewable energy sources | https://ec.europa.eu/info/funding-tenders/opportunities/portal/screen/opportunities/topic-details/HORIZON-CL5-2026-02-D4-06?isExactMatch=true&status=31094501,31094502&order=DESC&pageNumber=1&pageSize=50&sortBy=startDate | Statut: Forthcoming | 📅 Ouverture: 16 September 2025 → Deadline: 17 February 2026 | Extra: Single-stage\n",
      "✔ De-risking wave energy technology development through transnational pre-commercial procurement of wave energy research and development | https://ec.europa.eu/info/funding-tenders/opportunities/portal/screen/opportunities/topic-details/HORIZON-CL5-2026-02-D3-13?isExactMatch=true&status=31094501,31094502&order=DESC&pageNumber=1&pageSize=50&sortBy=startDate | Statut: Forthcoming | 📅 Ouverture: 16 September 2025 → Deadline: 17 February 2026 | Extra: Single-stage\n",
      "✔ On-site innovative robotic and automated solutions and techniques for more sustainable and less disruptive building renovation and construction | https://ec.europa.eu/info/funding-tenders/opportunities/portal/screen/opportunities/topic-details/HORIZON-CL5-2026-02-D4-01?isExactMatch=true&status=31094501,31094502&order=DESC&pageNumber=1&pageSize=50&sortBy=startDate | Statut: Forthcoming | 📅 Ouverture: 16 September 2025 → Deadline: 17 February 2026 | Extra: Single-stage\n",
      "✔ Extending the lifetime of crystalline silicon PV modules (EUPI-PV Partnership) | https://ec.europa.eu/info/funding-tenders/opportunities/portal/screen/opportunities/topic-details/HORIZON-CL5-2026-02-D3-12?isExactMatch=true&status=31094501,31094502&order=DESC&pageNumber=1&pageSize=50&sortBy=startDate | Statut: Forthcoming | 📅 Ouverture: 16 September 2025 → Deadline: 17 February 2026 | Extra: Single-stage\n",
      "✔ Innovative approaches for the deployment of Positive Energy Districts | https://ec.europa.eu/info/funding-tenders/opportunities/portal/screen/opportunities/topic-details/HORIZON-CL5-2026-02-D4-04?isExactMatch=true&status=31094501,31094502&order=DESC&pageNumber=1&pageSize=50&sortBy=startDate | Statut: Forthcoming | 📅 Ouverture: 16 September 2025 → Deadline: 17 February 2026 | Extra: Single-stage\n",
      "✔ Towards commercialisation of Perovskite PV and development of dedicated manufacturing equipment (EUPI-PV Partnership) | https://ec.europa.eu/info/funding-tenders/opportunities/portal/screen/opportunities/topic-details/HORIZON-CL5-2026-02-D3-10?isExactMatch=true&status=31094501,31094502&order=DESC&pageNumber=1&pageSize=50&sortBy=startDate | Statut: Forthcoming | 📅 Ouverture: 16 September 2025 → Deadline: 17 February 2026 | Extra: Single-stage\n",
      "✔ Next generation distribution substation for increasing the system resilience | https://ec.europa.eu/info/funding-tenders/opportunities/portal/screen/opportunities/topic-details/HORIZON-CL5-2026-02-D3-18?isExactMatch=true&status=31094501,31094502&order=DESC&pageNumber=1&pageSize=50&sortBy=startDate | Statut: Forthcoming | 📅 Ouverture: 16 September 2025 → Deadline: 17 February 2026 | Extra: Single-stage\n",
      "✔ Large-scale production of liquid advanced biofuels and renewable fuels of non-biological origin | https://ec.europa.eu/info/funding-tenders/opportunities/portal/screen/opportunities/topic-details/HORIZON-CL5-2026-02-D3-01?isExactMatch=true&status=31094501,31094502&order=DESC&pageNumber=1&pageSize=50&sortBy=startDate | Statut: Forthcoming | 📅 Ouverture: 16 September 2025 → Deadline: 17 February 2026 | Extra: Single-stage\n",
      "✔ Demonstration of thermal energy storage solutions for solar thermal plants and systems | https://ec.europa.eu/info/funding-tenders/opportunities/portal/screen/opportunities/topic-details/HORIZON-CL5-2026-02-D3-05?isExactMatch=true&status=31094501,31094502&order=DESC&pageNumber=1&pageSize=50&sortBy=startDate | Statut: Forthcoming | 📅 Ouverture: 16 September 2025 → Deadline: 17 February 2026 | Extra: Single-stage\n",
      "✔ Underground Thermal Energy Storage in dense urban areas | https://ec.europa.eu/info/funding-tenders/opportunities/portal/screen/opportunities/topic-details/HORIZON-CL5-2026-02-D3-22?isExactMatch=true&status=31094501,31094502&order=DESC&pageNumber=1&pageSize=50&sortBy=startDate | Statut: Forthcoming | 📅 Ouverture: 16 September 2025 → Deadline: 17 February 2026 | Extra: Single-stage\n",
      "✔ Development of innovative solutions strengthening the security of renewable energy value chains | https://ec.europa.eu/info/funding-tenders/opportunities/portal/screen/opportunities/topic-details/HORIZON-CL5-2026-02-D3-14?isExactMatch=true&status=31094501,31094502&order=DESC&pageNumber=1&pageSize=50&sortBy=startDate | Statut: Forthcoming | 📅 Ouverture: 16 September 2025 → Deadline: 17 February 2026 | Extra: Single-stage\n",
      "✔ Improved reliability and optimised operations and maintenance for wind energy systems | https://ec.europa.eu/info/funding-tenders/opportunities/portal/screen/opportunities/topic-details/HORIZON-CL5-2026-02-D3-07?isExactMatch=true&status=31094501,31094502&order=DESC&pageNumber=1&pageSize=50&sortBy=startDate | Statut: Forthcoming | 📅 Ouverture: 15 September 2025 → Deadline: 16 February 2026 | Extra: Single-stage\n",
      "✔ Integrating advanced materials, cell design and manufacturing development for high-performance batteries aimed at mobility (Batt4EU Partnership) | https://ec.europa.eu/info/funding-tenders/opportunities/portal/screen/opportunities/topic-details/HORIZON-CL5-2026-01-D2-04?isExactMatch=true&status=31094501,31094502&order=DESC&pageNumber=1&pageSize=50&sortBy=startDate | Statut: Forthcoming | 📅 Ouverture: 15 September 2025 → Deadline: 19 January 2026 | Extra: Single-stage\n",
      "✔ Safety of Cyclists, Pedestrians and Users of Micromobility Devices | https://ec.europa.eu/info/funding-tenders/opportunities/portal/screen/opportunities/topic-details/HORIZON-CL5-2026-01-D6-13?isExactMatch=true&status=31094501,31094502&order=DESC&pageNumber=1&pageSize=50&sortBy=startDate | Statut: Forthcoming | 📅 Ouverture: 15 September 2025 → Deadline: 19 January 2026 | Extra: Single-stage\n",
      "✔ Accelerated multi-physical and virtual testing for battery aging, reliability, and safety evaluation (Batt4EU Partnership) | https://ec.europa.eu/info/funding-tenders/opportunities/portal/screen/opportunities/topic-details/HORIZON-CL5-2026-01-D2-05?isExactMatch=true&status=31094501,31094502&order=DESC&pageNumber=1&pageSize=50&sortBy=startDate | Statut: Forthcoming | 📅 Ouverture: 15 September 2025 → Deadline: 19 January 2026 | Extra: Single-stage\n",
      "✔ Innovative construction and maintenance, with the use of new materials and techniques, for resilient and sustainable transport infrastructure | https://ec.europa.eu/info/funding-tenders/opportunities/portal/screen/opportunities/topic-details/HORIZON-CL5-2026-01-D6-07?isExactMatch=true&status=31094501,31094502&order=DESC&pageNumber=1&pageSize=50&sortBy=startDate | Statut: Forthcoming | 📅 Ouverture: 15 September 2025 → Deadline: 19 January 2026 | Extra: Single-stage\n",
      "✔ Accelerating freight transport and logistics digital innovation | https://ec.europa.eu/info/funding-tenders/opportunities/portal/screen/opportunities/topic-details/HORIZON-CL5-2026-01-D6-08?isExactMatch=true&status=31094501,31094502&order=DESC&pageNumber=1&pageSize=50&sortBy=startDate | Statut: Forthcoming | 📅 Ouverture: 15 September 2025 → Deadline: 19 January 2026 | Extra: Single-stage\n",
      "✔ Predicting and avoiding road crashes based on Artificial Intelligence (AI) and big data | https://ec.europa.eu/info/funding-tenders/opportunities/portal/screen/opportunities/topic-details/HORIZON-CL5-2026-01-D6-14?isExactMatch=true&status=31094501,31094502&order=DESC&pageNumber=1&pageSize=50&sortBy=startDate | Statut: Forthcoming | 📅 Ouverture: 15 September 2025 → Deadline: 19 January 2026 | Extra: Single-stage\n",
      "✔ Reliable data and practices to measure and calculate transport emissions in multimodal transport chains | https://ec.europa.eu/info/funding-tenders/opportunities/portal/screen/opportunities/topic-details/HORIZON-CL5-2026-01-D6-09?isExactMatch=true&status=31094501,31094502&order=DESC&pageNumber=1&pageSize=50&sortBy=startDate | Statut: Forthcoming | 📅 Ouverture: 15 September 2025 → Deadline: 19 January 2026 | Extra: Single-stage\n",
      "✔ Real time monitoring of regulated and non-regulated emissions from all types of vessels and other port activities in order to enforce emission limits in waterfront cities | https://ec.europa.eu/info/funding-tenders/opportunities/portal/screen/opportunities/topic-details/HORIZON-CL5-2026-01-D5-17?isExactMatch=true&status=31094501,31094502&order=DESC&pageNumber=1&pageSize=50&sortBy=startDate | Statut: Forthcoming | 📅 Ouverture: 15 September 2025 → Deadline: 19 January 2026 | Extra: Single-stage\n",
      "✔ Icing in the context of sustainable aviation | https://ec.europa.eu/info/funding-tenders/opportunities/portal/screen/opportunities/topic-details/HORIZON-CL5-2026-01-D6-15?isExactMatch=true&status=31094501,31094502&order=DESC&pageNumber=1&pageSize=50&sortBy=startDate | Statut: Forthcoming | 📅 Ouverture: 15 September 2025 → Deadline: 19 January 2026 | Extra: Single-stage\n",
      "✔ Federated CCAM data exchange platform (CCAM Partnership) | https://ec.europa.eu/info/funding-tenders/opportunities/portal/screen/opportunities/topic-details/HORIZON-CL5-2026-01-D6-06?isExactMatch=true&status=31094501,31094502&order=DESC&pageNumber=1&pageSize=50&sortBy=startDate | Statut: Forthcoming | 📅 Ouverture: 15 September 2025 → Deadline: 19 January 2026 | Extra: Single-stage\n",
      "✔ Next-generation environment perception for real world CCAM operations: Error-free and secure technologies to improve energy-efficiency, cost-effectiveness, and circularity (CCAM Partnership) | https://ec.europa.eu/info/funding-tenders/opportunities/portal/screen/opportunities/topic-details/HORIZON-CL5-2026-01-D6-03?isExactMatch=true&status=31094501,31094502&order=DESC&pageNumber=1&pageSize=50&sortBy=startDate | Statut: Forthcoming | 📅 Ouverture: 15 September 2025 → Deadline: 19 January 2026 | Extra: Single-stage\n",
      "✔ Integration of human driving behaviour in the validation of CCAM systems (CCAM Partnership) | https://ec.europa.eu/info/funding-tenders/opportunities/portal/screen/opportunities/topic-details/HORIZON-CL5-2026-01-D6-04?isExactMatch=true&status=31094501,31094502&order=DESC&pageNumber=1&pageSize=50&sortBy=startDate | Statut: Forthcoming | 📅 Ouverture: 15 September 2025 → Deadline: 19 January 2026 | Extra: Single-stage\n",
      "✔ Integrating inland waterway transport in smart shipping and multimodal logistics chains | https://ec.europa.eu/info/funding-tenders/opportunities/portal/screen/opportunities/topic-details/HORIZON-CL5-2026-01-D6-10?isExactMatch=true&status=31094501,31094502&order=DESC&pageNumber=1&pageSize=50&sortBy=startDate | Statut: Forthcoming | 📅 Ouverture: 15 September 2025 → Deadline: 19 January 2026 | Extra: Single-stage\n",
      "✔ Approaches, verification and training for Edge-AI building blocks for CCAM Systems (CCAM Partnership) | https://ec.europa.eu/info/funding-tenders/opportunities/portal/screen/opportunities/topic-details/HORIZON-CL5-2026-01-D6-05?isExactMatch=true&status=31094501,31094502&order=DESC&pageNumber=1&pageSize=50&sortBy=startDate | Statut: Forthcoming | 📅 Ouverture: 15 September 2025 → Deadline: 19 January 2026 | Extra: Single-stage\n",
      "✔ Development of sustainable and design-to-cost batteries with (energy-)efficient manufacturing processes and based on advanced and safer materials (Batt4EU Partnership) | https://ec.europa.eu/info/funding-tenders/opportunities/portal/screen/opportunities/topic-details/HORIZON-CL5-2026-01-D2-01?isExactMatch=true&status=31094501,31094502&order=DESC&pageNumber=1&pageSize=50&sortBy=startDate | Statut: Forthcoming | 📅 Ouverture: 15 September 2025 → Deadline: 19 January 2026 | Extra: Single-stage\n",
      "✔ Monitoring and Evaluation of the Societal Readiness Pilot | https://ec.europa.eu/info/funding-tenders/opportunities/portal/screen/opportunities/topic-details/HORIZON-CL5-2026-01-D2-09?isExactMatch=true&status=31094501,31094502&order=DESC&pageNumber=1&pageSize=50&sortBy=startDate | Statut: Forthcoming | 📅 Ouverture: 15 September 2025 → Deadline: 19 January 2026 | Extra: Single-stage\n",
      "✔ Scaling up deep tech ecosystems | https://ec.europa.eu/info/funding-tenders/opportunities/portal/screen/opportunities/topic-details/HORIZON-EIE-2026-01-CONNECT-03?isExactMatch=true&status=31094501,31094502&order=DESC&pageNumber=1&pageSize=50&sortBy=startDate | Statut: Forthcoming | 📅 Ouverture: 10 September 2025 → Deadline: 20 January 2026 | Extra: Single-stage\n",
      "✔ Expanding Investment Ecosystems | https://ec.europa.eu/info/funding-tenders/opportunities/portal/screen/opportunities/topic-details/HORIZON-EIE-2026-01-CONNECT-02?isExactMatch=true&status=31094501,31094502&order=DESC&pageNumber=1&pageSize=50&sortBy=startDate | Statut: Forthcoming | 📅 Ouverture: 10 September 2025 → Deadline: 20 January 2026 | Extra: Single-stage\n",
      "✔ European network of national competence centers for innovation procurement | https://ec.europa.eu/info/funding-tenders/opportunities/portal/screen/opportunities/topic-details/HORIZON-EIE-2026-01-CONNECT-01?isExactMatch=true&status=31094501,31094502&order=DESC&pageNumber=1&pageSize=50&sortBy=startDate | Statut: Forthcoming | 📅 Ouverture: 10 September 2025 → Deadline: 20 January 2026 | Extra: Single-stage\n",
      "✔ TALTECH MERIT Project Excellence Scholarship Award | https://ec.europa.eu/info/funding-tenders/opportunities/portal/screen/opportunities/competitive-calls-cs/10821?isExactMatch=true&status=31094501,31094502&order=DESC&pageNumber=1&pageSize=50&sortBy=startDate | Statut: Forthcoming | 📅 Ouverture: 01 September 2025 → Deadline: 30 September 2025 | Extra: Multiple Cut-off\n",
      "✔ TALTECH MERIT Project Mobility Grant | https://ec.europa.eu/info/funding-tenders/opportunities/portal/screen/opportunities/competitive-calls-cs/10822?isExactMatch=true&status=31094501,31094502&order=DESC&pageNumber=1&pageSize=50&sortBy=startDate | Statut: Forthcoming | 📅 Ouverture: 01 September 2025 → Deadline: 30 September 2025 | Extra: Multiple Cut-off\n",
      "✔ VILNIUS TECH MERIT Project 2nd Targeted Scholarship Call | https://ec.europa.eu/info/funding-tenders/opportunities/portal/screen/opportunities/competitive-calls-cs/11261?isExactMatch=true&status=31094501,31094502&order=DESC&pageNumber=1&pageSize=50&sortBy=startDate | Statut: Forthcoming | 📅 Ouverture: 01 September 2025 → Deadline: 01 October 2025 | Extra: Single-stage\n",
      "✔ VILNIUS TECH MERIT Project Re-/Up-skilling Scholarship Call | https://ec.europa.eu/info/funding-tenders/opportunities/portal/screen/opportunities/competitive-calls-cs/11262?isExactMatch=true&status=31094501,31094502&order=DESC&pageNumber=1&pageSize=50&sortBy=startDate | Statut: Forthcoming | 📅 Ouverture: 01 September 2025 → Deadline: 01 May 2026 | Extra: Single-stage\n",
      "✔ SMART ERA 1st Open Call for Pilots Add-ons | https://ec.europa.eu/info/funding-tenders/opportunities/portal/screen/opportunities/competitive-calls-cs/11281?isExactMatch=true&status=31094501,31094502&order=DESC&pageNumber=1&pageSize=50&sortBy=startDate | Statut: Forthcoming | 📅 Ouverture: 28 August 2025 → Deadline: 04 November 2025 | Extra: Single-stage\n",
      "✔ NGI Fediversity open call (2025-10F) | https://ec.europa.eu/info/funding-tenders/opportunities/portal/screen/opportunities/competitive-calls-cs/11086?isExactMatch=true&status=31094501,31094502&order=DESC&pageNumber=1&pageSize=50&sortBy=startDate | Statut: Forthcoming | 📅 Ouverture: 01 August 2025 → Deadline: 01 October 2025 | Extra: Single-stage\n",
      "✔ NGI Zero Commons Fund (2025-10Z) | https://ec.europa.eu/info/funding-tenders/opportunities/portal/screen/opportunities/competitive-calls-cs/11089?isExactMatch=true&status=31094501,31094502&order=DESC&pageNumber=1&pageSize=50&sortBy=startDate | Statut: Forthcoming | 📅 Ouverture: 01 August 2025 → Deadline: 01 October 2025 | Extra: Single-stage\n",
      "✔ NGI TALER open call (2025-10T) | https://ec.europa.eu/info/funding-tenders/opportunities/portal/screen/opportunities/competitive-calls-cs/11088?isExactMatch=true&status=31094501,31094502&order=DESC&pageNumber=1&pageSize=50&sortBy=startDate | Statut: Forthcoming | 📅 Ouverture: 01 August 2025 → Deadline: 01 October 2025 | Extra: Single-stage\n",
      "✔ Networking and coordination of national HPC Competence Centres | https://ec.europa.eu/info/funding-tenders/opportunities/portal/screen/opportunities/topic-details/DIGITAL-JU-EUROHPC-2025-NCC-01-02?isExactMatch=true&status=31094501,31094502&order=DESC&pageNumber=1&pageSize=50&sortBy=startDate | Statut: Forthcoming | 📅 Ouverture: 29 July 2025 → Deadline: 30 September 2025 | Extra: Single-stage\n",
      "✔ National Competence Centres for High Performance Computing | https://ec.europa.eu/info/funding-tenders/opportunities/portal/screen/opportunities/topic-details/DIGITAL-JU-EUROHPC-2025-NCC-01-01?isExactMatch=true&status=31094501,31094502&order=DESC&pageNumber=1&pageSize=50&sortBy=startDate | Statut: Forthcoming | 📅 Ouverture: 29 July 2025 → Deadline: 30 September 2025 | Extra: Single-stage\n",
      "➡️ Passage à la page suivante...\n",
      "📄 Page 2 : 38 projets trouvés.\n",
      "✔ Waste-to-value devices - circular production of renewable fuels, chemicals and materials | https://ec.europa.eu/info/funding-tenders/opportunities/portal/screen/opportunities/topic-details/HORIZON-EIC-2025-PATHFINDERCHALLENGES-01-04?isExactMatch=true&status=31094501,31094502&order=DESC&pageNumber=2&pageSize=50&sortBy=startDate | Statut: Forthcoming | 📅 Ouverture: 24 July 2025 → Deadline: 29 October 2025 | Extra: Single-stage\n",
      "✔ Towards autonomous robot collectives delivering collaborative tasks in dynamic unstructured construction environments | https://ec.europa.eu/info/funding-tenders/opportunities/portal/screen/opportunities/topic-details/HORIZON-EIC-2025-PATHFINDERCHALLENGES-01-03?isExactMatch=true&status=31094501,31094502&order=DESC&pageNumber=2&pageSize=50&sortBy=startDate | Statut: Forthcoming | 📅 Ouverture: 24 July 2025 → Deadline: 29 October 2025 | Extra: Single-stage\n",
      "✔ Generative-AI based Agents to Revolutionize Medical Diagnosis and Treatment of Cancer | https://ec.europa.eu/info/funding-tenders/opportunities/portal/screen/opportunities/topic-details/HORIZON-EIC-2025-PATHFINDERCHALLENGES-01-02?isExactMatch=true&status=31094501,31094502&order=DESC&pageNumber=2&pageSize=50&sortBy=startDate | Statut: Forthcoming | 📅 Ouverture: 24 July 2025 → Deadline: 29 October 2025 | Extra: Single-stage\n",
      "✔ Biotech for Climate Resilient Crops and Plant-Based Biomanufacturing | https://ec.europa.eu/info/funding-tenders/opportunities/portal/screen/opportunities/topic-details/HORIZON-EIC-2025-PATHFINDERCHALLENGES-01-01?isExactMatch=true&status=31094501,31094502&order=DESC&pageNumber=2&pageSize=50&sortBy=startDate | Statut: Forthcoming | 📅 Ouverture: 24 July 2025 → Deadline: 29 October 2025 | Extra: Single-stage\n",
      "✔ Calling2Scale Gunma - Gateway to Japan | https://ec.europa.eu/info/funding-tenders/opportunities/portal/screen/opportunities/competitive-calls-cs/11362?isExactMatch=true&status=31094501,31094502&order=DESC&pageNumber=2&pageSize=50&sortBy=startDate | Statut: Open For Submission | 📅 Ouverture: 15 July 2025 → Deadline: 15 September 2025 | Extra: Single-stage\n",
      "✔ Maturing of a European industrial ecosystem for security-certified terrestrial QKD technologies and systems | https://ec.europa.eu/info/funding-tenders/opportunities/portal/screen/opportunities/topic-details/DIGITAL-IRIS2-2025-QCI-01?isExactMatch=true&status=31094501,31094502&order=DESC&pageNumber=2&pageSize=50&sortBy=startDate | Statut: Open For Submission | 📅 Ouverture: 15 July 2025 → Deadline: 16 October 2025 | Extra: Single-stage\n",
      "✔ Support standardisation for the EuroQCI (CSA) | https://ec.europa.eu/info/funding-tenders/opportunities/portal/screen/opportunities/topic-details/DIGITAL-IRIS2-2025-QCI-03?isExactMatch=true&status=31094501,31094502&order=DESC&pageNumber=2&pageSize=50&sortBy=startDate | Statut: Open For Submission | 📅 Ouverture: 15 July 2025 → Deadline: 16 October 2025 | Extra: Single-stage\n",
      "✔ Coordinate deployment for the EuroQCI (CSA) | https://ec.europa.eu/info/funding-tenders/opportunities/portal/screen/opportunities/topic-details/DIGITAL-IRIS2-2025-QCI-02?isExactMatch=true&status=31094501,31094502&order=DESC&pageNumber=2&pageSize=50&sortBy=startDate | Statut: Open For Submission | 📅 Ouverture: 15 July 2025 → Deadline: 16 October 2025 | Extra: Single-stage\n",
      "✔ Fighting against antisemitism | https://ec.europa.eu/info/funding-tenders/opportunities/portal/screen/opportunities/topic-details/CERV-2025-EQUAL-ANTISEMITISM?isExactMatch=true&status=31094501,31094502&order=DESC&pageNumber=2&pageSize=50&sortBy=startDate | Statut: Forthcoming | 📅 Ouverture: 15 July 2025 → Deadline: 23 October 2025 | Extra: Single-stage\n",
      "✔ Fighting against anti-Muslim hatred | https://ec.europa.eu/info/funding-tenders/opportunities/portal/screen/opportunities/topic-details/CERV-2025-EQUAL-ANTIMUSLIM?isExactMatch=true&status=31094501,31094502&order=DESC&pageNumber=2&pageSize=50&sortBy=startDate | Statut: Forthcoming | 📅 Ouverture: 15 July 2025 → Deadline: 23 October 2025 | Extra: Single-stage\n",
      "✔ Support to public authorities to combat racism, xenophobia, LGBTIQ-phobia and all other forms of intolerance, including intersectional discrimination | https://ec.europa.eu/info/funding-tenders/opportunities/portal/screen/opportunities/topic-details/CERV-2025-EQUAL-RESTRICTED?isExactMatch=true&status=31094501,31094502&order=DESC&pageNumber=2&pageSize=50&sortBy=startDate | Statut: Forthcoming | 📅 Ouverture: 15 July 2025 → Deadline: 23 October 2025 | Extra: Single-stage\n",
      "✔ Fighting discrimination against LGBTIQ people and promoting LGBTIQ equality | https://ec.europa.eu/info/funding-tenders/opportunities/portal/screen/opportunities/topic-details/CERV-2025-EQUAL-LGBTIQ?isExactMatch=true&status=31094501,31094502&order=DESC&pageNumber=2&pageSize=50&sortBy=startDate | Statut: Forthcoming | 📅 Ouverture: 15 July 2025 → Deadline: 23 October 2025 | Extra: Single-stage\n",
      "✔ Fighting against discrimination and racism, xenophobia and other forms of intolerance, including antigypsyism, anti-black, and anti-Asian racism | https://ec.europa.eu/info/funding-tenders/opportunities/portal/screen/opportunities/topic-details/CERV-2025-EQUAL-RACI-DISC?isExactMatch=true&status=31094501,31094502&order=DESC&pageNumber=2&pageSize=50&sortBy=startDate | Statut: Forthcoming | 📅 Ouverture: 15 July 2025 → Deadline: 23 October 2025 | Extra: Single-stage\n",
      "✔ Promoting diversity management and inclusion at the workplace, both in the public and private sector | https://ec.europa.eu/info/funding-tenders/opportunities/portal/screen/opportunities/topic-details/CERV-2025-EQUAL-DIVERSITYMGT?isExactMatch=true&status=31094501,31094502&order=DESC&pageNumber=2&pageSize=50&sortBy=startDate | Statut: Forthcoming | 📅 Ouverture: 15 July 2025 → Deadline: 23 October 2025 | Extra: Single-stage\n",
      "✔ Citizen and Stakeholder Engagement in Climate-Smart Forestry (CSF) and Forest Restoration | https://ec.europa.eu/info/funding-tenders/opportunities/portal/screen/opportunities/competitive-calls-cs/11274?isExactMatch=true&status=31094501,31094502&order=DESC&pageNumber=2&pageSize=50&sortBy=startDate | Statut: Open For Submission | 📅 Ouverture: 11 July 2025 → Deadline: 12 October 2025 | Extra: Single-stage\n",
      "✔ DIGITWIN4CIUE Reduction-Fees Scholarships | https://ec.europa.eu/info/funding-tenders/opportunities/portal/screen/opportunities/competitive-calls-cs/11321?isExactMatch=true&status=31094501,31094502&order=DESC&pageNumber=2&pageSize=50&sortBy=startDate | Statut: Open For Submission | 📅 Ouverture: 11 July 2025 → Deadline: 31 October 2025 | Extra: Multiple Cut-off\n",
      "✔ ERC SYNERGY GRANTS | https://ec.europa.eu/info/funding-tenders/opportunities/portal/screen/opportunities/topic-details/ERC-2026-SyG?isExactMatch=true&status=31094501,31094502&order=DESC&pageNumber=2&pageSize=50&sortBy=startDate | Statut: Open For Submission | 📅 Ouverture: 10 July 2025 → Deadline: 05 November 2025 | Extra: Single-stage\n",
      "✔ Lot2: Harmonized food consumption and food composition data collection - Support to terminology management | https://ec.europa.eu/info/funding-tenders/opportunities/portal/screen/opportunities/topic-details/EUBA-EFSA-2025-IDATA-01-02-Lot2?isExactMatch=true&status=31094501,31094502&order=DESC&pageNumber=2&pageSize=50&sortBy=startDate | Statut: Open For Submission | 📅 Ouverture: 09 July 2025 → Deadline: 02 October 2025 | Extra: Single-stage\n",
      "✔ Lot1: Improved methods for chemical and biological monitoring data collection and reporting in collaboration with AGoD and EFSA programs | https://ec.europa.eu/info/funding-tenders/opportunities/portal/screen/opportunities/topic-details/EUBA-EFSA-2025-IDATA-01-01-Lot1?isExactMatch=true&status=31094501,31094502&order=DESC&pageNumber=2&pageSize=50&sortBy=startDate | Statut: Open For Submission | 📅 Ouverture: 09 July 2025 → Deadline: 02 October 2025 | Extra: Single-stage\n",
      "✔ ERC STARTING GRANTS | https://ec.europa.eu/info/funding-tenders/opportunities/portal/screen/opportunities/topic-details/ERC-2026-STG?isExactMatch=true&status=31094501,31094502&order=DESC&pageNumber=2&pageSize=50&sortBy=startDate | Statut: Open For Submission | 📅 Ouverture: 09 July 2025 → Deadline: 14 October 2025 | Extra: Single-stage\n",
      "✔ DIGITAL-JU-CHIPS-2025-SG-SSOI | https://ec.europa.eu/info/funding-tenders/opportunities/portal/screen/opportunities/topic-details/DIGITAL-JU-CHIPS-2025-SG-SSOI?isExactMatch=true&status=31094501,31094502&order=DESC&pageNumber=2&pageSize=50&sortBy=startDate | Statut: Open For Submission | 📅 Ouverture: 08 July 2025 → Deadline: 20 November 2025 | Extra: Single-stage\n",
      "✔ HORIZON-JU-CHIPS-2025-CSA-JPN | https://ec.europa.eu/info/funding-tenders/opportunities/portal/screen/opportunities/topic-details/HORIZON-JU-CHIPS-2025-CSA-JPN?isExactMatch=true&status=31094501,31094502&order=DESC&pageNumber=2&pageSize=50&sortBy=startDate | Statut: Open For Submission | 📅 Ouverture: 08 July 2025 → Deadline: 17 September 2025 | Extra: Single-stage\n",
      "✔ DIGITAL-JU-CHIPS-2025-IA-LEAI | https://ec.europa.eu/info/funding-tenders/opportunities/portal/screen/opportunities/topic-details/DIGITAL-JU-CHIPS-2025-IA-LEAI?isExactMatch=true&status=31094501,31094502&order=DESC&pageNumber=2&pageSize=50&sortBy=startDate | Statut: Open For Submission | 📅 Ouverture: 08 July 2025 → Deadline: 17 September 2025 | Extra: Single-stage\n",
      "✔ 2nd Call for applications for a grant to support the education and training of developers of cyber security solutions, within the framework of financial support to third parties | https://ec.europa.eu/info/funding-tenders/opportunities/portal/screen/opportunities/competitive-calls-cs/11270?isExactMatch=true&status=31094501,31094502&order=DESC&pageNumber=2&pageSize=50&sortBy=startDate | Statut: Open For Submission | 📅 Ouverture: 07 July 2025 → Deadline: 30 September 2025 | Extra: Single-stage\n",
      "✔ International Call for Digital Europe Programme selected countries | https://ec.europa.eu/info/funding-tenders/opportunities/portal/screen/opportunities/competitive-calls-cs/11266?isExactMatch=true&status=31094501,31094502&order=DESC&pageNumber=2&pageSize=50&sortBy=startDate | Statut: Open For Submission | 📅 Ouverture: 07 July 2025 → Deadline: 07 September 2025 | Extra: Single-stage\n",
      "✔ Call for Master’s & PhD Modules 2025 | https://ec.europa.eu/info/funding-tenders/opportunities/portal/screen/opportunities/competitive-calls-cs/11273?isExactMatch=true&status=31094501,31094502&order=DESC&pageNumber=2&pageSize=50&sortBy=startDate | Statut: Open For Submission | 📅 Ouverture: 07 July 2025 → Deadline: 30 September 2025 | Extra: Single-stage\n",
      "✔ Urban Mobility Explained (UMX) Open Call (Multi-cut-off) | https://ec.europa.eu/info/funding-tenders/opportunities/portal/screen/opportunities/competitive-calls-cs/11264?isExactMatch=true&status=31094501,31094502&order=DESC&pageNumber=2&pageSize=50&sortBy=startDate | Statut: Open For Submission | 📅 Ouverture: 02 July 2025 → Deadline: 30 September 2025 | Extra: Multiple Cut-off\n",
      "✔ UPC-GREENCHIPS-EDU Scholarship | https://ec.europa.eu/info/funding-tenders/opportunities/portal/screen/opportunities/competitive-calls-cs/11265?isExactMatch=true&status=31094501,31094502&order=DESC&pageNumber=2&pageSize=50&sortBy=startDate | Statut: Open For Submission | 📅 Ouverture: 02 July 2025 → Deadline: 07 September 2025 | Extra: Multiple Cut-off\n",
      "✔ UDENE Tools for Global Business Solutions that Accelerate Copernicus Adoption | https://ec.europa.eu/info/funding-tenders/opportunities/portal/screen/opportunities/competitive-calls-cs/11151?isExactMatch=true&status=31094501,31094502&order=DESC&pageNumber=2&pageSize=50&sortBy=startDate | Statut: Open For Submission | 📅 Ouverture: 01 July 2025 → Deadline: 29 August 2025 | Extra: Single-stage\n",
      "✔ Support to the International HPC Summer School | https://ec.europa.eu/info/funding-tenders/opportunities/portal/screen/opportunities/topic-details/HORIZON-EUROHPC-JU-2025-IHPCSS-02?isExactMatch=true&status=31094501,31094502&order=DESC&pageNumber=2&pageSize=50&sortBy=startDate | Statut: Open For Submission | 📅 Ouverture: 01 July 2025 → Deadline: 02 October 2025 | Extra: Single-stage\n",
      "✔ Tourism: Call for the selection of collaborative projects: Go Green, Get Digital, Be Resilient Programme | https://ec.europa.eu/info/funding-tenders/opportunities/portal/screen/opportunities/competitive-calls-cs/11243?isExactMatch=true&status=31094501,31094502&order=DESC&pageNumber=2&pageSize=50&sortBy=startDate | Statut: Open For Submission | 📅 Ouverture: 01 July 2025 → Deadline: 02 September 2025 | Extra: Single-stage\n",
      "✔ 6G-PATH - Open Call #2 | https://ec.europa.eu/info/funding-tenders/opportunities/portal/screen/opportunities/competitive-calls-cs/11221?isExactMatch=true&status=31094501,31094502&order=DESC&pageNumber=2&pageSize=50&sortBy=startDate | Statut: Open For Submission | 📅 Ouverture: 01 July 2025 → Deadline: 10 September 2025 | Extra: Single-stage\n",
      "✔ EIT Regional Innovation Booster 2025 - Polish edition Call for Stage 1 | https://ec.europa.eu/info/funding-tenders/opportunities/portal/screen/opportunities/competitive-calls-cs/11241?isExactMatch=true&status=31094501,31094502&order=DESC&pageNumber=2&pageSize=50&sortBy=startDate | Statut: Open For Submission | 📅 Ouverture: 30 June 2025 → Deadline: 31 August 2025 | Extra: Single-stage\n",
      "✔ METU Internships Offer | https://ec.europa.eu/info/funding-tenders/opportunities/portal/screen/opportunities/competitive-calls-cs/11143?isExactMatch=true&status=31094501,31094502&order=DESC&pageNumber=2&pageSize=50&sortBy=startDate | Statut: Open For Submission | 📅 Ouverture: 30 June 2025 → Deadline: 02 September 2025 | Extra: Multiple Cut-off\n",
      "✔ Gnomon Internships Offer | https://ec.europa.eu/info/funding-tenders/opportunities/portal/screen/opportunities/competitive-calls-cs/11145?isExactMatch=true&status=31094501,31094502&order=DESC&pageNumber=2&pageSize=50&sortBy=startDate | Statut: Open For Submission | 📅 Ouverture: 30 June 2025 → Deadline: 02 September 2025 | Extra: Multiple Cut-off\n",
      "✔ AID4SME Open Call 1 | https://ec.europa.eu/info/funding-tenders/opportunities/portal/screen/opportunities/competitive-calls-cs/11222?isExactMatch=true&status=31094501,31094502&order=DESC&pageNumber=2&pageSize=50&sortBy=startDate | Statut: Open For Submission | 📅 Ouverture: 30 June 2025 → Deadline: 11 September 2025 | Extra: Single-stage\n",
      "✔ Bridges | https://ec.europa.eu/info/funding-tenders/opportunities/portal/screen/opportunities/competitive-calls-cs/11168?isExactMatch=true&status=31094501,31094502&order=DESC&pageNumber=2&pageSize=50&sortBy=startDate | Statut: Open For Submission | 📅 Ouverture: 26 June 2025 → Deadline: 04 September 2025 | Extra: Single-stage\n",
      "✔ Operational digital platforms – Works | https://ec.europa.eu/info/funding-tenders/opportunities/portal/screen/opportunities/topic-details/CEF-DIG-2025-PLATFORMS-WORKS?isExactMatch=true&status=31094501,31094502&order=DESC&pageNumber=2&pageSize=50&sortBy=startDate | Statut: Open For Submission | 📅 Ouverture: 26 June 2025 → Deadline: 16 October 2025 | Extra: Single-stage\n",
      "➡️ Passage à la page suivante...\n",
      "📄 Page 3 : 44 projets trouvés.\n",
      "✔ PhotonQBoost Open Call for Matching Mission to Poland | https://ec.europa.eu/info/funding-tenders/opportunities/portal/screen/opportunities/competitive-calls-cs/11201?isExactMatch=true&status=31094501,31094502&order=DESC&pageNumber=3&pageSize=50&sortBy=startDate | Statut: Open For Submission | 📅 Ouverture: 25 June 2025 → Deadline: 26 August 2025 | Extra: Single-stage\n",
      "✔ Master School and Fellowship Open Call 2026 | https://ec.europa.eu/info/funding-tenders/opportunities/portal/screen/opportunities/competitive-calls-cs/11202?isExactMatch=true&status=31094501,31094502&order=DESC&pageNumber=3&pageSize=50&sortBy=startDate | Statut: Open For Submission | 📅 Ouverture: 25 June 2025 → Deadline: 10 September 2025 | Extra: Single-stage\n",
      "✔ RIS Education Open Call 2026 | https://ec.europa.eu/info/funding-tenders/opportunities/portal/screen/opportunities/competitive-calls-cs/11203?isExactMatch=true&status=31094501,31094502&order=DESC&pageNumber=3&pageSize=50&sortBy=startDate | Statut: Open For Submission | 📅 Ouverture: 25 June 2025 → Deadline: 10 September 2025 | Extra: Single-stage\n",
      "✔ Call for proposals for small grants 1/SPLOT/GM/2025 | https://ec.europa.eu/info/funding-tenders/opportunities/portal/screen/opportunities/competitive-calls-cs/11148?isExactMatch=true&status=31094501,31094502&order=DESC&pageNumber=3&pageSize=50&sortBy=startDate | Statut: Open For Submission | 📅 Ouverture: 25 June 2025 → Deadline: 28 August 2025 | Extra: Single-stage\n",
      "✔ CALL FOR PROPOSALS – Funding for coding projects within the framework of EU Code Week | https://ec.europa.eu/info/funding-tenders/opportunities/portal/screen/opportunities/competitive-calls-cs/11152?isExactMatch=true&status=31094501,31094502&order=DESC&pageNumber=3&pageSize=50&sortBy=startDate | Statut: Open For Submission | 📅 Ouverture: 20 June 2025 → Deadline: 31 August 2025 | Extra: Single-stage\n",
      "✔ TUS Open Call | https://ec.europa.eu/info/funding-tenders/opportunities/portal/screen/opportunities/competitive-calls-cs/11147?isExactMatch=true&status=31094501,31094502&order=DESC&pageNumber=3&pageSize=50&sortBy=startDate | Statut: Open For Submission | 📅 Ouverture: 19 June 2025 → Deadline: 18 August 2025 | Extra: Single-stage\n",
      "✔ Strategic Innovation Open call | https://ec.europa.eu/info/funding-tenders/opportunities/portal/screen/opportunities/competitive-calls-cs/11164?isExactMatch=true&status=31094501,31094502&order=DESC&pageNumber=3&pageSize=50&sortBy=startDate | Statut: Open For Submission | 📅 Ouverture: 19 June 2025 → Deadline: 23 September 2025 | Extra: Multiple Cut-off\n",
      "✔ Migration, de-colonisation, slavery and multicultural European societies | https://ec.europa.eu/info/funding-tenders/opportunities/portal/screen/opportunities/topic-details/CERV-2025-CITIZENS-REM-HISTMIGRATION?isExactMatch=true&status=31094501,31094502&order=DESC&pageNumber=3&pageSize=50&sortBy=startDate | Statut: Open For Submission | 📅 Ouverture: 19 June 2025 → Deadline: 01 October 2025 | Extra: Single-stage\n",
      "✔ Strengthening the remembrance of the Holocaust against Jewish people | https://ec.europa.eu/info/funding-tenders/opportunities/portal/screen/opportunities/topic-details/CERV-2025-CITIZENS-REM-HOLOCAUSTJEW?isExactMatch=true&status=31094501,31094502&order=DESC&pageNumber=3&pageSize=50&sortBy=startDate | Statut: Open For Submission | 📅 Ouverture: 19 June 2025 → Deadline: 01 October 2025 | Extra: Single-stage\n",
      "✔ Democratic transition, (re-)building and strengthening society based on the rule of law, democracy and fundamental rights | https://ec.europa.eu/info/funding-tenders/opportunities/portal/screen/opportunities/topic-details/CERV-2025-CITIZENS-REM-TRANSITION?isExactMatch=true&status=31094501,31094502&order=DESC&pageNumber=3&pageSize=50&sortBy=startDate | Statut: Open For Submission | 📅 Ouverture: 19 June 2025 → Deadline: 01 October 2025 | Extra: Single-stage\n",
      "✔ Strengthening the remembrance of the Holocaust, genocides, war crimes and crimes against humanity to reinforce democracy in the EU | https://ec.europa.eu/info/funding-tenders/opportunities/portal/screen/opportunities/topic-details/CERV-2025-CITIZENS-REM-GENCRIME?isExactMatch=true&status=31094501,31094502&order=DESC&pageNumber=3&pageSize=50&sortBy=startDate | Statut: Open For Submission | 📅 Ouverture: 19 June 2025 → Deadline: 01 October 2025 | Extra: Single-stage\n",
      "✔ Pilots of long-term climate impact forest monitoring sites: Providing temporally resolved ecosystem-level information on the effects of climatic drivers on forest structure and function in near real-time | https://ec.europa.eu/info/funding-tenders/opportunities/portal/screen/opportunities/competitive-calls-cs/11082?isExactMatch=true&status=31094501,31094502&order=DESC&pageNumber=3&pageSize=50&sortBy=startDate | Statut: Open For Submission | 📅 Ouverture: 19 June 2025 → Deadline: 21 September 2025 | Extra: Single-stage\n",
      "✔ Pilots of long-term climate impact forest monitoring sites: Linking stand-level information and remote sensing | https://ec.europa.eu/info/funding-tenders/opportunities/portal/screen/opportunities/competitive-calls-cs/11081?isExactMatch=true&status=31094501,31094502&order=DESC&pageNumber=3&pageSize=50&sortBy=startDate | Statut: Open For Submission | 📅 Ouverture: 19 June 2025 → Deadline: 21 September 2025 | Extra: Single-stage\n",
      "✔ UDENE Tools Integration in Geodata Science Education | https://ec.europa.eu/info/funding-tenders/opportunities/portal/screen/opportunities/competitive-calls-cs/11150?isExactMatch=true&status=31094501,31094502&order=DESC&pageNumber=3&pageSize=50&sortBy=startDate | Statut: Open For Submission | 📅 Ouverture: 18 June 2025 → Deadline: 16 August 2025 | Extra: Single-stage\n",
      "✔ THE HUBS | https://ec.europa.eu/info/funding-tenders/opportunities/portal/screen/opportunities/competitive-calls-cs/11167?isExactMatch=true&status=31094501,31094502&order=DESC&pageNumber=3&pageSize=50&sortBy=startDate | Statut: Open For Submission | 📅 Ouverture: 18 June 2025 → Deadline: 15 November 2025 | Extra: Single-stage\n",
      "✔ SNS Trials and Pilots (T&Ps) with Verticals | https://ec.europa.eu/info/funding-tenders/opportunities/portal/screen/opportunities/topic-details/HORIZON-JU-SNS-2025-02-STREAM-D-01?isExactMatch=true&status=31094501,31094502&order=DESC&pageNumber=3&pageSize=50&sortBy=startDate | Statut: Open For Submission | 📅 Ouverture: 18 June 2025 → Deadline: 18 September 2025 | Extra: Single-stage\n",
      "✔ RFCS-2025 Steel Pilot and Demonstration Projects | https://ec.europa.eu/info/funding-tenders/opportunities/portal/screen/opportunities/topic-details/RFCS-2025-02-PDP?isExactMatch=true&status=31094501,31094502&order=DESC&pageNumber=3&pageSize=50&sortBy=startDate | Statut: Open For Submission | 📅 Ouverture: 18 June 2025 → Deadline: 24 September 2025 | Extra: Single-stage\n",
      "✔ RFCS-2025 Steel Research Projects | https://ec.europa.eu/info/funding-tenders/opportunities/portal/screen/opportunities/topic-details/RFCS-2025-02-RPJ?isExactMatch=true&status=31094501,31094502&order=DESC&pageNumber=3&pageSize=50&sortBy=startDate | Statut: Open For Submission | 📅 Ouverture: 18 June 2025 → Deadline: 24 September 2025 | Extra: Single-stage\n",
      "✔ RFCS-2025 Coal Pilot and Demonstration Projects | https://ec.europa.eu/info/funding-tenders/opportunities/portal/screen/opportunities/topic-details/RFCS-2025-01-PDP?isExactMatch=true&status=31094501,31094502&order=DESC&pageNumber=3&pageSize=50&sortBy=startDate | Statut: Open For Submission | 📅 Ouverture: 18 June 2025 → Deadline: 24 September 2025 | Extra: Single-stage\n",
      "✔ RFCS-2025 Coal Research Projects | https://ec.europa.eu/info/funding-tenders/opportunities/portal/screen/opportunities/topic-details/RFCS-2025-01-RPJ?isExactMatch=true&status=31094501,31094502&order=DESC&pageNumber=3&pageSize=50&sortBy=startDate | Statut: Open For Submission | 📅 Ouverture: 18 June 2025 → Deadline: 24 September 2025 | Extra: Single-stage\n",
      "✔ RFCS-2025 Coal Accompanying Measures | https://ec.europa.eu/info/funding-tenders/opportunities/portal/screen/opportunities/topic-details/RFCS-2025-01-AM?isExactMatch=true&status=31094501,31094502&order=DESC&pageNumber=3&pageSize=50&sortBy=startDate | Statut: Open For Submission | 📅 Ouverture: 18 June 2025 → Deadline: 24 September 2025 | Extra: Single-stage\n",
      "✔ RFCS-2025 Steel Accompanying Measures | https://ec.europa.eu/info/funding-tenders/opportunities/portal/screen/opportunities/topic-details/RFCS-2025-02-AM?isExactMatch=true&status=31094501,31094502&order=DESC&pageNumber=3&pageSize=50&sortBy=startDate | Statut: Open For Submission | 📅 Ouverture: 18 June 2025 → Deadline: 24 September 2025 | Extra: Single-stage\n",
      "✔ CodeWeek Grant Support | https://ec.europa.eu/info/funding-tenders/opportunities/portal/screen/opportunities/competitive-calls-cs/11141?isExactMatch=true&status=31094501,31094502&order=DESC&pageNumber=3&pageSize=50&sortBy=startDate | Statut: Open For Submission | 📅 Ouverture: 17 June 2025 → Deadline: 21 August 2025 | Extra: Single-stage\n",
      "✔ Champions for the Digital Decade Financial Support to Third Parties | https://ec.europa.eu/info/funding-tenders/opportunities/portal/screen/opportunities/competitive-calls-cs/11163?isExactMatch=true&status=31094501,31094502&order=DESC&pageNumber=3&pageSize=50&sortBy=startDate | Statut: Open For Submission | 📅 Ouverture: 17 June 2025 → Deadline: 31 August 2025 | Extra: Single-stage\n",
      "✔ Framework partnership agreements to support EU level Networks active in the area: \"Rights of persons with disabilities\" | https://ec.europa.eu/info/funding-tenders/opportunities/portal/screen/opportunities/topic-details/CERV-2025-OG-DISA-FPA?isExactMatch=true&status=31094501,31094502&order=DESC&pageNumber=3&pageSize=50&sortBy=startDate | Statut: Open For Submission | 📅 Ouverture: 17 June 2025 → Deadline: 26 August 2025 | Extra: Single-stage\n",
      "✔ Annual operating grants 2026 to support EU level Networks active in the area: \"Rights of persons with disabilities\" | https://ec.europa.eu/info/funding-tenders/opportunities/portal/screen/opportunities/topic-details/CERV-2025-OG-DISA-SGA?isExactMatch=true&status=31094501,31094502&order=DESC&pageNumber=3&pageSize=50&sortBy=startDate | Statut: Open For Submission | 📅 Ouverture: 17 June 2025 → Deadline: 27 August 2025 | Extra: Single-stage\n",
      "✔ Understanding how infections foster and induce non-communicable diseases | https://ec.europa.eu/info/funding-tenders/opportunities/portal/screen/opportunities/topic-details/HORIZON-JU-IHI-2025-11-02-two-stage?isExactMatch=true&status=31094501,31094502&order=DESC&pageNumber=3&pageSize=50&sortBy=startDate | Statut: Open For Submission | 📅 Ouverture: 17 June 2025 → Deadline: 09 October 2025 | Extra: Two-stage\n",
      "✔ Leveraging Europe's Expertise to accelerate Cell Therapy for Type 1 Diabetes | https://ec.europa.eu/info/funding-tenders/opportunities/portal/screen/opportunities/topic-details/HORIZON-JU-IHI-2025-11-04-two-stage?isExactMatch=true&status=31094501,31094502&order=DESC&pageNumber=3&pageSize=50&sortBy=startDate | Statut: Open For Submission | 📅 Ouverture: 17 June 2025 → Deadline: 09 October 2025 | Extra: Two-stage\n",
      "✔ AI-Powered Signal Detection in Pharmacovigilance | https://ec.europa.eu/info/funding-tenders/opportunities/portal/screen/opportunities/topic-details/HORIZON-JU-IHI-2025-11-03-two-stage?isExactMatch=true&status=31094501,31094502&order=DESC&pageNumber=3&pageSize=50&sortBy=startDate | Statut: Open For Submission | 📅 Ouverture: 17 June 2025 → Deadline: 09 October 2025 | Extra: Two-stage\n",
      "✔ Towards precision medicine: platform for transdiagnostic stratification of brain dysfunction | https://ec.europa.eu/info/funding-tenders/opportunities/portal/screen/opportunities/topic-details/HORIZON-JU-IHI-2025-11-01-two-stage?isExactMatch=true&status=31094501,31094502&order=DESC&pageNumber=3&pageSize=50&sortBy=startDate | Statut: Open For Submission | 📅 Ouverture: 17 June 2025 → Deadline: 09 October 2025 | Extra: Two-stage\n",
      "✔ Establishing Ortho and Cardiology Ambulatory Surgical Centres in Europe | https://ec.europa.eu/info/funding-tenders/opportunities/portal/screen/opportunities/topic-details/HORIZON-JU-IHI-2025-11-05-two-stage?isExactMatch=true&status=31094501,31094502&order=DESC&pageNumber=3&pageSize=50&sortBy=startDate | Statut: Open For Submission | 📅 Ouverture: 17 June 2025 → Deadline: 09 October 2025 | Extra: Two-stage\n",
      "✔ Women Leadership Category | https://ec.europa.eu/info/funding-tenders/opportunities/portal/screen/opportunities/topic-details/HORIZON-EIT-2025-PRIZE-WIP-LEADERSHIP?isExactMatch=true&status=31094501,31094502&order=DESC&pageNumber=3&pageSize=50&sortBy=startDate | Statut: Open For Submission | 📅 Ouverture: 17 June 2025 → Deadline: 25 September 2025 | Extra: Single-stage\n",
      "✔ Women Innovators category | https://ec.europa.eu/info/funding-tenders/opportunities/portal/screen/opportunities/topic-details/HORIZON-EIC-2025-PRIZE-WIP-WomenInnovatorsCategory?isExactMatch=true&status=31094501,31094502&order=DESC&pageNumber=3&pageSize=50&sortBy=startDate | Statut: Open For Submission | 📅 Ouverture: 17 June 2025 → Deadline: 25 September 2025 | Extra: Single-stage\n",
      "✔ Rising Innovators category | https://ec.europa.eu/info/funding-tenders/opportunities/portal/screen/opportunities/topic-details/HORIZON-EIC-2025-PRIZE-WIP-RisingInnovators?isExactMatch=true&status=31094501,31094502&order=DESC&pageNumber=3&pageSize=50&sortBy=startDate | Statut: Open For Submission | 📅 Ouverture: 17 June 2025 → Deadline: 25 September 2025 | Extra: Single-stage\n",
      "✔ European Researchers' Night and Researchers at Schools 2026-2027 | https://ec.europa.eu/info/funding-tenders/opportunities/portal/screen/opportunities/topic-details/HORIZON-MSCA-2025-CITIZENS-01-01?isExactMatch=true&status=31094501,31094502&order=DESC&pageNumber=3&pageSize=50&sortBy=startDate | Statut: Open For Submission | 📅 Ouverture: 17 June 2025 → Deadline: 22 October 2025 | Extra: Single-stage\n",
      "✔ Welfare monitoring: data driven risk assessment in fast and slower growing broilers (BROWARD) | https://ec.europa.eu/info/funding-tenders/opportunities/portal/screen/opportunities/topic-details/EUBA-EFSA-2025-BIOHAW-01?isExactMatch=true&status=31094501,31094502&order=DESC&pageNumber=3&pageSize=50&sortBy=startDate | Statut: Open For Submission | 📅 Ouverture: 17 June 2025 → Deadline: 26 November 2025 | Extra: Single-stage\n",
      "✔ MANTRA First Open Call for Manufacturing SMEs | https://ec.europa.eu/info/funding-tenders/opportunities/portal/screen/opportunities/competitive-calls-cs/11341?isExactMatch=true&status=31094501,31094502&order=DESC&pageNumber=3&pageSize=50&sortBy=startDate | Statut: Open For Submission | 📅 Ouverture: 17 June 2025 → Deadline: 15 September 2025 | Extra: Single-stage\n",
      "✔ Design of the Master Programme in Business Excellence | https://ec.europa.eu/info/funding-tenders/opportunities/portal/screen/opportunities/competitive-calls-cs/11161?isExactMatch=true&status=31094501,31094502&order=DESC&pageNumber=3&pageSize=50&sortBy=startDate | Statut: Open For Submission | 📅 Ouverture: 16 June 2025 → Deadline: 14 August 2025 | Extra: Single-stage\n",
      "✔ Design of the Master Programme in Data Science with Specialization in Sustainability | https://ec.europa.eu/info/funding-tenders/opportunities/portal/screen/opportunities/competitive-calls-cs/11162?isExactMatch=true&status=31094501,31094502&order=DESC&pageNumber=3&pageSize=50&sortBy=startDate | Statut: Open For Submission | 📅 Ouverture: 16 June 2025 → Deadline: 14 August 2025 | Extra: Single-stage\n",
      "✔ Inkjet-bioAM Open Call | https://ec.europa.eu/info/funding-tenders/opportunities/portal/screen/opportunities/competitive-calls-cs/11004?isExactMatch=true&status=31094501,31094502&order=DESC&pageNumber=3&pageSize=50&sortBy=startDate | Statut: Open For Submission | 📅 Ouverture: 16 June 2025 → Deadline: 15 September 2025 | Extra: Single-stage\n",
      "✔ Transition to post-quantum Public Key Infrastructures | https://ec.europa.eu/info/funding-tenders/opportunities/portal/screen/opportunities/topic-details/DIGITAL-ECCC-2025-DEPLOY-CYBER-08-PUBLICPQC?isExactMatch=true&status=31094501,31094502&order=DESC&pageNumber=3&pageSize=50&sortBy=startDate | Statut: Open For Submission | 📅 Ouverture: 12 June 2025 → Deadline: 07 October 2025 | Extra: Single-stage\n",
      "✔ Enhancing the NCC Network | https://ec.europa.eu/info/funding-tenders/opportunities/portal/screen/opportunities/topic-details/DIGITAL-ECCC-2025-DEPLOY-CYBER-08-NCC?isExactMatch=true&status=31094501,31094502&order=DESC&pageNumber=3&pageSize=50&sortBy=startDate | Statut: Open For Submission | 📅 Ouverture: 12 June 2025 → Deadline: 07 October 2025 | Extra: Single-stage\n",
      "✔ Dedicated action to reinforcing hospitals and healthcare providers | https://ec.europa.eu/info/funding-tenders/opportunities/portal/screen/opportunities/topic-details/DIGITAL-ECCC-2025-DEPLOY-CYBER-08-CYBERHEALTH?isExactMatch=true&status=31094501,31094502&order=DESC&pageNumber=3&pageSize=50&sortBy=startDate | Statut: Open For Submission | 📅 Ouverture: 12 June 2025 → Deadline: 07 October 2025 | Extra: Single-stage\n",
      "✔ Generative AI for Cybersecurity applications | https://ec.europa.eu/info/funding-tenders/opportunities/portal/screen/opportunities/topic-details/HORIZON-CL3-2025-02-CS-ECCC-01?isExactMatch=true&status=31094501,31094502&order=DESC&pageNumber=3&pageSize=50&sortBy=startDate | Statut: Open For Submission | 📅 Ouverture: 12 June 2025 → Deadline: 12 November 2025 | Extra: Single-stage\n",
      "➡️ Passage à la page suivante...\n",
      "📄 Page 4 : 50 projets trouvés.\n",
      "✔ New advanced tools and processes for Operational Cybersecurity | https://ec.europa.eu/info/funding-tenders/opportunities/portal/screen/opportunities/topic-details/HORIZON-CL3-2025-02-CS-ECCC-02?isExactMatch=true&status=31094501,31094502&order=DESC&pageNumber=4&pageSize=50&sortBy=startDate | Statut: Open For Submission | 📅 Ouverture: 12 June 2025 → Deadline: 12 November 2025 | Extra: Single-stage\n",
      "✔ Security evaluations of Post-Quantum Cryptography (PQC) primitives | https://ec.europa.eu/info/funding-tenders/opportunities/portal/screen/opportunities/topic-details/HORIZON-CL3-2025-02-CS-ECCC-04?isExactMatch=true&status=31094501,31094502&order=DESC&pageNumber=4&pageSize=50&sortBy=startDate | Statut: Open For Submission | 📅 Ouverture: 12 June 2025 → Deadline: 12 November 2025 | Extra: Single-stage\n",
      "✔ Privacy Enhancing Technologies | https://ec.europa.eu/info/funding-tenders/opportunities/portal/screen/opportunities/topic-details/HORIZON-CL3-2025-02-CS-ECCC-03?isExactMatch=true&status=31094501,31094502&order=DESC&pageNumber=4&pageSize=50&sortBy=startDate | Statut: Open For Submission | 📅 Ouverture: 12 June 2025 → Deadline: 12 November 2025 | Extra: Single-stage\n",
      "✔ Security of implementations of Post-Quantum Cryptography algorithms | https://ec.europa.eu/info/funding-tenders/opportunities/portal/screen/opportunities/topic-details/HORIZON-CL3-2025-02-CS-ECCC-05?isExactMatch=true&status=31094501,31094502&order=DESC&pageNumber=4&pageSize=50&sortBy=startDate | Statut: Open For Submission | 📅 Ouverture: 12 June 2025 → Deadline: 12 November 2025 | Extra: Single-stage\n",
      "✔ Integration of Post-Quantum Cryptography (PQC) algorithms into high-level protocols | https://ec.europa.eu/info/funding-tenders/opportunities/portal/screen/opportunities/topic-details/HORIZON-CL3-2025-02-CS-ECCC-06?isExactMatch=true&status=31094501,31094502&order=DESC&pageNumber=4&pageSize=50&sortBy=startDate | Statut: Open For Submission | 📅 Ouverture: 12 June 2025 → Deadline: 12 November 2025 | Extra: Single-stage\n",
      "✔ Demand-led innovation for civil security through Pre-Commercial Procurement (PCP) | https://ec.europa.eu/info/funding-tenders/opportunities/portal/screen/opportunities/topic-details/HORIZON-CL3-2025-01-SSRI-06?isExactMatch=true&status=31094501,31094502&order=DESC&pageNumber=4&pageSize=50&sortBy=startDate | Statut: Open For Submission | 📅 Ouverture: 12 June 2025 → Deadline: 12 November 2025 | Extra: Single-stage\n",
      "✔ Advancing autonomous systems and robotics for high-risk disaster response, strengthening disaster resilience in conflict-afflicted crisis zones | https://ec.europa.eu/info/funding-tenders/opportunities/portal/screen/opportunities/topic-details/HORIZON-CL3-2025-01-DRS-04?isExactMatch=true&status=31094501,31094502&order=DESC&pageNumber=4&pageSize=50&sortBy=startDate | Statut: Open For Submission | 📅 Ouverture: 12 June 2025 → Deadline: 12 November 2025 | Extra: Single-stage\n",
      "✔ Open topic on Improving disaster risk management and governance to ensure self-sufficiency and sustainability of operations in support of enhanced resilience | https://ec.europa.eu/info/funding-tenders/opportunities/portal/screen/opportunities/topic-details/HORIZON-CL3-2025-01-DRS-02?isExactMatch=true&status=31094501,31094502&order=DESC&pageNumber=4&pageSize=50&sortBy=startDate | Statut: Open For Submission | 📅 Ouverture: 12 June 2025 → Deadline: 12 November 2025 | Extra: Single-stage\n",
      "✔ Open topic on better customs and supply chain security | https://ec.europa.eu/info/funding-tenders/opportunities/portal/screen/opportunities/topic-details/HORIZON-CL3-2025-01-BM-03?isExactMatch=true&status=31094501,31094502&order=DESC&pageNumber=4&pageSize=50&sortBy=startDate | Statut: Open For Submission | 📅 Ouverture: 12 June 2025 → Deadline: 12 November 2025 | Extra: Single-stage\n",
      "✔ Open grounds for pre-commercial procurement of innovative security technologies | https://ec.europa.eu/info/funding-tenders/opportunities/portal/screen/opportunities/topic-details/HORIZON-CL3-2025-01-SSRI-03?isExactMatch=true&status=31094501,31094502&order=DESC&pageNumber=4&pageSize=50&sortBy=startDate | Statut: Open For Submission | 📅 Ouverture: 12 June 2025 → Deadline: 12 November 2025 | Extra: Single-stage\n",
      "✔ Open topic on testing / validating tools, technologies and data used in cross-border prevention, preparedness and responses to climate extreme and geological events and chemical, biological or radiological emergency threats | https://ec.europa.eu/info/funding-tenders/opportunities/portal/screen/opportunities/topic-details/HORIZON-CL3-2025-01-DRS-03?isExactMatch=true&status=31094501,31094502&order=DESC&pageNumber=4&pageSize=50&sortBy=startDate | Statut: Open For Submission | 📅 Ouverture: 12 June 2025 → Deadline: 12 November 2025 | Extra: Single-stage\n",
      "✔ National Contact Points (NCPs) in the field of security and cybersecurity fostering the links with National Community building for Safe, Secure and Resilient Societies | https://ec.europa.eu/info/funding-tenders/opportunities/portal/screen/opportunities/topic-details/HORIZON-CL3-2025-01-SSRI-01?isExactMatch=true&status=31094501,31094502&order=DESC&pageNumber=4&pageSize=50&sortBy=startDate | Statut: Open For Submission | 📅 Ouverture: 12 June 2025 → Deadline: 12 November 2025 | Extra: Single-stage\n",
      "✔ Open topic on citizen and regional and/or local authorities' engagement in enhanced disaster risk awareness, including education, and preparedness | https://ec.europa.eu/info/funding-tenders/opportunities/portal/screen/opportunities/topic-details/HORIZON-CL3-2025-01-DRS-01?isExactMatch=true&status=31094501,31094502&order=DESC&pageNumber=4&pageSize=50&sortBy=startDate | Statut: Open For Submission | 📅 Ouverture: 12 June 2025 → Deadline: 12 November 2025 | Extra: Single-stage\n",
      "✔ Accelerating uptake through open proposals for advanced SME innovation | https://ec.europa.eu/info/funding-tenders/opportunities/portal/screen/opportunities/topic-details/HORIZON-CL3-2025-01-SSRI-04?isExactMatch=true&status=31094501,31094502&order=DESC&pageNumber=4&pageSize=50&sortBy=startDate | Statut: Open For Submission | 📅 Ouverture: 12 June 2025 → Deadline: 12 November 2025 | Extra: Single-stage\n",
      "✔ Open topic on prevention, detection and deterrence of various forms of crime and terrorism through an enhanced understanding of the related societal issues | https://ec.europa.eu/info/funding-tenders/opportunities/portal/screen/opportunities/topic-details/HORIZON-CL3-2025-01-FCT-02?isExactMatch=true&status=31094501,31094502&order=DESC&pageNumber=4&pageSize=50&sortBy=startDate | Statut: Open For Submission | 📅 Ouverture: 12 June 2025 → Deadline: 12 November 2025 | Extra: Single-stage\n",
      "✔ Open topic on improved intelligence picture and enhanced prevention, detection and deterrence of various forms of organised crime | https://ec.europa.eu/info/funding-tenders/opportunities/portal/screen/opportunities/topic-details/HORIZON-CL3-2025-01-FCT-03?isExactMatch=true&status=31094501,31094502&order=DESC&pageNumber=4&pageSize=50&sortBy=startDate | Statut: Open For Submission | 📅 Ouverture: 12 June 2025 → Deadline: 12 November 2025 | Extra: Single-stage\n",
      "✔ Uptake Acceleration Services | https://ec.europa.eu/info/funding-tenders/opportunities/portal/screen/opportunities/topic-details/HORIZON-CL3-2025-01-SSRI-02?isExactMatch=true&status=31094501,31094502&order=DESC&pageNumber=4&pageSize=50&sortBy=startDate | Statut: Open For Submission | 📅 Ouverture: 12 June 2025 → Deadline: 12 November 2025 | Extra: Single-stage\n",
      "✔ Open topic for role of the human factor for the resilience of critical infrastructures | https://ec.europa.eu/info/funding-tenders/opportunities/portal/screen/opportunities/topic-details/HORIZON-CL3-2025-01-INFRA-02?isExactMatch=true&status=31094501,31094502&order=DESC&pageNumber=4&pageSize=50&sortBy=startDate | Statut: Open For Submission | 📅 Ouverture: 12 June 2025 → Deadline: 12 November 2025 | Extra: Single-stage\n",
      "✔ Open topic on efficient border surveillance and maritime security | https://ec.europa.eu/info/funding-tenders/opportunities/portal/screen/opportunities/topic-details/HORIZON-CL3-2025-01-BM-01?isExactMatch=true&status=31094501,31094502&order=DESC&pageNumber=4&pageSize=50&sortBy=startDate | Statut: Open For Submission | 📅 Ouverture: 12 June 2025 → Deadline: 12 November 2025 | Extra: Single-stage\n",
      "✔ Open topic on modern information and forensic evidence analysis and on frontline policing | https://ec.europa.eu/info/funding-tenders/opportunities/portal/screen/opportunities/topic-details/HORIZON-CL3-2025-01-FCT-01?isExactMatch=true&status=31094501,31094502&order=DESC&pageNumber=4&pageSize=50&sortBy=startDate | Statut: Open For Submission | 📅 Ouverture: 12 June 2025 → Deadline: 12 November 2025 | Extra: Single-stage\n",
      "✔ Data repository for security research and innovation | https://ec.europa.eu/info/funding-tenders/opportunities/portal/screen/opportunities/topic-details/HORIZON-CL3-2025-01-SSRI-05?isExactMatch=true&status=31094501,31094502&order=DESC&pageNumber=4&pageSize=50&sortBy=startDate | Statut: Open For Submission | 📅 Ouverture: 12 June 2025 → Deadline: 12 November 2025 | Extra: Single-stage\n",
      "✔ Humanitarian demining / Unexploded Ordnance Disposal (UXO) of civil areas and unexploded ordnance risk education | https://ec.europa.eu/info/funding-tenders/opportunities/portal/screen/opportunities/topic-details/HORIZON-CL3-2025-01-FCT-04?isExactMatch=true&status=31094501,31094502&order=DESC&pageNumber=4&pageSize=50&sortBy=startDate | Statut: Open For Submission | 📅 Ouverture: 12 June 2025 → Deadline: 12 November 2025 | Extra: Single-stage\n",
      "✔ Open topic on secured and facilitated crossing of external borders | https://ec.europa.eu/info/funding-tenders/opportunities/portal/screen/opportunities/topic-details/HORIZON-CL3-2025-01-BM-02?isExactMatch=true&status=31094501,31094502&order=DESC&pageNumber=4&pageSize=50&sortBy=startDate | Statut: Open For Submission | 📅 Ouverture: 12 June 2025 → Deadline: 12 November 2025 | Extra: Single-stage\n",
      "✔ Open topic for improved preparedness for, response to and recovery from large-scale disruptions of critical infrastructures | https://ec.europa.eu/info/funding-tenders/opportunities/portal/screen/opportunities/topic-details/HORIZON-CL3-2025-01-INFRA-01?isExactMatch=true&status=31094501,31094502&order=DESC&pageNumber=4&pageSize=50&sortBy=startDate | Statut: Open For Submission | 📅 Ouverture: 12 June 2025 → Deadline: 12 November 2025 | Extra: Single-stage\n",
      "✔ EIC pre-accelerator - Widening | https://ec.europa.eu/info/funding-tenders/opportunities/portal/screen/opportunities/topic-details/HORIZON-WIDERA-2025-02-ACCESS-01?isExactMatch=true&status=31094501,31094502&order=DESC&pageNumber=4&pageSize=50&sortBy=startDate | Statut: Open For Submission | 📅 Ouverture: 12 June 2025 → Deadline: 18 November 2025 | Extra: Single-stage\n",
      "✔ CETPartnership Joint Call 2025 | https://ec.europa.eu/info/funding-tenders/opportunities/portal/screen/opportunities/competitive-calls-cs/10946?isExactMatch=true&status=31094501,31094502&order=DESC&pageNumber=4&pageSize=50&sortBy=startDate | Statut: Open For Submission | 📅 Ouverture: 11 June 2025 → Deadline: 09 October 2025 | Extra: Multiple Cut-off\n",
      "✔ Open Horizons Open Call #1 | https://ec.europa.eu/info/funding-tenders/opportunities/portal/screen/opportunities/competitive-calls-cs/11126?isExactMatch=true&status=31094501,31094502&order=DESC&pageNumber=4&pageSize=50&sortBy=startDate | Statut: Open For Submission | 📅 Ouverture: 11 June 2025 → Deadline: 21 August 2025 | Extra: Single-stage\n",
      "✔ #BeActive-EU-SPORT-AWARDS – Inclusion | https://ec.europa.eu/info/funding-tenders/opportunities/portal/screen/opportunities/topic-details/ERASMUS-SPORT-2025-EU-AWARDS-INCLUSION?isExactMatch=true&status=31094501,31094502&order=DESC&pageNumber=4&pageSize=50&sortBy=startDate | Statut: Open For Submission | 📅 Ouverture: 11 June 2025 → Deadline: 24 September 2025 | Extra: Single-stage\n",
      "✔ #BeActive-EU-SPORT-AWARDS - Across generations | https://ec.europa.eu/info/funding-tenders/opportunities/portal/screen/opportunities/topic-details/ERASMUS-SPORT-2025-EU-AWARDS-GENERATIONS?isExactMatch=true&status=31094501,31094502&order=DESC&pageNumber=4&pageSize=50&sortBy=startDate | Statut: Open For Submission | 📅 Ouverture: 11 June 2025 → Deadline: 24 September 2025 | Extra: Single-stage\n",
      "✔ #BeActive-EU-SPORT-AWARDS – Physical activity | https://ec.europa.eu/info/funding-tenders/opportunities/portal/screen/opportunities/topic-details/ERASMUS-SPORT-2025-EU-AWARDS-PHYSICAL-ACTIVITY?isExactMatch=true&status=31094501,31094502&order=DESC&pageNumber=4&pageSize=50&sortBy=startDate | Statut: Open For Submission | 📅 Ouverture: 11 June 2025 → Deadline: 24 September 2025 | Extra: Single-stage\n",
      "✔ #BeActive-EU-SPORT-AWARDS-Volunteering | https://ec.europa.eu/info/funding-tenders/opportunities/portal/screen/opportunities/topic-details/ERASMUS-SPORT-2025-EU-AWARDS-VOLUNTEERING?isExactMatch=true&status=31094501,31094502&order=DESC&pageNumber=4&pageSize=50&sortBy=startDate | Statut: Open For Submission | 📅 Ouverture: 11 June 2025 → Deadline: 24 September 2025 | Extra: Single-stage\n",
      "✔ #BeActive-EU-SPORT-AWARDS-Peace | https://ec.europa.eu/info/funding-tenders/opportunities/portal/screen/opportunities/topic-details/ERASMUS-SPORT-2025-EU-AWARDS-PEACE?isExactMatch=true&status=31094501,31094502&order=DESC&pageNumber=4&pageSize=50&sortBy=startDate | Statut: Open For Submission | 📅 Ouverture: 11 June 2025 → Deadline: 24 September 2025 | Extra: Single-stage\n",
      "✔ XR2Industry 3rd Open Call for use cases | https://ec.europa.eu/info/funding-tenders/opportunities/portal/screen/opportunities/competitive-calls-cs/11064?isExactMatch=true&status=31094501,31094502&order=DESC&pageNumber=4&pageSize=50&sortBy=startDate | Statut: Open For Submission | 📅 Ouverture: 10 June 2025 → Deadline: 12 August 2025 | Extra: Single-stage\n",
      "✔ Call No. 1 for proposals for NGOs to participate in capacity building and receive financial support | https://ec.europa.eu/info/funding-tenders/opportunities/portal/screen/opportunities/competitive-calls-cs/11142?isExactMatch=true&status=31094501,31094502&order=DESC&pageNumber=4&pageSize=50&sortBy=startDate | Statut: Open For Submission | 📅 Ouverture: 10 June 2025 → Deadline: 20 August 2025 | Extra: Multiple Cut-off\n",
      "✔ The DeepTechers | https://ec.europa.eu/info/funding-tenders/opportunities/portal/screen/opportunities/competitive-calls-cs/11072?isExactMatch=true&status=31094501,31094502&order=DESC&pageNumber=4&pageSize=50&sortBy=startDate | Statut: Open For Submission | 📅 Ouverture: 10 June 2025 → Deadline: 18 August 2025 | Extra: Single-stage\n",
      "✔ Call for excellence scholarships for students of the Master's program AI & Health at Stockholm University | https://ec.europa.eu/info/funding-tenders/opportunities/portal/screen/opportunities/competitive-calls-cs/11107?isExactMatch=true&status=31094501,31094502&order=DESC&pageNumber=4&pageSize=50&sortBy=startDate | Statut: Open For Submission | 📅 Ouverture: 10 June 2025 → Deadline: 15 August 2025 | Extra: Single-stage\n",
      "✔ Training of national judges in EU competition law | https://ec.europa.eu/info/funding-tenders/opportunities/portal/screen/opportunities/topic-details/SMP-COMP-2025-JUDG?isExactMatch=true&status=31094501,31094502&order=DESC&pageNumber=4&pageSize=50&sortBy=startDate | Statut: Open For Submission | 📅 Ouverture: 10 June 2025 → Deadline: 24 September 2025 | Extra: Single-stage\n",
      "✔ Robust and trustworthy GenerativeAI for Robotics and industrial automation (RIA) (AI/Data/Robotics & Made in Europe Partnerships) | https://ec.europa.eu/info/funding-tenders/opportunities/portal/screen/opportunities/topic-details/HORIZON-CL4-2025-03-DIGITAL-EMERGING-07?isExactMatch=true&status=31094501,31094502&order=DESC&pageNumber=4&pageSize=50&sortBy=startDate | Statut: Open For Submission | 📅 Ouverture: 10 June 2025 → Deadline: 02 October 2025 | Extra: Single-stage\n",
      "✔ Innovative Advanced Materials (IAMs) for photonics, enabling low-power and ultra-broadband performance for telecommunication (RIA) (Innovative Advanced Materials for Europe partnership) | https://ec.europa.eu/info/funding-tenders/opportunities/portal/screen/opportunities/topic-details/HORIZON-CL4-2025-03-MATERIALS-46?isExactMatch=true&status=31094501,31094502&order=DESC&pageNumber=4&pageSize=50&sortBy=startDate | Statut: Open For Submission | 📅 Ouverture: 10 June 2025 → Deadline: 02 October 2025 | Extra: Single-stage\n",
      "✔ Strengthening the fabless Start-up and SME ecosystem in Europe (CSA) | https://ec.europa.eu/info/funding-tenders/opportunities/portal/screen/opportunities/topic-details/HORIZON-CL4-2025-03-DIGITAL-EMERGING-08?isExactMatch=true&status=31094501,31094502&order=DESC&pageNumber=4&pageSize=50&sortBy=startDate | Statut: Open For Submission | 📅 Ouverture: 10 June 2025 → Deadline: 02 October 2025 | Extra: Single-stage\n",
      "✔ Continuation of the Quantum Technologies Flagship (CSA) | https://ec.europa.eu/info/funding-tenders/opportunities/portal/screen/opportunities/topic-details/HORIZON-CL4-2025-03-DIGITAL-EMERGING-01?isExactMatch=true&status=31094501,31094502&order=DESC&pageNumber=4&pageSize=50&sortBy=startDate | Statut: Open For Submission | 📅 Ouverture: 10 June 2025 → Deadline: 02 October 2025 | Extra: Single-stage\n",
      "✔ Open Internet Stack: development of technological commons/open-source 3C building blocks (RIA) | https://ec.europa.eu/info/funding-tenders/opportunities/portal/screen/opportunities/topic-details/HORIZON-CL4-2025-03-DATA-11?isExactMatch=true&status=31094501,31094502&order=DESC&pageNumber=4&pageSize=50&sortBy=startDate | Statut: Open For Submission | 📅 Ouverture: 10 June 2025 → Deadline: 02 October 2025 | Extra: Single-stage\n",
      "✔ Alignment of stakeholders towards the supply-side large-scale pilot of end-to-end infrastructures integrating device, network computing and communication capabilities (CSA) | https://ec.europa.eu/info/funding-tenders/opportunities/portal/screen/opportunities/topic-details/HORIZON-CL4-2025-03-DATA-09?isExactMatch=true&status=31094501,31094502&order=DESC&pageNumber=4&pageSize=50&sortBy=startDate | Statut: Open For Submission | 📅 Ouverture: 10 June 2025 → Deadline: 02 October 2025 | Extra: Single-stage\n",
      "✔ Preparing the Advancement of the state of the art of submarine cable infrastructures (CSA) | https://ec.europa.eu/info/funding-tenders/opportunities/portal/screen/opportunities/topic-details/HORIZON-CL4-2025-03-DATA-12?isExactMatch=true&status=31094501,31094502&order=DESC&pageNumber=4&pageSize=50&sortBy=startDate | Statut: Open For Submission | 📅 Ouverture: 10 June 2025 → Deadline: 02 October 2025 | Extra: Single-stage\n",
      "✔ Roadmap for next generation computing technologies from IoT device level to edge to cloud to HPC (CSA) | https://ec.europa.eu/info/funding-tenders/opportunities/portal/screen/opportunities/topic-details/HORIZON-CL4-2025-03-DATA-10?isExactMatch=true&status=31094501,31094502&order=DESC&pageNumber=4&pageSize=50&sortBy=startDate | Statut: Open For Submission | 📅 Ouverture: 10 June 2025 → Deadline: 02 October 2025 | Extra: Single-stage\n",
      "✔ GenAI4EU central Hub (CSA) (AI/Data/Robotics Partnership) | https://ec.europa.eu/info/funding-tenders/opportunities/portal/screen/opportunities/topic-details/HORIZON-CL4-2025-03-HUMAN-18?isExactMatch=true&status=31094501,31094502&order=DESC&pageNumber=4&pageSize=50&sortBy=startDate | Statut: Open For Submission | 📅 Ouverture: 10 June 2025 → Deadline: 02 October 2025 | Extra: Single-stage\n",
      "✔ Challenge-Driven GenAI4EU Booster (RIA) (AI/Data/Robotics Partnership) | https://ec.europa.eu/info/funding-tenders/opportunities/portal/screen/opportunities/topic-details/HORIZON-CL4-2025-03-DIGITAL-EMERGING-09?isExactMatch=true&status=31094501,31094502&order=DESC&pageNumber=4&pageSize=50&sortBy=startDate | Statut: Open For Submission | 📅 Ouverture: 10 June 2025 → Deadline: 02 October 2025 | Extra: Single-stage\n",
      "✔ Supporting Digital Partnerships in Quantum technologies (RIA) | https://ec.europa.eu/info/funding-tenders/opportunities/portal/screen/opportunities/topic-details/HORIZON-CL4-2025-03-DIGITAL-EMERGING-03?isExactMatch=true&status=31094501,31094502&order=DESC&pageNumber=4&pageSize=50&sortBy=startDate | Statut: Open For Submission | 📅 Ouverture: 10 June 2025 → Deadline: 02 October 2025 | Extra: Single-stage\n",
      "✔ Innovative Advanced Materials (IAMs) for conformable, flexible or stretchable electronics (RIA) (Innovative Advanced Materials for Europe partnership) | https://ec.europa.eu/info/funding-tenders/opportunities/portal/screen/opportunities/topic-details/HORIZON-CL4-2025-03-MATERIALS-47?isExactMatch=true&status=31094501,31094502&order=DESC&pageNumber=4&pageSize=50&sortBy=startDate | Statut: Open For Submission | 📅 Ouverture: 10 June 2025 → Deadline: 02 October 2025 | Extra: Single-stage\n",
      "✔ Community Centres of Excellence | https://ec.europa.eu/info/funding-tenders/opportunities/portal/screen/opportunities/topic-details/HORIZON-JU-EUROHPC-2026-COE-LH-01-01?isExactMatch=true&status=31094501,31094502&order=DESC&pageNumber=4&pageSize=50&sortBy=startDate | Statut: Open For Submission | 📅 Ouverture: 10 June 2025 → Deadline: 20 January 2026 | Extra: Single-stage\n",
      "➡️ Passage à la page suivante...\n",
      "📄 Page 5 : 44 projets trouvés.\n",
      "✔ Specific support for the Virtual Worlds Partnership and the Web 4.0 initiative (CSA) (Virtual Worlds Partnership) | https://ec.europa.eu/info/funding-tenders/opportunities/portal/screen/opportunities/topic-details/HORIZON-CL4-2025-03-HUMAN-17?isExactMatch=true&status=31094501,31094502&order=DESC&pageNumber=5&pageSize=50&sortBy=startDate | Statut: Open For Submission | 📅 Ouverture: 10 June 2025 → Deadline: 02 October 2025 | Extra: Single-stage\n",
      "✔ Post-exascale HPC (CSA) | https://ec.europa.eu/info/funding-tenders/opportunities/portal/screen/opportunities/topic-details/HORIZON-CL4-2025-03-DIGITAL-EMERGING-04?isExactMatch=true&status=31094501,31094502&order=DESC&pageNumber=5&pageSize=50&sortBy=startDate | Statut: Open For Submission | 📅 Ouverture: 10 June 2025 → Deadline: 02 October 2025 | Extra: Single-stage\n",
      "✔ Lighthouse Codes for HPC Applications | https://ec.europa.eu/info/funding-tenders/opportunities/portal/screen/opportunities/topic-details/HORIZON-JU-EUROHPC-2026-COE-LH-01-03?isExactMatch=true&status=31094501,31094502&order=DESC&pageNumber=5&pageSize=50&sortBy=startDate | Statut: Open For Submission | 📅 Ouverture: 10 June 2025 → Deadline: 20 January 2026 | Extra: Single-stage\n",
      "✔ Transversal Centres of Excellence | https://ec.europa.eu/info/funding-tenders/opportunities/portal/screen/opportunities/topic-details/HORIZON-JU-EUROHPC-2026-COE-LH-01-02?isExactMatch=true&status=31094501,31094502&order=DESC&pageNumber=5&pageSize=50&sortBy=startDate | Statut: Open For Submission | 📅 Ouverture: 10 June 2025 → Deadline: 20 January 2026 | Extra: Single-stage\n",
      "✔ Quantum Computing – complementing the quantum computing FPAs with the development of a technology agnostic software stack (RIA) | https://ec.europa.eu/info/funding-tenders/opportunities/portal/screen/opportunities/topic-details/HORIZON-CL4-2025-03-DIGITAL-EMERGING-02?isExactMatch=true&status=31094501,31094502&order=DESC&pageNumber=5&pageSize=50&sortBy=startDate | Statut: Open For Submission | 📅 Ouverture: 10 June 2025 → Deadline: 02 October 2025 | Extra: Single-stage\n",
      "✔ Core technologies for virtual worlds (RIA) (Virtual Worlds and Photonics Partnerships) | https://ec.europa.eu/info/funding-tenders/opportunities/portal/screen/opportunities/topic-details/HORIZON-CL4-2025-03-HUMAN-14?isExactMatch=true&status=31094501,31094502&order=DESC&pageNumber=5&pageSize=50&sortBy=startDate | Statut: Open For Submission | 📅 Ouverture: 10 June 2025 → Deadline: 02 October 2025 | Extra: Single-stage\n",
      "✔ Drive the evolution of the internet towards open and interoperable Web 4.0 and Virtual Worlds: building blocks in priority areas (RIA) (Virtual Worlds Partnership) | https://ec.europa.eu/info/funding-tenders/opportunities/portal/screen/opportunities/topic-details/HORIZON-CL4-2025-03-HUMAN-16?isExactMatch=true&status=31094501,31094502&order=DESC&pageNumber=5&pageSize=50&sortBy=startDate | Statut: Open For Submission | 📅 Ouverture: 10 June 2025 → Deadline: 02 October 2025 | Extra: Single-stage\n",
      "✔ Large-scale pilots for supply end-to-end infrastructures integrating device, network computing and communication capabilities for Telco Edge Cloud deployments, as a basis for Connected Collaborative Computing Networks (3C networks) (RIA) | https://ec.europa.eu/info/funding-tenders/opportunities/portal/screen/opportunities/topic-details/HORIZON-CL4-2025-03-DATA-08?isExactMatch=true&status=31094501,31094502&order=DESC&pageNumber=5&pageSize=50&sortBy=startDate | Statut: Open For Submission | 📅 Ouverture: 10 June 2025 → Deadline: 02 October 2025 | Extra: Single-stage\n",
      "✔ International cooperation in semiconductors (CSA) | https://ec.europa.eu/info/funding-tenders/opportunities/portal/screen/opportunities/topic-details/HORIZON-CL4-2025-03-HUMAN-19?isExactMatch=true&status=31094501,31094502&order=DESC&pageNumber=5&pageSize=50&sortBy=startDate | Statut: Open For Submission | 📅 Ouverture: 10 June 2025 → Deadline: 02 October 2025 | Extra: Single-stage\n",
      "✔ Fostering Innovative and Compliant Data Ecosystems (IA) (AI, Data and Robotics Partnership) | https://ec.europa.eu/info/funding-tenders/opportunities/portal/screen/opportunities/topic-details/HORIZON-CL4-2025-03-DATA-13?isExactMatch=true&status=31094501,31094502&order=DESC&pageNumber=5&pageSize=50&sortBy=startDate | Statut: Open For Submission | 📅 Ouverture: 10 June 2025 → Deadline: 02 October 2025 | Extra: Single-stage\n",
      "✔ GenAI4EU: Generative AI for Virtual Worlds: Advanced technologies for better performance and hyper personalised and immersive experience (IA) (AI/Data/Robotics & Virtual Worlds Partnerships) | https://ec.europa.eu/info/funding-tenders/opportunities/portal/screen/opportunities/topic-details/HORIZON-CL4-2025-03-HUMAN-15?isExactMatch=true&status=31094501,31094502&order=DESC&pageNumber=5&pageSize=50&sortBy=startDate | Statut: Open For Submission | 📅 Ouverture: 10 June 2025 → Deadline: 02 October 2025 | Extra: Single-stage\n",
      "✔ Soft Robotics for Advanced physical capabilities (IA) (AI/Data/Robotics Partnership) | https://ec.europa.eu/info/funding-tenders/opportunities/portal/screen/opportunities/topic-details/HORIZON-CL4-2025-04-DIGITAL-EMERGING-05?isExactMatch=true&status=31094501,31094502&order=DESC&pageNumber=5&pageSize=50&sortBy=startDate | Statut: Open For Submission | 📅 Ouverture: 10 June 2025 → Deadline: 02 October 2025 | Extra: Single-stage\n",
      "✔ Enhanced Learning Strategies for General Purpose AI: Advancing GenAI4EU (RIA) (AI/Data/Robotics Partnership) | https://ec.europa.eu/info/funding-tenders/opportunities/portal/screen/opportunities/topic-details/HORIZON-CL4-2025-04-DIGITAL-EMERGING-07?isExactMatch=true&status=31094501,31094502&order=DESC&pageNumber=5&pageSize=50&sortBy=startDate | Statut: Open For Submission | 📅 Ouverture: 10 June 2025 → Deadline: 02 October 2025 | Extra: Single-stage\n",
      "✔ Empowering AI/generative AI along the Cognitive Computing continuum (RIA) (AI/Data/Robotics Partnership) | https://ec.europa.eu/info/funding-tenders/opportunities/portal/screen/opportunities/topic-details/HORIZON-CL4-2025-04-DATA-02?isExactMatch=true&status=31094501,31094502&order=DESC&pageNumber=5&pageSize=50&sortBy=startDate | Statut: Open For Submission | 📅 Ouverture: 10 June 2025 → Deadline: 02 October 2025 | Extra: Single-stage\n",
      "✔ Advanced sensor technologies and multimodal sensor integration for multiple application domains (IA) (Photonics Partnership) | https://ec.europa.eu/info/funding-tenders/opportunities/portal/screen/opportunities/topic-details/HORIZON-CL4-2025-04-DIGITAL-EMERGING-01?isExactMatch=true&status=31094501,31094502&order=DESC&pageNumber=5&pageSize=50&sortBy=startDate | Statut: Open For Submission | 📅 Ouverture: 10 June 2025 → Deadline: 02 October 2025 | Extra: Single-stage\n",
      "✔ Assessment methodologies for General Purpose AI capabilities and risks (RIA) (AI/Data/Robotics Partnership) | https://ec.europa.eu/info/funding-tenders/opportunities/portal/screen/opportunities/topic-details/HORIZON-CL4-2025-04-DIGITAL-EMERGING-04?isExactMatch=true&status=31094501,31094502&order=DESC&pageNumber=5&pageSize=50&sortBy=startDate | Statut: Open For Submission | 📅 Ouverture: 10 June 2025 → Deadline: 02 October 2025 | Extra: Single-stage\n",
      "✔ GenAI for Africa | https://ec.europa.eu/info/funding-tenders/opportunities/portal/screen/opportunities/topic-details/HORIZON-CL4-2025-04-HUMAN-08?isExactMatch=true&status=31094501,31094502&order=DESC&pageNumber=5&pageSize=50&sortBy=startDate | Statut: Open For Submission | 📅 Ouverture: 10 June 2025 → Deadline: 02 October 2025 | Extra: Single-stage\n",
      "✔ Software Engineering for AI and generative AI (RIA) (AI/Data/Robotics Partnership) | https://ec.europa.eu/info/funding-tenders/opportunities/portal/screen/opportunities/topic-details/HORIZON-CL4-2025-04-DATA-03?isExactMatch=true&status=31094501,31094502&order=DESC&pageNumber=5&pageSize=50&sortBy=startDate | Statut: Open For Submission | 📅 Ouverture: 10 June 2025 → Deadline: 02 October 2025 | Extra: Single-stage\n",
      "✔ Call for Grant Proposals: Code4Europe | https://ec.europa.eu/info/funding-tenders/opportunities/portal/screen/opportunities/competitive-calls-cs/11066?isExactMatch=true&status=31094501,31094502&order=DESC&pageNumber=5&pageSize=50&sortBy=startDate | Statut: Open For Submission | 📅 Ouverture: 06 June 2025 → Deadline: 06 August 2025 | Extra: Single-stage\n",
      "✔ Subvenții pentru educație pentru evenimente și inițiative educaționale inovatoare în cadrul EU Code Week 2025 | https://ec.europa.eu/info/funding-tenders/opportunities/portal/screen/opportunities/competitive-calls-cs/11076?isExactMatch=true&status=31094501,31094502&order=DESC&pageNumber=5&pageSize=50&sortBy=startDate | Statut: Open For Submission | 📅 Ouverture: 06 June 2025 → Deadline: 06 August 2025 | Extra: Single-stage\n",
      "✔ Small Grants for Grassroots Coding Projects in Belgium and the Netherlands as part of EU Code Week | https://ec.europa.eu/info/funding-tenders/opportunities/portal/screen/opportunities/competitive-calls-cs/11070?isExactMatch=true&status=31094501,31094502&order=DESC&pageNumber=5&pageSize=50&sortBy=startDate | Statut: Open For Submission | 📅 Ouverture: 06 June 2025 → Deadline: 22 August 2025 | Extra: Single-stage\n",
      "✔ 5th REINFORCING Open Call (Incubators Call) on \"Responsible Digitalization\" | https://ec.europa.eu/info/funding-tenders/opportunities/portal/screen/opportunities/competitive-calls-cs/11122?isExactMatch=true&status=31094501,31094502&order=DESC&pageNumber=5&pageSize=50&sortBy=startDate | Statut: Open For Submission | 📅 Ouverture: 05 June 2025 → Deadline: 05 August 2025 | Extra: Single-stage\n",
      "✔ ROVA - Roma CSOs promoting EU values | https://ec.europa.eu/info/funding-tenders/opportunities/portal/screen/opportunities/competitive-calls-cs/11121?isExactMatch=true&status=31094501,31094502&order=DESC&pageNumber=5&pageSize=50&sortBy=startDate | Statut: Open For Submission | 📅 Ouverture: 05 June 2025 → Deadline: 05 August 2025 | Extra: Multiple Cut-off\n",
      "✔ EP PerMed Education Call 2025: The EP PerMed Guide to Personalised Medicine for Healthcare Professionals | https://ec.europa.eu/info/funding-tenders/opportunities/portal/screen/opportunities/competitive-calls-cs/11104?isExactMatch=true&status=31094501,31094502&order=DESC&pageNumber=5&pageSize=50&sortBy=startDate | Statut: Open For Submission | 📅 Ouverture: 04 June 2025 → Deadline: 09 September 2025 | Extra: Single-stage\n",
      "✔ Second call for business experiments addressing the uptake of HPC by SMEs | https://ec.europa.eu/info/funding-tenders/opportunities/portal/screen/opportunities/competitive-calls-cs/11080?isExactMatch=true&status=31094501,31094502&order=DESC&pageNumber=5&pageSize=50&sortBy=startDate | Statut: Open For Submission | 📅 Ouverture: 04 June 2025 → Deadline: 26 August 2025 | Extra: Single-stage\n",
      "✔ DIGITAL-JU-CHIPS-2025-CSA-DET | https://ec.europa.eu/info/funding-tenders/opportunities/portal/screen/opportunities/topic-details/DIGITAL-JU-CHIPS-2025-CSA-DET?isExactMatch=true&status=31094501,31094502&order=DESC&pageNumber=5&pageSize=50&sortBy=startDate | Statut: Open For Submission | 📅 Ouverture: 04 June 2025 → Deadline: 30 July 2025 | Extra: Single-stage\n",
      "✔ SOFT Innovation Prize 2026 | https://ec.europa.eu/info/funding-tenders/opportunities/portal/screen/opportunities/topic-details/EURATOM-2026-SOFT-PRIZE?isExactMatch=true&status=31094501,31094502&order=DESC&pageNumber=5&pageSize=50&sortBy=startDate | Statut: Open For Submission | 📅 Ouverture: 03 June 2025 → Deadline: 03 March 2026 | Extra: Single-stage\n",
      "✔ Code4Portugal | https://ec.europa.eu/info/funding-tenders/opportunities/portal/screen/opportunities/competitive-calls-cs/10381?isExactMatch=true&status=31094501,31094502&order=DESC&pageNumber=5&pageSize=50&sortBy=startDate | Statut: Open For Submission | 📅 Ouverture: 02 June 2025 → Deadline: 02 August 2025 | Extra: Single-stage\n",
      "✔ FS4Africa Open Call 1 (OC1) addressed to research and technology stakeholders | https://ec.europa.eu/info/funding-tenders/opportunities/portal/screen/opportunities/competitive-calls-cs/10926?isExactMatch=true&status=31094501,31094502&order=DESC&pageNumber=5&pageSize=50&sortBy=startDate | Statut: Open For Submission | 📅 Ouverture: 02 June 2025 → Deadline: 30 September 2025 | Extra: Single-stage\n",
      "✔ CALL FOR PROPOSALS – Coding Education Grants per eventi e iniziative didattiche innovative nell’ambito della EU Code Week 2025 | https://ec.europa.eu/info/funding-tenders/opportunities/portal/screen/opportunities/competitive-calls-cs/11067?isExactMatch=true&status=31094501,31094502&order=DESC&pageNumber=5&pageSize=50&sortBy=startDate | Statut: Open For Submission | 📅 Ouverture: 02 June 2025 → Deadline: 01 August 2025 | Extra: Single-stage\n",
      "✔ SOILSCAPE Open Call | https://ec.europa.eu/info/funding-tenders/opportunities/portal/screen/opportunities/competitive-calls-cs/11065?isExactMatch=true&status=31094501,31094502&order=DESC&pageNumber=5&pageSize=50&sortBy=startDate | Statut: Open For Submission | 📅 Ouverture: 02 June 2025 → Deadline: 30 September 2025 | Extra: Single-stage\n",
      "✔ Aspektus+ Regional Funding Program: Call 1) Hatókör and Call 2) Helyben ható | https://ec.europa.eu/info/funding-tenders/opportunities/portal/screen/opportunities/competitive-calls-cs/11102?isExactMatch=true&status=31094501,31094502&order=DESC&pageNumber=5&pageSize=50&sortBy=startDate | Statut: Open For Submission | 📅 Ouverture: 02 June 2025 → Deadline: 01 August 2025 | Extra: Multiple Cut-off\n",
      "✔ Women TechEU Open Call #4 | https://ec.europa.eu/info/funding-tenders/opportunities/portal/screen/opportunities/competitive-calls-cs/11108?isExactMatch=true&status=31094501,31094502&order=DESC&pageNumber=5&pageSize=50&sortBy=startDate | Statut: Open For Submission | 📅 Ouverture: 02 June 2025 → Deadline: 04 August 2025 | Extra: Single-stage\n",
      "✔ Journalism Science Alliance - call 1 | https://ec.europa.eu/info/funding-tenders/opportunities/portal/screen/opportunities/competitive-calls-cs/11090?isExactMatch=true&status=31094501,31094502&order=DESC&pageNumber=5&pageSize=50&sortBy=startDate | Statut: Open For Submission | 📅 Ouverture: 02 June 2025 → Deadline: 04 August 2025 | Extra: Single-stage\n",
      "✔ #2 OPEN CALL | LAUDS REPLICATION (OC-2024-LAUDSREP-01) | https://ec.europa.eu/info/funding-tenders/opportunities/portal/screen/opportunities/competitive-calls-cs/11078?isExactMatch=true&status=31094501,31094502&order=DESC&pageNumber=5&pageSize=50&sortBy=startDate | Statut: Open For Submission | 📅 Ouverture: 02 June 2025 → Deadline: 04 September 2025 | Extra: Single-stage\n",
      "✔ EUDOROS Open Call #1 | https://ec.europa.eu/info/funding-tenders/opportunities/portal/screen/opportunities/competitive-calls-cs/11105?isExactMatch=true&status=31094501,31094502&order=DESC&pageNumber=5&pageSize=50&sortBy=startDate | Statut: Open For Submission | 📅 Ouverture: 02 June 2025 → Deadline: 06 August 2025 | Extra: Single-stage\n",
      "✔ NGI Fediversity open call (2025-08F) | https://ec.europa.eu/info/funding-tenders/opportunities/portal/screen/opportunities/competitive-calls-cs/10464?isExactMatch=true&status=31094501,31094502&order=DESC&pageNumber=5&pageSize=50&sortBy=startDate | Statut: Open For Submission | 📅 Ouverture: 01 June 2025 → Deadline: 01 August 2025 | Extra: Single-stage\n",
      "✔ NGI Zero Commons Fund (2025-08Z) | https://ec.europa.eu/info/funding-tenders/opportunities/portal/screen/opportunities/competitive-calls-cs/10462?isExactMatch=true&status=31094501,31094502&order=DESC&pageNumber=5&pageSize=50&sortBy=startDate | Statut: Open For Submission | 📅 Ouverture: 01 June 2025 → Deadline: 01 August 2025 | Extra: Single-stage\n",
      "✔ ENVELOPE 1st Open Call | https://ec.europa.eu/info/funding-tenders/opportunities/portal/screen/opportunities/competitive-calls-cs/10928?isExactMatch=true&status=31094501,31094502&order=DESC&pageNumber=5&pageSize=50&sortBy=startDate | Statut: Open For Submission | 📅 Ouverture: 01 June 2025 → Deadline: 31 July 2025 | Extra: Single-stage\n",
      "✔ NGI TALER open call (2025-08T) | https://ec.europa.eu/info/funding-tenders/opportunities/portal/screen/opportunities/competitive-calls-cs/10468?isExactMatch=true&status=31094501,31094502&order=DESC&pageNumber=5&pageSize=50&sortBy=startDate | Statut: Open For Submission | 📅 Ouverture: 01 June 2025 → Deadline: 01 August 2025 | Extra: Single-stage\n",
      "✔ Open Call for Artists, Citizens and Designers | https://ec.europa.eu/info/funding-tenders/opportunities/portal/screen/opportunities/competitive-calls-cs/11083?isExactMatch=true&status=31094501,31094502&order=DESC&pageNumber=5&pageSize=50&sortBy=startDate | Statut: Open For Submission | 📅 Ouverture: 30 May 2025 → Deadline: 30 July 2025 | Extra: Single-stage\n",
      "✔ Open call for Urban Factories | https://ec.europa.eu/info/funding-tenders/opportunities/portal/screen/opportunities/competitive-calls-cs/11084?isExactMatch=true&status=31094501,31094502&order=DESC&pageNumber=5&pageSize=50&sortBy=startDate | Statut: Open For Submission | 📅 Ouverture: 30 May 2025 → Deadline: 30 July 2025 | Extra: Single-stage\n",
      "✔ Thematic grants | https://ec.europa.eu/info/funding-tenders/opportunities/portal/screen/opportunities/competitive-calls-cs/11075?isExactMatch=true&status=31094501,31094502&order=DESC&pageNumber=5&pageSize=50&sortBy=startDate | Statut: Open For Submission | 📅 Ouverture: 30 May 2025 → Deadline: 29 August 2025 | Extra: Single-stage\n",
      "✔ MSCA Doctoral Networks 2025 | https://ec.europa.eu/info/funding-tenders/opportunities/portal/screen/opportunities/topic-details/HORIZON-MSCA-2025-DN-01-01?isExactMatch=true&status=31094501,31094502&order=DESC&pageNumber=5&pageSize=50&sortBy=startDate | Statut: Open For Submission | 📅 Ouverture: 28 May 2025 → Deadline: 25 November 2025 | Extra: Single-stage\n",
      "➡️ Passage à la page suivante...\n",
      "📄 Page 6 : 49 projets trouvés.\n",
      "✔ Co-design of the SPSI Methodological Infrastructure of the Future Science Service for Biodiversity (SSBD) | https://ec.europa.eu/info/funding-tenders/opportunities/portal/screen/opportunities/competitive-calls-cs/11079?isExactMatch=true&status=31094501,31094502&order=DESC&pageNumber=6&pageSize=50&sortBy=startDate | Statut: Open For Submission | 📅 Ouverture: 27 May 2025 → Deadline: 31 August 2025 | Extra: Single-stage\n",
      "✔ Call for proposals to promote civil society organisations’ awareness of, capacity building and implementation of the EU Charter of Fundamental Rights | https://ec.europa.eu/info/funding-tenders/opportunities/portal/screen/opportunities/topic-details/CERV-2025-CHAR-LITI?isExactMatch=true&status=31094501,31094502&order=DESC&pageNumber=6&pageSize=50&sortBy=startDate | Statut: Open For Submission | 📅 Ouverture: 27 May 2025 → Deadline: 18 September 2025 | Extra: Single-stage\n",
      "✔ Develop Open Call | https://ec.europa.eu/info/funding-tenders/opportunities/portal/screen/opportunities/competitive-calls-cs/11074?isExactMatch=true&status=31094501,31094502&order=DESC&pageNumber=6&pageSize=50&sortBy=startDate | Statut: Open For Submission | 📅 Ouverture: 26 May 2025 → Deadline: 31 July 2025 | Extra: Single-stage\n",
      "✔ OPEN: Brazil | https://ec.europa.eu/info/funding-tenders/opportunities/portal/screen/opportunities/competitive-calls-cs/11073?isExactMatch=true&status=31094501,31094502&order=DESC&pageNumber=6&pageSize=50&sortBy=startDate | Statut: Open For Submission | 📅 Ouverture: 25 May 2025 → Deadline: 28 July 2025 | Extra: Single-stage\n",
      "✔ EU-Japan cooperation on the exploitation of Quantum Space Gravimetry data | https://ec.europa.eu/info/funding-tenders/opportunities/portal/screen/opportunities/topic-details/HORIZON-CL4-2025-02-SPACE-81?isExactMatch=true&status=31094501,31094502&order=DESC&pageNumber=6&pageSize=50&sortBy=startDate | Statut: Open For Submission | 📅 Ouverture: 22 May 2025 → Deadline: 25 September 2025 | Extra: Single-stage\n",
      "✔ Advanced manufacturing technologies for leadership of EU manufacturers in products for the net-zero industry (Made in Europe Partnership) (IA) | https://ec.europa.eu/info/funding-tenders/opportunities/portal/screen/opportunities/topic-details/HORIZON-CL4-INDUSTRY-2025-01-TWIN-TRANSITION-05?isExactMatch=true&status=31094501,31094502&order=DESC&pageNumber=6&pageSize=50&sortBy=startDate | Statut: Open For Submission | 📅 Ouverture: 22 May 2025 → Deadline: 23 September 2025 | Extra: Single-stage\n",
      "✔ Technologies for critical raw materials and strategic raw materials from end-of-life products (IA) | https://ec.europa.eu/info/funding-tenders/opportunities/portal/screen/opportunities/topic-details/HORIZON-CL4-INDUSTRY-2025-01-MATERIALS-61?isExactMatch=true&status=31094501,31094502&order=DESC&pageNumber=6&pageSize=50&sortBy=startDate | Statut: Open For Submission | 📅 Ouverture: 22 May 2025 → Deadline: 23 September 2025 | Extra: Single-stage\n",
      "✔ Green and resilient flexible production processes (Processes4Planet partnership) (IA) | https://ec.europa.eu/info/funding-tenders/opportunities/portal/screen/opportunities/topic-details/HORIZON-CL4-INDUSTRY-2025-01-TWIN-TRANSITION-32?isExactMatch=true&status=31094501,31094502&order=DESC&pageNumber=6&pageSize=50&sortBy=startDate | Statut: Open For Submission | 📅 Ouverture: 22 May 2025 → Deadline: 23 September 2025 | Extra: Single-stage\n",
      "✔ Horizon Standardisation Booster (CSA) | https://ec.europa.eu/info/funding-tenders/opportunities/portal/screen/opportunities/topic-details/HORIZON-CL4-INDUSTRY-2025-01-HUMAN-60?isExactMatch=true&status=31094501,31094502&order=DESC&pageNumber=6&pageSize=50&sortBy=startDate | Statut: Open For Submission | 📅 Ouverture: 22 May 2025 → Deadline: 23 September 2025 | Extra: Single-stage\n",
      "✔ Interregional Innovation Investments Strand 2a | https://ec.europa.eu/info/funding-tenders/opportunities/portal/screen/opportunities/topic-details/I3-2025-INV2a?isExactMatch=true&status=31094501,31094502&order=DESC&pageNumber=6&pageSize=50&sortBy=startDate | Statut: Open For Submission | 📅 Ouverture: 22 May 2025 → Deadline: 13 November 2025 | Extra: Single-stage\n",
      "✔ Standardisation landscape analyses tool (CSA) | https://ec.europa.eu/info/funding-tenders/opportunities/portal/screen/opportunities/topic-details/HORIZON-CL4-INDUSTRY-2025-01-HUMAN-61?isExactMatch=true&status=31094501,31094502&order=DESC&pageNumber=6&pageSize=50&sortBy=startDate | Statut: Open For Submission | 📅 Ouverture: 22 May 2025 → Deadline: 23 September 2025 | Extra: Single-stage\n",
      "✔ Enhanced logistics and operations of construction sites (IA) | https://ec.europa.eu/info/funding-tenders/opportunities/portal/screen/opportunities/topic-details/HORIZON-CL4-2025-05-TWIN-TRANSITION-11-two-stage?isExactMatch=true&status=31094501,31094502&order=DESC&pageNumber=6&pageSize=50&sortBy=startDate | Statut: Open For Submission | 📅 Ouverture: 22 May 2025 → Deadline: 23 September 2025 | Extra: Two-stage\n",
      "✔ Innovative Advanced Materials (IAMs) for product monitoring, smart maintenance and repair strategies in the construction sector (RIA) (Innovative Advanced Materials for Europe partnership) | https://ec.europa.eu/info/funding-tenders/opportunities/portal/screen/opportunities/topic-details/HORIZON-CL4-2025-05-MATERIALS-42-two-stage?isExactMatch=true&status=31094501,31094502&order=DESC&pageNumber=6&pageSize=50&sortBy=startDate | Statut: Open For Submission | 📅 Ouverture: 22 May 2025 → Deadline: 23 September 2025 | Extra: Two-stage\n",
      "✔ Demonstrators for clusters of social circular enterprises (IA) | https://ec.europa.eu/info/funding-tenders/opportunities/portal/screen/opportunities/topic-details/HORIZON-CL4-2025-05-TWIN-TRANSITION-21-two-stage?isExactMatch=true&status=31094501,31094502&order=DESC&pageNumber=6&pageSize=50&sortBy=startDate | Statut: Open For Submission | 📅 Ouverture: 22 May 2025 → Deadline: 23 September 2025 | Extra: Two-stage\n",
      "✔ Development of safe and sustainable by design alternatives to Perfluoroalkyl and Polyfluoroalkyl Substances (PFAS) (IA) | https://ec.europa.eu/info/funding-tenders/opportunities/portal/screen/opportunities/topic-details/HORIZON-CL4-2025-05-MATERIALS-51-two-stage?isExactMatch=true&status=31094501,31094502&order=DESC&pageNumber=6&pageSize=50&sortBy=startDate | Statut: Open For Submission | 📅 Ouverture: 22 May 2025 → Deadline: 23 September 2025 | Extra: Two-stage\n",
      "✔ Innovative Advanced Materials (IAMs) for robust, fast curing sealants and coatings for manufacturing and final assembly (IA) (Innovative Advanced Materials for Europe partnership) | https://ec.europa.eu/info/funding-tenders/opportunities/portal/screen/opportunities/topic-details/HORIZON-CL4-2025-05-MATERIALS-43-two-stage?isExactMatch=true&status=31094501,31094502&order=DESC&pageNumber=6&pageSize=50&sortBy=startDate | Statut: Open For Submission | 📅 Ouverture: 22 May 2025 → Deadline: 23 September 2025 | Extra: Two-stage\n",
      "✔ Developing and embedding upcycling technologies into viable business (Processes4Planet partnership) (IA) | https://ec.europa.eu/info/funding-tenders/opportunities/portal/screen/opportunities/topic-details/HORIZON-CL4-2025-05-TWIN-TRANSITION-35-two-stage?isExactMatch=true&status=31094501,31094502&order=DESC&pageNumber=6&pageSize=50&sortBy=startDate | Statut: Open For Submission | 📅 Ouverture: 22 May 2025 → Deadline: 23 September 2025 | Extra: Two-stage\n",
      "✔ Physical and cognitive augmentation in advanced manufacturing (Made in Europe Partnership) (RIA) | https://ec.europa.eu/info/funding-tenders/opportunities/portal/screen/opportunities/topic-details/HORIZON-CL4-INDUSTRY-2025-01-TWIN-TRANSITION-02?isExactMatch=true&status=31094501,31094502&order=DESC&pageNumber=6&pageSize=50&sortBy=startDate | Statut: Open For Submission | 📅 Ouverture: 22 May 2025 → Deadline: 23 September 2025 | Extra: Single-stage\n",
      "✔ Development of antibodies and antibody-derived proteins for the prevention and treatment of infectious diseases with epidemic potential | https://ec.europa.eu/info/funding-tenders/opportunities/portal/screen/opportunities/topic-details/HORIZON-HLTH-2025-01-DISEASE-03?isExactMatch=true&status=31094501,31094502&order=DESC&pageNumber=6&pageSize=50&sortBy=startDate | Statut: Open For Submission | 📅 Ouverture: 22 May 2025 → Deadline: 16 September 2025 | Extra: Single-stage\n",
      "✔ Boosting the translation of biotech research into innovative health therapies | https://ec.europa.eu/info/funding-tenders/opportunities/portal/screen/opportunities/topic-details/HORIZON-HLTH-2025-01-TOOL-05?isExactMatch=true&status=31094501,31094502&order=DESC&pageNumber=6&pageSize=50&sortBy=startDate | Statut: Open For Submission | 📅 Ouverture: 22 May 2025 → Deadline: 16 September 2025 | Extra: Single-stage\n",
      "✔ Leveraging multimodal data to advance Generative Artificial Intelligence applicability in biomedical research (GenAI4EU) | https://ec.europa.eu/info/funding-tenders/opportunities/portal/screen/opportunities/topic-details/HORIZON-HLTH-2025-01-TOOL-03?isExactMatch=true&status=31094501,31094502&order=DESC&pageNumber=6&pageSize=50&sortBy=startDate | Statut: Open For Submission | 📅 Ouverture: 22 May 2025 → Deadline: 16 September 2025 | Extra: Single-stage\n",
      "✔ Digitalisation of conformity assessment procedures of medical devices and in vitro diagnostic medical devices | https://ec.europa.eu/info/funding-tenders/opportunities/portal/screen/opportunities/topic-details/HORIZON-HLTH-2025-01-IND-02?isExactMatch=true&status=31094501,31094502&order=DESC&pageNumber=6&pageSize=50&sortBy=startDate | Statut: Open For Submission | 📅 Ouverture: 22 May 2025 → Deadline: 16 September 2025 | Extra: Single-stage\n",
      "✔ Support for the functioning of the Global Research Collaboration for Infectious Disease Preparedness (GloPID-R) | https://ec.europa.eu/info/funding-tenders/opportunities/portal/screen/opportunities/topic-details/HORIZON-HLTH-2025-01-DISEASE-05?isExactMatch=true&status=31094501,31094502&order=DESC&pageNumber=6&pageSize=50&sortBy=startDate | Statut: Open For Submission | 📅 Ouverture: 22 May 2025 → Deadline: 16 September 2025 | Extra: Single-stage\n",
      "✔ Tackling high-burden for patients and under-researched medical conditions | https://ec.europa.eu/info/funding-tenders/opportunities/portal/screen/opportunities/topic-details/HORIZON-HLTH-2025-01-DISEASE-07?isExactMatch=true&status=31094501,31094502&order=DESC&pageNumber=6&pageSize=50&sortBy=startDate | Statut: Open For Submission | 📅 Ouverture: 22 May 2025 → Deadline: 16 September 2025 | Extra: Single-stage\n",
      "✔ Optimising the manufacturing of Advanced Therapy Medicinal Products (ATMPs) | https://ec.europa.eu/info/funding-tenders/opportunities/portal/screen/opportunities/topic-details/HORIZON-HLTH-2025-01-IND-01?isExactMatch=true&status=31094501,31094502&order=DESC&pageNumber=6&pageSize=50&sortBy=startDate | Statut: Open For Submission | 📅 Ouverture: 22 May 2025 → Deadline: 16 September 2025 | Extra: Single-stage\n",
      "✔ The impact of pollution on the development and progression of brain diseases and disorders | https://ec.europa.eu/info/funding-tenders/opportunities/portal/screen/opportunities/topic-details/HORIZON-HLTH-2025-03-ENVHLTH-01-two-stage?isExactMatch=true&status=31094501,31094502&order=DESC&pageNumber=6&pageSize=50&sortBy=startDate | Statut: Open For Submission | 📅 Ouverture: 22 May 2025 → Deadline: 16 September 2025 | Extra: Two-stage\n",
      "✔ Implementation research addressing strategies to strengthen health systems for equitable high-quality care and health outcomes in the context of non-communicable diseases (GACD) | https://ec.europa.eu/info/funding-tenders/opportunities/portal/screen/opportunities/topic-details/HORIZON-HLTH-2025-01-DISEASE-06?isExactMatch=true&status=31094501,31094502&order=DESC&pageNumber=6&pageSize=50&sortBy=startDate | Statut: Open For Submission | 📅 Ouverture: 22 May 2025 → Deadline: 16 September 2025 | Extra: Single-stage\n",
      "✔ Leveraging artificial intelligence for pandemic preparedness and response | https://ec.europa.eu/info/funding-tenders/opportunities/portal/screen/opportunities/topic-details/HORIZON-HLTH-2025-01-DISEASE-04?isExactMatch=true&status=31094501,31094502&order=DESC&pageNumber=6&pageSize=50&sortBy=startDate | Statut: Open For Submission | 📅 Ouverture: 22 May 2025 → Deadline: 16 September 2025 | Extra: Single-stage\n",
      "✔ Enhancing cell therapies with genomic techniques | https://ec.europa.eu/info/funding-tenders/opportunities/portal/screen/opportunities/topic-details/HORIZON-HLTH-2025-01-TOOL-01?isExactMatch=true&status=31094501,31094502&order=DESC&pageNumber=6&pageSize=50&sortBy=startDate | Statut: Open For Submission | 📅 Ouverture: 22 May 2025 → Deadline: 16 September 2025 | Extra: Single-stage\n",
      "✔ End user-driven application of Generative Artificial Intelligence models in healthcare (GenAI4EU) | https://ec.europa.eu/info/funding-tenders/opportunities/portal/screen/opportunities/topic-details/HORIZON-HLTH-2025-01-CARE-01?isExactMatch=true&status=31094501,31094502&order=DESC&pageNumber=6&pageSize=50&sortBy=startDate | Statut: Open For Submission | 📅 Ouverture: 22 May 2025 → Deadline: 16 September 2025 | Extra: Single-stage\n",
      "✔ Advancing innovative interventions for mental, behavioural and neurodevelopmental disorders | https://ec.europa.eu/info/funding-tenders/opportunities/portal/screen/opportunities/topic-details/HORIZON-HLTH-2025-03-DISEASE-02-two-stage?isExactMatch=true&status=31094501,31094502&order=DESC&pageNumber=6&pageSize=50&sortBy=startDate | Statut: Open For Submission | 📅 Ouverture: 22 May 2025 → Deadline: 16 September 2025 | Extra: Two-stage\n",
      "✔ Testing safety and efficacy of phage therapy for the treatment of antibiotic-resistant bacterial infections | https://ec.europa.eu/info/funding-tenders/opportunities/portal/screen/opportunities/topic-details/HORIZON-HLTH-2025-01-DISEASE-01?isExactMatch=true&status=31094501,31094502&order=DESC&pageNumber=6&pageSize=50&sortBy=startDate | Statut: Open For Submission | 📅 Ouverture: 22 May 2025 → Deadline: 16 September 2025 | Extra: Single-stage\n",
      "✔ Advancing cell secretome-based therapies | https://ec.europa.eu/info/funding-tenders/opportunities/portal/screen/opportunities/topic-details/HORIZON-HLTH-2025-01-TOOL-02?isExactMatch=true&status=31094501,31094502&order=DESC&pageNumber=6&pageSize=50&sortBy=startDate | Statut: Open For Submission | 📅 Ouverture: 22 May 2025 → Deadline: 16 September 2025 | Extra: Single-stage\n",
      "✔ Advancing knowledge on the impacts of micro- and nanoplastics on human health | https://ec.europa.eu/info/funding-tenders/opportunities/portal/screen/opportunities/topic-details/HORIZON-HLTH-2025-03-ENVHLTH-02-two-stage?isExactMatch=true&status=31094501,31094502&order=DESC&pageNumber=6&pageSize=50&sortBy=startDate | Statut: Open For Submission | 📅 Ouverture: 22 May 2025 → Deadline: 16 September 2025 | Extra: Two-stage\n",
      "✔ Improving the quality of life of persons with intellectual disabilities and their families | https://ec.europa.eu/info/funding-tenders/opportunities/portal/screen/opportunities/topic-details/HORIZON-HLTH-2025-03-STAYHLTH-01-two-stage?isExactMatch=true&status=31094501,31094502&order=DESC&pageNumber=6&pageSize=50&sortBy=startDate | Statut: Open For Submission | 📅 Ouverture: 22 May 2025 → Deadline: 16 September 2025 | Extra: Two-stage\n",
      "✔ Facilitating the conduct of multinational clinical studies of orphan devices and/or of highly innovative (“breakthrough”) devices | https://ec.europa.eu/info/funding-tenders/opportunities/portal/screen/opportunities/topic-details/HORIZON-HLTH-2025-03-IND-03-two-stage?isExactMatch=true&status=31094501,31094502&order=DESC&pageNumber=6&pageSize=50&sortBy=startDate | Statut: Open For Submission | 📅 Ouverture: 22 May 2025 → Deadline: 16 September 2025 | Extra: Two-stage\n",
      "✔ Smart Security / Security Services | https://ec.europa.eu/info/funding-tenders/opportunities/portal/screen/opportunities/topic-details/HORIZON-JU-SNS-2025-01-STREAM-B-04-01?isExactMatch=true&status=31094501,31094502&order=DESC&pageNumber=6&pageSize=50&sortBy=startDate | Statut: Open For Submission | 📅 Ouverture: 22 May 2025 → Deadline: 18 September 2025 | Extra: Single-stage\n",
      "✔ 6G NTN-TN Unification/Integration | https://ec.europa.eu/info/funding-tenders/opportunities/portal/screen/opportunities/topic-details/HORIZON-JU-SNS-2025-01-STREAM-B-03-01?isExactMatch=true&status=31094501,31094502&order=DESC&pageNumber=6&pageSize=50&sortBy=startDate | Statut: Open For Submission | 📅 Ouverture: 22 May 2025 → Deadline: 18 September 2025 | Extra: Single-stage\n",
      "✔ Advanced IoT and Device Technologies | https://ec.europa.eu/info/funding-tenders/opportunities/portal/screen/opportunities/topic-details/HORIZON-JU-SNS-2025-01-STREAM-B-01-02?isExactMatch=true&status=31094501,31094502&order=DESC&pageNumber=6&pageSize=50&sortBy=startDate | Statut: Open For Submission | 📅 Ouverture: 22 May 2025 → Deadline: 18 September 2025 | Extra: Single-stage\n",
      "✔ Microelectronic – Front-End Module (FEM) | https://ec.europa.eu/info/funding-tenders/opportunities/portal/screen/opportunities/topic-details/HORIZON-JU-SNS-2025-01-STREAM-B-05?isExactMatch=true&status=31094501,31094502&order=DESC&pageNumber=6&pageSize=50&sortBy=startDate | Statut: Open For Submission | 📅 Ouverture: 22 May 2025 → Deadline: 18 September 2025 | Extra: Single-stage\n",
      "✔ Reliable Services Operation | https://ec.europa.eu/info/funding-tenders/opportunities/portal/screen/opportunities/topic-details/HORIZON-JU-SNS-2025-01-STREAM-B-04-02?isExactMatch=true&status=31094501,31094502&order=DESC&pageNumber=6&pageSize=50&sortBy=startDate | Statut: Open For Submission | 📅 Ouverture: 22 May 2025 → Deadline: 18 September 2025 | Extra: Single-stage\n",
      "✔ Higher Speed Optical Access Networks and future end-to-end Packet Optical Network Architecture in 6G | https://ec.europa.eu/info/funding-tenders/opportunities/portal/screen/opportunities/topic-details/HORIZON-JU-SNS-2025-01-STREAM-B-03-02?isExactMatch=true&status=31094501,31094502&order=DESC&pageNumber=6&pageSize=50&sortBy=startDate | Statut: Open For Submission | 📅 Ouverture: 22 May 2025 → Deadline: 18 September 2025 | Extra: Single-stage\n",
      "✔ Wireless Communication Technologies and Signal Processing – Standardisation and Follow-up/PoCs | https://ec.europa.eu/info/funding-tenders/opportunities/portal/screen/opportunities/topic-details/HORIZON-JU-SNS-2025-01-STREAM-B-02?isExactMatch=true&status=31094501,31094502&order=DESC&pageNumber=6&pageSize=50&sortBy=startDate | Statut: Open For Submission | 📅 Ouverture: 22 May 2025 → Deadline: 18 September 2025 | Extra: Single-stage\n",
      "✔ 6G Telco Cloud and Service Provision Enablers | https://ec.europa.eu/info/funding-tenders/opportunities/portal/screen/opportunities/topic-details/HORIZON-JU-SNS-2025-01-STREAM-C-01?isExactMatch=true&status=31094501,31094502&order=DESC&pageNumber=6&pageSize=50&sortBy=startDate | Statut: Open For Submission | 📅 Ouverture: 22 May 2025 → Deadline: 18 September 2025 | Extra: Single-stage\n",
      "✔ Advanced Architectures Systems and Technologies | https://ec.europa.eu/info/funding-tenders/opportunities/portal/screen/opportunities/topic-details/HORIZON-JU-SNS-2025-01-STREAM-B-01-01?isExactMatch=true&status=31094501,31094502&order=DESC&pageNumber=6&pageSize=50&sortBy=startDate | Statut: Open For Submission | 📅 Ouverture: 22 May 2025 → Deadline: 18 September 2025 | Extra: Single-stage\n",
      "✔ EU Co-funded Partnership on raw materials for the green and digital transition (Co-funded partnership Raw Materials for the Green and Digital Transition) | https://ec.europa.eu/info/funding-tenders/opportunities/portal/screen/opportunities/topic-details/HORIZON-CL4-INDUSTRY-2025-01-MATERIALS-64?isExactMatch=true&status=31094501,31094502&order=DESC&pageNumber=6&pageSize=50&sortBy=startDate | Statut: Open For Submission | 📅 Ouverture: 22 May 2025 → Deadline: 23 September 2025 | Extra: Single-stage\n",
      "✔ Accelerate the uptake of life-cycle assessment (LCA) for Safe and Sustainable by Design (SSbD) chemicals and materials and resulting products (RIA) | https://ec.europa.eu/info/funding-tenders/opportunities/portal/screen/opportunities/topic-details/HORIZON-CL4-INDUSTRY-2025-01-MATERIALS-52?isExactMatch=true&status=31094501,31094502&order=DESC&pageNumber=6&pageSize=50&sortBy=startDate | Statut: Open For Submission | 📅 Ouverture: 22 May 2025 → Deadline: 23 September 2025 | Extra: Single-stage\n",
      "✔ Assessment of Technology Infrastructure needs in Ukraine (CSA) | https://ec.europa.eu/info/funding-tenders/opportunities/portal/screen/opportunities/topic-details/HORIZON-CL4-INDUSTRY-2025-01-HUMAN-66?isExactMatch=true&status=31094501,31094502&order=DESC&pageNumber=6&pageSize=50&sortBy=startDate | Statut: Open For Submission | 📅 Ouverture: 22 May 2025 → Deadline: 23 September 2025 | Extra: Single-stage\n",
      "✔ Solving issues in carbon-neutral iron and steel making processes with diverse input materials of varying quality (Clean Steel Partnership) (RIA) | https://ec.europa.eu/info/funding-tenders/opportunities/portal/screen/opportunities/topic-details/HORIZON-CL4-INDUSTRY-2025-01-TWIN-TRANSITION-37?isExactMatch=true&status=31094501,31094502&order=DESC&pageNumber=6&pageSize=50&sortBy=startDate | Statut: Open For Submission | 📅 Ouverture: 22 May 2025 → Deadline: 23 September 2025 | Extra: Single-stage\n",
      "➡️ Passage à la page suivante...\n",
      "📄 Page 7 : 50 projets trouvés.\n",
      "✔ System innovation experimentation for Industry 5.0 (IA) | https://ec.europa.eu/info/funding-tenders/opportunities/portal/screen/opportunities/topic-details/HORIZON-CL4-INDUSTRY-2025-01-HUMAN-65?isExactMatch=true&status=31094501,31094502&order=DESC&pageNumber=7&pageSize=50&sortBy=startDate | Statut: Open For Submission | 📅 Ouverture: 22 May 2025 → Deadline: 23 September 2025 | Extra: Single-stage\n",
      "✔ Innovative Advanced Materials Innovation Procurement (CSA) | https://ec.europa.eu/info/funding-tenders/opportunities/portal/screen/opportunities/topic-details/HORIZON-CL4-INDUSTRY-2025-01-MATERIALS-44?isExactMatch=true&status=31094501,31094502&order=DESC&pageNumber=7&pageSize=50&sortBy=startDate | Statut: Open For Submission | 📅 Ouverture: 22 May 2025 → Deadline: 23 September 2025 | Extra: Single-stage\n",
      "✔ Pilot initiatives on Technology Infrastructures (CSA) | https://ec.europa.eu/info/funding-tenders/opportunities/portal/screen/opportunities/topic-details/HORIZON-CL4-INDUSTRY-2025-01-HUMAN-64?isExactMatch=true&status=31094501,31094502&order=DESC&pageNumber=7&pageSize=50&sortBy=startDate | Statut: Open For Submission | 📅 Ouverture: 22 May 2025 → Deadline: 23 September 2025 | Extra: Single-stage\n",
      "✔ Innovative solutions for the sustainable production for Semiconductor raw materials (IA) | https://ec.europa.eu/info/funding-tenders/opportunities/portal/screen/opportunities/topic-details/HORIZON-CL4-INDUSTRY-2025-01-MATERIALS-63?isExactMatch=true&status=31094501,31094502&order=DESC&pageNumber=7&pageSize=50&sortBy=startDate | Statut: Open For Submission | 📅 Ouverture: 22 May 2025 → Deadline: 23 September 2025 | Extra: Single-stage\n",
      "✔ AI Foundation models in science (GenAI4EU) (RIA) | https://ec.europa.eu/info/funding-tenders/opportunities/portal/screen/opportunities/topic-details/HORIZON-CL4-INDUSTRY-2025-01-DIGITAL-61?isExactMatch=true&status=31094501,31094502&order=DESC&pageNumber=7&pageSize=50&sortBy=startDate | Statut: Open For Submission | 📅 Ouverture: 22 May 2025 → Deadline: 23 September 2025 | Extra: Single-stage\n",
      "✔ Value creation pilots for scaling up innovative solutions (CSA) | https://ec.europa.eu/info/funding-tenders/opportunities/portal/screen/opportunities/topic-details/HORIZON-CL4-INDUSTRY-2025-01-HUMAN-63?isExactMatch=true&status=31094501,31094502&order=DESC&pageNumber=7&pageSize=50&sortBy=startDate | Statut: Open For Submission | 📅 Ouverture: 22 May 2025 → Deadline: 23 September 2025 | Extra: Single-stage\n",
      "✔ Synergies and mutual learning with national and regional initiatives in Europe on Industrial decarbonisation (CSA) | https://ec.europa.eu/info/funding-tenders/opportunities/portal/screen/opportunities/topic-details/HORIZON-CL4-INDUSTRY-2025-01-TWIN-TRANSITION-38?isExactMatch=true&status=31094501,31094502&order=DESC&pageNumber=7&pageSize=50&sortBy=startDate | Statut: Open For Submission | 📅 Ouverture: 22 May 2025 → Deadline: 23 September 2025 | Extra: Single-stage\n",
      "✔ Smart integration of net zero technologies into Energy Intensive industries (Processes4Planet and Made in Europe partnerships) (IA) | https://ec.europa.eu/info/funding-tenders/opportunities/portal/screen/opportunities/topic-details/HORIZON-CL4-INDUSTRY-2025-01-TWIN-TRANSITION-34?isExactMatch=true&status=31094501,31094502&order=DESC&pageNumber=7&pageSize=50&sortBy=startDate | Statut: Open For Submission | 📅 Ouverture: 22 May 2025 → Deadline: 23 September 2025 | Extra: Single-stage\n",
      "✔ From heat-driven processes to the use of mechanical and electric forces (Processes4Planet partnership) (IA) | https://ec.europa.eu/info/funding-tenders/opportunities/portal/screen/opportunities/topic-details/HORIZON-CL4-INDUSTRY-2025-01-TWIN-TRANSITION-31?isExactMatch=true&status=31094501,31094502&order=DESC&pageNumber=7&pageSize=50&sortBy=startDate | Statut: Open For Submission | 📅 Ouverture: 22 May 2025 → Deadline: 23 September 2025 | Extra: Single-stage\n",
      "✔ Strategic Partnerships for Raw Materials: Innovative Approaches for sustainable production of Critical Raw Materials (IA) | https://ec.europa.eu/info/funding-tenders/opportunities/portal/screen/opportunities/topic-details/HORIZON-CL4-INDUSTRY-2025-01-MATERIALS-62?isExactMatch=true&status=31094501,31094502&order=DESC&pageNumber=7&pageSize=50&sortBy=startDate | Statut: Open For Submission | 📅 Ouverture: 22 May 2025 → Deadline: 23 September 2025 | Extra: Single-stage\n",
      "✔ Integrated approaches for remanufacturing (Made in Europe Partnership) (IA) | https://ec.europa.eu/info/funding-tenders/opportunities/portal/screen/opportunities/topic-details/HORIZON-CL4-INDUSTRY-2025-01-TWIN-TRANSITION-01?isExactMatch=true&status=31094501,31094502&order=DESC&pageNumber=7&pageSize=50&sortBy=startDate | Statut: Open For Submission | 📅 Ouverture: 22 May 2025 → Deadline: 23 September 2025 | Extra: Single-stage\n",
      "✔ Safe and clean processing technologies and products (Processes4Planet partnership) (RIA) | https://ec.europa.eu/info/funding-tenders/opportunities/portal/screen/opportunities/topic-details/HORIZON-CL4-INDUSTRY-2025-01-TWIN-TRANSITION-36?isExactMatch=true&status=31094501,31094502&order=DESC&pageNumber=7&pageSize=50&sortBy=startDate | Statut: Open For Submission | 📅 Ouverture: 22 May 2025 → Deadline: 23 September 2025 | Extra: Single-stage\n",
      "✔ Facilitated cooperation for AI in Science (CSA) | https://ec.europa.eu/info/funding-tenders/opportunities/portal/screen/opportunities/topic-details/HORIZON-CL4-INDUSTRY-2025-01-DIGITAL-62?isExactMatch=true&status=31094501,31094502&order=DESC&pageNumber=7&pageSize=50&sortBy=startDate | Statut: Open For Submission | 📅 Ouverture: 22 May 2025 → Deadline: 23 September 2025 | Extra: Single-stage\n",
      "✔ Artificial Intelligence for knowledge valorisation (CSA) | https://ec.europa.eu/info/funding-tenders/opportunities/portal/screen/opportunities/topic-details/HORIZON-CL4-INDUSTRY-2025-01-HUMAN-62?isExactMatch=true&status=31094501,31094502&order=DESC&pageNumber=7&pageSize=50&sortBy=startDate | Statut: Open For Submission | 📅 Ouverture: 22 May 2025 → Deadline: 23 September 2025 | Extra: Single-stage\n",
      "✔ Digitally enabled local-for-local textile and apparel production (Textiles for the Future Partnership) (IA) | https://ec.europa.eu/info/funding-tenders/opportunities/portal/screen/opportunities/topic-details/HORIZON-CL4-INDUSTRY-2025-01-MATERIALS-31?isExactMatch=true&status=31094501,31094502&order=DESC&pageNumber=7&pageSize=50&sortBy=startDate | Statut: Open For Submission | 📅 Ouverture: 22 May 2025 → Deadline: 23 September 2025 | Extra: Single-stage\n",
      "✔ Towards human-centric, sustainable and resilient energy-intensive industries (Processes4Planet and Clean Steel partnerships) (CSA) | https://ec.europa.eu/info/funding-tenders/opportunities/portal/screen/opportunities/topic-details/HORIZON-CL4-INDUSTRY-2025-01-TWIN-TRANSITION-39?isExactMatch=true&status=31094501,31094502&order=DESC&pageNumber=7&pageSize=50&sortBy=startDate | Statut: Open For Submission | 📅 Ouverture: 22 May 2025 → Deadline: 23 September 2025 | Extra: Single-stage\n",
      "✔ Materials Commons for Europe (IA) | https://ec.europa.eu/info/funding-tenders/opportunities/portal/screen/opportunities/topic-details/HORIZON-CL4-INDUSTRY-2025-01-MATERIALS-45?isExactMatch=true&status=31094501,31094502&order=DESC&pageNumber=7&pageSize=50&sortBy=startDate | Statut: Open For Submission | 📅 Ouverture: 22 May 2025 → Deadline: 23 September 2025 | Extra: Single-stage\n",
      "✔ Integrated use of renewable energy carriers in industrial sites (Processes4Planet partnership) (RIA) | https://ec.europa.eu/info/funding-tenders/opportunities/portal/screen/opportunities/topic-details/HORIZON-CL4-INDUSTRY-2025-01-TWIN-TRANSITION-33?isExactMatch=true&status=31094501,31094502&order=DESC&pageNumber=7&pageSize=50&sortBy=startDate | Statut: Open For Submission | 📅 Ouverture: 22 May 2025 → Deadline: 23 September 2025 | Extra: Single-stage\n",
      "✔ Space Critical EEE Components for EU non-dependence – Advanced Packages and Memories | https://ec.europa.eu/info/funding-tenders/opportunities/portal/screen/opportunities/topic-details/HORIZON-CL4-2025-02-SPACE-74?isExactMatch=true&status=31094501,31094502&order=DESC&pageNumber=7&pageSize=50&sortBy=startDate | Statut: Open For Submission | 📅 Ouverture: 22 May 2025 → Deadline: 25 September 2025 | Extra: Single-stage\n",
      "✔ CSA on access to European spaceports | https://ec.europa.eu/info/funding-tenders/opportunities/portal/screen/opportunities/topic-details/HORIZON-CL4-2025-02-SPACE-11?isExactMatch=true&status=31094501,31094502&order=DESC&pageNumber=7&pageSize=50&sortBy=startDate | Statut: Open For Submission | 📅 Ouverture: 22 May 2025 → Deadline: 25 September 2025 | Extra: Single-stage\n",
      "✔ Preparing demonstration missions for collaborative Earth Observation and Satellite telecommunication for Space solutions | https://ec.europa.eu/info/funding-tenders/opportunities/portal/screen/opportunities/topic-details/HORIZON-CL4-2025-02-SPACE-32?isExactMatch=true&status=31094501,31094502&order=DESC&pageNumber=7&pageSize=50&sortBy=startDate | Statut: Open For Submission | 📅 Ouverture: 22 May 2025 → Deadline: 25 September 2025 | Extra: Single-stage\n",
      "✔ ISOS Pilot Mission Detailed Design – HOST component | https://ec.europa.eu/info/funding-tenders/opportunities/portal/screen/opportunities/topic-details/HORIZON-CL4-2025-02-SPACE-22?isExactMatch=true&status=31094501,31094502&order=DESC&pageNumber=7&pageSize=50&sortBy=startDate | Statut: Open For Submission | 📅 Ouverture: 22 May 2025 → Deadline: 25 September 2025 | Extra: Single-stage\n",
      "✔ Copernicus Atmosphere Monitoring Service (CAMS) evolution: improved soil-vegetation-atmosphere modelling and data assimilation of atmospheric constituents | https://ec.europa.eu/info/funding-tenders/opportunities/portal/screen/opportunities/topic-details/HORIZON-CL4-2025-02-SPACE-42?isExactMatch=true&status=31094501,31094502&order=DESC&pageNumber=7&pageSize=50&sortBy=startDate | Statut: Open For Submission | 📅 Ouverture: 22 May 2025 → Deadline: 25 September 2025 | Extra: Single-stage\n",
      "✔ Space Critical EEE Components for EU non-dependence - Connectors | https://ec.europa.eu/info/funding-tenders/opportunities/portal/screen/opportunities/topic-details/HORIZON-CL4-2025-02-SPACE-73?isExactMatch=true&status=31094501,31094502&order=DESC&pageNumber=7&pageSize=50&sortBy=startDate | Statut: Open For Submission | 📅 Ouverture: 22 May 2025 → Deadline: 25 September 2025 | Extra: Single-stage\n",
      "✔ ISOS Pilot Mission Detailed Design – Logistics component | https://ec.europa.eu/info/funding-tenders/opportunities/portal/screen/opportunities/topic-details/HORIZON-CL4-2025-02-SPACE-23?isExactMatch=true&status=31094501,31094502&order=DESC&pageNumber=7&pageSize=50&sortBy=startDate | Statut: Open For Submission | 📅 Ouverture: 22 May 2025 → Deadline: 25 September 2025 | Extra: Single-stage\n",
      "✔ Space Critical Equipment and Related Technologies for EU non-dependence – Chip Scale Atomic Clocks and Solar Cells | https://ec.europa.eu/info/funding-tenders/opportunities/portal/screen/opportunities/topic-details/HORIZON-CL4-2025-02-SPACE-72?isExactMatch=true&status=31094501,31094502&order=DESC&pageNumber=7&pageSize=50&sortBy=startDate | Statut: Open For Submission | 📅 Ouverture: 22 May 2025 → Deadline: 25 September 2025 | Extra: Single-stage\n",
      "✔ ISOS Pilot Mission Detailed Design – satAPPs component | https://ec.europa.eu/info/funding-tenders/opportunities/portal/screen/opportunities/topic-details/HORIZON-CL4-2025-02-SPACE-24?isExactMatch=true&status=31094501,31094502&order=DESC&pageNumber=7&pageSize=50&sortBy=startDate | Statut: Open For Submission | 📅 Ouverture: 22 May 2025 → Deadline: 25 September 2025 | Extra: Single-stage\n",
      "✔ Digital enablers and building blocks for Earth Observation and Satellite telecommunication for Space solutions | https://ec.europa.eu/info/funding-tenders/opportunities/portal/screen/opportunities/topic-details/HORIZON-CL4-2025-02-SPACE-31?isExactMatch=true&status=31094501,31094502&order=DESC&pageNumber=7&pageSize=50&sortBy=startDate | Statut: Open For Submission | 📅 Ouverture: 22 May 2025 → Deadline: 25 September 2025 | Extra: Single-stage\n",
      "✔ Copernicus Climate Change Service (C3S) evolution: new and innovative processing and methods for future Sentinels and other satellites for reanalyses | https://ec.europa.eu/info/funding-tenders/opportunities/portal/screen/opportunities/topic-details/HORIZON-CL4-2025-02-SPACE-41?isExactMatch=true&status=31094501,31094502&order=DESC&pageNumber=7&pageSize=50&sortBy=startDate | Statut: Open For Submission | 📅 Ouverture: 22 May 2025 → Deadline: 25 September 2025 | Extra: Single-stage\n",
      "✔ ISOS Pilot Mission Detailed Design – Servicing component | https://ec.europa.eu/info/funding-tenders/opportunities/portal/screen/opportunities/topic-details/HORIZON-CL4-2025-02-SPACE-21?isExactMatch=true&status=31094501,31094502&order=DESC&pageNumber=7&pageSize=50&sortBy=startDate | Statut: Open For Submission | 📅 Ouverture: 22 May 2025 → Deadline: 25 September 2025 | Extra: Single-stage\n",
      "✔ Space Critical EEE Components for EU non-dependence – RISC-V Microprocessor on 7nm | https://ec.europa.eu/info/funding-tenders/opportunities/portal/screen/opportunities/topic-details/HORIZON-CL4-2025-02-SPACE-71?isExactMatch=true&status=31094501,31094502&order=DESC&pageNumber=7&pageSize=50&sortBy=startDate | Statut: Open For Submission | 📅 Ouverture: 22 May 2025 → Deadline: 25 September 2025 | Extra: Single-stage\n",
      "✔ Copernicus Anthropogenic CO₂ Emissions Monitoring & Verification Support (CO2MVS) capacity: new and innovative methods to estimate the impact of fires on vegetation and related carbon fluxes | https://ec.europa.eu/info/funding-tenders/opportunities/portal/screen/opportunities/topic-details/HORIZON-CL4-2025-02-SPACE-43?isExactMatch=true&status=31094501,31094502&order=DESC&pageNumber=7&pageSize=50&sortBy=startDate | Statut: Open For Submission | 📅 Ouverture: 22 May 2025 → Deadline: 25 September 2025 | Extra: Single-stage\n",
      "✔ Innovative Earth observation services in support of maritime litter detection and ship source pollution policies | https://ec.europa.eu/info/funding-tenders/opportunities/portal/screen/opportunities/topic-details/HORIZON-CL4-2025-02-SPACE-46?isExactMatch=true&status=31094501,31094502&order=DESC&pageNumber=7&pageSize=50&sortBy=startDate | Statut: Open For Submission | 📅 Ouverture: 22 May 2025 → Deadline: 25 September 2025 | Extra: Single-stage\n",
      "✔ Copernicus Marine Environment Monitoring Service (CMEMS) evolution: new and innovative ocean data assimilation techniques | https://ec.europa.eu/info/funding-tenders/opportunities/portal/screen/opportunities/topic-details/HORIZON-CL4-2025-02-SPACE-44?isExactMatch=true&status=31094501,31094502&order=DESC&pageNumber=7&pageSize=50&sortBy=startDate | Statut: Open For Submission | 📅 Ouverture: 22 May 2025 → Deadline: 25 September 2025 | Extra: Single-stage\n",
      "✔ Digital solutions for autonomy for space transportation systems, design and simulation tools – targeting demonstration | https://ec.europa.eu/info/funding-tenders/opportunities/portal/screen/opportunities/topic-details/HORIZON-CL4-2025-02-SPACE-13?isExactMatch=true&status=31094501,31094502&order=DESC&pageNumber=7&pageSize=50&sortBy=startDate | Statut: Open For Submission | 📅 Ouverture: 22 May 2025 → Deadline: 25 September 2025 | Extra: Single-stage\n",
      "✔ Digital solutions for autonomy for space transportation systems, design and simulation tools - Digital enablers and building blocks | https://ec.europa.eu/info/funding-tenders/opportunities/portal/screen/opportunities/topic-details/HORIZON-CL4-2025-02-SPACE-12?isExactMatch=true&status=31094501,31094502&order=DESC&pageNumber=7&pageSize=50&sortBy=startDate | Statut: Open For Submission | 📅 Ouverture: 22 May 2025 → Deadline: 25 September 2025 | Extra: Single-stage\n",
      "✔ Supporting the AI/ML digital transition of Copernicus Services | https://ec.europa.eu/info/funding-tenders/opportunities/portal/screen/opportunities/topic-details/HORIZON-CL4-2025-02-SPACE-45?isExactMatch=true&status=31094501,31094502&order=DESC&pageNumber=7&pageSize=50&sortBy=startDate | Statut: Open For Submission | 📅 Ouverture: 22 May 2025 → Deadline: 25 September 2025 | Extra: Single-stage\n",
      "✔ AI Factory Antennas | https://ec.europa.eu/info/funding-tenders/opportunities/portal/screen/opportunities/topic-details/HORIZON-JU-EUROHPC-2025-AIFA-01?isExactMatch=true&status=31094501,31094502&order=DESC&pageNumber=7&pageSize=50&sortBy=startDate | Statut: Open For Submission | 📅 Ouverture: 22 May 2025 → Deadline: 30 July 2025 | Extra: Single-stage\n",
      "✔ Experimental protocols for estimation of pest survey parameters | https://ec.europa.eu/info/funding-tenders/opportunities/portal/screen/opportunities/topic-details/EUBA-EFSA-2025-PLANTS-02?isExactMatch=true&status=31094501,31094502&order=DESC&pageNumber=7&pageSize=50&sortBy=startDate | Statut: Open For Submission | 📅 Ouverture: 22 May 2025 → Deadline: 24 September 2025 | Extra: Single-stage\n",
      "✔ ERC ADVANCED GRANTS | https://ec.europa.eu/info/funding-tenders/opportunities/portal/screen/opportunities/topic-details/ERC-2025-ADG?isExactMatch=true&status=31094501,31094502&order=DESC&pageNumber=7&pageSize=50&sortBy=startDate | Statut: Open For Submission | 📅 Ouverture: 22 May 2025 → Deadline: 28 August 2025 | Extra: Single-stage\n",
      "✔ Interregional Innovation Investments Strand 1 | https://ec.europa.eu/info/funding-tenders/opportunities/portal/screen/opportunities/topic-details/I3-2025-INV1?isExactMatch=true&status=31094501,31094502&order=DESC&pageNumber=7&pageSize=50&sortBy=startDate | Statut: Open For Submission | 📅 Ouverture: 22 May 2025 → Deadline: 13 November 2025 | Extra: Single-stage\n",
      "✔ BlueLightS - 2nd Call for Blue Challenges in European Schools | https://ec.europa.eu/info/funding-tenders/opportunities/portal/screen/opportunities/competitive-calls-cs/11043?isExactMatch=true&status=31094501,31094502&order=DESC&pageNumber=7&pageSize=50&sortBy=startDate | Statut: Open For Submission | 📅 Ouverture: 21 May 2025 → Deadline: 25 September 2025 | Extra: Single-stage\n",
      "✔ Networking Support Call (NSC2025) - Translational aspects of Personalised Medicine | https://ec.europa.eu/info/funding-tenders/opportunities/portal/screen/opportunities/competitive-calls-cs/10801?isExactMatch=true&status=31094501,31094502&order=DESC&pageNumber=7&pageSize=50&sortBy=startDate | Statut: Open For Submission | 📅 Ouverture: 15 May 2025 → Deadline: 29 September 2025 | Extra: Single-stage\n",
      "✔ P2R Second Call for Regions and Communities | https://ec.europa.eu/info/funding-tenders/opportunities/portal/screen/opportunities/competitive-calls-cs/10882?isExactMatch=true&status=31094501,31094502&order=DESC&pageNumber=7&pageSize=50&sortBy=startDate | Statut: Open For Submission | 📅 Ouverture: 15 May 2025 → Deadline: 20 August 2025 | Extra: Single-stage\n",
      "✔ Open strategic autonomy, economic and research security in EU foreign policy | https://ec.europa.eu/info/funding-tenders/opportunities/portal/screen/opportunities/topic-details/HORIZON-CL2-2025-01-DEMOCRACY-04?isExactMatch=true&status=31094501,31094502&order=DESC&pageNumber=7&pageSize=50&sortBy=startDate | Statut: Open For Submission | 📅 Ouverture: 15 May 2025 → Deadline: 16 September 2025 | Extra: Single-stage\n",
      "✔ Tackling gender-based violence in different social and economic spheres | https://ec.europa.eu/info/funding-tenders/opportunities/portal/screen/opportunities/topic-details/HORIZON-CL2-2025-01-TRANSFO-01?isExactMatch=true&status=31094501,31094502&order=DESC&pageNumber=7&pageSize=50&sortBy=startDate | Statut: Open For Submission | 📅 Ouverture: 15 May 2025 → Deadline: 16 September 2025 | Extra: Single-stage\n",
      "✔ Independence of the judiciary as an aspect of rule of law compliance | https://ec.europa.eu/info/funding-tenders/opportunities/portal/screen/opportunities/topic-details/HORIZON-CL2-2025-01-DEMOCRACY-11?isExactMatch=true&status=31094501,31094502&order=DESC&pageNumber=7&pageSize=50&sortBy=startDate | Statut: Open For Submission | 📅 Ouverture: 15 May 2025 → Deadline: 16 September 2025 | Extra: Single-stage\n",
      "✔ Innovative approaches to intangible cultural heritage for societal resilience | https://ec.europa.eu/info/funding-tenders/opportunities/portal/screen/opportunities/topic-details/HORIZON-CL2-2025-02-HERITAGE-02-two-stage?isExactMatch=true&status=31094501,31094502&order=DESC&pageNumber=7&pageSize=50&sortBy=startDate | Statut: Open For Submission | 📅 Ouverture: 15 May 2025 → Deadline: 16 September 2025 | Extra: Two-stage\n",
      "✔ Gender differences in career trajectories of parents and their implications for gender equality and family well-being | https://ec.europa.eu/info/funding-tenders/opportunities/portal/screen/opportunities/topic-details/HORIZON-CL2-2025-02-TRANSFO-04-two-stage?isExactMatch=true&status=31094501,31094502&order=DESC&pageNumber=7&pageSize=50&sortBy=startDate | Statut: Open For Submission | 📅 Ouverture: 15 May 2025 → Deadline: 16 September 2025 | Extra: Two-stage\n",
      "✔ Business and consumer surveys - FPA | https://ec.europa.eu/info/funding-tenders/opportunities/portal/screen/opportunities/topic-details/BCS-2025-FPA?isExactMatch=true&status=31094501,31094502&order=DESC&pageNumber=7&pageSize=50&sortBy=startDate | Statut: Open For Submission | 📅 Ouverture: 15 May 2025 → Deadline: 24 September 2025 | Extra: Single-stage\n",
      "➡️ Passage à la page suivante...\n",
      "📄 Page 8 : 49 projets trouvés.\n",
      "✔ Investigating and addressing career barriers faced by underrepresented and marginalised researchers | https://ec.europa.eu/info/funding-tenders/opportunities/portal/screen/opportunities/topic-details/HORIZON-WIDERA-2025-06-ERA-04?isExactMatch=true&status=31094501,31094502&order=DESC&pageNumber=8&pageSize=50&sortBy=startDate | Statut: Open For Submission | 📅 Ouverture: 15 May 2025 → Deadline: 18 September 2025 | Extra: Single-stage\n",
      "✔ Programme-level collaboration | https://ec.europa.eu/info/funding-tenders/opportunities/portal/screen/opportunities/topic-details/HORIZON-WIDERA-2025-06-ERA-05?isExactMatch=true&status=31094501,31094502&order=DESC&pageNumber=8&pageSize=50&sortBy=startDate | Statut: Open For Submission | 📅 Ouverture: 15 May 2025 → Deadline: 18 September 2025 | Extra: Single-stage\n",
      "✔ Independence of the judiciary as an aspect of rule of law compliance | https://ec.europa.eu/info/funding-tenders/opportunities/portal/screen/opportunities/topic-details/HORIZON-CL2-2025-01-DEMOCRACY-11?isExactMatch=true&status=31094501,31094502&order=DESC&pageNumber=8&pageSize=50&sortBy=startDate | Statut: Open For Submission | 📅 Ouverture: 15 May 2025 → Deadline: 16 September 2025 | Extra: Single-stage\n",
      "✔ Open strategic autonomy, economic and research security in EU foreign policy | https://ec.europa.eu/info/funding-tenders/opportunities/portal/screen/opportunities/topic-details/HORIZON-CL2-2025-01-DEMOCRACY-04?isExactMatch=true&status=31094501,31094502&order=DESC&pageNumber=8&pageSize=50&sortBy=startDate | Statut: Open For Submission | 📅 Ouverture: 15 May 2025 → Deadline: 16 September 2025 | Extra: Single-stage\n",
      "✔ Tackling gender-based violence in different social and economic spheres | https://ec.europa.eu/info/funding-tenders/opportunities/portal/screen/opportunities/topic-details/HORIZON-CL2-2025-01-TRANSFO-01?isExactMatch=true&status=31094501,31094502&order=DESC&pageNumber=8&pageSize=50&sortBy=startDate | Statut: Open For Submission | 📅 Ouverture: 15 May 2025 → Deadline: 16 September 2025 | Extra: Single-stage\n",
      "✔ Migration and climate change: building resilience and enhancing sustainability | https://ec.europa.eu/info/funding-tenders/opportunities/portal/screen/opportunities/topic-details/HORIZON-CL2-2025-01-TRANSFO-11?isExactMatch=true&status=31094501,31094502&order=DESC&pageNumber=8&pageSize=50&sortBy=startDate | Statut: Open For Submission | 📅 Ouverture: 15 May 2025 → Deadline: 16 September 2025 | Extra: Single-stage\n",
      "✔ A European Collaborative Cloud for Cultural Heritage – Innovative use cases | https://ec.europa.eu/info/funding-tenders/opportunities/portal/screen/opportunities/topic-details/HORIZON-CL2-2025-01-HERITAGE-03?isExactMatch=true&status=31094501,31094502&order=DESC&pageNumber=8&pageSize=50&sortBy=startDate | Statut: Open For Submission | 📅 Ouverture: 15 May 2025 → Deadline: 16 September 2025 | Extra: Single-stage\n",
      "✔ Impact of the learning environment and the use of digital tools in everyday life on key skills and competence development | https://ec.europa.eu/info/funding-tenders/opportunities/portal/screen/opportunities/topic-details/HORIZON-CL2-2025-01-TRANSFO-07?isExactMatch=true&status=31094501,31094502&order=DESC&pageNumber=8&pageSize=50&sortBy=startDate | Statut: Open For Submission | 📅 Ouverture: 15 May 2025 → Deadline: 16 September 2025 | Extra: Single-stage\n",
      "✔ Historical and regional analyses of industrial transitions and their lessons for ensuring a fair green transition | https://ec.europa.eu/info/funding-tenders/opportunities/portal/screen/opportunities/topic-details/HORIZON-CL2-2025-01-TRANSFO-02?isExactMatch=true&status=31094501,31094502&order=DESC&pageNumber=8&pageSize=50&sortBy=startDate | Statut: Open For Submission | 📅 Ouverture: 15 May 2025 → Deadline: 16 September 2025 | Extra: Single-stage\n",
      "✔ The role of civic and citizenship education for strengthening civic and democratic participation and support for common European values | https://ec.europa.eu/info/funding-tenders/opportunities/portal/screen/opportunities/topic-details/HORIZON-CL2-2025-01-DEMOCRACY-10?isExactMatch=true&status=31094501,31094502&order=DESC&pageNumber=8&pageSize=50&sortBy=startDate | Statut: Open For Submission | 📅 Ouverture: 15 May 2025 → Deadline: 16 September 2025 | Extra: Single-stage\n",
      "✔ Economic inequalities and their impact on democracy | https://ec.europa.eu/info/funding-tenders/opportunities/portal/screen/opportunities/topic-details/HORIZON-CL2-2025-01-DEMOCRACY-08?isExactMatch=true&status=31094501,31094502&order=DESC&pageNumber=8&pageSize=50&sortBy=startDate | Statut: Open For Submission | 📅 Ouverture: 15 May 2025 → Deadline: 16 September 2025 | Extra: Single-stage\n",
      "✔ Improving mental health outcomes for people in education, training and work | https://ec.europa.eu/info/funding-tenders/opportunities/portal/screen/opportunities/topic-details/HORIZON-CL2-2025-01-TRANSFO-08?isExactMatch=true&status=31094501,31094502&order=DESC&pageNumber=8&pageSize=50&sortBy=startDate | Statut: Open For Submission | 📅 Ouverture: 15 May 2025 → Deadline: 16 September 2025 | Extra: Single-stage\n",
      "✔ Working time reduction: barriers, challenges, benefits and policy implications | https://ec.europa.eu/info/funding-tenders/opportunities/portal/screen/opportunities/topic-details/HORIZON-CL2-2025-01-TRANSFO-03?isExactMatch=true&status=31094501,31094502&order=DESC&pageNumber=8&pageSize=50&sortBy=startDate | Statut: Open For Submission | 📅 Ouverture: 15 May 2025 → Deadline: 16 September 2025 | Extra: Single-stage\n",
      "✔ Fighting against disinformation while ensuring the right to freedom of expression | https://ec.europa.eu/info/funding-tenders/opportunities/portal/screen/opportunities/topic-details/HORIZON-CL2-2025-01-DEMOCRACY-09?isExactMatch=true&status=31094501,31094502&order=DESC&pageNumber=8&pageSize=50&sortBy=startDate | Statut: Open For Submission | 📅 Ouverture: 15 May 2025 → Deadline: 16 September 2025 | Extra: Single-stage\n",
      "✔ Evaluation and use of evidence in education policy and practice | https://ec.europa.eu/info/funding-tenders/opportunities/portal/screen/opportunities/topic-details/HORIZON-CL2-2025-01-TRANSFO-06?isExactMatch=true&status=31094501,31094502&order=DESC&pageNumber=8&pageSize=50&sortBy=startDate | Statut: Open For Submission | 📅 Ouverture: 15 May 2025 → Deadline: 16 September 2025 | Extra: Single-stage\n",
      "✔ Countering and preventing radicalisation, extremism, hate speech and polarisation | https://ec.europa.eu/info/funding-tenders/opportunities/portal/screen/opportunities/topic-details/HORIZON-CL2-2025-01-DEMOCRACY-05?isExactMatch=true&status=31094501,31094502&order=DESC&pageNumber=8&pageSize=50&sortBy=startDate | Statut: Open For Submission | 📅 Ouverture: 15 May 2025 → Deadline: 16 September 2025 | Extra: Single-stage\n",
      "✔ Evolution of culture in a virtualising world | https://ec.europa.eu/info/funding-tenders/opportunities/portal/screen/opportunities/topic-details/HORIZON-CL2-2025-01-HERITAGE-05?isExactMatch=true&status=31094501,31094502&order=DESC&pageNumber=8&pageSize=50&sortBy=startDate | Statut: Open For Submission | 📅 Ouverture: 15 May 2025 → Deadline: 16 September 2025 | Extra: Single-stage\n",
      "✔ Intergenerational fairness in the context of demographic change in the EU | https://ec.europa.eu/info/funding-tenders/opportunities/portal/screen/opportunities/topic-details/HORIZON-CL2-2025-01-TRANSFO-10?isExactMatch=true&status=31094501,31094502&order=DESC&pageNumber=8&pageSize=50&sortBy=startDate | Statut: Open For Submission | 📅 Ouverture: 15 May 2025 → Deadline: 16 September 2025 | Extra: Single-stage\n",
      "✔ Fostering the consolidation of European science diplomacy | https://ec.europa.eu/info/funding-tenders/opportunities/portal/screen/opportunities/topic-details/HORIZON-CL2-2025-01-DEMOCRACY-02?isExactMatch=true&status=31094501,31094502&order=DESC&pageNumber=8&pageSize=50&sortBy=startDate | Statut: Open For Submission | 📅 Ouverture: 15 May 2025 → Deadline: 16 September 2025 | Extra: Single-stage\n",
      "✔ Preparing the EU for future enlargement: challenges and opportunities | https://ec.europa.eu/info/funding-tenders/opportunities/portal/screen/opportunities/topic-details/HORIZON-CL2-2025-01-DEMOCRACY-03?isExactMatch=true&status=31094501,31094502&order=DESC&pageNumber=8&pageSize=50&sortBy=startDate | Statut: Open For Submission | 📅 Ouverture: 15 May 2025 → Deadline: 16 September 2025 | Extra: Single-stage\n",
      "✔ Good practices for increased autonomy of persons with disabilities, including physical, mental, intellectual and sensory disabilities | https://ec.europa.eu/info/funding-tenders/opportunities/portal/screen/opportunities/topic-details/HORIZON-CL2-2025-01-TRANSFO-09?isExactMatch=true&status=31094501,31094502&order=DESC&pageNumber=8&pageSize=50&sortBy=startDate | Statut: Open For Submission | 📅 Ouverture: 15 May 2025 → Deadline: 16 September 2025 | Extra: Single-stage\n",
      "✔ Bridging historical past and future potential through conservation, preservation, and adaptive use of Europe’s contentious and dissonant heritage | https://ec.europa.eu/info/funding-tenders/opportunities/portal/screen/opportunities/topic-details/HORIZON-CL2-2025-01-HERITAGE-08?isExactMatch=true&status=31094501,31094502&order=DESC&pageNumber=8&pageSize=50&sortBy=startDate | Statut: Open For Submission | 📅 Ouverture: 15 May 2025 → Deadline: 16 September 2025 | Extra: Single-stage\n",
      "✔ Advisory support and network to counter disinformation and foreign information manipulation and interference (FIMI) | https://ec.europa.eu/info/funding-tenders/opportunities/portal/screen/opportunities/topic-details/HORIZON-CL2-2025-01-DEMOCRACY-01?isExactMatch=true&status=31094501,31094502&order=DESC&pageNumber=8&pageSize=50&sortBy=startDate | Statut: Open For Submission | 📅 Ouverture: 15 May 2025 → Deadline: 16 September 2025 | Extra: Single-stage\n",
      "✔ Europe as a global powerhouse of design for sustainable competitiveness | https://ec.europa.eu/info/funding-tenders/opportunities/portal/screen/opportunities/topic-details/HORIZON-CL2-2025-01-HERITAGE-06?isExactMatch=true&status=31094501,31094502&order=DESC&pageNumber=8&pageSize=50&sortBy=startDate | Statut: Open For Submission | 📅 Ouverture: 15 May 2025 → Deadline: 16 September 2025 | Extra: Single-stage\n",
      "✔ Cultural Strategies for Peace: culture and creativity as catalysts for conflict prevention and post-conflict reconciliation | https://ec.europa.eu/info/funding-tenders/opportunities/portal/screen/opportunities/topic-details/HORIZON-CL2-2025-01-HERITAGE-07?isExactMatch=true&status=31094501,31094502&order=DESC&pageNumber=8&pageSize=50&sortBy=startDate | Statut: Open For Submission | 📅 Ouverture: 15 May 2025 → Deadline: 16 September 2025 | Extra: Single-stage\n",
      "✔ Leveraging artificial intelligence for creativity-driven innovation | https://ec.europa.eu/info/funding-tenders/opportunities/portal/screen/opportunities/topic-details/HORIZON-CL2-2025-01-HERITAGE-04?isExactMatch=true&status=31094501,31094502&order=DESC&pageNumber=8&pageSize=50&sortBy=startDate | Statut: Open For Submission | 📅 Ouverture: 15 May 2025 → Deadline: 16 September 2025 | Extra: Single-stage\n",
      "✔ Impacts of culture and the arts on health and well-being | https://ec.europa.eu/info/funding-tenders/opportunities/portal/screen/opportunities/topic-details/HORIZON-CL2-2025-01-HERITAGE-09?isExactMatch=true&status=31094501,31094502&order=DESC&pageNumber=8&pageSize=50&sortBy=startDate | Statut: Open For Submission | 📅 Ouverture: 15 May 2025 → Deadline: 16 September 2025 | Extra: Single-stage\n",
      "✔ The autocratic appeal: nature, drivers and strategies | https://ec.europa.eu/info/funding-tenders/opportunities/portal/screen/opportunities/topic-details/HORIZON-CL2-2025-01-DEMOCRACY-07?isExactMatch=true&status=31094501,31094502&order=DESC&pageNumber=8&pageSize=50&sortBy=startDate | Statut: Open For Submission | 📅 Ouverture: 15 May 2025 → Deadline: 16 September 2025 | Extra: Single-stage\n",
      "✔ Community of democracy practitioners and researchers | https://ec.europa.eu/info/funding-tenders/opportunities/portal/screen/opportunities/topic-details/HORIZON-CL2-2025-01-DEMOCRACY-12?isExactMatch=true&status=31094501,31094502&order=DESC&pageNumber=8&pageSize=50&sortBy=startDate | Statut: Open For Submission | 📅 Ouverture: 15 May 2025 → Deadline: 16 September 2025 | Extra: Single-stage\n",
      "✔ Improving fairness in the economy through a better understanding of undeclared and underdeclared work | https://ec.europa.eu/info/funding-tenders/opportunities/portal/screen/opportunities/topic-details/HORIZON-CL2-2025-01-TRANSFO-05?isExactMatch=true&status=31094501,31094502&order=DESC&pageNumber=8&pageSize=50&sortBy=startDate | Statut: Open For Submission | 📅 Ouverture: 15 May 2025 → Deadline: 16 September 2025 | Extra: Single-stage\n",
      "✔ Towards a European research hub on contemporary antisemitism and Jewish life and culture | https://ec.europa.eu/info/funding-tenders/opportunities/portal/screen/opportunities/topic-details/HORIZON-CL2-2025-01-DEMOCRACY-06?isExactMatch=true&status=31094501,31094502&order=DESC&pageNumber=8&pageSize=50&sortBy=startDate | Statut: Open For Submission | 📅 Ouverture: 15 May 2025 → Deadline: 16 September 2025 | Extra: Single-stage\n",
      "✔ Innovative approaches to intangible cultural heritage for societal resilience | https://ec.europa.eu/info/funding-tenders/opportunities/portal/screen/opportunities/topic-details/HORIZON-CL2-2025-02-HERITAGE-02-two-stage?isExactMatch=true&status=31094501,31094502&order=DESC&pageNumber=8&pageSize=50&sortBy=startDate | Statut: Open For Submission | 📅 Ouverture: 15 May 2025 → Deadline: 16 September 2025 | Extra: Two-stage\n",
      "✔ Business and consumer surveys - SGA | https://ec.europa.eu/info/funding-tenders/opportunities/portal/screen/opportunities/topic-details/BCS-2025-SGA?isExactMatch=true&status=31094501,31094502&order=DESC&pageNumber=8&pageSize=50&sortBy=startDate | Statut: Open For Submission | 📅 Ouverture: 15 May 2025 → Deadline: 24 September 2025 | Extra: Single-stage\n",
      "✔ Business and consumer surveys - FPA | https://ec.europa.eu/info/funding-tenders/opportunities/portal/screen/opportunities/topic-details/BCS-2025-FPA?isExactMatch=true&status=31094501,31094502&order=DESC&pageNumber=8&pageSize=50&sortBy=startDate | Statut: Open For Submission | 📅 Ouverture: 15 May 2025 → Deadline: 24 September 2025 | Extra: Single-stage\n",
      "✔ Gender differences in career trajectories of parents and their implications for gender equality and family well-being | https://ec.europa.eu/info/funding-tenders/opportunities/portal/screen/opportunities/topic-details/HORIZON-CL2-2025-02-TRANSFO-04-two-stage?isExactMatch=true&status=31094501,31094502&order=DESC&pageNumber=8&pageSize=50&sortBy=startDate | Statut: Open For Submission | 📅 Ouverture: 15 May 2025 → Deadline: 16 September 2025 | Extra: Two-stage\n",
      "✔ MSCA4Ukraine Fellowships 2025 | https://ec.europa.eu/info/funding-tenders/opportunities/portal/screen/opportunities/topic-details/HORIZON-MSCA-2025-MSCA4UA-01-01?isExactMatch=true&status=31094501,31094502&order=DESC&pageNumber=8&pageSize=50&sortBy=startDate | Statut: Open For Submission | 📅 Ouverture: 15 May 2025 → Deadline: 16 September 2025 | Extra: Single-stage\n",
      "✔ Preparatory action for setting up joint programmes among innovation ecosystems actors | https://ec.europa.eu/info/funding-tenders/opportunities/portal/screen/opportunities/topic-details/HORIZON-EIE-2025-02-CONNECT-01?isExactMatch=true&status=31094501,31094502&order=DESC&pageNumber=8&pageSize=50&sortBy=startDate | Statut: Open For Submission | 📅 Ouverture: 14 May 2025 → Deadline: 15 October 2025 | Extra: Single-stage\n",
      "✔ Implementing co-funded action plans for connected regional innovation valleys | https://ec.europa.eu/info/funding-tenders/opportunities/portal/screen/opportunities/topic-details/HORIZON-EIE-2025-02-CONNECT-02?isExactMatch=true&status=31094501,31094502&order=DESC&pageNumber=8&pageSize=50&sortBy=startDate | Statut: Open For Submission | 📅 Ouverture: 14 May 2025 → Deadline: 15 October 2025 | Extra: Single-stage\n",
      "✔ Implementing co-funded action plans for connected regional innovation valleys in widening countries | https://ec.europa.eu/info/funding-tenders/opportunities/portal/screen/opportunities/topic-details/HORIZON-WIDERA-2025-05-ACCESS-01?isExactMatch=true&status=31094501,31094502&order=DESC&pageNumber=8&pageSize=50&sortBy=startDate | Statut: Open For Submission | 📅 Ouverture: 14 May 2025 → Deadline: 15 October 2025 | Extra: Single-stage\n",
      "✔ Skills for Tomorrow Training Programmes – Raw & Advanced Materials | https://ec.europa.eu/info/funding-tenders/opportunities/portal/screen/opportunities/competitive-calls-cs/10961?isExactMatch=true&status=31094501,31094502&order=DESC&pageNumber=8&pageSize=50&sortBy=startDate | Statut: Open For Submission | 📅 Ouverture: 13 May 2025 → Deadline: 29 August 2025 | Extra: Multiple Cut-off\n",
      "✔ Game-changing innovations for European launch solutions | https://ec.europa.eu/info/funding-tenders/opportunities/portal/screen/opportunities/topic-details/PPPA-2025-LAUNCHERS-INNOVATIONS?isExactMatch=true&status=31094501,31094502&order=DESC&pageNumber=8&pageSize=50&sortBy=startDate | Statut: Open For Submission | 📅 Ouverture: 13 May 2025 → Deadline: 07 October 2025 | Extra: Single-stage\n",
      "✔ Financial support for start-ups registered in Estonia for developing new cybersecurity tools or services (Cyber Accelerator) | https://ec.europa.eu/info/funding-tenders/opportunities/portal/screen/opportunities/competitive-calls-cs/10941?isExactMatch=true&status=31094501,31094502&order=DESC&pageNumber=8&pageSize=50&sortBy=startDate | Statut: Open For Submission | 📅 Ouverture: 12 May 2025 → Deadline: 02 July 2027 | Extra: Single-stage\n",
      "✔ GRANT COMPETITION: Support for local coding initiatives within the framework of EU Code Week | https://ec.europa.eu/info/funding-tenders/opportunities/portal/screen/opportunities/competitive-calls-cs/10925?isExactMatch=true&status=31094501,31094502&order=DESC&pageNumber=8&pageSize=50&sortBy=startDate | Statut: Open For Submission | 📅 Ouverture: 08 May 2025 → Deadline: 08 July 2025 | Extra: Single-stage\n",
      "✔ European Excellence Initiative (EEI) | https://ec.europa.eu/info/funding-tenders/opportunities/portal/screen/opportunities/topic-details/HORIZON-WIDERA-2025-01-ACCESS-01?isExactMatch=true&status=31094501,31094502&order=DESC&pageNumber=8&pageSize=50&sortBy=startDate | Statut: Open For Submission | 📅 Ouverture: 08 May 2025 → Deadline: 20 November 2025 | Extra: Single-stage\n",
      "✔ Restoring Ocean and Waters in waterfront Cities and their Ports | https://ec.europa.eu/info/funding-tenders/opportunities/portal/screen/opportunities/topic-details/HORIZON-MISS-2025-03-OCEAN-05?isExactMatch=true&status=31094501,31094502&order=DESC&pageNumber=8&pageSize=50&sortBy=startDate | Statut: Open For Submission | 📅 Ouverture: 07 May 2025 → Deadline: 24 September 2025 | Extra: Single-stage\n",
      "✔ Digital technologies and energy transition in fisheries and/or aquaculture | https://ec.europa.eu/info/funding-tenders/opportunities/portal/screen/opportunities/topic-details/HORIZON-MISS-2025-03-OCEAN-03?isExactMatch=true&status=31094501,31094502&order=DESC&pageNumber=8&pageSize=50&sortBy=startDate | Statut: Open For Submission | 📅 Ouverture: 07 May 2025 → Deadline: 24 September 2025 | Extra: Single-stage\n",
      "✔ A toolbox for public authorities to address marine plastics and litter from river-to-ocean | https://ec.europa.eu/info/funding-tenders/opportunities/portal/screen/opportunities/topic-details/HORIZON-MISS-2025-03-OCEAN-02?isExactMatch=true&status=31094501,31094502&order=DESC&pageNumber=8&pageSize=50&sortBy=startDate | Statut: Open For Submission | 📅 Ouverture: 07 May 2025 → Deadline: 24 September 2025 | Extra: Single-stage\n",
      "✔ Restoring Ocean and Waters in Regions | https://ec.europa.eu/info/funding-tenders/opportunities/portal/screen/opportunities/topic-details/HORIZON-MISS-2025-03-OCEAN-04?isExactMatch=true&status=31094501,31094502&order=DESC&pageNumber=8&pageSize=50&sortBy=startDate | Statut: Open For Submission | 📅 Ouverture: 07 May 2025 → Deadline: 24 September 2025 | Extra: Single-stage\n",
      "✔ Restoring Ocean and Waters on Islands | https://ec.europa.eu/info/funding-tenders/opportunities/portal/screen/opportunities/topic-details/HORIZON-MISS-2025-03-OCEAN-06?isExactMatch=true&status=31094501,31094502&order=DESC&pageNumber=8&pageSize=50&sortBy=startDate | Statut: Open For Submission | 📅 Ouverture: 07 May 2025 → Deadline: 24 September 2025 | Extra: Single-stage\n",
      "➡️ Passage à la page suivante...\n"
     ]
    }
   ],
   "source": [
    "from selenium import webdriver\n",
    "from selenium.webdriver.chrome.service import Service\n",
    "from selenium.webdriver.chrome.options import Options\n",
    "from selenium.webdriver.common.by import By\n",
    "from selenium.webdriver.support.ui import WebDriverWait\n",
    "from selenium.webdriver.support import expected_conditions as EC\n",
    "import time\n",
    "\n",
    "chrome_options = Options()\n",
    "chrome_options.add_argument(\"--start-maximized\")\n",
    "\n",
    "service = Service(r\"C:\\Users\\HADIL MARAI\\Desktop\\ODF\\chromedriver-win64\\chromedriver-win64\\chromedriver.exe\")\n",
    "driver = webdriver.Chrome(service=service, options=chrome_options)\n",
    "\n",
    "start_url = \"https://ec.europa.eu/info/funding-tenders/opportunities/portal/screen/opportunities/calls-for-proposals?pageNumber=1&pageSize=50&sortBy=startDate&status=31094501,31094502\"\n",
    "driver.get(start_url)\n",
    "\n",
    "with open(\"projets_EU_All.txt\", \"w\", encoding=\"utf-8\") as f:\n",
    "    for page_num in range(1, 9):  # Pages 1 to 50\n",
    "        try:\n",
    "            WebDriverWait(driver, 60).until(\n",
    "                EC.presence_of_element_located((By.CSS_SELECTOR, \"a.cft-call-list-table-title-link, a[href*='topic-details'], a[href*='competitive-calls-cs']\"))\n",
    "            )\n",
    "        except Exception:\n",
    "            print(f\"❌ Aucun projet trouvé sur la page {page_num}.\")\n",
    "            break\n",
    "\n",
    "        time.sleep(2)\n",
    "        \n",
    "        project_links = driver.find_elements(\n",
    "            By.CSS_SELECTOR,\n",
    "            \"a.cft-call-list-table-title-link, a[href*='topic-details'], a[href*='competitive-calls-cs']\"\n",
    "        )\n",
    "\n",
    "        print(f\"📄 Page {page_num} : {len(project_links)} projets trouvés.\")\n",
    "\n",
    "        for link in project_links:\n",
    "            titre = link.text.strip()\n",
    "            href = link.get_attribute(\"href\")\n",
    "\n",
    "            try:\n",
    "                container = link.find_element(By.XPATH, \"./ancestor::eui-card\")\n",
    "            except:\n",
    "                container = None\n",
    "\n",
    "            # --- Main Status ---\n",
    "            try:\n",
    "                status_element = container.find_element(\n",
    "                    By.CSS_SELECTOR, \"span.eui-u-text-nowrap.eui-label\"\n",
    "                )\n",
    "                status = status_element.text.strip()\n",
    "            except:\n",
    "                status = \"Statut inconnu\"\n",
    "\n",
    "            # --- Dates and Additional Status ---\n",
    "            opening_date = \"Non spécifiée\"\n",
    "            next_deadline = \"Non spécifiée\"\n",
    "            additional_status = \"Non spécifié\"\n",
    "\n",
    "            try:\n",
    "                result_card = container.find_element(\n",
    "                    By.CSS_SELECTOR, \"sedia-result-card-type.eui-u-display-block.eui-u-mt-xs.ng-star-inserted\"\n",
    "                )\n",
    "\n",
    "                # Get all <strong> elements with date values\n",
    "                strongs = result_card.find_elements(By.CSS_SELECTOR, \"strong.ng-star-inserted\")\n",
    "                if len(strongs) >= 1:\n",
    "                    opening_date = strongs[0].text.strip()\n",
    "                if len(strongs) >= 2:\n",
    "                    next_deadline = strongs[1].text.strip()\n",
    "\n",
    "                # Get the last <span> that is not a \"|\" separator\n",
    "                spans = result_card.find_elements(By.CSS_SELECTOR, \"span.ng-star-inserted\")\n",
    "                for span in reversed(spans):\n",
    "                    span_text = span.text.strip()\n",
    "                    if span_text and span_text != \"|\":\n",
    "                        additional_status = span_text\n",
    "                        break\n",
    "\n",
    "            except:\n",
    "                pass\n",
    "\n",
    "            # --- Output Results ---\n",
    "            if titre and href and href.startswith(\"http\"):\n",
    "                f.write(\n",
    "                    f\"Titre: {titre}\\n\"\n",
    "                    f\"Lien: {href}\\n\"\n",
    "                    f\"Statut: {status}\\n\"\n",
    "                    f\"Date d'ouverture: {opening_date}\\n\"\n",
    "                    f\"Date limite: {next_deadline}\\n\"\n",
    "                    \n",
    "                )\n",
    "                print(\n",
    "                    f\"✔ {titre} | {href} | Statut: {status} | \"\n",
    "                    f\"📅 Ouverture: {opening_date} → Deadline: {next_deadline} | Extra: {additional_status}\"\n",
    "                )\n",
    "\n",
    "\n",
    "\n",
    "\n",
    "\n",
    "\n",
    "\n",
    "\n",
    "        # Try clicking the next page icon\n",
    "        try:\n",
    "            next_icon = WebDriverWait(driver, 10).until(\n",
    "                EC.presence_of_element_located((By.CSS_SELECTOR, 'eui-icon-svg[aria-label=\"Go to next page\"]'))\n",
    "            )\n",
    "\n",
    "            # Check if it's disabled\n",
    "            is_disabled = next_icon.get_attribute(\"aria-disabled\")\n",
    "            if is_disabled == \"true\":\n",
    "                print(\"✅ Fin de la pagination (bouton désactivé).\")\n",
    "                break\n",
    "\n",
    "            # Scroll into view and click using JavaScript\n",
    "            driver.execute_script(\"arguments[0].scrollIntoView(true);\", next_icon)\n",
    "            time.sleep(1)\n",
    "            driver.execute_script(\"arguments[0].click();\", next_icon)\n",
    "\n",
    "            print(\"➡️ Passage à la page suivante...\")\n",
    "            time.sleep(3)\n",
    "\n",
    "            # Optional cache cleanup\n",
    "            driver.delete_all_cookies()\n",
    "            driver.execute_script(\"window.localStorage.clear();\")\n",
    "            driver.execute_script(\"window.sessionStorage.clear();\")\n",
    "\n",
    "        except Exception as e:\n",
    "            print(f\"⚠️ Erreur lors de la tentative de passage à la page suivante : {e}\")\n",
    "            break\n",
    "\n",
    "driver.quit()\n"
   ]
  },
  {
   "cell_type": "code",
   "execution_count": 18,
   "id": "57725b9e",
   "metadata": {},
   "outputs": [
    {
     "data": {
      "text/html": [
       "<div>\n",
       "<style scoped>\n",
       "    .dataframe tbody tr th:only-of-type {\n",
       "        vertical-align: middle;\n",
       "    }\n",
       "\n",
       "    .dataframe tbody tr th {\n",
       "        vertical-align: top;\n",
       "    }\n",
       "\n",
       "    .dataframe thead th {\n",
       "        text-align: right;\n",
       "    }\n",
       "</style>\n",
       "<table border=\"1\" class=\"dataframe\">\n",
       "  <thead>\n",
       "    <tr style=\"text-align: right;\">\n",
       "      <th></th>\n",
       "      <th>Title</th>\n",
       "      <th>Link</th>\n",
       "      <th>Status</th>\n",
       "      <th>Start_date</th>\n",
       "      <th>Deadline</th>\n",
       "    </tr>\n",
       "  </thead>\n",
       "  <tbody>\n",
       "    <tr>\n",
       "      <th>0</th>\n",
       "      <td>MSCA Choose Europe for Science 2025</td>\n",
       "      <td>https://ec.europa.eu/info/funding-tenders/oppo...</td>\n",
       "      <td>Forthcoming</td>\n",
       "      <td>01 October 2025</td>\n",
       "      <td>03 December 2025</td>\n",
       "    </tr>\n",
       "    <tr>\n",
       "      <th>1</th>\n",
       "      <td>New CO2 capture technologies</td>\n",
       "      <td>https://ec.europa.eu/info/funding-tenders/oppo...</td>\n",
       "      <td>Forthcoming</td>\n",
       "      <td>16 September 2025</td>\n",
       "      <td>17 February 2026</td>\n",
       "    </tr>\n",
       "    <tr>\n",
       "      <th>2</th>\n",
       "      <td>Innovative pathways for low carbon and climate...</td>\n",
       "      <td>https://ec.europa.eu/info/funding-tenders/oppo...</td>\n",
       "      <td>Forthcoming</td>\n",
       "      <td>16 September 2025</td>\n",
       "      <td>17 February 2026</td>\n",
       "    </tr>\n",
       "    <tr>\n",
       "      <th>3</th>\n",
       "      <td>Optimal combination of low embodied carbon con...</td>\n",
       "      <td>https://ec.europa.eu/info/funding-tenders/oppo...</td>\n",
       "      <td>Forthcoming</td>\n",
       "      <td>16 September 2025</td>\n",
       "      <td>17 February 2026</td>\n",
       "    </tr>\n",
       "    <tr>\n",
       "      <th>4</th>\n",
       "      <td>Understand and minimise the environmental impa...</td>\n",
       "      <td>https://ec.europa.eu/info/funding-tenders/oppo...</td>\n",
       "      <td>Forthcoming</td>\n",
       "      <td>16 September 2025</td>\n",
       "      <td>17 February 2026</td>\n",
       "    </tr>\n",
       "  </tbody>\n",
       "</table>\n",
       "</div>"
      ],
      "text/plain": [
       "                                               Title  \\\n",
       "0                MSCA Choose Europe for Science 2025   \n",
       "1                       New CO2 capture technologies   \n",
       "2  Innovative pathways for low carbon and climate...   \n",
       "3  Optimal combination of low embodied carbon con...   \n",
       "4  Understand and minimise the environmental impa...   \n",
       "\n",
       "                                                Link       Status  \\\n",
       "0  https://ec.europa.eu/info/funding-tenders/oppo...  Forthcoming   \n",
       "1  https://ec.europa.eu/info/funding-tenders/oppo...  Forthcoming   \n",
       "2  https://ec.europa.eu/info/funding-tenders/oppo...  Forthcoming   \n",
       "3  https://ec.europa.eu/info/funding-tenders/oppo...  Forthcoming   \n",
       "4  https://ec.europa.eu/info/funding-tenders/oppo...  Forthcoming   \n",
       "\n",
       "          Start_date          Deadline  \n",
       "0    01 October 2025  03 December 2025  \n",
       "1  16 September 2025  17 February 2026  \n",
       "2  16 September 2025  17 February 2026  \n",
       "3  16 September 2025  17 February 2026  \n",
       "4  16 September 2025  17 February 2026  "
      ]
     },
     "execution_count": 18,
     "metadata": {},
     "output_type": "execute_result"
    }
   ],
   "source": [
    "import pandas as pd\n",
    "\n",
    "def parse_project_file(filepath):\n",
    "    with open(filepath, 'r', encoding='utf-8') as f:\n",
    "        lines = [line.strip() for line in f if line.strip()]\n",
    "\n",
    "    data = []\n",
    "    for i in range(0, len(lines), 5):\n",
    "        data.append({\n",
    "            \"Title\": lines[i].split(\":\", 1)[1].strip(),\n",
    "            \"Link\": lines[i+1].split(\":\", 1)[1].strip(),\n",
    "            \"Status\": lines[i+2].split(\":\", 1)[1].strip(),\n",
    "            \"Start_date\": lines[i+3].split(\":\", 1)[1].strip(),\n",
    "            \"Deadline\": lines[i+4].split(\":\", 1)[1].strip()\n",
    "        })\n",
    "\n",
    "    return pd.DataFrame(data)\n",
    "\n",
    "df = parse_project_file(\"projets_EU_All.txt\")\n",
    "df.head()\n"
   ]
  },
  {
   "cell_type": "code",
   "execution_count": 19,
   "id": "6f68d23a",
   "metadata": {},
   "outputs": [
    {
     "name": "stdout",
     "output_type": "stream",
     "text": [
      "0      https://ec.europa.eu/info/funding-tenders/opportunities/portal/screen/opportunities/topic-details/HORIZON-MSCA-2025-COFUND-02-01?isExactMatch=true&status=31094501,31094502&order=DESC&pageNumber=1&pageSize=50&sortBy=startDate\n",
      "1           https://ec.europa.eu/info/funding-tenders/opportunities/portal/screen/opportunities/topic-details/HORIZON-CL5-2026-02-D3-24?isExactMatch=true&status=31094501,31094502&order=DESC&pageNumber=1&pageSize=50&sortBy=startDate\n",
      "2           https://ec.europa.eu/info/funding-tenders/opportunities/portal/screen/opportunities/topic-details/HORIZON-CL5-2026-02-D4-03?isExactMatch=true&status=31094501,31094502&order=DESC&pageNumber=1&pageSize=50&sortBy=startDate\n",
      "3           https://ec.europa.eu/info/funding-tenders/opportunities/portal/screen/opportunities/topic-details/HORIZON-CL5-2026-02-D4-05?isExactMatch=true&status=31094501,31094502&order=DESC&pageNumber=1&pageSize=50&sortBy=startDate\n",
      "4           https://ec.europa.eu/info/funding-tenders/opportunities/portal/screen/opportunities/topic-details/HORIZON-CL5-2026-02-D3-08?isExactMatch=true&status=31094501,31094502&order=DESC&pageNumber=1&pageSize=50&sortBy=startDate\n",
      "                                                                                                                     ...                                                                                                               \n",
      "369     https://ec.europa.eu/info/funding-tenders/opportunities/portal/screen/opportunities/topic-details/HORIZON-MISS-2025-03-OCEAN-05?isExactMatch=true&status=31094501,31094502&order=DESC&pageNumber=8&pageSize=50&sortBy=startDate\n",
      "370     https://ec.europa.eu/info/funding-tenders/opportunities/portal/screen/opportunities/topic-details/HORIZON-MISS-2025-03-OCEAN-03?isExactMatch=true&status=31094501,31094502&order=DESC&pageNumber=8&pageSize=50&sortBy=startDate\n",
      "371     https://ec.europa.eu/info/funding-tenders/opportunities/portal/screen/opportunities/topic-details/HORIZON-MISS-2025-03-OCEAN-02?isExactMatch=true&status=31094501,31094502&order=DESC&pageNumber=8&pageSize=50&sortBy=startDate\n",
      "372     https://ec.europa.eu/info/funding-tenders/opportunities/portal/screen/opportunities/topic-details/HORIZON-MISS-2025-03-OCEAN-04?isExactMatch=true&status=31094501,31094502&order=DESC&pageNumber=8&pageSize=50&sortBy=startDate\n",
      "373     https://ec.europa.eu/info/funding-tenders/opportunities/portal/screen/opportunities/topic-details/HORIZON-MISS-2025-03-OCEAN-06?isExactMatch=true&status=31094501,31094502&order=DESC&pageNumber=8&pageSize=50&sortBy=startDate\n",
      "Name: Link, Length: 374, dtype: object\n"
     ]
    }
   ],
   "source": [
    "pd.set_option('display.max_colwidth', None)\n",
    "print(df['Link'])"
   ]
  },
  {
   "cell_type": "code",
   "execution_count": 14,
   "id": "2da9efd0",
   "metadata": {},
   "outputs": [
    {
     "data": {
      "text/html": [
       "<div>\n",
       "<style scoped>\n",
       "    .dataframe tbody tr th:only-of-type {\n",
       "        vertical-align: middle;\n",
       "    }\n",
       "\n",
       "    .dataframe tbody tr th {\n",
       "        vertical-align: top;\n",
       "    }\n",
       "\n",
       "    .dataframe thead th {\n",
       "        text-align: right;\n",
       "    }\n",
       "</style>\n",
       "<table border=\"1\" class=\"dataframe\">\n",
       "  <thead>\n",
       "    <tr style=\"text-align: right;\">\n",
       "      <th></th>\n",
       "      <th>Title</th>\n",
       "      <th>Link</th>\n",
       "      <th>Status</th>\n",
       "      <th>Start_date</th>\n",
       "      <th>Deadline</th>\n",
       "    </tr>\n",
       "  </thead>\n",
       "  <tbody>\n",
       "    <tr>\n",
       "      <th>0</th>\n",
       "      <td>MSCA Choose Europe for Science 2025</td>\n",
       "      <td>https://ec.europa.eu/info/funding-tenders/opportunities/portal/screen/opportunities/topic-details/HORIZON-MSCA-2025-COFUND-02-01?isExactMatch=true&amp;status=31094501,31094502&amp;order=DESC&amp;pageNumber=1&amp;pageSize=50&amp;sortBy=startDate</td>\n",
       "      <td>Forthcoming</td>\n",
       "      <td>01 October 2025</td>\n",
       "      <td>03 December 2025</td>\n",
       "    </tr>\n",
       "    <tr>\n",
       "      <th>1</th>\n",
       "      <td>De-risking wave energy technology development through transnational pre-commercial procurement of wave energy research and development</td>\n",
       "      <td>https://ec.europa.eu/info/funding-tenders/opportunities/portal/screen/opportunities/topic-details/HORIZON-CL5-2026-02-D3-13?isExactMatch=true&amp;status=31094501,31094502&amp;order=DESC&amp;pageNumber=1&amp;pageSize=50&amp;sortBy=startDate</td>\n",
       "      <td>Forthcoming</td>\n",
       "      <td>16 September 2025</td>\n",
       "      <td>17 February 2026</td>\n",
       "    </tr>\n",
       "    <tr>\n",
       "      <th>2</th>\n",
       "      <td>On-site innovative robotic and automated solutions and techniques for more sustainable and less disruptive building renovation and construction</td>\n",
       "      <td>https://ec.europa.eu/info/funding-tenders/opportunities/portal/screen/opportunities/topic-details/HORIZON-CL5-2026-02-D4-01?isExactMatch=true&amp;status=31094501,31094502&amp;order=DESC&amp;pageNumber=1&amp;pageSize=50&amp;sortBy=startDate</td>\n",
       "      <td>Forthcoming</td>\n",
       "      <td>16 September 2025</td>\n",
       "      <td>17 February 2026</td>\n",
       "    </tr>\n",
       "    <tr>\n",
       "      <th>3</th>\n",
       "      <td>Extending the lifetime of crystalline silicon PV modules (EUPI-PV Partnership)</td>\n",
       "      <td>https://ec.europa.eu/info/funding-tenders/opportunities/portal/screen/opportunities/topic-details/HORIZON-CL5-2026-02-D3-12?isExactMatch=true&amp;status=31094501,31094502&amp;order=DESC&amp;pageNumber=1&amp;pageSize=50&amp;sortBy=startDate</td>\n",
       "      <td>Forthcoming</td>\n",
       "      <td>16 September 2025</td>\n",
       "      <td>17 February 2026</td>\n",
       "    </tr>\n",
       "    <tr>\n",
       "      <th>4</th>\n",
       "      <td>Innovative approaches for the deployment of Positive Energy Districts</td>\n",
       "      <td>https://ec.europa.eu/info/funding-tenders/opportunities/portal/screen/opportunities/topic-details/HORIZON-CL5-2026-02-D4-04?isExactMatch=true&amp;status=31094501,31094502&amp;order=DESC&amp;pageNumber=1&amp;pageSize=50&amp;sortBy=startDate</td>\n",
       "      <td>Forthcoming</td>\n",
       "      <td>16 September 2025</td>\n",
       "      <td>17 February 2026</td>\n",
       "    </tr>\n",
       "    <tr>\n",
       "      <th>5</th>\n",
       "      <td>Towards commercialisation of Perovskite PV and development of dedicated manufacturing equipment (EUPI-PV Partnership)</td>\n",
       "      <td>https://ec.europa.eu/info/funding-tenders/opportunities/portal/screen/opportunities/topic-details/HORIZON-CL5-2026-02-D3-10?isExactMatch=true&amp;status=31094501,31094502&amp;order=DESC&amp;pageNumber=1&amp;pageSize=50&amp;sortBy=startDate</td>\n",
       "      <td>Forthcoming</td>\n",
       "      <td>16 September 2025</td>\n",
       "      <td>17 February 2026</td>\n",
       "    </tr>\n",
       "    <tr>\n",
       "      <th>6</th>\n",
       "      <td>Next generation distribution substation for increasing the system resilience</td>\n",
       "      <td>https://ec.europa.eu/info/funding-tenders/opportunities/portal/screen/opportunities/topic-details/HORIZON-CL5-2026-02-D3-18?isExactMatch=true&amp;status=31094501,31094502&amp;order=DESC&amp;pageNumber=1&amp;pageSize=50&amp;sortBy=startDate</td>\n",
       "      <td>Forthcoming</td>\n",
       "      <td>16 September 2025</td>\n",
       "      <td>17 February 2026</td>\n",
       "    </tr>\n",
       "    <tr>\n",
       "      <th>7</th>\n",
       "      <td>New CO2 capture technologies</td>\n",
       "      <td>https://ec.europa.eu/info/funding-tenders/opportunities/portal/screen/opportunities/topic-details/HORIZON-CL5-2026-02-D3-24?isExactMatch=true&amp;status=31094501,31094502&amp;order=DESC&amp;pageNumber=1&amp;pageSize=50&amp;sortBy=startDate</td>\n",
       "      <td>Forthcoming</td>\n",
       "      <td>16 September 2025</td>\n",
       "      <td>17 February 2026</td>\n",
       "    </tr>\n",
       "    <tr>\n",
       "      <th>8</th>\n",
       "      <td>Innovative pathways for low carbon and climate resilient building stock and built environment (Built4People Partnership)</td>\n",
       "      <td>https://ec.europa.eu/info/funding-tenders/opportunities/portal/screen/opportunities/topic-details/HORIZON-CL5-2026-02-D4-03?isExactMatch=true&amp;status=31094501,31094502&amp;order=DESC&amp;pageNumber=1&amp;pageSize=50&amp;sortBy=startDate</td>\n",
       "      <td>Forthcoming</td>\n",
       "      <td>16 September 2025</td>\n",
       "      <td>17 February 2026</td>\n",
       "    </tr>\n",
       "    <tr>\n",
       "      <th>9</th>\n",
       "      <td>Large-scale production of liquid advanced biofuels and renewable fuels of non-biological origin</td>\n",
       "      <td>https://ec.europa.eu/info/funding-tenders/opportunities/portal/screen/opportunities/topic-details/HORIZON-CL5-2026-02-D3-01?isExactMatch=true&amp;status=31094501,31094502&amp;order=DESC&amp;pageNumber=1&amp;pageSize=50&amp;sortBy=startDate</td>\n",
       "      <td>Forthcoming</td>\n",
       "      <td>16 September 2025</td>\n",
       "      <td>17 February 2026</td>\n",
       "    </tr>\n",
       "    <tr>\n",
       "      <th>10</th>\n",
       "      <td>Demonstration of thermal energy storage solutions for solar thermal plants and systems</td>\n",
       "      <td>https://ec.europa.eu/info/funding-tenders/opportunities/portal/screen/opportunities/topic-details/HORIZON-CL5-2026-02-D3-05?isExactMatch=true&amp;status=31094501,31094502&amp;order=DESC&amp;pageNumber=1&amp;pageSize=50&amp;sortBy=startDate</td>\n",
       "      <td>Forthcoming</td>\n",
       "      <td>16 September 2025</td>\n",
       "      <td>17 February 2026</td>\n",
       "    </tr>\n",
       "    <tr>\n",
       "      <th>11</th>\n",
       "      <td>Understand and minimise the environmental impacts of offshore wind energy</td>\n",
       "      <td>https://ec.europa.eu/info/funding-tenders/opportunities/portal/screen/opportunities/topic-details/HORIZON-CL5-2026-02-D3-08?isExactMatch=true&amp;status=31094501,31094502&amp;order=DESC&amp;pageNumber=1&amp;pageSize=50&amp;sortBy=startDate</td>\n",
       "      <td>Forthcoming</td>\n",
       "      <td>16 September 2025</td>\n",
       "      <td>17 February 2026</td>\n",
       "    </tr>\n",
       "    <tr>\n",
       "      <th>12</th>\n",
       "      <td>Smarter buildings as part of the energy system for increased efficiency and flexibility – Societal Readiness Pilot</td>\n",
       "      <td>https://ec.europa.eu/info/funding-tenders/opportunities/portal/screen/opportunities/topic-details/HORIZON-CL5-2026-02-D4-02?isExactMatch=true&amp;status=31094501,31094502&amp;order=DESC&amp;pageNumber=1&amp;pageSize=50&amp;sortBy=startDate</td>\n",
       "      <td>Forthcoming</td>\n",
       "      <td>16 September 2025</td>\n",
       "      <td>17 February 2026</td>\n",
       "    </tr>\n",
       "    <tr>\n",
       "      <th>13</th>\n",
       "      <td>Competitiveness, energy security and integration aspects of advanced biofuels and renewable fuels of non-biological origin value chains</td>\n",
       "      <td>https://ec.europa.eu/info/funding-tenders/opportunities/portal/screen/opportunities/topic-details/HORIZON-CL5-2026-02-D3-02?isExactMatch=true&amp;status=31094501,31094502&amp;order=DESC&amp;pageNumber=1&amp;pageSize=50&amp;sortBy=startDate</td>\n",
       "      <td>Forthcoming</td>\n",
       "      <td>16 September 2025</td>\n",
       "      <td>17 February 2026</td>\n",
       "    </tr>\n",
       "    <tr>\n",
       "      <th>14</th>\n",
       "      <td>Underground Thermal Energy Storage in dense urban areas</td>\n",
       "      <td>https://ec.europa.eu/info/funding-tenders/opportunities/portal/screen/opportunities/topic-details/HORIZON-CL5-2026-02-D3-22?isExactMatch=true&amp;status=31094501,31094502&amp;order=DESC&amp;pageNumber=1&amp;pageSize=50&amp;sortBy=startDate</td>\n",
       "      <td>Forthcoming</td>\n",
       "      <td>16 September 2025</td>\n",
       "      <td>17 February 2026</td>\n",
       "    </tr>\n",
       "  </tbody>\n",
       "</table>\n",
       "</div>"
      ],
      "text/plain": [
       "                                                                                                                                              Title  \\\n",
       "0                                                                                                               MSCA Choose Europe for Science 2025   \n",
       "1            De-risking wave energy technology development through transnational pre-commercial procurement of wave energy research and development   \n",
       "2   On-site innovative robotic and automated solutions and techniques for more sustainable and less disruptive building renovation and construction   \n",
       "3                                                                    Extending the lifetime of crystalline silicon PV modules (EUPI-PV Partnership)   \n",
       "4                                                                             Innovative approaches for the deployment of Positive Energy Districts   \n",
       "5                             Towards commercialisation of Perovskite PV and development of dedicated manufacturing equipment (EUPI-PV Partnership)   \n",
       "6                                                                      Next generation distribution substation for increasing the system resilience   \n",
       "7                                                                                                                      New CO2 capture technologies   \n",
       "8                          Innovative pathways for low carbon and climate resilient building stock and built environment (Built4People Partnership)   \n",
       "9                                                   Large-scale production of liquid advanced biofuels and renewable fuels of non-biological origin   \n",
       "10                                                           Demonstration of thermal energy storage solutions for solar thermal plants and systems   \n",
       "11                                                                        Understand and minimise the environmental impacts of offshore wind energy   \n",
       "12                               Smarter buildings as part of the energy system for increased efficiency and flexibility – Societal Readiness Pilot   \n",
       "13          Competitiveness, energy security and integration aspects of advanced biofuels and renewable fuels of non-biological origin value chains   \n",
       "14                                                                                          Underground Thermal Energy Storage in dense urban areas   \n",
       "\n",
       "                                                                                                                                                                                                                                Link  \\\n",
       "0   https://ec.europa.eu/info/funding-tenders/opportunities/portal/screen/opportunities/topic-details/HORIZON-MSCA-2025-COFUND-02-01?isExactMatch=true&status=31094501,31094502&order=DESC&pageNumber=1&pageSize=50&sortBy=startDate   \n",
       "1        https://ec.europa.eu/info/funding-tenders/opportunities/portal/screen/opportunities/topic-details/HORIZON-CL5-2026-02-D3-13?isExactMatch=true&status=31094501,31094502&order=DESC&pageNumber=1&pageSize=50&sortBy=startDate   \n",
       "2        https://ec.europa.eu/info/funding-tenders/opportunities/portal/screen/opportunities/topic-details/HORIZON-CL5-2026-02-D4-01?isExactMatch=true&status=31094501,31094502&order=DESC&pageNumber=1&pageSize=50&sortBy=startDate   \n",
       "3        https://ec.europa.eu/info/funding-tenders/opportunities/portal/screen/opportunities/topic-details/HORIZON-CL5-2026-02-D3-12?isExactMatch=true&status=31094501,31094502&order=DESC&pageNumber=1&pageSize=50&sortBy=startDate   \n",
       "4        https://ec.europa.eu/info/funding-tenders/opportunities/portal/screen/opportunities/topic-details/HORIZON-CL5-2026-02-D4-04?isExactMatch=true&status=31094501,31094502&order=DESC&pageNumber=1&pageSize=50&sortBy=startDate   \n",
       "5        https://ec.europa.eu/info/funding-tenders/opportunities/portal/screen/opportunities/topic-details/HORIZON-CL5-2026-02-D3-10?isExactMatch=true&status=31094501,31094502&order=DESC&pageNumber=1&pageSize=50&sortBy=startDate   \n",
       "6        https://ec.europa.eu/info/funding-tenders/opportunities/portal/screen/opportunities/topic-details/HORIZON-CL5-2026-02-D3-18?isExactMatch=true&status=31094501,31094502&order=DESC&pageNumber=1&pageSize=50&sortBy=startDate   \n",
       "7        https://ec.europa.eu/info/funding-tenders/opportunities/portal/screen/opportunities/topic-details/HORIZON-CL5-2026-02-D3-24?isExactMatch=true&status=31094501,31094502&order=DESC&pageNumber=1&pageSize=50&sortBy=startDate   \n",
       "8        https://ec.europa.eu/info/funding-tenders/opportunities/portal/screen/opportunities/topic-details/HORIZON-CL5-2026-02-D4-03?isExactMatch=true&status=31094501,31094502&order=DESC&pageNumber=1&pageSize=50&sortBy=startDate   \n",
       "9        https://ec.europa.eu/info/funding-tenders/opportunities/portal/screen/opportunities/topic-details/HORIZON-CL5-2026-02-D3-01?isExactMatch=true&status=31094501,31094502&order=DESC&pageNumber=1&pageSize=50&sortBy=startDate   \n",
       "10       https://ec.europa.eu/info/funding-tenders/opportunities/portal/screen/opportunities/topic-details/HORIZON-CL5-2026-02-D3-05?isExactMatch=true&status=31094501,31094502&order=DESC&pageNumber=1&pageSize=50&sortBy=startDate   \n",
       "11       https://ec.europa.eu/info/funding-tenders/opportunities/portal/screen/opportunities/topic-details/HORIZON-CL5-2026-02-D3-08?isExactMatch=true&status=31094501,31094502&order=DESC&pageNumber=1&pageSize=50&sortBy=startDate   \n",
       "12       https://ec.europa.eu/info/funding-tenders/opportunities/portal/screen/opportunities/topic-details/HORIZON-CL5-2026-02-D4-02?isExactMatch=true&status=31094501,31094502&order=DESC&pageNumber=1&pageSize=50&sortBy=startDate   \n",
       "13       https://ec.europa.eu/info/funding-tenders/opportunities/portal/screen/opportunities/topic-details/HORIZON-CL5-2026-02-D3-02?isExactMatch=true&status=31094501,31094502&order=DESC&pageNumber=1&pageSize=50&sortBy=startDate   \n",
       "14       https://ec.europa.eu/info/funding-tenders/opportunities/portal/screen/opportunities/topic-details/HORIZON-CL5-2026-02-D3-22?isExactMatch=true&status=31094501,31094502&order=DESC&pageNumber=1&pageSize=50&sortBy=startDate   \n",
       "\n",
       "         Status         Start_date          Deadline  \n",
       "0   Forthcoming    01 October 2025  03 December 2025  \n",
       "1   Forthcoming  16 September 2025  17 February 2026  \n",
       "2   Forthcoming  16 September 2025  17 February 2026  \n",
       "3   Forthcoming  16 September 2025  17 February 2026  \n",
       "4   Forthcoming  16 September 2025  17 February 2026  \n",
       "5   Forthcoming  16 September 2025  17 February 2026  \n",
       "6   Forthcoming  16 September 2025  17 February 2026  \n",
       "7   Forthcoming  16 September 2025  17 February 2026  \n",
       "8   Forthcoming  16 September 2025  17 February 2026  \n",
       "9   Forthcoming  16 September 2025  17 February 2026  \n",
       "10  Forthcoming  16 September 2025  17 February 2026  \n",
       "11  Forthcoming  16 September 2025  17 February 2026  \n",
       "12  Forthcoming  16 September 2025  17 February 2026  \n",
       "13  Forthcoming  16 September 2025  17 February 2026  \n",
       "14  Forthcoming  16 September 2025  17 February 2026  "
      ]
     },
     "execution_count": 14,
     "metadata": {},
     "output_type": "execute_result"
    }
   ],
   "source": [
    "df.head(15)"
   ]
  },
  {
   "cell_type": "code",
   "execution_count": 15,
   "id": "bf780b41",
   "metadata": {},
   "outputs": [
    {
     "name": "stdout",
     "output_type": "stream",
     "text": [
      "<class 'pandas.core.frame.DataFrame'>\n",
      "RangeIndex: 374 entries, 0 to 373\n",
      "Data columns (total 5 columns):\n",
      " #   Column      Non-Null Count  Dtype \n",
      "---  ------      --------------  ----- \n",
      " 0   Title       374 non-null    object\n",
      " 1   Link        374 non-null    object\n",
      " 2   Status      374 non-null    object\n",
      " 3   Start_date  374 non-null    object\n",
      " 4   Deadline    374 non-null    object\n",
      "dtypes: object(5)\n",
      "memory usage: 14.7+ KB\n"
     ]
    }
   ],
   "source": [
    "df.info()"
   ]
  },
  {
   "cell_type": "code",
   "execution_count": 16,
   "id": "f1fec9c9",
   "metadata": {},
   "outputs": [
    {
     "data": {
      "text/plain": [
       "(374, 5)"
      ]
     },
     "execution_count": 16,
     "metadata": {},
     "output_type": "execute_result"
    }
   ],
   "source": [
    "df.shape"
   ]
  },
  {
   "cell_type": "markdown",
   "id": "835cf8d6",
   "metadata": {},
   "source": [
    "### ODF DATASET "
   ]
  },
  {
   "cell_type": "code",
   "execution_count": 20,
   "id": "5add94e4",
   "metadata": {},
   "outputs": [],
   "source": [
    "import pandas as pd\n",
    "\n",
    "# Données extraites\n",
    "data = [\n",
    "    {\n",
    "        \"Project Name\": \"FACTORIAT\",\n",
    "        \"Description\": \"Support Deeptech & Hardware startups in prototyping and tech maturation with technical and financial help.\",\n",
    "        \"Period\": \"2022–2023\",\n",
    "        \"Axes / Thematic Areas\": \"Deeptech, Hardware, Incubation, Prototyping, Acceleration\",\n",
    "        \"Region\": \"Tunisia\",\n",
    "        \"Partners / Funders\": \"Industrial partners, ODF network\",\n",
    "        \"Key Figures / Impact\": \"7 prototypes, 4 pre-industrial units\"\n",
    "    },\n",
    "    {\n",
    "        \"Project Name\": \"National Entrepreneurship Program\",\n",
    "        \"Description\": \"Design and implementation of Lesotho's national entrepreneurship ecosystem.\",\n",
    "        \"Period\": \"2022–2025\",\n",
    "        \"Axes / Thematic Areas\": \"Capacity building, Strategy, Startup Ecosystem\",\n",
    "        \"Region\": \"Lesotho\",\n",
    "        \"Partners / Funders\": \"Local government, ODF\",\n",
    "        \"Key Figures / Impact\": \"500 entrepreneurs, 15 ESOs supported\"\n",
    "    },\n",
    "    {\n",
    "        \"Project Name\": \"Arab Bank Strategy\",\n",
    "        \"Description\": \"Develop funding & partnership strategy for African digital economy projects.\",\n",
    "        \"Period\": \"N/A\",\n",
    "        \"Axes / Thematic Areas\": \"Digital Economy, Strategic Development, Financing\",\n",
    "        \"Region\": \"Sub-Saharan Africa\",\n",
    "        \"Partners / Funders\": \"Arab Bank for Economic Development in Africa\",\n",
    "        \"Key Figures / Impact\": \"Strategy developed\"\n",
    "    },\n",
    "    {\n",
    "        \"Project Name\": \"World Bank Collaboration\",\n",
    "        \"Description\": \"Develop startup ecosystem in 5 Southern African countries including Lesotho.\",\n",
    "        \"Period\": \"2020–2022\",\n",
    "        \"Axes / Thematic Areas\": \"Startup Ecosystem, Digital Economy, Entrepreneurship\",\n",
    "        \"Region\": \"Southern Africa\",\n",
    "        \"Partners / Funders\": \"World Bank\",\n",
    "        \"Key Figures / Impact\": \"SA, Lesotho, Namibia, Botswana, Eswatini\"\n",
    "    },\n",
    "    {\n",
    "        \"Project Name\": \"MDBAN – Business Angels Network\",\n",
    "        \"Description\": \"Support early-stage Maghreb startups via diaspora angel investment.\",\n",
    "        \"Period\": \"2021–Present\",\n",
    "        \"Axes / Thematic Areas\": \"Startup Support, Investment, Diaspora Engagement\",\n",
    "        \"Region\": \"MENA, Diaspora\",\n",
    "        \"Partners / Funders\": \"MDBAN, ODF\",\n",
    "        \"Key Figures / Impact\": \"56 startups financed, 33 angels\"\n",
    "    },\n",
    "    {\n",
    "        \"Project Name\": \"BIATLABS\",\n",
    "        \"Description\": \"Incubation program by BIAT Bank, run by ODF.\",\n",
    "        \"Period\": \"2016–2018\",\n",
    "        \"Axes / Thematic Areas\": \"Startup Incubation, Early-Stage Innovation\",\n",
    "        \"Region\": \"Tunisia\",\n",
    "        \"Partners / Funders\": \"BIAT (Private Bank)\",\n",
    "        \"Key Figures / Impact\": \"4 cohorts, 45 startups, 15 labeled, 6 funded\"\n",
    "    },\n",
    "    {\n",
    "        \"Project Name\": \"TECHNORIAT PPP Program\",\n",
    "        \"Description\": \"Bridge research & entrepreneurship via incubation/acceleration of researchers.\",\n",
    "        \"Period\": \"2021–2023\",\n",
    "        \"Axes / Thematic Areas\": \"Scientific Research, Deeptech, Acceleration, Entrepreneurship\",\n",
    "        \"Region\": \"Tunisia\",\n",
    "        \"Partners / Funders\": \"TECHNORIAT, PPP\",\n",
    "        \"Key Figures / Impact\": \"800 sensitized, 136 preselected, 13 incubated, 8 accelerated\"\n",
    "    },\n",
    "    {\n",
    "        \"Project Name\": \"ABI – Applied Biotech & Innovation\",\n",
    "        \"Description\": \"Turn biotech discoveries into marketable solutions with IP licensing model.\",\n",
    "        \"Period\": \"N/A\",\n",
    "        \"Axes / Thematic Areas\": \"Biotech, One Health, IP Licensing, Innovation\",\n",
    "        \"Region\": \"N/A\",\n",
    "        \"Partners / Funders\": \"ODF internal program\",\n",
    "        \"Key Figures / Impact\": \"IP Model: License IN → Maturation → License OUT\"\n",
    "    }\n",
    "]\n",
    "\n",
    "# Création du DataFrame\n",
    "odf_df = pd.DataFrame(data)\n",
    "# Export en CSV\n",
    "odf_df.to_csv(\"ODF_project_dataset.csv\", index=False)\n"
   ]
  },
  {
   "cell_type": "code",
   "execution_count": 21,
   "id": "1858b498",
   "metadata": {},
   "outputs": [],
   "source": [
    "# Dictionnaire de correspondance EN => FR\n",
    "all_keywords_text = {\n",
    "    \"strategic consulting\": \"conseil stratégique\",\n",
    "    \"technical assistance\": \"assistance technique\",\n",
    "    \"institutional support\": \"appui institutionnel\",\n",
    "    \"tailored support\": \"accompagnement personnalisé\",\n",
    "    \"innovation support\": \"accompagnement à l’innovation\",\n",
    "    \"fundraising support\": \"accompagnement à la levée de fonds\",\n",
    "    \"organizational development\": \"développement organisationnel\",\n",
    "    \"capacity building\": \"développement de capacités\",\n",
    "    \"program structuring\": \"structuration de programme\",\n",
    "    \"project design\": \"ingénierie de projet\",\n",
    "    \"project management\": \"gestion de projet\",\n",
    "    \"program steering\": \"pilotage de programme\",\n",
    "    \"growth strategy\": \"stratégie de croissance\",\n",
    "    \"sector expertise\": \"expertise sectorielle\",\n",
    "    \"project evaluation\": \"évaluation de projets\",\n",
    "    \"due diligence\": \"due diligence\",\n",
    "    \"project implementation\": \"mise en œuvre de projet\",\n",
    "    \"roadmap development\": \"élaboration de feuille de route\",\n",
    "    \"financial engineering\": \"ingénierie financière\",\n",
    "    \"strategic diagnosis\": \"diagnostic stratégique\",\n",
    "    \"monitoring and evaluation\": \"suivi-évaluation\",\n",
    "    \"operational action plan\": \"plan d’action opérationnel\",\n",
    "    \"public-private partnership\": \"partenariat public-privé\",\n",
    "    \"ecosystem animation\": \"animation d’écosystème\",\n",
    "    \"impact analysis\": \"analyse d’impact\",\n",
    "    \"partnership facilitation\": \"facilitation de partenariats\",\n",
    "    \"stakeholder mapping\": \"cartographie des acteurs\",\n",
    "    \"knowledge transfer\": \"transfert de compétences\",\n",
    "    \"collaborative innovation\": \"innovation collaborative\",\n",
    "    \"open innovation\": \"open innovation\",\n",
    "    \"economic development\": \"développement économique\",\n",
    "    \"ecosystem development\": \"développement d’écosystèmes\",\n",
    "    \"expansion strategy\": \"stratégie d’expansion\",\n",
    "    \"development strategy\": \"stratégie de développement\",\n",
    "    \"research valorization\": \"valorisation de la recherche\",\n",
    "    \"technology transfer\": \"transfert de technologie\",\n",
    "    \"technology maturation\": \"maturation technologique\",\n",
    "    \"prototype industrialization\": \"industrialisation de prototypes\",\n",
    "    \"technological co-development\": \"co-développement technologique\",\n",
    "    \"intellectual property\": \"propriété intellectuelle\",\n",
    "    \"research results\": \"résultats de recherche\",\n",
    "    \"technology readiness level\": \"niveau de maturité technologique\",\n",
    "    \"university spin-off\": \"spin-off universitaire\",\n",
    "    \"research-industry collaboration\": \"collaboration recherche-industrie\",\n",
    "    \"technology startup\": \"start-up technologique\",\n",
    "    \"technology portfolio\": \"portefeuille technologique\",\n",
    "    \"innovation commercialization\": \"commercialisation d’innovations\",\n",
    "    \"proof of concept\": \"preuve de concept\",\n",
    "    \"prototyping\": \"prototypage\",\n",
    "    \"technology incubator\": \"incubateur technologique\",\n",
    "    \"R&D support\": \"accompagnement à la R&D\",\n",
    "    \"patent exploitation\": \"exploitation de brevets\",\n",
    "    \"call for projects\": \"appel à projets\",\n",
    "    \"call for proposals\": \"appel à propositions\",\n",
    "    \"call for expression of interest\": \"appel à manifestation d’intérêt\",\n",
    "    \"call for applications\": \"appel à candidatures\",\n",
    "    \"call for consultants\": \"appel à consultants\",\n",
    "    \"innovation grant\": \"subvention à l’innovation\",\n",
    "    \"R&D project funding\": \"financement de projet R&D\",\n",
    "    \"support program\": \"programme d’accompagnement\",\n",
    "    \"support fund\": \"fonds de soutien\",\n",
    "    \"innovation competition\": \"concours d’innovation\",\n",
    "    \"incubation program\": \"programme d’incubation\",\n",
    "    \"acceleration program\": \"programme d’accélération\",\n",
    "    \"consulting assignment\": \"mission de conseil\",\n",
    "    \"public procurement\": \"marché public\",\n",
    "    \"strategic partnership\": \"partenariat stratégique\",\n",
    "    \"service delivery\": \"prestation de services\",\n",
    "    \"expert mission\": \"mission d’expertise\",\n",
    "    \"deeptech\": \"deeptech\",\n",
    "    \"biotechnology\": \"biotechnologie\",\n",
    "    \"medtech\": \"medtech\",\n",
    "    \"greentech\": \"greentech\",\n",
    "    \"agritech\": \"agritech\",\n",
    "    \"climatetech\": \"climatetech\",\n",
    "    \"healthtech\": \"healthtech\",\n",
    "    \"nanotechnology\": \"nanotechnologie\",\n",
    "    \"robotics\": \"robotique\",\n",
    "    \"artificial intelligence\": \"intelligence artificielle\",\n",
    "    \"machine learning\": \"machine learning\",\n",
    "    \"industry 4.0\": \"industrie 4.0\",\n",
    "    \"advanced materials\": \"matériaux avancés\",\n",
    "    \"clean technologies\": \"technologies propres\",\n",
    "    \"renewable energy\": \"énergies renouvelables\",\n",
    "    \"cybersecurity\": \"cybersécurité\",\n",
    "    \"data science\": \"data science\",\n",
    "    \"internet of things\": \"internet des objets\",\n",
    "    \"sustainable development\": \"développement durable\",\n",
    "    \"climate resilience\": \"résilience climatique\",\n",
    "    \"economic inclusion\": \"inclusion économique\",\n",
    "    \"empowerment through innovation\": \"autonomisation par l’innovation\",\n",
    "    \"social innovation\": \"innovation sociale\",\n",
    "    \"inclusive growth\": \"croissance inclusive\",\n",
    "    \"social impact\": \"impact sociétal\",\n",
    "    \"youth empowerment\": \"autonomisation des jeunes\",\n",
    "    \"services digitalization\": \"digitalisation des services\",\n",
    "    \"technological sovereignty\": \"souveraineté technologique\",\n",
    "    \"territorial development\": \"développement territorial\",\n",
    "    \"digital transformation\": \"transformation numérique\",\n",
    "    \"researcher empowerment\": \"autonomisation des chercheurs\",\n",
    "    \"diaspora integration\": \"intégration de la diaspora\",\n",
    "    \"cross-sector collaboration\": \"collaboration intersectorielle\",\n",
    "    \"industrial partnerships\": \"partenariats industriels\",\n",
    "    \"market-driven innovation\": \"innovation orientée marché\",\n",
    "    \"innovative SMEs\": \"PME innovantes\",\n",
    "    \"industrial entrepreneurship\": \"entrepreneuriat industriel\",\n",
    "    \"market access\": \"accès au marché\",\n",
    "    \"value chain strengthening\": \"renforcement des chaînes de valeur\",\n",
    "    \"economic impact\": \"impact économique\",\n",
    "    \"economic empowerment\": \"autonomisation économique\",\n",
    "    \"industrial competitiveness\": \"compétitivité industrielle\",\n",
    "    \"applied research\": \"recherche appliquée\",\n",
    "    \"skills development\": \"montée en compétences\",\n",
    "    \"know-how transfer\": \"transfert de savoir-faire\",\n",
    "    \"co-development\": \"co-développement\",\n",
    "    \"technology leadership\": \"leadership technologique\"\n",
    "}\n"
   ]
  },
  {
   "cell_type": "code",
   "execution_count": 22,
   "id": "3a5dfa65",
   "metadata": {},
   "outputs": [
    {
     "data": {
      "text/plain": [
       "{'strategic consulting': 'conseil stratégique',\n",
       " 'technical assistance': 'assistance technique',\n",
       " 'institutional support': 'appui institutionnel',\n",
       " 'tailored support': 'accompagnement personnalisé',\n",
       " 'innovation support': 'accompagnement à l’innovation',\n",
       " 'fundraising support': 'accompagnement à la levée de fonds',\n",
       " 'organizational development': 'développement organisationnel',\n",
       " 'capacity building': 'développement de capacités',\n",
       " 'program structuring': 'structuration de programme',\n",
       " 'project design': 'ingénierie de projet',\n",
       " 'project management': 'gestion de projet',\n",
       " 'program steering': 'pilotage de programme',\n",
       " 'growth strategy': 'stratégie de croissance',\n",
       " 'sector expertise': 'expertise sectorielle',\n",
       " 'project evaluation': 'évaluation de projets',\n",
       " 'due diligence': 'due diligence',\n",
       " 'project implementation': 'mise en œuvre de projet',\n",
       " 'roadmap development': 'élaboration de feuille de route',\n",
       " 'financial engineering': 'ingénierie financière',\n",
       " 'strategic diagnosis': 'diagnostic stratégique',\n",
       " 'monitoring and evaluation': 'suivi-évaluation',\n",
       " 'operational action plan': 'plan d’action opérationnel',\n",
       " 'public-private partnership': 'partenariat public-privé',\n",
       " 'ecosystem animation': 'animation d’écosystème',\n",
       " 'impact analysis': 'analyse d’impact',\n",
       " 'partnership facilitation': 'facilitation de partenariats',\n",
       " 'stakeholder mapping': 'cartographie des acteurs',\n",
       " 'knowledge transfer': 'transfert de compétences',\n",
       " 'collaborative innovation': 'innovation collaborative',\n",
       " 'open innovation': 'open innovation',\n",
       " 'economic development': 'développement économique',\n",
       " 'ecosystem development': 'développement d’écosystèmes',\n",
       " 'expansion strategy': 'stratégie d’expansion',\n",
       " 'development strategy': 'stratégie de développement',\n",
       " 'research valorization': 'valorisation de la recherche',\n",
       " 'technology transfer': 'transfert de technologie',\n",
       " 'technology maturation': 'maturation technologique',\n",
       " 'prototype industrialization': 'industrialisation de prototypes',\n",
       " 'technological co-development': 'co-développement technologique',\n",
       " 'intellectual property': 'propriété intellectuelle',\n",
       " 'research results': 'résultats de recherche',\n",
       " 'technology readiness level': 'niveau de maturité technologique',\n",
       " 'university spin-off': 'spin-off universitaire',\n",
       " 'research-industry collaboration': 'collaboration recherche-industrie',\n",
       " 'technology startup': 'start-up technologique',\n",
       " 'technology portfolio': 'portefeuille technologique',\n",
       " 'innovation commercialization': 'commercialisation d’innovations',\n",
       " 'proof of concept': 'preuve de concept',\n",
       " 'prototyping': 'prototypage',\n",
       " 'technology incubator': 'incubateur technologique',\n",
       " 'R&D support': 'accompagnement à la R&D',\n",
       " 'patent exploitation': 'exploitation de brevets',\n",
       " 'call for projects': 'appel à projets',\n",
       " 'call for proposals': 'appel à propositions',\n",
       " 'call for expression of interest': 'appel à manifestation d’intérêt',\n",
       " 'call for applications': 'appel à candidatures',\n",
       " 'call for consultants': 'appel à consultants',\n",
       " 'innovation grant': 'subvention à l’innovation',\n",
       " 'R&D project funding': 'financement de projet R&D',\n",
       " 'support program': 'programme d’accompagnement',\n",
       " 'support fund': 'fonds de soutien',\n",
       " 'innovation competition': 'concours d’innovation',\n",
       " 'incubation program': 'programme d’incubation',\n",
       " 'acceleration program': 'programme d’accélération',\n",
       " 'consulting assignment': 'mission de conseil',\n",
       " 'public procurement': 'marché public',\n",
       " 'strategic partnership': 'partenariat stratégique',\n",
       " 'service delivery': 'prestation de services',\n",
       " 'expert mission': 'mission d’expertise',\n",
       " 'deeptech': 'deeptech',\n",
       " 'biotechnology': 'biotechnologie',\n",
       " 'medtech': 'medtech',\n",
       " 'greentech': 'greentech',\n",
       " 'agritech': 'agritech',\n",
       " 'climatetech': 'climatetech',\n",
       " 'healthtech': 'healthtech',\n",
       " 'nanotechnology': 'nanotechnologie',\n",
       " 'robotics': 'robotique',\n",
       " 'artificial intelligence': 'intelligence artificielle',\n",
       " 'machine learning': 'machine learning',\n",
       " 'industry 4.0': 'industrie 4.0',\n",
       " 'advanced materials': 'matériaux avancés',\n",
       " 'clean technologies': 'technologies propres',\n",
       " 'renewable energy': 'énergies renouvelables',\n",
       " 'cybersecurity': 'cybersécurité',\n",
       " 'data science': 'data science',\n",
       " 'internet of things': 'internet des objets',\n",
       " 'sustainable development': 'développement durable',\n",
       " 'climate resilience': 'résilience climatique',\n",
       " 'economic inclusion': 'inclusion économique',\n",
       " 'empowerment through innovation': 'autonomisation par l’innovation',\n",
       " 'social innovation': 'innovation sociale',\n",
       " 'inclusive growth': 'croissance inclusive',\n",
       " 'social impact': 'impact sociétal',\n",
       " 'youth empowerment': 'autonomisation des jeunes',\n",
       " 'services digitalization': 'digitalisation des services',\n",
       " 'technological sovereignty': 'souveraineté technologique',\n",
       " 'territorial development': 'développement territorial',\n",
       " 'digital transformation': 'transformation numérique',\n",
       " 'researcher empowerment': 'autonomisation des chercheurs',\n",
       " 'diaspora integration': 'intégration de la diaspora',\n",
       " 'cross-sector collaboration': 'collaboration intersectorielle',\n",
       " 'industrial partnerships': 'partenariats industriels',\n",
       " 'market-driven innovation': 'innovation orientée marché',\n",
       " 'innovative SMEs': 'PME innovantes',\n",
       " 'industrial entrepreneurship': 'entrepreneuriat industriel',\n",
       " 'market access': 'accès au marché',\n",
       " 'value chain strengthening': 'renforcement des chaînes de valeur',\n",
       " 'economic impact': 'impact économique',\n",
       " 'economic empowerment': 'autonomisation économique',\n",
       " 'industrial competitiveness': 'compétitivité industrielle',\n",
       " 'applied research': 'recherche appliquée',\n",
       " 'skills development': 'montée en compétences',\n",
       " 'know-how transfer': 'transfert de savoir-faire',\n",
       " 'co-development': 'co-développement',\n",
       " 'technology leadership': 'leadership technologique'}"
      ]
     },
     "execution_count": 22,
     "metadata": {},
     "output_type": "execute_result"
    }
   ],
   "source": [
    "all_keywords_text"
   ]
  },
  {
   "cell_type": "markdown",
   "id": "ea1e6930",
   "metadata": {},
   "source": [
    "### All the links"
   ]
  },
  {
   "cell_type": "markdown",
   "id": "d30cd180",
   "metadata": {},
   "source": [
    "#### Detection de la pertinence par les mots clés sur tout les sites "
   ]
  },
  {
   "cell_type": "code",
   "execution_count": null,
   "id": "77803cf3",
   "metadata": {},
   "outputs": [
    {
     "name": "stdout",
     "output_type": "stream",
     "text": [
      "Traitement : https://ec.europa.eu/info/funding-tenders/opportunities/portal/screen/opportunities/topic-details/HORIZON-MSCA-2025-COFUND-02-01?isExactMatch=true&status=31094501,31094502&order=DESC&pageNumber=1&pageSize=50&sortBy=startDate\n",
      "Traitement : https://ec.europa.eu/info/funding-tenders/opportunities/portal/screen/opportunities/topic-details/HORIZON-CL5-2026-02-D3-24?isExactMatch=true&status=31094501,31094502&order=DESC&pageNumber=1&pageSize=50&sortBy=startDate\n",
      "Traitement : https://ec.europa.eu/info/funding-tenders/opportunities/portal/screen/opportunities/topic-details/HORIZON-CL5-2026-02-D4-03?isExactMatch=true&status=31094501,31094502&order=DESC&pageNumber=1&pageSize=50&sortBy=startDate\n",
      "Traitement : https://ec.europa.eu/info/funding-tenders/opportunities/portal/screen/opportunities/topic-details/HORIZON-CL5-2026-02-D4-05?isExactMatch=true&status=31094501,31094502&order=DESC&pageNumber=1&pageSize=50&sortBy=startDate\n",
      "Traitement : https://ec.europa.eu/info/funding-tenders/opportunities/portal/screen/opportunities/topic-details/HORIZON-CL5-2026-02-D3-08?isExactMatch=true&status=31094501,31094502&order=DESC&pageNumber=1&pageSize=50&sortBy=startDate\n",
      "Traitement : https://ec.europa.eu/info/funding-tenders/opportunities/portal/screen/opportunities/topic-details/HORIZON-CL5-2026-02-D4-02?isExactMatch=true&status=31094501,31094502&order=DESC&pageNumber=1&pageSize=50&sortBy=startDate\n",
      "Traitement : https://ec.europa.eu/info/funding-tenders/opportunities/portal/screen/opportunities/topic-details/HORIZON-CL5-2026-02-D3-02?isExactMatch=true&status=31094501,31094502&order=DESC&pageNumber=1&pageSize=50&sortBy=startDate\n",
      "Traitement : https://ec.europa.eu/info/funding-tenders/opportunities/portal/screen/opportunities/topic-details/HORIZON-CL5-2026-02-D3-19?isExactMatch=true&status=31094501,31094502&order=DESC&pageNumber=1&pageSize=50&sortBy=startDate\n",
      "Traitement : https://ec.europa.eu/info/funding-tenders/opportunities/portal/screen/opportunities/topic-details/HORIZON-CL5-2026-02-D3-20?isExactMatch=true&status=31094501,31094502&order=DESC&pageNumber=1&pageSize=50&sortBy=startDate\n",
      "Traitement : https://ec.europa.eu/info/funding-tenders/opportunities/portal/screen/opportunities/topic-details/HORIZON-CL5-2026-02-D4-06?isExactMatch=true&status=31094501,31094502&order=DESC&pageNumber=1&pageSize=50&sortBy=startDate\n",
      "Traitement : https://ec.europa.eu/info/funding-tenders/opportunities/portal/screen/opportunities/topic-details/HORIZON-CL5-2026-02-D3-13?isExactMatch=true&status=31094501,31094502&order=DESC&pageNumber=1&pageSize=50&sortBy=startDate\n",
      "Traitement : https://ec.europa.eu/info/funding-tenders/opportunities/portal/screen/opportunities/topic-details/HORIZON-CL5-2026-02-D4-01?isExactMatch=true&status=31094501,31094502&order=DESC&pageNumber=1&pageSize=50&sortBy=startDate\n",
      "Traitement : https://ec.europa.eu/info/funding-tenders/opportunities/portal/screen/opportunities/topic-details/HORIZON-CL5-2026-02-D3-12?isExactMatch=true&status=31094501,31094502&order=DESC&pageNumber=1&pageSize=50&sortBy=startDate\n",
      "Traitement : https://ec.europa.eu/info/funding-tenders/opportunities/portal/screen/opportunities/topic-details/HORIZON-CL5-2026-02-D4-04?isExactMatch=true&status=31094501,31094502&order=DESC&pageNumber=1&pageSize=50&sortBy=startDate\n",
      "Traitement : https://ec.europa.eu/info/funding-tenders/opportunities/portal/screen/opportunities/topic-details/HORIZON-CL5-2026-02-D3-10?isExactMatch=true&status=31094501,31094502&order=DESC&pageNumber=1&pageSize=50&sortBy=startDate\n",
      "Traitement : https://ec.europa.eu/info/funding-tenders/opportunities/portal/screen/opportunities/topic-details/HORIZON-CL5-2026-02-D3-18?isExactMatch=true&status=31094501,31094502&order=DESC&pageNumber=1&pageSize=50&sortBy=startDate\n",
      "Traitement : https://ec.europa.eu/info/funding-tenders/opportunities/portal/screen/opportunities/topic-details/HORIZON-CL5-2026-02-D3-01?isExactMatch=true&status=31094501,31094502&order=DESC&pageNumber=1&pageSize=50&sortBy=startDate\n",
      "Traitement : https://ec.europa.eu/info/funding-tenders/opportunities/portal/screen/opportunities/topic-details/HORIZON-CL5-2026-02-D3-05?isExactMatch=true&status=31094501,31094502&order=DESC&pageNumber=1&pageSize=50&sortBy=startDate\n",
      "Traitement : https://ec.europa.eu/info/funding-tenders/opportunities/portal/screen/opportunities/topic-details/HORIZON-CL5-2026-02-D3-22?isExactMatch=true&status=31094501,31094502&order=DESC&pageNumber=1&pageSize=50&sortBy=startDate\n",
      "Traitement : https://ec.europa.eu/info/funding-tenders/opportunities/portal/screen/opportunities/topic-details/HORIZON-CL5-2026-02-D3-14?isExactMatch=true&status=31094501,31094502&order=DESC&pageNumber=1&pageSize=50&sortBy=startDate\n",
      "Traitement : https://ec.europa.eu/info/funding-tenders/opportunities/portal/screen/opportunities/topic-details/HORIZON-CL5-2026-02-D3-07?isExactMatch=true&status=31094501,31094502&order=DESC&pageNumber=1&pageSize=50&sortBy=startDate\n",
      "Traitement : https://ec.europa.eu/info/funding-tenders/opportunities/portal/screen/opportunities/topic-details/HORIZON-CL5-2026-01-D2-04?isExactMatch=true&status=31094501,31094502&order=DESC&pageNumber=1&pageSize=50&sortBy=startDate\n",
      "Traitement : https://ec.europa.eu/info/funding-tenders/opportunities/portal/screen/opportunities/topic-details/HORIZON-CL5-2026-01-D6-13?isExactMatch=true&status=31094501,31094502&order=DESC&pageNumber=1&pageSize=50&sortBy=startDate\n",
      "Traitement : https://ec.europa.eu/info/funding-tenders/opportunities/portal/screen/opportunities/topic-details/HORIZON-CL5-2026-01-D2-05?isExactMatch=true&status=31094501,31094502&order=DESC&pageNumber=1&pageSize=50&sortBy=startDate\n",
      "Traitement : https://ec.europa.eu/info/funding-tenders/opportunities/portal/screen/opportunities/topic-details/HORIZON-CL5-2026-01-D6-07?isExactMatch=true&status=31094501,31094502&order=DESC&pageNumber=1&pageSize=50&sortBy=startDate\n",
      "Traitement : https://ec.europa.eu/info/funding-tenders/opportunities/portal/screen/opportunities/topic-details/HORIZON-CL5-2026-01-D6-08?isExactMatch=true&status=31094501,31094502&order=DESC&pageNumber=1&pageSize=50&sortBy=startDate\n",
      "Traitement : https://ec.europa.eu/info/funding-tenders/opportunities/portal/screen/opportunities/topic-details/HORIZON-CL5-2026-01-D6-14?isExactMatch=true&status=31094501,31094502&order=DESC&pageNumber=1&pageSize=50&sortBy=startDate\n",
      "Traitement : https://ec.europa.eu/info/funding-tenders/opportunities/portal/screen/opportunities/topic-details/HORIZON-CL5-2026-01-D6-09?isExactMatch=true&status=31094501,31094502&order=DESC&pageNumber=1&pageSize=50&sortBy=startDate\n",
      "Traitement : https://ec.europa.eu/info/funding-tenders/opportunities/portal/screen/opportunities/topic-details/HORIZON-CL5-2026-01-D5-17?isExactMatch=true&status=31094501,31094502&order=DESC&pageNumber=1&pageSize=50&sortBy=startDate\n",
      "Traitement : https://ec.europa.eu/info/funding-tenders/opportunities/portal/screen/opportunities/topic-details/HORIZON-CL5-2026-01-D6-15?isExactMatch=true&status=31094501,31094502&order=DESC&pageNumber=1&pageSize=50&sortBy=startDate\n",
      "Traitement : https://ec.europa.eu/info/funding-tenders/opportunities/portal/screen/opportunities/topic-details/HORIZON-CL5-2026-01-D6-06?isExactMatch=true&status=31094501,31094502&order=DESC&pageNumber=1&pageSize=50&sortBy=startDate\n",
      "Traitement : https://ec.europa.eu/info/funding-tenders/opportunities/portal/screen/opportunities/topic-details/HORIZON-CL5-2026-01-D6-03?isExactMatch=true&status=31094501,31094502&order=DESC&pageNumber=1&pageSize=50&sortBy=startDate\n",
      "Traitement : https://ec.europa.eu/info/funding-tenders/opportunities/portal/screen/opportunities/topic-details/HORIZON-CL5-2026-01-D6-04?isExactMatch=true&status=31094501,31094502&order=DESC&pageNumber=1&pageSize=50&sortBy=startDate\n",
      "Traitement : https://ec.europa.eu/info/funding-tenders/opportunities/portal/screen/opportunities/topic-details/HORIZON-CL5-2026-01-D6-10?isExactMatch=true&status=31094501,31094502&order=DESC&pageNumber=1&pageSize=50&sortBy=startDate\n",
      "Traitement : https://ec.europa.eu/info/funding-tenders/opportunities/portal/screen/opportunities/topic-details/HORIZON-CL5-2026-01-D6-05?isExactMatch=true&status=31094501,31094502&order=DESC&pageNumber=1&pageSize=50&sortBy=startDate\n",
      "Traitement : https://ec.europa.eu/info/funding-tenders/opportunities/portal/screen/opportunities/topic-details/HORIZON-CL5-2026-01-D2-01?isExactMatch=true&status=31094501,31094502&order=DESC&pageNumber=1&pageSize=50&sortBy=startDate\n",
      "Traitement : https://ec.europa.eu/info/funding-tenders/opportunities/portal/screen/opportunities/topic-details/HORIZON-CL5-2026-01-D2-09?isExactMatch=true&status=31094501,31094502&order=DESC&pageNumber=1&pageSize=50&sortBy=startDate\n",
      "Traitement : https://ec.europa.eu/info/funding-tenders/opportunities/portal/screen/opportunities/topic-details/HORIZON-EIE-2026-01-CONNECT-03?isExactMatch=true&status=31094501,31094502&order=DESC&pageNumber=1&pageSize=50&sortBy=startDate\n",
      "Traitement : https://ec.europa.eu/info/funding-tenders/opportunities/portal/screen/opportunities/topic-details/HORIZON-EIE-2026-01-CONNECT-02?isExactMatch=true&status=31094501,31094502&order=DESC&pageNumber=1&pageSize=50&sortBy=startDate\n",
      "Traitement : https://ec.europa.eu/info/funding-tenders/opportunities/portal/screen/opportunities/topic-details/HORIZON-EIE-2026-01-CONNECT-01?isExactMatch=true&status=31094501,31094502&order=DESC&pageNumber=1&pageSize=50&sortBy=startDate\n",
      "Traitement : https://ec.europa.eu/info/funding-tenders/opportunities/portal/screen/opportunities/competitive-calls-cs/10821?isExactMatch=true&status=31094501,31094502&order=DESC&pageNumber=1&pageSize=50&sortBy=startDate\n",
      "Traitement : https://ec.europa.eu/info/funding-tenders/opportunities/portal/screen/opportunities/competitive-calls-cs/10822?isExactMatch=true&status=31094501,31094502&order=DESC&pageNumber=1&pageSize=50&sortBy=startDate\n",
      "Traitement : https://ec.europa.eu/info/funding-tenders/opportunities/portal/screen/opportunities/competitive-calls-cs/11261?isExactMatch=true&status=31094501,31094502&order=DESC&pageNumber=1&pageSize=50&sortBy=startDate\n",
      "Traitement : https://ec.europa.eu/info/funding-tenders/opportunities/portal/screen/opportunities/competitive-calls-cs/11262?isExactMatch=true&status=31094501,31094502&order=DESC&pageNumber=1&pageSize=50&sortBy=startDate\n",
      "Traitement : https://ec.europa.eu/info/funding-tenders/opportunities/portal/screen/opportunities/competitive-calls-cs/11281?isExactMatch=true&status=31094501,31094502&order=DESC&pageNumber=1&pageSize=50&sortBy=startDate\n",
      "Traitement : https://ec.europa.eu/info/funding-tenders/opportunities/portal/screen/opportunities/competitive-calls-cs/11086?isExactMatch=true&status=31094501,31094502&order=DESC&pageNumber=1&pageSize=50&sortBy=startDate\n",
      "Traitement : https://ec.europa.eu/info/funding-tenders/opportunities/portal/screen/opportunities/competitive-calls-cs/11089?isExactMatch=true&status=31094501,31094502&order=DESC&pageNumber=1&pageSize=50&sortBy=startDate\n",
      "Traitement : https://ec.europa.eu/info/funding-tenders/opportunities/portal/screen/opportunities/competitive-calls-cs/11088?isExactMatch=true&status=31094501,31094502&order=DESC&pageNumber=1&pageSize=50&sortBy=startDate\n",
      "Traitement : https://ec.europa.eu/info/funding-tenders/opportunities/portal/screen/opportunities/topic-details/DIGITAL-JU-EUROHPC-2025-NCC-01-02?isExactMatch=true&status=31094501,31094502&order=DESC&pageNumber=1&pageSize=50&sortBy=startDate\n",
      "Traitement : https://ec.europa.eu/info/funding-tenders/opportunities/portal/screen/opportunities/topic-details/DIGITAL-JU-EUROHPC-2025-NCC-01-01?isExactMatch=true&status=31094501,31094502&order=DESC&pageNumber=1&pageSize=50&sortBy=startDate\n"
     ]
    },
    {
     "ename": "KeyboardInterrupt",
     "evalue": "",
     "output_type": "error",
     "traceback": [
      "\u001b[1;31m---------------------------------------------------------------------------\u001b[0m",
      "\u001b[1;31mKeyboardInterrupt\u001b[0m                         Traceback (most recent call last)",
      "Cell \u001b[1;32mIn[27], line 81\u001b[0m\n\u001b[0;32m     79\u001b[0m \u001b[38;5;28;01mfor\u001b[39;00m url \u001b[38;5;129;01min\u001b[39;00m df[\u001b[38;5;124m'\u001b[39m\u001b[38;5;124mLink\u001b[39m\u001b[38;5;124m'\u001b[39m]:\n\u001b[0;32m     80\u001b[0m     \u001b[38;5;28mprint\u001b[39m(\u001b[38;5;124mf\u001b[39m\u001b[38;5;124m\"\u001b[39m\u001b[38;5;124mTraitement : \u001b[39m\u001b[38;5;132;01m{\u001b[39;00murl\u001b[38;5;132;01m}\u001b[39;00m\u001b[38;5;124m\"\u001b[39m)\n\u001b[1;32m---> 81\u001b[0m     result \u001b[38;5;241m=\u001b[39m \u001b[43manalyze_url\u001b[49m\u001b[43m(\u001b[49m\u001b[43murl\u001b[49m\u001b[43m)\u001b[49m\n\u001b[0;32m     82\u001b[0m     results\u001b[38;5;241m.\u001b[39mappend(result)\n\u001b[0;32m     84\u001b[0m \u001b[38;5;66;03m# === Conversion en DataFrame final ===\u001b[39;00m\n",
      "Cell \u001b[1;32mIn[27], line 26\u001b[0m, in \u001b[0;36manalyze_url\u001b[1;34m(url)\u001b[0m\n\u001b[0;32m     24\u001b[0m local_driver \u001b[38;5;241m=\u001b[39m webdriver\u001b[38;5;241m.\u001b[39mChrome(options\u001b[38;5;241m=\u001b[39moptions)\n\u001b[0;32m     25\u001b[0m \u001b[38;5;28;01mtry\u001b[39;00m:\n\u001b[1;32m---> 26\u001b[0m     \u001b[43mlocal_driver\u001b[49m\u001b[38;5;241;43m.\u001b[39;49m\u001b[43mget\u001b[49m\u001b[43m(\u001b[49m\u001b[43murl\u001b[49m\u001b[43m)\u001b[49m\n\u001b[0;32m     28\u001b[0m     \u001b[38;5;66;03m# Attendre le contenu au lieu d'utiliser sleep\u001b[39;00m\n\u001b[0;32m     29\u001b[0m     \u001b[38;5;28;01mtry\u001b[39;00m:\n",
      "File \u001b[1;32mc:\\Users\\Public\\anaconda3\\envs\\ai_env\\lib\\site-packages\\selenium\\webdriver\\remote\\webdriver.py:454\u001b[0m, in \u001b[0;36mWebDriver.get\u001b[1;34m(self, url)\u001b[0m\n\u001b[0;32m    436\u001b[0m \u001b[38;5;28;01mdef\u001b[39;00m\u001b[38;5;250m \u001b[39m\u001b[38;5;21mget\u001b[39m(\u001b[38;5;28mself\u001b[39m, url: \u001b[38;5;28mstr\u001b[39m) \u001b[38;5;241m-\u001b[39m\u001b[38;5;241m>\u001b[39m \u001b[38;5;28;01mNone\u001b[39;00m:\n\u001b[0;32m    437\u001b[0m \u001b[38;5;250m    \u001b[39m\u001b[38;5;124;03m\"\"\"Navigate the browser to the specified URL in the current window or\u001b[39;00m\n\u001b[0;32m    438\u001b[0m \u001b[38;5;124;03m    tab.\u001b[39;00m\n\u001b[0;32m    439\u001b[0m \n\u001b[1;32m   (...)\u001b[0m\n\u001b[0;32m    452\u001b[0m \u001b[38;5;124;03m    >>> driver.get(\"https://example.com\")\u001b[39;00m\n\u001b[0;32m    453\u001b[0m \u001b[38;5;124;03m    \"\"\"\u001b[39;00m\n\u001b[1;32m--> 454\u001b[0m     \u001b[38;5;28;43mself\u001b[39;49m\u001b[38;5;241;43m.\u001b[39;49m\u001b[43mexecute\u001b[49m\u001b[43m(\u001b[49m\u001b[43mCommand\u001b[49m\u001b[38;5;241;43m.\u001b[39;49m\u001b[43mGET\u001b[49m\u001b[43m,\u001b[49m\u001b[43m \u001b[49m\u001b[43m{\u001b[49m\u001b[38;5;124;43m\"\u001b[39;49m\u001b[38;5;124;43murl\u001b[39;49m\u001b[38;5;124;43m\"\u001b[39;49m\u001b[43m:\u001b[49m\u001b[43m \u001b[49m\u001b[43murl\u001b[49m\u001b[43m}\u001b[49m\u001b[43m)\u001b[49m\n",
      "File \u001b[1;32mc:\\Users\\Public\\anaconda3\\envs\\ai_env\\lib\\site-packages\\selenium\\webdriver\\remote\\webdriver.py:427\u001b[0m, in \u001b[0;36mWebDriver.execute\u001b[1;34m(self, driver_command, params)\u001b[0m\n\u001b[0;32m    424\u001b[0m     \u001b[38;5;28;01melif\u001b[39;00m \u001b[38;5;124m\"\u001b[39m\u001b[38;5;124msessionId\u001b[39m\u001b[38;5;124m\"\u001b[39m \u001b[38;5;129;01mnot\u001b[39;00m \u001b[38;5;129;01min\u001b[39;00m params:\n\u001b[0;32m    425\u001b[0m         params[\u001b[38;5;124m\"\u001b[39m\u001b[38;5;124msessionId\u001b[39m\u001b[38;5;124m\"\u001b[39m] \u001b[38;5;241m=\u001b[39m \u001b[38;5;28mself\u001b[39m\u001b[38;5;241m.\u001b[39msession_id\n\u001b[1;32m--> 427\u001b[0m response \u001b[38;5;241m=\u001b[39m \u001b[38;5;28;43mself\u001b[39;49m\u001b[38;5;241;43m.\u001b[39;49m\u001b[43mcommand_executor\u001b[49m\u001b[38;5;241;43m.\u001b[39;49m\u001b[43mexecute\u001b[49m\u001b[43m(\u001b[49m\u001b[43mdriver_command\u001b[49m\u001b[43m,\u001b[49m\u001b[43m \u001b[49m\u001b[43mparams\u001b[49m\u001b[43m)\u001b[49m\n\u001b[0;32m    428\u001b[0m \u001b[38;5;28;01mif\u001b[39;00m response:\n\u001b[0;32m    429\u001b[0m     \u001b[38;5;28mself\u001b[39m\u001b[38;5;241m.\u001b[39merror_handler\u001b[38;5;241m.\u001b[39mcheck_response(response)\n",
      "File \u001b[1;32mc:\\Users\\Public\\anaconda3\\envs\\ai_env\\lib\\site-packages\\selenium\\webdriver\\remote\\remote_connection.py:404\u001b[0m, in \u001b[0;36mRemoteConnection.execute\u001b[1;34m(self, command, params)\u001b[0m\n\u001b[0;32m    402\u001b[0m trimmed \u001b[38;5;241m=\u001b[39m \u001b[38;5;28mself\u001b[39m\u001b[38;5;241m.\u001b[39m_trim_large_entries(params)\n\u001b[0;32m    403\u001b[0m LOGGER\u001b[38;5;241m.\u001b[39mdebug(\u001b[38;5;124m\"\u001b[39m\u001b[38;5;132;01m%s\u001b[39;00m\u001b[38;5;124m \u001b[39m\u001b[38;5;132;01m%s\u001b[39;00m\u001b[38;5;124m \u001b[39m\u001b[38;5;132;01m%s\u001b[39;00m\u001b[38;5;124m\"\u001b[39m, command_info[\u001b[38;5;241m0\u001b[39m], url, \u001b[38;5;28mstr\u001b[39m(trimmed))\n\u001b[1;32m--> 404\u001b[0m \u001b[38;5;28;01mreturn\u001b[39;00m \u001b[38;5;28;43mself\u001b[39;49m\u001b[38;5;241;43m.\u001b[39;49m\u001b[43m_request\u001b[49m\u001b[43m(\u001b[49m\u001b[43mcommand_info\u001b[49m\u001b[43m[\u001b[49m\u001b[38;5;241;43m0\u001b[39;49m\u001b[43m]\u001b[49m\u001b[43m,\u001b[49m\u001b[43m \u001b[49m\u001b[43murl\u001b[49m\u001b[43m,\u001b[49m\u001b[43m \u001b[49m\u001b[43mbody\u001b[49m\u001b[38;5;241;43m=\u001b[39;49m\u001b[43mdata\u001b[49m\u001b[43m)\u001b[49m\n",
      "File \u001b[1;32mc:\\Users\\Public\\anaconda3\\envs\\ai_env\\lib\\site-packages\\selenium\\webdriver\\remote\\remote_connection.py:428\u001b[0m, in \u001b[0;36mRemoteConnection._request\u001b[1;34m(self, method, url, body)\u001b[0m\n\u001b[0;32m    425\u001b[0m     body \u001b[38;5;241m=\u001b[39m \u001b[38;5;28;01mNone\u001b[39;00m\n\u001b[0;32m    427\u001b[0m \u001b[38;5;28;01mif\u001b[39;00m \u001b[38;5;28mself\u001b[39m\u001b[38;5;241m.\u001b[39m_client_config\u001b[38;5;241m.\u001b[39mkeep_alive:\n\u001b[1;32m--> 428\u001b[0m     response \u001b[38;5;241m=\u001b[39m \u001b[38;5;28;43mself\u001b[39;49m\u001b[38;5;241;43m.\u001b[39;49m\u001b[43m_conn\u001b[49m\u001b[38;5;241;43m.\u001b[39;49m\u001b[43mrequest\u001b[49m\u001b[43m(\u001b[49m\u001b[43mmethod\u001b[49m\u001b[43m,\u001b[49m\u001b[43m \u001b[49m\u001b[43murl\u001b[49m\u001b[43m,\u001b[49m\u001b[43m \u001b[49m\u001b[43mbody\u001b[49m\u001b[38;5;241;43m=\u001b[39;49m\u001b[43mbody\u001b[49m\u001b[43m,\u001b[49m\u001b[43m \u001b[49m\u001b[43mheaders\u001b[49m\u001b[38;5;241;43m=\u001b[39;49m\u001b[43mheaders\u001b[49m\u001b[43m,\u001b[49m\u001b[43m \u001b[49m\u001b[43mtimeout\u001b[49m\u001b[38;5;241;43m=\u001b[39;49m\u001b[38;5;28;43mself\u001b[39;49m\u001b[38;5;241;43m.\u001b[39;49m\u001b[43m_client_config\u001b[49m\u001b[38;5;241;43m.\u001b[39;49m\u001b[43mtimeout\u001b[49m\u001b[43m)\u001b[49m\n\u001b[0;32m    429\u001b[0m     statuscode \u001b[38;5;241m=\u001b[39m response\u001b[38;5;241m.\u001b[39mstatus\n\u001b[0;32m    430\u001b[0m \u001b[38;5;28;01melse\u001b[39;00m:\n",
      "File \u001b[1;32mc:\\Users\\Public\\anaconda3\\envs\\ai_env\\lib\\site-packages\\urllib3\\_request_methods.py:143\u001b[0m, in \u001b[0;36mRequestMethods.request\u001b[1;34m(self, method, url, body, fields, headers, json, **urlopen_kw)\u001b[0m\n\u001b[0;32m    135\u001b[0m     \u001b[38;5;28;01mreturn\u001b[39;00m \u001b[38;5;28mself\u001b[39m\u001b[38;5;241m.\u001b[39mrequest_encode_url(\n\u001b[0;32m    136\u001b[0m         method,\n\u001b[0;32m    137\u001b[0m         url,\n\u001b[1;32m   (...)\u001b[0m\n\u001b[0;32m    140\u001b[0m         \u001b[38;5;241m*\u001b[39m\u001b[38;5;241m*\u001b[39murlopen_kw,\n\u001b[0;32m    141\u001b[0m     )\n\u001b[0;32m    142\u001b[0m \u001b[38;5;28;01melse\u001b[39;00m:\n\u001b[1;32m--> 143\u001b[0m     \u001b[38;5;28;01mreturn\u001b[39;00m \u001b[38;5;28mself\u001b[39m\u001b[38;5;241m.\u001b[39mrequest_encode_body(\n\u001b[0;32m    144\u001b[0m         method, url, fields\u001b[38;5;241m=\u001b[39mfields, headers\u001b[38;5;241m=\u001b[39mheaders, \u001b[38;5;241m*\u001b[39m\u001b[38;5;241m*\u001b[39murlopen_kw\n\u001b[0;32m    145\u001b[0m     )\n",
      "File \u001b[1;32mc:\\Users\\Public\\anaconda3\\envs\\ai_env\\lib\\site-packages\\urllib3\\_request_methods.py:278\u001b[0m, in \u001b[0;36mRequestMethods.request_encode_body\u001b[1;34m(self, method, url, fields, headers, encode_multipart, multipart_boundary, **urlopen_kw)\u001b[0m\n\u001b[0;32m    274\u001b[0m     extra_kw[\u001b[38;5;124m\"\u001b[39m\u001b[38;5;124mheaders\u001b[39m\u001b[38;5;124m\"\u001b[39m]\u001b[38;5;241m.\u001b[39msetdefault(\u001b[38;5;124m\"\u001b[39m\u001b[38;5;124mContent-Type\u001b[39m\u001b[38;5;124m\"\u001b[39m, content_type)\n\u001b[0;32m    276\u001b[0m extra_kw\u001b[38;5;241m.\u001b[39mupdate(urlopen_kw)\n\u001b[1;32m--> 278\u001b[0m \u001b[38;5;28;01mreturn\u001b[39;00m \u001b[38;5;28mself\u001b[39m\u001b[38;5;241m.\u001b[39murlopen(method, url, \u001b[38;5;241m*\u001b[39m\u001b[38;5;241m*\u001b[39mextra_kw)\n",
      "File \u001b[1;32mc:\\Users\\Public\\anaconda3\\envs\\ai_env\\lib\\site-packages\\urllib3\\poolmanager.py:443\u001b[0m, in \u001b[0;36mPoolManager.urlopen\u001b[1;34m(self, method, url, redirect, **kw)\u001b[0m\n\u001b[0;32m    441\u001b[0m     response \u001b[38;5;241m=\u001b[39m conn\u001b[38;5;241m.\u001b[39murlopen(method, url, \u001b[38;5;241m*\u001b[39m\u001b[38;5;241m*\u001b[39mkw)\n\u001b[0;32m    442\u001b[0m \u001b[38;5;28;01melse\u001b[39;00m:\n\u001b[1;32m--> 443\u001b[0m     response \u001b[38;5;241m=\u001b[39m conn\u001b[38;5;241m.\u001b[39murlopen(method, u\u001b[38;5;241m.\u001b[39mrequest_uri, \u001b[38;5;241m*\u001b[39m\u001b[38;5;241m*\u001b[39mkw)\n\u001b[0;32m    445\u001b[0m redirect_location \u001b[38;5;241m=\u001b[39m redirect \u001b[38;5;129;01mand\u001b[39;00m response\u001b[38;5;241m.\u001b[39mget_redirect_location()\n\u001b[0;32m    446\u001b[0m \u001b[38;5;28;01mif\u001b[39;00m \u001b[38;5;129;01mnot\u001b[39;00m redirect_location:\n",
      "File \u001b[1;32mc:\\Users\\Public\\anaconda3\\envs\\ai_env\\lib\\site-packages\\urllib3\\connectionpool.py:787\u001b[0m, in \u001b[0;36mHTTPConnectionPool.urlopen\u001b[1;34m(self, method, url, body, headers, retries, redirect, assert_same_host, timeout, pool_timeout, release_conn, chunked, body_pos, preload_content, decode_content, **response_kw)\u001b[0m\n\u001b[0;32m    784\u001b[0m response_conn \u001b[38;5;241m=\u001b[39m conn \u001b[38;5;28;01mif\u001b[39;00m \u001b[38;5;129;01mnot\u001b[39;00m release_conn \u001b[38;5;28;01melse\u001b[39;00m \u001b[38;5;28;01mNone\u001b[39;00m\n\u001b[0;32m    786\u001b[0m \u001b[38;5;66;03m# Make the request on the HTTPConnection object\u001b[39;00m\n\u001b[1;32m--> 787\u001b[0m response \u001b[38;5;241m=\u001b[39m \u001b[38;5;28mself\u001b[39m\u001b[38;5;241m.\u001b[39m_make_request(\n\u001b[0;32m    788\u001b[0m     conn,\n\u001b[0;32m    789\u001b[0m     method,\n\u001b[0;32m    790\u001b[0m     url,\n\u001b[0;32m    791\u001b[0m     timeout\u001b[38;5;241m=\u001b[39mtimeout_obj,\n\u001b[0;32m    792\u001b[0m     body\u001b[38;5;241m=\u001b[39mbody,\n\u001b[0;32m    793\u001b[0m     headers\u001b[38;5;241m=\u001b[39mheaders,\n\u001b[0;32m    794\u001b[0m     chunked\u001b[38;5;241m=\u001b[39mchunked,\n\u001b[0;32m    795\u001b[0m     retries\u001b[38;5;241m=\u001b[39mretries,\n\u001b[0;32m    796\u001b[0m     response_conn\u001b[38;5;241m=\u001b[39mresponse_conn,\n\u001b[0;32m    797\u001b[0m     preload_content\u001b[38;5;241m=\u001b[39mpreload_content,\n\u001b[0;32m    798\u001b[0m     decode_content\u001b[38;5;241m=\u001b[39mdecode_content,\n\u001b[0;32m    799\u001b[0m     \u001b[38;5;241m*\u001b[39m\u001b[38;5;241m*\u001b[39mresponse_kw,\n\u001b[0;32m    800\u001b[0m )\n\u001b[0;32m    802\u001b[0m \u001b[38;5;66;03m# Everything went great!\u001b[39;00m\n\u001b[0;32m    803\u001b[0m clean_exit \u001b[38;5;241m=\u001b[39m \u001b[38;5;28;01mTrue\u001b[39;00m\n",
      "File \u001b[1;32mc:\\Users\\Public\\anaconda3\\envs\\ai_env\\lib\\site-packages\\urllib3\\connectionpool.py:534\u001b[0m, in \u001b[0;36mHTTPConnectionPool._make_request\u001b[1;34m(self, conn, method, url, body, headers, retries, timeout, chunked, response_conn, preload_content, decode_content, enforce_content_length)\u001b[0m\n\u001b[0;32m    532\u001b[0m \u001b[38;5;66;03m# Receive the response from the server\u001b[39;00m\n\u001b[0;32m    533\u001b[0m \u001b[38;5;28;01mtry\u001b[39;00m:\n\u001b[1;32m--> 534\u001b[0m     response \u001b[38;5;241m=\u001b[39m \u001b[43mconn\u001b[49m\u001b[38;5;241;43m.\u001b[39;49m\u001b[43mgetresponse\u001b[49m\u001b[43m(\u001b[49m\u001b[43m)\u001b[49m\n\u001b[0;32m    535\u001b[0m \u001b[38;5;28;01mexcept\u001b[39;00m (BaseSSLError, \u001b[38;5;167;01mOSError\u001b[39;00m) \u001b[38;5;28;01mas\u001b[39;00m e:\n\u001b[0;32m    536\u001b[0m     \u001b[38;5;28mself\u001b[39m\u001b[38;5;241m.\u001b[39m_raise_timeout(err\u001b[38;5;241m=\u001b[39me, url\u001b[38;5;241m=\u001b[39murl, timeout_value\u001b[38;5;241m=\u001b[39mread_timeout)\n",
      "File \u001b[1;32mc:\\Users\\Public\\anaconda3\\envs\\ai_env\\lib\\site-packages\\urllib3\\connection.py:516\u001b[0m, in \u001b[0;36mHTTPConnection.getresponse\u001b[1;34m(self)\u001b[0m\n\u001b[0;32m    513\u001b[0m _shutdown \u001b[38;5;241m=\u001b[39m \u001b[38;5;28mgetattr\u001b[39m(\u001b[38;5;28mself\u001b[39m\u001b[38;5;241m.\u001b[39msock, \u001b[38;5;124m\"\u001b[39m\u001b[38;5;124mshutdown\u001b[39m\u001b[38;5;124m\"\u001b[39m, \u001b[38;5;28;01mNone\u001b[39;00m)\n\u001b[0;32m    515\u001b[0m \u001b[38;5;66;03m# Get the response from http.client.HTTPConnection\u001b[39;00m\n\u001b[1;32m--> 516\u001b[0m httplib_response \u001b[38;5;241m=\u001b[39m \u001b[38;5;28;43msuper\u001b[39;49m\u001b[43m(\u001b[49m\u001b[43m)\u001b[49m\u001b[38;5;241;43m.\u001b[39;49m\u001b[43mgetresponse\u001b[49m\u001b[43m(\u001b[49m\u001b[43m)\u001b[49m\n\u001b[0;32m    518\u001b[0m \u001b[38;5;28;01mtry\u001b[39;00m:\n\u001b[0;32m    519\u001b[0m     assert_header_parsing(httplib_response\u001b[38;5;241m.\u001b[39mmsg)\n",
      "File \u001b[1;32mc:\\Users\\Public\\anaconda3\\envs\\ai_env\\lib\\http\\client.py:1375\u001b[0m, in \u001b[0;36mHTTPConnection.getresponse\u001b[1;34m(self)\u001b[0m\n\u001b[0;32m   1373\u001b[0m \u001b[38;5;28;01mtry\u001b[39;00m:\n\u001b[0;32m   1374\u001b[0m     \u001b[38;5;28;01mtry\u001b[39;00m:\n\u001b[1;32m-> 1375\u001b[0m         \u001b[43mresponse\u001b[49m\u001b[38;5;241;43m.\u001b[39;49m\u001b[43mbegin\u001b[49m\u001b[43m(\u001b[49m\u001b[43m)\u001b[49m\n\u001b[0;32m   1376\u001b[0m     \u001b[38;5;28;01mexcept\u001b[39;00m \u001b[38;5;167;01mConnectionError\u001b[39;00m:\n\u001b[0;32m   1377\u001b[0m         \u001b[38;5;28mself\u001b[39m\u001b[38;5;241m.\u001b[39mclose()\n",
      "File \u001b[1;32mc:\\Users\\Public\\anaconda3\\envs\\ai_env\\lib\\http\\client.py:318\u001b[0m, in \u001b[0;36mHTTPResponse.begin\u001b[1;34m(self)\u001b[0m\n\u001b[0;32m    316\u001b[0m \u001b[38;5;66;03m# read until we get a non-100 response\u001b[39;00m\n\u001b[0;32m    317\u001b[0m \u001b[38;5;28;01mwhile\u001b[39;00m \u001b[38;5;28;01mTrue\u001b[39;00m:\n\u001b[1;32m--> 318\u001b[0m     version, status, reason \u001b[38;5;241m=\u001b[39m \u001b[38;5;28;43mself\u001b[39;49m\u001b[38;5;241;43m.\u001b[39;49m\u001b[43m_read_status\u001b[49m\u001b[43m(\u001b[49m\u001b[43m)\u001b[49m\n\u001b[0;32m    319\u001b[0m     \u001b[38;5;28;01mif\u001b[39;00m status \u001b[38;5;241m!=\u001b[39m CONTINUE:\n\u001b[0;32m    320\u001b[0m         \u001b[38;5;28;01mbreak\u001b[39;00m\n",
      "File \u001b[1;32mc:\\Users\\Public\\anaconda3\\envs\\ai_env\\lib\\http\\client.py:279\u001b[0m, in \u001b[0;36mHTTPResponse._read_status\u001b[1;34m(self)\u001b[0m\n\u001b[0;32m    278\u001b[0m \u001b[38;5;28;01mdef\u001b[39;00m\u001b[38;5;250m \u001b[39m\u001b[38;5;21m_read_status\u001b[39m(\u001b[38;5;28mself\u001b[39m):\n\u001b[1;32m--> 279\u001b[0m     line \u001b[38;5;241m=\u001b[39m \u001b[38;5;28mstr\u001b[39m(\u001b[38;5;28;43mself\u001b[39;49m\u001b[38;5;241;43m.\u001b[39;49m\u001b[43mfp\u001b[49m\u001b[38;5;241;43m.\u001b[39;49m\u001b[43mreadline\u001b[49m\u001b[43m(\u001b[49m\u001b[43m_MAXLINE\u001b[49m\u001b[43m \u001b[49m\u001b[38;5;241;43m+\u001b[39;49m\u001b[43m \u001b[49m\u001b[38;5;241;43m1\u001b[39;49m\u001b[43m)\u001b[49m, \u001b[38;5;124m\"\u001b[39m\u001b[38;5;124miso-8859-1\u001b[39m\u001b[38;5;124m\"\u001b[39m)\n\u001b[0;32m    280\u001b[0m     \u001b[38;5;28;01mif\u001b[39;00m \u001b[38;5;28mlen\u001b[39m(line) \u001b[38;5;241m>\u001b[39m _MAXLINE:\n\u001b[0;32m    281\u001b[0m         \u001b[38;5;28;01mraise\u001b[39;00m LineTooLong(\u001b[38;5;124m\"\u001b[39m\u001b[38;5;124mstatus line\u001b[39m\u001b[38;5;124m\"\u001b[39m)\n",
      "File \u001b[1;32mc:\\Users\\Public\\anaconda3\\envs\\ai_env\\lib\\socket.py:717\u001b[0m, in \u001b[0;36mSocketIO.readinto\u001b[1;34m(self, b)\u001b[0m\n\u001b[0;32m    715\u001b[0m \u001b[38;5;28;01mwhile\u001b[39;00m \u001b[38;5;28;01mTrue\u001b[39;00m:\n\u001b[0;32m    716\u001b[0m     \u001b[38;5;28;01mtry\u001b[39;00m:\n\u001b[1;32m--> 717\u001b[0m         \u001b[38;5;28;01mreturn\u001b[39;00m \u001b[38;5;28;43mself\u001b[39;49m\u001b[38;5;241;43m.\u001b[39;49m\u001b[43m_sock\u001b[49m\u001b[38;5;241;43m.\u001b[39;49m\u001b[43mrecv_into\u001b[49m\u001b[43m(\u001b[49m\u001b[43mb\u001b[49m\u001b[43m)\u001b[49m\n\u001b[0;32m    718\u001b[0m     \u001b[38;5;28;01mexcept\u001b[39;00m timeout:\n\u001b[0;32m    719\u001b[0m         \u001b[38;5;28mself\u001b[39m\u001b[38;5;241m.\u001b[39m_timeout_occurred \u001b[38;5;241m=\u001b[39m \u001b[38;5;28;01mTrue\u001b[39;00m\n",
      "\u001b[1;31mKeyboardInterrupt\u001b[0m: "
     ]
    }
   ],
   "source": [
    "from selenium import webdriver\n",
    "from selenium.webdriver.chrome.options import Options\n",
    "from selenium.webdriver.common.by import By\n",
    "from selenium.webdriver.support.ui import WebDriverWait\n",
    "from selenium.webdriver.support import expected_conditions as EC\n",
    "from concurrent.futures import ThreadPoolExecutor, as_completed\n",
    "import pandas as pd\n",
    "\n",
    "# === Configuration globale ===\n",
    "options = Options()\n",
    "options.add_argument(\"--headless\")\n",
    "options.add_argument(\"--disable-gpu\")\n",
    "options.add_argument(\"--window-size=1920,1080\")\n",
    "\n",
    "\n",
    "def clean_text(text):\n",
    "    lines = text.split(\"\\n\")\n",
    "    cleaned_lines = [line.strip() for line in lines if line.strip() and len(line.strip()) > 1]\n",
    "    return \"\\n\".join(cleaned_lines)\n",
    "\n",
    "def analyze_url(url):\n",
    "    local_driver = webdriver.Chrome(options=options)\n",
    "    try:\n",
    "        local_driver.get(url)\n",
    "\n",
    "        # Attendre le contenu au lieu d'utiliser sleep\n",
    "        try:\n",
    "            WebDriverWait(local_driver, 10).until(\n",
    "                EC.presence_of_element_located((By.CSS_SELECTOR, \"div.showMore--three-lines\"))\n",
    "            )\n",
    "        except:\n",
    "            pass\n",
    "\n",
    "        # Scroll pour forcer le chargement\n",
    "        for _ in range(5):\n",
    "            local_driver.execute_script(\"window.scrollBy(0, 500);\")\n",
    "        \n",
    "        # Récupération du texte\n",
    "        js_code = \"\"\"\n",
    "        let desc = document.querySelector('div.showMore--three-lines');\n",
    "        return desc ? desc.innerText.trim() : 'Pas de description de projet détectée.';\n",
    "        \"\"\"\n",
    "        full_text = local_driver.execute_script(js_code)\n",
    "        cleaned = clean_text(full_text)\n",
    "        matched_keywords = [kw for kw in all_keywords_text if kw.lower() in cleaned.lower()]\n",
    "\n",
    "        return {\n",
    "            \"URL\": url,\n",
    "            \"Pertinence\": \"Yes\" if matched_keywords else \"No\",\n",
    "            \"Matching Word(s)\": \", \".join(matched_keywords) if matched_keywords else \"\"\n",
    "        }\n",
    "\n",
    "    except Exception as e:\n",
    "        return {\n",
    "            \"URL\": url,\n",
    "            \"Pertinence\": \"Error\",\n",
    "            \"Matching Word(s)\": str(e)\n",
    "        }\n",
    "\n",
    "    finally:\n",
    "        local_driver.quit()\n",
    "\n",
    "# === Lancer en parallèle ===\n",
    "def run_parallel(df_links, max_workers=5):\n",
    "    url_list = df_links['Link'].dropna().unique().tolist()\n",
    "    results = []\n",
    "\n",
    "    with ThreadPoolExecutor(max_workers=max_workers) as executor:\n",
    "        future_to_url = {executor.submit(analyze_url, url): url for url in url_list}\n",
    "        for future in as_completed(future_to_url):\n",
    "            results.append(future.result())\n",
    "\n",
    "    return pd.DataFrame(results)\n",
    "\n",
    "\n",
    "results = []\n",
    "for url in df['Link']:\n",
    "    print(f\"Traitement : {url}\")\n",
    "    result = analyze_url(url)\n",
    "    results.append(result)\n",
    "\n",
    "# === Conversion en DataFrame final ===\n",
    "df_final = pd.DataFrame(results)\n",
    "df_final\n"
   ]
  },
  {
   "cell_type": "code",
   "execution_count": null,
   "id": "5c92132b",
   "metadata": {},
   "outputs": [],
   "source": []
  },
  {
   "cell_type": "code",
   "execution_count": 22,
   "id": "d4d72d36",
   "metadata": {},
   "outputs": [],
   "source": [
    "df_yes = df_final[df_final[\"Pertinence\"] == \"Yes\"]"
   ]
  },
  {
   "cell_type": "code",
   "execution_count": 23,
   "id": "d70bcb10",
   "metadata": {},
   "outputs": [
    {
     "name": "stdout",
     "output_type": "stream",
     "text": [
      "\n",
      "✅ Résultats sauvegardés dans ''.\n"
     ]
    }
   ],
   "source": [
    "resultsYES_df_keywords = pd.DataFrame(df_yes)\n",
    "resultsYES_df_keywords.to_excel(\"resultats_pertinenceYES_keywords.xlsx\", index=False)\n",
    "print(\"\\n✅ Résultats sauvegardés dans ''.\")"
   ]
  },
  {
   "cell_type": "code",
   "execution_count": 8,
   "id": "d1b702dd",
   "metadata": {},
   "outputs": [],
   "source": [
    "import pandas as pd\n",
    "df_yes=pd.read_excel(\"resultats_pertinenceYES_keywords.xlsx\")"
   ]
  },
  {
   "cell_type": "markdown",
   "id": "c462d146",
   "metadata": {},
   "source": [
    "#### Ajouter les colonnes de status et les dates"
   ]
  },
  {
   "cell_type": "code",
   "execution_count": 16,
   "id": "b4fedc2e",
   "metadata": {},
   "outputs": [
    {
     "ename": "NameError",
     "evalue": "name 'df' is not defined",
     "output_type": "error",
     "traceback": [
      "\u001b[1;31m---------------------------------------------------------------------------\u001b[0m",
      "\u001b[1;31mNameError\u001b[0m                                 Traceback (most recent call last)",
      "Cell \u001b[1;32mIn[16], line 1\u001b[0m\n\u001b[1;32m----> 1\u001b[0m df_yes[[\u001b[38;5;124m'\u001b[39m\u001b[38;5;124mTitle\u001b[39m\u001b[38;5;124m'\u001b[39m, \u001b[38;5;124m'\u001b[39m\u001b[38;5;124mStatus\u001b[39m\u001b[38;5;124m'\u001b[39m, \u001b[38;5;124m'\u001b[39m\u001b[38;5;124mStart_date\u001b[39m\u001b[38;5;124m'\u001b[39m, \u001b[38;5;124m'\u001b[39m\u001b[38;5;124mDeadline\u001b[39m\u001b[38;5;124m'\u001b[39m]] \u001b[38;5;241m=\u001b[39m \u001b[43mdf\u001b[49m[[\u001b[38;5;124m'\u001b[39m\u001b[38;5;124mTitle\u001b[39m\u001b[38;5;124m'\u001b[39m, \u001b[38;5;124m'\u001b[39m\u001b[38;5;124mStatus\u001b[39m\u001b[38;5;124m'\u001b[39m, \u001b[38;5;124m'\u001b[39m\u001b[38;5;124mStart_date\u001b[39m\u001b[38;5;124m'\u001b[39m, \u001b[38;5;124m'\u001b[39m\u001b[38;5;124mDeadline\u001b[39m\u001b[38;5;124m'\u001b[39m]]\n",
      "\u001b[1;31mNameError\u001b[0m: name 'df' is not defined"
     ]
    }
   ],
   "source": [
    "df_yes[['Title', 'Status', 'Start_date', 'Deadline']] = df[['Title', 'Status', 'Start_date', 'Deadline']]\n"
   ]
  },
  {
   "cell_type": "markdown",
   "id": "78ecf96e",
   "metadata": {},
   "source": [
    "### Sortir seulement les projets qui sont Pertinents"
   ]
  },
  {
   "cell_type": "code",
   "execution_count": null,
   "id": "314dcab9",
   "metadata": {},
   "outputs": [],
   "source": [
    "df_yes_final = df_yes[df_yes['Pertinence'] == 'Yes'].copy()\n"
   ]
  },
  {
   "cell_type": "code",
   "execution_count": null,
   "id": "f58167e3",
   "metadata": {},
   "outputs": [
    {
     "data": {
      "text/html": [
       "<div>\n",
       "<style scoped>\n",
       "    .dataframe tbody tr th:only-of-type {\n",
       "        vertical-align: middle;\n",
       "    }\n",
       "\n",
       "    .dataframe tbody tr th {\n",
       "        vertical-align: top;\n",
       "    }\n",
       "\n",
       "    .dataframe thead th {\n",
       "        text-align: right;\n",
       "    }\n",
       "</style>\n",
       "<table border=\"1\" class=\"dataframe\">\n",
       "  <thead>\n",
       "    <tr style=\"text-align: right;\">\n",
       "      <th></th>\n",
       "      <th>URL</th>\n",
       "      <th>Pertinence</th>\n",
       "      <th>Matching Word(s)</th>\n",
       "      <th>Title</th>\n",
       "      <th>Status</th>\n",
       "      <th>Start_date</th>\n",
       "      <th>Deadline</th>\n",
       "    </tr>\n",
       "  </thead>\n",
       "  <tbody>\n",
       "    <tr>\n",
       "      <th>0</th>\n",
       "      <td>https://ec.europa.eu/info/funding-tenders/opportunities/portal/screen/opportunities/topic-details/HORIZON-EIC-2025-PATHFINDERCHALLENGES-01-01?isExactMatch=true&amp;status=31094501,31094502&amp;order=DESC&amp;pageNumber=1&amp;pageSize=50&amp;sortBy=startDate</td>\n",
       "      <td>Yes</td>\n",
       "      <td>biotechnology, artificial intelligence, climate resilience</td>\n",
       "      <td>Biotech for Climate Resilient Crops and Plant-Based Biomanufacturing</td>\n",
       "      <td>Forthcoming</td>\n",
       "      <td>24 July 2025</td>\n",
       "      <td>29 October 2025</td>\n",
       "    </tr>\n",
       "    <tr>\n",
       "      <th>1</th>\n",
       "      <td>https://ec.europa.eu/info/funding-tenders/opportunities/portal/screen/opportunities/topic-details/LIFE-2025-CET-INDUSTRY?isExactMatch=true&amp;status=31094501,31094502&amp;order=DESC&amp;pageNumber=1&amp;pageSize=50&amp;sortBy=startDate</td>\n",
       "      <td>Yes</td>\n",
       "      <td>capacity building, renewable energy</td>\n",
       "      <td>Supporting the clean energy transition of European industry and businesses</td>\n",
       "      <td>Open For Submission</td>\n",
       "      <td>24 April 2025</td>\n",
       "      <td>23 September 2025</td>\n",
       "    </tr>\n",
       "    <tr>\n",
       "      <th>2</th>\n",
       "      <td>https://ec.europa.eu/info/funding-tenders/opportunities/portal/screen/opportunities/topic-details/LIFE-2025-CET-PRIVAFIN?isExactMatch=true&amp;status=31094501,31094502&amp;order=DESC&amp;pageNumber=2&amp;pageSize=50&amp;sortBy=startDate</td>\n",
       "      <td>Yes</td>\n",
       "      <td>technical assistance, renewable energy</td>\n",
       "      <td>Crowding in private finance</td>\n",
       "      <td>Open For Submission</td>\n",
       "      <td>24 April 2025</td>\n",
       "      <td>23 September 2025</td>\n",
       "    </tr>\n",
       "    <tr>\n",
       "      <th>3</th>\n",
       "      <td>https://ec.europa.eu/info/funding-tenders/opportunities/portal/screen/opportunities/topic-details/DIGITAL-2025-BESTUSE-08-NETWORKSICs?isExactMatch=true&amp;status=31094501,31094502&amp;order=DESC&amp;pageNumber=2&amp;pageSize=50&amp;sortBy=startDate</td>\n",
       "      <td>Yes</td>\n",
       "      <td>internet of things, digital transformation</td>\n",
       "      <td>Network of Safer Internet Centres (SICs)</td>\n",
       "      <td>Open For Submission</td>\n",
       "      <td>15 April 2025</td>\n",
       "      <td>02 September 2025</td>\n",
       "    </tr>\n",
       "    <tr>\n",
       "      <th>4</th>\n",
       "      <td>https://ec.europa.eu/info/funding-tenders/opportunities/portal/screen/opportunities/topic-details/DIGITAL-2025-AI-08-AGRIFOOD?isExactMatch=true&amp;status=31094501,31094502&amp;order=DESC&amp;pageNumber=2&amp;pageSize=50&amp;sortBy=startDate</td>\n",
       "      <td>Yes</td>\n",
       "      <td>capacity building, digital transformation</td>\n",
       "      <td>Multi-Country project in Agri-Food</td>\n",
       "      <td>Open For Submission</td>\n",
       "      <td>15 April 2025</td>\n",
       "      <td>02 September 2025</td>\n",
       "    </tr>\n",
       "    <tr>\n",
       "      <th>...</th>\n",
       "      <td>...</td>\n",
       "      <td>...</td>\n",
       "      <td>...</td>\n",
       "      <td>...</td>\n",
       "      <td>...</td>\n",
       "      <td>...</td>\n",
       "      <td>...</td>\n",
       "    </tr>\n",
       "    <tr>\n",
       "      <th>69</th>\n",
       "      <td>https://ec.europa.eu/info/funding-tenders/opportunities/portal/screen/opportunities/topic-details/HORIZON-EIC-2025-ACCELERATOR-01?isExactMatch=true&amp;status=31094501,31094502&amp;order=DESC&amp;pageNumber=7&amp;pageSize=50&amp;sortBy=startDate</td>\n",
       "      <td>Yes</td>\n",
       "      <td>technology readiness level</td>\n",
       "      <td>EIC Accelerator 2025 - Short application</td>\n",
       "      <td>Open For Submission</td>\n",
       "      <td>29 October 2024</td>\n",
       "      <td>18 December 2025</td>\n",
       "    </tr>\n",
       "    <tr>\n",
       "      <th>70</th>\n",
       "      <td>https://ec.europa.eu/info/funding-tenders/opportunities/portal/screen/opportunities/topic-details/CREA-MEDIA-2025-FILMOVE?isExactMatch=true&amp;status=31094501,31094502&amp;order=DESC&amp;pageNumber=7&amp;pageSize=50&amp;sortBy=startDate</td>\n",
       "      <td>Yes</td>\n",
       "      <td>call for proposals</td>\n",
       "      <td>Films on the Move</td>\n",
       "      <td>Open For Submission</td>\n",
       "      <td>01 October 2024</td>\n",
       "      <td>17 July 2025</td>\n",
       "    </tr>\n",
       "    <tr>\n",
       "      <th>71</th>\n",
       "      <td>https://ec.europa.eu/info/funding-tenders/opportunities/portal/screen/opportunities/topic-details/JTM-2022-2025-PSLF-LOAN-SCHEMES?isExactMatch=true&amp;status=31094501,31094502&amp;order=DESC&amp;pageNumber=8&amp;pageSize=50&amp;sortBy=startDate</td>\n",
       "      <td>Yes</td>\n",
       "      <td>renewable energy</td>\n",
       "      <td>PSLF-LOAN SCHEMES</td>\n",
       "      <td>Open For Submission</td>\n",
       "      <td>19 July 2022</td>\n",
       "      <td>11 September 2025</td>\n",
       "    </tr>\n",
       "    <tr>\n",
       "      <th>72</th>\n",
       "      <td>https://ec.europa.eu/info/funding-tenders/opportunities/portal/screen/opportunities/topic-details/JTM-2022-2025-PSLF-STANDALONE-PROJECTS?isExactMatch=true&amp;status=31094501,31094502&amp;order=DESC&amp;pageNumber=8&amp;pageSize=50&amp;sortBy=startDate</td>\n",
       "      <td>Yes</td>\n",
       "      <td>renewable energy</td>\n",
       "      <td>PSLF-PROJECTS</td>\n",
       "      <td>Open For Submission</td>\n",
       "      <td>19 July 2022</td>\n",
       "      <td>11 September 2025</td>\n",
       "    </tr>\n",
       "    <tr>\n",
       "      <th>73</th>\n",
       "      <td>https://ec.europa.eu/info/funding-tenders/opportunities/portal/screen/opportunities/topic-details/ESC-HUMAID-2021-QUAL-LABEL-FP?isExactMatch=true&amp;status=31094501,31094502&amp;order=DESC&amp;pageNumber=8&amp;pageSize=50&amp;sortBy=startDate</td>\n",
       "      <td>Yes</td>\n",
       "      <td>project management, call for projects</td>\n",
       "      <td>Quality Label Humanitarian Aid - Full Procedure</td>\n",
       "      <td>Open For Submission</td>\n",
       "      <td>10 June 2021</td>\n",
       "      <td>23 September 2025</td>\n",
       "    </tr>\n",
       "  </tbody>\n",
       "</table>\n",
       "<p>74 rows × 7 columns</p>\n",
       "</div>"
      ],
      "text/plain": [
       "                                                                                                                                                                                                                                              URL  \\\n",
       "0   https://ec.europa.eu/info/funding-tenders/opportunities/portal/screen/opportunities/topic-details/HORIZON-EIC-2025-PATHFINDERCHALLENGES-01-01?isExactMatch=true&status=31094501,31094502&order=DESC&pageNumber=1&pageSize=50&sortBy=startDate   \n",
       "1                        https://ec.europa.eu/info/funding-tenders/opportunities/portal/screen/opportunities/topic-details/LIFE-2025-CET-INDUSTRY?isExactMatch=true&status=31094501,31094502&order=DESC&pageNumber=1&pageSize=50&sortBy=startDate   \n",
       "2                        https://ec.europa.eu/info/funding-tenders/opportunities/portal/screen/opportunities/topic-details/LIFE-2025-CET-PRIVAFIN?isExactMatch=true&status=31094501,31094502&order=DESC&pageNumber=2&pageSize=50&sortBy=startDate   \n",
       "3           https://ec.europa.eu/info/funding-tenders/opportunities/portal/screen/opportunities/topic-details/DIGITAL-2025-BESTUSE-08-NETWORKSICs?isExactMatch=true&status=31094501,31094502&order=DESC&pageNumber=2&pageSize=50&sortBy=startDate   \n",
       "4                   https://ec.europa.eu/info/funding-tenders/opportunities/portal/screen/opportunities/topic-details/DIGITAL-2025-AI-08-AGRIFOOD?isExactMatch=true&status=31094501,31094502&order=DESC&pageNumber=2&pageSize=50&sortBy=startDate   \n",
       "..                                                                                                                                                                                                                                            ...   \n",
       "69              https://ec.europa.eu/info/funding-tenders/opportunities/portal/screen/opportunities/topic-details/HORIZON-EIC-2025-ACCELERATOR-01?isExactMatch=true&status=31094501,31094502&order=DESC&pageNumber=7&pageSize=50&sortBy=startDate   \n",
       "70                      https://ec.europa.eu/info/funding-tenders/opportunities/portal/screen/opportunities/topic-details/CREA-MEDIA-2025-FILMOVE?isExactMatch=true&status=31094501,31094502&order=DESC&pageNumber=7&pageSize=50&sortBy=startDate   \n",
       "71              https://ec.europa.eu/info/funding-tenders/opportunities/portal/screen/opportunities/topic-details/JTM-2022-2025-PSLF-LOAN-SCHEMES?isExactMatch=true&status=31094501,31094502&order=DESC&pageNumber=8&pageSize=50&sortBy=startDate   \n",
       "72       https://ec.europa.eu/info/funding-tenders/opportunities/portal/screen/opportunities/topic-details/JTM-2022-2025-PSLF-STANDALONE-PROJECTS?isExactMatch=true&status=31094501,31094502&order=DESC&pageNumber=8&pageSize=50&sortBy=startDate   \n",
       "73                https://ec.europa.eu/info/funding-tenders/opportunities/portal/screen/opportunities/topic-details/ESC-HUMAID-2021-QUAL-LABEL-FP?isExactMatch=true&status=31094501,31094502&order=DESC&pageNumber=8&pageSize=50&sortBy=startDate   \n",
       "\n",
       "   Pertinence                                            Matching Word(s)  \\\n",
       "0         Yes  biotechnology, artificial intelligence, climate resilience   \n",
       "1         Yes                         capacity building, renewable energy   \n",
       "2         Yes                      technical assistance, renewable energy   \n",
       "3         Yes                  internet of things, digital transformation   \n",
       "4         Yes                   capacity building, digital transformation   \n",
       "..        ...                                                         ...   \n",
       "69        Yes                                  technology readiness level   \n",
       "70        Yes                                          call for proposals   \n",
       "71        Yes                                            renewable energy   \n",
       "72        Yes                                            renewable energy   \n",
       "73        Yes                       project management, call for projects   \n",
       "\n",
       "                                                                         Title  \\\n",
       "0         Biotech for Climate Resilient Crops and Plant-Based Biomanufacturing   \n",
       "1   Supporting the clean energy transition of European industry and businesses   \n",
       "2                                                  Crowding in private finance   \n",
       "3                                     Network of Safer Internet Centres (SICs)   \n",
       "4                                           Multi-Country project in Agri-Food   \n",
       "..                                                                         ...   \n",
       "69                                    EIC Accelerator 2025 - Short application   \n",
       "70                                                           Films on the Move   \n",
       "71                                                           PSLF-LOAN SCHEMES   \n",
       "72                                                               PSLF-PROJECTS   \n",
       "73                             Quality Label Humanitarian Aid - Full Procedure   \n",
       "\n",
       "                 Status       Start_date           Deadline  \n",
       "0           Forthcoming     24 July 2025    29 October 2025  \n",
       "1   Open For Submission    24 April 2025  23 September 2025  \n",
       "2   Open For Submission    24 April 2025  23 September 2025  \n",
       "3   Open For Submission    15 April 2025  02 September 2025  \n",
       "4   Open For Submission    15 April 2025  02 September 2025  \n",
       "..                  ...              ...                ...  \n",
       "69  Open For Submission  29 October 2024   18 December 2025  \n",
       "70  Open For Submission  01 October 2024       17 July 2025  \n",
       "71  Open For Submission     19 July 2022  11 September 2025  \n",
       "72  Open For Submission     19 July 2022  11 September 2025  \n",
       "73  Open For Submission     10 June 2021  23 September 2025  \n",
       "\n",
       "[74 rows x 7 columns]"
      ]
     },
     "execution_count": 27,
     "metadata": {},
     "output_type": "execute_result"
    }
   ],
   "source": [
    "df_yes_final"
   ]
  },
  {
   "cell_type": "markdown",
   "id": "e72dc451",
   "metadata": {},
   "source": [
    "### TEST AVEC LE MAX WORKER "
   ]
  },
  {
   "cell_type": "code",
   "execution_count": 11,
   "id": "65a6f378",
   "metadata": {},
   "outputs": [
    {
     "name": "stderr",
     "output_type": "stream",
     "text": [
      "Error sending stats to Plausible: error sending request for url (https://plausible.io/api/event)\n"
     ]
    },
    {
     "name": "stdout",
     "output_type": "stream",
     "text": [
      "🟡 Traitement : https://ec.europa.eu/info/funding-tenders/opportunities/portal/screen/opportunities/topic-details/HORIZON-CL5-2026-02-D4-03?isExactMatch=true&status=31094501,31094502&order=DESC&pageNumber=1&pageSize=50&sortBy=startDate🟡 Traitement : https://ec.europa.eu/info/funding-tenders/opportunities/portal/screen/opportunities/topic-details/HORIZON-CL5-2026-02-D4-02?isExactMatch=true&status=31094501,31094502&order=DESC&pageNumber=1&pageSize=50&sortBy=startDate\n",
      "\n",
      "🟡 Traitement : https://ec.europa.eu/info/funding-tenders/opportunities/portal/screen/opportunities/topic-details/HORIZON-CL5-2026-02-D3-02?isExactMatch=true&status=31094501,31094502&order=DESC&pageNumber=1&pageSize=50&sortBy=startDate\n",
      "🟡 Traitement : https://ec.europa.eu/info/funding-tenders/opportunities/portal/screen/opportunities/topic-details/HORIZON-CL5-2026-02-D3-20?isExactMatch=true&status=31094501,31094502&order=DESC&pageNumber=1&pageSize=50&sortBy=startDate\n",
      "🟡 Traitement : https://ec.europa.eu/info/funding-tenders/opportunities/portal/screen/opportunities/topic-details/HORIZON-CL5-2026-02-D4-06?isExactMatch=true&status=31094501,31094502&order=DESC&pageNumber=1&pageSize=50&sortBy=startDate\n",
      "🟡 Traitement : https://ec.europa.eu/info/funding-tenders/opportunities/portal/screen/opportunities/topic-details/HORIZON-CL5-2026-02-D3-18?isExactMatch=true&status=31094501,31094502&order=DESC&pageNumber=1&pageSize=50&sortBy=startDate\n"
     ]
    },
    {
     "name": "stderr",
     "output_type": "stream",
     "text": [
      "🔍 Analyse des URLs:   1%|          | 1/114 [00:39<1:13:45, 39.16s/it]"
     ]
    },
    {
     "name": "stdout",
     "output_type": "stream",
     "text": [
      "🟡 Traitement : https://ec.europa.eu/info/funding-tenders/opportunities/portal/screen/opportunities/topic-details/HORIZON-CL5-2026-02-D3-01?isExactMatch=true&status=31094501,31094502&order=DESC&pageNumber=1&pageSize=50&sortBy=startDate\n"
     ]
    },
    {
     "name": "stderr",
     "output_type": "stream",
     "text": [
      "🔍 Analyse des URLs:   2%|▏         | 2/114 [00:39<30:21, 16.26s/it]  "
     ]
    },
    {
     "name": "stdout",
     "output_type": "stream",
     "text": [
      "🟡 Traitement : https://ec.europa.eu/info/funding-tenders/opportunities/portal/screen/opportunities/topic-details/HORIZON-CL5-2026-02-D3-07?isExactMatch=true&status=31094501,31094502&order=DESC&pageNumber=1&pageSize=50&sortBy=startDate\n"
     ]
    },
    {
     "name": "stderr",
     "output_type": "stream",
     "text": [
      "🔍 Analyse des URLs:   4%|▎         | 4/114 [00:39<10:02,  5.48s/it]"
     ]
    },
    {
     "name": "stdout",
     "output_type": "stream",
     "text": [
      "🟡 Traitement : https://ec.europa.eu/info/funding-tenders/opportunities/portal/screen/opportunities/topic-details/HORIZON-CL5-2026-01-D2-04?isExactMatch=true&status=31094501,31094502&order=DESC&pageNumber=1&pageSize=50&sortBy=startDate\n",
      "🟡 Traitement : https://ec.europa.eu/info/funding-tenders/opportunities/portal/screen/opportunities/topic-details/HORIZON-CL5-2026-01-D6-07?isExactMatch=true&status=31094501,31094502&order=DESC&pageNumber=1&pageSize=50&sortBy=startDate\n"
     ]
    },
    {
     "name": "stderr",
     "output_type": "stream",
     "text": [
      "🔍 Analyse des URLs:   4%|▍         | 5/114 [00:40<06:42,  3.70s/it]"
     ]
    },
    {
     "name": "stdout",
     "output_type": "stream",
     "text": [
      "🟡 Traitement : https://ec.europa.eu/info/funding-tenders/opportunities/portal/screen/opportunities/topic-details/HORIZON-CL5-2026-01-D6-08?isExactMatch=true&status=31094501,31094502&order=DESC&pageNumber=1&pageSize=50&sortBy=startDate\n"
     ]
    },
    {
     "name": "stderr",
     "output_type": "stream",
     "text": [
      "🔍 Analyse des URLs:   5%|▌         | 6/114 [00:41<04:56,  2.74s/it]"
     ]
    },
    {
     "name": "stdout",
     "output_type": "stream",
     "text": [
      "🟡 Traitement : https://ec.europa.eu/info/funding-tenders/opportunities/portal/screen/opportunities/topic-details/HORIZON-CL5-2026-01-D6-14?isExactMatch=true&status=31094501,31094502&order=DESC&pageNumber=1&pageSize=50&sortBy=startDate\n"
     ]
    },
    {
     "name": "stderr",
     "output_type": "stream",
     "text": [
      "🔍 Analyse des URLs:   6%|▌         | 7/114 [01:04<16:43,  9.37s/it]"
     ]
    },
    {
     "name": "stdout",
     "output_type": "stream",
     "text": [
      "🟡 Traitement : https://ec.europa.eu/info/funding-tenders/opportunities/portal/screen/opportunities/topic-details/HORIZON-CL5-2026-01-D6-09?isExactMatch=true&status=31094501,31094502&order=DESC&pageNumber=1&pageSize=50&sortBy=startDate\n"
     ]
    },
    {
     "name": "stderr",
     "output_type": "stream",
     "text": [
      "🔍 Analyse des URLs:   9%|▉         | 10/114 [01:05<06:06,  3.53s/it]"
     ]
    },
    {
     "name": "stdout",
     "output_type": "stream",
     "text": [
      "🟡 Traitement : https://ec.europa.eu/info/funding-tenders/opportunities/portal/screen/opportunities/topic-details/HORIZON-CL5-2026-01-D6-06?isExactMatch=true&status=31094501,31094502&order=DESC&pageNumber=1&pageSize=50&sortBy=startDate\n",
      "🟡 Traitement : https://ec.europa.eu/info/funding-tenders/opportunities/portal/screen/opportunities/topic-details/HORIZON-CL5-2026-01-D6-03?isExactMatch=true&status=31094501,31094502&order=DESC&pageNumber=1&pageSize=50&sortBy=startDate\n",
      "🟡 Traitement : https://ec.europa.eu/info/funding-tenders/opportunities/portal/screen/opportunities/topic-details/HORIZON-CL5-2026-01-D6-10?isExactMatch=true&status=31094501,31094502&order=DESC&pageNumber=1&pageSize=50&sortBy=startDate\n"
     ]
    },
    {
     "name": "stderr",
     "output_type": "stream",
     "text": [
      "🔍 Analyse des URLs:  10%|▉         | 11/114 [01:05<04:39,  2.72s/it]"
     ]
    },
    {
     "name": "stdout",
     "output_type": "stream",
     "text": [
      "🟡 Traitement : https://ec.europa.eu/info/funding-tenders/opportunities/portal/screen/opportunities/topic-details/HORIZON-CL5-2026-01-D2-09?isExactMatch=true&status=31094501,31094502&order=DESC&pageNumber=1&pageSize=50&sortBy=startDate\n"
     ]
    },
    {
     "name": "stderr",
     "output_type": "stream",
     "text": [
      "🔍 Analyse des URLs:  11%|█         | 12/114 [01:06<03:45,  2.22s/it]"
     ]
    },
    {
     "name": "stdout",
     "output_type": "stream",
     "text": [
      "🟡 Traitement : https://ec.europa.eu/info/funding-tenders/opportunities/portal/screen/opportunities/topic-details/HORIZON-EIE-2026-01-CONNECT-02?isExactMatch=true&status=31094501,31094502&order=DESC&pageNumber=1&pageSize=50&sortBy=startDate\n"
     ]
    },
    {
     "name": "stderr",
     "output_type": "stream",
     "text": [
      "🔍 Analyse des URLs:  11%|█▏        | 13/114 [01:29<13:22,  7.94s/it]"
     ]
    },
    {
     "name": "stdout",
     "output_type": "stream",
     "text": [
      "🟡 Traitement : https://ec.europa.eu/info/funding-tenders/opportunities/portal/screen/opportunities/topic-details/HORIZON-EIE-2026-01-CONNECT-01?isExactMatch=true&status=31094501,31094502&order=DESC&pageNumber=1&pageSize=50&sortBy=startDate\n"
     ]
    },
    {
     "name": "stderr",
     "output_type": "stream",
     "text": [
      "🔍 Analyse des URLs:  12%|█▏        | 14/114 [01:30<09:50,  5.91s/it]"
     ]
    },
    {
     "name": "stdout",
     "output_type": "stream",
     "text": [
      "🟡 Traitement : https://ec.europa.eu/info/funding-tenders/opportunities/portal/screen/opportunities/topic-details/HORIZON-EIC-2025-PATHFINDERCHALLENGES-01-04?isExactMatch=true&status=31094501,31094502&order=DESC&pageNumber=2&pageSize=50&sortBy=startDate\n"
     ]
    },
    {
     "name": "stderr",
     "output_type": "stream",
     "text": [
      "🔍 Analyse des URLs:  13%|█▎        | 15/114 [01:30<07:17,  4.42s/it]"
     ]
    },
    {
     "name": "stdout",
     "output_type": "stream",
     "text": [
      "🟡 Traitement : https://ec.europa.eu/info/funding-tenders/opportunities/portal/screen/opportunities/topic-details/HORIZON-EIC-2025-PATHFINDERCHALLENGES-01-03?isExactMatch=true&status=31094501,31094502&order=DESC&pageNumber=2&pageSize=50&sortBy=startDate\n"
     ]
    },
    {
     "name": "stderr",
     "output_type": "stream",
     "text": [
      "🔍 Analyse des URLs:  15%|█▍        | 17/114 [01:31<03:45,  2.33s/it]"
     ]
    },
    {
     "name": "stdout",
     "output_type": "stream",
     "text": [
      "🟡 Traitement : https://ec.europa.eu/info/funding-tenders/opportunities/portal/screen/opportunities/topic-details/HORIZON-EIC-2025-PATHFINDERCHALLENGES-01-02?isExactMatch=true&status=31094501,31094502&order=DESC&pageNumber=2&pageSize=50&sortBy=startDate\n",
      "🟡 Traitement : https://ec.europa.eu/info/funding-tenders/opportunities/portal/screen/opportunities/topic-details/HORIZON-EIC-2025-PATHFINDERCHALLENGES-01-01?isExactMatch=true&status=31094501,31094502&order=DESC&pageNumber=2&pageSize=50&sortBy=startDate\n",
      "🟡 Traitement : https://ec.europa.eu/info/funding-tenders/opportunities/portal/screen/opportunities/topic-details/DIGITAL-IRIS2-2025-QCI-01?isExactMatch=true&status=31094501,31094502&order=DESC&pageNumber=2&pageSize=50&sortBy=startDate\n"
     ]
    },
    {
     "name": "stderr",
     "output_type": "stream",
     "text": [
      "🔍 Analyse des URLs:  18%|█▊        | 20/114 [02:18<14:17,  9.12s/it]"
     ]
    },
    {
     "name": "stdout",
     "output_type": "stream",
     "text": [
      "🟡 Traitement : https://ec.europa.eu/info/funding-tenders/opportunities/portal/screen/opportunities/topic-details/CERV-2025-EQUAL-DIVERSITYMGT?isExactMatch=true&status=31094501,31094502&order=DESC&pageNumber=2&pageSize=50&sortBy=startDate\n",
      "🟡 Traitement : https://ec.europa.eu/info/funding-tenders/opportunities/portal/screen/opportunities/topic-details/CERV-2025-EQUAL-ANTISEMITISM?isExactMatch=true&status=31094501,31094502&order=DESC&pageNumber=2&pageSize=50&sortBy=startDate\n"
     ]
    },
    {
     "name": "stderr",
     "output_type": "stream",
     "text": [
      "🔍 Analyse des URLs:  18%|█▊        | 21/114 [02:19<10:35,  6.84s/it]"
     ]
    },
    {
     "name": "stdout",
     "output_type": "stream",
     "text": [
      "🟡 Traitement : https://ec.europa.eu/info/funding-tenders/opportunities/portal/screen/opportunities/topic-details/CERV-2025-EQUAL-LGBTIQ?isExactMatch=true&status=31094501,31094502&order=DESC&pageNumber=2&pageSize=50&sortBy=startDate\n"
     ]
    },
    {
     "name": "stderr",
     "output_type": "stream",
     "text": [
      "🔍 Analyse des URLs:  19%|█▉        | 22/114 [02:19<07:50,  5.12s/it]"
     ]
    },
    {
     "name": "stdout",
     "output_type": "stream",
     "text": [
      "🟡 Traitement : https://ec.europa.eu/info/funding-tenders/opportunities/portal/screen/opportunities/topic-details/CERV-2025-EQUAL-RACI-DISC?isExactMatch=true&status=31094501,31094502&order=DESC&pageNumber=2&pageSize=50&sortBy=startDate🟡 Traitement : https://ec.europa.eu/info/funding-tenders/opportunities/portal/screen/opportunities/topic-details/CERV-2025-EQUAL-RESTRICTED?isExactMatch=true&status=31094501,31094502&order=DESC&pageNumber=2&pageSize=50&sortBy=startDate\n",
      "\n"
     ]
    },
    {
     "name": "stderr",
     "output_type": "stream",
     "text": [
      "🔍 Analyse des URLs:  21%|██        | 24/114 [02:26<06:31,  4.35s/it]"
     ]
    },
    {
     "name": "stdout",
     "output_type": "stream",
     "text": [
      "🟡 Traitement : https://ec.europa.eu/info/funding-tenders/opportunities/portal/screen/opportunities/topic-details/EUBA-EFSA-2025-IDATA-01-01-Lot1?isExactMatch=true&status=31094501,31094502&order=DESC&pageNumber=2&pageSize=50&sortBy=startDate\n"
     ]
    },
    {
     "name": "stderr",
     "output_type": "stream",
     "text": [
      "🔍 Analyse des URLs:  23%|██▎       | 26/114 [02:57<11:49,  8.06s/it]"
     ]
    },
    {
     "name": "stdout",
     "output_type": "stream",
     "text": [
      "🟡 Traitement : https://ec.europa.eu/info/funding-tenders/opportunities/portal/screen/opportunities/topic-details/EUBA-EFSA-2025-IDATA-01-02-Lot2?isExactMatch=true&status=31094501,31094502&order=DESC&pageNumber=2&pageSize=50&sortBy=startDate\n",
      "🟡 Traitement : https://ec.europa.eu/info/funding-tenders/opportunities/portal/screen/opportunities/topic-details/DIGITAL-JU-CHIPS-2025-SG-SSOI?isExactMatch=true&status=31094501,31094502&order=DESC&pageNumber=2&pageSize=50&sortBy=startDate\n"
     ]
    },
    {
     "name": "stderr",
     "output_type": "stream",
     "text": [
      "🔍 Analyse des URLs:  24%|██▎       | 27/114 [02:57<08:38,  5.95s/it]"
     ]
    },
    {
     "name": "stdout",
     "output_type": "stream",
     "text": [
      "🟡 Traitement : https://ec.europa.eu/info/funding-tenders/opportunities/portal/screen/opportunities/topic-details/HORIZON-EUROHPC-JU-2025-IHPCSS-02?isExactMatch=true&status=31094501,31094502&order=DESC&pageNumber=2&pageSize=50&sortBy=startDate\n"
     ]
    },
    {
     "name": "stderr",
     "output_type": "stream",
     "text": [
      "🔍 Analyse des URLs:  25%|██▍       | 28/114 [02:58<06:15,  4.37s/it]"
     ]
    },
    {
     "name": "stdout",
     "output_type": "stream",
     "text": [
      "🟡 Traitement : https://ec.europa.eu/info/funding-tenders/opportunities/portal/screen/opportunities/topic-details/CEF-DIG-2025-PLATFORMS-WORKS?isExactMatch=true&status=31094501,31094502&order=DESC&pageNumber=2&pageSize=50&sortBy=startDate\n",
      "🟡 Traitement : https://ec.europa.eu/info/funding-tenders/opportunities/portal/screen/opportunities/topic-details/CERV-2025-CITIZENS-REM-HISTMIGRATION?isExactMatch=true&status=31094501,31094502&order=DESC&pageNumber=3&pageSize=50&sortBy=startDate\n"
     ]
    },
    {
     "name": "stderr",
     "output_type": "stream",
     "text": [
      "🔍 Analyse des URLs:  26%|██▋       | 30/114 [02:58<03:30,  2.51s/it]"
     ]
    },
    {
     "name": "stdout",
     "output_type": "stream",
     "text": [
      "🟡 Traitement : https://ec.europa.eu/info/funding-tenders/opportunities/portal/screen/opportunities/topic-details/RFCS-2025-02-PDP?isExactMatch=true&status=31094501,31094502&order=DESC&pageNumber=3&pageSize=50&sortBy=startDate\n"
     ]
    },
    {
     "name": "stderr",
     "output_type": "stream",
     "text": [
      "🔍 Analyse des URLs:  28%|██▊       | 32/114 [03:42<12:39,  9.27s/it]"
     ]
    },
    {
     "name": "stdout",
     "output_type": "stream",
     "text": [
      "🟡 Traitement : https://ec.europa.eu/info/funding-tenders/opportunities/portal/screen/opportunities/topic-details/RFCS-2025-02-RPJ?isExactMatch=true&status=31094501,31094502&order=DESC&pageNumber=3&pageSize=50&sortBy=startDate\n",
      "🟡 Traitement : https://ec.europa.eu/info/funding-tenders/opportunities/portal/screen/opportunities/topic-details/RFCS-2025-01-RPJ?isExactMatch=true&status=31094501,31094502&order=DESC&pageNumber=3&pageSize=50&sortBy=startDate\n"
     ]
    },
    {
     "name": "stderr",
     "output_type": "stream",
     "text": [
      "🔍 Analyse des URLs:  29%|██▉       | 33/114 [03:42<09:13,  6.84s/it]"
     ]
    },
    {
     "name": "stdout",
     "output_type": "stream",
     "text": [
      "🟡 Traitement : https://ec.europa.eu/info/funding-tenders/opportunities/portal/screen/opportunities/topic-details/RFCS-2025-01-PDP?isExactMatch=true&status=31094501,31094502&order=DESC&pageNumber=3&pageSize=50&sortBy=startDate\n",
      "🟡 Traitement : https://ec.europa.eu/info/funding-tenders/opportunities/portal/screen/opportunities/topic-details/RFCS-2025-01-AM?isExactMatch=true&status=31094501,31094502&order=DESC&pageNumber=3&pageSize=50&sortBy=startDate\n",
      "🟡 Traitement : https://ec.europa.eu/info/funding-tenders/opportunities/portal/screen/opportunities/topic-details/RFCS-2025-02-AM?isExactMatch=true&status=31094501,31094502&order=DESC&pageNumber=3&pageSize=50&sortBy=startDate\n"
     ]
    },
    {
     "name": "stderr",
     "output_type": "stream",
     "text": [
      "🔍 Analyse des URLs:  32%|███▏      | 36/114 [03:42<04:13,  3.25s/it]"
     ]
    },
    {
     "name": "stdout",
     "output_type": "stream",
     "text": [
      "🟡 Traitement : https://ec.europa.eu/info/funding-tenders/opportunities/portal/screen/opportunities/topic-details/HORIZON-JU-SNS-2025-02-STREAM-D-01?isExactMatch=true&status=31094501,31094502&order=DESC&pageNumber=3&pageSize=50&sortBy=startDate\n"
     ]
    },
    {
     "name": "stderr",
     "output_type": "stream",
     "text": [
      "🔍 Analyse des URLs:  34%|███▍      | 39/114 [03:56<04:14,  3.40s/it]"
     ]
    },
    {
     "name": "stdout",
     "output_type": "stream",
     "text": [
      "🟡 Traitement : https://ec.europa.eu/info/funding-tenders/opportunities/portal/screen/opportunities/topic-details/HORIZON-JU-IHI-2025-11-02-two-stage?isExactMatch=true&status=31094501,31094502&order=DESC&pageNumber=3&pageSize=50&sortBy=startDate\n",
      "🟡 Traitement : https://ec.europa.eu/info/funding-tenders/opportunities/portal/screen/opportunities/topic-details/HORIZON-JU-IHI-2025-11-04-two-stage?isExactMatch=true&status=31094501,31094502&order=DESC&pageNumber=3&pageSize=50&sortBy=startDate\n",
      "🟡 Traitement : https://ec.europa.eu/info/funding-tenders/opportunities/portal/screen/opportunities/topic-details/HORIZON-JU-IHI-2025-11-03-two-stage?isExactMatch=true&status=31094501,31094502&order=DESC&pageNumber=3&pageSize=50&sortBy=startDate\n"
     ]
    },
    {
     "name": "stderr",
     "output_type": "stream",
     "text": [
      "🔍 Analyse des URLs:  35%|███▌      | 40/114 [03:57<03:34,  2.90s/it]"
     ]
    },
    {
     "name": "stdout",
     "output_type": "stream",
     "text": [
      "🟡 Traitement : https://ec.europa.eu/info/funding-tenders/opportunities/portal/screen/opportunities/topic-details/HORIZON-JU-IHI-2025-11-01-two-stage?isExactMatch=true&status=31094501,31094502&order=DESC&pageNumber=3&pageSize=50&sortBy=startDate\n"
     ]
    },
    {
     "name": "stderr",
     "output_type": "stream",
     "text": [
      "🔍 Analyse des URLs:  37%|███▋      | 42/114 [04:54<13:55, 11.60s/it]"
     ]
    },
    {
     "name": "stdout",
     "output_type": "stream",
     "text": [
      "🟡 Traitement : https://ec.europa.eu/info/funding-tenders/opportunities/portal/screen/opportunities/topic-details/HORIZON-JU-IHI-2025-11-05-two-stage?isExactMatch=true&status=31094501,31094502&order=DESC&pageNumber=3&pageSize=50&sortBy=startDate\n",
      "🟡 Traitement : https://ec.europa.eu/info/funding-tenders/opportunities/portal/screen/opportunities/topic-details/EUBA-EFSA-2025-BIOHAW-01?isExactMatch=true&status=31094501,31094502&order=DESC&pageNumber=3&pageSize=50&sortBy=startDate\n"
     ]
    },
    {
     "name": "stderr",
     "output_type": "stream",
     "text": [
      "🔍 Analyse des URLs:  38%|███▊      | 43/114 [05:18<17:27, 14.75s/it]"
     ]
    },
    {
     "name": "stdout",
     "output_type": "stream",
     "text": [
      "🟡 Traitement : https://ec.europa.eu/info/funding-tenders/opportunities/portal/screen/opportunities/topic-details/DIGITAL-ECCC-2025-DEPLOY-CYBER-08-NCC?isExactMatch=true&status=31094501,31094502&order=DESC&pageNumber=3&pageSize=50&sortBy=startDate🟡 Traitement : https://ec.europa.eu/info/funding-tenders/opportunities/portal/screen/opportunities/topic-details/DIGITAL-ECCC-2025-DEPLOY-CYBER-08-CYBERHEALTH?isExactMatch=true&status=31094501,31094502&order=DESC&pageNumber=3&pageSize=50&sortBy=startDate\n",
      "\n"
     ]
    },
    {
     "name": "stderr",
     "output_type": "stream",
     "text": [
      "🔍 Analyse des URLs:  40%|████      | 46/114 [05:19<07:31,  6.64s/it]"
     ]
    },
    {
     "name": "stdout",
     "output_type": "stream",
     "text": [
      "🟡 Traitement : https://ec.europa.eu/info/funding-tenders/opportunities/portal/screen/opportunities/topic-details/HORIZON-CL3-2025-01-BM-01?isExactMatch=true&status=31094501,31094502&order=DESC&pageNumber=4&pageSize=50&sortBy=startDate\n",
      "🟡 Traitement : https://ec.europa.eu/info/funding-tenders/opportunities/portal/screen/opportunities/topic-details/HORIZON-JU-EUROHPC-2026-COE-LH-01-01?isExactMatch=true&status=31094501,31094502&order=DESC&pageNumber=4&pageSize=50&sortBy=startDate\n"
     ]
    },
    {
     "name": "stderr",
     "output_type": "stream",
     "text": [
      "🔍 Analyse des URLs:  41%|████      | 47/114 [06:07<19:04, 17.09s/it]"
     ]
    },
    {
     "name": "stdout",
     "output_type": "stream",
     "text": [
      "🟡 Traitement : https://ec.europa.eu/info/funding-tenders/opportunities/portal/screen/opportunities/topic-details/HORIZON-CL4-2025-03-HUMAN-18?isExactMatch=true&status=31094501,31094502&order=DESC&pageNumber=4&pageSize=50&sortBy=startDate\n"
     ]
    },
    {
     "name": "stderr",
     "output_type": "stream",
     "text": [
      "🔍 Analyse des URLs:  42%|████▏     | 48/114 [06:08<14:04, 12.79s/it]"
     ]
    },
    {
     "name": "stdout",
     "output_type": "stream",
     "text": [
      "🟡 Traitement : https://ec.europa.eu/info/funding-tenders/opportunities/portal/screen/opportunities/topic-details/HORIZON-CL4-2025-03-DIGITAL-EMERGING-09?isExactMatch=true&status=31094501,31094502&order=DESC&pageNumber=4&pageSize=50&sortBy=startDate\n"
     ]
    },
    {
     "name": "stderr",
     "output_type": "stream",
     "text": [
      "🔍 Analyse des URLs:  43%|████▎     | 49/114 [06:22<14:11, 13.09s/it]"
     ]
    },
    {
     "name": "stdout",
     "output_type": "stream",
     "text": [
      "🟡 Traitement : https://ec.europa.eu/info/funding-tenders/opportunities/portal/screen/opportunities/topic-details/HORIZON-CL4-2025-03-HUMAN-17?isExactMatch=true&status=31094501,31094502&order=DESC&pageNumber=4&pageSize=50&sortBy=startDate\n"
     ]
    },
    {
     "name": "stderr",
     "output_type": "stream",
     "text": [
      "🔍 Analyse des URLs:  44%|████▍     | 50/114 [06:32<13:01, 12.20s/it]"
     ]
    },
    {
     "name": "stdout",
     "output_type": "stream",
     "text": [
      "🟡 Traitement : https://ec.europa.eu/info/funding-tenders/opportunities/portal/screen/opportunities/topic-details/HORIZON-CL4-2025-03-DIGITAL-EMERGING-04?isExactMatch=true&status=31094501,31094502&order=DESC&pageNumber=4&pageSize=50&sortBy=startDate🟡 Traitement : https://ec.europa.eu/info/funding-tenders/opportunities/portal/screen/opportunities/topic-details/HORIZON-CL4-2025-03-MATERIALS-46?isExactMatch=true&status=31094501,31094502&order=DESC&pageNumber=4&pageSize=50&sortBy=startDate\n",
      "🟡 Traitement : https://ec.europa.eu/info/funding-tenders/opportunities/portal/screen/opportunities/topic-details/HORIZON-CL4-2025-03-DATA-12?isExactMatch=true&status=31094501,31094502&order=DESC&pageNumber=4&pageSize=50&sortBy=startDate\n",
      "🟡 Traitement : https://ec.europa.eu/info/funding-tenders/opportunities/portal/screen/opportunities/topic-details/HORIZON-CL4-2025-03-DATA-13?isExactMatch=true&status=31094501,31094502&order=DESC&pageNumber=4&pageSize=50&sortBy=startDate\n",
      "\n"
     ]
    },
    {
     "name": "stderr",
     "output_type": "stream",
     "text": [
      "🔍 Analyse des URLs:  47%|████▋     | 54/114 [06:33<04:49,  4.82s/it]"
     ]
    },
    {
     "name": "stdout",
     "output_type": "stream",
     "text": [
      "🟡 Traitement : https://ec.europa.eu/info/funding-tenders/opportunities/portal/screen/opportunities/topic-details/HORIZON-CL4-2025-03-DATA-10?isExactMatch=true&status=31094501,31094502&order=DESC&pageNumber=4&pageSize=50&sortBy=startDate\n"
     ]
    },
    {
     "name": "stderr",
     "output_type": "stream",
     "text": [
      "🔍 Analyse des URLs:  48%|████▊     | 55/114 [07:35<14:48, 15.07s/it]"
     ]
    },
    {
     "name": "stdout",
     "output_type": "stream",
     "text": [
      "🟡 Traitement : https://ec.europa.eu/info/funding-tenders/opportunities/portal/screen/opportunities/topic-details/HORIZON-JU-EUROHPC-2026-COE-LH-01-03?isExactMatch=true&status=31094501,31094502&order=DESC&pageNumber=4&pageSize=50&sortBy=startDate\n"
     ]
    },
    {
     "name": "stderr",
     "output_type": "stream",
     "text": [
      "🔍 Analyse des URLs:  49%|████▉     | 56/114 [07:36<11:48, 12.22s/it]"
     ]
    },
    {
     "name": "stdout",
     "output_type": "stream",
     "text": [
      "🟡 Traitement : https://ec.europa.eu/info/funding-tenders/opportunities/portal/screen/opportunities/topic-details/HORIZON-JU-EUROHPC-2026-COE-LH-01-02?isExactMatch=true&status=31094501,31094502&order=DESC&pageNumber=4&pageSize=50&sortBy=startDate\n"
     ]
    },
    {
     "name": "stderr",
     "output_type": "stream",
     "text": [
      "🔍 Analyse des URLs:  50%|█████     | 57/114 [07:44<10:50, 11.42s/it]"
     ]
    },
    {
     "name": "stdout",
     "output_type": "stream",
     "text": [
      "🟡 Traitement : https://ec.europa.eu/info/funding-tenders/opportunities/portal/screen/opportunities/topic-details/HORIZON-CL4-2025-03-HUMAN-16?isExactMatch=true&status=31094501,31094502&order=DESC&pageNumber=4&pageSize=50&sortBy=startDate🟡 Traitement : https://ec.europa.eu/info/funding-tenders/opportunities/portal/screen/opportunities/topic-details/HORIZON-CL4-2025-03-HUMAN-16?isExactMatch=true&status=31094501,31094502&order=DESC&pageNumber=5&pageSize=50&sortBy=startDate\n",
      "\n",
      "🟡 Traitement : https://ec.europa.eu/info/funding-tenders/opportunities/portal/screen/opportunities/topic-details/HORIZON-CL4-2025-03-DATA-08?isExactMatch=true&status=31094501,31094502&order=DESC&pageNumber=5&pageSize=50&sortBy=startDate\n"
     ]
    },
    {
     "name": "stderr",
     "output_type": "stream",
     "text": [
      "🔍 Analyse des URLs:  53%|█████▎    | 60/114 [07:45<05:15,  5.84s/it]"
     ]
    },
    {
     "name": "stdout",
     "output_type": "stream",
     "text": [
      "🟡 Traitement : https://ec.europa.eu/info/funding-tenders/opportunities/portal/screen/opportunities/topic-details/HORIZON-CL4-2025-03-DATA-13?isExactMatch=true&status=31094501,31094502&order=DESC&pageNumber=5&pageSize=50&sortBy=startDate\n"
     ]
    },
    {
     "name": "stderr",
     "output_type": "stream",
     "text": [
      "🔍 Analyse des URLs:  54%|█████▎    | 61/114 [08:25<11:01, 12.47s/it]"
     ]
    },
    {
     "name": "stdout",
     "output_type": "stream",
     "text": [
      "🟡 Traitement : https://ec.europa.eu/info/funding-tenders/opportunities/portal/screen/opportunities/topic-details/HORIZON-CL4-2025-03-HUMAN-15?isExactMatch=true&status=31094501,31094502&order=DESC&pageNumber=5&pageSize=50&sortBy=startDate🟡 Traitement : https://ec.europa.eu/info/funding-tenders/opportunities/portal/screen/opportunities/topic-details/HORIZON-CL4-2025-04-DIGITAL-EMERGING-05?isExactMatch=true&status=31094501,31094502&order=DESC&pageNumber=5&pageSize=50&sortBy=startDate\n",
      "🟡 Traitement : https://ec.europa.eu/info/funding-tenders/opportunities/portal/screen/opportunities/topic-details/HORIZON-CL4-2025-04-DIGITAL-EMERGING-07?isExactMatch=true&status=31094501,31094502&order=DESC&pageNumber=5&pageSize=50&sortBy=startDate\n",
      "\n"
     ]
    },
    {
     "name": "stderr",
     "output_type": "stream",
     "text": [
      "🔍 Analyse des URLs:  58%|█████▊    | 66/114 [08:26<03:54,  4.89s/it]"
     ]
    },
    {
     "name": "stdout",
     "output_type": "stream",
     "text": [
      "🟡 Traitement : https://ec.europa.eu/info/funding-tenders/opportunities/portal/screen/opportunities/topic-details/HORIZON-CL4-2025-04-DATA-02?isExactMatch=true&status=31094501,31094502&order=DESC&pageNumber=5&pageSize=50&sortBy=startDate🟡 Traitement : https://ec.europa.eu/info/funding-tenders/opportunities/portal/screen/opportunities/topic-details/HORIZON-CL4-2025-04-DIGITAL-EMERGING-01?isExactMatch=true&status=31094501,31094502&order=DESC&pageNumber=5&pageSize=50&sortBy=startDate\n",
      "\n",
      "🟡 Traitement : https://ec.europa.eu/info/funding-tenders/opportunities/portal/screen/opportunities/topic-details/HORIZON-CL4-2025-04-DIGITAL-EMERGING-04?isExactMatch=true&status=31094501,31094502&order=DESC&pageNumber=5&pageSize=50&sortBy=startDate\n"
     ]
    },
    {
     "name": "stderr",
     "output_type": "stream",
     "text": [
      "🔍 Analyse des URLs:  61%|██████    | 69/114 [09:48<09:15, 12.34s/it]"
     ]
    },
    {
     "name": "stdout",
     "output_type": "stream",
     "text": [
      "🟡 Traitement : https://ec.europa.eu/info/funding-tenders/opportunities/portal/screen/opportunities/topic-details/HORIZON-CL4-2025-04-HUMAN-08?isExactMatch=true&status=31094501,31094502&order=DESC&pageNumber=5&pageSize=50&sortBy=startDate🟡 Traitement : https://ec.europa.eu/info/funding-tenders/opportunities/portal/screen/opportunities/topic-details/HORIZON-CL4-2025-04-DATA-03?isExactMatch=true&status=31094501,31094502&order=DESC&pageNumber=5&pageSize=50&sortBy=startDate\n",
      "\n",
      "🟡 Traitement : https://ec.europa.eu/info/funding-tenders/opportunities/portal/screen/opportunities/topic-details/DIGITAL-JU-CHIPS-2025-CSA-DET?isExactMatch=true&status=31094501,31094502&order=DESC&pageNumber=5&pageSize=50&sortBy=startDate\n"
     ]
    },
    {
     "name": "stderr",
     "output_type": "stream",
     "text": [
      "🔍 Analyse des URLs:  61%|██████▏   | 70/114 [09:49<07:20, 10.01s/it]"
     ]
    },
    {
     "name": "stdout",
     "output_type": "stream",
     "text": [
      "🟡 Traitement : https://ec.europa.eu/info/funding-tenders/opportunities/portal/screen/opportunities/topic-details/EURATOM-2026-SOFT-PRIZE?isExactMatch=true&status=31094501,31094502&order=DESC&pageNumber=5&pageSize=50&sortBy=startDate\n",
      "🟡 Traitement : https://ec.europa.eu/info/funding-tenders/opportunities/portal/screen/opportunities/topic-details/HORIZON-MSCA-2025-DN-01-01?isExactMatch=true&status=31094501,31094502&order=DESC&pageNumber=5&pageSize=50&sortBy=startDate\n"
     ]
    },
    {
     "name": "stderr",
     "output_type": "stream",
     "text": [
      "🔍 Analyse des URLs:  63%|██████▎   | 72/114 [09:49<04:33,  6.52s/it]"
     ]
    },
    {
     "name": "stdout",
     "output_type": "stream",
     "text": [
      "🟡 Traitement : https://ec.europa.eu/info/funding-tenders/opportunities/portal/screen/opportunities/topic-details/CERV-2025-CHAR-LITI?isExactMatch=true&status=31094501,31094502&order=DESC&pageNumber=6&pageSize=50&sortBy=startDate\n"
     ]
    },
    {
     "name": "stderr",
     "output_type": "stream",
     "text": [
      "🔍 Analyse des URLs:  64%|██████▍   | 73/114 [10:52<12:20, 18.05s/it]"
     ]
    },
    {
     "name": "stdout",
     "output_type": "stream",
     "text": [
      "🟡 Traitement : https://ec.europa.eu/info/funding-tenders/opportunities/portal/screen/opportunities/topic-details/HORIZON-CL4-INDUSTRY-2025-01-TWIN-TRANSITION-05?isExactMatch=true&status=31094501,31094502&order=DESC&pageNumber=6&pageSize=50&sortBy=startDate\n"
     ]
    },
    {
     "name": "stderr",
     "output_type": "stream",
     "text": [
      "🔍 Analyse des URLs:  65%|██████▍   | 74/114 [10:53<09:22, 14.06s/it]"
     ]
    },
    {
     "name": "stdout",
     "output_type": "stream",
     "text": [
      "🟡 Traitement : https://ec.europa.eu/info/funding-tenders/opportunities/portal/screen/opportunities/topic-details/HORIZON-CL4-INDUSTRY-2025-01-TWIN-TRANSITION-32?isExactMatch=true&status=31094501,31094502&order=DESC&pageNumber=6&pageSize=50&sortBy=startDate\n",
      "🟡 Traitement : https://ec.europa.eu/info/funding-tenders/opportunities/portal/screen/opportunities/topic-details/HORIZON-CL4-INDUSTRY-2025-01-HUMAN-60?isExactMatch=true&status=31094501,31094502&order=DESC&pageNumber=6&pageSize=50&sortBy=startDate\n",
      "🟡 Traitement : https://ec.europa.eu/info/funding-tenders/opportunities/portal/screen/opportunities/topic-details/I3-2025-INV2a?isExactMatch=true&status=31094501,31094502&order=DESC&pageNumber=6&pageSize=50&sortBy=startDate\n"
     ]
    },
    {
     "name": "stderr",
     "output_type": "stream",
     "text": [
      "🔍 Analyse des URLs:  68%|██████▊   | 77/114 [10:56<04:43,  7.66s/it]"
     ]
    },
    {
     "name": "stdout",
     "output_type": "stream",
     "text": [
      "🟡 Traitement : https://ec.europa.eu/info/funding-tenders/opportunities/portal/screen/opportunities/topic-details/I3-2025-INV1?isExactMatch=true&status=31094501,31094502&order=DESC&pageNumber=6&pageSize=50&sortBy=startDate\n"
     ]
    },
    {
     "name": "stderr",
     "output_type": "stream",
     "text": [
      "🔍 Analyse des URLs:  68%|██████▊   | 78/114 [10:56<03:46,  6.28s/it]"
     ]
    },
    {
     "name": "stdout",
     "output_type": "stream",
     "text": [
      "🟡 Traitement : https://ec.europa.eu/info/funding-tenders/opportunities/portal/screen/opportunities/topic-details/HORIZON-CL4-2025-05-TWIN-TRANSITION-11-two-stage?isExactMatch=true&status=31094501,31094502&order=DESC&pageNumber=6&pageSize=50&sortBy=startDate\n"
     ]
    },
    {
     "name": "stderr",
     "output_type": "stream",
     "text": [
      "🔍 Analyse des URLs:  69%|██████▉   | 79/114 [11:17<05:29,  9.42s/it]"
     ]
    },
    {
     "name": "stdout",
     "output_type": "stream",
     "text": [
      "🟡 Traitement : https://ec.europa.eu/info/funding-tenders/opportunities/portal/screen/opportunities/topic-details/HORIZON-CL4-2025-05-MATERIALS-42-two-stage?isExactMatch=true&status=31094501,31094502&order=DESC&pageNumber=6&pageSize=50&sortBy=startDate\n"
     ]
    },
    {
     "name": "stderr",
     "output_type": "stream",
     "text": [
      "🔍 Analyse des URLs:  72%|███████▏  | 82/114 [11:22<02:42,  5.07s/it]"
     ]
    },
    {
     "name": "stdout",
     "output_type": "stream",
     "text": [
      "🟡 Traitement : https://ec.europa.eu/info/funding-tenders/opportunities/portal/screen/opportunities/topic-details/HORIZON-CL4-2025-05-MATERIALS-51-two-stage?isExactMatch=true&status=31094501,31094502&order=DESC&pageNumber=6&pageSize=50&sortBy=startDate\n",
      "🟡 Traitement : https://ec.europa.eu/info/funding-tenders/opportunities/portal/screen/opportunities/topic-details/HORIZON-CL4-2025-05-MATERIALS-43-two-stage?isExactMatch=true&status=31094501,31094502&order=DESC&pageNumber=6&pageSize=50&sortBy=startDate\n",
      "🟡 Traitement : https://ec.europa.eu/info/funding-tenders/opportunities/portal/screen/opportunities/topic-details/HORIZON-CL4-2025-05-TWIN-TRANSITION-35-two-stage?isExactMatch=true&status=31094501,31094502&order=DESC&pageNumber=6&pageSize=50&sortBy=startDate\n"
     ]
    },
    {
     "name": "stderr",
     "output_type": "stream",
     "text": [
      "🔍 Analyse des URLs:  73%|███████▎  | 83/114 [11:23<02:04,  4.01s/it]"
     ]
    },
    {
     "name": "stdout",
     "output_type": "stream",
     "text": [
      "🟡 Traitement : https://ec.europa.eu/info/funding-tenders/opportunities/portal/screen/opportunities/topic-details/HORIZON-HLTH-2025-01-TOOL-05?isExactMatch=true&status=31094501,31094502&order=DESC&pageNumber=6&pageSize=50&sortBy=startDate\n"
     ]
    },
    {
     "name": "stderr",
     "output_type": "stream",
     "text": [
      "🔍 Analyse des URLs:  74%|███████▎  | 84/114 [11:59<05:53, 11.80s/it]"
     ]
    },
    {
     "name": "stdout",
     "output_type": "stream",
     "text": [
      "🟡 Traitement : https://ec.europa.eu/info/funding-tenders/opportunities/portal/screen/opportunities/topic-details/HORIZON-HLTH-2025-01-TOOL-03?isExactMatch=true&status=31094501,31094502&order=DESC&pageNumber=6&pageSize=50&sortBy=startDate\n"
     ]
    },
    {
     "name": "stderr",
     "output_type": "stream",
     "text": [
      "🔍 Analyse des URLs:  75%|███████▍  | 85/114 [12:03<04:45,  9.83s/it]"
     ]
    },
    {
     "name": "stdout",
     "output_type": "stream",
     "text": [
      "🟡 Traitement : https://ec.europa.eu/info/funding-tenders/opportunities/portal/screen/opportunities/topic-details/HORIZON-HLTH-2025-01-IND-02?isExactMatch=true&status=31094501,31094502&order=DESC&pageNumber=6&pageSize=50&sortBy=startDate\n"
     ]
    },
    {
     "name": "stderr",
     "output_type": "stream",
     "text": [
      "🔍 Analyse des URLs:  75%|███████▌  | 86/114 [12:12<04:29,  9.62s/it]"
     ]
    },
    {
     "name": "stdout",
     "output_type": "stream",
     "text": [
      "🟡 Traitement : https://ec.europa.eu/info/funding-tenders/opportunities/portal/screen/opportunities/topic-details/HORIZON-HLTH-2025-01-IND-01?isExactMatch=true&status=31094501,31094502&order=DESC&pageNumber=6&pageSize=50&sortBy=startDate\n"
     ]
    },
    {
     "name": "stderr",
     "output_type": "stream",
     "text": [
      "🔍 Analyse des URLs:  76%|███████▋  | 87/114 [12:12<03:09,  7.03s/it]"
     ]
    },
    {
     "name": "stdout",
     "output_type": "stream",
     "text": [
      "🟡 Traitement : https://ec.europa.eu/info/funding-tenders/opportunities/portal/screen/opportunities/topic-details/HORIZON-HLTH-2025-01-DISEASE-06?isExactMatch=true&status=31094501,31094502&order=DESC&pageNumber=6&pageSize=50&sortBy=startDate\n"
     ]
    },
    {
     "name": "stderr",
     "output_type": "stream",
     "text": [
      "🔍 Analyse des URLs:  77%|███████▋  | 88/114 [12:13<02:18,  5.31s/it]"
     ]
    },
    {
     "name": "stdout",
     "output_type": "stream",
     "text": [
      "🟡 Traitement : https://ec.europa.eu/info/funding-tenders/opportunities/portal/screen/opportunities/topic-details/HORIZON-HLTH-2025-01-DISEASE-04?isExactMatch=true&status=31094501,31094502&order=DESC&pageNumber=6&pageSize=50&sortBy=startDate\n",
      "🟡 Traitement : https://ec.europa.eu/info/funding-tenders/opportunities/portal/screen/opportunities/topic-details/HORIZON-HLTH-2025-01-CARE-01?isExactMatch=true&status=31094501,31094502&order=DESC&pageNumber=6&pageSize=50&sortBy=startDate\n"
     ]
    },
    {
     "name": "stderr",
     "output_type": "stream",
     "text": [
      "🔍 Analyse des URLs:  79%|███████▉  | 90/114 [12:49<04:19, 10.82s/it]"
     ]
    },
    {
     "name": "stdout",
     "output_type": "stream",
     "text": [
      "🟡 Traitement : https://ec.europa.eu/info/funding-tenders/opportunities/portal/screen/opportunities/topic-details/HORIZON-HLTH-2025-03-DISEASE-02-two-stage?isExactMatch=true&status=31094501,31094502&order=DESC&pageNumber=6&pageSize=50&sortBy=startDate\n"
     ]
    },
    {
     "name": "stderr",
     "output_type": "stream",
     "text": [
      "🔍 Analyse des URLs:  80%|███████▉  | 91/114 [13:02<04:24, 11.51s/it]"
     ]
    },
    {
     "name": "stdout",
     "output_type": "stream",
     "text": [
      "🟡 Traitement : https://ec.europa.eu/info/funding-tenders/opportunities/portal/screen/opportunities/topic-details/HORIZON-HLTH-2025-01-DISEASE-01?isExactMatch=true&status=31094501,31094502&order=DESC&pageNumber=6&pageSize=50&sortBy=startDate\n"
     ]
    },
    {
     "name": "stderr",
     "output_type": "stream",
     "text": [
      "🔍 Analyse des URLs:  82%|████████▏ | 93/114 [13:08<02:32,  7.28s/it]"
     ]
    },
    {
     "name": "stdout",
     "output_type": "stream",
     "text": [
      "🟡 Traitement : https://ec.europa.eu/info/funding-tenders/opportunities/portal/screen/opportunities/topic-details/HORIZON-HLTH-2025-03-ENVHLTH-02-two-stage?isExactMatch=true&status=31094501,31094502&order=DESC&pageNumber=6&pageSize=50&sortBy=startDate\n",
      "🟡 Traitement : https://ec.europa.eu/info/funding-tenders/opportunities/portal/screen/opportunities/topic-details/HORIZON-HLTH-2025-03-IND-03-two-stage?isExactMatch=true&status=31094501,31094502&order=DESC&pageNumber=6&pageSize=50&sortBy=startDate\n"
     ]
    },
    {
     "name": "stderr",
     "output_type": "stream",
     "text": [
      "🔍 Analyse des URLs:  82%|████████▏ | 94/114 [13:08<01:46,  5.33s/it]"
     ]
    },
    {
     "name": "stdout",
     "output_type": "stream",
     "text": [
      "🟡 Traitement : https://ec.europa.eu/info/funding-tenders/opportunities/portal/screen/opportunities/topic-details/HORIZON-JU-SNS-2025-01-STREAM-C-01?isExactMatch=true&status=31094501,31094502&order=DESC&pageNumber=6&pageSize=50&sortBy=startDate\n"
     ]
    },
    {
     "name": "stderr",
     "output_type": "stream",
     "text": [
      "🔍 Analyse des URLs:  84%|████████▍ | 96/114 [13:08<00:51,  2.85s/it]"
     ]
    },
    {
     "name": "stdout",
     "output_type": "stream",
     "text": [
      "🟡 Traitement : https://ec.europa.eu/info/funding-tenders/opportunities/portal/screen/opportunities/topic-details/HORIZON-CL4-INDUSTRY-2025-01-MATERIALS-64?isExactMatch=true&status=31094501,31094502&order=DESC&pageNumber=6&pageSize=50&sortBy=startDate\n",
      "🟡 Traitement : https://ec.europa.eu/info/funding-tenders/opportunities/portal/screen/opportunities/topic-details/HORIZON-CL4-INDUSTRY-2025-01-MATERIALS-52?isExactMatch=true&status=31094501,31094502&order=DESC&pageNumber=6&pageSize=50&sortBy=startDate\n"
     ]
    },
    {
     "name": "stderr",
     "output_type": "stream",
     "text": [
      "🔍 Analyse des URLs:  85%|████████▌ | 97/114 [14:19<06:22, 22.52s/it]"
     ]
    },
    {
     "name": "stdout",
     "output_type": "stream",
     "text": [
      "🟡 Traitement : https://ec.europa.eu/info/funding-tenders/opportunities/portal/screen/opportunities/topic-details/HORIZON-CL4-INDUSTRY-2025-01-HUMAN-66?isExactMatch=true&status=31094501,31094502&order=DESC&pageNumber=7&pageSize=50&sortBy=startDate\n"
     ]
    },
    {
     "name": "stderr",
     "output_type": "stream",
     "text": [
      "🔍 Analyse des URLs:  88%|████████▊ | 100/114 [14:19<02:02,  8.72s/it]"
     ]
    },
    {
     "name": "stdout",
     "output_type": "stream",
     "text": [
      "🟡 Traitement : https://ec.europa.eu/info/funding-tenders/opportunities/portal/screen/opportunities/topic-details/HORIZON-CL4-INDUSTRY-2025-01-TWIN-TRANSITION-37?isExactMatch=true&status=31094501,31094502&order=DESC&pageNumber=7&pageSize=50&sortBy=startDate\n",
      "🟡 Traitement : https://ec.europa.eu/info/funding-tenders/opportunities/portal/screen/opportunities/topic-details/HORIZON-CL4-INDUSTRY-2025-01-HUMAN-65?isExactMatch=true&status=31094501,31094502&order=DESC&pageNumber=7&pageSize=50&sortBy=startDate\n",
      "🟡 Traitement : https://ec.europa.eu/info/funding-tenders/opportunities/portal/screen/opportunities/topic-details/HORIZON-CL4-INDUSTRY-2025-01-MATERIALS-44?isExactMatch=true&status=31094501,31094502&order=DESC&pageNumber=7&pageSize=50&sortBy=startDate\n"
     ]
    },
    {
     "name": "stderr",
     "output_type": "stream",
     "text": [
      "🔍 Analyse des URLs:  89%|████████▊ | 101/114 [14:20<01:26,  6.66s/it]"
     ]
    },
    {
     "name": "stdout",
     "output_type": "stream",
     "text": [
      "🟡 Traitement : https://ec.europa.eu/info/funding-tenders/opportunities/portal/screen/opportunities/topic-details/HORIZON-CL4-INDUSTRY-2025-01-HUMAN-64?isExactMatch=true&status=31094501,31094502&order=DESC&pageNumber=7&pageSize=50&sortBy=startDate\n"
     ]
    },
    {
     "name": "stderr",
     "output_type": "stream",
     "text": [
      "🔍 Analyse des URLs:  89%|████████▉ | 102/114 [14:23<01:10,  5.85s/it]"
     ]
    },
    {
     "name": "stdout",
     "output_type": "stream",
     "text": [
      "🟡 Traitement : https://ec.europa.eu/info/funding-tenders/opportunities/portal/screen/opportunities/topic-details/HORIZON-CL4-INDUSTRY-2025-01-DIGITAL-61?isExactMatch=true&status=31094501,31094502&order=DESC&pageNumber=7&pageSize=50&sortBy=startDate\n"
     ]
    },
    {
     "name": "stderr",
     "output_type": "stream",
     "text": [
      "🔍 Analyse des URLs:  90%|█████████ | 103/114 [15:36<04:25, 24.10s/it]"
     ]
    },
    {
     "name": "stdout",
     "output_type": "stream",
     "text": [
      "🟡 Traitement : https://ec.europa.eu/info/funding-tenders/opportunities/portal/screen/opportunities/topic-details/HORIZON-CL4-INDUSTRY-2025-01-HUMAN-63?isExactMatch=true&status=31094501,31094502&order=DESC&pageNumber=7&pageSize=50&sortBy=startDate🟡 Traitement : https://ec.europa.eu/info/funding-tenders/opportunities/portal/screen/opportunities/topic-details/HORIZON-CL4-INDUSTRY-2025-01-TWIN-TRANSITION-31?isExactMatch=true&status=31094501,31094502&order=DESC&pageNumber=7&pageSize=50&sortBy=startDate\n",
      "🟡 Traitement : https://ec.europa.eu/info/funding-tenders/opportunities/portal/screen/opportunities/topic-details/HORIZON-CL4-INDUSTRY-2025-01-MATERIALS-62?isExactMatch=true&status=31094501,31094502&order=DESC&pageNumber=7&pageSize=50&sortBy=startDate\n",
      "🟡 Traitement : https://ec.europa.eu/info/funding-tenders/opportunities/portal/screen/opportunities/topic-details/HORIZON-CL4-INDUSTRY-2025-01-TWIN-TRANSITION-01?isExactMatch=true&status=31094501,31094502&order=DESC&pageNumber=7&pageSize=50&sortBy=startDate\n",
      "🟡 Traitement : https://ec.europa.eu/info/funding-tenders/opportunities/portal/screen/opportunities/topic-details/HORIZON-CL4-INDUSTRY-2025-01-DIGITAL-62?isExactMatch=true&status=31094501,31094502&order=DESC&pageNumber=7&pageSize=50&sortBy=startDate\n",
      "\n"
     ]
    },
    {
     "name": "stderr",
     "output_type": "stream",
     "text": [
      "🔍 Analyse des URLs:  95%|█████████▍| 108/114 [15:37<00:49,  8.27s/it]"
     ]
    },
    {
     "name": "stdout",
     "output_type": "stream",
     "text": [
      "🟡 Traitement : https://ec.europa.eu/info/funding-tenders/opportunities/portal/screen/opportunities/topic-details/HORIZON-CL4-INDUSTRY-2025-01-HUMAN-62?isExactMatch=true&status=31094501,31094502&order=DESC&pageNumber=7&pageSize=50&sortBy=startDate\n"
     ]
    },
    {
     "name": "stderr",
     "output_type": "stream",
     "text": [
      "🔍 Analyse des URLs: 100%|██████████| 114/114 [16:59<00:00,  8.94s/it]\n"
     ]
    },
    {
     "name": "stdout",
     "output_type": "stream",
     "text": [
      "\n",
      "✅ Résultats enrichis sauvegardés dans 'df_yes_avec_pertinence_et_resume.csv'.\n",
      "                                                 URL Pertinence LLM  \\\n",
      "0  https://ec.europa.eu/info/funding-tenders/oppo...            Non   \n",
      "1  https://ec.europa.eu/info/funding-tenders/oppo...            Non   \n",
      "2  https://ec.europa.eu/info/funding-tenders/oppo...            Non   \n",
      "3  https://ec.europa.eu/info/funding-tenders/oppo...            Non   \n",
      "4  https://ec.europa.eu/info/funding-tenders/oppo...            Non   \n",
      "\n",
      "                                          Résumé LLM  \n",
      "0  L'appel à projet ne fournit aucune description...  \n",
      "1  L'appel à projets ne contient aucune informati...  \n",
      "2  L'appel à projets ne fournit pas de descriptio...  \n",
      "3  L'appel à projet ne fournit aucune description...  \n",
      "4  L'appel à projet ne fournit aucune description...  \n"
     ]
    }
   ],
   "source": [
    "from selenium import webdriver\n",
    "from selenium.webdriver.chrome.options import Options\n",
    "from selenium.webdriver.common.by import By\n",
    "import time\n",
    "import pandas as pd\n",
    "from groq import Groq\n",
    "import re\n",
    "from tqdm import tqdm\n",
    "\n",
    "# === CONFIGURATION GROQ ===\n",
    "import os\n",
    "from dotenv import load_dotenv\n",
    "\n",
    "# Load environment variables\n",
    "load_dotenv()\n",
    "\n",
    "client = Groq(api_key=os.getenv('GROQ_API_KEY'))\n",
    "MODEL_NAME = \"llama3-70b-8192\"\n",
    "\n",
    "# === CONFIG SELENIUM HEADLESS ===\n",
    "options = Options()\n",
    "options.add_argument(\"--headless\")\n",
    "options.add_argument(\"--disable-gpu\")\n",
    "options.add_argument(\"--window-size=1920,1080\")\n",
    "driver = webdriver.Chrome(options=options)\n",
    "\n",
    "# === TEXT CLEANUP & LIMITING FUNCTION ===\n",
    "def clean_and_limit_text(text, max_words=800):\n",
    "    text = re.sub(r'\\s+', ' ', text).strip()\n",
    "    words = text.split()\n",
    "    if len(words) > max_words:\n",
    "        return ' '.join(words[:max_words]) + \" [...] (texte tronqué)\"\n",
    "    return text\n",
    "\n",
    "# === Extraction texte depuis URL ===\n",
    "def extract_text_from_url(url):\n",
    "    try:\n",
    "        driver.get(url)\n",
    "        time.sleep(5)\n",
    "\n",
    "        for _ in range(10):\n",
    "            driver.execute_script(\"window.scrollBy(0, 500);\")\n",
    "            time.sleep(0.3)\n",
    "        time.sleep(5)\n",
    "\n",
    "        js_code = \"\"\"\n",
    "        let desc = document.querySelector('div.showMore--three-lines');\n",
    "        return desc ? desc.innerText.trim() : 'Pas de description de projet détectée.';\n",
    "        \"\"\"\n",
    "        text = driver.execute_script(js_code)\n",
    "\n",
    "        # Try also extracting UKRI accordion content\n",
    "        try:\n",
    "            open_all_btn = driver.find_element(By.CLASS_NAME, \"govuk-accordion__open-all\")\n",
    "            open_all_btn.click()\n",
    "            time.sleep(1)\n",
    "        except:\n",
    "            pass\n",
    "\n",
    "        js_accordion = \"\"\"\n",
    "        let acc = document.querySelector('div.govuk-accordion.ukri-accordion');\n",
    "        return acc ? acc.innerText.trim() : '';\n",
    "        \"\"\"\n",
    "        accordion_text = driver.execute_script(js_accordion)\n",
    "\n",
    "        full_text = f\"{text}\\n\\n---\\n\\n{accordion_text}\".strip()\n",
    "        return full_text if full_text else \"Pas de contenu détecté.\"\n",
    "\n",
    "    except Exception as e:\n",
    "        return f\"Erreur Selenium: {e}\"\n",
    "\n",
    "# === Prompt pour Groq ===\n",
    "def build_prompt(projects, site_text):\n",
    "    projects_text = \"\\n\".join([\n",
    "        f\"{i+1}. {p['Project Name']} : {p['Description']}, axe {p['Axes / Thematic Areas']}\" \n",
    "        for i, p in enumerate(projects)\n",
    "    ])\n",
    "    return f\"\"\"\n",
    "Tu es un expert en analyse de projets d'entreprise.\n",
    "\n",
    "Voici une liste de projets que cette entreprise a déjà réalisés avec leurs descriptions et axes principaux :\n",
    "\n",
    "{projects_text}\n",
    "\n",
    "Voici maintenant le contenu d'un appel à projets spécifique extrait d'une page du portail européen :\n",
    "\n",
    "{site_text}\n",
    "\n",
    "Peux-tu me dire si cette opportunité est pertinente par rapport aux projets que l'entreprise a déjà réalisés ?  \n",
    "Merci de répondre de façon claire :  \n",
    "- Pertinence : Oui / Non  \n",
    "- Projets similaires détectés : [liste]  \n",
    "- Résumé rapide expliquant ta réponse.\n",
    "\"\"\"\n",
    "\n",
    "# === Requête à Groq ===\n",
    "def query_groq(prompt, model=MODEL_NAME, max_completion_tokens=3000, temperature=1.0, stream=False, delay_between_requests=10):\n",
    "    try:\n",
    "        response = client.chat.completions.create(\n",
    "            model=model,\n",
    "            messages=[\n",
    "                {\"role\": \"system\", \"content\": \"Tu es un expert en comparaison de projets R&D.\"},\n",
    "                {\"role\": \"user\", \"content\": prompt}\n",
    "            ],\n",
    "            temperature=temperature,\n",
    "            max_completion_tokens=max_completion_tokens,\n",
    "            top_p=1,\n",
    "            stream=stream\n",
    "        )\n",
    "\n",
    "        if stream:\n",
    "            result = \"\"\n",
    "            for chunk in response:\n",
    "                delta = chunk.choices[0].delta.content\n",
    "                if delta:\n",
    "                    result += delta\n",
    "            time.sleep(delay_between_requests)\n",
    "            return result.strip()\n",
    "        else:\n",
    "            time.sleep(delay_between_requests)\n",
    "            return response.choices[0].message.content.strip()\n",
    "\n",
    "    except Exception as e:\n",
    "        return f\"Erreur Groq: {e}\"\n",
    "\n",
    "# === Analyse du résultat Groq ===\n",
    "def parse_result(text):\n",
    "    pertinence = \"Inconnu\"\n",
    "    resume = \"\"\n",
    "    try:\n",
    "        match = re.search(r\"(?i)pertinence\\s*[:\\-–]\\s*(oui|non)\", text)\n",
    "        if match:\n",
    "            pertinence = match.group(1).capitalize()\n",
    "        resume_match = re.search(r\"(?i)résumé.*?:\\s*(.+)\", text)\n",
    "        if resume_match:\n",
    "            resume = resume_match.group(1).strip()\n",
    "        else:\n",
    "            resume = \"\\n\".join(text.splitlines()[1:4]).strip()\n",
    "    except:\n",
    "        pass\n",
    "    return pertinence, resume\n",
    "\n",
    "# === Analyse d'une seule URL ===\n",
    "def analyze_url(url, projects_list):\n",
    "    print(f\"🟡 Traitement : {url}\")\n",
    "    try:\n",
    "        site_text_raw = extract_text_from_url(url)\n",
    "        site_text = clean_and_limit_text(site_text_raw, max_words=800)\n",
    "        projects_sample = projects_list[:3]  # Limiter à 3 projets\n",
    "        prompt = build_prompt(projects_sample, site_text)\n",
    "        result_text = query_groq(prompt)\n",
    "        pertinence, resume = parse_result(result_text)\n",
    "\n",
    "        return {\n",
    "            \"URL\": url,\n",
    "            \"Pertinence LLM\": pertinence,\n",
    "            \"Résumé LLM\": resume,\n",
    "            \"Réponse brute\": result_text\n",
    "        }\n",
    "    except Exception as e:\n",
    "        return {\n",
    "            \"URL\": url,\n",
    "            \"Pertinence LLM\": \"Erreur\",\n",
    "            \"Résumé LLM\": f\"Erreur pendant l'analyse : {e}\",\n",
    "            \"Réponse brute\": str(e)\n",
    "        }\n",
    "\n",
    "\n",
    "\n",
    "\n",
    "\n",
    "# === MAIN ===\n",
    "if __name__ == \"__main__\":\n",
    "    from concurrent.futures import ThreadPoolExecutor, as_completed\n",
    "\n",
    "    try:\n",
    "        # Préparation des données\n",
    "        projects_list = odf_df[['Project Name', 'Description', 'Axes / Thematic Areas']] \\\n",
    "            .dropna().to_dict(orient='records')\n",
    "        url_list = df_yes['URL'].dropna().unique().tolist()\n",
    "\n",
    "        # Exécution parallèle\n",
    "        results = []\n",
    "        max_workers = min(6, len(url_list))  # Ajustable selon ta machine\n",
    "        with ThreadPoolExecutor(max_workers=max_workers) as executor:\n",
    "            future_to_url = {\n",
    "                executor.submit(analyze_url, url, projects_list): url for url in url_list\n",
    "            }\n",
    "            for future in tqdm(as_completed(future_to_url), total=len(future_to_url), desc=\"🔍 Analyse des URLs\"):\n",
    "                try:\n",
    "                    result = future.result()\n",
    "                    results.append(result)\n",
    "                except Exception as e:\n",
    "                    print(f\"❌ Erreur avec l'URL {future_to_url[future]} : {e}\")\n",
    "                    results.append({'URL': future_to_url[future], 'Pertinence LLM': None, 'Résumé LLM': None})\n",
    "\n",
    "        # Création du DataFrame des résultats\n",
    "        results_df = pd.DataFrame(results)\n",
    "\n",
    "        # Fusion avec les résultats existants\n",
    "        df_final_llm = df_yes.merge(results_df, on=\"URL\", how=\"left\")\n",
    "\n",
    "        # Sauvegarde\n",
    "        df_final_llm.to_csv(\"df_yes_avec_pertinence_et_resume.csv\", index=False)\n",
    "        print(\"\\n✅ Résultats enrichis sauvegardés dans 'df_yes_avec_pertinence_et_resume.csv'.\")\n",
    "        print(df_final_llm[['URL', 'Pertinence LLM', 'Résumé LLM']].head())\n",
    "\n",
    "    except NameError:\n",
    "        print(\"❌ Les DataFrames 'odf_df' et 'df_yes' doivent être définis avant l'exécution.\")\n",
    "    finally:\n",
    "        driver.quit()\n"
   ]
  },
  {
   "cell_type": "code",
   "execution_count": 12,
   "id": "bd8263c3",
   "metadata": {},
   "outputs": [
    {
     "data": {
      "text/html": [
       "<div>\n",
       "<style scoped>\n",
       "    .dataframe tbody tr th:only-of-type {\n",
       "        vertical-align: middle;\n",
       "    }\n",
       "\n",
       "    .dataframe tbody tr th {\n",
       "        vertical-align: top;\n",
       "    }\n",
       "\n",
       "    .dataframe thead th {\n",
       "        text-align: right;\n",
       "    }\n",
       "</style>\n",
       "<table border=\"1\" class=\"dataframe\">\n",
       "  <thead>\n",
       "    <tr style=\"text-align: right;\">\n",
       "      <th></th>\n",
       "      <th>URL</th>\n",
       "      <th>Pertinence</th>\n",
       "      <th>Matching Word(s)</th>\n",
       "      <th>Pertinence LLM</th>\n",
       "      <th>Résumé LLM</th>\n",
       "      <th>Réponse brute</th>\n",
       "    </tr>\n",
       "  </thead>\n",
       "  <tbody>\n",
       "    <tr>\n",
       "      <th>0</th>\n",
       "      <td>https://ec.europa.eu/info/funding-tenders/oppo...</td>\n",
       "      <td>Yes</td>\n",
       "      <td>climate resilience, social innovation</td>\n",
       "      <td>Non</td>\n",
       "      <td>L'appel à projet ne fournit aucune description...</td>\n",
       "      <td>Pertinence : Non\\n\\n Projets similaires détect...</td>\n",
       "    </tr>\n",
       "    <tr>\n",
       "      <th>1</th>\n",
       "      <td>https://ec.europa.eu/info/funding-tenders/oppo...</td>\n",
       "      <td>Yes</td>\n",
       "      <td>renewable energy</td>\n",
       "      <td>Non</td>\n",
       "      <td>L'appel à projets ne contient aucune informati...</td>\n",
       "      <td>Pertinence : Non\\n\\nProjets similaires détecté...</td>\n",
       "    </tr>\n",
       "    <tr>\n",
       "      <th>2</th>\n",
       "      <td>https://ec.europa.eu/info/funding-tenders/oppo...</td>\n",
       "      <td>Yes</td>\n",
       "      <td>sustainable development, industrial competitiv...</td>\n",
       "      <td>Non</td>\n",
       "      <td>L'appel à projets ne fournit pas de descriptio...</td>\n",
       "      <td>Pertinence : Non\\n\\nProjets similaires détecté...</td>\n",
       "    </tr>\n",
       "    <tr>\n",
       "      <th>3</th>\n",
       "      <td>https://ec.europa.eu/info/funding-tenders/oppo...</td>\n",
       "      <td>Yes</td>\n",
       "      <td>economic development, renewable energy, intern...</td>\n",
       "      <td>Non</td>\n",
       "      <td>L'appel à projet ne fournit aucune description...</td>\n",
       "      <td>Pertinence : Non\\n\\nProjets similaires détecté...</td>\n",
       "    </tr>\n",
       "    <tr>\n",
       "      <th>4</th>\n",
       "      <td>https://ec.europa.eu/info/funding-tenders/oppo...</td>\n",
       "      <td>Yes</td>\n",
       "      <td>renewable energy</td>\n",
       "      <td>Non</td>\n",
       "      <td>L'appel à projet ne fournit aucune description...</td>\n",
       "      <td>Pertinence : Non\\n\\nProjets similaires détecté...</td>\n",
       "    </tr>\n",
       "    <tr>\n",
       "      <th>...</th>\n",
       "      <td>...</td>\n",
       "      <td>...</td>\n",
       "      <td>...</td>\n",
       "      <td>...</td>\n",
       "      <td>...</td>\n",
       "      <td>...</td>\n",
       "    </tr>\n",
       "    <tr>\n",
       "      <th>109</th>\n",
       "      <td>https://ec.europa.eu/info/funding-tenders/oppo...</td>\n",
       "      <td>Yes</td>\n",
       "      <td>advanced materials</td>\n",
       "      <td>Oui</td>\n",
       "      <td>L'appel à projets vise à utiliser l'intelligen...</td>\n",
       "      <td>Pertinence : Oui\\n\\nProjets similaires détecté...</td>\n",
       "    </tr>\n",
       "    <tr>\n",
       "      <th>110</th>\n",
       "      <td>https://ec.europa.eu/info/funding-tenders/oppo...</td>\n",
       "      <td>Yes</td>\n",
       "      <td>strategic partnership, social impact</td>\n",
       "      <td>Oui</td>\n",
       "      <td>La pertinence de cet appel à projets est élevé...</td>\n",
       "      <td>Pertinence : Oui\\n\\nProjets similaires détecté...</td>\n",
       "    </tr>\n",
       "    <tr>\n",
       "      <th>111</th>\n",
       "      <td>https://ec.europa.eu/info/funding-tenders/oppo...</td>\n",
       "      <td>Yes</td>\n",
       "      <td>robotics, social innovation</td>\n",
       "      <td>Oui</td>\n",
       "      <td>Cette opportunité de projet est pertinente car...</td>\n",
       "      <td>Pertinence : Oui\\n\\nProjets similaires détecté...</td>\n",
       "    </tr>\n",
       "    <tr>\n",
       "      <th>112</th>\n",
       "      <td>https://ec.europa.eu/info/funding-tenders/oppo...</td>\n",
       "      <td>Yes</td>\n",
       "      <td>robotics, artificial intelligence</td>\n",
       "      <td>Oui</td>\n",
       "      <td>L'appel à projet vise à valoriser les résultat...</td>\n",
       "      <td>Après analyse, voici ma réponse :\\n\\nPertinenc...</td>\n",
       "    </tr>\n",
       "    <tr>\n",
       "      <th>113</th>\n",
       "      <td>https://ec.europa.eu/info/funding-tenders/oppo...</td>\n",
       "      <td>Yes</td>\n",
       "      <td>research results, artificial intelligence, mac...</td>\n",
       "      <td>Oui</td>\n",
       "      <td>L'appel à projets vise à valoriser les résulta...</td>\n",
       "      <td>Pertinence : Oui\\n\\nProjets similaires détecté...</td>\n",
       "    </tr>\n",
       "  </tbody>\n",
       "</table>\n",
       "<p>114 rows × 6 columns</p>\n",
       "</div>"
      ],
      "text/plain": [
       "                                                   URL Pertinence  \\\n",
       "0    https://ec.europa.eu/info/funding-tenders/oppo...        Yes   \n",
       "1    https://ec.europa.eu/info/funding-tenders/oppo...        Yes   \n",
       "2    https://ec.europa.eu/info/funding-tenders/oppo...        Yes   \n",
       "3    https://ec.europa.eu/info/funding-tenders/oppo...        Yes   \n",
       "4    https://ec.europa.eu/info/funding-tenders/oppo...        Yes   \n",
       "..                                                 ...        ...   \n",
       "109  https://ec.europa.eu/info/funding-tenders/oppo...        Yes   \n",
       "110  https://ec.europa.eu/info/funding-tenders/oppo...        Yes   \n",
       "111  https://ec.europa.eu/info/funding-tenders/oppo...        Yes   \n",
       "112  https://ec.europa.eu/info/funding-tenders/oppo...        Yes   \n",
       "113  https://ec.europa.eu/info/funding-tenders/oppo...        Yes   \n",
       "\n",
       "                                      Matching Word(s) Pertinence LLM  \\\n",
       "0                climate resilience, social innovation            Non   \n",
       "1                                     renewable energy            Non   \n",
       "2    sustainable development, industrial competitiv...            Non   \n",
       "3    economic development, renewable energy, intern...            Non   \n",
       "4                                     renewable energy            Non   \n",
       "..                                                 ...            ...   \n",
       "109                                 advanced materials            Oui   \n",
       "110               strategic partnership, social impact            Oui   \n",
       "111                        robotics, social innovation            Oui   \n",
       "112                  robotics, artificial intelligence            Oui   \n",
       "113  research results, artificial intelligence, mac...            Oui   \n",
       "\n",
       "                                            Résumé LLM  \\\n",
       "0    L'appel à projet ne fournit aucune description...   \n",
       "1    L'appel à projets ne contient aucune informati...   \n",
       "2    L'appel à projets ne fournit pas de descriptio...   \n",
       "3    L'appel à projet ne fournit aucune description...   \n",
       "4    L'appel à projet ne fournit aucune description...   \n",
       "..                                                 ...   \n",
       "109  L'appel à projets vise à utiliser l'intelligen...   \n",
       "110  La pertinence de cet appel à projets est élevé...   \n",
       "111  Cette opportunité de projet est pertinente car...   \n",
       "112  L'appel à projet vise à valoriser les résultat...   \n",
       "113  L'appel à projets vise à valoriser les résulta...   \n",
       "\n",
       "                                         Réponse brute  \n",
       "0    Pertinence : Non\\n\\n Projets similaires détect...  \n",
       "1    Pertinence : Non\\n\\nProjets similaires détecté...  \n",
       "2    Pertinence : Non\\n\\nProjets similaires détecté...  \n",
       "3    Pertinence : Non\\n\\nProjets similaires détecté...  \n",
       "4    Pertinence : Non\\n\\nProjets similaires détecté...  \n",
       "..                                                 ...  \n",
       "109  Pertinence : Oui\\n\\nProjets similaires détecté...  \n",
       "110  Pertinence : Oui\\n\\nProjets similaires détecté...  \n",
       "111  Pertinence : Oui\\n\\nProjets similaires détecté...  \n",
       "112  Après analyse, voici ma réponse :\\n\\nPertinenc...  \n",
       "113  Pertinence : Oui\\n\\nProjets similaires détecté...  \n",
       "\n",
       "[114 rows x 6 columns]"
      ]
     },
     "execution_count": 12,
     "metadata": {},
     "output_type": "execute_result"
    }
   ],
   "source": [
    "df_final_llm"
   ]
  },
  {
   "cell_type": "code",
   "execution_count": 13,
   "id": "c6695b14",
   "metadata": {},
   "outputs": [],
   "source": [
    "df_final_llm.to_excel(\"df_LLM_ALL_EU.xlsx\", index=False)\n",
    "    "
   ]
  },
  {
   "cell_type": "code",
   "execution_count": 32,
   "id": "f1fd7a28",
   "metadata": {},
   "outputs": [
    {
     "data": {
      "text/html": [
       "<div>\n",
       "<style scoped>\n",
       "    .dataframe tbody tr th:only-of-type {\n",
       "        vertical-align: middle;\n",
       "    }\n",
       "\n",
       "    .dataframe tbody tr th {\n",
       "        vertical-align: top;\n",
       "    }\n",
       "\n",
       "    .dataframe thead th {\n",
       "        text-align: right;\n",
       "    }\n",
       "</style>\n",
       "<table border=\"1\" class=\"dataframe\">\n",
       "  <thead>\n",
       "    <tr style=\"text-align: right;\">\n",
       "      <th></th>\n",
       "      <th>URL</th>\n",
       "      <th>Pertinence</th>\n",
       "      <th>Matching Word(s)</th>\n",
       "      <th>Title</th>\n",
       "      <th>Status</th>\n",
       "      <th>Start_date</th>\n",
       "      <th>Deadline</th>\n",
       "      <th>Pertinence LLM</th>\n",
       "      <th>Résumé LLM</th>\n",
       "      <th>Réponse brute</th>\n",
       "    </tr>\n",
       "  </thead>\n",
       "  <tbody>\n",
       "    <tr>\n",
       "      <th>0</th>\n",
       "      <td>https://ec.europa.eu/info/funding-tenders/opportunities/portal/screen/opportunities/topic-details/HORIZON-EIC-2025-PATHFINDERCHALLENGES-01-01?isExactMatch=true&amp;status=31094501,31094502&amp;order=DESC&amp;pageNumber=1&amp;pageSize=50&amp;sortBy=startDate</td>\n",
       "      <td>Yes</td>\n",
       "      <td>biotechnology, artificial intelligence, climate resilience</td>\n",
       "      <td>Biotech for Climate Resilient Crops and Plant-Based Biomanufacturing</td>\n",
       "      <td>Forthcoming</td>\n",
       "      <td>24 July 2025</td>\n",
       "      <td>29 October 2025</td>\n",
       "      <td>Non</td>\n",
       "      <td>L'appel à projets ne fournit pas de description du projet, ce qui ne permet pas de déterminer sa pertinence avec les projets déjà réalisés par l'entreprise. Il est donc impossible de juger si cette opportunité est pertinente sans plus d'informations sur le projet.</td>\n",
       "      <td>Pertinence : Non\\n\\nProjets similaires détectés : Aucun\\n\\nRésumé rapide : L'appel à projets ne fournit pas de description du projet, ce qui ne permet pas de déterminer sa pertinence avec les projets déjà réalisés par l'entreprise. Il est donc impossible de juger si cette opportunité est pertinente sans plus d'informations sur le projet.</td>\n",
       "    </tr>\n",
       "    <tr>\n",
       "      <th>1</th>\n",
       "      <td>https://ec.europa.eu/info/funding-tenders/opportunities/portal/screen/opportunities/topic-details/LIFE-2025-CET-INDUSTRY?isExactMatch=true&amp;status=31094501,31094502&amp;order=DESC&amp;pageNumber=1&amp;pageSize=50&amp;sortBy=startDate</td>\n",
       "      <td>Yes</td>\n",
       "      <td>capacity building, renewable energy</td>\n",
       "      <td>Supporting the clean energy transition of European industry and businesses</td>\n",
       "      <td>Open For Submission</td>\n",
       "      <td>24 April 2025</td>\n",
       "      <td>23 September 2025</td>\n",
       "      <td>Non</td>\n",
       "      <td>L'appel à projets est spécifiquement centré sur la transition énergétique et la réduction des émissions de gaz à effet de serre dans l'industrie, avec un focus sur la collaboration entre les secteurs industriels et les fournisseurs de technologies pour déployer des solutions d'énergie propre. Les projets précédents de l'entreprise ne montrent pas de liens directs avec ce domaine spécifique, mais plutôt une expertise dans les domaines de l'incubation, de l'accélération, de la stratégie et du développement économique numérique.</td>\n",
       "      <td>- Pertinence : Non  \\n- Projets similaires détectés : Aucun  \\n- Résumé rapide : L'appel à projets est spécifiquement centré sur la transition énergétique et la réduction des émissions de gaz à effet de serre dans l'industrie, avec un focus sur la collaboration entre les secteurs industriels et les fournisseurs de technologies pour déployer des solutions d'énergie propre. Les projets précédents de l'entreprise ne montrent pas de liens directs avec ce domaine spécifique, mais plutôt une expertise dans les domaines de l'incubation, de l'accélération, de la stratégie et du développement économique numérique.</td>\n",
       "    </tr>\n",
       "    <tr>\n",
       "      <th>2</th>\n",
       "      <td>https://ec.europa.eu/info/funding-tenders/opportunities/portal/screen/opportunities/topic-details/LIFE-2025-CET-PRIVAFIN?isExactMatch=true&amp;status=31094501,31094502&amp;order=DESC&amp;pageNumber=2&amp;pageSize=50&amp;sortBy=startDate</td>\n",
       "      <td>Yes</td>\n",
       "      <td>technical assistance, renewable energy</td>\n",
       "      <td>Crowding in private finance</td>\n",
       "      <td>Open For Submission</td>\n",
       "      <td>24 April 2025</td>\n",
       "      <td>23 September 2025</td>\n",
       "      <td>Oui</td>\n",
       "      <td>L'appel à projets concerne la mise en place de mécanismes de financement innovants pour les énergies renouvelables et l'efficacité énergétique, ce qui est très proche de l'axe \"Digital Economy, Strategic Development, Financing\" du projet Arab Bank Strategy. Bien que ce dernier projet ne soit pas directement lié à l'énergie, il concerne également la mise en place de stratégies de financement pour des projets économiques. L'expertise de l'entreprise dans ce domaine peut être très pertinente pour répondre à cet appel à projets.</td>\n",
       "      <td>Pertinence : Oui\\n\\nProjets similaires détectés : Arab Bank Strategy\\n\\n Résumé rapide : L'appel à projets concerne la mise en place de mécanismes de financement innovants pour les énergies renouvelables et l'efficacité énergétique, ce qui est très proche de l'axe \"Digital Economy, Strategic Development, Financing\" du projet Arab Bank Strategy. Bien que ce dernier projet ne soit pas directement lié à l'énergie, il concerne également la mise en place de stratégies de financement pour des projets économiques. L'expertise de l'entreprise dans ce domaine peut être très pertinente pour répondre à cet appel à projets.</td>\n",
       "    </tr>\n",
       "    <tr>\n",
       "      <th>3</th>\n",
       "      <td>https://ec.europa.eu/info/funding-tenders/opportunities/portal/screen/opportunities/topic-details/DIGITAL-2025-BESTUSE-08-NETWORKSICs?isExactMatch=true&amp;status=31094501,31094502&amp;order=DESC&amp;pageNumber=2&amp;pageSize=50&amp;sortBy=startDate</td>\n",
       "      <td>Yes</td>\n",
       "      <td>internet of things, digital transformation</td>\n",
       "      <td>Network of Safer Internet Centres (SICs)</td>\n",
       "      <td>Open For Submission</td>\n",
       "      <td>15 April 2025</td>\n",
       "      <td>02 September 2025</td>\n",
       "      <td>Non</td>\n",
       "      <td>L'appel à projets concerne la création d'un centre pour une internet plus sûre, notamment pour les enfants, avec des activités de sensibilisation, d'assistance et de lutte contre les contenus illicites. Les projets de l'entreprise précédemment réalisés ne montrent pas de lien direct avec ce type de sujet, les axes principaux étant plutôt liés à l'entrepreunariat, la stratégie, l'incubation, la prototypage, le financement, etc. Il n'y a donc pas de projet similaire détecté.</td>\n",
       "      <td>Après analyse de l'appel à projets et des projets de l'entreprise, je réponds :\\n\\n- Pertinence : Non\\n- Projets similaires détectés : Aucun\\n- Résumé rapide : L'appel à projets concerne la création d'un centre pour une internet plus sûre, notamment pour les enfants, avec des activités de sensibilisation, d'assistance et de lutte contre les contenus illicites. Les projets de l'entreprise précédemment réalisés ne montrent pas de lien direct avec ce type de sujet, les axes principaux étant plutôt liés à l'entrepreunariat, la stratégie, l'incubation, la prototypage, le financement, etc. Il n'y a donc pas de projet similaire détecté.</td>\n",
       "    </tr>\n",
       "    <tr>\n",
       "      <th>4</th>\n",
       "      <td>https://ec.europa.eu/info/funding-tenders/opportunities/portal/screen/opportunities/topic-details/DIGITAL-2025-AI-08-AGRIFOOD?isExactMatch=true&amp;status=31094501,31094502&amp;order=DESC&amp;pageNumber=2&amp;pageSize=50&amp;sortBy=startDate</td>\n",
       "      <td>Yes</td>\n",
       "      <td>capacity building, digital transformation</td>\n",
       "      <td>Multi-Country project in Agri-Food</td>\n",
       "      <td>Open For Submission</td>\n",
       "      <td>15 April 2025</td>\n",
       "      <td>02 September 2025</td>\n",
       "      <td>Non</td>\n",
       "      <td>L'appel à projets concerne principalement le développement d'une infrastructure numérique pour le secteur agroalimentaire à l'échelle européenne, avec un focus sur la collaboration et l'échange de données. Les projets déjà réalisés par l'entreprise se concentrent plutôt sur l'incubation, le prototypage, la stratégie et le financement de startups et d'écosystèmes d'entrepreneuriat, sans lien direct avec le secteur agroalimentaire ou les infrastructures numériques.</td>\n",
       "      <td>Après analyse de l'appel à projets et des projets déjà réalisés par l'entreprise, voici ma réponse :\\n\\n- Pertinence : Non\\n- Projets similaires détectés : Aucun\\n- Résumé rapide : L'appel à projets concerne principalement le développement d'une infrastructure numérique pour le secteur agroalimentaire à l'échelle européenne, avec un focus sur la collaboration et l'échange de données. Les projets déjà réalisés par l'entreprise se concentrent plutôt sur l'incubation, le prototypage, la stratégie et le financement de startups et d'écosystèmes d'entrepreneuriat, sans lien direct avec le secteur agroalimentaire ou les infrastructures numériques.</td>\n",
       "    </tr>\n",
       "    <tr>\n",
       "      <th>...</th>\n",
       "      <td>...</td>\n",
       "      <td>...</td>\n",
       "      <td>...</td>\n",
       "      <td>...</td>\n",
       "      <td>...</td>\n",
       "      <td>...</td>\n",
       "      <td>...</td>\n",
       "      <td>...</td>\n",
       "      <td>...</td>\n",
       "      <td>...</td>\n",
       "    </tr>\n",
       "    <tr>\n",
       "      <th>69</th>\n",
       "      <td>https://ec.europa.eu/info/funding-tenders/opportunities/portal/screen/opportunities/topic-details/HORIZON-EIC-2025-ACCELERATOR-01?isExactMatch=true&amp;status=31094501,31094502&amp;order=DESC&amp;pageNumber=7&amp;pageSize=50&amp;sortBy=startDate</td>\n",
       "      <td>Yes</td>\n",
       "      <td>technology readiness level</td>\n",
       "      <td>EIC Accelerator 2025 - Short application</td>\n",
       "      <td>Open For Submission</td>\n",
       "      <td>29 October 2024</td>\n",
       "      <td>18 December 2025</td>\n",
       "      <td>Oui</td>\n",
       "      <td>La pertinence de cette opportunité est évidente car elle s'inscrit dans les axes de l'entreprise, en particulier avec le projet FACTORIAT qui supporte les startups Deeptech et Hardware en les aidant à prototyper et à matureurer technologiquement. Le scopes de l'EIC Accelerator, qui vise à soutenir les innovations à fort impact avec un potentiel de création de nouveaux marchés ou de disruption de marchés existants, est en phase avec les objectifs de FACTORIAT. De plus, l'EIC Accelerator met l'accent sur les innovations deeptech et le patient capital, ce qui correspond aux axes de l'entreprise.</td>\n",
       "      <td>Pertinence : Oui\\n\\nProjets similaires détectés : FACTORIAT\\n\\nRésumé rapide : La pertinence de cette opportunité est évidente car elle s'inscrit dans les axes de l'entreprise, en particulier avec le projet FACTORIAT qui supporte les startups Deeptech et Hardware en les aidant à prototyper et à matureurer technologiquement. Le scopes de l'EIC Accelerator, qui vise à soutenir les innovations à fort impact avec un potentiel de création de nouveaux marchés ou de disruption de marchés existants, est en phase avec les objectifs de FACTORIAT. De plus, l'EIC Accelerator met l'accent sur les innovations deeptech et le patient capital, ce qui correspond aux axes de l'entreprise.</td>\n",
       "    </tr>\n",
       "    <tr>\n",
       "      <th>70</th>\n",
       "      <td>https://ec.europa.eu/info/funding-tenders/opportunities/portal/screen/opportunities/topic-details/CREA-MEDIA-2025-FILMOVE?isExactMatch=true&amp;status=31094501,31094502&amp;order=DESC&amp;pageNumber=7&amp;pageSize=50&amp;sortBy=startDate</td>\n",
       "      <td>Yes</td>\n",
       "      <td>call for proposals</td>\n",
       "      <td>Films on the Move</td>\n",
       "      <td>Open For Submission</td>\n",
       "      <td>01 October 2024</td>\n",
       "      <td>17 July 2025</td>\n",
       "      <td>Non</td>\n",
       "      <td>L'appel à projets concerne la distribution de films européens, ce qui est très différent des domaines d'expertise de l'entreprise, qui ont trait à la Deeptech, l'incubation, la stratégie, la capacité et le financement d'entreprises et de start-ups. Les objectifs et les activités décrits dans l'appel à projets ne correspondent pas aux axes principaux des projets déjà réalisés par l'entreprise.</td>\n",
       "      <td>Pertinence : Non\\n\\nProjets similaires détectés : Aucun\\n\\nRésumé rapide : L'appel à projets concerne la distribution de films européens, ce qui est très différent des domaines d'expertise de l'entreprise, qui ont trait à la Deeptech, l'incubation, la stratégie, la capacité et le financement d'entreprises et de start-ups. Les objectifs et les activités décrits dans l'appel à projets ne correspondent pas aux axes principaux des projets déjà réalisés par l'entreprise.</td>\n",
       "    </tr>\n",
       "    <tr>\n",
       "      <th>71</th>\n",
       "      <td>https://ec.europa.eu/info/funding-tenders/opportunities/portal/screen/opportunities/topic-details/JTM-2022-2025-PSLF-LOAN-SCHEMES?isExactMatch=true&amp;status=31094501,31094502&amp;order=DESC&amp;pageNumber=8&amp;pageSize=50&amp;sortBy=startDate</td>\n",
       "      <td>Yes</td>\n",
       "      <td>renewable energy</td>\n",
       "      <td>PSLF-LOAN SCHEMES</td>\n",
       "      <td>Open For Submission</td>\n",
       "      <td>19 July 2022</td>\n",
       "      <td>11 September 2025</td>\n",
       "      <td>Non</td>\n",
       "      <td>Les projets déjà réalisés par l'entreprise se concentrent sur l'incubation, l'accélération et le développement de startups, ainsi que sur la mise en place de stratégies pour l'économie digitale et les écosystèmes d'entrepreneuriat. L'appel à projet européen ciblé Seems to focus on funding sustainable infrastructure projects and investments in the context of the EU's climate and energy transition goals. Les deux thématiques sont très différentes, et il n'y a pas de liens évidents entre les projets de l'entreprise et cet appel à projet.</td>\n",
       "      <td>Pertinence : Non\\n\\nProjets similaires détectés : Aucun\\n\\nRésumé rapide : Les projets déjà réalisés par l'entreprise se concentrent sur l'incubation, l'accélération et le développement de startups, ainsi que sur la mise en place de stratégies pour l'économie digitale et les écosystèmes d'entrepreneuriat. L'appel à projet européen ciblé Seems to focus on funding sustainable infrastructure projects and investments in the context of the EU's climate and energy transition goals. Les deux thématiques sont très différentes, et il n'y a pas de liens évidents entre les projets de l'entreprise et cet appel à projet.</td>\n",
       "    </tr>\n",
       "    <tr>\n",
       "      <th>72</th>\n",
       "      <td>https://ec.europa.eu/info/funding-tenders/opportunities/portal/screen/opportunities/topic-details/JTM-2022-2025-PSLF-STANDALONE-PROJECTS?isExactMatch=true&amp;status=31094501,31094502&amp;order=DESC&amp;pageNumber=8&amp;pageSize=50&amp;sortBy=startDate</td>\n",
       "      <td>Yes</td>\n",
       "      <td>renewable energy</td>\n",
       "      <td>PSLF-PROJECTS</td>\n",
       "      <td>Open For Submission</td>\n",
       "      <td>19 July 2022</td>\n",
       "      <td>11 September 2025</td>\n",
       "      <td>Non</td>\n",
       "      <td>Les projets déjà réalisés par l'entreprise sont principalement liés à l'incubation, l'accélération, la stratégie et le financement de startups et d'écosystèmes d'entreprises, tandis que l'appel à projet européen est centré sur des investissements durables et des projets de transition énergétique et environnementale. Il n'y a pas de similitude évidente entre les deux.</td>\n",
       "      <td>Pertinence : Non\\n\\nProjets similaires détectés : Aucun\\n\\nRésumé rapide : Les projets déjà réalisés par l'entreprise sont principalement liés à l'incubation, l'accélération, la stratégie et le financement de startups et d'écosystèmes d'entreprises, tandis que l'appel à projet européen est centré sur des investissements durables et des projets de transition énergétique et environnementale. Il n'y a pas de similitude évidente entre les deux.\\n\\nCependant, il est possible que l'entreprise puisse adapter ses compétences en stratégie, financement et capacité d'accélérer les startups pour répondre à cet appel à projet en collaborant avec d'autres acteurs ayant une expertise dans les domaines de la transition énergétique et environnementale.</td>\n",
       "    </tr>\n",
       "    <tr>\n",
       "      <th>73</th>\n",
       "      <td>https://ec.europa.eu/info/funding-tenders/opportunities/portal/screen/opportunities/topic-details/ESC-HUMAID-2021-QUAL-LABEL-FP?isExactMatch=true&amp;status=31094501,31094502&amp;order=DESC&amp;pageNumber=8&amp;pageSize=50&amp;sortBy=startDate</td>\n",
       "      <td>Yes</td>\n",
       "      <td>project management, call for projects</td>\n",
       "      <td>Quality Label Humanitarian Aid - Full Procedure</td>\n",
       "      <td>Open For Submission</td>\n",
       "      <td>10 June 2021</td>\n",
       "      <td>23 September 2025</td>\n",
       "      <td>Non</td>\n",
       "      <td>Les projets précédemment réalisés par l'entreprise sont principalement axés sur le soutien à l'entrepreneuriat, l'incubation, l'accélération, le développement stratégique et la mise en œuvre de programmes de développement économique. L'appel à projets pour le label de qualité pour le volontariat humanitaire ne correspond pas à ces axes principaux. Les compétences et les expériences de l'entreprise ne semblent pas être directement applicables à ce type de projet.</td>\n",
       "      <td>Pertinence : Non\\n\\nProjets similaires détectés : Aucun\\n\\nRésumé rapide : Les projets précédemment réalisés par l'entreprise sont principalement axés sur le soutien à l'entrepreneuriat, l'incubation, l'accélération, le développement stratégique et la mise en œuvre de programmes de développement économique. L'appel à projets pour le label de qualité pour le volontariat humanitaire ne correspond pas à ces axes principaux. Les compétences et les expériences de l'entreprise ne semblent pas être directement applicables à ce type de projet.</td>\n",
       "    </tr>\n",
       "  </tbody>\n",
       "</table>\n",
       "<p>74 rows × 10 columns</p>\n",
       "</div>"
      ],
      "text/plain": [
       "                                                                                                                                                                                                                                              URL  \\\n",
       "0   https://ec.europa.eu/info/funding-tenders/opportunities/portal/screen/opportunities/topic-details/HORIZON-EIC-2025-PATHFINDERCHALLENGES-01-01?isExactMatch=true&status=31094501,31094502&order=DESC&pageNumber=1&pageSize=50&sortBy=startDate   \n",
       "1                        https://ec.europa.eu/info/funding-tenders/opportunities/portal/screen/opportunities/topic-details/LIFE-2025-CET-INDUSTRY?isExactMatch=true&status=31094501,31094502&order=DESC&pageNumber=1&pageSize=50&sortBy=startDate   \n",
       "2                        https://ec.europa.eu/info/funding-tenders/opportunities/portal/screen/opportunities/topic-details/LIFE-2025-CET-PRIVAFIN?isExactMatch=true&status=31094501,31094502&order=DESC&pageNumber=2&pageSize=50&sortBy=startDate   \n",
       "3           https://ec.europa.eu/info/funding-tenders/opportunities/portal/screen/opportunities/topic-details/DIGITAL-2025-BESTUSE-08-NETWORKSICs?isExactMatch=true&status=31094501,31094502&order=DESC&pageNumber=2&pageSize=50&sortBy=startDate   \n",
       "4                   https://ec.europa.eu/info/funding-tenders/opportunities/portal/screen/opportunities/topic-details/DIGITAL-2025-AI-08-AGRIFOOD?isExactMatch=true&status=31094501,31094502&order=DESC&pageNumber=2&pageSize=50&sortBy=startDate   \n",
       "..                                                                                                                                                                                                                                            ...   \n",
       "69              https://ec.europa.eu/info/funding-tenders/opportunities/portal/screen/opportunities/topic-details/HORIZON-EIC-2025-ACCELERATOR-01?isExactMatch=true&status=31094501,31094502&order=DESC&pageNumber=7&pageSize=50&sortBy=startDate   \n",
       "70                      https://ec.europa.eu/info/funding-tenders/opportunities/portal/screen/opportunities/topic-details/CREA-MEDIA-2025-FILMOVE?isExactMatch=true&status=31094501,31094502&order=DESC&pageNumber=7&pageSize=50&sortBy=startDate   \n",
       "71              https://ec.europa.eu/info/funding-tenders/opportunities/portal/screen/opportunities/topic-details/JTM-2022-2025-PSLF-LOAN-SCHEMES?isExactMatch=true&status=31094501,31094502&order=DESC&pageNumber=8&pageSize=50&sortBy=startDate   \n",
       "72       https://ec.europa.eu/info/funding-tenders/opportunities/portal/screen/opportunities/topic-details/JTM-2022-2025-PSLF-STANDALONE-PROJECTS?isExactMatch=true&status=31094501,31094502&order=DESC&pageNumber=8&pageSize=50&sortBy=startDate   \n",
       "73                https://ec.europa.eu/info/funding-tenders/opportunities/portal/screen/opportunities/topic-details/ESC-HUMAID-2021-QUAL-LABEL-FP?isExactMatch=true&status=31094501,31094502&order=DESC&pageNumber=8&pageSize=50&sortBy=startDate   \n",
       "\n",
       "   Pertinence                                            Matching Word(s)  \\\n",
       "0         Yes  biotechnology, artificial intelligence, climate resilience   \n",
       "1         Yes                         capacity building, renewable energy   \n",
       "2         Yes                      technical assistance, renewable energy   \n",
       "3         Yes                  internet of things, digital transformation   \n",
       "4         Yes                   capacity building, digital transformation   \n",
       "..        ...                                                         ...   \n",
       "69        Yes                                  technology readiness level   \n",
       "70        Yes                                          call for proposals   \n",
       "71        Yes                                            renewable energy   \n",
       "72        Yes                                            renewable energy   \n",
       "73        Yes                       project management, call for projects   \n",
       "\n",
       "                                                                         Title  \\\n",
       "0         Biotech for Climate Resilient Crops and Plant-Based Biomanufacturing   \n",
       "1   Supporting the clean energy transition of European industry and businesses   \n",
       "2                                                  Crowding in private finance   \n",
       "3                                     Network of Safer Internet Centres (SICs)   \n",
       "4                                           Multi-Country project in Agri-Food   \n",
       "..                                                                         ...   \n",
       "69                                    EIC Accelerator 2025 - Short application   \n",
       "70                                                           Films on the Move   \n",
       "71                                                           PSLF-LOAN SCHEMES   \n",
       "72                                                               PSLF-PROJECTS   \n",
       "73                             Quality Label Humanitarian Aid - Full Procedure   \n",
       "\n",
       "                 Status       Start_date           Deadline Pertinence LLM  \\\n",
       "0           Forthcoming     24 July 2025    29 October 2025            Non   \n",
       "1   Open For Submission    24 April 2025  23 September 2025            Non   \n",
       "2   Open For Submission    24 April 2025  23 September 2025            Oui   \n",
       "3   Open For Submission    15 April 2025  02 September 2025            Non   \n",
       "4   Open For Submission    15 April 2025  02 September 2025            Non   \n",
       "..                  ...              ...                ...            ...   \n",
       "69  Open For Submission  29 October 2024   18 December 2025            Oui   \n",
       "70  Open For Submission  01 October 2024       17 July 2025            Non   \n",
       "71  Open For Submission     19 July 2022  11 September 2025            Non   \n",
       "72  Open For Submission     19 July 2022  11 September 2025            Non   \n",
       "73  Open For Submission     10 June 2021  23 September 2025            Non   \n",
       "\n",
       "                                                                                                                                                                                                                                                                                                                                                                                                                                                                                                                                                                                                                 Résumé LLM  \\\n",
       "0                                                                                                                                                                                                                                                                                                                                                  L'appel à projets ne fournit pas de description du projet, ce qui ne permet pas de déterminer sa pertinence avec les projets déjà réalisés par l'entreprise. Il est donc impossible de juger si cette opportunité est pertinente sans plus d'informations sur le projet.   \n",
       "1                                                                       L'appel à projets est spécifiquement centré sur la transition énergétique et la réduction des émissions de gaz à effet de serre dans l'industrie, avec un focus sur la collaboration entre les secteurs industriels et les fournisseurs de technologies pour déployer des solutions d'énergie propre. Les projets précédents de l'entreprise ne montrent pas de liens directs avec ce domaine spécifique, mais plutôt une expertise dans les domaines de l'incubation, de l'accélération, de la stratégie et du développement économique numérique.   \n",
       "2                                                                        L'appel à projets concerne la mise en place de mécanismes de financement innovants pour les énergies renouvelables et l'efficacité énergétique, ce qui est très proche de l'axe \"Digital Economy, Strategic Development, Financing\" du projet Arab Bank Strategy. Bien que ce dernier projet ne soit pas directement lié à l'énergie, il concerne également la mise en place de stratégies de financement pour des projets économiques. L'expertise de l'entreprise dans ce domaine peut être très pertinente pour répondre à cet appel à projets.   \n",
       "3                                                                                                                             L'appel à projets concerne la création d'un centre pour une internet plus sûre, notamment pour les enfants, avec des activités de sensibilisation, d'assistance et de lutte contre les contenus illicites. Les projets de l'entreprise précédemment réalisés ne montrent pas de lien direct avec ce type de sujet, les axes principaux étant plutôt liés à l'entrepreunariat, la stratégie, l'incubation, la prototypage, le financement, etc. Il n'y a donc pas de projet similaire détecté.   \n",
       "4                                                                                                                                       L'appel à projets concerne principalement le développement d'une infrastructure numérique pour le secteur agroalimentaire à l'échelle européenne, avec un focus sur la collaboration et l'échange de données. Les projets déjà réalisés par l'entreprise se concentrent plutôt sur l'incubation, le prototypage, la stratégie et le financement de startups et d'écosystèmes d'entrepreneuriat, sans lien direct avec le secteur agroalimentaire ou les infrastructures numériques.   \n",
       "..                                                                                                                                                                                                                                                                                                                                                                                                                                                                                                                                                                                                                      ...   \n",
       "69  La pertinence de cette opportunité est évidente car elle s'inscrit dans les axes de l'entreprise, en particulier avec le projet FACTORIAT qui supporte les startups Deeptech et Hardware en les aidant à prototyper et à matureurer technologiquement. Le scopes de l'EIC Accelerator, qui vise à soutenir les innovations à fort impact avec un potentiel de création de nouveaux marchés ou de disruption de marchés existants, est en phase avec les objectifs de FACTORIAT. De plus, l'EIC Accelerator met l'accent sur les innovations deeptech et le patient capital, ce qui correspond aux axes de l'entreprise.   \n",
       "70                                                                                                                                                                                                              L'appel à projets concerne la distribution de films européens, ce qui est très différent des domaines d'expertise de l'entreprise, qui ont trait à la Deeptech, l'incubation, la stratégie, la capacité et le financement d'entreprises et de start-ups. Les objectifs et les activités décrits dans l'appel à projets ne correspondent pas aux axes principaux des projets déjà réalisés par l'entreprise.   \n",
       "71                                                             Les projets déjà réalisés par l'entreprise se concentrent sur l'incubation, l'accélération et le développement de startups, ainsi que sur la mise en place de stratégies pour l'économie digitale et les écosystèmes d'entrepreneuriat. L'appel à projet européen ciblé Seems to focus on funding sustainable infrastructure projects and investments in the context of the EU's climate and energy transition goals. Les deux thématiques sont très différentes, et il n'y a pas de liens évidents entre les projets de l'entreprise et cet appel à projet.   \n",
       "72                                                                                                                                                                                                                                        Les projets déjà réalisés par l'entreprise sont principalement liés à l'incubation, l'accélération, la stratégie et le financement de startups et d'écosystèmes d'entreprises, tandis que l'appel à projet européen est centré sur des investissements durables et des projets de transition énergétique et environnementale. Il n'y a pas de similitude évidente entre les deux.   \n",
       "73                                                                                                                                       Les projets précédemment réalisés par l'entreprise sont principalement axés sur le soutien à l'entrepreneuriat, l'incubation, l'accélération, le développement stratégique et la mise en œuvre de programmes de développement économique. L'appel à projets pour le label de qualité pour le volontariat humanitaire ne correspond pas à ces axes principaux. Les compétences et les expériences de l'entreprise ne semblent pas être directement applicables à ce type de projet.   \n",
       "\n",
       "                                                                                                                                                                                                                                                                                                                                                                                                                                                                                                                                                                                                                                                                                                                                                                Réponse brute  \n",
       "0                                                                                                                                                                                                                                                                                                                                                                                                                         Pertinence : Non\\n\\nProjets similaires détectés : Aucun\\n\\nRésumé rapide : L'appel à projets ne fournit pas de description du projet, ce qui ne permet pas de déterminer sa pertinence avec les projets déjà réalisés par l'entreprise. Il est donc impossible de juger si cette opportunité est pertinente sans plus d'informations sur le projet.  \n",
       "1                                                                                                                                        - Pertinence : Non  \\n- Projets similaires détectés : Aucun  \\n- Résumé rapide : L'appel à projets est spécifiquement centré sur la transition énergétique et la réduction des émissions de gaz à effet de serre dans l'industrie, avec un focus sur la collaboration entre les secteurs industriels et les fournisseurs de technologies pour déployer des solutions d'énergie propre. Les projets précédents de l'entreprise ne montrent pas de liens directs avec ce domaine spécifique, mais plutôt une expertise dans les domaines de l'incubation, de l'accélération, de la stratégie et du développement économique numérique.  \n",
       "2                                                                                                                                 Pertinence : Oui\\n\\nProjets similaires détectés : Arab Bank Strategy\\n\\n Résumé rapide : L'appel à projets concerne la mise en place de mécanismes de financement innovants pour les énergies renouvelables et l'efficacité énergétique, ce qui est très proche de l'axe \"Digital Economy, Strategic Development, Financing\" du projet Arab Bank Strategy. Bien que ce dernier projet ne soit pas directement lié à l'énergie, il concerne également la mise en place de stratégies de financement pour des projets économiques. L'expertise de l'entreprise dans ce domaine peut être très pertinente pour répondre à cet appel à projets.  \n",
       "3                                                                                                               Après analyse de l'appel à projets et des projets de l'entreprise, je réponds :\\n\\n- Pertinence : Non\\n- Projets similaires détectés : Aucun\\n- Résumé rapide : L'appel à projets concerne la création d'un centre pour une internet plus sûre, notamment pour les enfants, avec des activités de sensibilisation, d'assistance et de lutte contre les contenus illicites. Les projets de l'entreprise précédemment réalisés ne montrent pas de lien direct avec ce type de sujet, les axes principaux étant plutôt liés à l'entrepreunariat, la stratégie, l'incubation, la prototypage, le financement, etc. Il n'y a donc pas de projet similaire détecté.  \n",
       "4                                                                                                    Après analyse de l'appel à projets et des projets déjà réalisés par l'entreprise, voici ma réponse :\\n\\n- Pertinence : Non\\n- Projets similaires détectés : Aucun\\n- Résumé rapide : L'appel à projets concerne principalement le développement d'une infrastructure numérique pour le secteur agroalimentaire à l'échelle européenne, avec un focus sur la collaboration et l'échange de données. Les projets déjà réalisés par l'entreprise se concentrent plutôt sur l'incubation, le prototypage, la stratégie et le financement de startups et d'écosystèmes d'entrepreneuriat, sans lien direct avec le secteur agroalimentaire ou les infrastructures numériques.  \n",
       "..                                                                                                                                                                                                                                                                                                                                                                                                                                                                                                                                                                                                                                                                                                                                                                        ...  \n",
       "69                                                                     Pertinence : Oui\\n\\nProjets similaires détectés : FACTORIAT\\n\\nRésumé rapide : La pertinence de cette opportunité est évidente car elle s'inscrit dans les axes de l'entreprise, en particulier avec le projet FACTORIAT qui supporte les startups Deeptech et Hardware en les aidant à prototyper et à matureurer technologiquement. Le scopes de l'EIC Accelerator, qui vise à soutenir les innovations à fort impact avec un potentiel de création de nouveaux marchés ou de disruption de marchés existants, est en phase avec les objectifs de FACTORIAT. De plus, l'EIC Accelerator met l'accent sur les innovations deeptech et le patient capital, ce qui correspond aux axes de l'entreprise.  \n",
       "70                                                                                                                                                                                                                                                                                     Pertinence : Non\\n\\nProjets similaires détectés : Aucun\\n\\nRésumé rapide : L'appel à projets concerne la distribution de films européens, ce qui est très différent des domaines d'expertise de l'entreprise, qui ont trait à la Deeptech, l'incubation, la stratégie, la capacité et le financement d'entreprises et de start-ups. Les objectifs et les activités décrits dans l'appel à projets ne correspondent pas aux axes principaux des projets déjà réalisés par l'entreprise.  \n",
       "71                                                                                                                                    Pertinence : Non\\n\\nProjets similaires détectés : Aucun\\n\\nRésumé rapide : Les projets déjà réalisés par l'entreprise se concentrent sur l'incubation, l'accélération et le développement de startups, ainsi que sur la mise en place de stratégies pour l'économie digitale et les écosystèmes d'entrepreneuriat. L'appel à projet européen ciblé Seems to focus on funding sustainable infrastructure projects and investments in the context of the EU's climate and energy transition goals. Les deux thématiques sont très différentes, et il n'y a pas de liens évidents entre les projets de l'entreprise et cet appel à projet.  \n",
       "72  Pertinence : Non\\n\\nProjets similaires détectés : Aucun\\n\\nRésumé rapide : Les projets déjà réalisés par l'entreprise sont principalement liés à l'incubation, l'accélération, la stratégie et le financement de startups et d'écosystèmes d'entreprises, tandis que l'appel à projet européen est centré sur des investissements durables et des projets de transition énergétique et environnementale. Il n'y a pas de similitude évidente entre les deux.\\n\\nCependant, il est possible que l'entreprise puisse adapter ses compétences en stratégie, financement et capacité d'accélérer les startups pour répondre à cet appel à projet en collaborant avec d'autres acteurs ayant une expertise dans les domaines de la transition énergétique et environnementale.  \n",
       "73                                                                                                                                                                                                              Pertinence : Non\\n\\nProjets similaires détectés : Aucun\\n\\nRésumé rapide : Les projets précédemment réalisés par l'entreprise sont principalement axés sur le soutien à l'entrepreneuriat, l'incubation, l'accélération, le développement stratégique et la mise en œuvre de programmes de développement économique. L'appel à projets pour le label de qualité pour le volontariat humanitaire ne correspond pas à ces axes principaux. Les compétences et les expériences de l'entreprise ne semblent pas être directement applicables à ce type de projet.  \n",
       "\n",
       "[74 rows x 10 columns]"
      ]
     },
     "execution_count": 32,
     "metadata": {},
     "output_type": "execute_result"
    }
   ],
   "source": [
    "\n",
    "df_final_llm"
   ]
  },
  {
   "cell_type": "code",
   "execution_count": 3,
   "id": "23d9c6f3",
   "metadata": {},
   "outputs": [
    {
     "ename": "NameError",
     "evalue": "name 'df_final_llm' is not defined",
     "output_type": "error",
     "traceback": [
      "\u001b[1;31m---------------------------------------------------------------------------\u001b[0m",
      "\u001b[1;31mNameError\u001b[0m                                 Traceback (most recent call last)",
      "Cell \u001b[1;32mIn[3], line 1\u001b[0m\n\u001b[1;32m----> 1\u001b[0m \u001b[43mdf_final_llm\u001b[49m\u001b[38;5;241m.\u001b[39mshape\n",
      "\u001b[1;31mNameError\u001b[0m: name 'df_final_llm' is not defined"
     ]
    }
   ],
   "source": [
    "df_final_llm.shape"
   ]
  },
  {
   "cell_type": "code",
   "execution_count": 14,
   "id": "dbfff143",
   "metadata": {},
   "outputs": [],
   "source": [
    "df_yes_final = df_final_llm[df_final_llm['Pertinence LLM'] == 'Oui'].copy()\n"
   ]
  },
  {
   "cell_type": "code",
   "execution_count": 38,
   "id": "8d30abca",
   "metadata": {},
   "outputs": [],
   "source": [
    "df_yes_final.to_excel(\"df_LLM_YES_EU.xlsx\", index=False)"
   ]
  },
  {
   "cell_type": "code",
   "execution_count": 15,
   "id": "1c8fccaa",
   "metadata": {},
   "outputs": [
    {
     "data": {
      "text/html": [
       "<div>\n",
       "<style scoped>\n",
       "    .dataframe tbody tr th:only-of-type {\n",
       "        vertical-align: middle;\n",
       "    }\n",
       "\n",
       "    .dataframe tbody tr th {\n",
       "        vertical-align: top;\n",
       "    }\n",
       "\n",
       "    .dataframe thead th {\n",
       "        text-align: right;\n",
       "    }\n",
       "</style>\n",
       "<table border=\"1\" class=\"dataframe\">\n",
       "  <thead>\n",
       "    <tr style=\"text-align: right;\">\n",
       "      <th></th>\n",
       "      <th>URL</th>\n",
       "      <th>Pertinence</th>\n",
       "      <th>Matching Word(s)</th>\n",
       "      <th>Pertinence LLM</th>\n",
       "      <th>Résumé LLM</th>\n",
       "      <th>Réponse brute</th>\n",
       "    </tr>\n",
       "  </thead>\n",
       "  <tbody>\n",
       "    <tr>\n",
       "      <th>12</th>\n",
       "      <td>https://ec.europa.eu/info/funding-tenders/oppo...</td>\n",
       "      <td>Yes</td>\n",
       "      <td>artificial intelligence, renewable energy</td>\n",
       "      <td>Oui</td>\n",
       "      <td>Cette opportunité est pertinente car elle vise...</td>\n",
       "      <td>- Pertinence : Oui\\n- Projets similaires détec...</td>\n",
       "    </tr>\n",
       "    <tr>\n",
       "      <th>13</th>\n",
       "      <td>https://ec.europa.eu/info/funding-tenders/oppo...</td>\n",
       "      <td>Yes</td>\n",
       "      <td>proof of concept</td>\n",
       "      <td>Oui</td>\n",
       "      <td>La pertinence est établie en raison de la prox...</td>\n",
       "      <td>- Pertinence : Oui\\n- Projets similaires détec...</td>\n",
       "    </tr>\n",
       "    <tr>\n",
       "      <th>14</th>\n",
       "      <td>https://ec.europa.eu/info/funding-tenders/oppo...</td>\n",
       "      <td>Yes</td>\n",
       "      <td>artificial intelligence, machine learning</td>\n",
       "      <td>Oui</td>\n",
       "      <td>**</td>\n",
       "      <td>**Pertinence : Oui**\\n\\n**Projets similaires d...</td>\n",
       "    </tr>\n",
       "    <tr>\n",
       "      <th>15</th>\n",
       "      <td>https://ec.europa.eu/info/funding-tenders/oppo...</td>\n",
       "      <td>Yes</td>\n",
       "      <td>artificial intelligence, social impact</td>\n",
       "      <td>Oui</td>\n",
       "      <td>La pertinence est établie car l'appel à projet...</td>\n",
       "      <td>- Pertinence : Oui\\n- Projets similaires détec...</td>\n",
       "    </tr>\n",
       "    <tr>\n",
       "      <th>16</th>\n",
       "      <td>https://ec.europa.eu/info/funding-tenders/oppo...</td>\n",
       "      <td>Yes</td>\n",
       "      <td>monitoring and evaluation</td>\n",
       "      <td>Oui</td>\n",
       "      <td>L'appel à projets concerne le développement d'...</td>\n",
       "      <td>- Pertinence : Oui\\n- Projets similaires détec...</td>\n",
       "    </tr>\n",
       "    <tr>\n",
       "      <th>17</th>\n",
       "      <td>https://ec.europa.eu/info/funding-tenders/oppo...</td>\n",
       "      <td>Yes</td>\n",
       "      <td>cybersecurity, digital transformation</td>\n",
       "      <td>Oui</td>\n",
       "      <td>L'appel àprojets seem to align with the enterp...</td>\n",
       "      <td>Pertinence : Oui\\n\\nProjets similaires détecté...</td>\n",
       "    </tr>\n",
       "    <tr>\n",
       "      <th>19</th>\n",
       "      <td>https://ec.europa.eu/info/funding-tenders/oppo...</td>\n",
       "      <td>Yes</td>\n",
       "      <td>technology readiness level, biotechnology, ren...</td>\n",
       "      <td>Oui</td>\n",
       "      <td>L'appel à projets concerne la maturation techn...</td>\n",
       "      <td>Pertinence : Oui\\n\\nProjets similaires détecté...</td>\n",
       "    </tr>\n",
       "    <tr>\n",
       "      <th>20</th>\n",
       "      <td>https://ec.europa.eu/info/funding-tenders/oppo...</td>\n",
       "      <td>Yes</td>\n",
       "      <td>robotics</td>\n",
       "      <td>Oui</td>\n",
       "      <td>L'appel à projets européen concerne le dévelop...</td>\n",
       "      <td>Pertinence : Oui\\n\\nProjets similaires détecté...</td>\n",
       "    </tr>\n",
       "    <tr>\n",
       "      <th>22</th>\n",
       "      <td>https://ec.europa.eu/info/funding-tenders/oppo...</td>\n",
       "      <td>Yes</td>\n",
       "      <td>biotechnology, artificial intelligence, climat...</td>\n",
       "      <td>Oui</td>\n",
       "      <td>Ce projet européen concerne le développement e...</td>\n",
       "      <td>Pertinence : Oui\\n\\nProjets similaires détecté...</td>\n",
       "    </tr>\n",
       "    <tr>\n",
       "      <th>23</th>\n",
       "      <td>https://ec.europa.eu/info/funding-tenders/oppo...</td>\n",
       "      <td>Yes</td>\n",
       "      <td>artificial intelligence, cybersecurity</td>\n",
       "      <td>Oui</td>\n",
       "      <td>Ce projet européen de développement de composa...</td>\n",
       "      <td>Bonjour !\\n\\nAnalyse faite, voici ma réponse :...</td>\n",
       "    </tr>\n",
       "    <tr>\n",
       "      <th>29</th>\n",
       "      <td>https://ec.europa.eu/info/funding-tenders/oppo...</td>\n",
       "      <td>Yes</td>\n",
       "      <td>call for proposals</td>\n",
       "      <td>Oui</td>\n",
       "      <td>Cette opportunité est pertinente car elle conc...</td>\n",
       "      <td>Oui, la pertinence de cette opportunité est év...</td>\n",
       "    </tr>\n",
       "    <tr>\n",
       "      <th>108</th>\n",
       "      <td>https://ec.europa.eu/info/funding-tenders/oppo...</td>\n",
       "      <td>Yes</td>\n",
       "      <td>research results, industrial competitiveness</td>\n",
       "      <td>Oui</td>\n",
       "      <td>Il y a une pertinence évidente entre cet appel...</td>\n",
       "      <td>Pertinence : Oui\\n\\nProjets similaires détecté...</td>\n",
       "    </tr>\n",
       "    <tr>\n",
       "      <th>109</th>\n",
       "      <td>https://ec.europa.eu/info/funding-tenders/oppo...</td>\n",
       "      <td>Yes</td>\n",
       "      <td>advanced materials</td>\n",
       "      <td>Oui</td>\n",
       "      <td>L'appel à projets vise à utiliser l'intelligen...</td>\n",
       "      <td>Pertinence : Oui\\n\\nProjets similaires détecté...</td>\n",
       "    </tr>\n",
       "    <tr>\n",
       "      <th>110</th>\n",
       "      <td>https://ec.europa.eu/info/funding-tenders/oppo...</td>\n",
       "      <td>Yes</td>\n",
       "      <td>strategic partnership, social impact</td>\n",
       "      <td>Oui</td>\n",
       "      <td>La pertinence de cet appel à projets est élevé...</td>\n",
       "      <td>Pertinence : Oui\\n\\nProjets similaires détecté...</td>\n",
       "    </tr>\n",
       "    <tr>\n",
       "      <th>111</th>\n",
       "      <td>https://ec.europa.eu/info/funding-tenders/oppo...</td>\n",
       "      <td>Yes</td>\n",
       "      <td>robotics, social innovation</td>\n",
       "      <td>Oui</td>\n",
       "      <td>Cette opportunité de projet est pertinente car...</td>\n",
       "      <td>Pertinence : Oui\\n\\nProjets similaires détecté...</td>\n",
       "    </tr>\n",
       "    <tr>\n",
       "      <th>112</th>\n",
       "      <td>https://ec.europa.eu/info/funding-tenders/oppo...</td>\n",
       "      <td>Yes</td>\n",
       "      <td>robotics, artificial intelligence</td>\n",
       "      <td>Oui</td>\n",
       "      <td>L'appel à projet vise à valoriser les résultat...</td>\n",
       "      <td>Après analyse, voici ma réponse :\\n\\nPertinenc...</td>\n",
       "    </tr>\n",
       "    <tr>\n",
       "      <th>113</th>\n",
       "      <td>https://ec.europa.eu/info/funding-tenders/oppo...</td>\n",
       "      <td>Yes</td>\n",
       "      <td>research results, artificial intelligence, mac...</td>\n",
       "      <td>Oui</td>\n",
       "      <td>L'appel à projets vise à valoriser les résulta...</td>\n",
       "      <td>Pertinence : Oui\\n\\nProjets similaires détecté...</td>\n",
       "    </tr>\n",
       "  </tbody>\n",
       "</table>\n",
       "</div>"
      ],
      "text/plain": [
       "                                                   URL Pertinence  \\\n",
       "12   https://ec.europa.eu/info/funding-tenders/oppo...        Yes   \n",
       "13   https://ec.europa.eu/info/funding-tenders/oppo...        Yes   \n",
       "14   https://ec.europa.eu/info/funding-tenders/oppo...        Yes   \n",
       "15   https://ec.europa.eu/info/funding-tenders/oppo...        Yes   \n",
       "16   https://ec.europa.eu/info/funding-tenders/oppo...        Yes   \n",
       "17   https://ec.europa.eu/info/funding-tenders/oppo...        Yes   \n",
       "19   https://ec.europa.eu/info/funding-tenders/oppo...        Yes   \n",
       "20   https://ec.europa.eu/info/funding-tenders/oppo...        Yes   \n",
       "22   https://ec.europa.eu/info/funding-tenders/oppo...        Yes   \n",
       "23   https://ec.europa.eu/info/funding-tenders/oppo...        Yes   \n",
       "29   https://ec.europa.eu/info/funding-tenders/oppo...        Yes   \n",
       "108  https://ec.europa.eu/info/funding-tenders/oppo...        Yes   \n",
       "109  https://ec.europa.eu/info/funding-tenders/oppo...        Yes   \n",
       "110  https://ec.europa.eu/info/funding-tenders/oppo...        Yes   \n",
       "111  https://ec.europa.eu/info/funding-tenders/oppo...        Yes   \n",
       "112  https://ec.europa.eu/info/funding-tenders/oppo...        Yes   \n",
       "113  https://ec.europa.eu/info/funding-tenders/oppo...        Yes   \n",
       "\n",
       "                                      Matching Word(s) Pertinence LLM  \\\n",
       "12           artificial intelligence, renewable energy            Oui   \n",
       "13                                    proof of concept            Oui   \n",
       "14           artificial intelligence, machine learning            Oui   \n",
       "15              artificial intelligence, social impact            Oui   \n",
       "16                           monitoring and evaluation            Oui   \n",
       "17               cybersecurity, digital transformation            Oui   \n",
       "19   technology readiness level, biotechnology, ren...            Oui   \n",
       "20                                            robotics            Oui   \n",
       "22   biotechnology, artificial intelligence, climat...            Oui   \n",
       "23              artificial intelligence, cybersecurity            Oui   \n",
       "29                                  call for proposals            Oui   \n",
       "108       research results, industrial competitiveness            Oui   \n",
       "109                                 advanced materials            Oui   \n",
       "110               strategic partnership, social impact            Oui   \n",
       "111                        robotics, social innovation            Oui   \n",
       "112                  robotics, artificial intelligence            Oui   \n",
       "113  research results, artificial intelligence, mac...            Oui   \n",
       "\n",
       "                                            Résumé LLM  \\\n",
       "12   Cette opportunité est pertinente car elle vise...   \n",
       "13   La pertinence est établie en raison de la prox...   \n",
       "14                                                  **   \n",
       "15   La pertinence est établie car l'appel à projet...   \n",
       "16   L'appel à projets concerne le développement d'...   \n",
       "17   L'appel àprojets seem to align with the enterp...   \n",
       "19   L'appel à projets concerne la maturation techn...   \n",
       "20   L'appel à projets européen concerne le dévelop...   \n",
       "22   Ce projet européen concerne le développement e...   \n",
       "23   Ce projet européen de développement de composa...   \n",
       "29   Cette opportunité est pertinente car elle conc...   \n",
       "108  Il y a une pertinence évidente entre cet appel...   \n",
       "109  L'appel à projets vise à utiliser l'intelligen...   \n",
       "110  La pertinence de cet appel à projets est élevé...   \n",
       "111  Cette opportunité de projet est pertinente car...   \n",
       "112  L'appel à projet vise à valoriser les résultat...   \n",
       "113  L'appel à projets vise à valoriser les résulta...   \n",
       "\n",
       "                                         Réponse brute  \n",
       "12   - Pertinence : Oui\\n- Projets similaires détec...  \n",
       "13   - Pertinence : Oui\\n- Projets similaires détec...  \n",
       "14   **Pertinence : Oui**\\n\\n**Projets similaires d...  \n",
       "15   - Pertinence : Oui\\n- Projets similaires détec...  \n",
       "16   - Pertinence : Oui\\n- Projets similaires détec...  \n",
       "17   Pertinence : Oui\\n\\nProjets similaires détecté...  \n",
       "19   Pertinence : Oui\\n\\nProjets similaires détecté...  \n",
       "20   Pertinence : Oui\\n\\nProjets similaires détecté...  \n",
       "22   Pertinence : Oui\\n\\nProjets similaires détecté...  \n",
       "23   Bonjour !\\n\\nAnalyse faite, voici ma réponse :...  \n",
       "29   Oui, la pertinence de cette opportunité est év...  \n",
       "108  Pertinence : Oui\\n\\nProjets similaires détecté...  \n",
       "109  Pertinence : Oui\\n\\nProjets similaires détecté...  \n",
       "110  Pertinence : Oui\\n\\nProjets similaires détecté...  \n",
       "111  Pertinence : Oui\\n\\nProjets similaires détecté...  \n",
       "112  Après analyse, voici ma réponse :\\n\\nPertinenc...  \n",
       "113  Pertinence : Oui\\n\\nProjets similaires détecté...  "
      ]
     },
     "execution_count": 15,
     "metadata": {},
     "output_type": "execute_result"
    }
   ],
   "source": [
    "df_yes_final"
   ]
  },
  {
   "cell_type": "code",
   "execution_count": null,
   "id": "5c0fccc3",
   "metadata": {},
   "outputs": [
    {
     "name": "stderr",
     "output_type": "stream",
     "text": [
      "🔍 Analyse des URLs:   0%|          | 0/90 [00:00<?, ?it/s]"
     ]
    },
    {
     "name": "stdout",
     "output_type": "stream",
     "text": [
      "🟡 Analyse en cours : https://www.ukri.org/opportunity/smart-data-research-uk-fellowships/\n"
     ]
    },
    {
     "name": "stderr",
     "output_type": "stream",
     "text": [
      "🔍 Analyse des URLs:   1%|          | 1/90 [00:31<47:08, 31.79s/it]"
     ]
    },
    {
     "name": "stdout",
     "output_type": "stream",
     "text": [
      "🟡 Analyse en cours : https://www.ukri.org/opportunity/institutional-diversity-fund-invite-only/\n"
     ]
    },
    {
     "name": "stderr",
     "output_type": "stream",
     "text": [
      "🔍 Analyse des URLs:   2%|▏         | 2/90 [00:56<40:14, 27.44s/it]"
     ]
    },
    {
     "name": "stdout",
     "output_type": "stream",
     "text": [
      "🟡 Analyse en cours : https://www.ukri.org/opportunity/funding-for-early-stage-development-of-new-healthcare-interventions/\n"
     ]
    },
    {
     "name": "stderr",
     "output_type": "stream",
     "text": [
      "🔍 Analyse des URLs:   3%|▎         | 3/90 [01:19<37:18, 25.73s/it]"
     ]
    },
    {
     "name": "stdout",
     "output_type": "stream",
     "text": [
      "🟡 Analyse en cours : https://www.ukri.org/opportunity/digitise-uk-natural-science-collections/\n"
     ]
    },
    {
     "name": "stderr",
     "output_type": "stream",
     "text": [
      "🔍 Analyse des URLs:   4%|▍         | 4/90 [01:44<36:09, 25.22s/it]"
     ]
    },
    {
     "name": "stdout",
     "output_type": "stream",
     "text": [
      "🟡 Analyse en cours : https://www.ukri.org/opportunity/aviations-non-co2-impacts-on-the-climate-programme-coordinator/\n"
     ]
    },
    {
     "name": "stderr",
     "output_type": "stream",
     "text": [
      "🔍 Analyse des URLs:   6%|▌         | 5/90 [02:08<35:06, 24.78s/it]"
     ]
    },
    {
     "name": "stdout",
     "output_type": "stream",
     "text": [
      "🟡 Analyse en cours : https://www.ukri.org/opportunity/research-and-partnership-hubs-for-a-healthy-society/\n"
     ]
    },
    {
     "name": "stderr",
     "output_type": "stream",
     "text": [
      "🔍 Analyse des URLs:   7%|▋         | 6/90 [02:32<34:18, 24.51s/it]"
     ]
    },
    {
     "name": "stdout",
     "output_type": "stream",
     "text": [
      "🟡 Analyse en cours : https://www.ukri.org/opportunity/stfc-leadership-fellowships-in-public-engagement/\n"
     ]
    },
    {
     "name": "stderr",
     "output_type": "stream",
     "text": [
      "🔍 Analyse des URLs:   8%|▊         | 7/90 [02:55<33:27, 24.19s/it]"
     ]
    },
    {
     "name": "stdout",
     "output_type": "stream",
     "text": [
      "🟡 Analyse en cours : https://www.ukri.org/opportunity/computing-resources-on-the-stfc-dirac-hpc-facility-rac18/\n"
     ]
    },
    {
     "name": "stderr",
     "output_type": "stream",
     "text": [
      "🔍 Analyse des URLs:   9%|▉         | 8/90 [03:19<32:48, 24.00s/it]"
     ]
    },
    {
     "name": "stdout",
     "output_type": "stream",
     "text": [
      "🟡 Analyse en cours : https://www.ukri.org/opportunity/experimental-medicine-invited-stage-two-application/\n"
     ]
    },
    {
     "name": "stderr",
     "output_type": "stream",
     "text": [
      "🔍 Analyse des URLs:  10%|█         | 9/90 [03:43<32:16, 23.90s/it]"
     ]
    },
    {
     "name": "stdout",
     "output_type": "stream",
     "text": [
      "🟡 Analyse en cours : https://www.ukri.org/opportunity/us-uk-and-germany-uk-collaborative-research-seed-funding-in-semiconductor-security/\n"
     ]
    },
    {
     "name": "stderr",
     "output_type": "stream",
     "text": [
      "🔍 Analyse des URLs:  11%|█         | 10/90 [04:06<31:47, 23.84s/it]"
     ]
    },
    {
     "name": "stdout",
     "output_type": "stream",
     "text": [
      "🟡 Analyse en cours : https://www.ukri.org/opportunity/biological-influence-on-ocean-carbon-novel-modelling-approaches/\n"
     ]
    },
    {
     "name": "stderr",
     "output_type": "stream",
     "text": [
      "🔍 Analyse des URLs:  12%|█▏        | 11/90 [04:31<31:50, 24.19s/it]"
     ]
    },
    {
     "name": "stdout",
     "output_type": "stream",
     "text": [
      "🟡 Analyse en cours : https://www.ukri.org/opportunity/ukri-gambling-harms-research-coordination-centre-ghrcc/\n"
     ]
    },
    {
     "name": "stderr",
     "output_type": "stream",
     "text": [
      "🔍 Analyse des URLs:  13%|█▎        | 12/90 [04:55<31:20, 24.11s/it]"
     ]
    },
    {
     "name": "stdout",
     "output_type": "stream",
     "text": [
      "🟡 Analyse en cours : https://www.ukri.org/opportunity/gambling-harms-research-and-innovation-partnerships/\n"
     ]
    },
    {
     "name": "stderr",
     "output_type": "stream",
     "text": [
      "🔍 Analyse des URLs:  14%|█▍        | 13/90 [05:20<31:14, 24.34s/it]"
     ]
    },
    {
     "name": "stdout",
     "output_type": "stream",
     "text": [
      "🟡 Analyse en cours : https://www.ukri.org/opportunity/multiple-model-assessment-of-biological-influence-on-ocean-carbon/\n"
     ]
    },
    {
     "name": "stderr",
     "output_type": "stream",
     "text": [
      "🔍 Analyse des URLs:  16%|█▌        | 14/90 [05:46<31:18, 24.72s/it]"
     ]
    },
    {
     "name": "stdout",
     "output_type": "stream",
     "text": [
      "🟡 Analyse en cours : https://www.ukri.org/opportunity/transdisciplinary-research-to-tackle-antimicrobial-resistance-full-application/\n"
     ]
    },
    {
     "name": "stderr",
     "output_type": "stream",
     "text": [
      "🔍 Analyse des URLs:  17%|█▋        | 15/90 [06:10<30:42, 24.57s/it]"
     ]
    },
    {
     "name": "stdout",
     "output_type": "stream",
     "text": [
      "🟡 Analyse en cours : https://www.ukri.org/opportunity/canada-uk-networkplus-in-semiconductor-research/\n"
     ]
    },
    {
     "name": "stderr",
     "output_type": "stream",
     "text": [
      "🔍 Analyse des URLs:  18%|█▊        | 16/90 [06:36<30:42, 24.90s/it]"
     ]
    },
    {
     "name": "stdout",
     "output_type": "stream",
     "text": [
      "🟡 Analyse en cours : https://www.ukri.org/opportunity/uk-international-ocean-drilling-programme-moratorium-awards/\n"
     ]
    },
    {
     "name": "stderr",
     "output_type": "stream",
     "text": [
      "🔍 Analyse des URLs:  19%|█▉        | 17/90 [07:01<30:38, 25.18s/it]"
     ]
    },
    {
     "name": "stdout",
     "output_type": "stream",
     "text": [
      "🟡 Analyse en cours : https://www.ukri.org/opportunity/health-technologies-connectivity-awards-round-two/\n"
     ]
    },
    {
     "name": "stderr",
     "output_type": "stream",
     "text": [
      "🔍 Analyse des URLs:  20%|██        | 18/90 [07:25<29:38, 24.70s/it]"
     ]
    },
    {
     "name": "stdout",
     "output_type": "stream",
     "text": [
      "🟡 Analyse en cours : https://www.ukri.org/opportunity/clinician-scientist-fellowship/\n"
     ]
    },
    {
     "name": "stderr",
     "output_type": "stream",
     "text": [
      "🔍 Analyse des URLs:  21%|██        | 19/90 [07:50<29:11, 24.67s/it]"
     ]
    },
    {
     "name": "stdout",
     "output_type": "stream",
     "text": [
      "🟡 Analyse en cours : https://www.ukri.org/opportunity/pre-doctoral-clinical-research-training-fellowship/\n"
     ]
    },
    {
     "name": "stderr",
     "output_type": "stream",
     "text": [
      "🔍 Analyse des URLs:  22%|██▏       | 20/90 [08:15<28:52, 24.75s/it]"
     ]
    },
    {
     "name": "stdout",
     "output_type": "stream",
     "text": [
      "🟡 Analyse en cours : https://www.ukri.org/opportunity/post-doctoral-clinical-research-training-fellowship/\n"
     ]
    },
    {
     "name": "stderr",
     "output_type": "stream",
     "text": [
      "🔍 Analyse des URLs:  23%|██▎       | 21/90 [08:40<28:45, 25.01s/it]"
     ]
    },
    {
     "name": "stdout",
     "output_type": "stream",
     "text": [
      "🟡 Analyse en cours : https://www.ukri.org/opportunity/engineer-next-generation-veterinary-vaccine-technology-platforms/\n"
     ]
    },
    {
     "name": "stderr",
     "output_type": "stream",
     "text": [
      "🔍 Analyse des URLs:  24%|██▍       | 22/90 [09:05<28:10, 24.86s/it]"
     ]
    },
    {
     "name": "stdout",
     "output_type": "stream",
     "text": [
      "🟡 Analyse en cours : https://www.ukri.org/opportunity/strategic-infrastructure-for-engineering-and-physical-sciences-june-2025/\n"
     ]
    },
    {
     "name": "stderr",
     "output_type": "stream",
     "text": [
      "🔍 Analyse des URLs:  26%|██▌       | 23/90 [09:28<27:24, 24.54s/it]"
     ]
    },
    {
     "name": "stdout",
     "output_type": "stream",
     "text": [
      "🟡 Analyse en cours : https://www.ukri.org/opportunity/ernest-rutherford-fellowship-2025/\n"
     ]
    },
    {
     "name": "stderr",
     "output_type": "stream",
     "text": [
      "🔍 Analyse des URLs:  27%|██▋       | 24/90 [09:52<26:45, 24.32s/it]"
     ]
    },
    {
     "name": "stdout",
     "output_type": "stream",
     "text": [
      "🟡 Analyse en cours : https://www.ukri.org/opportunity/research-to-advance-uk-recycling-capabilities-full-stage/\n"
     ]
    },
    {
     "name": "stderr",
     "output_type": "stream",
     "text": [
      "🔍 Analyse des URLs:  28%|██▊       | 25/90 [10:16<26:10, 24.16s/it]"
     ]
    },
    {
     "name": "stdout",
     "output_type": "stream",
     "text": [
      "🟡 Analyse en cours : https://www.ukri.org/opportunity/sandpit-moving-respiratory-health-diagnosis-into-the-21st-century-invite-only/\n"
     ]
    },
    {
     "name": "stderr",
     "output_type": "stream",
     "text": [
      "🔍 Analyse des URLs:  29%|██▉       | 26/90 [10:39<25:31, 23.93s/it]"
     ]
    },
    {
     "name": "stdout",
     "output_type": "stream",
     "text": [
      "🟡 Analyse en cours : https://www.ukri.org/opportunity/mrc-centre-of-research-excellence-round-three/\n"
     ]
    },
    {
     "name": "stderr",
     "output_type": "stream",
     "text": [
      "🔍 Analyse des URLs:  30%|███       | 27/90 [11:06<26:02, 24.81s/it]"
     ]
    },
    {
     "name": "stdout",
     "output_type": "stream",
     "text": [
      "🟡 Analyse en cours : https://www.ukri.org/opportunity/responsive-mode-partnership/\n"
     ]
    },
    {
     "name": "stderr",
     "output_type": "stream",
     "text": [
      "🔍 Analyse des URLs:  31%|███       | 28/90 [11:30<25:19, 24.51s/it]"
     ]
    },
    {
     "name": "stdout",
     "output_type": "stream",
     "text": [
      "🟡 Analyse en cours : https://www.ukri.org/opportunity/infections-and-immunity-programme/\n"
     ]
    },
    {
     "name": "stderr",
     "output_type": "stream",
     "text": [
      "🔍 Analyse des URLs:  32%|███▏      | 29/90 [11:54<24:37, 24.22s/it]"
     ]
    },
    {
     "name": "stdout",
     "output_type": "stream",
     "text": [
      "🟡 Analyse en cours : https://www.ukri.org/opportunity/neurosciences-and-mental-health-programme/\n"
     ]
    },
    {
     "name": "stderr",
     "output_type": "stream",
     "text": [
      "🔍 Analyse des URLs:  33%|███▎      | 30/90 [12:17<24:04, 24.08s/it]"
     ]
    },
    {
     "name": "stdout",
     "output_type": "stream",
     "text": [
      "🟡 Analyse en cours : https://www.ukri.org/opportunity/population-and-systems-medicine-programme/\n"
     ]
    },
    {
     "name": "stderr",
     "output_type": "stream",
     "text": [
      "🔍 Analyse des URLs:  34%|███▍      | 31/90 [12:41<23:36, 24.01s/it]"
     ]
    },
    {
     "name": "stdout",
     "output_type": "stream",
     "text": [
      "🟡 Analyse en cours : https://www.ukri.org/opportunity/molecular-and-cellular-medicine-programme/\n"
     ]
    },
    {
     "name": "stderr",
     "output_type": "stream",
     "text": [
      "🔍 Analyse des URLs:  36%|███▌      | 32/90 [13:05<23:02, 23.84s/it]"
     ]
    },
    {
     "name": "stdout",
     "output_type": "stream",
     "text": [
      "🟡 Analyse en cours : https://www.ukri.org/opportunity/molecular-and-cellular-medicine-new-investigator/\n"
     ]
    },
    {
     "name": "stderr",
     "output_type": "stream",
     "text": [
      "🔍 Analyse des URLs:  37%|███▋      | 33/90 [13:28<22:36, 23.80s/it]"
     ]
    },
    {
     "name": "stdout",
     "output_type": "stream",
     "text": [
      "🟡 Analyse en cours : https://www.ukri.org/opportunity/neurosciences-and-mental-health-new-investigator/\n"
     ]
    },
    {
     "name": "stderr",
     "output_type": "stream",
     "text": [
      "🔍 Analyse des URLs:  38%|███▊      | 34/90 [13:52<22:11, 23.78s/it]"
     ]
    },
    {
     "name": "stdout",
     "output_type": "stream",
     "text": [
      "🟡 Analyse en cours : https://www.ukri.org/opportunity/infections-and-immunity-new-investigator/\n"
     ]
    },
    {
     "name": "stderr",
     "output_type": "stream",
     "text": [
      "🔍 Analyse des URLs:  39%|███▉      | 35/90 [14:16<21:47, 23.78s/it]"
     ]
    },
    {
     "name": "stdout",
     "output_type": "stream",
     "text": [
      "🟡 Analyse en cours : https://www.ukri.org/opportunity/population-and-systems-medicine-new-investigator/\n"
     ]
    },
    {
     "name": "stderr",
     "output_type": "stream",
     "text": [
      "🔍 Analyse des URLs:  40%|████      | 36/90 [14:39<21:19, 23.69s/it]"
     ]
    },
    {
     "name": "stdout",
     "output_type": "stream",
     "text": [
      "🟡 Analyse en cours : https://www.ukri.org/opportunity/neurosciences-and-mental-health-research/\n"
     ]
    },
    {
     "name": "stderr",
     "output_type": "stream",
     "text": [
      "🔍 Analyse des URLs:  41%|████      | 37/90 [15:03<20:55, 23.68s/it]"
     ]
    },
    {
     "name": "stdout",
     "output_type": "stream",
     "text": [
      "🟡 Analyse en cours : https://www.ukri.org/opportunity/population-and-systems-medicine-research/\n"
     ]
    },
    {
     "name": "stderr",
     "output_type": "stream",
     "text": [
      "🔍 Analyse des URLs:  42%|████▏     | 38/90 [15:27<20:32, 23.71s/it]"
     ]
    },
    {
     "name": "stdout",
     "output_type": "stream",
     "text": [
      "🟡 Analyse en cours : https://www.ukri.org/opportunity/molecular-and-cellular-medicine-research/\n"
     ]
    },
    {
     "name": "stderr",
     "output_type": "stream",
     "text": [
      "🔍 Analyse des URLs:  43%|████▎     | 39/90 [15:50<20:05, 23.64s/it]"
     ]
    },
    {
     "name": "stdout",
     "output_type": "stream",
     "text": [
      "🟡 Analyse en cours : https://www.ukri.org/opportunity/infections-and-immunity-research/\n"
     ]
    },
    {
     "name": "stderr",
     "output_type": "stream",
     "text": [
      "🔍 Analyse des URLs:  44%|████▍     | 40/90 [16:14<19:42, 23.66s/it]"
     ]
    },
    {
     "name": "stdout",
     "output_type": "stream",
     "text": [
      "🟡 Analyse en cours : https://www.ukri.org/opportunity/dare-uk-real-world-research-exemplar-programme/\n"
     ]
    },
    {
     "name": "stderr",
     "output_type": "stream",
     "text": [
      "🔍 Analyse des URLs:  46%|████▌     | 41/90 [16:38<19:19, 23.67s/it]"
     ]
    },
    {
     "name": "stdout",
     "output_type": "stream",
     "text": [
      "🟡 Analyse en cours : https://www.ukri.org/opportunity/bbsrc-new-investigator-award-2025-round-3-applicant-led-mode/\n"
     ]
    },
    {
     "name": "stderr",
     "output_type": "stream",
     "text": [
      "🔍 Analyse des URLs:  47%|████▋     | 42/90 [17:01<18:54, 23.64s/it]"
     ]
    },
    {
     "name": "stdout",
     "output_type": "stream",
     "text": [
      "🟡 Analyse en cours : https://www.ukri.org/opportunity/bbsrc-standard-research-grant-2025-round-3-applicant-led-mode/\n"
     ]
    },
    {
     "name": "stderr",
     "output_type": "stream",
     "text": [
      "🔍 Analyse des URLs:  48%|████▊     | 43/90 [17:25<18:31, 23.64s/it]"
     ]
    },
    {
     "name": "stdout",
     "output_type": "stream",
     "text": [
      "🟡 Analyse en cours : https://www.ukri.org/opportunity/critical-mass-programmes-to-drive-a-sustainable-future-invitation-only/\n"
     ]
    },
    {
     "name": "stderr",
     "output_type": "stream",
     "text": [
      "🔍 Analyse des URLs:  49%|████▉     | 44/90 [17:49<18:09, 23.69s/it]"
     ]
    },
    {
     "name": "stdout",
     "output_type": "stream",
     "text": [
      "🟡 Analyse en cours : https://www.ukri.org/opportunity/experimental-medicine/\n"
     ]
    },
    {
     "name": "stderr",
     "output_type": "stream",
     "text": [
      "🔍 Analyse des URLs:  50%|█████     | 45/90 [18:12<17:46, 23.69s/it]"
     ]
    },
    {
     "name": "stdout",
     "output_type": "stream",
     "text": [
      "🟡 Analyse en cours : https://www.ukri.org/opportunity/career-development-award/\n"
     ]
    },
    {
     "name": "stderr",
     "output_type": "stream",
     "text": [
      "🔍 Analyse des URLs:  51%|█████     | 46/90 [18:36<17:24, 23.75s/it]"
     ]
    },
    {
     "name": "stdout",
     "output_type": "stream",
     "text": [
      "🟡 Analyse en cours : https://www.ukri.org/opportunity/ukri-policy-fellowships-2025/\n"
     ]
    },
    {
     "name": "stderr",
     "output_type": "stream",
     "text": [
      "🔍 Analyse des URLs:  52%|█████▏    | 47/90 [19:00<17:03, 23.81s/it]"
     ]
    },
    {
     "name": "stdout",
     "output_type": "stream",
     "text": [
      "🟡 Analyse en cours : https://www.ukri.org/opportunity/applied-global-health-research-invited-stage-two/\n"
     ]
    },
    {
     "name": "stderr",
     "output_type": "stream",
     "text": [
      "🔍 Analyse des URLs:  53%|█████▎    | 48/90 [19:24<16:42, 23.88s/it]"
     ]
    },
    {
     "name": "stdout",
     "output_type": "stream",
     "text": [
      "🟡 Analyse en cours : https://www.ukri.org/opportunity/2025-to-2026-strategic-longer-and-larger-slola-grants/\n"
     ]
    },
    {
     "name": "stderr",
     "output_type": "stream",
     "text": [
      "🔍 Analyse des URLs:  54%|█████▍    | 49/90 [19:48<16:18, 23.86s/it]"
     ]
    },
    {
     "name": "stdout",
     "output_type": "stream",
     "text": [
      "🟡 Analyse en cours : https://www.ukri.org/opportunity/applied-global-health-partnership-invited-stage-two/\n"
     ]
    },
    {
     "name": "stderr",
     "output_type": "stream",
     "text": [
      "🔍 Analyse des URLs:  56%|█████▌    | 50/90 [20:12<15:58, 23.95s/it]"
     ]
    },
    {
     "name": "stdout",
     "output_type": "stream",
     "text": [
      "🟡 Analyse en cours : https://www.ukri.org/opportunity/collaborate-with-researchers-in-norway/\n"
     ]
    },
    {
     "name": "stderr",
     "output_type": "stream",
     "text": [
      "🔍 Analyse des URLs:  57%|█████▋    | 51/90 [20:36<15:34, 23.96s/it]"
     ]
    },
    {
     "name": "stdout",
     "output_type": "stream",
     "text": [
      "🟡 Analyse en cours : https://www.ukri.org/opportunity/collaborative-doctoral-landscape-award-in-the-arts-and-humanities/\n"
     ]
    },
    {
     "name": "stderr",
     "output_type": "stream",
     "text": [
      "🔍 Analyse des URLs:  58%|█████▊    | 52/90 [21:00<15:08, 23.92s/it]"
     ]
    },
    {
     "name": "stdout",
     "output_type": "stream",
     "text": [
      "🟡 Analyse en cours : https://www.ukri.org/opportunity/patt-travel-grants-for-competitively-awarded-observation-time-2025/\n"
     ]
    },
    {
     "name": "stderr",
     "output_type": "stream",
     "text": [
      "🔍 Analyse des URLs:  59%|█████▉    | 53/90 [21:24<14:44, 23.90s/it]"
     ]
    },
    {
     "name": "stdout",
     "output_type": "stream",
     "text": [
      "🟡 Analyse en cours : https://www.ukri.org/opportunity/developmental-pathway-funding-scheme/\n"
     ]
    },
    {
     "name": "stderr",
     "output_type": "stream",
     "text": [
      "🔍 Analyse des URLs:  60%|██████    | 54/90 [21:48<14:17, 23.82s/it]"
     ]
    },
    {
     "name": "stdout",
     "output_type": "stream",
     "text": [
      "🟡 Analyse en cours : https://www.ukri.org/opportunity/statements-of-need-in-research-infrastructure/\n"
     ]
    },
    {
     "name": "stderr",
     "output_type": "stream",
     "text": [
      "🔍 Analyse des URLs:  61%|██████    | 55/90 [22:12<13:55, 23.88s/it]"
     ]
    },
    {
     "name": "stdout",
     "output_type": "stream",
     "text": [
      "🟡 Analyse en cours : https://www.ukri.org/opportunity/epsrc-programme-grant-full-proposal/\n"
     ]
    },
    {
     "name": "stderr",
     "output_type": "stream",
     "text": [
      "🔍 Analyse des URLs:  62%|██████▏   | 56/90 [22:35<13:31, 23.86s/it]"
     ]
    },
    {
     "name": "stdout",
     "output_type": "stream",
     "text": [
      "🟡 Analyse en cours : https://www.ukri.org/opportunity/mathematical-sciences-postdoctoral-fellowship/\n"
     ]
    },
    {
     "name": "stderr",
     "output_type": "stream",
     "text": [
      "🔍 Analyse des URLs:  63%|██████▎   | 57/90 [23:00<13:15, 24.12s/it]"
     ]
    },
    {
     "name": "stdout",
     "output_type": "stream",
     "text": [
      "🟡 Analyse en cours : https://www.ukri.org/opportunity/opening-up-the-environment-2026/\n"
     ]
    },
    {
     "name": "stderr",
     "output_type": "stream",
     "text": [
      "🔍 Analyse des URLs:  64%|██████▍   | 58/90 [23:24<12:45, 23.93s/it]"
     ]
    },
    {
     "name": "stdout",
     "output_type": "stream",
     "text": [
      "🟡 Analyse en cours : https://www.ukri.org/opportunity/small-molecule-high-throughput-screen-using-astrazeneca-facilities/\n"
     ]
    },
    {
     "name": "stderr",
     "output_type": "stream",
     "text": [
      "🔍 Analyse des URLs:  66%|██████▌   | 59/90 [23:48<12:23, 23.99s/it]"
     ]
    },
    {
     "name": "stdout",
     "output_type": "stream",
     "text": [
      "🟡 Analyse en cours : https://www.ukri.org/opportunity/ahrc-responsive-mode-curiosity-award/\n"
     ]
    },
    {
     "name": "stderr",
     "output_type": "stream",
     "text": [
      "🔍 Analyse des URLs:  67%|██████▋   | 60/90 [24:11<11:56, 23.87s/it]"
     ]
    },
    {
     "name": "stdout",
     "output_type": "stream",
     "text": [
      "🟡 Analyse en cours : https://www.ukri.org/opportunity/ahrc-responsive-mode-catalyst-awards/\n"
     ]
    },
    {
     "name": "stderr",
     "output_type": "stream",
     "text": [
      "🔍 Analyse des URLs:  68%|██████▊   | 61/90 [24:35<11:29, 23.79s/it]"
     ]
    },
    {
     "name": "stdout",
     "output_type": "stream",
     "text": [
      "🟡 Analyse en cours : https://www.ukri.org/opportunity/pushing-the-frontiers-of-environmental-research-july-2025/\n"
     ]
    },
    {
     "name": "stderr",
     "output_type": "stream",
     "text": [
      "🔍 Analyse des URLs:  69%|██████▉   | 62/90 [24:58<11:03, 23.71s/it]"
     ]
    },
    {
     "name": "stdout",
     "output_type": "stream",
     "text": [
      "🟡 Analyse en cours : https://www.ukri.org/opportunity/mathematical-sciences-open-and-open-plus-fellowship/\n"
     ]
    },
    {
     "name": "stderr",
     "output_type": "stream",
     "text": [
      "🔍 Analyse des URLs:  70%|███████   | 63/90 [25:24<10:52, 24.18s/it]"
     ]
    },
    {
     "name": "stdout",
     "output_type": "stream",
     "text": [
      "🟡 Analyse en cours : https://www.ukri.org/opportunity/ahrc-responsive-mode-ukri-nsf-sbe-lead-agency/\n"
     ]
    },
    {
     "name": "stderr",
     "output_type": "stream",
     "text": [
      "🔍 Analyse des URLs:  71%|███████   | 64/90 [25:48<10:30, 24.25s/it]"
     ]
    },
    {
     "name": "stdout",
     "output_type": "stream",
     "text": [
      "🟡 Analyse en cours : https://www.ukri.org/opportunity/ahrc-responsive-mode-working-with-brazilian-researchers/\n"
     ]
    },
    {
     "name": "stderr",
     "output_type": "stream",
     "text": [
      "🔍 Analyse des URLs:  72%|███████▏  | 65/90 [26:12<10:02, 24.10s/it]"
     ]
    },
    {
     "name": "stdout",
     "output_type": "stream",
     "text": [
      "🟡 Analyse en cours : https://www.ukri.org/opportunity/ahrc-responsive-mode-collaborate-with-researchers-in-luxembourg/\n"
     ]
    },
    {
     "name": "stderr",
     "output_type": "stream",
     "text": [
      "🔍 Analyse des URLs:  73%|███████▎  | 66/90 [26:36<09:35, 23.97s/it]"
     ]
    },
    {
     "name": "stdout",
     "output_type": "stream",
     "text": [
      "🟡 Analyse en cours : https://www.ukri.org/opportunity/ahrc-responsive-mode-standard-research-grant/\n"
     ]
    },
    {
     "name": "stderr",
     "output_type": "stream",
     "text": [
      "🔍 Analyse des URLs:  74%|███████▍  | 67/90 [26:59<09:08, 23.87s/it]"
     ]
    },
    {
     "name": "stdout",
     "output_type": "stream",
     "text": [
      "🟡 Analyse en cours : https://www.ukri.org/opportunity/epsrc-programme-grant-outline-stage/\n"
     ]
    },
    {
     "name": "stderr",
     "output_type": "stream",
     "text": [
      "🔍 Analyse des URLs:  76%|███████▌  | 68/90 [27:23<08:44, 23.86s/it]"
     ]
    },
    {
     "name": "stdout",
     "output_type": "stream",
     "text": [
      "🟡 Analyse en cours : https://www.ukri.org/opportunity/bbsrc-international-travel-award-scheme/\n"
     ]
    },
    {
     "name": "stderr",
     "output_type": "stream",
     "text": [
      "🔍 Analyse des URLs:  77%|███████▋  | 69/90 [27:47<08:24, 24.01s/it]"
     ]
    },
    {
     "name": "stdout",
     "output_type": "stream",
     "text": [
      "🟡 Analyse en cours : https://www.ukri.org/opportunity/projects-peer-review-panel-pprp-2025/\n"
     ]
    },
    {
     "name": "stderr",
     "output_type": "stream",
     "text": [
      "🔍 Analyse des URLs:  78%|███████▊  | 70/90 [28:12<08:01, 24.07s/it]"
     ]
    },
    {
     "name": "stdout",
     "output_type": "stream",
     "text": [
      "🟡 Analyse en cours : https://www.ukri.org/opportunity/nerc-urgency-funding-open/\n"
     ]
    },
    {
     "name": "stderr",
     "output_type": "stream",
     "text": [
      "🔍 Analyse des URLs:  79%|███████▉  | 71/90 [28:35<07:35, 23.99s/it]"
     ]
    },
    {
     "name": "stdout",
     "output_type": "stream",
     "text": [
      "🟡 Analyse en cours : https://www.ukri.org/opportunity/strategic-infrastructure-outlines/\n"
     ]
    },
    {
     "name": "stderr",
     "output_type": "stream",
     "text": [
      "🔍 Analyse des URLs:  80%|████████  | 72/90 [28:59<07:09, 23.84s/it]"
     ]
    },
    {
     "name": "stdout",
     "output_type": "stream",
     "text": [
      "🟡 Analyse en cours : https://www.ukri.org/opportunity/epsrc-network-grant-nov-2023-responsive-mode/\n"
     ]
    },
    {
     "name": "stderr",
     "output_type": "stream",
     "text": [
      "🔍 Analyse des URLs:  81%|████████  | 73/90 [29:23<06:46, 23.92s/it]"
     ]
    },
    {
     "name": "stdout",
     "output_type": "stream",
     "text": [
      "🟡 Analyse en cours : https://www.ukri.org/opportunity/epsrc-working-with-overseas-scientists-nov-2023-responsive-mode/\n"
     ]
    },
    {
     "name": "stderr",
     "output_type": "stream",
     "text": [
      "🔍 Analyse des URLs:  82%|████████▏ | 74/90 [29:47<06:21, 23.83s/it]"
     ]
    },
    {
     "name": "stdout",
     "output_type": "stream",
     "text": [
      "🟡 Analyse en cours : https://www.ukri.org/opportunity/epsrc-new-investigator-award-nov-2023-responsive-mode/\n"
     ]
    },
    {
     "name": "stderr",
     "output_type": "stream",
     "text": [
      "🔍 Analyse des URLs:  83%|████████▎ | 75/90 [30:10<05:56, 23.75s/it]"
     ]
    },
    {
     "name": "stdout",
     "output_type": "stream",
     "text": [
      "🟡 Analyse en cours : https://www.ukri.org/opportunity/epsrc-discipline-hopping-in-ict-nov-2023-responsive-mode/\n"
     ]
    },
    {
     "name": "stderr",
     "output_type": "stream",
     "text": [
      "🔍 Analyse des URLs:  84%|████████▍ | 76/90 [30:34<05:32, 23.75s/it]"
     ]
    },
    {
     "name": "stdout",
     "output_type": "stream",
     "text": [
      "🟡 Analyse en cours : https://www.ukri.org/opportunity/epsrc-overseas-travel-grant-nov-2023-responsive-mode/\n"
     ]
    },
    {
     "name": "stderr",
     "output_type": "stream",
     "text": [
      "🔍 Analyse des URLs:  86%|████████▌ | 77/90 [30:58<05:09, 23.78s/it]"
     ]
    },
    {
     "name": "stdout",
     "output_type": "stream",
     "text": [
      "🟡 Analyse en cours : https://www.ukri.org/opportunity/epsrc-standard-research-grant-nov-2023-responsive-mode/\n"
     ]
    },
    {
     "name": "stderr",
     "output_type": "stream",
     "text": [
      "🔍 Analyse des URLs:  87%|████████▋ | 78/90 [31:22<04:46, 23.89s/it]"
     ]
    },
    {
     "name": "stdout",
     "output_type": "stream",
     "text": [
      "🟡 Analyse en cours : https://www.ukri.org/opportunity/esrc-responsive-mode-research-grants-round-two/\n"
     ]
    },
    {
     "name": "stderr",
     "output_type": "stream",
     "text": [
      "🔍 Analyse des URLs:  88%|████████▊ | 79/90 [31:46<04:23, 23.94s/it]"
     ]
    },
    {
     "name": "stdout",
     "output_type": "stream",
     "text": [
      "🟡 Analyse en cours : https://www.ukri.org/opportunity/esrc-responsive-mode-new-investigator-grants-round-two/\n"
     ]
    },
    {
     "name": "stderr",
     "output_type": "stream",
     "text": [
      "🔍 Analyse des URLs:  89%|████████▉ | 80/90 [32:10<03:59, 23.91s/it]"
     ]
    },
    {
     "name": "stdout",
     "output_type": "stream",
     "text": [
      "🟡 Analyse en cours : https://www.ukri.org/opportunity/esrc-responsive-mode-working-with-luxembourg-researchers-round-two/\n"
     ]
    },
    {
     "name": "stderr",
     "output_type": "stream",
     "text": [
      "🔍 Analyse des URLs:  90%|█████████ | 81/90 [32:33<03:34, 23.79s/it]"
     ]
    },
    {
     "name": "stdout",
     "output_type": "stream",
     "text": [
      "🟡 Analyse en cours : https://www.ukri.org/opportunity/esrc-responsive-mode-secondary-data-analysis-round-two/\n"
     ]
    },
    {
     "name": "stderr",
     "output_type": "stream",
     "text": [
      "🔍 Analyse des URLs:  91%|█████████ | 82/90 [32:57<03:10, 23.78s/it]"
     ]
    },
    {
     "name": "stdout",
     "output_type": "stream",
     "text": [
      "🟡 Analyse en cours : https://www.ukri.org/opportunity/esrc-responsive-mode-ukri-sbe-lead-agency-opportunity-round-two/\n"
     ]
    },
    {
     "name": "stderr",
     "output_type": "stream",
     "text": [
      "🔍 Analyse des URLs:  92%|█████████▏| 83/90 [33:21<02:46, 23.72s/it]"
     ]
    },
    {
     "name": "stdout",
     "output_type": "stream",
     "text": [
      "🟡 Analyse en cours : https://www.ukri.org/opportunity/esrc-responsive-mode-working-with-brazilian-researchers-round-two/\n"
     ]
    },
    {
     "name": "stderr",
     "output_type": "stream",
     "text": [
      "🔍 Analyse des URLs:  93%|█████████▎| 84/90 [33:45<02:22, 23.76s/it]"
     ]
    },
    {
     "name": "stdout",
     "output_type": "stream",
     "text": [
      "🟡 Analyse en cours : https://www.ukri.org/opportunity/collaborate-with-researchers-in-luxembourg/\n"
     ]
    },
    {
     "name": "stderr",
     "output_type": "stream",
     "text": [
      "🔍 Analyse des URLs:  94%|█████████▍| 85/90 [34:09<01:59, 23.84s/it]"
     ]
    },
    {
     "name": "stdout",
     "output_type": "stream",
     "text": [
      "🟡 Analyse en cours : https://www.ukri.org/opportunity/work-with-brazilian-researchers-nerc-fapesp-lead-agency/\n"
     ]
    },
    {
     "name": "stderr",
     "output_type": "stream",
     "text": [
      "🔍 Analyse des URLs:  96%|█████████▌| 86/90 [34:32<01:35, 23.82s/it]"
     ]
    },
    {
     "name": "stdout",
     "output_type": "stream",
     "text": [
      "🟡 Analyse en cours : https://www.ukri.org/opportunity/collaborate-with-researchers-in-brazil/\n"
     ]
    },
    {
     "name": "stderr",
     "output_type": "stream",
     "text": [
      "🔍 Analyse des URLs:  97%|█████████▋| 87/90 [34:56<01:11, 23.80s/it]"
     ]
    },
    {
     "name": "stdout",
     "output_type": "stream",
     "text": [
      "🟡 Analyse en cours : https://www.ukri.org/opportunity/ukri-sbe-lead-agency-opportunity/\n"
     ]
    },
    {
     "name": "stderr",
     "output_type": "stream",
     "text": [
      "🔍 Analyse des URLs:  98%|█████████▊| 88/90 [35:20<00:47, 23.88s/it]"
     ]
    },
    {
     "name": "stdout",
     "output_type": "stream",
     "text": [
      "🟡 Analyse en cours : https://www.ukri.org/opportunity/research-england-development-fund/\n"
     ]
    },
    {
     "name": "stderr",
     "output_type": "stream",
     "text": [
      "🔍 Analyse des URLs:  99%|█████████▉| 89/90 [35:44<00:23, 23.99s/it]"
     ]
    },
    {
     "name": "stdout",
     "output_type": "stream",
     "text": [
      "🟡 Analyse en cours : https://www.ukri.org/opportunity/daphne-jackson-fellowship/\n"
     ]
    },
    {
     "name": "stderr",
     "output_type": "stream",
     "text": [
      "🔍 Analyse des URLs: 100%|██████████| 90/90 [36:08<00:00, 24.09s/it]\n"
     ]
    },
    {
     "name": "stdout",
     "output_type": "stream",
     "text": [
      "\n",
      "✅ Résultats sauvegardés dans 'df_yes_avec_pertinence_et_resume_uk.csv'.\n"
     ]
    }
   ],
   "source": [
    "from selenium import webdriver\n",
    "from selenium.webdriver.chrome.options import Options\n",
    "from selenium.webdriver.common.by import By\n",
    "import time\n",
    "import pandas as pd\n",
    "from groq import Groq\n",
    "import re\n",
    "from tqdm import tqdm\n",
    "\n",
    "# === CONFIGURATION GROQ ===\n",
    "import os\n",
    "from dotenv import load_dotenv\n",
    "\n",
    "# Load environment variables\n",
    "load_dotenv()\n",
    "\n",
    "client = Groq(api_key=os.getenv('GROQ_API_KEY'))\n",
    "MODEL_NAME = \"llama3-70b-8192\"\n",
    "\n",
    "# === CONFIGURATION SELENIUM HEADLESS ===\n",
    "options = Options()\n",
    "options.add_argument(\"--headless\")\n",
    "options.add_argument(\"--disable-gpu\")\n",
    "options.add_argument(\"--window-size=1920,1080\")\n",
    "driver = webdriver.Chrome(options=options)\n",
    "\n",
    "# === Nettoyage & Limitation texte ===\n",
    "def clean_and_limit_text(text, max_words=800):\n",
    "    text = re.sub(r'\\s+', ' ', text).strip()\n",
    "    words = text.split()\n",
    "    if len(words) > max_words:\n",
    "        return ' '.join(words[:max_words]) + \" [...] (texte tronqué)\"\n",
    "    return text\n",
    "\n",
    "# === Extraction texte depuis une URL ===\n",
    "def extract_text_from_URL(URL):\n",
    "    try:\n",
    "        driver.get(URL)\n",
    "        time.sleep(5)\n",
    "\n",
    "        for _ in range(10):\n",
    "            driver.execute_script(\"window.scrollBy(0, 500);\")\n",
    "            time.sleep(0.3)\n",
    "        time.sleep(3)\n",
    "\n",
    "        js_desc = \"\"\"\n",
    "        let desc = document.querySelector('div.showMore--three-lines');\n",
    "        return desc ? desc.innerText.trim() : '';\n",
    "        \"\"\"\n",
    "        description_text = driver.execute_script(js_desc)\n",
    "\n",
    "        try:\n",
    "            open_all_btn = driver.find_element(By.CLASS_NAME, \"govuk-accordion__open-all\")\n",
    "            open_all_btn.click()\n",
    "            time.sleep(1)\n",
    "        except:\n",
    "            pass\n",
    "\n",
    "        js_accordion = \"\"\"\n",
    "        let acc = document.querySelector('div.govuk-accordion.ukri-accordion');\n",
    "        return acc ? acc.innerText.trim() : '';\n",
    "        \"\"\"\n",
    "        accordion_text = driver.execute_script(js_accordion)\n",
    "\n",
    "        final_text = f\"{description_text}\\n\\n---\\n\\n{accordion_text}\".strip()\n",
    "        return final_text if final_text.strip() else \"Pas de contenu détecté.\"\n",
    "    \n",
    "    except Exception as e:\n",
    "        return f\"Erreur Selenium: {e}\"\n",
    "\n",
    "# === Construction du prompt pour Groq ===\n",
    "def build_prompt(projects, site_text):\n",
    "    projects_text = \"\\n\".join([\n",
    "        f\"{i+1}. {p['Project Name']} : {p['Description']} (axe {p['Axes / Thematic Areas']})\"\n",
    "        for i, p in enumerate(projects)\n",
    "    ])\n",
    "    return f\"\"\"\n",
    "Tu es un expert en analyse de projets d'entreprise.\n",
    "\n",
    "Voici une liste de projets que cette entreprise a déjà réalisés avec leurs descriptions et axes principaux :\n",
    "\n",
    "{projects_text}\n",
    "\n",
    "Voici maintenant le contenu d'un appel à projets extrait d'une page du portail européen :\n",
    "\n",
    "{site_text}\n",
    "\n",
    "Peux-tu me dire si cette opportunité est pertinente par rapport aux projets que l'entreprise a déjà réalisés ?\n",
    "Merci de répondre clairement :\n",
    "- Pertinence : Oui / Non\n",
    "- Projets similaires détectés : [liste]\n",
    "- Résumé rapide expliquant ta réponse.\n",
    "\"\"\"\n",
    "\n",
    "# === Requête Groq ===\n",
    "def query_groq(prompt, model=MODEL_NAME, max_completion_tokens=3000, temperature=1.0, stream=False, delay_between_requests=10):\n",
    "    try:\n",
    "        response = client.chat.completions.create(\n",
    "            model=model,\n",
    "            messages=[\n",
    "                {\"role\": \"system\", \"content\": \"Tu es un expert en comparaison de projets R&D.\"},\n",
    "                {\"role\": \"user\", \"content\": prompt}\n",
    "            ],\n",
    "            temperature=temperature,\n",
    "            max_completion_tokens=max_completion_tokens,\n",
    "            top_p=1,\n",
    "            stream=stream\n",
    "        )\n",
    "        if stream:\n",
    "            result = \"\"\n",
    "            for chunk in response:\n",
    "                delta = chunk.choices[0].delta.content\n",
    "                if delta:\n",
    "                    result += delta\n",
    "            time.sleep(delay_between_requests)\n",
    "            return result.strip()\n",
    "        else:\n",
    "            time.sleep(delay_between_requests)\n",
    "            return response.choices[0].message.content.strip()\n",
    "    except Exception as e:\n",
    "        return f\"Erreur Groq: {e}\"\n",
    "\n",
    "# === Parsing du résultat Groq ===\n",
    "def parse_result(text):\n",
    "    pertinence = \"Non\"\n",
    "    resume = \"\"\n",
    "\n",
    "    try:\n",
    "        match = re.search(r\"(?i)pertinence\\s*[:\\-–]\\s*(oui|non)\", text)\n",
    "        if match:\n",
    "            pertinence = match.group(1).capitalize()\n",
    "\n",
    "        resume_match = re.search(r\"(?i)résumé.*?:\\s*(.+)\", text)\n",
    "        if resume_match:\n",
    "            resume = resume_match.group(1).strip()\n",
    "        else:\n",
    "            resume = \"\\n\".join(text.splitlines()[1:4]).strip()\n",
    "    except:\n",
    "        pass\n",
    "\n",
    "    return pertinence, resume\n",
    "\n",
    "# === Analyse d'une URL ===\n",
    "def analyze_URL(URL, projects_list):\n",
    "    print(f\"🟡 Analyse en cours : {URL}\")\n",
    "    try:\n",
    "        site_text_raw = extract_text_from_URL(URL)\n",
    "        site_text = clean_and_limit_text(site_text_raw, max_words=800)\n",
    "        projects_list_sample = projects_list[:3]  # 3 projets max\n",
    "\n",
    "        prompt = build_prompt(projects_list_sample, site_text)\n",
    "        result_text = query_groq(prompt)\n",
    "        pertinence, resume = parse_result(result_text)\n",
    "        \n",
    "        return {\n",
    "            \"URL\": URL,\n",
    "            \"Pertinence LLM\": pertinence,\n",
    "            \"Résumé LLM\": resume,\n",
    "            \"Réponse brute\": result_text\n",
    "        }\n",
    "    except Exception as e:\n",
    "        return {\n",
    "            \"URL\": URL,\n",
    "            \"Pertinence LLM\": \"Erreur\",\n",
    "            \"Résumé LLM\": f\"Erreur pendant l'analyse : {e}\",\n",
    "            \"Réponse brute\": str(e)\n",
    "        }\n",
    "\n",
    "# === MAIN EXECUTION ===\n",
    "if __name__ == \"__main__\":\n",
    "    try:\n",
    "        df_pertinence_uk = pd.read_excel(\"projets_pertinents_keywords_InnUK_from_all_description.xlsx\")\n",
    "        projects_list = odf_df[['Project Name', 'Description', 'Axes / Thematic Areas']].dropna().to_dict(orient='records')\n",
    "        URL_list = df_pertinence_uk['URL'].dropna().unique()\n",
    "\n",
    "        results = []\n",
    "        for URL in tqdm(URL_list, desc=\"🔍 Analyse des URLs\"):\n",
    "            results.append(analyze_URL(URL, projects_list))\n",
    "\n",
    "        results_df = pd.DataFrame(results)\n",
    "        df_final_llm_uk = df_pertinence_uk.merge(results_df, on=\"URL\", how=\"left\")\n",
    "\n",
    "        df_final_llm_uk.to_excel(\"df_yes_avec_pertinence_et_resume_uk.xlsx\", index=False)\n",
    "        print(\"\\n✅ Résultats sauvegardés dans 'df_yes_avec_pertinence_et_resume_uk.csv'.\")\n",
    "        \n",
    "    finally:\n",
    "        driver.quit()\n"
   ]
  },
  {
   "cell_type": "code",
   "execution_count": null,
   "id": "006418ab",
   "metadata": {},
   "outputs": [
    {
     "name": "stderr",
     "output_type": "stream",
     "text": [
      "🔍 Analyse des URLs:   0%|          | 0/90 [00:00<?, ?it/s]"
     ]
    },
    {
     "name": "stdout",
     "output_type": "stream",
     "text": [
      "🟡 Analyse en cours : https://www.ukri.org/opportunity/smart-data-research-uk-fellowships/\n"
     ]
    },
    {
     "name": "stderr",
     "output_type": "stream",
     "text": [
      "🔍 Analyse des URLs:   1%|          | 1/90 [00:31<47:08, 31.79s/it]"
     ]
    },
    {
     "name": "stdout",
     "output_type": "stream",
     "text": [
      "🟡 Analyse en cours : https://www.ukri.org/opportunity/institutional-diversity-fund-invite-only/\n"
     ]
    },
    {
     "name": "stderr",
     "output_type": "stream",
     "text": [
      "🔍 Analyse des URLs:   2%|▏         | 2/90 [00:56<40:14, 27.44s/it]"
     ]
    },
    {
     "name": "stdout",
     "output_type": "stream",
     "text": [
      "🟡 Analyse en cours : https://www.ukri.org/opportunity/funding-for-early-stage-development-of-new-healthcare-interventions/\n"
     ]
    },
    {
     "name": "stderr",
     "output_type": "stream",
     "text": [
      "🔍 Analyse des URLs:   3%|▎         | 3/90 [01:19<37:18, 25.73s/it]"
     ]
    },
    {
     "name": "stdout",
     "output_type": "stream",
     "text": [
      "🟡 Analyse en cours : https://www.ukri.org/opportunity/digitise-uk-natural-science-collections/\n"
     ]
    },
    {
     "name": "stderr",
     "output_type": "stream",
     "text": [
      "🔍 Analyse des URLs:   4%|▍         | 4/90 [01:44<36:09, 25.22s/it]"
     ]
    },
    {
     "name": "stdout",
     "output_type": "stream",
     "text": [
      "🟡 Analyse en cours : https://www.ukri.org/opportunity/aviations-non-co2-impacts-on-the-climate-programme-coordinator/\n"
     ]
    },
    {
     "name": "stderr",
     "output_type": "stream",
     "text": [
      "🔍 Analyse des URLs:   6%|▌         | 5/90 [02:08<35:06, 24.78s/it]"
     ]
    },
    {
     "name": "stdout",
     "output_type": "stream",
     "text": [
      "🟡 Analyse en cours : https://www.ukri.org/opportunity/research-and-partnership-hubs-for-a-healthy-society/\n"
     ]
    },
    {
     "name": "stderr",
     "output_type": "stream",
     "text": [
      "🔍 Analyse des URLs:   7%|▋         | 6/90 [02:32<34:18, 24.51s/it]"
     ]
    },
    {
     "name": "stdout",
     "output_type": "stream",
     "text": [
      "🟡 Analyse en cours : https://www.ukri.org/opportunity/stfc-leadership-fellowships-in-public-engagement/\n"
     ]
    },
    {
     "name": "stderr",
     "output_type": "stream",
     "text": [
      "🔍 Analyse des URLs:   8%|▊         | 7/90 [02:55<33:27, 24.19s/it]"
     ]
    },
    {
     "name": "stdout",
     "output_type": "stream",
     "text": [
      "🟡 Analyse en cours : https://www.ukri.org/opportunity/computing-resources-on-the-stfc-dirac-hpc-facility-rac18/\n"
     ]
    },
    {
     "name": "stderr",
     "output_type": "stream",
     "text": [
      "🔍 Analyse des URLs:   9%|▉         | 8/90 [03:19<32:48, 24.00s/it]"
     ]
    },
    {
     "name": "stdout",
     "output_type": "stream",
     "text": [
      "🟡 Analyse en cours : https://www.ukri.org/opportunity/experimental-medicine-invited-stage-two-application/\n"
     ]
    },
    {
     "name": "stderr",
     "output_type": "stream",
     "text": [
      "🔍 Analyse des URLs:  10%|█         | 9/90 [03:43<32:16, 23.90s/it]"
     ]
    },
    {
     "name": "stdout",
     "output_type": "stream",
     "text": [
      "🟡 Analyse en cours : https://www.ukri.org/opportunity/us-uk-and-germany-uk-collaborative-research-seed-funding-in-semiconductor-security/\n"
     ]
    },
    {
     "name": "stderr",
     "output_type": "stream",
     "text": [
      "🔍 Analyse des URLs:  11%|█         | 10/90 [04:06<31:47, 23.84s/it]"
     ]
    },
    {
     "name": "stdout",
     "output_type": "stream",
     "text": [
      "🟡 Analyse en cours : https://www.ukri.org/opportunity/biological-influence-on-ocean-carbon-novel-modelling-approaches/\n"
     ]
    },
    {
     "name": "stderr",
     "output_type": "stream",
     "text": [
      "🔍 Analyse des URLs:  12%|█▏        | 11/90 [04:31<31:50, 24.19s/it]"
     ]
    },
    {
     "name": "stdout",
     "output_type": "stream",
     "text": [
      "🟡 Analyse en cours : https://www.ukri.org/opportunity/ukri-gambling-harms-research-coordination-centre-ghrcc/\n"
     ]
    },
    {
     "name": "stderr",
     "output_type": "stream",
     "text": [
      "🔍 Analyse des URLs:  13%|█▎        | 12/90 [04:55<31:20, 24.11s/it]"
     ]
    },
    {
     "name": "stdout",
     "output_type": "stream",
     "text": [
      "🟡 Analyse en cours : https://www.ukri.org/opportunity/gambling-harms-research-and-innovation-partnerships/\n"
     ]
    },
    {
     "name": "stderr",
     "output_type": "stream",
     "text": [
      "🔍 Analyse des URLs:  14%|█▍        | 13/90 [05:20<31:14, 24.34s/it]"
     ]
    },
    {
     "name": "stdout",
     "output_type": "stream",
     "text": [
      "🟡 Analyse en cours : https://www.ukri.org/opportunity/multiple-model-assessment-of-biological-influence-on-ocean-carbon/\n"
     ]
    },
    {
     "name": "stderr",
     "output_type": "stream",
     "text": [
      "🔍 Analyse des URLs:  16%|█▌        | 14/90 [05:46<31:18, 24.72s/it]"
     ]
    },
    {
     "name": "stdout",
     "output_type": "stream",
     "text": [
      "🟡 Analyse en cours : https://www.ukri.org/opportunity/transdisciplinary-research-to-tackle-antimicrobial-resistance-full-application/\n"
     ]
    },
    {
     "name": "stderr",
     "output_type": "stream",
     "text": [
      "🔍 Analyse des URLs:  17%|█▋        | 15/90 [06:10<30:42, 24.57s/it]"
     ]
    },
    {
     "name": "stdout",
     "output_type": "stream",
     "text": [
      "🟡 Analyse en cours : https://www.ukri.org/opportunity/canada-uk-networkplus-in-semiconductor-research/\n"
     ]
    },
    {
     "name": "stderr",
     "output_type": "stream",
     "text": [
      "🔍 Analyse des URLs:  18%|█▊        | 16/90 [06:36<30:42, 24.90s/it]"
     ]
    },
    {
     "name": "stdout",
     "output_type": "stream",
     "text": [
      "🟡 Analyse en cours : https://www.ukri.org/opportunity/uk-international-ocean-drilling-programme-moratorium-awards/\n"
     ]
    },
    {
     "name": "stderr",
     "output_type": "stream",
     "text": [
      "🔍 Analyse des URLs:  19%|█▉        | 17/90 [07:01<30:38, 25.18s/it]"
     ]
    },
    {
     "name": "stdout",
     "output_type": "stream",
     "text": [
      "🟡 Analyse en cours : https://www.ukri.org/opportunity/health-technologies-connectivity-awards-round-two/\n"
     ]
    },
    {
     "name": "stderr",
     "output_type": "stream",
     "text": [
      "🔍 Analyse des URLs:  20%|██        | 18/90 [07:25<29:38, 24.70s/it]"
     ]
    },
    {
     "name": "stdout",
     "output_type": "stream",
     "text": [
      "🟡 Analyse en cours : https://www.ukri.org/opportunity/clinician-scientist-fellowship/\n"
     ]
    },
    {
     "name": "stderr",
     "output_type": "stream",
     "text": [
      "🔍 Analyse des URLs:  21%|██        | 19/90 [07:50<29:11, 24.67s/it]"
     ]
    },
    {
     "name": "stdout",
     "output_type": "stream",
     "text": [
      "🟡 Analyse en cours : https://www.ukri.org/opportunity/pre-doctoral-clinical-research-training-fellowship/\n"
     ]
    },
    {
     "name": "stderr",
     "output_type": "stream",
     "text": [
      "🔍 Analyse des URLs:  22%|██▏       | 20/90 [08:15<28:52, 24.75s/it]"
     ]
    },
    {
     "name": "stdout",
     "output_type": "stream",
     "text": [
      "🟡 Analyse en cours : https://www.ukri.org/opportunity/post-doctoral-clinical-research-training-fellowship/\n"
     ]
    },
    {
     "name": "stderr",
     "output_type": "stream",
     "text": [
      "🔍 Analyse des URLs:  23%|██▎       | 21/90 [08:40<28:45, 25.01s/it]"
     ]
    },
    {
     "name": "stdout",
     "output_type": "stream",
     "text": [
      "🟡 Analyse en cours : https://www.ukri.org/opportunity/engineer-next-generation-veterinary-vaccine-technology-platforms/\n"
     ]
    },
    {
     "name": "stderr",
     "output_type": "stream",
     "text": [
      "🔍 Analyse des URLs:  24%|██▍       | 22/90 [09:05<28:10, 24.86s/it]"
     ]
    },
    {
     "name": "stdout",
     "output_type": "stream",
     "text": [
      "🟡 Analyse en cours : https://www.ukri.org/opportunity/strategic-infrastructure-for-engineering-and-physical-sciences-june-2025/\n"
     ]
    },
    {
     "name": "stderr",
     "output_type": "stream",
     "text": [
      "🔍 Analyse des URLs:  26%|██▌       | 23/90 [09:28<27:24, 24.54s/it]"
     ]
    },
    {
     "name": "stdout",
     "output_type": "stream",
     "text": [
      "🟡 Analyse en cours : https://www.ukri.org/opportunity/ernest-rutherford-fellowship-2025/\n"
     ]
    },
    {
     "name": "stderr",
     "output_type": "stream",
     "text": [
      "🔍 Analyse des URLs:  27%|██▋       | 24/90 [09:52<26:45, 24.32s/it]"
     ]
    },
    {
     "name": "stdout",
     "output_type": "stream",
     "text": [
      "🟡 Analyse en cours : https://www.ukri.org/opportunity/research-to-advance-uk-recycling-capabilities-full-stage/\n"
     ]
    },
    {
     "name": "stderr",
     "output_type": "stream",
     "text": [
      "🔍 Analyse des URLs:  28%|██▊       | 25/90 [10:16<26:10, 24.16s/it]"
     ]
    },
    {
     "name": "stdout",
     "output_type": "stream",
     "text": [
      "🟡 Analyse en cours : https://www.ukri.org/opportunity/sandpit-moving-respiratory-health-diagnosis-into-the-21st-century-invite-only/\n"
     ]
    },
    {
     "name": "stderr",
     "output_type": "stream",
     "text": [
      "🔍 Analyse des URLs:  29%|██▉       | 26/90 [10:39<25:31, 23.93s/it]"
     ]
    },
    {
     "name": "stdout",
     "output_type": "stream",
     "text": [
      "🟡 Analyse en cours : https://www.ukri.org/opportunity/mrc-centre-of-research-excellence-round-three/\n"
     ]
    },
    {
     "name": "stderr",
     "output_type": "stream",
     "text": [
      "🔍 Analyse des URLs:  30%|███       | 27/90 [11:06<26:02, 24.81s/it]"
     ]
    },
    {
     "name": "stdout",
     "output_type": "stream",
     "text": [
      "🟡 Analyse en cours : https://www.ukri.org/opportunity/responsive-mode-partnership/\n"
     ]
    },
    {
     "name": "stderr",
     "output_type": "stream",
     "text": [
      "🔍 Analyse des URLs:  31%|███       | 28/90 [11:30<25:19, 24.51s/it]"
     ]
    },
    {
     "name": "stdout",
     "output_type": "stream",
     "text": [
      "🟡 Analyse en cours : https://www.ukri.org/opportunity/infections-and-immunity-programme/\n"
     ]
    },
    {
     "name": "stderr",
     "output_type": "stream",
     "text": [
      "🔍 Analyse des URLs:  32%|███▏      | 29/90 [11:54<24:37, 24.22s/it]"
     ]
    },
    {
     "name": "stdout",
     "output_type": "stream",
     "text": [
      "🟡 Analyse en cours : https://www.ukri.org/opportunity/neurosciences-and-mental-health-programme/\n"
     ]
    },
    {
     "name": "stderr",
     "output_type": "stream",
     "text": [
      "🔍 Analyse des URLs:  33%|███▎      | 30/90 [12:17<24:04, 24.08s/it]"
     ]
    },
    {
     "name": "stdout",
     "output_type": "stream",
     "text": [
      "🟡 Analyse en cours : https://www.ukri.org/opportunity/population-and-systems-medicine-programme/\n"
     ]
    },
    {
     "name": "stderr",
     "output_type": "stream",
     "text": [
      "🔍 Analyse des URLs:  34%|███▍      | 31/90 [12:41<23:36, 24.01s/it]"
     ]
    },
    {
     "name": "stdout",
     "output_type": "stream",
     "text": [
      "🟡 Analyse en cours : https://www.ukri.org/opportunity/molecular-and-cellular-medicine-programme/\n"
     ]
    },
    {
     "name": "stderr",
     "output_type": "stream",
     "text": [
      "🔍 Analyse des URLs:  36%|███▌      | 32/90 [13:05<23:02, 23.84s/it]"
     ]
    },
    {
     "name": "stdout",
     "output_type": "stream",
     "text": [
      "🟡 Analyse en cours : https://www.ukri.org/opportunity/molecular-and-cellular-medicine-new-investigator/\n"
     ]
    },
    {
     "name": "stderr",
     "output_type": "stream",
     "text": [
      "🔍 Analyse des URLs:  37%|███▋      | 33/90 [13:28<22:36, 23.80s/it]"
     ]
    },
    {
     "name": "stdout",
     "output_type": "stream",
     "text": [
      "🟡 Analyse en cours : https://www.ukri.org/opportunity/neurosciences-and-mental-health-new-investigator/\n"
     ]
    },
    {
     "name": "stderr",
     "output_type": "stream",
     "text": [
      "🔍 Analyse des URLs:  38%|███▊      | 34/90 [13:52<22:11, 23.78s/it]"
     ]
    },
    {
     "name": "stdout",
     "output_type": "stream",
     "text": [
      "🟡 Analyse en cours : https://www.ukri.org/opportunity/infections-and-immunity-new-investigator/\n"
     ]
    },
    {
     "name": "stderr",
     "output_type": "stream",
     "text": [
      "🔍 Analyse des URLs:  39%|███▉      | 35/90 [14:16<21:47, 23.78s/it]"
     ]
    },
    {
     "name": "stdout",
     "output_type": "stream",
     "text": [
      "🟡 Analyse en cours : https://www.ukri.org/opportunity/population-and-systems-medicine-new-investigator/\n"
     ]
    },
    {
     "name": "stderr",
     "output_type": "stream",
     "text": [
      "🔍 Analyse des URLs:  40%|████      | 36/90 [14:39<21:19, 23.69s/it]"
     ]
    },
    {
     "name": "stdout",
     "output_type": "stream",
     "text": [
      "🟡 Analyse en cours : https://www.ukri.org/opportunity/neurosciences-and-mental-health-research/\n"
     ]
    },
    {
     "name": "stderr",
     "output_type": "stream",
     "text": [
      "🔍 Analyse des URLs:  41%|████      | 37/90 [15:03<20:55, 23.68s/it]"
     ]
    },
    {
     "name": "stdout",
     "output_type": "stream",
     "text": [
      "🟡 Analyse en cours : https://www.ukri.org/opportunity/population-and-systems-medicine-research/\n"
     ]
    },
    {
     "name": "stderr",
     "output_type": "stream",
     "text": [
      "🔍 Analyse des URLs:  42%|████▏     | 38/90 [15:27<20:32, 23.71s/it]"
     ]
    },
    {
     "name": "stdout",
     "output_type": "stream",
     "text": [
      "🟡 Analyse en cours : https://www.ukri.org/opportunity/molecular-and-cellular-medicine-research/\n"
     ]
    },
    {
     "name": "stderr",
     "output_type": "stream",
     "text": [
      "🔍 Analyse des URLs:  43%|████▎     | 39/90 [15:50<20:05, 23.64s/it]"
     ]
    },
    {
     "name": "stdout",
     "output_type": "stream",
     "text": [
      "🟡 Analyse en cours : https://www.ukri.org/opportunity/infections-and-immunity-research/\n"
     ]
    },
    {
     "name": "stderr",
     "output_type": "stream",
     "text": [
      "🔍 Analyse des URLs:  44%|████▍     | 40/90 [16:14<19:42, 23.66s/it]"
     ]
    },
    {
     "name": "stdout",
     "output_type": "stream",
     "text": [
      "🟡 Analyse en cours : https://www.ukri.org/opportunity/dare-uk-real-world-research-exemplar-programme/\n"
     ]
    },
    {
     "name": "stderr",
     "output_type": "stream",
     "text": [
      "🔍 Analyse des URLs:  46%|████▌     | 41/90 [16:38<19:19, 23.67s/it]"
     ]
    },
    {
     "name": "stdout",
     "output_type": "stream",
     "text": [
      "🟡 Analyse en cours : https://www.ukri.org/opportunity/bbsrc-new-investigator-award-2025-round-3-applicant-led-mode/\n"
     ]
    },
    {
     "name": "stderr",
     "output_type": "stream",
     "text": [
      "🔍 Analyse des URLs:  47%|████▋     | 42/90 [17:01<18:54, 23.64s/it]"
     ]
    },
    {
     "name": "stdout",
     "output_type": "stream",
     "text": [
      "🟡 Analyse en cours : https://www.ukri.org/opportunity/bbsrc-standard-research-grant-2025-round-3-applicant-led-mode/\n"
     ]
    },
    {
     "name": "stderr",
     "output_type": "stream",
     "text": [
      "🔍 Analyse des URLs:  48%|████▊     | 43/90 [17:25<18:31, 23.64s/it]"
     ]
    },
    {
     "name": "stdout",
     "output_type": "stream",
     "text": [
      "🟡 Analyse en cours : https://www.ukri.org/opportunity/critical-mass-programmes-to-drive-a-sustainable-future-invitation-only/\n"
     ]
    },
    {
     "name": "stderr",
     "output_type": "stream",
     "text": [
      "🔍 Analyse des URLs:  49%|████▉     | 44/90 [17:49<18:09, 23.69s/it]"
     ]
    },
    {
     "name": "stdout",
     "output_type": "stream",
     "text": [
      "🟡 Analyse en cours : https://www.ukri.org/opportunity/experimental-medicine/\n"
     ]
    },
    {
     "name": "stderr",
     "output_type": "stream",
     "text": [
      "🔍 Analyse des URLs:  50%|█████     | 45/90 [18:12<17:46, 23.69s/it]"
     ]
    },
    {
     "name": "stdout",
     "output_type": "stream",
     "text": [
      "🟡 Analyse en cours : https://www.ukri.org/opportunity/career-development-award/\n"
     ]
    },
    {
     "name": "stderr",
     "output_type": "stream",
     "text": [
      "🔍 Analyse des URLs:  51%|█████     | 46/90 [18:36<17:24, 23.75s/it]"
     ]
    },
    {
     "name": "stdout",
     "output_type": "stream",
     "text": [
      "🟡 Analyse en cours : https://www.ukri.org/opportunity/ukri-policy-fellowships-2025/\n"
     ]
    },
    {
     "name": "stderr",
     "output_type": "stream",
     "text": [
      "🔍 Analyse des URLs:  52%|█████▏    | 47/90 [19:00<17:03, 23.81s/it]"
     ]
    },
    {
     "name": "stdout",
     "output_type": "stream",
     "text": [
      "🟡 Analyse en cours : https://www.ukri.org/opportunity/applied-global-health-research-invited-stage-two/\n"
     ]
    },
    {
     "name": "stderr",
     "output_type": "stream",
     "text": [
      "🔍 Analyse des URLs:  53%|█████▎    | 48/90 [19:24<16:42, 23.88s/it]"
     ]
    },
    {
     "name": "stdout",
     "output_type": "stream",
     "text": [
      "🟡 Analyse en cours : https://www.ukri.org/opportunity/2025-to-2026-strategic-longer-and-larger-slola-grants/\n"
     ]
    },
    {
     "name": "stderr",
     "output_type": "stream",
     "text": [
      "🔍 Analyse des URLs:  54%|█████▍    | 49/90 [19:48<16:18, 23.86s/it]"
     ]
    },
    {
     "name": "stdout",
     "output_type": "stream",
     "text": [
      "🟡 Analyse en cours : https://www.ukri.org/opportunity/applied-global-health-partnership-invited-stage-two/\n"
     ]
    },
    {
     "name": "stderr",
     "output_type": "stream",
     "text": [
      "🔍 Analyse des URLs:  56%|█████▌    | 50/90 [20:12<15:58, 23.95s/it]"
     ]
    },
    {
     "name": "stdout",
     "output_type": "stream",
     "text": [
      "🟡 Analyse en cours : https://www.ukri.org/opportunity/collaborate-with-researchers-in-norway/\n"
     ]
    },
    {
     "name": "stderr",
     "output_type": "stream",
     "text": [
      "🔍 Analyse des URLs:  57%|█████▋    | 51/90 [20:36<15:34, 23.96s/it]"
     ]
    },
    {
     "name": "stdout",
     "output_type": "stream",
     "text": [
      "🟡 Analyse en cours : https://www.ukri.org/opportunity/collaborative-doctoral-landscape-award-in-the-arts-and-humanities/\n"
     ]
    },
    {
     "name": "stderr",
     "output_type": "stream",
     "text": [
      "🔍 Analyse des URLs:  58%|█████▊    | 52/90 [21:00<15:08, 23.92s/it]"
     ]
    },
    {
     "name": "stdout",
     "output_type": "stream",
     "text": [
      "🟡 Analyse en cours : https://www.ukri.org/opportunity/patt-travel-grants-for-competitively-awarded-observation-time-2025/\n"
     ]
    },
    {
     "name": "stderr",
     "output_type": "stream",
     "text": [
      "🔍 Analyse des URLs:  59%|█████▉    | 53/90 [21:24<14:44, 23.90s/it]"
     ]
    },
    {
     "name": "stdout",
     "output_type": "stream",
     "text": [
      "🟡 Analyse en cours : https://www.ukri.org/opportunity/developmental-pathway-funding-scheme/\n"
     ]
    },
    {
     "name": "stderr",
     "output_type": "stream",
     "text": [
      "🔍 Analyse des URLs:  60%|██████    | 54/90 [21:48<14:17, 23.82s/it]"
     ]
    },
    {
     "name": "stdout",
     "output_type": "stream",
     "text": [
      "🟡 Analyse en cours : https://www.ukri.org/opportunity/statements-of-need-in-research-infrastructure/\n"
     ]
    },
    {
     "name": "stderr",
     "output_type": "stream",
     "text": [
      "🔍 Analyse des URLs:  61%|██████    | 55/90 [22:12<13:55, 23.88s/it]"
     ]
    },
    {
     "name": "stdout",
     "output_type": "stream",
     "text": [
      "🟡 Analyse en cours : https://www.ukri.org/opportunity/epsrc-programme-grant-full-proposal/\n"
     ]
    },
    {
     "name": "stderr",
     "output_type": "stream",
     "text": [
      "🔍 Analyse des URLs:  62%|██████▏   | 56/90 [22:35<13:31, 23.86s/it]"
     ]
    },
    {
     "name": "stdout",
     "output_type": "stream",
     "text": [
      "🟡 Analyse en cours : https://www.ukri.org/opportunity/mathematical-sciences-postdoctoral-fellowship/\n"
     ]
    },
    {
     "name": "stderr",
     "output_type": "stream",
     "text": [
      "🔍 Analyse des URLs:  63%|██████▎   | 57/90 [23:00<13:15, 24.12s/it]"
     ]
    },
    {
     "name": "stdout",
     "output_type": "stream",
     "text": [
      "🟡 Analyse en cours : https://www.ukri.org/opportunity/opening-up-the-environment-2026/\n"
     ]
    },
    {
     "name": "stderr",
     "output_type": "stream",
     "text": [
      "🔍 Analyse des URLs:  64%|██████▍   | 58/90 [23:24<12:45, 23.93s/it]"
     ]
    },
    {
     "name": "stdout",
     "output_type": "stream",
     "text": [
      "🟡 Analyse en cours : https://www.ukri.org/opportunity/small-molecule-high-throughput-screen-using-astrazeneca-facilities/\n"
     ]
    },
    {
     "name": "stderr",
     "output_type": "stream",
     "text": [
      "🔍 Analyse des URLs:  66%|██████▌   | 59/90 [23:48<12:23, 23.99s/it]"
     ]
    },
    {
     "name": "stdout",
     "output_type": "stream",
     "text": [
      "🟡 Analyse en cours : https://www.ukri.org/opportunity/ahrc-responsive-mode-curiosity-award/\n"
     ]
    },
    {
     "name": "stderr",
     "output_type": "stream",
     "text": [
      "🔍 Analyse des URLs:  67%|██████▋   | 60/90 [24:11<11:56, 23.87s/it]"
     ]
    },
    {
     "name": "stdout",
     "output_type": "stream",
     "text": [
      "🟡 Analyse en cours : https://www.ukri.org/opportunity/ahrc-responsive-mode-catalyst-awards/\n"
     ]
    },
    {
     "name": "stderr",
     "output_type": "stream",
     "text": [
      "🔍 Analyse des URLs:  68%|██████▊   | 61/90 [24:35<11:29, 23.79s/it]"
     ]
    },
    {
     "name": "stdout",
     "output_type": "stream",
     "text": [
      "🟡 Analyse en cours : https://www.ukri.org/opportunity/pushing-the-frontiers-of-environmental-research-july-2025/\n"
     ]
    },
    {
     "name": "stderr",
     "output_type": "stream",
     "text": [
      "🔍 Analyse des URLs:  69%|██████▉   | 62/90 [24:58<11:03, 23.71s/it]"
     ]
    },
    {
     "name": "stdout",
     "output_type": "stream",
     "text": [
      "🟡 Analyse en cours : https://www.ukri.org/opportunity/mathematical-sciences-open-and-open-plus-fellowship/\n"
     ]
    },
    {
     "name": "stderr",
     "output_type": "stream",
     "text": [
      "🔍 Analyse des URLs:  70%|███████   | 63/90 [25:24<10:52, 24.18s/it]"
     ]
    },
    {
     "name": "stdout",
     "output_type": "stream",
     "text": [
      "🟡 Analyse en cours : https://www.ukri.org/opportunity/ahrc-responsive-mode-ukri-nsf-sbe-lead-agency/\n"
     ]
    },
    {
     "name": "stderr",
     "output_type": "stream",
     "text": [
      "🔍 Analyse des URLs:  71%|███████   | 64/90 [25:48<10:30, 24.25s/it]"
     ]
    },
    {
     "name": "stdout",
     "output_type": "stream",
     "text": [
      "🟡 Analyse en cours : https://www.ukri.org/opportunity/ahrc-responsive-mode-working-with-brazilian-researchers/\n"
     ]
    },
    {
     "name": "stderr",
     "output_type": "stream",
     "text": [
      "🔍 Analyse des URLs:  72%|███████▏  | 65/90 [26:12<10:02, 24.10s/it]"
     ]
    },
    {
     "name": "stdout",
     "output_type": "stream",
     "text": [
      "🟡 Analyse en cours : https://www.ukri.org/opportunity/ahrc-responsive-mode-collaborate-with-researchers-in-luxembourg/\n"
     ]
    },
    {
     "name": "stderr",
     "output_type": "stream",
     "text": [
      "🔍 Analyse des URLs:  73%|███████▎  | 66/90 [26:36<09:35, 23.97s/it]"
     ]
    },
    {
     "name": "stdout",
     "output_type": "stream",
     "text": [
      "🟡 Analyse en cours : https://www.ukri.org/opportunity/ahrc-responsive-mode-standard-research-grant/\n"
     ]
    },
    {
     "name": "stderr",
     "output_type": "stream",
     "text": [
      "🔍 Analyse des URLs:  74%|███████▍  | 67/90 [26:59<09:08, 23.87s/it]"
     ]
    },
    {
     "name": "stdout",
     "output_type": "stream",
     "text": [
      "🟡 Analyse en cours : https://www.ukri.org/opportunity/epsrc-programme-grant-outline-stage/\n"
     ]
    },
    {
     "name": "stderr",
     "output_type": "stream",
     "text": [
      "🔍 Analyse des URLs:  76%|███████▌  | 68/90 [27:23<08:44, 23.86s/it]"
     ]
    },
    {
     "name": "stdout",
     "output_type": "stream",
     "text": [
      "🟡 Analyse en cours : https://www.ukri.org/opportunity/bbsrc-international-travel-award-scheme/\n"
     ]
    },
    {
     "name": "stderr",
     "output_type": "stream",
     "text": [
      "🔍 Analyse des URLs:  77%|███████▋  | 69/90 [27:47<08:24, 24.01s/it]"
     ]
    },
    {
     "name": "stdout",
     "output_type": "stream",
     "text": [
      "🟡 Analyse en cours : https://www.ukri.org/opportunity/projects-peer-review-panel-pprp-2025/\n"
     ]
    },
    {
     "name": "stderr",
     "output_type": "stream",
     "text": [
      "🔍 Analyse des URLs:  78%|███████▊  | 70/90 [28:12<08:01, 24.07s/it]"
     ]
    },
    {
     "name": "stdout",
     "output_type": "stream",
     "text": [
      "🟡 Analyse en cours : https://www.ukri.org/opportunity/nerc-urgency-funding-open/\n"
     ]
    },
    {
     "name": "stderr",
     "output_type": "stream",
     "text": [
      "🔍 Analyse des URLs:  79%|███████▉  | 71/90 [28:35<07:35, 23.99s/it]"
     ]
    },
    {
     "name": "stdout",
     "output_type": "stream",
     "text": [
      "🟡 Analyse en cours : https://www.ukri.org/opportunity/strategic-infrastructure-outlines/\n"
     ]
    },
    {
     "name": "stderr",
     "output_type": "stream",
     "text": [
      "🔍 Analyse des URLs:  80%|████████  | 72/90 [28:59<07:09, 23.84s/it]"
     ]
    },
    {
     "name": "stdout",
     "output_type": "stream",
     "text": [
      "🟡 Analyse en cours : https://www.ukri.org/opportunity/epsrc-network-grant-nov-2023-responsive-mode/\n"
     ]
    },
    {
     "name": "stderr",
     "output_type": "stream",
     "text": [
      "🔍 Analyse des URLs:  81%|████████  | 73/90 [29:23<06:46, 23.92s/it]"
     ]
    },
    {
     "name": "stdout",
     "output_type": "stream",
     "text": [
      "🟡 Analyse en cours : https://www.ukri.org/opportunity/epsrc-working-with-overseas-scientists-nov-2023-responsive-mode/\n"
     ]
    },
    {
     "name": "stderr",
     "output_type": "stream",
     "text": [
      "🔍 Analyse des URLs:  82%|████████▏ | 74/90 [29:47<06:21, 23.83s/it]"
     ]
    },
    {
     "name": "stdout",
     "output_type": "stream",
     "text": [
      "🟡 Analyse en cours : https://www.ukri.org/opportunity/epsrc-new-investigator-award-nov-2023-responsive-mode/\n"
     ]
    },
    {
     "name": "stderr",
     "output_type": "stream",
     "text": [
      "🔍 Analyse des URLs:  83%|████████▎ | 75/90 [30:10<05:56, 23.75s/it]"
     ]
    },
    {
     "name": "stdout",
     "output_type": "stream",
     "text": [
      "🟡 Analyse en cours : https://www.ukri.org/opportunity/epsrc-discipline-hopping-in-ict-nov-2023-responsive-mode/\n"
     ]
    },
    {
     "name": "stderr",
     "output_type": "stream",
     "text": [
      "🔍 Analyse des URLs:  84%|████████▍ | 76/90 [30:34<05:32, 23.75s/it]"
     ]
    },
    {
     "name": "stdout",
     "output_type": "stream",
     "text": [
      "🟡 Analyse en cours : https://www.ukri.org/opportunity/epsrc-overseas-travel-grant-nov-2023-responsive-mode/\n"
     ]
    },
    {
     "name": "stderr",
     "output_type": "stream",
     "text": [
      "🔍 Analyse des URLs:  86%|████████▌ | 77/90 [30:58<05:09, 23.78s/it]"
     ]
    },
    {
     "name": "stdout",
     "output_type": "stream",
     "text": [
      "🟡 Analyse en cours : https://www.ukri.org/opportunity/epsrc-standard-research-grant-nov-2023-responsive-mode/\n"
     ]
    },
    {
     "name": "stderr",
     "output_type": "stream",
     "text": [
      "🔍 Analyse des URLs:  87%|████████▋ | 78/90 [31:22<04:46, 23.89s/it]"
     ]
    },
    {
     "name": "stdout",
     "output_type": "stream",
     "text": [
      "🟡 Analyse en cours : https://www.ukri.org/opportunity/esrc-responsive-mode-research-grants-round-two/\n"
     ]
    },
    {
     "name": "stderr",
     "output_type": "stream",
     "text": [
      "🔍 Analyse des URLs:  88%|████████▊ | 79/90 [31:46<04:23, 23.94s/it]"
     ]
    },
    {
     "name": "stdout",
     "output_type": "stream",
     "text": [
      "🟡 Analyse en cours : https://www.ukri.org/opportunity/esrc-responsive-mode-new-investigator-grants-round-two/\n"
     ]
    },
    {
     "name": "stderr",
     "output_type": "stream",
     "text": [
      "🔍 Analyse des URLs:  89%|████████▉ | 80/90 [32:10<03:59, 23.91s/it]"
     ]
    },
    {
     "name": "stdout",
     "output_type": "stream",
     "text": [
      "🟡 Analyse en cours : https://www.ukri.org/opportunity/esrc-responsive-mode-working-with-luxembourg-researchers-round-two/\n"
     ]
    },
    {
     "name": "stderr",
     "output_type": "stream",
     "text": [
      "🔍 Analyse des URLs:  90%|█████████ | 81/90 [32:33<03:34, 23.79s/it]"
     ]
    },
    {
     "name": "stdout",
     "output_type": "stream",
     "text": [
      "🟡 Analyse en cours : https://www.ukri.org/opportunity/esrc-responsive-mode-secondary-data-analysis-round-two/\n"
     ]
    },
    {
     "name": "stderr",
     "output_type": "stream",
     "text": [
      "🔍 Analyse des URLs:  91%|█████████ | 82/90 [32:57<03:10, 23.78s/it]"
     ]
    },
    {
     "name": "stdout",
     "output_type": "stream",
     "text": [
      "🟡 Analyse en cours : https://www.ukri.org/opportunity/esrc-responsive-mode-ukri-sbe-lead-agency-opportunity-round-two/\n"
     ]
    },
    {
     "name": "stderr",
     "output_type": "stream",
     "text": [
      "🔍 Analyse des URLs:  92%|█████████▏| 83/90 [33:21<02:46, 23.72s/it]"
     ]
    },
    {
     "name": "stdout",
     "output_type": "stream",
     "text": [
      "🟡 Analyse en cours : https://www.ukri.org/opportunity/esrc-responsive-mode-working-with-brazilian-researchers-round-two/\n"
     ]
    },
    {
     "name": "stderr",
     "output_type": "stream",
     "text": [
      "🔍 Analyse des URLs:  93%|█████████▎| 84/90 [33:45<02:22, 23.76s/it]"
     ]
    },
    {
     "name": "stdout",
     "output_type": "stream",
     "text": [
      "🟡 Analyse en cours : https://www.ukri.org/opportunity/collaborate-with-researchers-in-luxembourg/\n"
     ]
    },
    {
     "name": "stderr",
     "output_type": "stream",
     "text": [
      "🔍 Analyse des URLs:  94%|█████████▍| 85/90 [34:09<01:59, 23.84s/it]"
     ]
    },
    {
     "name": "stdout",
     "output_type": "stream",
     "text": [
      "🟡 Analyse en cours : https://www.ukri.org/opportunity/work-with-brazilian-researchers-nerc-fapesp-lead-agency/\n"
     ]
    },
    {
     "name": "stderr",
     "output_type": "stream",
     "text": [
      "🔍 Analyse des URLs:  96%|█████████▌| 86/90 [34:32<01:35, 23.82s/it]"
     ]
    },
    {
     "name": "stdout",
     "output_type": "stream",
     "text": [
      "🟡 Analyse en cours : https://www.ukri.org/opportunity/collaborate-with-researchers-in-brazil/\n"
     ]
    },
    {
     "name": "stderr",
     "output_type": "stream",
     "text": [
      "🔍 Analyse des URLs:  97%|█████████▋| 87/90 [34:56<01:11, 23.80s/it]"
     ]
    },
    {
     "name": "stdout",
     "output_type": "stream",
     "text": [
      "🟡 Analyse en cours : https://www.ukri.org/opportunity/ukri-sbe-lead-agency-opportunity/\n"
     ]
    },
    {
     "name": "stderr",
     "output_type": "stream",
     "text": [
      "🔍 Analyse des URLs:  98%|█████████▊| 88/90 [35:20<00:47, 23.88s/it]"
     ]
    },
    {
     "name": "stdout",
     "output_type": "stream",
     "text": [
      "🟡 Analyse en cours : https://www.ukri.org/opportunity/research-england-development-fund/\n"
     ]
    },
    {
     "name": "stderr",
     "output_type": "stream",
     "text": [
      "🔍 Analyse des URLs:  99%|█████████▉| 89/90 [35:44<00:23, 23.99s/it]"
     ]
    },
    {
     "name": "stdout",
     "output_type": "stream",
     "text": [
      "🟡 Analyse en cours : https://www.ukri.org/opportunity/daphne-jackson-fellowship/\n"
     ]
    },
    {
     "name": "stderr",
     "output_type": "stream",
     "text": [
      "🔍 Analyse des URLs: 100%|██████████| 90/90 [36:08<00:00, 24.09s/it]\n"
     ]
    },
    {
     "name": "stdout",
     "output_type": "stream",
     "text": [
      "\n",
      "✅ Résultats sauvegardés dans 'df_yes_avec_pertinence_et_resume_uk.csv'.\n"
     ]
    }
   ],
   "source": [
    "from selenium import webdriver\n",
    "from selenium.webdriver.chrome.options import Options\n",
    "from selenium.webdriver.common.by import By\n",
    "import time\n",
    "import pandas as pd\n",
    "from groq import Groq\n",
    "import re\n",
    "from tqdm import tqdm\n",
    "\n",
    "# === CONFIGURATION GROQ ===\n",
    "import os\n",
    "from dotenv import load_dotenv\n",
    "\n",
    "# Load environment variables\n",
    "load_dotenv()\n",
    "\n",
    "client = Groq(api_key=os.getenv('GROQ_API_KEY'))\n",
    "MODEL_NAME = \"llama3-70b-8192\"\n",
    "\n",
    "# === CONFIGURATION SELENIUM HEADLESS ===\n",
    "options = Options()\n",
    "options.add_argument(\"--headless\")\n",
    "options.add_argument(\"--disable-gpu\")\n",
    "options.add_argument(\"--window-size=1920,1080\")\n",
    "driver = webdriver.Chrome(options=options)\n",
    "\n",
    "# === Nettoyage & Limitation texte ===\n",
    "def clean_and_limit_text(text, max_words=800):\n",
    "    text = re.sub(r'\\s+', ' ', text).strip()\n",
    "    words = text.split()\n",
    "    if len(words) > max_words:\n",
    "        return ' '.join(words[:max_words]) + \" [...] (texte tronqué)\"\n",
    "    return text\n",
    "\n",
    "# === Extraction texte depuis une URL ===\n",
    "def extract_text_from_URL(URL):\n",
    "    try:\n",
    "        driver.get(URL)\n",
    "        time.sleep(5)\n",
    "\n",
    "        for _ in range(10):\n",
    "            driver.execute_script(\"window.scrollBy(0, 500);\")\n",
    "            time.sleep(0.3)\n",
    "        time.sleep(3)\n",
    "\n",
    "        js_desc = \"\"\"\n",
    "        let desc = document.querySelector('div.showMore--three-lines');\n",
    "        return desc ? desc.innerText.trim() : '';\n",
    "        \"\"\"\n",
    "        description_text = driver.execute_script(js_desc)\n",
    "\n",
    "        try:\n",
    "            open_all_btn = driver.find_element(By.CLASS_NAME, \"govuk-accordion__open-all\")\n",
    "            open_all_btn.click()\n",
    "            time.sleep(1)\n",
    "        except:\n",
    "            pass\n",
    "\n",
    "        js_accordion = \"\"\"\n",
    "        let acc = document.querySelector('div.govuk-accordion.ukri-accordion');\n",
    "        return acc ? acc.innerText.trim() : '';\n",
    "        \"\"\"\n",
    "        accordion_text = driver.execute_script(js_accordion)\n",
    "\n",
    "        final_text = f\"{description_text}\\n\\n---\\n\\n{accordion_text}\".strip()\n",
    "        return final_text if final_text.strip() else \"Pas de contenu détecté.\"\n",
    "    \n",
    "    except Exception as e:\n",
    "        return f\"Erreur Selenium: {e}\"\n",
    "\n",
    "# === Construction du prompt pour Groq ===\n",
    "def build_prompt(projects, site_text):\n",
    "    projects_text = \"\\n\".join([\n",
    "        f\"{i+1}. {p['Project Name']} : {p['Description']} (axe {p['Axes / Thematic Areas']})\"\n",
    "        for i, p in enumerate(projects)\n",
    "    ])\n",
    "    return f\"\"\"\n",
    "Tu es un expert en analyse de projets d'entreprise.\n",
    "\n",
    "Voici une liste de projets que cette entreprise a déjà réalisés avec leurs descriptions et axes principaux :\n",
    "\n",
    "{projects_text}\n",
    "\n",
    "Voici maintenant le contenu d'un appel à projets extrait d'une page du portail européen :\n",
    "\n",
    "{site_text}\n",
    "\n",
    "Peux-tu me dire si cette opportunité est pertinente par rapport aux projets que l'entreprise a déjà réalisés ?\n",
    "Merci de répondre clairement :\n",
    "- Pertinence : Oui / Non\n",
    "- Projets similaires détectés : [liste]\n",
    "- Résumé rapide expliquant ta réponse.\n",
    "\"\"\"\n",
    "\n",
    "# === Requête Groq ===\n",
    "def query_groq(prompt, model=MODEL_NAME, max_completion_tokens=3000, temperature=1.0, stream=False, delay_between_requests=10):\n",
    "    try:\n",
    "        response = client.chat.completions.create(\n",
    "            model=model,\n",
    "            messages=[\n",
    "                {\"role\": \"system\", \"content\": \"Tu es un expert en comparaison de projets R&D.\"},\n",
    "                {\"role\": \"user\", \"content\": prompt}\n",
    "            ],\n",
    "            temperature=temperature,\n",
    "            max_completion_tokens=max_completion_tokens,\n",
    "            top_p=1,\n",
    "            stream=stream\n",
    "        )\n",
    "        if stream:\n",
    "            result = \"\"\n",
    "            for chunk in response:\n",
    "                delta = chunk.choices[0].delta.content\n",
    "                if delta:\n",
    "                    result += delta\n",
    "            time.sleep(delay_between_requests)\n",
    "            return result.strip()\n",
    "        else:\n",
    "            time.sleep(delay_between_requests)\n",
    "            return response.choices[0].message.content.strip()\n",
    "    except Exception as e:\n",
    "        return f\"Erreur Groq: {e}\"\n",
    "\n",
    "# === Parsing du résultat Groq ===\n",
    "def parse_result(text):\n",
    "    pertinence = \"Non\"\n",
    "    resume = \"\"\n",
    "\n",
    "    try:\n",
    "        match = re.search(r\"(?i)pertinence\\s*[:\\-–]\\s*(oui|non)\", text)\n",
    "        if match:\n",
    "            pertinence = match.group(1).capitalize()\n",
    "\n",
    "        resume_match = re.search(r\"(?i)résumé.*?:\\s*(.+)\", text)\n",
    "        if resume_match:\n",
    "            resume = resume_match.group(1).strip()\n",
    "        else:\n",
    "            resume = \"\\n\".join(text.splitlines()[1:4]).strip()\n",
    "    except:\n",
    "        pass\n",
    "\n",
    "    return pertinence, resume\n",
    "\n",
    "# === Analyse d'une URL ===\n",
    "def analyze_URL(URL, projects_list):\n",
    "    print(f\"🟡 Analyse en cours : {URL}\")\n",
    "    try:\n",
    "        site_text_raw = extract_text_from_URL(URL)\n",
    "        site_text = clean_and_limit_text(site_text_raw, max_words=800)\n",
    "        projects_list_sample = projects_list[:3]  # 3 projets max\n",
    "\n",
    "        prompt = build_prompt(projects_list_sample, site_text)\n",
    "        result_text = query_groq(prompt)\n",
    "        pertinence, resume = parse_result(result_text)\n",
    "        \n",
    "        return {\n",
    "            \"URL\": URL,\n",
    "            \"Pertinence LLM\": pertinence,\n",
    "            \"Résumé LLM\": resume,\n",
    "            \"Réponse brute\": result_text\n",
    "        }\n",
    "    except Exception as e:\n",
    "        return {\n",
    "            \"URL\": URL,\n",
    "            \"Pertinence LLM\": \"Erreur\",\n",
    "            \"Résumé LLM\": f\"Erreur pendant l'analyse : {e}\",\n",
    "            \"Réponse brute\": str(e)\n",
    "        }\n",
    "\n",
    "# === MAIN EXECUTION ===\n",
    "if __name__ == \"__main__\":\n",
    "    try:\n",
    "        df_pertinence_uk = pd.read_excel(\"projets_pertinents_keywords_InnUK_from_all_description.xlsx\")\n",
    "        projects_list = odf_df[['Project Name', 'Description', 'Axes / Thematic Areas']].dropna().to_dict(orient='records')\n",
    "        URL_list = df_pertinence_uk['URL'].dropna().unique()\n",
    "\n",
    "        results = []\n",
    "        for URL in tqdm(URL_list, desc=\"🔍 Analyse des URLs\"):\n",
    "            results.append(analyze_URL(URL, projects_list))\n",
    "\n",
    "        results_df = pd.DataFrame(results)\n",
    "        df_final_llm_uk = df_pertinence_uk.merge(results_df, on=\"URL\", how=\"left\")\n",
    "\n",
    "        df_final_llm_uk.to_excel(\"df_yes_avec_pertinence_et_resume_uk.xlsx\", index=False)\n",
    "        print(\"\\n✅ Résultats sauvegardés dans 'df_yes_avec_pertinence_et_resume_uk.csv'.\")\n",
    "        \n",
    "    finally:\n",
    "        driver.quit()\n"
   ]
  },
  {
   "cell_type": "code",
   "execution_count": null,
   "id": "80e2aee4",
   "metadata": {},
   "outputs": [
    {
     "name": "stderr",
     "output_type": "stream",
     "text": [
      "🔍 Analyse des URLs:   0%|          | 0/90 [00:00<?, ?it/s]"
     ]
    },
    {
     "name": "stdout",
     "output_type": "stream",
     "text": [
      "🟡 Analyse en cours : https://www.ukri.org/opportunity/smart-data-research-uk-fellowships/\n"
     ]
    },
    {
     "name": "stderr",
     "output_type": "stream",
     "text": [
      "🔍 Analyse des URLs:   1%|          | 1/90 [00:31<47:08, 31.79s/it]"
     ]
    },
    {
     "name": "stdout",
     "output_type": "stream",
     "text": [
      "🟡 Analyse en cours : https://www.ukri.org/opportunity/institutional-diversity-fund-invite-only/\n"
     ]
    },
    {
     "name": "stderr",
     "output_type": "stream",
     "text": [
      "🔍 Analyse des URLs:   2%|▏         | 2/90 [00:56<40:14, 27.44s/it]"
     ]
    },
    {
     "name": "stdout",
     "output_type": "stream",
     "text": [
      "🟡 Analyse en cours : https://www.ukri.org/opportunity/funding-for-early-stage-development-of-new-healthcare-interventions/\n"
     ]
    },
    {
     "name": "stderr",
     "output_type": "stream",
     "text": [
      "🔍 Analyse des URLs:   3%|▎         | 3/90 [01:19<37:18, 25.73s/it]"
     ]
    },
    {
     "name": "stdout",
     "output_type": "stream",
     "text": [
      "🟡 Analyse en cours : https://www.ukri.org/opportunity/digitise-uk-natural-science-collections/\n"
     ]
    },
    {
     "name": "stderr",
     "output_type": "stream",
     "text": [
      "🔍 Analyse des URLs:   4%|▍         | 4/90 [01:44<36:09, 25.22s/it]"
     ]
    },
    {
     "name": "stdout",
     "output_type": "stream",
     "text": [
      "🟡 Analyse en cours : https://www.ukri.org/opportunity/aviations-non-co2-impacts-on-the-climate-programme-coordinator/\n"
     ]
    },
    {
     "name": "stderr",
     "output_type": "stream",
     "text": [
      "🔍 Analyse des URLs:   6%|▌         | 5/90 [02:08<35:06, 24.78s/it]"
     ]
    },
    {
     "name": "stdout",
     "output_type": "stream",
     "text": [
      "🟡 Analyse en cours : https://www.ukri.org/opportunity/research-and-partnership-hubs-for-a-healthy-society/\n"
     ]
    },
    {
     "name": "stderr",
     "output_type": "stream",
     "text": [
      "🔍 Analyse des URLs:   7%|▋         | 6/90 [02:32<34:18, 24.51s/it]"
     ]
    },
    {
     "name": "stdout",
     "output_type": "stream",
     "text": [
      "🟡 Analyse en cours : https://www.ukri.org/opportunity/stfc-leadership-fellowships-in-public-engagement/\n"
     ]
    },
    {
     "name": "stderr",
     "output_type": "stream",
     "text": [
      "🔍 Analyse des URLs:   8%|▊         | 7/90 [02:55<33:27, 24.19s/it]"
     ]
    },
    {
     "name": "stdout",
     "output_type": "stream",
     "text": [
      "🟡 Analyse en cours : https://www.ukri.org/opportunity/computing-resources-on-the-stfc-dirac-hpc-facility-rac18/\n"
     ]
    },
    {
     "name": "stderr",
     "output_type": "stream",
     "text": [
      "🔍 Analyse des URLs:   9%|▉         | 8/90 [03:19<32:48, 24.00s/it]"
     ]
    },
    {
     "name": "stdout",
     "output_type": "stream",
     "text": [
      "🟡 Analyse en cours : https://www.ukri.org/opportunity/experimental-medicine-invited-stage-two-application/\n"
     ]
    },
    {
     "name": "stderr",
     "output_type": "stream",
     "text": [
      "🔍 Analyse des URLs:  10%|█         | 9/90 [03:43<32:16, 23.90s/it]"
     ]
    },
    {
     "name": "stdout",
     "output_type": "stream",
     "text": [
      "🟡 Analyse en cours : https://www.ukri.org/opportunity/us-uk-and-germany-uk-collaborative-research-seed-funding-in-semiconductor-security/\n"
     ]
    },
    {
     "name": "stderr",
     "output_type": "stream",
     "text": [
      "🔍 Analyse des URLs:  11%|█         | 10/90 [04:06<31:47, 23.84s/it]"
     ]
    },
    {
     "name": "stdout",
     "output_type": "stream",
     "text": [
      "🟡 Analyse en cours : https://www.ukri.org/opportunity/biological-influence-on-ocean-carbon-novel-modelling-approaches/\n"
     ]
    },
    {
     "name": "stderr",
     "output_type": "stream",
     "text": [
      "🔍 Analyse des URLs:  12%|█▏        | 11/90 [04:31<31:50, 24.19s/it]"
     ]
    },
    {
     "name": "stdout",
     "output_type": "stream",
     "text": [
      "🟡 Analyse en cours : https://www.ukri.org/opportunity/ukri-gambling-harms-research-coordination-centre-ghrcc/\n"
     ]
    },
    {
     "name": "stderr",
     "output_type": "stream",
     "text": [
      "🔍 Analyse des URLs:  13%|█▎        | 12/90 [04:55<31:20, 24.11s/it]"
     ]
    },
    {
     "name": "stdout",
     "output_type": "stream",
     "text": [
      "🟡 Analyse en cours : https://www.ukri.org/opportunity/gambling-harms-research-and-innovation-partnerships/\n"
     ]
    },
    {
     "name": "stderr",
     "output_type": "stream",
     "text": [
      "🔍 Analyse des URLs:  14%|█▍        | 13/90 [05:20<31:14, 24.34s/it]"
     ]
    },
    {
     "name": "stdout",
     "output_type": "stream",
     "text": [
      "🟡 Analyse en cours : https://www.ukri.org/opportunity/multiple-model-assessment-of-biological-influence-on-ocean-carbon/\n"
     ]
    },
    {
     "name": "stderr",
     "output_type": "stream",
     "text": [
      "🔍 Analyse des URLs:  16%|█▌        | 14/90 [05:46<31:18, 24.72s/it]"
     ]
    },
    {
     "name": "stdout",
     "output_type": "stream",
     "text": [
      "🟡 Analyse en cours : https://www.ukri.org/opportunity/transdisciplinary-research-to-tackle-antimicrobial-resistance-full-application/\n"
     ]
    },
    {
     "name": "stderr",
     "output_type": "stream",
     "text": [
      "🔍 Analyse des URLs:  17%|█▋        | 15/90 [06:10<30:42, 24.57s/it]"
     ]
    },
    {
     "name": "stdout",
     "output_type": "stream",
     "text": [
      "🟡 Analyse en cours : https://www.ukri.org/opportunity/canada-uk-networkplus-in-semiconductor-research/\n"
     ]
    },
    {
     "name": "stderr",
     "output_type": "stream",
     "text": [
      "🔍 Analyse des URLs:  18%|█▊        | 16/90 [06:36<30:42, 24.90s/it]"
     ]
    },
    {
     "name": "stdout",
     "output_type": "stream",
     "text": [
      "🟡 Analyse en cours : https://www.ukri.org/opportunity/uk-international-ocean-drilling-programme-moratorium-awards/\n"
     ]
    },
    {
     "name": "stderr",
     "output_type": "stream",
     "text": [
      "🔍 Analyse des URLs:  19%|█▉        | 17/90 [07:01<30:38, 25.18s/it]"
     ]
    },
    {
     "name": "stdout",
     "output_type": "stream",
     "text": [
      "🟡 Analyse en cours : https://www.ukri.org/opportunity/health-technologies-connectivity-awards-round-two/\n"
     ]
    },
    {
     "name": "stderr",
     "output_type": "stream",
     "text": [
      "🔍 Analyse des URLs:  20%|██        | 18/90 [07:25<29:38, 24.70s/it]"
     ]
    },
    {
     "name": "stdout",
     "output_type": "stream",
     "text": [
      "🟡 Analyse en cours : https://www.ukri.org/opportunity/clinician-scientist-fellowship/\n"
     ]
    },
    {
     "name": "stderr",
     "output_type": "stream",
     "text": [
      "🔍 Analyse des URLs:  21%|██        | 19/90 [07:50<29:11, 24.67s/it]"
     ]
    },
    {
     "name": "stdout",
     "output_type": "stream",
     "text": [
      "🟡 Analyse en cours : https://www.ukri.org/opportunity/pre-doctoral-clinical-research-training-fellowship/\n"
     ]
    },
    {
     "name": "stderr",
     "output_type": "stream",
     "text": [
      "🔍 Analyse des URLs:  22%|██▏       | 20/90 [08:15<28:52, 24.75s/it]"
     ]
    },
    {
     "name": "stdout",
     "output_type": "stream",
     "text": [
      "🟡 Analyse en cours : https://www.ukri.org/opportunity/post-doctoral-clinical-research-training-fellowship/\n"
     ]
    },
    {
     "name": "stderr",
     "output_type": "stream",
     "text": [
      "🔍 Analyse des URLs:  23%|██▎       | 21/90 [08:40<28:45, 25.01s/it]"
     ]
    },
    {
     "name": "stdout",
     "output_type": "stream",
     "text": [
      "🟡 Analyse en cours : https://www.ukri.org/opportunity/engineer-next-generation-veterinary-vaccine-technology-platforms/\n"
     ]
    },
    {
     "name": "stderr",
     "output_type": "stream",
     "text": [
      "🔍 Analyse des URLs:  24%|██▍       | 22/90 [09:05<28:10, 24.86s/it]"
     ]
    },
    {
     "name": "stdout",
     "output_type": "stream",
     "text": [
      "🟡 Analyse en cours : https://www.ukri.org/opportunity/strategic-infrastructure-for-engineering-and-physical-sciences-june-2025/\n"
     ]
    },
    {
     "name": "stderr",
     "output_type": "stream",
     "text": [
      "🔍 Analyse des URLs:  26%|██▌       | 23/90 [09:28<27:24, 24.54s/it]"
     ]
    },
    {
     "name": "stdout",
     "output_type": "stream",
     "text": [
      "🟡 Analyse en cours : https://www.ukri.org/opportunity/ernest-rutherford-fellowship-2025/\n"
     ]
    },
    {
     "name": "stderr",
     "output_type": "stream",
     "text": [
      "🔍 Analyse des URLs:  27%|██▋       | 24/90 [09:52<26:45, 24.32s/it]"
     ]
    },
    {
     "name": "stdout",
     "output_type": "stream",
     "text": [
      "🟡 Analyse en cours : https://www.ukri.org/opportunity/research-to-advance-uk-recycling-capabilities-full-stage/\n"
     ]
    },
    {
     "name": "stderr",
     "output_type": "stream",
     "text": [
      "🔍 Analyse des URLs:  28%|██▊       | 25/90 [10:16<26:10, 24.16s/it]"
     ]
    },
    {
     "name": "stdout",
     "output_type": "stream",
     "text": [
      "🟡 Analyse en cours : https://www.ukri.org/opportunity/sandpit-moving-respiratory-health-diagnosis-into-the-21st-century-invite-only/\n"
     ]
    },
    {
     "name": "stderr",
     "output_type": "stream",
     "text": [
      "🔍 Analyse des URLs:  29%|██▉       | 26/90 [10:39<25:31, 23.93s/it]"
     ]
    },
    {
     "name": "stdout",
     "output_type": "stream",
     "text": [
      "🟡 Analyse en cours : https://www.ukri.org/opportunity/mrc-centre-of-research-excellence-round-three/\n"
     ]
    },
    {
     "name": "stderr",
     "output_type": "stream",
     "text": [
      "🔍 Analyse des URLs:  30%|███       | 27/90 [11:06<26:02, 24.81s/it]"
     ]
    },
    {
     "name": "stdout",
     "output_type": "stream",
     "text": [
      "🟡 Analyse en cours : https://www.ukri.org/opportunity/responsive-mode-partnership/\n"
     ]
    },
    {
     "name": "stderr",
     "output_type": "stream",
     "text": [
      "🔍 Analyse des URLs:  31%|███       | 28/90 [11:30<25:19, 24.51s/it]"
     ]
    },
    {
     "name": "stdout",
     "output_type": "stream",
     "text": [
      "🟡 Analyse en cours : https://www.ukri.org/opportunity/infections-and-immunity-programme/\n"
     ]
    },
    {
     "name": "stderr",
     "output_type": "stream",
     "text": [
      "🔍 Analyse des URLs:  32%|███▏      | 29/90 [11:54<24:37, 24.22s/it]"
     ]
    },
    {
     "name": "stdout",
     "output_type": "stream",
     "text": [
      "🟡 Analyse en cours : https://www.ukri.org/opportunity/neurosciences-and-mental-health-programme/\n"
     ]
    },
    {
     "name": "stderr",
     "output_type": "stream",
     "text": [
      "🔍 Analyse des URLs:  33%|███▎      | 30/90 [12:17<24:04, 24.08s/it]"
     ]
    },
    {
     "name": "stdout",
     "output_type": "stream",
     "text": [
      "🟡 Analyse en cours : https://www.ukri.org/opportunity/population-and-systems-medicine-programme/\n"
     ]
    },
    {
     "name": "stderr",
     "output_type": "stream",
     "text": [
      "🔍 Analyse des URLs:  34%|███▍      | 31/90 [12:41<23:36, 24.01s/it]"
     ]
    },
    {
     "name": "stdout",
     "output_type": "stream",
     "text": [
      "🟡 Analyse en cours : https://www.ukri.org/opportunity/molecular-and-cellular-medicine-programme/\n"
     ]
    },
    {
     "name": "stderr",
     "output_type": "stream",
     "text": [
      "🔍 Analyse des URLs:  36%|███▌      | 32/90 [13:05<23:02, 23.84s/it]"
     ]
    },
    {
     "name": "stdout",
     "output_type": "stream",
     "text": [
      "🟡 Analyse en cours : https://www.ukri.org/opportunity/molecular-and-cellular-medicine-new-investigator/\n"
     ]
    },
    {
     "name": "stderr",
     "output_type": "stream",
     "text": [
      "🔍 Analyse des URLs:  37%|███▋      | 33/90 [13:28<22:36, 23.80s/it]"
     ]
    },
    {
     "name": "stdout",
     "output_type": "stream",
     "text": [
      "🟡 Analyse en cours : https://www.ukri.org/opportunity/neurosciences-and-mental-health-new-investigator/\n"
     ]
    },
    {
     "name": "stderr",
     "output_type": "stream",
     "text": [
      "🔍 Analyse des URLs:  38%|███▊      | 34/90 [13:52<22:11, 23.78s/it]"
     ]
    },
    {
     "name": "stdout",
     "output_type": "stream",
     "text": [
      "🟡 Analyse en cours : https://www.ukri.org/opportunity/infections-and-immunity-new-investigator/\n"
     ]
    },
    {
     "name": "stderr",
     "output_type": "stream",
     "text": [
      "🔍 Analyse des URLs:  39%|███▉      | 35/90 [14:16<21:47, 23.78s/it]"
     ]
    },
    {
     "name": "stdout",
     "output_type": "stream",
     "text": [
      "🟡 Analyse en cours : https://www.ukri.org/opportunity/population-and-systems-medicine-new-investigator/\n"
     ]
    },
    {
     "name": "stderr",
     "output_type": "stream",
     "text": [
      "🔍 Analyse des URLs:  40%|████      | 36/90 [14:39<21:19, 23.69s/it]"
     ]
    },
    {
     "name": "stdout",
     "output_type": "stream",
     "text": [
      "🟡 Analyse en cours : https://www.ukri.org/opportunity/neurosciences-and-mental-health-research/\n"
     ]
    },
    {
     "name": "stderr",
     "output_type": "stream",
     "text": [
      "🔍 Analyse des URLs:  41%|████      | 37/90 [15:03<20:55, 23.68s/it]"
     ]
    },
    {
     "name": "stdout",
     "output_type": "stream",
     "text": [
      "🟡 Analyse en cours : https://www.ukri.org/opportunity/population-and-systems-medicine-research/\n"
     ]
    },
    {
     "name": "stderr",
     "output_type": "stream",
     "text": [
      "🔍 Analyse des URLs:  42%|████▏     | 38/90 [15:27<20:32, 23.71s/it]"
     ]
    },
    {
     "name": "stdout",
     "output_type": "stream",
     "text": [
      "🟡 Analyse en cours : https://www.ukri.org/opportunity/molecular-and-cellular-medicine-research/\n"
     ]
    },
    {
     "name": "stderr",
     "output_type": "stream",
     "text": [
      "🔍 Analyse des URLs:  43%|████▎     | 39/90 [15:50<20:05, 23.64s/it]"
     ]
    },
    {
     "name": "stdout",
     "output_type": "stream",
     "text": [
      "🟡 Analyse en cours : https://www.ukri.org/opportunity/infections-and-immunity-research/\n"
     ]
    },
    {
     "name": "stderr",
     "output_type": "stream",
     "text": [
      "🔍 Analyse des URLs:  44%|████▍     | 40/90 [16:14<19:42, 23.66s/it]"
     ]
    },
    {
     "name": "stdout",
     "output_type": "stream",
     "text": [
      "🟡 Analyse en cours : https://www.ukri.org/opportunity/dare-uk-real-world-research-exemplar-programme/\n"
     ]
    },
    {
     "name": "stderr",
     "output_type": "stream",
     "text": [
      "🔍 Analyse des URLs:  46%|████▌     | 41/90 [16:38<19:19, 23.67s/it]"
     ]
    },
    {
     "name": "stdout",
     "output_type": "stream",
     "text": [
      "🟡 Analyse en cours : https://www.ukri.org/opportunity/bbsrc-new-investigator-award-2025-round-3-applicant-led-mode/\n"
     ]
    },
    {
     "name": "stderr",
     "output_type": "stream",
     "text": [
      "🔍 Analyse des URLs:  47%|████▋     | 42/90 [17:01<18:54, 23.64s/it]"
     ]
    },
    {
     "name": "stdout",
     "output_type": "stream",
     "text": [
      "🟡 Analyse en cours : https://www.ukri.org/opportunity/bbsrc-standard-research-grant-2025-round-3-applicant-led-mode/\n"
     ]
    },
    {
     "name": "stderr",
     "output_type": "stream",
     "text": [
      "🔍 Analyse des URLs:  48%|████▊     | 43/90 [17:25<18:31, 23.64s/it]"
     ]
    },
    {
     "name": "stdout",
     "output_type": "stream",
     "text": [
      "🟡 Analyse en cours : https://www.ukri.org/opportunity/critical-mass-programmes-to-drive-a-sustainable-future-invitation-only/\n"
     ]
    },
    {
     "name": "stderr",
     "output_type": "stream",
     "text": [
      "🔍 Analyse des URLs:  49%|████▉     | 44/90 [17:49<18:09, 23.69s/it]"
     ]
    },
    {
     "name": "stdout",
     "output_type": "stream",
     "text": [
      "🟡 Analyse en cours : https://www.ukri.org/opportunity/experimental-medicine/\n"
     ]
    },
    {
     "name": "stderr",
     "output_type": "stream",
     "text": [
      "🔍 Analyse des URLs:  50%|█████     | 45/90 [18:12<17:46, 23.69s/it]"
     ]
    },
    {
     "name": "stdout",
     "output_type": "stream",
     "text": [
      "🟡 Analyse en cours : https://www.ukri.org/opportunity/career-development-award/\n"
     ]
    },
    {
     "name": "stderr",
     "output_type": "stream",
     "text": [
      "🔍 Analyse des URLs:  51%|█████     | 46/90 [18:36<17:24, 23.75s/it]"
     ]
    },
    {
     "name": "stdout",
     "output_type": "stream",
     "text": [
      "🟡 Analyse en cours : https://www.ukri.org/opportunity/ukri-policy-fellowships-2025/\n"
     ]
    },
    {
     "name": "stderr",
     "output_type": "stream",
     "text": [
      "🔍 Analyse des URLs:  52%|█████▏    | 47/90 [19:00<17:03, 23.81s/it]"
     ]
    },
    {
     "name": "stdout",
     "output_type": "stream",
     "text": [
      "🟡 Analyse en cours : https://www.ukri.org/opportunity/applied-global-health-research-invited-stage-two/\n"
     ]
    },
    {
     "name": "stderr",
     "output_type": "stream",
     "text": [
      "🔍 Analyse des URLs:  53%|█████▎    | 48/90 [19:24<16:42, 23.88s/it]"
     ]
    },
    {
     "name": "stdout",
     "output_type": "stream",
     "text": [
      "🟡 Analyse en cours : https://www.ukri.org/opportunity/2025-to-2026-strategic-longer-and-larger-slola-grants/\n"
     ]
    },
    {
     "name": "stderr",
     "output_type": "stream",
     "text": [
      "🔍 Analyse des URLs:  54%|█████▍    | 49/90 [19:48<16:18, 23.86s/it]"
     ]
    },
    {
     "name": "stdout",
     "output_type": "stream",
     "text": [
      "🟡 Analyse en cours : https://www.ukri.org/opportunity/applied-global-health-partnership-invited-stage-two/\n"
     ]
    },
    {
     "name": "stderr",
     "output_type": "stream",
     "text": [
      "🔍 Analyse des URLs:  56%|█████▌    | 50/90 [20:12<15:58, 23.95s/it]"
     ]
    },
    {
     "name": "stdout",
     "output_type": "stream",
     "text": [
      "🟡 Analyse en cours : https://www.ukri.org/opportunity/collaborate-with-researchers-in-norway/\n"
     ]
    },
    {
     "name": "stderr",
     "output_type": "stream",
     "text": [
      "🔍 Analyse des URLs:  57%|█████▋    | 51/90 [20:36<15:34, 23.96s/it]"
     ]
    },
    {
     "name": "stdout",
     "output_type": "stream",
     "text": [
      "🟡 Analyse en cours : https://www.ukri.org/opportunity/collaborative-doctoral-landscape-award-in-the-arts-and-humanities/\n"
     ]
    },
    {
     "name": "stderr",
     "output_type": "stream",
     "text": [
      "🔍 Analyse des URLs:  58%|█████▊    | 52/90 [21:00<15:08, 23.92s/it]"
     ]
    },
    {
     "name": "stdout",
     "output_type": "stream",
     "text": [
      "🟡 Analyse en cours : https://www.ukri.org/opportunity/patt-travel-grants-for-competitively-awarded-observation-time-2025/\n"
     ]
    },
    {
     "name": "stderr",
     "output_type": "stream",
     "text": [
      "🔍 Analyse des URLs:  59%|█████▉    | 53/90 [21:24<14:44, 23.90s/it]"
     ]
    },
    {
     "name": "stdout",
     "output_type": "stream",
     "text": [
      "🟡 Analyse en cours : https://www.ukri.org/opportunity/developmental-pathway-funding-scheme/\n"
     ]
    },
    {
     "name": "stderr",
     "output_type": "stream",
     "text": [
      "🔍 Analyse des URLs:  60%|██████    | 54/90 [21:48<14:17, 23.82s/it]"
     ]
    },
    {
     "name": "stdout",
     "output_type": "stream",
     "text": [
      "🟡 Analyse en cours : https://www.ukri.org/opportunity/statements-of-need-in-research-infrastructure/\n"
     ]
    },
    {
     "name": "stderr",
     "output_type": "stream",
     "text": [
      "🔍 Analyse des URLs:  61%|██████    | 55/90 [22:12<13:55, 23.88s/it]"
     ]
    },
    {
     "name": "stdout",
     "output_type": "stream",
     "text": [
      "🟡 Analyse en cours : https://www.ukri.org/opportunity/epsrc-programme-grant-full-proposal/\n"
     ]
    },
    {
     "name": "stderr",
     "output_type": "stream",
     "text": [
      "🔍 Analyse des URLs:  62%|██████▏   | 56/90 [22:35<13:31, 23.86s/it]"
     ]
    },
    {
     "name": "stdout",
     "output_type": "stream",
     "text": [
      "🟡 Analyse en cours : https://www.ukri.org/opportunity/mathematical-sciences-postdoctoral-fellowship/\n"
     ]
    },
    {
     "name": "stderr",
     "output_type": "stream",
     "text": [
      "🔍 Analyse des URLs:  63%|██████▎   | 57/90 [23:00<13:15, 24.12s/it]"
     ]
    },
    {
     "name": "stdout",
     "output_type": "stream",
     "text": [
      "🟡 Analyse en cours : https://www.ukri.org/opportunity/opening-up-the-environment-2026/\n"
     ]
    },
    {
     "name": "stderr",
     "output_type": "stream",
     "text": [
      "🔍 Analyse des URLs:  64%|██████▍   | 58/90 [23:24<12:45, 23.93s/it]"
     ]
    },
    {
     "name": "stdout",
     "output_type": "stream",
     "text": [
      "🟡 Analyse en cours : https://www.ukri.org/opportunity/small-molecule-high-throughput-screen-using-astrazeneca-facilities/\n"
     ]
    },
    {
     "name": "stderr",
     "output_type": "stream",
     "text": [
      "🔍 Analyse des URLs:  66%|██████▌   | 59/90 [23:48<12:23, 23.99s/it]"
     ]
    },
    {
     "name": "stdout",
     "output_type": "stream",
     "text": [
      "🟡 Analyse en cours : https://www.ukri.org/opportunity/ahrc-responsive-mode-curiosity-award/\n"
     ]
    },
    {
     "name": "stderr",
     "output_type": "stream",
     "text": [
      "🔍 Analyse des URLs:  67%|██████▋   | 60/90 [24:11<11:56, 23.87s/it]"
     ]
    },
    {
     "name": "stdout",
     "output_type": "stream",
     "text": [
      "🟡 Analyse en cours : https://www.ukri.org/opportunity/ahrc-responsive-mode-catalyst-awards/\n"
     ]
    },
    {
     "name": "stderr",
     "output_type": "stream",
     "text": [
      "🔍 Analyse des URLs:  68%|██████▊   | 61/90 [24:35<11:29, 23.79s/it]"
     ]
    },
    {
     "name": "stdout",
     "output_type": "stream",
     "text": [
      "🟡 Analyse en cours : https://www.ukri.org/opportunity/pushing-the-frontiers-of-environmental-research-july-2025/\n"
     ]
    },
    {
     "name": "stderr",
     "output_type": "stream",
     "text": [
      "🔍 Analyse des URLs:  69%|██████▉   | 62/90 [24:58<11:03, 23.71s/it]"
     ]
    },
    {
     "name": "stdout",
     "output_type": "stream",
     "text": [
      "🟡 Analyse en cours : https://www.ukri.org/opportunity/mathematical-sciences-open-and-open-plus-fellowship/\n"
     ]
    },
    {
     "name": "stderr",
     "output_type": "stream",
     "text": [
      "🔍 Analyse des URLs:  70%|███████   | 63/90 [25:24<10:52, 24.18s/it]"
     ]
    },
    {
     "name": "stdout",
     "output_type": "stream",
     "text": [
      "🟡 Analyse en cours : https://www.ukri.org/opportunity/ahrc-responsive-mode-ukri-nsf-sbe-lead-agency/\n"
     ]
    },
    {
     "name": "stderr",
     "output_type": "stream",
     "text": [
      "🔍 Analyse des URLs:  71%|███████   | 64/90 [25:48<10:30, 24.25s/it]"
     ]
    },
    {
     "name": "stdout",
     "output_type": "stream",
     "text": [
      "🟡 Analyse en cours : https://www.ukri.org/opportunity/ahrc-responsive-mode-working-with-brazilian-researchers/\n"
     ]
    },
    {
     "name": "stderr",
     "output_type": "stream",
     "text": [
      "🔍 Analyse des URLs:  72%|███████▏  | 65/90 [26:12<10:02, 24.10s/it]"
     ]
    },
    {
     "name": "stdout",
     "output_type": "stream",
     "text": [
      "🟡 Analyse en cours : https://www.ukri.org/opportunity/ahrc-responsive-mode-collaborate-with-researchers-in-luxembourg/\n"
     ]
    },
    {
     "name": "stderr",
     "output_type": "stream",
     "text": [
      "🔍 Analyse des URLs:  73%|███████▎  | 66/90 [26:36<09:35, 23.97s/it]"
     ]
    },
    {
     "name": "stdout",
     "output_type": "stream",
     "text": [
      "🟡 Analyse en cours : https://www.ukri.org/opportunity/ahrc-responsive-mode-standard-research-grant/\n"
     ]
    },
    {
     "name": "stderr",
     "output_type": "stream",
     "text": [
      "🔍 Analyse des URLs:  74%|███████▍  | 67/90 [26:59<09:08, 23.87s/it]"
     ]
    },
    {
     "name": "stdout",
     "output_type": "stream",
     "text": [
      "🟡 Analyse en cours : https://www.ukri.org/opportunity/epsrc-programme-grant-outline-stage/\n"
     ]
    },
    {
     "name": "stderr",
     "output_type": "stream",
     "text": [
      "🔍 Analyse des URLs:  76%|███████▌  | 68/90 [27:23<08:44, 23.86s/it]"
     ]
    },
    {
     "name": "stdout",
     "output_type": "stream",
     "text": [
      "🟡 Analyse en cours : https://www.ukri.org/opportunity/bbsrc-international-travel-award-scheme/\n"
     ]
    },
    {
     "name": "stderr",
     "output_type": "stream",
     "text": [
      "🔍 Analyse des URLs:  77%|███████▋  | 69/90 [27:47<08:24, 24.01s/it]"
     ]
    },
    {
     "name": "stdout",
     "output_type": "stream",
     "text": [
      "🟡 Analyse en cours : https://www.ukri.org/opportunity/projects-peer-review-panel-pprp-2025/\n"
     ]
    },
    {
     "name": "stderr",
     "output_type": "stream",
     "text": [
      "🔍 Analyse des URLs:  78%|███████▊  | 70/90 [28:12<08:01, 24.07s/it]"
     ]
    },
    {
     "name": "stdout",
     "output_type": "stream",
     "text": [
      "🟡 Analyse en cours : https://www.ukri.org/opportunity/nerc-urgency-funding-open/\n"
     ]
    },
    {
     "name": "stderr",
     "output_type": "stream",
     "text": [
      "🔍 Analyse des URLs:  79%|███████▉  | 71/90 [28:35<07:35, 23.99s/it]"
     ]
    },
    {
     "name": "stdout",
     "output_type": "stream",
     "text": [
      "🟡 Analyse en cours : https://www.ukri.org/opportunity/strategic-infrastructure-outlines/\n"
     ]
    },
    {
     "name": "stderr",
     "output_type": "stream",
     "text": [
      "🔍 Analyse des URLs:  80%|████████  | 72/90 [28:59<07:09, 23.84s/it]"
     ]
    },
    {
     "name": "stdout",
     "output_type": "stream",
     "text": [
      "🟡 Analyse en cours : https://www.ukri.org/opportunity/epsrc-network-grant-nov-2023-responsive-mode/\n"
     ]
    },
    {
     "name": "stderr",
     "output_type": "stream",
     "text": [
      "🔍 Analyse des URLs:  81%|████████  | 73/90 [29:23<06:46, 23.92s/it]"
     ]
    },
    {
     "name": "stdout",
     "output_type": "stream",
     "text": [
      "🟡 Analyse en cours : https://www.ukri.org/opportunity/epsrc-working-with-overseas-scientists-nov-2023-responsive-mode/\n"
     ]
    },
    {
     "name": "stderr",
     "output_type": "stream",
     "text": [
      "🔍 Analyse des URLs:  82%|████████▏ | 74/90 [29:47<06:21, 23.83s/it]"
     ]
    },
    {
     "name": "stdout",
     "output_type": "stream",
     "text": [
      "🟡 Analyse en cours : https://www.ukri.org/opportunity/epsrc-new-investigator-award-nov-2023-responsive-mode/\n"
     ]
    },
    {
     "name": "stderr",
     "output_type": "stream",
     "text": [
      "🔍 Analyse des URLs:  83%|████████▎ | 75/90 [30:10<05:56, 23.75s/it]"
     ]
    },
    {
     "name": "stdout",
     "output_type": "stream",
     "text": [
      "🟡 Analyse en cours : https://www.ukri.org/opportunity/epsrc-discipline-hopping-in-ict-nov-2023-responsive-mode/\n"
     ]
    },
    {
     "name": "stderr",
     "output_type": "stream",
     "text": [
      "🔍 Analyse des URLs:  84%|████████▍ | 76/90 [30:34<05:32, 23.75s/it]"
     ]
    },
    {
     "name": "stdout",
     "output_type": "stream",
     "text": [
      "🟡 Analyse en cours : https://www.ukri.org/opportunity/epsrc-overseas-travel-grant-nov-2023-responsive-mode/\n"
     ]
    },
    {
     "name": "stderr",
     "output_type": "stream",
     "text": [
      "🔍 Analyse des URLs:  86%|████████▌ | 77/90 [30:58<05:09, 23.78s/it]"
     ]
    },
    {
     "name": "stdout",
     "output_type": "stream",
     "text": [
      "🟡 Analyse en cours : https://www.ukri.org/opportunity/epsrc-standard-research-grant-nov-2023-responsive-mode/\n"
     ]
    },
    {
     "name": "stderr",
     "output_type": "stream",
     "text": [
      "🔍 Analyse des URLs:  87%|████████▋ | 78/90 [31:22<04:46, 23.89s/it]"
     ]
    },
    {
     "name": "stdout",
     "output_type": "stream",
     "text": [
      "🟡 Analyse en cours : https://www.ukri.org/opportunity/esrc-responsive-mode-research-grants-round-two/\n"
     ]
    },
    {
     "name": "stderr",
     "output_type": "stream",
     "text": [
      "🔍 Analyse des URLs:  88%|████████▊ | 79/90 [31:46<04:23, 23.94s/it]"
     ]
    },
    {
     "name": "stdout",
     "output_type": "stream",
     "text": [
      "🟡 Analyse en cours : https://www.ukri.org/opportunity/esrc-responsive-mode-new-investigator-grants-round-two/\n"
     ]
    },
    {
     "name": "stderr",
     "output_type": "stream",
     "text": [
      "🔍 Analyse des URLs:  89%|████████▉ | 80/90 [32:10<03:59, 23.91s/it]"
     ]
    },
    {
     "name": "stdout",
     "output_type": "stream",
     "text": [
      "🟡 Analyse en cours : https://www.ukri.org/opportunity/esrc-responsive-mode-working-with-luxembourg-researchers-round-two/\n"
     ]
    },
    {
     "name": "stderr",
     "output_type": "stream",
     "text": [
      "🔍 Analyse des URLs:  90%|█████████ | 81/90 [32:33<03:34, 23.79s/it]"
     ]
    },
    {
     "name": "stdout",
     "output_type": "stream",
     "text": [
      "🟡 Analyse en cours : https://www.ukri.org/opportunity/esrc-responsive-mode-secondary-data-analysis-round-two/\n"
     ]
    },
    {
     "name": "stderr",
     "output_type": "stream",
     "text": [
      "🔍 Analyse des URLs:  91%|█████████ | 82/90 [32:57<03:10, 23.78s/it]"
     ]
    },
    {
     "name": "stdout",
     "output_type": "stream",
     "text": [
      "🟡 Analyse en cours : https://www.ukri.org/opportunity/esrc-responsive-mode-ukri-sbe-lead-agency-opportunity-round-two/\n"
     ]
    },
    {
     "name": "stderr",
     "output_type": "stream",
     "text": [
      "🔍 Analyse des URLs:  92%|█████████▏| 83/90 [33:21<02:46, 23.72s/it]"
     ]
    },
    {
     "name": "stdout",
     "output_type": "stream",
     "text": [
      "🟡 Analyse en cours : https://www.ukri.org/opportunity/esrc-responsive-mode-working-with-brazilian-researchers-round-two/\n"
     ]
    },
    {
     "name": "stderr",
     "output_type": "stream",
     "text": [
      "🔍 Analyse des URLs:  93%|█████████▎| 84/90 [33:45<02:22, 23.76s/it]"
     ]
    },
    {
     "name": "stdout",
     "output_type": "stream",
     "text": [
      "🟡 Analyse en cours : https://www.ukri.org/opportunity/collaborate-with-researchers-in-luxembourg/\n"
     ]
    },
    {
     "name": "stderr",
     "output_type": "stream",
     "text": [
      "🔍 Analyse des URLs:  94%|█████████▍| 85/90 [34:09<01:59, 23.84s/it]"
     ]
    },
    {
     "name": "stdout",
     "output_type": "stream",
     "text": [
      "🟡 Analyse en cours : https://www.ukri.org/opportunity/work-with-brazilian-researchers-nerc-fapesp-lead-agency/\n"
     ]
    },
    {
     "name": "stderr",
     "output_type": "stream",
     "text": [
      "🔍 Analyse des URLs:  96%|█████████▌| 86/90 [34:32<01:35, 23.82s/it]"
     ]
    },
    {
     "name": "stdout",
     "output_type": "stream",
     "text": [
      "🟡 Analyse en cours : https://www.ukri.org/opportunity/collaborate-with-researchers-in-brazil/\n"
     ]
    },
    {
     "name": "stderr",
     "output_type": "stream",
     "text": [
      "🔍 Analyse des URLs:  97%|█████████▋| 87/90 [34:56<01:11, 23.80s/it]"
     ]
    },
    {
     "name": "stdout",
     "output_type": "stream",
     "text": [
      "🟡 Analyse en cours : https://www.ukri.org/opportunity/ukri-sbe-lead-agency-opportunity/\n"
     ]
    },
    {
     "name": "stderr",
     "output_type": "stream",
     "text": [
      "🔍 Analyse des URLs:  98%|█████████▊| 88/90 [35:20<00:47, 23.88s/it]"
     ]
    },
    {
     "name": "stdout",
     "output_type": "stream",
     "text": [
      "🟡 Analyse en cours : https://www.ukri.org/opportunity/research-england-development-fund/\n"
     ]
    },
    {
     "name": "stderr",
     "output_type": "stream",
     "text": [
      "🔍 Analyse des URLs:  99%|█████████▉| 89/90 [35:44<00:23, 23.99s/it]"
     ]
    },
    {
     "name": "stdout",
     "output_type": "stream",
     "text": [
      "🟡 Analyse en cours : https://www.ukri.org/opportunity/daphne-jackson-fellowship/\n"
     ]
    },
    {
     "name": "stderr",
     "output_type": "stream",
     "text": [
      "🔍 Analyse des URLs: 100%|██████████| 90/90 [36:08<00:00, 24.09s/it]\n"
     ]
    },
    {
     "name": "stdout",
     "output_type": "stream",
     "text": [
      "\n",
      "✅ Résultats sauvegardés dans 'df_yes_avec_pertinence_et_resume_uk.csv'.\n"
     ]
    }
   ],
   "source": [
    "from selenium import webdriver\n",
    "from selenium.webdriver.chrome.options import Options\n",
    "from selenium.webdriver.common.by import By\n",
    "import time\n",
    "import pandas as pd\n",
    "from groq import Groq\n",
    "import re\n",
    "from tqdm import tqdm\n",
    "\n",
    "# === CONFIGURATION GROQ ===\n",
    "import os\n",
    "from dotenv import load_dotenv\n",
    "\n",
    "# Load environment variables\n",
    "load_dotenv()\n",
    "\n",
    "client = Groq(api_key=os.getenv('GROQ_API_KEY'))\n",
    "MODEL_NAME = \"llama3-70b-8192\"\n",
    "\n",
    "# === CONFIGURATION SELENIUM HEADLESS ===\n",
    "options = Options()\n",
    "options.add_argument(\"--headless\")\n",
    "options.add_argument(\"--disable-gpu\")\n",
    "options.add_argument(\"--window-size=1920,1080\")\n",
    "driver = webdriver.Chrome(options=options)\n",
    "\n",
    "# === Nettoyage & Limitation texte ===\n",
    "def clean_and_limit_text(text, max_words=800):\n",
    "    text = re.sub(r'\\s+', ' ', text).strip()\n",
    "    words = text.split()\n",
    "    if len(words) > max_words:\n",
    "        return ' '.join(words[:max_words]) + \" [...] (texte tronqué)\"\n",
    "    return text\n",
    "\n",
    "# === Extraction texte depuis une URL ===\n",
    "def extract_text_from_URL(URL):\n",
    "    try:\n",
    "        driver.get(URL)\n",
    "        time.sleep(5)\n",
    "\n",
    "        for _ in range(10):\n",
    "            driver.execute_script(\"window.scrollBy(0, 500);\")\n",
    "            time.sleep(0.3)\n",
    "        time.sleep(3)\n",
    "\n",
    "        js_desc = \"\"\"\n",
    "        let desc = document.querySelector('div.showMore--three-lines');\n",
    "        return desc ? desc.innerText.trim() : '';\n",
    "        \"\"\"\n",
    "        description_text = driver.execute_script(js_desc)\n",
    "\n",
    "        try:\n",
    "            open_all_btn = driver.find_element(By.CLASS_NAME, \"govuk-accordion__open-all\")\n",
    "            open_all_btn.click()\n",
    "            time.sleep(1)\n",
    "        except:\n",
    "            pass\n",
    "\n",
    "        js_accordion = \"\"\"\n",
    "        let acc = document.querySelector('div.govuk-accordion.ukri-accordion');\n",
    "        return acc ? acc.innerText.trim() : '';\n",
    "        \"\"\"\n",
    "        accordion_text = driver.execute_script(js_accordion)\n",
    "\n",
    "        final_text = f\"{description_text}\\n\\n---\\n\\n{accordion_text}\".strip()\n",
    "        return final_text if final_text.strip() else \"Pas de contenu détecté.\"\n",
    "    \n",
    "    except Exception as e:\n",
    "        return f\"Erreur Selenium: {e}\"\n",
    "\n",
    "# === Construction du prompt pour Groq ===\n",
    "def build_prompt(projects, site_text):\n",
    "    projects_text = \"\\n\".join([\n",
    "        f\"{i+1}. {p['Project Name']} : {p['Description']} (axe {p['Axes / Thematic Areas']})\"\n",
    "        for i, p in enumerate(projects)\n",
    "    ])\n",
    "    return f\"\"\"\n",
    "Tu es un expert en analyse de projets d'entreprise.\n",
    "\n",
    "Voici une liste de projets que cette entreprise a déjà réalisés avec leurs descriptions et axes principaux :\n",
    "\n",
    "{projects_text}\n",
    "\n",
    "Voici maintenant le contenu d'un appel à projets extrait d'une page du portail européen :\n",
    "\n",
    "{site_text}\n",
    "\n",
    "Peux-tu me dire si cette opportunité est pertinente par rapport aux projets que l'entreprise a déjà réalisés ?\n",
    "Merci de répondre clairement :\n",
    "- Pertinence : Oui / Non\n",
    "- Projets similaires détectés : [liste]\n",
    "- Résumé rapide expliquant ta réponse.\n",
    "\"\"\"\n",
    "\n",
    "# === Requête Groq ===\n",
    "def query_groq(prompt, model=MODEL_NAME, max_completion_tokens=3000, temperature=1.0, stream=False, delay_between_requests=10):\n",
    "    try:\n",
    "        response = client.chat.completions.create(\n",
    "            model=model,\n",
    "            messages=[\n",
    "                {\"role\": \"system\", \"content\": \"Tu es un expert en comparaison de projets R&D.\"},\n",
    "                {\"role\": \"user\", \"content\": prompt}\n",
    "            ],\n",
    "            temperature=temperature,\n",
    "            max_completion_tokens=max_completion_tokens,\n",
    "            top_p=1,\n",
    "            stream=stream\n",
    "        )\n",
    "        if stream:\n",
    "            result = \"\"\n",
    "            for chunk in response:\n",
    "                delta = chunk.choices[0].delta.content\n",
    "                if delta:\n",
    "                    result += delta\n",
    "            time.sleep(delay_between_requests)\n",
    "            return result.strip()\n",
    "        else:\n",
    "            time.sleep(delay_between_requests)\n",
    "            return response.choices[0].message.content.strip()\n",
    "    except Exception as e:\n",
    "        return f\"Erreur Groq: {e}\"\n",
    "\n",
    "# === Parsing du résultat Groq ===\n",
    "def parse_result(text):\n",
    "    pertinence = \"Non\"\n",
    "    resume = \"\"\n",
    "\n",
    "    try:\n",
    "        match = re.search(r\"(?i)pertinence\\s*[:\\-–]\\s*(oui|non)\", text)\n",
    "        if match:\n",
    "            pertinence = match.group(1).capitalize()\n",
    "\n",
    "        resume_match = re.search(r\"(?i)résumé.*?:\\s*(.+)\", text)\n",
    "        if resume_match:\n",
    "            resume = resume_match.group(1).strip()\n",
    "        else:\n",
    "            resume = \"\\n\".join(text.splitlines()[1:4]).strip()\n",
    "    except:\n",
    "        pass\n",
    "\n",
    "    return pertinence, resume\n",
    "\n",
    "# === Analyse d'une URL ===\n",
    "def analyze_URL(URL, projects_list):\n",
    "    print(f\"🟡 Analyse en cours : {URL}\")\n",
    "    try:\n",
    "        site_text_raw = extract_text_from_URL(URL)\n",
    "        site_text = clean_and_limit_text(site_text_raw, max_words=800)\n",
    "        projects_list_sample = projects_list[:3]  # 3 projets max\n",
    "\n",
    "        prompt = build_prompt(projects_list_sample, site_text)\n",
    "        result_text = query_groq(prompt)\n",
    "        pertinence, resume = parse_result(result_text)\n",
    "        \n",
    "        return {\n",
    "            \"URL\": URL,\n",
    "            \"Pertinence LLM\": pertinence,\n",
    "            \"Résumé LLM\": resume,\n",
    "            \"Réponse brute\": result_text\n",
    "        }\n",
    "    except Exception as e:\n",
    "        return {\n",
    "            \"URL\": URL,\n",
    "            \"Pertinence LLM\": \"Erreur\",\n",
    "            \"Résumé LLM\": f\"Erreur pendant l'analyse : {e}\",\n",
    "            \"Réponse brute\": str(e)\n",
    "        }\n",
    "\n",
    "# === MAIN EXECUTION ===\n",
    "if __name__ == \"__main__\":\n",
    "    try:\n",
    "        df_pertinence_uk = pd.read_excel(\"projets_pertinents_keywords_InnUK_from_all_description.xlsx\")\n",
    "        projects_list = odf_df[['Project Name', 'Description', 'Axes / Thematic Areas']].dropna().to_dict(orient='records')\n",
    "        URL_list = df_pertinence_uk['URL'].dropna().unique()\n",
    "\n",
    "        results = []\n",
    "        for URL in tqdm(URL_list, desc=\"🔍 Analyse des URLs\"):\n",
    "            results.append(analyze_URL(URL, projects_list))\n",
    "\n",
    "        results_df = pd.DataFrame(results)\n",
    "        df_final_llm_uk = df_pertinence_uk.merge(results_df, on=\"URL\", how=\"left\")\n",
    "\n",
    "        df_final_llm_uk.to_excel(\"df_yes_avec_pertinence_et_resume_uk.xlsx\", index=False)\n",
    "        print(\"\\n✅ Résultats sauvegardés dans 'df_yes_avec_pertinence_et_resume_uk.csv'.\")\n",
    "        \n",
    "    finally:\n",
    "        driver.quit()\n"
   ]
  },
  {
   "cell_type": "code",
   "execution_count": null,
   "id": "eb3d1ecb",
   "metadata": {},
   "outputs": [
    {
     "name": "stderr",
     "output_type": "stream",
     "text": [
      "🔍 Analyse des URLs:   0%|          | 0/90 [00:00<?, ?it/s]"
     ]
    },
    {
     "name": "stdout",
     "output_type": "stream",
     "text": [
      "🟡 Analyse en cours : https://www.ukri.org/opportunity/smart-data-research-uk-fellowships/\n"
     ]
    },
    {
     "name": "stderr",
     "output_type": "stream",
     "text": [
      "🔍 Analyse des URLs:   1%|          | 1/90 [00:31<47:08, 31.79s/it]"
     ]
    },
    {
     "name": "stdout",
     "output_type": "stream",
     "text": [
      "🟡 Analyse en cours : https://www.ukri.org/opportunity/institutional-diversity-fund-invite-only/\n"
     ]
    },
    {
     "name": "stderr",
     "output_type": "stream",
     "text": [
      "🔍 Analyse des URLs:   2%|▏         | 2/90 [00:56<40:14, 27.44s/it]"
     ]
    },
    {
     "name": "stdout",
     "output_type": "stream",
     "text": [
      "🟡 Analyse en cours : https://www.ukri.org/opportunity/funding-for-early-stage-development-of-new-healthcare-interventions/\n"
     ]
    },
    {
     "name": "stderr",
     "output_type": "stream",
     "text": [
      "🔍 Analyse des URLs:   3%|▎         | 3/90 [01:19<37:18, 25.73s/it]"
     ]
    },
    {
     "name": "stdout",
     "output_type": "stream",
     "text": [
      "🟡 Analyse en cours : https://www.ukri.org/opportunity/digitise-uk-natural-science-collections/\n"
     ]
    },
    {
     "name": "stderr",
     "output_type": "stream",
     "text": [
      "🔍 Analyse des URLs:   4%|▍         | 4/90 [01:44<36:09, 25.22s/it]"
     ]
    },
    {
     "name": "stdout",
     "output_type": "stream",
     "text": [
      "🟡 Analyse en cours : https://www.ukri.org/opportunity/aviations-non-co2-impacts-on-the-climate-programme-coordinator/\n"
     ]
    },
    {
     "name": "stderr",
     "output_type": "stream",
     "text": [
      "🔍 Analyse des URLs:   6%|▌         | 5/90 [02:08<35:06, 24.78s/it]"
     ]
    },
    {
     "name": "stdout",
     "output_type": "stream",
     "text": [
      "🟡 Analyse en cours : https://www.ukri.org/opportunity/research-and-partnership-hubs-for-a-healthy-society/\n"
     ]
    },
    {
     "name": "stderr",
     "output_type": "stream",
     "text": [
      "🔍 Analyse des URLs:   7%|▋         | 6/90 [02:32<34:18, 24.51s/it]"
     ]
    },
    {
     "name": "stdout",
     "output_type": "stream",
     "text": [
      "🟡 Analyse en cours : https://www.ukri.org/opportunity/stfc-leadership-fellowships-in-public-engagement/\n"
     ]
    },
    {
     "name": "stderr",
     "output_type": "stream",
     "text": [
      "🔍 Analyse des URLs:   8%|▊         | 7/90 [02:55<33:27, 24.19s/it]"
     ]
    },
    {
     "name": "stdout",
     "output_type": "stream",
     "text": [
      "🟡 Analyse en cours : https://www.ukri.org/opportunity/computing-resources-on-the-stfc-dirac-hpc-facility-rac18/\n"
     ]
    },
    {
     "name": "stderr",
     "output_type": "stream",
     "text": [
      "🔍 Analyse des URLs:   9%|▉         | 8/90 [03:19<32:48, 24.00s/it]"
     ]
    },
    {
     "name": "stdout",
     "output_type": "stream",
     "text": [
      "🟡 Analyse en cours : https://www.ukri.org/opportunity/experimental-medicine-invited-stage-two-application/\n"
     ]
    },
    {
     "name": "stderr",
     "output_type": "stream",
     "text": [
      "🔍 Analyse des URLs:  10%|█         | 9/90 [03:43<32:16, 23.90s/it]"
     ]
    },
    {
     "name": "stdout",
     "output_type": "stream",
     "text": [
      "🟡 Analyse en cours : https://www.ukri.org/opportunity/us-uk-and-germany-uk-collaborative-research-seed-funding-in-semiconductor-security/\n"
     ]
    },
    {
     "name": "stderr",
     "output_type": "stream",
     "text": [
      "🔍 Analyse des URLs:  11%|█         | 10/90 [04:06<31:47, 23.84s/it]"
     ]
    },
    {
     "name": "stdout",
     "output_type": "stream",
     "text": [
      "🟡 Analyse en cours : https://www.ukri.org/opportunity/biological-influence-on-ocean-carbon-novel-modelling-approaches/\n"
     ]
    },
    {
     "name": "stderr",
     "output_type": "stream",
     "text": [
      "🔍 Analyse des URLs:  12%|█▏        | 11/90 [04:31<31:50, 24.19s/it]"
     ]
    },
    {
     "name": "stdout",
     "output_type": "stream",
     "text": [
      "🟡 Analyse en cours : https://www.ukri.org/opportunity/ukri-gambling-harms-research-coordination-centre-ghrcc/\n"
     ]
    },
    {
     "name": "stderr",
     "output_type": "stream",
     "text": [
      "🔍 Analyse des URLs:  13%|█▎        | 12/90 [04:55<31:20, 24.11s/it]"
     ]
    },
    {
     "name": "stdout",
     "output_type": "stream",
     "text": [
      "🟡 Analyse en cours : https://www.ukri.org/opportunity/gambling-harms-research-and-innovation-partnerships/\n"
     ]
    },
    {
     "name": "stderr",
     "output_type": "stream",
     "text": [
      "🔍 Analyse des URLs:  14%|█▍        | 13/90 [05:20<31:14, 24.34s/it]"
     ]
    },
    {
     "name": "stdout",
     "output_type": "stream",
     "text": [
      "🟡 Analyse en cours : https://www.ukri.org/opportunity/multiple-model-assessment-of-biological-influence-on-ocean-carbon/\n"
     ]
    },
    {
     "name": "stderr",
     "output_type": "stream",
     "text": [
      "🔍 Analyse des URLs:  16%|█▌        | 14/90 [05:46<31:18, 24.72s/it]"
     ]
    },
    {
     "name": "stdout",
     "output_type": "stream",
     "text": [
      "🟡 Analyse en cours : https://www.ukri.org/opportunity/transdisciplinary-research-to-tackle-antimicrobial-resistance-full-application/\n"
     ]
    },
    {
     "name": "stderr",
     "output_type": "stream",
     "text": [
      "🔍 Analyse des URLs:  17%|█▋        | 15/90 [06:10<30:42, 24.57s/it]"
     ]
    },
    {
     "name": "stdout",
     "output_type": "stream",
     "text": [
      "🟡 Analyse en cours : https://www.ukri.org/opportunity/canada-uk-networkplus-in-semiconductor-research/\n"
     ]
    },
    {
     "name": "stderr",
     "output_type": "stream",
     "text": [
      "🔍 Analyse des URLs:  18%|█▊        | 16/90 [06:36<30:42, 24.90s/it]"
     ]
    },
    {
     "name": "stdout",
     "output_type": "stream",
     "text": [
      "🟡 Analyse en cours : https://www.ukri.org/opportunity/uk-international-ocean-drilling-programme-moratorium-awards/\n"
     ]
    },
    {
     "name": "stderr",
     "output_type": "stream",
     "text": [
      "🔍 Analyse des URLs:  19%|█▉        | 17/90 [07:01<30:38, 25.18s/it]"
     ]
    },
    {
     "name": "stdout",
     "output_type": "stream",
     "text": [
      "🟡 Analyse en cours : https://www.ukri.org/opportunity/health-technologies-connectivity-awards-round-two/\n"
     ]
    },
    {
     "name": "stderr",
     "output_type": "stream",
     "text": [
      "🔍 Analyse des URLs:  20%|██        | 18/90 [07:25<29:38, 24.70s/it]"
     ]
    },
    {
     "name": "stdout",
     "output_type": "stream",
     "text": [
      "🟡 Analyse en cours : https://www.ukri.org/opportunity/clinician-scientist-fellowship/\n"
     ]
    },
    {
     "name": "stderr",
     "output_type": "stream",
     "text": [
      "🔍 Analyse des URLs:  21%|██        | 19/90 [07:50<29:11, 24.67s/it]"
     ]
    },
    {
     "name": "stdout",
     "output_type": "stream",
     "text": [
      "🟡 Analyse en cours : https://www.ukri.org/opportunity/pre-doctoral-clinical-research-training-fellowship/\n"
     ]
    },
    {
     "name": "stderr",
     "output_type": "stream",
     "text": [
      "🔍 Analyse des URLs:  22%|██▏       | 20/90 [08:15<28:52, 24.75s/it]"
     ]
    },
    {
     "name": "stdout",
     "output_type": "stream",
     "text": [
      "🟡 Analyse en cours : https://www.ukri.org/opportunity/post-doctoral-clinical-research-training-fellowship/\n"
     ]
    },
    {
     "name": "stderr",
     "output_type": "stream",
     "text": [
      "🔍 Analyse des URLs:  23%|██▎       | 21/90 [08:40<28:45, 25.01s/it]"
     ]
    },
    {
     "name": "stdout",
     "output_type": "stream",
     "text": [
      "🟡 Analyse en cours : https://www.ukri.org/opportunity/engineer-next-generation-veterinary-vaccine-technology-platforms/\n"
     ]
    },
    {
     "name": "stderr",
     "output_type": "stream",
     "text": [
      "🔍 Analyse des URLs:  24%|██▍       | 22/90 [09:05<28:10, 24.86s/it]"
     ]
    },
    {
     "name": "stdout",
     "output_type": "stream",
     "text": [
      "🟡 Analyse en cours : https://www.ukri.org/opportunity/strategic-infrastructure-for-engineering-and-physical-sciences-june-2025/\n"
     ]
    },
    {
     "name": "stderr",
     "output_type": "stream",
     "text": [
      "🔍 Analyse des URLs:  26%|██▌       | 23/90 [09:28<27:24, 24.54s/it]"
     ]
    },
    {
     "name": "stdout",
     "output_type": "stream",
     "text": [
      "🟡 Analyse en cours : https://www.ukri.org/opportunity/ernest-rutherford-fellowship-2025/\n"
     ]
    },
    {
     "name": "stderr",
     "output_type": "stream",
     "text": [
      "🔍 Analyse des URLs:  27%|██▋       | 24/90 [09:52<26:45, 24.32s/it]"
     ]
    },
    {
     "name": "stdout",
     "output_type": "stream",
     "text": [
      "🟡 Analyse en cours : https://www.ukri.org/opportunity/research-to-advance-uk-recycling-capabilities-full-stage/\n"
     ]
    },
    {
     "name": "stderr",
     "output_type": "stream",
     "text": [
      "🔍 Analyse des URLs:  28%|██▊       | 25/90 [10:16<26:10, 24.16s/it]"
     ]
    },
    {
     "name": "stdout",
     "output_type": "stream",
     "text": [
      "🟡 Analyse en cours : https://www.ukri.org/opportunity/sandpit-moving-respiratory-health-diagnosis-into-the-21st-century-invite-only/\n"
     ]
    },
    {
     "name": "stderr",
     "output_type": "stream",
     "text": [
      "🔍 Analyse des URLs:  29%|██▉       | 26/90 [10:39<25:31, 23.93s/it]"
     ]
    },
    {
     "name": "stdout",
     "output_type": "stream",
     "text": [
      "🟡 Analyse en cours : https://www.ukri.org/opportunity/mrc-centre-of-research-excellence-round-three/\n"
     ]
    },
    {
     "name": "stderr",
     "output_type": "stream",
     "text": [
      "🔍 Analyse des URLs:  30%|███       | 27/90 [11:06<26:02, 24.81s/it]"
     ]
    },
    {
     "name": "stdout",
     "output_type": "stream",
     "text": [
      "🟡 Analyse en cours : https://www.ukri.org/opportunity/responsive-mode-partnership/\n"
     ]
    },
    {
     "name": "stderr",
     "output_type": "stream",
     "text": [
      "🔍 Analyse des URLs:  31%|███       | 28/90 [11:30<25:19, 24.51s/it]"
     ]
    },
    {
     "name": "stdout",
     "output_type": "stream",
     "text": [
      "🟡 Analyse en cours : https://www.ukri.org/opportunity/infections-and-immunity-programme/\n"
     ]
    },
    {
     "name": "stderr",
     "output_type": "stream",
     "text": [
      "🔍 Analyse des URLs:  32%|███▏      | 29/90 [11:54<24:37, 24.22s/it]"
     ]
    },
    {
     "name": "stdout",
     "output_type": "stream",
     "text": [
      "🟡 Analyse en cours : https://www.ukri.org/opportunity/neurosciences-and-mental-health-programme/\n"
     ]
    },
    {
     "name": "stderr",
     "output_type": "stream",
     "text": [
      "🔍 Analyse des URLs:  33%|███▎      | 30/90 [12:17<24:04, 24.08s/it]"
     ]
    },
    {
     "name": "stdout",
     "output_type": "stream",
     "text": [
      "🟡 Analyse en cours : https://www.ukri.org/opportunity/population-and-systems-medicine-programme/\n"
     ]
    },
    {
     "name": "stderr",
     "output_type": "stream",
     "text": [
      "🔍 Analyse des URLs:  34%|███▍      | 31/90 [12:41<23:36, 24.01s/it]"
     ]
    },
    {
     "name": "stdout",
     "output_type": "stream",
     "text": [
      "🟡 Analyse en cours : https://www.ukri.org/opportunity/molecular-and-cellular-medicine-programme/\n"
     ]
    },
    {
     "name": "stderr",
     "output_type": "stream",
     "text": [
      "🔍 Analyse des URLs:  36%|███▌      | 32/90 [13:05<23:02, 23.84s/it]"
     ]
    },
    {
     "name": "stdout",
     "output_type": "stream",
     "text": [
      "🟡 Analyse en cours : https://www.ukri.org/opportunity/molecular-and-cellular-medicine-new-investigator/\n"
     ]
    },
    {
     "name": "stderr",
     "output_type": "stream",
     "text": [
      "🔍 Analyse des URLs:  37%|███▋      | 33/90 [13:28<22:36, 23.80s/it]"
     ]
    },
    {
     "name": "stdout",
     "output_type": "stream",
     "text": [
      "🟡 Analyse en cours : https://www.ukri.org/opportunity/neurosciences-and-mental-health-new-investigator/\n"
     ]
    },
    {
     "name": "stderr",
     "output_type": "stream",
     "text": [
      "🔍 Analyse des URLs:  38%|███▊      | 34/90 [13:52<22:11, 23.78s/it]"
     ]
    },
    {
     "name": "stdout",
     "output_type": "stream",
     "text": [
      "🟡 Analyse en cours : https://www.ukri.org/opportunity/infections-and-immunity-new-investigator/\n"
     ]
    },
    {
     "name": "stderr",
     "output_type": "stream",
     "text": [
      "🔍 Analyse des URLs:  39%|███▉      | 35/90 [14:16<21:47, 23.78s/it]"
     ]
    },
    {
     "name": "stdout",
     "output_type": "stream",
     "text": [
      "🟡 Analyse en cours : https://www.ukri.org/opportunity/population-and-systems-medicine-new-investigator/\n"
     ]
    },
    {
     "name": "stderr",
     "output_type": "stream",
     "text": [
      "🔍 Analyse des URLs:  40%|████      | 36/90 [14:39<21:19, 23.69s/it]"
     ]
    },
    {
     "name": "stdout",
     "output_type": "stream",
     "text": [
      "🟡 Analyse en cours : https://www.ukri.org/opportunity/neurosciences-and-mental-health-research/\n"
     ]
    },
    {
     "name": "stderr",
     "output_type": "stream",
     "text": [
      "🔍 Analyse des URLs:  41%|████      | 37/90 [15:03<20:55, 23.68s/it]"
     ]
    },
    {
     "name": "stdout",
     "output_type": "stream",
     "text": [
      "🟡 Analyse en cours : https://www.ukri.org/opportunity/population-and-systems-medicine-research/\n"
     ]
    },
    {
     "name": "stderr",
     "output_type": "stream",
     "text": [
      "🔍 Analyse des URLs:  42%|████▏     | 38/90 [15:27<20:32, 23.71s/it]"
     ]
    },
    {
     "name": "stdout",
     "output_type": "stream",
     "text": [
      "🟡 Analyse en cours : https://www.ukri.org/opportunity/molecular-and-cellular-medicine-research/\n"
     ]
    },
    {
     "name": "stderr",
     "output_type": "stream",
     "text": [
      "🔍 Analyse des URLs:  43%|████▎     | 39/90 [15:50<20:05, 23.64s/it]"
     ]
    },
    {
     "name": "stdout",
     "output_type": "stream",
     "text": [
      "🟡 Analyse en cours : https://www.ukri.org/opportunity/infections-and-immunity-research/\n"
     ]
    },
    {
     "name": "stderr",
     "output_type": "stream",
     "text": [
      "🔍 Analyse des URLs:  44%|████▍     | 40/90 [16:14<19:42, 23.66s/it]"
     ]
    },
    {
     "name": "stdout",
     "output_type": "stream",
     "text": [
      "🟡 Analyse en cours : https://www.ukri.org/opportunity/dare-uk-real-world-research-exemplar-programme/\n"
     ]
    },
    {
     "name": "stderr",
     "output_type": "stream",
     "text": [
      "🔍 Analyse des URLs:  46%|████▌     | 41/90 [16:38<19:19, 23.67s/it]"
     ]
    },
    {
     "name": "stdout",
     "output_type": "stream",
     "text": [
      "🟡 Analyse en cours : https://www.ukri.org/opportunity/bbsrc-new-investigator-award-2025-round-3-applicant-led-mode/\n"
     ]
    },
    {
     "name": "stderr",
     "output_type": "stream",
     "text": [
      "🔍 Analyse des URLs:  47%|████▋     | 42/90 [17:01<18:54, 23.64s/it]"
     ]
    },
    {
     "name": "stdout",
     "output_type": "stream",
     "text": [
      "🟡 Analyse en cours : https://www.ukri.org/opportunity/bbsrc-standard-research-grant-2025-round-3-applicant-led-mode/\n"
     ]
    },
    {
     "name": "stderr",
     "output_type": "stream",
     "text": [
      "🔍 Analyse des URLs:  48%|████▊     | 43/90 [17:25<18:31, 23.64s/it]"
     ]
    },
    {
     "name": "stdout",
     "output_type": "stream",
     "text": [
      "🟡 Analyse en cours : https://www.ukri.org/opportunity/critical-mass-programmes-to-drive-a-sustainable-future-invitation-only/\n"
     ]
    },
    {
     "name": "stderr",
     "output_type": "stream",
     "text": [
      "🔍 Analyse des URLs:  49%|████▉     | 44/90 [17:49<18:09, 23.69s/it]"
     ]
    },
    {
     "name": "stdout",
     "output_type": "stream",
     "text": [
      "🟡 Analyse en cours : https://www.ukri.org/opportunity/experimental-medicine/\n"
     ]
    },
    {
     "name": "stderr",
     "output_type": "stream",
     "text": [
      "🔍 Analyse des URLs:  50%|█████     | 45/90 [18:12<17:46, 23.69s/it]"
     ]
    },
    {
     "name": "stdout",
     "output_type": "stream",
     "text": [
      "🟡 Analyse en cours : https://www.ukri.org/opportunity/career-development-award/\n"
     ]
    },
    {
     "name": "stderr",
     "output_type": "stream",
     "text": [
      "🔍 Analyse des URLs:  51%|█████     | 46/90 [18:36<17:24, 23.75s/it]"
     ]
    },
    {
     "name": "stdout",
     "output_type": "stream",
     "text": [
      "🟡 Analyse en cours : https://www.ukri.org/opportunity/ukri-policy-fellowships-2025/\n"
     ]
    },
    {
     "name": "stderr",
     "output_type": "stream",
     "text": [
      "🔍 Analyse des URLs:  52%|█████▏    | 47/90 [19:00<17:03, 23.81s/it]"
     ]
    },
    {
     "name": "stdout",
     "output_type": "stream",
     "text": [
      "🟡 Analyse en cours : https://www.ukri.org/opportunity/applied-global-health-research-invited-stage-two/\n"
     ]
    },
    {
     "name": "stderr",
     "output_type": "stream",
     "text": [
      "🔍 Analyse des URLs:  53%|█████▎    | 48/90 [19:24<16:42, 23.88s/it]"
     ]
    },
    {
     "name": "stdout",
     "output_type": "stream",
     "text": [
      "🟡 Analyse en cours : https://www.ukri.org/opportunity/2025-to-2026-strategic-longer-and-larger-slola-grants/\n"
     ]
    },
    {
     "name": "stderr",
     "output_type": "stream",
     "text": [
      "🔍 Analyse des URLs:  54%|█████▍    | 49/90 [19:48<16:18, 23.86s/it]"
     ]
    },
    {
     "name": "stdout",
     "output_type": "stream",
     "text": [
      "🟡 Analyse en cours : https://www.ukri.org/opportunity/applied-global-health-partnership-invited-stage-two/\n"
     ]
    },
    {
     "name": "stderr",
     "output_type": "stream",
     "text": [
      "🔍 Analyse des URLs:  56%|█████▌    | 50/90 [20:12<15:58, 23.95s/it]"
     ]
    },
    {
     "name": "stdout",
     "output_type": "stream",
     "text": [
      "🟡 Analyse en cours : https://www.ukri.org/opportunity/collaborate-with-researchers-in-norway/\n"
     ]
    },
    {
     "name": "stderr",
     "output_type": "stream",
     "text": [
      "🔍 Analyse des URLs:  57%|█████▋    | 51/90 [20:36<15:34, 23.96s/it]"
     ]
    },
    {
     "name": "stdout",
     "output_type": "stream",
     "text": [
      "🟡 Analyse en cours : https://www.ukri.org/opportunity/collaborative-doctoral-landscape-award-in-the-arts-and-humanities/\n"
     ]
    },
    {
     "name": "stderr",
     "output_type": "stream",
     "text": [
      "🔍 Analyse des URLs:  58%|█████▊    | 52/90 [21:00<15:08, 23.92s/it]"
     ]
    },
    {
     "name": "stdout",
     "output_type": "stream",
     "text": [
      "🟡 Analyse en cours : https://www.ukri.org/opportunity/patt-travel-grants-for-competitively-awarded-observation-time-2025/\n"
     ]
    },
    {
     "name": "stderr",
     "output_type": "stream",
     "text": [
      "🔍 Analyse des URLs:  59%|█████▉    | 53/90 [21:24<14:44, 23.90s/it]"
     ]
    },
    {
     "name": "stdout",
     "output_type": "stream",
     "text": [
      "🟡 Analyse en cours : https://www.ukri.org/opportunity/developmental-pathway-funding-scheme/\n"
     ]
    },
    {
     "name": "stderr",
     "output_type": "stream",
     "text": [
      "🔍 Analyse des URLs:  60%|██████    | 54/90 [21:48<14:17, 23.82s/it]"
     ]
    },
    {
     "name": "stdout",
     "output_type": "stream",
     "text": [
      "🟡 Analyse en cours : https://www.ukri.org/opportunity/statements-of-need-in-research-infrastructure/\n"
     ]
    },
    {
     "name": "stderr",
     "output_type": "stream",
     "text": [
      "🔍 Analyse des URLs:  61%|██████    | 55/90 [22:12<13:55, 23.88s/it]"
     ]
    },
    {
     "name": "stdout",
     "output_type": "stream",
     "text": [
      "🟡 Analyse en cours : https://www.ukri.org/opportunity/epsrc-programme-grant-full-proposal/\n"
     ]
    },
    {
     "name": "stderr",
     "output_type": "stream",
     "text": [
      "🔍 Analyse des URLs:  62%|██████▏   | 56/90 [22:35<13:31, 23.86s/it]"
     ]
    },
    {
     "name": "stdout",
     "output_type": "stream",
     "text": [
      "🟡 Analyse en cours : https://www.ukri.org/opportunity/mathematical-sciences-postdoctoral-fellowship/\n"
     ]
    },
    {
     "name": "stderr",
     "output_type": "stream",
     "text": [
      "🔍 Analyse des URLs:  63%|██████▎   | 57/90 [23:00<13:15, 24.12s/it]"
     ]
    },
    {
     "name": "stdout",
     "output_type": "stream",
     "text": [
      "🟡 Analyse en cours : https://www.ukri.org/opportunity/opening-up-the-environment-2026/\n"
     ]
    },
    {
     "name": "stderr",
     "output_type": "stream",
     "text": [
      "🔍 Analyse des URLs:  64%|██████▍   | 58/90 [23:24<12:45, 23.93s/it]"
     ]
    },
    {
     "name": "stdout",
     "output_type": "stream",
     "text": [
      "🟡 Analyse en cours : https://www.ukri.org/opportunity/small-molecule-high-throughput-screen-using-astrazeneca-facilities/\n"
     ]
    },
    {
     "name": "stderr",
     "output_type": "stream",
     "text": [
      "🔍 Analyse des URLs:  66%|██████▌   | 59/90 [23:48<12:23, 23.99s/it]"
     ]
    },
    {
     "name": "stdout",
     "output_type": "stream",
     "text": [
      "🟡 Analyse en cours : https://www.ukri.org/opportunity/ahrc-responsive-mode-curiosity-award/\n"
     ]
    },
    {
     "name": "stderr",
     "output_type": "stream",
     "text": [
      "🔍 Analyse des URLs:  67%|██████▋   | 60/90 [24:11<11:56, 23.87s/it]"
     ]
    },
    {
     "name": "stdout",
     "output_type": "stream",
     "text": [
      "🟡 Analyse en cours : https://www.ukri.org/opportunity/ahrc-responsive-mode-catalyst-awards/\n"
     ]
    },
    {
     "name": "stderr",
     "output_type": "stream",
     "text": [
      "🔍 Analyse des URLs:  68%|██████▊   | 61/90 [24:35<11:29, 23.79s/it]"
     ]
    },
    {
     "name": "stdout",
     "output_type": "stream",
     "text": [
      "🟡 Analyse en cours : https://www.ukri.org/opportunity/pushing-the-frontiers-of-environmental-research-july-2025/\n"
     ]
    },
    {
     "name": "stderr",
     "output_type": "stream",
     "text": [
      "🔍 Analyse des URLs:  69%|██████▉   | 62/90 [24:58<11:03, 23.71s/it]"
     ]
    },
    {
     "name": "stdout",
     "output_type": "stream",
     "text": [
      "🟡 Analyse en cours : https://www.ukri.org/opportunity/mathematical-sciences-open-and-open-plus-fellowship/\n"
     ]
    },
    {
     "name": "stderr",
     "output_type": "stream",
     "text": [
      "🔍 Analyse des URLs:  70%|███████   | 63/90 [25:24<10:52, 24.18s/it]"
     ]
    },
    {
     "name": "stdout",
     "output_type": "stream",
     "text": [
      "🟡 Analyse en cours : https://www.ukri.org/opportunity/ahrc-responsive-mode-ukri-nsf-sbe-lead-agency/\n"
     ]
    },
    {
     "name": "stderr",
     "output_type": "stream",
     "text": [
      "🔍 Analyse des URLs:  71%|███████   | 64/90 [25:48<10:30, 24.25s/it]"
     ]
    },
    {
     "name": "stdout",
     "output_type": "stream",
     "text": [
      "🟡 Analyse en cours : https://www.ukri.org/opportunity/ahrc-responsive-mode-working-with-brazilian-researchers/\n"
     ]
    },
    {
     "name": "stderr",
     "output_type": "stream",
     "text": [
      "🔍 Analyse des URLs:  72%|███████▏  | 65/90 [26:12<10:02, 24.10s/it]"
     ]
    },
    {
     "name": "stdout",
     "output_type": "stream",
     "text": [
      "🟡 Analyse en cours : https://www.ukri.org/opportunity/ahrc-responsive-mode-collaborate-with-researchers-in-luxembourg/\n"
     ]
    },
    {
     "name": "stderr",
     "output_type": "stream",
     "text": [
      "🔍 Analyse des URLs:  73%|███████▎  | 66/90 [26:36<09:35, 23.97s/it]"
     ]
    },
    {
     "name": "stdout",
     "output_type": "stream",
     "text": [
      "🟡 Analyse en cours : https://www.ukri.org/opportunity/ahrc-responsive-mode-standard-research-grant/\n"
     ]
    },
    {
     "name": "stderr",
     "output_type": "stream",
     "text": [
      "🔍 Analyse des URLs:  74%|███████▍  | 67/90 [26:59<09:08, 23.87s/it]"
     ]
    },
    {
     "name": "stdout",
     "output_type": "stream",
     "text": [
      "🟡 Analyse en cours : https://www.ukri.org/opportunity/epsrc-programme-grant-outline-stage/\n"
     ]
    },
    {
     "name": "stderr",
     "output_type": "stream",
     "text": [
      "🔍 Analyse des URLs:  76%|███████▌  | 68/90 [27:23<08:44, 23.86s/it]"
     ]
    },
    {
     "name": "stdout",
     "output_type": "stream",
     "text": [
      "🟡 Analyse en cours : https://www.ukri.org/opportunity/bbsrc-international-travel-award-scheme/\n"
     ]
    },
    {
     "name": "stderr",
     "output_type": "stream",
     "text": [
      "🔍 Analyse des URLs:  77%|███████▋  | 69/90 [27:47<08:24, 24.01s/it]"
     ]
    },
    {
     "name": "stdout",
     "output_type": "stream",
     "text": [
      "🟡 Analyse en cours : https://www.ukri.org/opportunity/projects-peer-review-panel-pprp-2025/\n"
     ]
    },
    {
     "name": "stderr",
     "output_type": "stream",
     "text": [
      "🔍 Analyse des URLs:  78%|███████▊  | 70/90 [28:12<08:01, 24.07s/it]"
     ]
    },
    {
     "name": "stdout",
     "output_type": "stream",
     "text": [
      "🟡 Analyse en cours : https://www.ukri.org/opportunity/nerc-urgency-funding-open/\n"
     ]
    },
    {
     "name": "stderr",
     "output_type": "stream",
     "text": [
      "🔍 Analyse des URLs:  79%|███████▉  | 71/90 [28:35<07:35, 23.99s/it]"
     ]
    },
    {
     "name": "stdout",
     "output_type": "stream",
     "text": [
      "🟡 Analyse en cours : https://www.ukri.org/opportunity/strategic-infrastructure-outlines/\n"
     ]
    },
    {
     "name": "stderr",
     "output_type": "stream",
     "text": [
      "🔍 Analyse des URLs:  80%|████████  | 72/90 [28:59<07:09, 23.84s/it]"
     ]
    },
    {
     "name": "stdout",
     "output_type": "stream",
     "text": [
      "🟡 Analyse en cours : https://www.ukri.org/opportunity/epsrc-network-grant-nov-2023-responsive-mode/\n"
     ]
    },
    {
     "name": "stderr",
     "output_type": "stream",
     "text": [
      "🔍 Analyse des URLs:  81%|████████  | 73/90 [29:23<06:46, 23.92s/it]"
     ]
    },
    {
     "name": "stdout",
     "output_type": "stream",
     "text": [
      "🟡 Analyse en cours : https://www.ukri.org/opportunity/epsrc-working-with-overseas-scientists-nov-2023-responsive-mode/\n"
     ]
    },
    {
     "name": "stderr",
     "output_type": "stream",
     "text": [
      "🔍 Analyse des URLs:  82%|████████▏ | 74/90 [29:47<06:21, 23.83s/it]"
     ]
    },
    {
     "name": "stdout",
     "output_type": "stream",
     "text": [
      "🟡 Analyse en cours : https://www.ukri.org/opportunity/epsrc-new-investigator-award-nov-2023-responsive-mode/\n"
     ]
    },
    {
     "name": "stderr",
     "output_type": "stream",
     "text": [
      "🔍 Analyse des URLs:  83%|████████▎ | 75/90 [30:10<05:56, 23.75s/it]"
     ]
    },
    {
     "name": "stdout",
     "output_type": "stream",
     "text": [
      "🟡 Analyse en cours : https://www.ukri.org/opportunity/epsrc-discipline-hopping-in-ict-nov-2023-responsive-mode/\n"
     ]
    },
    {
     "name": "stderr",
     "output_type": "stream",
     "text": [
      "🔍 Analyse des URLs:  84%|████████▍ | 76/90 [30:34<05:32, 23.75s/it]"
     ]
    },
    {
     "name": "stdout",
     "output_type": "stream",
     "text": [
      "🟡 Analyse en cours : https://www.ukri.org/opportunity/epsrc-overseas-travel-grant-nov-2023-responsive-mode/\n"
     ]
    },
    {
     "name": "stderr",
     "output_type": "stream",
     "text": [
      "🔍 Analyse des URLs:  86%|████████▌ | 77/90 [30:58<05:09, 23.78s/it]"
     ]
    },
    {
     "name": "stdout",
     "output_type": "stream",
     "text": [
      "🟡 Analyse en cours : https://www.ukri.org/opportunity/epsrc-standard-research-grant-nov-2023-responsive-mode/\n"
     ]
    },
    {
     "name": "stderr",
     "output_type": "stream",
     "text": [
      "🔍 Analyse des URLs:  87%|████████▋ | 78/90 [31:22<04:46, 23.89s/it]"
     ]
    },
    {
     "name": "stdout",
     "output_type": "stream",
     "text": [
      "🟡 Analyse en cours : https://www.ukri.org/opportunity/esrc-responsive-mode-research-grants-round-two/\n"
     ]
    },
    {
     "name": "stderr",
     "output_type": "stream",
     "text": [
      "🔍 Analyse des URLs:  88%|████████▊ | 79/90 [31:46<04:23, 23.94s/it]"
     ]
    },
    {
     "name": "stdout",
     "output_type": "stream",
     "text": [
      "🟡 Analyse en cours : https://www.ukri.org/opportunity/esrc-responsive-mode-new-investigator-grants-round-two/\n"
     ]
    },
    {
     "name": "stderr",
     "output_type": "stream",
     "text": [
      "🔍 Analyse des URLs:  89%|████████▉ | 80/90 [32:10<03:59, 23.91s/it]"
     ]
    },
    {
     "name": "stdout",
     "output_type": "stream",
     "text": [
      "🟡 Analyse en cours : https://www.ukri.org/opportunity/esrc-responsive-mode-working-with-luxembourg-researchers-round-two/\n"
     ]
    },
    {
     "name": "stderr",
     "output_type": "stream",
     "text": [
      "🔍 Analyse des URLs:  90%|█████████ | 81/90 [32:33<03:34, 23.79s/it]"
     ]
    },
    {
     "name": "stdout",
     "output_type": "stream",
     "text": [
      "🟡 Analyse en cours : https://www.ukri.org/opportunity/esrc-responsive-mode-secondary-data-analysis-round-two/\n"
     ]
    },
    {
     "name": "stderr",
     "output_type": "stream",
     "text": [
      "🔍 Analyse des URLs:  91%|█████████ | 82/90 [32:57<03:10, 23.78s/it]"
     ]
    },
    {
     "name": "stdout",
     "output_type": "stream",
     "text": [
      "🟡 Analyse en cours : https://www.ukri.org/opportunity/esrc-responsive-mode-ukri-sbe-lead-agency-opportunity-round-two/\n"
     ]
    },
    {
     "name": "stderr",
     "output_type": "stream",
     "text": [
      "🔍 Analyse des URLs:  92%|█████████▏| 83/90 [33:21<02:46, 23.72s/it]"
     ]
    },
    {
     "name": "stdout",
     "output_type": "stream",
     "text": [
      "🟡 Analyse en cours : https://www.ukri.org/opportunity/esrc-responsive-mode-working-with-brazilian-researchers-round-two/\n"
     ]
    },
    {
     "name": "stderr",
     "output_type": "stream",
     "text": [
      "🔍 Analyse des URLs:  93%|█████████▎| 84/90 [33:45<02:22, 23.76s/it]"
     ]
    },
    {
     "name": "stdout",
     "output_type": "stream",
     "text": [
      "🟡 Analyse en cours : https://www.ukri.org/opportunity/collaborate-with-researchers-in-luxembourg/\n"
     ]
    },
    {
     "name": "stderr",
     "output_type": "stream",
     "text": [
      "🔍 Analyse des URLs:  94%|█████████▍| 85/90 [34:09<01:59, 23.84s/it]"
     ]
    },
    {
     "name": "stdout",
     "output_type": "stream",
     "text": [
      "🟡 Analyse en cours : https://www.ukri.org/opportunity/work-with-brazilian-researchers-nerc-fapesp-lead-agency/\n"
     ]
    },
    {
     "name": "stderr",
     "output_type": "stream",
     "text": [
      "🔍 Analyse des URLs:  96%|█████████▌| 86/90 [34:32<01:35, 23.82s/it]"
     ]
    },
    {
     "name": "stdout",
     "output_type": "stream",
     "text": [
      "🟡 Analyse en cours : https://www.ukri.org/opportunity/collaborate-with-researchers-in-brazil/\n"
     ]
    },
    {
     "name": "stderr",
     "output_type": "stream",
     "text": [
      "🔍 Analyse des URLs:  97%|█████████▋| 87/90 [34:56<01:11, 23.80s/it]"
     ]
    },
    {
     "name": "stdout",
     "output_type": "stream",
     "text": [
      "🟡 Analyse en cours : https://www.ukri.org/opportunity/ukri-sbe-lead-agency-opportunity/\n"
     ]
    },
    {
     "name": "stderr",
     "output_type": "stream",
     "text": [
      "🔍 Analyse des URLs:  98%|█████████▊| 88/90 [35:20<00:47, 23.88s/it]"
     ]
    },
    {
     "name": "stdout",
     "output_type": "stream",
     "text": [
      "🟡 Analyse en cours : https://www.ukri.org/opportunity/research-england-development-fund/\n"
     ]
    },
    {
     "name": "stderr",
     "output_type": "stream",
     "text": [
      "🔍 Analyse des URLs:  99%|█████████▉| 89/90 [35:44<00:23, 23.99s/it]"
     ]
    },
    {
     "name": "stdout",
     "output_type": "stream",
     "text": [
      "🟡 Analyse en cours : https://www.ukri.org/opportunity/daphne-jackson-fellowship/\n"
     ]
    },
    {
     "name": "stderr",
     "output_type": "stream",
     "text": [
      "🔍 Analyse des URLs: 100%|██████████| 90/90 [36:08<00:00, 24.09s/it]\n"
     ]
    },
    {
     "name": "stdout",
     "output_type": "stream",
     "text": [
      "\n",
      "✅ Résultats sauvegardés dans 'df_yes_avec_pertinence_et_resume_uk.csv'.\n"
     ]
    }
   ],
   "source": [
    "from selenium import webdriver\n",
    "from selenium.webdriver.chrome.options import Options\n",
    "from selenium.webdriver.common.by import By\n",
    "import time\n",
    "import pandas as pd\n",
    "from groq import Groq\n",
    "import re\n",
    "from tqdm import tqdm\n",
    "\n",
    "# === CONFIGURATION GROQ ===\n",
    "import os\n",
    "from dotenv import load_dotenv\n",
    "\n",
    "# Load environment variables\n",
    "load_dotenv()\n",
    "\n",
    "client = Groq(api_key=os.getenv('GROQ_API_KEY'))\n",
    "MODEL_NAME = \"llama3-70b-8192\"\n",
    "\n",
    "# === CONFIGURATION SELENIUM HEADLESS ===\n",
    "options = Options()\n",
    "options.add_argument(\"--headless\")\n",
    "options.add_argument(\"--disable-gpu\")\n",
    "options.add_argument(\"--window-size=1920,1080\")\n",
    "driver = webdriver.Chrome(options=options)\n",
    "\n",
    "# === Nettoyage & Limitation texte ===\n",
    "def clean_and_limit_text(text, max_words=800):\n",
    "    text = re.sub(r'\\s+', ' ', text).strip()\n",
    "    words = text.split()\n",
    "    if len(words) > max_words:\n",
    "        return ' '.join(words[:max_words]) + \" [...] (texte tronqué)\"\n",
    "    return text\n",
    "\n",
    "# === Extraction texte depuis une URL ===\n",
    "def extract_text_from_URL(URL):\n",
    "    try:\n",
    "        driver.get(URL)\n",
    "        time.sleep(5)\n",
    "\n",
    "        for _ in range(10):\n",
    "            driver.execute_script(\"window.scrollBy(0, 500);\")\n",
    "            time.sleep(0.3)\n",
    "        time.sleep(3)\n",
    "\n",
    "        js_desc = \"\"\"\n",
    "        let desc = document.querySelector('div.showMore--three-lines');\n",
    "        return desc ? desc.innerText.trim() : '';\n",
    "        \"\"\"\n",
    "        description_text = driver.execute_script(js_desc)\n",
    "\n",
    "        try:\n",
    "            open_all_btn = driver.find_element(By.CLASS_NAME, \"govuk-accordion__open-all\")\n",
    "            open_all_btn.click()\n",
    "            time.sleep(1)\n",
    "        except:\n",
    "            pass\n",
    "\n",
    "        js_accordion = \"\"\"\n",
    "        let acc = document.querySelector('div.govuk-accordion.ukri-accordion');\n",
    "        return acc ? acc.innerText.trim() : '';\n",
    "        \"\"\"\n",
    "        accordion_text = driver.execute_script(js_accordion)\n",
    "\n",
    "        final_text = f\"{description_text}\\n\\n---\\n\\n{accordion_text}\".strip()\n",
    "        return final_text if final_text.strip() else \"Pas de contenu détecté.\"\n",
    "    \n",
    "    except Exception as e:\n",
    "        return f\"Erreur Selenium: {e}\"\n",
    "\n",
    "# === Construction du prompt pour Groq ===\n",
    "def build_prompt(projects, site_text):\n",
    "    projects_text = \"\\n\".join([\n",
    "        f\"{i+1}. {p['Project Name']} : {p['Description']} (axe {p['Axes / Thematic Areas']})\"\n",
    "        for i, p in enumerate(projects)\n",
    "    ])\n",
    "    return f\"\"\"\n",
    "Tu es un expert en analyse de projets d'entreprise.\n",
    "\n",
    "Voici une liste de projets que cette entreprise a déjà réalisés avec leurs descriptions et axes principaux :\n",
    "\n",
    "{projects_text}\n",
    "\n",
    "Voici maintenant le contenu d'un appel à projets extrait d'une page du portail européen :\n",
    "\n",
    "{site_text}\n",
    "\n",
    "Peux-tu me dire si cette opportunité est pertinente par rapport aux projets que l'entreprise a déjà réalisés ?\n",
    "Merci de répondre clairement :\n",
    "- Pertinence : Oui / Non\n",
    "- Projets similaires détectés : [liste]\n",
    "- Résumé rapide expliquant ta réponse.\n",
    "\"\"\"\n",
    "\n",
    "# === Requête Groq ===\n",
    "def query_groq(prompt, model=MODEL_NAME, max_completion_tokens=3000, temperature=1.0, stream=False, delay_between_requests=10):\n",
    "    try:\n",
    "        response = client.chat.completions.create(\n",
    "            model=model,\n",
    "            messages=[\n",
    "                {\"role\": \"system\", \"content\": \"Tu es un expert en comparaison de projets R&D.\"},\n",
    "                {\"role\": \"user\", \"content\": prompt}\n",
    "            ],\n",
    "            temperature=temperature,\n",
    "            max_completion_tokens=max_completion_tokens,\n",
    "            top_p=1,\n",
    "            stream=stream\n",
    "        )\n",
    "        if stream:\n",
    "            result = \"\"\n",
    "            for chunk in response:\n",
    "                delta = chunk.choices[0].delta.content\n",
    "                if delta:\n",
    "                    result += delta\n",
    "            time.sleep(delay_between_requests)\n",
    "            return result.strip()\n",
    "        else:\n",
    "            time.sleep(delay_between_requests)\n",
    "            return response.choices[0].message.content.strip()\n",
    "    except Exception as e:\n",
    "        return f\"Erreur Groq: {e}\"\n",
    "\n",
    "# === Parsing du résultat Groq ===\n",
    "def parse_result(text):\n",
    "    pertinence = \"Non\"\n",
    "    resume = \"\"\n",
    "\n",
    "    try:\n",
    "        match = re.search(r\"(?i)pertinence\\s*[:\\-–]\\s*(oui|non)\", text)\n",
    "        if match:\n",
    "            pertinence = match.group(1).capitalize()\n",
    "\n",
    "        resume_match = re.search(r\"(?i)résumé.*?:\\s*(.+)\", text)\n",
    "        if resume_match:\n",
    "            resume = resume_match.group(1).strip()\n",
    "        else:\n",
    "            resume = \"\\n\".join(text.splitlines()[1:4]).strip()\n",
    "    except:\n",
    "        pass\n",
    "\n",
    "    return pertinence, resume\n",
    "\n",
    "# === Analyse d'une URL ===\n",
    "def analyze_URL(URL, projects_list):\n",
    "    print(f\"🟡 Analyse en cours : {URL}\")\n",
    "    try:\n",
    "        site_text_raw = extract_text_from_URL(URL)\n",
    "        site_text = clean_and_limit_text(site_text_raw, max_words=800)\n",
    "        projects_list_sample = projects_list[:3]  # 3 projets max\n",
    "\n",
    "        prompt = build_prompt(projects_list_sample, site_text)\n",
    "        result_text = query_groq(prompt)\n",
    "        pertinence, resume = parse_result(result_text)\n",
    "        \n",
    "        return {\n",
    "            \"URL\": URL,\n",
    "            \"Pertinence LLM\": pertinence,\n",
    "            \"Résumé LLM\": resume,\n",
    "            \"Réponse brute\": result_text\n",
    "        }\n",
    "    except Exception as e:\n",
    "        return {\n",
    "            \"URL\": URL,\n",
    "            \"Pertinence LLM\": \"Erreur\",\n",
    "            \"Résumé LLM\": f\"Erreur pendant l'analyse : {e}\",\n",
    "            \"Réponse brute\": str(e)\n",
    "        }\n",
    "\n",
    "# === MAIN EXECUTION ===\n",
    "if __name__ == \"__main__\":\n",
    "    try:\n",
    "        df_pertinence_uk = pd.read_excel(\"projets_pertinents_keywords_InnUK_from_all_description.xlsx\")\n",
    "        projects_list = odf_df[['Project Name', 'Description', 'Axes / Thematic Areas']].dropna().to_dict(orient='records')\n",
    "        URL_list = df_pertinence_uk['URL'].dropna().unique()\n",
    "\n",
    "        results = []\n",
    "        for URL in tqdm(URL_list, desc=\"🔍 Analyse des URLs\"):\n",
    "            results.append(analyze_URL(URL, projects_list))\n",
    "\n",
    "        results_df = pd.DataFrame(results)\n",
    "        df_final_llm_uk = df_pertinence_uk.merge(results_df, on=\"URL\", how=\"left\")\n",
    "\n",
    "        df_final_llm_uk.to_excel(\"df_yes_avec_pertinence_et_resume_uk.xlsx\", index=False)\n",
    "        print(\"\\n✅ Résultats sauvegardés dans 'df_yes_avec_pertinence_et_resume_uk.csv'.\")\n",
    "        \n",
    "    finally:\n",
    "        driver.quit()\n"
   ]
  },
  {
   "cell_type": "code",
   "execution_count": null,
   "id": "2bc831f7",
   "metadata": {},
   "outputs": [
    {
     "name": "stderr",
     "output_type": "stream",
     "text": [
      "🔍 Analyse des URLs:   0%|          | 0/90 [00:00<?, ?it/s]"
     ]
    },
    {
     "name": "stdout",
     "output_type": "stream",
     "text": [
      "🟡 Analyse en cours : https://www.ukri.org/opportunity/smart-data-research-uk-fellowships/\n"
     ]
    },
    {
     "name": "stderr",
     "output_type": "stream",
     "text": [
      "🔍 Analyse des URLs:   1%|          | 1/90 [00:31<47:08, 31.79s/it]"
     ]
    },
    {
     "name": "stdout",
     "output_type": "stream",
     "text": [
      "🟡 Analyse en cours : https://www.ukri.org/opportunity/institutional-diversity-fund-invite-only/\n"
     ]
    },
    {
     "name": "stderr",
     "output_type": "stream",
     "text": [
      "🔍 Analyse des URLs:   2%|▏         | 2/90 [00:56<40:14, 27.44s/it]"
     ]
    },
    {
     "name": "stdout",
     "output_type": "stream",
     "text": [
      "🟡 Analyse en cours : https://www.ukri.org/opportunity/funding-for-early-stage-development-of-new-healthcare-interventions/\n"
     ]
    },
    {
     "name": "stderr",
     "output_type": "stream",
     "text": [
      "🔍 Analyse des URLs:   3%|▎         | 3/90 [01:19<37:18, 25.73s/it]"
     ]
    },
    {
     "name": "stdout",
     "output_type": "stream",
     "text": [
      "🟡 Analyse en cours : https://www.ukri.org/opportunity/digitise-uk-natural-science-collections/\n"
     ]
    },
    {
     "name": "stderr",
     "output_type": "stream",
     "text": [
      "🔍 Analyse des URLs:   4%|▍         | 4/90 [01:44<36:09, 25.22s/it]"
     ]
    },
    {
     "name": "stdout",
     "output_type": "stream",
     "text": [
      "🟡 Analyse en cours : https://www.ukri.org/opportunity/aviations-non-co2-impacts-on-the-climate-programme-coordinator/\n"
     ]
    },
    {
     "name": "stderr",
     "output_type": "stream",
     "text": [
      "🔍 Analyse des URLs:   6%|▌         | 5/90 [02:08<35:06, 24.78s/it]"
     ]
    },
    {
     "name": "stdout",
     "output_type": "stream",
     "text": [
      "🟡 Analyse en cours : https://www.ukri.org/opportunity/research-and-partnership-hubs-for-a-healthy-society/\n"
     ]
    },
    {
     "name": "stderr",
     "output_type": "stream",
     "text": [
      "🔍 Analyse des URLs:   7%|▋         | 6/90 [02:32<34:18, 24.51s/it]"
     ]
    },
    {
     "name": "stdout",
     "output_type": "stream",
     "text": [
      "🟡 Analyse en cours : https://www.ukri.org/opportunity/stfc-leadership-fellowships-in-public-engagement/\n"
     ]
    },
    {
     "name": "stderr",
     "output_type": "stream",
     "text": [
      "🔍 Analyse des URLs:   8%|▊         | 7/90 [02:55<33:27, 24.19s/it]"
     ]
    },
    {
     "name": "stdout",
     "output_type": "stream",
     "text": [
      "🟡 Analyse en cours : https://www.ukri.org/opportunity/computing-resources-on-the-stfc-dirac-hpc-facility-rac18/\n"
     ]
    },
    {
     "name": "stderr",
     "output_type": "stream",
     "text": [
      "🔍 Analyse des URLs:   9%|▉         | 8/90 [03:19<32:48, 24.00s/it]"
     ]
    },
    {
     "name": "stdout",
     "output_type": "stream",
     "text": [
      "🟡 Analyse en cours : https://www.ukri.org/opportunity/experimental-medicine-invited-stage-two-application/\n"
     ]
    },
    {
     "name": "stderr",
     "output_type": "stream",
     "text": [
      "🔍 Analyse des URLs:  10%|█         | 9/90 [03:43<32:16, 23.90s/it]"
     ]
    },
    {
     "name": "stdout",
     "output_type": "stream",
     "text": [
      "🟡 Analyse en cours : https://www.ukri.org/opportunity/us-uk-and-germany-uk-collaborative-research-seed-funding-in-semiconductor-security/\n"
     ]
    },
    {
     "name": "stderr",
     "output_type": "stream",
     "text": [
      "🔍 Analyse des URLs:  11%|█         | 10/90 [04:06<31:47, 23.84s/it]"
     ]
    },
    {
     "name": "stdout",
     "output_type": "stream",
     "text": [
      "🟡 Analyse en cours : https://www.ukri.org/opportunity/biological-influence-on-ocean-carbon-novel-modelling-approaches/\n"
     ]
    },
    {
     "name": "stderr",
     "output_type": "stream",
     "text": [
      "🔍 Analyse des URLs:  12%|█▏        | 11/90 [04:31<31:50, 24.19s/it]"
     ]
    },
    {
     "name": "stdout",
     "output_type": "stream",
     "text": [
      "🟡 Analyse en cours : https://www.ukri.org/opportunity/ukri-gambling-harms-research-coordination-centre-ghrcc/\n"
     ]
    },
    {
     "name": "stderr",
     "output_type": "stream",
     "text": [
      "🔍 Analyse des URLs:  13%|█▎        | 12/90 [04:55<31:20, 24.11s/it]"
     ]
    },
    {
     "name": "stdout",
     "output_type": "stream",
     "text": [
      "🟡 Analyse en cours : https://www.ukri.org/opportunity/gambling-harms-research-and-innovation-partnerships/\n"
     ]
    },
    {
     "name": "stderr",
     "output_type": "stream",
     "text": [
      "🔍 Analyse des URLs:  14%|█▍        | 13/90 [05:20<31:14, 24.34s/it]"
     ]
    },
    {
     "name": "stdout",
     "output_type": "stream",
     "text": [
      "🟡 Analyse en cours : https://www.ukri.org/opportunity/multiple-model-assessment-of-biological-influence-on-ocean-carbon/\n"
     ]
    },
    {
     "name": "stderr",
     "output_type": "stream",
     "text": [
      "🔍 Analyse des URLs:  16%|█▌        | 14/90 [05:46<31:18, 24.72s/it]"
     ]
    },
    {
     "name": "stdout",
     "output_type": "stream",
     "text": [
      "🟡 Analyse en cours : https://www.ukri.org/opportunity/transdisciplinary-research-to-tackle-antimicrobial-resistance-full-application/\n"
     ]
    },
    {
     "name": "stderr",
     "output_type": "stream",
     "text": [
      "🔍 Analyse des URLs:  17%|█▋        | 15/90 [06:10<30:42, 24.57s/it]"
     ]
    },
    {
     "name": "stdout",
     "output_type": "stream",
     "text": [
      "🟡 Analyse en cours : https://www.ukri.org/opportunity/canada-uk-networkplus-in-semiconductor-research/\n"
     ]
    },
    {
     "name": "stderr",
     "output_type": "stream",
     "text": [
      "🔍 Analyse des URLs:  18%|█▊        | 16/90 [06:36<30:42, 24.90s/it]"
     ]
    },
    {
     "name": "stdout",
     "output_type": "stream",
     "text": [
      "🟡 Analyse en cours : https://www.ukri.org/opportunity/uk-international-ocean-drilling-programme-moratorium-awards/\n"
     ]
    },
    {
     "name": "stderr",
     "output_type": "stream",
     "text": [
      "🔍 Analyse des URLs:  19%|█▉        | 17/90 [07:01<30:38, 25.18s/it]"
     ]
    },
    {
     "name": "stdout",
     "output_type": "stream",
     "text": [
      "🟡 Analyse en cours : https://www.ukri.org/opportunity/health-technologies-connectivity-awards-round-two/\n"
     ]
    },
    {
     "name": "stderr",
     "output_type": "stream",
     "text": [
      "🔍 Analyse des URLs:  20%|██        | 18/90 [07:25<29:38, 24.70s/it]"
     ]
    },
    {
     "name": "stdout",
     "output_type": "stream",
     "text": [
      "🟡 Analyse en cours : https://www.ukri.org/opportunity/clinician-scientist-fellowship/\n"
     ]
    },
    {
     "name": "stderr",
     "output_type": "stream",
     "text": [
      "🔍 Analyse des URLs:  21%|██        | 19/90 [07:50<29:11, 24.67s/it]"
     ]
    },
    {
     "name": "stdout",
     "output_type": "stream",
     "text": [
      "🟡 Analyse en cours : https://www.ukri.org/opportunity/pre-doctoral-clinical-research-training-fellowship/\n"
     ]
    },
    {
     "name": "stderr",
     "output_type": "stream",
     "text": [
      "🔍 Analyse des URLs:  22%|██▏       | 20/90 [08:15<28:52, 24.75s/it]"
     ]
    },
    {
     "name": "stdout",
     "output_type": "stream",
     "text": [
      "🟡 Analyse en cours : https://www.ukri.org/opportunity/post-doctoral-clinical-research-training-fellowship/\n"
     ]
    },
    {
     "name": "stderr",
     "output_type": "stream",
     "text": [
      "🔍 Analyse des URLs:  23%|██▎       | 21/90 [08:40<28:45, 25.01s/it]"
     ]
    },
    {
     "name": "stdout",
     "output_type": "stream",
     "text": [
      "🟡 Analyse en cours : https://www.ukri.org/opportunity/engineer-next-generation-veterinary-vaccine-technology-platforms/\n"
     ]
    },
    {
     "name": "stderr",
     "output_type": "stream",
     "text": [
      "🔍 Analyse des URLs:  24%|██▍       | 22/90 [09:05<28:10, 24.86s/it]"
     ]
    },
    {
     "name": "stdout",
     "output_type": "stream",
     "text": [
      "🟡 Analyse en cours : https://www.ukri.org/opportunity/strategic-infrastructure-for-engineering-and-physical-sciences-june-2025/\n"
     ]
    },
    {
     "name": "stderr",
     "output_type": "stream",
     "text": [
      "🔍 Analyse des URLs:  26%|██▌       | 23/90 [09:28<27:24, 24.54s/it]"
     ]
    },
    {
     "name": "stdout",
     "output_type": "stream",
     "text": [
      "🟡 Analyse en cours : https://www.ukri.org/opportunity/ernest-rutherford-fellowship-2025/\n"
     ]
    },
    {
     "name": "stderr",
     "output_type": "stream",
     "text": [
      "🔍 Analyse des URLs:  27%|██▋       | 24/90 [09:52<26:45, 24.32s/it]"
     ]
    },
    {
     "name": "stdout",
     "output_type": "stream",
     "text": [
      "🟡 Analyse en cours : https://www.ukri.org/opportunity/research-to-advance-uk-recycling-capabilities-full-stage/\n"
     ]
    },
    {
     "name": "stderr",
     "output_type": "stream",
     "text": [
      "🔍 Analyse des URLs:  28%|██▊       | 25/90 [10:16<26:10, 24.16s/it]"
     ]
    },
    {
     "name": "stdout",
     "output_type": "stream",
     "text": [
      "🟡 Analyse en cours : https://www.ukri.org/opportunity/sandpit-moving-respiratory-health-diagnosis-into-the-21st-century-invite-only/\n"
     ]
    },
    {
     "name": "stderr",
     "output_type": "stream",
     "text": [
      "🔍 Analyse des URLs:  29%|██▉       | 26/90 [10:39<25:31, 23.93s/it]"
     ]
    },
    {
     "name": "stdout",
     "output_type": "stream",
     "text": [
      "🟡 Analyse en cours : https://www.ukri.org/opportunity/mrc-centre-of-research-excellence-round-three/\n"
     ]
    },
    {
     "name": "stderr",
     "output_type": "stream",
     "text": [
      "🔍 Analyse des URLs:  30%|███       | 27/90 [11:06<26:02, 24.81s/it]"
     ]
    },
    {
     "name": "stdout",
     "output_type": "stream",
     "text": [
      "🟡 Analyse en cours : https://www.ukri.org/opportunity/responsive-mode-partnership/\n"
     ]
    },
    {
     "name": "stderr",
     "output_type": "stream",
     "text": [
      "🔍 Analyse des URLs:  31%|███       | 28/90 [11:30<25:19, 24.51s/it]"
     ]
    },
    {
     "name": "stdout",
     "output_type": "stream",
     "text": [
      "🟡 Analyse en cours : https://www.ukri.org/opportunity/infections-and-immunity-programme/\n"
     ]
    },
    {
     "name": "stderr",
     "output_type": "stream",
     "text": [
      "🔍 Analyse des URLs:  32%|███▏      | 29/90 [11:54<24:37, 24.22s/it]"
     ]
    },
    {
     "name": "stdout",
     "output_type": "stream",
     "text": [
      "🟡 Analyse en cours : https://www.ukri.org/opportunity/neurosciences-and-mental-health-programme/\n"
     ]
    },
    {
     "name": "stderr",
     "output_type": "stream",
     "text": [
      "🔍 Analyse des URLs:  33%|███▎      | 30/90 [12:17<24:04, 24.08s/it]"
     ]
    },
    {
     "name": "stdout",
     "output_type": "stream",
     "text": [
      "🟡 Analyse en cours : https://www.ukri.org/opportunity/population-and-systems-medicine-programme/\n"
     ]
    },
    {
     "name": "stderr",
     "output_type": "stream",
     "text": [
      "🔍 Analyse des URLs:  34%|███▍      | 31/90 [12:41<23:36, 24.01s/it]"
     ]
    },
    {
     "name": "stdout",
     "output_type": "stream",
     "text": [
      "🟡 Analyse en cours : https://www.ukri.org/opportunity/molecular-and-cellular-medicine-programme/\n"
     ]
    },
    {
     "name": "stderr",
     "output_type": "stream",
     "text": [
      "🔍 Analyse des URLs:  36%|███▌      | 32/90 [13:05<23:02, 23.84s/it]"
     ]
    },
    {
     "name": "stdout",
     "output_type": "stream",
     "text": [
      "🟡 Analyse en cours : https://www.ukri.org/opportunity/molecular-and-cellular-medicine-new-investigator/\n"
     ]
    },
    {
     "name": "stderr",
     "output_type": "stream",
     "text": [
      "🔍 Analyse des URLs:  37%|███▋      | 33/90 [13:28<22:36, 23.80s/it]"
     ]
    },
    {
     "name": "stdout",
     "output_type": "stream",
     "text": [
      "🟡 Analyse en cours : https://www.ukri.org/opportunity/neurosciences-and-mental-health-new-investigator/\n"
     ]
    },
    {
     "name": "stderr",
     "output_type": "stream",
     "text": [
      "🔍 Analyse des URLs:  38%|███▊      | 34/90 [13:52<22:11, 23.78s/it]"
     ]
    },
    {
     "name": "stdout",
     "output_type": "stream",
     "text": [
      "🟡 Analyse en cours : https://www.ukri.org/opportunity/infections-and-immunity-new-investigator/\n"
     ]
    },
    {
     "name": "stderr",
     "output_type": "stream",
     "text": [
      "🔍 Analyse des URLs:  39%|███▉      | 35/90 [14:16<21:47, 23.78s/it]"
     ]
    },
    {
     "name": "stdout",
     "output_type": "stream",
     "text": [
      "🟡 Analyse en cours : https://www.ukri.org/opportunity/population-and-systems-medicine-new-investigator/\n"
     ]
    },
    {
     "name": "stderr",
     "output_type": "stream",
     "text": [
      "🔍 Analyse des URLs:  40%|████      | 36/90 [14:39<21:19, 23.69s/it]"
     ]
    },
    {
     "name": "stdout",
     "output_type": "stream",
     "text": [
      "🟡 Analyse en cours : https://www.ukri.org/opportunity/neurosciences-and-mental-health-research/\n"
     ]
    },
    {
     "name": "stderr",
     "output_type": "stream",
     "text": [
      "🔍 Analyse des URLs:  41%|████      | 37/90 [15:03<20:55, 23.68s/it]"
     ]
    },
    {
     "name": "stdout",
     "output_type": "stream",
     "text": [
      "🟡 Analyse en cours : https://www.ukri.org/opportunity/population-and-systems-medicine-research/\n"
     ]
    },
    {
     "name": "stderr",
     "output_type": "stream",
     "text": [
      "🔍 Analyse des URLs:  42%|████▏     | 38/90 [15:27<20:32, 23.71s/it]"
     ]
    },
    {
     "name": "stdout",
     "output_type": "stream",
     "text": [
      "🟡 Analyse en cours : https://www.ukri.org/opportunity/molecular-and-cellular-medicine-research/\n"
     ]
    },
    {
     "name": "stderr",
     "output_type": "stream",
     "text": [
      "🔍 Analyse des URLs:  43%|████▎     | 39/90 [15:50<20:05, 23.64s/it]"
     ]
    },
    {
     "name": "stdout",
     "output_type": "stream",
     "text": [
      "🟡 Analyse en cours : https://www.ukri.org/opportunity/infections-and-immunity-research/\n"
     ]
    },
    {
     "name": "stderr",
     "output_type": "stream",
     "text": [
      "🔍 Analyse des URLs:  44%|████▍     | 40/90 [16:14<19:42, 23.66s/it]"
     ]
    },
    {
     "name": "stdout",
     "output_type": "stream",
     "text": [
      "🟡 Analyse en cours : https://www.ukri.org/opportunity/dare-uk-real-world-research-exemplar-programme/\n"
     ]
    },
    {
     "name": "stderr",
     "output_type": "stream",
     "text": [
      "🔍 Analyse des URLs:  46%|████▌     | 41/90 [16:38<19:19, 23.67s/it]"
     ]
    },
    {
     "name": "stdout",
     "output_type": "stream",
     "text": [
      "🟡 Analyse en cours : https://www.ukri.org/opportunity/bbsrc-new-investigator-award-2025-round-3-applicant-led-mode/\n"
     ]
    },
    {
     "name": "stderr",
     "output_type": "stream",
     "text": [
      "🔍 Analyse des URLs:  47%|████▋     | 42/90 [17:01<18:54, 23.64s/it]"
     ]
    },
    {
     "name": "stdout",
     "output_type": "stream",
     "text": [
      "🟡 Analyse en cours : https://www.ukri.org/opportunity/bbsrc-standard-research-grant-2025-round-3-applicant-led-mode/\n"
     ]
    },
    {
     "name": "stderr",
     "output_type": "stream",
     "text": [
      "🔍 Analyse des URLs:  48%|████▊     | 43/90 [17:25<18:31, 23.64s/it]"
     ]
    },
    {
     "name": "stdout",
     "output_type": "stream",
     "text": [
      "🟡 Analyse en cours : https://www.ukri.org/opportunity/critical-mass-programmes-to-drive-a-sustainable-future-invitation-only/\n"
     ]
    },
    {
     "name": "stderr",
     "output_type": "stream",
     "text": [
      "🔍 Analyse des URLs:  49%|████▉     | 44/90 [17:49<18:09, 23.69s/it]"
     ]
    },
    {
     "name": "stdout",
     "output_type": "stream",
     "text": [
      "🟡 Analyse en cours : https://www.ukri.org/opportunity/experimental-medicine/\n"
     ]
    },
    {
     "name": "stderr",
     "output_type": "stream",
     "text": [
      "🔍 Analyse des URLs:  50%|█████     | 45/90 [18:12<17:46, 23.69s/it]"
     ]
    },
    {
     "name": "stdout",
     "output_type": "stream",
     "text": [
      "🟡 Analyse en cours : https://www.ukri.org/opportunity/career-development-award/\n"
     ]
    },
    {
     "name": "stderr",
     "output_type": "stream",
     "text": [
      "🔍 Analyse des URLs:  51%|█████     | 46/90 [18:36<17:24, 23.75s/it]"
     ]
    },
    {
     "name": "stdout",
     "output_type": "stream",
     "text": [
      "🟡 Analyse en cours : https://www.ukri.org/opportunity/ukri-policy-fellowships-2025/\n"
     ]
    },
    {
     "name": "stderr",
     "output_type": "stream",
     "text": [
      "🔍 Analyse des URLs:  52%|█████▏    | 47/90 [19:00<17:03, 23.81s/it]"
     ]
    },
    {
     "name": "stdout",
     "output_type": "stream",
     "text": [
      "🟡 Analyse en cours : https://www.ukri.org/opportunity/applied-global-health-research-invited-stage-two/\n"
     ]
    },
    {
     "name": "stderr",
     "output_type": "stream",
     "text": [
      "🔍 Analyse des URLs:  53%|█████▎    | 48/90 [19:24<16:42, 23.88s/it]"
     ]
    },
    {
     "name": "stdout",
     "output_type": "stream",
     "text": [
      "🟡 Analyse en cours : https://www.ukri.org/opportunity/2025-to-2026-strategic-longer-and-larger-slola-grants/\n"
     ]
    },
    {
     "name": "stderr",
     "output_type": "stream",
     "text": [
      "🔍 Analyse des URLs:  54%|█████▍    | 49/90 [19:48<16:18, 23.86s/it]"
     ]
    },
    {
     "name": "stdout",
     "output_type": "stream",
     "text": [
      "🟡 Analyse en cours : https://www.ukri.org/opportunity/applied-global-health-partnership-invited-stage-two/\n"
     ]
    },
    {
     "name": "stderr",
     "output_type": "stream",
     "text": [
      "🔍 Analyse des URLs:  56%|█████▌    | 50/90 [20:12<15:58, 23.95s/it]"
     ]
    },
    {
     "name": "stdout",
     "output_type": "stream",
     "text": [
      "🟡 Analyse en cours : https://www.ukri.org/opportunity/collaborate-with-researchers-in-norway/\n"
     ]
    },
    {
     "name": "stderr",
     "output_type": "stream",
     "text": [
      "🔍 Analyse des URLs:  57%|█████▋    | 51/90 [20:36<15:34, 23.96s/it]"
     ]
    },
    {
     "name": "stdout",
     "output_type": "stream",
     "text": [
      "🟡 Analyse en cours : https://www.ukri.org/opportunity/collaborative-doctoral-landscape-award-in-the-arts-and-humanities/\n"
     ]
    },
    {
     "name": "stderr",
     "output_type": "stream",
     "text": [
      "🔍 Analyse des URLs:  58%|█████▊    | 52/90 [21:00<15:08, 23.92s/it]"
     ]
    },
    {
     "name": "stdout",
     "output_type": "stream",
     "text": [
      "🟡 Analyse en cours : https://www.ukri.org/opportunity/patt-travel-grants-for-competitively-awarded-observation-time-2025/\n"
     ]
    },
    {
     "name": "stderr",
     "output_type": "stream",
     "text": [
      "🔍 Analyse des URLs:  59%|█████▉    | 53/90 [21:24<14:44, 23.90s/it]"
     ]
    },
    {
     "name": "stdout",
     "output_type": "stream",
     "text": [
      "🟡 Analyse en cours : https://www.ukri.org/opportunity/developmental-pathway-funding-scheme/\n"
     ]
    },
    {
     "name": "stderr",
     "output_type": "stream",
     "text": [
      "🔍 Analyse des URLs:  60%|██████    | 54/90 [21:48<14:17, 23.82s/it]"
     ]
    },
    {
     "name": "stdout",
     "output_type": "stream",
     "text": [
      "🟡 Analyse en cours : https://www.ukri.org/opportunity/statements-of-need-in-research-infrastructure/\n"
     ]
    },
    {
     "name": "stderr",
     "output_type": "stream",
     "text": [
      "🔍 Analyse des URLs:  61%|██████    | 55/90 [22:12<13:55, 23.88s/it]"
     ]
    },
    {
     "name": "stdout",
     "output_type": "stream",
     "text": [
      "🟡 Analyse en cours : https://www.ukri.org/opportunity/epsrc-programme-grant-full-proposal/\n"
     ]
    },
    {
     "name": "stderr",
     "output_type": "stream",
     "text": [
      "🔍 Analyse des URLs:  62%|██████▏   | 56/90 [22:35<13:31, 23.86s/it]"
     ]
    },
    {
     "name": "stdout",
     "output_type": "stream",
     "text": [
      "🟡 Analyse en cours : https://www.ukri.org/opportunity/mathematical-sciences-postdoctoral-fellowship/\n"
     ]
    },
    {
     "name": "stderr",
     "output_type": "stream",
     "text": [
      "🔍 Analyse des URLs:  63%|██████▎   | 57/90 [23:00<13:15, 24.12s/it]"
     ]
    },
    {
     "name": "stdout",
     "output_type": "stream",
     "text": [
      "🟡 Analyse en cours : https://www.ukri.org/opportunity/opening-up-the-environment-2026/\n"
     ]
    },
    {
     "name": "stderr",
     "output_type": "stream",
     "text": [
      "🔍 Analyse des URLs:  64%|██████▍   | 58/90 [23:24<12:45, 23.93s/it]"
     ]
    },
    {
     "name": "stdout",
     "output_type": "stream",
     "text": [
      "🟡 Analyse en cours : https://www.ukri.org/opportunity/small-molecule-high-throughput-screen-using-astrazeneca-facilities/\n"
     ]
    },
    {
     "name": "stderr",
     "output_type": "stream",
     "text": [
      "🔍 Analyse des URLs:  66%|██████▌   | 59/90 [23:48<12:23, 23.99s/it]"
     ]
    },
    {
     "name": "stdout",
     "output_type": "stream",
     "text": [
      "🟡 Analyse en cours : https://www.ukri.org/opportunity/ahrc-responsive-mode-curiosity-award/\n"
     ]
    },
    {
     "name": "stderr",
     "output_type": "stream",
     "text": [
      "🔍 Analyse des URLs:  67%|██████▋   | 60/90 [24:11<11:56, 23.87s/it]"
     ]
    },
    {
     "name": "stdout",
     "output_type": "stream",
     "text": [
      "🟡 Analyse en cours : https://www.ukri.org/opportunity/ahrc-responsive-mode-catalyst-awards/\n"
     ]
    },
    {
     "name": "stderr",
     "output_type": "stream",
     "text": [
      "🔍 Analyse des URLs:  68%|██████▊   | 61/90 [24:35<11:29, 23.79s/it]"
     ]
    },
    {
     "name": "stdout",
     "output_type": "stream",
     "text": [
      "🟡 Analyse en cours : https://www.ukri.org/opportunity/pushing-the-frontiers-of-environmental-research-july-2025/\n"
     ]
    },
    {
     "name": "stderr",
     "output_type": "stream",
     "text": [
      "🔍 Analyse des URLs:  69%|██████▉   | 62/90 [24:58<11:03, 23.71s/it]"
     ]
    },
    {
     "name": "stdout",
     "output_type": "stream",
     "text": [
      "🟡 Analyse en cours : https://www.ukri.org/opportunity/mathematical-sciences-open-and-open-plus-fellowship/\n"
     ]
    },
    {
     "name": "stderr",
     "output_type": "stream",
     "text": [
      "🔍 Analyse des URLs:  70%|███████   | 63/90 [25:24<10:52, 24.18s/it]"
     ]
    },
    {
     "name": "stdout",
     "output_type": "stream",
     "text": [
      "🟡 Analyse en cours : https://www.ukri.org/opportunity/ahrc-responsive-mode-ukri-nsf-sbe-lead-agency/\n"
     ]
    },
    {
     "name": "stderr",
     "output_type": "stream",
     "text": [
      "🔍 Analyse des URLs:  71%|███████   | 64/90 [25:48<10:30, 24.25s/it]"
     ]
    },
    {
     "name": "stdout",
     "output_type": "stream",
     "text": [
      "🟡 Analyse en cours : https://www.ukri.org/opportunity/ahrc-responsive-mode-working-with-brazilian-researchers/\n"
     ]
    },
    {
     "name": "stderr",
     "output_type": "stream",
     "text": [
      "🔍 Analyse des URLs:  72%|███████▏  | 65/90 [26:12<10:02, 24.10s/it]"
     ]
    },
    {
     "name": "stdout",
     "output_type": "stream",
     "text": [
      "🟡 Analyse en cours : https://www.ukri.org/opportunity/ahrc-responsive-mode-collaborate-with-researchers-in-luxembourg/\n"
     ]
    },
    {
     "name": "stderr",
     "output_type": "stream",
     "text": [
      "🔍 Analyse des URLs:  73%|███████▎  | 66/90 [26:36<09:35, 23.97s/it]"
     ]
    },
    {
     "name": "stdout",
     "output_type": "stream",
     "text": [
      "🟡 Analyse en cours : https://www.ukri.org/opportunity/ahrc-responsive-mode-standard-research-grant/\n"
     ]
    },
    {
     "name": "stderr",
     "output_type": "stream",
     "text": [
      "🔍 Analyse des URLs:  74%|███████▍  | 67/90 [26:59<09:08, 23.87s/it]"
     ]
    },
    {
     "name": "stdout",
     "output_type": "stream",
     "text": [
      "🟡 Analyse en cours : https://www.ukri.org/opportunity/epsrc-programme-grant-outline-stage/\n"
     ]
    },
    {
     "name": "stderr",
     "output_type": "stream",
     "text": [
      "🔍 Analyse des URLs:  76%|███████▌  | 68/90 [27:23<08:44, 23.86s/it]"
     ]
    },
    {
     "name": "stdout",
     "output_type": "stream",
     "text": [
      "🟡 Analyse en cours : https://www.ukri.org/opportunity/bbsrc-international-travel-award-scheme/\n"
     ]
    },
    {
     "name": "stderr",
     "output_type": "stream",
     "text": [
      "🔍 Analyse des URLs:  77%|███████▋  | 69/90 [27:47<08:24, 24.01s/it]"
     ]
    },
    {
     "name": "stdout",
     "output_type": "stream",
     "text": [
      "🟡 Analyse en cours : https://www.ukri.org/opportunity/projects-peer-review-panel-pprp-2025/\n"
     ]
    },
    {
     "name": "stderr",
     "output_type": "stream",
     "text": [
      "🔍 Analyse des URLs:  78%|███████▊  | 70/90 [28:12<08:01, 24.07s/it]"
     ]
    },
    {
     "name": "stdout",
     "output_type": "stream",
     "text": [
      "🟡 Analyse en cours : https://www.ukri.org/opportunity/nerc-urgency-funding-open/\n"
     ]
    },
    {
     "name": "stderr",
     "output_type": "stream",
     "text": [
      "🔍 Analyse des URLs:  79%|███████▉  | 71/90 [28:35<07:35, 23.99s/it]"
     ]
    },
    {
     "name": "stdout",
     "output_type": "stream",
     "text": [
      "🟡 Analyse en cours : https://www.ukri.org/opportunity/strategic-infrastructure-outlines/\n"
     ]
    },
    {
     "name": "stderr",
     "output_type": "stream",
     "text": [
      "🔍 Analyse des URLs:  80%|████████  | 72/90 [28:59<07:09, 23.84s/it]"
     ]
    },
    {
     "name": "stdout",
     "output_type": "stream",
     "text": [
      "🟡 Analyse en cours : https://www.ukri.org/opportunity/epsrc-network-grant-nov-2023-responsive-mode/\n"
     ]
    },
    {
     "name": "stderr",
     "output_type": "stream",
     "text": [
      "🔍 Analyse des URLs:  81%|████████  | 73/90 [29:23<06:46, 23.92s/it]"
     ]
    },
    {
     "name": "stdout",
     "output_type": "stream",
     "text": [
      "🟡 Analyse en cours : https://www.ukri.org/opportunity/epsrc-working-with-overseas-scientists-nov-2023-responsive-mode/\n"
     ]
    },
    {
     "name": "stderr",
     "output_type": "stream",
     "text": [
      "🔍 Analyse des URLs:  82%|████████▏ | 74/90 [29:47<06:21, 23.83s/it]"
     ]
    },
    {
     "name": "stdout",
     "output_type": "stream",
     "text": [
      "🟡 Analyse en cours : https://www.ukri.org/opportunity/epsrc-new-investigator-award-nov-2023-responsive-mode/\n"
     ]
    },
    {
     "name": "stderr",
     "output_type": "stream",
     "text": [
      "🔍 Analyse des URLs:  83%|████████▎ | 75/90 [30:10<05:56, 23.75s/it]"
     ]
    },
    {
     "name": "stdout",
     "output_type": "stream",
     "text": [
      "🟡 Analyse en cours : https://www.ukri.org/opportunity/epsrc-discipline-hopping-in-ict-nov-2023-responsive-mode/\n"
     ]
    },
    {
     "name": "stderr",
     "output_type": "stream",
     "text": [
      "🔍 Analyse des URLs:  84%|████████▍ | 76/90 [30:34<05:32, 23.75s/it]"
     ]
    },
    {
     "name": "stdout",
     "output_type": "stream",
     "text": [
      "🟡 Analyse en cours : https://www.ukri.org/opportunity/epsrc-overseas-travel-grant-nov-2023-responsive-mode/\n"
     ]
    },
    {
     "name": "stderr",
     "output_type": "stream",
     "text": [
      "🔍 Analyse des URLs:  86%|████████▌ | 77/90 [30:58<05:09, 23.78s/it]"
     ]
    },
    {
     "name": "stdout",
     "output_type": "stream",
     "text": [
      "🟡 Analyse en cours : https://www.ukri.org/opportunity/epsrc-standard-research-grant-nov-2023-responsive-mode/\n"
     ]
    },
    {
     "name": "stderr",
     "output_type": "stream",
     "text": [
      "🔍 Analyse des URLs:  87%|████████▋ | 78/90 [31:22<04:46, 23.89s/it]"
     ]
    },
    {
     "name": "stdout",
     "output_type": "stream",
     "text": [
      "🟡 Analyse en cours : https://www.ukri.org/opportunity/esrc-responsive-mode-research-grants-round-two/\n"
     ]
    },
    {
     "name": "stderr",
     "output_type": "stream",
     "text": [
      "🔍 Analyse des URLs:  88%|████████▊ | 79/90 [31:46<04:23, 23.94s/it]"
     ]
    },
    {
     "name": "stdout",
     "output_type": "stream",
     "text": [
      "🟡 Analyse en cours : https://www.ukri.org/opportunity/esrc-responsive-mode-new-investigator-grants-round-two/\n"
     ]
    },
    {
     "name": "stderr",
     "output_type": "stream",
     "text": [
      "🔍 Analyse des URLs:  89%|████████▉ | 80/90 [32:10<03:59, 23.91s/it]"
     ]
    },
    {
     "name": "stdout",
     "output_type": "stream",
     "text": [
      "🟡 Analyse en cours : https://www.ukri.org/opportunity/esrc-responsive-mode-working-with-luxembourg-researchers-round-two/\n"
     ]
    },
    {
     "name": "stderr",
     "output_type": "stream",
     "text": [
      "🔍 Analyse des URLs:  90%|█████████ | 81/90 [32:33<03:34, 23.79s/it]"
     ]
    },
    {
     "name": "stdout",
     "output_type": "stream",
     "text": [
      "🟡 Analyse en cours : https://www.ukri.org/opportunity/esrc-responsive-mode-secondary-data-analysis-round-two/\n"
     ]
    },
    {
     "name": "stderr",
     "output_type": "stream",
     "text": [
      "🔍 Analyse des URLs:  91%|█████████ | 82/90 [32:57<03:10, 23.78s/it]"
     ]
    },
    {
     "name": "stdout",
     "output_type": "stream",
     "text": [
      "🟡 Analyse en cours : https://www.ukri.org/opportunity/esrc-responsive-mode-ukri-sbe-lead-agency-opportunity-round-two/\n"
     ]
    },
    {
     "name": "stderr",
     "output_type": "stream",
     "text": [
      "🔍 Analyse des URLs:  92%|█████████▏| 83/90 [33:21<02:46, 23.72s/it]"
     ]
    },
    {
     "name": "stdout",
     "output_type": "stream",
     "text": [
      "🟡 Analyse en cours : https://www.ukri.org/opportunity/esrc-responsive-mode-working-with-brazilian-researchers-round-two/\n"
     ]
    },
    {
     "name": "stderr",
     "output_type": "stream",
     "text": [
      "🔍 Analyse des URLs:  93%|█████████▎| 84/90 [33:45<02:22, 23.76s/it]"
     ]
    },
    {
     "name": "stdout",
     "output_type": "stream",
     "text": [
      "🟡 Analyse en cours : https://www.ukri.org/opportunity/collaborate-with-researchers-in-luxembourg/\n"
     ]
    },
    {
     "name": "stderr",
     "output_type": "stream",
     "text": [
      "🔍 Analyse des URLs:  94%|█████████▍| 85/90 [34:09<01:59, 23.84s/it]"
     ]
    },
    {
     "name": "stdout",
     "output_type": "stream",
     "text": [
      "🟡 Analyse en cours : https://www.ukri.org/opportunity/work-with-brazilian-researchers-nerc-fapesp-lead-agency/\n"
     ]
    },
    {
     "name": "stderr",
     "output_type": "stream",
     "text": [
      "🔍 Analyse des URLs:  96%|█████████▌| 86/90 [34:32<01:35, 23.82s/it]"
     ]
    },
    {
     "name": "stdout",
     "output_type": "stream",
     "text": [
      "🟡 Analyse en cours : https://www.ukri.org/opportunity/collaborate-with-researchers-in-brazil/\n"
     ]
    },
    {
     "name": "stderr",
     "output_type": "stream",
     "text": [
      "🔍 Analyse des URLs:  97%|█████████▋| 87/90 [34:56<01:11, 23.80s/it]"
     ]
    },
    {
     "name": "stdout",
     "output_type": "stream",
     "text": [
      "🟡 Analyse en cours : https://www.ukri.org/opportunity/ukri-sbe-lead-agency-opportunity/\n"
     ]
    },
    {
     "name": "stderr",
     "output_type": "stream",
     "text": [
      "🔍 Analyse des URLs:  98%|█████████▊| 88/90 [35:20<00:47, 23.88s/it]"
     ]
    },
    {
     "name": "stdout",
     "output_type": "stream",
     "text": [
      "🟡 Analyse en cours : https://www.ukri.org/opportunity/research-england-development-fund/\n"
     ]
    },
    {
     "name": "stderr",
     "output_type": "stream",
     "text": [
      "🔍 Analyse des URLs:  99%|█████████▉| 89/90 [35:44<00:23, 23.99s/it]"
     ]
    },
    {
     "name": "stdout",
     "output_type": "stream",
     "text": [
      "🟡 Analyse en cours : https://www.ukri.org/opportunity/daphne-jackson-fellowship/\n"
     ]
    },
    {
     "name": "stderr",
     "output_type": "stream",
     "text": [
      "🔍 Analyse des URLs: 100%|██████████| 90/90 [36:08<00:00, 24.09s/it]\n"
     ]
    },
    {
     "name": "stdout",
     "output_type": "stream",
     "text": [
      "\n",
      "✅ Résultats sauvegardés dans 'df_yes_avec_pertinence_et_resume_uk.csv'.\n"
     ]
    }
   ],
   "source": [
    "from selenium import webdriver\n",
    "from selenium.webdriver.chrome.options import Options\n",
    "from selenium.webdriver.common.by import By\n",
    "import time\n",
    "import pandas as pd\n",
    "from groq import Groq\n",
    "import re\n",
    "from tqdm import tqdm\n",
    "\n",
    "# === CONFIGURATION GROQ ===\n",
    "import os\n",
    "from dotenv import load_dotenv\n",
    "\n",
    "# Load environment variables\n",
    "load_dotenv()\n",
    "\n",
    "client = Groq(api_key=os.getenv('GROQ_API_KEY'))\n",
    "MODEL_NAME = \"llama3-70b-8192\"\n",
    "\n",
    "# === CONFIGURATION SELENIUM HEADLESS ===\n",
    "options = Options()\n",
    "options.add_argument(\"--headless\")\n",
    "options.add_argument(\"--disable-gpu\")\n",
    "options.add_argument(\"--window-size=1920,1080\")\n",
    "driver = webdriver.Chrome(options=options)\n",
    "\n",
    "# === Nettoyage & Limitation texte ===\n",
    "def clean_and_limit_text(text, max_words=800):\n",
    "    text = re.sub(r'\\s+', ' ', text).strip()\n",
    "    words = text.split()\n",
    "    if len(words) > max_words:\n",
    "        return ' '.join(words[:max_words]) + \" [...] (texte tronqué)\"\n",
    "    return text\n",
    "\n",
    "# === Extraction texte depuis une URL ===\n",
    "def extract_text_from_URL(URL):\n",
    "    try:\n",
    "        driver.get(URL)\n",
    "        time.sleep(5)\n",
    "\n",
    "        for _ in range(10):\n",
    "            driver.execute_script(\"window.scrollBy(0, 500);\")\n",
    "            time.sleep(0.3)\n",
    "        time.sleep(3)\n",
    "\n",
    "        js_desc = \"\"\"\n",
    "        let desc = document.querySelector('div.showMore--three-lines');\n",
    "        return desc ? desc.innerText.trim() : '';\n",
    "        \"\"\"\n",
    "        description_text = driver.execute_script(js_desc)\n",
    "\n",
    "        try:\n",
    "            open_all_btn = driver.find_element(By.CLASS_NAME, \"govuk-accordion__open-all\")\n",
    "            open_all_btn.click()\n",
    "            time.sleep(1)\n",
    "        except:\n",
    "            pass\n",
    "\n",
    "        js_accordion = \"\"\"\n",
    "        let acc = document.querySelector('div.govuk-accordion.ukri-accordion');\n",
    "        return acc ? acc.innerText.trim() : '';\n",
    "        \"\"\"\n",
    "        accordion_text = driver.execute_script(js_accordion)\n",
    "\n",
    "        final_text = f\"{description_text}\\n\\n---\\n\\n{accordion_text}\".strip()\n",
    "        return final_text if final_text.strip() else \"Pas de contenu détecté.\"\n",
    "    \n",
    "    except Exception as e:\n",
    "        return f\"Erreur Selenium: {e}\"\n",
    "\n",
    "# === Construction du prompt pour Groq ===\n",
    "def build_prompt(projects, site_text):\n",
    "    projects_text = \"\\n\".join([\n",
    "        f\"{i+1}. {p['Project Name']} : {p['Description']} (axe {p['Axes / Thematic Areas']})\"\n",
    "        for i, p in enumerate(projects)\n",
    "    ])\n",
    "    return f\"\"\"\n",
    "Tu es un expert en analyse de projets d'entreprise.\n",
    "\n",
    "Voici une liste de projets que cette entreprise a déjà réalisés avec leurs descriptions et axes principaux :\n",
    "\n",
    "{projects_text}\n",
    "\n",
    "Voici maintenant le contenu d'un appel à projets extrait d'une page du portail européen :\n",
    "\n",
    "{site_text}\n",
    "\n",
    "Peux-tu me dire si cette opportunité est pertinente par rapport aux projets que l'entreprise a déjà réalisés ?\n",
    "Merci de répondre clairement :\n",
    "- Pertinence : Oui / Non\n",
    "- Projets similaires détectés : [liste]\n",
    "- Résumé rapide expliquant ta réponse.\n",
    "\"\"\"\n",
    "\n",
    "# === Requête Groq ===\n",
    "def query_groq(prompt, model=MODEL_NAME, max_completion_tokens=3000, temperature=1.0, stream=False, delay_between_requests=10):\n",
    "    try:\n",
    "        response = client.chat.completions.create(\n",
    "            model=model,\n",
    "            messages=[\n",
    "                {\"role\": \"system\", \"content\": \"Tu es un expert en comparaison de projets R&D.\"},\n",
    "                {\"role\": \"user\", \"content\": prompt}\n",
    "            ],\n",
    "            temperature=temperature,\n",
    "            max_completion_tokens=max_completion_tokens,\n",
    "            top_p=1,\n",
    "            stream=stream\n",
    "        )\n",
    "        if stream:\n",
    "            result = \"\"\n",
    "            for chunk in response:\n",
    "                delta = chunk.choices[0].delta.content\n",
    "                if delta:\n",
    "                    result += delta\n",
    "            time.sleep(delay_between_requests)\n",
    "            return result.strip()\n",
    "        else:\n",
    "            time.sleep(delay_between_requests)\n",
    "            return response.choices[0].message.content.strip()\n",
    "    except Exception as e:\n",
    "        return f\"Erreur Groq: {e}\"\n",
    "\n",
    "# === Parsing du résultat Groq ===\n",
    "def parse_result(text):\n",
    "    pertinence = \"Non\"\n",
    "    resume = \"\"\n",
    "\n",
    "    try:\n",
    "        match = re.search(r\"(?i)pertinence\\s*[:\\-–]\\s*(oui|non)\", text)\n",
    "        if match:\n",
    "            pertinence = match.group(1).capitalize()\n",
    "\n",
    "        resume_match = re.search(r\"(?i)résumé.*?:\\s*(.+)\", text)\n",
    "        if resume_match:\n",
    "            resume = resume_match.group(1).strip()\n",
    "        else:\n",
    "            resume = \"\\n\".join(text.splitlines()[1:4]).strip()\n",
    "    except:\n",
    "        pass\n",
    "\n",
    "    return pertinence, resume\n",
    "\n",
    "# === Analyse d'une URL ===\n",
    "def analyze_URL(URL, projects_list):\n",
    "    print(f\"🟡 Analyse en cours : {URL}\")\n",
    "    try:\n",
    "        site_text_raw = extract_text_from_URL(URL)\n",
    "        site_text = clean_and_limit_text(site_text_raw, max_words=800)\n",
    "        projects_list_sample = projects_list[:3]  # 3 projets max\n",
    "\n",
    "        prompt = build_prompt(projects_list_sample, site_text)\n",
    "        result_text = query_groq(prompt)\n",
    "        pertinence, resume = parse_result(result_text)\n",
    "        \n",
    "        return {\n",
    "            \"URL\": URL,\n",
    "            \"Pertinence LLM\": pertinence,\n",
    "            \"Résumé LLM\": resume,\n",
    "            \"Réponse brute\": result_text\n",
    "        }\n",
    "    except Exception as e:\n",
    "        return {\n",
    "            \"URL\": URL,\n",
    "            \"Pertinence LLM\": \"Erreur\",\n",
    "            \"Résumé LLM\": f\"Erreur pendant l'analyse : {e}\",\n",
    "            \"Réponse brute\": str(e)\n",
    "        }\n",
    "\n",
    "# === MAIN EXECUTION ===\n",
    "if __name__ == \"__main__\":\n",
    "    try:\n",
    "        df_pertinence_uk = pd.read_excel(\"projets_pertinents_keywords_InnUK_from_all_description.xlsx\")\n",
    "        projects_list = odf_df[['Project Name', 'Description', 'Axes / Thematic Areas']].dropna().to_dict(orient='records')\n",
    "        URL_list = df_pertinence_uk['URL'].dropna().unique()\n",
    "\n",
    "        results = []\n",
    "        for URL in tqdm(URL_list, desc=\"🔍 Analyse des URLs\"):\n",
    "            results.append(analyze_URL(URL, projects_list))\n",
    "\n",
    "        results_df = pd.DataFrame(results)\n",
    "        df_final_llm_uk = df_pertinence_uk.merge(results_df, on=\"URL\", how=\"left\")\n",
    "\n",
    "        df_final_llm_uk.to_excel(\"df_yes_avec_pertinence_et_resume_uk.xlsx\", index=False)\n",
    "        print(\"\\n✅ Résultats sauvegardés dans 'df_yes_avec_pertinence_et_resume_uk.csv'.\")\n",
    "        \n",
    "    finally:\n",
    "        driver.quit()\n"
   ]
  },
  {
   "cell_type": "code",
   "execution_count": null,
   "id": "cb15db15",
   "metadata": {},
   "outputs": [
    {
     "name": "stderr",
     "output_type": "stream",
     "text": [
      "🔍 Analyse des URLs:   0%|          | 0/90 [00:00<?, ?it/s]"
     ]
    },
    {
     "name": "stdout",
     "output_type": "stream",
     "text": [
      "🟡 Analyse en cours : https://www.ukri.org/opportunity/smart-data-research-uk-fellowships/\n"
     ]
    },
    {
     "name": "stderr",
     "output_type": "stream",
     "text": [
      "🔍 Analyse des URLs:   1%|          | 1/90 [00:31<47:08, 31.79s/it]"
     ]
    },
    {
     "name": "stdout",
     "output_type": "stream",
     "text": [
      "🟡 Analyse en cours : https://www.ukri.org/opportunity/institutional-diversity-fund-invite-only/\n"
     ]
    },
    {
     "name": "stderr",
     "output_type": "stream",
     "text": [
      "🔍 Analyse des URLs:   2%|▏         | 2/90 [00:56<40:14, 27.44s/it]"
     ]
    },
    {
     "name": "stdout",
     "output_type": "stream",
     "text": [
      "🟡 Analyse en cours : https://www.ukri.org/opportunity/funding-for-early-stage-development-of-new-healthcare-interventions/\n"
     ]
    },
    {
     "name": "stderr",
     "output_type": "stream",
     "text": [
      "🔍 Analyse des URLs:   3%|▎         | 3/90 [01:19<37:18, 25.73s/it]"
     ]
    },
    {
     "name": "stdout",
     "output_type": "stream",
     "text": [
      "🟡 Analyse en cours : https://www.ukri.org/opportunity/digitise-uk-natural-science-collections/\n"
     ]
    },
    {
     "name": "stderr",
     "output_type": "stream",
     "text": [
      "🔍 Analyse des URLs:   4%|▍         | 4/90 [01:44<36:09, 25.22s/it]"
     ]
    },
    {
     "name": "stdout",
     "output_type": "stream",
     "text": [
      "🟡 Analyse en cours : https://www.ukri.org/opportunity/aviations-non-co2-impacts-on-the-climate-programme-coordinator/\n"
     ]
    },
    {
     "name": "stderr",
     "output_type": "stream",
     "text": [
      "🔍 Analyse des URLs:   6%|▌         | 5/90 [02:08<35:06, 24.78s/it]"
     ]
    },
    {
     "name": "stdout",
     "output_type": "stream",
     "text": [
      "🟡 Analyse en cours : https://www.ukri.org/opportunity/research-and-partnership-hubs-for-a-healthy-society/\n"
     ]
    },
    {
     "name": "stderr",
     "output_type": "stream",
     "text": [
      "🔍 Analyse des URLs:   7%|▋         | 6/90 [02:32<34:18, 24.51s/it]"
     ]
    },
    {
     "name": "stdout",
     "output_type": "stream",
     "text": [
      "🟡 Analyse en cours : https://www.ukri.org/opportunity/stfc-leadership-fellowships-in-public-engagement/\n"
     ]
    },
    {
     "name": "stderr",
     "output_type": "stream",
     "text": [
      "🔍 Analyse des URLs:   8%|▊         | 7/90 [02:55<33:27, 24.19s/it]"
     ]
    },
    {
     "name": "stdout",
     "output_type": "stream",
     "text": [
      "🟡 Analyse en cours : https://www.ukri.org/opportunity/computing-resources-on-the-stfc-dirac-hpc-facility-rac18/\n"
     ]
    },
    {
     "name": "stderr",
     "output_type": "stream",
     "text": [
      "🔍 Analyse des URLs:   9%|▉         | 8/90 [03:19<32:48, 24.00s/it]"
     ]
    },
    {
     "name": "stdout",
     "output_type": "stream",
     "text": [
      "🟡 Analyse en cours : https://www.ukri.org/opportunity/experimental-medicine-invited-stage-two-application/\n"
     ]
    },
    {
     "name": "stderr",
     "output_type": "stream",
     "text": [
      "🔍 Analyse des URLs:  10%|█         | 9/90 [03:43<32:16, 23.90s/it]"
     ]
    },
    {
     "name": "stdout",
     "output_type": "stream",
     "text": [
      "🟡 Analyse en cours : https://www.ukri.org/opportunity/us-uk-and-germany-uk-collaborative-research-seed-funding-in-semiconductor-security/\n"
     ]
    },
    {
     "name": "stderr",
     "output_type": "stream",
     "text": [
      "🔍 Analyse des URLs:  11%|█         | 10/90 [04:06<31:47, 23.84s/it]"
     ]
    },
    {
     "name": "stdout",
     "output_type": "stream",
     "text": [
      "🟡 Analyse en cours : https://www.ukri.org/opportunity/biological-influence-on-ocean-carbon-novel-modelling-approaches/\n"
     ]
    },
    {
     "name": "stderr",
     "output_type": "stream",
     "text": [
      "🔍 Analyse des URLs:  12%|█▏        | 11/90 [04:31<31:50, 24.19s/it]"
     ]
    },
    {
     "name": "stdout",
     "output_type": "stream",
     "text": [
      "🟡 Analyse en cours : https://www.ukri.org/opportunity/ukri-gambling-harms-research-coordination-centre-ghrcc/\n"
     ]
    },
    {
     "name": "stderr",
     "output_type": "stream",
     "text": [
      "🔍 Analyse des URLs:  13%|█▎        | 12/90 [04:55<31:20, 24.11s/it]"
     ]
    },
    {
     "name": "stdout",
     "output_type": "stream",
     "text": [
      "🟡 Analyse en cours : https://www.ukri.org/opportunity/gambling-harms-research-and-innovation-partnerships/\n"
     ]
    },
    {
     "name": "stderr",
     "output_type": "stream",
     "text": [
      "🔍 Analyse des URLs:  14%|█▍        | 13/90 [05:20<31:14, 24.34s/it]"
     ]
    },
    {
     "name": "stdout",
     "output_type": "stream",
     "text": [
      "🟡 Analyse en cours : https://www.ukri.org/opportunity/multiple-model-assessment-of-biological-influence-on-ocean-carbon/\n"
     ]
    },
    {
     "name": "stderr",
     "output_type": "stream",
     "text": [
      "🔍 Analyse des URLs:  16%|█▌        | 14/90 [05:46<31:18, 24.72s/it]"
     ]
    },
    {
     "name": "stdout",
     "output_type": "stream",
     "text": [
      "🟡 Analyse en cours : https://www.ukri.org/opportunity/transdisciplinary-research-to-tackle-antimicrobial-resistance-full-application/\n"
     ]
    },
    {
     "name": "stderr",
     "output_type": "stream",
     "text": [
      "🔍 Analyse des URLs:  17%|█▋        | 15/90 [06:10<30:42, 24.57s/it]"
     ]
    },
    {
     "name": "stdout",
     "output_type": "stream",
     "text": [
      "🟡 Analyse en cours : https://www.ukri.org/opportunity/canada-uk-networkplus-in-semiconductor-research/\n"
     ]
    },
    {
     "name": "stderr",
     "output_type": "stream",
     "text": [
      "🔍 Analyse des URLs:  18%|█▊        | 16/90 [06:36<30:42, 24.90s/it]"
     ]
    },
    {
     "name": "stdout",
     "output_type": "stream",
     "text": [
      "🟡 Analyse en cours : https://www.ukri.org/opportunity/uk-international-ocean-drilling-programme-moratorium-awards/\n"
     ]
    },
    {
     "name": "stderr",
     "output_type": "stream",
     "text": [
      "🔍 Analyse des URLs:  19%|█▉        | 17/90 [07:01<30:38, 25.18s/it]"
     ]
    },
    {
     "name": "stdout",
     "output_type": "stream",
     "text": [
      "🟡 Analyse en cours : https://www.ukri.org/opportunity/health-technologies-connectivity-awards-round-two/\n"
     ]
    },
    {
     "name": "stderr",
     "output_type": "stream",
     "text": [
      "🔍 Analyse des URLs:  20%|██        | 18/90 [07:25<29:38, 24.70s/it]"
     ]
    },
    {
     "name": "stdout",
     "output_type": "stream",
     "text": [
      "🟡 Analyse en cours : https://www.ukri.org/opportunity/clinician-scientist-fellowship/\n"
     ]
    },
    {
     "name": "stderr",
     "output_type": "stream",
     "text": [
      "🔍 Analyse des URLs:  21%|██        | 19/90 [07:50<29:11, 24.67s/it]"
     ]
    },
    {
     "name": "stdout",
     "output_type": "stream",
     "text": [
      "🟡 Analyse en cours : https://www.ukri.org/opportunity/pre-doctoral-clinical-research-training-fellowship/\n"
     ]
    },
    {
     "name": "stderr",
     "output_type": "stream",
     "text": [
      "🔍 Analyse des URLs:  22%|██▏       | 20/90 [08:15<28:52, 24.75s/it]"
     ]
    },
    {
     "name": "stdout",
     "output_type": "stream",
     "text": [
      "🟡 Analyse en cours : https://www.ukri.org/opportunity/post-doctoral-clinical-research-training-fellowship/\n"
     ]
    },
    {
     "name": "stderr",
     "output_type": "stream",
     "text": [
      "🔍 Analyse des URLs:  23%|██▎       | 21/90 [08:40<28:45, 25.01s/it]"
     ]
    },
    {
     "name": "stdout",
     "output_type": "stream",
     "text": [
      "🟡 Analyse en cours : https://www.ukri.org/opportunity/engineer-next-generation-veterinary-vaccine-technology-platforms/\n"
     ]
    },
    {
     "name": "stderr",
     "output_type": "stream",
     "text": [
      "🔍 Analyse des URLs:  24%|██▍       | 22/90 [09:05<28:10, 24.86s/it]"
     ]
    },
    {
     "name": "stdout",
     "output_type": "stream",
     "text": [
      "🟡 Analyse en cours : https://www.ukri.org/opportunity/strategic-infrastructure-for-engineering-and-physical-sciences-june-2025/\n"
     ]
    },
    {
     "name": "stderr",
     "output_type": "stream",
     "text": [
      "🔍 Analyse des URLs:  26%|██▌       | 23/90 [09:28<27:24, 24.54s/it]"
     ]
    },
    {
     "name": "stdout",
     "output_type": "stream",
     "text": [
      "🟡 Analyse en cours : https://www.ukri.org/opportunity/ernest-rutherford-fellowship-2025/\n"
     ]
    },
    {
     "name": "stderr",
     "output_type": "stream",
     "text": [
      "🔍 Analyse des URLs:  27%|██▋       | 24/90 [09:52<26:45, 24.32s/it]"
     ]
    },
    {
     "name": "stdout",
     "output_type": "stream",
     "text": [
      "🟡 Analyse en cours : https://www.ukri.org/opportunity/research-to-advance-uk-recycling-capabilities-full-stage/\n"
     ]
    },
    {
     "name": "stderr",
     "output_type": "stream",
     "text": [
      "🔍 Analyse des URLs:  28%|██▊       | 25/90 [10:16<26:10, 24.16s/it]"
     ]
    },
    {
     "name": "stdout",
     "output_type": "stream",
     "text": [
      "🟡 Analyse en cours : https://www.ukri.org/opportunity/sandpit-moving-respiratory-health-diagnosis-into-the-21st-century-invite-only/\n"
     ]
    },
    {
     "name": "stderr",
     "output_type": "stream",
     "text": [
      "🔍 Analyse des URLs:  29%|██▉       | 26/90 [10:39<25:31, 23.93s/it]"
     ]
    },
    {
     "name": "stdout",
     "output_type": "stream",
     "text": [
      "🟡 Analyse en cours : https://www.ukri.org/opportunity/mrc-centre-of-research-excellence-round-three/\n"
     ]
    },
    {
     "name": "stderr",
     "output_type": "stream",
     "text": [
      "🔍 Analyse des URLs:  30%|███       | 27/90 [11:06<26:02, 24.81s/it]"
     ]
    },
    {
     "name": "stdout",
     "output_type": "stream",
     "text": [
      "🟡 Analyse en cours : https://www.ukri.org/opportunity/responsive-mode-partnership/\n"
     ]
    },
    {
     "name": "stderr",
     "output_type": "stream",
     "text": [
      "🔍 Analyse des URLs:  31%|███       | 28/90 [11:30<25:19, 24.51s/it]"
     ]
    },
    {
     "name": "stdout",
     "output_type": "stream",
     "text": [
      "🟡 Analyse en cours : https://www.ukri.org/opportunity/infections-and-immunity-programme/\n"
     ]
    },
    {
     "name": "stderr",
     "output_type": "stream",
     "text": [
      "🔍 Analyse des URLs:  32%|███▏      | 29/90 [11:54<24:37, 24.22s/it]"
     ]
    },
    {
     "name": "stdout",
     "output_type": "stream",
     "text": [
      "🟡 Analyse en cours : https://www.ukri.org/opportunity/neurosciences-and-mental-health-programme/\n"
     ]
    },
    {
     "name": "stderr",
     "output_type": "stream",
     "text": [
      "🔍 Analyse des URLs:  33%|███▎      | 30/90 [12:17<24:04, 24.08s/it]"
     ]
    },
    {
     "name": "stdout",
     "output_type": "stream",
     "text": [
      "🟡 Analyse en cours : https://www.ukri.org/opportunity/population-and-systems-medicine-programme/\n"
     ]
    },
    {
     "name": "stderr",
     "output_type": "stream",
     "text": [
      "🔍 Analyse des URLs:  34%|███▍      | 31/90 [12:41<23:36, 24.01s/it]"
     ]
    },
    {
     "name": "stdout",
     "output_type": "stream",
     "text": [
      "🟡 Analyse en cours : https://www.ukri.org/opportunity/molecular-and-cellular-medicine-programme/\n"
     ]
    },
    {
     "name": "stderr",
     "output_type": "stream",
     "text": [
      "🔍 Analyse des URLs:  36%|███▌      | 32/90 [13:05<23:02, 23.84s/it]"
     ]
    },
    {
     "name": "stdout",
     "output_type": "stream",
     "text": [
      "🟡 Analyse en cours : https://www.ukri.org/opportunity/molecular-and-cellular-medicine-new-investigator/\n"
     ]
    },
    {
     "name": "stderr",
     "output_type": "stream",
     "text": [
      "🔍 Analyse des URLs:  37%|███▋      | 33/90 [13:28<22:36, 23.80s/it]"
     ]
    },
    {
     "name": "stdout",
     "output_type": "stream",
     "text": [
      "🟡 Analyse en cours : https://www.ukri.org/opportunity/neurosciences-and-mental-health-new-investigator/\n"
     ]
    },
    {
     "name": "stderr",
     "output_type": "stream",
     "text": [
      "🔍 Analyse des URLs:  38%|███▊      | 34/90 [13:52<22:11, 23.78s/it]"
     ]
    },
    {
     "name": "stdout",
     "output_type": "stream",
     "text": [
      "🟡 Analyse en cours : https://www.ukri.org/opportunity/infections-and-immunity-new-investigator/\n"
     ]
    },
    {
     "name": "stderr",
     "output_type": "stream",
     "text": [
      "🔍 Analyse des URLs:  39%|███▉      | 35/90 [14:16<21:47, 23.78s/it]"
     ]
    },
    {
     "name": "stdout",
     "output_type": "stream",
     "text": [
      "🟡 Analyse en cours : https://www.ukri.org/opportunity/population-and-systems-medicine-new-investigator/\n"
     ]
    },
    {
     "name": "stderr",
     "output_type": "stream",
     "text": [
      "🔍 Analyse des URLs:  40%|████      | 36/90 [14:39<21:19, 23.69s/it]"
     ]
    },
    {
     "name": "stdout",
     "output_type": "stream",
     "text": [
      "🟡 Analyse en cours : https://www.ukri.org/opportunity/neurosciences-and-mental-health-research/\n"
     ]
    },
    {
     "name": "stderr",
     "output_type": "stream",
     "text": [
      "🔍 Analyse des URLs:  41%|████      | 37/90 [15:03<20:55, 23.68s/it]"
     ]
    },
    {
     "name": "stdout",
     "output_type": "stream",
     "text": [
      "🟡 Analyse en cours : https://www.ukri.org/opportunity/population-and-systems-medicine-research/\n"
     ]
    },
    {
     "name": "stderr",
     "output_type": "stream",
     "text": [
      "🔍 Analyse des URLs:  42%|████▏     | 38/90 [15:27<20:32, 23.71s/it]"
     ]
    },
    {
     "name": "stdout",
     "output_type": "stream",
     "text": [
      "🟡 Analyse en cours : https://www.ukri.org/opportunity/molecular-and-cellular-medicine-research/\n"
     ]
    },
    {
     "name": "stderr",
     "output_type": "stream",
     "text": [
      "🔍 Analyse des URLs:  43%|████▎     | 39/90 [15:50<20:05, 23.64s/it]"
     ]
    },
    {
     "name": "stdout",
     "output_type": "stream",
     "text": [
      "🟡 Analyse en cours : https://www.ukri.org/opportunity/infections-and-immunity-research/\n"
     ]
    },
    {
     "name": "stderr",
     "output_type": "stream",
     "text": [
      "🔍 Analyse des URLs:  44%|████▍     | 40/90 [16:14<19:42, 23.66s/it]"
     ]
    },
    {
     "name": "stdout",
     "output_type": "stream",
     "text": [
      "🟡 Analyse en cours : https://www.ukri.org/opportunity/dare-uk-real-world-research-exemplar-programme/\n"
     ]
    },
    {
     "name": "stderr",
     "output_type": "stream",
     "text": [
      "🔍 Analyse des URLs:  46%|████▌     | 41/90 [16:38<19:19, 23.67s/it]"
     ]
    },
    {
     "name": "stdout",
     "output_type": "stream",
     "text": [
      "🟡 Analyse en cours : https://www.ukri.org/opportunity/bbsrc-new-investigator-award-2025-round-3-applicant-led-mode/\n"
     ]
    },
    {
     "name": "stderr",
     "output_type": "stream",
     "text": [
      "🔍 Analyse des URLs:  47%|████▋     | 42/90 [17:01<18:54, 23.64s/it]"
     ]
    },
    {
     "name": "stdout",
     "output_type": "stream",
     "text": [
      "🟡 Analyse en cours : https://www.ukri.org/opportunity/bbsrc-standard-research-grant-2025-round-3-applicant-led-mode/\n"
     ]
    },
    {
     "name": "stderr",
     "output_type": "stream",
     "text": [
      "🔍 Analyse des URLs:  48%|████▊     | 43/90 [17:25<18:31, 23.64s/it]"
     ]
    },
    {
     "name": "stdout",
     "output_type": "stream",
     "text": [
      "🟡 Analyse en cours : https://www.ukri.org/opportunity/critical-mass-programmes-to-drive-a-sustainable-future-invitation-only/\n"
     ]
    },
    {
     "name": "stderr",
     "output_type": "stream",
     "text": [
      "🔍 Analyse des URLs:  49%|████▉     | 44/90 [17:49<18:09, 23.69s/it]"
     ]
    },
    {
     "name": "stdout",
     "output_type": "stream",
     "text": [
      "🟡 Analyse en cours : https://www.ukri.org/opportunity/experimental-medicine/\n"
     ]
    },
    {
     "name": "stderr",
     "output_type": "stream",
     "text": [
      "🔍 Analyse des URLs:  50%|█████     | 45/90 [18:12<17:46, 23.69s/it]"
     ]
    },
    {
     "name": "stdout",
     "output_type": "stream",
     "text": [
      "🟡 Analyse en cours : https://www.ukri.org/opportunity/career-development-award/\n"
     ]
    },
    {
     "name": "stderr",
     "output_type": "stream",
     "text": [
      "🔍 Analyse des URLs:  51%|█████     | 46/90 [18:36<17:24, 23.75s/it]"
     ]
    },
    {
     "name": "stdout",
     "output_type": "stream",
     "text": [
      "🟡 Analyse en cours : https://www.ukri.org/opportunity/ukri-policy-fellowships-2025/\n"
     ]
    },
    {
     "name": "stderr",
     "output_type": "stream",
     "text": [
      "🔍 Analyse des URLs:  52%|█████▏    | 47/90 [19:00<17:03, 23.81s/it]"
     ]
    },
    {
     "name": "stdout",
     "output_type": "stream",
     "text": [
      "🟡 Analyse en cours : https://www.ukri.org/opportunity/applied-global-health-research-invited-stage-two/\n"
     ]
    },
    {
     "name": "stderr",
     "output_type": "stream",
     "text": [
      "🔍 Analyse des URLs:  53%|█████▎    | 48/90 [19:24<16:42, 23.88s/it]"
     ]
    },
    {
     "name": "stdout",
     "output_type": "stream",
     "text": [
      "🟡 Analyse en cours : https://www.ukri.org/opportunity/2025-to-2026-strategic-longer-and-larger-slola-grants/\n"
     ]
    },
    {
     "name": "stderr",
     "output_type": "stream",
     "text": [
      "🔍 Analyse des URLs:  54%|█████▍    | 49/90 [19:48<16:18, 23.86s/it]"
     ]
    },
    {
     "name": "stdout",
     "output_type": "stream",
     "text": [
      "🟡 Analyse en cours : https://www.ukri.org/opportunity/applied-global-health-partnership-invited-stage-two/\n"
     ]
    },
    {
     "name": "stderr",
     "output_type": "stream",
     "text": [
      "🔍 Analyse des URLs:  56%|█████▌    | 50/90 [20:12<15:58, 23.95s/it]"
     ]
    },
    {
     "name": "stdout",
     "output_type": "stream",
     "text": [
      "🟡 Analyse en cours : https://www.ukri.org/opportunity/collaborate-with-researchers-in-norway/\n"
     ]
    },
    {
     "name": "stderr",
     "output_type": "stream",
     "text": [
      "🔍 Analyse des URLs:  57%|█████▋    | 51/90 [20:36<15:34, 23.96s/it]"
     ]
    },
    {
     "name": "stdout",
     "output_type": "stream",
     "text": [
      "🟡 Analyse en cours : https://www.ukri.org/opportunity/collaborative-doctoral-landscape-award-in-the-arts-and-humanities/\n"
     ]
    },
    {
     "name": "stderr",
     "output_type": "stream",
     "text": [
      "🔍 Analyse des URLs:  58%|█████▊    | 52/90 [21:00<15:08, 23.92s/it]"
     ]
    },
    {
     "name": "stdout",
     "output_type": "stream",
     "text": [
      "🟡 Analyse en cours : https://www.ukri.org/opportunity/patt-travel-grants-for-competitively-awarded-observation-time-2025/\n"
     ]
    },
    {
     "name": "stderr",
     "output_type": "stream",
     "text": [
      "🔍 Analyse des URLs:  59%|█████▉    | 53/90 [21:24<14:44, 23.90s/it]"
     ]
    },
    {
     "name": "stdout",
     "output_type": "stream",
     "text": [
      "🟡 Analyse en cours : https://www.ukri.org/opportunity/developmental-pathway-funding-scheme/\n"
     ]
    },
    {
     "name": "stderr",
     "output_type": "stream",
     "text": [
      "🔍 Analyse des URLs:  60%|██████    | 54/90 [21:48<14:17, 23.82s/it]"
     ]
    },
    {
     "name": "stdout",
     "output_type": "stream",
     "text": [
      "🟡 Analyse en cours : https://www.ukri.org/opportunity/statements-of-need-in-research-infrastructure/\n"
     ]
    },
    {
     "name": "stderr",
     "output_type": "stream",
     "text": [
      "🔍 Analyse des URLs:  61%|██████    | 55/90 [22:12<13:55, 23.88s/it]"
     ]
    },
    {
     "name": "stdout",
     "output_type": "stream",
     "text": [
      "🟡 Analyse en cours : https://www.ukri.org/opportunity/epsrc-programme-grant-full-proposal/\n"
     ]
    },
    {
     "name": "stderr",
     "output_type": "stream",
     "text": [
      "🔍 Analyse des URLs:  62%|██████▏   | 56/90 [22:35<13:31, 23.86s/it]"
     ]
    },
    {
     "name": "stdout",
     "output_type": "stream",
     "text": [
      "🟡 Analyse en cours : https://www.ukri.org/opportunity/mathematical-sciences-postdoctoral-fellowship/\n"
     ]
    },
    {
     "name": "stderr",
     "output_type": "stream",
     "text": [
      "🔍 Analyse des URLs:  63%|██████▎   | 57/90 [23:00<13:15, 24.12s/it]"
     ]
    },
    {
     "name": "stdout",
     "output_type": "stream",
     "text": [
      "🟡 Analyse en cours : https://www.ukri.org/opportunity/opening-up-the-environment-2026/\n"
     ]
    },
    {
     "name": "stderr",
     "output_type": "stream",
     "text": [
      "🔍 Analyse des URLs:  64%|██████▍   | 58/90 [23:24<12:45, 23.93s/it]"
     ]
    },
    {
     "name": "stdout",
     "output_type": "stream",
     "text": [
      "🟡 Analyse en cours : https://www.ukri.org/opportunity/small-molecule-high-throughput-screen-using-astrazeneca-facilities/\n"
     ]
    },
    {
     "name": "stderr",
     "output_type": "stream",
     "text": [
      "🔍 Analyse des URLs:  66%|██████▌   | 59/90 [23:48<12:23, 23.99s/it]"
     ]
    },
    {
     "name": "stdout",
     "output_type": "stream",
     "text": [
      "🟡 Analyse en cours : https://www.ukri.org/opportunity/ahrc-responsive-mode-curiosity-award/\n"
     ]
    },
    {
     "name": "stderr",
     "output_type": "stream",
     "text": [
      "🔍 Analyse des URLs:  67%|██████▋   | 60/90 [24:11<11:56, 23.87s/it]"
     ]
    },
    {
     "name": "stdout",
     "output_type": "stream",
     "text": [
      "🟡 Analyse en cours : https://www.ukri.org/opportunity/ahrc-responsive-mode-catalyst-awards/\n"
     ]
    },
    {
     "name": "stderr",
     "output_type": "stream",
     "text": [
      "🔍 Analyse des URLs:  68%|██████▊   | 61/90 [24:35<11:29, 23.79s/it]"
     ]
    },
    {
     "name": "stdout",
     "output_type": "stream",
     "text": [
      "🟡 Analyse en cours : https://www.ukri.org/opportunity/pushing-the-frontiers-of-environmental-research-july-2025/\n"
     ]
    },
    {
     "name": "stderr",
     "output_type": "stream",
     "text": [
      "🔍 Analyse des URLs:  69%|██████▉   | 62/90 [24:58<11:03, 23.71s/it]"
     ]
    },
    {
     "name": "stdout",
     "output_type": "stream",
     "text": [
      "🟡 Analyse en cours : https://www.ukri.org/opportunity/mathematical-sciences-open-and-open-plus-fellowship/\n"
     ]
    },
    {
     "name": "stderr",
     "output_type": "stream",
     "text": [
      "🔍 Analyse des URLs:  70%|███████   | 63/90 [25:24<10:52, 24.18s/it]"
     ]
    },
    {
     "name": "stdout",
     "output_type": "stream",
     "text": [
      "🟡 Analyse en cours : https://www.ukri.org/opportunity/ahrc-responsive-mode-ukri-nsf-sbe-lead-agency/\n"
     ]
    },
    {
     "name": "stderr",
     "output_type": "stream",
     "text": [
      "🔍 Analyse des URLs:  71%|███████   | 64/90 [25:48<10:30, 24.25s/it]"
     ]
    },
    {
     "name": "stdout",
     "output_type": "stream",
     "text": [
      "🟡 Analyse en cours : https://www.ukri.org/opportunity/ahrc-responsive-mode-working-with-brazilian-researchers/\n"
     ]
    },
    {
     "name": "stderr",
     "output_type": "stream",
     "text": [
      "🔍 Analyse des URLs:  72%|███████▏  | 65/90 [26:12<10:02, 24.10s/it]"
     ]
    },
    {
     "name": "stdout",
     "output_type": "stream",
     "text": [
      "🟡 Analyse en cours : https://www.ukri.org/opportunity/ahrc-responsive-mode-collaborate-with-researchers-in-luxembourg/\n"
     ]
    },
    {
     "name": "stderr",
     "output_type": "stream",
     "text": [
      "🔍 Analyse des URLs:  73%|███████▎  | 66/90 [26:36<09:35, 23.97s/it]"
     ]
    },
    {
     "name": "stdout",
     "output_type": "stream",
     "text": [
      "🟡 Analyse en cours : https://www.ukri.org/opportunity/ahrc-responsive-mode-standard-research-grant/\n"
     ]
    },
    {
     "name": "stderr",
     "output_type": "stream",
     "text": [
      "🔍 Analyse des URLs:  74%|███████▍  | 67/90 [26:59<09:08, 23.87s/it]"
     ]
    },
    {
     "name": "stdout",
     "output_type": "stream",
     "text": [
      "🟡 Analyse en cours : https://www.ukri.org/opportunity/epsrc-programme-grant-outline-stage/\n"
     ]
    },
    {
     "name": "stderr",
     "output_type": "stream",
     "text": [
      "🔍 Analyse des URLs:  76%|███████▌  | 68/90 [27:23<08:44, 23.86s/it]"
     ]
    },
    {
     "name": "stdout",
     "output_type": "stream",
     "text": [
      "🟡 Analyse en cours : https://www.ukri.org/opportunity/bbsrc-international-travel-award-scheme/\n"
     ]
    },
    {
     "name": "stderr",
     "output_type": "stream",
     "text": [
      "🔍 Analyse des URLs:  77%|███████▋  | 69/90 [27:47<08:24, 24.01s/it]"
     ]
    },
    {
     "name": "stdout",
     "output_type": "stream",
     "text": [
      "🟡 Analyse en cours : https://www.ukri.org/opportunity/projects-peer-review-panel-pprp-2025/\n"
     ]
    },
    {
     "name": "stderr",
     "output_type": "stream",
     "text": [
      "🔍 Analyse des URLs:  78%|███████▊  | 70/90 [28:12<08:01, 24.07s/it]"
     ]
    },
    {
     "name": "stdout",
     "output_type": "stream",
     "text": [
      "🟡 Analyse en cours : https://www.ukri.org/opportunity/nerc-urgency-funding-open/\n"
     ]
    },
    {
     "name": "stderr",
     "output_type": "stream",
     "text": [
      "🔍 Analyse des URLs:  79%|███████▉  | 71/90 [28:35<07:35, 23.99s/it]"
     ]
    },
    {
     "name": "stdout",
     "output_type": "stream",
     "text": [
      "🟡 Analyse en cours : https://www.ukri.org/opportunity/strategic-infrastructure-outlines/\n"
     ]
    },
    {
     "name": "stderr",
     "output_type": "stream",
     "text": [
      "🔍 Analyse des URLs:  80%|████████  | 72/90 [28:59<07:09, 23.84s/it]"
     ]
    },
    {
     "name": "stdout",
     "output_type": "stream",
     "text": [
      "🟡 Analyse en cours : https://www.ukri.org/opportunity/epsrc-network-grant-nov-2023-responsive-mode/\n"
     ]
    },
    {
     "name": "stderr",
     "output_type": "stream",
     "text": [
      "🔍 Analyse des URLs:  81%|████████  | 73/90 [29:23<06:46, 23.92s/it]"
     ]
    },
    {
     "name": "stdout",
     "output_type": "stream",
     "text": [
      "🟡 Analyse en cours : https://www.ukri.org/opportunity/epsrc-working-with-overseas-scientists-nov-2023-responsive-mode/\n"
     ]
    },
    {
     "name": "stderr",
     "output_type": "stream",
     "text": [
      "🔍 Analyse des URLs:  82%|████████▏ | 74/90 [29:47<06:21, 23.83s/it]"
     ]
    },
    {
     "name": "stdout",
     "output_type": "stream",
     "text": [
      "🟡 Analyse en cours : https://www.ukri.org/opportunity/epsrc-new-investigator-award-nov-2023-responsive-mode/\n"
     ]
    },
    {
     "name": "stderr",
     "output_type": "stream",
     "text": [
      "🔍 Analyse des URLs:  83%|████████▎ | 75/90 [30:10<05:56, 23.75s/it]"
     ]
    },
    {
     "name": "stdout",
     "output_type": "stream",
     "text": [
      "🟡 Analyse en cours : https://www.ukri.org/opportunity/epsrc-discipline-hopping-in-ict-nov-2023-responsive-mode/\n"
     ]
    },
    {
     "name": "stderr",
     "output_type": "stream",
     "text": [
      "🔍 Analyse des URLs:  84%|████████▍ | 76/90 [30:34<05:32, 23.75s/it]"
     ]
    },
    {
     "name": "stdout",
     "output_type": "stream",
     "text": [
      "🟡 Analyse en cours : https://www.ukri.org/opportunity/epsrc-overseas-travel-grant-nov-2023-responsive-mode/\n"
     ]
    },
    {
     "name": "stderr",
     "output_type": "stream",
     "text": [
      "🔍 Analyse des URLs:  86%|████████▌ | 77/90 [30:58<05:09, 23.78s/it]"
     ]
    },
    {
     "name": "stdout",
     "output_type": "stream",
     "text": [
      "🟡 Analyse en cours : https://www.ukri.org/opportunity/epsrc-standard-research-grant-nov-2023-responsive-mode/\n"
     ]
    },
    {
     "name": "stderr",
     "output_type": "stream",
     "text": [
      "🔍 Analyse des URLs:  87%|████████▋ | 78/90 [31:22<04:46, 23.89s/it]"
     ]
    },
    {
     "name": "stdout",
     "output_type": "stream",
     "text": [
      "🟡 Analyse en cours : https://www.ukri.org/opportunity/esrc-responsive-mode-research-grants-round-two/\n"
     ]
    },
    {
     "name": "stderr",
     "output_type": "stream",
     "text": [
      "🔍 Analyse des URLs:  88%|████████▊ | 79/90 [31:46<04:23, 23.94s/it]"
     ]
    },
    {
     "name": "stdout",
     "output_type": "stream",
     "text": [
      "🟡 Analyse en cours : https://www.ukri.org/opportunity/esrc-responsive-mode-new-investigator-grants-round-two/\n"
     ]
    },
    {
     "name": "stderr",
     "output_type": "stream",
     "text": [
      "🔍 Analyse des URLs:  89%|████████▉ | 80/90 [32:10<03:59, 23.91s/it]"
     ]
    },
    {
     "name": "stdout",
     "output_type": "stream",
     "text": [
      "🟡 Analyse en cours : https://www.ukri.org/opportunity/esrc-responsive-mode-working-with-luxembourg-researchers-round-two/\n"
     ]
    },
    {
     "name": "stderr",
     "output_type": "stream",
     "text": [
      "🔍 Analyse des URLs:  90%|█████████ | 81/90 [32:33<03:34, 23.79s/it]"
     ]
    },
    {
     "name": "stdout",
     "output_type": "stream",
     "text": [
      "🟡 Analyse en cours : https://www.ukri.org/opportunity/esrc-responsive-mode-secondary-data-analysis-round-two/\n"
     ]
    },
    {
     "name": "stderr",
     "output_type": "stream",
     "text": [
      "🔍 Analyse des URLs:  91%|█████████ | 82/90 [32:57<03:10, 23.78s/it]"
     ]
    },
    {
     "name": "stdout",
     "output_type": "stream",
     "text": [
      "🟡 Analyse en cours : https://www.ukri.org/opportunity/esrc-responsive-mode-ukri-sbe-lead-agency-opportunity-round-two/\n"
     ]
    },
    {
     "name": "stderr",
     "output_type": "stream",
     "text": [
      "🔍 Analyse des URLs:  92%|█████████▏| 83/90 [33:21<02:46, 23.72s/it]"
     ]
    },
    {
     "name": "stdout",
     "output_type": "stream",
     "text": [
      "🟡 Analyse en cours : https://www.ukri.org/opportunity/esrc-responsive-mode-working-with-brazilian-researchers-round-two/\n"
     ]
    },
    {
     "name": "stderr",
     "output_type": "stream",
     "text": [
      "🔍 Analyse des URLs:  93%|█████████▎| 84/90 [33:45<02:22, 23.76s/it]"
     ]
    },
    {
     "name": "stdout",
     "output_type": "stream",
     "text": [
      "🟡 Analyse en cours : https://www.ukri.org/opportunity/collaborate-with-researchers-in-luxembourg/\n"
     ]
    },
    {
     "name": "stderr",
     "output_type": "stream",
     "text": [
      "🔍 Analyse des URLs:  94%|█████████▍| 85/90 [34:09<01:59, 23.84s/it]"
     ]
    },
    {
     "name": "stdout",
     "output_type": "stream",
     "text": [
      "🟡 Analyse en cours : https://www.ukri.org/opportunity/work-with-brazilian-researchers-nerc-fapesp-lead-agency/\n"
     ]
    },
    {
     "name": "stderr",
     "output_type": "stream",
     "text": [
      "🔍 Analyse des URLs:  96%|█████████▌| 86/90 [34:32<01:35, 23.82s/it]"
     ]
    },
    {
     "name": "stdout",
     "output_type": "stream",
     "text": [
      "🟡 Analyse en cours : https://www.ukri.org/opportunity/collaborate-with-researchers-in-brazil/\n"
     ]
    },
    {
     "name": "stderr",
     "output_type": "stream",
     "text": [
      "🔍 Analyse des URLs:  97%|█████████▋| 87/90 [34:56<01:11, 23.80s/it]"
     ]
    },
    {
     "name": "stdout",
     "output_type": "stream",
     "text": [
      "🟡 Analyse en cours : https://www.ukri.org/opportunity/ukri-sbe-lead-agency-opportunity/\n"
     ]
    },
    {
     "name": "stderr",
     "output_type": "stream",
     "text": [
      "🔍 Analyse des URLs:  98%|█████████▊| 88/90 [35:20<00:47, 23.88s/it]"
     ]
    },
    {
     "name": "stdout",
     "output_type": "stream",
     "text": [
      "🟡 Analyse en cours : https://www.ukri.org/opportunity/research-england-development-fund/\n"
     ]
    },
    {
     "name": "stderr",
     "output_type": "stream",
     "text": [
      "🔍 Analyse des URLs:  99%|█████████▉| 89/90 [35:44<00:23, 23.99s/it]"
     ]
    },
    {
     "name": "stdout",
     "output_type": "stream",
     "text": [
      "🟡 Analyse en cours : https://www.ukri.org/opportunity/daphne-jackson-fellowship/\n"
     ]
    },
    {
     "name": "stderr",
     "output_type": "stream",
     "text": [
      "🔍 Analyse des URLs: 100%|██████████| 90/90 [36:08<00:00, 24.09s/it]\n"
     ]
    },
    {
     "name": "stdout",
     "output_type": "stream",
     "text": [
      "\n",
      "✅ Résultats sauvegardés dans 'df_yes_avec_pertinence_et_resume_uk.csv'.\n"
     ]
    }
   ],
   "source": [
    "from selenium import webdriver\n",
    "from selenium.webdriver.chrome.options import Options\n",
    "from selenium.webdriver.common.by import By\n",
    "import time\n",
    "import pandas as pd\n",
    "from groq import Groq\n",
    "import re\n",
    "from tqdm import tqdm\n",
    "\n",
    "# === CONFIGURATION GROQ ===\n",
    "import os\n",
    "from dotenv import load_dotenv\n",
    "\n",
    "# Load environment variables\n",
    "load_dotenv()\n",
    "\n",
    "client = Groq(api_key=os.getenv('GROQ_API_KEY'))\n",
    "MODEL_NAME = \"llama3-70b-8192\"\n",
    "\n",
    "# === CONFIGURATION SELENIUM HEADLESS ===\n",
    "options = Options()\n",
    "options.add_argument(\"--headless\")\n",
    "options.add_argument(\"--disable-gpu\")\n",
    "options.add_argument(\"--window-size=1920,1080\")\n",
    "driver = webdriver.Chrome(options=options)\n",
    "\n",
    "# === Nettoyage & Limitation texte ===\n",
    "def clean_and_limit_text(text, max_words=800):\n",
    "    text = re.sub(r'\\s+', ' ', text).strip()\n",
    "    words = text.split()\n",
    "    if len(words) > max_words:\n",
    "        return ' '.join(words[:max_words]) + \" [...] (texte tronqué)\"\n",
    "    return text\n",
    "\n",
    "# === Extraction texte depuis une URL ===\n",
    "def extract_text_from_URL(URL):\n",
    "    try:\n",
    "        driver.get(URL)\n",
    "        time.sleep(5)\n",
    "\n",
    "        for _ in range(10):\n",
    "            driver.execute_script(\"window.scrollBy(0, 500);\")\n",
    "            time.sleep(0.3)\n",
    "        time.sleep(3)\n",
    "\n",
    "        js_desc = \"\"\"\n",
    "        let desc = document.querySelector('div.showMore--three-lines');\n",
    "        return desc ? desc.innerText.trim() : '';\n",
    "        \"\"\"\n",
    "        description_text = driver.execute_script(js_desc)\n",
    "\n",
    "        try:\n",
    "            open_all_btn = driver.find_element(By.CLASS_NAME, \"govuk-accordion__open-all\")\n",
    "            open_all_btn.click()\n",
    "            time.sleep(1)\n",
    "        except:\n",
    "            pass\n",
    "\n",
    "        js_accordion = \"\"\"\n",
    "        let acc = document.querySelector('div.govuk-accordion.ukri-accordion');\n",
    "        return acc ? acc.innerText.trim() : '';\n",
    "        \"\"\"\n",
    "        accordion_text = driver.execute_script(js_accordion)\n",
    "\n",
    "        final_text = f\"{description_text}\\n\\n---\\n\\n{accordion_text}\".strip()\n",
    "        return final_text if final_text.strip() else \"Pas de contenu détecté.\"\n",
    "    \n",
    "    except Exception as e:\n",
    "        return f\"Erreur Selenium: {e}\"\n",
    "\n",
    "# === Construction du prompt pour Groq ===\n",
    "def build_prompt(projects, site_text):\n",
    "    projects_text = \"\\n\".join([\n",
    "        f\"{i+1}. {p['Project Name']} : {p['Description']} (axe {p['Axes / Thematic Areas']})\"\n",
    "        for i, p in enumerate(projects)\n",
    "    ])\n",
    "    return f\"\"\"\n",
    "Tu es un expert en analyse de projets d'entreprise.\n",
    "\n",
    "Voici une liste de projets que cette entreprise a déjà réalisés avec leurs descriptions et axes principaux :\n",
    "\n",
    "{projects_text}\n",
    "\n",
    "Voici maintenant le contenu d'un appel à projets extrait d'une page du portail européen :\n",
    "\n",
    "{site_text}\n",
    "\n",
    "Peux-tu me dire si cette opportunité est pertinente par rapport aux projets que l'entreprise a déjà réalisés ?\n",
    "Merci de répondre clairement :\n",
    "- Pertinence : Oui / Non\n",
    "- Projets similaires détectés : [liste]\n",
    "- Résumé rapide expliquant ta réponse.\n",
    "\"\"\"\n",
    "\n",
    "# === Requête Groq ===\n",
    "def query_groq(prompt, model=MODEL_NAME, max_completion_tokens=3000, temperature=1.0, stream=False, delay_between_requests=10):\n",
    "    try:\n",
    "        response = client.chat.completions.create(\n",
    "            model=model,\n",
    "            messages=[\n",
    "                {\"role\": \"system\", \"content\": \"Tu es un expert en comparaison de projets R&D.\"},\n",
    "                {\"role\": \"user\", \"content\": prompt}\n",
    "            ],\n",
    "            temperature=temperature,\n",
    "            max_completion_tokens=max_completion_tokens,\n",
    "            top_p=1,\n",
    "            stream=stream\n",
    "        )\n",
    "        if stream:\n",
    "            result = \"\"\n",
    "            for chunk in response:\n",
    "                delta = chunk.choices[0].delta.content\n",
    "                if delta:\n",
    "                    result += delta\n",
    "            time.sleep(delay_between_requests)\n",
    "            return result.strip()\n",
    "        else:\n",
    "            time.sleep(delay_between_requests)\n",
    "            return response.choices[0].message.content.strip()\n",
    "    except Exception as e:\n",
    "        return f\"Erreur Groq: {e}\"\n",
    "\n",
    "# === Parsing du résultat Groq ===\n",
    "def parse_result(text):\n",
    "    pertinence = \"Non\"\n",
    "    resume = \"\"\n",
    "\n",
    "    try:\n",
    "        match = re.search(r\"(?i)pertinence\\s*[:\\-–]\\s*(oui|non)\", text)\n",
    "        if match:\n",
    "            pertinence = match.group(1).capitalize()\n",
    "\n",
    "        resume_match = re.search(r\"(?i)résumé.*?:\\s*(.+)\", text)\n",
    "        if resume_match:\n",
    "            resume = resume_match.group(1).strip()\n",
    "        else:\n",
    "            resume = \"\\n\".join(text.splitlines()[1:4]).strip()\n",
    "    except:\n",
    "        pass\n",
    "\n",
    "    return pertinence, resume\n",
    "\n",
    "# === Analyse d'une URL ===\n",
    "def analyze_URL(URL, projects_list):\n",
    "    print(f\"🟡 Analyse en cours : {URL}\")\n",
    "    try:\n",
    "        site_text_raw = extract_text_from_URL(URL)\n",
    "        site_text = clean_and_limit_text(site_text_raw, max_words=800)\n",
    "        projects_list_sample = projects_list[:3]  # 3 projets max\n",
    "\n",
    "        prompt = build_prompt(projects_list_sample, site_text)\n",
    "        result_text = query_groq(prompt)\n",
    "        pertinence, resume = parse_result(result_text)\n",
    "        \n",
    "        return {\n",
    "            \"URL\": URL,\n",
    "            \"Pertinence LLM\": pertinence,\n",
    "            \"Résumé LLM\": resume,\n",
    "            \"Réponse brute\": result_text\n",
    "        }\n",
    "    except Exception as e:\n",
    "        return {\n",
    "            \"URL\": URL,\n",
    "            \"Pertinence LLM\": \"Erreur\",\n",
    "            \"Résumé LLM\": f\"Erreur pendant l'analyse : {e}\",\n",
    "            \"Réponse brute\": str(e)\n",
    "        }\n",
    "\n",
    "# === MAIN EXECUTION ===\n",
    "if __name__ == \"__main__\":\n",
    "    try:\n",
    "        df_pertinence_uk = pd.read_excel(\"projets_pertinents_keywords_InnUK_from_all_description.xlsx\")\n",
    "        projects_list = odf_df[['Project Name', 'Description', 'Axes / Thematic Areas']].dropna().to_dict(orient='records')\n",
    "        URL_list = df_pertinence_uk['URL'].dropna().unique()\n",
    "\n",
    "        results = []\n",
    "        for URL in tqdm(URL_list, desc=\"🔍 Analyse des URLs\"):\n",
    "            results.append(analyze_URL(URL, projects_list))\n",
    "\n",
    "        results_df = pd.DataFrame(results)\n",
    "        df_final_llm_uk = df_pertinence_uk.merge(results_df, on=\"URL\", how=\"left\")\n",
    "\n",
    "        df_final_llm_uk.to_excel(\"df_yes_avec_pertinence_et_resume_uk.xlsx\", index=False)\n",
    "        print(\"\\n✅ Résultats sauvegardés dans 'df_yes_avec_pertinence_et_resume_uk.csv'.\")\n",
    "        \n",
    "    finally:\n",
    "        driver.quit()\n"
   ]
  },
  {
   "cell_type": "code",
   "execution_count": null,
   "id": "60ef413a",
   "metadata": {},
   "outputs": [
    {
     "name": "stderr",
     "output_type": "stream",
     "text": [
      "🔍 Analyse des URLs:   0%|          | 0/90 [00:00<?, ?it/s]"
     ]
    },
    {
     "name": "stdout",
     "output_type": "stream",
     "text": [
      "🟡 Analyse en cours : https://www.ukri.org/opportunity/smart-data-research-uk-fellowships/\n"
     ]
    },
    {
     "name": "stderr",
     "output_type": "stream",
     "text": [
      "🔍 Analyse des URLs:   1%|          | 1/90 [00:31<47:08, 31.79s/it]"
     ]
    },
    {
     "name": "stdout",
     "output_type": "stream",
     "text": [
      "🟡 Analyse en cours : https://www.ukri.org/opportunity/institutional-diversity-fund-invite-only/\n"
     ]
    },
    {
     "name": "stderr",
     "output_type": "stream",
     "text": [
      "🔍 Analyse des URLs:   2%|▏         | 2/90 [00:56<40:14, 27.44s/it]"
     ]
    },
    {
     "name": "stdout",
     "output_type": "stream",
     "text": [
      "🟡 Analyse en cours : https://www.ukri.org/opportunity/funding-for-early-stage-development-of-new-healthcare-interventions/\n"
     ]
    },
    {
     "name": "stderr",
     "output_type": "stream",
     "text": [
      "🔍 Analyse des URLs:   3%|▎         | 3/90 [01:19<37:18, 25.73s/it]"
     ]
    },
    {
     "name": "stdout",
     "output_type": "stream",
     "text": [
      "🟡 Analyse en cours : https://www.ukri.org/opportunity/digitise-uk-natural-science-collections/\n"
     ]
    },
    {
     "name": "stderr",
     "output_type": "stream",
     "text": [
      "🔍 Analyse des URLs:   4%|▍         | 4/90 [01:44<36:09, 25.22s/it]"
     ]
    },
    {
     "name": "stdout",
     "output_type": "stream",
     "text": [
      "🟡 Analyse en cours : https://www.ukri.org/opportunity/aviations-non-co2-impacts-on-the-climate-programme-coordinator/\n"
     ]
    },
    {
     "name": "stderr",
     "output_type": "stream",
     "text": [
      "🔍 Analyse des URLs:   6%|▌         | 5/90 [02:08<35:06, 24.78s/it]"
     ]
    },
    {
     "name": "stdout",
     "output_type": "stream",
     "text": [
      "🟡 Analyse en cours : https://www.ukri.org/opportunity/research-and-partnership-hubs-for-a-healthy-society/\n"
     ]
    },
    {
     "name": "stderr",
     "output_type": "stream",
     "text": [
      "🔍 Analyse des URLs:   7%|▋         | 6/90 [02:32<34:18, 24.51s/it]"
     ]
    },
    {
     "name": "stdout",
     "output_type": "stream",
     "text": [
      "🟡 Analyse en cours : https://www.ukri.org/opportunity/stfc-leadership-fellowships-in-public-engagement/\n"
     ]
    },
    {
     "name": "stderr",
     "output_type": "stream",
     "text": [
      "🔍 Analyse des URLs:   8%|▊         | 7/90 [02:55<33:27, 24.19s/it]"
     ]
    },
    {
     "name": "stdout",
     "output_type": "stream",
     "text": [
      "🟡 Analyse en cours : https://www.ukri.org/opportunity/computing-resources-on-the-stfc-dirac-hpc-facility-rac18/\n"
     ]
    },
    {
     "name": "stderr",
     "output_type": "stream",
     "text": [
      "🔍 Analyse des URLs:   9%|▉         | 8/90 [03:19<32:48, 24.00s/it]"
     ]
    },
    {
     "name": "stdout",
     "output_type": "stream",
     "text": [
      "🟡 Analyse en cours : https://www.ukri.org/opportunity/experimental-medicine-invited-stage-two-application/\n"
     ]
    },
    {
     "name": "stderr",
     "output_type": "stream",
     "text": [
      "🔍 Analyse des URLs:  10%|█         | 9/90 [03:43<32:16, 23.90s/it]"
     ]
    },
    {
     "name": "stdout",
     "output_type": "stream",
     "text": [
      "🟡 Analyse en cours : https://www.ukri.org/opportunity/us-uk-and-germany-uk-collaborative-research-seed-funding-in-semiconductor-security/\n"
     ]
    },
    {
     "name": "stderr",
     "output_type": "stream",
     "text": [
      "🔍 Analyse des URLs:  11%|█         | 10/90 [04:06<31:47, 23.84s/it]"
     ]
    },
    {
     "name": "stdout",
     "output_type": "stream",
     "text": [
      "🟡 Analyse en cours : https://www.ukri.org/opportunity/biological-influence-on-ocean-carbon-novel-modelling-approaches/\n"
     ]
    },
    {
     "name": "stderr",
     "output_type": "stream",
     "text": [
      "🔍 Analyse des URLs:  12%|█▏        | 11/90 [04:31<31:50, 24.19s/it]"
     ]
    },
    {
     "name": "stdout",
     "output_type": "stream",
     "text": [
      "🟡 Analyse en cours : https://www.ukri.org/opportunity/ukri-gambling-harms-research-coordination-centre-ghrcc/\n"
     ]
    },
    {
     "name": "stderr",
     "output_type": "stream",
     "text": [
      "🔍 Analyse des URLs:  13%|█▎        | 12/90 [04:55<31:20, 24.11s/it]"
     ]
    },
    {
     "name": "stdout",
     "output_type": "stream",
     "text": [
      "🟡 Analyse en cours : https://www.ukri.org/opportunity/gambling-harms-research-and-innovation-partnerships/\n"
     ]
    },
    {
     "name": "stderr",
     "output_type": "stream",
     "text": [
      "🔍 Analyse des URLs:  14%|█▍        | 13/90 [05:20<31:14, 24.34s/it]"
     ]
    },
    {
     "name": "stdout",
     "output_type": "stream",
     "text": [
      "🟡 Analyse en cours : https://www.ukri.org/opportunity/multiple-model-assessment-of-biological-influence-on-ocean-carbon/\n"
     ]
    },
    {
     "name": "stderr",
     "output_type": "stream",
     "text": [
      "🔍 Analyse des URLs:  16%|█▌        | 14/90 [05:46<31:18, 24.72s/it]"
     ]
    },
    {
     "name": "stdout",
     "output_type": "stream",
     "text": [
      "🟡 Analyse en cours : https://www.ukri.org/opportunity/transdisciplinary-research-to-tackle-antimicrobial-resistance-full-application/\n"
     ]
    },
    {
     "name": "stderr",
     "output_type": "stream",
     "text": [
      "🔍 Analyse des URLs:  17%|█▋        | 15/90 [06:10<30:42, 24.57s/it]"
     ]
    },
    {
     "name": "stdout",
     "output_type": "stream",
     "text": [
      "🟡 Analyse en cours : https://www.ukri.org/opportunity/canada-uk-networkplus-in-semiconductor-research/\n"
     ]
    },
    {
     "name": "stderr",
     "output_type": "stream",
     "text": [
      "🔍 Analyse des URLs:  18%|█▊        | 16/90 [06:36<30:42, 24.90s/it]"
     ]
    },
    {
     "name": "stdout",
     "output_type": "stream",
     "text": [
      "🟡 Analyse en cours : https://www.ukri.org/opportunity/uk-international-ocean-drilling-programme-moratorium-awards/\n"
     ]
    },
    {
     "name": "stderr",
     "output_type": "stream",
     "text": [
      "🔍 Analyse des URLs:  19%|█▉        | 17/90 [07:01<30:38, 25.18s/it]"
     ]
    },
    {
     "name": "stdout",
     "output_type": "stream",
     "text": [
      "🟡 Analyse en cours : https://www.ukri.org/opportunity/health-technologies-connectivity-awards-round-two/\n"
     ]
    },
    {
     "name": "stderr",
     "output_type": "stream",
     "text": [
      "🔍 Analyse des URLs:  20%|██        | 18/90 [07:25<29:38, 24.70s/it]"
     ]
    },
    {
     "name": "stdout",
     "output_type": "stream",
     "text": [
      "🟡 Analyse en cours : https://www.ukri.org/opportunity/clinician-scientist-fellowship/\n"
     ]
    },
    {
     "name": "stderr",
     "output_type": "stream",
     "text": [
      "🔍 Analyse des URLs:  21%|██        | 19/90 [07:50<29:11, 24.67s/it]"
     ]
    },
    {
     "name": "stdout",
     "output_type": "stream",
     "text": [
      "🟡 Analyse en cours : https://www.ukri.org/opportunity/pre-doctoral-clinical-research-training-fellowship/\n"
     ]
    },
    {
     "name": "stderr",
     "output_type": "stream",
     "text": [
      "🔍 Analyse des URLs:  22%|██▏       | 20/90 [08:15<28:52, 24.75s/it]"
     ]
    },
    {
     "name": "stdout",
     "output_type": "stream",
     "text": [
      "🟡 Analyse en cours : https://www.ukri.org/opportunity/post-doctoral-clinical-research-training-fellowship/\n"
     ]
    },
    {
     "name": "stderr",
     "output_type": "stream",
     "text": [
      "🔍 Analyse des URLs:  23%|██▎       | 21/90 [08:40<28:45, 25.01s/it]"
     ]
    },
    {
     "name": "stdout",
     "output_type": "stream",
     "text": [
      "🟡 Analyse en cours : https://www.ukri.org/opportunity/engineer-next-generation-veterinary-vaccine-technology-platforms/\n"
     ]
    },
    {
     "name": "stderr",
     "output_type": "stream",
     "text": [
      "🔍 Analyse des URLs:  24%|██▍       | 22/90 [09:05<28:10, 24.86s/it]"
     ]
    },
    {
     "name": "stdout",
     "output_type": "stream",
     "text": [
      "🟡 Analyse en cours : https://www.ukri.org/opportunity/strategic-infrastructure-for-engineering-and-physical-sciences-june-2025/\n"
     ]
    },
    {
     "name": "stderr",
     "output_type": "stream",
     "text": [
      "🔍 Analyse des URLs:  26%|██▌       | 23/90 [09:28<27:24, 24.54s/it]"
     ]
    },
    {
     "name": "stdout",
     "output_type": "stream",
     "text": [
      "🟡 Analyse en cours : https://www.ukri.org/opportunity/ernest-rutherford-fellowship-2025/\n"
     ]
    },
    {
     "name": "stderr",
     "output_type": "stream",
     "text": [
      "🔍 Analyse des URLs:  27%|██▋       | 24/90 [09:52<26:45, 24.32s/it]"
     ]
    },
    {
     "name": "stdout",
     "output_type": "stream",
     "text": [
      "🟡 Analyse en cours : https://www.ukri.org/opportunity/research-to-advance-uk-recycling-capabilities-full-stage/\n"
     ]
    },
    {
     "name": "stderr",
     "output_type": "stream",
     "text": [
      "🔍 Analyse des URLs:  28%|██▊       | 25/90 [10:16<26:10, 24.16s/it]"
     ]
    },
    {
     "name": "stdout",
     "output_type": "stream",
     "text": [
      "🟡 Analyse en cours : https://www.ukri.org/opportunity/sandpit-moving-respiratory-health-diagnosis-into-the-21st-century-invite-only/\n"
     ]
    },
    {
     "name": "stderr",
     "output_type": "stream",
     "text": [
      "🔍 Analyse des URLs:  29%|██▉       | 26/90 [10:39<25:31, 23.93s/it]"
     ]
    },
    {
     "name": "stdout",
     "output_type": "stream",
     "text": [
      "🟡 Analyse en cours : https://www.ukri.org/opportunity/mrc-centre-of-research-excellence-round-three/\n"
     ]
    },
    {
     "name": "stderr",
     "output_type": "stream",
     "text": [
      "🔍 Analyse des URLs:  30%|███       | 27/90 [11:06<26:02, 24.81s/it]"
     ]
    },
    {
     "name": "stdout",
     "output_type": "stream",
     "text": [
      "🟡 Analyse en cours : https://www.ukri.org/opportunity/responsive-mode-partnership/\n"
     ]
    },
    {
     "name": "stderr",
     "output_type": "stream",
     "text": [
      "🔍 Analyse des URLs:  31%|███       | 28/90 [11:30<25:19, 24.51s/it]"
     ]
    },
    {
     "name": "stdout",
     "output_type": "stream",
     "text": [
      "🟡 Analyse en cours : https://www.ukri.org/opportunity/infections-and-immunity-programme/\n"
     ]
    },
    {
     "name": "stderr",
     "output_type": "stream",
     "text": [
      "🔍 Analyse des URLs:  32%|███▏      | 29/90 [11:54<24:37, 24.22s/it]"
     ]
    },
    {
     "name": "stdout",
     "output_type": "stream",
     "text": [
      "🟡 Analyse en cours : https://www.ukri.org/opportunity/neurosciences-and-mental-health-programme/\n"
     ]
    },
    {
     "name": "stderr",
     "output_type": "stream",
     "text": [
      "🔍 Analyse des URLs:  33%|███▎      | 30/90 [12:17<24:04, 24.08s/it]"
     ]
    },
    {
     "name": "stdout",
     "output_type": "stream",
     "text": [
      "🟡 Analyse en cours : https://www.ukri.org/opportunity/population-and-systems-medicine-programme/\n"
     ]
    },
    {
     "name": "stderr",
     "output_type": "stream",
     "text": [
      "🔍 Analyse des URLs:  34%|███▍      | 31/90 [12:41<23:36, 24.01s/it]"
     ]
    },
    {
     "name": "stdout",
     "output_type": "stream",
     "text": [
      "🟡 Analyse en cours : https://www.ukri.org/opportunity/molecular-and-cellular-medicine-programme/\n"
     ]
    },
    {
     "name": "stderr",
     "output_type": "stream",
     "text": [
      "🔍 Analyse des URLs:  36%|███▌      | 32/90 [13:05<23:02, 23.84s/it]"
     ]
    },
    {
     "name": "stdout",
     "output_type": "stream",
     "text": [
      "🟡 Analyse en cours : https://www.ukri.org/opportunity/molecular-and-cellular-medicine-new-investigator/\n"
     ]
    },
    {
     "name": "stderr",
     "output_type": "stream",
     "text": [
      "🔍 Analyse des URLs:  37%|███▋      | 33/90 [13:28<22:36, 23.80s/it]"
     ]
    },
    {
     "name": "stdout",
     "output_type": "stream",
     "text": [
      "🟡 Analyse en cours : https://www.ukri.org/opportunity/neurosciences-and-mental-health-new-investigator/\n"
     ]
    },
    {
     "name": "stderr",
     "output_type": "stream",
     "text": [
      "🔍 Analyse des URLs:  38%|███▊      | 34/90 [13:52<22:11, 23.78s/it]"
     ]
    },
    {
     "name": "stdout",
     "output_type": "stream",
     "text": [
      "🟡 Analyse en cours : https://www.ukri.org/opportunity/infections-and-immunity-new-investigator/\n"
     ]
    },
    {
     "name": "stderr",
     "output_type": "stream",
     "text": [
      "🔍 Analyse des URLs:  39%|███▉      | 35/90 [14:16<21:47, 23.78s/it]"
     ]
    },
    {
     "name": "stdout",
     "output_type": "stream",
     "text": [
      "🟡 Analyse en cours : https://www.ukri.org/opportunity/population-and-systems-medicine-new-investigator/\n"
     ]
    },
    {
     "name": "stderr",
     "output_type": "stream",
     "text": [
      "🔍 Analyse des URLs:  40%|████      | 36/90 [14:39<21:19, 23.69s/it]"
     ]
    },
    {
     "name": "stdout",
     "output_type": "stream",
     "text": [
      "🟡 Analyse en cours : https://www.ukri.org/opportunity/neurosciences-and-mental-health-research/\n"
     ]
    },
    {
     "name": "stderr",
     "output_type": "stream",
     "text": [
      "🔍 Analyse des URLs:  41%|████      | 37/90 [15:03<20:55, 23.68s/it]"
     ]
    },
    {
     "name": "stdout",
     "output_type": "stream",
     "text": [
      "🟡 Analyse en cours : https://www.ukri.org/opportunity/population-and-systems-medicine-research/\n"
     ]
    },
    {
     "name": "stderr",
     "output_type": "stream",
     "text": [
      "🔍 Analyse des URLs:  42%|████▏     | 38/90 [15:27<20:32, 23.71s/it]"
     ]
    },
    {
     "name": "stdout",
     "output_type": "stream",
     "text": [
      "🟡 Analyse en cours : https://www.ukri.org/opportunity/molecular-and-cellular-medicine-research/\n"
     ]
    },
    {
     "name": "stderr",
     "output_type": "stream",
     "text": [
      "🔍 Analyse des URLs:  43%|████▎     | 39/90 [15:50<20:05, 23.64s/it]"
     ]
    },
    {
     "name": "stdout",
     "output_type": "stream",
     "text": [
      "🟡 Analyse en cours : https://www.ukri.org/opportunity/infections-and-immunity-research/\n"
     ]
    },
    {
     "name": "stderr",
     "output_type": "stream",
     "text": [
      "🔍 Analyse des URLs:  44%|████▍     | 40/90 [16:14<19:42, 23.66s/it]"
     ]
    },
    {
     "name": "stdout",
     "output_type": "stream",
     "text": [
      "🟡 Analyse en cours : https://www.ukri.org/opportunity/dare-uk-real-world-research-exemplar-programme/\n"
     ]
    },
    {
     "name": "stderr",
     "output_type": "stream",
     "text": [
      "🔍 Analyse des URLs:  46%|████▌     | 41/90 [16:38<19:19, 23.67s/it]"
     ]
    },
    {
     "name": "stdout",
     "output_type": "stream",
     "text": [
      "🟡 Analyse en cours : https://www.ukri.org/opportunity/bbsrc-new-investigator-award-2025-round-3-applicant-led-mode/\n"
     ]
    },
    {
     "name": "stderr",
     "output_type": "stream",
     "text": [
      "🔍 Analyse des URLs:  47%|████▋     | 42/90 [17:01<18:54, 23.64s/it]"
     ]
    },
    {
     "name": "stdout",
     "output_type": "stream",
     "text": [
      "🟡 Analyse en cours : https://www.ukri.org/opportunity/bbsrc-standard-research-grant-2025-round-3-applicant-led-mode/\n"
     ]
    },
    {
     "name": "stderr",
     "output_type": "stream",
     "text": [
      "🔍 Analyse des URLs:  48%|████▊     | 43/90 [17:25<18:31, 23.64s/it]"
     ]
    },
    {
     "name": "stdout",
     "output_type": "stream",
     "text": [
      "🟡 Analyse en cours : https://www.ukri.org/opportunity/critical-mass-programmes-to-drive-a-sustainable-future-invitation-only/\n"
     ]
    },
    {
     "name": "stderr",
     "output_type": "stream",
     "text": [
      "🔍 Analyse des URLs:  49%|████▉     | 44/90 [17:49<18:09, 23.69s/it]"
     ]
    },
    {
     "name": "stdout",
     "output_type": "stream",
     "text": [
      "🟡 Analyse en cours : https://www.ukri.org/opportunity/experimental-medicine/\n"
     ]
    },
    {
     "name": "stderr",
     "output_type": "stream",
     "text": [
      "🔍 Analyse des URLs:  50%|█████     | 45/90 [18:12<17:46, 23.69s/it]"
     ]
    },
    {
     "name": "stdout",
     "output_type": "stream",
     "text": [
      "🟡 Analyse en cours : https://www.ukri.org/opportunity/career-development-award/\n"
     ]
    },
    {
     "name": "stderr",
     "output_type": "stream",
     "text": [
      "🔍 Analyse des URLs:  51%|█████     | 46/90 [18:36<17:24, 23.75s/it]"
     ]
    },
    {
     "name": "stdout",
     "output_type": "stream",
     "text": [
      "🟡 Analyse en cours : https://www.ukri.org/opportunity/ukri-policy-fellowships-2025/\n"
     ]
    },
    {
     "name": "stderr",
     "output_type": "stream",
     "text": [
      "🔍 Analyse des URLs:  52%|█████▏    | 47/90 [19:00<17:03, 23.81s/it]"
     ]
    },
    {
     "name": "stdout",
     "output_type": "stream",
     "text": [
      "🟡 Analyse en cours : https://www.ukri.org/opportunity/applied-global-health-research-invited-stage-two/\n"
     ]
    },
    {
     "name": "stderr",
     "output_type": "stream",
     "text": [
      "🔍 Analyse des URLs:  53%|█████▎    | 48/90 [19:24<16:42, 23.88s/it]"
     ]
    },
    {
     "name": "stdout",
     "output_type": "stream",
     "text": [
      "🟡 Analyse en cours : https://www.ukri.org/opportunity/2025-to-2026-strategic-longer-and-larger-slola-grants/\n"
     ]
    },
    {
     "name": "stderr",
     "output_type": "stream",
     "text": [
      "🔍 Analyse des URLs:  54%|█████▍    | 49/90 [19:48<16:18, 23.86s/it]"
     ]
    },
    {
     "name": "stdout",
     "output_type": "stream",
     "text": [
      "🟡 Analyse en cours : https://www.ukri.org/opportunity/applied-global-health-partnership-invited-stage-two/\n"
     ]
    },
    {
     "name": "stderr",
     "output_type": "stream",
     "text": [
      "🔍 Analyse des URLs:  56%|█████▌    | 50/90 [20:12<15:58, 23.95s/it]"
     ]
    },
    {
     "name": "stdout",
     "output_type": "stream",
     "text": [
      "🟡 Analyse en cours : https://www.ukri.org/opportunity/collaborate-with-researchers-in-norway/\n"
     ]
    },
    {
     "name": "stderr",
     "output_type": "stream",
     "text": [
      "🔍 Analyse des URLs:  57%|█████▋    | 51/90 [20:36<15:34, 23.96s/it]"
     ]
    },
    {
     "name": "stdout",
     "output_type": "stream",
     "text": [
      "🟡 Analyse en cours : https://www.ukri.org/opportunity/collaborative-doctoral-landscape-award-in-the-arts-and-humanities/\n"
     ]
    },
    {
     "name": "stderr",
     "output_type": "stream",
     "text": [
      "🔍 Analyse des URLs:  58%|█████▊    | 52/90 [21:00<15:08, 23.92s/it]"
     ]
    },
    {
     "name": "stdout",
     "output_type": "stream",
     "text": [
      "🟡 Analyse en cours : https://www.ukri.org/opportunity/patt-travel-grants-for-competitively-awarded-observation-time-2025/\n"
     ]
    },
    {
     "name": "stderr",
     "output_type": "stream",
     "text": [
      "🔍 Analyse des URLs:  59%|█████▉    | 53/90 [21:24<14:44, 23.90s/it]"
     ]
    },
    {
     "name": "stdout",
     "output_type": "stream",
     "text": [
      "🟡 Analyse en cours : https://www.ukri.org/opportunity/developmental-pathway-funding-scheme/\n"
     ]
    },
    {
     "name": "stderr",
     "output_type": "stream",
     "text": [
      "🔍 Analyse des URLs:  60%|██████    | 54/90 [21:48<14:17, 23.82s/it]"
     ]
    },
    {
     "name": "stdout",
     "output_type": "stream",
     "text": [
      "🟡 Analyse en cours : https://www.ukri.org/opportunity/statements-of-need-in-research-infrastructure/\n"
     ]
    },
    {
     "name": "stderr",
     "output_type": "stream",
     "text": [
      "🔍 Analyse des URLs:  61%|██████    | 55/90 [22:12<13:55, 23.88s/it]"
     ]
    },
    {
     "name": "stdout",
     "output_type": "stream",
     "text": [
      "🟡 Analyse en cours : https://www.ukri.org/opportunity/epsrc-programme-grant-full-proposal/\n"
     ]
    },
    {
     "name": "stderr",
     "output_type": "stream",
     "text": [
      "🔍 Analyse des URLs:  62%|██████▏   | 56/90 [22:35<13:31, 23.86s/it]"
     ]
    },
    {
     "name": "stdout",
     "output_type": "stream",
     "text": [
      "🟡 Analyse en cours : https://www.ukri.org/opportunity/mathematical-sciences-postdoctoral-fellowship/\n"
     ]
    },
    {
     "name": "stderr",
     "output_type": "stream",
     "text": [
      "🔍 Analyse des URLs:  63%|██████▎   | 57/90 [23:00<13:15, 24.12s/it]"
     ]
    },
    {
     "name": "stdout",
     "output_type": "stream",
     "text": [
      "🟡 Analyse en cours : https://www.ukri.org/opportunity/opening-up-the-environment-2026/\n"
     ]
    },
    {
     "name": "stderr",
     "output_type": "stream",
     "text": [
      "🔍 Analyse des URLs:  64%|██████▍   | 58/90 [23:24<12:45, 23.93s/it]"
     ]
    },
    {
     "name": "stdout",
     "output_type": "stream",
     "text": [
      "🟡 Analyse en cours : https://www.ukri.org/opportunity/small-molecule-high-throughput-screen-using-astrazeneca-facilities/\n"
     ]
    },
    {
     "name": "stderr",
     "output_type": "stream",
     "text": [
      "🔍 Analyse des URLs:  66%|██████▌   | 59/90 [23:48<12:23, 23.99s/it]"
     ]
    },
    {
     "name": "stdout",
     "output_type": "stream",
     "text": [
      "🟡 Analyse en cours : https://www.ukri.org/opportunity/ahrc-responsive-mode-curiosity-award/\n"
     ]
    },
    {
     "name": "stderr",
     "output_type": "stream",
     "text": [
      "🔍 Analyse des URLs:  67%|██████▋   | 60/90 [24:11<11:56, 23.87s/it]"
     ]
    },
    {
     "name": "stdout",
     "output_type": "stream",
     "text": [
      "🟡 Analyse en cours : https://www.ukri.org/opportunity/ahrc-responsive-mode-catalyst-awards/\n"
     ]
    },
    {
     "name": "stderr",
     "output_type": "stream",
     "text": [
      "🔍 Analyse des URLs:  68%|██████▊   | 61/90 [24:35<11:29, 23.79s/it]"
     ]
    },
    {
     "name": "stdout",
     "output_type": "stream",
     "text": [
      "🟡 Analyse en cours : https://www.ukri.org/opportunity/pushing-the-frontiers-of-environmental-research-july-2025/\n"
     ]
    },
    {
     "name": "stderr",
     "output_type": "stream",
     "text": [
      "🔍 Analyse des URLs:  69%|██████▉   | 62/90 [24:58<11:03, 23.71s/it]"
     ]
    },
    {
     "name": "stdout",
     "output_type": "stream",
     "text": [
      "🟡 Analyse en cours : https://www.ukri.org/opportunity/mathematical-sciences-open-and-open-plus-fellowship/\n"
     ]
    },
    {
     "name": "stderr",
     "output_type": "stream",
     "text": [
      "🔍 Analyse des URLs:  70%|███████   | 63/90 [25:24<10:52, 24.18s/it]"
     ]
    },
    {
     "name": "stdout",
     "output_type": "stream",
     "text": [
      "🟡 Analyse en cours : https://www.ukri.org/opportunity/ahrc-responsive-mode-ukri-nsf-sbe-lead-agency/\n"
     ]
    },
    {
     "name": "stderr",
     "output_type": "stream",
     "text": [
      "🔍 Analyse des URLs:  71%|███████   | 64/90 [25:48<10:30, 24.25s/it]"
     ]
    },
    {
     "name": "stdout",
     "output_type": "stream",
     "text": [
      "🟡 Analyse en cours : https://www.ukri.org/opportunity/ahrc-responsive-mode-working-with-brazilian-researchers/\n"
     ]
    },
    {
     "name": "stderr",
     "output_type": "stream",
     "text": [
      "🔍 Analyse des URLs:  72%|███████▏  | 65/90 [26:12<10:02, 24.10s/it]"
     ]
    },
    {
     "name": "stdout",
     "output_type": "stream",
     "text": [
      "🟡 Analyse en cours : https://www.ukri.org/opportunity/ahrc-responsive-mode-collaborate-with-researchers-in-luxembourg/\n"
     ]
    },
    {
     "name": "stderr",
     "output_type": "stream",
     "text": [
      "🔍 Analyse des URLs:  73%|███████▎  | 66/90 [26:36<09:35, 23.97s/it]"
     ]
    },
    {
     "name": "stdout",
     "output_type": "stream",
     "text": [
      "🟡 Analyse en cours : https://www.ukri.org/opportunity/ahrc-responsive-mode-standard-research-grant/\n"
     ]
    },
    {
     "name": "stderr",
     "output_type": "stream",
     "text": [
      "🔍 Analyse des URLs:  74%|███████▍  | 67/90 [26:59<09:08, 23.87s/it]"
     ]
    },
    {
     "name": "stdout",
     "output_type": "stream",
     "text": [
      "🟡 Analyse en cours : https://www.ukri.org/opportunity/epsrc-programme-grant-outline-stage/\n"
     ]
    },
    {
     "name": "stderr",
     "output_type": "stream",
     "text": [
      "🔍 Analyse des URLs:  76%|███████▌  | 68/90 [27:23<08:44, 23.86s/it]"
     ]
    },
    {
     "name": "stdout",
     "output_type": "stream",
     "text": [
      "🟡 Analyse en cours : https://www.ukri.org/opportunity/bbsrc-international-travel-award-scheme/\n"
     ]
    },
    {
     "name": "stderr",
     "output_type": "stream",
     "text": [
      "🔍 Analyse des URLs:  77%|███████▋  | 69/90 [27:47<08:24, 24.01s/it]"
     ]
    },
    {
     "name": "stdout",
     "output_type": "stream",
     "text": [
      "🟡 Analyse en cours : https://www.ukri.org/opportunity/projects-peer-review-panel-pprp-2025/\n"
     ]
    },
    {
     "name": "stderr",
     "output_type": "stream",
     "text": [
      "🔍 Analyse des URLs:  78%|███████▊  | 70/90 [28:12<08:01, 24.07s/it]"
     ]
    },
    {
     "name": "stdout",
     "output_type": "stream",
     "text": [
      "🟡 Analyse en cours : https://www.ukri.org/opportunity/nerc-urgency-funding-open/\n"
     ]
    },
    {
     "name": "stderr",
     "output_type": "stream",
     "text": [
      "🔍 Analyse des URLs:  79%|███████▉  | 71/90 [28:35<07:35, 23.99s/it]"
     ]
    },
    {
     "name": "stdout",
     "output_type": "stream",
     "text": [
      "🟡 Analyse en cours : https://www.ukri.org/opportunity/strategic-infrastructure-outlines/\n"
     ]
    },
    {
     "name": "stderr",
     "output_type": "stream",
     "text": [
      "🔍 Analyse des URLs:  80%|████████  | 72/90 [28:59<07:09, 23.84s/it]"
     ]
    },
    {
     "name": "stdout",
     "output_type": "stream",
     "text": [
      "🟡 Analyse en cours : https://www.ukri.org/opportunity/epsrc-network-grant-nov-2023-responsive-mode/\n"
     ]
    },
    {
     "name": "stderr",
     "output_type": "stream",
     "text": [
      "🔍 Analyse des URLs:  81%|████████  | 73/90 [29:23<06:46, 23.92s/it]"
     ]
    },
    {
     "name": "stdout",
     "output_type": "stream",
     "text": [
      "🟡 Analyse en cours : https://www.ukri.org/opportunity/epsrc-working-with-overseas-scientists-nov-2023-responsive-mode/\n"
     ]
    },
    {
     "name": "stderr",
     "output_type": "stream",
     "text": [
      "🔍 Analyse des URLs:  82%|████████▏ | 74/90 [29:47<06:21, 23.83s/it]"
     ]
    },
    {
     "name": "stdout",
     "output_type": "stream",
     "text": [
      "🟡 Analyse en cours : https://www.ukri.org/opportunity/epsrc-new-investigator-award-nov-2023-responsive-mode/\n"
     ]
    },
    {
     "name": "stderr",
     "output_type": "stream",
     "text": [
      "🔍 Analyse des URLs:  83%|████████▎ | 75/90 [30:10<05:56, 23.75s/it]"
     ]
    },
    {
     "name": "stdout",
     "output_type": "stream",
     "text": [
      "🟡 Analyse en cours : https://www.ukri.org/opportunity/epsrc-discipline-hopping-in-ict-nov-2023-responsive-mode/\n"
     ]
    },
    {
     "name": "stderr",
     "output_type": "stream",
     "text": [
      "🔍 Analyse des URLs:  84%|████████▍ | 76/90 [30:34<05:32, 23.75s/it]"
     ]
    },
    {
     "name": "stdout",
     "output_type": "stream",
     "text": [
      "🟡 Analyse en cours : https://www.ukri.org/opportunity/epsrc-overseas-travel-grant-nov-2023-responsive-mode/\n"
     ]
    },
    {
     "name": "stderr",
     "output_type": "stream",
     "text": [
      "🔍 Analyse des URLs:  86%|████████▌ | 77/90 [30:58<05:09, 23.78s/it]"
     ]
    },
    {
     "name": "stdout",
     "output_type": "stream",
     "text": [
      "🟡 Analyse en cours : https://www.ukri.org/opportunity/epsrc-standard-research-grant-nov-2023-responsive-mode/\n"
     ]
    },
    {
     "name": "stderr",
     "output_type": "stream",
     "text": [
      "🔍 Analyse des URLs:  87%|████████▋ | 78/90 [31:22<04:46, 23.89s/it]"
     ]
    },
    {
     "name": "stdout",
     "output_type": "stream",
     "text": [
      "🟡 Analyse en cours : https://www.ukri.org/opportunity/esrc-responsive-mode-research-grants-round-two/\n"
     ]
    },
    {
     "name": "stderr",
     "output_type": "stream",
     "text": [
      "🔍 Analyse des URLs:  88%|████████▊ | 79/90 [31:46<04:23, 23.94s/it]"
     ]
    },
    {
     "name": "stdout",
     "output_type": "stream",
     "text": [
      "🟡 Analyse en cours : https://www.ukri.org/opportunity/esrc-responsive-mode-new-investigator-grants-round-two/\n"
     ]
    },
    {
     "name": "stderr",
     "output_type": "stream",
     "text": [
      "🔍 Analyse des URLs:  89%|████████▉ | 80/90 [32:10<03:59, 23.91s/it]"
     ]
    },
    {
     "name": "stdout",
     "output_type": "stream",
     "text": [
      "🟡 Analyse en cours : https://www.ukri.org/opportunity/esrc-responsive-mode-working-with-luxembourg-researchers-round-two/\n"
     ]
    },
    {
     "name": "stderr",
     "output_type": "stream",
     "text": [
      "🔍 Analyse des URLs:  90%|█████████ | 81/90 [32:33<03:34, 23.79s/it]"
     ]
    },
    {
     "name": "stdout",
     "output_type": "stream",
     "text": [
      "🟡 Analyse en cours : https://www.ukri.org/opportunity/esrc-responsive-mode-secondary-data-analysis-round-two/\n"
     ]
    },
    {
     "name": "stderr",
     "output_type": "stream",
     "text": [
      "🔍 Analyse des URLs:  91%|█████████ | 82/90 [32:57<03:10, 23.78s/it]"
     ]
    },
    {
     "name": "stdout",
     "output_type": "stream",
     "text": [
      "🟡 Analyse en cours : https://www.ukri.org/opportunity/esrc-responsive-mode-ukri-sbe-lead-agency-opportunity-round-two/\n"
     ]
    },
    {
     "name": "stderr",
     "output_type": "stream",
     "text": [
      "🔍 Analyse des URLs:  92%|█████████▏| 83/90 [33:21<02:46, 23.72s/it]"
     ]
    },
    {
     "name": "stdout",
     "output_type": "stream",
     "text": [
      "🟡 Analyse en cours : https://www.ukri.org/opportunity/esrc-responsive-mode-working-with-brazilian-researchers-round-two/\n"
     ]
    },
    {
     "name": "stderr",
     "output_type": "stream",
     "text": [
      "🔍 Analyse des URLs:  93%|█████████▎| 84/90 [33:45<02:22, 23.76s/it]"
     ]
    },
    {
     "name": "stdout",
     "output_type": "stream",
     "text": [
      "🟡 Analyse en cours : https://www.ukri.org/opportunity/collaborate-with-researchers-in-luxembourg/\n"
     ]
    },
    {
     "name": "stderr",
     "output_type": "stream",
     "text": [
      "🔍 Analyse des URLs:  94%|█████████▍| 85/90 [34:09<01:59, 23.84s/it]"
     ]
    },
    {
     "name": "stdout",
     "output_type": "stream",
     "text": [
      "🟡 Analyse en cours : https://www.ukri.org/opportunity/work-with-brazilian-researchers-nerc-fapesp-lead-agency/\n"
     ]
    },
    {
     "name": "stderr",
     "output_type": "stream",
     "text": [
      "🔍 Analyse des URLs:  96%|█████████▌| 86/90 [34:32<01:35, 23.82s/it]"
     ]
    },
    {
     "name": "stdout",
     "output_type": "stream",
     "text": [
      "🟡 Analyse en cours : https://www.ukri.org/opportunity/collaborate-with-researchers-in-brazil/\n"
     ]
    },
    {
     "name": "stderr",
     "output_type": "stream",
     "text": [
      "🔍 Analyse des URLs:  97%|█████████▋| 87/90 [34:56<01:11, 23.80s/it]"
     ]
    },
    {
     "name": "stdout",
     "output_type": "stream",
     "text": [
      "🟡 Analyse en cours : https://www.ukri.org/opportunity/ukri-sbe-lead-agency-opportunity/\n"
     ]
    },
    {
     "name": "stderr",
     "output_type": "stream",
     "text": [
      "🔍 Analyse des URLs:  98%|█████████▊| 88/90 [35:20<00:47, 23.88s/it]"
     ]
    },
    {
     "name": "stdout",
     "output_type": "stream",
     "text": [
      "🟡 Analyse en cours : https://www.ukri.org/opportunity/research-england-development-fund/\n"
     ]
    },
    {
     "name": "stderr",
     "output_type": "stream",
     "text": [
      "🔍 Analyse des URLs:  99%|█████████▉| 89/90 [35:44<00:23, 23.99s/it]"
     ]
    },
    {
     "name": "stdout",
     "output_type": "stream",
     "text": [
      "🟡 Analyse en cours : https://www.ukri.org/opportunity/daphne-jackson-fellowship/\n"
     ]
    },
    {
     "name": "stderr",
     "output_type": "stream",
     "text": [
      "🔍 Analyse des URLs: 100%|██████████| 90/90 [36:08<00:00, 24.09s/it]\n"
     ]
    },
    {
     "name": "stdout",
     "output_type": "stream",
     "text": [
      "\n",
      "✅ Résultats sauvegardés dans 'df_yes_avec_pertinence_et_resume_uk.csv'.\n"
     ]
    }
   ],
   "source": [
    "from selenium import webdriver\n",
    "from selenium.webdriver.chrome.options import Options\n",
    "from selenium.webdriver.common.by import By\n",
    "import time\n",
    "import pandas as pd\n",
    "from groq import Groq\n",
    "import re\n",
    "from tqdm import tqdm\n",
    "\n",
    "# === CONFIGURATION GROQ ===\n",
    "import os\n",
    "from dotenv import load_dotenv\n",
    "\n",
    "# Load environment variables\n",
    "load_dotenv()\n",
    "\n",
    "client = Groq(api_key=os.getenv('GROQ_API_KEY'))\n",
    "MODEL_NAME = \"llama3-70b-8192\"\n",
    "\n",
    "# === CONFIGURATION SELENIUM HEADLESS ===\n",
    "options = Options()\n",
    "options.add_argument(\"--headless\")\n",
    "options.add_argument(\"--disable-gpu\")\n",
    "options.add_argument(\"--window-size=1920,1080\")\n",
    "driver = webdriver.Chrome(options=options)\n",
    "\n",
    "# === Nettoyage & Limitation texte ===\n",
    "def clean_and_limit_text(text, max_words=800):\n",
    "    text = re.sub(r'\\s+', ' ', text).strip()\n",
    "    words = text.split()\n",
    "    if len(words) > max_words:\n",
    "        return ' '.join(words[:max_words]) + \" [...] (texte tronqué)\"\n",
    "    return text\n",
    "\n",
    "# === Extraction texte depuis une URL ===\n",
    "def extract_text_from_URL(URL):\n",
    "    try:\n",
    "        driver.get(URL)\n",
    "        time.sleep(5)\n",
    "\n",
    "        for _ in range(10):\n",
    "            driver.execute_script(\"window.scrollBy(0, 500);\")\n",
    "            time.sleep(0.3)\n",
    "        time.sleep(3)\n",
    "\n",
    "        js_desc = \"\"\"\n",
    "        let desc = document.querySelector('div.showMore--three-lines');\n",
    "        return desc ? desc.innerText.trim() : '';\n",
    "        \"\"\"\n",
    "        description_text = driver.execute_script(js_desc)\n",
    "\n",
    "        try:\n",
    "            open_all_btn = driver.find_element(By.CLASS_NAME, \"govuk-accordion__open-all\")\n",
    "            open_all_btn.click()\n",
    "            time.sleep(1)\n",
    "        except:\n",
    "            pass\n",
    "\n",
    "        js_accordion = \"\"\"\n",
    "        let acc = document.querySelector('div.govuk-accordion.ukri-accordion');\n",
    "        return acc ? acc.innerText.trim() : '';\n",
    "        \"\"\"\n",
    "        accordion_text = driver.execute_script(js_accordion)\n",
    "\n",
    "        final_text = f\"{description_text}\\n\\n---\\n\\n{accordion_text}\".strip()\n",
    "        return final_text if final_text.strip() else \"Pas de contenu détecté.\"\n",
    "    \n",
    "    except Exception as e:\n",
    "        return f\"Erreur Selenium: {e}\"\n",
    "\n",
    "# === Construction du prompt pour Groq ===\n",
    "def build_prompt(projects, site_text):\n",
    "    projects_text = \"\\n\".join([\n",
    "        f\"{i+1}. {p['Project Name']} : {p['Description']} (axe {p['Axes / Thematic Areas']})\"\n",
    "        for i, p in enumerate(projects)\n",
    "    ])\n",
    "    return f\"\"\"\n",
    "Tu es un expert en analyse de projets d'entreprise.\n",
    "\n",
    "Voici une liste de projets que cette entreprise a déjà réalisés avec leurs descriptions et axes principaux :\n",
    "\n",
    "{projects_text}\n",
    "\n",
    "Voici maintenant le contenu d'un appel à projets extrait d'une page du portail européen :\n",
    "\n",
    "{site_text}\n",
    "\n",
    "Peux-tu me dire si cette opportunité est pertinente par rapport aux projets que l'entreprise a déjà réalisés ?\n",
    "Merci de répondre clairement :\n",
    "- Pertinence : Oui / Non\n",
    "- Projets similaires détectés : [liste]\n",
    "- Résumé rapide expliquant ta réponse.\n",
    "\"\"\"\n",
    "\n",
    "# === Requête Groq ===\n",
    "def query_groq(prompt, model=MODEL_NAME, max_completion_tokens=3000, temperature=1.0, stream=False, delay_between_requests=10):\n",
    "    try:\n",
    "        response = client.chat.completions.create(\n",
    "            model=model,\n",
    "            messages=[\n",
    "                {\"role\": \"system\", \"content\": \"Tu es un expert en comparaison de projets R&D.\"},\n",
    "                {\"role\": \"user\", \"content\": prompt}\n",
    "            ],\n",
    "            temperature=temperature,\n",
    "            max_completion_tokens=max_completion_tokens,\n",
    "            top_p=1,\n",
    "            stream=stream\n",
    "        )\n",
    "        if stream:\n",
    "            result = \"\"\n",
    "            for chunk in response:\n",
    "                delta = chunk.choices[0].delta.content\n",
    "                if delta:\n",
    "                    result += delta\n",
    "            time.sleep(delay_between_requests)\n",
    "            return result.strip()\n",
    "        else:\n",
    "            time.sleep(delay_between_requests)\n",
    "            return response.choices[0].message.content.strip()\n",
    "    except Exception as e:\n",
    "        return f\"Erreur Groq: {e}\"\n",
    "\n",
    "# === Parsing du résultat Groq ===\n",
    "def parse_result(text):\n",
    "    pertinence = \"Non\"\n",
    "    resume = \"\"\n",
    "\n",
    "    try:\n",
    "        match = re.search(r\"(?i)pertinence\\s*[:\\-–]\\s*(oui|non)\", text)\n",
    "        if match:\n",
    "            pertinence = match.group(1).capitalize()\n",
    "\n",
    "        resume_match = re.search(r\"(?i)résumé.*?:\\s*(.+)\", text)\n",
    "        if resume_match:\n",
    "            resume = resume_match.group(1).strip()\n",
    "        else:\n",
    "            resume = \"\\n\".join(text.splitlines()[1:4]).strip()\n",
    "    except:\n",
    "        pass\n",
    "\n",
    "    return pertinence, resume\n",
    "\n",
    "# === Analyse d'une URL ===\n",
    "def analyze_URL(URL, projects_list):\n",
    "    print(f\"🟡 Analyse en cours : {URL}\")\n",
    "    try:\n",
    "        site_text_raw = extract_text_from_URL(URL)\n",
    "        site_text = clean_and_limit_text(site_text_raw, max_words=800)\n",
    "        projects_list_sample = projects_list[:3]  # 3 projets max\n",
    "\n",
    "        prompt = build_prompt(projects_list_sample, site_text)\n",
    "        result_text = query_groq(prompt)\n",
    "        pertinence, resume = parse_result(result_text)\n",
    "        \n",
    "        return {\n",
    "            \"URL\": URL,\n",
    "            \"Pertinence LLM\": pertinence,\n",
    "            \"Résumé LLM\": resume,\n",
    "            \"Réponse brute\": result_text\n",
    "        }\n",
    "    except Exception as e:\n",
    "        return {\n",
    "            \"URL\": URL,\n",
    "            \"Pertinence LLM\": \"Erreur\",\n",
    "            \"Résumé LLM\": f\"Erreur pendant l'analyse : {e}\",\n",
    "            \"Réponse brute\": str(e)\n",
    "        }\n",
    "\n",
    "# === MAIN EXECUTION ===\n",
    "if __name__ == \"__main__\":\n",
    "    try:\n",
    "        df_pertinence_uk = pd.read_excel(\"projets_pertinents_keywords_InnUK_from_all_description.xlsx\")\n",
    "        projects_list = odf_df[['Project Name', 'Description', 'Axes / Thematic Areas']].dropna().to_dict(orient='records')\n",
    "        URL_list = df_pertinence_uk['URL'].dropna().unique()\n",
    "\n",
    "        results = []\n",
    "        for URL in tqdm(URL_list, desc=\"🔍 Analyse des URLs\"):\n",
    "            results.append(analyze_URL(URL, projects_list))\n",
    "\n",
    "        results_df = pd.DataFrame(results)\n",
    "        df_final_llm_uk = df_pertinence_uk.merge(results_df, on=\"URL\", how=\"left\")\n",
    "\n",
    "        df_final_llm_uk.to_excel(\"df_yes_avec_pertinence_et_resume_uk.xlsx\", index=False)\n",
    "        print(\"\\n✅ Résultats sauvegardés dans 'df_yes_avec_pertinence_et_resume_uk.csv'.\")\n",
    "        \n",
    "    finally:\n",
    "        driver.quit()\n"
   ]
  },
  {
   "cell_type": "code",
   "execution_count": null,
   "id": "7558b594",
   "metadata": {},
   "outputs": [
    {
     "data": {
      "text/html": [
       "<div>\n",
       "<style scoped>\n",
       "    .dataframe tbody tr th:only-of-type {\n",
       "        vertical-align: middle;\n",
       "    }\n",
       "\n",
       "    .dataframe tbody tr th {\n",
       "        vertical-align: top;\n",
       "    }\n",
       "\n",
       "    .dataframe thead th {\n",
       "        text-align: right;\n",
       "    }\n",
       "</style>\n",
       "<table border=\"1\" class=\"dataframe\">\n",
       "  <thead>\n",
       "    <tr style=\"text-align: right;\">\n",
       "      <th></th>\n",
       "      <th>URL</th>\n",
       "      <th>Pertinence</th>\n",
       "      <th>Matching Word(s)</th>\n",
       "      <th>Title</th>\n",
       "      <th>Status</th>\n",
       "      <th>Start_date</th>\n",
       "      <th>Deadline</th>\n",
       "      <th>Pertinence LLM</th>\n",
       "      <th>Résumé LLM</th>\n",
       "      <th>Réponse brute</th>\n",
       "    </tr>\n",
       "  </thead>\n",
       "  <tbody>\n",
       "    <tr>\n",
       "      <th>2</th>\n",
       "      <td>https://ec.europa.eu/info/funding-tenders/oppo...</td>\n",
       "      <td>Yes</td>\n",
       "      <td>technical assistance, renewable energy</td>\n",
       "      <td>Crowding in private finance</td>\n",
       "      <td>Open For Submission</td>\n",
       "      <td>24 April 2025</td>\n",
       "      <td>23 September 2025</td>\n",
       "      <td>Oui</td>\n",
       "      <td>L'appel à projets concerne l'établissement de ...</td>\n",
       "      <td>Pertinence : Oui\\n\\nProjets similaires détecté...</td>\n",
       "    </tr>\n",
       "    <tr>\n",
       "      <th>4</th>\n",
       "      <td>https://ec.europa.eu/info/funding-tenders/oppo...</td>\n",
       "      <td>Yes</td>\n",
       "      <td>capacity building, digital transformation</td>\n",
       "      <td>Multi-Country project in Agri-Food</td>\n",
       "      <td>Open For Submission</td>\n",
       "      <td>15 April 2025</td>\n",
       "      <td>02 September 2025</td>\n",
       "      <td>Oui</td>\n",
       "      <td>L'appel à projets spécifique est pertinent car...</td>\n",
       "      <td>Pertinence : Oui\\n\\nProjets similaires détecté...</td>\n",
       "    </tr>\n",
       "    <tr>\n",
       "      <th>5</th>\n",
       "      <td>https://ec.europa.eu/info/funding-tenders/oppo...</td>\n",
       "      <td>Yes</td>\n",
       "      <td>capacity building, cybersecurity, digital tran...</td>\n",
       "      <td>Completion of the initial Network of European ...</td>\n",
       "      <td>Open For Submission</td>\n",
       "      <td>15 April 2025</td>\n",
       "      <td>02 September 2025</td>\n",
       "      <td>Oui</td>\n",
       "      <td>Cette opportunité de projet EDIH (European Dig...</td>\n",
       "      <td>Pertinence : Oui\\n\\nProjets similaires détecté...</td>\n",
       "    </tr>\n",
       "    <tr>\n",
       "      <th>16</th>\n",
       "      <td>https://ec.europa.eu/info/funding-tenders/oppo...</td>\n",
       "      <td>Yes</td>\n",
       "      <td>machine learning</td>\n",
       "      <td>Fast-track Extending U-space eco-system</td>\n",
       "      <td>Open For Submission</td>\n",
       "      <td>01 April 2025</td>\n",
       "      <td>16 September 2025</td>\n",
       "      <td>Oui</td>\n",
       "      <td>L'appel à projet concerne la recherche et le d...</td>\n",
       "      <td>Pertinence : Oui\\n\\nProjets similaires détecté...</td>\n",
       "    </tr>\n",
       "    <tr>\n",
       "      <th>19</th>\n",
       "      <td>https://ec.europa.eu/info/funding-tenders/oppo...</td>\n",
       "      <td>Yes</td>\n",
       "      <td>growth strategy</td>\n",
       "      <td>Women Tech.EU initiative</td>\n",
       "      <td>Open For Submission</td>\n",
       "      <td>01 April 2025</td>\n",
       "      <td>02 September 2025</td>\n",
       "      <td>Oui</td>\n",
       "      <td>L'appel à projets Women TechEU initiative prop...</td>\n",
       "      <td>Pertinence : Oui\\n\\nProjets similaires détecté...</td>\n",
       "    </tr>\n",
       "    <tr>\n",
       "      <th>20</th>\n",
       "      <td>https://ec.europa.eu/info/funding-tenders/oppo...</td>\n",
       "      <td>Yes</td>\n",
       "      <td>knowledge transfer</td>\n",
       "      <td>MSCA Staff Exchanges 2025</td>\n",
       "      <td>Open For Submission</td>\n",
       "      <td>27 March 2025</td>\n",
       "      <td>08 October 2025</td>\n",
       "      <td>Oui</td>\n",
       "      <td>Cette opportunité de projetMSCA Staff Exchange...</td>\n",
       "      <td>Pertinence : Oui\\n\\nProjets similaires détecté...</td>\n",
       "    </tr>\n",
       "    <tr>\n",
       "      <th>21</th>\n",
       "      <td>https://ec.europa.eu/info/funding-tenders/oppo...</td>\n",
       "      <td>Yes</td>\n",
       "      <td>technology maturation</td>\n",
       "      <td>Ground Test Demonstration up to TRL5 of On-Boa...</td>\n",
       "      <td>Open For Submission</td>\n",
       "      <td>27 March 2025</td>\n",
       "      <td>15 May 2025</td>\n",
       "      <td>Oui</td>\n",
       "      <td>L'appel à projets concerne le développement d'...</td>\n",
       "      <td>- Pertinence : Oui\\n- Projets similaires détec...</td>\n",
       "    </tr>\n",
       "    <tr>\n",
       "      <th>28</th>\n",
       "      <td>https://ec.europa.eu/info/funding-tenders/oppo...</td>\n",
       "      <td>Yes</td>\n",
       "      <td>call for proposals</td>\n",
       "      <td>WATER</td>\n",
       "      <td>Open For Submission</td>\n",
       "      <td>20 February 2025</td>\n",
       "      <td>17 June 2025</td>\n",
       "      <td>Oui</td>\n",
       "      <td>L'appel à projets spécifique concerne la créat...</td>\n",
       "      <td>Pertinence : Oui\\n\\nProjets similaires détecté...</td>\n",
       "    </tr>\n",
       "    <tr>\n",
       "      <th>29</th>\n",
       "      <td>https://ec.europa.eu/info/funding-tenders/oppo...</td>\n",
       "      <td>Yes</td>\n",
       "      <td>intellectual property, technology readiness level</td>\n",
       "      <td>EIC Pathfinder Open</td>\n",
       "      <td>Open For Submission</td>\n",
       "      <td>20 February 2025</td>\n",
       "      <td>21 May 2025</td>\n",
       "      <td>Oui</td>\n",
       "      <td>Cette opportunité est pertinente car elle conc...</td>\n",
       "      <td>Pertinence : Oui\\n\\nProjets similaires détecté...</td>\n",
       "    </tr>\n",
       "    <tr>\n",
       "      <th>51</th>\n",
       "      <td>https://ec.europa.eu/info/funding-tenders/oppo...</td>\n",
       "      <td>Yes</td>\n",
       "      <td>prototyping, innovative SMEs</td>\n",
       "      <td>Non-thematic research actions by SMEs and rese...</td>\n",
       "      <td>Open For Submission</td>\n",
       "      <td>18 February 2025</td>\n",
       "      <td>16 October 2025</td>\n",
       "      <td>Oui</td>\n",
       "      <td>Cette opportunité Seems to align with the comp...</td>\n",
       "      <td>Pertinence : Oui\\n\\nProjets similaires détecté...</td>\n",
       "    </tr>\n",
       "    <tr>\n",
       "      <th>52</th>\n",
       "      <td>https://ec.europa.eu/info/funding-tenders/oppo...</td>\n",
       "      <td>Yes</td>\n",
       "      <td>research results, prototyping, innovative SMEs</td>\n",
       "      <td>Non-thematic development actions by SMEs</td>\n",
       "      <td>Open For Submission</td>\n",
       "      <td>18 February 2025</td>\n",
       "      <td>16 October 2025</td>\n",
       "      <td>Oui</td>\n",
       "      <td>Cette opportunité est pertinente car elle conc...</td>\n",
       "      <td>Pertinence : Oui\\n\\nProjets similaires détecté...</td>\n",
       "    </tr>\n",
       "    <tr>\n",
       "      <th>58</th>\n",
       "      <td>https://ec.europa.eu/info/funding-tenders/oppo...</td>\n",
       "      <td>Yes</td>\n",
       "      <td>prototyping, artificial intelligence, cybersec...</td>\n",
       "      <td>Chiplet for Defence Application</td>\n",
       "      <td>Open For Submission</td>\n",
       "      <td>18 February 2025</td>\n",
       "      <td>16 October 2025</td>\n",
       "      <td>Oui</td>\n",
       "      <td>Cette opportunité est pertinente car elle conc...</td>\n",
       "      <td>Pertinence : Oui\\n\\nProjets similaires détecté...</td>\n",
       "    </tr>\n",
       "    <tr>\n",
       "      <th>67</th>\n",
       "      <td>https://ec.europa.eu/info/funding-tenders/oppo...</td>\n",
       "      <td>Yes</td>\n",
       "      <td>public-private partnership, call for proposals...</td>\n",
       "      <td>Centres of Vocational Excellence</td>\n",
       "      <td>Open For Submission</td>\n",
       "      <td>05 December 2024</td>\n",
       "      <td>11 June 2025</td>\n",
       "      <td>Oui</td>\n",
       "      <td>Bien que ce projet de Centres of Vocational Ex...</td>\n",
       "      <td>Pertinence : Oui\\n\\nProjets similaires détecté...</td>\n",
       "    </tr>\n",
       "    <tr>\n",
       "      <th>68</th>\n",
       "      <td>https://ec.europa.eu/info/funding-tenders/oppo...</td>\n",
       "      <td>Yes</td>\n",
       "      <td>proof of concept, social innovation</td>\n",
       "      <td>ERC PROOF OF CONCEPT GRANTS</td>\n",
       "      <td>Open For Submission</td>\n",
       "      <td>13 November 2024</td>\n",
       "      <td>18 September 2025</td>\n",
       "      <td>Oui</td>\n",
       "      <td>L'appel à projets ERC Proof of Concept Grants ...</td>\n",
       "      <td>Pertinence : Oui\\n\\nProjets similaires détecté...</td>\n",
       "    </tr>\n",
       "    <tr>\n",
       "      <th>69</th>\n",
       "      <td>https://ec.europa.eu/info/funding-tenders/oppo...</td>\n",
       "      <td>Yes</td>\n",
       "      <td>technology readiness level</td>\n",
       "      <td>EIC Accelerator 2025 - Short application</td>\n",
       "      <td>Open For Submission</td>\n",
       "      <td>29 October 2024</td>\n",
       "      <td>18 December 2025</td>\n",
       "      <td>Oui</td>\n",
       "      <td>L'EIC Accelerator ciblé les innovations de rup...</td>\n",
       "      <td>Pertinence : Oui\\n\\nProjets similaires détecté...</td>\n",
       "    </tr>\n",
       "  </tbody>\n",
       "</table>\n",
       "</div>"
      ],
      "text/plain": [
       "                                                  URL Pertinence  \\\n",
       "2   https://ec.europa.eu/info/funding-tenders/oppo...        Yes   \n",
       "4   https://ec.europa.eu/info/funding-tenders/oppo...        Yes   \n",
       "5   https://ec.europa.eu/info/funding-tenders/oppo...        Yes   \n",
       "16  https://ec.europa.eu/info/funding-tenders/oppo...        Yes   \n",
       "19  https://ec.europa.eu/info/funding-tenders/oppo...        Yes   \n",
       "20  https://ec.europa.eu/info/funding-tenders/oppo...        Yes   \n",
       "21  https://ec.europa.eu/info/funding-tenders/oppo...        Yes   \n",
       "28  https://ec.europa.eu/info/funding-tenders/oppo...        Yes   \n",
       "29  https://ec.europa.eu/info/funding-tenders/oppo...        Yes   \n",
       "51  https://ec.europa.eu/info/funding-tenders/oppo...        Yes   \n",
       "52  https://ec.europa.eu/info/funding-tenders/oppo...        Yes   \n",
       "58  https://ec.europa.eu/info/funding-tenders/oppo...        Yes   \n",
       "67  https://ec.europa.eu/info/funding-tenders/oppo...        Yes   \n",
       "68  https://ec.europa.eu/info/funding-tenders/oppo...        Yes   \n",
       "69  https://ec.europa.eu/info/funding-tenders/oppo...        Yes   \n",
       "\n",
       "                                     Matching Word(s)  \\\n",
       "2              technical assistance, renewable energy   \n",
       "4           capacity building, digital transformation   \n",
       "5   capacity building, cybersecurity, digital tran...   \n",
       "16                                   machine learning   \n",
       "19                                    growth strategy   \n",
       "20                                 knowledge transfer   \n",
       "21                              technology maturation   \n",
       "28                                 call for proposals   \n",
       "29  intellectual property, technology readiness level   \n",
       "51                       prototyping, innovative SMEs   \n",
       "52     research results, prototyping, innovative SMEs   \n",
       "58  prototyping, artificial intelligence, cybersec...   \n",
       "67  public-private partnership, call for proposals...   \n",
       "68                proof of concept, social innovation   \n",
       "69                         technology readiness level   \n",
       "\n",
       "                                                Title               Status  \\\n",
       "2                         Crowding in private finance  Open For Submission   \n",
       "4                  Multi-Country project in Agri-Food  Open For Submission   \n",
       "5   Completion of the initial Network of European ...  Open For Submission   \n",
       "16            Fast-track Extending U-space eco-system  Open For Submission   \n",
       "19                           Women Tech.EU initiative  Open For Submission   \n",
       "20                          MSCA Staff Exchanges 2025  Open For Submission   \n",
       "21  Ground Test Demonstration up to TRL5 of On-Boa...  Open For Submission   \n",
       "28                                              WATER  Open For Submission   \n",
       "29                                EIC Pathfinder Open  Open For Submission   \n",
       "51  Non-thematic research actions by SMEs and rese...  Open For Submission   \n",
       "52           Non-thematic development actions by SMEs  Open For Submission   \n",
       "58                    Chiplet for Defence Application  Open For Submission   \n",
       "67                   Centres of Vocational Excellence  Open For Submission   \n",
       "68                        ERC PROOF OF CONCEPT GRANTS  Open For Submission   \n",
       "69           EIC Accelerator 2025 - Short application  Open For Submission   \n",
       "\n",
       "          Start_date           Deadline Pertinence LLM  \\\n",
       "2      24 April 2025  23 September 2025            Oui   \n",
       "4      15 April 2025  02 September 2025            Oui   \n",
       "5      15 April 2025  02 September 2025            Oui   \n",
       "16     01 April 2025  16 September 2025            Oui   \n",
       "19     01 April 2025  02 September 2025            Oui   \n",
       "20     27 March 2025    08 October 2025            Oui   \n",
       "21     27 March 2025        15 May 2025            Oui   \n",
       "28  20 February 2025       17 June 2025            Oui   \n",
       "29  20 February 2025        21 May 2025            Oui   \n",
       "51  18 February 2025    16 October 2025            Oui   \n",
       "52  18 February 2025    16 October 2025            Oui   \n",
       "58  18 February 2025    16 October 2025            Oui   \n",
       "67  05 December 2024       11 June 2025            Oui   \n",
       "68  13 November 2024  18 September 2025            Oui   \n",
       "69   29 October 2024   18 December 2025            Oui   \n",
       "\n",
       "                                           Résumé LLM  \\\n",
       "2   L'appel à projets concerne l'établissement de ...   \n",
       "4   L'appel à projets spécifique est pertinent car...   \n",
       "5   Cette opportunité de projet EDIH (European Dig...   \n",
       "16  L'appel à projet concerne la recherche et le d...   \n",
       "19  L'appel à projets Women TechEU initiative prop...   \n",
       "20  Cette opportunité de projetMSCA Staff Exchange...   \n",
       "21  L'appel à projets concerne le développement d'...   \n",
       "28  L'appel à projets spécifique concerne la créat...   \n",
       "29  Cette opportunité est pertinente car elle conc...   \n",
       "51  Cette opportunité Seems to align with the comp...   \n",
       "52  Cette opportunité est pertinente car elle conc...   \n",
       "58  Cette opportunité est pertinente car elle conc...   \n",
       "67  Bien que ce projet de Centres of Vocational Ex...   \n",
       "68  L'appel à projets ERC Proof of Concept Grants ...   \n",
       "69  L'EIC Accelerator ciblé les innovations de rup...   \n",
       "\n",
       "                                        Réponse brute  \n",
       "2   Pertinence : Oui\\n\\nProjets similaires détecté...  \n",
       "4   Pertinence : Oui\\n\\nProjets similaires détecté...  \n",
       "5   Pertinence : Oui\\n\\nProjets similaires détecté...  \n",
       "16  Pertinence : Oui\\n\\nProjets similaires détecté...  \n",
       "19  Pertinence : Oui\\n\\nProjets similaires détecté...  \n",
       "20  Pertinence : Oui\\n\\nProjets similaires détecté...  \n",
       "21  - Pertinence : Oui\\n- Projets similaires détec...  \n",
       "28  Pertinence : Oui\\n\\nProjets similaires détecté...  \n",
       "29  Pertinence : Oui\\n\\nProjets similaires détecté...  \n",
       "51  Pertinence : Oui\\n\\nProjets similaires détecté...  \n",
       "52  Pertinence : Oui\\n\\nProjets similaires détecté...  \n",
       "58  Pertinence : Oui\\n\\nProjets similaires détecté...  \n",
       "67  Pertinence : Oui\\n\\nProjets similaires détecté...  \n",
       "68  Pertinence : Oui\\n\\nProjets similaires détecté...  \n",
       "69  Pertinence : Oui\\n\\nProjets similaires détecté...  "
      ]
     },
     "execution_count": 20,
     "metadata": {},
     "output_type": "execute_result"
    }
   ],
   "source": [
    "df_yes_final"
   ]
  },
  {
   "cell_type": "code",
   "execution_count": 39,
   "id": "ace6b2c4",
   "metadata": {},
   "outputs": [
    {
     "data": {
      "text/plain": [
       "(10, 10)"
      ]
     },
     "execution_count": 39,
     "metadata": {},
     "output_type": "execute_result"
    }
   ],
   "source": [
    "df_yes_final.shape"
   ]
  },
  {
   "cell_type": "code",
   "execution_count": null,
   "id": "9dafffec",
   "metadata": {},
   "outputs": [
    {
     "name": "stdout",
     "output_type": "stream",
     "text": [
      "\n",
      "✅ Résultats enrichis sauvegardés dans 'df_yes_final.csv'.\n"
     ]
    }
   ],
   "source": [
    "df_yes_final.to_csv(\"df_yes_final.csv\", index=True)\n",
    "print(\"\\n✅ Résultats enrichis sauvegardés dans 'df_yes_final.csv'.\")"
   ]
  },
  {
   "cell_type": "code",
   "execution_count": null,
   "id": "8e6ce914",
   "metadata": {},
   "outputs": [
    {
     "name": "stdout",
     "output_type": "stream",
     "text": [
      "2                       https://ec.europa.eu/info/funding-tenders/opportunities/portal/screen/opportunities/topic-details/LIFE-2025-CET-PRIVAFIN?isExactMatch=true&status=31094501,31094502&order=DESC&pageNumber=2&pageSize=50&sortBy=startDate\n",
      "4                  https://ec.europa.eu/info/funding-tenders/opportunities/portal/screen/opportunities/topic-details/DIGITAL-2025-AI-08-AGRIFOOD?isExactMatch=true&status=31094501,31094502&order=DESC&pageNumber=2&pageSize=50&sortBy=startDate\n",
      "5      https://ec.europa.eu/info/funding-tenders/opportunities/portal/screen/opportunities/topic-details/DIGITAL-2025-EDIH-AC-08-COMPLETION-STEP?isExactMatch=true&status=31094501,31094502&order=DESC&pageNumber=2&pageSize=50&sortBy=startDate\n",
      "16          https://ec.europa.eu/info/funding-tenders/opportunities/portal/screen/opportunities/topic-details/HORIZON-SESAR-2025-DES-IR-02-WA6-2?isExactMatch=true&status=31094501,31094502&order=DESC&pageNumber=4&pageSize=50&sortBy=startDate\n",
      "19                  https://ec.europa.eu/info/funding-tenders/opportunities/portal/screen/opportunities/topic-details/HORIZON-EIC-2025-WOMENTECH?isExactMatch=true&status=31094501,31094502&order=DESC&pageNumber=4&pageSize=50&sortBy=startDate\n",
      "20                  https://ec.europa.eu/info/funding-tenders/opportunities/portal/screen/opportunities/topic-details/HORIZON-MSCA-2025-SE-01-01?isExactMatch=true&status=31094501,31094502&order=DESC&pageNumber=4&pageSize=50&sortBy=startDate\n",
      "21    https://ec.europa.eu/info/funding-tenders/opportunities/portal/screen/opportunities/topic-details/HORIZON-JU-CLEAN-AVIATION-2025-03-SMR-03?isExactMatch=true&status=31094501,31094502&order=DESC&pageNumber=4&pageSize=50&sortBy=startDate\n",
      "28                            https://ec.europa.eu/info/funding-tenders/opportunities/portal/screen/opportunities/topic-details/HORIZON-EIT-2025?isExactMatch=true&status=31094501,31094502&order=DESC&pageNumber=5&pageSize=50&sortBy=startDate\n",
      "29             https://ec.europa.eu/info/funding-tenders/opportunities/portal/screen/opportunities/topic-details/HORIZON-EIC-2025-PATHFINDEROPEN?isExactMatch=true&status=31094501,31094502&order=DESC&pageNumber=5&pageSize=50&sortBy=startDate\n",
      "51                     https://ec.europa.eu/info/funding-tenders/opportunities/portal/screen/opportunities/topic-details/EDF-2025-LS-RA-SMERO-NT?isExactMatch=true&status=31094501,31094502&order=DESC&pageNumber=6&pageSize=50&sortBy=startDate\n",
      "52                       https://ec.europa.eu/info/funding-tenders/opportunities/portal/screen/opportunities/topic-details/EDF-2025-LS-DA-SME-NT?isExactMatch=true&status=31094501,31094502&order=DESC&pageNumber=6&pageSize=50&sortBy=startDate\n",
      "58                https://ec.europa.eu/info/funding-tenders/opportunities/portal/screen/opportunities/topic-details/EDF-2025-RA-MATCOMP-CDA-STEP?isExactMatch=true&status=31094501,31094502&order=DESC&pageNumber=6&pageSize=50&sortBy=startDate\n",
      "67                   https://ec.europa.eu/info/funding-tenders/opportunities/portal/screen/opportunities/topic-details/ERASMUS-EDU-2025-PEX-COVE?isExactMatch=true&status=31094501,31094502&order=DESC&pageNumber=7&pageSize=50&sortBy=startDate\n",
      "68                                https://ec.europa.eu/info/funding-tenders/opportunities/portal/screen/opportunities/topic-details/ERC-2025-POC?isExactMatch=true&status=31094501,31094502&order=DESC&pageNumber=7&pageSize=50&sortBy=startDate\n",
      "69             https://ec.europa.eu/info/funding-tenders/opportunities/portal/screen/opportunities/topic-details/HORIZON-EIC-2025-ACCELERATOR-01?isExactMatch=true&status=31094501,31094502&order=DESC&pageNumber=7&pageSize=50&sortBy=startDate\n",
      "Name: URL, dtype: object\n"
     ]
    }
   ],
   "source": [
    "pd.set_option('display.max_colwidth', None)\n",
    "print(df_yes_final['URL'])"
   ]
  },
  {
   "cell_type": "code",
   "execution_count": null,
   "id": "073c50a2",
   "metadata": {},
   "outputs": [
    {
     "data": {
      "text/html": [
       "<div>\n",
       "<style scoped>\n",
       "    .dataframe tbody tr th:only-of-type {\n",
       "        vertical-align: middle;\n",
       "    }\n",
       "\n",
       "    .dataframe tbody tr th {\n",
       "        vertical-align: top;\n",
       "    }\n",
       "\n",
       "    .dataframe thead th {\n",
       "        text-align: right;\n",
       "    }\n",
       "</style>\n",
       "<table border=\"1\" class=\"dataframe\">\n",
       "  <thead>\n",
       "    <tr style=\"text-align: right;\">\n",
       "      <th></th>\n",
       "      <th>URL</th>\n",
       "      <th>Pertinence</th>\n",
       "      <th>Matching Word(s)</th>\n",
       "      <th>Title</th>\n",
       "      <th>Status</th>\n",
       "      <th>Start_date</th>\n",
       "      <th>Deadline</th>\n",
       "      <th>Pertinence LLM</th>\n",
       "      <th>Résumé LLM</th>\n",
       "      <th>Réponse brute</th>\n",
       "    </tr>\n",
       "  </thead>\n",
       "  <tbody>\n",
       "    <tr>\n",
       "      <th>2</th>\n",
       "      <td>https://ec.europa.eu/info/funding-tenders/opportunities/portal/screen/opportunities/topic-details/LIFE-2025-CET-PRIVAFIN?isExactMatch=true&amp;status=31094501,31094502&amp;order=DESC&amp;pageNumber=2&amp;pageSize=50&amp;sortBy=startDate</td>\n",
       "      <td>Yes</td>\n",
       "      <td>technical assistance, renewable energy</td>\n",
       "      <td>Crowding in private finance</td>\n",
       "      <td>Open For Submission</td>\n",
       "      <td>24 April 2025</td>\n",
       "      <td>23 September 2025</td>\n",
       "      <td>Oui</td>\n",
       "      <td>L'appel à projets concerne l'établissement de mécanismes de financement pour les énergies renouvelables et l'efficacité énergétique, ce qui est en phase avec les objectifs de l'entreprise qui a déjà travaillé sur des projets de développement de l'économie numérique et de soutien aux startups dans les pays en développement. Les expérience acquises dans les projets Arab Bank Strategy et World Bank Collaboration pourraient être mobilisées pour répondre à cet appel à projet. De plus, l'expérience de MDBAN dans le soutien aux startups early-stage pourrait également être pertinente pour cet appel à projet.</td>\n",
       "      <td>Pertinence : Oui\\n\\nProjets similaires détectés : Arab Bank Strategy, World Bank Collaboration, MDBAN\\n\\nRésumé rapide : L'appel à projets concerne l'établissement de mécanismes de financement pour les énergies renouvelables et l'efficacité énergétique, ce qui est en phase avec les objectifs de l'entreprise qui a déjà travaillé sur des projets de développement de l'économie numérique et de soutien aux startups dans les pays en développement. Les expérience acquises dans les projets Arab Bank Strategy et World Bank Collaboration pourraient être mobilisées pour répondre à cet appel à projet. De plus, l'expérience de MDBAN dans le soutien aux startups early-stage pourrait également être pertinente pour cet appel à projet.</td>\n",
       "    </tr>\n",
       "    <tr>\n",
       "      <th>4</th>\n",
       "      <td>https://ec.europa.eu/info/funding-tenders/opportunities/portal/screen/opportunities/topic-details/DIGITAL-2025-AI-08-AGRIFOOD?isExactMatch=true&amp;status=31094501,31094502&amp;order=DESC&amp;pageNumber=2&amp;pageSize=50&amp;sortBy=startDate</td>\n",
       "      <td>Yes</td>\n",
       "      <td>capacity building, digital transformation</td>\n",
       "      <td>Multi-Country project in Agri-Food</td>\n",
       "      <td>Open For Submission</td>\n",
       "      <td>15 April 2025</td>\n",
       "      <td>02 September 2025</td>\n",
       "      <td>Oui</td>\n",
       "      <td>L'appel à projets spécifique est pertinent car il concerne la mise en place d'une infrastructure numérique pour le secteur agroalimentaire, ce qui correspond aux axes de développement de l'entreprise, tels que la Deeptech, les startups, l'incubation, l'accélération, l'entrepreneuriat et l'économie numérique. De plus, l'appel à projets spécifique met en avant la création d'un écosystème qui favorise la collaboration et l'échange d'informations entre les acteurs du secteur, ce qui correspond également aux expériences de l'entreprise dans le cadre de la mise en place d'écosystèmes d'innovation. Les projets similaires détectés montrent que l'entreprise a déjà une expérience dans la mise en place de stratégies de financement et de partenariats pour des projets de développement économique, ainsi que dans la création d'écosystèmes d'innovation et d'accélération pour les entreprises en démarrage.</td>\n",
       "      <td>Pertinence : Oui\\n\\nProjets similaires détectés : \\n- Arab Bank Strategy \\n- World Bank Collaboration \\n- MDBAN – Business Angels Network \\n- TECHNORIAT \\n- ABI – Applied Biotech &amp; Innovation \\n\\nRésumé rapide expliquant ma réponse : \\nL'appel à projets spécifique est pertinent car il concerne la mise en place d'une infrastructure numérique pour le secteur agroalimentaire, ce qui correspond aux axes de développement de l'entreprise, tels que la Deeptech, les startups, l'incubation, l'accélération, l'entrepreneuriat et l'économie numérique. De plus, l'appel à projets spécifique met en avant la création d'un écosystème qui favorise la collaboration et l'échange d'informations entre les acteurs du secteur, ce qui correspond également aux expériences de l'entreprise dans le cadre de la mise en place d'écosystèmes d'innovation. Les projets similaires détectés montrent que l'entreprise a déjà une expérience dans la mise en place de stratégies de financement et de partenariats pour des projets de développement économique, ainsi que dans la création d'écosystèmes d'innovation et d'accélération pour les entreprises en démarrage.</td>\n",
       "    </tr>\n",
       "    <tr>\n",
       "      <th>5</th>\n",
       "      <td>https://ec.europa.eu/info/funding-tenders/opportunities/portal/screen/opportunities/topic-details/DIGITAL-2025-EDIH-AC-08-COMPLETION-STEP?isExactMatch=true&amp;status=31094501,31094502&amp;order=DESC&amp;pageNumber=2&amp;pageSize=50&amp;sortBy=startDate</td>\n",
       "      <td>Yes</td>\n",
       "      <td>capacity building, cybersecurity, digital transformation</td>\n",
       "      <td>Completion of the initial Network of European Digital Innovation Hubs (EDIHs)</td>\n",
       "      <td>Open For Submission</td>\n",
       "      <td>15 April 2025</td>\n",
       "      <td>02 September 2025</td>\n",
       "      <td>Oui</td>\n",
       "      <td>Cette opportunité de projet EDIH (European Digital Innovation Hubs) concerne la création d'un réseau d'innovation digital pour soutenir la transformation numérique des PME, des mid-caps et des organisations publiques. Les objectifs et les délivrables de ce projet sont en phase avec les expériences antérieures de l'entreprise, notamment dans les domaines de l'innovation, de l'entrepreneuriat, de la formation et du financement. Les projets TECHNORIAT, BIATLABS et Arab Bank Strategy montrent que l'entreprise a déjà travaillé sur des projets de soutien à l'innovation et à l'entrepreneuriat, ce qui la rend particulièrement apte à répondre à cet appel à projet EDIH.</td>\n",
       "      <td>Pertinence : Oui\\n\\nProjets similaires détectés : TECHNORIAT PPP Program, BIATLABS, World Bank Collaboration, Arab Bank Strategy\\n\\nRésumé rapide : Cette opportunité de projet EDIH (European Digital Innovation Hubs) concerne la création d'un réseau d'innovation digital pour soutenir la transformation numérique des PME, des mid-caps et des organisations publiques. Les objectifs et les délivrables de ce projet sont en phase avec les expériences antérieures de l'entreprise, notamment dans les domaines de l'innovation, de l'entrepreneuriat, de la formation et du financement. Les projets TECHNORIAT, BIATLABS et Arab Bank Strategy montrent que l'entreprise a déjà travaillé sur des projets de soutien à l'innovation et à l'entrepreneuriat, ce qui la rend particulièrement apte à répondre à cet appel à projet EDIH.</td>\n",
       "    </tr>\n",
       "    <tr>\n",
       "      <th>16</th>\n",
       "      <td>https://ec.europa.eu/info/funding-tenders/opportunities/portal/screen/opportunities/topic-details/HORIZON-SESAR-2025-DES-IR-02-WA6-2?isExactMatch=true&amp;status=31094501,31094502&amp;order=DESC&amp;pageNumber=4&amp;pageSize=50&amp;sortBy=startDate</td>\n",
       "      <td>Yes</td>\n",
       "      <td>machine learning</td>\n",
       "      <td>Fast-track Extending U-space eco-system</td>\n",
       "      <td>Open For Submission</td>\n",
       "      <td>01 April 2025</td>\n",
       "      <td>16 September 2025</td>\n",
       "      <td>Oui</td>\n",
       "      <td>L'appel à projet concerne la recherche et le développement de systèmes de navigation et de surveillance pour les drones et les aéronefs dans l'espace aérien. Il explore l'utilisation de réseaux cellulaires publics, de radars mmWave, de technologies 5G et de systèmes de navigation pour améliorer la surveillance et la sécurité dans l'espace aérien.</td>\n",
       "      <td>Pertinence : Oui\\n\\nProjets similaires détectés : FACTORIAT, World Bank Collaboration, TECHNORIAT PPP Program\\n\\nRésumé rapide : \\n\\nL'appel à projet concerne la recherche et le développement de systèmes de navigation et de surveillance pour les drones et les aéronefs dans l'espace aérien. Il explore l'utilisation de réseaux cellulaires publics, de radars mmWave, de technologies 5G et de systèmes de navigation pour améliorer la surveillance et la sécurité dans l'espace aérien. \\n\\nL'entreprise a déjà réalisé des projets similaires, tels que FACTORIAT, qui soutient les startups Deeptech et Hardware, notamment dans les domaines de la navigation et de la surveillance. Le projet World Bank Collaboration a également développé des écosystèmes d'entreprises pour les startups dans le domaine de la navigation et de la surveillance. Enfin, le projet TECHNORIAT PPP Program a mis en relation la recherche et l'entrepreneuriat pour développer des startups dans le domaine de la navigation et de la surveillance. Ces expériences pourraient être utiles pour répondre à cet appel à projet.</td>\n",
       "    </tr>\n",
       "    <tr>\n",
       "      <th>19</th>\n",
       "      <td>https://ec.europa.eu/info/funding-tenders/opportunities/portal/screen/opportunities/topic-details/HORIZON-EIC-2025-WOMENTECH?isExactMatch=true&amp;status=31094501,31094502&amp;order=DESC&amp;pageNumber=4&amp;pageSize=50&amp;sortBy=startDate</td>\n",
       "      <td>Yes</td>\n",
       "      <td>growth strategy</td>\n",
       "      <td>Women Tech.EU initiative</td>\n",
       "      <td>Open For Submission</td>\n",
       "      <td>01 April 2025</td>\n",
       "      <td>02 September 2025</td>\n",
       "      <td>Oui</td>\n",
       "      <td>L'appel à projets Women TechEU initiative propose un programme d'incubation et d'accompagnement pour les startups féminines dans le domaine des technologies émergentes, ce qui correspond aux expertises de l'entreprise dans les domaines de l'incubation, du Deeptech et de l'accompagnement des startups. Les projets similaires détectés montrent que l'entreprise a déjà une expérience dans l'appui aux startups, notamment dans les domaines du Deeptech, de l'incubation et de l'accompagnement des startups féminines.</td>\n",
       "      <td>Pertinence : Oui\\n\\nProjets similaires détectés : FACTORIAT, Arab Bank Strategy, World Bank Collaboration, TECHNORIAT PPP Program, MDBAN – Business Angels Network\\n\\nRésumé rapide : L'appel à projets Women TechEU initiative propose un programme d'incubation et d'accompagnement pour les startups féminines dans le domaine des technologies émergentes, ce qui correspond aux expertises de l'entreprise dans les domaines de l'incubation, du Deeptech et de l'accompagnement des startups. Les projets similaires détectés montrent que l'entreprise a déjà une expérience dans l'appui aux startups, notamment dans les domaines du Deeptech, de l'incubation et de l'accompagnement des startups féminines.</td>\n",
       "    </tr>\n",
       "    <tr>\n",
       "      <th>20</th>\n",
       "      <td>https://ec.europa.eu/info/funding-tenders/opportunities/portal/screen/opportunities/topic-details/HORIZON-MSCA-2025-SE-01-01?isExactMatch=true&amp;status=31094501,31094502&amp;order=DESC&amp;pageNumber=4&amp;pageSize=50&amp;sortBy=startDate</td>\n",
       "      <td>Yes</td>\n",
       "      <td>knowledge transfer</td>\n",
       "      <td>MSCA Staff Exchanges 2025</td>\n",
       "      <td>Open For Submission</td>\n",
       "      <td>27 March 2025</td>\n",
       "      <td>08 October 2025</td>\n",
       "      <td>Oui</td>\n",
       "      <td>Cette opportunité de projetMSCA Staff Exchanges est pertinente pour l'entreprise car elle implique des éléments clés qui sont déjà présents dans les projets précédents, tels que :</td>\n",
       "      <td>Pertinence : Oui\\n\\nProjets similaires détectés : FACTORIAT, TECHNORIAT PPP Program, World Bank Collaboration\\n\\nRésumé rapide : Cette opportunité de projetMSCA Staff Exchanges est pertinente pour l'entreprise car elle implique des éléments clés qui sont déjà présents dans les projets précédents, tels que :\\n\\n* La collaboration entre organisations académiques et non-académiques (FACTORIAT, TECHNORIAT PPP Program)\\n* L'accent mis sur la mobilité internationale et interdisciplinaire (World Bank Collaboration)\\n* L'objectif de renforcer les compétences et les connaissances dans le domaine de la recherche et de l'innovation (TECHNORIAT PPP Program)\\n* La mise en réseau et la création de partenariats pour favoriser l'innovation (World Bank Collaboration, FACTORIAT)\\n\\nDe plus, l'accent mis sur le développement de compétences et les perspectives de carrière pour les membres du personnel aligne avec les objectifs de certains projets précédents, tels que FACTORIAT et TECHNORIAT PPP Program.</td>\n",
       "    </tr>\n",
       "    <tr>\n",
       "      <th>21</th>\n",
       "      <td>https://ec.europa.eu/info/funding-tenders/opportunities/portal/screen/opportunities/topic-details/HORIZON-JU-CLEAN-AVIATION-2025-03-SMR-03?isExactMatch=true&amp;status=31094501,31094502&amp;order=DESC&amp;pageNumber=4&amp;pageSize=50&amp;sortBy=startDate</td>\n",
       "      <td>Yes</td>\n",
       "      <td>technology maturation</td>\n",
       "      <td>Ground Test Demonstration up to TRL5 of On-Board NPE Systems Architecture for SMR Aircraft</td>\n",
       "      <td>Open For Submission</td>\n",
       "      <td>27 March 2025</td>\n",
       "      <td>15 May 2025</td>\n",
       "      <td>Oui</td>\n",
       "      <td>L'appel à projets concerne le développement d'un système d'énergie non propulsive pour des avions, avec des éléments de démonstration et de validation sur le terrain. Les aspects clés sont la maturation technologique, la démonstration et la validation de composants critiques. Ces éléments sont similaires aux projets FACTORIAT (support à la maturation technologique et prototypage pour les startups Deeptech et hardware) et TECHNORIAT PPP Program (pont entre la recherche et l'entrepreneuriat via incubation et accélération de chercheurs). L'entreprise a déjà démontré son expertise dans la maturation technologique et le soutien à l'innovation, ce qui rend cette opportunité pertinente.</td>\n",
       "      <td>- Pertinence : Oui\\n- Projets similaires détectés : FACTORIAT, TECHNORIAT PPP Program\\n- Résumé rapide : L'appel à projets concerne le développement d'un système d'énergie non propulsive pour des avions, avec des éléments de démonstration et de validation sur le terrain. Les aspects clés sont la maturation technologique, la démonstration et la validation de composants critiques. Ces éléments sont similaires aux projets FACTORIAT (support à la maturation technologique et prototypage pour les startups Deeptech et hardware) et TECHNORIAT PPP Program (pont entre la recherche et l'entrepreneuriat via incubation et accélération de chercheurs). L'entreprise a déjà démontré son expertise dans la maturation technologique et le soutien à l'innovation, ce qui rend cette opportunité pertinente.</td>\n",
       "    </tr>\n",
       "    <tr>\n",
       "      <th>28</th>\n",
       "      <td>https://ec.europa.eu/info/funding-tenders/opportunities/portal/screen/opportunities/topic-details/HORIZON-EIT-2025?isExactMatch=true&amp;status=31094501,31094502&amp;order=DESC&amp;pageNumber=5&amp;pageSize=50&amp;sortBy=startDate</td>\n",
       "      <td>Yes</td>\n",
       "      <td>call for proposals</td>\n",
       "      <td>WATER</td>\n",
       "      <td>Open For Submission</td>\n",
       "      <td>20 February 2025</td>\n",
       "      <td>17 June 2025</td>\n",
       "      <td>Oui</td>\n",
       "      <td>L'appel à projets spécifique concerne la création d'un Knowledge and Innovation Community (KIC) dans le domaine de l'eau, des secteurs marins et des écosystèmes maritimes, avec un focus sur l'innovation, l'entrepreneuriat et l'éducation. Les projets déjà réalisés par l'entreprise, tels que FACTORIAT, World Bank Collaboration, TECHNORIAT PPP Program, BIATLABS, MDBAN – Business Angels Network et ABI – Applied Biotech &amp; Innovation, montrent une expertise dans les domaines de l'innovation, de l'entrepreneuriat, de l'incubation, de l'accélération, de la formation et de la mise en réseau. Les similarités avec l'appel à projets sont évidentes, notamment en ce qui concerne la création d'un écosystème d'innovation, la promotion de l'entrepreneuriat et la formation en innovation.</td>\n",
       "      <td>Pertinence : Oui\\n\\nProjets similaires détectés : FACTORIAT, World Bank Collaboration, TECHNORIAT - Business Angels Network, BIATLABS, MDBAN – Business Angels Network\\n\\nRésumé rapide : L'appel à projets spécifique concerne la création d'un Knowledge and Innovation Community (KIC) dans le domaine de l'eau, des secteurs marins et des écosystèmes maritimes, avec un focus sur l'innovation, l'entrepreneuriat et l'éducation. Les projets déjà réalisés par l'entreprise, tels que FACTORIAT, World Bank Collaboration, TECHNORIAT PPP Program, BIATLABS, MDBAN – Business Angels Network et ABI – Applied Biotech &amp; Innovation, montrent une expertise dans les domaines de l'innovation, de l'entrepreneuriat, de l'incubation, de l'accélération, de la formation et de la mise en réseau. Les similarités avec l'appel à projets sont évidentes, notamment en ce qui concerne la création d'un écosystème d'innovation, la promotion de l'entrepreneuriat et la formation en innovation.</td>\n",
       "    </tr>\n",
       "    <tr>\n",
       "      <th>29</th>\n",
       "      <td>https://ec.europa.eu/info/funding-tenders/opportunities/portal/screen/opportunities/topic-details/HORIZON-EIC-2025-PATHFINDEROPEN?isExactMatch=true&amp;status=31094501,31094502&amp;order=DESC&amp;pageNumber=5&amp;pageSize=50&amp;sortBy=startDate</td>\n",
       "      <td>Yes</td>\n",
       "      <td>intellectual property, technology readiness level</td>\n",
       "      <td>EIC Pathfinder Open</td>\n",
       "      <td>Open For Submission</td>\n",
       "      <td>20 February 2025</td>\n",
       "      <td>21 May 2025</td>\n",
       "      <td>Oui</td>\n",
       "      <td>Cette opportunité est pertinente car elle concerne le soutien à des technologies innovantes et radicalement nouvelles, à travers des recherches à haut risque et à fort potentiel d'impact, ce qui est aligné avec les projets déjà réalisés par l'entreprise, tels que FACTORIAT, TECHNORIAT PPP Program et ABI - Applied Biotech &amp; Innovation. Ces projets partagent des éléments clés tels que le soutien à la recherche et au développement de technologies innovantes, l'incubation et l'accélération de projets, ainsi que la gestion de la propriété intellectuelle. De plus, l'accent mis sur l'interdisciplinarité, la collaboration et l'égalité des genres sont également des thématiques présents dans les initiatives précédemment citées.</td>\n",
       "      <td>Pertinence : Oui\\n\\nProjets similaires détectés : FACTORIAT, TECHNORIAT PPP Program, ABI – Applied Biotech &amp; Innovation \\n\\nRésumé rapide : Cette opportunité est pertinente car elle concerne le soutien à des technologies innovantes et radicalement nouvelles, à travers des recherches à haut risque et à fort potentiel d'impact, ce qui est aligné avec les projets déjà réalisés par l'entreprise, tels que FACTORIAT, TECHNORIAT PPP Program et ABI - Applied Biotech &amp; Innovation. Ces projets partagent des éléments clés tels que le soutien à la recherche et au développement de technologies innovantes, l'incubation et l'accélération de projets, ainsi que la gestion de la propriété intellectuelle. De plus, l'accent mis sur l'interdisciplinarité, la collaboration et l'égalité des genres sont également des thématiques présents dans les initiatives précédemment citées.</td>\n",
       "    </tr>\n",
       "    <tr>\n",
       "      <th>51</th>\n",
       "      <td>https://ec.europa.eu/info/funding-tenders/opportunities/portal/screen/opportunities/topic-details/EDF-2025-LS-RA-SMERO-NT?isExactMatch=true&amp;status=31094501,31094502&amp;order=DESC&amp;pageNumber=6&amp;pageSize=50&amp;sortBy=startDate</td>\n",
       "      <td>Yes</td>\n",
       "      <td>prototyping, innovative SMEs</td>\n",
       "      <td>Non-thematic research actions by SMEs and research organisations</td>\n",
       "      <td>Open For Submission</td>\n",
       "      <td>18 February 2025</td>\n",
       "      <td>16 October 2025</td>\n",
       "      <td>Oui</td>\n",
       "      <td>Cette opportunité Seems to align with the company's expertise in supporting innovative startups, researchers, and SMEs in developing cutting-edge technologies, particularly in the defence sector. The call topic's focus on driving innovation, adaptation of civil technologies, and development of European research and technology ecosystems resonates with the company's experience in Deeptech, Hardware, Incubation, Prototyping, and Acceleration (FACTORIAT) and bridging research and entrepreneurship via incubation/acceleration of researchers (TECHNORIAT PPP Program).</td>\n",
       "      <td>Pertinence : Oui\\n\\nProjets similaires détectés : TECHNORIAT PPP Program, FACTORIAT\\n\\nRésumé rapide : Cette opportunité Seems to align with the company's expertise in supporting innovative startups, researchers, and SMEs in developing cutting-edge technologies, particularly in the defence sector. The call topic's focus on driving innovation, adaptation of civil technologies, and development of European research and technology ecosystems resonates with the company's experience in Deeptech, Hardware, Incubation, Prototyping, and Acceleration (FACTORIAT) and bridging research and entrepreneurship via incubation/acceleration of researchers (TECHNORIAT PPP Program).</td>\n",
       "    </tr>\n",
       "    <tr>\n",
       "      <th>52</th>\n",
       "      <td>https://ec.europa.eu/info/funding-tenders/opportunities/portal/screen/opportunities/topic-details/EDF-2025-LS-DA-SME-NT?isExactMatch=true&amp;status=31094501,31094502&amp;order=DESC&amp;pageNumber=6&amp;pageSize=50&amp;sortBy=startDate</td>\n",
       "      <td>Yes</td>\n",
       "      <td>research results, prototyping, innovative SMEs</td>\n",
       "      <td>Non-thematic development actions by SMEs</td>\n",
       "      <td>Open For Submission</td>\n",
       "      <td>18 February 2025</td>\n",
       "      <td>16 October 2025</td>\n",
       "      <td>Oui</td>\n",
       "      <td>Cette opportunité est pertinente car elle concerne l'appui à l'innovation et à la R&amp;D pour des applications de défense, ce qui est similaire à des projets déjà réalisés par l'entreprise, tels que FACTORIAT (support à la prototypage et à l'accélération pour des start-up Deeptech et Hardware), TECHNORIAT (pont entre recherche et entrepreneuriat via incubation/accélération de start-up) et BIATLABS (programme d'incubation pour des innovations en phase initiale). De plus, l'appel à projet encourage l'implication d'entreprises PME, ce qui aligne avec les objectifs de certains des projets de l'entreprise, tels que MDBAN – Business Angels Network (soutien aux entreprises en phase initiale via des investissements de business angels de la diaspora).</td>\n",
       "      <td>Pertinence : Oui\\n\\nProjets similaires détectés : FACTORIAT, TECHNORIAT PPP Program, BIATLABS\\n\\nRésumé rapide : Cette opportunité est pertinente car elle concerne l'appui à l'innovation et à la R&amp;D pour des applications de défense, ce qui est similaire à des projets déjà réalisés par l'entreprise, tels que FACTORIAT (support à la prototypage et à l'accélération pour des start-up Deeptech et Hardware), TECHNORIAT (pont entre recherche et entrepreneuriat via incubation/accélération de start-up) et BIATLABS (programme d'incubation pour des innovations en phase initiale). De plus, l'appel à projet encourage l'implication d'entreprises PME, ce qui aligne avec les objectifs de certains des projets de l'entreprise, tels que MDBAN – Business Angels Network (soutien aux entreprises en phase initiale via des investissements de business angels de la diaspora).</td>\n",
       "    </tr>\n",
       "    <tr>\n",
       "      <th>58</th>\n",
       "      <td>https://ec.europa.eu/info/funding-tenders/opportunities/portal/screen/opportunities/topic-details/EDF-2025-RA-MATCOMP-CDA-STEP?isExactMatch=true&amp;status=31094501,31094502&amp;order=DESC&amp;pageNumber=6&amp;pageSize=50&amp;sortBy=startDate</td>\n",
       "      <td>Yes</td>\n",
       "      <td>prototyping, artificial intelligence, cybersecurity</td>\n",
       "      <td>Chiplet for Defence Application</td>\n",
       "      <td>Open For Submission</td>\n",
       "      <td>18 February 2025</td>\n",
       "      <td>16 October 2025</td>\n",
       "      <td>Oui</td>\n",
       "      <td>Cette opportunité est pertinente car elle concerne le développement de technologies de pointe (chiplet) avec un focus sur l'intégration et la mise en œuvre de systèmes complexes avec des fonctionnalités variées. Les projets précédemment réalisés par l'entreprise tel que FACTORIAT (support aux startups Deeptech), TECHNORIAT PPP Program (pont entre la recherche et l'entrepreneuriat), BIATLABS (programme d'incubation) et ABI – Applied Biotech &amp; Innovation (développement de solutions innovantes) montrent une expertise dans le domaine des technologies de pointe et de l'innovation, ce qui correspond aux objectifs de cette opportunité spécifique.</td>\n",
       "      <td>Pertinence : Oui\\n\\nProjets similaires détectés : FACTORIAT, TECHNORIAT PPP Program, BIATLABS, ABI – Applied Biotech &amp; Innovation\\n\\nRésumé rapide : Cette opportunité est pertinente car elle concerne le développement de technologies de pointe (chiplet) avec un focus sur l'intégration et la mise en œuvre de systèmes complexes avec des fonctionnalités variées. Les projets précédemment réalisés par l'entreprise tel que FACTORIAT (support aux startups Deeptech), TECHNORIAT PPP Program (pont entre la recherche et l'entrepreneuriat), BIATLABS (programme d'incubation) et ABI – Applied Biotech &amp; Innovation (développement de solutions innovantes) montrent une expertise dans le domaine des technologies de pointe et de l'innovation, ce qui correspond aux objectifs de cette opportunité spécifique.</td>\n",
       "    </tr>\n",
       "    <tr>\n",
       "      <th>67</th>\n",
       "      <td>https://ec.europa.eu/info/funding-tenders/opportunities/portal/screen/opportunities/topic-details/ERASMUS-EDU-2025-PEX-COVE?isExactMatch=true&amp;status=31094501,31094502&amp;order=DESC&amp;pageNumber=7&amp;pageSize=50&amp;sortBy=startDate</td>\n",
       "      <td>Yes</td>\n",
       "      <td>public-private partnership, call for proposals, artificial intelligence, sustainable development, applied research, skills development</td>\n",
       "      <td>Centres of Vocational Excellence</td>\n",
       "      <td>Open For Submission</td>\n",
       "      <td>05 December 2024</td>\n",
       "      <td>11 June 2025</td>\n",
       "      <td>Oui</td>\n",
       "      <td>Bien que ce projet de Centres of Vocational Excellence (CoVE) soit très spécifique et différents des projets déjà menés par l'entreprise, il présente des liens avec certains axes et projets. Les axes de Deeptech, Innovation, Entrepreneurship, et Écosystème entrepreneurial sont présents dans les projets TECHNORIAT et ABI - Applied Biotech &amp; Innovation. De plus, les axes de Capacity building, Strategy, et Startup Ecosystem dans le National Entrepreneurship Program et World Bank Collaboration sont également liés à cet appel à projet. Enfin, l'approche de co-création avec des partenaires locaux et la mise en place de réseaux internationaux dans le cadre de cet appel à projet rappellent les approches de MDBAN – Business Angels Network et BIATLABS. Bien que le contexte de la formation professionnelle et de l'éducation soit spécifique, les liens avec les compétences et expertise de l'entreprise dans l'innovation, l'entrepreneuriat et le développement économique sont évidents.</td>\n",
       "      <td>Pertinence : Oui\\n\\nProjets similaires détectés : None, mais des liens avec certains axes et projets déjà réalisés.\\n\\nRésumé rapide expliquant ma réponse :\\n\\nBien que ce projet de Centres of Vocational Excellence (CoVE) soit très spécifique et différents des projets déjà menés par l'entreprise, il présente des liens avec certains axes et projets. Les axes de Deeptech, Innovation, Entrepreneurship, et Écosystème entrepreneurial sont présents dans les projets TECHNORIAT et ABI - Applied Biotech &amp; Innovation. De plus, les axes de Capacity building, Strategy, et Startup Ecosystem dans le National Entrepreneurship Program et World Bank Collaboration sont également liés à cet appel à projet. Enfin, l'approche de co-création avec des partenaires locaux et la mise en place de réseaux internationaux dans le cadre de cet appel à projet rappellent les approches de MDBAN – Business Angels Network et BIATLABS. Bien que le contexte de la formation professionnelle et de l'éducation soit spécifique, les liens avec les compétences et expertise de l'entreprise dans l'innovation, l'entrepreneuriat et le développement économique sont évidents.</td>\n",
       "    </tr>\n",
       "    <tr>\n",
       "      <th>68</th>\n",
       "      <td>https://ec.europa.eu/info/funding-tenders/opportunities/portal/screen/opportunities/topic-details/ERC-2025-POC?isExactMatch=true&amp;status=31094501,31094502&amp;order=DESC&amp;pageNumber=7&amp;pageSize=50&amp;sortBy=startDate</td>\n",
       "      <td>Yes</td>\n",
       "      <td>proof of concept, social innovation</td>\n",
       "      <td>ERC PROOF OF CONCEPT GRANTS</td>\n",
       "      <td>Open For Submission</td>\n",
       "      <td>13 November 2024</td>\n",
       "      <td>18 September 2025</td>\n",
       "      <td>Oui</td>\n",
       "      <td>L'appel à projets ERC Proof of Concept Grants est pertinent pour l'entreprise car il s'agit d'un programme de soutien à la valorisation de la recherche et à la création d'innovations commerciales et sociales, ce qui est en línea avec les projets déjà réalisés par l'entreprise tels que FACTORIAT, qui soutient les startups deeptech et hardware, TECHNORIAT, qui vise à brider la recherche et l'entrepreneuriat, et ABI, qui valorise les découvertes en biotechnologie. De plus, l'entreprise a déjà démontré son expertise dans la mise en place de programmes d'incubation et d'accélération, ce qui est également un élément clé de l'appel à projets.</td>\n",
       "      <td>Pertinence : Oui\\n\\nProjets similaires détectés : FACTORIAT, TECHNORIAT PPP Program, ABI - Applied Biotech &amp; Innovation\\n\\nRésumé rapide expliquant ma réponse :\\n\\nL'appel à projets ERC Proof of Concept Grants est pertinent pour l'entreprise car il s'agit d'un programme de soutien à la valorisation de la recherche et à la création d'innovations commerciales et sociales, ce qui est en línea avec les projets déjà réalisés par l'entreprise tels que FACTORIAT, qui soutient les startups deeptech et hardware, TECHNORIAT, qui vise à brider la recherche et l'entrepreneuriat, et ABI, qui valorise les découvertes en biotechnologie. De plus, l'entreprise a déjà démontré son expertise dans la mise en place de programmes d'incubation et d'accélération, ce qui est également un élément clé de l'appel à projets.</td>\n",
       "    </tr>\n",
       "    <tr>\n",
       "      <th>69</th>\n",
       "      <td>https://ec.europa.eu/info/funding-tenders/opportunities/portal/screen/opportunities/topic-details/HORIZON-EIC-2025-ACCELERATOR-01?isExactMatch=true&amp;status=31094501,31094502&amp;order=DESC&amp;pageNumber=7&amp;pageSize=50&amp;sortBy=startDate</td>\n",
       "      <td>Yes</td>\n",
       "      <td>technology readiness level</td>\n",
       "      <td>EIC Accelerator 2025 - Short application</td>\n",
       "      <td>Open For Submission</td>\n",
       "      <td>29 October 2024</td>\n",
       "      <td>18 December 2025</td>\n",
       "      <td>Oui</td>\n",
       "      <td>L'EIC Accelerator ciblé les innovations de rupture basées sur des découvertes scientifiques ou des percées technologiques, nécessitant un financement patient et significatif, ce qui correspond aux axes Deeptech, Acceleration, et Prototyping présents dans les projets FACTORIAT et TECHNORIAT PPP Program. De plus, l'appel à projets EIC Accelerator Open est ouvert à tout domaine de technologie, ce qui correspond à l'axe d'innovation biotech présent dans le projet ABI – Applied Biotech &amp; Innovation.</td>\n",
       "      <td>Pertinence : Oui\\n\\nProjets similaires détectés : FACTORIAT, TECHNORIAT PPP Program, ABI – Applied Biotech &amp; Innovation\\n\\nRésumé rapide : L'EIC Accelerator ciblé les innovations de rupture basées sur des découvertes scientifiques ou des percées technologiques, nécessitant un financement patient et significatif, ce qui correspond aux axes Deeptech, Acceleration, et Prototyping présents dans les projets FACTORIAT et TECHNORIAT PPP Program. De plus, l'appel à projets EIC Accelerator Open est ouvert à tout domaine de technologie, ce qui correspond à l'axe d'innovation biotech présent dans le projet ABI – Applied Biotech &amp; Innovation.</td>\n",
       "    </tr>\n",
       "  </tbody>\n",
       "</table>\n",
       "</div>"
      ],
      "text/plain": [
       "                                                                                                                                                                                                                                           URL  \\\n",
       "2                     https://ec.europa.eu/info/funding-tenders/opportunities/portal/screen/opportunities/topic-details/LIFE-2025-CET-PRIVAFIN?isExactMatch=true&status=31094501,31094502&order=DESC&pageNumber=2&pageSize=50&sortBy=startDate   \n",
       "4                https://ec.europa.eu/info/funding-tenders/opportunities/portal/screen/opportunities/topic-details/DIGITAL-2025-AI-08-AGRIFOOD?isExactMatch=true&status=31094501,31094502&order=DESC&pageNumber=2&pageSize=50&sortBy=startDate   \n",
       "5    https://ec.europa.eu/info/funding-tenders/opportunities/portal/screen/opportunities/topic-details/DIGITAL-2025-EDIH-AC-08-COMPLETION-STEP?isExactMatch=true&status=31094501,31094502&order=DESC&pageNumber=2&pageSize=50&sortBy=startDate   \n",
       "16        https://ec.europa.eu/info/funding-tenders/opportunities/portal/screen/opportunities/topic-details/HORIZON-SESAR-2025-DES-IR-02-WA6-2?isExactMatch=true&status=31094501,31094502&order=DESC&pageNumber=4&pageSize=50&sortBy=startDate   \n",
       "19                https://ec.europa.eu/info/funding-tenders/opportunities/portal/screen/opportunities/topic-details/HORIZON-EIC-2025-WOMENTECH?isExactMatch=true&status=31094501,31094502&order=DESC&pageNumber=4&pageSize=50&sortBy=startDate   \n",
       "20                https://ec.europa.eu/info/funding-tenders/opportunities/portal/screen/opportunities/topic-details/HORIZON-MSCA-2025-SE-01-01?isExactMatch=true&status=31094501,31094502&order=DESC&pageNumber=4&pageSize=50&sortBy=startDate   \n",
       "21  https://ec.europa.eu/info/funding-tenders/opportunities/portal/screen/opportunities/topic-details/HORIZON-JU-CLEAN-AVIATION-2025-03-SMR-03?isExactMatch=true&status=31094501,31094502&order=DESC&pageNumber=4&pageSize=50&sortBy=startDate   \n",
       "28                          https://ec.europa.eu/info/funding-tenders/opportunities/portal/screen/opportunities/topic-details/HORIZON-EIT-2025?isExactMatch=true&status=31094501,31094502&order=DESC&pageNumber=5&pageSize=50&sortBy=startDate   \n",
       "29           https://ec.europa.eu/info/funding-tenders/opportunities/portal/screen/opportunities/topic-details/HORIZON-EIC-2025-PATHFINDEROPEN?isExactMatch=true&status=31094501,31094502&order=DESC&pageNumber=5&pageSize=50&sortBy=startDate   \n",
       "51                   https://ec.europa.eu/info/funding-tenders/opportunities/portal/screen/opportunities/topic-details/EDF-2025-LS-RA-SMERO-NT?isExactMatch=true&status=31094501,31094502&order=DESC&pageNumber=6&pageSize=50&sortBy=startDate   \n",
       "52                     https://ec.europa.eu/info/funding-tenders/opportunities/portal/screen/opportunities/topic-details/EDF-2025-LS-DA-SME-NT?isExactMatch=true&status=31094501,31094502&order=DESC&pageNumber=6&pageSize=50&sortBy=startDate   \n",
       "58              https://ec.europa.eu/info/funding-tenders/opportunities/portal/screen/opportunities/topic-details/EDF-2025-RA-MATCOMP-CDA-STEP?isExactMatch=true&status=31094501,31094502&order=DESC&pageNumber=6&pageSize=50&sortBy=startDate   \n",
       "67                 https://ec.europa.eu/info/funding-tenders/opportunities/portal/screen/opportunities/topic-details/ERASMUS-EDU-2025-PEX-COVE?isExactMatch=true&status=31094501,31094502&order=DESC&pageNumber=7&pageSize=50&sortBy=startDate   \n",
       "68                              https://ec.europa.eu/info/funding-tenders/opportunities/portal/screen/opportunities/topic-details/ERC-2025-POC?isExactMatch=true&status=31094501,31094502&order=DESC&pageNumber=7&pageSize=50&sortBy=startDate   \n",
       "69           https://ec.europa.eu/info/funding-tenders/opportunities/portal/screen/opportunities/topic-details/HORIZON-EIC-2025-ACCELERATOR-01?isExactMatch=true&status=31094501,31094502&order=DESC&pageNumber=7&pageSize=50&sortBy=startDate   \n",
       "\n",
       "   Pertinence  \\\n",
       "2         Yes   \n",
       "4         Yes   \n",
       "5         Yes   \n",
       "16        Yes   \n",
       "19        Yes   \n",
       "20        Yes   \n",
       "21        Yes   \n",
       "28        Yes   \n",
       "29        Yes   \n",
       "51        Yes   \n",
       "52        Yes   \n",
       "58        Yes   \n",
       "67        Yes   \n",
       "68        Yes   \n",
       "69        Yes   \n",
       "\n",
       "                                                                                                                          Matching Word(s)  \\\n",
       "2                                                                                                   technical assistance, renewable energy   \n",
       "4                                                                                                capacity building, digital transformation   \n",
       "5                                                                                 capacity building, cybersecurity, digital transformation   \n",
       "16                                                                                                                        machine learning   \n",
       "19                                                                                                                         growth strategy   \n",
       "20                                                                                                                      knowledge transfer   \n",
       "21                                                                                                                   technology maturation   \n",
       "28                                                                                                                      call for proposals   \n",
       "29                                                                                       intellectual property, technology readiness level   \n",
       "51                                                                                                            prototyping, innovative SMEs   \n",
       "52                                                                                          research results, prototyping, innovative SMEs   \n",
       "58                                                                                     prototyping, artificial intelligence, cybersecurity   \n",
       "67  public-private partnership, call for proposals, artificial intelligence, sustainable development, applied research, skills development   \n",
       "68                                                                                                     proof of concept, social innovation   \n",
       "69                                                                                                              technology readiness level   \n",
       "\n",
       "                                                                                         Title  \\\n",
       "2                                                                  Crowding in private finance   \n",
       "4                                                           Multi-Country project in Agri-Food   \n",
       "5                Completion of the initial Network of European Digital Innovation Hubs (EDIHs)   \n",
       "16                                                     Fast-track Extending U-space eco-system   \n",
       "19                                                                    Women Tech.EU initiative   \n",
       "20                                                                   MSCA Staff Exchanges 2025   \n",
       "21  Ground Test Demonstration up to TRL5 of On-Board NPE Systems Architecture for SMR Aircraft   \n",
       "28                                                                                       WATER   \n",
       "29                                                                         EIC Pathfinder Open   \n",
       "51                            Non-thematic research actions by SMEs and research organisations   \n",
       "52                                                    Non-thematic development actions by SMEs   \n",
       "58                                                             Chiplet for Defence Application   \n",
       "67                                                            Centres of Vocational Excellence   \n",
       "68                                                                 ERC PROOF OF CONCEPT GRANTS   \n",
       "69                                                    EIC Accelerator 2025 - Short application   \n",
       "\n",
       "                 Status        Start_date           Deadline Pertinence LLM  \\\n",
       "2   Open For Submission     24 April 2025  23 September 2025            Oui   \n",
       "4   Open For Submission     15 April 2025  02 September 2025            Oui   \n",
       "5   Open For Submission     15 April 2025  02 September 2025            Oui   \n",
       "16  Open For Submission     01 April 2025  16 September 2025            Oui   \n",
       "19  Open For Submission     01 April 2025  02 September 2025            Oui   \n",
       "20  Open For Submission     27 March 2025    08 October 2025            Oui   \n",
       "21  Open For Submission     27 March 2025        15 May 2025            Oui   \n",
       "28  Open For Submission  20 February 2025       17 June 2025            Oui   \n",
       "29  Open For Submission  20 February 2025        21 May 2025            Oui   \n",
       "51  Open For Submission  18 February 2025    16 October 2025            Oui   \n",
       "52  Open For Submission  18 February 2025    16 October 2025            Oui   \n",
       "58  Open For Submission  18 February 2025    16 October 2025            Oui   \n",
       "67  Open For Submission  05 December 2024       11 June 2025            Oui   \n",
       "68  Open For Submission  13 November 2024  18 September 2025            Oui   \n",
       "69  Open For Submission   29 October 2024   18 December 2025            Oui   \n",
       "\n",
       "                                                                                                                                                                                                                                                                                                                                                                                                                                                                                                                                                                                                                                                                                                                                                                                                                                                                                                                                                                                                                 Résumé LLM  \\\n",
       "2                                                                                                                                                                                                                                                                                                                                                                                           L'appel à projets concerne l'établissement de mécanismes de financement pour les énergies renouvelables et l'efficacité énergétique, ce qui est en phase avec les objectifs de l'entreprise qui a déjà travaillé sur des projets de développement de l'économie numérique et de soutien aux startups dans les pays en développement. Les expérience acquises dans les projets Arab Bank Strategy et World Bank Collaboration pourraient être mobilisées pour répondre à cet appel à projet. De plus, l'expérience de MDBAN dans le soutien aux startups early-stage pourrait également être pertinente pour cet appel à projet.   \n",
       "4                                                                                     L'appel à projets spécifique est pertinent car il concerne la mise en place d'une infrastructure numérique pour le secteur agroalimentaire, ce qui correspond aux axes de développement de l'entreprise, tels que la Deeptech, les startups, l'incubation, l'accélération, l'entrepreneuriat et l'économie numérique. De plus, l'appel à projets spécifique met en avant la création d'un écosystème qui favorise la collaboration et l'échange d'informations entre les acteurs du secteur, ce qui correspond également aux expériences de l'entreprise dans le cadre de la mise en place d'écosystèmes d'innovation. Les projets similaires détectés montrent que l'entreprise a déjà une expérience dans la mise en place de stratégies de financement et de partenariats pour des projets de développement économique, ainsi que dans la création d'écosystèmes d'innovation et d'accélération pour les entreprises en démarrage.   \n",
       "5                                                                                                                                                                                                                                                                                                                              Cette opportunité de projet EDIH (European Digital Innovation Hubs) concerne la création d'un réseau d'innovation digital pour soutenir la transformation numérique des PME, des mid-caps et des organisations publiques. Les objectifs et les délivrables de ce projet sont en phase avec les expériences antérieures de l'entreprise, notamment dans les domaines de l'innovation, de l'entrepreneuriat, de la formation et du financement. Les projets TECHNORIAT, BIATLABS et Arab Bank Strategy montrent que l'entreprise a déjà travaillé sur des projets de soutien à l'innovation et à l'entrepreneuriat, ce qui la rend particulièrement apte à répondre à cet appel à projet EDIH.   \n",
       "16                                                                                                                                                                                                                                                                                                                                                                                                                                                                                                                                                                                                                                                             L'appel à projet concerne la recherche et le développement de systèmes de navigation et de surveillance pour les drones et les aéronefs dans l'espace aérien. Il explore l'utilisation de réseaux cellulaires publics, de radars mmWave, de technologies 5G et de systèmes de navigation pour améliorer la surveillance et la sécurité dans l'espace aérien.   \n",
       "19                                                                                                                                                                                                                                                                                                                                                                                                                                                                                         L'appel à projets Women TechEU initiative propose un programme d'incubation et d'accompagnement pour les startups féminines dans le domaine des technologies émergentes, ce qui correspond aux expertises de l'entreprise dans les domaines de l'incubation, du Deeptech et de l'accompagnement des startups. Les projets similaires détectés montrent que l'entreprise a déjà une expérience dans l'appui aux startups, notamment dans les domaines du Deeptech, de l'incubation et de l'accompagnement des startups féminines.   \n",
       "20                                                                                                                                                                                                                                                                                                                                                                                                                                                                                                                                                                                                                                                                                                                                                                                                                                      Cette opportunité de projetMSCA Staff Exchanges est pertinente pour l'entreprise car elle implique des éléments clés qui sont déjà présents dans les projets précédents, tels que :   \n",
       "21                                                                                                                                                                                                                                                                                                         L'appel à projets concerne le développement d'un système d'énergie non propulsive pour des avions, avec des éléments de démonstration et de validation sur le terrain. Les aspects clés sont la maturation technologique, la démonstration et la validation de composants critiques. Ces éléments sont similaires aux projets FACTORIAT (support à la maturation technologique et prototypage pour les startups Deeptech et hardware) et TECHNORIAT PPP Program (pont entre la recherche et l'entrepreneuriat via incubation et accélération de chercheurs). L'entreprise a déjà démontré son expertise dans la maturation technologique et le soutien à l'innovation, ce qui rend cette opportunité pertinente.   \n",
       "28                                                                                                                                                                                                             L'appel à projets spécifique concerne la création d'un Knowledge and Innovation Community (KIC) dans le domaine de l'eau, des secteurs marins et des écosystèmes maritimes, avec un focus sur l'innovation, l'entrepreneuriat et l'éducation. Les projets déjà réalisés par l'entreprise, tels que FACTORIAT, World Bank Collaboration, TECHNORIAT PPP Program, BIATLABS, MDBAN – Business Angels Network et ABI – Applied Biotech & Innovation, montrent une expertise dans les domaines de l'innovation, de l'entrepreneuriat, de l'incubation, de l'accélération, de la formation et de la mise en réseau. Les similarités avec l'appel à projets sont évidentes, notamment en ce qui concerne la création d'un écosystème d'innovation, la promotion de l'entrepreneuriat et la formation en innovation.   \n",
       "29                                                                                                                                                                                                                                                                  Cette opportunité est pertinente car elle concerne le soutien à des technologies innovantes et radicalement nouvelles, à travers des recherches à haut risque et à fort potentiel d'impact, ce qui est aligné avec les projets déjà réalisés par l'entreprise, tels que FACTORIAT, TECHNORIAT PPP Program et ABI - Applied Biotech & Innovation. Ces projets partagent des éléments clés tels que le soutien à la recherche et au développement de technologies innovantes, l'incubation et l'accélération de projets, ainsi que la gestion de la propriété intellectuelle. De plus, l'accent mis sur l'interdisciplinarité, la collaboration et l'égalité des genres sont également des thématiques présents dans les initiatives précédemment citées.   \n",
       "51                                                                                                                                                                                                                                                                                                                                                                                                                                  Cette opportunité Seems to align with the company's expertise in supporting innovative startups, researchers, and SMEs in developing cutting-edge technologies, particularly in the defence sector. The call topic's focus on driving innovation, adaptation of civil technologies, and development of European research and technology ecosystems resonates with the company's experience in Deeptech, Hardware, Incubation, Prototyping, and Acceleration (FACTORIAT) and bridging research and entrepreneurship via incubation/acceleration of researchers (TECHNORIAT PPP Program).   \n",
       "52                                                                                                                                                                                                                                            Cette opportunité est pertinente car elle concerne l'appui à l'innovation et à la R&D pour des applications de défense, ce qui est similaire à des projets déjà réalisés par l'entreprise, tels que FACTORIAT (support à la prototypage et à l'accélération pour des start-up Deeptech et Hardware), TECHNORIAT (pont entre recherche et entrepreneuriat via incubation/accélération de start-up) et BIATLABS (programme d'incubation pour des innovations en phase initiale). De plus, l'appel à projet encourage l'implication d'entreprises PME, ce qui aligne avec les objectifs de certains des projets de l'entreprise, tels que MDBAN – Business Angels Network (soutien aux entreprises en phase initiale via des investissements de business angels de la diaspora).   \n",
       "58                                                                                                                                                                                                                                                                                                                                                  Cette opportunité est pertinente car elle concerne le développement de technologies de pointe (chiplet) avec un focus sur l'intégration et la mise en œuvre de systèmes complexes avec des fonctionnalités variées. Les projets précédemment réalisés par l'entreprise tel que FACTORIAT (support aux startups Deeptech), TECHNORIAT PPP Program (pont entre la recherche et l'entrepreneuriat), BIATLABS (programme d'incubation) et ABI – Applied Biotech & Innovation (développement de solutions innovantes) montrent une expertise dans le domaine des technologies de pointe et de l'innovation, ce qui correspond aux objectifs de cette opportunité spécifique.   \n",
       "67  Bien que ce projet de Centres of Vocational Excellence (CoVE) soit très spécifique et différents des projets déjà menés par l'entreprise, il présente des liens avec certains axes et projets. Les axes de Deeptech, Innovation, Entrepreneurship, et Écosystème entrepreneurial sont présents dans les projets TECHNORIAT et ABI - Applied Biotech & Innovation. De plus, les axes de Capacity building, Strategy, et Startup Ecosystem dans le National Entrepreneurship Program et World Bank Collaboration sont également liés à cet appel à projet. Enfin, l'approche de co-création avec des partenaires locaux et la mise en place de réseaux internationaux dans le cadre de cet appel à projet rappellent les approches de MDBAN – Business Angels Network et BIATLABS. Bien que le contexte de la formation professionnelle et de l'éducation soit spécifique, les liens avec les compétences et expertise de l'entreprise dans l'innovation, l'entrepreneuriat et le développement économique sont évidents.   \n",
       "68                                                                                                                                                                                                                                                                                                                                                      L'appel à projets ERC Proof of Concept Grants est pertinent pour l'entreprise car il s'agit d'un programme de soutien à la valorisation de la recherche et à la création d'innovations commerciales et sociales, ce qui est en línea avec les projets déjà réalisés par l'entreprise tels que FACTORIAT, qui soutient les startups deeptech et hardware, TECHNORIAT, qui vise à brider la recherche et l'entrepreneuriat, et ABI, qui valorise les découvertes en biotechnologie. De plus, l'entreprise a déjà démontré son expertise dans la mise en place de programmes d'incubation et d'accélération, ce qui est également un élément clé de l'appel à projets.   \n",
       "69                                                                                                                                                                                                                                                                                                                                                                                                                                                                                                      L'EIC Accelerator ciblé les innovations de rupture basées sur des découvertes scientifiques ou des percées technologiques, nécessitant un financement patient et significatif, ce qui correspond aux axes Deeptech, Acceleration, et Prototyping présents dans les projets FACTORIAT et TECHNORIAT PPP Program. De plus, l'appel à projets EIC Accelerator Open est ouvert à tout domaine de technologie, ce qui correspond à l'axe d'innovation biotech présent dans le projet ABI – Applied Biotech & Innovation.   \n",
       "\n",
       "                                                                                                                                                                                                                                                                                                                                                                                                                                                                                                                                                                                                                                                                                                                                                                                                                                                                                                                                                                                                                                                                                                                                                                              Réponse brute  \n",
       "2                                                                                                                                                                                                                                                                                                                                                                                                                                  Pertinence : Oui\\n\\nProjets similaires détectés : Arab Bank Strategy, World Bank Collaboration, MDBAN\\n\\nRésumé rapide : L'appel à projets concerne l'établissement de mécanismes de financement pour les énergies renouvelables et l'efficacité énergétique, ce qui est en phase avec les objectifs de l'entreprise qui a déjà travaillé sur des projets de développement de l'économie numérique et de soutien aux startups dans les pays en développement. Les expérience acquises dans les projets Arab Bank Strategy et World Bank Collaboration pourraient être mobilisées pour répondre à cet appel à projet. De plus, l'expérience de MDBAN dans le soutien aux startups early-stage pourrait également être pertinente pour cet appel à projet.  \n",
       "4         Pertinence : Oui\\n\\nProjets similaires détectés : \\n- Arab Bank Strategy \\n- World Bank Collaboration \\n- MDBAN – Business Angels Network \\n- TECHNORIAT \\n- ABI – Applied Biotech & Innovation \\n\\nRésumé rapide expliquant ma réponse : \\nL'appel à projets spécifique est pertinent car il concerne la mise en place d'une infrastructure numérique pour le secteur agroalimentaire, ce qui correspond aux axes de développement de l'entreprise, tels que la Deeptech, les startups, l'incubation, l'accélération, l'entrepreneuriat et l'économie numérique. De plus, l'appel à projets spécifique met en avant la création d'un écosystème qui favorise la collaboration et l'échange d'informations entre les acteurs du secteur, ce qui correspond également aux expériences de l'entreprise dans le cadre de la mise en place d'écosystèmes d'innovation. Les projets similaires détectés montrent que l'entreprise a déjà une expérience dans la mise en place de stratégies de financement et de partenariats pour des projets de développement économique, ainsi que dans la création d'écosystèmes d'innovation et d'accélération pour les entreprises en démarrage.  \n",
       "5                                                                                                                                                                                                                                                                                                                                          Pertinence : Oui\\n\\nProjets similaires détectés : TECHNORIAT PPP Program, BIATLABS, World Bank Collaboration, Arab Bank Strategy\\n\\nRésumé rapide : Cette opportunité de projet EDIH (European Digital Innovation Hubs) concerne la création d'un réseau d'innovation digital pour soutenir la transformation numérique des PME, des mid-caps et des organisations publiques. Les objectifs et les délivrables de ce projet sont en phase avec les expériences antérieures de l'entreprise, notamment dans les domaines de l'innovation, de l'entrepreneuriat, de la formation et du financement. Les projets TECHNORIAT, BIATLABS et Arab Bank Strategy montrent que l'entreprise a déjà travaillé sur des projets de soutien à l'innovation et à l'entrepreneuriat, ce qui la rend particulièrement apte à répondre à cet appel à projet EDIH.  \n",
       "16                                                           Pertinence : Oui\\n\\nProjets similaires détectés : FACTORIAT, World Bank Collaboration, TECHNORIAT PPP Program\\n\\nRésumé rapide : \\n\\nL'appel à projet concerne la recherche et le développement de systèmes de navigation et de surveillance pour les drones et les aéronefs dans l'espace aérien. Il explore l'utilisation de réseaux cellulaires publics, de radars mmWave, de technologies 5G et de systèmes de navigation pour améliorer la surveillance et la sécurité dans l'espace aérien. \\n\\nL'entreprise a déjà réalisé des projets similaires, tels que FACTORIAT, qui soutient les startups Deeptech et Hardware, notamment dans les domaines de la navigation et de la surveillance. Le projet World Bank Collaboration a également développé des écosystèmes d'entreprises pour les startups dans le domaine de la navigation et de la surveillance. Enfin, le projet TECHNORIAT PPP Program a mis en relation la recherche et l'entrepreneuriat pour développer des startups dans le domaine de la navigation et de la surveillance. Ces expériences pourraient être utiles pour répondre à cet appel à projet.  \n",
       "19                                                                                                                                                                                                                                                                                                                                                                                                                                                                   Pertinence : Oui\\n\\nProjets similaires détectés : FACTORIAT, Arab Bank Strategy, World Bank Collaboration, TECHNORIAT PPP Program, MDBAN – Business Angels Network\\n\\nRésumé rapide : L'appel à projets Women TechEU initiative propose un programme d'incubation et d'accompagnement pour les startups féminines dans le domaine des technologies émergentes, ce qui correspond aux expertises de l'entreprise dans les domaines de l'incubation, du Deeptech et de l'accompagnement des startups. Les projets similaires détectés montrent que l'entreprise a déjà une expérience dans l'appui aux startups, notamment dans les domaines du Deeptech, de l'incubation et de l'accompagnement des startups féminines.  \n",
       "20                                                                                                                                                   Pertinence : Oui\\n\\nProjets similaires détectés : FACTORIAT, TECHNORIAT PPP Program, World Bank Collaboration\\n\\nRésumé rapide : Cette opportunité de projetMSCA Staff Exchanges est pertinente pour l'entreprise car elle implique des éléments clés qui sont déjà présents dans les projets précédents, tels que :\\n\\n* La collaboration entre organisations académiques et non-académiques (FACTORIAT, TECHNORIAT PPP Program)\\n* L'accent mis sur la mobilité internationale et interdisciplinaire (World Bank Collaboration)\\n* L'objectif de renforcer les compétences et les connaissances dans le domaine de la recherche et de l'innovation (TECHNORIAT PPP Program)\\n* La mise en réseau et la création de partenariats pour favoriser l'innovation (World Bank Collaboration, FACTORIAT)\\n\\nDe plus, l'accent mis sur le développement de compétences et les perspectives de carrière pour les membres du personnel aligne avec les objectifs de certains projets précédents, tels que FACTORIAT et TECHNORIAT PPP Program.  \n",
       "21                                                                                                                                                                                                                                                                                                                                                                - Pertinence : Oui\\n- Projets similaires détectés : FACTORIAT, TECHNORIAT PPP Program\\n- Résumé rapide : L'appel à projets concerne le développement d'un système d'énergie non propulsive pour des avions, avec des éléments de démonstration et de validation sur le terrain. Les aspects clés sont la maturation technologique, la démonstration et la validation de composants critiques. Ces éléments sont similaires aux projets FACTORIAT (support à la maturation technologique et prototypage pour les startups Deeptech et hardware) et TECHNORIAT PPP Program (pont entre la recherche et l'entrepreneuriat via incubation et accélération de chercheurs). L'entreprise a déjà démontré son expertise dans la maturation technologique et le soutien à l'innovation, ce qui rend cette opportunité pertinente.  \n",
       "28                                                                                                                                                                                   Pertinence : Oui\\n\\nProjets similaires détectés : FACTORIAT, World Bank Collaboration, TECHNORIAT - Business Angels Network, BIATLABS, MDBAN – Business Angels Network\\n\\nRésumé rapide : L'appel à projets spécifique concerne la création d'un Knowledge and Innovation Community (KIC) dans le domaine de l'eau, des secteurs marins et des écosystèmes maritimes, avec un focus sur l'innovation, l'entrepreneuriat et l'éducation. Les projets déjà réalisés par l'entreprise, tels que FACTORIAT, World Bank Collaboration, TECHNORIAT PPP Program, BIATLABS, MDBAN – Business Angels Network et ABI – Applied Biotech & Innovation, montrent une expertise dans les domaines de l'innovation, de l'entrepreneuriat, de l'incubation, de l'accélération, de la formation et de la mise en réseau. Les similarités avec l'appel à projets sont évidentes, notamment en ce qui concerne la création d'un écosystème d'innovation, la promotion de l'entrepreneuriat et la formation en innovation.  \n",
       "29                                                                                                                                                                                                                                                                                      Pertinence : Oui\\n\\nProjets similaires détectés : FACTORIAT, TECHNORIAT PPP Program, ABI – Applied Biotech & Innovation \\n\\nRésumé rapide : Cette opportunité est pertinente car elle concerne le soutien à des technologies innovantes et radicalement nouvelles, à travers des recherches à haut risque et à fort potentiel d'impact, ce qui est aligné avec les projets déjà réalisés par l'entreprise, tels que FACTORIAT, TECHNORIAT PPP Program et ABI - Applied Biotech & Innovation. Ces projets partagent des éléments clés tels que le soutien à la recherche et au développement de technologies innovantes, l'incubation et l'accélération de projets, ainsi que la gestion de la propriété intellectuelle. De plus, l'accent mis sur l'interdisciplinarité, la collaboration et l'égalité des genres sont également des thématiques présents dans les initiatives précédemment citées.  \n",
       "51                                                                                                                                                                                                                                                                                                                                                                                                                                                                                           Pertinence : Oui\\n\\nProjets similaires détectés : TECHNORIAT PPP Program, FACTORIAT\\n\\nRésumé rapide : Cette opportunité Seems to align with the company's expertise in supporting innovative startups, researchers, and SMEs in developing cutting-edge technologies, particularly in the defence sector. The call topic's focus on driving innovation, adaptation of civil technologies, and development of European research and technology ecosystems resonates with the company's experience in Deeptech, Hardware, Incubation, Prototyping, and Acceleration (FACTORIAT) and bridging research and entrepreneurship via incubation/acceleration of researchers (TECHNORIAT PPP Program).  \n",
       "52                                                                                                                                                                                                                                                                                           Pertinence : Oui\\n\\nProjets similaires détectés : FACTORIAT, TECHNORIAT PPP Program, BIATLABS\\n\\nRésumé rapide : Cette opportunité est pertinente car elle concerne l'appui à l'innovation et à la R&D pour des applications de défense, ce qui est similaire à des projets déjà réalisés par l'entreprise, tels que FACTORIAT (support à la prototypage et à l'accélération pour des start-up Deeptech et Hardware), TECHNORIAT (pont entre recherche et entrepreneuriat via incubation/accélération de start-up) et BIATLABS (programme d'incubation pour des innovations en phase initiale). De plus, l'appel à projet encourage l'implication d'entreprises PME, ce qui aligne avec les objectifs de certains des projets de l'entreprise, tels que MDBAN – Business Angels Network (soutien aux entreprises en phase initiale via des investissements de business angels de la diaspora).  \n",
       "58                                                                                                                                                                                                                                                                                                                                                             Pertinence : Oui\\n\\nProjets similaires détectés : FACTORIAT, TECHNORIAT PPP Program, BIATLABS, ABI – Applied Biotech & Innovation\\n\\nRésumé rapide : Cette opportunité est pertinente car elle concerne le développement de technologies de pointe (chiplet) avec un focus sur l'intégration et la mise en œuvre de systèmes complexes avec des fonctionnalités variées. Les projets précédemment réalisés par l'entreprise tel que FACTORIAT (support aux startups Deeptech), TECHNORIAT PPP Program (pont entre la recherche et l'entrepreneuriat), BIATLABS (programme d'incubation) et ABI – Applied Biotech & Innovation (développement de solutions innovantes) montrent une expertise dans le domaine des technologies de pointe et de l'innovation, ce qui correspond aux objectifs de cette opportunité spécifique.  \n",
       "67  Pertinence : Oui\\n\\nProjets similaires détectés : None, mais des liens avec certains axes et projets déjà réalisés.\\n\\nRésumé rapide expliquant ma réponse :\\n\\nBien que ce projet de Centres of Vocational Excellence (CoVE) soit très spécifique et différents des projets déjà menés par l'entreprise, il présente des liens avec certains axes et projets. Les axes de Deeptech, Innovation, Entrepreneurship, et Écosystème entrepreneurial sont présents dans les projets TECHNORIAT et ABI - Applied Biotech & Innovation. De plus, les axes de Capacity building, Strategy, et Startup Ecosystem dans le National Entrepreneurship Program et World Bank Collaboration sont également liés à cet appel à projet. Enfin, l'approche de co-création avec des partenaires locaux et la mise en place de réseaux internationaux dans le cadre de cet appel à projet rappellent les approches de MDBAN – Business Angels Network et BIATLABS. Bien que le contexte de la formation professionnelle et de l'éducation soit spécifique, les liens avec les compétences et expertise de l'entreprise dans l'innovation, l'entrepreneuriat et le développement économique sont évidents.  \n",
       "68                                                                                                                                                                                                                                                                                                                                                  Pertinence : Oui\\n\\nProjets similaires détectés : FACTORIAT, TECHNORIAT PPP Program, ABI - Applied Biotech & Innovation\\n\\nRésumé rapide expliquant ma réponse :\\n\\nL'appel à projets ERC Proof of Concept Grants est pertinent pour l'entreprise car il s'agit d'un programme de soutien à la valorisation de la recherche et à la création d'innovations commerciales et sociales, ce qui est en línea avec les projets déjà réalisés par l'entreprise tels que FACTORIAT, qui soutient les startups deeptech et hardware, TECHNORIAT, qui vise à brider la recherche et l'entrepreneuriat, et ABI, qui valorise les découvertes en biotechnologie. De plus, l'entreprise a déjà démontré son expertise dans la mise en place de programmes d'incubation et d'accélération, ce qui est également un élément clé de l'appel à projets.  \n",
       "69                                                                                                                                                                                                                                                                                                                                                                                                                                                                                                                           Pertinence : Oui\\n\\nProjets similaires détectés : FACTORIAT, TECHNORIAT PPP Program, ABI – Applied Biotech & Innovation\\n\\nRésumé rapide : L'EIC Accelerator ciblé les innovations de rupture basées sur des découvertes scientifiques ou des percées technologiques, nécessitant un financement patient et significatif, ce qui correspond aux axes Deeptech, Acceleration, et Prototyping présents dans les projets FACTORIAT et TECHNORIAT PPP Program. De plus, l'appel à projets EIC Accelerator Open est ouvert à tout domaine de technologie, ce qui correspond à l'axe d'innovation biotech présent dans le projet ABI – Applied Biotech & Innovation.  "
      ]
     },
     "execution_count": 25,
     "metadata": {},
     "output_type": "execute_result"
    }
   ],
   "source": [
    "df_yes_final"
   ]
  },
  {
   "cell_type": "code",
   "execution_count": null,
   "id": "e56bbfa5",
   "metadata": {},
   "outputs": [
    {
     "data": {
      "text/plain": [
       "(15, 10)"
      ]
     },
     "execution_count": 39,
     "metadata": {},
     "output_type": "execute_result"
    }
   ],
   "source": [
    "df_yes_final.shape"
   ]
  },
  {
   "cell_type": "code",
   "execution_count": null,
   "id": "84faa1b5",
   "metadata": {},
   "outputs": [
    {
     "name": "stdout",
     "output_type": "stream",
     "text": [
      "['URL', 'Pertinence', 'Matching Word(s)', 'Title', 'Status', 'Start_date', 'Deadline', 'Pertinence LLM', 'Résumé LLM', 'Réponse brute']\n"
     ]
    }
   ],
   "source": [
    "print(df_yes_final.columns.tolist())\n"
   ]
  },
  {
   "cell_type": "code",
   "execution_count": null,
   "id": "81b1e060",
   "metadata": {},
   "outputs": [],
   "source": [
    "df_yes_final.to_excel('df_final_yes.xlsx', index=False, engine='openpyxl')\n"
   ]
  },
  {
   "cell_type": "code",
   "execution_count": null,
   "id": "9733766f",
   "metadata": {},
   "outputs": [],
   "source": []
  }
 ],
 "metadata": {
  "kernelspec": {
   "display_name": "ai_env",
   "language": "python",
   "name": "python3"
  },
  "language_info": {
   "codemirror_mode": {
    "name": "ipython",
    "version": 3
   },
   "file_extension": ".py",
   "mimetype": "text/x-python",
   "name": "python",
   "nbconvert_exporter": "python",
   "pygments_lexer": "ipython3",
   "version": "3.10.16"
  }
 },
 "nbformat": 4,
 "nbformat_minor": 5
}
