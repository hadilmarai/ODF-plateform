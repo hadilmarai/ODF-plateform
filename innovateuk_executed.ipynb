{
 "cells": [
  {
   "cell_type": "code",
   "execution_count": 1,
   "id": "8012a7ca",
   "metadata": {
    "execution": {
     "iopub.execute_input": "2025-07-14T17:25:05.156817Z",
     "iopub.status.busy": "2025-07-14T17:25:05.155833Z",
     "iopub.status.idle": "2025-07-14T17:30:17.427423Z",
     "shell.execute_reply": "2025-07-14T17:30:17.426368Z"
    }
   },
   "outputs": [
    {
     "name": "stdout",
     "output_type": "stream",
     "text": [
      "🌐 Chargement de la page 1...\n",
      "📄 10 opportunités trouvées sur la page 1.\n",
      "✔ Innovate UK innovation loans round 22 | 📅 10 July 2025 → 27 August 2025 11:00am UK time\n"
     ]
    },
    {
     "name": "stdout",
     "output_type": "stream",
     "text": [
      "✔ Contracts for Innovation: resource efficient chemicals impacts | 📅 14 July 2025 9:30am UK time → 27 August 2025 11:00am UK time\n",
      "✔ Funding for core summer schools in 2026 | 📅 14 July 2025 9:00am UK time → 14 October 2025 5:00pm UK time\n",
      "✔ Smart Data Research UK Fellowships | 📅 15 July 2025 9:00am UK time → 23 September 2025 4:00pm UK time\n",
      "✔ Institutional diversity fund (invite only) | 📅 21 July 2025 9:00am UK time → 16 September 2025 4:00pm UK time\n"
     ]
    },
    {
     "name": "stdout",
     "output_type": "stream",
     "text": [
      "✔ Contracts for Innovation: resource efficient automotive impacts | 📅 14 July 2025 9:30am UK time → 27 August 2025 11:00am UK time\n",
      "✔ Gap fund for early-stage development of new healthcare interventions | 📅 10 July 2025 9:00am UK time → 12 November 2025 4:00pm UK time\n",
      "✔ Contracts for Innovation: resource efficient construction impacts | 📅 14 July 2025 9:30am UK time → 27 August 2025 11:00am UK time\n",
      "✔ Digitise UK natural science collections | 📅 8 July 2025 9:00am UK time → 16 September 2025 4:00pm UK time\n",
      "✔ Expression of interest: ATI Programme strategic batch, Jul 2025 | 📅 7 July 2025 9:30am UK time → 23 July 2025 11:00am UK time\n"
     ]
    },
    {
     "name": "stdout",
     "output_type": "stream",
     "text": [
      "🌐 Chargement de la page 2...\n",
      "📄 10 opportunités trouvées sur la page 2.\n",
      "✔ Pre-announcement: Local Innovation Partnerships Fund | 📅 Date d'ouverture non spécifiée → Date de clôture non spécifiée\n",
      "✔ Aviation’s non-CO2 Impacts on the Climate: programme coordinator | 📅 11 July 2025 9:00am UK time → 18 September 2025 4:00pm UK time\n",
      "✔ Research and partnership hubs for a healthy society | 📅 15 July 2025 9:00am UK time → 21 October 2025 4:00pm UK time\n",
      "✔ Agri-tech and food technology, mid and north Wales: CRD | 📅 30 June 2025 9:30am UK time → 20 August 2025 11:00am UK time\n"
     ]
    },
    {
     "name": "stdout",
     "output_type": "stream",
     "text": [
      "✔ STFC leadership fellowships in public engagement | 📅 7 July 2025 9:00am UK time → 16 October 2025 4:00pm UK time\n",
      "✔ Computing resources on the STFC DiRAC HPC facility (RAC18) | 📅 3 July 2025 9:00am UK time → 18 September 2025 4:00pm UK time\n",
      "✔ Experimental medicine: invited stage two application | 📅 8 July 2025 9:00am UK time → 3 September 2025 4:00pm UK time\n"
     ]
    },
    {
     "name": "stdout",
     "output_type": "stream",
     "text": [
      "✔ US-UK and Germany-UK collaborative research: seed funding in semiconductor security | 📅 3 July 2025 9:00am UK time → 31 July 2025 4:00pm UK time\n",
      "✔ Pre-announcement: Biological influence on ocean carbon: novel modelling approaches | 📅 Date d'ouverture non spécifiée → Date de clôture non spécifiée\n",
      "✔ UKRI Gambling Harms Research Coordination Centre (GHRCC) | 📅 26 June 2025 9:00am UK time → 16 September 2025 4:00pm UK time\n"
     ]
    },
    {
     "name": "stdout",
     "output_type": "stream",
     "text": [
      "🌐 Chargement de la page 3...\n",
      "📄 10 opportunités trouvées sur la page 3.\n",
      "✔ Gambling harms research and innovation partnerships | 📅 26 June 2025 9:00am UK time → 16 September 2025 4:00pm UK time\n",
      "✔ Pre-announcement: multiple model assessment of biological influence on ocean carbon | 📅 Date d'ouverture non spécifiée → Date de clôture non spécifiée\n",
      "✔ Transdisciplinary research to tackle antimicrobial resistance: full application | 📅 18 June 2025 9:00am UK time → 23 September 2025 4:00pm UK time\n",
      "✔ Canada-UK NetworkPlus in semiconductor research | 📅 2 July 2025 9:00am UK time → 10 September 2025 4:00pm UK time\n",
      "✔ Knowledge Transfer Partnership: 2025 to 2026 round three | 📅 16 June 2025 9:00am UK time → 17 September 2025 11:30am UK time\n"
     ]
    },
    {
     "name": "stdout",
     "output_type": "stream",
     "text": [
      "✔ UK International Ocean Drilling Programme moratorium awards | 📅 24 June 2025 9:00am UK time → Date de clôture non spécifiée\n",
      "✔ Health Technologies Connectivity Awards: round two | 📅 19 June 2025 9:00am UK time → 2 October 2025 4:00pm UK time\n",
      "✔ ADOPT facilitator support grant: round two | 📅 12 June 2025 9:30am UK time → 24 July 2025 11:00am UK time\n",
      "✔ Full ADOPT grant: round two | 📅 26 June 2025 9:30am UK time → 20 August 2025 11:00am UK time\n",
      "✔ Clinician scientist fellowship | 📅 11 June 2025 9:00am UK time → 3 September 2025 4:00pm UK time\n"
     ]
    },
    {
     "name": "stdout",
     "output_type": "stream",
     "text": [
      "🌐 Chargement de la page 4...\n",
      "📄 10 opportunités trouvées sur la page 4.\n",
      "✔ Predoctoral clinical research training fellowship | 📅 11 June 2025 9:00am UK time → 3 September 2025 4:00pm UK time\n",
      "✔ Postdoctoral clinical research training fellowship | 📅 11 June 2025 9:00am UK time → 3 September 2025 4:00pm UK time\n",
      "✔ Engineer next generation veterinary vaccine technology platforms | 📅 11 June 2025 9:00am UK time → 16 September 2025 4:00pm UK time\n"
     ]
    },
    {
     "name": "stdout",
     "output_type": "stream",
     "text": [
      "✔ Strategic infrastructure for engineering and physical sciences: June 2025 | 📅 18 June 2025 9:00am UK time → 28 August 2025 4:00pm UK time\n",
      "✔ Commercialising Knowledge Assets Fund: autumn 2025 | 📅 2 June 2025 9:30am UK time → 4 September 2025 11:00am UK time\n",
      "✔ Ernest Rutherford Fellowship 2025 | 📅 4 June 2025 9:00am UK time → 1 October 2025 4:00pm UK time\n",
      "✔ Research to advance UK recycling capabilities: full stage | 📅 28 May 2025 9:00am UK time → 23 July 2025 4:00pm UK time\n",
      "✔ Sandpit: moving respiratory health diagnosis into the 21st century invite only | 📅 21 May 2025 9:00am UK time → 22 July 2025 4:00pm UK time\n"
     ]
    },
    {
     "name": "stdout",
     "output_type": "stream",
     "text": [
      "✔ Canada-UK semiconductors | 📅 12 May 2025 9:30am UK time → 15 October 2025 11:00am UK time\n",
      "✔ MRC Centre of Research Excellence: round three: invited full application | 📅 15 May 2025 9:00am UK time → 11 September 2025 4:00pm UK time\n"
     ]
    },
    {
     "name": "stdout",
     "output_type": "stream",
     "text": [
      "🌐 Chargement de la page 5...\n",
      "📄 10 opportunités trouvées sur la page 5.\n",
      "✔ MRC: partnership | 📅 6 May 2025 9:00am UK time → 4 September 2025 4:00pm UK time\n",
      "✔ Infections and immunity: programme | 📅 6 May 2025 9:00am UK time → 4 September 2025 4:00pm UK time\n",
      "✔ Neurosciences and mental health: programme | 📅 6 May 2025 9:00am UK time → 4 September 2025 4:00pm UK time\n",
      "✔ Population and systems medicine: programme | 📅 6 May 2025 9:00am UK time → 4 September 2025 4:00pm UK time\n"
     ]
    },
    {
     "name": "stdout",
     "output_type": "stream",
     "text": [
      "✔ Molecular and cellular medicine: programme | 📅 6 May 2025 9:00am UK time → 4 September 2025 4:00pm UK time\n",
      "✔ Molecular and cellular medicine: new investigator | 📅 2 May 2025 9:00am UK time → 4 September 2025 4:00pm UK time\n",
      "✔ Neurosciences and mental health: new investigator | 📅 2 May 2025 9:00am UK time → 4 September 2025 4:00pm UK time\n",
      "✔ Infections and immunity: new investigator | 📅 2 May 2025 9:00am UK time → 4 September 2025 4:00pm UK time\n"
     ]
    },
    {
     "name": "stdout",
     "output_type": "stream",
     "text": [
      "✔ Population and systems medicine: new investigator | 📅 2 May 2025 9:00am UK time → 4 September 2025 4:00pm UK time\n",
      "✔ Neurosciences and mental health: research grant | 📅 1 May 2025 9:00am UK time → 4 September 2025 4:00pm UK time\n"
     ]
    },
    {
     "name": "stdout",
     "output_type": "stream",
     "text": [
      "🌐 Chargement de la page 6...\n",
      "📄 10 opportunités trouvées sur la page 6.\n",
      "✔ Population and systems medicine: research grant | 📅 1 May 2025 9:00am UK time → 4 September 2025 4:00pm UK time\n",
      "✔ Molecular and cellular medicine: research grant | 📅 1 May 2025 9:00am UK time → 4 September 2025 4:00pm UK time\n",
      "✔ Infections and immunity: research grant | 📅 1 May 2025 9:00am UK time → 4 September 2025 4:00pm UK time\n",
      "✔ Pre-announcement: DARE UK Real-world Research Exemplar Programme | 📅 8 September 2025 9:00am UK time → 5 November 2025 4:00pm UK time\n",
      "✔ BBSRC new investigator award: 2025 round 3: applicant-led mode | 📅 24 April 2025 9:00am UK time → 24 September 2025 4:00pm UK time\n"
     ]
    },
    {
     "name": "stdout",
     "output_type": "stream",
     "text": [
      "✔ BBSRC standard research grant: 2025 round 3: applicant-led mode | 📅 24 April 2025 9:00am UK time → 24 September 2025 4:00pm UK time\n",
      "✔ Critical mass programmes to drive a sustainable future (invitation only) | 📅 1 May 2025 9:00am UK time → 17 July 2025 4:00pm UK time\n",
      "✔ Experimental medicine stage one | 📅 17 April 2025 9:00am UK time → 1 October 2025 4:00pm UK time\n",
      "✔ Career development award | 📅 18 June 2025 9:00am UK time → 10 September 2025 4:00pm UK time\n",
      "✔ UKRI policy fellowships 2025 | 📅 22 April 2025 9:00am UK time → 15 July 2025 4:00pm UK time\n"
     ]
    },
    {
     "name": "stdout",
     "output_type": "stream",
     "text": [
      "🌐 Chargement de la page 7...\n",
      "📄 10 opportunités trouvées sur la page 7.\n",
      "✔ Applied global health research: stage two | 📅 30 April 2025 9:00am UK time → 16 July 2025 4:00pm UK time\n",
      "✔ 2025 to 2026 strategic Longer and Larger (sLoLa) grants: stage one | 📅 29 May 2025 9:00am UK time → 24 July 2025 4:00pm UK time\n"
     ]
    },
    {
     "name": "stdout",
     "output_type": "stream",
     "text": [
      "✔ Applied global health partnership: stage two | 📅 30 April 2025 9:00am UK time → 16 July 2025 4:00pm UK time\n",
      "✔ Collaborate with researchers in Norway | 📅 Date d'ouverture non spécifiée → Date de clôture non spécifiée\n",
      "✔ Collaborative doctoral landscape award in the arts and humanities | 📅 10 April 2025 9:00am UK time → 20 November 2025 4:00pm UK time\n",
      "✔ PATT travel grants for competitively awarded observation time 2025 | 📅 21 August 2025 9:00am UK time → 16 October 2025 4:00pm UK time\n",
      "✔ Developmental pathway funding scheme: stage one | 📅 20 March 2025 9:00am UK time → 16 July 2025 4:00pm UK time\n",
      "✔ Future Leaders Fellowships: round 10, business and non-academic | 📅 23 June 2025 9:30am UK time → 5 November 2025 11:00am UK time\n",
      "✔ Statements of Need in Research Infrastructure | 📅 17 March 2025 9:00am UK time → Date de clôture non spécifiée\n"
     ]
    },
    {
     "name": "stdout",
     "output_type": "stream",
     "text": [
      "✔ EPSRC Programme grant full proposal | 📅 4 March 2025 9:00am UK time → Date de clôture non spécifiée\n"
     ]
    },
    {
     "name": "stdout",
     "output_type": "stream",
     "text": [
      "🌐 Chargement de la page 8...\n",
      "📄 10 opportunités trouvées sur la page 8.\n",
      "✔ Mathematical sciences postdoctoral fellowship | 📅 19 February 2025 9:00am UK time → Date de clôture non spécifiée\n",
      "✔ Pre-announcement: Opening up the Environment 2026 | 📅 Date d'ouverture non spécifiée → Date de clôture non spécifiée\n",
      "✔ Small molecule high throughput screen using AstraZeneca facilities | 📅 10 February 2025 9:00am UK time → 9 September 2025 4:00pm UK time\n"
     ]
    },
    {
     "name": "stdout",
     "output_type": "stream",
     "text": [
      "✔ AHRC responsive mode: Curiosity Award | 📅 31 January 2025 9:00am UK time → Date de clôture non spécifiée\n",
      "✔ AHRC responsive mode: catalyst awards | 📅 31 January 2025 9:00am UK time → Date de clôture non spécifiée\n",
      "✔ Pushing the frontiers of environmental research: July 2025 | 📅 5 February 2025 9:00am UK time → 16 July 2025 4:00pm UK time\n",
      "✔ Mathematical sciences open and open plus fellowship | 📅 30 January 2025 9:00am UK time → Date de clôture non spécifiée\n",
      "✔ AHRC responsive mode: UKRI NSF-SBE lead agency | 📅 11 December 2024 9:00am UK time → Date de clôture non spécifiée\n",
      "✔ AHRC responsive mode: working with Brazilian researchers | 📅 11 December 2024 9:00am UK time → Date de clôture non spécifiée\n"
     ]
    },
    {
     "name": "stdout",
     "output_type": "stream",
     "text": [
      "✔ AHRC responsive mode: collaborate with researchers in Luxembourg | 📅 11 December 2024 9:00am UK time → Date de clôture non spécifiée\n"
     ]
    },
    {
     "name": "stdout",
     "output_type": "stream",
     "text": [
      "🌐 Chargement de la page 9...\n",
      "📄 10 opportunités trouvées sur la page 9.\n",
      "✔ AHRC responsive mode: standard research grant | 📅 11 December 2024 9:00am UK time → Date de clôture non spécifiée\n",
      "✔ EPSRC programme grant outline stage | 📅 1 October 2024 9:00am UK time → Date de clôture non spécifiée\n"
     ]
    },
    {
     "name": "stdout",
     "output_type": "stream",
     "text": [
      "✔ International Travel Award Scheme for the Biological Sciences | 📅 1 October 2024 9:00am UK time → 30 September 2025 4:00pm UK time\n",
      "✔ Projects Peer Review Panel (PPRP) 2025 | 📅 1 October 2024 9:00am UK time → 28 August 2025 4:00pm UK time\n",
      "✔ NERC urgency funding | 📅 8 July 2024 9:00am UK time → Date de clôture non spécifiée\n",
      "✔ Strategic infrastructure outlines | 📅 18 June 2024 9:00am UK time → Date de clôture non spécifiée\n",
      "✔ Work with US-based researchers on environmental science: NERC-NSF lead agency | 📅 Date d'ouverture non spécifiée → Date de clôture non spécifiée\n"
     ]
    },
    {
     "name": "stdout",
     "output_type": "stream",
     "text": [
      "✔ Collaborate with the functional genomics screening laboratory | 📅 Date d'ouverture non spécifiée → Date de clôture non spécifiée\n",
      "✔ Open access fund for longform publications: stage two | 📅 15 January 2024 9:00am UK time → Date de clôture non spécifiée\n",
      "✔ Mathematical sciences small grants | 📅 2 January 2024 9:00am UK time → Date de clôture non spécifiée\n"
     ]
    },
    {
     "name": "stdout",
     "output_type": "stream",
     "text": [
      "🌐 Chargement de la page 10...\n",
      "📄 10 opportunités trouvées sur la page 10.\n",
      "✔ EPSRC network grant: Nov 2023: responsive mode | 📅 13 November 2023 9:00am UK time → Date de clôture non spécifiée\n",
      "✔ EPSRC working with overseas scientists: Nov 2023: responsive mode (invite only) | 📅 13 November 2023 9:00am UK time → Date de clôture non spécifiée\n",
      "✔ EPSRC new investigator award: Nov 2023: responsive mode | 📅 13 November 2023 9:00am UK time → Date de clôture non spécifiée\n",
      "✔ EPSRC discipline hopping in ICT, Nov 2023: responsive mode | 📅 13 November 2023 9:00am UK time → Date de clôture non spécifiée\n",
      "✔ EPSRC overseas travel grant: Nov 2023: responsive mode | 📅 13 November 2023 9:00am UK time → Date de clôture non spécifiée\n"
     ]
    },
    {
     "name": "stdout",
     "output_type": "stream",
     "text": [
      "✔ EPSRC standard research grant, Nov 2023: responsive mode | 📅 13 November 2023 9:00am UK time → Date de clôture non spécifiée\n",
      "✔ ESRC responsive mode: research grants round two | 📅 29 September 2023 9:00am UK time → Date de clôture non spécifiée\n",
      "✔ ESRC responsive mode: new investigator grants round two | 📅 29 September 2023 9:00am UK time → Date de clôture non spécifiée\n",
      "✔ ESRC responsive mode: working with Luxembourg researchers round two | 📅 29 September 2023 9:00am UK time → Date de clôture non spécifiée\n",
      "✔ ESRC responsive mode: secondary data analysis round two | 📅 29 September 2023 9:00am UK time → Date de clôture non spécifiée\n"
     ]
    },
    {
     "name": "stdout",
     "output_type": "stream",
     "text": [
      "🌐 Chargement de la page 11...\n",
      "📄 10 opportunités trouvées sur la page 11.\n",
      "✔ ESRC responsive mode: UKRI-SBE lead agency opportunity round two | 📅 29 September 2023 9:00am UK time → Date de clôture non spécifiée\n",
      "✔ ESRC responsive mode: working with Brazilian researchers round two | 📅 29 September 2023 9:00am UK time → Date de clôture non spécifiée\n",
      "✔ Collaborate with researchers in Luxembourg | 📅 Date d'ouverture non spécifiée → Date de clôture non spécifiée\n",
      "✔ Researching motor neurone disease: highlight notice | 📅 1 December 2022 → Date de clôture non spécifiée\n",
      "✔ Work with Brazilian researchers: NERC FAPESP lead agency | 📅 Date d'ouverture non spécifiée → Date de clôture non spécifiée\n"
     ]
    },
    {
     "name": "stdout",
     "output_type": "stream",
     "text": [
      "✔ PATT travel claim for competitively awarded observation time | 📅 1 January 2021 → Date de clôture non spécifiée\n",
      "✔ Collaborate with researchers in Brazil | 📅 Date d'ouverture non spécifiée → Date de clôture non spécifiée\n",
      "✔ UKRI-SBE lead agency opportunity | 📅 Date d'ouverture non spécifiée → Date de clôture non spécifiée\n",
      "✔ Institutional strategic developmental projects in higher education | 📅 Date d'ouverture non spécifiée → Date de clôture non spécifiée\n",
      "✔ Daphne Jackson fellowship | 📅 Date d'ouverture non spécifiée → Date de clôture non spécifiée\n"
     ]
    }
   ],
   "source": [
    "from selenium import webdriver\n",
    "from selenium.webdriver.chrome.service import Service\n",
    "from selenium.webdriver.chrome.options import Options\n",
    "from selenium.webdriver.common.by import By\n",
    "from selenium.webdriver.support.ui import WebDriverWait\n",
    "from selenium.webdriver.support import expected_conditions as EC\n",
    "import time\n",
    "\n",
    "# Configurer le driver Chrome\n",
    "chrome_options = Options()\n",
    "chrome_options.add_argument(\"--start-maximized\")\n",
    "\n",
    "service = Service(r\"C:\\Users\\HADIL MARAI\\Desktop\\ODF\\chromedriver-win64\\chromedriver-win64\\chromedriver.exe\")\n",
    "driver = webdriver.Chrome(service=service, options=chrome_options)\n",
    "base_url = \"https://www.ukri.org/opportunity/page/{}/\"\n",
    "\n",
    "with open(\"projets_UKRI_full.txt\", \"w\", encoding=\"utf-8\") as f:\n",
    "    for page_num in range(1, 12):  # Pages 1 à 8\n",
    "        url = base_url.format(page_num)\n",
    "        driver.get(url)\n",
    "        print(f\"🌐 Chargement de la page {page_num}...\")\n",
    "\n",
    "        try:\n",
    "            WebDriverWait(driver, 15).until(\n",
    "                EC.presence_of_element_located((By.CSS_SELECTOR, \"div.opportunity\"))\n",
    "            )\n",
    "        except Exception:\n",
    "            print(f\"❌ Échec du chargement de la page {page_num}.\")\n",
    "            continue\n",
    "\n",
    "        opportunities = driver.find_elements(By.CSS_SELECTOR, \"div.opportunity\")\n",
    "        print(f\"📄 {len(opportunities)} opportunités trouvées sur la page {page_num}.\")\n",
    "\n",
    "        for opp in opportunities:\n",
    "            try:\n",
    "                title_el = opp.find_element(By.CSS_SELECTOR, \"h3.entry-title a\")\n",
    "                title = title_el.text.strip()\n",
    "                link = title_el.get_attribute(\"href\")\n",
    "\n",
    "                try:\n",
    "                    description = opp.find_element(By.CSS_SELECTOR, \"div.entry-content p\").text.strip()\n",
    "                except:\n",
    "                    description = \"Description non trouvée\"\n",
    "\n",
    "                try:\n",
    "                    opening_date = opp.find_element(By.XPATH, \".//dt[contains(text(), 'Opening date:')]/following-sibling::dd[1]/time\").text.strip()\n",
    "                except:\n",
    "                    opening_date = \"Date d'ouverture non spécifiée\"\n",
    "\n",
    "                try:\n",
    "                    closing_date = opp.find_element(By.XPATH, \".//dt[contains(text(), 'Closing date:')]/following-sibling::dd[1]/time\").text.strip()\n",
    "                except:\n",
    "                    closing_date = \"Date de clôture non spécifiée\"\n",
    "\n",
    "                f.write(\n",
    "                    f\"Titre: {title}\\n\"\n",
    "                    f\"Lien: {link}\\n\"\n",
    "                    f\"Description: {description}\\n\"\n",
    "                    f\"Date d'ouverture: {opening_date}\\n\"\n",
    "                    f\"Date de clôture: {closing_date}\\n\\n\"\n",
    "                )\n",
    "                print(f\"✔ {title} | 📅 {opening_date} → {closing_date}\")\n",
    "\n",
    "            except Exception as e:\n",
    "                print(f\"⚠️ Erreur lors du traitement d'une opportunité : {e}\")\n",
    "\n",
    "\n",
    "driver.quit()\n"
   ]
  },
  {
   "cell_type": "code",
   "execution_count": 2,
   "id": "3fff1955",
   "metadata": {
    "execution": {
     "iopub.execute_input": "2025-07-14T17:30:17.430358Z",
     "iopub.status.busy": "2025-07-14T17:30:17.429360Z",
     "iopub.status.idle": "2025-07-14T17:30:20.188338Z",
     "shell.execute_reply": "2025-07-14T17:30:20.187335Z"
    }
   },
   "outputs": [
    {
     "data": {
      "text/html": [
       "<div>\n",
       "<style scoped>\n",
       "    .dataframe tbody tr th:only-of-type {\n",
       "        vertical-align: middle;\n",
       "    }\n",
       "\n",
       "    .dataframe tbody tr th {\n",
       "        vertical-align: top;\n",
       "    }\n",
       "\n",
       "    .dataframe thead th {\n",
       "        text-align: right;\n",
       "    }\n",
       "</style>\n",
       "<table border=\"1\" class=\"dataframe\">\n",
       "  <thead>\n",
       "    <tr style=\"text-align: right;\">\n",
       "      <th></th>\n",
       "      <th>Title</th>\n",
       "      <th>URL</th>\n",
       "      <th>Description</th>\n",
       "      <th>Start_date</th>\n",
       "      <th>Deadline</th>\n",
       "    </tr>\n",
       "  </thead>\n",
       "  <tbody>\n",
       "    <tr>\n",
       "      <th>0</th>\n",
       "      <td>Innovate UK innovation loans round 22</td>\n",
       "      <td>https://www.ukri.org/opportunity/innovate-uk-i...</td>\n",
       "      <td>UK registered businesses can apply for loans f...</td>\n",
       "      <td>10 July 2025</td>\n",
       "      <td>27 August 2025 11:00am UK time</td>\n",
       "    </tr>\n",
       "    <tr>\n",
       "      <th>1</th>\n",
       "      <td>Contracts for Innovation: resource efficient c...</td>\n",
       "      <td>https://www.ukri.org/opportunity/contracts-for...</td>\n",
       "      <td>Organisations can apply for a share of up to £...</td>\n",
       "      <td>14 July 2025 9:30am UK time</td>\n",
       "      <td>27 August 2025 11:00am UK time</td>\n",
       "    </tr>\n",
       "    <tr>\n",
       "      <th>2</th>\n",
       "      <td>Funding for core summer schools in 2026</td>\n",
       "      <td>https://www.ukri.org/opportunity/funding-for-c...</td>\n",
       "      <td>Apply for funding under the STFC Funding Suppo...</td>\n",
       "      <td>14 July 2025 9:00am UK time</td>\n",
       "      <td>14 October 2025 5:00pm UK time</td>\n",
       "    </tr>\n",
       "    <tr>\n",
       "      <th>3</th>\n",
       "      <td>Smart Data Research UK Fellowships</td>\n",
       "      <td>https://www.ukri.org/opportunity/smart-data-re...</td>\n",
       "      <td>Apply for a fellowship to undertake innovative...</td>\n",
       "      <td>15 July 2025 9:00am UK time</td>\n",
       "      <td>23 September 2025 4:00pm UK time</td>\n",
       "    </tr>\n",
       "    <tr>\n",
       "      <th>4</th>\n",
       "      <td>Institutional diversity fund (invite only)</td>\n",
       "      <td>https://www.ukri.org/opportunity/institutional...</td>\n",
       "      <td>The purpose of this opportunity is to provide ...</td>\n",
       "      <td>21 July 2025 9:00am UK time</td>\n",
       "      <td>16 September 2025 4:00pm UK time</td>\n",
       "    </tr>\n",
       "  </tbody>\n",
       "</table>\n",
       "</div>"
      ],
      "text/plain": [
       "                                               Title  \\\n",
       "0              Innovate UK innovation loans round 22   \n",
       "1  Contracts for Innovation: resource efficient c...   \n",
       "2            Funding for core summer schools in 2026   \n",
       "3                 Smart Data Research UK Fellowships   \n",
       "4         Institutional diversity fund (invite only)   \n",
       "\n",
       "                                                 URL  \\\n",
       "0  https://www.ukri.org/opportunity/innovate-uk-i...   \n",
       "1  https://www.ukri.org/opportunity/contracts-for...   \n",
       "2  https://www.ukri.org/opportunity/funding-for-c...   \n",
       "3  https://www.ukri.org/opportunity/smart-data-re...   \n",
       "4  https://www.ukri.org/opportunity/institutional...   \n",
       "\n",
       "                                         Description  \\\n",
       "0  UK registered businesses can apply for loans f...   \n",
       "1  Organisations can apply for a share of up to £...   \n",
       "2  Apply for funding under the STFC Funding Suppo...   \n",
       "3  Apply for a fellowship to undertake innovative...   \n",
       "4  The purpose of this opportunity is to provide ...   \n",
       "\n",
       "                    Start_date                          Deadline  \n",
       "0                 10 July 2025    27 August 2025 11:00am UK time  \n",
       "1  14 July 2025 9:30am UK time    27 August 2025 11:00am UK time  \n",
       "2  14 July 2025 9:00am UK time    14 October 2025 5:00pm UK time  \n",
       "3  15 July 2025 9:00am UK time  23 September 2025 4:00pm UK time  \n",
       "4  21 July 2025 9:00am UK time  16 September 2025 4:00pm UK time  "
      ]
     },
     "execution_count": 2,
     "metadata": {},
     "output_type": "execute_result"
    }
   ],
   "source": [
    "import pandas as pd\n",
    "\n",
    "def parse_ukri_project_file(filepath):\n",
    "    with open(filepath, 'r', encoding='utf-8') as f:\n",
    "        lines = [line.strip() for line in f if line.strip()]\n",
    "\n",
    "    data = []\n",
    "    current_project = {}\n",
    "\n",
    "    for line in lines:\n",
    "        if line.startswith(\"Titre:\"):\n",
    "            if current_project:\n",
    "                data.append(current_project)\n",
    "            current_project = {\"Titre\": line.split(\":\", 1)[1].strip()}\n",
    "        elif line.startswith(\"Lien:\"):\n",
    "            current_project[\"Lien\"] = line.split(\":\", 1)[1].strip()\n",
    "        elif line.startswith(\"Description:\"):\n",
    "            current_project[\"Description\"] = line.split(\":\", 1)[1].strip()\n",
    "        elif line.startswith(\"Date d'ouverture:\"):\n",
    "            current_project[\"Date d'ouverture\"] = line.split(\":\", 1)[1].strip()\n",
    "        elif line.startswith(\"Date de clôture:\"):\n",
    "            current_project[\"Date de clôture\"] = line.split(\":\", 1)[1].strip()\n",
    "\n",
    "    if current_project:\n",
    "        data.append(current_project)\n",
    "\n",
    "    # Création du DataFrame avec renommage des colonnes en anglais\n",
    "    df = pd.DataFrame(data)\n",
    "    df.rename(columns={\n",
    "        \"Titre\": \"Title\",\n",
    "        \"Lien\": \"URL\",\n",
    "        \"Description\": \"Description\",\n",
    "        \"Date d'ouverture\": \"Start_date\",\n",
    "        \"Date de clôture\": \"Deadline\"\n",
    "    }, inplace=True)\n",
    "\n",
    "    return df\n",
    "\n",
    "# Utilisation\n",
    "df = parse_ukri_project_file(\"projets_UKRI_full.txt\")\n",
    "\n",
    "# Aperçu\n",
    "df.head()\n"
   ]
  },
  {
   "cell_type": "code",
   "execution_count": 3,
   "id": "bb1acac8",
   "metadata": {
    "execution": {
     "iopub.execute_input": "2025-07-14T17:30:20.192329Z",
     "iopub.status.busy": "2025-07-14T17:30:20.191333Z",
     "iopub.status.idle": "2025-07-14T17:30:20.198919Z",
     "shell.execute_reply": "2025-07-14T17:30:20.197920Z"
    }
   },
   "outputs": [
    {
     "name": "stdout",
     "output_type": "stream",
     "text": [
      "0                              https://www.ukri.org/opportunity/innovate-uk-innovation-loans-round-22/\n",
      "1      https://www.ukri.org/opportunity/contracts-for-innovation-resource-efficient-chemicals-impacts/\n",
      "2                            https://www.ukri.org/opportunity/funding-for-core-summer-schools-in-2026/\n",
      "3                                 https://www.ukri.org/opportunity/smart-data-research-uk-fellowships/\n",
      "4                           https://www.ukri.org/opportunity/institutional-diversity-fund-invite-only/\n",
      "                                                    ...                                               \n",
      "105     https://www.ukri.org/opportunity/patt-travel-claim-for-competitively-awarded-observation-time/\n",
      "106                           https://www.ukri.org/opportunity/collaborate-with-researchers-in-brazil/\n",
      "107                                 https://www.ukri.org/opportunity/ukri-sbe-lead-agency-opportunity/\n",
      "108                                https://www.ukri.org/opportunity/research-england-development-fund/\n",
      "109                                        https://www.ukri.org/opportunity/daphne-jackson-fellowship/\n",
      "Name: URL, Length: 110, dtype: object\n"
     ]
    }
   ],
   "source": [
    "pd.set_option('display.max_colwidth', None)\n",
    "print(df['URL'])"
   ]
  },
  {
   "cell_type": "code",
   "execution_count": 4,
   "id": "5d09c684",
   "metadata": {
    "execution": {
     "iopub.execute_input": "2025-07-14T17:30:20.201996Z",
     "iopub.status.busy": "2025-07-14T17:30:20.200912Z",
     "iopub.status.idle": "2025-07-14T17:30:20.215020Z",
     "shell.execute_reply": "2025-07-14T17:30:20.215020Z"
    }
   },
   "outputs": [],
   "source": [
    "# Dictionnaire de correspondance EN => FR\n",
    "all_keywords_text = {\n",
    "    \"strategic consulting\": \"conseil stratégique\",\n",
    "    \"technical assistance\": \"assistance technique\",\n",
    "    \"institutional support\": \"appui institutionnel\",\n",
    "    \"tailored support\": \"accompagnement personnalisé\",\n",
    "    \"innovation support\": \"accompagnement à l’innovation\",\n",
    "    \"fundraising support\": \"accompagnement à la levée de fonds\",\n",
    "    \"organizational development\": \"développement organisationnel\",\n",
    "    \"capacity building\": \"développement de capacités\",\n",
    "    \"program structuring\": \"structuration de programme\",\n",
    "    \"project design\": \"ingénierie de projet\",\n",
    "    \"project management\": \"gestion de projet\",\n",
    "    \"program steering\": \"pilotage de programme\",\n",
    "    \"growth strategy\": \"stratégie de croissance\",\n",
    "    \"sector expertise\": \"expertise sectorielle\",\n",
    "    \"project evaluation\": \"évaluation de projets\",\n",
    "    \"due diligence\": \"due diligence\",\n",
    "    \"project implementation\": \"mise en œuvre de projet\",\n",
    "    \"roadmap development\": \"élaboration de feuille de route\",\n",
    "    \"financial engineering\": \"ingénierie financière\",\n",
    "    \"strategic diagnosis\": \"diagnostic stratégique\",\n",
    "    \"monitoring and evaluation\": \"suivi-évaluation\",\n",
    "    \"operational action plan\": \"plan d’action opérationnel\",\n",
    "    \"public-private partnership\": \"partenariat public-privé\",\n",
    "    \"ecosystem animation\": \"animation d’écosystème\",\n",
    "    \"impact analysis\": \"analyse d’impact\",\n",
    "    \"partnership facilitation\": \"facilitation de partenariats\",\n",
    "    \"stakeholder mapping\": \"cartographie des acteurs\",\n",
    "    \"knowledge transfer\": \"transfert de compétences\",\n",
    "    \"collaborative innovation\": \"innovation collaborative\",\n",
    "    \"open innovation\": \"open innovation\",\n",
    "    \"economic development\": \"développement économique\",\n",
    "    \"ecosystem development\": \"développement d’écosystèmes\",\n",
    "    \"expansion strategy\": \"stratégie d’expansion\",\n",
    "    \"development strategy\": \"stratégie de développement\",\n",
    "    \"research valorization\": \"valorisation de la recherche\",\n",
    "    \"technology transfer\": \"transfert de technologie\",\n",
    "    \"technology maturation\": \"maturation technologique\",\n",
    "    \"prototype industrialization\": \"industrialisation de prototypes\",\n",
    "    \"technological co-development\": \"co-développement technologique\",\n",
    "    \"intellectual property\": \"propriété intellectuelle\",\n",
    "    \"research results\": \"résultats de recherche\",\n",
    "    \"technology readiness level\": \"niveau de maturité technologique\",\n",
    "    \"university spin-off\": \"spin-off universitaire\",\n",
    "    \"research-industry collaboration\": \"collaboration recherche-industrie\",\n",
    "    \"technology startup\": \"start-up technologique\",\n",
    "    \"technology portfolio\": \"portefeuille technologique\",\n",
    "    \"innovation commercialization\": \"commercialisation d’innovations\",\n",
    "    \"proof of concept\": \"preuve de concept\",\n",
    "    \"prototyping\": \"prototypage\",\n",
    "    \"technology incubator\": \"incubateur technologique\",\n",
    "    \"R&D support\": \"accompagnement à la R&D\",\n",
    "    \"patent exploitation\": \"exploitation de brevets\",\n",
    "    \"call for projects\": \"appel à projets\",\n",
    "    \"call for proposals\": \"appel à propositions\",\n",
    "    \"call for expression of interest\": \"appel à manifestation d’intérêt\",\n",
    "    \"call for applications\": \"appel à candidatures\",\n",
    "    \"call for consultants\": \"appel à consultants\",\n",
    "    \"innovation grant\": \"subvention à l’innovation\",\n",
    "    \"R&D project funding\": \"financement de projet R&D\",\n",
    "    \"support program\": \"programme d’accompagnement\",\n",
    "    \"support fund\": \"fonds de soutien\",\n",
    "    \"innovation competition\": \"concours d’innovation\",\n",
    "    \"incubation program\": \"programme d’incubation\",\n",
    "    \"acceleration program\": \"programme d’accélération\",\n",
    "    \"consulting assignment\": \"mission de conseil\",\n",
    "    \"public procurement\": \"marché public\",\n",
    "    \"strategic partnership\": \"partenariat stratégique\",\n",
    "    \"service delivery\": \"prestation de services\",\n",
    "    \"expert mission\": \"mission d’expertise\",\n",
    "    \"deeptech\": \"deeptech\",\n",
    "    \"biotechnology\": \"biotechnologie\",\n",
    "    \"medtech\": \"medtech\",\n",
    "    \"greentech\": \"greentech\",\n",
    "    \"agritech\": \"agritech\",\n",
    "    \"climatetech\": \"climatetech\",\n",
    "    \"healthtech\": \"healthtech\",\n",
    "    \"nanotechnology\": \"nanotechnologie\",\n",
    "    \"robotics\": \"robotique\",\n",
    "    \"artificial intelligence\": \"intelligence artificielle\",\n",
    "    \"machine learning\": \"machine learning\",\n",
    "    \"industry 4.0\": \"industrie 4.0\",\n",
    "    \"advanced materials\": \"matériaux avancés\",\n",
    "    \"clean technologies\": \"technologies propres\",\n",
    "    \"renewable energy\": \"énergies renouvelables\",\n",
    "    \"cybersecurity\": \"cybersécurité\",\n",
    "    \"data science\": \"data science\",\n",
    "    \"internet of things\": \"internet des objets\",\n",
    "    \"sustainable development\": \"développement durable\",\n",
    "    \"climate resilience\": \"résilience climatique\",\n",
    "    \"economic inclusion\": \"inclusion économique\",\n",
    "    \"empowerment through innovation\": \"autonomisation par l’innovation\",\n",
    "    \"social innovation\": \"innovation sociale\",\n",
    "    \"inclusive growth\": \"croissance inclusive\",\n",
    "    \"social impact\": \"impact sociétal\",\n",
    "    \"youth empowerment\": \"autonomisation des jeunes\",\n",
    "    \"services digitalization\": \"digitalisation des services\",\n",
    "    \"technological sovereignty\": \"souveraineté technologique\",\n",
    "    \"territorial development\": \"développement territorial\",\n",
    "    \"digital transformation\": \"transformation numérique\",\n",
    "    \"researcher empowerment\": \"autonomisation des chercheurs\",\n",
    "    \"diaspora integration\": \"intégration de la diaspora\",\n",
    "    \"cross-sector collaboration\": \"collaboration intersectorielle\",\n",
    "    \"industrial partnerships\": \"partenariats industriels\",\n",
    "    \"market-driven innovation\": \"innovation orientée marché\",\n",
    "    \"innovative SMEs\": \"PME innovantes\",\n",
    "    \"industrial entrepreneurship\": \"entrepreneuriat industriel\",\n",
    "    \"market access\": \"accès au marché\",\n",
    "    \"value chain strengthening\": \"renforcement des chaînes de valeur\",\n",
    "    \"economic impact\": \"impact économique\",\n",
    "    \"economic empowerment\": \"autonomisation économique\",\n",
    "    \"industrial competitiveness\": \"compétitivité industrielle\",\n",
    "    \"applied research\": \"recherche appliquée\",\n",
    "    \"skills development\": \"montée en compétences\",\n",
    "    \"know-how transfer\": \"transfert de savoir-faire\",\n",
    "    \"co-development\": \"co-développement\",\n",
    "    \"technology leadership\": \"leadership technologique\"\n",
    "}\n"
   ]
  },
  {
   "cell_type": "markdown",
   "id": "6e976356",
   "metadata": {},
   "source": [
    "#### Voir les mots clées si ils existent dans toute la description sur le site directement "
   ]
  },
  {
   "cell_type": "code",
   "execution_count": 5,
   "id": "df003a75",
   "metadata": {
    "execution": {
     "iopub.execute_input": "2025-07-14T17:30:20.219873Z",
     "iopub.status.busy": "2025-07-14T17:30:20.219376Z",
     "iopub.status.idle": "2025-07-14T17:45:48.858916Z",
     "shell.execute_reply": "2025-07-14T17:45:48.856909Z"
    }
   },
   "outputs": [
    {
     "name": "stderr",
     "output_type": "stream",
     "text": [
      "\r",
      "Checking each project...:   0%|                                                                                | 0/110 [00:00<?, ?it/s]"
     ]
    },
    {
     "name": "stderr",
     "output_type": "stream",
     "text": [
      "\r",
      "Checking each project...:   1%|▋                                                                       | 1/110 [00:15<28:56, 15.93s/it]"
     ]
    },
    {
     "name": "stderr",
     "output_type": "stream",
     "text": [
      "\r",
      "Checking each project...:   2%|█▎                                                                      | 2/110 [00:19<15:37,  8.68s/it]"
     ]
    },
    {
     "name": "stderr",
     "output_type": "stream",
     "text": [
      "\r",
      "Checking each project...:   3%|█▉                                                                    | 3/110 [03:41<2:52:48, 96.90s/it]"
     ]
    },
    {
     "name": "stderr",
     "output_type": "stream",
     "text": [
      "\r",
      "Checking each project...:   4%|██▌                                                                   | 4/110 [04:10<2:03:48, 70.08s/it]"
     ]
    },
    {
     "name": "stderr",
     "output_type": "stream",
     "text": [
      "\r",
      "Checking each project...:   5%|███▏                                                                  | 5/110 [04:17<1:22:59, 47.43s/it]"
     ]
    },
    {
     "name": "stderr",
     "output_type": "stream",
     "text": [
      "\r",
      "Checking each project...:   5%|███▉                                                                    | 6/110 [04:21<56:25, 32.55s/it]"
     ]
    },
    {
     "name": "stderr",
     "output_type": "stream",
     "text": [
      "\r",
      "Checking each project...:   6%|████▌                                                                   | 7/110 [04:26<40:30, 23.60s/it]"
     ]
    },
    {
     "name": "stderr",
     "output_type": "stream",
     "text": [
      "\r",
      "Checking each project...:   7%|█████▏                                                                  | 8/110 [04:30<29:20, 17.26s/it]"
     ]
    },
    {
     "name": "stderr",
     "output_type": "stream",
     "text": [
      "\r",
      "Checking each project...:   8%|█████▉                                                                  | 9/110 [04:34<22:29, 13.36s/it]"
     ]
    },
    {
     "name": "stderr",
     "output_type": "stream",
     "text": [
      "\r",
      "Checking each project...:   9%|██████▍                                                                | 10/110 [04:38<17:15, 10.35s/it]"
     ]
    },
    {
     "name": "stderr",
     "output_type": "stream",
     "text": [
      "\r",
      "Checking each project...:  10%|███████                                                                | 11/110 [04:43<14:35,  8.84s/it]"
     ]
    },
    {
     "name": "stderr",
     "output_type": "stream",
     "text": [
      "\r",
      "Checking each project...:  11%|███████▋                                                               | 12/110 [04:48<12:24,  7.60s/it]"
     ]
    },
    {
     "name": "stderr",
     "output_type": "stream",
     "text": [
      "\r",
      "Checking each project...:  12%|████████▍                                                              | 13/110 [04:53<10:55,  6.76s/it]"
     ]
    },
    {
     "name": "stderr",
     "output_type": "stream",
     "text": [
      "\r",
      "Checking each project...:  13%|█████████                                                              | 14/110 [04:57<09:13,  5.77s/it]"
     ]
    },
    {
     "name": "stderr",
     "output_type": "stream",
     "text": [
      "\r",
      "Checking each project...:  14%|█████████▋                                                             | 15/110 [05:01<08:36,  5.44s/it]"
     ]
    },
    {
     "name": "stderr",
     "output_type": "stream",
     "text": [
      "\r",
      "Checking each project...:  15%|██████████▎                                                            | 16/110 [05:06<08:10,  5.22s/it]"
     ]
    },
    {
     "name": "stderr",
     "output_type": "stream",
     "text": [
      "\r",
      "Checking each project...:  15%|██████████▉                                                            | 17/110 [05:11<07:54,  5.11s/it]"
     ]
    },
    {
     "name": "stderr",
     "output_type": "stream",
     "text": [
      "\r",
      "Checking each project...:  16%|███████████▌                                                           | 18/110 [05:15<07:36,  4.97s/it]"
     ]
    },
    {
     "name": "stderr",
     "output_type": "stream",
     "text": [
      "\r",
      "Checking each project...:  17%|████████████▎                                                          | 19/110 [05:20<07:21,  4.85s/it]"
     ]
    },
    {
     "name": "stderr",
     "output_type": "stream",
     "text": [
      "\r",
      "Checking each project...:  18%|████████████▉                                                          | 20/110 [05:25<07:15,  4.84s/it]"
     ]
    },
    {
     "name": "stderr",
     "output_type": "stream",
     "text": [
      "\r",
      "Checking each project...:  19%|█████████████▌                                                         | 21/110 [05:30<07:08,  4.81s/it]"
     ]
    },
    {
     "name": "stderr",
     "output_type": "stream",
     "text": [
      "\r",
      "Checking each project...:  20%|██████████████▏                                                        | 22/110 [05:35<07:26,  5.07s/it]"
     ]
    },
    {
     "name": "stderr",
     "output_type": "stream",
     "text": [
      "\r",
      "Checking each project...:  21%|██████████████▊                                                        | 23/110 [05:42<07:57,  5.49s/it]"
     ]
    },
    {
     "name": "stderr",
     "output_type": "stream",
     "text": [
      "\r",
      "Checking each project...:  22%|███████████████▍                                                       | 24/110 [05:47<07:48,  5.45s/it]"
     ]
    },
    {
     "name": "stderr",
     "output_type": "stream",
     "text": [
      "\r",
      "Checking each project...:  23%|████████████████▏                                                      | 25/110 [05:51<06:56,  4.90s/it]"
     ]
    },
    {
     "name": "stderr",
     "output_type": "stream",
     "text": [
      "\r",
      "Checking each project...:  24%|████████████████▊                                                      | 26/110 [05:59<08:13,  5.87s/it]"
     ]
    },
    {
     "name": "stderr",
     "output_type": "stream",
     "text": [
      "\r",
      "Checking each project...:  25%|█████████████████▍                                                     | 27/110 [06:04<07:46,  5.62s/it]"
     ]
    },
    {
     "name": "stderr",
     "output_type": "stream",
     "text": [
      "\r",
      "Checking each project...:  25%|██████████████████                                                     | 28/110 [06:08<07:07,  5.22s/it]"
     ]
    },
    {
     "name": "stderr",
     "output_type": "stream",
     "text": [
      "\r",
      "Checking each project...:  26%|██████████████████▋                                                    | 29/110 [06:12<06:35,  4.88s/it]"
     ]
    },
    {
     "name": "stderr",
     "output_type": "stream",
     "text": [
      "\r",
      "Checking each project...:  27%|███████████████████▎                                                   | 30/110 [06:19<07:17,  5.47s/it]"
     ]
    },
    {
     "name": "stderr",
     "output_type": "stream",
     "text": [
      "\r",
      "Checking each project...:  28%|████████████████████                                                   | 31/110 [06:25<07:22,  5.60s/it]"
     ]
    },
    {
     "name": "stderr",
     "output_type": "stream",
     "text": [
      "\r",
      "Checking each project...:  29%|████████████████████▋                                                  | 32/110 [06:31<07:17,  5.61s/it]"
     ]
    },
    {
     "name": "stderr",
     "output_type": "stream",
     "text": [
      "\r",
      "Checking each project...:  30%|█████████████████████▎                                                 | 33/110 [06:36<07:11,  5.60s/it]"
     ]
    },
    {
     "name": "stderr",
     "output_type": "stream",
     "text": [
      "\r",
      "Checking each project...:  31%|█████████████████████▉                                                 | 34/110 [06:44<08:06,  6.40s/it]"
     ]
    },
    {
     "name": "stderr",
     "output_type": "stream",
     "text": [
      "\r",
      "Checking each project...:  32%|██████████████████████▌                                                | 35/110 [06:48<06:59,  5.59s/it]"
     ]
    },
    {
     "name": "stderr",
     "output_type": "stream",
     "text": [
      "\r",
      "Checking each project...:  33%|███████████████████████▏                                               | 36/110 [06:53<06:39,  5.40s/it]"
     ]
    },
    {
     "name": "stderr",
     "output_type": "stream",
     "text": [
      "\r",
      "Checking each project...:  34%|███████████████████████▉                                               | 37/110 [06:58<06:22,  5.24s/it]"
     ]
    },
    {
     "name": "stderr",
     "output_type": "stream",
     "text": [
      "\r",
      "Checking each project...:  35%|████████████████████████▌                                              | 38/110 [07:05<06:51,  5.71s/it]"
     ]
    },
    {
     "name": "stderr",
     "output_type": "stream",
     "text": [
      "\r",
      "Checking each project...:  35%|█████████████████████████▏                                             | 39/110 [07:08<06:01,  5.09s/it]"
     ]
    },
    {
     "name": "stderr",
     "output_type": "stream",
     "text": [
      "\r",
      "Checking each project...:  36%|█████████████████████████▊                                             | 40/110 [07:14<06:03,  5.19s/it]"
     ]
    },
    {
     "name": "stderr",
     "output_type": "stream",
     "text": [
      "\r",
      "Checking each project...:  37%|██████████████████████████▍                                            | 41/110 [07:19<05:54,  5.14s/it]"
     ]
    },
    {
     "name": "stderr",
     "output_type": "stream",
     "text": [
      "\r",
      "Checking each project...:  38%|███████████████████████████                                            | 42/110 [07:24<05:55,  5.23s/it]"
     ]
    },
    {
     "name": "stderr",
     "output_type": "stream",
     "text": [
      "\r",
      "Checking each project...:  39%|███████████████████████████▊                                           | 43/110 [07:30<06:00,  5.39s/it]"
     ]
    },
    {
     "name": "stderr",
     "output_type": "stream",
     "text": [
      "\r",
      "Checking each project...:  40%|████████████████████████████▍                                          | 44/110 [07:36<05:58,  5.44s/it]"
     ]
    },
    {
     "name": "stderr",
     "output_type": "stream",
     "text": [
      "\r",
      "Checking each project...:  41%|█████████████████████████████                                          | 45/110 [07:41<05:48,  5.37s/it]"
     ]
    },
    {
     "name": "stderr",
     "output_type": "stream",
     "text": [
      "\r",
      "Checking each project...:  42%|█████████████████████████████▋                                         | 46/110 [07:46<05:37,  5.28s/it]"
     ]
    },
    {
     "name": "stderr",
     "output_type": "stream",
     "text": [
      "\r",
      "Checking each project...:  43%|██████████████████████████████▎                                        | 47/110 [07:54<06:27,  6.15s/it]"
     ]
    },
    {
     "name": "stderr",
     "output_type": "stream",
     "text": [
      "\r",
      "Checking each project...:  44%|██████████████████████████████▉                                        | 48/110 [08:00<06:24,  6.20s/it]"
     ]
    },
    {
     "name": "stderr",
     "output_type": "stream",
     "text": [
      "\r",
      "Checking each project...:  45%|███████████████████████████████▋                                       | 49/110 [08:06<06:01,  5.92s/it]"
     ]
    },
    {
     "name": "stderr",
     "output_type": "stream",
     "text": [
      "\r",
      "Checking each project...:  45%|████████████████████████████████▎                                      | 50/110 [08:15<06:48,  6.81s/it]"
     ]
    },
    {
     "name": "stderr",
     "output_type": "stream",
     "text": [
      "\r",
      "Checking each project...:  46%|████████████████████████████████▉                                      | 51/110 [08:20<06:11,  6.30s/it]"
     ]
    },
    {
     "name": "stderr",
     "output_type": "stream",
     "text": [
      "\r",
      "Checking each project...:  47%|█████████████████████████████████▌                                     | 52/110 [08:25<05:44,  5.93s/it]"
     ]
    },
    {
     "name": "stderr",
     "output_type": "stream",
     "text": [
      "\r",
      "Checking each project...:  48%|██████████████████████████████████▏                                    | 53/110 [08:30<05:24,  5.70s/it]"
     ]
    },
    {
     "name": "stderr",
     "output_type": "stream",
     "text": [
      "\r",
      "Checking each project...:  49%|██████████████████████████████████▊                                    | 54/110 [08:35<05:07,  5.50s/it]"
     ]
    },
    {
     "name": "stderr",
     "output_type": "stream",
     "text": [
      "\r",
      "Checking each project...:  50%|███████████████████████████████████▌                                   | 55/110 [08:40<04:52,  5.32s/it]"
     ]
    },
    {
     "name": "stderr",
     "output_type": "stream",
     "text": [
      "\r",
      "Checking each project...:  51%|████████████████████████████████████▏                                  | 56/110 [08:51<06:27,  7.18s/it]"
     ]
    },
    {
     "name": "stderr",
     "output_type": "stream",
     "text": [
      "\r",
      "Checking each project...:  52%|████████████████████████████████████▊                                  | 57/110 [08:56<05:45,  6.52s/it]"
     ]
    },
    {
     "name": "stderr",
     "output_type": "stream",
     "text": [
      "\r",
      "Checking each project...:  53%|█████████████████████████████████████▍                                 | 58/110 [09:02<05:32,  6.40s/it]"
     ]
    },
    {
     "name": "stderr",
     "output_type": "stream",
     "text": [
      "\r",
      "Checking each project...:  54%|██████████████████████████████████████                                 | 59/110 [09:08<05:18,  6.25s/it]"
     ]
    },
    {
     "name": "stderr",
     "output_type": "stream",
     "text": [
      "\r",
      "Checking each project...:  55%|██████████████████████████████████████▋                                | 60/110 [09:13<04:53,  5.86s/it]"
     ]
    },
    {
     "name": "stderr",
     "output_type": "stream",
     "text": [
      "\r",
      "Checking each project...:  55%|███████████████████████████████████████▎                               | 61/110 [09:19<04:45,  5.83s/it]"
     ]
    },
    {
     "name": "stderr",
     "output_type": "stream",
     "text": [
      "\r",
      "Checking each project...:  56%|████████████████████████████████████████                               | 62/110 [09:25<04:48,  6.00s/it]"
     ]
    },
    {
     "name": "stderr",
     "output_type": "stream",
     "text": [
      "\r",
      "Checking each project...:  57%|████████████████████████████████████████▋                              | 63/110 [09:30<04:27,  5.69s/it]"
     ]
    },
    {
     "name": "stderr",
     "output_type": "stream",
     "text": [
      "\r",
      "Checking each project...:  58%|█████████████████████████████████████████▎                             | 64/110 [09:35<04:06,  5.37s/it]"
     ]
    },
    {
     "name": "stderr",
     "output_type": "stream",
     "text": [
      "\r",
      "Checking each project...:  59%|█████████████████████████████████████████▉                             | 65/110 [09:40<03:55,  5.23s/it]"
     ]
    },
    {
     "name": "stderr",
     "output_type": "stream",
     "text": [
      "\r",
      "Checking each project...:  60%|██████████████████████████████████████████▌                            | 66/110 [09:45<03:46,  5.16s/it]"
     ]
    },
    {
     "name": "stderr",
     "output_type": "stream",
     "text": [
      "\r",
      "Checking each project...:  61%|███████████████████████████████████████████▏                           | 67/110 [09:50<03:42,  5.18s/it]"
     ]
    },
    {
     "name": "stderr",
     "output_type": "stream",
     "text": [
      "\r",
      "Checking each project...:  62%|███████████████████████████████████████████▉                           | 68/110 [09:57<04:00,  5.73s/it]"
     ]
    },
    {
     "name": "stderr",
     "output_type": "stream",
     "text": [
      "\r",
      "Checking each project...:  63%|████████████████████████████████████████████▌                          | 69/110 [10:02<03:44,  5.48s/it]"
     ]
    },
    {
     "name": "stderr",
     "output_type": "stream",
     "text": [
      "\r",
      "Checking each project...:  64%|█████████████████████████████████████████████▏                         | 70/110 [10:07<03:31,  5.30s/it]"
     ]
    },
    {
     "name": "stderr",
     "output_type": "stream",
     "text": [
      "\r",
      "Checking each project...:  65%|█████████████████████████████████████████████▊                         | 71/110 [10:15<03:55,  6.04s/it]"
     ]
    },
    {
     "name": "stderr",
     "output_type": "stream",
     "text": [
      "\r",
      "Checking each project...:  65%|██████████████████████████████████████████████▍                        | 72/110 [10:20<03:37,  5.72s/it]"
     ]
    },
    {
     "name": "stderr",
     "output_type": "stream",
     "text": [
      "\r",
      "Checking each project...:  66%|███████████████████████████████████████████████                        | 73/110 [10:25<03:30,  5.69s/it]"
     ]
    },
    {
     "name": "stderr",
     "output_type": "stream",
     "text": [
      "\r",
      "Checking each project...:  67%|███████████████████████████████████████████████▊                       | 74/110 [10:35<04:09,  6.94s/it]"
     ]
    },
    {
     "name": "stderr",
     "output_type": "stream",
     "text": [
      "\r",
      "Checking each project...:  68%|████████████████████████████████████████████████▍                      | 75/110 [10:40<03:40,  6.30s/it]"
     ]
    },
    {
     "name": "stderr",
     "output_type": "stream",
     "text": [
      "\r",
      "Checking each project...:  69%|█████████████████████████████████████████████████                      | 76/110 [10:45<03:21,  5.94s/it]"
     ]
    },
    {
     "name": "stderr",
     "output_type": "stream",
     "text": [
      "\r",
      "Checking each project...:  70%|█████████████████████████████████████████████████▋                     | 77/110 [10:51<03:13,  5.86s/it]"
     ]
    },
    {
     "name": "stderr",
     "output_type": "stream",
     "text": [
      "\r",
      "Checking each project...:  71%|██████████████████████████████████████████████████▎                    | 78/110 [10:56<03:00,  5.65s/it]"
     ]
    },
    {
     "name": "stderr",
     "output_type": "stream",
     "text": [
      "\r",
      "Checking each project...:  72%|██████████████████████████████████████████████████▉                    | 79/110 [11:01<02:50,  5.48s/it]"
     ]
    },
    {
     "name": "stderr",
     "output_type": "stream",
     "text": [
      "\r",
      "Checking each project...:  73%|███████████████████████████████████████████████████▋                   | 80/110 [11:09<03:07,  6.24s/it]"
     ]
    },
    {
     "name": "stderr",
     "output_type": "stream",
     "text": [
      "\r",
      "Checking each project...:  74%|████████████████████████████████████████████████████▎                  | 81/110 [11:14<02:50,  5.89s/it]"
     ]
    },
    {
     "name": "stderr",
     "output_type": "stream",
     "text": [
      "\r",
      "Checking each project...:  75%|████████████████████████████████████████████████████▉                  | 82/110 [11:23<03:08,  6.72s/it]"
     ]
    },
    {
     "name": "stderr",
     "output_type": "stream",
     "text": [
      "\r",
      "Checking each project...:  75%|█████████████████████████████████████████████████████▌                 | 83/110 [11:28<02:48,  6.23s/it]"
     ]
    },
    {
     "name": "stderr",
     "output_type": "stream",
     "text": [
      "\r",
      "Checking each project...:  76%|██████████████████████████████████████████████████████▏                | 84/110 [11:34<02:37,  6.06s/it]"
     ]
    },
    {
     "name": "stderr",
     "output_type": "stream",
     "text": [
      "\r",
      "Checking each project...:  77%|██████████████████████████████████████████████████████▊                | 85/110 [11:41<02:41,  6.47s/it]"
     ]
    },
    {
     "name": "stderr",
     "output_type": "stream",
     "text": [
      "\r",
      "Checking each project...:  78%|███████████████████████████████████████████████████████▌               | 86/110 [12:00<04:05, 10.21s/it]"
     ]
    },
    {
     "name": "stderr",
     "output_type": "stream",
     "text": [
      "\r",
      "Checking each project...:  79%|████████████████████████████████████████████████████████▏              | 87/110 [12:25<05:39, 14.75s/it]"
     ]
    },
    {
     "name": "stderr",
     "output_type": "stream",
     "text": [
      "\r",
      "Checking each project...:  80%|████████████████████████████████████████████████████████▊              | 88/110 [12:31<04:28, 12.20s/it]"
     ]
    },
    {
     "name": "stderr",
     "output_type": "stream",
     "text": [
      "\r",
      "Checking each project...:  81%|█████████████████████████████████████████████████████████▍             | 89/110 [12:40<03:56, 11.24s/it]"
     ]
    },
    {
     "name": "stderr",
     "output_type": "stream",
     "text": [
      "\r",
      "Checking each project...:  82%|██████████████████████████████████████████████████████████             | 90/110 [12:49<03:27, 10.37s/it]"
     ]
    },
    {
     "name": "stderr",
     "output_type": "stream",
     "text": [
      "\r",
      "Checking each project...:  83%|██████████████████████████████████████████████████████████▋            | 91/110 [12:57<03:05,  9.74s/it]"
     ]
    },
    {
     "name": "stderr",
     "output_type": "stream",
     "text": [
      "\r",
      "Checking each project...:  84%|███████████████████████████████████████████████████████████▍           | 92/110 [13:03<02:33,  8.52s/it]"
     ]
    },
    {
     "name": "stderr",
     "output_type": "stream",
     "text": [
      "\r",
      "Checking each project...:  85%|████████████████████████████████████████████████████████████           | 93/110 [13:10<02:20,  8.28s/it]"
     ]
    },
    {
     "name": "stderr",
     "output_type": "stream",
     "text": [
      "\r",
      "Checking each project...:  85%|████████████████████████████████████████████████████████████▋          | 94/110 [13:19<02:12,  8.30s/it]"
     ]
    },
    {
     "name": "stderr",
     "output_type": "stream",
     "text": [
      "\r",
      "Checking each project...:  86%|█████████████████████████████████████████████████████████████▎         | 95/110 [13:26<01:57,  7.85s/it]"
     ]
    },
    {
     "name": "stderr",
     "output_type": "stream",
     "text": [
      "\r",
      "Checking each project...:  87%|█████████████████████████████████████████████████████████████▉         | 96/110 [13:32<01:42,  7.35s/it]"
     ]
    },
    {
     "name": "stderr",
     "output_type": "stream",
     "text": [
      "\r",
      "Checking each project...:  88%|██████████████████████████████████████████████████████████████▌        | 97/110 [13:42<01:45,  8.12s/it]"
     ]
    },
    {
     "name": "stderr",
     "output_type": "stream",
     "text": [
      "\r",
      "Checking each project...:  89%|███████████████████████████████████████████████████████████████▎       | 98/110 [13:49<01:34,  7.88s/it]"
     ]
    },
    {
     "name": "stderr",
     "output_type": "stream",
     "text": [
      "\r",
      "Checking each project...:  90%|███████████████████████████████████████████████████████████████▉       | 99/110 [13:56<01:25,  7.74s/it]"
     ]
    },
    {
     "name": "stderr",
     "output_type": "stream",
     "text": [
      "\r",
      "Checking each project...:  91%|███████████████████████████████████████████████████████████████▋      | 100/110 [14:07<01:25,  8.57s/it]"
     ]
    },
    {
     "name": "stderr",
     "output_type": "stream",
     "text": [
      "\r",
      "Checking each project...:  92%|████████████████████████████████████████████████████████████████▎     | 101/110 [14:16<01:19,  8.82s/it]"
     ]
    },
    {
     "name": "stderr",
     "output_type": "stream",
     "text": [
      "\r",
      "Checking each project...:  93%|████████████████████████████████████████████████████████████████▉     | 102/110 [14:29<01:19,  9.89s/it]"
     ]
    },
    {
     "name": "stderr",
     "output_type": "stream",
     "text": [
      "\r",
      "Checking each project...:  94%|█████████████████████████████████████████████████████████████████▌    | 103/110 [14:37<01:05,  9.41s/it]"
     ]
    },
    {
     "name": "stderr",
     "output_type": "stream",
     "text": [
      "\r",
      "Checking each project...:  95%|██████████████████████████████████████████████████████████████████▏   | 104/110 [14:44<00:52,  8.78s/it]"
     ]
    },
    {
     "name": "stderr",
     "output_type": "stream",
     "text": [
      "\r",
      "Checking each project...:  95%|██████████████████████████████████████████████████████████████████▊   | 105/110 [14:50<00:39,  7.83s/it]"
     ]
    },
    {
     "name": "stderr",
     "output_type": "stream",
     "text": [
      "\r",
      "Checking each project...:  96%|███████████████████████████████████████████████████████████████████▍  | 106/110 [14:56<00:29,  7.42s/it]"
     ]
    },
    {
     "name": "stderr",
     "output_type": "stream",
     "text": [
      "\r",
      "Checking each project...:  97%|████████████████████████████████████████████████████████████████████  | 107/110 [15:05<00:22,  7.61s/it]"
     ]
    },
    {
     "name": "stderr",
     "output_type": "stream",
     "text": [
      "\r",
      "Checking each project...:  98%|████████████████████████████████████████████████████████████████████▋ | 108/110 [15:10<00:14,  7.10s/it]"
     ]
    },
    {
     "name": "stderr",
     "output_type": "stream",
     "text": [
      "\r",
      "Checking each project...:  99%|█████████████████████████████████████████████████████████████████████▎| 109/110 [15:15<00:06,  6.44s/it]"
     ]
    },
    {
     "name": "stderr",
     "output_type": "stream",
     "text": [
      "\r",
      "Checking each project...: 100%|██████████████████████████████████████████████████████████████████████| 110/110 [15:20<00:00,  6.00s/it]"
     ]
    },
    {
     "name": "stderr",
     "output_type": "stream",
     "text": [
      "\r",
      "Checking each project...: 100%|██████████████████████████████████████████████████████████████████████| 110/110 [15:20<00:00,  8.37s/it]"
     ]
    },
    {
     "name": "stderr",
     "output_type": "stream",
     "text": [
      "\n"
     ]
    },
    {
     "name": "stdout",
     "output_type": "stream",
     "text": [
      "✅ Results saved to projets_UKRI_with_keywords.xlsx\n"
     ]
    }
   ],
   "source": [
    "from selenium import webdriver\n",
    "from selenium.webdriver.chrome.options import Options\n",
    "from selenium.webdriver.common.by import By\n",
    "import time\n",
    "import pandas as pd\n",
    "from tqdm import tqdm\n",
    "\n",
    "\n",
    "# === Configure headless browser ===\n",
    "options = Options()\n",
    "options.add_argument(\"--headless\")\n",
    "options.add_argument(\"--disable-gpu\")\n",
    "options.add_argument(\"--window-size=1920,1080\")\n",
    "\n",
    "driver = webdriver.Chrome(options=options)\n",
    "\n",
    "# === Initialize results ===\n",
    "pertinence_list = []\n",
    "keywords_list = []\n",
    "\n",
    "# === Loop through all project URLs ===\n",
    "for url in tqdm(df[\"URL\"], desc=\"Checking each project...\"):\n",
    "    try:\n",
    "        driver.get(url)\n",
    "        time.sleep(3)\n",
    "\n",
    "        # Try to open all accordion sections if present\n",
    "        try:\n",
    "            open_all_btn = driver.find_element(By.CLASS_NAME, \"govuk-accordion__open-all\")\n",
    "            open_all_btn.click()\n",
    "            time.sleep(1)\n",
    "        except:\n",
    "            pass  # No button or already opened\n",
    "\n",
    "        # Try to find the accordion text\n",
    "        try:\n",
    "            accordion_div = driver.find_element(By.CSS_SELECTOR, \".govuk-accordion.ukri-accordion\")\n",
    "            accordion_text = accordion_div.text\n",
    "        except:\n",
    "            accordion_text = \"\"\n",
    "\n",
    "        matched_keywords = [kw for kw in all_keywords_text if kw.lower() in accordion_text.lower()]\n",
    "        pertinence = \"Yes\" if matched_keywords else \"No\"\n",
    "\n",
    "    except Exception as e:\n",
    "        print(f\"Error with URL: {url} — {e}\")\n",
    "        matched_keywords = []\n",
    "        pertinence = \"No\"\n",
    "\n",
    "    # Store results\n",
    "    pertinence_list.append(pertinence)\n",
    "    keywords_list.append(\", \".join(matched_keywords))\n",
    "\n",
    "# === Add results to DataFrame ===\n",
    "df[\"Pertinence\"] = pertinence_list\n",
    "df[\"Matching Word(s)\"] = keywords_list\n",
    "\n",
    "# === Save to Excel ===\n",
    "df.to_excel(\"projets_UKRI_with_keywords.xlsx\", index=False)\n",
    "print(\"✅ Results saved to projets_UKRI_with_keywords.xlsx\")\n",
    "\n",
    "# === Close browser ===\n",
    "driver.quit()\n"
   ]
  },
  {
   "cell_type": "code",
   "execution_count": 6,
   "id": "ff38feea",
   "metadata": {
    "execution": {
     "iopub.execute_input": "2025-07-14T17:45:48.865891Z",
     "iopub.status.busy": "2025-07-14T17:45:48.864942Z",
     "iopub.status.idle": "2025-07-14T17:45:48.886274Z",
     "shell.execute_reply": "2025-07-14T17:45:48.885268Z"
    }
   },
   "outputs": [
    {
     "data": {
      "text/html": [
       "<div>\n",
       "<style scoped>\n",
       "    .dataframe tbody tr th:only-of-type {\n",
       "        vertical-align: middle;\n",
       "    }\n",
       "\n",
       "    .dataframe tbody tr th {\n",
       "        vertical-align: top;\n",
       "    }\n",
       "\n",
       "    .dataframe thead th {\n",
       "        text-align: right;\n",
       "    }\n",
       "</style>\n",
       "<table border=\"1\" class=\"dataframe\">\n",
       "  <thead>\n",
       "    <tr style=\"text-align: right;\">\n",
       "      <th></th>\n",
       "      <th>Title</th>\n",
       "      <th>URL</th>\n",
       "      <th>Description</th>\n",
       "      <th>Start_date</th>\n",
       "      <th>Deadline</th>\n",
       "      <th>Pertinence</th>\n",
       "      <th>Matching Word(s)</th>\n",
       "    </tr>\n",
       "  </thead>\n",
       "  <tbody>\n",
       "    <tr>\n",
       "      <th>0</th>\n",
       "      <td>Innovate UK innovation loans round 22</td>\n",
       "      <td>https://www.ukri.org/opportunity/innovate-uk-innovation-loans-round-22/</td>\n",
       "      <td>UK registered businesses can apply for loans for close to market innovative projects with strong commercial potential. They must significantly improve the UK economy and drive societal benefit.</td>\n",
       "      <td>10 July 2025</td>\n",
       "      <td>27 August 2025 11:00am UK time</td>\n",
       "      <td>No</td>\n",
       "      <td></td>\n",
       "    </tr>\n",
       "    <tr>\n",
       "      <th>1</th>\n",
       "      <td>Contracts for Innovation: resource efficient chemicals impacts</td>\n",
       "      <td>https://www.ukri.org/opportunity/contracts-for-innovation-resource-efficient-chemicals-impacts/</td>\n",
       "      <td>Organisations can apply for a share of up to £3 million, inclusive of VAT, to develop the impact validation of a demonstrated resource efficiency solution.</td>\n",
       "      <td>14 July 2025 9:30am UK time</td>\n",
       "      <td>27 August 2025 11:00am UK time</td>\n",
       "      <td>No</td>\n",
       "      <td></td>\n",
       "    </tr>\n",
       "    <tr>\n",
       "      <th>2</th>\n",
       "      <td>Funding for core summer schools in 2026</td>\n",
       "      <td>https://www.ukri.org/opportunity/funding-for-core-summer-schools-in-2026/</td>\n",
       "      <td>Apply for funding under the STFC Funding Support for Core Summer Schools scheme for events taking place in 2026.</td>\n",
       "      <td>14 July 2025 9:00am UK time</td>\n",
       "      <td>14 October 2025 5:00pm UK time</td>\n",
       "      <td>No</td>\n",
       "      <td></td>\n",
       "    </tr>\n",
       "    <tr>\n",
       "      <th>3</th>\n",
       "      <td>Smart Data Research UK Fellowships</td>\n",
       "      <td>https://www.ukri.org/opportunity/smart-data-research-uk-fellowships/</td>\n",
       "      <td>Apply for a fellowship to undertake innovative and impact-focused research using smart data. Projects should address a significant real-world challenge which is relevant to the UK.</td>\n",
       "      <td>15 July 2025 9:00am UK time</td>\n",
       "      <td>23 September 2025 4:00pm UK time</td>\n",
       "      <td>Yes</td>\n",
       "      <td>capacity building, artificial intelligence, economic impact</td>\n",
       "    </tr>\n",
       "    <tr>\n",
       "      <th>4</th>\n",
       "      <td>Institutional diversity fund (invite only)</td>\n",
       "      <td>https://www.ukri.org/opportunity/institutional-diversity-fund-invite-only/</td>\n",
       "      <td>The purpose of this opportunity is to provide strategic research infrastructure base funding, supporting independent research organisations to support the diverse social science ecosystem in the UK.</td>\n",
       "      <td>21 July 2025 9:00am UK time</td>\n",
       "      <td>16 September 2025 4:00pm UK time</td>\n",
       "      <td>Yes</td>\n",
       "      <td>artificial intelligence</td>\n",
       "    </tr>\n",
       "    <tr>\n",
       "      <th>...</th>\n",
       "      <td>...</td>\n",
       "      <td>...</td>\n",
       "      <td>...</td>\n",
       "      <td>...</td>\n",
       "      <td>...</td>\n",
       "      <td>...</td>\n",
       "      <td>...</td>\n",
       "    </tr>\n",
       "    <tr>\n",
       "      <th>105</th>\n",
       "      <td>PATT travel claim for competitively awarded observation time</td>\n",
       "      <td>https://www.ukri.org/opportunity/patt-travel-claim-for-competitively-awarded-observation-time/</td>\n",
       "      <td>Claim back travel and subsistence costs when visiting an astronomy telescope. The visit must be for competitively awarded science observation time.</td>\n",
       "      <td>1 January 2021</td>\n",
       "      <td>Date de clôture non spécifiée</td>\n",
       "      <td>No</td>\n",
       "      <td></td>\n",
       "    </tr>\n",
       "    <tr>\n",
       "      <th>106</th>\n",
       "      <td>Collaborate with researchers in Brazil</td>\n",
       "      <td>https://www.ukri.org/opportunity/collaborate-with-researchers-in-brazil/</td>\n",
       "      <td>UK Research and Innovation (UKRI) and FAPESP’s lead agency agreement allows UKRI to assess joint applications from eligible UK and Brazil-based researchers from the state of São Paulo on behalf of both organisations.</td>\n",
       "      <td>Date d'ouverture non spécifiée</td>\n",
       "      <td>Date de clôture non spécifiée</td>\n",
       "      <td>Yes</td>\n",
       "      <td>intellectual property, research results</td>\n",
       "    </tr>\n",
       "    <tr>\n",
       "      <th>107</th>\n",
       "      <td>UKRI-SBE lead agency opportunity</td>\n",
       "      <td>https://www.ukri.org/opportunity/ukri-sbe-lead-agency-opportunity/</td>\n",
       "      <td>The UKRI-SBE lead agency opportunity allows UK and US-based researchers to submit a collaborative proposal that will go through a single review process. Grants are funded through existing funding programmes at the relevant lead agency.</td>\n",
       "      <td>Date d'ouverture non spécifiée</td>\n",
       "      <td>Date de clôture non spécifiée</td>\n",
       "      <td>Yes</td>\n",
       "      <td>biotechnology</td>\n",
       "    </tr>\n",
       "    <tr>\n",
       "      <th>108</th>\n",
       "      <td>Institutional strategic developmental projects in higher education</td>\n",
       "      <td>https://www.ukri.org/opportunity/research-england-development-fund/</td>\n",
       "      <td>Apply for funding to develop institutional-level innovations in research and knowledge exchange.</td>\n",
       "      <td>Date d'ouverture non spécifiée</td>\n",
       "      <td>Date de clôture non spécifiée</td>\n",
       "      <td>Yes</td>\n",
       "      <td>capacity building, social innovation</td>\n",
       "    </tr>\n",
       "    <tr>\n",
       "      <th>109</th>\n",
       "      <td>Daphne Jackson fellowship</td>\n",
       "      <td>https://www.ukri.org/opportunity/daphne-jackson-fellowship/</td>\n",
       "      <td>These fellowships are for those looking to return to a research career after a break. Fellowships combine a personalised retraining programme with a challenging research project. They are flexible, usually lasting two years at 0.5 full-time equivalent, although some UKRI funders may award longer.</td>\n",
       "      <td>Date d'ouverture non spécifiée</td>\n",
       "      <td>Date de clôture non spécifiée</td>\n",
       "      <td>Yes</td>\n",
       "      <td>economic development</td>\n",
       "    </tr>\n",
       "  </tbody>\n",
       "</table>\n",
       "<p>110 rows × 7 columns</p>\n",
       "</div>"
      ],
      "text/plain": [
       "                                                                  Title  \\\n",
       "0                                 Innovate UK innovation loans round 22   \n",
       "1        Contracts for Innovation: resource efficient chemicals impacts   \n",
       "2                               Funding for core summer schools in 2026   \n",
       "3                                    Smart Data Research UK Fellowships   \n",
       "4                            Institutional diversity fund (invite only)   \n",
       "..                                                                  ...   \n",
       "105        PATT travel claim for competitively awarded observation time   \n",
       "106                              Collaborate with researchers in Brazil   \n",
       "107                                    UKRI-SBE lead agency opportunity   \n",
       "108  Institutional strategic developmental projects in higher education   \n",
       "109                                           Daphne Jackson fellowship   \n",
       "\n",
       "                                                                                                 URL  \\\n",
       "0                            https://www.ukri.org/opportunity/innovate-uk-innovation-loans-round-22/   \n",
       "1    https://www.ukri.org/opportunity/contracts-for-innovation-resource-efficient-chemicals-impacts/   \n",
       "2                          https://www.ukri.org/opportunity/funding-for-core-summer-schools-in-2026/   \n",
       "3                               https://www.ukri.org/opportunity/smart-data-research-uk-fellowships/   \n",
       "4                         https://www.ukri.org/opportunity/institutional-diversity-fund-invite-only/   \n",
       "..                                                                                               ...   \n",
       "105   https://www.ukri.org/opportunity/patt-travel-claim-for-competitively-awarded-observation-time/   \n",
       "106                         https://www.ukri.org/opportunity/collaborate-with-researchers-in-brazil/   \n",
       "107                               https://www.ukri.org/opportunity/ukri-sbe-lead-agency-opportunity/   \n",
       "108                              https://www.ukri.org/opportunity/research-england-development-fund/   \n",
       "109                                      https://www.ukri.org/opportunity/daphne-jackson-fellowship/   \n",
       "\n",
       "                                                                                                                                                                                                                                                                                                   Description  \\\n",
       "0                                                                                                            UK registered businesses can apply for loans for close to market innovative projects with strong commercial potential. They must significantly improve the UK economy and drive societal benefit.   \n",
       "1                                                                                                                                                  Organisations can apply for a share of up to £3 million, inclusive of VAT, to develop the impact validation of a demonstrated resource efficiency solution.   \n",
       "2                                                                                                                                                                                             Apply for funding under the STFC Funding Support for Core Summer Schools scheme for events taking place in 2026.   \n",
       "3                                                                                                                         Apply for a fellowship to undertake innovative and impact-focused research using smart data. Projects should address a significant real-world challenge which is relevant to the UK.   \n",
       "4                                                                                                       The purpose of this opportunity is to provide strategic research infrastructure base funding, supporting independent research organisations to support the diverse social science ecosystem in the UK.   \n",
       "..                                                                                                                                                                                                                                                                                                         ...   \n",
       "105                                                                                                                                                        Claim back travel and subsistence costs when visiting an astronomy telescope. The visit must be for competitively awarded science observation time.   \n",
       "106                                                                                   UK Research and Innovation (UKRI) and FAPESP’s lead agency agreement allows UKRI to assess joint applications from eligible UK and Brazil-based researchers from the state of São Paulo on behalf of both organisations.   \n",
       "107                                                                The UKRI-SBE lead agency opportunity allows UK and US-based researchers to submit a collaborative proposal that will go through a single review process. Grants are funded through existing funding programmes at the relevant lead agency.   \n",
       "108                                                                                                                                                                                                           Apply for funding to develop institutional-level innovations in research and knowledge exchange.   \n",
       "109  These fellowships are for those looking to return to a research career after a break. Fellowships combine a personalised retraining programme with a challenging research project. They are flexible, usually lasting two years at 0.5 full-time equivalent, although some UKRI funders may award longer.   \n",
       "\n",
       "                         Start_date                          Deadline  \\\n",
       "0                      10 July 2025    27 August 2025 11:00am UK time   \n",
       "1       14 July 2025 9:30am UK time    27 August 2025 11:00am UK time   \n",
       "2       14 July 2025 9:00am UK time    14 October 2025 5:00pm UK time   \n",
       "3       15 July 2025 9:00am UK time  23 September 2025 4:00pm UK time   \n",
       "4       21 July 2025 9:00am UK time  16 September 2025 4:00pm UK time   \n",
       "..                              ...                               ...   \n",
       "105                  1 January 2021     Date de clôture non spécifiée   \n",
       "106  Date d'ouverture non spécifiée     Date de clôture non spécifiée   \n",
       "107  Date d'ouverture non spécifiée     Date de clôture non spécifiée   \n",
       "108  Date d'ouverture non spécifiée     Date de clôture non spécifiée   \n",
       "109  Date d'ouverture non spécifiée     Date de clôture non spécifiée   \n",
       "\n",
       "    Pertinence                                             Matching Word(s)  \n",
       "0           No                                                               \n",
       "1           No                                                               \n",
       "2           No                                                               \n",
       "3          Yes  capacity building, artificial intelligence, economic impact  \n",
       "4          Yes                                      artificial intelligence  \n",
       "..         ...                                                          ...  \n",
       "105         No                                                               \n",
       "106        Yes                      intellectual property, research results  \n",
       "107        Yes                                                biotechnology  \n",
       "108        Yes                         capacity building, social innovation  \n",
       "109        Yes                                         economic development  \n",
       "\n",
       "[110 rows x 7 columns]"
      ]
     },
     "execution_count": 6,
     "metadata": {},
     "output_type": "execute_result"
    }
   ],
   "source": [
    "df"
   ]
  },
  {
   "cell_type": "code",
   "execution_count": 7,
   "id": "fd5866fc",
   "metadata": {
    "execution": {
     "iopub.execute_input": "2025-07-14T17:45:48.892256Z",
     "iopub.status.busy": "2025-07-14T17:45:48.891256Z",
     "iopub.status.idle": "2025-07-14T17:45:48.905143Z",
     "shell.execute_reply": "2025-07-14T17:45:48.905143Z"
    }
   },
   "outputs": [
    {
     "data": {
      "text/html": [
       "<div>\n",
       "<style scoped>\n",
       "    .dataframe tbody tr th:only-of-type {\n",
       "        vertical-align: middle;\n",
       "    }\n",
       "\n",
       "    .dataframe tbody tr th {\n",
       "        vertical-align: top;\n",
       "    }\n",
       "\n",
       "    .dataframe thead th {\n",
       "        text-align: right;\n",
       "    }\n",
       "</style>\n",
       "<table border=\"1\" class=\"dataframe\">\n",
       "  <thead>\n",
       "    <tr style=\"text-align: right;\">\n",
       "      <th></th>\n",
       "      <th>Title</th>\n",
       "      <th>URL</th>\n",
       "      <th>Description</th>\n",
       "      <th>Start_date</th>\n",
       "      <th>Deadline</th>\n",
       "      <th>Pertinence</th>\n",
       "      <th>Matching Word(s)</th>\n",
       "    </tr>\n",
       "  </thead>\n",
       "  <tbody>\n",
       "    <tr>\n",
       "      <th>3</th>\n",
       "      <td>Smart Data Research UK Fellowships</td>\n",
       "      <td>https://www.ukri.org/opportunity/smart-data-research-uk-fellowships/</td>\n",
       "      <td>Apply for a fellowship to undertake innovative and impact-focused research using smart data. Projects should address a significant real-world challenge which is relevant to the UK.</td>\n",
       "      <td>15 July 2025 9:00am UK time</td>\n",
       "      <td>23 September 2025 4:00pm UK time</td>\n",
       "      <td>Yes</td>\n",
       "      <td>capacity building, artificial intelligence, economic impact</td>\n",
       "    </tr>\n",
       "    <tr>\n",
       "      <th>4</th>\n",
       "      <td>Institutional diversity fund (invite only)</td>\n",
       "      <td>https://www.ukri.org/opportunity/institutional-diversity-fund-invite-only/</td>\n",
       "      <td>The purpose of this opportunity is to provide strategic research infrastructure base funding, supporting independent research organisations to support the diverse social science ecosystem in the UK.</td>\n",
       "      <td>21 July 2025 9:00am UK time</td>\n",
       "      <td>16 September 2025 4:00pm UK time</td>\n",
       "      <td>Yes</td>\n",
       "      <td>artificial intelligence</td>\n",
       "    </tr>\n",
       "    <tr>\n",
       "      <th>6</th>\n",
       "      <td>Gap fund for early-stage development of new healthcare interventions</td>\n",
       "      <td>https://www.ukri.org/opportunity/funding-for-early-stage-development-of-new-healthcare-interventions/</td>\n",
       "      <td>Apply to the Developmental Pathway Gap Fund to address a single-step evidence gap and de-risk the development of a new medicine, medical device, diagnostic test or other medical intervention.</td>\n",
       "      <td>10 July 2025 9:00am UK time</td>\n",
       "      <td>12 November 2025 4:00pm UK time</td>\n",
       "      <td>Yes</td>\n",
       "      <td>due diligence, development strategy, technology transfer, intellectual property, service delivery, artificial intelligence, applied research</td>\n",
       "    </tr>\n",
       "    <tr>\n",
       "      <th>8</th>\n",
       "      <td>Digitise UK natural science collections</td>\n",
       "      <td>https://www.ukri.org/opportunity/digitise-uk-natural-science-collections/</td>\n",
       "      <td>Apply for funding to establish a Digitisation Hub for Natural Science Collections as part of the Distributed System of Scientific Collections (DiSSCo) UK programme.</td>\n",
       "      <td>8 July 2025 9:00am UK time</td>\n",
       "      <td>16 September 2025 4:00pm UK time</td>\n",
       "      <td>Yes</td>\n",
       "      <td>capacity building, project management, due diligence, artificial intelligence</td>\n",
       "    </tr>\n",
       "    <tr>\n",
       "      <th>11</th>\n",
       "      <td>Aviation’s non-CO2 Impacts on the Climate: programme coordinator</td>\n",
       "      <td>https://www.ukri.org/opportunity/aviations-non-co2-impacts-on-the-climate-programme-coordinator/</td>\n",
       "      <td>Apply for funding to become the programme coordinator for the Aviation’s non-CO2 Impacts on the Climate programme.</td>\n",
       "      <td>11 July 2025 9:00am UK time</td>\n",
       "      <td>18 September 2025 4:00pm UK time</td>\n",
       "      <td>Yes</td>\n",
       "      <td>due diligence, monitoring and evaluation, stakeholder mapping, artificial intelligence, applied research</td>\n",
       "    </tr>\n",
       "    <tr>\n",
       "      <th>...</th>\n",
       "      <td>...</td>\n",
       "      <td>...</td>\n",
       "      <td>...</td>\n",
       "      <td>...</td>\n",
       "      <td>...</td>\n",
       "      <td>...</td>\n",
       "      <td>...</td>\n",
       "    </tr>\n",
       "    <tr>\n",
       "      <th>104</th>\n",
       "      <td>Work with Brazilian researchers: NERC FAPESP lead agency</td>\n",
       "      <td>https://www.ukri.org/opportunity/work-with-brazilian-researchers-nerc-fapesp-lead-agency/</td>\n",
       "      <td>This opportunity allows UK-based researchers and researchers in the State of São Paulo, Brazil to submit a collaborative application under existing NERC funding opportunities. This will go through a single review process.</td>\n",
       "      <td>Date d'ouverture non spécifiée</td>\n",
       "      <td>Date de clôture non spécifiée</td>\n",
       "      <td>Yes</td>\n",
       "      <td>intellectual property, research results</td>\n",
       "    </tr>\n",
       "    <tr>\n",
       "      <th>106</th>\n",
       "      <td>Collaborate with researchers in Brazil</td>\n",
       "      <td>https://www.ukri.org/opportunity/collaborate-with-researchers-in-brazil/</td>\n",
       "      <td>UK Research and Innovation (UKRI) and FAPESP’s lead agency agreement allows UKRI to assess joint applications from eligible UK and Brazil-based researchers from the state of São Paulo on behalf of both organisations.</td>\n",
       "      <td>Date d'ouverture non spécifiée</td>\n",
       "      <td>Date de clôture non spécifiée</td>\n",
       "      <td>Yes</td>\n",
       "      <td>intellectual property, research results</td>\n",
       "    </tr>\n",
       "    <tr>\n",
       "      <th>107</th>\n",
       "      <td>UKRI-SBE lead agency opportunity</td>\n",
       "      <td>https://www.ukri.org/opportunity/ukri-sbe-lead-agency-opportunity/</td>\n",
       "      <td>The UKRI-SBE lead agency opportunity allows UK and US-based researchers to submit a collaborative proposal that will go through a single review process. Grants are funded through existing funding programmes at the relevant lead agency.</td>\n",
       "      <td>Date d'ouverture non spécifiée</td>\n",
       "      <td>Date de clôture non spécifiée</td>\n",
       "      <td>Yes</td>\n",
       "      <td>biotechnology</td>\n",
       "    </tr>\n",
       "    <tr>\n",
       "      <th>108</th>\n",
       "      <td>Institutional strategic developmental projects in higher education</td>\n",
       "      <td>https://www.ukri.org/opportunity/research-england-development-fund/</td>\n",
       "      <td>Apply for funding to develop institutional-level innovations in research and knowledge exchange.</td>\n",
       "      <td>Date d'ouverture non spécifiée</td>\n",
       "      <td>Date de clôture non spécifiée</td>\n",
       "      <td>Yes</td>\n",
       "      <td>capacity building, social innovation</td>\n",
       "    </tr>\n",
       "    <tr>\n",
       "      <th>109</th>\n",
       "      <td>Daphne Jackson fellowship</td>\n",
       "      <td>https://www.ukri.org/opportunity/daphne-jackson-fellowship/</td>\n",
       "      <td>These fellowships are for those looking to return to a research career after a break. Fellowships combine a personalised retraining programme with a challenging research project. They are flexible, usually lasting two years at 0.5 full-time equivalent, although some UKRI funders may award longer.</td>\n",
       "      <td>Date d'ouverture non spécifiée</td>\n",
       "      <td>Date de clôture non spécifiée</td>\n",
       "      <td>Yes</td>\n",
       "      <td>economic development</td>\n",
       "    </tr>\n",
       "  </tbody>\n",
       "</table>\n",
       "<p>90 rows × 7 columns</p>\n",
       "</div>"
      ],
      "text/plain": [
       "                                                                    Title  \\\n",
       "3                                      Smart Data Research UK Fellowships   \n",
       "4                              Institutional diversity fund (invite only)   \n",
       "6    Gap fund for early-stage development of new healthcare interventions   \n",
       "8                                 Digitise UK natural science collections   \n",
       "11       Aviation’s non-CO2 Impacts on the Climate: programme coordinator   \n",
       "..                                                                    ...   \n",
       "104              Work with Brazilian researchers: NERC FAPESP lead agency   \n",
       "106                                Collaborate with researchers in Brazil   \n",
       "107                                      UKRI-SBE lead agency opportunity   \n",
       "108    Institutional strategic developmental projects in higher education   \n",
       "109                                             Daphne Jackson fellowship   \n",
       "\n",
       "                                                                                                       URL  \\\n",
       "3                                     https://www.ukri.org/opportunity/smart-data-research-uk-fellowships/   \n",
       "4                               https://www.ukri.org/opportunity/institutional-diversity-fund-invite-only/   \n",
       "6    https://www.ukri.org/opportunity/funding-for-early-stage-development-of-new-healthcare-interventions/   \n",
       "8                                https://www.ukri.org/opportunity/digitise-uk-natural-science-collections/   \n",
       "11        https://www.ukri.org/opportunity/aviations-non-co2-impacts-on-the-climate-programme-coordinator/   \n",
       "..                                                                                                     ...   \n",
       "104              https://www.ukri.org/opportunity/work-with-brazilian-researchers-nerc-fapesp-lead-agency/   \n",
       "106                               https://www.ukri.org/opportunity/collaborate-with-researchers-in-brazil/   \n",
       "107                                     https://www.ukri.org/opportunity/ukri-sbe-lead-agency-opportunity/   \n",
       "108                                    https://www.ukri.org/opportunity/research-england-development-fund/   \n",
       "109                                            https://www.ukri.org/opportunity/daphne-jackson-fellowship/   \n",
       "\n",
       "                                                                                                                                                                                                                                                                                                   Description  \\\n",
       "3                                                                                                                         Apply for a fellowship to undertake innovative and impact-focused research using smart data. Projects should address a significant real-world challenge which is relevant to the UK.   \n",
       "4                                                                                                       The purpose of this opportunity is to provide strategic research infrastructure base funding, supporting independent research organisations to support the diverse social science ecosystem in the UK.   \n",
       "6                                                                                                              Apply to the Developmental Pathway Gap Fund to address a single-step evidence gap and de-risk the development of a new medicine, medical device, diagnostic test or other medical intervention.   \n",
       "8                                                                                                                                         Apply for funding to establish a Digitisation Hub for Natural Science Collections as part of the Distributed System of Scientific Collections (DiSSCo) UK programme.   \n",
       "11                                                                                                                                                                                          Apply for funding to become the programme coordinator for the Aviation’s non-CO2 Impacts on the Climate programme.   \n",
       "..                                                                                                                                                                                                                                                                                                         ...   \n",
       "104                                                                              This opportunity allows UK-based researchers and researchers in the State of São Paulo, Brazil to submit a collaborative application under existing NERC funding opportunities. This will go through a single review process.   \n",
       "106                                                                                   UK Research and Innovation (UKRI) and FAPESP’s lead agency agreement allows UKRI to assess joint applications from eligible UK and Brazil-based researchers from the state of São Paulo on behalf of both organisations.   \n",
       "107                                                                The UKRI-SBE lead agency opportunity allows UK and US-based researchers to submit a collaborative proposal that will go through a single review process. Grants are funded through existing funding programmes at the relevant lead agency.   \n",
       "108                                                                                                                                                                                                           Apply for funding to develop institutional-level innovations in research and knowledge exchange.   \n",
       "109  These fellowships are for those looking to return to a research career after a break. Fellowships combine a personalised retraining programme with a challenging research project. They are flexible, usually lasting two years at 0.5 full-time equivalent, although some UKRI funders may award longer.   \n",
       "\n",
       "                         Start_date                          Deadline  \\\n",
       "3       15 July 2025 9:00am UK time  23 September 2025 4:00pm UK time   \n",
       "4       21 July 2025 9:00am UK time  16 September 2025 4:00pm UK time   \n",
       "6       10 July 2025 9:00am UK time   12 November 2025 4:00pm UK time   \n",
       "8        8 July 2025 9:00am UK time  16 September 2025 4:00pm UK time   \n",
       "11      11 July 2025 9:00am UK time  18 September 2025 4:00pm UK time   \n",
       "..                              ...                               ...   \n",
       "104  Date d'ouverture non spécifiée     Date de clôture non spécifiée   \n",
       "106  Date d'ouverture non spécifiée     Date de clôture non spécifiée   \n",
       "107  Date d'ouverture non spécifiée     Date de clôture non spécifiée   \n",
       "108  Date d'ouverture non spécifiée     Date de clôture non spécifiée   \n",
       "109  Date d'ouverture non spécifiée     Date de clôture non spécifiée   \n",
       "\n",
       "    Pertinence  \\\n",
       "3          Yes   \n",
       "4          Yes   \n",
       "6          Yes   \n",
       "8          Yes   \n",
       "11         Yes   \n",
       "..         ...   \n",
       "104        Yes   \n",
       "106        Yes   \n",
       "107        Yes   \n",
       "108        Yes   \n",
       "109        Yes   \n",
       "\n",
       "                                                                                                                                 Matching Word(s)  \n",
       "3                                                                                     capacity building, artificial intelligence, economic impact  \n",
       "4                                                                                                                         artificial intelligence  \n",
       "6    due diligence, development strategy, technology transfer, intellectual property, service delivery, artificial intelligence, applied research  \n",
       "8                                                                   capacity building, project management, due diligence, artificial intelligence  \n",
       "11                                       due diligence, monitoring and evaluation, stakeholder mapping, artificial intelligence, applied research  \n",
       "..                                                                                                                                            ...  \n",
       "104                                                                                                       intellectual property, research results  \n",
       "106                                                                                                       intellectual property, research results  \n",
       "107                                                                                                                                 biotechnology  \n",
       "108                                                                                                          capacity building, social innovation  \n",
       "109                                                                                                                          economic development  \n",
       "\n",
       "[90 rows x 7 columns]"
      ]
     },
     "execution_count": 7,
     "metadata": {},
     "output_type": "execute_result"
    }
   ],
   "source": [
    "df_pertinence_uk= df[df[\"Pertinence\"] == \"Yes\"]\n",
    "df_pertinence_uk"
   ]
  },
  {
   "cell_type": "code",
   "execution_count": 8,
   "id": "2531e784",
   "metadata": {
    "execution": {
     "iopub.execute_input": "2025-07-14T17:45:48.908142Z",
     "iopub.status.busy": "2025-07-14T17:45:48.907145Z",
     "iopub.status.idle": "2025-07-14T17:45:48.973332Z",
     "shell.execute_reply": "2025-07-14T17:45:48.973332Z"
    }
   },
   "outputs": [],
   "source": [
    "df_pertinence_uk.to_excel(\"projets_pertinents_keywords_InnUK_from_all_description.xlsx\", index=False)"
   ]
  },
  {
   "cell_type": "code",
   "execution_count": 9,
   "id": "bfa7c194",
   "metadata": {
    "execution": {
     "iopub.execute_input": "2025-07-14T17:45:48.977619Z",
     "iopub.status.busy": "2025-07-14T17:45:48.976569Z",
     "iopub.status.idle": "2025-07-14T17:45:48.983724Z",
     "shell.execute_reply": "2025-07-14T17:45:48.982724Z"
    }
   },
   "outputs": [],
   "source": [
    "import pandas as pd\n",
    "\n",
    "# Données extraites\n",
    "data = [\n",
    "    {\n",
    "        \"Project Name\": \"FACTORIAT\",\n",
    "        \"Description\": \"Support Deeptech & Hardware startups in prototyping and tech maturation with technical and financial help.\",\n",
    "        \"Period\": \"2022–2023\",\n",
    "        \"Axes / Thematic Areas\": \"Deeptech, Hardware, Incubation, Prototyping, Acceleration\",\n",
    "        \"Region\": \"Tunisia\",\n",
    "        \"Partners / Funders\": \"Industrial partners, ODF network\",\n",
    "        \"Key Figures / Impact\": \"7 prototypes, 4 pre-industrial units\"\n",
    "    },\n",
    "    {\n",
    "        \"Project Name\": \"National Entrepreneurship Program\",\n",
    "        \"Description\": \"Design and implementation of Lesotho's national entrepreneurship ecosystem.\",\n",
    "        \"Period\": \"2022–2025\",\n",
    "        \"Axes / Thematic Areas\": \"Capacity building, Strategy, Startup Ecosystem\",\n",
    "        \"Region\": \"Lesotho\",\n",
    "        \"Partners / Funders\": \"Local government, ODF\",\n",
    "        \"Key Figures / Impact\": \"500 entrepreneurs, 15 ESOs supported\"\n",
    "    },\n",
    "    {\n",
    "        \"Project Name\": \"Arab Bank Strategy\",\n",
    "        \"Description\": \"Develop funding & partnership strategy for African digital economy projects.\",\n",
    "        \"Period\": \"N/A\",\n",
    "        \"Axes / Thematic Areas\": \"Digital Economy, Strategic Development, Financing\",\n",
    "        \"Region\": \"Sub-Saharan Africa\",\n",
    "        \"Partners / Funders\": \"Arab Bank for Economic Development in Africa\",\n",
    "        \"Key Figures / Impact\": \"Strategy developed\"\n",
    "    },\n",
    "    {\n",
    "        \"Project Name\": \"World Bank Collaboration\",\n",
    "        \"Description\": \"Develop startup ecosystem in 5 Southern African countries including Lesotho.\",\n",
    "        \"Period\": \"2020–2022\",\n",
    "        \"Axes / Thematic Areas\": \"Startup Ecosystem, Digital Economy, Entrepreneurship\",\n",
    "        \"Region\": \"Southern Africa\",\n",
    "        \"Partners / Funders\": \"World Bank\",\n",
    "        \"Key Figures / Impact\": \"SA, Lesotho, Namibia, Botswana, Eswatini\"\n",
    "    },\n",
    "    {\n",
    "        \"Project Name\": \"MDBAN – Business Angels Network\",\n",
    "        \"Description\": \"Support early-stage Maghreb startups via diaspora angel investment.\",\n",
    "        \"Period\": \"2021–Present\",\n",
    "        \"Axes / Thematic Areas\": \"Startup Support, Investment, Diaspora Engagement\",\n",
    "        \"Region\": \"MENA, Diaspora\",\n",
    "        \"Partners / Funders\": \"MDBAN, ODF\",\n",
    "        \"Key Figures / Impact\": \"56 startups financed, 33 angels\"\n",
    "    },\n",
    "    {\n",
    "        \"Project Name\": \"BIATLABS\",\n",
    "        \"Description\": \"Incubation program by BIAT Bank, run by ODF.\",\n",
    "        \"Period\": \"2016–2018\",\n",
    "        \"Axes / Thematic Areas\": \"Startup Incubation, Early-Stage Innovation\",\n",
    "        \"Region\": \"Tunisia\",\n",
    "        \"Partners / Funders\": \"BIAT (Private Bank)\",\n",
    "        \"Key Figures / Impact\": \"4 cohorts, 45 startups, 15 labeled, 6 funded\"\n",
    "    },\n",
    "    {\n",
    "        \"Project Name\": \"TECHNORIAT PPP Program\",\n",
    "        \"Description\": \"Bridge research & entrepreneurship via incubation/acceleration of researchers.\",\n",
    "        \"Period\": \"2021–2023\",\n",
    "        \"Axes / Thematic Areas\": \"Scientific Research, Deeptech, Acceleration, Entrepreneurship\",\n",
    "        \"Region\": \"Tunisia\",\n",
    "        \"Partners / Funders\": \"TECHNORIAT, PPP\",\n",
    "        \"Key Figures / Impact\": \"800 sensitized, 136 preselected, 13 incubated, 8 accelerated\"\n",
    "    },\n",
    "    {\n",
    "        \"Project Name\": \"ABI – Applied Biotech & Innovation\",\n",
    "        \"Description\": \"Turn biotech discoveries into marketable solutions with IP licensing model.\",\n",
    "        \"Period\": \"N/A\",\n",
    "        \"Axes / Thematic Areas\": \"Biotech, One Health, IP Licensing, Innovation\",\n",
    "        \"Region\": \"N/A\",\n",
    "        \"Partners / Funders\": \"ODF internal program\",\n",
    "        \"Key Figures / Impact\": \"IP Model: License IN → Maturation → License OUT\"\n",
    "    }\n",
    "]\n",
    "\n",
    "# Création du DataFrame\n",
    "odf_df = pd.DataFrame(data)\n",
    "\n"
   ]
  },
  {
   "cell_type": "code",
   "execution_count": 10,
   "id": "e30f0df5",
   "metadata": {
    "execution": {
     "iopub.execute_input": "2025-07-14T17:45:48.986740Z",
     "iopub.status.busy": "2025-07-14T17:45:48.985778Z",
     "iopub.status.idle": "2025-07-14T22:08:45.450201Z",
     "shell.execute_reply": "2025-07-14T22:08:45.449665Z"
    }
   },
   "outputs": [
    {
     "name": "stderr",
     "output_type": "stream",
     "text": [
      "\r",
      "🔍 Analyse des URLs:   0%|                                                                                      | 0/90 [00:00<?, ?it/s]"
     ]
    },
    {
     "name": "stdout",
     "output_type": "stream",
     "text": [
      "🟡 Analyse en cours : https://www.ukri.org/opportunity/smart-data-research-uk-fellowships/\n"
     ]
    },
    {
     "name": "stderr",
     "output_type": "stream",
     "text": [
      "\r",
      "🔍 Analyse des URLs:   1%|▊                                                                             | 1/90 [00:29<43:04, 29.04s/it]"
     ]
    },
    {
     "name": "stdout",
     "output_type": "stream",
     "text": [
      "🟡 Analyse en cours : https://www.ukri.org/opportunity/institutional-diversity-fund-invite-only/\n"
     ]
    },
    {
     "name": "stderr",
     "output_type": "stream",
     "text": [
      "\r",
      "🔍 Analyse des URLs:   2%|█▋                                                                          | 2/90 [02:12<1:46:37, 72.70s/it]"
     ]
    },
    {
     "name": "stdout",
     "output_type": "stream",
     "text": [
      "🟡 Analyse en cours : https://www.ukri.org/opportunity/funding-for-early-stage-development-of-new-healthcare-interventions/\n"
     ]
    },
    {
     "name": "stderr",
     "output_type": "stream",
     "text": [
      "\r",
      "🔍 Analyse des URLs:   3%|██▌                                                                         | 3/90 [02:51<1:23:13, 57.39s/it]"
     ]
    },
    {
     "name": "stdout",
     "output_type": "stream",
     "text": [
      "🟡 Analyse en cours : https://www.ukri.org/opportunity/digitise-uk-natural-science-collections/\n"
     ]
    },
    {
     "name": "stderr",
     "output_type": "stream",
     "text": [
      "\r",
      "🔍 Analyse des URLs:   4%|███▍                                                                        | 4/90 [03:15<1:03:32, 44.33s/it]"
     ]
    },
    {
     "name": "stdout",
     "output_type": "stream",
     "text": [
      "🟡 Analyse en cours : https://www.ukri.org/opportunity/aviations-non-co2-impacts-on-the-climate-programme-coordinator/\n"
     ]
    },
    {
     "name": "stderr",
     "output_type": "stream",
     "text": [
      "\r",
      "🔍 Analyse des URLs:   6%|████▎                                                                         | 5/90 [03:45<55:08, 38.92s/it]"
     ]
    },
    {
     "name": "stdout",
     "output_type": "stream",
     "text": [
      "🟡 Analyse en cours : https://www.ukri.org/opportunity/research-and-partnership-hubs-for-a-healthy-society/\n"
     ]
    },
    {
     "name": "stderr",
     "output_type": "stream",
     "text": [
      "\r",
      "🔍 Analyse des URLs:   7%|█████▏                                                                        | 6/90 [04:09<47:24, 33.87s/it]"
     ]
    },
    {
     "name": "stdout",
     "output_type": "stream",
     "text": [
      "🟡 Analyse en cours : https://www.ukri.org/opportunity/stfc-leadership-fellowships-in-public-engagement/\n"
     ]
    },
    {
     "name": "stderr",
     "output_type": "stream",
     "text": [
      "\r",
      "🔍 Analyse des URLs:   8%|██████                                                                        | 7/90 [04:34<42:48, 30.94s/it]"
     ]
    },
    {
     "name": "stdout",
     "output_type": "stream",
     "text": [
      "🟡 Analyse en cours : https://www.ukri.org/opportunity/computing-resources-on-the-stfc-dirac-hpc-facility-rac18/\n"
     ]
    },
    {
     "name": "stderr",
     "output_type": "stream",
     "text": [
      "\r",
      "🔍 Analyse des URLs:   9%|██████▉                                                                       | 8/90 [04:58<39:25, 28.85s/it]"
     ]
    },
    {
     "name": "stdout",
     "output_type": "stream",
     "text": [
      "🟡 Analyse en cours : https://www.ukri.org/opportunity/experimental-medicine-invited-stage-two-application/\n"
     ]
    },
    {
     "name": "stderr",
     "output_type": "stream",
     "text": [
      "\r",
      "🔍 Analyse des URLs:  10%|███████▊                                                                      | 9/90 [05:22<36:54, 27.34s/it]"
     ]
    },
    {
     "name": "stdout",
     "output_type": "stream",
     "text": [
      "🟡 Analyse en cours : https://www.ukri.org/opportunity/us-uk-and-germany-uk-collaborative-research-seed-funding-in-semiconductor-security/\n"
     ]
    },
    {
     "name": "stderr",
     "output_type": "stream",
     "text": [
      "\r",
      "🔍 Analyse des URLs:  11%|████████▌                                                                    | 10/90 [05:52<37:21, 28.02s/it]"
     ]
    },
    {
     "name": "stdout",
     "output_type": "stream",
     "text": [
      "🟡 Analyse en cours : https://www.ukri.org/opportunity/biological-influence-on-ocean-carbon-novel-modelling-approaches/\n"
     ]
    },
    {
     "name": "stderr",
     "output_type": "stream",
     "text": [
      "\r",
      "🔍 Analyse des URLs:  12%|█████████▍                                                                   | 11/90 [06:16<35:24, 26.90s/it]"
     ]
    },
    {
     "name": "stdout",
     "output_type": "stream",
     "text": [
      "🟡 Analyse en cours : https://www.ukri.org/opportunity/ukri-gambling-harms-research-coordination-centre-ghrcc/\n"
     ]
    },
    {
     "name": "stderr",
     "output_type": "stream",
     "text": [
      "\r",
      "🔍 Analyse des URLs:  13%|██████████▎                                                                  | 12/90 [06:40<34:01, 26.17s/it]"
     ]
    },
    {
     "name": "stdout",
     "output_type": "stream",
     "text": [
      "🟡 Analyse en cours : https://www.ukri.org/opportunity/gambling-harms-research-and-innovation-partnerships/\n"
     ]
    },
    {
     "name": "stderr",
     "output_type": "stream",
     "text": [
      "\r",
      "🔍 Analyse des URLs:  14%|███████████                                                                  | 13/90 [07:05<33:01, 25.74s/it]"
     ]
    },
    {
     "name": "stdout",
     "output_type": "stream",
     "text": [
      "🟡 Analyse en cours : https://www.ukri.org/opportunity/multiple-model-assessment-of-biological-influence-on-ocean-carbon/\n"
     ]
    },
    {
     "name": "stderr",
     "output_type": "stream",
     "text": [
      "\r",
      "🔍 Analyse des URLs:  16%|███████████▉                                                                 | 14/90 [07:35<34:06, 26.93s/it]"
     ]
    },
    {
     "name": "stdout",
     "output_type": "stream",
     "text": [
      "🟡 Analyse en cours : https://www.ukri.org/opportunity/transdisciplinary-research-to-tackle-antimicrobial-resistance-full-application/\n"
     ]
    },
    {
     "name": "stderr",
     "output_type": "stream",
     "text": [
      "\r",
      "🔍 Analyse des URLs:  17%|████████████▊                                                                | 15/90 [07:59<32:34, 26.06s/it]"
     ]
    },
    {
     "name": "stdout",
     "output_type": "stream",
     "text": [
      "🟡 Analyse en cours : https://www.ukri.org/opportunity/canada-uk-networkplus-in-semiconductor-research/\n"
     ]
    },
    {
     "name": "stderr",
     "output_type": "stream",
     "text": [
      "\r",
      "🔍 Analyse des URLs:  18%|█████████████▋                                                               | 16/90 [08:23<31:37, 25.64s/it]"
     ]
    },
    {
     "name": "stdout",
     "output_type": "stream",
     "text": [
      "🟡 Analyse en cours : https://www.ukri.org/opportunity/uk-international-ocean-drilling-programme-moratorium-awards/\n"
     ]
    },
    {
     "name": "stderr",
     "output_type": "stream",
     "text": [
      "\r",
      "🔍 Analyse des URLs:  19%|██████████████▌                                                              | 17/90 [08:48<30:38, 25.19s/it]"
     ]
    },
    {
     "name": "stdout",
     "output_type": "stream",
     "text": [
      "🟡 Analyse en cours : https://www.ukri.org/opportunity/health-technologies-connectivity-awards-round-two/\n"
     ]
    },
    {
     "name": "stderr",
     "output_type": "stream",
     "text": [
      "\r",
      "🔍 Analyse des URLs:  20%|███████████████▍                                                             | 18/90 [09:12<29:50, 24.87s/it]"
     ]
    },
    {
     "name": "stdout",
     "output_type": "stream",
     "text": [
      "🟡 Analyse en cours : https://www.ukri.org/opportunity/clinician-scientist-fellowship/\n"
     ]
    },
    {
     "name": "stderr",
     "output_type": "stream",
     "text": [
      "\r",
      "🔍 Analyse des URLs:  21%|████████████████▎                                                            | 19/90 [09:36<29:18, 24.76s/it]"
     ]
    },
    {
     "name": "stdout",
     "output_type": "stream",
     "text": [
      "🟡 Analyse en cours : https://www.ukri.org/opportunity/pre-doctoral-clinical-research-training-fellowship/\n"
     ]
    },
    {
     "name": "stderr",
     "output_type": "stream",
     "text": [
      "\r",
      "🔍 Analyse des URLs:  22%|█████████████████                                                            | 20/90 [10:10<32:08, 27.55s/it]"
     ]
    },
    {
     "name": "stdout",
     "output_type": "stream",
     "text": [
      "🟡 Analyse en cours : https://www.ukri.org/opportunity/post-doctoral-clinical-research-training-fellowship/\n"
     ]
    },
    {
     "name": "stderr",
     "output_type": "stream",
     "text": [
      "\r",
      "🔍 Analyse des URLs:  23%|█████████████████▉                                                           | 21/90 [10:35<30:39, 26.66s/it]"
     ]
    },
    {
     "name": "stdout",
     "output_type": "stream",
     "text": [
      "🟡 Analyse en cours : https://www.ukri.org/opportunity/engineer-next-generation-veterinary-vaccine-technology-platforms/\n"
     ]
    },
    {
     "name": "stderr",
     "output_type": "stream",
     "text": [
      "\r",
      "🔍 Analyse des URLs:  24%|██████████████████▊                                                          | 22/90 [11:00<29:38, 26.15s/it]"
     ]
    },
    {
     "name": "stdout",
     "output_type": "stream",
     "text": [
      "🟡 Analyse en cours : https://www.ukri.org/opportunity/strategic-infrastructure-for-engineering-and-physical-sciences-june-2025/\n"
     ]
    },
    {
     "name": "stderr",
     "output_type": "stream",
     "text": [
      "\r",
      "🔍 Analyse des URLs:  26%|███████████████████▋                                                         | 23/90 [11:25<28:49, 25.82s/it]"
     ]
    },
    {
     "name": "stdout",
     "output_type": "stream",
     "text": [
      "🟡 Analyse en cours : https://www.ukri.org/opportunity/ernest-rutherford-fellowship-2025/\n"
     ]
    },
    {
     "name": "stderr",
     "output_type": "stream",
     "text": [
      "\r",
      "🔍 Analyse des URLs:  27%|████████████████████▌                                                        | 24/90 [11:50<28:03, 25.50s/it]"
     ]
    },
    {
     "name": "stdout",
     "output_type": "stream",
     "text": [
      "🟡 Analyse en cours : https://www.ukri.org/opportunity/research-to-advance-uk-recycling-capabilities-full-stage/\n"
     ]
    },
    {
     "name": "stderr",
     "output_type": "stream",
     "text": [
      "\r",
      "🔍 Analyse des URLs:  28%|█████████████████████▍                                                       | 25/90 [12:14<27:22, 25.27s/it]"
     ]
    },
    {
     "name": "stdout",
     "output_type": "stream",
     "text": [
      "🟡 Analyse en cours : https://www.ukri.org/opportunity/sandpit-moving-respiratory-health-diagnosis-into-the-21st-century-invite-only/\n"
     ]
    },
    {
     "name": "stderr",
     "output_type": "stream",
     "text": [
      "\r",
      "🔍 Analyse des URLs:  29%|██████████████████████▏                                                      | 26/90 [14:01<53:05, 49.77s/it]"
     ]
    },
    {
     "name": "stdout",
     "output_type": "stream",
     "text": [
      "🟡 Analyse en cours : https://www.ukri.org/opportunity/mrc-centre-of-research-excellence-round-three/\n"
     ]
    },
    {
     "name": "stderr",
     "output_type": "stream",
     "text": [
      "\r",
      "🔍 Analyse des URLs:  30%|███████████████████████                                                      | 27/90 [14:27<44:37, 42.50s/it]"
     ]
    },
    {
     "name": "stdout",
     "output_type": "stream",
     "text": [
      "🟡 Analyse en cours : https://www.ukri.org/opportunity/responsive-mode-partnership/\n"
     ]
    },
    {
     "name": "stderr",
     "output_type": "stream",
     "text": [
      "\r",
      "🔍 Analyse des URLs:  31%|███████████████████████▉                                                     | 28/90 [14:51<38:16, 37.04s/it]"
     ]
    },
    {
     "name": "stdout",
     "output_type": "stream",
     "text": [
      "🟡 Analyse en cours : https://www.ukri.org/opportunity/infections-and-immunity-programme/\n"
     ]
    },
    {
     "name": "stderr",
     "output_type": "stream",
     "text": [
      "\r",
      "🔍 Analyse des URLs:  32%|████████████████████████▊                                                    | 29/90 [15:27<37:19, 36.71s/it]"
     ]
    },
    {
     "name": "stdout",
     "output_type": "stream",
     "text": [
      "🟡 Analyse en cours : https://www.ukri.org/opportunity/neurosciences-and-mental-health-programme/\n"
     ]
    },
    {
     "name": "stderr",
     "output_type": "stream",
     "text": [
      "\r",
      "🔍 Analyse des URLs:  33%|█████████████████████████▋                                                   | 30/90 [15:55<34:01, 34.02s/it]"
     ]
    },
    {
     "name": "stdout",
     "output_type": "stream",
     "text": [
      "🟡 Analyse en cours : https://www.ukri.org/opportunity/population-and-systems-medicine-programme/\n"
     ]
    },
    {
     "name": "stderr",
     "output_type": "stream",
     "text": [
      "\r",
      "🔍 Analyse des URLs:  34%|████████████████████████                                              | 31/90 [3:17:46<54:02:15, 3297.22s/it]"
     ]
    },
    {
     "name": "stdout",
     "output_type": "stream",
     "text": [
      "🟡 Analyse en cours : https://www.ukri.org/opportunity/molecular-and-cellular-medicine-programme/\n"
     ]
    },
    {
     "name": "stderr",
     "output_type": "stream",
     "text": [
      "\r",
      "🔍 Analyse des URLs:  36%|████████████████████████▉                                             | 32/90 [3:18:02<37:15:52, 2312.97s/it]"
     ]
    },
    {
     "name": "stdout",
     "output_type": "stream",
     "text": [
      "🟡 Analyse en cours : https://www.ukri.org/opportunity/molecular-and-cellular-medicine-new-investigator/\n"
     ]
    },
    {
     "name": "stderr",
     "output_type": "stream",
     "text": [
      "\r",
      "🔍 Analyse des URLs:  37%|█████████████████████████▋                                            | 33/90 [4:11:20<40:49:22, 2578.28s/it]"
     ]
    },
    {
     "name": "stdout",
     "output_type": "stream",
     "text": [
      "🟡 Analyse en cours : https://www.ukri.org/opportunity/neurosciences-and-mental-health-new-investigator/\n"
     ]
    },
    {
     "name": "stderr",
     "output_type": "stream",
     "text": [
      "\r",
      "🔍 Analyse des URLs:  38%|██████████████████████████▍                                           | 34/90 [4:11:34<28:08:19, 1808.93s/it]"
     ]
    },
    {
     "name": "stdout",
     "output_type": "stream",
     "text": [
      "🟡 Analyse en cours : https://www.ukri.org/opportunity/infections-and-immunity-new-investigator/\n"
     ]
    },
    {
     "name": "stderr",
     "output_type": "stream",
     "text": [
      "\r",
      "🔍 Analyse des URLs:  39%|███████████████████████████▏                                          | 35/90 [4:11:49<19:25:03, 1270.97s/it]"
     ]
    },
    {
     "name": "stdout",
     "output_type": "stream",
     "text": [
      "🟡 Analyse en cours : https://www.ukri.org/opportunity/population-and-systems-medicine-new-investigator/\n"
     ]
    },
    {
     "name": "stderr",
     "output_type": "stream",
     "text": [
      "\r",
      "🔍 Analyse des URLs:  40%|████████████████████████████▍                                          | 36/90 [4:12:01<13:23:49, 893.15s/it]"
     ]
    },
    {
     "name": "stdout",
     "output_type": "stream",
     "text": [
      "🟡 Analyse en cours : https://www.ukri.org/opportunity/neurosciences-and-mental-health-research/\n"
     ]
    },
    {
     "name": "stderr",
     "output_type": "stream",
     "text": [
      "\r",
      "🔍 Analyse des URLs:  41%|█████████████████████████████▌                                          | 37/90 [4:12:12<9:15:14, 628.58s/it]"
     ]
    },
    {
     "name": "stdout",
     "output_type": "stream",
     "text": [
      "🟡 Analyse en cours : https://www.ukri.org/opportunity/population-and-systems-medicine-research/\n"
     ]
    },
    {
     "name": "stderr",
     "output_type": "stream",
     "text": [
      "\r",
      "🔍 Analyse des URLs:  42%|██████████████████████████████▍                                         | 38/90 [4:12:24<6:24:27, 443.60s/it]"
     ]
    },
    {
     "name": "stdout",
     "output_type": "stream",
     "text": [
      "🟡 Analyse en cours : https://www.ukri.org/opportunity/molecular-and-cellular-medicine-research/\n"
     ]
    },
    {
     "name": "stderr",
     "output_type": "stream",
     "text": [
      "\r",
      "🔍 Analyse des URLs:  43%|███████████████████████████████▏                                        | 39/90 [4:12:36<4:26:59, 314.11s/it]"
     ]
    },
    {
     "name": "stdout",
     "output_type": "stream",
     "text": [
      "🟡 Analyse en cours : https://www.ukri.org/opportunity/infections-and-immunity-research/\n"
     ]
    },
    {
     "name": "stderr",
     "output_type": "stream",
     "text": [
      "\r",
      "🔍 Analyse des URLs:  44%|████████████████████████████████                                        | 40/90 [4:12:48<3:06:16, 223.53s/it]"
     ]
    },
    {
     "name": "stdout",
     "output_type": "stream",
     "text": [
      "🟡 Analyse en cours : https://www.ukri.org/opportunity/dare-uk-real-world-research-exemplar-programme/\n"
     ]
    },
    {
     "name": "stderr",
     "output_type": "stream",
     "text": [
      "\r",
      "🔍 Analyse des URLs:  46%|████████████████████████████████▊                                       | 41/90 [4:13:00<2:10:33, 159.86s/it]"
     ]
    },
    {
     "name": "stdout",
     "output_type": "stream",
     "text": [
      "🟡 Analyse en cours : https://www.ukri.org/opportunity/bbsrc-new-investigator-award-2025-round-3-applicant-led-mode/\n"
     ]
    },
    {
     "name": "stderr",
     "output_type": "stream",
     "text": [
      "\r",
      "🔍 Analyse des URLs:  47%|█████████████████████████████████▌                                      | 42/90 [4:13:11<1:32:13, 115.28s/it]"
     ]
    },
    {
     "name": "stdout",
     "output_type": "stream",
     "text": [
      "🟡 Analyse en cours : https://www.ukri.org/opportunity/bbsrc-standard-research-grant-2025-round-3-applicant-led-mode/\n"
     ]
    },
    {
     "name": "stderr",
     "output_type": "stream",
     "text": [
      "\r",
      "🔍 Analyse des URLs:  48%|██████████████████████████████████▉                                      | 43/90 [4:13:23<1:05:58, 84.22s/it]"
     ]
    },
    {
     "name": "stdout",
     "output_type": "stream",
     "text": [
      "🟡 Analyse en cours : https://www.ukri.org/opportunity/critical-mass-programmes-to-drive-a-sustainable-future-invitation-only/\n"
     ]
    },
    {
     "name": "stderr",
     "output_type": "stream",
     "text": [
      "\r",
      "🔍 Analyse des URLs:  49%|████████████████████████████████████▋                                      | 44/90 [4:13:34<47:45, 62.29s/it]"
     ]
    },
    {
     "name": "stdout",
     "output_type": "stream",
     "text": [
      "🟡 Analyse en cours : https://www.ukri.org/opportunity/experimental-medicine/\n"
     ]
    },
    {
     "name": "stderr",
     "output_type": "stream",
     "text": [
      "\r",
      "🔍 Analyse des URLs:  50%|█████████████████████████████████████▌                                     | 45/90 [4:13:45<35:12, 46.95s/it]"
     ]
    },
    {
     "name": "stdout",
     "output_type": "stream",
     "text": [
      "🟡 Analyse en cours : https://www.ukri.org/opportunity/career-development-award/\n"
     ]
    },
    {
     "name": "stderr",
     "output_type": "stream",
     "text": [
      "\r",
      "🔍 Analyse des URLs:  51%|██████████████████████████████████████▎                                    | 46/90 [4:13:59<27:07, 36.99s/it]"
     ]
    },
    {
     "name": "stdout",
     "output_type": "stream",
     "text": [
      "🟡 Analyse en cours : https://www.ukri.org/opportunity/ukri-policy-fellowships-2025/\n"
     ]
    },
    {
     "name": "stderr",
     "output_type": "stream",
     "text": [
      "\r",
      "🔍 Analyse des URLs:  52%|███████████████████████████████████████▏                                   | 47/90 [4:14:10<21:02, 29.36s/it]"
     ]
    },
    {
     "name": "stdout",
     "output_type": "stream",
     "text": [
      "🟡 Analyse en cours : https://www.ukri.org/opportunity/applied-global-health-research-invited-stage-two/\n"
     ]
    },
    {
     "name": "stderr",
     "output_type": "stream",
     "text": [
      "\r",
      "🔍 Analyse des URLs:  53%|████████████████████████████████████████                                   | 48/90 [4:14:24<17:19, 24.75s/it]"
     ]
    },
    {
     "name": "stdout",
     "output_type": "stream",
     "text": [
      "🟡 Analyse en cours : https://www.ukri.org/opportunity/2025-to-2026-strategic-longer-and-larger-slola-grants/\n"
     ]
    },
    {
     "name": "stderr",
     "output_type": "stream",
     "text": [
      "\r",
      "🔍 Analyse des URLs:  54%|████████████████████████████████████████▊                                  | 49/90 [4:14:35<14:08, 20.70s/it]"
     ]
    },
    {
     "name": "stdout",
     "output_type": "stream",
     "text": [
      "🟡 Analyse en cours : https://www.ukri.org/opportunity/applied-global-health-partnership-invited-stage-two/\n"
     ]
    },
    {
     "name": "stderr",
     "output_type": "stream",
     "text": [
      "\r",
      "🔍 Analyse des URLs:  56%|█████████████████████████████████████████▋                                 | 50/90 [4:14:47<11:54, 17.86s/it]"
     ]
    },
    {
     "name": "stdout",
     "output_type": "stream",
     "text": [
      "🟡 Analyse en cours : https://www.ukri.org/opportunity/collaborate-with-researchers-in-norway/\n"
     ]
    },
    {
     "name": "stderr",
     "output_type": "stream",
     "text": [
      "\r",
      "🔍 Analyse des URLs:  57%|██████████████████████████████████████████▌                                | 51/90 [4:14:58<10:21, 15.93s/it]"
     ]
    },
    {
     "name": "stdout",
     "output_type": "stream",
     "text": [
      "🟡 Analyse en cours : https://www.ukri.org/opportunity/collaborative-doctoral-landscape-award-in-the-arts-and-humanities/\n"
     ]
    },
    {
     "name": "stderr",
     "output_type": "stream",
     "text": [
      "\r",
      "🔍 Analyse des URLs:  58%|███████████████████████████████████████████▎                               | 52/90 [4:15:10<09:20, 14.75s/it]"
     ]
    },
    {
     "name": "stdout",
     "output_type": "stream",
     "text": [
      "🟡 Analyse en cours : https://www.ukri.org/opportunity/patt-travel-grants-for-competitively-awarded-observation-time-2025/\n"
     ]
    },
    {
     "name": "stderr",
     "output_type": "stream",
     "text": [
      "\r",
      "🔍 Analyse des URLs:  59%|████████████████████████████████████████████▏                              | 53/90 [4:15:22<08:31, 13.83s/it]"
     ]
    },
    {
     "name": "stdout",
     "output_type": "stream",
     "text": [
      "🟡 Analyse en cours : https://www.ukri.org/opportunity/developmental-pathway-funding-scheme/\n"
     ]
    },
    {
     "name": "stderr",
     "output_type": "stream",
     "text": [
      "\r",
      "🔍 Analyse des URLs:  60%|█████████████████████████████████████████████                              | 54/90 [4:15:34<07:59, 13.33s/it]"
     ]
    },
    {
     "name": "stdout",
     "output_type": "stream",
     "text": [
      "🟡 Analyse en cours : https://www.ukri.org/opportunity/statements-of-need-in-research-infrastructure/\n"
     ]
    },
    {
     "name": "stderr",
     "output_type": "stream",
     "text": [
      "\r",
      "🔍 Analyse des URLs:  61%|█████████████████████████████████████████████▊                             | 55/90 [4:15:45<07:23, 12.66s/it]"
     ]
    },
    {
     "name": "stdout",
     "output_type": "stream",
     "text": [
      "🟡 Analyse en cours : https://www.ukri.org/opportunity/epsrc-programme-grant-full-proposal/\n"
     ]
    },
    {
     "name": "stderr",
     "output_type": "stream",
     "text": [
      "\r",
      "🔍 Analyse des URLs:  62%|██████████████████████████████████████████████▋                            | 56/90 [4:15:58<07:17, 12.85s/it]"
     ]
    },
    {
     "name": "stdout",
     "output_type": "stream",
     "text": [
      "🟡 Analyse en cours : https://www.ukri.org/opportunity/mathematical-sciences-postdoctoral-fellowship/\n"
     ]
    },
    {
     "name": "stderr",
     "output_type": "stream",
     "text": [
      "\r",
      "🔍 Analyse des URLs:  63%|███████████████████████████████████████████████▌                           | 57/90 [4:16:16<07:51, 14.30s/it]"
     ]
    },
    {
     "name": "stdout",
     "output_type": "stream",
     "text": [
      "🟡 Analyse en cours : https://www.ukri.org/opportunity/opening-up-the-environment-2026/\n"
     ]
    },
    {
     "name": "stderr",
     "output_type": "stream",
     "text": [
      "\r",
      "🔍 Analyse des URLs:  64%|████████████████████████████████████████████████▎                          | 58/90 [4:16:27<07:09, 13.43s/it]"
     ]
    },
    {
     "name": "stdout",
     "output_type": "stream",
     "text": [
      "🟡 Analyse en cours : https://www.ukri.org/opportunity/small-molecule-high-throughput-screen-using-astrazeneca-facilities/\n"
     ]
    },
    {
     "name": "stderr",
     "output_type": "stream",
     "text": [
      "\r",
      "🔍 Analyse des URLs:  66%|█████████████████████████████████████████████████▏                         | 59/90 [4:16:39<06:42, 12.99s/it]"
     ]
    },
    {
     "name": "stdout",
     "output_type": "stream",
     "text": [
      "🟡 Analyse en cours : https://www.ukri.org/opportunity/ahrc-responsive-mode-curiosity-award/\n"
     ]
    },
    {
     "name": "stderr",
     "output_type": "stream",
     "text": [
      "\r",
      "🔍 Analyse des URLs:  67%|██████████████████████████████████████████████████                         | 60/90 [4:16:52<06:22, 12.76s/it]"
     ]
    },
    {
     "name": "stdout",
     "output_type": "stream",
     "text": [
      "🟡 Analyse en cours : https://www.ukri.org/opportunity/ahrc-responsive-mode-catalyst-awards/\n"
     ]
    },
    {
     "name": "stderr",
     "output_type": "stream",
     "text": [
      "\r",
      "🔍 Analyse des URLs:  68%|██████████████████████████████████████████████████▊                        | 61/90 [4:17:03<05:56, 12.30s/it]"
     ]
    },
    {
     "name": "stdout",
     "output_type": "stream",
     "text": [
      "🟡 Analyse en cours : https://www.ukri.org/opportunity/pushing-the-frontiers-of-environmental-research-july-2025/\n"
     ]
    },
    {
     "name": "stderr",
     "output_type": "stream",
     "text": [
      "\r",
      "🔍 Analyse des URLs:  69%|███████████████████████████████████████████████████▋                       | 62/90 [4:17:15<05:42, 12.24s/it]"
     ]
    },
    {
     "name": "stdout",
     "output_type": "stream",
     "text": [
      "🟡 Analyse en cours : https://www.ukri.org/opportunity/mathematical-sciences-open-and-open-plus-fellowship/\n"
     ]
    },
    {
     "name": "stderr",
     "output_type": "stream",
     "text": [
      "\r",
      "🔍 Analyse des URLs:  70%|████████████████████████████████████████████████████▌                      | 63/90 [4:17:31<06:00, 13.34s/it]"
     ]
    },
    {
     "name": "stdout",
     "output_type": "stream",
     "text": [
      "🟡 Analyse en cours : https://www.ukri.org/opportunity/ahrc-responsive-mode-ukri-nsf-sbe-lead-agency/\n"
     ]
    },
    {
     "name": "stderr",
     "output_type": "stream",
     "text": [
      "\r",
      "🔍 Analyse des URLs:  71%|█████████████████████████████████████████████████████▎                     | 64/90 [4:17:42<05:28, 12.63s/it]"
     ]
    },
    {
     "name": "stdout",
     "output_type": "stream",
     "text": [
      "🟡 Analyse en cours : https://www.ukri.org/opportunity/ahrc-responsive-mode-working-with-brazilian-researchers/\n"
     ]
    },
    {
     "name": "stderr",
     "output_type": "stream",
     "text": [
      "\r",
      "🔍 Analyse des URLs:  72%|██████████████████████████████████████████████████████▏                    | 65/90 [4:17:53<05:07, 12.31s/it]"
     ]
    },
    {
     "name": "stdout",
     "output_type": "stream",
     "text": [
      "🟡 Analyse en cours : https://www.ukri.org/opportunity/ahrc-responsive-mode-collaborate-with-researchers-in-luxembourg/\n"
     ]
    },
    {
     "name": "stderr",
     "output_type": "stream",
     "text": [
      "\r",
      "🔍 Analyse des URLs:  73%|██████████████████████████████████████████████████████▉                    | 66/90 [4:18:05<04:48, 12.03s/it]"
     ]
    },
    {
     "name": "stdout",
     "output_type": "stream",
     "text": [
      "🟡 Analyse en cours : https://www.ukri.org/opportunity/ahrc-responsive-mode-standard-research-grant/\n"
     ]
    },
    {
     "name": "stderr",
     "output_type": "stream",
     "text": [
      "\r",
      "🔍 Analyse des URLs:  74%|███████████████████████████████████████████████████████▊                   | 67/90 [4:18:16<04:29, 11.70s/it]"
     ]
    },
    {
     "name": "stdout",
     "output_type": "stream",
     "text": [
      "🟡 Analyse en cours : https://www.ukri.org/opportunity/epsrc-programme-grant-outline-stage/\n"
     ]
    },
    {
     "name": "stderr",
     "output_type": "stream",
     "text": [
      "\r",
      "🔍 Analyse des URLs:  76%|████████████████████████████████████████████████████████▋                  | 68/90 [4:18:29<04:25, 12.05s/it]"
     ]
    },
    {
     "name": "stdout",
     "output_type": "stream",
     "text": [
      "🟡 Analyse en cours : https://www.ukri.org/opportunity/bbsrc-international-travel-award-scheme/\n"
     ]
    },
    {
     "name": "stderr",
     "output_type": "stream",
     "text": [
      "\r",
      "🔍 Analyse des URLs:  77%|█████████████████████████████████████████████████████████▌                 | 69/90 [4:18:40<04:10, 11.93s/it]"
     ]
    },
    {
     "name": "stdout",
     "output_type": "stream",
     "text": [
      "🟡 Analyse en cours : https://www.ukri.org/opportunity/projects-peer-review-panel-pprp-2025/\n"
     ]
    },
    {
     "name": "stderr",
     "output_type": "stream",
     "text": [
      "\r",
      "🔍 Analyse des URLs:  78%|██████████████████████████████████████████████████████████▎                | 70/90 [4:18:52<03:56, 11.84s/it]"
     ]
    },
    {
     "name": "stdout",
     "output_type": "stream",
     "text": [
      "🟡 Analyse en cours : https://www.ukri.org/opportunity/nerc-urgency-funding-open/\n"
     ]
    },
    {
     "name": "stderr",
     "output_type": "stream",
     "text": [
      "\r",
      "🔍 Analyse des URLs:  79%|███████████████████████████████████████████████████████████▏               | 71/90 [4:19:03<03:39, 11.57s/it]"
     ]
    },
    {
     "name": "stdout",
     "output_type": "stream",
     "text": [
      "🟡 Analyse en cours : https://www.ukri.org/opportunity/strategic-infrastructure-outlines/\n"
     ]
    },
    {
     "name": "stderr",
     "output_type": "stream",
     "text": [
      "\r",
      "🔍 Analyse des URLs:  80%|████████████████████████████████████████████████████████████               | 72/90 [4:19:14<03:25, 11.41s/it]"
     ]
    },
    {
     "name": "stdout",
     "output_type": "stream",
     "text": [
      "🟡 Analyse en cours : https://www.ukri.org/opportunity/epsrc-network-grant-nov-2023-responsive-mode/\n"
     ]
    },
    {
     "name": "stderr",
     "output_type": "stream",
     "text": [
      "\r",
      "🔍 Analyse des URLs:  81%|████████████████████████████████████████████████████████████▊              | 73/90 [4:19:26<03:17, 11.63s/it]"
     ]
    },
    {
     "name": "stdout",
     "output_type": "stream",
     "text": [
      "🟡 Analyse en cours : https://www.ukri.org/opportunity/epsrc-working-with-overseas-scientists-nov-2023-responsive-mode/\n"
     ]
    },
    {
     "name": "stderr",
     "output_type": "stream",
     "text": [
      "\r",
      "🔍 Analyse des URLs:  82%|█████████████████████████████████████████████████████████████▋             | 74/90 [4:19:37<03:03, 11.49s/it]"
     ]
    },
    {
     "name": "stdout",
     "output_type": "stream",
     "text": [
      "🟡 Analyse en cours : https://www.ukri.org/opportunity/epsrc-new-investigator-award-nov-2023-responsive-mode/\n"
     ]
    },
    {
     "name": "stderr",
     "output_type": "stream",
     "text": [
      "\r",
      "🔍 Analyse des URLs:  83%|██████████████████████████████████████████████████████████████▌            | 75/90 [4:19:48<02:50, 11.39s/it]"
     ]
    },
    {
     "name": "stdout",
     "output_type": "stream",
     "text": [
      "🟡 Analyse en cours : https://www.ukri.org/opportunity/epsrc-discipline-hopping-in-ict-nov-2023-responsive-mode/\n"
     ]
    },
    {
     "name": "stderr",
     "output_type": "stream",
     "text": [
      "\r",
      "🔍 Analyse des URLs:  84%|███████████████████████████████████████████████████████████████▎           | 76/90 [4:19:59<02:37, 11.24s/it]"
     ]
    },
    {
     "name": "stdout",
     "output_type": "stream",
     "text": [
      "🟡 Analyse en cours : https://www.ukri.org/opportunity/epsrc-overseas-travel-grant-nov-2023-responsive-mode/\n"
     ]
    },
    {
     "name": "stderr",
     "output_type": "stream",
     "text": [
      "\r",
      "🔍 Analyse des URLs:  86%|████████████████████████████████████████████████████████████████▏          | 77/90 [4:20:10<02:25, 11.16s/it]"
     ]
    },
    {
     "name": "stdout",
     "output_type": "stream",
     "text": [
      "🟡 Analyse en cours : https://www.ukri.org/opportunity/epsrc-standard-research-grant-nov-2023-responsive-mode/\n"
     ]
    },
    {
     "name": "stderr",
     "output_type": "stream",
     "text": [
      "\r",
      "🔍 Analyse des URLs:  87%|█████████████████████████████████████████████████████████████████          | 78/90 [4:20:21<02:13, 11.10s/it]"
     ]
    },
    {
     "name": "stdout",
     "output_type": "stream",
     "text": [
      "🟡 Analyse en cours : https://www.ukri.org/opportunity/esrc-responsive-mode-research-grants-round-two/\n"
     ]
    },
    {
     "name": "stderr",
     "output_type": "stream",
     "text": [
      "\r",
      "🔍 Analyse des URLs:  88%|█████████████████████████████████████████████████████████████████▊         | 79/90 [4:20:32<02:01, 11.08s/it]"
     ]
    },
    {
     "name": "stdout",
     "output_type": "stream",
     "text": [
      "🟡 Analyse en cours : https://www.ukri.org/opportunity/esrc-responsive-mode-new-investigator-grants-round-two/\n"
     ]
    },
    {
     "name": "stderr",
     "output_type": "stream",
     "text": [
      "\r",
      "🔍 Analyse des URLs:  89%|██████████████████████████████████████████████████████████████████▋        | 80/90 [4:20:44<01:52, 11.21s/it]"
     ]
    },
    {
     "name": "stdout",
     "output_type": "stream",
     "text": [
      "🟡 Analyse en cours : https://www.ukri.org/opportunity/esrc-responsive-mode-working-with-luxembourg-researchers-round-two/\n"
     ]
    },
    {
     "name": "stderr",
     "output_type": "stream",
     "text": [
      "\r",
      "🔍 Analyse des URLs:  90%|███████████████████████████████████████████████████████████████████▌       | 81/90 [4:20:59<01:52, 12.49s/it]"
     ]
    },
    {
     "name": "stdout",
     "output_type": "stream",
     "text": [
      "🟡 Analyse en cours : https://www.ukri.org/opportunity/esrc-responsive-mode-secondary-data-analysis-round-two/\n"
     ]
    },
    {
     "name": "stderr",
     "output_type": "stream",
     "text": [
      "\r",
      "🔍 Analyse des URLs:  91%|████████████████████████████████████████████████████████████████████▎      | 82/90 [4:21:11<01:38, 12.32s/it]"
     ]
    },
    {
     "name": "stdout",
     "output_type": "stream",
     "text": [
      "🟡 Analyse en cours : https://www.ukri.org/opportunity/esrc-responsive-mode-ukri-sbe-lead-agency-opportunity-round-two/\n"
     ]
    },
    {
     "name": "stderr",
     "output_type": "stream",
     "text": [
      "\r",
      "🔍 Analyse des URLs:  92%|█████████████████████████████████████████████████████████████████████▏     | 83/90 [4:21:22<01:23, 11.96s/it]"
     ]
    },
    {
     "name": "stdout",
     "output_type": "stream",
     "text": [
      "🟡 Analyse en cours : https://www.ukri.org/opportunity/esrc-responsive-mode-working-with-brazilian-researchers-round-two/\n"
     ]
    },
    {
     "name": "stderr",
     "output_type": "stream",
     "text": [
      "\r",
      "🔍 Analyse des URLs:  93%|██████████████████████████████████████████████████████████████████████     | 84/90 [4:21:39<01:20, 13.45s/it]"
     ]
    },
    {
     "name": "stdout",
     "output_type": "stream",
     "text": [
      "🟡 Analyse en cours : https://www.ukri.org/opportunity/collaborate-with-researchers-in-luxembourg/\n"
     ]
    },
    {
     "name": "stderr",
     "output_type": "stream",
     "text": [
      "\r",
      "🔍 Analyse des URLs:  94%|██████████████████████████████████████████████████████████████████████▊    | 85/90 [4:21:51<01:05, 13.06s/it]"
     ]
    },
    {
     "name": "stdout",
     "output_type": "stream",
     "text": [
      "🟡 Analyse en cours : https://www.ukri.org/opportunity/work-with-brazilian-researchers-nerc-fapesp-lead-agency/\n"
     ]
    },
    {
     "name": "stderr",
     "output_type": "stream",
     "text": [
      "\r",
      "🔍 Analyse des URLs:  96%|███████████████████████████████████████████████████████████████████████▋   | 86/90 [4:22:04<00:52, 13.01s/it]"
     ]
    },
    {
     "name": "stdout",
     "output_type": "stream",
     "text": [
      "🟡 Analyse en cours : https://www.ukri.org/opportunity/collaborate-with-researchers-in-brazil/\n"
     ]
    },
    {
     "name": "stderr",
     "output_type": "stream",
     "text": [
      "\r",
      "🔍 Analyse des URLs:  97%|████████████████████████████████████████████████████████████████████████▌  | 87/90 [4:22:16<00:38, 12.70s/it]"
     ]
    },
    {
     "name": "stdout",
     "output_type": "stream",
     "text": [
      "🟡 Analyse en cours : https://www.ukri.org/opportunity/ukri-sbe-lead-agency-opportunity/\n"
     ]
    },
    {
     "name": "stderr",
     "output_type": "stream",
     "text": [
      "\r",
      "🔍 Analyse des URLs:  98%|█████████████████████████████████████████████████████████████████████████▎ | 88/90 [4:22:27<00:24, 12.30s/it]"
     ]
    },
    {
     "name": "stdout",
     "output_type": "stream",
     "text": [
      "🟡 Analyse en cours : https://www.ukri.org/opportunity/research-england-development-fund/\n"
     ]
    },
    {
     "name": "stderr",
     "output_type": "stream",
     "text": [
      "\r",
      "🔍 Analyse des URLs:  99%|██████████████████████████████████████████████████████████████████████████▏| 89/90 [4:22:39<00:12, 12.06s/it]"
     ]
    },
    {
     "name": "stdout",
     "output_type": "stream",
     "text": [
      "🟡 Analyse en cours : https://www.ukri.org/opportunity/daphne-jackson-fellowship/\n"
     ]
    },
    {
     "name": "stderr",
     "output_type": "stream",
     "text": [
      "\r",
      "🔍 Analyse des URLs: 100%|███████████████████████████████████████████████████████████████████████████| 90/90 [4:22:51<00:00, 12.07s/it]"
     ]
    },
    {
     "name": "stderr",
     "output_type": "stream",
     "text": [
      "\r",
      "🔍 Analyse des URLs: 100%|██████████████████████████████████████████████████████████████████████████| 90/90 [4:22:51<00:00, 175.24s/it]"
     ]
    },
    {
     "name": "stderr",
     "output_type": "stream",
     "text": [
      "\n"
     ]
    },
    {
     "name": "stdout",
     "output_type": "stream",
     "text": [
      "\n",
      "✅ Résultats sauvegardés dans 'df_yes_avec_pertinence_et_resume_uk.csv'.\n"
     ]
    }
   ],
   "source": [
    "from selenium import webdriver\n",
    "from selenium.webdriver.chrome.options import Options\n",
    "from selenium.webdriver.common.by import By\n",
    "import time\n",
    "import pandas as pd\n",
    "from groq import Groq\n",
    "import re\n",
    "from tqdm import tqdm\n",
    "\n",
    "# === CONFIGURATION GROQ ===\n",
    "client = Groq(api_key=\"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\")\n",
    "MODEL_NAME = \"llama3-70b-8192\"\n",
    "\n",
    "# === CONFIGURATION SELENIUM HEADLESS ===\n",
    "options = Options()\n",
    "options.add_argument(\"--headless\")\n",
    "options.add_argument(\"--disable-gpu\")\n",
    "options.add_argument(\"--window-size=1920,1080\")\n",
    "driver = webdriver.Chrome(options=options)\n",
    "\n",
    "# === Nettoyage & Limitation texte ===\n",
    "def clean_and_limit_text(text, max_words=800):\n",
    "    text = re.sub(r'\\s+', ' ', text).strip()\n",
    "    words = text.split()\n",
    "    if len(words) > max_words:\n",
    "        return ' '.join(words[:max_words]) + \" [...] (texte tronqué)\"\n",
    "    return text\n",
    "\n",
    "# === Extraction texte depuis une URL ===\n",
    "def extract_text_from_URL(URL):\n",
    "    try:\n",
    "        driver.get(URL)\n",
    "        time.sleep(5)\n",
    "\n",
    "        for _ in range(10):\n",
    "            driver.execute_script(\"window.scrollBy(0, 500);\")\n",
    "            time.sleep(0.3)\n",
    "        time.sleep(3)\n",
    "\n",
    "        js_desc = \"\"\"\n",
    "        let desc = document.querySelector('div.showMore--three-lines');\n",
    "        return desc ? desc.innerText.trim() : '';\n",
    "        \"\"\"\n",
    "        description_text = driver.execute_script(js_desc)\n",
    "\n",
    "        try:\n",
    "            open_all_btn = driver.find_element(By.CLASS_NAME, \"govuk-accordion__open-all\")\n",
    "            open_all_btn.click()\n",
    "            time.sleep(1)\n",
    "        except:\n",
    "            pass\n",
    "\n",
    "        js_accordion = \"\"\"\n",
    "        let acc = document.querySelector('div.govuk-accordion.ukri-accordion');\n",
    "        return acc ? acc.innerText.trim() : '';\n",
    "        \"\"\"\n",
    "        accordion_text = driver.execute_script(js_accordion)\n",
    "\n",
    "        final_text = f\"{description_text}\\n\\n---\\n\\n{accordion_text}\".strip()\n",
    "        return final_text if final_text.strip() else \"Pas de contenu détecté.\"\n",
    "    \n",
    "    except Exception as e:\n",
    "        return f\"Erreur Selenium: {e}\"\n",
    "\n",
    "# === Construction du prompt pour Groq ===\n",
    "def build_prompt(projects, site_text):\n",
    "    projects_text = \"\\n\".join([\n",
    "        f\"{i+1}. {p['Project Name']} : {p['Description']} (axe {p['Axes / Thematic Areas']})\"\n",
    "        for i, p in enumerate(projects)\n",
    "    ])\n",
    "    return f\"\"\"\n",
    "Tu es un expert en analyse de projets d'entreprise.\n",
    "\n",
    "Voici une liste de projets que cette entreprise a déjà réalisés avec leurs descriptions et axes principaux :\n",
    "\n",
    "{projects_text}\n",
    "\n",
    "Voici maintenant le contenu d'un appel à projets extrait d'une page du portail européen :\n",
    "\n",
    "{site_text}\n",
    "\n",
    "Peux-tu me dire si cette opportunité est pertinente par rapport aux projets que l'entreprise a déjà réalisés ?\n",
    "Merci de répondre clairement :\n",
    "- Pertinence : Oui / Non\n",
    "- Projets similaires détectés : [liste]\n",
    "- Résumé rapide expliquant ta réponse.\n",
    "\"\"\"\n",
    "\n",
    "# === Requête Groq ===\n",
    "def query_groq(prompt, model=MODEL_NAME, max_completion_tokens=3000, temperature=1.0, stream=False, delay_between_requests=10):\n",
    "    try:\n",
    "        response = client.chat.completions.create(\n",
    "            model=model,\n",
    "            messages=[\n",
    "                {\"role\": \"system\", \"content\": \"Tu es un expert en comparaison de projets R&D.\"},\n",
    "                {\"role\": \"user\", \"content\": prompt}\n",
    "            ],\n",
    "            temperature=temperature,\n",
    "            max_completion_tokens=max_completion_tokens,\n",
    "            top_p=1,\n",
    "            stream=stream\n",
    "        )\n",
    "        if stream:\n",
    "            result = \"\"\n",
    "            for chunk in response:\n",
    "                delta = chunk.choices[0].delta.content\n",
    "                if delta:\n",
    "                    result += delta\n",
    "            time.sleep(delay_between_requests)\n",
    "            return result.strip()\n",
    "        else:\n",
    "            time.sleep(delay_between_requests)\n",
    "            return response.choices[0].message.content.strip()\n",
    "    except Exception as e:\n",
    "        return f\"Erreur Groq: {e}\"\n",
    "\n",
    "# === Parsing du résultat Groq ===\n",
    "def parse_result(text):\n",
    "    pertinence = \"Non\"\n",
    "    resume = \"\"\n",
    "\n",
    "    try:\n",
    "        match = re.search(r\"(?i)pertinence\\s*[:\\-–]\\s*(oui|non)\", text)\n",
    "        if match:\n",
    "            pertinence = match.group(1).capitalize()\n",
    "\n",
    "        resume_match = re.search(r\"(?i)résumé.*?:\\s*(.+)\", text)\n",
    "        if resume_match:\n",
    "            resume = resume_match.group(1).strip()\n",
    "        else:\n",
    "            resume = \"\\n\".join(text.splitlines()[1:4]).strip()\n",
    "    except:\n",
    "        pass\n",
    "\n",
    "    return pertinence, resume\n",
    "\n",
    "# === Analyse d'une URL ===\n",
    "def analyze_URL(URL, projects_list):\n",
    "    print(f\"🟡 Analyse en cours : {URL}\")\n",
    "    try:\n",
    "        site_text_raw = extract_text_from_URL(URL)\n",
    "        site_text = clean_and_limit_text(site_text_raw, max_words=800)\n",
    "        projects_list_sample = projects_list[:3]  # 3 projets max\n",
    "\n",
    "        prompt = build_prompt(projects_list_sample, site_text)\n",
    "        result_text = query_groq(prompt)\n",
    "        pertinence, resume = parse_result(result_text)\n",
    "        \n",
    "        return {\n",
    "            \"URL\": URL,\n",
    "            \"Pertinence LLM\": pertinence,\n",
    "            \"Résumé LLM\": resume,\n",
    "            \"Réponse brute\": result_text\n",
    "        }\n",
    "    except Exception as e:\n",
    "        return {\n",
    "            \"URL\": URL,\n",
    "            \"Pertinence LLM\": \"Erreur\",\n",
    "            \"Résumé LLM\": f\"Erreur pendant l'analyse : {e}\",\n",
    "            \"Réponse brute\": str(e)\n",
    "        }\n",
    "\n",
    "# === MAIN EXECUTION ===\n",
    "if __name__ == \"__main__\":\n",
    "    try:\n",
    "        df_pertinence_uk = pd.read_excel(\"projets_pertinents_keywords_InnUK_from_all_description.xlsx\")\n",
    "        projects_list = odf_df[['Project Name', 'Description', 'Axes / Thematic Areas']].dropna().to_dict(orient='records')\n",
    "        URL_list = df_pertinence_uk['URL'].dropna().unique()\n",
    "\n",
    "        results = []\n",
    "        for URL in tqdm(URL_list, desc=\"🔍 Analyse des URLs\"):\n",
    "            results.append(analyze_URL(URL, projects_list))\n",
    "\n",
    "        results_df = pd.DataFrame(results)\n",
    "        df_final_llm_uk = df_pertinence_uk.merge(results_df, on=\"URL\", how=\"left\")\n",
    "\n",
    "        df_final_llm_uk.to_excel(\"df_yes_avec_pertinence_et_resume_uk.xlsx\", index=False)\n",
    "        print(\"\\n✅ Résultats sauvegardés dans 'df_yes_avec_pertinence_et_resume_uk.csv'.\")\n",
    "        \n",
    "    finally:\n",
    "        driver.quit()\n"
   ]
  },
  {
   "cell_type": "code",
   "execution_count": 11,
   "id": "fc8947b2",
   "metadata": {
    "execution": {
     "iopub.execute_input": "2025-07-14T22:08:45.451899Z",
     "iopub.status.busy": "2025-07-14T22:08:45.451899Z",
     "iopub.status.idle": "2025-07-14T22:08:45.471295Z",
     "shell.execute_reply": "2025-07-14T22:08:45.470747Z"
    }
   },
   "outputs": [
    {
     "data": {
      "text/html": [
       "<div>\n",
       "<style scoped>\n",
       "    .dataframe tbody tr th:only-of-type {\n",
       "        vertical-align: middle;\n",
       "    }\n",
       "\n",
       "    .dataframe tbody tr th {\n",
       "        vertical-align: top;\n",
       "    }\n",
       "\n",
       "    .dataframe thead th {\n",
       "        text-align: right;\n",
       "    }\n",
       "</style>\n",
       "<table border=\"1\" class=\"dataframe\">\n",
       "  <thead>\n",
       "    <tr style=\"text-align: right;\">\n",
       "      <th></th>\n",
       "      <th>Title</th>\n",
       "      <th>URL</th>\n",
       "      <th>Description</th>\n",
       "      <th>Start_date</th>\n",
       "      <th>Deadline</th>\n",
       "      <th>Pertinence</th>\n",
       "      <th>Matching Word(s)</th>\n",
       "      <th>Pertinence LLM</th>\n",
       "      <th>Résumé LLM</th>\n",
       "      <th>Réponse brute</th>\n",
       "    </tr>\n",
       "  </thead>\n",
       "  <tbody>\n",
       "    <tr>\n",
       "      <th>0</th>\n",
       "      <td>Smart Data Research UK Fellowships</td>\n",
       "      <td>https://www.ukri.org/opportunity/smart-data-research-uk-fellowships/</td>\n",
       "      <td>Apply for a fellowship to undertake innovative and impact-focused research using smart data. Projects should address a significant real-world challenge which is relevant to the UK.</td>\n",
       "      <td>15 July 2025 9:00am UK time</td>\n",
       "      <td>23 September 2025 4:00pm UK time</td>\n",
       "      <td>Yes</td>\n",
       "      <td>capacity building, artificial intelligence, economic impact</td>\n",
       "      <td>Non</td>\n",
       "      <td>L'appel à projets concerne le soutien à l'entreprendariat social et à l'innovation sociale, ce qui est en lien avec les expériences de l'entreprise dans la création d'écosystèmes d'entreprendre (National Entrepreneurship Program) et le soutien à la maturation technologique de start-ups (FACTORIAT). L'entreprise a démontré sa capacité à mettre en place des programmes de soutien à l'entreprendre et à l'innovation, ce qui la rend apte à répondre à cet appel à projets.</td>\n",
       "      <td>Analyse de l'opportunité de projet :\\n\\n**Appel à projets** : \"Support to social entrepreneurship and social innovation in favour of vulnerable groups\" (Soutien à l'entreprendariat social et à l'innovation sociale en faveur des groupes vulnérables)\\n\\n**Pertinence** : Oui\\n\\n**Projets similaires détectés** : National Entrepreneurship Program, FACTORIAT\\n\\n**Résumé rapide** : L'appel à projets concerne le soutien à l'entreprendariat social et à l'innovation sociale, ce qui est en lien avec les expériences de l'entreprise dans la création d'écosystèmes d'entreprendre (National Entrepreneurship Program) et le soutien à la maturation technologique de start-ups (FACTORIAT). L'entreprise a démontré sa capacité à mettre en place des programmes de soutien à l'entreprendre et à l'innovation, ce qui la rend apte à répondre à cet appel à projets.</td>\n",
       "    </tr>\n",
       "    <tr>\n",
       "      <th>1</th>\n",
       "      <td>Institutional diversity fund (invite only)</td>\n",
       "      <td>https://www.ukri.org/opportunity/institutional-diversity-fund-invite-only/</td>\n",
       "      <td>The purpose of this opportunity is to provide strategic research infrastructure base funding, supporting independent research organisations to support the diverse social science ecosystem in the UK.</td>\n",
       "      <td>21 July 2025 9:00am UK time</td>\n",
       "      <td>16 September 2025 4:00pm UK time</td>\n",
       "      <td>Yes</td>\n",
       "      <td>artificial intelligence</td>\n",
       "      <td>Non</td>\n",
       "      <td>Les projets précédemment réalisés par l'entreprise sont principalement liés à l'incubation, l'accélération et le financement de startups, ainsi qu'à la création d'écosystèmes d'entrepreneuriat, alors que l'appel à projet ESRC concerne le soutien à la recherche en sciences sociales et à l'infrastructure de recherche au sein d'organisations de recherche indépendantes britanniques. Les objectifs et les domaines d'intervention sont donc très différents.</td>\n",
       "      <td>Pertinence : Non\\n\\nProjets similaires détectés : Aucun\\n\\nRésumé rapide : Les projets précédemment réalisés par l'entreprise sont principalement liés à l'incubation, l'accélération et le financement de startups, ainsi qu'à la création d'écosystèmes d'entrepreneuriat, alors que l'appel à projet ESRC concerne le soutien à la recherche en sciences sociales et à l'infrastructure de recherche au sein d'organisations de recherche indépendantes britanniques. Les objectifs et les domaines d'intervention sont donc très différents.</td>\n",
       "    </tr>\n",
       "    <tr>\n",
       "      <th>2</th>\n",
       "      <td>Gap fund for early-stage development of new healthcare interventions</td>\n",
       "      <td>https://www.ukri.org/opportunity/funding-for-early-stage-development-of-new-healthcare-interventions/</td>\n",
       "      <td>Apply to the Developmental Pathway Gap Fund to address a single-step evidence gap and de-risk the development of a new medicine, medical device, diagnostic test or other medical intervention.</td>\n",
       "      <td>10 July 2025 9:00am UK time</td>\n",
       "      <td>12 November 2025 4:00pm UK time</td>\n",
       "      <td>Yes</td>\n",
       "      <td>due diligence, development strategy, technology transfer, intellectual property, service delivery, artificial intelligence, applied research</td>\n",
       "      <td>Non</td>\n",
       "      <td>L'appel à projets concerne des projets de recherche médicale et de développement de médicaments, ce qui n'est pas en ligne avec les compétences et les axes de l'entreprise qui sont plutôt tournés vers l'incubation, l'accélération, le développement de startups et la stratégie pour l'économie numérique. Les projets de l'entreprise (FACTORIAT, National Entrepreneurship Program, Arab Bank Strategy) n'ont pas de lien direct avec la santé, la médecine ou le développement de médicaments.</td>\n",
       "      <td>Pertinence : Non\\n\\nProjets similaires détectés : Aucun\\n\\nRésumé rapide : L'appel à projets concerne des projets de recherche médicale et de développement de médicaments, ce qui n'est pas en ligne avec les compétences et les axes de l'entreprise qui sont plutôt tournés vers l'incubation, l'accélération, le développement de startups et la stratégie pour l'économie numérique. Les projets de l'entreprise (FACTORIAT, National Entrepreneurship Program, Arab Bank Strategy) n'ont pas de lien direct avec la santé, la médecine ou le développement de médicaments.</td>\n",
       "    </tr>\n",
       "    <tr>\n",
       "      <th>3</th>\n",
       "      <td>Digitise UK natural science collections</td>\n",
       "      <td>https://www.ukri.org/opportunity/digitise-uk-natural-science-collections/</td>\n",
       "      <td>Apply for funding to establish a Digitisation Hub for Natural Science Collections as part of the Distributed System of Scientific Collections (DiSSCo) UK programme.</td>\n",
       "      <td>8 July 2025 9:00am UK time</td>\n",
       "      <td>16 September 2025 4:00pm UK time</td>\n",
       "      <td>Yes</td>\n",
       "      <td>capacity building, project management, due diligence, artificial intelligence</td>\n",
       "      <td>Non</td>\n",
       "      <td>L'appel à projets concerne la création de hubs de numérisation pour les collections scientifiques naturelles au Royaume-Uni, ce qui est très spécifique et différent des projets déjà réalisés par l'entreprise, qui se concentrent sur l'incubation, la formation, la stratégie et le financement pour les startups et les écosystèmes d'entreprises, principalement dans les domaines de la Deeptech et de l'économie numérique. Il n'y a pas desimilarité claire entre les projets précédemment réalisés et cet appel à projets.</td>\n",
       "      <td>Pertinence : Non\\n\\nProjets similaires détectés : Aucun\\n\\nRésumé rapide : L'appel à projets concerne la création de hubs de numérisation pour les collections scientifiques naturelles au Royaume-Uni, ce qui est très spécifique et différent des projets déjà réalisés par l'entreprise, qui se concentrent sur l'incubation, la formation, la stratégie et le financement pour les startups et les écosystèmes d'entreprises, principalement dans les domaines de la Deeptech et de l'économie numérique. Il n'y a pas desimilarité claire entre les projets précédemment réalisés et cet appel à projets.</td>\n",
       "    </tr>\n",
       "    <tr>\n",
       "      <th>4</th>\n",
       "      <td>Aviation’s non-CO2 Impacts on the Climate: programme coordinator</td>\n",
       "      <td>https://www.ukri.org/opportunity/aviations-non-co2-impacts-on-the-climate-programme-coordinator/</td>\n",
       "      <td>Apply for funding to become the programme coordinator for the Aviation’s non-CO2 Impacts on the Climate programme.</td>\n",
       "      <td>11 July 2025 9:00am UK time</td>\n",
       "      <td>18 September 2025 4:00pm UK time</td>\n",
       "      <td>Yes</td>\n",
       "      <td>due diligence, monitoring and evaluation, stakeholder mapping, artificial intelligence, applied research</td>\n",
       "      <td>Oui</td>\n",
       "      <td>L'opportunité de projet européen concerne la coordination d'un programme de recherche et de développement dans le domaine de l'aviation, avec des objectifs de mise en réseau, de communication et d'intégration de différents acteurs. Cette opportunité est pertinente pour l'entreprise car elle a déjà mené des projets similaires, tels que le National Entrepreneurship Program, qui concerne la mise en place d'un écosystème entrepreneurial national, et l'Arab Bank Strategy, qui vise à développer une stratégie de financement et de partenariat pour les projets de l'économie numérique en Afrique. Ces projets montrent que l'entreprise a une expertise dans la conception et la mise en œuvre de programmes de développement et de financement, ainsi que dans la coordination d'acteurs divers.</td>\n",
       "      <td>Pertinence : Oui\\n\\nProjets similaires détectés : National Entrepreneurship Program, Arab Bank Strategy\\n\\nRésumé rapide : L'opportunité de projet européen concerne la coordination d'un programme de recherche et de développement dans le domaine de l'aviation, avec des objectifs de mise en réseau, de communication et d'intégration de différents acteurs. Cette opportunité est pertinente pour l'entreprise car elle a déjà mené des projets similaires, tels que le National Entrepreneurship Program, qui concerne la mise en place d'un écosystème entrepreneurial national, et l'Arab Bank Strategy, qui vise à développer une stratégie de financement et de partenariat pour les projets de l'économie numérique en Afrique. Ces projets montrent que l'entreprise a une expertise dans la conception et la mise en œuvre de programmes de développement et de financement, ainsi que dans la coordination d'acteurs divers.</td>\n",
       "    </tr>\n",
       "    <tr>\n",
       "      <th>...</th>\n",
       "      <td>...</td>\n",
       "      <td>...</td>\n",
       "      <td>...</td>\n",
       "      <td>...</td>\n",
       "      <td>...</td>\n",
       "      <td>...</td>\n",
       "      <td>...</td>\n",
       "      <td>...</td>\n",
       "      <td>...</td>\n",
       "      <td>...</td>\n",
       "    </tr>\n",
       "    <tr>\n",
       "      <th>85</th>\n",
       "      <td>Work with Brazilian researchers: NERC FAPESP lead agency</td>\n",
       "      <td>https://www.ukri.org/opportunity/work-with-brazilian-researchers-nerc-fapesp-lead-agency/</td>\n",
       "      <td>This opportunity allows UK-based researchers and researchers in the State of São Paulo, Brazil to submit a collaborative application under existing NERC funding opportunities. This will go through a single review process.</td>\n",
       "      <td>Date d'ouverture non spécifiée</td>\n",
       "      <td>Date de clôture non spécifiée</td>\n",
       "      <td>Yes</td>\n",
       "      <td>intellectual property, research results</td>\n",
       "      <td>Non</td>\n",
       "      <td>Impossible de déterminer la pertinence sans le contenu de l'appel à projets.</td>\n",
       "      <td>Erreur de Selenium ?\\n\\nPas de problème, je vais ignorer ce message d'erreur et analyser le contenu de l'appel à projets.\\n\\nMalheureusement, il semblerait que le contenu de l'appel à projets ne soit pas disponible. Il est donc difficile de déterminer si cette opportunité est pertinente par rapport aux projets que l'entreprise a déjà réalisés.\\n\\nMais, si vous pouvez me fournir le contenu réel de l'appel à projets, je serai ravi de vous aider à déterminer la pertinence de cette opportunité.\\n\\nDans l'attente du contenu de l'appel à projets, voici ma réponse :\\n\\n- Pertinence : Non (en l'absence de contenu)\\n- Projets similaires détectés : Aucun\\n- Résumé rapide : Impossible de déterminer la pertinence sans le contenu de l'appel à projets.</td>\n",
       "    </tr>\n",
       "    <tr>\n",
       "      <th>86</th>\n",
       "      <td>Collaborate with researchers in Brazil</td>\n",
       "      <td>https://www.ukri.org/opportunity/collaborate-with-researchers-in-brazil/</td>\n",
       "      <td>UK Research and Innovation (UKRI) and FAPESP’s lead agency agreement allows UKRI to assess joint applications from eligible UK and Brazil-based researchers from the state of São Paulo on behalf of both organisations.</td>\n",
       "      <td>Date d'ouverture non spécifiée</td>\n",
       "      <td>Date de clôture non spécifiée</td>\n",
       "      <td>Yes</td>\n",
       "      <td>intellectual property, research results</td>\n",
       "      <td>Non</td>\n",
       "      <td>L'appel à projet est corrompu et ne fournit pas d'informations exploitables. Il est impossible d'évaluer la pertinence de l'opportunité en l'état.</td>\n",
       "      <td>Erreur ! Il semblerait que le contenu de l'appel à projets soit corrompu et ne fournisse pas d'informations exploitables. Il s'agit probablement d'un bug technique lié à l'extraction de la page du portail européen.\\n\\nDans ce cas, je ne peux pas évaluer la pertinence de l'opportunité en fonction des projets que l'entreprise a déjà réalisés.\\n\\nRéponse :\\n\\n* Pertinence : Non (en raison de l'erreur technique)\\n* Projets similaires détectés : Aucun\\n* Résumé rapide : L'appel à projet est corrompu et ne fournit pas d'informations exploitables. Il est impossible d'évaluer la pertinence de l'opportunité en l'état.</td>\n",
       "    </tr>\n",
       "    <tr>\n",
       "      <th>87</th>\n",
       "      <td>UKRI-SBE lead agency opportunity</td>\n",
       "      <td>https://www.ukri.org/opportunity/ukri-sbe-lead-agency-opportunity/</td>\n",
       "      <td>The UKRI-SBE lead agency opportunity allows UK and US-based researchers to submit a collaborative proposal that will go through a single review process. Grants are funded through existing funding programmes at the relevant lead agency.</td>\n",
       "      <td>Date d'ouverture non spécifiée</td>\n",
       "      <td>Date de clôture non spécifiée</td>\n",
       "      <td>Yes</td>\n",
       "      <td>biotechnology</td>\n",
       "      <td>Non</td>\n",
       "      <td>Le contenu de l'appel à projet est corrompu et ne permet pas d'évaluer la pertinence de l'opportunité.</td>\n",
       "      <td>Erreur ! Il semblerait que le contenu de l'appel à projet soit corrompu et ne contienne pas d'information exploitables.\\n\\nEn l'absence de contenu pertinent, je ne peux pas évaluer la pertinence de cette opportunité par rapport aux projets que l'entreprise a déjà réalisés.\\n\\nDonc, ma réponse est :\\n\\n- Pertinence : Non\\n- Projets similaires détectés : Aucun\\n- Résumé rapide : Le contenu de l'appel à projet est corrompu et ne permet pas d'évaluer la pertinence de l'opportunité.</td>\n",
       "    </tr>\n",
       "    <tr>\n",
       "      <th>88</th>\n",
       "      <td>Institutional strategic developmental projects in higher education</td>\n",
       "      <td>https://www.ukri.org/opportunity/research-england-development-fund/</td>\n",
       "      <td>Apply for funding to develop institutional-level innovations in research and knowledge exchange.</td>\n",
       "      <td>Date d'ouverture non spécifiée</td>\n",
       "      <td>Date de clôture non spécifiée</td>\n",
       "      <td>Yes</td>\n",
       "      <td>capacity building, social innovation</td>\n",
       "      <td>Non</td>\n",
       "      <td>L'appel à projets est invalide en raison d'une erreur technique. Il n'y a pas de contenu à analyzer pour évaluer la pertinence avec les projets précédents de l'entreprise.</td>\n",
       "      <td>Je suis ravi de vous aider !\\n\\nErreur Selenium... Hmm, cela ressemble à un problème technique lié à une erreur de session Selenium. Il n'y a pas de contenu d'appel à projets à analyzer. Il semblerait que cela soit une erreur technique et non un appel à projets.\\n\\nDonc, ma réponse est :\\n\\n- Pertinence : Non\\n- Projets similaires détectés : Aucun\\n- Résumé rapide : L'appel à projets est invalide en raison d'une erreur technique. Il n'y a pas de contenu à analyzer pour évaluer la pertinence avec les projets précédents de l'entreprise.</td>\n",
       "    </tr>\n",
       "    <tr>\n",
       "      <th>89</th>\n",
       "      <td>Daphne Jackson fellowship</td>\n",
       "      <td>https://www.ukri.org/opportunity/daphne-jackson-fellowship/</td>\n",
       "      <td>These fellowships are for those looking to return to a research career after a break. Fellowships combine a personalised retraining programme with a challenging research project. They are flexible, usually lasting two years at 0.5 full-time equivalent, although some UKRI funders may award longer.</td>\n",
       "      <td>Date d'ouverture non spécifiée</td>\n",
       "      <td>Date de clôture non spécifiée</td>\n",
       "      <td>Yes</td>\n",
       "      <td>economic development</td>\n",
       "      <td>Non</td>\n",
       "      <td>Il semblerait que le contenu d'appel à projets extrait du portail européen ne soit pas lisible et ne contienne pas d'informations utiles pour évaluer la pertinence de l'opportunité par rapport aux projets que l'entreprise a déjà réalisés.</td>\n",
       "      <td>Erreur dans la réponse précédente.\\n\\nIl semblerait que le contenu d'appel à projets extrait du portail européen ne soit pas lisible et ne contienne pas d'informations utiles pour évaluer la pertinence de l'opportunité par rapport aux projets que l'entreprise a déjà réalisés.\\n\\nPouvez-vous me fournir le contenu réel de l'appel à projets pour que je puisse évaluer la pertinence de l'opportunité ?\\n\\nSi le contenu est trop long, je peux vous demander de me fournir les éléments clés de l'appel à projets, tels que le titre, les objectifs, les thèmes ou les axes principaux.</td>\n",
       "    </tr>\n",
       "  </tbody>\n",
       "</table>\n",
       "<p>90 rows × 10 columns</p>\n",
       "</div>"
      ],
      "text/plain": [
       "                                                                   Title  \\\n",
       "0                                     Smart Data Research UK Fellowships   \n",
       "1                             Institutional diversity fund (invite only)   \n",
       "2   Gap fund for early-stage development of new healthcare interventions   \n",
       "3                                Digitise UK natural science collections   \n",
       "4       Aviation’s non-CO2 Impacts on the Climate: programme coordinator   \n",
       "..                                                                   ...   \n",
       "85              Work with Brazilian researchers: NERC FAPESP lead agency   \n",
       "86                                Collaborate with researchers in Brazil   \n",
       "87                                      UKRI-SBE lead agency opportunity   \n",
       "88    Institutional strategic developmental projects in higher education   \n",
       "89                                             Daphne Jackson fellowship   \n",
       "\n",
       "                                                                                                      URL  \\\n",
       "0                                    https://www.ukri.org/opportunity/smart-data-research-uk-fellowships/   \n",
       "1                              https://www.ukri.org/opportunity/institutional-diversity-fund-invite-only/   \n",
       "2   https://www.ukri.org/opportunity/funding-for-early-stage-development-of-new-healthcare-interventions/   \n",
       "3                               https://www.ukri.org/opportunity/digitise-uk-natural-science-collections/   \n",
       "4        https://www.ukri.org/opportunity/aviations-non-co2-impacts-on-the-climate-programme-coordinator/   \n",
       "..                                                                                                    ...   \n",
       "85              https://www.ukri.org/opportunity/work-with-brazilian-researchers-nerc-fapesp-lead-agency/   \n",
       "86                               https://www.ukri.org/opportunity/collaborate-with-researchers-in-brazil/   \n",
       "87                                     https://www.ukri.org/opportunity/ukri-sbe-lead-agency-opportunity/   \n",
       "88                                    https://www.ukri.org/opportunity/research-england-development-fund/   \n",
       "89                                            https://www.ukri.org/opportunity/daphne-jackson-fellowship/   \n",
       "\n",
       "                                                                                                                                                                                                                                                                                                  Description  \\\n",
       "0                                                                                                                        Apply for a fellowship to undertake innovative and impact-focused research using smart data. Projects should address a significant real-world challenge which is relevant to the UK.   \n",
       "1                                                                                                      The purpose of this opportunity is to provide strategic research infrastructure base funding, supporting independent research organisations to support the diverse social science ecosystem in the UK.   \n",
       "2                                                                                                             Apply to the Developmental Pathway Gap Fund to address a single-step evidence gap and de-risk the development of a new medicine, medical device, diagnostic test or other medical intervention.   \n",
       "3                                                                                                                                        Apply for funding to establish a Digitisation Hub for Natural Science Collections as part of the Distributed System of Scientific Collections (DiSSCo) UK programme.   \n",
       "4                                                                                                                                                                                          Apply for funding to become the programme coordinator for the Aviation’s non-CO2 Impacts on the Climate programme.   \n",
       "..                                                                                                                                                                                                                                                                                                        ...   \n",
       "85                                                                              This opportunity allows UK-based researchers and researchers in the State of São Paulo, Brazil to submit a collaborative application under existing NERC funding opportunities. This will go through a single review process.   \n",
       "86                                                                                   UK Research and Innovation (UKRI) and FAPESP’s lead agency agreement allows UKRI to assess joint applications from eligible UK and Brazil-based researchers from the state of São Paulo on behalf of both organisations.   \n",
       "87                                                                The UKRI-SBE lead agency opportunity allows UK and US-based researchers to submit a collaborative proposal that will go through a single review process. Grants are funded through existing funding programmes at the relevant lead agency.   \n",
       "88                                                                                                                                                                                                           Apply for funding to develop institutional-level innovations in research and knowledge exchange.   \n",
       "89  These fellowships are for those looking to return to a research career after a break. Fellowships combine a personalised retraining programme with a challenging research project. They are flexible, usually lasting two years at 0.5 full-time equivalent, although some UKRI funders may award longer.   \n",
       "\n",
       "                        Start_date                          Deadline  \\\n",
       "0      15 July 2025 9:00am UK time  23 September 2025 4:00pm UK time   \n",
       "1      21 July 2025 9:00am UK time  16 September 2025 4:00pm UK time   \n",
       "2      10 July 2025 9:00am UK time   12 November 2025 4:00pm UK time   \n",
       "3       8 July 2025 9:00am UK time  16 September 2025 4:00pm UK time   \n",
       "4      11 July 2025 9:00am UK time  18 September 2025 4:00pm UK time   \n",
       "..                             ...                               ...   \n",
       "85  Date d'ouverture non spécifiée     Date de clôture non spécifiée   \n",
       "86  Date d'ouverture non spécifiée     Date de clôture non spécifiée   \n",
       "87  Date d'ouverture non spécifiée     Date de clôture non spécifiée   \n",
       "88  Date d'ouverture non spécifiée     Date de clôture non spécifiée   \n",
       "89  Date d'ouverture non spécifiée     Date de clôture non spécifiée   \n",
       "\n",
       "   Pertinence  \\\n",
       "0         Yes   \n",
       "1         Yes   \n",
       "2         Yes   \n",
       "3         Yes   \n",
       "4         Yes   \n",
       "..        ...   \n",
       "85        Yes   \n",
       "86        Yes   \n",
       "87        Yes   \n",
       "88        Yes   \n",
       "89        Yes   \n",
       "\n",
       "                                                                                                                                Matching Word(s)  \\\n",
       "0                                                                                    capacity building, artificial intelligence, economic impact   \n",
       "1                                                                                                                        artificial intelligence   \n",
       "2   due diligence, development strategy, technology transfer, intellectual property, service delivery, artificial intelligence, applied research   \n",
       "3                                                                  capacity building, project management, due diligence, artificial intelligence   \n",
       "4                                       due diligence, monitoring and evaluation, stakeholder mapping, artificial intelligence, applied research   \n",
       "..                                                                                                                                           ...   \n",
       "85                                                                                                       intellectual property, research results   \n",
       "86                                                                                                       intellectual property, research results   \n",
       "87                                                                                                                                 biotechnology   \n",
       "88                                                                                                          capacity building, social innovation   \n",
       "89                                                                                                                          economic development   \n",
       "\n",
       "   Pertinence LLM  \\\n",
       "0             Non   \n",
       "1             Non   \n",
       "2             Non   \n",
       "3             Non   \n",
       "4             Oui   \n",
       "..            ...   \n",
       "85            Non   \n",
       "86            Non   \n",
       "87            Non   \n",
       "88            Non   \n",
       "89            Non   \n",
       "\n",
       "                                                                                                                                                                                                                                                                                                                                                                                                                                                                                                                                                                                                                                                                                                                                                                                                           Résumé LLM  \\\n",
       "0                                                                                                                                                                                                                                                                                                                               L'appel à projets concerne le soutien à l'entreprendariat social et à l'innovation sociale, ce qui est en lien avec les expériences de l'entreprise dans la création d'écosystèmes d'entreprendre (National Entrepreneurship Program) et le soutien à la maturation technologique de start-ups (FACTORIAT). L'entreprise a démontré sa capacité à mettre en place des programmes de soutien à l'entreprendre et à l'innovation, ce qui la rend apte à répondre à cet appel à projets.   \n",
       "1                                                                                                                                                                                                                                                                                                                                               Les projets précédemment réalisés par l'entreprise sont principalement liés à l'incubation, l'accélération et le financement de startups, ainsi qu'à la création d'écosystèmes d'entrepreneuriat, alors que l'appel à projet ESRC concerne le soutien à la recherche en sciences sociales et à l'infrastructure de recherche au sein d'organisations de recherche indépendantes britanniques. Les objectifs et les domaines d'intervention sont donc très différents.   \n",
       "2                                                                                                                                                                                                                                                                                                               L'appel à projets concerne des projets de recherche médicale et de développement de médicaments, ce qui n'est pas en ligne avec les compétences et les axes de l'entreprise qui sont plutôt tournés vers l'incubation, l'accélération, le développement de startups et la stratégie pour l'économie numérique. Les projets de l'entreprise (FACTORIAT, National Entrepreneurship Program, Arab Bank Strategy) n'ont pas de lien direct avec la santé, la médecine ou le développement de médicaments.   \n",
       "3                                                                                                                                                                                                                                                                                 L'appel à projets concerne la création de hubs de numérisation pour les collections scientifiques naturelles au Royaume-Uni, ce qui est très spécifique et différent des projets déjà réalisés par l'entreprise, qui se concentrent sur l'incubation, la formation, la stratégie et le financement pour les startups et les écosystèmes d'entreprises, principalement dans les domaines de la Deeptech et de l'économie numérique. Il n'y a pas desimilarité claire entre les projets précédemment réalisés et cet appel à projets.   \n",
       "4   L'opportunité de projet européen concerne la coordination d'un programme de recherche et de développement dans le domaine de l'aviation, avec des objectifs de mise en réseau, de communication et d'intégration de différents acteurs. Cette opportunité est pertinente pour l'entreprise car elle a déjà mené des projets similaires, tels que le National Entrepreneurship Program, qui concerne la mise en place d'un écosystème entrepreneurial national, et l'Arab Bank Strategy, qui vise à développer une stratégie de financement et de partenariat pour les projets de l'économie numérique en Afrique. Ces projets montrent que l'entreprise a une expertise dans la conception et la mise en œuvre de programmes de développement et de financement, ainsi que dans la coordination d'acteurs divers.   \n",
       "..                                                                                                                                                                                                                                                                                                                                                                                                                                                                                                                                                                                                                                                                                                                                                                                                                ...   \n",
       "85                                                                                                                                                                                                                                                                                                                                                                                                                                                                                                                                                                                                                                                                                                                                       Impossible de déterminer la pertinence sans le contenu de l'appel à projets.   \n",
       "86                                                                                                                                                                                                                                                                                                                                                                                                                                                                                                                                                                                                                                                                 L'appel à projet est corrompu et ne fournit pas d'informations exploitables. Il est impossible d'évaluer la pertinence de l'opportunité en l'état.   \n",
       "87                                                                                                                                                                                                                                                                                                                                                                                                                                                                                                                                                                                                                                                                                                             Le contenu de l'appel à projet est corrompu et ne permet pas d'évaluer la pertinence de l'opportunité.   \n",
       "88                                                                                                                                                                                                                                                                                                                                                                                                                                                                                                                                                                                                                                        L'appel à projets est invalide en raison d'une erreur technique. Il n'y a pas de contenu à analyzer pour évaluer la pertinence avec les projets précédents de l'entreprise.   \n",
       "89                                                                                                                                                                                                                                                                                                                                                                                                                                                                                                                                                                     Il semblerait que le contenu d'appel à projets extrait du portail européen ne soit pas lisible et ne contienne pas d'informations utiles pour évaluer la pertinence de l'opportunité par rapport aux projets que l'entreprise a déjà réalisés.   \n",
       "\n",
       "                                                                                                                                                                                                                                                                                                                                                                                                                                                                                                                                                                                                                                                                                                                                                                                                                                                                                                                                   Réponse brute  \n",
       "0                                                                Analyse de l'opportunité de projet :\\n\\n**Appel à projets** : \"Support to social entrepreneurship and social innovation in favour of vulnerable groups\" (Soutien à l'entreprendariat social et à l'innovation sociale en faveur des groupes vulnérables)\\n\\n**Pertinence** : Oui\\n\\n**Projets similaires détectés** : National Entrepreneurship Program, FACTORIAT\\n\\n**Résumé rapide** : L'appel à projets concerne le soutien à l'entreprendariat social et à l'innovation sociale, ce qui est en lien avec les expériences de l'entreprise dans la création d'écosystèmes d'entreprendre (National Entrepreneurship Program) et le soutien à la maturation technologique de start-ups (FACTORIAT). L'entreprise a démontré sa capacité à mettre en place des programmes de soutien à l'entreprendre et à l'innovation, ce qui la rend apte à répondre à cet appel à projets.  \n",
       "1                                                                                                                                                                                                                                                                                                                                                                                               Pertinence : Non\\n\\nProjets similaires détectés : Aucun\\n\\nRésumé rapide : Les projets précédemment réalisés par l'entreprise sont principalement liés à l'incubation, l'accélération et le financement de startups, ainsi qu'à la création d'écosystèmes d'entrepreneuriat, alors que l'appel à projet ESRC concerne le soutien à la recherche en sciences sociales et à l'infrastructure de recherche au sein d'organisations de recherche indépendantes britanniques. Les objectifs et les domaines d'intervention sont donc très différents.  \n",
       "2                                                                                                                                                                                                                                                                                                                                                               Pertinence : Non\\n\\nProjets similaires détectés : Aucun\\n\\nRésumé rapide : L'appel à projets concerne des projets de recherche médicale et de développement de médicaments, ce qui n'est pas en ligne avec les compétences et les axes de l'entreprise qui sont plutôt tournés vers l'incubation, l'accélération, le développement de startups et la stratégie pour l'économie numérique. Les projets de l'entreprise (FACTORIAT, National Entrepreneurship Program, Arab Bank Strategy) n'ont pas de lien direct avec la santé, la médecine ou le développement de médicaments.  \n",
       "3                                                                                                                                                                                                                                                                                                                                 Pertinence : Non\\n\\nProjets similaires détectés : Aucun\\n\\nRésumé rapide : L'appel à projets concerne la création de hubs de numérisation pour les collections scientifiques naturelles au Royaume-Uni, ce qui est très spécifique et différent des projets déjà réalisés par l'entreprise, qui se concentrent sur l'incubation, la formation, la stratégie et le financement pour les startups et les écosystèmes d'entreprises, principalement dans les domaines de la Deeptech et de l'économie numérique. Il n'y a pas desimilarité claire entre les projets précédemment réalisés et cet appel à projets.  \n",
       "4   Pertinence : Oui\\n\\nProjets similaires détectés : National Entrepreneurship Program, Arab Bank Strategy\\n\\nRésumé rapide : L'opportunité de projet européen concerne la coordination d'un programme de recherche et de développement dans le domaine de l'aviation, avec des objectifs de mise en réseau, de communication et d'intégration de différents acteurs. Cette opportunité est pertinente pour l'entreprise car elle a déjà mené des projets similaires, tels que le National Entrepreneurship Program, qui concerne la mise en place d'un écosystème entrepreneurial national, et l'Arab Bank Strategy, qui vise à développer une stratégie de financement et de partenariat pour les projets de l'économie numérique en Afrique. Ces projets montrent que l'entreprise a une expertise dans la conception et la mise en œuvre de programmes de développement et de financement, ainsi que dans la coordination d'acteurs divers.  \n",
       "..                                                                                                                                                                                                                                                                                                                                                                                                                                                                                                                                                                                                                                                                                                                                                                                                                                                                                                                                           ...  \n",
       "85                                                                                                                                                                  Erreur de Selenium ?\\n\\nPas de problème, je vais ignorer ce message d'erreur et analyser le contenu de l'appel à projets.\\n\\nMalheureusement, il semblerait que le contenu de l'appel à projets ne soit pas disponible. Il est donc difficile de déterminer si cette opportunité est pertinente par rapport aux projets que l'entreprise a déjà réalisés.\\n\\nMais, si vous pouvez me fournir le contenu réel de l'appel à projets, je serai ravi de vous aider à déterminer la pertinence de cette opportunité.\\n\\nDans l'attente du contenu de l'appel à projets, voici ma réponse :\\n\\n- Pertinence : Non (en l'absence de contenu)\\n- Projets similaires détectés : Aucun\\n- Résumé rapide : Impossible de déterminer la pertinence sans le contenu de l'appel à projets.  \n",
       "86                                                                                                                                                                                                                                                                                                      Erreur ! Il semblerait que le contenu de l'appel à projets soit corrompu et ne fournisse pas d'informations exploitables. Il s'agit probablement d'un bug technique lié à l'extraction de la page du portail européen.\\n\\nDans ce cas, je ne peux pas évaluer la pertinence de l'opportunité en fonction des projets que l'entreprise a déjà réalisés.\\n\\nRéponse :\\n\\n* Pertinence : Non (en raison de l'erreur technique)\\n* Projets similaires détectés : Aucun\\n* Résumé rapide : L'appel à projet est corrompu et ne fournit pas d'informations exploitables. Il est impossible d'évaluer la pertinence de l'opportunité en l'état.  \n",
       "87                                                                                                                                                                                                                                                                                                                                                                                                                                            Erreur ! Il semblerait que le contenu de l'appel à projet soit corrompu et ne contienne pas d'information exploitables.\\n\\nEn l'absence de contenu pertinent, je ne peux pas évaluer la pertinence de cette opportunité par rapport aux projets que l'entreprise a déjà réalisés.\\n\\nDonc, ma réponse est :\\n\\n- Pertinence : Non\\n- Projets similaires détectés : Aucun\\n- Résumé rapide : Le contenu de l'appel à projet est corrompu et ne permet pas d'évaluer la pertinence de l'opportunité.  \n",
       "88                                                                                                                                                                                                                                                                                                                                                                                  Je suis ravi de vous aider !\\n\\nErreur Selenium... Hmm, cela ressemble à un problème technique lié à une erreur de session Selenium. Il n'y a pas de contenu d'appel à projets à analyzer. Il semblerait que cela soit une erreur technique et non un appel à projets.\\n\\nDonc, ma réponse est :\\n\\n- Pertinence : Non\\n- Projets similaires détectés : Aucun\\n- Résumé rapide : L'appel à projets est invalide en raison d'une erreur technique. Il n'y a pas de contenu à analyzer pour évaluer la pertinence avec les projets précédents de l'entreprise.  \n",
       "89                                                                                                                                                                                                                                                                                                                                              Erreur dans la réponse précédente.\\n\\nIl semblerait que le contenu d'appel à projets extrait du portail européen ne soit pas lisible et ne contienne pas d'informations utiles pour évaluer la pertinence de l'opportunité par rapport aux projets que l'entreprise a déjà réalisés.\\n\\nPouvez-vous me fournir le contenu réel de l'appel à projets pour que je puisse évaluer la pertinence de l'opportunité ?\\n\\nSi le contenu est trop long, je peux vous demander de me fournir les éléments clés de l'appel à projets, tels que le titre, les objectifs, les thèmes ou les axes principaux.  \n",
       "\n",
       "[90 rows x 10 columns]"
      ]
     },
     "execution_count": 11,
     "metadata": {},
     "output_type": "execute_result"
    }
   ],
   "source": [
    "df_final_llm_uk"
   ]
  },
  {
   "cell_type": "code",
   "execution_count": 12,
   "id": "40898ded",
   "metadata": {
    "execution": {
     "iopub.execute_input": "2025-07-14T22:08:45.472734Z",
     "iopub.status.busy": "2025-07-14T22:08:45.472734Z",
     "iopub.status.idle": "2025-07-14T22:08:45.481513Z",
     "shell.execute_reply": "2025-07-14T22:08:45.481015Z"
    }
   },
   "outputs": [
    {
     "data": {
      "text/html": [
       "<div>\n",
       "<style scoped>\n",
       "    .dataframe tbody tr th:only-of-type {\n",
       "        vertical-align: middle;\n",
       "    }\n",
       "\n",
       "    .dataframe tbody tr th {\n",
       "        vertical-align: top;\n",
       "    }\n",
       "\n",
       "    .dataframe thead th {\n",
       "        text-align: right;\n",
       "    }\n",
       "</style>\n",
       "<table border=\"1\" class=\"dataframe\">\n",
       "  <thead>\n",
       "    <tr style=\"text-align: right;\">\n",
       "      <th></th>\n",
       "      <th>Title</th>\n",
       "      <th>URL</th>\n",
       "      <th>Description</th>\n",
       "      <th>Start_date</th>\n",
       "      <th>Deadline</th>\n",
       "      <th>Pertinence</th>\n",
       "      <th>Matching Word(s)</th>\n",
       "      <th>Pertinence LLM</th>\n",
       "      <th>Résumé LLM</th>\n",
       "      <th>Réponse brute</th>\n",
       "    </tr>\n",
       "  </thead>\n",
       "  <tbody>\n",
       "    <tr>\n",
       "      <th>4</th>\n",
       "      <td>Aviation’s non-CO2 Impacts on the Climate: programme coordinator</td>\n",
       "      <td>https://www.ukri.org/opportunity/aviations-non-co2-impacts-on-the-climate-programme-coordinator/</td>\n",
       "      <td>Apply for funding to become the programme coordinator for the Aviation’s non-CO2 Impacts on the Climate programme.</td>\n",
       "      <td>11 July 2025 9:00am UK time</td>\n",
       "      <td>18 September 2025 4:00pm UK time</td>\n",
       "      <td>Yes</td>\n",
       "      <td>due diligence, monitoring and evaluation, stakeholder mapping, artificial intelligence, applied research</td>\n",
       "      <td>Oui</td>\n",
       "      <td>L'opportunité de projet européen concerne la coordination d'un programme de recherche et de développement dans le domaine de l'aviation, avec des objectifs de mise en réseau, de communication et d'intégration de différents acteurs. Cette opportunité est pertinente pour l'entreprise car elle a déjà mené des projets similaires, tels que le National Entrepreneurship Program, qui concerne la mise en place d'un écosystème entrepreneurial national, et l'Arab Bank Strategy, qui vise à développer une stratégie de financement et de partenariat pour les projets de l'économie numérique en Afrique. Ces projets montrent que l'entreprise a une expertise dans la conception et la mise en œuvre de programmes de développement et de financement, ainsi que dans la coordination d'acteurs divers.</td>\n",
       "      <td>Pertinence : Oui\\n\\nProjets similaires détectés : National Entrepreneurship Program, Arab Bank Strategy\\n\\nRésumé rapide : L'opportunité de projet européen concerne la coordination d'un programme de recherche et de développement dans le domaine de l'aviation, avec des objectifs de mise en réseau, de communication et d'intégration de différents acteurs. Cette opportunité est pertinente pour l'entreprise car elle a déjà mené des projets similaires, tels que le National Entrepreneurship Program, qui concerne la mise en place d'un écosystème entrepreneurial national, et l'Arab Bank Strategy, qui vise à développer une stratégie de financement et de partenariat pour les projets de l'économie numérique en Afrique. Ces projets montrent que l'entreprise a une expertise dans la conception et la mise en œuvre de programmes de développement et de financement, ainsi que dans la coordination d'acteurs divers.</td>\n",
       "    </tr>\n",
       "    <tr>\n",
       "      <th>25</th>\n",
       "      <td>Sandpit: moving respiratory health diagnosis into the 21st century invite only</td>\n",
       "      <td>https://www.ukri.org/opportunity/sandpit-moving-respiratory-health-diagnosis-into-the-21st-century-invite-only/</td>\n",
       "      <td>Apply for funding to develop transformative diagnostic and monitoring approaches to respiratory disease in community healthcare settings.</td>\n",
       "      <td>21 May 2025 9:00am UK time</td>\n",
       "      <td>22 July 2025 4:00pm UK time</td>\n",
       "      <td>Yes</td>\n",
       "      <td>due diligence, artificial intelligence</td>\n",
       "      <td>Oui</td>\n",
       "      <td>L'appel à projet concerne le soutien aux start-ups et à l'innovation, ce qui est en ligne avec les expériences précédentes de l'entreprise dans l'incubation et l'accélération de start-ups (FACTORIAT), la création d'écosystèmes d'entrepreneuriat (National Entrepreneurship Program) et le développement de stratégies de financement pour des projets numériques (Arab Bank Strategy). L'entreprise a donc une solide expertise dans les domaines de l'innovation, de l'entrepreneuriat et du financement, qui sont les éléments clés de cet appel à projet.</td>\n",
       "      <td>Après avoir lu l'appel à projet et les descriptions des projets précédemment réalisés par l'entreprise, voici ma réponse :\\n\\n- Pertinence : Oui\\n- Projets similaires détectés : FACTORIAT, National Entrepreneurship Program, Arab Bank Strategy\\n- Résumé rapide expliquant ma réponse : L'appel à projet concerne le soutien aux start-ups et à l'innovation, ce qui est en ligne avec les expériences précédentes de l'entreprise dans l'incubation et l'accélération de start-ups (FACTORIAT), la création d'écosystèmes d'entrepreneuriat (National Entrepreneurship Program) et le développement de stratégies de financement pour des projets numériques (Arab Bank Strategy). L'entreprise a donc une solide expertise dans les domaines de l'innovation, de l'entrepreneuriat et du financement, qui sont les éléments clés de cet appel à projet.</td>\n",
       "    </tr>\n",
       "  </tbody>\n",
       "</table>\n",
       "</div>"
      ],
      "text/plain": [
       "                                                                             Title  \\\n",
       "4                 Aviation’s non-CO2 Impacts on the Climate: programme coordinator   \n",
       "25  Sandpit: moving respiratory health diagnosis into the 21st century invite only   \n",
       "\n",
       "                                                                                                                URL  \\\n",
       "4                  https://www.ukri.org/opportunity/aviations-non-co2-impacts-on-the-climate-programme-coordinator/   \n",
       "25  https://www.ukri.org/opportunity/sandpit-moving-respiratory-health-diagnosis-into-the-21st-century-invite-only/   \n",
       "\n",
       "                                                                                                                                  Description  \\\n",
       "4                          Apply for funding to become the programme coordinator for the Aviation’s non-CO2 Impacts on the Climate programme.   \n",
       "25  Apply for funding to develop transformative diagnostic and monitoring approaches to respiratory disease in community healthcare settings.   \n",
       "\n",
       "                     Start_date                          Deadline Pertinence  \\\n",
       "4   11 July 2025 9:00am UK time  18 September 2025 4:00pm UK time        Yes   \n",
       "25   21 May 2025 9:00am UK time       22 July 2025 4:00pm UK time        Yes   \n",
       "\n",
       "                                                                                            Matching Word(s)  \\\n",
       "4   due diligence, monitoring and evaluation, stakeholder mapping, artificial intelligence, applied research   \n",
       "25                                                                    due diligence, artificial intelligence   \n",
       "\n",
       "   Pertinence LLM  \\\n",
       "4             Oui   \n",
       "25            Oui   \n",
       "\n",
       "                                                                                                                                                                                                                                                                                                                                                                                                                                                                                                                                                                                                                                                                                                                                                                                                           Résumé LLM  \\\n",
       "4   L'opportunité de projet européen concerne la coordination d'un programme de recherche et de développement dans le domaine de l'aviation, avec des objectifs de mise en réseau, de communication et d'intégration de différents acteurs. Cette opportunité est pertinente pour l'entreprise car elle a déjà mené des projets similaires, tels que le National Entrepreneurship Program, qui concerne la mise en place d'un écosystème entrepreneurial national, et l'Arab Bank Strategy, qui vise à développer une stratégie de financement et de partenariat pour les projets de l'économie numérique en Afrique. Ces projets montrent que l'entreprise a une expertise dans la conception et la mise en œuvre de programmes de développement et de financement, ainsi que dans la coordination d'acteurs divers.   \n",
       "25                                                                                                                                                                                                                                                  L'appel à projet concerne le soutien aux start-ups et à l'innovation, ce qui est en ligne avec les expériences précédentes de l'entreprise dans l'incubation et l'accélération de start-ups (FACTORIAT), la création d'écosystèmes d'entrepreneuriat (National Entrepreneurship Program) et le développement de stratégies de financement pour des projets numériques (Arab Bank Strategy). L'entreprise a donc une solide expertise dans les domaines de l'innovation, de l'entrepreneuriat et du financement, qui sont les éléments clés de cet appel à projet.   \n",
       "\n",
       "                                                                                                                                                                                                                                                                                                                                                                                                                                                                                                                                                                                                                                                                                                                                                                                                                                                                                                                                   Réponse brute  \n",
       "4   Pertinence : Oui\\n\\nProjets similaires détectés : National Entrepreneurship Program, Arab Bank Strategy\\n\\nRésumé rapide : L'opportunité de projet européen concerne la coordination d'un programme de recherche et de développement dans le domaine de l'aviation, avec des objectifs de mise en réseau, de communication et d'intégration de différents acteurs. Cette opportunité est pertinente pour l'entreprise car elle a déjà mené des projets similaires, tels que le National Entrepreneurship Program, qui concerne la mise en place d'un écosystème entrepreneurial national, et l'Arab Bank Strategy, qui vise à développer une stratégie de financement et de partenariat pour les projets de l'économie numérique en Afrique. Ces projets montrent que l'entreprise a une expertise dans la conception et la mise en œuvre de programmes de développement et de financement, ainsi que dans la coordination d'acteurs divers.  \n",
       "25                                                                                 Après avoir lu l'appel à projet et les descriptions des projets précédemment réalisés par l'entreprise, voici ma réponse :\\n\\n- Pertinence : Oui\\n- Projets similaires détectés : FACTORIAT, National Entrepreneurship Program, Arab Bank Strategy\\n- Résumé rapide expliquant ma réponse : L'appel à projet concerne le soutien aux start-ups et à l'innovation, ce qui est en ligne avec les expériences précédentes de l'entreprise dans l'incubation et l'accélération de start-ups (FACTORIAT), la création d'écosystèmes d'entrepreneuriat (National Entrepreneurship Program) et le développement de stratégies de financement pour des projets numériques (Arab Bank Strategy). L'entreprise a donc une solide expertise dans les domaines de l'innovation, de l'entrepreneuriat et du financement, qui sont les éléments clés de cet appel à projet.  "
      ]
     },
     "execution_count": 12,
     "metadata": {},
     "output_type": "execute_result"
    }
   ],
   "source": [
    "df_pertinence_uk_yes_llm = df_final_llm_uk[df_final_llm_uk[\"Pertinence LLM\"] == \"Oui\"]\n",
    "df_pertinence_uk_yes_llm"
   ]
  },
  {
   "cell_type": "code",
   "execution_count": 13,
   "id": "35002837",
   "metadata": {
    "execution": {
     "iopub.execute_input": "2025-07-14T22:08:45.482731Z",
     "iopub.status.busy": "2025-07-14T22:08:45.482731Z",
     "iopub.status.idle": "2025-07-14T22:08:45.521278Z",
     "shell.execute_reply": "2025-07-14T22:08:45.521278Z"
    }
   },
   "outputs": [],
   "source": [
    "# Save to Excel\n",
    "df_final_llm_uk.to_excel('df_final_ukllm.xlsx', index=False, engine='openpyxl')"
   ]
  },
  {
   "cell_type": "code",
   "execution_count": null,
   "id": "24121d9b",
   "metadata": {},
   "outputs": [],
   "source": []
  }
 ],
 "metadata": {
  "kernelspec": {
   "display_name": "ai_env",
   "language": "python",
   "name": "python3"
  },
  "language_info": {
   "codemirror_mode": {
    "name": "ipython",
    "version": 3
   },
   "file_extension": ".py",
   "mimetype": "text/x-python",
   "name": "python",
   "nbconvert_exporter": "python",
   "pygments_lexer": "ipython3",
   "version": "3.12.3"
  }
 },
 "nbformat": 4,
 "nbformat_minor": 5
}
