{
 "cells": [
  {
   "cell_type": "code",
   "execution_count": 1,
   "id": "dcdd3adb",
   "metadata": {
    "execution": {
     "iopub.execute_input": "2025-07-15T13:36:06.946354Z",
     "iopub.status.busy": "2025-07-15T13:36:06.946354Z",
     "iopub.status.idle": "2025-07-15T13:37:35.365457Z",
     "shell.execute_reply": "2025-07-15T13:37:35.362411Z"
    }
   },
   "outputs": [
    {
     "name": "stdout",
     "output_type": "stream",
     "text": [
      "📄 Page 1 : 50 projets trouvés.\n",
      "✔ MSCA Choose Europe for Science 2025 | https://ec.europa.eu/info/funding-tenders/opportunities/portal/screen/opportunities/topic-details/HORIZON-MSCA-2025-COFUND-02-01?isExactMatch=true&status=31094501,31094502&order=DESC&pageNumber=1&pageSize=50&sortBy=startDate | Statut: Forthcoming | 📅 Ouverture: 01 October 2025 → Deadline: 03 December 2025 | Extra: Single-stage\n"
     ]
    },
    {
     "name": "stdout",
     "output_type": "stream",
     "text": [
      "✔ New CO2 capture technologies | https://ec.europa.eu/info/funding-tenders/opportunities/portal/screen/opportunities/topic-details/HORIZON-CL5-2026-02-D3-24?isExactMatch=true&status=31094501,31094502&order=DESC&pageNumber=1&pageSize=50&sortBy=startDate | Statut: Forthcoming | 📅 Ouverture: 16 September 2025 → Deadline: 17 February 2026 | Extra: Single-stage\n",
      "✔ Innovative pathways for low carbon and climate resilient building stock and built environment (Built4People Partnership) | https://ec.europa.eu/info/funding-tenders/opportunities/portal/screen/opportunities/topic-details/HORIZON-CL5-2026-02-D4-03?isExactMatch=true&status=31094501,31094502&order=DESC&pageNumber=1&pageSize=50&sortBy=startDate | Statut: Forthcoming | 📅 Ouverture: 16 September 2025 → Deadline: 17 February 2026 | Extra: Single-stage\n",
      "✔ Optimal combination of low embodied carbon construction products, technical building systems and circularity principles for climate neutral buildings (Built4People Partnership) | https://ec.europa.eu/info/funding-tenders/opportunities/portal/screen/opportunities/topic-details/HORIZON-CL5-2026-02-D4-05?isExactMatch=true&status=31094501,31094502&order=DESC&pageNumber=1&pageSize=50&sortBy=startDate | Statut: Forthcoming | 📅 Ouverture: 16 September 2025 → Deadline: 17 February 2026 | Extra: Single-stage\n",
      "✔ Understand and minimise the environmental impacts of offshore wind energy | https://ec.europa.eu/info/funding-tenders/opportunities/portal/screen/opportunities/topic-details/HORIZON-CL5-2026-02-D3-08?isExactMatch=true&status=31094501,31094502&order=DESC&pageNumber=1&pageSize=50&sortBy=startDate | Statut: Forthcoming | 📅 Ouverture: 16 September 2025 → Deadline: 17 February 2026 | Extra: Single-stage\n"
     ]
    },
    {
     "name": "stdout",
     "output_type": "stream",
     "text": [
      "✔ Smarter buildings as part of the energy system for increased efficiency and flexibility – Societal Readiness Pilot | https://ec.europa.eu/info/funding-tenders/opportunities/portal/screen/opportunities/topic-details/HORIZON-CL5-2026-02-D4-02?isExactMatch=true&status=31094501,31094502&order=DESC&pageNumber=1&pageSize=50&sortBy=startDate | Statut: Forthcoming | 📅 Ouverture: 16 September 2025 → Deadline: 17 February 2026 | Extra: Single-stage\n",
      "✔ Competitiveness, energy security and integration aspects of advanced biofuels and renewable fuels of non-biological origin value chains | https://ec.europa.eu/info/funding-tenders/opportunities/portal/screen/opportunities/topic-details/HORIZON-CL5-2026-02-D3-02?isExactMatch=true&status=31094501,31094502&order=DESC&pageNumber=1&pageSize=50&sortBy=startDate | Statut: Forthcoming | 📅 Ouverture: 16 September 2025 → Deadline: 17 February 2026 | Extra: Single-stage\n",
      "✔ Innovative solutions for a generative AI-powered digital spine of the EU energy system | https://ec.europa.eu/info/funding-tenders/opportunities/portal/screen/opportunities/topic-details/HORIZON-CL5-2026-02-D3-19?isExactMatch=true&status=31094501,31094502&order=DESC&pageNumber=1&pageSize=50&sortBy=startDate | Statut: Forthcoming | 📅 Ouverture: 16 September 2025 → Deadline: 17 February 2026 | Extra: Single-stage\n",
      "✔ Innovative tools and services to manage and empower energy communities | https://ec.europa.eu/info/funding-tenders/opportunities/portal/screen/opportunities/topic-details/HORIZON-CL5-2026-02-D3-20?isExactMatch=true&status=31094501,31094502&order=DESC&pageNumber=1&pageSize=50&sortBy=startDate | Statut: Forthcoming | 📅 Ouverture: 16 September 2025 → Deadline: 17 February 2026 | Extra: Single-stage\n"
     ]
    },
    {
     "name": "stdout",
     "output_type": "stream",
     "text": [
      "✔ Phase out fossil fuel in energy intensive industries through the efficient integration of renewable energy sources | https://ec.europa.eu/info/funding-tenders/opportunities/portal/screen/opportunities/topic-details/HORIZON-CL5-2026-02-D4-06?isExactMatch=true&status=31094501,31094502&order=DESC&pageNumber=1&pageSize=50&sortBy=startDate | Statut: Forthcoming | 📅 Ouverture: 16 September 2025 → Deadline: 17 February 2026 | Extra: Single-stage\n",
      "✔ De-risking wave energy technology development through transnational pre-commercial procurement of wave energy research and development | https://ec.europa.eu/info/funding-tenders/opportunities/portal/screen/opportunities/topic-details/HORIZON-CL5-2026-02-D3-13?isExactMatch=true&status=31094501,31094502&order=DESC&pageNumber=1&pageSize=50&sortBy=startDate | Statut: Forthcoming | 📅 Ouverture: 16 September 2025 → Deadline: 17 February 2026 | Extra: Single-stage\n",
      "✔ On-site innovative robotic and automated solutions and techniques for more sustainable and less disruptive building renovation and construction | https://ec.europa.eu/info/funding-tenders/opportunities/portal/screen/opportunities/topic-details/HORIZON-CL5-2026-02-D4-01?isExactMatch=true&status=31094501,31094502&order=DESC&pageNumber=1&pageSize=50&sortBy=startDate | Statut: Forthcoming | 📅 Ouverture: 16 September 2025 → Deadline: 17 February 2026 | Extra: Single-stage\n",
      "✔ Extending the lifetime of crystalline silicon PV modules (EUPI-PV Partnership) | https://ec.europa.eu/info/funding-tenders/opportunities/portal/screen/opportunities/topic-details/HORIZON-CL5-2026-02-D3-12?isExactMatch=true&status=31094501,31094502&order=DESC&pageNumber=1&pageSize=50&sortBy=startDate | Statut: Forthcoming | 📅 Ouverture: 16 September 2025 → Deadline: 17 February 2026 | Extra: Single-stage\n"
     ]
    },
    {
     "name": "stdout",
     "output_type": "stream",
     "text": [
      "✔ Innovative approaches for the deployment of Positive Energy Districts | https://ec.europa.eu/info/funding-tenders/opportunities/portal/screen/opportunities/topic-details/HORIZON-CL5-2026-02-D4-04?isExactMatch=true&status=31094501,31094502&order=DESC&pageNumber=1&pageSize=50&sortBy=startDate | Statut: Forthcoming | 📅 Ouverture: 16 September 2025 → Deadline: 17 February 2026 | Extra: Single-stage\n",
      "✔ Towards commercialisation of Perovskite PV and development of dedicated manufacturing equipment (EUPI-PV Partnership) | https://ec.europa.eu/info/funding-tenders/opportunities/portal/screen/opportunities/topic-details/HORIZON-CL5-2026-02-D3-10?isExactMatch=true&status=31094501,31094502&order=DESC&pageNumber=1&pageSize=50&sortBy=startDate | Statut: Forthcoming | 📅 Ouverture: 16 September 2025 → Deadline: 17 February 2026 | Extra: Single-stage\n",
      "✔ Next generation distribution substation for increasing the system resilience | https://ec.europa.eu/info/funding-tenders/opportunities/portal/screen/opportunities/topic-details/HORIZON-CL5-2026-02-D3-18?isExactMatch=true&status=31094501,31094502&order=DESC&pageNumber=1&pageSize=50&sortBy=startDate | Statut: Forthcoming | 📅 Ouverture: 16 September 2025 → Deadline: 17 February 2026 | Extra: Single-stage\n",
      "✔ Large-scale production of liquid advanced biofuels and renewable fuels of non-biological origin | https://ec.europa.eu/info/funding-tenders/opportunities/portal/screen/opportunities/topic-details/HORIZON-CL5-2026-02-D3-01?isExactMatch=true&status=31094501,31094502&order=DESC&pageNumber=1&pageSize=50&sortBy=startDate | Statut: Forthcoming | 📅 Ouverture: 16 September 2025 → Deadline: 17 February 2026 | Extra: Single-stage\n",
      "✔ Demonstration of thermal energy storage solutions for solar thermal plants and systems | https://ec.europa.eu/info/funding-tenders/opportunities/portal/screen/opportunities/topic-details/HORIZON-CL5-2026-02-D3-05?isExactMatch=true&status=31094501,31094502&order=DESC&pageNumber=1&pageSize=50&sortBy=startDate | Statut: Forthcoming | 📅 Ouverture: 16 September 2025 → Deadline: 17 February 2026 | Extra: Single-stage\n"
     ]
    },
    {
     "name": "stdout",
     "output_type": "stream",
     "text": [
      "✔ Underground Thermal Energy Storage in dense urban areas | https://ec.europa.eu/info/funding-tenders/opportunities/portal/screen/opportunities/topic-details/HORIZON-CL5-2026-02-D3-22?isExactMatch=true&status=31094501,31094502&order=DESC&pageNumber=1&pageSize=50&sortBy=startDate | Statut: Forthcoming | 📅 Ouverture: 16 September 2025 → Deadline: 17 February 2026 | Extra: Single-stage\n",
      "✔ Development of innovative solutions strengthening the security of renewable energy value chains | https://ec.europa.eu/info/funding-tenders/opportunities/portal/screen/opportunities/topic-details/HORIZON-CL5-2026-02-D3-14?isExactMatch=true&status=31094501,31094502&order=DESC&pageNumber=1&pageSize=50&sortBy=startDate | Statut: Forthcoming | 📅 Ouverture: 16 September 2025 → Deadline: 17 February 2026 | Extra: Single-stage\n",
      "✔ Improved reliability and optimised operations and maintenance for wind energy systems | https://ec.europa.eu/info/funding-tenders/opportunities/portal/screen/opportunities/topic-details/HORIZON-CL5-2026-02-D3-07?isExactMatch=true&status=31094501,31094502&order=DESC&pageNumber=1&pageSize=50&sortBy=startDate | Statut: Forthcoming | 📅 Ouverture: 15 September 2025 → Deadline: 16 February 2026 | Extra: Single-stage\n",
      "✔ Integrating advanced materials, cell design and manufacturing development for high-performance batteries aimed at mobility (Batt4EU Partnership) | https://ec.europa.eu/info/funding-tenders/opportunities/portal/screen/opportunities/topic-details/HORIZON-CL5-2026-01-D2-04?isExactMatch=true&status=31094501,31094502&order=DESC&pageNumber=1&pageSize=50&sortBy=startDate | Statut: Forthcoming | 📅 Ouverture: 15 September 2025 → Deadline: 19 January 2026 | Extra: Single-stage\n"
     ]
    },
    {
     "name": "stdout",
     "output_type": "stream",
     "text": [
      "✔ Safety of Cyclists, Pedestrians and Users of Micromobility Devices | https://ec.europa.eu/info/funding-tenders/opportunities/portal/screen/opportunities/topic-details/HORIZON-CL5-2026-01-D6-13?isExactMatch=true&status=31094501,31094502&order=DESC&pageNumber=1&pageSize=50&sortBy=startDate | Statut: Forthcoming | 📅 Ouverture: 15 September 2025 → Deadline: 19 January 2026 | Extra: Single-stage\n",
      "✔ Accelerated multi-physical and virtual testing for battery aging, reliability, and safety evaluation (Batt4EU Partnership) | https://ec.europa.eu/info/funding-tenders/opportunities/portal/screen/opportunities/topic-details/HORIZON-CL5-2026-01-D2-05?isExactMatch=true&status=31094501,31094502&order=DESC&pageNumber=1&pageSize=50&sortBy=startDate | Statut: Forthcoming | 📅 Ouverture: 15 September 2025 → Deadline: 19 January 2026 | Extra: Single-stage\n",
      "✔ Innovative construction and maintenance, with the use of new materials and techniques, for resilient and sustainable transport infrastructure | https://ec.europa.eu/info/funding-tenders/opportunities/portal/screen/opportunities/topic-details/HORIZON-CL5-2026-01-D6-07?isExactMatch=true&status=31094501,31094502&order=DESC&pageNumber=1&pageSize=50&sortBy=startDate | Statut: Forthcoming | 📅 Ouverture: 15 September 2025 → Deadline: 19 January 2026 | Extra: Single-stage\n",
      "✔ Accelerating freight transport and logistics digital innovation | https://ec.europa.eu/info/funding-tenders/opportunities/portal/screen/opportunities/topic-details/HORIZON-CL5-2026-01-D6-08?isExactMatch=true&status=31094501,31094502&order=DESC&pageNumber=1&pageSize=50&sortBy=startDate | Statut: Forthcoming | 📅 Ouverture: 15 September 2025 → Deadline: 19 January 2026 | Extra: Single-stage\n"
     ]
    },
    {
     "name": "stdout",
     "output_type": "stream",
     "text": [
      "✔ Predicting and avoiding road crashes based on Artificial Intelligence (AI) and big data | https://ec.europa.eu/info/funding-tenders/opportunities/portal/screen/opportunities/topic-details/HORIZON-CL5-2026-01-D6-14?isExactMatch=true&status=31094501,31094502&order=DESC&pageNumber=1&pageSize=50&sortBy=startDate | Statut: Forthcoming | 📅 Ouverture: 15 September 2025 → Deadline: 19 January 2026 | Extra: Single-stage\n",
      "✔ Reliable data and practices to measure and calculate transport emissions in multimodal transport chains | https://ec.europa.eu/info/funding-tenders/opportunities/portal/screen/opportunities/topic-details/HORIZON-CL5-2026-01-D6-09?isExactMatch=true&status=31094501,31094502&order=DESC&pageNumber=1&pageSize=50&sortBy=startDate | Statut: Forthcoming | 📅 Ouverture: 15 September 2025 → Deadline: 19 January 2026 | Extra: Single-stage\n",
      "✔ Real time monitoring of regulated and non-regulated emissions from all types of vessels and other port activities in order to enforce emission limits in waterfront cities | https://ec.europa.eu/info/funding-tenders/opportunities/portal/screen/opportunities/topic-details/HORIZON-CL5-2026-01-D5-17?isExactMatch=true&status=31094501,31094502&order=DESC&pageNumber=1&pageSize=50&sortBy=startDate | Statut: Forthcoming | 📅 Ouverture: 15 September 2025 → Deadline: 19 January 2026 | Extra: Single-stage\n",
      "✔ Icing in the context of sustainable aviation | https://ec.europa.eu/info/funding-tenders/opportunities/portal/screen/opportunities/topic-details/HORIZON-CL5-2026-01-D6-15?isExactMatch=true&status=31094501,31094502&order=DESC&pageNumber=1&pageSize=50&sortBy=startDate | Statut: Forthcoming | 📅 Ouverture: 15 September 2025 → Deadline: 19 January 2026 | Extra: Single-stage\n",
      "✔ Federated CCAM data exchange platform (CCAM Partnership) | https://ec.europa.eu/info/funding-tenders/opportunities/portal/screen/opportunities/topic-details/HORIZON-CL5-2026-01-D6-06?isExactMatch=true&status=31094501,31094502&order=DESC&pageNumber=1&pageSize=50&sortBy=startDate | Statut: Forthcoming | 📅 Ouverture: 15 September 2025 → Deadline: 19 January 2026 | Extra: Single-stage\n"
     ]
    },
    {
     "name": "stdout",
     "output_type": "stream",
     "text": [
      "✔ Next-generation environment perception for real world CCAM operations: Error-free and secure technologies to improve energy-efficiency, cost-effectiveness, and circularity (CCAM Partnership) | https://ec.europa.eu/info/funding-tenders/opportunities/portal/screen/opportunities/topic-details/HORIZON-CL5-2026-01-D6-03?isExactMatch=true&status=31094501,31094502&order=DESC&pageNumber=1&pageSize=50&sortBy=startDate | Statut: Forthcoming | 📅 Ouverture: 15 September 2025 → Deadline: 19 January 2026 | Extra: Single-stage\n",
      "✔ Integration of human driving behaviour in the validation of CCAM systems (CCAM Partnership) | https://ec.europa.eu/info/funding-tenders/opportunities/portal/screen/opportunities/topic-details/HORIZON-CL5-2026-01-D6-04?isExactMatch=true&status=31094501,31094502&order=DESC&pageNumber=1&pageSize=50&sortBy=startDate | Statut: Forthcoming | 📅 Ouverture: 15 September 2025 → Deadline: 19 January 2026 | Extra: Single-stage\n",
      "✔ Integrating inland waterway transport in smart shipping and multimodal logistics chains | https://ec.europa.eu/info/funding-tenders/opportunities/portal/screen/opportunities/topic-details/HORIZON-CL5-2026-01-D6-10?isExactMatch=true&status=31094501,31094502&order=DESC&pageNumber=1&pageSize=50&sortBy=startDate | Statut: Forthcoming | 📅 Ouverture: 15 September 2025 → Deadline: 19 January 2026 | Extra: Single-stage\n",
      "✔ Approaches, verification and training for Edge-AI building blocks for CCAM Systems (CCAM Partnership) | https://ec.europa.eu/info/funding-tenders/opportunities/portal/screen/opportunities/topic-details/HORIZON-CL5-2026-01-D6-05?isExactMatch=true&status=31094501,31094502&order=DESC&pageNumber=1&pageSize=50&sortBy=startDate | Statut: Forthcoming | 📅 Ouverture: 15 September 2025 → Deadline: 19 January 2026 | Extra: Single-stage\n",
      "✔ Development of sustainable and design-to-cost batteries with (energy-)efficient manufacturing processes and based on advanced and safer materials (Batt4EU Partnership) | https://ec.europa.eu/info/funding-tenders/opportunities/portal/screen/opportunities/topic-details/HORIZON-CL5-2026-01-D2-01?isExactMatch=true&status=31094501,31094502&order=DESC&pageNumber=1&pageSize=50&sortBy=startDate | Statut: Forthcoming | 📅 Ouverture: 15 September 2025 → Deadline: 19 January 2026 | Extra: Single-stage\n"
     ]
    },
    {
     "name": "stdout",
     "output_type": "stream",
     "text": [
      "✔ Monitoring and Evaluation of the Societal Readiness Pilot | https://ec.europa.eu/info/funding-tenders/opportunities/portal/screen/opportunities/topic-details/HORIZON-CL5-2026-01-D2-09?isExactMatch=true&status=31094501,31094502&order=DESC&pageNumber=1&pageSize=50&sortBy=startDate | Statut: Forthcoming | 📅 Ouverture: 15 September 2025 → Deadline: 19 January 2026 | Extra: Single-stage\n",
      "✔ Scaling up deep tech ecosystems | https://ec.europa.eu/info/funding-tenders/opportunities/portal/screen/opportunities/topic-details/HORIZON-EIE-2026-01-CONNECT-03?isExactMatch=true&status=31094501,31094502&order=DESC&pageNumber=1&pageSize=50&sortBy=startDate | Statut: Forthcoming | 📅 Ouverture: 10 September 2025 → Deadline: 20 January 2026 | Extra: Single-stage\n",
      "✔ Expanding Investment Ecosystems | https://ec.europa.eu/info/funding-tenders/opportunities/portal/screen/opportunities/topic-details/HORIZON-EIE-2026-01-CONNECT-02?isExactMatch=true&status=31094501,31094502&order=DESC&pageNumber=1&pageSize=50&sortBy=startDate | Statut: Forthcoming | 📅 Ouverture: 10 September 2025 → Deadline: 20 January 2026 | Extra: Single-stage\n",
      "✔ European network of national competence centers for innovation procurement | https://ec.europa.eu/info/funding-tenders/opportunities/portal/screen/opportunities/topic-details/HORIZON-EIE-2026-01-CONNECT-01?isExactMatch=true&status=31094501,31094502&order=DESC&pageNumber=1&pageSize=50&sortBy=startDate | Statut: Forthcoming | 📅 Ouverture: 10 September 2025 → Deadline: 20 January 2026 | Extra: Single-stage\n"
     ]
    },
    {
     "name": "stdout",
     "output_type": "stream",
     "text": [
      "✔ TALTECH MERIT Project Excellence Scholarship Award | https://ec.europa.eu/info/funding-tenders/opportunities/portal/screen/opportunities/competitive-calls-cs/10821?isExactMatch=true&status=31094501,31094502&order=DESC&pageNumber=1&pageSize=50&sortBy=startDate | Statut: Forthcoming | 📅 Ouverture: 01 September 2025 → Deadline: 30 September 2025 | Extra: Multiple Cut-off\n",
      "✔ TALTECH MERIT Project Mobility Grant | https://ec.europa.eu/info/funding-tenders/opportunities/portal/screen/opportunities/competitive-calls-cs/10822?isExactMatch=true&status=31094501,31094502&order=DESC&pageNumber=1&pageSize=50&sortBy=startDate | Statut: Forthcoming | 📅 Ouverture: 01 September 2025 → Deadline: 30 September 2025 | Extra: Multiple Cut-off\n",
      "✔ VILNIUS TECH MERIT Project 2nd Targeted Scholarship Call | https://ec.europa.eu/info/funding-tenders/opportunities/portal/screen/opportunities/competitive-calls-cs/11261?isExactMatch=true&status=31094501,31094502&order=DESC&pageNumber=1&pageSize=50&sortBy=startDate | Statut: Forthcoming | 📅 Ouverture: 01 September 2025 → Deadline: 01 October 2025 | Extra: Single-stage\n",
      "✔ VILNIUS TECH MERIT Project Re-/Up-skilling Scholarship Call | https://ec.europa.eu/info/funding-tenders/opportunities/portal/screen/opportunities/competitive-calls-cs/11262?isExactMatch=true&status=31094501,31094502&order=DESC&pageNumber=1&pageSize=50&sortBy=startDate | Statut: Forthcoming | 📅 Ouverture: 01 September 2025 → Deadline: 01 May 2026 | Extra: Single-stage\n"
     ]
    },
    {
     "name": "stdout",
     "output_type": "stream",
     "text": [
      "✔ SMART ERA 1st Open Call for Pilots Add-ons | https://ec.europa.eu/info/funding-tenders/opportunities/portal/screen/opportunities/competitive-calls-cs/11281?isExactMatch=true&status=31094501,31094502&order=DESC&pageNumber=1&pageSize=50&sortBy=startDate | Statut: Forthcoming | 📅 Ouverture: 28 August 2025 → Deadline: 04 November 2025 | Extra: Single-stage\n",
      "✔ NGI Fediversity open call (2025-10F) | https://ec.europa.eu/info/funding-tenders/opportunities/portal/screen/opportunities/competitive-calls-cs/11086?isExactMatch=true&status=31094501,31094502&order=DESC&pageNumber=1&pageSize=50&sortBy=startDate | Statut: Forthcoming | 📅 Ouverture: 01 August 2025 → Deadline: 01 October 2025 | Extra: Single-stage\n",
      "✔ NGI Zero Commons Fund (2025-10Z) | https://ec.europa.eu/info/funding-tenders/opportunities/portal/screen/opportunities/competitive-calls-cs/11089?isExactMatch=true&status=31094501,31094502&order=DESC&pageNumber=1&pageSize=50&sortBy=startDate | Statut: Forthcoming | 📅 Ouverture: 01 August 2025 → Deadline: 01 October 2025 | Extra: Single-stage\n",
      "✔ NGI TALER open call (2025-10T) | https://ec.europa.eu/info/funding-tenders/opportunities/portal/screen/opportunities/competitive-calls-cs/11088?isExactMatch=true&status=31094501,31094502&order=DESC&pageNumber=1&pageSize=50&sortBy=startDate | Statut: Forthcoming | 📅 Ouverture: 01 August 2025 → Deadline: 01 October 2025 | Extra: Single-stage\n",
      "✔ Networking and coordination of national HPC Competence Centres | https://ec.europa.eu/info/funding-tenders/opportunities/portal/screen/opportunities/topic-details/DIGITAL-JU-EUROHPC-2025-NCC-01-02?isExactMatch=true&status=31094501,31094502&order=DESC&pageNumber=1&pageSize=50&sortBy=startDate | Statut: Forthcoming | 📅 Ouverture: 29 July 2025 → Deadline: 30 September 2025 | Extra: Single-stage\n"
     ]
    },
    {
     "name": "stdout",
     "output_type": "stream",
     "text": [
      "✔ National Competence Centres for High Performance Computing | https://ec.europa.eu/info/funding-tenders/opportunities/portal/screen/opportunities/topic-details/DIGITAL-JU-EUROHPC-2025-NCC-01-01?isExactMatch=true&status=31094501,31094502&order=DESC&pageNumber=1&pageSize=50&sortBy=startDate | Statut: Forthcoming | 📅 Ouverture: 29 July 2025 → Deadline: 30 September 2025 | Extra: Single-stage\n"
     ]
    },
    {
     "name": "stdout",
     "output_type": "stream",
     "text": [
      "➡️ Passage à la page suivante...\n"
     ]
    },
    {
     "name": "stdout",
     "output_type": "stream",
     "text": [
      "📄 Page 2 : 38 projets trouvés.\n",
      "✔ Waste-to-value devices - circular production of renewable fuels, chemicals and materials | https://ec.europa.eu/info/funding-tenders/opportunities/portal/screen/opportunities/topic-details/HORIZON-EIC-2025-PATHFINDERCHALLENGES-01-04?isExactMatch=true&status=31094501,31094502&order=DESC&pageNumber=2&pageSize=50&sortBy=startDate | Statut: Forthcoming | 📅 Ouverture: 24 July 2025 → Deadline: 29 October 2025 | Extra: Single-stage\n",
      "✔ Towards autonomous robot collectives delivering collaborative tasks in dynamic unstructured construction environments | https://ec.europa.eu/info/funding-tenders/opportunities/portal/screen/opportunities/topic-details/HORIZON-EIC-2025-PATHFINDERCHALLENGES-01-03?isExactMatch=true&status=31094501,31094502&order=DESC&pageNumber=2&pageSize=50&sortBy=startDate | Statut: Forthcoming | 📅 Ouverture: 24 July 2025 → Deadline: 29 October 2025 | Extra: Single-stage\n",
      "✔ Generative-AI based Agents to Revolutionize Medical Diagnosis and Treatment of Cancer | https://ec.europa.eu/info/funding-tenders/opportunities/portal/screen/opportunities/topic-details/HORIZON-EIC-2025-PATHFINDERCHALLENGES-01-02?isExactMatch=true&status=31094501,31094502&order=DESC&pageNumber=2&pageSize=50&sortBy=startDate | Statut: Forthcoming | 📅 Ouverture: 24 July 2025 → Deadline: 29 October 2025 | Extra: Single-stage\n"
     ]
    },
    {
     "name": "stdout",
     "output_type": "stream",
     "text": [
      "✔ Biotech for Climate Resilient Crops and Plant-Based Biomanufacturing | https://ec.europa.eu/info/funding-tenders/opportunities/portal/screen/opportunities/topic-details/HORIZON-EIC-2025-PATHFINDERCHALLENGES-01-01?isExactMatch=true&status=31094501,31094502&order=DESC&pageNumber=2&pageSize=50&sortBy=startDate | Statut: Forthcoming | 📅 Ouverture: 24 July 2025 → Deadline: 29 October 2025 | Extra: Single-stage\n",
      "✔ Maturing of a European industrial ecosystem for security-certified terrestrial QKD technologies and systems | https://ec.europa.eu/info/funding-tenders/opportunities/portal/screen/opportunities/topic-details/DIGITAL-IRIS2-2025-QCI-01?isExactMatch=true&status=31094501,31094502&order=DESC&pageNumber=2&pageSize=50&sortBy=startDate | Statut: Open For Submission | 📅 Ouverture: 15 July 2025 → Deadline: 16 October 2025 | Extra: Single-stage\n",
      "✔ Support standardisation for the EuroQCI (CSA) | https://ec.europa.eu/info/funding-tenders/opportunities/portal/screen/opportunities/topic-details/DIGITAL-IRIS2-2025-QCI-03?isExactMatch=true&status=31094501,31094502&order=DESC&pageNumber=2&pageSize=50&sortBy=startDate | Statut: Open For Submission | 📅 Ouverture: 15 July 2025 → Deadline: 16 October 2025 | Extra: Single-stage\n",
      "✔ Coordinate deployment for the EuroQCI (CSA) | https://ec.europa.eu/info/funding-tenders/opportunities/portal/screen/opportunities/topic-details/DIGITAL-IRIS2-2025-QCI-02?isExactMatch=true&status=31094501,31094502&order=DESC&pageNumber=2&pageSize=50&sortBy=startDate | Statut: Open For Submission | 📅 Ouverture: 15 July 2025 → Deadline: 16 October 2025 | Extra: Single-stage\n",
      "✔ Fighting against discrimination and racism, xenophobia and other forms of intolerance, including antigypsyism, anti-black, and anti-Asian racism | https://ec.europa.eu/info/funding-tenders/opportunities/portal/screen/opportunities/topic-details/CERV-2025-EQUAL-RACI-DISC?isExactMatch=true&status=31094501,31094502&order=DESC&pageNumber=2&pageSize=50&sortBy=startDate | Statut: Forthcoming | 📅 Ouverture: 15 July 2025 → Deadline: 23 October 2025 | Extra: Single-stage\n"
     ]
    },
    {
     "name": "stdout",
     "output_type": "stream",
     "text": [
      "✔ Fighting against anti-Muslim hatred | https://ec.europa.eu/info/funding-tenders/opportunities/portal/screen/opportunities/topic-details/CERV-2025-EQUAL-ANTIMUSLIM?isExactMatch=true&status=31094501,31094502&order=DESC&pageNumber=2&pageSize=50&sortBy=startDate | Statut: Forthcoming | 📅 Ouverture: 15 July 2025 → Deadline: 23 October 2025 | Extra: Single-stage\n",
      "✔ Calling2Scale Gunma - Gateway to Japan | https://ec.europa.eu/info/funding-tenders/opportunities/portal/screen/opportunities/competitive-calls-cs/11362?isExactMatch=true&status=31094501,31094502&order=DESC&pageNumber=2&pageSize=50&sortBy=startDate | Statut: Open For Submission | 📅 Ouverture: 15 July 2025 → Deadline: 15 September 2025 | Extra: Single-stage\n",
      "✔ Promoting diversity management and inclusion at the workplace, both in the public and private sector | https://ec.europa.eu/info/funding-tenders/opportunities/portal/screen/opportunities/topic-details/CERV-2025-EQUAL-DIVERSITYMGT?isExactMatch=true&status=31094501,31094502&order=DESC&pageNumber=2&pageSize=50&sortBy=startDate | Statut: Forthcoming | 📅 Ouverture: 15 July 2025 → Deadline: 23 October 2025 | Extra: Single-stage\n",
      "✔ Support to public authorities to combat racism, xenophobia, LGBTIQ-phobia and all other forms of intolerance, including intersectional discrimination | https://ec.europa.eu/info/funding-tenders/opportunities/portal/screen/opportunities/topic-details/CERV-2025-EQUAL-RESTRICTED?isExactMatch=true&status=31094501,31094502&order=DESC&pageNumber=2&pageSize=50&sortBy=startDate | Statut: Forthcoming | 📅 Ouverture: 15 July 2025 → Deadline: 23 October 2025 | Extra: Single-stage\n",
      "✔ Fighting discrimination against LGBTIQ people and promoting LGBTIQ equality | https://ec.europa.eu/info/funding-tenders/opportunities/portal/screen/opportunities/topic-details/CERV-2025-EQUAL-LGBTIQ?isExactMatch=true&status=31094501,31094502&order=DESC&pageNumber=2&pageSize=50&sortBy=startDate | Statut: Forthcoming | 📅 Ouverture: 15 July 2025 → Deadline: 23 October 2025 | Extra: Single-stage\n"
     ]
    },
    {
     "name": "stdout",
     "output_type": "stream",
     "text": [
      "✔ Fighting against antisemitism | https://ec.europa.eu/info/funding-tenders/opportunities/portal/screen/opportunities/topic-details/CERV-2025-EQUAL-ANTISEMITISM?isExactMatch=true&status=31094501,31094502&order=DESC&pageNumber=2&pageSize=50&sortBy=startDate | Statut: Forthcoming | 📅 Ouverture: 15 July 2025 → Deadline: 23 October 2025 | Extra: Single-stage\n",
      "✔ Citizen and Stakeholder Engagement in Climate-Smart Forestry (CSF) and Forest Restoration | https://ec.europa.eu/info/funding-tenders/opportunities/portal/screen/opportunities/competitive-calls-cs/11274?isExactMatch=true&status=31094501,31094502&order=DESC&pageNumber=2&pageSize=50&sortBy=startDate | Statut: Open For Submission | 📅 Ouverture: 11 July 2025 → Deadline: 12 October 2025 | Extra: Single-stage\n",
      "✔ DIGITWIN4CIUE Reduction-Fees Scholarships | https://ec.europa.eu/info/funding-tenders/opportunities/portal/screen/opportunities/competitive-calls-cs/11321?isExactMatch=true&status=31094501,31094502&order=DESC&pageNumber=2&pageSize=50&sortBy=startDate | Statut: Open For Submission | 📅 Ouverture: 11 July 2025 → Deadline: 31 October 2025 | Extra: Multiple Cut-off\n",
      "✔ ERC SYNERGY GRANTS | https://ec.europa.eu/info/funding-tenders/opportunities/portal/screen/opportunities/topic-details/ERC-2026-SyG?isExactMatch=true&status=31094501,31094502&order=DESC&pageNumber=2&pageSize=50&sortBy=startDate | Statut: Open For Submission | 📅 Ouverture: 10 July 2025 → Deadline: 05 November 2025 | Extra: Single-stage\n",
      "✔ Lot1: Improved methods for chemical and biological monitoring data collection and reporting in collaboration with AGoD and EFSA programs | https://ec.europa.eu/info/funding-tenders/opportunities/portal/screen/opportunities/topic-details/EUBA-EFSA-2025-IDATA-01-01-Lot1?isExactMatch=true&status=31094501,31094502&order=DESC&pageNumber=2&pageSize=50&sortBy=startDate | Statut: Open For Submission | 📅 Ouverture: 09 July 2025 → Deadline: 02 October 2025 | Extra: Single-stage\n"
     ]
    },
    {
     "name": "stdout",
     "output_type": "stream",
     "text": [
      "✔ Lot2: Harmonized food consumption and food composition data collection - Support to terminology management | https://ec.europa.eu/info/funding-tenders/opportunities/portal/screen/opportunities/topic-details/EUBA-EFSA-2025-IDATA-01-02-Lot2?isExactMatch=true&status=31094501,31094502&order=DESC&pageNumber=2&pageSize=50&sortBy=startDate | Statut: Open For Submission | 📅 Ouverture: 09 July 2025 → Deadline: 02 October 2025 | Extra: Single-stage\n",
      "✔ ERC STARTING GRANTS | https://ec.europa.eu/info/funding-tenders/opportunities/portal/screen/opportunities/topic-details/ERC-2026-STG?isExactMatch=true&status=31094501,31094502&order=DESC&pageNumber=2&pageSize=50&sortBy=startDate | Statut: Open For Submission | 📅 Ouverture: 09 July 2025 → Deadline: 14 October 2025 | Extra: Single-stage\n",
      "✔ DIGITAL-JU-CHIPS-2025-SG-SSOI | https://ec.europa.eu/info/funding-tenders/opportunities/portal/screen/opportunities/topic-details/DIGITAL-JU-CHIPS-2025-SG-SSOI?isExactMatch=true&status=31094501,31094502&order=DESC&pageNumber=2&pageSize=50&sortBy=startDate | Statut: Open For Submission | 📅 Ouverture: 08 July 2025 → Deadline: 20 November 2025 | Extra: Single-stage\n",
      "✔ HORIZON-JU-CHIPS-2025-CSA-JPN | https://ec.europa.eu/info/funding-tenders/opportunities/portal/screen/opportunities/topic-details/HORIZON-JU-CHIPS-2025-CSA-JPN?isExactMatch=true&status=31094501,31094502&order=DESC&pageNumber=2&pageSize=50&sortBy=startDate | Statut: Open For Submission | 📅 Ouverture: 08 July 2025 → Deadline: 17 September 2025 | Extra: Single-stage\n",
      "✔ DIGITAL-JU-CHIPS-2025-IA-LEAI | https://ec.europa.eu/info/funding-tenders/opportunities/portal/screen/opportunities/topic-details/DIGITAL-JU-CHIPS-2025-IA-LEAI?isExactMatch=true&status=31094501,31094502&order=DESC&pageNumber=2&pageSize=50&sortBy=startDate | Statut: Open For Submission | 📅 Ouverture: 08 July 2025 → Deadline: 17 September 2025 | Extra: Single-stage\n",
      "✔ International Call for Digital Europe Programme selected countries | https://ec.europa.eu/info/funding-tenders/opportunities/portal/screen/opportunities/competitive-calls-cs/11266?isExactMatch=true&status=31094501,31094502&order=DESC&pageNumber=2&pageSize=50&sortBy=startDate | Statut: Open For Submission | 📅 Ouverture: 07 July 2025 → Deadline: 07 September 2025 | Extra: Single-stage\n"
     ]
    },
    {
     "name": "stdout",
     "output_type": "stream",
     "text": [
      "✔ 2nd Call for applications for a grant to support the education and training of developers of cyber security solutions, within the framework of financial support to third parties | https://ec.europa.eu/info/funding-tenders/opportunities/portal/screen/opportunities/competitive-calls-cs/11270?isExactMatch=true&status=31094501,31094502&order=DESC&pageNumber=2&pageSize=50&sortBy=startDate | Statut: Open For Submission | 📅 Ouverture: 07 July 2025 → Deadline: 30 September 2025 | Extra: Single-stage\n",
      "✔ Call for Master’s & PhD Modules 2025 | https://ec.europa.eu/info/funding-tenders/opportunities/portal/screen/opportunities/competitive-calls-cs/11273?isExactMatch=true&status=31094501,31094502&order=DESC&pageNumber=2&pageSize=50&sortBy=startDate | Statut: Open For Submission | 📅 Ouverture: 07 July 2025 → Deadline: 30 September 2025 | Extra: Single-stage\n",
      "✔ Urban Mobility Explained (UMX) Open Call (Multi-cut-off) | https://ec.europa.eu/info/funding-tenders/opportunities/portal/screen/opportunities/competitive-calls-cs/11264?isExactMatch=true&status=31094501,31094502&order=DESC&pageNumber=2&pageSize=50&sortBy=startDate | Statut: Open For Submission | 📅 Ouverture: 02 July 2025 → Deadline: 30 September 2025 | Extra: Multiple Cut-off\n",
      "✔ Tourism: Call for the selection of collaborative projects: Go Green, Get Digital, Be Resilient Programme | https://ec.europa.eu/info/funding-tenders/opportunities/portal/screen/opportunities/competitive-calls-cs/11243?isExactMatch=true&status=31094501,31094502&order=DESC&pageNumber=2&pageSize=50&sortBy=startDate | Statut: Open For Submission | 📅 Ouverture: 01 July 2025 → Deadline: 02 September 2025 | Extra: Single-stage\n",
      "✔ Support to the International HPC Summer School | https://ec.europa.eu/info/funding-tenders/opportunities/portal/screen/opportunities/topic-details/HORIZON-EUROHPC-JU-2025-IHPCSS-02?isExactMatch=true&status=31094501,31094502&order=DESC&pageNumber=2&pageSize=50&sortBy=startDate | Statut: Open For Submission | 📅 Ouverture: 01 July 2025 → Deadline: 02 October 2025 | Extra: Single-stage\n"
     ]
    },
    {
     "name": "stdout",
     "output_type": "stream",
     "text": [
      "✔ UDENE Tools for Global Business Solutions that Accelerate Copernicus Adoption | https://ec.europa.eu/info/funding-tenders/opportunities/portal/screen/opportunities/competitive-calls-cs/11151?isExactMatch=true&status=31094501,31094502&order=DESC&pageNumber=2&pageSize=50&sortBy=startDate | Statut: Open For Submission | 📅 Ouverture: 01 July 2025 → Deadline: 29 August 2025 | Extra: Single-stage\n",
      "✔ 6G-PATH - Open Call #2 | https://ec.europa.eu/info/funding-tenders/opportunities/portal/screen/opportunities/competitive-calls-cs/11221?isExactMatch=true&status=31094501,31094502&order=DESC&pageNumber=2&pageSize=50&sortBy=startDate | Statut: Open For Submission | 📅 Ouverture: 01 July 2025 → Deadline: 10 September 2025 | Extra: Single-stage\n",
      "✔ AID4SME Open Call 1 | https://ec.europa.eu/info/funding-tenders/opportunities/portal/screen/opportunities/competitive-calls-cs/11222?isExactMatch=true&status=31094501,31094502&order=DESC&pageNumber=2&pageSize=50&sortBy=startDate | Statut: Open For Submission | 📅 Ouverture: 30 June 2025 → Deadline: 11 September 2025 | Extra: Single-stage\n",
      "✔ METU Internships Offer | https://ec.europa.eu/info/funding-tenders/opportunities/portal/screen/opportunities/competitive-calls-cs/11143?isExactMatch=true&status=31094501,31094502&order=DESC&pageNumber=2&pageSize=50&sortBy=startDate | Statut: Open For Submission | 📅 Ouverture: 30 June 2025 → Deadline: 02 September 2025 | Extra: Multiple Cut-off\n",
      "✔ Gnomon Internships Offer | https://ec.europa.eu/info/funding-tenders/opportunities/portal/screen/opportunities/competitive-calls-cs/11145?isExactMatch=true&status=31094501,31094502&order=DESC&pageNumber=2&pageSize=50&sortBy=startDate | Statut: Open For Submission | 📅 Ouverture: 30 June 2025 → Deadline: 02 September 2025 | Extra: Multiple Cut-off\n"
     ]
    },
    {
     "name": "stdout",
     "output_type": "stream",
     "text": [
      "✔ EIT Regional Innovation Booster 2025 - Polish edition Call for Stage 1 | https://ec.europa.eu/info/funding-tenders/opportunities/portal/screen/opportunities/competitive-calls-cs/11241?isExactMatch=true&status=31094501,31094502&order=DESC&pageNumber=2&pageSize=50&sortBy=startDate | Statut: Open For Submission | 📅 Ouverture: 30 June 2025 → Deadline: 31 August 2025 | Extra: Single-stage\n",
      "✔ Bridges | https://ec.europa.eu/info/funding-tenders/opportunities/portal/screen/opportunities/competitive-calls-cs/11168?isExactMatch=true&status=31094501,31094502&order=DESC&pageNumber=2&pageSize=50&sortBy=startDate | Statut: Open For Submission | 📅 Ouverture: 26 June 2025 → Deadline: 04 September 2025 | Extra: Single-stage\n",
      "✔ Operational digital platforms – Works | https://ec.europa.eu/info/funding-tenders/opportunities/portal/screen/opportunities/topic-details/CEF-DIG-2025-PLATFORMS-WORKS?isExactMatch=true&status=31094501,31094502&order=DESC&pageNumber=2&pageSize=50&sortBy=startDate | Statut: Open For Submission | 📅 Ouverture: 26 June 2025 → Deadline: 16 October 2025 | Extra: Single-stage\n",
      "✔ PhotonQBoost Open Call for Matching Mission to Poland | https://ec.europa.eu/info/funding-tenders/opportunities/portal/screen/opportunities/competitive-calls-cs/11201?isExactMatch=true&status=31094501,31094502&order=DESC&pageNumber=2&pageSize=50&sortBy=startDate | Statut: Open For Submission | 📅 Ouverture: 25 June 2025 → Deadline: 26 August 2025 | Extra: Single-stage\n"
     ]
    },
    {
     "name": "stdout",
     "output_type": "stream",
     "text": [
      "➡️ Passage à la page suivante...\n"
     ]
    },
    {
     "name": "stdout",
     "output_type": "stream",
     "text": [
      "📄 Page 3 : 44 projets trouvés.\n",
      "✔ Master School and Fellowship Open Call 2026 | https://ec.europa.eu/info/funding-tenders/opportunities/portal/screen/opportunities/competitive-calls-cs/11202?isExactMatch=true&status=31094501,31094502&order=DESC&pageNumber=3&pageSize=50&sortBy=startDate | Statut: Open For Submission | 📅 Ouverture: 25 June 2025 → Deadline: 10 September 2025 | Extra: Single-stage\n",
      "✔ RIS Education Open Call 2026 | https://ec.europa.eu/info/funding-tenders/opportunities/portal/screen/opportunities/competitive-calls-cs/11203?isExactMatch=true&status=31094501,31094502&order=DESC&pageNumber=3&pageSize=50&sortBy=startDate | Statut: Open For Submission | 📅 Ouverture: 25 June 2025 → Deadline: 10 September 2025 | Extra: Single-stage\n",
      "✔ Call for proposals for small grants 1/SPLOT/GM/2025 | https://ec.europa.eu/info/funding-tenders/opportunities/portal/screen/opportunities/competitive-calls-cs/11148?isExactMatch=true&status=31094501,31094502&order=DESC&pageNumber=3&pageSize=50&sortBy=startDate | Statut: Open For Submission | 📅 Ouverture: 25 June 2025 → Deadline: 28 August 2025 | Extra: Single-stage\n"
     ]
    },
    {
     "name": "stdout",
     "output_type": "stream",
     "text": [
      "✔ CALL FOR PROPOSALS – Funding for coding projects within the framework of EU Code Week | https://ec.europa.eu/info/funding-tenders/opportunities/portal/screen/opportunities/competitive-calls-cs/11152?isExactMatch=true&status=31094501,31094502&order=DESC&pageNumber=3&pageSize=50&sortBy=startDate | Statut: Open For Submission | 📅 Ouverture: 20 June 2025 → Deadline: 31 August 2025 | Extra: Single-stage\n",
      "✔ TUS Open Call | https://ec.europa.eu/info/funding-tenders/opportunities/portal/screen/opportunities/competitive-calls-cs/11147?isExactMatch=true&status=31094501,31094502&order=DESC&pageNumber=3&pageSize=50&sortBy=startDate | Statut: Open For Submission | 📅 Ouverture: 19 June 2025 → Deadline: 18 August 2025 | Extra: Single-stage\n",
      "✔ Strategic Innovation Open call | https://ec.europa.eu/info/funding-tenders/opportunities/portal/screen/opportunities/competitive-calls-cs/11164?isExactMatch=true&status=31094501,31094502&order=DESC&pageNumber=3&pageSize=50&sortBy=startDate | Statut: Open For Submission | 📅 Ouverture: 19 June 2025 → Deadline: 23 September 2025 | Extra: Multiple Cut-off\n",
      "✔ Strengthening the remembrance of the Holocaust, genocides, war crimes and crimes against humanity to reinforce democracy in the EU | https://ec.europa.eu/info/funding-tenders/opportunities/portal/screen/opportunities/topic-details/CERV-2025-CITIZENS-REM-GENCRIME?isExactMatch=true&status=31094501,31094502&order=DESC&pageNumber=3&pageSize=50&sortBy=startDate | Statut: Open For Submission | 📅 Ouverture: 19 June 2025 → Deadline: 01 October 2025 | Extra: Single-stage\n",
      "✔ Strengthening the remembrance of the Holocaust against Jewish people | https://ec.europa.eu/info/funding-tenders/opportunities/portal/screen/opportunities/topic-details/CERV-2025-CITIZENS-REM-HOLOCAUSTJEW?isExactMatch=true&status=31094501,31094502&order=DESC&pageNumber=3&pageSize=50&sortBy=startDate | Statut: Open For Submission | 📅 Ouverture: 19 June 2025 → Deadline: 01 October 2025 | Extra: Single-stage\n"
     ]
    },
    {
     "name": "stdout",
     "output_type": "stream",
     "text": [
      "✔ Migration, de-colonisation, slavery and multicultural European societies | https://ec.europa.eu/info/funding-tenders/opportunities/portal/screen/opportunities/topic-details/CERV-2025-CITIZENS-REM-HISTMIGRATION?isExactMatch=true&status=31094501,31094502&order=DESC&pageNumber=3&pageSize=50&sortBy=startDate | Statut: Open For Submission | 📅 Ouverture: 19 June 2025 → Deadline: 01 October 2025 | Extra: Single-stage\n",
      "✔ Democratic transition, (re-)building and strengthening society based on the rule of law, democracy and fundamental rights | https://ec.europa.eu/info/funding-tenders/opportunities/portal/screen/opportunities/topic-details/CERV-2025-CITIZENS-REM-TRANSITION?isExactMatch=true&status=31094501,31094502&order=DESC&pageNumber=3&pageSize=50&sortBy=startDate | Statut: Open For Submission | 📅 Ouverture: 19 June 2025 → Deadline: 01 October 2025 | Extra: Single-stage\n",
      "✔ Pilots of long-term climate impact forest monitoring sites: Providing temporally resolved ecosystem-level information on the effects of climatic drivers on forest structure and function in near real-time | https://ec.europa.eu/info/funding-tenders/opportunities/portal/screen/opportunities/competitive-calls-cs/11082?isExactMatch=true&status=31094501,31094502&order=DESC&pageNumber=3&pageSize=50&sortBy=startDate | Statut: Open For Submission | 📅 Ouverture: 19 June 2025 → Deadline: 21 September 2025 | Extra: Single-stage\n",
      "✔ Pilots of long-term climate impact forest monitoring sites: Linking stand-level information and remote sensing | https://ec.europa.eu/info/funding-tenders/opportunities/portal/screen/opportunities/competitive-calls-cs/11081?isExactMatch=true&status=31094501,31094502&order=DESC&pageNumber=3&pageSize=50&sortBy=startDate | Statut: Open For Submission | 📅 Ouverture: 19 June 2025 → Deadline: 21 September 2025 | Extra: Single-stage\n",
      "✔ UDENE Tools Integration in Geodata Science Education | https://ec.europa.eu/info/funding-tenders/opportunities/portal/screen/opportunities/competitive-calls-cs/11150?isExactMatch=true&status=31094501,31094502&order=DESC&pageNumber=3&pageSize=50&sortBy=startDate | Statut: Open For Submission | 📅 Ouverture: 18 June 2025 → Deadline: 16 August 2025 | Extra: Single-stage\n"
     ]
    },
    {
     "name": "stdout",
     "output_type": "stream",
     "text": [
      "✔ RFCS-2025 Steel Accompanying Measures | https://ec.europa.eu/info/funding-tenders/opportunities/portal/screen/opportunities/topic-details/RFCS-2025-02-AM?isExactMatch=true&status=31094501,31094502&order=DESC&pageNumber=3&pageSize=50&sortBy=startDate | Statut: Open For Submission | 📅 Ouverture: 18 June 2025 → Deadline: 24 September 2025 | Extra: Single-stage\n",
      "✔ RFCS-2025 Steel Research Projects | https://ec.europa.eu/info/funding-tenders/opportunities/portal/screen/opportunities/topic-details/RFCS-2025-02-RPJ?isExactMatch=true&status=31094501,31094502&order=DESC&pageNumber=3&pageSize=50&sortBy=startDate | Statut: Open For Submission | 📅 Ouverture: 18 June 2025 → Deadline: 24 September 2025 | Extra: Single-stage\n",
      "✔ RFCS-2025 Coal Research Projects | https://ec.europa.eu/info/funding-tenders/opportunities/portal/screen/opportunities/topic-details/RFCS-2025-01-RPJ?isExactMatch=true&status=31094501,31094502&order=DESC&pageNumber=3&pageSize=50&sortBy=startDate | Statut: Open For Submission | 📅 Ouverture: 18 June 2025 → Deadline: 24 September 2025 | Extra: Single-stage\n",
      "✔ RFCS-2025 Coal Pilot and Demonstration Projects | https://ec.europa.eu/info/funding-tenders/opportunities/portal/screen/opportunities/topic-details/RFCS-2025-01-PDP?isExactMatch=true&status=31094501,31094502&order=DESC&pageNumber=3&pageSize=50&sortBy=startDate | Statut: Open For Submission | 📅 Ouverture: 18 June 2025 → Deadline: 24 September 2025 | Extra: Single-stage\n"
     ]
    },
    {
     "name": "stdout",
     "output_type": "stream",
     "text": [
      "✔ RFCS-2025 Coal Accompanying Measures | https://ec.europa.eu/info/funding-tenders/opportunities/portal/screen/opportunities/topic-details/RFCS-2025-01-AM?isExactMatch=true&status=31094501,31094502&order=DESC&pageNumber=3&pageSize=50&sortBy=startDate | Statut: Open For Submission | 📅 Ouverture: 18 June 2025 → Deadline: 24 September 2025 | Extra: Single-stage\n",
      "✔ RFCS-2025 Steel Pilot and Demonstration Projects | https://ec.europa.eu/info/funding-tenders/opportunities/portal/screen/opportunities/topic-details/RFCS-2025-02-PDP?isExactMatch=true&status=31094501,31094502&order=DESC&pageNumber=3&pageSize=50&sortBy=startDate | Statut: Open For Submission | 📅 Ouverture: 18 June 2025 → Deadline: 24 September 2025 | Extra: Single-stage\n",
      "✔ THE HUBS | https://ec.europa.eu/info/funding-tenders/opportunities/portal/screen/opportunities/competitive-calls-cs/11167?isExactMatch=true&status=31094501,31094502&order=DESC&pageNumber=3&pageSize=50&sortBy=startDate | Statut: Open For Submission | 📅 Ouverture: 18 June 2025 → Deadline: 15 November 2025 | Extra: Single-stage\n",
      "✔ SNS Trials and Pilots (T&Ps) with Verticals | https://ec.europa.eu/info/funding-tenders/opportunities/portal/screen/opportunities/topic-details/HORIZON-JU-SNS-2025-02-STREAM-D-01?isExactMatch=true&status=31094501,31094502&order=DESC&pageNumber=3&pageSize=50&sortBy=startDate | Statut: Open For Submission | 📅 Ouverture: 18 June 2025 → Deadline: 18 September 2025 | Extra: Single-stage\n"
     ]
    },
    {
     "name": "stdout",
     "output_type": "stream",
     "text": [
      "✔ CodeWeek Grant Support | https://ec.europa.eu/info/funding-tenders/opportunities/portal/screen/opportunities/competitive-calls-cs/11141?isExactMatch=true&status=31094501,31094502&order=DESC&pageNumber=3&pageSize=50&sortBy=startDate | Statut: Open For Submission | 📅 Ouverture: 17 June 2025 → Deadline: 21 August 2025 | Extra: Single-stage\n",
      "✔ Champions for the Digital Decade Financial Support to Third Parties | https://ec.europa.eu/info/funding-tenders/opportunities/portal/screen/opportunities/competitive-calls-cs/11163?isExactMatch=true&status=31094501,31094502&order=DESC&pageNumber=3&pageSize=50&sortBy=startDate | Statut: Open For Submission | 📅 Ouverture: 17 June 2025 → Deadline: 31 August 2025 | Extra: Single-stage\n",
      "✔ Women Leadership Category | https://ec.europa.eu/info/funding-tenders/opportunities/portal/screen/opportunities/topic-details/HORIZON-EIT-2025-PRIZE-WIP-LEADERSHIP?isExactMatch=true&status=31094501,31094502&order=DESC&pageNumber=3&pageSize=50&sortBy=startDate | Statut: Open For Submission | 📅 Ouverture: 17 June 2025 → Deadline: 25 September 2025 | Extra: Single-stage\n",
      "✔ Framework partnership agreements to support EU level Networks active in the area: \"Rights of persons with disabilities\" | https://ec.europa.eu/info/funding-tenders/opportunities/portal/screen/opportunities/topic-details/CERV-2025-OG-DISA-FPA?isExactMatch=true&status=31094501,31094502&order=DESC&pageNumber=3&pageSize=50&sortBy=startDate | Statut: Open For Submission | 📅 Ouverture: 17 June 2025 → Deadline: 26 August 2025 | Extra: Single-stage\n"
     ]
    },
    {
     "name": "stdout",
     "output_type": "stream",
     "text": [
      "✔ Annual operating grants 2026 to support EU level Networks active in the area: \"Rights of persons with disabilities\" | https://ec.europa.eu/info/funding-tenders/opportunities/portal/screen/opportunities/topic-details/CERV-2025-OG-DISA-SGA?isExactMatch=true&status=31094501,31094502&order=DESC&pageNumber=3&pageSize=50&sortBy=startDate | Statut: Open For Submission | 📅 Ouverture: 17 June 2025 → Deadline: 27 August 2025 | Extra: Single-stage\n",
      "✔ Leveraging Europe's Expertise to accelerate Cell Therapy for Type 1 Diabetes | https://ec.europa.eu/info/funding-tenders/opportunities/portal/screen/opportunities/topic-details/HORIZON-JU-IHI-2025-11-04-two-stage?isExactMatch=true&status=31094501,31094502&order=DESC&pageNumber=3&pageSize=50&sortBy=startDate | Statut: Open For Submission | 📅 Ouverture: 17 June 2025 → Deadline: 09 October 2025 | Extra: Two-stage\n",
      "✔ Understanding how infections foster and induce non-communicable diseases | https://ec.europa.eu/info/funding-tenders/opportunities/portal/screen/opportunities/topic-details/HORIZON-JU-IHI-2025-11-02-two-stage?isExactMatch=true&status=31094501,31094502&order=DESC&pageNumber=3&pageSize=50&sortBy=startDate | Statut: Open For Submission | 📅 Ouverture: 17 June 2025 → Deadline: 09 October 2025 | Extra: Two-stage\n",
      "✔ AI-Powered Signal Detection in Pharmacovigilance | https://ec.europa.eu/info/funding-tenders/opportunities/portal/screen/opportunities/topic-details/HORIZON-JU-IHI-2025-11-03-two-stage?isExactMatch=true&status=31094501,31094502&order=DESC&pageNumber=3&pageSize=50&sortBy=startDate | Statut: Open For Submission | 📅 Ouverture: 17 June 2025 → Deadline: 09 October 2025 | Extra: Two-stage\n"
     ]
    },
    {
     "name": "stdout",
     "output_type": "stream",
     "text": [
      "✔ Towards precision medicine: platform for transdiagnostic stratification of brain dysfunction | https://ec.europa.eu/info/funding-tenders/opportunities/portal/screen/opportunities/topic-details/HORIZON-JU-IHI-2025-11-01-two-stage?isExactMatch=true&status=31094501,31094502&order=DESC&pageNumber=3&pageSize=50&sortBy=startDate | Statut: Open For Submission | 📅 Ouverture: 17 June 2025 → Deadline: 09 October 2025 | Extra: Two-stage\n",
      "✔ Establishing Ortho and Cardiology Ambulatory Surgical Centres in Europe | https://ec.europa.eu/info/funding-tenders/opportunities/portal/screen/opportunities/topic-details/HORIZON-JU-IHI-2025-11-05-two-stage?isExactMatch=true&status=31094501,31094502&order=DESC&pageNumber=3&pageSize=50&sortBy=startDate | Statut: Open For Submission | 📅 Ouverture: 17 June 2025 → Deadline: 09 October 2025 | Extra: Two-stage\n",
      "✔ Rising Innovators category | https://ec.europa.eu/info/funding-tenders/opportunities/portal/screen/opportunities/topic-details/HORIZON-EIC-2025-PRIZE-WIP-RisingInnovators?isExactMatch=true&status=31094501,31094502&order=DESC&pageNumber=3&pageSize=50&sortBy=startDate | Statut: Open For Submission | 📅 Ouverture: 17 June 2025 → Deadline: 25 September 2025 | Extra: Single-stage\n",
      "✔ Women Innovators category | https://ec.europa.eu/info/funding-tenders/opportunities/portal/screen/opportunities/topic-details/HORIZON-EIC-2025-PRIZE-WIP-WomenInnovatorsCategory?isExactMatch=true&status=31094501,31094502&order=DESC&pageNumber=3&pageSize=50&sortBy=startDate | Statut: Open For Submission | 📅 Ouverture: 17 June 2025 → Deadline: 25 September 2025 | Extra: Single-stage\n",
      "✔ European Researchers' Night and Researchers at Schools 2026-2027 | https://ec.europa.eu/info/funding-tenders/opportunities/portal/screen/opportunities/topic-details/HORIZON-MSCA-2025-CITIZENS-01-01?isExactMatch=true&status=31094501,31094502&order=DESC&pageNumber=3&pageSize=50&sortBy=startDate | Statut: Open For Submission | 📅 Ouverture: 17 June 2025 → Deadline: 22 October 2025 | Extra: Single-stage\n"
     ]
    },
    {
     "name": "stdout",
     "output_type": "stream",
     "text": [
      "✔ Welfare monitoring: data driven risk assessment in fast and slower growing broilers (BROWARD) | https://ec.europa.eu/info/funding-tenders/opportunities/portal/screen/opportunities/topic-details/EUBA-EFSA-2025-BIOHAW-01?isExactMatch=true&status=31094501,31094502&order=DESC&pageNumber=3&pageSize=50&sortBy=startDate | Statut: Open For Submission | 📅 Ouverture: 17 June 2025 → Deadline: 26 November 2025 | Extra: Single-stage\n",
      "✔ Design of the Master Programme in Data Science with Specialization in Sustainability | https://ec.europa.eu/info/funding-tenders/opportunities/portal/screen/opportunities/competitive-calls-cs/11162?isExactMatch=true&status=31094501,31094502&order=DESC&pageNumber=3&pageSize=50&sortBy=startDate | Statut: Open For Submission | 📅 Ouverture: 16 June 2025 → Deadline: 14 August 2025 | Extra: Single-stage\n",
      "✔ Design of the Master Programme in Business Excellence | https://ec.europa.eu/info/funding-tenders/opportunities/portal/screen/opportunities/competitive-calls-cs/11161?isExactMatch=true&status=31094501,31094502&order=DESC&pageNumber=3&pageSize=50&sortBy=startDate | Statut: Open For Submission | 📅 Ouverture: 16 June 2025 → Deadline: 14 August 2025 | Extra: Single-stage\n",
      "✔ Inkjet-bioAM Open Call | https://ec.europa.eu/info/funding-tenders/opportunities/portal/screen/opportunities/competitive-calls-cs/11004?isExactMatch=true&status=31094501,31094502&order=DESC&pageNumber=3&pageSize=50&sortBy=startDate | Statut: Open For Submission | 📅 Ouverture: 16 June 2025 → Deadline: 15 September 2025 | Extra: Single-stage\n"
     ]
    },
    {
     "name": "stdout",
     "output_type": "stream",
     "text": [
      "✔ New advanced tools and processes for Operational Cybersecurity | https://ec.europa.eu/info/funding-tenders/opportunities/portal/screen/opportunities/topic-details/HORIZON-CL3-2025-02-CS-ECCC-02?isExactMatch=true&status=31094501,31094502&order=DESC&pageNumber=3&pageSize=50&sortBy=startDate | Statut: Open For Submission | 📅 Ouverture: 12 June 2025 → Deadline: 12 November 2025 | Extra: Single-stage\n",
      "✔ Security evaluations of Post-Quantum Cryptography (PQC) primitives | https://ec.europa.eu/info/funding-tenders/opportunities/portal/screen/opportunities/topic-details/HORIZON-CL3-2025-02-CS-ECCC-04?isExactMatch=true&status=31094501,31094502&order=DESC&pageNumber=3&pageSize=50&sortBy=startDate | Statut: Open For Submission | 📅 Ouverture: 12 June 2025 → Deadline: 12 November 2025 | Extra: Single-stage\n",
      "✔ Enhancing the NCC Network | https://ec.europa.eu/info/funding-tenders/opportunities/portal/screen/opportunities/topic-details/DIGITAL-ECCC-2025-DEPLOY-CYBER-08-NCC?isExactMatch=true&status=31094501,31094502&order=DESC&pageNumber=3&pageSize=50&sortBy=startDate | Statut: Open For Submission | 📅 Ouverture: 12 June 2025 → Deadline: 07 October 2025 | Extra: Single-stage\n",
      "✔ Dedicated action to reinforcing hospitals and healthcare providers | https://ec.europa.eu/info/funding-tenders/opportunities/portal/screen/opportunities/topic-details/DIGITAL-ECCC-2025-DEPLOY-CYBER-08-CYBERHEALTH?isExactMatch=true&status=31094501,31094502&order=DESC&pageNumber=3&pageSize=50&sortBy=startDate | Statut: Open For Submission | 📅 Ouverture: 12 June 2025 → Deadline: 07 October 2025 | Extra: Single-stage\n"
     ]
    },
    {
     "name": "stdout",
     "output_type": "stream",
     "text": [
      "✔ Privacy Enhancing Technologies | https://ec.europa.eu/info/funding-tenders/opportunities/portal/screen/opportunities/topic-details/HORIZON-CL3-2025-02-CS-ECCC-03?isExactMatch=true&status=31094501,31094502&order=DESC&pageNumber=3&pageSize=50&sortBy=startDate | Statut: Open For Submission | 📅 Ouverture: 12 June 2025 → Deadline: 12 November 2025 | Extra: Single-stage\n",
      "✔ Security of implementations of Post-Quantum Cryptography algorithms | https://ec.europa.eu/info/funding-tenders/opportunities/portal/screen/opportunities/topic-details/HORIZON-CL3-2025-02-CS-ECCC-05?isExactMatch=true&status=31094501,31094502&order=DESC&pageNumber=3&pageSize=50&sortBy=startDate | Statut: Open For Submission | 📅 Ouverture: 12 June 2025 → Deadline: 12 November 2025 | Extra: Single-stage\n"
     ]
    },
    {
     "name": "stdout",
     "output_type": "stream",
     "text": [
      "➡️ Passage à la page suivante...\n"
     ]
    },
    {
     "name": "stdout",
     "output_type": "stream",
     "text": [
      "📄 Page 4 : 50 projets trouvés.\n",
      "✔ Privacy Enhancing Technologies | https://ec.europa.eu/info/funding-tenders/opportunities/portal/screen/opportunities/topic-details/HORIZON-CL3-2025-02-CS-ECCC-03?isExactMatch=true&status=31094501,31094502&order=DESC&pageNumber=4&pageSize=50&sortBy=startDate | Statut: Open For Submission | 📅 Ouverture: 12 June 2025 → Deadline: 12 November 2025 | Extra: Single-stage\n",
      "✔ Security of implementations of Post-Quantum Cryptography algorithms | https://ec.europa.eu/info/funding-tenders/opportunities/portal/screen/opportunities/topic-details/HORIZON-CL3-2025-02-CS-ECCC-05?isExactMatch=true&status=31094501,31094502&order=DESC&pageNumber=4&pageSize=50&sortBy=startDate | Statut: Open For Submission | 📅 Ouverture: 12 June 2025 → Deadline: 12 November 2025 | Extra: Single-stage\n"
     ]
    },
    {
     "name": "stdout",
     "output_type": "stream",
     "text": [
      "✔ Integration of Post-Quantum Cryptography (PQC) algorithms into high-level protocols | https://ec.europa.eu/info/funding-tenders/opportunities/portal/screen/opportunities/topic-details/HORIZON-CL3-2025-02-CS-ECCC-06?isExactMatch=true&status=31094501,31094502&order=DESC&pageNumber=4&pageSize=50&sortBy=startDate | Statut: Open For Submission | 📅 Ouverture: 12 June 2025 → Deadline: 12 November 2025 | Extra: Single-stage\n",
      "✔ Demand-led innovation for civil security through Pre-Commercial Procurement (PCP) | https://ec.europa.eu/info/funding-tenders/opportunities/portal/screen/opportunities/topic-details/HORIZON-CL3-2025-01-SSRI-06?isExactMatch=true&status=31094501,31094502&order=DESC&pageNumber=4&pageSize=50&sortBy=startDate | Statut: Open For Submission | 📅 Ouverture: 12 June 2025 → Deadline: 12 November 2025 | Extra: Single-stage\n",
      "✔ Advancing autonomous systems and robotics for high-risk disaster response, strengthening disaster resilience in conflict-afflicted crisis zones | https://ec.europa.eu/info/funding-tenders/opportunities/portal/screen/opportunities/topic-details/HORIZON-CL3-2025-01-DRS-04?isExactMatch=true&status=31094501,31094502&order=DESC&pageNumber=4&pageSize=50&sortBy=startDate | Statut: Open For Submission | 📅 Ouverture: 12 June 2025 → Deadline: 12 November 2025 | Extra: Single-stage\n"
     ]
    },
    {
     "name": "stdout",
     "output_type": "stream",
     "text": [
      "✔ Open topic on Improving disaster risk management and governance to ensure self-sufficiency and sustainability of operations in support of enhanced resilience | https://ec.europa.eu/info/funding-tenders/opportunities/portal/screen/opportunities/topic-details/HORIZON-CL3-2025-01-DRS-02?isExactMatch=true&status=31094501,31094502&order=DESC&pageNumber=4&pageSize=50&sortBy=startDate | Statut: Open For Submission | 📅 Ouverture: 12 June 2025 → Deadline: 12 November 2025 | Extra: Single-stage\n",
      "✔ Open topic on better customs and supply chain security | https://ec.europa.eu/info/funding-tenders/opportunities/portal/screen/opportunities/topic-details/HORIZON-CL3-2025-01-BM-03?isExactMatch=true&status=31094501,31094502&order=DESC&pageNumber=4&pageSize=50&sortBy=startDate | Statut: Open For Submission | 📅 Ouverture: 12 June 2025 → Deadline: 12 November 2025 | Extra: Single-stage\n",
      "✔ Open grounds for pre-commercial procurement of innovative security technologies | https://ec.europa.eu/info/funding-tenders/opportunities/portal/screen/opportunities/topic-details/HORIZON-CL3-2025-01-SSRI-03?isExactMatch=true&status=31094501,31094502&order=DESC&pageNumber=4&pageSize=50&sortBy=startDate | Statut: Open For Submission | 📅 Ouverture: 12 June 2025 → Deadline: 12 November 2025 | Extra: Single-stage\n",
      "✔ Open topic on testing / validating tools, technologies and data used in cross-border prevention, preparedness and responses to climate extreme and geological events and chemical, biological or radiological emergency threats | https://ec.europa.eu/info/funding-tenders/opportunities/portal/screen/opportunities/topic-details/HORIZON-CL3-2025-01-DRS-03?isExactMatch=true&status=31094501,31094502&order=DESC&pageNumber=4&pageSize=50&sortBy=startDate | Statut: Open For Submission | 📅 Ouverture: 12 June 2025 → Deadline: 12 November 2025 | Extra: Single-stage\n",
      "✔ National Contact Points (NCPs) in the field of security and cybersecurity fostering the links with National Community building for Safe, Secure and Resilient Societies | https://ec.europa.eu/info/funding-tenders/opportunities/portal/screen/opportunities/topic-details/HORIZON-CL3-2025-01-SSRI-01?isExactMatch=true&status=31094501,31094502&order=DESC&pageNumber=4&pageSize=50&sortBy=startDate | Statut: Open For Submission | 📅 Ouverture: 12 June 2025 → Deadline: 12 November 2025 | Extra: Single-stage\n"
     ]
    },
    {
     "name": "stdout",
     "output_type": "stream",
     "text": [
      "✔ Open topic on citizen and regional and/or local authorities' engagement in enhanced disaster risk awareness, including education, and preparedness | https://ec.europa.eu/info/funding-tenders/opportunities/portal/screen/opportunities/topic-details/HORIZON-CL3-2025-01-DRS-01?isExactMatch=true&status=31094501,31094502&order=DESC&pageNumber=4&pageSize=50&sortBy=startDate | Statut: Open For Submission | 📅 Ouverture: 12 June 2025 → Deadline: 12 November 2025 | Extra: Single-stage\n",
      "✔ Accelerating uptake through open proposals for advanced SME innovation | https://ec.europa.eu/info/funding-tenders/opportunities/portal/screen/opportunities/topic-details/HORIZON-CL3-2025-01-SSRI-04?isExactMatch=true&status=31094501,31094502&order=DESC&pageNumber=4&pageSize=50&sortBy=startDate | Statut: Open For Submission | 📅 Ouverture: 12 June 2025 → Deadline: 12 November 2025 | Extra: Single-stage\n",
      "✔ Open topic on prevention, detection and deterrence of various forms of crime and terrorism through an enhanced understanding of the related societal issues | https://ec.europa.eu/info/funding-tenders/opportunities/portal/screen/opportunities/topic-details/HORIZON-CL3-2025-01-FCT-02?isExactMatch=true&status=31094501,31094502&order=DESC&pageNumber=4&pageSize=50&sortBy=startDate | Statut: Open For Submission | 📅 Ouverture: 12 June 2025 → Deadline: 12 November 2025 | Extra: Single-stage\n",
      "✔ Open topic on improved intelligence picture and enhanced prevention, detection and deterrence of various forms of organised crime | https://ec.europa.eu/info/funding-tenders/opportunities/portal/screen/opportunities/topic-details/HORIZON-CL3-2025-01-FCT-03?isExactMatch=true&status=31094501,31094502&order=DESC&pageNumber=4&pageSize=50&sortBy=startDate | Statut: Open For Submission | 📅 Ouverture: 12 June 2025 → Deadline: 12 November 2025 | Extra: Single-stage\n"
     ]
    },
    {
     "name": "stdout",
     "output_type": "stream",
     "text": [
      "✔ Uptake Acceleration Services | https://ec.europa.eu/info/funding-tenders/opportunities/portal/screen/opportunities/topic-details/HORIZON-CL3-2025-01-SSRI-02?isExactMatch=true&status=31094501,31094502&order=DESC&pageNumber=4&pageSize=50&sortBy=startDate | Statut: Open For Submission | 📅 Ouverture: 12 June 2025 → Deadline: 12 November 2025 | Extra: Single-stage\n",
      "✔ Open topic for role of the human factor for the resilience of critical infrastructures | https://ec.europa.eu/info/funding-tenders/opportunities/portal/screen/opportunities/topic-details/HORIZON-CL3-2025-01-INFRA-02?isExactMatch=true&status=31094501,31094502&order=DESC&pageNumber=4&pageSize=50&sortBy=startDate | Statut: Open For Submission | 📅 Ouverture: 12 June 2025 → Deadline: 12 November 2025 | Extra: Single-stage\n",
      "✔ Open topic on efficient border surveillance and maritime security | https://ec.europa.eu/info/funding-tenders/opportunities/portal/screen/opportunities/topic-details/HORIZON-CL3-2025-01-BM-01?isExactMatch=true&status=31094501,31094502&order=DESC&pageNumber=4&pageSize=50&sortBy=startDate | Statut: Open For Submission | 📅 Ouverture: 12 June 2025 → Deadline: 12 November 2025 | Extra: Single-stage\n",
      "✔ Open topic on modern information and forensic evidence analysis and on frontline policing | https://ec.europa.eu/info/funding-tenders/opportunities/portal/screen/opportunities/topic-details/HORIZON-CL3-2025-01-FCT-01?isExactMatch=true&status=31094501,31094502&order=DESC&pageNumber=4&pageSize=50&sortBy=startDate | Statut: Open For Submission | 📅 Ouverture: 12 June 2025 → Deadline: 12 November 2025 | Extra: Single-stage\n"
     ]
    },
    {
     "name": "stdout",
     "output_type": "stream",
     "text": [
      "✔ Data repository for security research and innovation | https://ec.europa.eu/info/funding-tenders/opportunities/portal/screen/opportunities/topic-details/HORIZON-CL3-2025-01-SSRI-05?isExactMatch=true&status=31094501,31094502&order=DESC&pageNumber=4&pageSize=50&sortBy=startDate | Statut: Open For Submission | 📅 Ouverture: 12 June 2025 → Deadline: 12 November 2025 | Extra: Single-stage\n",
      "✔ Humanitarian demining / Unexploded Ordnance Disposal (UXO) of civil areas and unexploded ordnance risk education | https://ec.europa.eu/info/funding-tenders/opportunities/portal/screen/opportunities/topic-details/HORIZON-CL3-2025-01-FCT-04?isExactMatch=true&status=31094501,31094502&order=DESC&pageNumber=4&pageSize=50&sortBy=startDate | Statut: Open For Submission | 📅 Ouverture: 12 June 2025 → Deadline: 12 November 2025 | Extra: Single-stage\n",
      "✔ Open topic on secured and facilitated crossing of external borders | https://ec.europa.eu/info/funding-tenders/opportunities/portal/screen/opportunities/topic-details/HORIZON-CL3-2025-01-BM-02?isExactMatch=true&status=31094501,31094502&order=DESC&pageNumber=4&pageSize=50&sortBy=startDate | Statut: Open For Submission | 📅 Ouverture: 12 June 2025 → Deadline: 12 November 2025 | Extra: Single-stage\n",
      "✔ Open topic for improved preparedness for, response to and recovery from large-scale disruptions of critical infrastructures | https://ec.europa.eu/info/funding-tenders/opportunities/portal/screen/opportunities/topic-details/HORIZON-CL3-2025-01-INFRA-01?isExactMatch=true&status=31094501,31094502&order=DESC&pageNumber=4&pageSize=50&sortBy=startDate | Statut: Open For Submission | 📅 Ouverture: 12 June 2025 → Deadline: 12 November 2025 | Extra: Single-stage\n",
      "✔ EIC pre-accelerator - Widening | https://ec.europa.eu/info/funding-tenders/opportunities/portal/screen/opportunities/topic-details/HORIZON-WIDERA-2025-02-ACCESS-01?isExactMatch=true&status=31094501,31094502&order=DESC&pageNumber=4&pageSize=50&sortBy=startDate | Statut: Open For Submission | 📅 Ouverture: 12 June 2025 → Deadline: 18 November 2025 | Extra: Single-stage\n"
     ]
    },
    {
     "name": "stdout",
     "output_type": "stream",
     "text": [
      "✔ CETPartnership Joint Call 2025 | https://ec.europa.eu/info/funding-tenders/opportunities/portal/screen/opportunities/competitive-calls-cs/10946?isExactMatch=true&status=31094501,31094502&order=DESC&pageNumber=4&pageSize=50&sortBy=startDate | Statut: Open For Submission | 📅 Ouverture: 11 June 2025 → Deadline: 09 October 2025 | Extra: Multiple Cut-off\n",
      "✔ Open Horizons Open Call #1 | https://ec.europa.eu/info/funding-tenders/opportunities/portal/screen/opportunities/competitive-calls-cs/11126?isExactMatch=true&status=31094501,31094502&order=DESC&pageNumber=4&pageSize=50&sortBy=startDate | Statut: Open For Submission | 📅 Ouverture: 11 June 2025 → Deadline: 21 August 2025 | Extra: Single-stage\n",
      "✔ #BeActive-EU-SPORT-AWARDS – Inclusion | https://ec.europa.eu/info/funding-tenders/opportunities/portal/screen/opportunities/topic-details/ERASMUS-SPORT-2025-EU-AWARDS-INCLUSION?isExactMatch=true&status=31094501,31094502&order=DESC&pageNumber=4&pageSize=50&sortBy=startDate | Statut: Open For Submission | 📅 Ouverture: 11 June 2025 → Deadline: 24 September 2025 | Extra: Single-stage\n",
      "✔ #BeActive-EU-SPORT-AWARDS - Across generations | https://ec.europa.eu/info/funding-tenders/opportunities/portal/screen/opportunities/topic-details/ERASMUS-SPORT-2025-EU-AWARDS-GENERATIONS?isExactMatch=true&status=31094501,31094502&order=DESC&pageNumber=4&pageSize=50&sortBy=startDate | Statut: Open For Submission | 📅 Ouverture: 11 June 2025 → Deadline: 24 September 2025 | Extra: Single-stage\n"
     ]
    },
    {
     "name": "stdout",
     "output_type": "stream",
     "text": [
      "✔ #BeActive-EU-SPORT-AWARDS – Physical activity | https://ec.europa.eu/info/funding-tenders/opportunities/portal/screen/opportunities/topic-details/ERASMUS-SPORT-2025-EU-AWARDS-PHYSICAL-ACTIVITY?isExactMatch=true&status=31094501,31094502&order=DESC&pageNumber=4&pageSize=50&sortBy=startDate | Statut: Open For Submission | 📅 Ouverture: 11 June 2025 → Deadline: 24 September 2025 | Extra: Single-stage\n",
      "✔ #BeActive-EU-SPORT-AWARDS-Volunteering | https://ec.europa.eu/info/funding-tenders/opportunities/portal/screen/opportunities/topic-details/ERASMUS-SPORT-2025-EU-AWARDS-VOLUNTEERING?isExactMatch=true&status=31094501,31094502&order=DESC&pageNumber=4&pageSize=50&sortBy=startDate | Statut: Open For Submission | 📅 Ouverture: 11 June 2025 → Deadline: 24 September 2025 | Extra: Single-stage\n",
      "✔ #BeActive-EU-SPORT-AWARDS-Peace | https://ec.europa.eu/info/funding-tenders/opportunities/portal/screen/opportunities/topic-details/ERASMUS-SPORT-2025-EU-AWARDS-PEACE?isExactMatch=true&status=31094501,31094502&order=DESC&pageNumber=4&pageSize=50&sortBy=startDate | Statut: Open For Submission | 📅 Ouverture: 11 June 2025 → Deadline: 24 September 2025 | Extra: Single-stage\n",
      "✔ XR2Industry 3rd Open Call for use cases | https://ec.europa.eu/info/funding-tenders/opportunities/portal/screen/opportunities/competitive-calls-cs/11064?isExactMatch=true&status=31094501,31094502&order=DESC&pageNumber=4&pageSize=50&sortBy=startDate | Statut: Open For Submission | 📅 Ouverture: 10 June 2025 → Deadline: 12 August 2025 | Extra: Single-stage\n",
      "✔ Call No. 1 for proposals for NGOs to participate in capacity building and receive financial support | https://ec.europa.eu/info/funding-tenders/opportunities/portal/screen/opportunities/competitive-calls-cs/11142?isExactMatch=true&status=31094501,31094502&order=DESC&pageNumber=4&pageSize=50&sortBy=startDate | Statut: Open For Submission | 📅 Ouverture: 10 June 2025 → Deadline: 20 August 2025 | Extra: Multiple Cut-off\n"
     ]
    },
    {
     "name": "stdout",
     "output_type": "stream",
     "text": [
      "✔ The DeepTechers | https://ec.europa.eu/info/funding-tenders/opportunities/portal/screen/opportunities/competitive-calls-cs/11072?isExactMatch=true&status=31094501,31094502&order=DESC&pageNumber=4&pageSize=50&sortBy=startDate | Statut: Open For Submission | 📅 Ouverture: 10 June 2025 → Deadline: 18 August 2025 | Extra: Single-stage\n",
      "✔ Call for excellence scholarships for students of the Master's program AI & Health at Stockholm University | https://ec.europa.eu/info/funding-tenders/opportunities/portal/screen/opportunities/competitive-calls-cs/11107?isExactMatch=true&status=31094501,31094502&order=DESC&pageNumber=4&pageSize=50&sortBy=startDate | Statut: Open For Submission | 📅 Ouverture: 10 June 2025 → Deadline: 15 August 2025 | Extra: Single-stage\n",
      "✔ Training of national judges in EU competition law | https://ec.europa.eu/info/funding-tenders/opportunities/portal/screen/opportunities/topic-details/SMP-COMP-2025-JUDG?isExactMatch=true&status=31094501,31094502&order=DESC&pageNumber=4&pageSize=50&sortBy=startDate | Statut: Open For Submission | 📅 Ouverture: 10 June 2025 → Deadline: 24 September 2025 | Extra: Single-stage\n",
      "✔ Robust and trustworthy GenerativeAI for Robotics and industrial automation (RIA) (AI/Data/Robotics & Made in Europe Partnerships) | https://ec.europa.eu/info/funding-tenders/opportunities/portal/screen/opportunities/topic-details/HORIZON-CL4-2025-03-DIGITAL-EMERGING-07?isExactMatch=true&status=31094501,31094502&order=DESC&pageNumber=4&pageSize=50&sortBy=startDate | Statut: Open For Submission | 📅 Ouverture: 10 June 2025 → Deadline: 02 October 2025 | Extra: Single-stage\n",
      "✔ Innovative Advanced Materials (IAMs) for photonics, enabling low-power and ultra-broadband performance for telecommunication (RIA) (Innovative Advanced Materials for Europe partnership) | https://ec.europa.eu/info/funding-tenders/opportunities/portal/screen/opportunities/topic-details/HORIZON-CL4-2025-03-MATERIALS-46?isExactMatch=true&status=31094501,31094502&order=DESC&pageNumber=4&pageSize=50&sortBy=startDate | Statut: Open For Submission | 📅 Ouverture: 10 June 2025 → Deadline: 02 October 2025 | Extra: Single-stage\n"
     ]
    },
    {
     "name": "stdout",
     "output_type": "stream",
     "text": [
      "✔ Strengthening the fabless Start-up and SME ecosystem in Europe (CSA) | https://ec.europa.eu/info/funding-tenders/opportunities/portal/screen/opportunities/topic-details/HORIZON-CL4-2025-03-DIGITAL-EMERGING-08?isExactMatch=true&status=31094501,31094502&order=DESC&pageNumber=4&pageSize=50&sortBy=startDate | Statut: Open For Submission | 📅 Ouverture: 10 June 2025 → Deadline: 02 October 2025 | Extra: Single-stage\n",
      "✔ Continuation of the Quantum Technologies Flagship (CSA) | https://ec.europa.eu/info/funding-tenders/opportunities/portal/screen/opportunities/topic-details/HORIZON-CL4-2025-03-DIGITAL-EMERGING-01?isExactMatch=true&status=31094501,31094502&order=DESC&pageNumber=4&pageSize=50&sortBy=startDate | Statut: Open For Submission | 📅 Ouverture: 10 June 2025 → Deadline: 02 October 2025 | Extra: Single-stage\n",
      "✔ Open Internet Stack: development of technological commons/open-source 3C building blocks (RIA) | https://ec.europa.eu/info/funding-tenders/opportunities/portal/screen/opportunities/topic-details/HORIZON-CL4-2025-03-DATA-11?isExactMatch=true&status=31094501,31094502&order=DESC&pageNumber=4&pageSize=50&sortBy=startDate | Statut: Open For Submission | 📅 Ouverture: 10 June 2025 → Deadline: 02 October 2025 | Extra: Single-stage\n",
      "✔ Alignment of stakeholders towards the supply-side large-scale pilot of end-to-end infrastructures integrating device, network computing and communication capabilities (CSA) | https://ec.europa.eu/info/funding-tenders/opportunities/portal/screen/opportunities/topic-details/HORIZON-CL4-2025-03-DATA-09?isExactMatch=true&status=31094501,31094502&order=DESC&pageNumber=4&pageSize=50&sortBy=startDate | Statut: Open For Submission | 📅 Ouverture: 10 June 2025 → Deadline: 02 October 2025 | Extra: Single-stage\n"
     ]
    },
    {
     "name": "stdout",
     "output_type": "stream",
     "text": [
      "✔ Preparing the Advancement of the state of the art of submarine cable infrastructures (CSA) | https://ec.europa.eu/info/funding-tenders/opportunities/portal/screen/opportunities/topic-details/HORIZON-CL4-2025-03-DATA-12?isExactMatch=true&status=31094501,31094502&order=DESC&pageNumber=4&pageSize=50&sortBy=startDate | Statut: Open For Submission | 📅 Ouverture: 10 June 2025 → Deadline: 02 October 2025 | Extra: Single-stage\n",
      "✔ Roadmap for next generation computing technologies from IoT device level to edge to cloud to HPC (CSA) | https://ec.europa.eu/info/funding-tenders/opportunities/portal/screen/opportunities/topic-details/HORIZON-CL4-2025-03-DATA-10?isExactMatch=true&status=31094501,31094502&order=DESC&pageNumber=4&pageSize=50&sortBy=startDate | Statut: Open For Submission | 📅 Ouverture: 10 June 2025 → Deadline: 02 October 2025 | Extra: Single-stage\n",
      "✔ GenAI4EU central Hub (CSA) (AI/Data/Robotics Partnership) | https://ec.europa.eu/info/funding-tenders/opportunities/portal/screen/opportunities/topic-details/HORIZON-CL4-2025-03-HUMAN-18?isExactMatch=true&status=31094501,31094502&order=DESC&pageNumber=4&pageSize=50&sortBy=startDate | Statut: Open For Submission | 📅 Ouverture: 10 June 2025 → Deadline: 02 October 2025 | Extra: Single-stage\n",
      "✔ Challenge-Driven GenAI4EU Booster (RIA) (AI/Data/Robotics Partnership) | https://ec.europa.eu/info/funding-tenders/opportunities/portal/screen/opportunities/topic-details/HORIZON-CL4-2025-03-DIGITAL-EMERGING-09?isExactMatch=true&status=31094501,31094502&order=DESC&pageNumber=4&pageSize=50&sortBy=startDate | Statut: Open For Submission | 📅 Ouverture: 10 June 2025 → Deadline: 02 October 2025 | Extra: Single-stage\n"
     ]
    },
    {
     "name": "stdout",
     "output_type": "stream",
     "text": [
      "✔ Supporting Digital Partnerships in Quantum technologies (RIA) | https://ec.europa.eu/info/funding-tenders/opportunities/portal/screen/opportunities/topic-details/HORIZON-CL4-2025-03-DIGITAL-EMERGING-03?isExactMatch=true&status=31094501,31094502&order=DESC&pageNumber=4&pageSize=50&sortBy=startDate | Statut: Open For Submission | 📅 Ouverture: 10 June 2025 → Deadline: 02 October 2025 | Extra: Single-stage\n",
      "✔ Innovative Advanced Materials (IAMs) for conformable, flexible or stretchable electronics (RIA) (Innovative Advanced Materials for Europe partnership) | https://ec.europa.eu/info/funding-tenders/opportunities/portal/screen/opportunities/topic-details/HORIZON-CL4-2025-03-MATERIALS-47?isExactMatch=true&status=31094501,31094502&order=DESC&pageNumber=4&pageSize=50&sortBy=startDate | Statut: Open For Submission | 📅 Ouverture: 10 June 2025 → Deadline: 02 October 2025 | Extra: Single-stage\n",
      "✔ Community Centres of Excellence | https://ec.europa.eu/info/funding-tenders/opportunities/portal/screen/opportunities/topic-details/HORIZON-JU-EUROHPC-2026-COE-LH-01-01?isExactMatch=true&status=31094501,31094502&order=DESC&pageNumber=4&pageSize=50&sortBy=startDate | Statut: Open For Submission | 📅 Ouverture: 10 June 2025 → Deadline: 20 January 2026 | Extra: Single-stage\n",
      "✔ Specific support for the Virtual Worlds Partnership and the Web 4.0 initiative (CSA) (Virtual Worlds Partnership) | https://ec.europa.eu/info/funding-tenders/opportunities/portal/screen/opportunities/topic-details/HORIZON-CL4-2025-03-HUMAN-17?isExactMatch=true&status=31094501,31094502&order=DESC&pageNumber=4&pageSize=50&sortBy=startDate | Statut: Open For Submission | 📅 Ouverture: 10 June 2025 → Deadline: 02 October 2025 | Extra: Single-stage\n",
      "✔ Post-exascale HPC (CSA) | https://ec.europa.eu/info/funding-tenders/opportunities/portal/screen/opportunities/topic-details/HORIZON-CL4-2025-03-DIGITAL-EMERGING-04?isExactMatch=true&status=31094501,31094502&order=DESC&pageNumber=4&pageSize=50&sortBy=startDate | Statut: Open For Submission | 📅 Ouverture: 10 June 2025 → Deadline: 02 October 2025 | Extra: Single-stage\n"
     ]
    },
    {
     "name": "stdout",
     "output_type": "stream",
     "text": [
      "➡️ Passage à la page suivante...\n"
     ]
    },
    {
     "name": "stdout",
     "output_type": "stream",
     "text": [
      "📄 Page 5 : 44 projets trouvés.\n",
      "✔ Lighthouse Codes for HPC Applications | https://ec.europa.eu/info/funding-tenders/opportunities/portal/screen/opportunities/topic-details/HORIZON-JU-EUROHPC-2026-COE-LH-01-03?isExactMatch=true&status=31094501,31094502&order=DESC&pageNumber=5&pageSize=50&sortBy=startDate | Statut: Open For Submission | 📅 Ouverture: 10 June 2025 → Deadline: 20 January 2026 | Extra: Single-stage\n",
      "✔ Transversal Centres of Excellence | https://ec.europa.eu/info/funding-tenders/opportunities/portal/screen/opportunities/topic-details/HORIZON-JU-EUROHPC-2026-COE-LH-01-02?isExactMatch=true&status=31094501,31094502&order=DESC&pageNumber=5&pageSize=50&sortBy=startDate | Statut: Open For Submission | 📅 Ouverture: 10 June 2025 → Deadline: 20 January 2026 | Extra: Single-stage\n",
      "✔ Quantum Computing – complementing the quantum computing FPAs with the development of a technology agnostic software stack (RIA) | https://ec.europa.eu/info/funding-tenders/opportunities/portal/screen/opportunities/topic-details/HORIZON-CL4-2025-03-DIGITAL-EMERGING-02?isExactMatch=true&status=31094501,31094502&order=DESC&pageNumber=5&pageSize=50&sortBy=startDate | Statut: Open For Submission | 📅 Ouverture: 10 June 2025 → Deadline: 02 October 2025 | Extra: Single-stage\n"
     ]
    },
    {
     "name": "stdout",
     "output_type": "stream",
     "text": [
      "✔ Core technologies for virtual worlds (RIA) (Virtual Worlds and Photonics Partnerships) | https://ec.europa.eu/info/funding-tenders/opportunities/portal/screen/opportunities/topic-details/HORIZON-CL4-2025-03-HUMAN-14?isExactMatch=true&status=31094501,31094502&order=DESC&pageNumber=5&pageSize=50&sortBy=startDate | Statut: Open For Submission | 📅 Ouverture: 10 June 2025 → Deadline: 02 October 2025 | Extra: Single-stage\n",
      "✔ Drive the evolution of the internet towards open and interoperable Web 4.0 and Virtual Worlds: building blocks in priority areas (RIA) (Virtual Worlds Partnership) | https://ec.europa.eu/info/funding-tenders/opportunities/portal/screen/opportunities/topic-details/HORIZON-CL4-2025-03-HUMAN-16?isExactMatch=true&status=31094501,31094502&order=DESC&pageNumber=5&pageSize=50&sortBy=startDate | Statut: Open For Submission | 📅 Ouverture: 10 June 2025 → Deadline: 02 October 2025 | Extra: Single-stage\n",
      "✔ Large-scale pilots for supply end-to-end infrastructures integrating device, network computing and communication capabilities for Telco Edge Cloud deployments, as a basis for Connected Collaborative Computing Networks (3C networks) (RIA) | https://ec.europa.eu/info/funding-tenders/opportunities/portal/screen/opportunities/topic-details/HORIZON-CL4-2025-03-DATA-08?isExactMatch=true&status=31094501,31094502&order=DESC&pageNumber=5&pageSize=50&sortBy=startDate | Statut: Open For Submission | 📅 Ouverture: 10 June 2025 → Deadline: 02 October 2025 | Extra: Single-stage\n",
      "✔ International cooperation in semiconductors (CSA) | https://ec.europa.eu/info/funding-tenders/opportunities/portal/screen/opportunities/topic-details/HORIZON-CL4-2025-03-HUMAN-19?isExactMatch=true&status=31094501,31094502&order=DESC&pageNumber=5&pageSize=50&sortBy=startDate | Statut: Open For Submission | 📅 Ouverture: 10 June 2025 → Deadline: 02 October 2025 | Extra: Single-stage\n"
     ]
    },
    {
     "name": "stdout",
     "output_type": "stream",
     "text": [
      "✔ Fostering Innovative and Compliant Data Ecosystems (IA) (AI, Data and Robotics Partnership) | https://ec.europa.eu/info/funding-tenders/opportunities/portal/screen/opportunities/topic-details/HORIZON-CL4-2025-03-DATA-13?isExactMatch=true&status=31094501,31094502&order=DESC&pageNumber=5&pageSize=50&sortBy=startDate | Statut: Open For Submission | 📅 Ouverture: 10 June 2025 → Deadline: 02 October 2025 | Extra: Single-stage\n",
      "✔ GenAI4EU: Generative AI for Virtual Worlds: Advanced technologies for better performance and hyper personalised and immersive experience (IA) (AI/Data/Robotics & Virtual Worlds Partnerships) | https://ec.europa.eu/info/funding-tenders/opportunities/portal/screen/opportunities/topic-details/HORIZON-CL4-2025-03-HUMAN-15?isExactMatch=true&status=31094501,31094502&order=DESC&pageNumber=5&pageSize=50&sortBy=startDate | Statut: Open For Submission | 📅 Ouverture: 10 June 2025 → Deadline: 02 October 2025 | Extra: Single-stage\n",
      "✔ Soft Robotics for Advanced physical capabilities (IA) (AI/Data/Robotics Partnership) | https://ec.europa.eu/info/funding-tenders/opportunities/portal/screen/opportunities/topic-details/HORIZON-CL4-2025-04-DIGITAL-EMERGING-05?isExactMatch=true&status=31094501,31094502&order=DESC&pageNumber=5&pageSize=50&sortBy=startDate | Statut: Open For Submission | 📅 Ouverture: 10 June 2025 → Deadline: 02 October 2025 | Extra: Single-stage\n",
      "✔ Enhanced Learning Strategies for General Purpose AI: Advancing GenAI4EU (RIA) (AI/Data/Robotics Partnership) | https://ec.europa.eu/info/funding-tenders/opportunities/portal/screen/opportunities/topic-details/HORIZON-CL4-2025-04-DIGITAL-EMERGING-07?isExactMatch=true&status=31094501,31094502&order=DESC&pageNumber=5&pageSize=50&sortBy=startDate | Statut: Open For Submission | 📅 Ouverture: 10 June 2025 → Deadline: 02 October 2025 | Extra: Single-stage\n"
     ]
    },
    {
     "name": "stdout",
     "output_type": "stream",
     "text": [
      "✔ Empowering AI/generative AI along the Cognitive Computing continuum (RIA) (AI/Data/Robotics Partnership) | https://ec.europa.eu/info/funding-tenders/opportunities/portal/screen/opportunities/topic-details/HORIZON-CL4-2025-04-DATA-02?isExactMatch=true&status=31094501,31094502&order=DESC&pageNumber=5&pageSize=50&sortBy=startDate | Statut: Open For Submission | 📅 Ouverture: 10 June 2025 → Deadline: 02 October 2025 | Extra: Single-stage\n",
      "✔ Advanced sensor technologies and multimodal sensor integration for multiple application domains (IA) (Photonics Partnership) | https://ec.europa.eu/info/funding-tenders/opportunities/portal/screen/opportunities/topic-details/HORIZON-CL4-2025-04-DIGITAL-EMERGING-01?isExactMatch=true&status=31094501,31094502&order=DESC&pageNumber=5&pageSize=50&sortBy=startDate | Statut: Open For Submission | 📅 Ouverture: 10 June 2025 → Deadline: 02 October 2025 | Extra: Single-stage\n",
      "✔ Assessment methodologies for General Purpose AI capabilities and risks (RIA) (AI/Data/Robotics Partnership) | https://ec.europa.eu/info/funding-tenders/opportunities/portal/screen/opportunities/topic-details/HORIZON-CL4-2025-04-DIGITAL-EMERGING-04?isExactMatch=true&status=31094501,31094502&order=DESC&pageNumber=5&pageSize=50&sortBy=startDate | Statut: Open For Submission | 📅 Ouverture: 10 June 2025 → Deadline: 02 October 2025 | Extra: Single-stage\n",
      "✔ GenAI for Africa | https://ec.europa.eu/info/funding-tenders/opportunities/portal/screen/opportunities/topic-details/HORIZON-CL4-2025-04-HUMAN-08?isExactMatch=true&status=31094501,31094502&order=DESC&pageNumber=5&pageSize=50&sortBy=startDate | Statut: Open For Submission | 📅 Ouverture: 10 June 2025 → Deadline: 02 October 2025 | Extra: Single-stage\n",
      "✔ Software Engineering for AI and generative AI (RIA) (AI/Data/Robotics Partnership) | https://ec.europa.eu/info/funding-tenders/opportunities/portal/screen/opportunities/topic-details/HORIZON-CL4-2025-04-DATA-03?isExactMatch=true&status=31094501,31094502&order=DESC&pageNumber=5&pageSize=50&sortBy=startDate | Statut: Open For Submission | 📅 Ouverture: 10 June 2025 → Deadline: 02 October 2025 | Extra: Single-stage\n"
     ]
    },
    {
     "name": "stdout",
     "output_type": "stream",
     "text": [
      "✔ Call for Grant Proposals: Code4Europe | https://ec.europa.eu/info/funding-tenders/opportunities/portal/screen/opportunities/competitive-calls-cs/11066?isExactMatch=true&status=31094501,31094502&order=DESC&pageNumber=5&pageSize=50&sortBy=startDate | Statut: Open For Submission | 📅 Ouverture: 06 June 2025 → Deadline: 06 August 2025 | Extra: Single-stage\n",
      "✔ Subvenții pentru educație pentru evenimente și inițiative educaționale inovatoare în cadrul EU Code Week 2025 | https://ec.europa.eu/info/funding-tenders/opportunities/portal/screen/opportunities/competitive-calls-cs/11076?isExactMatch=true&status=31094501,31094502&order=DESC&pageNumber=5&pageSize=50&sortBy=startDate | Statut: Open For Submission | 📅 Ouverture: 06 June 2025 → Deadline: 06 August 2025 | Extra: Single-stage\n",
      "✔ Small Grants for Grassroots Coding Projects in Belgium and the Netherlands as part of EU Code Week | https://ec.europa.eu/info/funding-tenders/opportunities/portal/screen/opportunities/competitive-calls-cs/11070?isExactMatch=true&status=31094501,31094502&order=DESC&pageNumber=5&pageSize=50&sortBy=startDate | Statut: Open For Submission | 📅 Ouverture: 06 June 2025 → Deadline: 22 August 2025 | Extra: Single-stage\n",
      "✔ 5th REINFORCING Open Call (Incubators Call) on \"Responsible Digitalization\" | https://ec.europa.eu/info/funding-tenders/opportunities/portal/screen/opportunities/competitive-calls-cs/11122?isExactMatch=true&status=31094501,31094502&order=DESC&pageNumber=5&pageSize=50&sortBy=startDate | Statut: Open For Submission | 📅 Ouverture: 05 June 2025 → Deadline: 05 August 2025 | Extra: Single-stage\n"
     ]
    },
    {
     "name": "stdout",
     "output_type": "stream",
     "text": [
      "✔ ROVA - Roma CSOs promoting EU values | https://ec.europa.eu/info/funding-tenders/opportunities/portal/screen/opportunities/competitive-calls-cs/11121?isExactMatch=true&status=31094501,31094502&order=DESC&pageNumber=5&pageSize=50&sortBy=startDate | Statut: Open For Submission | 📅 Ouverture: 05 June 2025 → Deadline: 05 August 2025 | Extra: Multiple Cut-off\n",
      "✔ EP PerMed Education Call 2025: The EP PerMed Guide to Personalised Medicine for Healthcare Professionals | https://ec.europa.eu/info/funding-tenders/opportunities/portal/screen/opportunities/competitive-calls-cs/11104?isExactMatch=true&status=31094501,31094502&order=DESC&pageNumber=5&pageSize=50&sortBy=startDate | Statut: Open For Submission | 📅 Ouverture: 04 June 2025 → Deadline: 09 September 2025 | Extra: Single-stage\n",
      "✔ Second call for business experiments addressing the uptake of HPC by SMEs | https://ec.europa.eu/info/funding-tenders/opportunities/portal/screen/opportunities/competitive-calls-cs/11080?isExactMatch=true&status=31094501,31094502&order=DESC&pageNumber=5&pageSize=50&sortBy=startDate | Statut: Open For Submission | 📅 Ouverture: 04 June 2025 → Deadline: 26 August 2025 | Extra: Single-stage\n",
      "✔ DIGITAL-JU-CHIPS-2025-CSA-DET | https://ec.europa.eu/info/funding-tenders/opportunities/portal/screen/opportunities/topic-details/DIGITAL-JU-CHIPS-2025-CSA-DET?isExactMatch=true&status=31094501,31094502&order=DESC&pageNumber=5&pageSize=50&sortBy=startDate | Statut: Open For Submission | 📅 Ouverture: 04 June 2025 → Deadline: 30 July 2025 | Extra: Single-stage\n"
     ]
    },
    {
     "name": "stdout",
     "output_type": "stream",
     "text": [
      "✔ SOFT Innovation Prize 2026 | https://ec.europa.eu/info/funding-tenders/opportunities/portal/screen/opportunities/topic-details/EURATOM-2026-SOFT-PRIZE?isExactMatch=true&status=31094501,31094502&order=DESC&pageNumber=5&pageSize=50&sortBy=startDate | Statut: Open For Submission | 📅 Ouverture: 03 June 2025 → Deadline: 03 March 2026 | Extra: Single-stage\n",
      "✔ Code4Portugal | https://ec.europa.eu/info/funding-tenders/opportunities/portal/screen/opportunities/competitive-calls-cs/10381?isExactMatch=true&status=31094501,31094502&order=DESC&pageNumber=5&pageSize=50&sortBy=startDate | Statut: Open For Submission | 📅 Ouverture: 02 June 2025 → Deadline: 02 August 2025 | Extra: Single-stage\n",
      "✔ FS4Africa Open Call 1 (OC1) addressed to research and technology stakeholders | https://ec.europa.eu/info/funding-tenders/opportunities/portal/screen/opportunities/competitive-calls-cs/10926?isExactMatch=true&status=31094501,31094502&order=DESC&pageNumber=5&pageSize=50&sortBy=startDate | Statut: Open For Submission | 📅 Ouverture: 02 June 2025 → Deadline: 30 September 2025 | Extra: Single-stage\n",
      "✔ CALL FOR PROPOSALS – Coding Education Grants per eventi e iniziative didattiche innovative nell’ambito della EU Code Week 2025 | https://ec.europa.eu/info/funding-tenders/opportunities/portal/screen/opportunities/competitive-calls-cs/11067?isExactMatch=true&status=31094501,31094502&order=DESC&pageNumber=5&pageSize=50&sortBy=startDate | Statut: Open For Submission | 📅 Ouverture: 02 June 2025 → Deadline: 01 August 2025 | Extra: Single-stage\n"
     ]
    },
    {
     "name": "stdout",
     "output_type": "stream",
     "text": [
      "✔ SOILSCAPE Open Call | https://ec.europa.eu/info/funding-tenders/opportunities/portal/screen/opportunities/competitive-calls-cs/11065?isExactMatch=true&status=31094501,31094502&order=DESC&pageNumber=5&pageSize=50&sortBy=startDate | Statut: Open For Submission | 📅 Ouverture: 02 June 2025 → Deadline: 30 September 2025 | Extra: Single-stage\n",
      "✔ Aspektus+ Regional Funding Program: Call 1) Hatókör and Call 2) Helyben ható | https://ec.europa.eu/info/funding-tenders/opportunities/portal/screen/opportunities/competitive-calls-cs/11102?isExactMatch=true&status=31094501,31094502&order=DESC&pageNumber=5&pageSize=50&sortBy=startDate | Statut: Open For Submission | 📅 Ouverture: 02 June 2025 → Deadline: 01 August 2025 | Extra: Multiple Cut-off\n",
      "✔ Women TechEU Open Call #4 | https://ec.europa.eu/info/funding-tenders/opportunities/portal/screen/opportunities/competitive-calls-cs/11108?isExactMatch=true&status=31094501,31094502&order=DESC&pageNumber=5&pageSize=50&sortBy=startDate | Statut: Open For Submission | 📅 Ouverture: 02 June 2025 → Deadline: 04 August 2025 | Extra: Single-stage\n",
      "✔ Journalism Science Alliance - call 1 | https://ec.europa.eu/info/funding-tenders/opportunities/portal/screen/opportunities/competitive-calls-cs/11090?isExactMatch=true&status=31094501,31094502&order=DESC&pageNumber=5&pageSize=50&sortBy=startDate | Statut: Open For Submission | 📅 Ouverture: 02 June 2025 → Deadline: 04 August 2025 | Extra: Single-stage\n"
     ]
    },
    {
     "name": "stdout",
     "output_type": "stream",
     "text": [
      "✔ #2 OPEN CALL | LAUDS REPLICATION (OC-2024-LAUDSREP-01) | https://ec.europa.eu/info/funding-tenders/opportunities/portal/screen/opportunities/competitive-calls-cs/11078?isExactMatch=true&status=31094501,31094502&order=DESC&pageNumber=5&pageSize=50&sortBy=startDate | Statut: Open For Submission | 📅 Ouverture: 02 June 2025 → Deadline: 04 September 2025 | Extra: Single-stage\n",
      "✔ COMHOM Subgranting Call | https://ec.europa.eu/info/funding-tenders/opportunities/portal/screen/opportunities/competitive-calls-cs/11103?isExactMatch=true&status=31094501,31094502&order=DESC&pageNumber=5&pageSize=50&sortBy=startDate | Statut: Open For Submission | 📅 Ouverture: 02 June 2025 → Deadline: 15 July 2025 | Extra: Single-stage\n",
      "✔ EUDOROS Open Call #1 | https://ec.europa.eu/info/funding-tenders/opportunities/portal/screen/opportunities/competitive-calls-cs/11105?isExactMatch=true&status=31094501,31094502&order=DESC&pageNumber=5&pageSize=50&sortBy=startDate | Statut: Open For Submission | 📅 Ouverture: 02 June 2025 → Deadline: 06 August 2025 | Extra: Single-stage\n",
      "✔ NGI Fediversity open call (2025-08F) | https://ec.europa.eu/info/funding-tenders/opportunities/portal/screen/opportunities/competitive-calls-cs/10464?isExactMatch=true&status=31094501,31094502&order=DESC&pageNumber=5&pageSize=50&sortBy=startDate | Statut: Open For Submission | 📅 Ouverture: 01 June 2025 → Deadline: 01 August 2025 | Extra: Single-stage\n",
      "✔ NGI Zero Commons Fund (2025-08Z) | https://ec.europa.eu/info/funding-tenders/opportunities/portal/screen/opportunities/competitive-calls-cs/10462?isExactMatch=true&status=31094501,31094502&order=DESC&pageNumber=5&pageSize=50&sortBy=startDate | Statut: Open For Submission | 📅 Ouverture: 01 June 2025 → Deadline: 01 August 2025 | Extra: Single-stage\n"
     ]
    },
    {
     "name": "stdout",
     "output_type": "stream",
     "text": [
      "✔ ENVELOPE 1st Open Call | https://ec.europa.eu/info/funding-tenders/opportunities/portal/screen/opportunities/competitive-calls-cs/10928?isExactMatch=true&status=31094501,31094502&order=DESC&pageNumber=5&pageSize=50&sortBy=startDate | Statut: Open For Submission | 📅 Ouverture: 01 June 2025 → Deadline: 31 July 2025 | Extra: Single-stage\n",
      "✔ NGI TALER open call (2025-08T) | https://ec.europa.eu/info/funding-tenders/opportunities/portal/screen/opportunities/competitive-calls-cs/10468?isExactMatch=true&status=31094501,31094502&order=DESC&pageNumber=5&pageSize=50&sortBy=startDate | Statut: Open For Submission | 📅 Ouverture: 01 June 2025 → Deadline: 01 August 2025 | Extra: Single-stage\n",
      "✔ Open Call for Artists, Citizens and Designers | https://ec.europa.eu/info/funding-tenders/opportunities/portal/screen/opportunities/competitive-calls-cs/11083?isExactMatch=true&status=31094501,31094502&order=DESC&pageNumber=5&pageSize=50&sortBy=startDate | Statut: Open For Submission | 📅 Ouverture: 30 May 2025 → Deadline: 30 July 2025 | Extra: Single-stage\n",
      "✔ Open call for Urban Factories | https://ec.europa.eu/info/funding-tenders/opportunities/portal/screen/opportunities/competitive-calls-cs/11084?isExactMatch=true&status=31094501,31094502&order=DESC&pageNumber=5&pageSize=50&sortBy=startDate | Statut: Open For Submission | 📅 Ouverture: 30 May 2025 → Deadline: 30 July 2025 | Extra: Single-stage\n"
     ]
    },
    {
     "name": "stdout",
     "output_type": "stream",
     "text": [
      "✔ Thematic grants | https://ec.europa.eu/info/funding-tenders/opportunities/portal/screen/opportunities/competitive-calls-cs/11075?isExactMatch=true&status=31094501,31094502&order=DESC&pageNumber=5&pageSize=50&sortBy=startDate | Statut: Open For Submission | 📅 Ouverture: 30 May 2025 → Deadline: 29 August 2025 | Extra: Single-stage\n",
      "✔ MSCA Doctoral Networks 2025 | https://ec.europa.eu/info/funding-tenders/opportunities/portal/screen/opportunities/topic-details/HORIZON-MSCA-2025-DN-01-01?isExactMatch=true&status=31094501,31094502&order=DESC&pageNumber=5&pageSize=50&sortBy=startDate | Statut: Open For Submission | 📅 Ouverture: 28 May 2025 → Deadline: 25 November 2025 | Extra: Single-stage\n",
      "✔ Co-design of the SPSI Methodological Infrastructure of the Future Science Service for Biodiversity (SSBD) | https://ec.europa.eu/info/funding-tenders/opportunities/portal/screen/opportunities/competitive-calls-cs/11079?isExactMatch=true&status=31094501,31094502&order=DESC&pageNumber=5&pageSize=50&sortBy=startDate | Statut: Open For Submission | 📅 Ouverture: 27 May 2025 → Deadline: 31 August 2025 | Extra: Single-stage\n"
     ]
    },
    {
     "name": "stdout",
     "output_type": "stream",
     "text": [
      "➡️ Passage à la page suivante...\n"
     ]
    },
    {
     "name": "stdout",
     "output_type": "stream",
     "text": [
      "📄 Page 6 : 49 projets trouvés.\n",
      "✔ Call for proposals to promote civil society organisations’ awareness of, capacity building and implementation of the EU Charter of Fundamental Rights | https://ec.europa.eu/info/funding-tenders/opportunities/portal/screen/opportunities/topic-details/CERV-2025-CHAR-LITI?isExactMatch=true&status=31094501,31094502&order=DESC&pageNumber=6&pageSize=50&sortBy=startDate | Statut: Open For Submission | 📅 Ouverture: 27 May 2025 → Deadline: 18 September 2025 | Extra: Single-stage\n",
      "✔ Develop Open Call | https://ec.europa.eu/info/funding-tenders/opportunities/portal/screen/opportunities/competitive-calls-cs/11074?isExactMatch=true&status=31094501,31094502&order=DESC&pageNumber=6&pageSize=50&sortBy=startDate | Statut: Open For Submission | 📅 Ouverture: 26 May 2025 → Deadline: 31 July 2025 | Extra: Single-stage\n",
      "✔ OPEN: Brazil | https://ec.europa.eu/info/funding-tenders/opportunities/portal/screen/opportunities/competitive-calls-cs/11073?isExactMatch=true&status=31094501,31094502&order=DESC&pageNumber=6&pageSize=50&sortBy=startDate | Statut: Open For Submission | 📅 Ouverture: 25 May 2025 → Deadline: 28 July 2025 | Extra: Single-stage\n"
     ]
    },
    {
     "name": "stdout",
     "output_type": "stream",
     "text": [
      "✔ EU-Japan cooperation on the exploitation of Quantum Space Gravimetry data | https://ec.europa.eu/info/funding-tenders/opportunities/portal/screen/opportunities/topic-details/HORIZON-CL4-2025-02-SPACE-81?isExactMatch=true&status=31094501,31094502&order=DESC&pageNumber=6&pageSize=50&sortBy=startDate | Statut: Open For Submission | 📅 Ouverture: 22 May 2025 → Deadline: 25 September 2025 | Extra: Single-stage\n",
      "✔ Advanced manufacturing technologies for leadership of EU manufacturers in products for the net-zero industry (Made in Europe Partnership) (IA) | https://ec.europa.eu/info/funding-tenders/opportunities/portal/screen/opportunities/topic-details/HORIZON-CL4-INDUSTRY-2025-01-TWIN-TRANSITION-05?isExactMatch=true&status=31094501,31094502&order=DESC&pageNumber=6&pageSize=50&sortBy=startDate | Statut: Open For Submission | 📅 Ouverture: 22 May 2025 → Deadline: 23 September 2025 | Extra: Single-stage\n",
      "✔ Technologies for critical raw materials and strategic raw materials from end-of-life products (IA) | https://ec.europa.eu/info/funding-tenders/opportunities/portal/screen/opportunities/topic-details/HORIZON-CL4-INDUSTRY-2025-01-MATERIALS-61?isExactMatch=true&status=31094501,31094502&order=DESC&pageNumber=6&pageSize=50&sortBy=startDate | Statut: Open For Submission | 📅 Ouverture: 22 May 2025 → Deadline: 23 September 2025 | Extra: Single-stage\n",
      "✔ Green and resilient flexible production processes (Processes4Planet partnership) (IA) | https://ec.europa.eu/info/funding-tenders/opportunities/portal/screen/opportunities/topic-details/HORIZON-CL4-INDUSTRY-2025-01-TWIN-TRANSITION-32?isExactMatch=true&status=31094501,31094502&order=DESC&pageNumber=6&pageSize=50&sortBy=startDate | Statut: Open For Submission | 📅 Ouverture: 22 May 2025 → Deadline: 23 September 2025 | Extra: Single-stage\n"
     ]
    },
    {
     "name": "stdout",
     "output_type": "stream",
     "text": [
      "✔ Horizon Standardisation Booster (CSA) | https://ec.europa.eu/info/funding-tenders/opportunities/portal/screen/opportunities/topic-details/HORIZON-CL4-INDUSTRY-2025-01-HUMAN-60?isExactMatch=true&status=31094501,31094502&order=DESC&pageNumber=6&pageSize=50&sortBy=startDate | Statut: Open For Submission | 📅 Ouverture: 22 May 2025 → Deadline: 23 September 2025 | Extra: Single-stage\n",
      "✔ Interregional Innovation Investments Strand 2a | https://ec.europa.eu/info/funding-tenders/opportunities/portal/screen/opportunities/topic-details/I3-2025-INV2a?isExactMatch=true&status=31094501,31094502&order=DESC&pageNumber=6&pageSize=50&sortBy=startDate | Statut: Open For Submission | 📅 Ouverture: 22 May 2025 → Deadline: 13 November 2025 | Extra: Single-stage\n",
      "✔ Standardisation landscape analyses tool (CSA) | https://ec.europa.eu/info/funding-tenders/opportunities/portal/screen/opportunities/topic-details/HORIZON-CL4-INDUSTRY-2025-01-HUMAN-61?isExactMatch=true&status=31094501,31094502&order=DESC&pageNumber=6&pageSize=50&sortBy=startDate | Statut: Open For Submission | 📅 Ouverture: 22 May 2025 → Deadline: 23 September 2025 | Extra: Single-stage\n",
      "✔ Enhanced logistics and operations of construction sites (IA) | https://ec.europa.eu/info/funding-tenders/opportunities/portal/screen/opportunities/topic-details/HORIZON-CL4-2025-05-TWIN-TRANSITION-11-two-stage?isExactMatch=true&status=31094501,31094502&order=DESC&pageNumber=6&pageSize=50&sortBy=startDate | Statut: Open For Submission | 📅 Ouverture: 22 May 2025 → Deadline: 23 September 2025 | Extra: Two-stage\n",
      "✔ Innovative Advanced Materials (IAMs) for product monitoring, smart maintenance and repair strategies in the construction sector (RIA) (Innovative Advanced Materials for Europe partnership) | https://ec.europa.eu/info/funding-tenders/opportunities/portal/screen/opportunities/topic-details/HORIZON-CL4-2025-05-MATERIALS-42-two-stage?isExactMatch=true&status=31094501,31094502&order=DESC&pageNumber=6&pageSize=50&sortBy=startDate | Statut: Open For Submission | 📅 Ouverture: 22 May 2025 → Deadline: 23 September 2025 | Extra: Two-stage\n"
     ]
    },
    {
     "name": "stdout",
     "output_type": "stream",
     "text": [
      "✔ Demonstrators for clusters of social circular enterprises (IA) | https://ec.europa.eu/info/funding-tenders/opportunities/portal/screen/opportunities/topic-details/HORIZON-CL4-2025-05-TWIN-TRANSITION-21-two-stage?isExactMatch=true&status=31094501,31094502&order=DESC&pageNumber=6&pageSize=50&sortBy=startDate | Statut: Open For Submission | 📅 Ouverture: 22 May 2025 → Deadline: 23 September 2025 | Extra: Two-stage\n",
      "✔ Development of safe and sustainable by design alternatives to Perfluoroalkyl and Polyfluoroalkyl Substances (PFAS) (IA) | https://ec.europa.eu/info/funding-tenders/opportunities/portal/screen/opportunities/topic-details/HORIZON-CL4-2025-05-MATERIALS-51-two-stage?isExactMatch=true&status=31094501,31094502&order=DESC&pageNumber=6&pageSize=50&sortBy=startDate | Statut: Open For Submission | 📅 Ouverture: 22 May 2025 → Deadline: 23 September 2025 | Extra: Two-stage\n",
      "✔ Innovative Advanced Materials (IAMs) for robust, fast curing sealants and coatings for manufacturing and final assembly (IA) (Innovative Advanced Materials for Europe partnership) | https://ec.europa.eu/info/funding-tenders/opportunities/portal/screen/opportunities/topic-details/HORIZON-CL4-2025-05-MATERIALS-43-two-stage?isExactMatch=true&status=31094501,31094502&order=DESC&pageNumber=6&pageSize=50&sortBy=startDate | Statut: Open For Submission | 📅 Ouverture: 22 May 2025 → Deadline: 23 September 2025 | Extra: Two-stage\n",
      "✔ Developing and embedding upcycling technologies into viable business (Processes4Planet partnership) (IA) | https://ec.europa.eu/info/funding-tenders/opportunities/portal/screen/opportunities/topic-details/HORIZON-CL4-2025-05-TWIN-TRANSITION-35-two-stage?isExactMatch=true&status=31094501,31094502&order=DESC&pageNumber=6&pageSize=50&sortBy=startDate | Statut: Open For Submission | 📅 Ouverture: 22 May 2025 → Deadline: 23 September 2025 | Extra: Two-stage\n"
     ]
    },
    {
     "name": "stdout",
     "output_type": "stream",
     "text": [
      "✔ Physical and cognitive augmentation in advanced manufacturing (Made in Europe Partnership) (RIA) | https://ec.europa.eu/info/funding-tenders/opportunities/portal/screen/opportunities/topic-details/HORIZON-CL4-INDUSTRY-2025-01-TWIN-TRANSITION-02?isExactMatch=true&status=31094501,31094502&order=DESC&pageNumber=6&pageSize=50&sortBy=startDate | Statut: Open For Submission | 📅 Ouverture: 22 May 2025 → Deadline: 23 September 2025 | Extra: Single-stage\n",
      "✔ ERC ADVANCED GRANTS | https://ec.europa.eu/info/funding-tenders/opportunities/portal/screen/opportunities/topic-details/ERC-2025-ADG?isExactMatch=true&status=31094501,31094502&order=DESC&pageNumber=6&pageSize=50&sortBy=startDate | Statut: Open For Submission | 📅 Ouverture: 22 May 2025 → Deadline: 28 August 2025 | Extra: Single-stage\n",
      "✔ Development of antibodies and antibody-derived proteins for the prevention and treatment of infectious diseases with epidemic potential | https://ec.europa.eu/info/funding-tenders/opportunities/portal/screen/opportunities/topic-details/HORIZON-HLTH-2025-01-DISEASE-03?isExactMatch=true&status=31094501,31094502&order=DESC&pageNumber=6&pageSize=50&sortBy=startDate | Statut: Open For Submission | 📅 Ouverture: 22 May 2025 → Deadline: 16 September 2025 | Extra: Single-stage\n",
      "✔ Boosting the translation of biotech research into innovative health therapies | https://ec.europa.eu/info/funding-tenders/opportunities/portal/screen/opportunities/topic-details/HORIZON-HLTH-2025-01-TOOL-05?isExactMatch=true&status=31094501,31094502&order=DESC&pageNumber=6&pageSize=50&sortBy=startDate | Statut: Open For Submission | 📅 Ouverture: 22 May 2025 → Deadline: 16 September 2025 | Extra: Single-stage\n"
     ]
    },
    {
     "name": "stdout",
     "output_type": "stream",
     "text": [
      "✔ Leveraging multimodal data to advance Generative Artificial Intelligence applicability in biomedical research (GenAI4EU) | https://ec.europa.eu/info/funding-tenders/opportunities/portal/screen/opportunities/topic-details/HORIZON-HLTH-2025-01-TOOL-03?isExactMatch=true&status=31094501,31094502&order=DESC&pageNumber=6&pageSize=50&sortBy=startDate | Statut: Open For Submission | 📅 Ouverture: 22 May 2025 → Deadline: 16 September 2025 | Extra: Single-stage\n",
      "✔ Digitalisation of conformity assessment procedures of medical devices and in vitro diagnostic medical devices | https://ec.europa.eu/info/funding-tenders/opportunities/portal/screen/opportunities/topic-details/HORIZON-HLTH-2025-01-IND-02?isExactMatch=true&status=31094501,31094502&order=DESC&pageNumber=6&pageSize=50&sortBy=startDate | Statut: Open For Submission | 📅 Ouverture: 22 May 2025 → Deadline: 16 September 2025 | Extra: Single-stage\n",
      "✔ Support for the functioning of the Global Research Collaboration for Infectious Disease Preparedness (GloPID-R) | https://ec.europa.eu/info/funding-tenders/opportunities/portal/screen/opportunities/topic-details/HORIZON-HLTH-2025-01-DISEASE-05?isExactMatch=true&status=31094501,31094502&order=DESC&pageNumber=6&pageSize=50&sortBy=startDate | Statut: Open For Submission | 📅 Ouverture: 22 May 2025 → Deadline: 16 September 2025 | Extra: Single-stage\n",
      "✔ Tackling high-burden for patients and under-researched medical conditions | https://ec.europa.eu/info/funding-tenders/opportunities/portal/screen/opportunities/topic-details/HORIZON-HLTH-2025-01-DISEASE-07?isExactMatch=true&status=31094501,31094502&order=DESC&pageNumber=6&pageSize=50&sortBy=startDate | Statut: Open For Submission | 📅 Ouverture: 22 May 2025 → Deadline: 16 September 2025 | Extra: Single-stage\n",
      "✔ Optimising the manufacturing of Advanced Therapy Medicinal Products (ATMPs) | https://ec.europa.eu/info/funding-tenders/opportunities/portal/screen/opportunities/topic-details/HORIZON-HLTH-2025-01-IND-01?isExactMatch=true&status=31094501,31094502&order=DESC&pageNumber=6&pageSize=50&sortBy=startDate | Statut: Open For Submission | 📅 Ouverture: 22 May 2025 → Deadline: 16 September 2025 | Extra: Single-stage\n"
     ]
    },
    {
     "name": "stdout",
     "output_type": "stream",
     "text": [
      "✔ The impact of pollution on the development and progression of brain diseases and disorders | https://ec.europa.eu/info/funding-tenders/opportunities/portal/screen/opportunities/topic-details/HORIZON-HLTH-2025-03-ENVHLTH-01-two-stage?isExactMatch=true&status=31094501,31094502&order=DESC&pageNumber=6&pageSize=50&sortBy=startDate | Statut: Open For Submission | 📅 Ouverture: 22 May 2025 → Deadline: 16 September 2025 | Extra: Two-stage\n",
      "✔ Implementation research addressing strategies to strengthen health systems for equitable high-quality care and health outcomes in the context of non-communicable diseases (GACD) | https://ec.europa.eu/info/funding-tenders/opportunities/portal/screen/opportunities/topic-details/HORIZON-HLTH-2025-01-DISEASE-06?isExactMatch=true&status=31094501,31094502&order=DESC&pageNumber=6&pageSize=50&sortBy=startDate | Statut: Open For Submission | 📅 Ouverture: 22 May 2025 → Deadline: 16 September 2025 | Extra: Single-stage\n",
      "✔ Leveraging artificial intelligence for pandemic preparedness and response | https://ec.europa.eu/info/funding-tenders/opportunities/portal/screen/opportunities/topic-details/HORIZON-HLTH-2025-01-DISEASE-04?isExactMatch=true&status=31094501,31094502&order=DESC&pageNumber=6&pageSize=50&sortBy=startDate | Statut: Open For Submission | 📅 Ouverture: 22 May 2025 → Deadline: 16 September 2025 | Extra: Single-stage\n",
      "✔ Enhancing cell therapies with genomic techniques | https://ec.europa.eu/info/funding-tenders/opportunities/portal/screen/opportunities/topic-details/HORIZON-HLTH-2025-01-TOOL-01?isExactMatch=true&status=31094501,31094502&order=DESC&pageNumber=6&pageSize=50&sortBy=startDate | Statut: Open For Submission | 📅 Ouverture: 22 May 2025 → Deadline: 16 September 2025 | Extra: Single-stage\n"
     ]
    },
    {
     "name": "stdout",
     "output_type": "stream",
     "text": [
      "✔ End user-driven application of Generative Artificial Intelligence models in healthcare (GenAI4EU) | https://ec.europa.eu/info/funding-tenders/opportunities/portal/screen/opportunities/topic-details/HORIZON-HLTH-2025-01-CARE-01?isExactMatch=true&status=31094501,31094502&order=DESC&pageNumber=6&pageSize=50&sortBy=startDate | Statut: Open For Submission | 📅 Ouverture: 22 May 2025 → Deadline: 16 September 2025 | Extra: Single-stage\n",
      "✔ Advancing innovative interventions for mental, behavioural and neurodevelopmental disorders | https://ec.europa.eu/info/funding-tenders/opportunities/portal/screen/opportunities/topic-details/HORIZON-HLTH-2025-03-DISEASE-02-two-stage?isExactMatch=true&status=31094501,31094502&order=DESC&pageNumber=6&pageSize=50&sortBy=startDate | Statut: Open For Submission | 📅 Ouverture: 22 May 2025 → Deadline: 16 September 2025 | Extra: Two-stage\n",
      "✔ Testing safety and efficacy of phage therapy for the treatment of antibiotic-resistant bacterial infections | https://ec.europa.eu/info/funding-tenders/opportunities/portal/screen/opportunities/topic-details/HORIZON-HLTH-2025-01-DISEASE-01?isExactMatch=true&status=31094501,31094502&order=DESC&pageNumber=6&pageSize=50&sortBy=startDate | Statut: Open For Submission | 📅 Ouverture: 22 May 2025 → Deadline: 16 September 2025 | Extra: Single-stage\n",
      "✔ Advancing cell secretome-based therapies | https://ec.europa.eu/info/funding-tenders/opportunities/portal/screen/opportunities/topic-details/HORIZON-HLTH-2025-01-TOOL-02?isExactMatch=true&status=31094501,31094502&order=DESC&pageNumber=6&pageSize=50&sortBy=startDate | Statut: Open For Submission | 📅 Ouverture: 22 May 2025 → Deadline: 16 September 2025 | Extra: Single-stage\n"
     ]
    },
    {
     "name": "stdout",
     "output_type": "stream",
     "text": [
      "✔ Advancing knowledge on the impacts of micro- and nanoplastics on human health | https://ec.europa.eu/info/funding-tenders/opportunities/portal/screen/opportunities/topic-details/HORIZON-HLTH-2025-03-ENVHLTH-02-two-stage?isExactMatch=true&status=31094501,31094502&order=DESC&pageNumber=6&pageSize=50&sortBy=startDate | Statut: Open For Submission | 📅 Ouverture: 22 May 2025 → Deadline: 16 September 2025 | Extra: Two-stage\n",
      "✔ Improving the quality of life of persons with intellectual disabilities and their families | https://ec.europa.eu/info/funding-tenders/opportunities/portal/screen/opportunities/topic-details/HORIZON-HLTH-2025-03-STAYHLTH-01-two-stage?isExactMatch=true&status=31094501,31094502&order=DESC&pageNumber=6&pageSize=50&sortBy=startDate | Statut: Open For Submission | 📅 Ouverture: 22 May 2025 → Deadline: 16 September 2025 | Extra: Two-stage\n",
      "✔ Facilitating the conduct of multinational clinical studies of orphan devices and/or of highly innovative (“breakthrough”) devices | https://ec.europa.eu/info/funding-tenders/opportunities/portal/screen/opportunities/topic-details/HORIZON-HLTH-2025-03-IND-03-two-stage?isExactMatch=true&status=31094501,31094502&order=DESC&pageNumber=6&pageSize=50&sortBy=startDate | Statut: Open For Submission | 📅 Ouverture: 22 May 2025 → Deadline: 16 September 2025 | Extra: Two-stage\n",
      "✔ Smart Security / Security Services | https://ec.europa.eu/info/funding-tenders/opportunities/portal/screen/opportunities/topic-details/HORIZON-JU-SNS-2025-01-STREAM-B-04-01?isExactMatch=true&status=31094501,31094502&order=DESC&pageNumber=6&pageSize=50&sortBy=startDate | Statut: Open For Submission | 📅 Ouverture: 22 May 2025 → Deadline: 18 September 2025 | Extra: Single-stage\n",
      "✔ 6G NTN-TN Unification/Integration | https://ec.europa.eu/info/funding-tenders/opportunities/portal/screen/opportunities/topic-details/HORIZON-JU-SNS-2025-01-STREAM-B-03-01?isExactMatch=true&status=31094501,31094502&order=DESC&pageNumber=6&pageSize=50&sortBy=startDate | Statut: Open For Submission | 📅 Ouverture: 22 May 2025 → Deadline: 18 September 2025 | Extra: Single-stage\n"
     ]
    },
    {
     "name": "stdout",
     "output_type": "stream",
     "text": [
      "✔ Advanced IoT and Device Technologies | https://ec.europa.eu/info/funding-tenders/opportunities/portal/screen/opportunities/topic-details/HORIZON-JU-SNS-2025-01-STREAM-B-01-02?isExactMatch=true&status=31094501,31094502&order=DESC&pageNumber=6&pageSize=50&sortBy=startDate | Statut: Open For Submission | 📅 Ouverture: 22 May 2025 → Deadline: 18 September 2025 | Extra: Single-stage\n",
      "✔ Microelectronic – Front-End Module (FEM) | https://ec.europa.eu/info/funding-tenders/opportunities/portal/screen/opportunities/topic-details/HORIZON-JU-SNS-2025-01-STREAM-B-05?isExactMatch=true&status=31094501,31094502&order=DESC&pageNumber=6&pageSize=50&sortBy=startDate | Statut: Open For Submission | 📅 Ouverture: 22 May 2025 → Deadline: 18 September 2025 | Extra: Single-stage\n",
      "✔ Reliable Services Operation | https://ec.europa.eu/info/funding-tenders/opportunities/portal/screen/opportunities/topic-details/HORIZON-JU-SNS-2025-01-STREAM-B-04-02?isExactMatch=true&status=31094501,31094502&order=DESC&pageNumber=6&pageSize=50&sortBy=startDate | Statut: Open For Submission | 📅 Ouverture: 22 May 2025 → Deadline: 18 September 2025 | Extra: Single-stage\n",
      "✔ Higher Speed Optical Access Networks and future end-to-end Packet Optical Network Architecture in 6G | https://ec.europa.eu/info/funding-tenders/opportunities/portal/screen/opportunities/topic-details/HORIZON-JU-SNS-2025-01-STREAM-B-03-02?isExactMatch=true&status=31094501,31094502&order=DESC&pageNumber=6&pageSize=50&sortBy=startDate | Statut: Open For Submission | 📅 Ouverture: 22 May 2025 → Deadline: 18 September 2025 | Extra: Single-stage\n",
      "✔ Wireless Communication Technologies and Signal Processing – Standardisation and Follow-up/PoCs | https://ec.europa.eu/info/funding-tenders/opportunities/portal/screen/opportunities/topic-details/HORIZON-JU-SNS-2025-01-STREAM-B-02?isExactMatch=true&status=31094501,31094502&order=DESC&pageNumber=6&pageSize=50&sortBy=startDate | Statut: Open For Submission | 📅 Ouverture: 22 May 2025 → Deadline: 18 September 2025 | Extra: Single-stage\n"
     ]
    },
    {
     "name": "stdout",
     "output_type": "stream",
     "text": [
      "✔ 6G Telco Cloud and Service Provision Enablers | https://ec.europa.eu/info/funding-tenders/opportunities/portal/screen/opportunities/topic-details/HORIZON-JU-SNS-2025-01-STREAM-C-01?isExactMatch=true&status=31094501,31094502&order=DESC&pageNumber=6&pageSize=50&sortBy=startDate | Statut: Open For Submission | 📅 Ouverture: 22 May 2025 → Deadline: 18 September 2025 | Extra: Single-stage\n",
      "✔ Advanced Architectures Systems and Technologies | https://ec.europa.eu/info/funding-tenders/opportunities/portal/screen/opportunities/topic-details/HORIZON-JU-SNS-2025-01-STREAM-B-01-01?isExactMatch=true&status=31094501,31094502&order=DESC&pageNumber=6&pageSize=50&sortBy=startDate | Statut: Open For Submission | 📅 Ouverture: 22 May 2025 → Deadline: 18 September 2025 | Extra: Single-stage\n",
      "✔ EU Co-funded Partnership on raw materials for the green and digital transition (Co-funded partnership Raw Materials for the Green and Digital Transition) | https://ec.europa.eu/info/funding-tenders/opportunities/portal/screen/opportunities/topic-details/HORIZON-CL4-INDUSTRY-2025-01-MATERIALS-64?isExactMatch=true&status=31094501,31094502&order=DESC&pageNumber=6&pageSize=50&sortBy=startDate | Statut: Open For Submission | 📅 Ouverture: 22 May 2025 → Deadline: 23 September 2025 | Extra: Single-stage\n",
      "✔ Accelerate the uptake of life-cycle assessment (LCA) for Safe and Sustainable by Design (SSbD) chemicals and materials and resulting products (RIA) | https://ec.europa.eu/info/funding-tenders/opportunities/portal/screen/opportunities/topic-details/HORIZON-CL4-INDUSTRY-2025-01-MATERIALS-52?isExactMatch=true&status=31094501,31094502&order=DESC&pageNumber=6&pageSize=50&sortBy=startDate | Statut: Open For Submission | 📅 Ouverture: 22 May 2025 → Deadline: 23 September 2025 | Extra: Single-stage\n"
     ]
    },
    {
     "name": "stdout",
     "output_type": "stream",
     "text": [
      "✔ Assessment of Technology Infrastructure needs in Ukraine (CSA) | https://ec.europa.eu/info/funding-tenders/opportunities/portal/screen/opportunities/topic-details/HORIZON-CL4-INDUSTRY-2025-01-HUMAN-66?isExactMatch=true&status=31094501,31094502&order=DESC&pageNumber=6&pageSize=50&sortBy=startDate | Statut: Open For Submission | 📅 Ouverture: 22 May 2025 → Deadline: 23 September 2025 | Extra: Single-stage\n",
      "✔ Solving issues in carbon-neutral iron and steel making processes with diverse input materials of varying quality (Clean Steel Partnership) (RIA) | https://ec.europa.eu/info/funding-tenders/opportunities/portal/screen/opportunities/topic-details/HORIZON-CL4-INDUSTRY-2025-01-TWIN-TRANSITION-37?isExactMatch=true&status=31094501,31094502&order=DESC&pageNumber=6&pageSize=50&sortBy=startDate | Statut: Open For Submission | 📅 Ouverture: 22 May 2025 → Deadline: 23 September 2025 | Extra: Single-stage\n"
     ]
    },
    {
     "name": "stdout",
     "output_type": "stream",
     "text": [
      "➡️ Passage à la page suivante...\n"
     ]
    },
    {
     "name": "stdout",
     "output_type": "stream",
     "text": [
      "📄 Page 7 : 49 projets trouvés.\n",
      "✔ System innovation experimentation for Industry 5.0 (IA) | https://ec.europa.eu/info/funding-tenders/opportunities/portal/screen/opportunities/topic-details/HORIZON-CL4-INDUSTRY-2025-01-HUMAN-65?isExactMatch=true&status=31094501,31094502&order=DESC&pageNumber=7&pageSize=50&sortBy=startDate | Statut: Open For Submission | 📅 Ouverture: 22 May 2025 → Deadline: 23 September 2025 | Extra: Single-stage\n",
      "✔ Innovative Advanced Materials Innovation Procurement (CSA) | https://ec.europa.eu/info/funding-tenders/opportunities/portal/screen/opportunities/topic-details/HORIZON-CL4-INDUSTRY-2025-01-MATERIALS-44?isExactMatch=true&status=31094501,31094502&order=DESC&pageNumber=7&pageSize=50&sortBy=startDate | Statut: Open For Submission | 📅 Ouverture: 22 May 2025 → Deadline: 23 September 2025 | Extra: Single-stage\n",
      "✔ Pilot initiatives on Technology Infrastructures (CSA) | https://ec.europa.eu/info/funding-tenders/opportunities/portal/screen/opportunities/topic-details/HORIZON-CL4-INDUSTRY-2025-01-HUMAN-64?isExactMatch=true&status=31094501,31094502&order=DESC&pageNumber=7&pageSize=50&sortBy=startDate | Statut: Open For Submission | 📅 Ouverture: 22 May 2025 → Deadline: 23 September 2025 | Extra: Single-stage\n",
      "✔ Innovative solutions for the sustainable production for Semiconductor raw materials (IA) | https://ec.europa.eu/info/funding-tenders/opportunities/portal/screen/opportunities/topic-details/HORIZON-CL4-INDUSTRY-2025-01-MATERIALS-63?isExactMatch=true&status=31094501,31094502&order=DESC&pageNumber=7&pageSize=50&sortBy=startDate | Statut: Open For Submission | 📅 Ouverture: 22 May 2025 → Deadline: 23 September 2025 | Extra: Single-stage\n"
     ]
    },
    {
     "name": "stdout",
     "output_type": "stream",
     "text": [
      "✔ AI Foundation models in science (GenAI4EU) (RIA) | https://ec.europa.eu/info/funding-tenders/opportunities/portal/screen/opportunities/topic-details/HORIZON-CL4-INDUSTRY-2025-01-DIGITAL-61?isExactMatch=true&status=31094501,31094502&order=DESC&pageNumber=7&pageSize=50&sortBy=startDate | Statut: Open For Submission | 📅 Ouverture: 22 May 2025 → Deadline: 23 September 2025 | Extra: Single-stage\n",
      "✔ Value creation pilots for scaling up innovative solutions (CSA) | https://ec.europa.eu/info/funding-tenders/opportunities/portal/screen/opportunities/topic-details/HORIZON-CL4-INDUSTRY-2025-01-HUMAN-63?isExactMatch=true&status=31094501,31094502&order=DESC&pageNumber=7&pageSize=50&sortBy=startDate | Statut: Open For Submission | 📅 Ouverture: 22 May 2025 → Deadline: 23 September 2025 | Extra: Single-stage\n",
      "✔ Synergies and mutual learning with national and regional initiatives in Europe on Industrial decarbonisation (CSA) | https://ec.europa.eu/info/funding-tenders/opportunities/portal/screen/opportunities/topic-details/HORIZON-CL4-INDUSTRY-2025-01-TWIN-TRANSITION-38?isExactMatch=true&status=31094501,31094502&order=DESC&pageNumber=7&pageSize=50&sortBy=startDate | Statut: Open For Submission | 📅 Ouverture: 22 May 2025 → Deadline: 23 September 2025 | Extra: Single-stage\n",
      "✔ Smart integration of net zero technologies into Energy Intensive industries (Processes4Planet and Made in Europe partnerships) (IA) | https://ec.europa.eu/info/funding-tenders/opportunities/portal/screen/opportunities/topic-details/HORIZON-CL4-INDUSTRY-2025-01-TWIN-TRANSITION-34?isExactMatch=true&status=31094501,31094502&order=DESC&pageNumber=7&pageSize=50&sortBy=startDate | Statut: Open For Submission | 📅 Ouverture: 22 May 2025 → Deadline: 23 September 2025 | Extra: Single-stage\n"
     ]
    },
    {
     "name": "stdout",
     "output_type": "stream",
     "text": [
      "✔ From heat-driven processes to the use of mechanical and electric forces (Processes4Planet partnership) (IA) | https://ec.europa.eu/info/funding-tenders/opportunities/portal/screen/opportunities/topic-details/HORIZON-CL4-INDUSTRY-2025-01-TWIN-TRANSITION-31?isExactMatch=true&status=31094501,31094502&order=DESC&pageNumber=7&pageSize=50&sortBy=startDate | Statut: Open For Submission | 📅 Ouverture: 22 May 2025 → Deadline: 23 September 2025 | Extra: Single-stage\n",
      "✔ Strategic Partnerships for Raw Materials: Innovative Approaches for sustainable production of Critical Raw Materials (IA) | https://ec.europa.eu/info/funding-tenders/opportunities/portal/screen/opportunities/topic-details/HORIZON-CL4-INDUSTRY-2025-01-MATERIALS-62?isExactMatch=true&status=31094501,31094502&order=DESC&pageNumber=7&pageSize=50&sortBy=startDate | Statut: Open For Submission | 📅 Ouverture: 22 May 2025 → Deadline: 23 September 2025 | Extra: Single-stage\n",
      "✔ Integrated approaches for remanufacturing (Made in Europe Partnership) (IA) | https://ec.europa.eu/info/funding-tenders/opportunities/portal/screen/opportunities/topic-details/HORIZON-CL4-INDUSTRY-2025-01-TWIN-TRANSITION-01?isExactMatch=true&status=31094501,31094502&order=DESC&pageNumber=7&pageSize=50&sortBy=startDate | Statut: Open For Submission | 📅 Ouverture: 22 May 2025 → Deadline: 23 September 2025 | Extra: Single-stage\n",
      "✔ Safe and clean processing technologies and products (Processes4Planet partnership) (RIA) | https://ec.europa.eu/info/funding-tenders/opportunities/portal/screen/opportunities/topic-details/HORIZON-CL4-INDUSTRY-2025-01-TWIN-TRANSITION-36?isExactMatch=true&status=31094501,31094502&order=DESC&pageNumber=7&pageSize=50&sortBy=startDate | Statut: Open For Submission | 📅 Ouverture: 22 May 2025 → Deadline: 23 September 2025 | Extra: Single-stage\n",
      "✔ Facilitated cooperation for AI in Science (CSA) | https://ec.europa.eu/info/funding-tenders/opportunities/portal/screen/opportunities/topic-details/HORIZON-CL4-INDUSTRY-2025-01-DIGITAL-62?isExactMatch=true&status=31094501,31094502&order=DESC&pageNumber=7&pageSize=50&sortBy=startDate | Statut: Open For Submission | 📅 Ouverture: 22 May 2025 → Deadline: 23 September 2025 | Extra: Single-stage\n"
     ]
    },
    {
     "name": "stdout",
     "output_type": "stream",
     "text": [
      "✔ Artificial Intelligence for knowledge valorisation (CSA) | https://ec.europa.eu/info/funding-tenders/opportunities/portal/screen/opportunities/topic-details/HORIZON-CL4-INDUSTRY-2025-01-HUMAN-62?isExactMatch=true&status=31094501,31094502&order=DESC&pageNumber=7&pageSize=50&sortBy=startDate | Statut: Open For Submission | 📅 Ouverture: 22 May 2025 → Deadline: 23 September 2025 | Extra: Single-stage\n",
      "✔ Digitally enabled local-for-local textile and apparel production (Textiles for the Future Partnership) (IA) | https://ec.europa.eu/info/funding-tenders/opportunities/portal/screen/opportunities/topic-details/HORIZON-CL4-INDUSTRY-2025-01-MATERIALS-31?isExactMatch=true&status=31094501,31094502&order=DESC&pageNumber=7&pageSize=50&sortBy=startDate | Statut: Open For Submission | 📅 Ouverture: 22 May 2025 → Deadline: 23 September 2025 | Extra: Single-stage\n",
      "✔ Towards human-centric, sustainable and resilient energy-intensive industries (Processes4Planet and Clean Steel partnerships) (CSA) | https://ec.europa.eu/info/funding-tenders/opportunities/portal/screen/opportunities/topic-details/HORIZON-CL4-INDUSTRY-2025-01-TWIN-TRANSITION-39?isExactMatch=true&status=31094501,31094502&order=DESC&pageNumber=7&pageSize=50&sortBy=startDate | Statut: Open For Submission | 📅 Ouverture: 22 May 2025 → Deadline: 23 September 2025 | Extra: Single-stage\n",
      "✔ Materials Commons for Europe (IA) | https://ec.europa.eu/info/funding-tenders/opportunities/portal/screen/opportunities/topic-details/HORIZON-CL4-INDUSTRY-2025-01-MATERIALS-45?isExactMatch=true&status=31094501,31094502&order=DESC&pageNumber=7&pageSize=50&sortBy=startDate | Statut: Open For Submission | 📅 Ouverture: 22 May 2025 → Deadline: 23 September 2025 | Extra: Single-stage\n",
      "✔ Integrated use of renewable energy carriers in industrial sites (Processes4Planet partnership) (RIA) | https://ec.europa.eu/info/funding-tenders/opportunities/portal/screen/opportunities/topic-details/HORIZON-CL4-INDUSTRY-2025-01-TWIN-TRANSITION-33?isExactMatch=true&status=31094501,31094502&order=DESC&pageNumber=7&pageSize=50&sortBy=startDate | Statut: Open For Submission | 📅 Ouverture: 22 May 2025 → Deadline: 23 September 2025 | Extra: Single-stage\n"
     ]
    },
    {
     "name": "stdout",
     "output_type": "stream",
     "text": [
      "✔ Space Critical EEE Components for EU non-dependence – Advanced Packages and Memories | https://ec.europa.eu/info/funding-tenders/opportunities/portal/screen/opportunities/topic-details/HORIZON-CL4-2025-02-SPACE-74?isExactMatch=true&status=31094501,31094502&order=DESC&pageNumber=7&pageSize=50&sortBy=startDate | Statut: Open For Submission | 📅 Ouverture: 22 May 2025 → Deadline: 25 September 2025 | Extra: Single-stage\n",
      "✔ CSA on access to European spaceports | https://ec.europa.eu/info/funding-tenders/opportunities/portal/screen/opportunities/topic-details/HORIZON-CL4-2025-02-SPACE-11?isExactMatch=true&status=31094501,31094502&order=DESC&pageNumber=7&pageSize=50&sortBy=startDate | Statut: Open For Submission | 📅 Ouverture: 22 May 2025 → Deadline: 25 September 2025 | Extra: Single-stage\n",
      "✔ Preparing demonstration missions for collaborative Earth Observation and Satellite telecommunication for Space solutions | https://ec.europa.eu/info/funding-tenders/opportunities/portal/screen/opportunities/topic-details/HORIZON-CL4-2025-02-SPACE-32?isExactMatch=true&status=31094501,31094502&order=DESC&pageNumber=7&pageSize=50&sortBy=startDate | Statut: Open For Submission | 📅 Ouverture: 22 May 2025 → Deadline: 25 September 2025 | Extra: Single-stage\n",
      "✔ ISOS Pilot Mission Detailed Design – HOST component | https://ec.europa.eu/info/funding-tenders/opportunities/portal/screen/opportunities/topic-details/HORIZON-CL4-2025-02-SPACE-22?isExactMatch=true&status=31094501,31094502&order=DESC&pageNumber=7&pageSize=50&sortBy=startDate | Statut: Open For Submission | 📅 Ouverture: 22 May 2025 → Deadline: 25 September 2025 | Extra: Single-stage\n"
     ]
    },
    {
     "name": "stdout",
     "output_type": "stream",
     "text": [
      "✔ Copernicus Atmosphere Monitoring Service (CAMS) evolution: improved soil-vegetation-atmosphere modelling and data assimilation of atmospheric constituents | https://ec.europa.eu/info/funding-tenders/opportunities/portal/screen/opportunities/topic-details/HORIZON-CL4-2025-02-SPACE-42?isExactMatch=true&status=31094501,31094502&order=DESC&pageNumber=7&pageSize=50&sortBy=startDate | Statut: Open For Submission | 📅 Ouverture: 22 May 2025 → Deadline: 25 September 2025 | Extra: Single-stage\n",
      "✔ Space Critical EEE Components for EU non-dependence - Connectors | https://ec.europa.eu/info/funding-tenders/opportunities/portal/screen/opportunities/topic-details/HORIZON-CL4-2025-02-SPACE-73?isExactMatch=true&status=31094501,31094502&order=DESC&pageNumber=7&pageSize=50&sortBy=startDate | Statut: Open For Submission | 📅 Ouverture: 22 May 2025 → Deadline: 25 September 2025 | Extra: Single-stage\n",
      "✔ ISOS Pilot Mission Detailed Design – Logistics component | https://ec.europa.eu/info/funding-tenders/opportunities/portal/screen/opportunities/topic-details/HORIZON-CL4-2025-02-SPACE-23?isExactMatch=true&status=31094501,31094502&order=DESC&pageNumber=7&pageSize=50&sortBy=startDate | Statut: Open For Submission | 📅 Ouverture: 22 May 2025 → Deadline: 25 September 2025 | Extra: Single-stage\n",
      "✔ Space Critical Equipment and Related Technologies for EU non-dependence – Chip Scale Atomic Clocks and Solar Cells | https://ec.europa.eu/info/funding-tenders/opportunities/portal/screen/opportunities/topic-details/HORIZON-CL4-2025-02-SPACE-72?isExactMatch=true&status=31094501,31094502&order=DESC&pageNumber=7&pageSize=50&sortBy=startDate | Statut: Open For Submission | 📅 Ouverture: 22 May 2025 → Deadline: 25 September 2025 | Extra: Single-stage\n",
      "✔ ISOS Pilot Mission Detailed Design – satAPPs component | https://ec.europa.eu/info/funding-tenders/opportunities/portal/screen/opportunities/topic-details/HORIZON-CL4-2025-02-SPACE-24?isExactMatch=true&status=31094501,31094502&order=DESC&pageNumber=7&pageSize=50&sortBy=startDate | Statut: Open For Submission | 📅 Ouverture: 22 May 2025 → Deadline: 25 September 2025 | Extra: Single-stage\n"
     ]
    },
    {
     "name": "stdout",
     "output_type": "stream",
     "text": [
      "✔ Digital enablers and building blocks for Earth Observation and Satellite telecommunication for Space solutions | https://ec.europa.eu/info/funding-tenders/opportunities/portal/screen/opportunities/topic-details/HORIZON-CL4-2025-02-SPACE-31?isExactMatch=true&status=31094501,31094502&order=DESC&pageNumber=7&pageSize=50&sortBy=startDate | Statut: Open For Submission | 📅 Ouverture: 22 May 2025 → Deadline: 25 September 2025 | Extra: Single-stage\n",
      "✔ Copernicus Climate Change Service (C3S) evolution: new and innovative processing and methods for future Sentinels and other satellites for reanalyses | https://ec.europa.eu/info/funding-tenders/opportunities/portal/screen/opportunities/topic-details/HORIZON-CL4-2025-02-SPACE-41?isExactMatch=true&status=31094501,31094502&order=DESC&pageNumber=7&pageSize=50&sortBy=startDate | Statut: Open For Submission | 📅 Ouverture: 22 May 2025 → Deadline: 25 September 2025 | Extra: Single-stage\n",
      "✔ ISOS Pilot Mission Detailed Design – Servicing component | https://ec.europa.eu/info/funding-tenders/opportunities/portal/screen/opportunities/topic-details/HORIZON-CL4-2025-02-SPACE-21?isExactMatch=true&status=31094501,31094502&order=DESC&pageNumber=7&pageSize=50&sortBy=startDate | Statut: Open For Submission | 📅 Ouverture: 22 May 2025 → Deadline: 25 September 2025 | Extra: Single-stage\n",
      "✔ Space Critical EEE Components for EU non-dependence – RISC-V Microprocessor on 7nm | https://ec.europa.eu/info/funding-tenders/opportunities/portal/screen/opportunities/topic-details/HORIZON-CL4-2025-02-SPACE-71?isExactMatch=true&status=31094501,31094502&order=DESC&pageNumber=7&pageSize=50&sortBy=startDate | Statut: Open For Submission | 📅 Ouverture: 22 May 2025 → Deadline: 25 September 2025 | Extra: Single-stage\n",
      "✔ Copernicus Anthropogenic CO₂ Emissions Monitoring & Verification Support (CO2MVS) capacity: new and innovative methods to estimate the impact of fires on vegetation and related carbon fluxes | https://ec.europa.eu/info/funding-tenders/opportunities/portal/screen/opportunities/topic-details/HORIZON-CL4-2025-02-SPACE-43?isExactMatch=true&status=31094501,31094502&order=DESC&pageNumber=7&pageSize=50&sortBy=startDate | Statut: Open For Submission | 📅 Ouverture: 22 May 2025 → Deadline: 25 September 2025 | Extra: Single-stage\n"
     ]
    },
    {
     "name": "stdout",
     "output_type": "stream",
     "text": [
      "✔ Innovative Earth observation services in support of maritime litter detection and ship source pollution policies | https://ec.europa.eu/info/funding-tenders/opportunities/portal/screen/opportunities/topic-details/HORIZON-CL4-2025-02-SPACE-46?isExactMatch=true&status=31094501,31094502&order=DESC&pageNumber=7&pageSize=50&sortBy=startDate | Statut: Open For Submission | 📅 Ouverture: 22 May 2025 → Deadline: 25 September 2025 | Extra: Single-stage\n",
      "✔ Copernicus Marine Environment Monitoring Service (CMEMS) evolution: new and innovative ocean data assimilation techniques | https://ec.europa.eu/info/funding-tenders/opportunities/portal/screen/opportunities/topic-details/HORIZON-CL4-2025-02-SPACE-44?isExactMatch=true&status=31094501,31094502&order=DESC&pageNumber=7&pageSize=50&sortBy=startDate | Statut: Open For Submission | 📅 Ouverture: 22 May 2025 → Deadline: 25 September 2025 | Extra: Single-stage\n",
      "✔ Digital solutions for autonomy for space transportation systems, design and simulation tools – targeting demonstration | https://ec.europa.eu/info/funding-tenders/opportunities/portal/screen/opportunities/topic-details/HORIZON-CL4-2025-02-SPACE-13?isExactMatch=true&status=31094501,31094502&order=DESC&pageNumber=7&pageSize=50&sortBy=startDate | Statut: Open For Submission | 📅 Ouverture: 22 May 2025 → Deadline: 25 September 2025 | Extra: Single-stage\n",
      "✔ Digital solutions for autonomy for space transportation systems, design and simulation tools - Digital enablers and building blocks | https://ec.europa.eu/info/funding-tenders/opportunities/portal/screen/opportunities/topic-details/HORIZON-CL4-2025-02-SPACE-12?isExactMatch=true&status=31094501,31094502&order=DESC&pageNumber=7&pageSize=50&sortBy=startDate | Statut: Open For Submission | 📅 Ouverture: 22 May 2025 → Deadline: 25 September 2025 | Extra: Single-stage\n"
     ]
    },
    {
     "name": "stdout",
     "output_type": "stream",
     "text": [
      "✔ Supporting the AI/ML digital transition of Copernicus Services | https://ec.europa.eu/info/funding-tenders/opportunities/portal/screen/opportunities/topic-details/HORIZON-CL4-2025-02-SPACE-45?isExactMatch=true&status=31094501,31094502&order=DESC&pageNumber=7&pageSize=50&sortBy=startDate | Statut: Open For Submission | 📅 Ouverture: 22 May 2025 → Deadline: 25 September 2025 | Extra: Single-stage\n",
      "✔ AI Factory Antennas | https://ec.europa.eu/info/funding-tenders/opportunities/portal/screen/opportunities/topic-details/HORIZON-JU-EUROHPC-2025-AIFA-01?isExactMatch=true&status=31094501,31094502&order=DESC&pageNumber=7&pageSize=50&sortBy=startDate | Statut: Open For Submission | 📅 Ouverture: 22 May 2025 → Deadline: 30 July 2025 | Extra: Single-stage\n",
      "✔ Experimental protocols for estimation of pest survey parameters | https://ec.europa.eu/info/funding-tenders/opportunities/portal/screen/opportunities/topic-details/EUBA-EFSA-2025-PLANTS-02?isExactMatch=true&status=31094501,31094502&order=DESC&pageNumber=7&pageSize=50&sortBy=startDate | Statut: Open For Submission | 📅 Ouverture: 22 May 2025 → Deadline: 24 September 2025 | Extra: Single-stage\n",
      "✔ Interregional Innovation Investments Strand 1 | https://ec.europa.eu/info/funding-tenders/opportunities/portal/screen/opportunities/topic-details/I3-2025-INV1?isExactMatch=true&status=31094501,31094502&order=DESC&pageNumber=7&pageSize=50&sortBy=startDate | Statut: Open For Submission | 📅 Ouverture: 22 May 2025 → Deadline: 13 November 2025 | Extra: Single-stage\n",
      "✔ BlueLightS - 2nd Call for Blue Challenges in European Schools | https://ec.europa.eu/info/funding-tenders/opportunities/portal/screen/opportunities/competitive-calls-cs/11043?isExactMatch=true&status=31094501,31094502&order=DESC&pageNumber=7&pageSize=50&sortBy=startDate | Statut: Open For Submission | 📅 Ouverture: 21 May 2025 → Deadline: 25 September 2025 | Extra: Single-stage\n"
     ]
    },
    {
     "name": "stdout",
     "output_type": "stream",
     "text": [
      "✔ Networking Support Call (NSC2025) - Translational aspects of Personalised Medicine | https://ec.europa.eu/info/funding-tenders/opportunities/portal/screen/opportunities/competitive-calls-cs/10801?isExactMatch=true&status=31094501,31094502&order=DESC&pageNumber=7&pageSize=50&sortBy=startDate | Statut: Open For Submission | 📅 Ouverture: 15 May 2025 → Deadline: 29 September 2025 | Extra: Single-stage\n",
      "✔ GUARDIANS Co-Creation Open Call | https://ec.europa.eu/info/funding-tenders/opportunities/portal/screen/opportunities/competitive-calls-cs/10982?isExactMatch=true&status=31094501,31094502&order=DESC&pageNumber=7&pageSize=50&sortBy=startDate | Statut: Open For Submission | 📅 Ouverture: 15 May 2025 → Deadline: 15 July 2025 | Extra: Single-stage\n",
      "✔ P2R Second Call for Regions and Communities | https://ec.europa.eu/info/funding-tenders/opportunities/portal/screen/opportunities/competitive-calls-cs/10882?isExactMatch=true&status=31094501,31094502&order=DESC&pageNumber=7&pageSize=50&sortBy=startDate | Statut: Open For Submission | 📅 Ouverture: 15 May 2025 → Deadline: 20 August 2025 | Extra: Single-stage\n",
      "✔ Code Week Appel à Projets 2025 | https://ec.europa.eu/info/funding-tenders/opportunities/portal/screen/opportunities/competitive-calls-cs/10927?isExactMatch=true&status=31094501,31094502&order=DESC&pageNumber=7&pageSize=50&sortBy=startDate | Statut: Open For Submission | 📅 Ouverture: 15 May 2025 → Deadline: 15 July 2025 | Extra: Single-stage\n"
     ]
    },
    {
     "name": "stdout",
     "output_type": "stream",
     "text": [
      "✔ Open strategic autonomy, economic and research security in EU foreign policy | https://ec.europa.eu/info/funding-tenders/opportunities/portal/screen/opportunities/topic-details/HORIZON-CL2-2025-01-DEMOCRACY-04?isExactMatch=true&status=31094501,31094502&order=DESC&pageNumber=7&pageSize=50&sortBy=startDate | Statut: Open For Submission | 📅 Ouverture: 15 May 2025 → Deadline: 16 September 2025 | Extra: Single-stage\n",
      "✔ Tackling gender-based violence in different social and economic spheres | https://ec.europa.eu/info/funding-tenders/opportunities/portal/screen/opportunities/topic-details/HORIZON-CL2-2025-01-TRANSFO-01?isExactMatch=true&status=31094501,31094502&order=DESC&pageNumber=7&pageSize=50&sortBy=startDate | Statut: Open For Submission | 📅 Ouverture: 15 May 2025 → Deadline: 16 September 2025 | Extra: Single-stage\n",
      "✔ Independence of the judiciary as an aspect of rule of law compliance | https://ec.europa.eu/info/funding-tenders/opportunities/portal/screen/opportunities/topic-details/HORIZON-CL2-2025-01-DEMOCRACY-11?isExactMatch=true&status=31094501,31094502&order=DESC&pageNumber=7&pageSize=50&sortBy=startDate | Statut: Open For Submission | 📅 Ouverture: 15 May 2025 → Deadline: 16 September 2025 | Extra: Single-stage\n",
      "✔ Innovative approaches to intangible cultural heritage for societal resilience | https://ec.europa.eu/info/funding-tenders/opportunities/portal/screen/opportunities/topic-details/HORIZON-CL2-2025-02-HERITAGE-02-two-stage?isExactMatch=true&status=31094501,31094502&order=DESC&pageNumber=7&pageSize=50&sortBy=startDate | Statut: Open For Submission | 📅 Ouverture: 15 May 2025 → Deadline: 16 September 2025 | Extra: Two-stage\n"
     ]
    },
    {
     "name": "stdout",
     "output_type": "stream",
     "text": [
      "➡️ Passage à la page suivante...\n"
     ]
    },
    {
     "name": "stdout",
     "output_type": "stream",
     "text": [
      "📄 Page 8 : 49 projets trouvés.\n",
      "✔ Gender differences in career trajectories of parents and their implications for gender equality and family well-being | https://ec.europa.eu/info/funding-tenders/opportunities/portal/screen/opportunities/topic-details/HORIZON-CL2-2025-02-TRANSFO-04-two-stage?isExactMatch=true&status=31094501,31094502&order=DESC&pageNumber=8&pageSize=50&sortBy=startDate | Statut: Open For Submission | 📅 Ouverture: 15 May 2025 → Deadline: 16 September 2025 | Extra: Two-stage\n",
      "✔ Business and consumer surveys - FPA | https://ec.europa.eu/info/funding-tenders/opportunities/portal/screen/opportunities/topic-details/BCS-2025-FPA?isExactMatch=true&status=31094501,31094502&order=DESC&pageNumber=8&pageSize=50&sortBy=startDate | Statut: Open For Submission | 📅 Ouverture: 15 May 2025 → Deadline: 24 September 2025 | Extra: Single-stage\n",
      "✔ Business and consumer surveys - SGA | https://ec.europa.eu/info/funding-tenders/opportunities/portal/screen/opportunities/topic-details/BCS-2025-SGA?isExactMatch=true&status=31094501,31094502&order=DESC&pageNumber=8&pageSize=50&sortBy=startDate | Statut: Open For Submission | 📅 Ouverture: 15 May 2025 → Deadline: 24 September 2025 | Extra: Single-stage\n"
     ]
    },
    {
     "name": "stdout",
     "output_type": "stream",
     "text": [
      "✔ Fostering the consolidation of European science diplomacy | https://ec.europa.eu/info/funding-tenders/opportunities/portal/screen/opportunities/topic-details/HORIZON-CL2-2025-01-DEMOCRACY-02?isExactMatch=true&status=31094501,31094502&order=DESC&pageNumber=8&pageSize=50&sortBy=startDate | Statut: Open For Submission | 📅 Ouverture: 15 May 2025 → Deadline: 16 September 2025 | Extra: Single-stage\n",
      "✔ Evolution of culture in a virtualising world | https://ec.europa.eu/info/funding-tenders/opportunities/portal/screen/opportunities/topic-details/HORIZON-CL2-2025-01-HERITAGE-05?isExactMatch=true&status=31094501,31094502&order=DESC&pageNumber=8&pageSize=50&sortBy=startDate | Statut: Open For Submission | 📅 Ouverture: 15 May 2025 → Deadline: 16 September 2025 | Extra: Single-stage\n",
      "✔ Fighting against disinformation while ensuring the right to freedom of expression | https://ec.europa.eu/info/funding-tenders/opportunities/portal/screen/opportunities/topic-details/HORIZON-CL2-2025-01-DEMOCRACY-09?isExactMatch=true&status=31094501,31094502&order=DESC&pageNumber=8&pageSize=50&sortBy=startDate | Statut: Open For Submission | 📅 Ouverture: 15 May 2025 → Deadline: 16 September 2025 | Extra: Single-stage\n",
      "✔ Intergenerational fairness in the context of demographic change in the EU | https://ec.europa.eu/info/funding-tenders/opportunities/portal/screen/opportunities/topic-details/HORIZON-CL2-2025-01-TRANSFO-10?isExactMatch=true&status=31094501,31094502&order=DESC&pageNumber=8&pageSize=50&sortBy=startDate | Statut: Open For Submission | 📅 Ouverture: 15 May 2025 → Deadline: 16 September 2025 | Extra: Single-stage\n"
     ]
    },
    {
     "name": "stdout",
     "output_type": "stream",
     "text": [
      "✔ Evaluation and use of evidence in education policy and practice | https://ec.europa.eu/info/funding-tenders/opportunities/portal/screen/opportunities/topic-details/HORIZON-CL2-2025-01-TRANSFO-06?isExactMatch=true&status=31094501,31094502&order=DESC&pageNumber=8&pageSize=50&sortBy=startDate | Statut: Open For Submission | 📅 Ouverture: 15 May 2025 → Deadline: 16 September 2025 | Extra: Single-stage\n",
      "✔ Preparing the EU for future enlargement: challenges and opportunities | https://ec.europa.eu/info/funding-tenders/opportunities/portal/screen/opportunities/topic-details/HORIZON-CL2-2025-01-DEMOCRACY-03?isExactMatch=true&status=31094501,31094502&order=DESC&pageNumber=8&pageSize=50&sortBy=startDate | Statut: Open For Submission | 📅 Ouverture: 15 May 2025 → Deadline: 16 September 2025 | Extra: Single-stage\n",
      "✔ A European Collaborative Cloud for Cultural Heritage – Innovative use cases | https://ec.europa.eu/info/funding-tenders/opportunities/portal/screen/opportunities/topic-details/HORIZON-CL2-2025-01-HERITAGE-03?isExactMatch=true&status=31094501,31094502&order=DESC&pageNumber=8&pageSize=50&sortBy=startDate | Statut: Open For Submission | 📅 Ouverture: 15 May 2025 → Deadline: 16 September 2025 | Extra: Single-stage\n",
      "✔ Historical and regional analyses of industrial transitions and their lessons for ensuring a fair green transition | https://ec.europa.eu/info/funding-tenders/opportunities/portal/screen/opportunities/topic-details/HORIZON-CL2-2025-01-TRANSFO-02?isExactMatch=true&status=31094501,31094502&order=DESC&pageNumber=8&pageSize=50&sortBy=startDate | Statut: Open For Submission | 📅 Ouverture: 15 May 2025 → Deadline: 16 September 2025 | Extra: Single-stage\n",
      "✔ Migration and climate change: building resilience and enhancing sustainability | https://ec.europa.eu/info/funding-tenders/opportunities/portal/screen/opportunities/topic-details/HORIZON-CL2-2025-01-TRANSFO-11?isExactMatch=true&status=31094501,31094502&order=DESC&pageNumber=8&pageSize=50&sortBy=startDate | Statut: Open For Submission | 📅 Ouverture: 15 May 2025 → Deadline: 16 September 2025 | Extra: Single-stage\n"
     ]
    },
    {
     "name": "stdout",
     "output_type": "stream",
     "text": [
      "✔ Improving mental health outcomes for people in education, training and work | https://ec.europa.eu/info/funding-tenders/opportunities/portal/screen/opportunities/topic-details/HORIZON-CL2-2025-01-TRANSFO-08?isExactMatch=true&status=31094501,31094502&order=DESC&pageNumber=8&pageSize=50&sortBy=startDate | Statut: Open For Submission | 📅 Ouverture: 15 May 2025 → Deadline: 16 September 2025 | Extra: Single-stage\n",
      "✔ Working time reduction: barriers, challenges, benefits and policy implications | https://ec.europa.eu/info/funding-tenders/opportunities/portal/screen/opportunities/topic-details/HORIZON-CL2-2025-01-TRANSFO-03?isExactMatch=true&status=31094501,31094502&order=DESC&pageNumber=8&pageSize=50&sortBy=startDate | Statut: Open For Submission | 📅 Ouverture: 15 May 2025 → Deadline: 16 September 2025 | Extra: Single-stage\n",
      "✔ Countering and preventing radicalisation, extremism, hate speech and polarisation | https://ec.europa.eu/info/funding-tenders/opportunities/portal/screen/opportunities/topic-details/HORIZON-CL2-2025-01-DEMOCRACY-05?isExactMatch=true&status=31094501,31094502&order=DESC&pageNumber=8&pageSize=50&sortBy=startDate | Statut: Open For Submission | 📅 Ouverture: 15 May 2025 → Deadline: 16 September 2025 | Extra: Single-stage\n",
      "✔ Impact of the learning environment and the use of digital tools in everyday life on key skills and competence development | https://ec.europa.eu/info/funding-tenders/opportunities/portal/screen/opportunities/topic-details/HORIZON-CL2-2025-01-TRANSFO-07?isExactMatch=true&status=31094501,31094502&order=DESC&pageNumber=8&pageSize=50&sortBy=startDate | Statut: Open For Submission | 📅 Ouverture: 15 May 2025 → Deadline: 16 September 2025 | Extra: Single-stage\n",
      "✔ Good practices for increased autonomy of persons with disabilities, including physical, mental, intellectual and sensory disabilities | https://ec.europa.eu/info/funding-tenders/opportunities/portal/screen/opportunities/topic-details/HORIZON-CL2-2025-01-TRANSFO-09?isExactMatch=true&status=31094501,31094502&order=DESC&pageNumber=8&pageSize=50&sortBy=startDate | Statut: Open For Submission | 📅 Ouverture: 15 May 2025 → Deadline: 16 September 2025 | Extra: Single-stage\n"
     ]
    },
    {
     "name": "stdout",
     "output_type": "stream",
     "text": [
      "✔ Bridging historical past and future potential through conservation, preservation, and adaptive use of Europe’s contentious and dissonant heritage | https://ec.europa.eu/info/funding-tenders/opportunities/portal/screen/opportunities/topic-details/HORIZON-CL2-2025-01-HERITAGE-08?isExactMatch=true&status=31094501,31094502&order=DESC&pageNumber=8&pageSize=50&sortBy=startDate | Statut: Open For Submission | 📅 Ouverture: 15 May 2025 → Deadline: 16 September 2025 | Extra: Single-stage\n",
      "✔ The role of civic and citizenship education for strengthening civic and democratic participation and support for common European values | https://ec.europa.eu/info/funding-tenders/opportunities/portal/screen/opportunities/topic-details/HORIZON-CL2-2025-01-DEMOCRACY-10?isExactMatch=true&status=31094501,31094502&order=DESC&pageNumber=8&pageSize=50&sortBy=startDate | Statut: Open For Submission | 📅 Ouverture: 15 May 2025 → Deadline: 16 September 2025 | Extra: Single-stage\n",
      "✔ Economic inequalities and their impact on democracy | https://ec.europa.eu/info/funding-tenders/opportunities/portal/screen/opportunities/topic-details/HORIZON-CL2-2025-01-DEMOCRACY-08?isExactMatch=true&status=31094501,31094502&order=DESC&pageNumber=8&pageSize=50&sortBy=startDate | Statut: Open For Submission | 📅 Ouverture: 15 May 2025 → Deadline: 16 September 2025 | Extra: Single-stage\n",
      "✔ Advisory support and network to counter disinformation and foreign information manipulation and interference (FIMI) | https://ec.europa.eu/info/funding-tenders/opportunities/portal/screen/opportunities/topic-details/HORIZON-CL2-2025-01-DEMOCRACY-01?isExactMatch=true&status=31094501,31094502&order=DESC&pageNumber=8&pageSize=50&sortBy=startDate | Statut: Open For Submission | 📅 Ouverture: 15 May 2025 → Deadline: 16 September 2025 | Extra: Single-stage\n"
     ]
    },
    {
     "name": "stdout",
     "output_type": "stream",
     "text": [
      "✔ Europe as a global powerhouse of design for sustainable competitiveness | https://ec.europa.eu/info/funding-tenders/opportunities/portal/screen/opportunities/topic-details/HORIZON-CL2-2025-01-HERITAGE-06?isExactMatch=true&status=31094501,31094502&order=DESC&pageNumber=8&pageSize=50&sortBy=startDate | Statut: Open For Submission | 📅 Ouverture: 15 May 2025 → Deadline: 16 September 2025 | Extra: Single-stage\n",
      "✔ Leveraging artificial intelligence for creativity-driven innovation | https://ec.europa.eu/info/funding-tenders/opportunities/portal/screen/opportunities/topic-details/HORIZON-CL2-2025-01-HERITAGE-04?isExactMatch=true&status=31094501,31094502&order=DESC&pageNumber=8&pageSize=50&sortBy=startDate | Statut: Open For Submission | 📅 Ouverture: 15 May 2025 → Deadline: 16 September 2025 | Extra: Single-stage\n",
      "✔ Impacts of culture and the arts on health and well-being | https://ec.europa.eu/info/funding-tenders/opportunities/portal/screen/opportunities/topic-details/HORIZON-CL2-2025-01-HERITAGE-09?isExactMatch=true&status=31094501,31094502&order=DESC&pageNumber=8&pageSize=50&sortBy=startDate | Statut: Open For Submission | 📅 Ouverture: 15 May 2025 → Deadline: 16 September 2025 | Extra: Single-stage\n",
      "✔ The autocratic appeal: nature, drivers and strategies | https://ec.europa.eu/info/funding-tenders/opportunities/portal/screen/opportunities/topic-details/HORIZON-CL2-2025-01-DEMOCRACY-07?isExactMatch=true&status=31094501,31094502&order=DESC&pageNumber=8&pageSize=50&sortBy=startDate | Statut: Open For Submission | 📅 Ouverture: 15 May 2025 → Deadline: 16 September 2025 | Extra: Single-stage\n",
      "✔ Community of democracy practitioners and researchers | https://ec.europa.eu/info/funding-tenders/opportunities/portal/screen/opportunities/topic-details/HORIZON-CL2-2025-01-DEMOCRACY-12?isExactMatch=true&status=31094501,31094502&order=DESC&pageNumber=8&pageSize=50&sortBy=startDate | Statut: Open For Submission | 📅 Ouverture: 15 May 2025 → Deadline: 16 September 2025 | Extra: Single-stage\n"
     ]
    },
    {
     "name": "stdout",
     "output_type": "stream",
     "text": [
      "✔ Cultural Strategies for Peace: culture and creativity as catalysts for conflict prevention and post-conflict reconciliation | https://ec.europa.eu/info/funding-tenders/opportunities/portal/screen/opportunities/topic-details/HORIZON-CL2-2025-01-HERITAGE-07?isExactMatch=true&status=31094501,31094502&order=DESC&pageNumber=8&pageSize=50&sortBy=startDate | Statut: Open For Submission | 📅 Ouverture: 15 May 2025 → Deadline: 16 September 2025 | Extra: Single-stage\n",
      "✔ Improving fairness in the economy through a better understanding of undeclared and underdeclared work | https://ec.europa.eu/info/funding-tenders/opportunities/portal/screen/opportunities/topic-details/HORIZON-CL2-2025-01-TRANSFO-05?isExactMatch=true&status=31094501,31094502&order=DESC&pageNumber=8&pageSize=50&sortBy=startDate | Statut: Open For Submission | 📅 Ouverture: 15 May 2025 → Deadline: 16 September 2025 | Extra: Single-stage\n",
      "✔ Towards a European research hub on contemporary antisemitism and Jewish life and culture | https://ec.europa.eu/info/funding-tenders/opportunities/portal/screen/opportunities/topic-details/HORIZON-CL2-2025-01-DEMOCRACY-06?isExactMatch=true&status=31094501,31094502&order=DESC&pageNumber=8&pageSize=50&sortBy=startDate | Statut: Open For Submission | 📅 Ouverture: 15 May 2025 → Deadline: 16 September 2025 | Extra: Single-stage\n",
      "✔ Rolling out the ERA Policy Agenda results | https://ec.europa.eu/info/funding-tenders/opportunities/portal/screen/opportunities/topic-details/HORIZON-WIDERA-2025-06-ERA-01?isExactMatch=true&status=31094501,31094502&order=DESC&pageNumber=8&pageSize=50&sortBy=startDate | Statut: Open For Submission | 📅 Ouverture: 15 May 2025 → Deadline: 18 September 2025 | Extra: Single-stage\n",
      "✔ Research and innovation to provide evidence that support reforms of research assessment | https://ec.europa.eu/info/funding-tenders/opportunities/portal/screen/opportunities/topic-details/HORIZON-WIDERA-2025-06-ERA-03?isExactMatch=true&status=31094501,31094502&order=DESC&pageNumber=8&pageSize=50&sortBy=startDate | Statut: Open For Submission | 📅 Ouverture: 15 May 2025 → Deadline: 18 September 2025 | Extra: Single-stage\n"
     ]
    },
    {
     "name": "stdout",
     "output_type": "stream",
     "text": [
      "✔ Enable sustained coordination and guidance at the European level on institutional non-profit open access publishing | https://ec.europa.eu/info/funding-tenders/opportunities/portal/screen/opportunities/topic-details/HORIZON-WIDERA-2025-06-ERA-02?isExactMatch=true&status=31094501,31094502&order=DESC&pageNumber=8&pageSize=50&sortBy=startDate | Statut: Open For Submission | 📅 Ouverture: 15 May 2025 → Deadline: 18 September 2025 | Extra: Single-stage\n",
      "✔ Strengthening of the European Science for Policy Ecosystem | https://ec.europa.eu/info/funding-tenders/opportunities/portal/screen/opportunities/topic-details/HORIZON-WIDERA-2025-06-ERA-06?isExactMatch=true&status=31094501,31094502&order=DESC&pageNumber=8&pageSize=50&sortBy=startDate | Statut: Open For Submission | 📅 Ouverture: 15 May 2025 → Deadline: 18 September 2025 | Extra: Single-stage\n",
      "✔ Investigating and addressing career barriers faced by underrepresented and marginalised researchers | https://ec.europa.eu/info/funding-tenders/opportunities/portal/screen/opportunities/topic-details/HORIZON-WIDERA-2025-06-ERA-04?isExactMatch=true&status=31094501,31094502&order=DESC&pageNumber=8&pageSize=50&sortBy=startDate | Statut: Open For Submission | 📅 Ouverture: 15 May 2025 → Deadline: 18 September 2025 | Extra: Single-stage\n",
      "✔ Programme-level collaboration | https://ec.europa.eu/info/funding-tenders/opportunities/portal/screen/opportunities/topic-details/HORIZON-WIDERA-2025-06-ERA-05?isExactMatch=true&status=31094501,31094502&order=DESC&pageNumber=8&pageSize=50&sortBy=startDate | Statut: Open For Submission | 📅 Ouverture: 15 May 2025 → Deadline: 18 September 2025 | Extra: Single-stage\n"
     ]
    },
    {
     "name": "stdout",
     "output_type": "stream",
     "text": [
      "✔ Science comes to town 2027 | https://ec.europa.eu/info/funding-tenders/opportunities/portal/screen/opportunities/topic-details/HORIZON-WIDERA-2025-06-ERA-07?isExactMatch=true&status=31094501,31094502&order=DESC&pageNumber=8&pageSize=50&sortBy=startDate | Statut: Open For Submission | 📅 Ouverture: 15 May 2025 → Deadline: 18 September 2025 | Extra: Single-stage\n",
      "✔ Co-funded European partnership for Resilient Cultural Heritage | https://ec.europa.eu/info/funding-tenders/opportunities/portal/screen/opportunities/topic-details/HORIZON-CL2-2025-03-HERITAGE-01?isExactMatch=true&status=31094501,31094502&order=DESC&pageNumber=8&pageSize=50&sortBy=startDate | Statut: Open For Submission | 📅 Ouverture: 15 May 2025 → Deadline: 16 September 2025 | Extra: Single-stage\n",
      "✔ MSCA4Ukraine Fellowships 2025 | https://ec.europa.eu/info/funding-tenders/opportunities/portal/screen/opportunities/topic-details/HORIZON-MSCA-2025-MSCA4UA-01-01?isExactMatch=true&status=31094501,31094502&order=DESC&pageNumber=8&pageSize=50&sortBy=startDate | Statut: Open For Submission | 📅 Ouverture: 15 May 2025 → Deadline: 16 September 2025 | Extra: Single-stage\n",
      "✔ Implementing co-funded action plans for connected regional innovation valleys | https://ec.europa.eu/info/funding-tenders/opportunities/portal/screen/opportunities/topic-details/HORIZON-EIE-2025-02-CONNECT-02?isExactMatch=true&status=31094501,31094502&order=DESC&pageNumber=8&pageSize=50&sortBy=startDate | Statut: Open For Submission | 📅 Ouverture: 14 May 2025 → Deadline: 15 October 2025 | Extra: Single-stage\n",
      "✔ Preparatory action for setting up joint programmes among innovation ecosystems actors | https://ec.europa.eu/info/funding-tenders/opportunities/portal/screen/opportunities/topic-details/HORIZON-EIE-2025-02-CONNECT-01?isExactMatch=true&status=31094501,31094502&order=DESC&pageNumber=8&pageSize=50&sortBy=startDate | Statut: Open For Submission | 📅 Ouverture: 14 May 2025 → Deadline: 15 October 2025 | Extra: Single-stage\n"
     ]
    },
    {
     "name": "stdout",
     "output_type": "stream",
     "text": [
      "✔ Implementing co-funded action plans for connected regional innovation valleys in widening countries | https://ec.europa.eu/info/funding-tenders/opportunities/portal/screen/opportunities/topic-details/HORIZON-WIDERA-2025-05-ACCESS-01?isExactMatch=true&status=31094501,31094502&order=DESC&pageNumber=8&pageSize=50&sortBy=startDate | Statut: Open For Submission | 📅 Ouverture: 14 May 2025 → Deadline: 15 October 2025 | Extra: Single-stage\n",
      "✔ Skills for Tomorrow Training Programmes – Raw & Advanced Materials | https://ec.europa.eu/info/funding-tenders/opportunities/portal/screen/opportunities/competitive-calls-cs/10961?isExactMatch=true&status=31094501,31094502&order=DESC&pageNumber=8&pageSize=50&sortBy=startDate | Statut: Open For Submission | 📅 Ouverture: 13 May 2025 → Deadline: 29 August 2025 | Extra: Multiple Cut-off\n",
      "✔ Game-changing innovations for European launch solutions | https://ec.europa.eu/info/funding-tenders/opportunities/portal/screen/opportunities/topic-details/PPPA-2025-LAUNCHERS-INNOVATIONS?isExactMatch=true&status=31094501,31094502&order=DESC&pageNumber=8&pageSize=50&sortBy=startDate | Statut: Open For Submission | 📅 Ouverture: 13 May 2025 → Deadline: 07 October 2025 | Extra: Single-stage\n",
      "✔ Financial support for start-ups registered in Estonia for developing new cybersecurity tools or services (Cyber Accelerator) | https://ec.europa.eu/info/funding-tenders/opportunities/portal/screen/opportunities/competitive-calls-cs/10941?isExactMatch=true&status=31094501,31094502&order=DESC&pageNumber=8&pageSize=50&sortBy=startDate | Statut: Open For Submission | 📅 Ouverture: 12 May 2025 → Deadline: 02 July 2027 | Extra: Single-stage\n",
      "✔ GRANT COMPETITION: Support for local coding initiatives within the framework of EU Code Week | https://ec.europa.eu/info/funding-tenders/opportunities/portal/screen/opportunities/competitive-calls-cs/10925?isExactMatch=true&status=31094501,31094502&order=DESC&pageNumber=8&pageSize=50&sortBy=startDate | Statut: Open For Submission | 📅 Ouverture: 08 May 2025 → Deadline: 08 July 2025 | Extra: Single-stage\n"
     ]
    },
    {
     "name": "stdout",
     "output_type": "stream",
     "text": [
      "✔ AIRISE Open Call 5 | https://ec.europa.eu/info/funding-tenders/opportunities/portal/screen/opportunities/competitive-calls-cs/10944?isExactMatch=true&status=31094501,31094502&order=DESC&pageNumber=8&pageSize=50&sortBy=startDate | Statut: Open For Submission | 📅 Ouverture: 08 May 2025 → Deadline: 16 July 2025 | Extra: Single-stage\n",
      "✔ Survey preparation in the EU: Pest survey cards for 12 regulated pests | https://ec.europa.eu/info/funding-tenders/opportunities/portal/screen/opportunities/topic-details/EUBA-EFSA-2025-PLANTS-04?isExactMatch=true&status=31094501,31094502&order=DESC&pageNumber=8&pageSize=50&sortBy=startDate | Statut: Open For Submission | 📅 Ouverture: 08 May 2025 → Deadline: 15 July 2025 | Extra: Single-stage\n",
      "✔ European Excellence Initiative (EEI) | https://ec.europa.eu/info/funding-tenders/opportunities/portal/screen/opportunities/topic-details/HORIZON-WIDERA-2025-01-ACCESS-01?isExactMatch=true&status=31094501,31094502&order=DESC&pageNumber=8&pageSize=50&sortBy=startDate | Statut: Open For Submission | 📅 Ouverture: 08 May 2025 → Deadline: 20 November 2025 | Extra: Single-stage\n",
      "✔ Restoring Ocean and Waters in waterfront Cities and their Ports | https://ec.europa.eu/info/funding-tenders/opportunities/portal/screen/opportunities/topic-details/HORIZON-MISS-2025-03-OCEAN-05?isExactMatch=true&status=31094501,31094502&order=DESC&pageNumber=8&pageSize=50&sortBy=startDate | Statut: Open For Submission | 📅 Ouverture: 07 May 2025 → Deadline: 24 September 2025 | Extra: Single-stage\n"
     ]
    },
    {
     "name": "stdout",
     "output_type": "stream",
     "text": [
      "➡️ Passage à la page suivante...\n"
     ]
    }
   ],
   "source": [
    "from selenium import webdriver\n",
    "from selenium.webdriver.chrome.service import Service\n",
    "from selenium.webdriver.chrome.options import Options\n",
    "from selenium.webdriver.common.by import By\n",
    "from selenium.webdriver.support.ui import WebDriverWait\n",
    "from selenium.webdriver.support import expected_conditions as EC\n",
    "import time\n",
    "\n",
    "chrome_options = Options()\n",
    "chrome_options.add_argument(\"--start-maximized\")\n",
    "\n",
    "service = Service(r\"C:\\Users\\HADIL MARAI\\Desktop\\ODF\\chromedriver-win64\\chromedriver-win64\\chromedriver.exe\")\n",
    "driver = webdriver.Chrome(service=service, options=chrome_options)\n",
    "\n",
    "start_url = \"https://ec.europa.eu/info/funding-tenders/opportunities/portal/screen/opportunities/calls-for-proposals?pageNumber=1&pageSize=50&sortBy=startDate&status=31094501,31094502\"\n",
    "driver.get(start_url)\n",
    "\n",
    "with open(\"projets_EU_All.txt\", \"w\", encoding=\"utf-8\") as f:\n",
    "    for page_num in range(1, 9):  # Pages 1 to 50\n",
    "        try:\n",
    "            WebDriverWait(driver, 60).until(\n",
    "                EC.presence_of_element_located((By.CSS_SELECTOR, \"a.cft-call-list-table-title-link, a[href*='topic-details'], a[href*='competitive-calls-cs']\"))\n",
    "            )\n",
    "        except Exception:\n",
    "            print(f\"❌ Aucun projet trouvé sur la page {page_num}.\")\n",
    "            break\n",
    "\n",
    "        time.sleep(2)\n",
    "        \n",
    "        project_links = driver.find_elements(\n",
    "            By.CSS_SELECTOR,\n",
    "            \"a.cft-call-list-table-title-link, a[href*='topic-details'], a[href*='competitive-calls-cs']\"\n",
    "        )\n",
    "\n",
    "        print(f\"📄 Page {page_num} : {len(project_links)} projets trouvés.\")\n",
    "\n",
    "        for link in project_links:\n",
    "            titre = link.text.strip()\n",
    "            href = link.get_attribute(\"href\")\n",
    "\n",
    "            try:\n",
    "                container = link.find_element(By.XPATH, \"./ancestor::eui-card\")\n",
    "            except:\n",
    "                container = None\n",
    "\n",
    "            # --- Main Status ---\n",
    "            try:\n",
    "                status_element = container.find_element(\n",
    "                    By.CSS_SELECTOR, \"span.eui-u-text-nowrap.eui-label\"\n",
    "                )\n",
    "                status = status_element.text.strip()\n",
    "            except:\n",
    "                status = \"Statut inconnu\"\n",
    "\n",
    "            # --- Dates and Additional Status ---\n",
    "            opening_date = \"Non spécifiée\"\n",
    "            next_deadline = \"Non spécifiée\"\n",
    "            additional_status = \"Non spécifié\"\n",
    "\n",
    "            try:\n",
    "                result_card = container.find_element(\n",
    "                    By.CSS_SELECTOR, \"sedia-result-card-type.eui-u-display-block.eui-u-mt-xs.ng-star-inserted\"\n",
    "                )\n",
    "\n",
    "                # Get all <strong> elements with date values\n",
    "                strongs = result_card.find_elements(By.CSS_SELECTOR, \"strong.ng-star-inserted\")\n",
    "                if len(strongs) >= 1:\n",
    "                    opening_date = strongs[0].text.strip()\n",
    "                if len(strongs) >= 2:\n",
    "                    next_deadline = strongs[1].text.strip()\n",
    "\n",
    "                # Get the last <span> that is not a \"|\" separator\n",
    "                spans = result_card.find_elements(By.CSS_SELECTOR, \"span.ng-star-inserted\")\n",
    "                for span in reversed(spans):\n",
    "                    span_text = span.text.strip()\n",
    "                    if span_text and span_text != \"|\":\n",
    "                        additional_status = span_text\n",
    "                        break\n",
    "\n",
    "            except:\n",
    "                pass\n",
    "\n",
    "            # --- Output Results ---\n",
    "            if titre and href and href.startswith(\"http\"):\n",
    "                f.write(\n",
    "                    f\"Titre: {titre}\\n\"\n",
    "                    f\"Lien: {href}\\n\"\n",
    "                    f\"Statut: {status}\\n\"\n",
    "                    f\"Date d'ouverture: {opening_date}\\n\"\n",
    "                    f\"Date limite: {next_deadline}\\n\"\n",
    "                    \n",
    "                )\n",
    "                print(\n",
    "                    f\"✔ {titre} | {href} | Statut: {status} | \"\n",
    "                    f\"📅 Ouverture: {opening_date} → Deadline: {next_deadline} | Extra: {additional_status}\"\n",
    "                )\n",
    "\n",
    "\n",
    "\n",
    "\n",
    "\n",
    "\n",
    "\n",
    "\n",
    "        # Try clicking the next page icon\n",
    "        try:\n",
    "            next_icon = WebDriverWait(driver, 10).until(\n",
    "                EC.presence_of_element_located((By.CSS_SELECTOR, 'eui-icon-svg[aria-label=\"Go to next page\"]'))\n",
    "            )\n",
    "\n",
    "            # Check if it's disabled\n",
    "            is_disabled = next_icon.get_attribute(\"aria-disabled\")\n",
    "            if is_disabled == \"true\":\n",
    "                print(\"✅ Fin de la pagination (bouton désactivé).\")\n",
    "                break\n",
    "\n",
    "            # Scroll into view and click using JavaScript\n",
    "            driver.execute_script(\"arguments[0].scrollIntoView(true);\", next_icon)\n",
    "            time.sleep(1)\n",
    "            driver.execute_script(\"arguments[0].click();\", next_icon)\n",
    "\n",
    "            print(\"➡️ Passage à la page suivante...\")\n",
    "            time.sleep(3)\n",
    "\n",
    "            # Optional cache cleanup\n",
    "            driver.delete_all_cookies()\n",
    "            driver.execute_script(\"window.localStorage.clear();\")\n",
    "            driver.execute_script(\"window.sessionStorage.clear();\")\n",
    "\n",
    "        except Exception as e:\n",
    "            print(f\"⚠️ Erreur lors de la tentative de passage à la page suivante : {e}\")\n",
    "            break\n",
    "\n",
    "driver.quit()\n"
   ]
  },
  {
   "cell_type": "code",
   "execution_count": 2,
   "id": "57725b9e",
   "metadata": {
    "execution": {
     "iopub.execute_input": "2025-07-15T13:37:35.379365Z",
     "iopub.status.busy": "2025-07-15T13:37:35.379365Z",
     "iopub.status.idle": "2025-07-15T13:37:35.822889Z",
     "shell.execute_reply": "2025-07-15T13:37:35.822889Z"
    }
   },
   "outputs": [
    {
     "data": {
      "text/html": [
       "<div>\n",
       "<style scoped>\n",
       "    .dataframe tbody tr th:only-of-type {\n",
       "        vertical-align: middle;\n",
       "    }\n",
       "\n",
       "    .dataframe tbody tr th {\n",
       "        vertical-align: top;\n",
       "    }\n",
       "\n",
       "    .dataframe thead th {\n",
       "        text-align: right;\n",
       "    }\n",
       "</style>\n",
       "<table border=\"1\" class=\"dataframe\">\n",
       "  <thead>\n",
       "    <tr style=\"text-align: right;\">\n",
       "      <th></th>\n",
       "      <th>Title</th>\n",
       "      <th>Link</th>\n",
       "      <th>Status</th>\n",
       "      <th>Start_date</th>\n",
       "      <th>Deadline</th>\n",
       "    </tr>\n",
       "  </thead>\n",
       "  <tbody>\n",
       "    <tr>\n",
       "      <th>0</th>\n",
       "      <td>MSCA Choose Europe for Science 2025</td>\n",
       "      <td>https://ec.europa.eu/info/funding-tenders/oppo...</td>\n",
       "      <td>Forthcoming</td>\n",
       "      <td>01 October 2025</td>\n",
       "      <td>03 December 2025</td>\n",
       "    </tr>\n",
       "    <tr>\n",
       "      <th>1</th>\n",
       "      <td>New CO2 capture technologies</td>\n",
       "      <td>https://ec.europa.eu/info/funding-tenders/oppo...</td>\n",
       "      <td>Forthcoming</td>\n",
       "      <td>16 September 2025</td>\n",
       "      <td>17 February 2026</td>\n",
       "    </tr>\n",
       "    <tr>\n",
       "      <th>2</th>\n",
       "      <td>Innovative pathways for low carbon and climate...</td>\n",
       "      <td>https://ec.europa.eu/info/funding-tenders/oppo...</td>\n",
       "      <td>Forthcoming</td>\n",
       "      <td>16 September 2025</td>\n",
       "      <td>17 February 2026</td>\n",
       "    </tr>\n",
       "    <tr>\n",
       "      <th>3</th>\n",
       "      <td>Optimal combination of low embodied carbon con...</td>\n",
       "      <td>https://ec.europa.eu/info/funding-tenders/oppo...</td>\n",
       "      <td>Forthcoming</td>\n",
       "      <td>16 September 2025</td>\n",
       "      <td>17 February 2026</td>\n",
       "    </tr>\n",
       "    <tr>\n",
       "      <th>4</th>\n",
       "      <td>Understand and minimise the environmental impa...</td>\n",
       "      <td>https://ec.europa.eu/info/funding-tenders/oppo...</td>\n",
       "      <td>Forthcoming</td>\n",
       "      <td>16 September 2025</td>\n",
       "      <td>17 February 2026</td>\n",
       "    </tr>\n",
       "  </tbody>\n",
       "</table>\n",
       "</div>"
      ],
      "text/plain": [
       "                                               Title  \\\n",
       "0                MSCA Choose Europe for Science 2025   \n",
       "1                       New CO2 capture technologies   \n",
       "2  Innovative pathways for low carbon and climate...   \n",
       "3  Optimal combination of low embodied carbon con...   \n",
       "4  Understand and minimise the environmental impa...   \n",
       "\n",
       "                                                Link       Status  \\\n",
       "0  https://ec.europa.eu/info/funding-tenders/oppo...  Forthcoming   \n",
       "1  https://ec.europa.eu/info/funding-tenders/oppo...  Forthcoming   \n",
       "2  https://ec.europa.eu/info/funding-tenders/oppo...  Forthcoming   \n",
       "3  https://ec.europa.eu/info/funding-tenders/oppo...  Forthcoming   \n",
       "4  https://ec.europa.eu/info/funding-tenders/oppo...  Forthcoming   \n",
       "\n",
       "          Start_date          Deadline  \n",
       "0    01 October 2025  03 December 2025  \n",
       "1  16 September 2025  17 February 2026  \n",
       "2  16 September 2025  17 February 2026  \n",
       "3  16 September 2025  17 February 2026  \n",
       "4  16 September 2025  17 February 2026  "
      ]
     },
     "execution_count": 2,
     "metadata": {},
     "output_type": "execute_result"
    }
   ],
   "source": [
    "import pandas as pd\n",
    "\n",
    "def parse_project_file(filepath):\n",
    "    with open(filepath, 'r', encoding='utf-8') as f:\n",
    "        lines = [line.strip() for line in f if line.strip()]\n",
    "\n",
    "    data = []\n",
    "    for i in range(0, len(lines), 5):\n",
    "        data.append({\n",
    "            \"Title\": lines[i].split(\":\", 1)[1].strip(),\n",
    "            \"Link\": lines[i+1].split(\":\", 1)[1].strip(),\n",
    "            \"Status\": lines[i+2].split(\":\", 1)[1].strip(),\n",
    "            \"Start_date\": lines[i+3].split(\":\", 1)[1].strip(),\n",
    "            \"Deadline\": lines[i+4].split(\":\", 1)[1].strip()\n",
    "        })\n",
    "\n",
    "    return pd.DataFrame(data)\n",
    "\n",
    "df = parse_project_file(\"projets_EU_All.txt\")\n",
    "df.head()\n"
   ]
  },
  {
   "cell_type": "code",
   "execution_count": 3,
   "id": "6f68d23a",
   "metadata": {
    "execution": {
     "iopub.execute_input": "2025-07-15T13:37:35.825421Z",
     "iopub.status.busy": "2025-07-15T13:37:35.825421Z",
     "iopub.status.idle": "2025-07-15T13:37:35.828956Z",
     "shell.execute_reply": "2025-07-15T13:37:35.828956Z"
    }
   },
   "outputs": [
    {
     "name": "stdout",
     "output_type": "stream",
     "text": [
      "0        https://ec.europa.eu/info/funding-tenders/opportunities/portal/screen/opportunities/topic-details/HORIZON-MSCA-2025-COFUND-02-01?isExactMatch=true&status=31094501,31094502&order=DESC&pageNumber=1&pageSize=50&sortBy=startDate\n",
      "1             https://ec.europa.eu/info/funding-tenders/opportunities/portal/screen/opportunities/topic-details/HORIZON-CL5-2026-02-D3-24?isExactMatch=true&status=31094501,31094502&order=DESC&pageNumber=1&pageSize=50&sortBy=startDate\n",
      "2             https://ec.europa.eu/info/funding-tenders/opportunities/portal/screen/opportunities/topic-details/HORIZON-CL5-2026-02-D4-03?isExactMatch=true&status=31094501,31094502&order=DESC&pageNumber=1&pageSize=50&sortBy=startDate\n",
      "3             https://ec.europa.eu/info/funding-tenders/opportunities/portal/screen/opportunities/topic-details/HORIZON-CL5-2026-02-D4-05?isExactMatch=true&status=31094501,31094502&order=DESC&pageNumber=1&pageSize=50&sortBy=startDate\n",
      "4             https://ec.europa.eu/info/funding-tenders/opportunities/portal/screen/opportunities/topic-details/HORIZON-CL5-2026-02-D3-08?isExactMatch=true&status=31094501,31094502&order=DESC&pageNumber=1&pageSize=50&sortBy=startDate\n",
      "                                                                                                                      ...                                                                                                                \n",
      "368                        https://ec.europa.eu/info/funding-tenders/opportunities/portal/screen/opportunities/competitive-calls-cs/10925?isExactMatch=true&status=31094501,31094502&order=DESC&pageNumber=8&pageSize=50&sortBy=startDate\n",
      "369                        https://ec.europa.eu/info/funding-tenders/opportunities/portal/screen/opportunities/competitive-calls-cs/10944?isExactMatch=true&status=31094501,31094502&order=DESC&pageNumber=8&pageSize=50&sortBy=startDate\n",
      "370            https://ec.europa.eu/info/funding-tenders/opportunities/portal/screen/opportunities/topic-details/EUBA-EFSA-2025-PLANTS-04?isExactMatch=true&status=31094501,31094502&order=DESC&pageNumber=8&pageSize=50&sortBy=startDate\n",
      "371    https://ec.europa.eu/info/funding-tenders/opportunities/portal/screen/opportunities/topic-details/HORIZON-WIDERA-2025-01-ACCESS-01?isExactMatch=true&status=31094501,31094502&order=DESC&pageNumber=8&pageSize=50&sortBy=startDate\n",
      "372       https://ec.europa.eu/info/funding-tenders/opportunities/portal/screen/opportunities/topic-details/HORIZON-MISS-2025-03-OCEAN-05?isExactMatch=true&status=31094501,31094502&order=DESC&pageNumber=8&pageSize=50&sortBy=startDate\n",
      "Name: Link, Length: 373, dtype: object\n"
     ]
    }
   ],
   "source": [
    "pd.set_option('display.max_colwidth', None)\n",
    "print(df['Link'])"
   ]
  },
  {
   "cell_type": "code",
   "execution_count": 4,
   "id": "2da9efd0",
   "metadata": {
    "execution": {
     "iopub.execute_input": "2025-07-15T13:37:35.829956Z",
     "iopub.status.busy": "2025-07-15T13:37:35.829956Z",
     "iopub.status.idle": "2025-07-15T13:37:35.836348Z",
     "shell.execute_reply": "2025-07-15T13:37:35.836348Z"
    }
   },
   "outputs": [
    {
     "data": {
      "text/html": [
       "<div>\n",
       "<style scoped>\n",
       "    .dataframe tbody tr th:only-of-type {\n",
       "        vertical-align: middle;\n",
       "    }\n",
       "\n",
       "    .dataframe tbody tr th {\n",
       "        vertical-align: top;\n",
       "    }\n",
       "\n",
       "    .dataframe thead th {\n",
       "        text-align: right;\n",
       "    }\n",
       "</style>\n",
       "<table border=\"1\" class=\"dataframe\">\n",
       "  <thead>\n",
       "    <tr style=\"text-align: right;\">\n",
       "      <th></th>\n",
       "      <th>Title</th>\n",
       "      <th>Link</th>\n",
       "      <th>Status</th>\n",
       "      <th>Start_date</th>\n",
       "      <th>Deadline</th>\n",
       "    </tr>\n",
       "  </thead>\n",
       "  <tbody>\n",
       "    <tr>\n",
       "      <th>0</th>\n",
       "      <td>MSCA Choose Europe for Science 2025</td>\n",
       "      <td>https://ec.europa.eu/info/funding-tenders/opportunities/portal/screen/opportunities/topic-details/HORIZON-MSCA-2025-COFUND-02-01?isExactMatch=true&amp;status=31094501,31094502&amp;order=DESC&amp;pageNumber=1&amp;pageSize=50&amp;sortBy=startDate</td>\n",
       "      <td>Forthcoming</td>\n",
       "      <td>01 October 2025</td>\n",
       "      <td>03 December 2025</td>\n",
       "    </tr>\n",
       "    <tr>\n",
       "      <th>1</th>\n",
       "      <td>New CO2 capture technologies</td>\n",
       "      <td>https://ec.europa.eu/info/funding-tenders/opportunities/portal/screen/opportunities/topic-details/HORIZON-CL5-2026-02-D3-24?isExactMatch=true&amp;status=31094501,31094502&amp;order=DESC&amp;pageNumber=1&amp;pageSize=50&amp;sortBy=startDate</td>\n",
       "      <td>Forthcoming</td>\n",
       "      <td>16 September 2025</td>\n",
       "      <td>17 February 2026</td>\n",
       "    </tr>\n",
       "    <tr>\n",
       "      <th>2</th>\n",
       "      <td>Innovative pathways for low carbon and climate resilient building stock and built environment (Built4People Partnership)</td>\n",
       "      <td>https://ec.europa.eu/info/funding-tenders/opportunities/portal/screen/opportunities/topic-details/HORIZON-CL5-2026-02-D4-03?isExactMatch=true&amp;status=31094501,31094502&amp;order=DESC&amp;pageNumber=1&amp;pageSize=50&amp;sortBy=startDate</td>\n",
       "      <td>Forthcoming</td>\n",
       "      <td>16 September 2025</td>\n",
       "      <td>17 February 2026</td>\n",
       "    </tr>\n",
       "    <tr>\n",
       "      <th>3</th>\n",
       "      <td>Optimal combination of low embodied carbon construction products, technical building systems and circularity principles for climate neutral buildings (Built4People Partnership)</td>\n",
       "      <td>https://ec.europa.eu/info/funding-tenders/opportunities/portal/screen/opportunities/topic-details/HORIZON-CL5-2026-02-D4-05?isExactMatch=true&amp;status=31094501,31094502&amp;order=DESC&amp;pageNumber=1&amp;pageSize=50&amp;sortBy=startDate</td>\n",
       "      <td>Forthcoming</td>\n",
       "      <td>16 September 2025</td>\n",
       "      <td>17 February 2026</td>\n",
       "    </tr>\n",
       "    <tr>\n",
       "      <th>4</th>\n",
       "      <td>Understand and minimise the environmental impacts of offshore wind energy</td>\n",
       "      <td>https://ec.europa.eu/info/funding-tenders/opportunities/portal/screen/opportunities/topic-details/HORIZON-CL5-2026-02-D3-08?isExactMatch=true&amp;status=31094501,31094502&amp;order=DESC&amp;pageNumber=1&amp;pageSize=50&amp;sortBy=startDate</td>\n",
       "      <td>Forthcoming</td>\n",
       "      <td>16 September 2025</td>\n",
       "      <td>17 February 2026</td>\n",
       "    </tr>\n",
       "    <tr>\n",
       "      <th>5</th>\n",
       "      <td>Smarter buildings as part of the energy system for increased efficiency and flexibility – Societal Readiness Pilot</td>\n",
       "      <td>https://ec.europa.eu/info/funding-tenders/opportunities/portal/screen/opportunities/topic-details/HORIZON-CL5-2026-02-D4-02?isExactMatch=true&amp;status=31094501,31094502&amp;order=DESC&amp;pageNumber=1&amp;pageSize=50&amp;sortBy=startDate</td>\n",
       "      <td>Forthcoming</td>\n",
       "      <td>16 September 2025</td>\n",
       "      <td>17 February 2026</td>\n",
       "    </tr>\n",
       "    <tr>\n",
       "      <th>6</th>\n",
       "      <td>Competitiveness, energy security and integration aspects of advanced biofuels and renewable fuels of non-biological origin value chains</td>\n",
       "      <td>https://ec.europa.eu/info/funding-tenders/opportunities/portal/screen/opportunities/topic-details/HORIZON-CL5-2026-02-D3-02?isExactMatch=true&amp;status=31094501,31094502&amp;order=DESC&amp;pageNumber=1&amp;pageSize=50&amp;sortBy=startDate</td>\n",
       "      <td>Forthcoming</td>\n",
       "      <td>16 September 2025</td>\n",
       "      <td>17 February 2026</td>\n",
       "    </tr>\n",
       "    <tr>\n",
       "      <th>7</th>\n",
       "      <td>Innovative solutions for a generative AI-powered digital spine of the EU energy system</td>\n",
       "      <td>https://ec.europa.eu/info/funding-tenders/opportunities/portal/screen/opportunities/topic-details/HORIZON-CL5-2026-02-D3-19?isExactMatch=true&amp;status=31094501,31094502&amp;order=DESC&amp;pageNumber=1&amp;pageSize=50&amp;sortBy=startDate</td>\n",
       "      <td>Forthcoming</td>\n",
       "      <td>16 September 2025</td>\n",
       "      <td>17 February 2026</td>\n",
       "    </tr>\n",
       "    <tr>\n",
       "      <th>8</th>\n",
       "      <td>Innovative tools and services to manage and empower energy communities</td>\n",
       "      <td>https://ec.europa.eu/info/funding-tenders/opportunities/portal/screen/opportunities/topic-details/HORIZON-CL5-2026-02-D3-20?isExactMatch=true&amp;status=31094501,31094502&amp;order=DESC&amp;pageNumber=1&amp;pageSize=50&amp;sortBy=startDate</td>\n",
       "      <td>Forthcoming</td>\n",
       "      <td>16 September 2025</td>\n",
       "      <td>17 February 2026</td>\n",
       "    </tr>\n",
       "    <tr>\n",
       "      <th>9</th>\n",
       "      <td>Phase out fossil fuel in energy intensive industries through the efficient integration of renewable energy sources</td>\n",
       "      <td>https://ec.europa.eu/info/funding-tenders/opportunities/portal/screen/opportunities/topic-details/HORIZON-CL5-2026-02-D4-06?isExactMatch=true&amp;status=31094501,31094502&amp;order=DESC&amp;pageNumber=1&amp;pageSize=50&amp;sortBy=startDate</td>\n",
       "      <td>Forthcoming</td>\n",
       "      <td>16 September 2025</td>\n",
       "      <td>17 February 2026</td>\n",
       "    </tr>\n",
       "    <tr>\n",
       "      <th>10</th>\n",
       "      <td>De-risking wave energy technology development through transnational pre-commercial procurement of wave energy research and development</td>\n",
       "      <td>https://ec.europa.eu/info/funding-tenders/opportunities/portal/screen/opportunities/topic-details/HORIZON-CL5-2026-02-D3-13?isExactMatch=true&amp;status=31094501,31094502&amp;order=DESC&amp;pageNumber=1&amp;pageSize=50&amp;sortBy=startDate</td>\n",
       "      <td>Forthcoming</td>\n",
       "      <td>16 September 2025</td>\n",
       "      <td>17 February 2026</td>\n",
       "    </tr>\n",
       "    <tr>\n",
       "      <th>11</th>\n",
       "      <td>On-site innovative robotic and automated solutions and techniques for more sustainable and less disruptive building renovation and construction</td>\n",
       "      <td>https://ec.europa.eu/info/funding-tenders/opportunities/portal/screen/opportunities/topic-details/HORIZON-CL5-2026-02-D4-01?isExactMatch=true&amp;status=31094501,31094502&amp;order=DESC&amp;pageNumber=1&amp;pageSize=50&amp;sortBy=startDate</td>\n",
       "      <td>Forthcoming</td>\n",
       "      <td>16 September 2025</td>\n",
       "      <td>17 February 2026</td>\n",
       "    </tr>\n",
       "    <tr>\n",
       "      <th>12</th>\n",
       "      <td>Extending the lifetime of crystalline silicon PV modules (EUPI-PV Partnership)</td>\n",
       "      <td>https://ec.europa.eu/info/funding-tenders/opportunities/portal/screen/opportunities/topic-details/HORIZON-CL5-2026-02-D3-12?isExactMatch=true&amp;status=31094501,31094502&amp;order=DESC&amp;pageNumber=1&amp;pageSize=50&amp;sortBy=startDate</td>\n",
       "      <td>Forthcoming</td>\n",
       "      <td>16 September 2025</td>\n",
       "      <td>17 February 2026</td>\n",
       "    </tr>\n",
       "    <tr>\n",
       "      <th>13</th>\n",
       "      <td>Innovative approaches for the deployment of Positive Energy Districts</td>\n",
       "      <td>https://ec.europa.eu/info/funding-tenders/opportunities/portal/screen/opportunities/topic-details/HORIZON-CL5-2026-02-D4-04?isExactMatch=true&amp;status=31094501,31094502&amp;order=DESC&amp;pageNumber=1&amp;pageSize=50&amp;sortBy=startDate</td>\n",
       "      <td>Forthcoming</td>\n",
       "      <td>16 September 2025</td>\n",
       "      <td>17 February 2026</td>\n",
       "    </tr>\n",
       "    <tr>\n",
       "      <th>14</th>\n",
       "      <td>Towards commercialisation of Perovskite PV and development of dedicated manufacturing equipment (EUPI-PV Partnership)</td>\n",
       "      <td>https://ec.europa.eu/info/funding-tenders/opportunities/portal/screen/opportunities/topic-details/HORIZON-CL5-2026-02-D3-10?isExactMatch=true&amp;status=31094501,31094502&amp;order=DESC&amp;pageNumber=1&amp;pageSize=50&amp;sortBy=startDate</td>\n",
       "      <td>Forthcoming</td>\n",
       "      <td>16 September 2025</td>\n",
       "      <td>17 February 2026</td>\n",
       "    </tr>\n",
       "  </tbody>\n",
       "</table>\n",
       "</div>"
      ],
      "text/plain": [
       "                                                                                                                                                                               Title  \\\n",
       "0                                                                                                                                                MSCA Choose Europe for Science 2025   \n",
       "1                                                                                                                                                       New CO2 capture technologies   \n",
       "2                                                           Innovative pathways for low carbon and climate resilient building stock and built environment (Built4People Partnership)   \n",
       "3   Optimal combination of low embodied carbon construction products, technical building systems and circularity principles for climate neutral buildings (Built4People Partnership)   \n",
       "4                                                                                                          Understand and minimise the environmental impacts of offshore wind energy   \n",
       "5                                                                 Smarter buildings as part of the energy system for increased efficiency and flexibility – Societal Readiness Pilot   \n",
       "6                                            Competitiveness, energy security and integration aspects of advanced biofuels and renewable fuels of non-biological origin value chains   \n",
       "7                                                                                             Innovative solutions for a generative AI-powered digital spine of the EU energy system   \n",
       "8                                                                                                             Innovative tools and services to manage and empower energy communities   \n",
       "9                                                                 Phase out fossil fuel in energy intensive industries through the efficient integration of renewable energy sources   \n",
       "10                                            De-risking wave energy technology development through transnational pre-commercial procurement of wave energy research and development   \n",
       "11                                   On-site innovative robotic and automated solutions and techniques for more sustainable and less disruptive building renovation and construction   \n",
       "12                                                                                                    Extending the lifetime of crystalline silicon PV modules (EUPI-PV Partnership)   \n",
       "13                                                                                                             Innovative approaches for the deployment of Positive Energy Districts   \n",
       "14                                                             Towards commercialisation of Perovskite PV and development of dedicated manufacturing equipment (EUPI-PV Partnership)   \n",
       "\n",
       "                                                                                                                                                                                                                                Link  \\\n",
       "0   https://ec.europa.eu/info/funding-tenders/opportunities/portal/screen/opportunities/topic-details/HORIZON-MSCA-2025-COFUND-02-01?isExactMatch=true&status=31094501,31094502&order=DESC&pageNumber=1&pageSize=50&sortBy=startDate   \n",
       "1        https://ec.europa.eu/info/funding-tenders/opportunities/portal/screen/opportunities/topic-details/HORIZON-CL5-2026-02-D3-24?isExactMatch=true&status=31094501,31094502&order=DESC&pageNumber=1&pageSize=50&sortBy=startDate   \n",
       "2        https://ec.europa.eu/info/funding-tenders/opportunities/portal/screen/opportunities/topic-details/HORIZON-CL5-2026-02-D4-03?isExactMatch=true&status=31094501,31094502&order=DESC&pageNumber=1&pageSize=50&sortBy=startDate   \n",
       "3        https://ec.europa.eu/info/funding-tenders/opportunities/portal/screen/opportunities/topic-details/HORIZON-CL5-2026-02-D4-05?isExactMatch=true&status=31094501,31094502&order=DESC&pageNumber=1&pageSize=50&sortBy=startDate   \n",
       "4        https://ec.europa.eu/info/funding-tenders/opportunities/portal/screen/opportunities/topic-details/HORIZON-CL5-2026-02-D3-08?isExactMatch=true&status=31094501,31094502&order=DESC&pageNumber=1&pageSize=50&sortBy=startDate   \n",
       "5        https://ec.europa.eu/info/funding-tenders/opportunities/portal/screen/opportunities/topic-details/HORIZON-CL5-2026-02-D4-02?isExactMatch=true&status=31094501,31094502&order=DESC&pageNumber=1&pageSize=50&sortBy=startDate   \n",
       "6        https://ec.europa.eu/info/funding-tenders/opportunities/portal/screen/opportunities/topic-details/HORIZON-CL5-2026-02-D3-02?isExactMatch=true&status=31094501,31094502&order=DESC&pageNumber=1&pageSize=50&sortBy=startDate   \n",
       "7        https://ec.europa.eu/info/funding-tenders/opportunities/portal/screen/opportunities/topic-details/HORIZON-CL5-2026-02-D3-19?isExactMatch=true&status=31094501,31094502&order=DESC&pageNumber=1&pageSize=50&sortBy=startDate   \n",
       "8        https://ec.europa.eu/info/funding-tenders/opportunities/portal/screen/opportunities/topic-details/HORIZON-CL5-2026-02-D3-20?isExactMatch=true&status=31094501,31094502&order=DESC&pageNumber=1&pageSize=50&sortBy=startDate   \n",
       "9        https://ec.europa.eu/info/funding-tenders/opportunities/portal/screen/opportunities/topic-details/HORIZON-CL5-2026-02-D4-06?isExactMatch=true&status=31094501,31094502&order=DESC&pageNumber=1&pageSize=50&sortBy=startDate   \n",
       "10       https://ec.europa.eu/info/funding-tenders/opportunities/portal/screen/opportunities/topic-details/HORIZON-CL5-2026-02-D3-13?isExactMatch=true&status=31094501,31094502&order=DESC&pageNumber=1&pageSize=50&sortBy=startDate   \n",
       "11       https://ec.europa.eu/info/funding-tenders/opportunities/portal/screen/opportunities/topic-details/HORIZON-CL5-2026-02-D4-01?isExactMatch=true&status=31094501,31094502&order=DESC&pageNumber=1&pageSize=50&sortBy=startDate   \n",
       "12       https://ec.europa.eu/info/funding-tenders/opportunities/portal/screen/opportunities/topic-details/HORIZON-CL5-2026-02-D3-12?isExactMatch=true&status=31094501,31094502&order=DESC&pageNumber=1&pageSize=50&sortBy=startDate   \n",
       "13       https://ec.europa.eu/info/funding-tenders/opportunities/portal/screen/opportunities/topic-details/HORIZON-CL5-2026-02-D4-04?isExactMatch=true&status=31094501,31094502&order=DESC&pageNumber=1&pageSize=50&sortBy=startDate   \n",
       "14       https://ec.europa.eu/info/funding-tenders/opportunities/portal/screen/opportunities/topic-details/HORIZON-CL5-2026-02-D3-10?isExactMatch=true&status=31094501,31094502&order=DESC&pageNumber=1&pageSize=50&sortBy=startDate   \n",
       "\n",
       "         Status         Start_date          Deadline  \n",
       "0   Forthcoming    01 October 2025  03 December 2025  \n",
       "1   Forthcoming  16 September 2025  17 February 2026  \n",
       "2   Forthcoming  16 September 2025  17 February 2026  \n",
       "3   Forthcoming  16 September 2025  17 February 2026  \n",
       "4   Forthcoming  16 September 2025  17 February 2026  \n",
       "5   Forthcoming  16 September 2025  17 February 2026  \n",
       "6   Forthcoming  16 September 2025  17 February 2026  \n",
       "7   Forthcoming  16 September 2025  17 February 2026  \n",
       "8   Forthcoming  16 September 2025  17 February 2026  \n",
       "9   Forthcoming  16 September 2025  17 February 2026  \n",
       "10  Forthcoming  16 September 2025  17 February 2026  \n",
       "11  Forthcoming  16 September 2025  17 February 2026  \n",
       "12  Forthcoming  16 September 2025  17 February 2026  \n",
       "13  Forthcoming  16 September 2025  17 February 2026  \n",
       "14  Forthcoming  16 September 2025  17 February 2026  "
      ]
     },
     "execution_count": 4,
     "metadata": {},
     "output_type": "execute_result"
    }
   ],
   "source": [
    "df.head(15)"
   ]
  },
  {
   "cell_type": "code",
   "execution_count": 5,
   "id": "bf780b41",
   "metadata": {
    "execution": {
     "iopub.execute_input": "2025-07-15T13:37:35.838343Z",
     "iopub.status.busy": "2025-07-15T13:37:35.837347Z",
     "iopub.status.idle": "2025-07-15T13:37:35.842986Z",
     "shell.execute_reply": "2025-07-15T13:37:35.842986Z"
    }
   },
   "outputs": [
    {
     "name": "stdout",
     "output_type": "stream",
     "text": [
      "<class 'pandas.core.frame.DataFrame'>\n",
      "RangeIndex: 373 entries, 0 to 372\n",
      "Data columns (total 5 columns):\n",
      " #   Column      Non-Null Count  Dtype \n",
      "---  ------      --------------  ----- \n",
      " 0   Title       373 non-null    object\n",
      " 1   Link        373 non-null    object\n",
      " 2   Status      373 non-null    object\n",
      " 3   Start_date  373 non-null    object\n",
      " 4   Deadline    373 non-null    object\n",
      "dtypes: object(5)\n",
      "memory usage: 14.7+ KB\n"
     ]
    }
   ],
   "source": [
    "df.info()"
   ]
  },
  {
   "cell_type": "code",
   "execution_count": 6,
   "id": "f1fec9c9",
   "metadata": {
    "execution": {
     "iopub.execute_input": "2025-07-15T13:37:35.843985Z",
     "iopub.status.busy": "2025-07-15T13:37:35.843985Z",
     "iopub.status.idle": "2025-07-15T13:37:35.847327Z",
     "shell.execute_reply": "2025-07-15T13:37:35.847327Z"
    }
   },
   "outputs": [
    {
     "data": {
      "text/plain": [
       "(373, 5)"
      ]
     },
     "execution_count": 6,
     "metadata": {},
     "output_type": "execute_result"
    }
   ],
   "source": [
    "df.shape"
   ]
  },
  {
   "cell_type": "markdown",
   "id": "835cf8d6",
   "metadata": {},
   "source": [
    "### ODF DATASET "
   ]
  },
  {
   "cell_type": "code",
   "execution_count": 7,
   "id": "5add94e4",
   "metadata": {
    "execution": {
     "iopub.execute_input": "2025-07-15T13:37:35.848325Z",
     "iopub.status.busy": "2025-07-15T13:37:35.848325Z",
     "iopub.status.idle": "2025-07-15T13:37:35.856665Z",
     "shell.execute_reply": "2025-07-15T13:37:35.856665Z"
    }
   },
   "outputs": [],
   "source": [
    "import pandas as pd\n",
    "\n",
    "# Données extraites\n",
    "data = [\n",
    "    {\n",
    "        \"Project Name\": \"FACTORIAT\",\n",
    "        \"Description\": \"Support Deeptech & Hardware startups in prototyping and tech maturation with technical and financial help.\",\n",
    "        \"Period\": \"2022–2023\",\n",
    "        \"Axes / Thematic Areas\": \"Deeptech, Hardware, Incubation, Prototyping, Acceleration\",\n",
    "        \"Region\": \"Tunisia\",\n",
    "        \"Partners / Funders\": \"Industrial partners, ODF network\",\n",
    "        \"Key Figures / Impact\": \"7 prototypes, 4 pre-industrial units\"\n",
    "    },\n",
    "    {\n",
    "        \"Project Name\": \"National Entrepreneurship Program\",\n",
    "        \"Description\": \"Design and implementation of Lesotho's national entrepreneurship ecosystem.\",\n",
    "        \"Period\": \"2022–2025\",\n",
    "        \"Axes / Thematic Areas\": \"Capacity building, Strategy, Startup Ecosystem\",\n",
    "        \"Region\": \"Lesotho\",\n",
    "        \"Partners / Funders\": \"Local government, ODF\",\n",
    "        \"Key Figures / Impact\": \"500 entrepreneurs, 15 ESOs supported\"\n",
    "    },\n",
    "    {\n",
    "        \"Project Name\": \"Arab Bank Strategy\",\n",
    "        \"Description\": \"Develop funding & partnership strategy for African digital economy projects.\",\n",
    "        \"Period\": \"N/A\",\n",
    "        \"Axes / Thematic Areas\": \"Digital Economy, Strategic Development, Financing\",\n",
    "        \"Region\": \"Sub-Saharan Africa\",\n",
    "        \"Partners / Funders\": \"Arab Bank for Economic Development in Africa\",\n",
    "        \"Key Figures / Impact\": \"Strategy developed\"\n",
    "    },\n",
    "    {\n",
    "        \"Project Name\": \"World Bank Collaboration\",\n",
    "        \"Description\": \"Develop startup ecosystem in 5 Southern African countries including Lesotho.\",\n",
    "        \"Period\": \"2020–2022\",\n",
    "        \"Axes / Thematic Areas\": \"Startup Ecosystem, Digital Economy, Entrepreneurship\",\n",
    "        \"Region\": \"Southern Africa\",\n",
    "        \"Partners / Funders\": \"World Bank\",\n",
    "        \"Key Figures / Impact\": \"SA, Lesotho, Namibia, Botswana, Eswatini\"\n",
    "    },\n",
    "    {\n",
    "        \"Project Name\": \"MDBAN – Business Angels Network\",\n",
    "        \"Description\": \"Support early-stage Maghreb startups via diaspora angel investment.\",\n",
    "        \"Period\": \"2021–Present\",\n",
    "        \"Axes / Thematic Areas\": \"Startup Support, Investment, Diaspora Engagement\",\n",
    "        \"Region\": \"MENA, Diaspora\",\n",
    "        \"Partners / Funders\": \"MDBAN, ODF\",\n",
    "        \"Key Figures / Impact\": \"56 startups financed, 33 angels\"\n",
    "    },\n",
    "    {\n",
    "        \"Project Name\": \"BIATLABS\",\n",
    "        \"Description\": \"Incubation program by BIAT Bank, run by ODF.\",\n",
    "        \"Period\": \"2016–2018\",\n",
    "        \"Axes / Thematic Areas\": \"Startup Incubation, Early-Stage Innovation\",\n",
    "        \"Region\": \"Tunisia\",\n",
    "        \"Partners / Funders\": \"BIAT (Private Bank)\",\n",
    "        \"Key Figures / Impact\": \"4 cohorts, 45 startups, 15 labeled, 6 funded\"\n",
    "    },\n",
    "    {\n",
    "        \"Project Name\": \"TECHNORIAT PPP Program\",\n",
    "        \"Description\": \"Bridge research & entrepreneurship via incubation/acceleration of researchers.\",\n",
    "        \"Period\": \"2021–2023\",\n",
    "        \"Axes / Thematic Areas\": \"Scientific Research, Deeptech, Acceleration, Entrepreneurship\",\n",
    "        \"Region\": \"Tunisia\",\n",
    "        \"Partners / Funders\": \"TECHNORIAT, PPP\",\n",
    "        \"Key Figures / Impact\": \"800 sensitized, 136 preselected, 13 incubated, 8 accelerated\"\n",
    "    },\n",
    "    {\n",
    "        \"Project Name\": \"ABI – Applied Biotech & Innovation\",\n",
    "        \"Description\": \"Turn biotech discoveries into marketable solutions with IP licensing model.\",\n",
    "        \"Period\": \"N/A\",\n",
    "        \"Axes / Thematic Areas\": \"Biotech, One Health, IP Licensing, Innovation\",\n",
    "        \"Region\": \"N/A\",\n",
    "        \"Partners / Funders\": \"ODF internal program\",\n",
    "        \"Key Figures / Impact\": \"IP Model: License IN → Maturation → License OUT\"\n",
    "    }\n",
    "]\n",
    "\n",
    "# Création du DataFrame\n",
    "odf_df = pd.DataFrame(data)\n",
    "# Export en CSV\n",
    "odf_df.to_csv(\"ODF_project_dataset.csv\", index=False)\n"
   ]
  },
  {
   "cell_type": "code",
   "execution_count": 8,
   "id": "1858b498",
   "metadata": {
    "execution": {
     "iopub.execute_input": "2025-07-15T13:37:35.858660Z",
     "iopub.status.busy": "2025-07-15T13:37:35.858660Z",
     "iopub.status.idle": "2025-07-15T13:37:35.865304Z",
     "shell.execute_reply": "2025-07-15T13:37:35.865304Z"
    }
   },
   "outputs": [],
   "source": [
    "# Dictionnaire de correspondance EN => FR\n",
    "all_keywords_text = {\n",
    "    \"strategic consulting\": \"conseil stratégique\",\n",
    "    \"technical assistance\": \"assistance technique\",\n",
    "    \"institutional support\": \"appui institutionnel\",\n",
    "    \"tailored support\": \"accompagnement personnalisé\",\n",
    "    \"innovation support\": \"accompagnement à l’innovation\",\n",
    "    \"fundraising support\": \"accompagnement à la levée de fonds\",\n",
    "    \"organizational development\": \"développement organisationnel\",\n",
    "    \"capacity building\": \"développement de capacités\",\n",
    "    \"program structuring\": \"structuration de programme\",\n",
    "    \"project design\": \"ingénierie de projet\",\n",
    "    \"project management\": \"gestion de projet\",\n",
    "    \"program steering\": \"pilotage de programme\",\n",
    "    \"growth strategy\": \"stratégie de croissance\",\n",
    "    \"sector expertise\": \"expertise sectorielle\",\n",
    "    \"project evaluation\": \"évaluation de projets\",\n",
    "    \"due diligence\": \"due diligence\",\n",
    "    \"project implementation\": \"mise en œuvre de projet\",\n",
    "    \"roadmap development\": \"élaboration de feuille de route\",\n",
    "    \"financial engineering\": \"ingénierie financière\",\n",
    "    \"strategic diagnosis\": \"diagnostic stratégique\",\n",
    "    \"monitoring and evaluation\": \"suivi-évaluation\",\n",
    "    \"operational action plan\": \"plan d’action opérationnel\",\n",
    "    \"public-private partnership\": \"partenariat public-privé\",\n",
    "    \"ecosystem animation\": \"animation d’écosystème\",\n",
    "    \"impact analysis\": \"analyse d’impact\",\n",
    "    \"partnership facilitation\": \"facilitation de partenariats\",\n",
    "    \"stakeholder mapping\": \"cartographie des acteurs\",\n",
    "    \"knowledge transfer\": \"transfert de compétences\",\n",
    "    \"collaborative innovation\": \"innovation collaborative\",\n",
    "    \"open innovation\": \"open innovation\",\n",
    "    \"economic development\": \"développement économique\",\n",
    "    \"ecosystem development\": \"développement d’écosystèmes\",\n",
    "    \"expansion strategy\": \"stratégie d’expansion\",\n",
    "    \"development strategy\": \"stratégie de développement\",\n",
    "    \"research valorization\": \"valorisation de la recherche\",\n",
    "    \"technology transfer\": \"transfert de technologie\",\n",
    "    \"technology maturation\": \"maturation technologique\",\n",
    "    \"prototype industrialization\": \"industrialisation de prototypes\",\n",
    "    \"technological co-development\": \"co-développement technologique\",\n",
    "    \"intellectual property\": \"propriété intellectuelle\",\n",
    "    \"research results\": \"résultats de recherche\",\n",
    "    \"technology readiness level\": \"niveau de maturité technologique\",\n",
    "    \"university spin-off\": \"spin-off universitaire\",\n",
    "    \"research-industry collaboration\": \"collaboration recherche-industrie\",\n",
    "    \"technology startup\": \"start-up technologique\",\n",
    "    \"technology portfolio\": \"portefeuille technologique\",\n",
    "    \"innovation commercialization\": \"commercialisation d’innovations\",\n",
    "    \"proof of concept\": \"preuve de concept\",\n",
    "    \"prototyping\": \"prototypage\",\n",
    "    \"technology incubator\": \"incubateur technologique\",\n",
    "    \"R&D support\": \"accompagnement à la R&D\",\n",
    "    \"patent exploitation\": \"exploitation de brevets\",\n",
    "    \"call for projects\": \"appel à projets\",\n",
    "    \"call for proposals\": \"appel à propositions\",\n",
    "    \"call for expression of interest\": \"appel à manifestation d’intérêt\",\n",
    "    \"call for applications\": \"appel à candidatures\",\n",
    "    \"call for consultants\": \"appel à consultants\",\n",
    "    \"innovation grant\": \"subvention à l’innovation\",\n",
    "    \"R&D project funding\": \"financement de projet R&D\",\n",
    "    \"support program\": \"programme d’accompagnement\",\n",
    "    \"support fund\": \"fonds de soutien\",\n",
    "    \"innovation competition\": \"concours d’innovation\",\n",
    "    \"incubation program\": \"programme d’incubation\",\n",
    "    \"acceleration program\": \"programme d’accélération\",\n",
    "    \"consulting assignment\": \"mission de conseil\",\n",
    "    \"public procurement\": \"marché public\",\n",
    "    \"strategic partnership\": \"partenariat stratégique\",\n",
    "    \"service delivery\": \"prestation de services\",\n",
    "    \"expert mission\": \"mission d’expertise\",\n",
    "    \"deeptech\": \"deeptech\",\n",
    "    \"biotechnology\": \"biotechnologie\",\n",
    "    \"medtech\": \"medtech\",\n",
    "    \"greentech\": \"greentech\",\n",
    "    \"agritech\": \"agritech\",\n",
    "    \"climatetech\": \"climatetech\",\n",
    "    \"healthtech\": \"healthtech\",\n",
    "    \"nanotechnology\": \"nanotechnologie\",\n",
    "    \"robotics\": \"robotique\",\n",
    "    \"artificial intelligence\": \"intelligence artificielle\",\n",
    "    \"machine learning\": \"machine learning\",\n",
    "    \"industry 4.0\": \"industrie 4.0\",\n",
    "    \"advanced materials\": \"matériaux avancés\",\n",
    "    \"clean technologies\": \"technologies propres\",\n",
    "    \"renewable energy\": \"énergies renouvelables\",\n",
    "    \"cybersecurity\": \"cybersécurité\",\n",
    "    \"data science\": \"data science\",\n",
    "    \"internet of things\": \"internet des objets\",\n",
    "    \"sustainable development\": \"développement durable\",\n",
    "    \"climate resilience\": \"résilience climatique\",\n",
    "    \"economic inclusion\": \"inclusion économique\",\n",
    "    \"empowerment through innovation\": \"autonomisation par l’innovation\",\n",
    "    \"social innovation\": \"innovation sociale\",\n",
    "    \"inclusive growth\": \"croissance inclusive\",\n",
    "    \"social impact\": \"impact sociétal\",\n",
    "    \"youth empowerment\": \"autonomisation des jeunes\",\n",
    "    \"services digitalization\": \"digitalisation des services\",\n",
    "    \"technological sovereignty\": \"souveraineté technologique\",\n",
    "    \"territorial development\": \"développement territorial\",\n",
    "    \"digital transformation\": \"transformation numérique\",\n",
    "    \"researcher empowerment\": \"autonomisation des chercheurs\",\n",
    "    \"diaspora integration\": \"intégration de la diaspora\",\n",
    "    \"cross-sector collaboration\": \"collaboration intersectorielle\",\n",
    "    \"industrial partnerships\": \"partenariats industriels\",\n",
    "    \"market-driven innovation\": \"innovation orientée marché\",\n",
    "    \"innovative SMEs\": \"PME innovantes\",\n",
    "    \"industrial entrepreneurship\": \"entrepreneuriat industriel\",\n",
    "    \"market access\": \"accès au marché\",\n",
    "    \"value chain strengthening\": \"renforcement des chaînes de valeur\",\n",
    "    \"economic impact\": \"impact économique\",\n",
    "    \"economic empowerment\": \"autonomisation économique\",\n",
    "    \"industrial competitiveness\": \"compétitivité industrielle\",\n",
    "    \"applied research\": \"recherche appliquée\",\n",
    "    \"skills development\": \"montée en compétences\",\n",
    "    \"know-how transfer\": \"transfert de savoir-faire\",\n",
    "    \"co-development\": \"co-développement\",\n",
    "    \"technology leadership\": \"leadership technologique\"\n",
    "}\n"
   ]
  },
  {
   "cell_type": "code",
   "execution_count": 9,
   "id": "3a5dfa65",
   "metadata": {
    "execution": {
     "iopub.execute_input": "2025-07-15T13:37:35.867302Z",
     "iopub.status.busy": "2025-07-15T13:37:35.866312Z",
     "iopub.status.idle": "2025-07-15T13:37:35.870963Z",
     "shell.execute_reply": "2025-07-15T13:37:35.870775Z"
    }
   },
   "outputs": [
    {
     "data": {
      "text/plain": [
       "{'strategic consulting': 'conseil stratégique',\n",
       " 'technical assistance': 'assistance technique',\n",
       " 'institutional support': 'appui institutionnel',\n",
       " 'tailored support': 'accompagnement personnalisé',\n",
       " 'innovation support': 'accompagnement à l’innovation',\n",
       " 'fundraising support': 'accompagnement à la levée de fonds',\n",
       " 'organizational development': 'développement organisationnel',\n",
       " 'capacity building': 'développement de capacités',\n",
       " 'program structuring': 'structuration de programme',\n",
       " 'project design': 'ingénierie de projet',\n",
       " 'project management': 'gestion de projet',\n",
       " 'program steering': 'pilotage de programme',\n",
       " 'growth strategy': 'stratégie de croissance',\n",
       " 'sector expertise': 'expertise sectorielle',\n",
       " 'project evaluation': 'évaluation de projets',\n",
       " 'due diligence': 'due diligence',\n",
       " 'project implementation': 'mise en œuvre de projet',\n",
       " 'roadmap development': 'élaboration de feuille de route',\n",
       " 'financial engineering': 'ingénierie financière',\n",
       " 'strategic diagnosis': 'diagnostic stratégique',\n",
       " 'monitoring and evaluation': 'suivi-évaluation',\n",
       " 'operational action plan': 'plan d’action opérationnel',\n",
       " 'public-private partnership': 'partenariat public-privé',\n",
       " 'ecosystem animation': 'animation d’écosystème',\n",
       " 'impact analysis': 'analyse d’impact',\n",
       " 'partnership facilitation': 'facilitation de partenariats',\n",
       " 'stakeholder mapping': 'cartographie des acteurs',\n",
       " 'knowledge transfer': 'transfert de compétences',\n",
       " 'collaborative innovation': 'innovation collaborative',\n",
       " 'open innovation': 'open innovation',\n",
       " 'economic development': 'développement économique',\n",
       " 'ecosystem development': 'développement d’écosystèmes',\n",
       " 'expansion strategy': 'stratégie d’expansion',\n",
       " 'development strategy': 'stratégie de développement',\n",
       " 'research valorization': 'valorisation de la recherche',\n",
       " 'technology transfer': 'transfert de technologie',\n",
       " 'technology maturation': 'maturation technologique',\n",
       " 'prototype industrialization': 'industrialisation de prototypes',\n",
       " 'technological co-development': 'co-développement technologique',\n",
       " 'intellectual property': 'propriété intellectuelle',\n",
       " 'research results': 'résultats de recherche',\n",
       " 'technology readiness level': 'niveau de maturité technologique',\n",
       " 'university spin-off': 'spin-off universitaire',\n",
       " 'research-industry collaboration': 'collaboration recherche-industrie',\n",
       " 'technology startup': 'start-up technologique',\n",
       " 'technology portfolio': 'portefeuille technologique',\n",
       " 'innovation commercialization': 'commercialisation d’innovations',\n",
       " 'proof of concept': 'preuve de concept',\n",
       " 'prototyping': 'prototypage',\n",
       " 'technology incubator': 'incubateur technologique',\n",
       " 'R&D support': 'accompagnement à la R&D',\n",
       " 'patent exploitation': 'exploitation de brevets',\n",
       " 'call for projects': 'appel à projets',\n",
       " 'call for proposals': 'appel à propositions',\n",
       " 'call for expression of interest': 'appel à manifestation d’intérêt',\n",
       " 'call for applications': 'appel à candidatures',\n",
       " 'call for consultants': 'appel à consultants',\n",
       " 'innovation grant': 'subvention à l’innovation',\n",
       " 'R&D project funding': 'financement de projet R&D',\n",
       " 'support program': 'programme d’accompagnement',\n",
       " 'support fund': 'fonds de soutien',\n",
       " 'innovation competition': 'concours d’innovation',\n",
       " 'incubation program': 'programme d’incubation',\n",
       " 'acceleration program': 'programme d’accélération',\n",
       " 'consulting assignment': 'mission de conseil',\n",
       " 'public procurement': 'marché public',\n",
       " 'strategic partnership': 'partenariat stratégique',\n",
       " 'service delivery': 'prestation de services',\n",
       " 'expert mission': 'mission d’expertise',\n",
       " 'deeptech': 'deeptech',\n",
       " 'biotechnology': 'biotechnologie',\n",
       " 'medtech': 'medtech',\n",
       " 'greentech': 'greentech',\n",
       " 'agritech': 'agritech',\n",
       " 'climatetech': 'climatetech',\n",
       " 'healthtech': 'healthtech',\n",
       " 'nanotechnology': 'nanotechnologie',\n",
       " 'robotics': 'robotique',\n",
       " 'artificial intelligence': 'intelligence artificielle',\n",
       " 'machine learning': 'machine learning',\n",
       " 'industry 4.0': 'industrie 4.0',\n",
       " 'advanced materials': 'matériaux avancés',\n",
       " 'clean technologies': 'technologies propres',\n",
       " 'renewable energy': 'énergies renouvelables',\n",
       " 'cybersecurity': 'cybersécurité',\n",
       " 'data science': 'data science',\n",
       " 'internet of things': 'internet des objets',\n",
       " 'sustainable development': 'développement durable',\n",
       " 'climate resilience': 'résilience climatique',\n",
       " 'economic inclusion': 'inclusion économique',\n",
       " 'empowerment through innovation': 'autonomisation par l’innovation',\n",
       " 'social innovation': 'innovation sociale',\n",
       " 'inclusive growth': 'croissance inclusive',\n",
       " 'social impact': 'impact sociétal',\n",
       " 'youth empowerment': 'autonomisation des jeunes',\n",
       " 'services digitalization': 'digitalisation des services',\n",
       " 'technological sovereignty': 'souveraineté technologique',\n",
       " 'territorial development': 'développement territorial',\n",
       " 'digital transformation': 'transformation numérique',\n",
       " 'researcher empowerment': 'autonomisation des chercheurs',\n",
       " 'diaspora integration': 'intégration de la diaspora',\n",
       " 'cross-sector collaboration': 'collaboration intersectorielle',\n",
       " 'industrial partnerships': 'partenariats industriels',\n",
       " 'market-driven innovation': 'innovation orientée marché',\n",
       " 'innovative SMEs': 'PME innovantes',\n",
       " 'industrial entrepreneurship': 'entrepreneuriat industriel',\n",
       " 'market access': 'accès au marché',\n",
       " 'value chain strengthening': 'renforcement des chaînes de valeur',\n",
       " 'economic impact': 'impact économique',\n",
       " 'economic empowerment': 'autonomisation économique',\n",
       " 'industrial competitiveness': 'compétitivité industrielle',\n",
       " 'applied research': 'recherche appliquée',\n",
       " 'skills development': 'montée en compétences',\n",
       " 'know-how transfer': 'transfert de savoir-faire',\n",
       " 'co-development': 'co-développement',\n",
       " 'technology leadership': 'leadership technologique'}"
      ]
     },
     "execution_count": 9,
     "metadata": {},
     "output_type": "execute_result"
    }
   ],
   "source": [
    "all_keywords_text"
   ]
  },
  {
   "cell_type": "markdown",
   "id": "ea1e6930",
   "metadata": {},
   "source": [
    "### All the links"
   ]
  },
  {
   "cell_type": "markdown",
   "id": "d30cd180",
   "metadata": {},
   "source": [
    "#### Detection de la pertinence par les mots clés sur tout les sites "
   ]
  },
  {
   "cell_type": "code",
   "execution_count": 10,
   "id": "b01f3d92",
   "metadata": {
    "execution": {
     "iopub.execute_input": "2025-07-15T13:37:35.871968Z",
     "iopub.status.busy": "2025-07-15T13:37:35.871968Z",
     "iopub.status.idle": "2025-07-16T16:07:07.822672Z",
     "shell.execute_reply": "2025-07-16T16:07:07.811710Z"
    }
   },
   "outputs": [
    {
     "name": "stdout",
     "output_type": "stream",
     "text": [
      "Traitement : https://ec.europa.eu/info/funding-tenders/opportunities/portal/screen/opportunities/topic-details/HORIZON-MSCA-2025-COFUND-02-01?isExactMatch=true&status=31094501,31094502&order=DESC&pageNumber=1&pageSize=50&sortBy=startDate\n"
     ]
    },
    {
     "name": "stdout",
     "output_type": "stream",
     "text": [
      "Traitement : https://ec.europa.eu/info/funding-tenders/opportunities/portal/screen/opportunities/topic-details/HORIZON-CL5-2026-02-D3-24?isExactMatch=true&status=31094501,31094502&order=DESC&pageNumber=1&pageSize=50&sortBy=startDate\n"
     ]
    },
    {
     "name": "stdout",
     "output_type": "stream",
     "text": [
      "Traitement : https://ec.europa.eu/info/funding-tenders/opportunities/portal/screen/opportunities/topic-details/HORIZON-CL5-2026-02-D4-03?isExactMatch=true&status=31094501,31094502&order=DESC&pageNumber=1&pageSize=50&sortBy=startDate\n"
     ]
    },
    {
     "name": "stdout",
     "output_type": "stream",
     "text": [
      "Traitement : https://ec.europa.eu/info/funding-tenders/opportunities/portal/screen/opportunities/topic-details/HORIZON-CL5-2026-02-D4-05?isExactMatch=true&status=31094501,31094502&order=DESC&pageNumber=1&pageSize=50&sortBy=startDate\n"
     ]
    },
    {
     "name": "stdout",
     "output_type": "stream",
     "text": [
      "Traitement : https://ec.europa.eu/info/funding-tenders/opportunities/portal/screen/opportunities/topic-details/HORIZON-CL5-2026-02-D3-08?isExactMatch=true&status=31094501,31094502&order=DESC&pageNumber=1&pageSize=50&sortBy=startDate\n"
     ]
    },
    {
     "name": "stdout",
     "output_type": "stream",
     "text": [
      "Traitement : https://ec.europa.eu/info/funding-tenders/opportunities/portal/screen/opportunities/topic-details/HORIZON-CL5-2026-02-D4-02?isExactMatch=true&status=31094501,31094502&order=DESC&pageNumber=1&pageSize=50&sortBy=startDate\n"
     ]
    },
    {
     "name": "stdout",
     "output_type": "stream",
     "text": [
      "Traitement : https://ec.europa.eu/info/funding-tenders/opportunities/portal/screen/opportunities/topic-details/HORIZON-CL5-2026-02-D3-02?isExactMatch=true&status=31094501,31094502&order=DESC&pageNumber=1&pageSize=50&sortBy=startDate\n"
     ]
    },
    {
     "name": "stdout",
     "output_type": "stream",
     "text": [
      "Traitement : https://ec.europa.eu/info/funding-tenders/opportunities/portal/screen/opportunities/topic-details/HORIZON-CL5-2026-02-D3-19?isExactMatch=true&status=31094501,31094502&order=DESC&pageNumber=1&pageSize=50&sortBy=startDate\n"
     ]
    },
    {
     "name": "stdout",
     "output_type": "stream",
     "text": [
      "Traitement : https://ec.europa.eu/info/funding-tenders/opportunities/portal/screen/opportunities/topic-details/HORIZON-CL5-2026-02-D3-20?isExactMatch=true&status=31094501,31094502&order=DESC&pageNumber=1&pageSize=50&sortBy=startDate\n"
     ]
    },
    {
     "name": "stdout",
     "output_type": "stream",
     "text": [
      "Traitement : https://ec.europa.eu/info/funding-tenders/opportunities/portal/screen/opportunities/topic-details/HORIZON-CL5-2026-02-D4-06?isExactMatch=true&status=31094501,31094502&order=DESC&pageNumber=1&pageSize=50&sortBy=startDate\n"
     ]
    },
    {
     "name": "stdout",
     "output_type": "stream",
     "text": [
      "Traitement : https://ec.europa.eu/info/funding-tenders/opportunities/portal/screen/opportunities/topic-details/HORIZON-CL5-2026-02-D3-13?isExactMatch=true&status=31094501,31094502&order=DESC&pageNumber=1&pageSize=50&sortBy=startDate\n"
     ]
    },
    {
     "name": "stdout",
     "output_type": "stream",
     "text": [
      "Traitement : https://ec.europa.eu/info/funding-tenders/opportunities/portal/screen/opportunities/topic-details/HORIZON-CL5-2026-02-D4-01?isExactMatch=true&status=31094501,31094502&order=DESC&pageNumber=1&pageSize=50&sortBy=startDate\n"
     ]
    },
    {
     "name": "stdout",
     "output_type": "stream",
     "text": [
      "Traitement : https://ec.europa.eu/info/funding-tenders/opportunities/portal/screen/opportunities/topic-details/HORIZON-CL5-2026-02-D3-12?isExactMatch=true&status=31094501,31094502&order=DESC&pageNumber=1&pageSize=50&sortBy=startDate\n"
     ]
    },
    {
     "name": "stdout",
     "output_type": "stream",
     "text": [
      "Traitement : https://ec.europa.eu/info/funding-tenders/opportunities/portal/screen/opportunities/topic-details/HORIZON-CL5-2026-02-D4-04?isExactMatch=true&status=31094501,31094502&order=DESC&pageNumber=1&pageSize=50&sortBy=startDate\n"
     ]
    },
    {
     "name": "stdout",
     "output_type": "stream",
     "text": [
      "Traitement : https://ec.europa.eu/info/funding-tenders/opportunities/portal/screen/opportunities/topic-details/HORIZON-CL5-2026-02-D3-10?isExactMatch=true&status=31094501,31094502&order=DESC&pageNumber=1&pageSize=50&sortBy=startDate\n"
     ]
    },
    {
     "name": "stdout",
     "output_type": "stream",
     "text": [
      "Traitement : https://ec.europa.eu/info/funding-tenders/opportunities/portal/screen/opportunities/topic-details/HORIZON-CL5-2026-02-D3-18?isExactMatch=true&status=31094501,31094502&order=DESC&pageNumber=1&pageSize=50&sortBy=startDate\n"
     ]
    },
    {
     "name": "stdout",
     "output_type": "stream",
     "text": [
      "Traitement : https://ec.europa.eu/info/funding-tenders/opportunities/portal/screen/opportunities/topic-details/HORIZON-CL5-2026-02-D3-01?isExactMatch=true&status=31094501,31094502&order=DESC&pageNumber=1&pageSize=50&sortBy=startDate\n"
     ]
    },
    {
     "name": "stdout",
     "output_type": "stream",
     "text": [
      "Traitement : https://ec.europa.eu/info/funding-tenders/opportunities/portal/screen/opportunities/topic-details/HORIZON-CL5-2026-02-D3-05?isExactMatch=true&status=31094501,31094502&order=DESC&pageNumber=1&pageSize=50&sortBy=startDate\n"
     ]
    },
    {
     "name": "stdout",
     "output_type": "stream",
     "text": [
      "Traitement : https://ec.europa.eu/info/funding-tenders/opportunities/portal/screen/opportunities/topic-details/HORIZON-CL5-2026-02-D3-22?isExactMatch=true&status=31094501,31094502&order=DESC&pageNumber=1&pageSize=50&sortBy=startDate\n"
     ]
    },
    {
     "name": "stdout",
     "output_type": "stream",
     "text": [
      "Traitement : https://ec.europa.eu/info/funding-tenders/opportunities/portal/screen/opportunities/topic-details/HORIZON-CL5-2026-02-D3-14?isExactMatch=true&status=31094501,31094502&order=DESC&pageNumber=1&pageSize=50&sortBy=startDate\n"
     ]
    },
    {
     "name": "stdout",
     "output_type": "stream",
     "text": [
      "Traitement : https://ec.europa.eu/info/funding-tenders/opportunities/portal/screen/opportunities/topic-details/HORIZON-CL5-2026-02-D3-07?isExactMatch=true&status=31094501,31094502&order=DESC&pageNumber=1&pageSize=50&sortBy=startDate\n"
     ]
    },
    {
     "name": "stdout",
     "output_type": "stream",
     "text": [
      "Traitement : https://ec.europa.eu/info/funding-tenders/opportunities/portal/screen/opportunities/topic-details/HORIZON-CL5-2026-01-D2-04?isExactMatch=true&status=31094501,31094502&order=DESC&pageNumber=1&pageSize=50&sortBy=startDate\n"
     ]
    },
    {
     "name": "stdout",
     "output_type": "stream",
     "text": [
      "Traitement : https://ec.europa.eu/info/funding-tenders/opportunities/portal/screen/opportunities/topic-details/HORIZON-CL5-2026-01-D6-13?isExactMatch=true&status=31094501,31094502&order=DESC&pageNumber=1&pageSize=50&sortBy=startDate\n"
     ]
    },
    {
     "name": "stdout",
     "output_type": "stream",
     "text": [
      "Traitement : https://ec.europa.eu/info/funding-tenders/opportunities/portal/screen/opportunities/topic-details/HORIZON-CL5-2026-01-D2-05?isExactMatch=true&status=31094501,31094502&order=DESC&pageNumber=1&pageSize=50&sortBy=startDate\n"
     ]
    },
    {
     "name": "stdout",
     "output_type": "stream",
     "text": [
      "Traitement : https://ec.europa.eu/info/funding-tenders/opportunities/portal/screen/opportunities/topic-details/HORIZON-CL5-2026-01-D6-07?isExactMatch=true&status=31094501,31094502&order=DESC&pageNumber=1&pageSize=50&sortBy=startDate\n"
     ]
    },
    {
     "name": "stdout",
     "output_type": "stream",
     "text": [
      "Traitement : https://ec.europa.eu/info/funding-tenders/opportunities/portal/screen/opportunities/topic-details/HORIZON-CL5-2026-01-D6-08?isExactMatch=true&status=31094501,31094502&order=DESC&pageNumber=1&pageSize=50&sortBy=startDate\n"
     ]
    },
    {
     "name": "stdout",
     "output_type": "stream",
     "text": [
      "Traitement : https://ec.europa.eu/info/funding-tenders/opportunities/portal/screen/opportunities/topic-details/HORIZON-CL5-2026-01-D6-14?isExactMatch=true&status=31094501,31094502&order=DESC&pageNumber=1&pageSize=50&sortBy=startDate\n"
     ]
    },
    {
     "name": "stdout",
     "output_type": "stream",
     "text": [
      "Traitement : https://ec.europa.eu/info/funding-tenders/opportunities/portal/screen/opportunities/topic-details/HORIZON-CL5-2026-01-D6-09?isExactMatch=true&status=31094501,31094502&order=DESC&pageNumber=1&pageSize=50&sortBy=startDate\n"
     ]
    },
    {
     "name": "stdout",
     "output_type": "stream",
     "text": [
      "Traitement : https://ec.europa.eu/info/funding-tenders/opportunities/portal/screen/opportunities/topic-details/HORIZON-CL5-2026-01-D5-17?isExactMatch=true&status=31094501,31094502&order=DESC&pageNumber=1&pageSize=50&sortBy=startDate\n"
     ]
    },
    {
     "name": "stdout",
     "output_type": "stream",
     "text": [
      "Traitement : https://ec.europa.eu/info/funding-tenders/opportunities/portal/screen/opportunities/topic-details/HORIZON-CL5-2026-01-D6-15?isExactMatch=true&status=31094501,31094502&order=DESC&pageNumber=1&pageSize=50&sortBy=startDate\n"
     ]
    },
    {
     "name": "stdout",
     "output_type": "stream",
     "text": [
      "Traitement : https://ec.europa.eu/info/funding-tenders/opportunities/portal/screen/opportunities/topic-details/HORIZON-CL5-2026-01-D6-06?isExactMatch=true&status=31094501,31094502&order=DESC&pageNumber=1&pageSize=50&sortBy=startDate\n"
     ]
    },
    {
     "name": "stdout",
     "output_type": "stream",
     "text": [
      "Traitement : https://ec.europa.eu/info/funding-tenders/opportunities/portal/screen/opportunities/topic-details/HORIZON-CL5-2026-01-D6-03?isExactMatch=true&status=31094501,31094502&order=DESC&pageNumber=1&pageSize=50&sortBy=startDate\n"
     ]
    },
    {
     "name": "stdout",
     "output_type": "stream",
     "text": [
      "Traitement : https://ec.europa.eu/info/funding-tenders/opportunities/portal/screen/opportunities/topic-details/HORIZON-CL5-2026-01-D6-04?isExactMatch=true&status=31094501,31094502&order=DESC&pageNumber=1&pageSize=50&sortBy=startDate\n"
     ]
    },
    {
     "name": "stdout",
     "output_type": "stream",
     "text": [
      "Traitement : https://ec.europa.eu/info/funding-tenders/opportunities/portal/screen/opportunities/topic-details/HORIZON-CL5-2026-01-D6-10?isExactMatch=true&status=31094501,31094502&order=DESC&pageNumber=1&pageSize=50&sortBy=startDate\n"
     ]
    },
    {
     "name": "stdout",
     "output_type": "stream",
     "text": [
      "Traitement : https://ec.europa.eu/info/funding-tenders/opportunities/portal/screen/opportunities/topic-details/HORIZON-CL5-2026-01-D6-05?isExactMatch=true&status=31094501,31094502&order=DESC&pageNumber=1&pageSize=50&sortBy=startDate\n"
     ]
    },
    {
     "name": "stdout",
     "output_type": "stream",
     "text": [
      "Traitement : https://ec.europa.eu/info/funding-tenders/opportunities/portal/screen/opportunities/topic-details/HORIZON-CL5-2026-01-D2-01?isExactMatch=true&status=31094501,31094502&order=DESC&pageNumber=1&pageSize=50&sortBy=startDate\n"
     ]
    },
    {
     "name": "stdout",
     "output_type": "stream",
     "text": [
      "Traitement : https://ec.europa.eu/info/funding-tenders/opportunities/portal/screen/opportunities/topic-details/HORIZON-CL5-2026-01-D2-09?isExactMatch=true&status=31094501,31094502&order=DESC&pageNumber=1&pageSize=50&sortBy=startDate\n"
     ]
    },
    {
     "name": "stdout",
     "output_type": "stream",
     "text": [
      "Traitement : https://ec.europa.eu/info/funding-tenders/opportunities/portal/screen/opportunities/topic-details/HORIZON-EIE-2026-01-CONNECT-03?isExactMatch=true&status=31094501,31094502&order=DESC&pageNumber=1&pageSize=50&sortBy=startDate\n"
     ]
    },
    {
     "name": "stdout",
     "output_type": "stream",
     "text": [
      "Traitement : https://ec.europa.eu/info/funding-tenders/opportunities/portal/screen/opportunities/topic-details/HORIZON-EIE-2026-01-CONNECT-02?isExactMatch=true&status=31094501,31094502&order=DESC&pageNumber=1&pageSize=50&sortBy=startDate\n"
     ]
    },
    {
     "name": "stdout",
     "output_type": "stream",
     "text": [
      "Traitement : https://ec.europa.eu/info/funding-tenders/opportunities/portal/screen/opportunities/topic-details/HORIZON-EIE-2026-01-CONNECT-01?isExactMatch=true&status=31094501,31094502&order=DESC&pageNumber=1&pageSize=50&sortBy=startDate\n"
     ]
    },
    {
     "name": "stdout",
     "output_type": "stream",
     "text": [
      "Traitement : https://ec.europa.eu/info/funding-tenders/opportunities/portal/screen/opportunities/competitive-calls-cs/10821?isExactMatch=true&status=31094501,31094502&order=DESC&pageNumber=1&pageSize=50&sortBy=startDate\n"
     ]
    },
    {
     "name": "stdout",
     "output_type": "stream",
     "text": [
      "Traitement : https://ec.europa.eu/info/funding-tenders/opportunities/portal/screen/opportunities/competitive-calls-cs/10822?isExactMatch=true&status=31094501,31094502&order=DESC&pageNumber=1&pageSize=50&sortBy=startDate\n"
     ]
    },
    {
     "name": "stdout",
     "output_type": "stream",
     "text": [
      "Traitement : https://ec.europa.eu/info/funding-tenders/opportunities/portal/screen/opportunities/competitive-calls-cs/11261?isExactMatch=true&status=31094501,31094502&order=DESC&pageNumber=1&pageSize=50&sortBy=startDate\n"
     ]
    },
    {
     "name": "stdout",
     "output_type": "stream",
     "text": [
      "Traitement : https://ec.europa.eu/info/funding-tenders/opportunities/portal/screen/opportunities/competitive-calls-cs/11262?isExactMatch=true&status=31094501,31094502&order=DESC&pageNumber=1&pageSize=50&sortBy=startDate\n"
     ]
    },
    {
     "name": "stdout",
     "output_type": "stream",
     "text": [
      "Traitement : https://ec.europa.eu/info/funding-tenders/opportunities/portal/screen/opportunities/competitive-calls-cs/11281?isExactMatch=true&status=31094501,31094502&order=DESC&pageNumber=1&pageSize=50&sortBy=startDate\n"
     ]
    },
    {
     "name": "stdout",
     "output_type": "stream",
     "text": [
      "Traitement : https://ec.europa.eu/info/funding-tenders/opportunities/portal/screen/opportunities/competitive-calls-cs/11086?isExactMatch=true&status=31094501,31094502&order=DESC&pageNumber=1&pageSize=50&sortBy=startDate\n"
     ]
    },
    {
     "name": "stdout",
     "output_type": "stream",
     "text": [
      "Traitement : https://ec.europa.eu/info/funding-tenders/opportunities/portal/screen/opportunities/competitive-calls-cs/11089?isExactMatch=true&status=31094501,31094502&order=DESC&pageNumber=1&pageSize=50&sortBy=startDate\n"
     ]
    },
    {
     "name": "stdout",
     "output_type": "stream",
     "text": [
      "Traitement : https://ec.europa.eu/info/funding-tenders/opportunities/portal/screen/opportunities/competitive-calls-cs/11088?isExactMatch=true&status=31094501,31094502&order=DESC&pageNumber=1&pageSize=50&sortBy=startDate\n"
     ]
    },
    {
     "name": "stdout",
     "output_type": "stream",
     "text": [
      "Traitement : https://ec.europa.eu/info/funding-tenders/opportunities/portal/screen/opportunities/topic-details/DIGITAL-JU-EUROHPC-2025-NCC-01-02?isExactMatch=true&status=31094501,31094502&order=DESC&pageNumber=1&pageSize=50&sortBy=startDate\n"
     ]
    },
    {
     "name": "stdout",
     "output_type": "stream",
     "text": [
      "Traitement : https://ec.europa.eu/info/funding-tenders/opportunities/portal/screen/opportunities/topic-details/DIGITAL-JU-EUROHPC-2025-NCC-01-01?isExactMatch=true&status=31094501,31094502&order=DESC&pageNumber=1&pageSize=50&sortBy=startDate\n"
     ]
    },
    {
     "name": "stdout",
     "output_type": "stream",
     "text": [
      "Traitement : https://ec.europa.eu/info/funding-tenders/opportunities/portal/screen/opportunities/topic-details/HORIZON-EIC-2025-PATHFINDERCHALLENGES-01-04?isExactMatch=true&status=31094501,31094502&order=DESC&pageNumber=2&pageSize=50&sortBy=startDate\n"
     ]
    },
    {
     "name": "stdout",
     "output_type": "stream",
     "text": [
      "Traitement : https://ec.europa.eu/info/funding-tenders/opportunities/portal/screen/opportunities/topic-details/HORIZON-EIC-2025-PATHFINDERCHALLENGES-01-03?isExactMatch=true&status=31094501,31094502&order=DESC&pageNumber=2&pageSize=50&sortBy=startDate\n"
     ]
    },
    {
     "name": "stdout",
     "output_type": "stream",
     "text": [
      "Traitement : https://ec.europa.eu/info/funding-tenders/opportunities/portal/screen/opportunities/topic-details/HORIZON-EIC-2025-PATHFINDERCHALLENGES-01-02?isExactMatch=true&status=31094501,31094502&order=DESC&pageNumber=2&pageSize=50&sortBy=startDate\n"
     ]
    },
    {
     "name": "stdout",
     "output_type": "stream",
     "text": [
      "Traitement : https://ec.europa.eu/info/funding-tenders/opportunities/portal/screen/opportunities/topic-details/HORIZON-EIC-2025-PATHFINDERCHALLENGES-01-01?isExactMatch=true&status=31094501,31094502&order=DESC&pageNumber=2&pageSize=50&sortBy=startDate\n"
     ]
    },
    {
     "name": "stdout",
     "output_type": "stream",
     "text": [
      "Traitement : https://ec.europa.eu/info/funding-tenders/opportunities/portal/screen/opportunities/topic-details/DIGITAL-IRIS2-2025-QCI-01?isExactMatch=true&status=31094501,31094502&order=DESC&pageNumber=2&pageSize=50&sortBy=startDate\n"
     ]
    },
    {
     "name": "stdout",
     "output_type": "stream",
     "text": [
      "Traitement : https://ec.europa.eu/info/funding-tenders/opportunities/portal/screen/opportunities/topic-details/DIGITAL-IRIS2-2025-QCI-03?isExactMatch=true&status=31094501,31094502&order=DESC&pageNumber=2&pageSize=50&sortBy=startDate\n"
     ]
    },
    {
     "name": "stdout",
     "output_type": "stream",
     "text": [
      "Traitement : https://ec.europa.eu/info/funding-tenders/opportunities/portal/screen/opportunities/topic-details/DIGITAL-IRIS2-2025-QCI-02?isExactMatch=true&status=31094501,31094502&order=DESC&pageNumber=2&pageSize=50&sortBy=startDate\n"
     ]
    },
    {
     "name": "stdout",
     "output_type": "stream",
     "text": [
      "Traitement : https://ec.europa.eu/info/funding-tenders/opportunities/portal/screen/opportunities/topic-details/CERV-2025-EQUAL-RACI-DISC?isExactMatch=true&status=31094501,31094502&order=DESC&pageNumber=2&pageSize=50&sortBy=startDate\n"
     ]
    },
    {
     "name": "stdout",
     "output_type": "stream",
     "text": [
      "Traitement : https://ec.europa.eu/info/funding-tenders/opportunities/portal/screen/opportunities/topic-details/CERV-2025-EQUAL-ANTIMUSLIM?isExactMatch=true&status=31094501,31094502&order=DESC&pageNumber=2&pageSize=50&sortBy=startDate\n"
     ]
    },
    {
     "name": "stdout",
     "output_type": "stream",
     "text": [
      "Traitement : https://ec.europa.eu/info/funding-tenders/opportunities/portal/screen/opportunities/competitive-calls-cs/11362?isExactMatch=true&status=31094501,31094502&order=DESC&pageNumber=2&pageSize=50&sortBy=startDate\n"
     ]
    },
    {
     "name": "stdout",
     "output_type": "stream",
     "text": [
      "Traitement : https://ec.europa.eu/info/funding-tenders/opportunities/portal/screen/opportunities/topic-details/CERV-2025-EQUAL-DIVERSITYMGT?isExactMatch=true&status=31094501,31094502&order=DESC&pageNumber=2&pageSize=50&sortBy=startDate\n"
     ]
    },
    {
     "name": "stdout",
     "output_type": "stream",
     "text": [
      "Traitement : https://ec.europa.eu/info/funding-tenders/opportunities/portal/screen/opportunities/topic-details/CERV-2025-EQUAL-RESTRICTED?isExactMatch=true&status=31094501,31094502&order=DESC&pageNumber=2&pageSize=50&sortBy=startDate\n"
     ]
    },
    {
     "name": "stdout",
     "output_type": "stream",
     "text": [
      "Traitement : https://ec.europa.eu/info/funding-tenders/opportunities/portal/screen/opportunities/topic-details/CERV-2025-EQUAL-LGBTIQ?isExactMatch=true&status=31094501,31094502&order=DESC&pageNumber=2&pageSize=50&sortBy=startDate\n"
     ]
    },
    {
     "name": "stdout",
     "output_type": "stream",
     "text": [
      "Traitement : https://ec.europa.eu/info/funding-tenders/opportunities/portal/screen/opportunities/topic-details/CERV-2025-EQUAL-ANTISEMITISM?isExactMatch=true&status=31094501,31094502&order=DESC&pageNumber=2&pageSize=50&sortBy=startDate\n"
     ]
    },
    {
     "name": "stdout",
     "output_type": "stream",
     "text": [
      "Traitement : https://ec.europa.eu/info/funding-tenders/opportunities/portal/screen/opportunities/competitive-calls-cs/11274?isExactMatch=true&status=31094501,31094502&order=DESC&pageNumber=2&pageSize=50&sortBy=startDate\n"
     ]
    },
    {
     "name": "stdout",
     "output_type": "stream",
     "text": [
      "Traitement : https://ec.europa.eu/info/funding-tenders/opportunities/portal/screen/opportunities/competitive-calls-cs/11321?isExactMatch=true&status=31094501,31094502&order=DESC&pageNumber=2&pageSize=50&sortBy=startDate\n"
     ]
    },
    {
     "name": "stdout",
     "output_type": "stream",
     "text": [
      "Traitement : https://ec.europa.eu/info/funding-tenders/opportunities/portal/screen/opportunities/topic-details/ERC-2026-SyG?isExactMatch=true&status=31094501,31094502&order=DESC&pageNumber=2&pageSize=50&sortBy=startDate\n"
     ]
    },
    {
     "name": "stdout",
     "output_type": "stream",
     "text": [
      "Traitement : https://ec.europa.eu/info/funding-tenders/opportunities/portal/screen/opportunities/topic-details/EUBA-EFSA-2025-IDATA-01-01-Lot1?isExactMatch=true&status=31094501,31094502&order=DESC&pageNumber=2&pageSize=50&sortBy=startDate\n"
     ]
    },
    {
     "name": "stdout",
     "output_type": "stream",
     "text": [
      "Traitement : https://ec.europa.eu/info/funding-tenders/opportunities/portal/screen/opportunities/topic-details/EUBA-EFSA-2025-IDATA-01-02-Lot2?isExactMatch=true&status=31094501,31094502&order=DESC&pageNumber=2&pageSize=50&sortBy=startDate\n"
     ]
    },
    {
     "name": "stdout",
     "output_type": "stream",
     "text": [
      "Traitement : https://ec.europa.eu/info/funding-tenders/opportunities/portal/screen/opportunities/topic-details/ERC-2026-STG?isExactMatch=true&status=31094501,31094502&order=DESC&pageNumber=2&pageSize=50&sortBy=startDate\n"
     ]
    },
    {
     "name": "stdout",
     "output_type": "stream",
     "text": [
      "Traitement : https://ec.europa.eu/info/funding-tenders/opportunities/portal/screen/opportunities/topic-details/DIGITAL-JU-CHIPS-2025-SG-SSOI?isExactMatch=true&status=31094501,31094502&order=DESC&pageNumber=2&pageSize=50&sortBy=startDate\n"
     ]
    },
    {
     "name": "stdout",
     "output_type": "stream",
     "text": [
      "Traitement : https://ec.europa.eu/info/funding-tenders/opportunities/portal/screen/opportunities/topic-details/HORIZON-JU-CHIPS-2025-CSA-JPN?isExactMatch=true&status=31094501,31094502&order=DESC&pageNumber=2&pageSize=50&sortBy=startDate\n"
     ]
    },
    {
     "name": "stdout",
     "output_type": "stream",
     "text": [
      "Traitement : https://ec.europa.eu/info/funding-tenders/opportunities/portal/screen/opportunities/topic-details/DIGITAL-JU-CHIPS-2025-IA-LEAI?isExactMatch=true&status=31094501,31094502&order=DESC&pageNumber=2&pageSize=50&sortBy=startDate\n"
     ]
    },
    {
     "name": "stdout",
     "output_type": "stream",
     "text": [
      "Traitement : https://ec.europa.eu/info/funding-tenders/opportunities/portal/screen/opportunities/competitive-calls-cs/11266?isExactMatch=true&status=31094501,31094502&order=DESC&pageNumber=2&pageSize=50&sortBy=startDate\n"
     ]
    },
    {
     "name": "stdout",
     "output_type": "stream",
     "text": [
      "Traitement : https://ec.europa.eu/info/funding-tenders/opportunities/portal/screen/opportunities/competitive-calls-cs/11270?isExactMatch=true&status=31094501,31094502&order=DESC&pageNumber=2&pageSize=50&sortBy=startDate\n"
     ]
    },
    {
     "name": "stdout",
     "output_type": "stream",
     "text": [
      "Traitement : https://ec.europa.eu/info/funding-tenders/opportunities/portal/screen/opportunities/competitive-calls-cs/11273?isExactMatch=true&status=31094501,31094502&order=DESC&pageNumber=2&pageSize=50&sortBy=startDate\n"
     ]
    },
    {
     "name": "stdout",
     "output_type": "stream",
     "text": [
      "Traitement : https://ec.europa.eu/info/funding-tenders/opportunities/portal/screen/opportunities/competitive-calls-cs/11264?isExactMatch=true&status=31094501,31094502&order=DESC&pageNumber=2&pageSize=50&sortBy=startDate\n"
     ]
    },
    {
     "name": "stdout",
     "output_type": "stream",
     "text": [
      "Traitement : https://ec.europa.eu/info/funding-tenders/opportunities/portal/screen/opportunities/competitive-calls-cs/11243?isExactMatch=true&status=31094501,31094502&order=DESC&pageNumber=2&pageSize=50&sortBy=startDate\n"
     ]
    },
    {
     "name": "stdout",
     "output_type": "stream",
     "text": [
      "Traitement : https://ec.europa.eu/info/funding-tenders/opportunities/portal/screen/opportunities/topic-details/HORIZON-EUROHPC-JU-2025-IHPCSS-02?isExactMatch=true&status=31094501,31094502&order=DESC&pageNumber=2&pageSize=50&sortBy=startDate\n"
     ]
    },
    {
     "name": "stdout",
     "output_type": "stream",
     "text": [
      "Traitement : https://ec.europa.eu/info/funding-tenders/opportunities/portal/screen/opportunities/competitive-calls-cs/11151?isExactMatch=true&status=31094501,31094502&order=DESC&pageNumber=2&pageSize=50&sortBy=startDate\n"
     ]
    },
    {
     "name": "stdout",
     "output_type": "stream",
     "text": [
      "Traitement : https://ec.europa.eu/info/funding-tenders/opportunities/portal/screen/opportunities/competitive-calls-cs/11221?isExactMatch=true&status=31094501,31094502&order=DESC&pageNumber=2&pageSize=50&sortBy=startDate\n"
     ]
    },
    {
     "name": "stdout",
     "output_type": "stream",
     "text": [
      "Traitement : https://ec.europa.eu/info/funding-tenders/opportunities/portal/screen/opportunities/competitive-calls-cs/11222?isExactMatch=true&status=31094501,31094502&order=DESC&pageNumber=2&pageSize=50&sortBy=startDate\n"
     ]
    },
    {
     "name": "stdout",
     "output_type": "stream",
     "text": [
      "Traitement : https://ec.europa.eu/info/funding-tenders/opportunities/portal/screen/opportunities/competitive-calls-cs/11143?isExactMatch=true&status=31094501,31094502&order=DESC&pageNumber=2&pageSize=50&sortBy=startDate\n"
     ]
    },
    {
     "name": "stdout",
     "output_type": "stream",
     "text": [
      "Traitement : https://ec.europa.eu/info/funding-tenders/opportunities/portal/screen/opportunities/competitive-calls-cs/11145?isExactMatch=true&status=31094501,31094502&order=DESC&pageNumber=2&pageSize=50&sortBy=startDate\n"
     ]
    },
    {
     "name": "stdout",
     "output_type": "stream",
     "text": [
      "Traitement : https://ec.europa.eu/info/funding-tenders/opportunities/portal/screen/opportunities/competitive-calls-cs/11241?isExactMatch=true&status=31094501,31094502&order=DESC&pageNumber=2&pageSize=50&sortBy=startDate\n"
     ]
    },
    {
     "name": "stdout",
     "output_type": "stream",
     "text": [
      "Traitement : https://ec.europa.eu/info/funding-tenders/opportunities/portal/screen/opportunities/competitive-calls-cs/11168?isExactMatch=true&status=31094501,31094502&order=DESC&pageNumber=2&pageSize=50&sortBy=startDate\n"
     ]
    },
    {
     "name": "stdout",
     "output_type": "stream",
     "text": [
      "Traitement : https://ec.europa.eu/info/funding-tenders/opportunities/portal/screen/opportunities/topic-details/CEF-DIG-2025-PLATFORMS-WORKS?isExactMatch=true&status=31094501,31094502&order=DESC&pageNumber=2&pageSize=50&sortBy=startDate\n"
     ]
    },
    {
     "name": "stdout",
     "output_type": "stream",
     "text": [
      "Traitement : https://ec.europa.eu/info/funding-tenders/opportunities/portal/screen/opportunities/competitive-calls-cs/11201?isExactMatch=true&status=31094501,31094502&order=DESC&pageNumber=2&pageSize=50&sortBy=startDate\n"
     ]
    },
    {
     "name": "stdout",
     "output_type": "stream",
     "text": [
      "Traitement : https://ec.europa.eu/info/funding-tenders/opportunities/portal/screen/opportunities/competitive-calls-cs/11202?isExactMatch=true&status=31094501,31094502&order=DESC&pageNumber=3&pageSize=50&sortBy=startDate\n"
     ]
    },
    {
     "name": "stdout",
     "output_type": "stream",
     "text": [
      "Traitement : https://ec.europa.eu/info/funding-tenders/opportunities/portal/screen/opportunities/competitive-calls-cs/11203?isExactMatch=true&status=31094501,31094502&order=DESC&pageNumber=3&pageSize=50&sortBy=startDate\n"
     ]
    },
    {
     "name": "stdout",
     "output_type": "stream",
     "text": [
      "Traitement : https://ec.europa.eu/info/funding-tenders/opportunities/portal/screen/opportunities/competitive-calls-cs/11148?isExactMatch=true&status=31094501,31094502&order=DESC&pageNumber=3&pageSize=50&sortBy=startDate\n"
     ]
    },
    {
     "name": "stdout",
     "output_type": "stream",
     "text": [
      "Traitement : https://ec.europa.eu/info/funding-tenders/opportunities/portal/screen/opportunities/competitive-calls-cs/11152?isExactMatch=true&status=31094501,31094502&order=DESC&pageNumber=3&pageSize=50&sortBy=startDate\n"
     ]
    },
    {
     "name": "stdout",
     "output_type": "stream",
     "text": [
      "Traitement : https://ec.europa.eu/info/funding-tenders/opportunities/portal/screen/opportunities/competitive-calls-cs/11147?isExactMatch=true&status=31094501,31094502&order=DESC&pageNumber=3&pageSize=50&sortBy=startDate\n"
     ]
    },
    {
     "name": "stdout",
     "output_type": "stream",
     "text": [
      "Traitement : https://ec.europa.eu/info/funding-tenders/opportunities/portal/screen/opportunities/competitive-calls-cs/11164?isExactMatch=true&status=31094501,31094502&order=DESC&pageNumber=3&pageSize=50&sortBy=startDate\n"
     ]
    },
    {
     "name": "stdout",
     "output_type": "stream",
     "text": [
      "Traitement : https://ec.europa.eu/info/funding-tenders/opportunities/portal/screen/opportunities/topic-details/CERV-2025-CITIZENS-REM-GENCRIME?isExactMatch=true&status=31094501,31094502&order=DESC&pageNumber=3&pageSize=50&sortBy=startDate\n"
     ]
    },
    {
     "name": "stdout",
     "output_type": "stream",
     "text": [
      "Traitement : https://ec.europa.eu/info/funding-tenders/opportunities/portal/screen/opportunities/topic-details/CERV-2025-CITIZENS-REM-HOLOCAUSTJEW?isExactMatch=true&status=31094501,31094502&order=DESC&pageNumber=3&pageSize=50&sortBy=startDate\n"
     ]
    },
    {
     "name": "stdout",
     "output_type": "stream",
     "text": [
      "Traitement : https://ec.europa.eu/info/funding-tenders/opportunities/portal/screen/opportunities/topic-details/CERV-2025-CITIZENS-REM-HISTMIGRATION?isExactMatch=true&status=31094501,31094502&order=DESC&pageNumber=3&pageSize=50&sortBy=startDate\n"
     ]
    },
    {
     "name": "stdout",
     "output_type": "stream",
     "text": [
      "Traitement : https://ec.europa.eu/info/funding-tenders/opportunities/portal/screen/opportunities/topic-details/CERV-2025-CITIZENS-REM-TRANSITION?isExactMatch=true&status=31094501,31094502&order=DESC&pageNumber=3&pageSize=50&sortBy=startDate\n"
     ]
    },
    {
     "name": "stdout",
     "output_type": "stream",
     "text": [
      "Traitement : https://ec.europa.eu/info/funding-tenders/opportunities/portal/screen/opportunities/competitive-calls-cs/11082?isExactMatch=true&status=31094501,31094502&order=DESC&pageNumber=3&pageSize=50&sortBy=startDate\n"
     ]
    },
    {
     "name": "stdout",
     "output_type": "stream",
     "text": [
      "Traitement : https://ec.europa.eu/info/funding-tenders/opportunities/portal/screen/opportunities/competitive-calls-cs/11081?isExactMatch=true&status=31094501,31094502&order=DESC&pageNumber=3&pageSize=50&sortBy=startDate\n"
     ]
    },
    {
     "name": "stdout",
     "output_type": "stream",
     "text": [
      "Traitement : https://ec.europa.eu/info/funding-tenders/opportunities/portal/screen/opportunities/competitive-calls-cs/11150?isExactMatch=true&status=31094501,31094502&order=DESC&pageNumber=3&pageSize=50&sortBy=startDate\n"
     ]
    },
    {
     "name": "stdout",
     "output_type": "stream",
     "text": [
      "Traitement : https://ec.europa.eu/info/funding-tenders/opportunities/portal/screen/opportunities/topic-details/RFCS-2025-02-AM?isExactMatch=true&status=31094501,31094502&order=DESC&pageNumber=3&pageSize=50&sortBy=startDate\n"
     ]
    },
    {
     "name": "stdout",
     "output_type": "stream",
     "text": [
      "Traitement : https://ec.europa.eu/info/funding-tenders/opportunities/portal/screen/opportunities/topic-details/RFCS-2025-02-RPJ?isExactMatch=true&status=31094501,31094502&order=DESC&pageNumber=3&pageSize=50&sortBy=startDate\n"
     ]
    },
    {
     "name": "stdout",
     "output_type": "stream",
     "text": [
      "Traitement : https://ec.europa.eu/info/funding-tenders/opportunities/portal/screen/opportunities/topic-details/RFCS-2025-01-RPJ?isExactMatch=true&status=31094501,31094502&order=DESC&pageNumber=3&pageSize=50&sortBy=startDate\n"
     ]
    },
    {
     "name": "stdout",
     "output_type": "stream",
     "text": [
      "Traitement : https://ec.europa.eu/info/funding-tenders/opportunities/portal/screen/opportunities/topic-details/RFCS-2025-01-PDP?isExactMatch=true&status=31094501,31094502&order=DESC&pageNumber=3&pageSize=50&sortBy=startDate\n"
     ]
    },
    {
     "name": "stdout",
     "output_type": "stream",
     "text": [
      "Traitement : https://ec.europa.eu/info/funding-tenders/opportunities/portal/screen/opportunities/topic-details/RFCS-2025-01-AM?isExactMatch=true&status=31094501,31094502&order=DESC&pageNumber=3&pageSize=50&sortBy=startDate\n"
     ]
    },
    {
     "name": "stdout",
     "output_type": "stream",
     "text": [
      "Traitement : https://ec.europa.eu/info/funding-tenders/opportunities/portal/screen/opportunities/topic-details/RFCS-2025-02-PDP?isExactMatch=true&status=31094501,31094502&order=DESC&pageNumber=3&pageSize=50&sortBy=startDate\n"
     ]
    },
    {
     "name": "stdout",
     "output_type": "stream",
     "text": [
      "Traitement : https://ec.europa.eu/info/funding-tenders/opportunities/portal/screen/opportunities/competitive-calls-cs/11167?isExactMatch=true&status=31094501,31094502&order=DESC&pageNumber=3&pageSize=50&sortBy=startDate\n"
     ]
    },
    {
     "name": "stdout",
     "output_type": "stream",
     "text": [
      "Traitement : https://ec.europa.eu/info/funding-tenders/opportunities/portal/screen/opportunities/topic-details/HORIZON-JU-SNS-2025-02-STREAM-D-01?isExactMatch=true&status=31094501,31094502&order=DESC&pageNumber=3&pageSize=50&sortBy=startDate\n"
     ]
    },
    {
     "name": "stdout",
     "output_type": "stream",
     "text": [
      "Traitement : https://ec.europa.eu/info/funding-tenders/opportunities/portal/screen/opportunities/competitive-calls-cs/11141?isExactMatch=true&status=31094501,31094502&order=DESC&pageNumber=3&pageSize=50&sortBy=startDate\n"
     ]
    },
    {
     "name": "stdout",
     "output_type": "stream",
     "text": [
      "Traitement : https://ec.europa.eu/info/funding-tenders/opportunities/portal/screen/opportunities/competitive-calls-cs/11163?isExactMatch=true&status=31094501,31094502&order=DESC&pageNumber=3&pageSize=50&sortBy=startDate\n"
     ]
    },
    {
     "name": "stdout",
     "output_type": "stream",
     "text": [
      "Traitement : https://ec.europa.eu/info/funding-tenders/opportunities/portal/screen/opportunities/topic-details/HORIZON-EIT-2025-PRIZE-WIP-LEADERSHIP?isExactMatch=true&status=31094501,31094502&order=DESC&pageNumber=3&pageSize=50&sortBy=startDate\n"
     ]
    },
    {
     "name": "stdout",
     "output_type": "stream",
     "text": [
      "Traitement : https://ec.europa.eu/info/funding-tenders/opportunities/portal/screen/opportunities/topic-details/CERV-2025-OG-DISA-FPA?isExactMatch=true&status=31094501,31094502&order=DESC&pageNumber=3&pageSize=50&sortBy=startDate\n"
     ]
    },
    {
     "name": "stdout",
     "output_type": "stream",
     "text": [
      "Traitement : https://ec.europa.eu/info/funding-tenders/opportunities/portal/screen/opportunities/topic-details/CERV-2025-OG-DISA-SGA?isExactMatch=true&status=31094501,31094502&order=DESC&pageNumber=3&pageSize=50&sortBy=startDate\n"
     ]
    },
    {
     "name": "stdout",
     "output_type": "stream",
     "text": [
      "Traitement : https://ec.europa.eu/info/funding-tenders/opportunities/portal/screen/opportunities/topic-details/HORIZON-JU-IHI-2025-11-04-two-stage?isExactMatch=true&status=31094501,31094502&order=DESC&pageNumber=3&pageSize=50&sortBy=startDate\n"
     ]
    },
    {
     "name": "stdout",
     "output_type": "stream",
     "text": [
      "Traitement : https://ec.europa.eu/info/funding-tenders/opportunities/portal/screen/opportunities/topic-details/HORIZON-JU-IHI-2025-11-02-two-stage?isExactMatch=true&status=31094501,31094502&order=DESC&pageNumber=3&pageSize=50&sortBy=startDate\n"
     ]
    },
    {
     "name": "stdout",
     "output_type": "stream",
     "text": [
      "Traitement : https://ec.europa.eu/info/funding-tenders/opportunities/portal/screen/opportunities/topic-details/HORIZON-JU-IHI-2025-11-03-two-stage?isExactMatch=true&status=31094501,31094502&order=DESC&pageNumber=3&pageSize=50&sortBy=startDate\n"
     ]
    },
    {
     "name": "stdout",
     "output_type": "stream",
     "text": [
      "Traitement : https://ec.europa.eu/info/funding-tenders/opportunities/portal/screen/opportunities/topic-details/HORIZON-JU-IHI-2025-11-01-two-stage?isExactMatch=true&status=31094501,31094502&order=DESC&pageNumber=3&pageSize=50&sortBy=startDate\n"
     ]
    },
    {
     "name": "stdout",
     "output_type": "stream",
     "text": [
      "Traitement : https://ec.europa.eu/info/funding-tenders/opportunities/portal/screen/opportunities/topic-details/HORIZON-JU-IHI-2025-11-05-two-stage?isExactMatch=true&status=31094501,31094502&order=DESC&pageNumber=3&pageSize=50&sortBy=startDate\n"
     ]
    },
    {
     "name": "stdout",
     "output_type": "stream",
     "text": [
      "Traitement : https://ec.europa.eu/info/funding-tenders/opportunities/portal/screen/opportunities/topic-details/HORIZON-EIC-2025-PRIZE-WIP-RisingInnovators?isExactMatch=true&status=31094501,31094502&order=DESC&pageNumber=3&pageSize=50&sortBy=startDate\n"
     ]
    },
    {
     "name": "stdout",
     "output_type": "stream",
     "text": [
      "Traitement : https://ec.europa.eu/info/funding-tenders/opportunities/portal/screen/opportunities/topic-details/HORIZON-EIC-2025-PRIZE-WIP-WomenInnovatorsCategory?isExactMatch=true&status=31094501,31094502&order=DESC&pageNumber=3&pageSize=50&sortBy=startDate\n"
     ]
    },
    {
     "name": "stdout",
     "output_type": "stream",
     "text": [
      "Traitement : https://ec.europa.eu/info/funding-tenders/opportunities/portal/screen/opportunities/topic-details/HORIZON-MSCA-2025-CITIZENS-01-01?isExactMatch=true&status=31094501,31094502&order=DESC&pageNumber=3&pageSize=50&sortBy=startDate\n"
     ]
    },
    {
     "name": "stdout",
     "output_type": "stream",
     "text": [
      "Traitement : https://ec.europa.eu/info/funding-tenders/opportunities/portal/screen/opportunities/topic-details/EUBA-EFSA-2025-BIOHAW-01?isExactMatch=true&status=31094501,31094502&order=DESC&pageNumber=3&pageSize=50&sortBy=startDate\n"
     ]
    },
    {
     "name": "stdout",
     "output_type": "stream",
     "text": [
      "Traitement : https://ec.europa.eu/info/funding-tenders/opportunities/portal/screen/opportunities/competitive-calls-cs/11162?isExactMatch=true&status=31094501,31094502&order=DESC&pageNumber=3&pageSize=50&sortBy=startDate\n"
     ]
    },
    {
     "name": "stdout",
     "output_type": "stream",
     "text": [
      "Traitement : https://ec.europa.eu/info/funding-tenders/opportunities/portal/screen/opportunities/competitive-calls-cs/11161?isExactMatch=true&status=31094501,31094502&order=DESC&pageNumber=3&pageSize=50&sortBy=startDate\n"
     ]
    },
    {
     "name": "stdout",
     "output_type": "stream",
     "text": [
      "Traitement : https://ec.europa.eu/info/funding-tenders/opportunities/portal/screen/opportunities/competitive-calls-cs/11004?isExactMatch=true&status=31094501,31094502&order=DESC&pageNumber=3&pageSize=50&sortBy=startDate\n"
     ]
    },
    {
     "name": "stdout",
     "output_type": "stream",
     "text": [
      "Traitement : https://ec.europa.eu/info/funding-tenders/opportunities/portal/screen/opportunities/topic-details/HORIZON-CL3-2025-02-CS-ECCC-02?isExactMatch=true&status=31094501,31094502&order=DESC&pageNumber=3&pageSize=50&sortBy=startDate\n"
     ]
    },
    {
     "name": "stdout",
     "output_type": "stream",
     "text": [
      "Traitement : https://ec.europa.eu/info/funding-tenders/opportunities/portal/screen/opportunities/topic-details/HORIZON-CL3-2025-02-CS-ECCC-04?isExactMatch=true&status=31094501,31094502&order=DESC&pageNumber=3&pageSize=50&sortBy=startDate\n"
     ]
    },
    {
     "name": "stdout",
     "output_type": "stream",
     "text": [
      "Traitement : https://ec.europa.eu/info/funding-tenders/opportunities/portal/screen/opportunities/topic-details/DIGITAL-ECCC-2025-DEPLOY-CYBER-08-NCC?isExactMatch=true&status=31094501,31094502&order=DESC&pageNumber=3&pageSize=50&sortBy=startDate\n"
     ]
    },
    {
     "name": "stdout",
     "output_type": "stream",
     "text": [
      "Traitement : https://ec.europa.eu/info/funding-tenders/opportunities/portal/screen/opportunities/topic-details/DIGITAL-ECCC-2025-DEPLOY-CYBER-08-CYBERHEALTH?isExactMatch=true&status=31094501,31094502&order=DESC&pageNumber=3&pageSize=50&sortBy=startDate\n"
     ]
    },
    {
     "name": "stdout",
     "output_type": "stream",
     "text": [
      "Traitement : https://ec.europa.eu/info/funding-tenders/opportunities/portal/screen/opportunities/topic-details/HORIZON-CL3-2025-02-CS-ECCC-03?isExactMatch=true&status=31094501,31094502&order=DESC&pageNumber=3&pageSize=50&sortBy=startDate\n"
     ]
    },
    {
     "name": "stdout",
     "output_type": "stream",
     "text": [
      "Traitement : https://ec.europa.eu/info/funding-tenders/opportunities/portal/screen/opportunities/topic-details/HORIZON-CL3-2025-02-CS-ECCC-05?isExactMatch=true&status=31094501,31094502&order=DESC&pageNumber=3&pageSize=50&sortBy=startDate\n"
     ]
    },
    {
     "name": "stdout",
     "output_type": "stream",
     "text": [
      "Traitement : https://ec.europa.eu/info/funding-tenders/opportunities/portal/screen/opportunities/topic-details/HORIZON-CL3-2025-02-CS-ECCC-03?isExactMatch=true&status=31094501,31094502&order=DESC&pageNumber=4&pageSize=50&sortBy=startDate\n"
     ]
    },
    {
     "name": "stdout",
     "output_type": "stream",
     "text": [
      "Traitement : https://ec.europa.eu/info/funding-tenders/opportunities/portal/screen/opportunities/topic-details/HORIZON-CL3-2025-02-CS-ECCC-05?isExactMatch=true&status=31094501,31094502&order=DESC&pageNumber=4&pageSize=50&sortBy=startDate\n"
     ]
    },
    {
     "name": "stdout",
     "output_type": "stream",
     "text": [
      "Traitement : https://ec.europa.eu/info/funding-tenders/opportunities/portal/screen/opportunities/topic-details/HORIZON-CL3-2025-02-CS-ECCC-06?isExactMatch=true&status=31094501,31094502&order=DESC&pageNumber=4&pageSize=50&sortBy=startDate\n"
     ]
    },
    {
     "name": "stdout",
     "output_type": "stream",
     "text": [
      "Traitement : https://ec.europa.eu/info/funding-tenders/opportunities/portal/screen/opportunities/topic-details/HORIZON-CL3-2025-01-SSRI-06?isExactMatch=true&status=31094501,31094502&order=DESC&pageNumber=4&pageSize=50&sortBy=startDate\n"
     ]
    },
    {
     "name": "stdout",
     "output_type": "stream",
     "text": [
      "Traitement : https://ec.europa.eu/info/funding-tenders/opportunities/portal/screen/opportunities/topic-details/HORIZON-CL3-2025-01-DRS-04?isExactMatch=true&status=31094501,31094502&order=DESC&pageNumber=4&pageSize=50&sortBy=startDate\n"
     ]
    },
    {
     "name": "stdout",
     "output_type": "stream",
     "text": [
      "Traitement : https://ec.europa.eu/info/funding-tenders/opportunities/portal/screen/opportunities/topic-details/HORIZON-CL3-2025-01-DRS-02?isExactMatch=true&status=31094501,31094502&order=DESC&pageNumber=4&pageSize=50&sortBy=startDate\n"
     ]
    },
    {
     "name": "stdout",
     "output_type": "stream",
     "text": [
      "Traitement : https://ec.europa.eu/info/funding-tenders/opportunities/portal/screen/opportunities/topic-details/HORIZON-CL3-2025-01-BM-03?isExactMatch=true&status=31094501,31094502&order=DESC&pageNumber=4&pageSize=50&sortBy=startDate\n"
     ]
    },
    {
     "name": "stdout",
     "output_type": "stream",
     "text": [
      "Traitement : https://ec.europa.eu/info/funding-tenders/opportunities/portal/screen/opportunities/topic-details/HORIZON-CL3-2025-01-SSRI-03?isExactMatch=true&status=31094501,31094502&order=DESC&pageNumber=4&pageSize=50&sortBy=startDate\n"
     ]
    },
    {
     "name": "stdout",
     "output_type": "stream",
     "text": [
      "Traitement : https://ec.europa.eu/info/funding-tenders/opportunities/portal/screen/opportunities/topic-details/HORIZON-CL3-2025-01-DRS-03?isExactMatch=true&status=31094501,31094502&order=DESC&pageNumber=4&pageSize=50&sortBy=startDate\n"
     ]
    },
    {
     "name": "stdout",
     "output_type": "stream",
     "text": [
      "Traitement : https://ec.europa.eu/info/funding-tenders/opportunities/portal/screen/opportunities/topic-details/HORIZON-CL3-2025-01-SSRI-01?isExactMatch=true&status=31094501,31094502&order=DESC&pageNumber=4&pageSize=50&sortBy=startDate\n"
     ]
    },
    {
     "name": "stdout",
     "output_type": "stream",
     "text": [
      "Traitement : https://ec.europa.eu/info/funding-tenders/opportunities/portal/screen/opportunities/topic-details/HORIZON-CL3-2025-01-DRS-01?isExactMatch=true&status=31094501,31094502&order=DESC&pageNumber=4&pageSize=50&sortBy=startDate\n"
     ]
    },
    {
     "name": "stdout",
     "output_type": "stream",
     "text": [
      "Traitement : https://ec.europa.eu/info/funding-tenders/opportunities/portal/screen/opportunities/topic-details/HORIZON-CL3-2025-01-SSRI-04?isExactMatch=true&status=31094501,31094502&order=DESC&pageNumber=4&pageSize=50&sortBy=startDate\n"
     ]
    },
    {
     "name": "stdout",
     "output_type": "stream",
     "text": [
      "Traitement : https://ec.europa.eu/info/funding-tenders/opportunities/portal/screen/opportunities/topic-details/HORIZON-CL3-2025-01-FCT-02?isExactMatch=true&status=31094501,31094502&order=DESC&pageNumber=4&pageSize=50&sortBy=startDate\n"
     ]
    },
    {
     "name": "stdout",
     "output_type": "stream",
     "text": [
      "Traitement : https://ec.europa.eu/info/funding-tenders/opportunities/portal/screen/opportunities/topic-details/HORIZON-CL3-2025-01-FCT-03?isExactMatch=true&status=31094501,31094502&order=DESC&pageNumber=4&pageSize=50&sortBy=startDate\n"
     ]
    },
    {
     "name": "stdout",
     "output_type": "stream",
     "text": [
      "Traitement : https://ec.europa.eu/info/funding-tenders/opportunities/portal/screen/opportunities/topic-details/HORIZON-CL3-2025-01-SSRI-02?isExactMatch=true&status=31094501,31094502&order=DESC&pageNumber=4&pageSize=50&sortBy=startDate\n"
     ]
    },
    {
     "name": "stdout",
     "output_type": "stream",
     "text": [
      "Traitement : https://ec.europa.eu/info/funding-tenders/opportunities/portal/screen/opportunities/topic-details/HORIZON-CL3-2025-01-INFRA-02?isExactMatch=true&status=31094501,31094502&order=DESC&pageNumber=4&pageSize=50&sortBy=startDate\n"
     ]
    },
    {
     "name": "stdout",
     "output_type": "stream",
     "text": [
      "Traitement : https://ec.europa.eu/info/funding-tenders/opportunities/portal/screen/opportunities/topic-details/HORIZON-CL3-2025-01-BM-01?isExactMatch=true&status=31094501,31094502&order=DESC&pageNumber=4&pageSize=50&sortBy=startDate\n"
     ]
    },
    {
     "name": "stdout",
     "output_type": "stream",
     "text": [
      "Traitement : https://ec.europa.eu/info/funding-tenders/opportunities/portal/screen/opportunities/topic-details/HORIZON-CL3-2025-01-FCT-01?isExactMatch=true&status=31094501,31094502&order=DESC&pageNumber=4&pageSize=50&sortBy=startDate\n"
     ]
    },
    {
     "name": "stdout",
     "output_type": "stream",
     "text": [
      "Traitement : https://ec.europa.eu/info/funding-tenders/opportunities/portal/screen/opportunities/topic-details/HORIZON-CL3-2025-01-SSRI-05?isExactMatch=true&status=31094501,31094502&order=DESC&pageNumber=4&pageSize=50&sortBy=startDate\n"
     ]
    },
    {
     "name": "stdout",
     "output_type": "stream",
     "text": [
      "Traitement : https://ec.europa.eu/info/funding-tenders/opportunities/portal/screen/opportunities/topic-details/HORIZON-CL3-2025-01-FCT-04?isExactMatch=true&status=31094501,31094502&order=DESC&pageNumber=4&pageSize=50&sortBy=startDate\n"
     ]
    },
    {
     "name": "stdout",
     "output_type": "stream",
     "text": [
      "Traitement : https://ec.europa.eu/info/funding-tenders/opportunities/portal/screen/opportunities/topic-details/HORIZON-CL3-2025-01-BM-02?isExactMatch=true&status=31094501,31094502&order=DESC&pageNumber=4&pageSize=50&sortBy=startDate\n"
     ]
    },
    {
     "name": "stdout",
     "output_type": "stream",
     "text": [
      "Traitement : https://ec.europa.eu/info/funding-tenders/opportunities/portal/screen/opportunities/topic-details/HORIZON-CL3-2025-01-INFRA-01?isExactMatch=true&status=31094501,31094502&order=DESC&pageNumber=4&pageSize=50&sortBy=startDate\n"
     ]
    },
    {
     "name": "stdout",
     "output_type": "stream",
     "text": [
      "Traitement : https://ec.europa.eu/info/funding-tenders/opportunities/portal/screen/opportunities/topic-details/HORIZON-WIDERA-2025-02-ACCESS-01?isExactMatch=true&status=31094501,31094502&order=DESC&pageNumber=4&pageSize=50&sortBy=startDate\n"
     ]
    },
    {
     "name": "stdout",
     "output_type": "stream",
     "text": [
      "Traitement : https://ec.europa.eu/info/funding-tenders/opportunities/portal/screen/opportunities/competitive-calls-cs/10946?isExactMatch=true&status=31094501,31094502&order=DESC&pageNumber=4&pageSize=50&sortBy=startDate\n"
     ]
    },
    {
     "name": "stdout",
     "output_type": "stream",
     "text": [
      "Traitement : https://ec.europa.eu/info/funding-tenders/opportunities/portal/screen/opportunities/competitive-calls-cs/11126?isExactMatch=true&status=31094501,31094502&order=DESC&pageNumber=4&pageSize=50&sortBy=startDate\n"
     ]
    },
    {
     "name": "stdout",
     "output_type": "stream",
     "text": [
      "Traitement : https://ec.europa.eu/info/funding-tenders/opportunities/portal/screen/opportunities/topic-details/ERASMUS-SPORT-2025-EU-AWARDS-INCLUSION?isExactMatch=true&status=31094501,31094502&order=DESC&pageNumber=4&pageSize=50&sortBy=startDate\n"
     ]
    },
    {
     "name": "stdout",
     "output_type": "stream",
     "text": [
      "Traitement : https://ec.europa.eu/info/funding-tenders/opportunities/portal/screen/opportunities/topic-details/ERASMUS-SPORT-2025-EU-AWARDS-GENERATIONS?isExactMatch=true&status=31094501,31094502&order=DESC&pageNumber=4&pageSize=50&sortBy=startDate\n"
     ]
    },
    {
     "name": "stdout",
     "output_type": "stream",
     "text": [
      "Traitement : https://ec.europa.eu/info/funding-tenders/opportunities/portal/screen/opportunities/topic-details/ERASMUS-SPORT-2025-EU-AWARDS-PHYSICAL-ACTIVITY?isExactMatch=true&status=31094501,31094502&order=DESC&pageNumber=4&pageSize=50&sortBy=startDate\n"
     ]
    },
    {
     "name": "stdout",
     "output_type": "stream",
     "text": [
      "Traitement : https://ec.europa.eu/info/funding-tenders/opportunities/portal/screen/opportunities/topic-details/ERASMUS-SPORT-2025-EU-AWARDS-VOLUNTEERING?isExactMatch=true&status=31094501,31094502&order=DESC&pageNumber=4&pageSize=50&sortBy=startDate\n"
     ]
    },
    {
     "name": "stdout",
     "output_type": "stream",
     "text": [
      "Traitement : https://ec.europa.eu/info/funding-tenders/opportunities/portal/screen/opportunities/topic-details/ERASMUS-SPORT-2025-EU-AWARDS-PEACE?isExactMatch=true&status=31094501,31094502&order=DESC&pageNumber=4&pageSize=50&sortBy=startDate\n"
     ]
    },
    {
     "name": "stdout",
     "output_type": "stream",
     "text": [
      "Traitement : https://ec.europa.eu/info/funding-tenders/opportunities/portal/screen/opportunities/competitive-calls-cs/11064?isExactMatch=true&status=31094501,31094502&order=DESC&pageNumber=4&pageSize=50&sortBy=startDate\n"
     ]
    },
    {
     "name": "stdout",
     "output_type": "stream",
     "text": [
      "Traitement : https://ec.europa.eu/info/funding-tenders/opportunities/portal/screen/opportunities/competitive-calls-cs/11142?isExactMatch=true&status=31094501,31094502&order=DESC&pageNumber=4&pageSize=50&sortBy=startDate\n"
     ]
    },
    {
     "name": "stdout",
     "output_type": "stream",
     "text": [
      "Traitement : https://ec.europa.eu/info/funding-tenders/opportunities/portal/screen/opportunities/competitive-calls-cs/11072?isExactMatch=true&status=31094501,31094502&order=DESC&pageNumber=4&pageSize=50&sortBy=startDate\n"
     ]
    },
    {
     "name": "stdout",
     "output_type": "stream",
     "text": [
      "Traitement : https://ec.europa.eu/info/funding-tenders/opportunities/portal/screen/opportunities/competitive-calls-cs/11107?isExactMatch=true&status=31094501,31094502&order=DESC&pageNumber=4&pageSize=50&sortBy=startDate\n"
     ]
    },
    {
     "name": "stdout",
     "output_type": "stream",
     "text": [
      "Traitement : https://ec.europa.eu/info/funding-tenders/opportunities/portal/screen/opportunities/topic-details/SMP-COMP-2025-JUDG?isExactMatch=true&status=31094501,31094502&order=DESC&pageNumber=4&pageSize=50&sortBy=startDate\n"
     ]
    },
    {
     "name": "stdout",
     "output_type": "stream",
     "text": [
      "Traitement : https://ec.europa.eu/info/funding-tenders/opportunities/portal/screen/opportunities/topic-details/HORIZON-CL4-2025-03-DIGITAL-EMERGING-07?isExactMatch=true&status=31094501,31094502&order=DESC&pageNumber=4&pageSize=50&sortBy=startDate\n"
     ]
    },
    {
     "name": "stdout",
     "output_type": "stream",
     "text": [
      "Traitement : https://ec.europa.eu/info/funding-tenders/opportunities/portal/screen/opportunities/topic-details/HORIZON-CL4-2025-03-MATERIALS-46?isExactMatch=true&status=31094501,31094502&order=DESC&pageNumber=4&pageSize=50&sortBy=startDate\n"
     ]
    },
    {
     "name": "stdout",
     "output_type": "stream",
     "text": [
      "Traitement : https://ec.europa.eu/info/funding-tenders/opportunities/portal/screen/opportunities/topic-details/HORIZON-CL4-2025-03-DIGITAL-EMERGING-08?isExactMatch=true&status=31094501,31094502&order=DESC&pageNumber=4&pageSize=50&sortBy=startDate\n"
     ]
    },
    {
     "name": "stdout",
     "output_type": "stream",
     "text": [
      "Traitement : https://ec.europa.eu/info/funding-tenders/opportunities/portal/screen/opportunities/topic-details/HORIZON-CL4-2025-03-DIGITAL-EMERGING-01?isExactMatch=true&status=31094501,31094502&order=DESC&pageNumber=4&pageSize=50&sortBy=startDate\n"
     ]
    },
    {
     "name": "stdout",
     "output_type": "stream",
     "text": [
      "Traitement : https://ec.europa.eu/info/funding-tenders/opportunities/portal/screen/opportunities/topic-details/HORIZON-CL4-2025-03-DATA-11?isExactMatch=true&status=31094501,31094502&order=DESC&pageNumber=4&pageSize=50&sortBy=startDate\n"
     ]
    },
    {
     "name": "stdout",
     "output_type": "stream",
     "text": [
      "Traitement : https://ec.europa.eu/info/funding-tenders/opportunities/portal/screen/opportunities/topic-details/HORIZON-CL4-2025-03-DATA-09?isExactMatch=true&status=31094501,31094502&order=DESC&pageNumber=4&pageSize=50&sortBy=startDate\n"
     ]
    },
    {
     "name": "stdout",
     "output_type": "stream",
     "text": [
      "Traitement : https://ec.europa.eu/info/funding-tenders/opportunities/portal/screen/opportunities/topic-details/HORIZON-CL4-2025-03-DATA-12?isExactMatch=true&status=31094501,31094502&order=DESC&pageNumber=4&pageSize=50&sortBy=startDate\n"
     ]
    },
    {
     "name": "stdout",
     "output_type": "stream",
     "text": [
      "Traitement : https://ec.europa.eu/info/funding-tenders/opportunities/portal/screen/opportunities/topic-details/HORIZON-CL4-2025-03-DATA-10?isExactMatch=true&status=31094501,31094502&order=DESC&pageNumber=4&pageSize=50&sortBy=startDate\n"
     ]
    },
    {
     "name": "stdout",
     "output_type": "stream",
     "text": [
      "Traitement : https://ec.europa.eu/info/funding-tenders/opportunities/portal/screen/opportunities/topic-details/HORIZON-CL4-2025-03-HUMAN-18?isExactMatch=true&status=31094501,31094502&order=DESC&pageNumber=4&pageSize=50&sortBy=startDate\n"
     ]
    },
    {
     "name": "stdout",
     "output_type": "stream",
     "text": [
      "Traitement : https://ec.europa.eu/info/funding-tenders/opportunities/portal/screen/opportunities/topic-details/HORIZON-CL4-2025-03-DIGITAL-EMERGING-09?isExactMatch=true&status=31094501,31094502&order=DESC&pageNumber=4&pageSize=50&sortBy=startDate\n"
     ]
    },
    {
     "name": "stdout",
     "output_type": "stream",
     "text": [
      "Traitement : https://ec.europa.eu/info/funding-tenders/opportunities/portal/screen/opportunities/topic-details/HORIZON-CL4-2025-03-DIGITAL-EMERGING-03?isExactMatch=true&status=31094501,31094502&order=DESC&pageNumber=4&pageSize=50&sortBy=startDate\n"
     ]
    },
    {
     "name": "stdout",
     "output_type": "stream",
     "text": [
      "Traitement : https://ec.europa.eu/info/funding-tenders/opportunities/portal/screen/opportunities/topic-details/HORIZON-CL4-2025-03-MATERIALS-47?isExactMatch=true&status=31094501,31094502&order=DESC&pageNumber=4&pageSize=50&sortBy=startDate\n"
     ]
    },
    {
     "name": "stdout",
     "output_type": "stream",
     "text": [
      "Traitement : https://ec.europa.eu/info/funding-tenders/opportunities/portal/screen/opportunities/topic-details/HORIZON-JU-EUROHPC-2026-COE-LH-01-01?isExactMatch=true&status=31094501,31094502&order=DESC&pageNumber=4&pageSize=50&sortBy=startDate\n"
     ]
    },
    {
     "name": "stdout",
     "output_type": "stream",
     "text": [
      "Traitement : https://ec.europa.eu/info/funding-tenders/opportunities/portal/screen/opportunities/topic-details/HORIZON-CL4-2025-03-HUMAN-17?isExactMatch=true&status=31094501,31094502&order=DESC&pageNumber=4&pageSize=50&sortBy=startDate\n"
     ]
    },
    {
     "name": "stdout",
     "output_type": "stream",
     "text": [
      "Traitement : https://ec.europa.eu/info/funding-tenders/opportunities/portal/screen/opportunities/topic-details/HORIZON-CL4-2025-03-DIGITAL-EMERGING-04?isExactMatch=true&status=31094501,31094502&order=DESC&pageNumber=4&pageSize=50&sortBy=startDate\n"
     ]
    },
    {
     "name": "stdout",
     "output_type": "stream",
     "text": [
      "Traitement : https://ec.europa.eu/info/funding-tenders/opportunities/portal/screen/opportunities/topic-details/HORIZON-JU-EUROHPC-2026-COE-LH-01-03?isExactMatch=true&status=31094501,31094502&order=DESC&pageNumber=5&pageSize=50&sortBy=startDate\n"
     ]
    },
    {
     "name": "stdout",
     "output_type": "stream",
     "text": [
      "Traitement : https://ec.europa.eu/info/funding-tenders/opportunities/portal/screen/opportunities/topic-details/HORIZON-JU-EUROHPC-2026-COE-LH-01-02?isExactMatch=true&status=31094501,31094502&order=DESC&pageNumber=5&pageSize=50&sortBy=startDate\n"
     ]
    },
    {
     "name": "stdout",
     "output_type": "stream",
     "text": [
      "Traitement : https://ec.europa.eu/info/funding-tenders/opportunities/portal/screen/opportunities/topic-details/HORIZON-CL4-2025-03-DIGITAL-EMERGING-02?isExactMatch=true&status=31094501,31094502&order=DESC&pageNumber=5&pageSize=50&sortBy=startDate\n"
     ]
    },
    {
     "name": "stdout",
     "output_type": "stream",
     "text": [
      "Traitement : https://ec.europa.eu/info/funding-tenders/opportunities/portal/screen/opportunities/topic-details/HORIZON-CL4-2025-03-HUMAN-14?isExactMatch=true&status=31094501,31094502&order=DESC&pageNumber=5&pageSize=50&sortBy=startDate\n"
     ]
    },
    {
     "name": "stdout",
     "output_type": "stream",
     "text": [
      "Traitement : https://ec.europa.eu/info/funding-tenders/opportunities/portal/screen/opportunities/topic-details/HORIZON-CL4-2025-03-HUMAN-16?isExactMatch=true&status=31094501,31094502&order=DESC&pageNumber=5&pageSize=50&sortBy=startDate\n"
     ]
    },
    {
     "name": "stdout",
     "output_type": "stream",
     "text": [
      "Traitement : https://ec.europa.eu/info/funding-tenders/opportunities/portal/screen/opportunities/topic-details/HORIZON-CL4-2025-03-DATA-08?isExactMatch=true&status=31094501,31094502&order=DESC&pageNumber=5&pageSize=50&sortBy=startDate\n"
     ]
    },
    {
     "name": "stdout",
     "output_type": "stream",
     "text": [
      "Traitement : https://ec.europa.eu/info/funding-tenders/opportunities/portal/screen/opportunities/topic-details/HORIZON-CL4-2025-03-HUMAN-19?isExactMatch=true&status=31094501,31094502&order=DESC&pageNumber=5&pageSize=50&sortBy=startDate\n"
     ]
    },
    {
     "name": "stderr",
     "output_type": "stream",
     "text": [
      "There was an error managing chrome (request or response body error: operation timed out); using driver found in the cache\n"
     ]
    },
    {
     "name": "stdout",
     "output_type": "stream",
     "text": [
      "Traitement : https://ec.europa.eu/info/funding-tenders/opportunities/portal/screen/opportunities/topic-details/HORIZON-CL4-2025-03-DATA-13?isExactMatch=true&status=31094501,31094502&order=DESC&pageNumber=5&pageSize=50&sortBy=startDate\n"
     ]
    },
    {
     "name": "stdout",
     "output_type": "stream",
     "text": [
      "Traitement : https://ec.europa.eu/info/funding-tenders/opportunities/portal/screen/opportunities/topic-details/HORIZON-CL4-2025-03-HUMAN-15?isExactMatch=true&status=31094501,31094502&order=DESC&pageNumber=5&pageSize=50&sortBy=startDate\n"
     ]
    },
    {
     "name": "stdout",
     "output_type": "stream",
     "text": [
      "Traitement : https://ec.europa.eu/info/funding-tenders/opportunities/portal/screen/opportunities/topic-details/HORIZON-CL4-2025-04-DIGITAL-EMERGING-05?isExactMatch=true&status=31094501,31094502&order=DESC&pageNumber=5&pageSize=50&sortBy=startDate\n"
     ]
    },
    {
     "name": "stdout",
     "output_type": "stream",
     "text": [
      "Traitement : https://ec.europa.eu/info/funding-tenders/opportunities/portal/screen/opportunities/topic-details/HORIZON-CL4-2025-04-DIGITAL-EMERGING-07?isExactMatch=true&status=31094501,31094502&order=DESC&pageNumber=5&pageSize=50&sortBy=startDate\n"
     ]
    },
    {
     "name": "stdout",
     "output_type": "stream",
     "text": [
      "Traitement : https://ec.europa.eu/info/funding-tenders/opportunities/portal/screen/opportunities/topic-details/HORIZON-CL4-2025-04-DATA-02?isExactMatch=true&status=31094501,31094502&order=DESC&pageNumber=5&pageSize=50&sortBy=startDate\n"
     ]
    },
    {
     "name": "stdout",
     "output_type": "stream",
     "text": [
      "Traitement : https://ec.europa.eu/info/funding-tenders/opportunities/portal/screen/opportunities/topic-details/HORIZON-CL4-2025-04-DIGITAL-EMERGING-01?isExactMatch=true&status=31094501,31094502&order=DESC&pageNumber=5&pageSize=50&sortBy=startDate\n"
     ]
    },
    {
     "name": "stdout",
     "output_type": "stream",
     "text": [
      "Traitement : https://ec.europa.eu/info/funding-tenders/opportunities/portal/screen/opportunities/topic-details/HORIZON-CL4-2025-04-DIGITAL-EMERGING-04?isExactMatch=true&status=31094501,31094502&order=DESC&pageNumber=5&pageSize=50&sortBy=startDate\n"
     ]
    },
    {
     "name": "stdout",
     "output_type": "stream",
     "text": [
      "Traitement : https://ec.europa.eu/info/funding-tenders/opportunities/portal/screen/opportunities/topic-details/HORIZON-CL4-2025-04-HUMAN-08?isExactMatch=true&status=31094501,31094502&order=DESC&pageNumber=5&pageSize=50&sortBy=startDate\n"
     ]
    },
    {
     "name": "stdout",
     "output_type": "stream",
     "text": [
      "Traitement : https://ec.europa.eu/info/funding-tenders/opportunities/portal/screen/opportunities/topic-details/HORIZON-CL4-2025-04-DATA-03?isExactMatch=true&status=31094501,31094502&order=DESC&pageNumber=5&pageSize=50&sortBy=startDate\n"
     ]
    },
    {
     "name": "stdout",
     "output_type": "stream",
     "text": [
      "Traitement : https://ec.europa.eu/info/funding-tenders/opportunities/portal/screen/opportunities/competitive-calls-cs/11066?isExactMatch=true&status=31094501,31094502&order=DESC&pageNumber=5&pageSize=50&sortBy=startDate\n"
     ]
    },
    {
     "name": "stdout",
     "output_type": "stream",
     "text": [
      "Traitement : https://ec.europa.eu/info/funding-tenders/opportunities/portal/screen/opportunities/competitive-calls-cs/11076?isExactMatch=true&status=31094501,31094502&order=DESC&pageNumber=5&pageSize=50&sortBy=startDate\n"
     ]
    },
    {
     "name": "stdout",
     "output_type": "stream",
     "text": [
      "Traitement : https://ec.europa.eu/info/funding-tenders/opportunities/portal/screen/opportunities/competitive-calls-cs/11070?isExactMatch=true&status=31094501,31094502&order=DESC&pageNumber=5&pageSize=50&sortBy=startDate\n"
     ]
    },
    {
     "name": "stdout",
     "output_type": "stream",
     "text": [
      "Traitement : https://ec.europa.eu/info/funding-tenders/opportunities/portal/screen/opportunities/competitive-calls-cs/11122?isExactMatch=true&status=31094501,31094502&order=DESC&pageNumber=5&pageSize=50&sortBy=startDate\n"
     ]
    },
    {
     "name": "stdout",
     "output_type": "stream",
     "text": [
      "Traitement : https://ec.europa.eu/info/funding-tenders/opportunities/portal/screen/opportunities/competitive-calls-cs/11121?isExactMatch=true&status=31094501,31094502&order=DESC&pageNumber=5&pageSize=50&sortBy=startDate\n"
     ]
    },
    {
     "name": "stdout",
     "output_type": "stream",
     "text": [
      "Traitement : https://ec.europa.eu/info/funding-tenders/opportunities/portal/screen/opportunities/competitive-calls-cs/11104?isExactMatch=true&status=31094501,31094502&order=DESC&pageNumber=5&pageSize=50&sortBy=startDate\n"
     ]
    },
    {
     "name": "stdout",
     "output_type": "stream",
     "text": [
      "Traitement : https://ec.europa.eu/info/funding-tenders/opportunities/portal/screen/opportunities/competitive-calls-cs/11080?isExactMatch=true&status=31094501,31094502&order=DESC&pageNumber=5&pageSize=50&sortBy=startDate\n"
     ]
    },
    {
     "name": "stdout",
     "output_type": "stream",
     "text": [
      "Traitement : https://ec.europa.eu/info/funding-tenders/opportunities/portal/screen/opportunities/topic-details/DIGITAL-JU-CHIPS-2025-CSA-DET?isExactMatch=true&status=31094501,31094502&order=DESC&pageNumber=5&pageSize=50&sortBy=startDate\n"
     ]
    },
    {
     "name": "stdout",
     "output_type": "stream",
     "text": [
      "Traitement : https://ec.europa.eu/info/funding-tenders/opportunities/portal/screen/opportunities/topic-details/EURATOM-2026-SOFT-PRIZE?isExactMatch=true&status=31094501,31094502&order=DESC&pageNumber=5&pageSize=50&sortBy=startDate\n"
     ]
    },
    {
     "name": "stdout",
     "output_type": "stream",
     "text": [
      "Traitement : https://ec.europa.eu/info/funding-tenders/opportunities/portal/screen/opportunities/competitive-calls-cs/10381?isExactMatch=true&status=31094501,31094502&order=DESC&pageNumber=5&pageSize=50&sortBy=startDate\n"
     ]
    },
    {
     "name": "stdout",
     "output_type": "stream",
     "text": [
      "Traitement : https://ec.europa.eu/info/funding-tenders/opportunities/portal/screen/opportunities/competitive-calls-cs/10926?isExactMatch=true&status=31094501,31094502&order=DESC&pageNumber=5&pageSize=50&sortBy=startDate\n"
     ]
    },
    {
     "name": "stdout",
     "output_type": "stream",
     "text": [
      "Traitement : https://ec.europa.eu/info/funding-tenders/opportunities/portal/screen/opportunities/competitive-calls-cs/11067?isExactMatch=true&status=31094501,31094502&order=DESC&pageNumber=5&pageSize=50&sortBy=startDate\n"
     ]
    },
    {
     "name": "stdout",
     "output_type": "stream",
     "text": [
      "Traitement : https://ec.europa.eu/info/funding-tenders/opportunities/portal/screen/opportunities/competitive-calls-cs/11065?isExactMatch=true&status=31094501,31094502&order=DESC&pageNumber=5&pageSize=50&sortBy=startDate\n"
     ]
    },
    {
     "name": "stdout",
     "output_type": "stream",
     "text": [
      "Traitement : https://ec.europa.eu/info/funding-tenders/opportunities/portal/screen/opportunities/competitive-calls-cs/11102?isExactMatch=true&status=31094501,31094502&order=DESC&pageNumber=5&pageSize=50&sortBy=startDate\n"
     ]
    },
    {
     "name": "stdout",
     "output_type": "stream",
     "text": [
      "Traitement : https://ec.europa.eu/info/funding-tenders/opportunities/portal/screen/opportunities/competitive-calls-cs/11108?isExactMatch=true&status=31094501,31094502&order=DESC&pageNumber=5&pageSize=50&sortBy=startDate\n"
     ]
    },
    {
     "name": "stdout",
     "output_type": "stream",
     "text": [
      "Traitement : https://ec.europa.eu/info/funding-tenders/opportunities/portal/screen/opportunities/competitive-calls-cs/11090?isExactMatch=true&status=31094501,31094502&order=DESC&pageNumber=5&pageSize=50&sortBy=startDate\n"
     ]
    },
    {
     "name": "stdout",
     "output_type": "stream",
     "text": [
      "Traitement : https://ec.europa.eu/info/funding-tenders/opportunities/portal/screen/opportunities/competitive-calls-cs/11078?isExactMatch=true&status=31094501,31094502&order=DESC&pageNumber=5&pageSize=50&sortBy=startDate\n"
     ]
    },
    {
     "name": "stdout",
     "output_type": "stream",
     "text": [
      "Traitement : https://ec.europa.eu/info/funding-tenders/opportunities/portal/screen/opportunities/competitive-calls-cs/11103?isExactMatch=true&status=31094501,31094502&order=DESC&pageNumber=5&pageSize=50&sortBy=startDate\n"
     ]
    },
    {
     "name": "stdout",
     "output_type": "stream",
     "text": [
      "Traitement : https://ec.europa.eu/info/funding-tenders/opportunities/portal/screen/opportunities/competitive-calls-cs/11105?isExactMatch=true&status=31094501,31094502&order=DESC&pageNumber=5&pageSize=50&sortBy=startDate\n"
     ]
    },
    {
     "name": "stdout",
     "output_type": "stream",
     "text": [
      "Traitement : https://ec.europa.eu/info/funding-tenders/opportunities/portal/screen/opportunities/competitive-calls-cs/10464?isExactMatch=true&status=31094501,31094502&order=DESC&pageNumber=5&pageSize=50&sortBy=startDate\n"
     ]
    },
    {
     "name": "stdout",
     "output_type": "stream",
     "text": [
      "Traitement : https://ec.europa.eu/info/funding-tenders/opportunities/portal/screen/opportunities/competitive-calls-cs/10462?isExactMatch=true&status=31094501,31094502&order=DESC&pageNumber=5&pageSize=50&sortBy=startDate\n"
     ]
    },
    {
     "name": "stdout",
     "output_type": "stream",
     "text": [
      "Traitement : https://ec.europa.eu/info/funding-tenders/opportunities/portal/screen/opportunities/competitive-calls-cs/10928?isExactMatch=true&status=31094501,31094502&order=DESC&pageNumber=5&pageSize=50&sortBy=startDate\n"
     ]
    },
    {
     "name": "stdout",
     "output_type": "stream",
     "text": [
      "Traitement : https://ec.europa.eu/info/funding-tenders/opportunities/portal/screen/opportunities/competitive-calls-cs/10468?isExactMatch=true&status=31094501,31094502&order=DESC&pageNumber=5&pageSize=50&sortBy=startDate\n"
     ]
    },
    {
     "name": "stdout",
     "output_type": "stream",
     "text": [
      "Traitement : https://ec.europa.eu/info/funding-tenders/opportunities/portal/screen/opportunities/competitive-calls-cs/11083?isExactMatch=true&status=31094501,31094502&order=DESC&pageNumber=5&pageSize=50&sortBy=startDate\n"
     ]
    },
    {
     "name": "stdout",
     "output_type": "stream",
     "text": [
      "Traitement : https://ec.europa.eu/info/funding-tenders/opportunities/portal/screen/opportunities/competitive-calls-cs/11084?isExactMatch=true&status=31094501,31094502&order=DESC&pageNumber=5&pageSize=50&sortBy=startDate\n"
     ]
    },
    {
     "name": "stdout",
     "output_type": "stream",
     "text": [
      "Traitement : https://ec.europa.eu/info/funding-tenders/opportunities/portal/screen/opportunities/competitive-calls-cs/11075?isExactMatch=true&status=31094501,31094502&order=DESC&pageNumber=5&pageSize=50&sortBy=startDate\n"
     ]
    },
    {
     "name": "stdout",
     "output_type": "stream",
     "text": [
      "Traitement : https://ec.europa.eu/info/funding-tenders/opportunities/portal/screen/opportunities/topic-details/HORIZON-MSCA-2025-DN-01-01?isExactMatch=true&status=31094501,31094502&order=DESC&pageNumber=5&pageSize=50&sortBy=startDate\n"
     ]
    },
    {
     "name": "stdout",
     "output_type": "stream",
     "text": [
      "Traitement : https://ec.europa.eu/info/funding-tenders/opportunities/portal/screen/opportunities/competitive-calls-cs/11079?isExactMatch=true&status=31094501,31094502&order=DESC&pageNumber=5&pageSize=50&sortBy=startDate\n"
     ]
    },
    {
     "name": "stdout",
     "output_type": "stream",
     "text": [
      "Traitement : https://ec.europa.eu/info/funding-tenders/opportunities/portal/screen/opportunities/topic-details/CERV-2025-CHAR-LITI?isExactMatch=true&status=31094501,31094502&order=DESC&pageNumber=6&pageSize=50&sortBy=startDate\n"
     ]
    },
    {
     "name": "stdout",
     "output_type": "stream",
     "text": [
      "Traitement : https://ec.europa.eu/info/funding-tenders/opportunities/portal/screen/opportunities/competitive-calls-cs/11074?isExactMatch=true&status=31094501,31094502&order=DESC&pageNumber=6&pageSize=50&sortBy=startDate\n"
     ]
    },
    {
     "name": "stdout",
     "output_type": "stream",
     "text": [
      "Traitement : https://ec.europa.eu/info/funding-tenders/opportunities/portal/screen/opportunities/competitive-calls-cs/11073?isExactMatch=true&status=31094501,31094502&order=DESC&pageNumber=6&pageSize=50&sortBy=startDate\n"
     ]
    },
    {
     "name": "stdout",
     "output_type": "stream",
     "text": [
      "Traitement : https://ec.europa.eu/info/funding-tenders/opportunities/portal/screen/opportunities/topic-details/HORIZON-CL4-2025-02-SPACE-81?isExactMatch=true&status=31094501,31094502&order=DESC&pageNumber=6&pageSize=50&sortBy=startDate\n"
     ]
    },
    {
     "name": "stdout",
     "output_type": "stream",
     "text": [
      "Traitement : https://ec.europa.eu/info/funding-tenders/opportunities/portal/screen/opportunities/topic-details/HORIZON-CL4-INDUSTRY-2025-01-TWIN-TRANSITION-05?isExactMatch=true&status=31094501,31094502&order=DESC&pageNumber=6&pageSize=50&sortBy=startDate\n"
     ]
    },
    {
     "name": "stdout",
     "output_type": "stream",
     "text": [
      "Traitement : https://ec.europa.eu/info/funding-tenders/opportunities/portal/screen/opportunities/topic-details/HORIZON-CL4-INDUSTRY-2025-01-MATERIALS-61?isExactMatch=true&status=31094501,31094502&order=DESC&pageNumber=6&pageSize=50&sortBy=startDate\n"
     ]
    },
    {
     "name": "stdout",
     "output_type": "stream",
     "text": [
      "Traitement : https://ec.europa.eu/info/funding-tenders/opportunities/portal/screen/opportunities/topic-details/HORIZON-CL4-INDUSTRY-2025-01-TWIN-TRANSITION-32?isExactMatch=true&status=31094501,31094502&order=DESC&pageNumber=6&pageSize=50&sortBy=startDate\n"
     ]
    },
    {
     "name": "stdout",
     "output_type": "stream",
     "text": [
      "Traitement : https://ec.europa.eu/info/funding-tenders/opportunities/portal/screen/opportunities/topic-details/HORIZON-CL4-INDUSTRY-2025-01-HUMAN-60?isExactMatch=true&status=31094501,31094502&order=DESC&pageNumber=6&pageSize=50&sortBy=startDate\n"
     ]
    },
    {
     "name": "stdout",
     "output_type": "stream",
     "text": [
      "Traitement : https://ec.europa.eu/info/funding-tenders/opportunities/portal/screen/opportunities/topic-details/I3-2025-INV2a?isExactMatch=true&status=31094501,31094502&order=DESC&pageNumber=6&pageSize=50&sortBy=startDate\n"
     ]
    },
    {
     "name": "stdout",
     "output_type": "stream",
     "text": [
      "Traitement : https://ec.europa.eu/info/funding-tenders/opportunities/portal/screen/opportunities/topic-details/HORIZON-CL4-INDUSTRY-2025-01-HUMAN-61?isExactMatch=true&status=31094501,31094502&order=DESC&pageNumber=6&pageSize=50&sortBy=startDate\n"
     ]
    },
    {
     "name": "stdout",
     "output_type": "stream",
     "text": [
      "Traitement : https://ec.europa.eu/info/funding-tenders/opportunities/portal/screen/opportunities/topic-details/HORIZON-CL4-2025-05-TWIN-TRANSITION-11-two-stage?isExactMatch=true&status=31094501,31094502&order=DESC&pageNumber=6&pageSize=50&sortBy=startDate\n"
     ]
    },
    {
     "name": "stdout",
     "output_type": "stream",
     "text": [
      "Traitement : https://ec.europa.eu/info/funding-tenders/opportunities/portal/screen/opportunities/topic-details/HORIZON-CL4-2025-05-MATERIALS-42-two-stage?isExactMatch=true&status=31094501,31094502&order=DESC&pageNumber=6&pageSize=50&sortBy=startDate\n"
     ]
    },
    {
     "name": "stdout",
     "output_type": "stream",
     "text": [
      "Traitement : https://ec.europa.eu/info/funding-tenders/opportunities/portal/screen/opportunities/topic-details/HORIZON-CL4-2025-05-TWIN-TRANSITION-21-two-stage?isExactMatch=true&status=31094501,31094502&order=DESC&pageNumber=6&pageSize=50&sortBy=startDate\n"
     ]
    },
    {
     "name": "stdout",
     "output_type": "stream",
     "text": [
      "Traitement : https://ec.europa.eu/info/funding-tenders/opportunities/portal/screen/opportunities/topic-details/HORIZON-CL4-2025-05-MATERIALS-51-two-stage?isExactMatch=true&status=31094501,31094502&order=DESC&pageNumber=6&pageSize=50&sortBy=startDate\n"
     ]
    },
    {
     "name": "stdout",
     "output_type": "stream",
     "text": [
      "Traitement : https://ec.europa.eu/info/funding-tenders/opportunities/portal/screen/opportunities/topic-details/HORIZON-CL4-2025-05-MATERIALS-43-two-stage?isExactMatch=true&status=31094501,31094502&order=DESC&pageNumber=6&pageSize=50&sortBy=startDate\n"
     ]
    },
    {
     "name": "stdout",
     "output_type": "stream",
     "text": [
      "Traitement : https://ec.europa.eu/info/funding-tenders/opportunities/portal/screen/opportunities/topic-details/HORIZON-CL4-2025-05-TWIN-TRANSITION-35-two-stage?isExactMatch=true&status=31094501,31094502&order=DESC&pageNumber=6&pageSize=50&sortBy=startDate\n"
     ]
    },
    {
     "name": "stdout",
     "output_type": "stream",
     "text": [
      "Traitement : https://ec.europa.eu/info/funding-tenders/opportunities/portal/screen/opportunities/topic-details/HORIZON-CL4-INDUSTRY-2025-01-TWIN-TRANSITION-02?isExactMatch=true&status=31094501,31094502&order=DESC&pageNumber=6&pageSize=50&sortBy=startDate\n"
     ]
    },
    {
     "name": "stdout",
     "output_type": "stream",
     "text": [
      "Traitement : https://ec.europa.eu/info/funding-tenders/opportunities/portal/screen/opportunities/topic-details/ERC-2025-ADG?isExactMatch=true&status=31094501,31094502&order=DESC&pageNumber=6&pageSize=50&sortBy=startDate\n"
     ]
    },
    {
     "name": "stdout",
     "output_type": "stream",
     "text": [
      "Traitement : https://ec.europa.eu/info/funding-tenders/opportunities/portal/screen/opportunities/topic-details/HORIZON-HLTH-2025-01-DISEASE-03?isExactMatch=true&status=31094501,31094502&order=DESC&pageNumber=6&pageSize=50&sortBy=startDate\n"
     ]
    },
    {
     "name": "stdout",
     "output_type": "stream",
     "text": [
      "Traitement : https://ec.europa.eu/info/funding-tenders/opportunities/portal/screen/opportunities/topic-details/HORIZON-HLTH-2025-01-TOOL-05?isExactMatch=true&status=31094501,31094502&order=DESC&pageNumber=6&pageSize=50&sortBy=startDate\n"
     ]
    },
    {
     "name": "stdout",
     "output_type": "stream",
     "text": [
      "Traitement : https://ec.europa.eu/info/funding-tenders/opportunities/portal/screen/opportunities/topic-details/HORIZON-HLTH-2025-01-TOOL-03?isExactMatch=true&status=31094501,31094502&order=DESC&pageNumber=6&pageSize=50&sortBy=startDate\n"
     ]
    },
    {
     "name": "stdout",
     "output_type": "stream",
     "text": [
      "Traitement : https://ec.europa.eu/info/funding-tenders/opportunities/portal/screen/opportunities/topic-details/HORIZON-HLTH-2025-01-IND-02?isExactMatch=true&status=31094501,31094502&order=DESC&pageNumber=6&pageSize=50&sortBy=startDate\n"
     ]
    },
    {
     "name": "stdout",
     "output_type": "stream",
     "text": [
      "Traitement : https://ec.europa.eu/info/funding-tenders/opportunities/portal/screen/opportunities/topic-details/HORIZON-HLTH-2025-01-DISEASE-05?isExactMatch=true&status=31094501,31094502&order=DESC&pageNumber=6&pageSize=50&sortBy=startDate\n"
     ]
    },
    {
     "name": "stdout",
     "output_type": "stream",
     "text": [
      "Traitement : https://ec.europa.eu/info/funding-tenders/opportunities/portal/screen/opportunities/topic-details/HORIZON-HLTH-2025-01-DISEASE-07?isExactMatch=true&status=31094501,31094502&order=DESC&pageNumber=6&pageSize=50&sortBy=startDate\n"
     ]
    },
    {
     "name": "stdout",
     "output_type": "stream",
     "text": [
      "Traitement : https://ec.europa.eu/info/funding-tenders/opportunities/portal/screen/opportunities/topic-details/HORIZON-HLTH-2025-01-IND-01?isExactMatch=true&status=31094501,31094502&order=DESC&pageNumber=6&pageSize=50&sortBy=startDate\n"
     ]
    },
    {
     "name": "stdout",
     "output_type": "stream",
     "text": [
      "Traitement : https://ec.europa.eu/info/funding-tenders/opportunities/portal/screen/opportunities/topic-details/HORIZON-HLTH-2025-03-ENVHLTH-01-two-stage?isExactMatch=true&status=31094501,31094502&order=DESC&pageNumber=6&pageSize=50&sortBy=startDate\n"
     ]
    },
    {
     "name": "stdout",
     "output_type": "stream",
     "text": [
      "Traitement : https://ec.europa.eu/info/funding-tenders/opportunities/portal/screen/opportunities/topic-details/HORIZON-HLTH-2025-01-DISEASE-06?isExactMatch=true&status=31094501,31094502&order=DESC&pageNumber=6&pageSize=50&sortBy=startDate\n"
     ]
    },
    {
     "name": "stdout",
     "output_type": "stream",
     "text": [
      "Traitement : https://ec.europa.eu/info/funding-tenders/opportunities/portal/screen/opportunities/topic-details/HORIZON-HLTH-2025-01-DISEASE-04?isExactMatch=true&status=31094501,31094502&order=DESC&pageNumber=6&pageSize=50&sortBy=startDate\n"
     ]
    },
    {
     "name": "stdout",
     "output_type": "stream",
     "text": [
      "Traitement : https://ec.europa.eu/info/funding-tenders/opportunities/portal/screen/opportunities/topic-details/HORIZON-HLTH-2025-01-TOOL-01?isExactMatch=true&status=31094501,31094502&order=DESC&pageNumber=6&pageSize=50&sortBy=startDate\n"
     ]
    },
    {
     "name": "stdout",
     "output_type": "stream",
     "text": [
      "Traitement : https://ec.europa.eu/info/funding-tenders/opportunities/portal/screen/opportunities/topic-details/HORIZON-HLTH-2025-01-CARE-01?isExactMatch=true&status=31094501,31094502&order=DESC&pageNumber=6&pageSize=50&sortBy=startDate\n"
     ]
    },
    {
     "name": "stdout",
     "output_type": "stream",
     "text": [
      "Traitement : https://ec.europa.eu/info/funding-tenders/opportunities/portal/screen/opportunities/topic-details/HORIZON-HLTH-2025-03-DISEASE-02-two-stage?isExactMatch=true&status=31094501,31094502&order=DESC&pageNumber=6&pageSize=50&sortBy=startDate\n"
     ]
    },
    {
     "name": "stdout",
     "output_type": "stream",
     "text": [
      "Traitement : https://ec.europa.eu/info/funding-tenders/opportunities/portal/screen/opportunities/topic-details/HORIZON-HLTH-2025-01-DISEASE-01?isExactMatch=true&status=31094501,31094502&order=DESC&pageNumber=6&pageSize=50&sortBy=startDate\n"
     ]
    },
    {
     "name": "stdout",
     "output_type": "stream",
     "text": [
      "Traitement : https://ec.europa.eu/info/funding-tenders/opportunities/portal/screen/opportunities/topic-details/HORIZON-HLTH-2025-01-TOOL-02?isExactMatch=true&status=31094501,31094502&order=DESC&pageNumber=6&pageSize=50&sortBy=startDate\n"
     ]
    },
    {
     "name": "stdout",
     "output_type": "stream",
     "text": [
      "Traitement : https://ec.europa.eu/info/funding-tenders/opportunities/portal/screen/opportunities/topic-details/HORIZON-HLTH-2025-03-ENVHLTH-02-two-stage?isExactMatch=true&status=31094501,31094502&order=DESC&pageNumber=6&pageSize=50&sortBy=startDate\n"
     ]
    },
    {
     "name": "stdout",
     "output_type": "stream",
     "text": [
      "Traitement : https://ec.europa.eu/info/funding-tenders/opportunities/portal/screen/opportunities/topic-details/HORIZON-HLTH-2025-03-STAYHLTH-01-two-stage?isExactMatch=true&status=31094501,31094502&order=DESC&pageNumber=6&pageSize=50&sortBy=startDate\n"
     ]
    },
    {
     "name": "stdout",
     "output_type": "stream",
     "text": [
      "Traitement : https://ec.europa.eu/info/funding-tenders/opportunities/portal/screen/opportunities/topic-details/HORIZON-HLTH-2025-03-IND-03-two-stage?isExactMatch=true&status=31094501,31094502&order=DESC&pageNumber=6&pageSize=50&sortBy=startDate\n"
     ]
    },
    {
     "name": "stdout",
     "output_type": "stream",
     "text": [
      "Traitement : https://ec.europa.eu/info/funding-tenders/opportunities/portal/screen/opportunities/topic-details/HORIZON-JU-SNS-2025-01-STREAM-B-04-01?isExactMatch=true&status=31094501,31094502&order=DESC&pageNumber=6&pageSize=50&sortBy=startDate\n"
     ]
    },
    {
     "name": "stdout",
     "output_type": "stream",
     "text": [
      "Traitement : https://ec.europa.eu/info/funding-tenders/opportunities/portal/screen/opportunities/topic-details/HORIZON-JU-SNS-2025-01-STREAM-B-03-01?isExactMatch=true&status=31094501,31094502&order=DESC&pageNumber=6&pageSize=50&sortBy=startDate\n"
     ]
    },
    {
     "name": "stdout",
     "output_type": "stream",
     "text": [
      "Traitement : https://ec.europa.eu/info/funding-tenders/opportunities/portal/screen/opportunities/topic-details/HORIZON-JU-SNS-2025-01-STREAM-B-01-02?isExactMatch=true&status=31094501,31094502&order=DESC&pageNumber=6&pageSize=50&sortBy=startDate\n"
     ]
    },
    {
     "name": "stdout",
     "output_type": "stream",
     "text": [
      "Traitement : https://ec.europa.eu/info/funding-tenders/opportunities/portal/screen/opportunities/topic-details/HORIZON-JU-SNS-2025-01-STREAM-B-05?isExactMatch=true&status=31094501,31094502&order=DESC&pageNumber=6&pageSize=50&sortBy=startDate\n"
     ]
    },
    {
     "name": "stdout",
     "output_type": "stream",
     "text": [
      "Traitement : https://ec.europa.eu/info/funding-tenders/opportunities/portal/screen/opportunities/topic-details/HORIZON-JU-SNS-2025-01-STREAM-B-04-02?isExactMatch=true&status=31094501,31094502&order=DESC&pageNumber=6&pageSize=50&sortBy=startDate\n"
     ]
    },
    {
     "name": "stdout",
     "output_type": "stream",
     "text": [
      "Traitement : https://ec.europa.eu/info/funding-tenders/opportunities/portal/screen/opportunities/topic-details/HORIZON-JU-SNS-2025-01-STREAM-B-03-02?isExactMatch=true&status=31094501,31094502&order=DESC&pageNumber=6&pageSize=50&sortBy=startDate\n"
     ]
    },
    {
     "name": "stdout",
     "output_type": "stream",
     "text": [
      "Traitement : https://ec.europa.eu/info/funding-tenders/opportunities/portal/screen/opportunities/topic-details/HORIZON-JU-SNS-2025-01-STREAM-B-02?isExactMatch=true&status=31094501,31094502&order=DESC&pageNumber=6&pageSize=50&sortBy=startDate\n"
     ]
    },
    {
     "name": "stdout",
     "output_type": "stream",
     "text": [
      "Traitement : https://ec.europa.eu/info/funding-tenders/opportunities/portal/screen/opportunities/topic-details/HORIZON-JU-SNS-2025-01-STREAM-C-01?isExactMatch=true&status=31094501,31094502&order=DESC&pageNumber=6&pageSize=50&sortBy=startDate\n"
     ]
    },
    {
     "name": "stdout",
     "output_type": "stream",
     "text": [
      "Traitement : https://ec.europa.eu/info/funding-tenders/opportunities/portal/screen/opportunities/topic-details/HORIZON-JU-SNS-2025-01-STREAM-B-01-01?isExactMatch=true&status=31094501,31094502&order=DESC&pageNumber=6&pageSize=50&sortBy=startDate\n"
     ]
    },
    {
     "name": "stdout",
     "output_type": "stream",
     "text": [
      "Traitement : https://ec.europa.eu/info/funding-tenders/opportunities/portal/screen/opportunities/topic-details/HORIZON-CL4-INDUSTRY-2025-01-MATERIALS-64?isExactMatch=true&status=31094501,31094502&order=DESC&pageNumber=6&pageSize=50&sortBy=startDate\n"
     ]
    },
    {
     "name": "stdout",
     "output_type": "stream",
     "text": [
      "Traitement : https://ec.europa.eu/info/funding-tenders/opportunities/portal/screen/opportunities/topic-details/HORIZON-CL4-INDUSTRY-2025-01-MATERIALS-52?isExactMatch=true&status=31094501,31094502&order=DESC&pageNumber=6&pageSize=50&sortBy=startDate\n"
     ]
    },
    {
     "name": "stdout",
     "output_type": "stream",
     "text": [
      "Traitement : https://ec.europa.eu/info/funding-tenders/opportunities/portal/screen/opportunities/topic-details/HORIZON-CL4-INDUSTRY-2025-01-HUMAN-66?isExactMatch=true&status=31094501,31094502&order=DESC&pageNumber=6&pageSize=50&sortBy=startDate\n"
     ]
    },
    {
     "name": "stdout",
     "output_type": "stream",
     "text": [
      "Traitement : https://ec.europa.eu/info/funding-tenders/opportunities/portal/screen/opportunities/topic-details/HORIZON-CL4-INDUSTRY-2025-01-TWIN-TRANSITION-37?isExactMatch=true&status=31094501,31094502&order=DESC&pageNumber=6&pageSize=50&sortBy=startDate\n"
     ]
    },
    {
     "name": "stdout",
     "output_type": "stream",
     "text": [
      "Traitement : https://ec.europa.eu/info/funding-tenders/opportunities/portal/screen/opportunities/topic-details/HORIZON-CL4-INDUSTRY-2025-01-HUMAN-65?isExactMatch=true&status=31094501,31094502&order=DESC&pageNumber=7&pageSize=50&sortBy=startDate\n"
     ]
    },
    {
     "name": "stdout",
     "output_type": "stream",
     "text": [
      "Traitement : https://ec.europa.eu/info/funding-tenders/opportunities/portal/screen/opportunities/topic-details/HORIZON-CL4-INDUSTRY-2025-01-MATERIALS-44?isExactMatch=true&status=31094501,31094502&order=DESC&pageNumber=7&pageSize=50&sortBy=startDate\n"
     ]
    },
    {
     "name": "stdout",
     "output_type": "stream",
     "text": [
      "Traitement : https://ec.europa.eu/info/funding-tenders/opportunities/portal/screen/opportunities/topic-details/HORIZON-CL4-INDUSTRY-2025-01-HUMAN-64?isExactMatch=true&status=31094501,31094502&order=DESC&pageNumber=7&pageSize=50&sortBy=startDate\n"
     ]
    },
    {
     "name": "stdout",
     "output_type": "stream",
     "text": [
      "Traitement : https://ec.europa.eu/info/funding-tenders/opportunities/portal/screen/opportunities/topic-details/HORIZON-CL4-INDUSTRY-2025-01-MATERIALS-63?isExactMatch=true&status=31094501,31094502&order=DESC&pageNumber=7&pageSize=50&sortBy=startDate\n"
     ]
    },
    {
     "name": "stdout",
     "output_type": "stream",
     "text": [
      "Traitement : https://ec.europa.eu/info/funding-tenders/opportunities/portal/screen/opportunities/topic-details/HORIZON-CL4-INDUSTRY-2025-01-DIGITAL-61?isExactMatch=true&status=31094501,31094502&order=DESC&pageNumber=7&pageSize=50&sortBy=startDate\n"
     ]
    },
    {
     "name": "stdout",
     "output_type": "stream",
     "text": [
      "Traitement : https://ec.europa.eu/info/funding-tenders/opportunities/portal/screen/opportunities/topic-details/HORIZON-CL4-INDUSTRY-2025-01-HUMAN-63?isExactMatch=true&status=31094501,31094502&order=DESC&pageNumber=7&pageSize=50&sortBy=startDate\n"
     ]
    },
    {
     "name": "stdout",
     "output_type": "stream",
     "text": [
      "Traitement : https://ec.europa.eu/info/funding-tenders/opportunities/portal/screen/opportunities/topic-details/HORIZON-CL4-INDUSTRY-2025-01-TWIN-TRANSITION-38?isExactMatch=true&status=31094501,31094502&order=DESC&pageNumber=7&pageSize=50&sortBy=startDate\n"
     ]
    },
    {
     "name": "stdout",
     "output_type": "stream",
     "text": [
      "Traitement : https://ec.europa.eu/info/funding-tenders/opportunities/portal/screen/opportunities/topic-details/HORIZON-CL4-INDUSTRY-2025-01-TWIN-TRANSITION-34?isExactMatch=true&status=31094501,31094502&order=DESC&pageNumber=7&pageSize=50&sortBy=startDate\n"
     ]
    },
    {
     "name": "stdout",
     "output_type": "stream",
     "text": [
      "Traitement : https://ec.europa.eu/info/funding-tenders/opportunities/portal/screen/opportunities/topic-details/HORIZON-CL4-INDUSTRY-2025-01-TWIN-TRANSITION-31?isExactMatch=true&status=31094501,31094502&order=DESC&pageNumber=7&pageSize=50&sortBy=startDate\n"
     ]
    },
    {
     "name": "stdout",
     "output_type": "stream",
     "text": [
      "Traitement : https://ec.europa.eu/info/funding-tenders/opportunities/portal/screen/opportunities/topic-details/HORIZON-CL4-INDUSTRY-2025-01-MATERIALS-62?isExactMatch=true&status=31094501,31094502&order=DESC&pageNumber=7&pageSize=50&sortBy=startDate\n"
     ]
    },
    {
     "name": "stdout",
     "output_type": "stream",
     "text": [
      "Traitement : https://ec.europa.eu/info/funding-tenders/opportunities/portal/screen/opportunities/topic-details/HORIZON-CL4-INDUSTRY-2025-01-TWIN-TRANSITION-01?isExactMatch=true&status=31094501,31094502&order=DESC&pageNumber=7&pageSize=50&sortBy=startDate\n"
     ]
    },
    {
     "name": "stdout",
     "output_type": "stream",
     "text": [
      "Traitement : https://ec.europa.eu/info/funding-tenders/opportunities/portal/screen/opportunities/topic-details/HORIZON-CL4-INDUSTRY-2025-01-TWIN-TRANSITION-36?isExactMatch=true&status=31094501,31094502&order=DESC&pageNumber=7&pageSize=50&sortBy=startDate\n"
     ]
    },
    {
     "name": "stdout",
     "output_type": "stream",
     "text": [
      "Traitement : https://ec.europa.eu/info/funding-tenders/opportunities/portal/screen/opportunities/topic-details/HORIZON-CL4-INDUSTRY-2025-01-DIGITAL-62?isExactMatch=true&status=31094501,31094502&order=DESC&pageNumber=7&pageSize=50&sortBy=startDate\n"
     ]
    },
    {
     "name": "stdout",
     "output_type": "stream",
     "text": [
      "Traitement : https://ec.europa.eu/info/funding-tenders/opportunities/portal/screen/opportunities/topic-details/HORIZON-CL4-INDUSTRY-2025-01-HUMAN-62?isExactMatch=true&status=31094501,31094502&order=DESC&pageNumber=7&pageSize=50&sortBy=startDate\n"
     ]
    },
    {
     "name": "stdout",
     "output_type": "stream",
     "text": [
      "Traitement : https://ec.europa.eu/info/funding-tenders/opportunities/portal/screen/opportunities/topic-details/HORIZON-CL4-INDUSTRY-2025-01-MATERIALS-31?isExactMatch=true&status=31094501,31094502&order=DESC&pageNumber=7&pageSize=50&sortBy=startDate\n"
     ]
    },
    {
     "name": "stdout",
     "output_type": "stream",
     "text": [
      "Traitement : https://ec.europa.eu/info/funding-tenders/opportunities/portal/screen/opportunities/topic-details/HORIZON-CL4-INDUSTRY-2025-01-TWIN-TRANSITION-39?isExactMatch=true&status=31094501,31094502&order=DESC&pageNumber=7&pageSize=50&sortBy=startDate\n"
     ]
    },
    {
     "name": "stdout",
     "output_type": "stream",
     "text": [
      "Traitement : https://ec.europa.eu/info/funding-tenders/opportunities/portal/screen/opportunities/topic-details/HORIZON-CL4-INDUSTRY-2025-01-MATERIALS-45?isExactMatch=true&status=31094501,31094502&order=DESC&pageNumber=7&pageSize=50&sortBy=startDate\n"
     ]
    },
    {
     "name": "stdout",
     "output_type": "stream",
     "text": [
      "Traitement : https://ec.europa.eu/info/funding-tenders/opportunities/portal/screen/opportunities/topic-details/HORIZON-CL4-INDUSTRY-2025-01-TWIN-TRANSITION-33?isExactMatch=true&status=31094501,31094502&order=DESC&pageNumber=7&pageSize=50&sortBy=startDate\n"
     ]
    },
    {
     "name": "stdout",
     "output_type": "stream",
     "text": [
      "Traitement : https://ec.europa.eu/info/funding-tenders/opportunities/portal/screen/opportunities/topic-details/HORIZON-CL4-2025-02-SPACE-74?isExactMatch=true&status=31094501,31094502&order=DESC&pageNumber=7&pageSize=50&sortBy=startDate\n"
     ]
    },
    {
     "name": "stdout",
     "output_type": "stream",
     "text": [
      "Traitement : https://ec.europa.eu/info/funding-tenders/opportunities/portal/screen/opportunities/topic-details/HORIZON-CL4-2025-02-SPACE-11?isExactMatch=true&status=31094501,31094502&order=DESC&pageNumber=7&pageSize=50&sortBy=startDate\n"
     ]
    },
    {
     "name": "stdout",
     "output_type": "stream",
     "text": [
      "Traitement : https://ec.europa.eu/info/funding-tenders/opportunities/portal/screen/opportunities/topic-details/HORIZON-CL4-2025-02-SPACE-32?isExactMatch=true&status=31094501,31094502&order=DESC&pageNumber=7&pageSize=50&sortBy=startDate\n"
     ]
    },
    {
     "name": "stdout",
     "output_type": "stream",
     "text": [
      "Traitement : https://ec.europa.eu/info/funding-tenders/opportunities/portal/screen/opportunities/topic-details/HORIZON-CL4-2025-02-SPACE-22?isExactMatch=true&status=31094501,31094502&order=DESC&pageNumber=7&pageSize=50&sortBy=startDate\n"
     ]
    },
    {
     "name": "stdout",
     "output_type": "stream",
     "text": [
      "Traitement : https://ec.europa.eu/info/funding-tenders/opportunities/portal/screen/opportunities/topic-details/HORIZON-CL4-2025-02-SPACE-42?isExactMatch=true&status=31094501,31094502&order=DESC&pageNumber=7&pageSize=50&sortBy=startDate\n"
     ]
    },
    {
     "name": "stdout",
     "output_type": "stream",
     "text": [
      "Traitement : https://ec.europa.eu/info/funding-tenders/opportunities/portal/screen/opportunities/topic-details/HORIZON-CL4-2025-02-SPACE-73?isExactMatch=true&status=31094501,31094502&order=DESC&pageNumber=7&pageSize=50&sortBy=startDate\n"
     ]
    },
    {
     "name": "stdout",
     "output_type": "stream",
     "text": [
      "Traitement : https://ec.europa.eu/info/funding-tenders/opportunities/portal/screen/opportunities/topic-details/HORIZON-CL4-2025-02-SPACE-23?isExactMatch=true&status=31094501,31094502&order=DESC&pageNumber=7&pageSize=50&sortBy=startDate\n"
     ]
    },
    {
     "name": "stdout",
     "output_type": "stream",
     "text": [
      "Traitement : https://ec.europa.eu/info/funding-tenders/opportunities/portal/screen/opportunities/topic-details/HORIZON-CL4-2025-02-SPACE-72?isExactMatch=true&status=31094501,31094502&order=DESC&pageNumber=7&pageSize=50&sortBy=startDate\n"
     ]
    },
    {
     "name": "stdout",
     "output_type": "stream",
     "text": [
      "Traitement : https://ec.europa.eu/info/funding-tenders/opportunities/portal/screen/opportunities/topic-details/HORIZON-CL4-2025-02-SPACE-24?isExactMatch=true&status=31094501,31094502&order=DESC&pageNumber=7&pageSize=50&sortBy=startDate\n"
     ]
    },
    {
     "name": "stdout",
     "output_type": "stream",
     "text": [
      "Traitement : https://ec.europa.eu/info/funding-tenders/opportunities/portal/screen/opportunities/topic-details/HORIZON-CL4-2025-02-SPACE-31?isExactMatch=true&status=31094501,31094502&order=DESC&pageNumber=7&pageSize=50&sortBy=startDate\n"
     ]
    },
    {
     "name": "stdout",
     "output_type": "stream",
     "text": [
      "Traitement : https://ec.europa.eu/info/funding-tenders/opportunities/portal/screen/opportunities/topic-details/HORIZON-CL4-2025-02-SPACE-41?isExactMatch=true&status=31094501,31094502&order=DESC&pageNumber=7&pageSize=50&sortBy=startDate\n"
     ]
    },
    {
     "name": "stdout",
     "output_type": "stream",
     "text": [
      "Traitement : https://ec.europa.eu/info/funding-tenders/opportunities/portal/screen/opportunities/topic-details/HORIZON-CL4-2025-02-SPACE-21?isExactMatch=true&status=31094501,31094502&order=DESC&pageNumber=7&pageSize=50&sortBy=startDate\n"
     ]
    },
    {
     "name": "stdout",
     "output_type": "stream",
     "text": [
      "Traitement : https://ec.europa.eu/info/funding-tenders/opportunities/portal/screen/opportunities/topic-details/HORIZON-CL4-2025-02-SPACE-71?isExactMatch=true&status=31094501,31094502&order=DESC&pageNumber=7&pageSize=50&sortBy=startDate\n"
     ]
    },
    {
     "name": "stdout",
     "output_type": "stream",
     "text": [
      "Traitement : https://ec.europa.eu/info/funding-tenders/opportunities/portal/screen/opportunities/topic-details/HORIZON-CL4-2025-02-SPACE-43?isExactMatch=true&status=31094501,31094502&order=DESC&pageNumber=7&pageSize=50&sortBy=startDate\n"
     ]
    },
    {
     "name": "stdout",
     "output_type": "stream",
     "text": [
      "Traitement : https://ec.europa.eu/info/funding-tenders/opportunities/portal/screen/opportunities/topic-details/HORIZON-CL4-2025-02-SPACE-46?isExactMatch=true&status=31094501,31094502&order=DESC&pageNumber=7&pageSize=50&sortBy=startDate\n"
     ]
    },
    {
     "name": "stdout",
     "output_type": "stream",
     "text": [
      "Traitement : https://ec.europa.eu/info/funding-tenders/opportunities/portal/screen/opportunities/topic-details/HORIZON-CL4-2025-02-SPACE-44?isExactMatch=true&status=31094501,31094502&order=DESC&pageNumber=7&pageSize=50&sortBy=startDate\n"
     ]
    },
    {
     "name": "stdout",
     "output_type": "stream",
     "text": [
      "Traitement : https://ec.europa.eu/info/funding-tenders/opportunities/portal/screen/opportunities/topic-details/HORIZON-CL4-2025-02-SPACE-13?isExactMatch=true&status=31094501,31094502&order=DESC&pageNumber=7&pageSize=50&sortBy=startDate\n"
     ]
    },
    {
     "name": "stdout",
     "output_type": "stream",
     "text": [
      "Traitement : https://ec.europa.eu/info/funding-tenders/opportunities/portal/screen/opportunities/topic-details/HORIZON-CL4-2025-02-SPACE-12?isExactMatch=true&status=31094501,31094502&order=DESC&pageNumber=7&pageSize=50&sortBy=startDate\n"
     ]
    },
    {
     "name": "stdout",
     "output_type": "stream",
     "text": [
      "Traitement : https://ec.europa.eu/info/funding-tenders/opportunities/portal/screen/opportunities/topic-details/HORIZON-CL4-2025-02-SPACE-45?isExactMatch=true&status=31094501,31094502&order=DESC&pageNumber=7&pageSize=50&sortBy=startDate\n"
     ]
    },
    {
     "name": "stdout",
     "output_type": "stream",
     "text": [
      "Traitement : https://ec.europa.eu/info/funding-tenders/opportunities/portal/screen/opportunities/topic-details/HORIZON-JU-EUROHPC-2025-AIFA-01?isExactMatch=true&status=31094501,31094502&order=DESC&pageNumber=7&pageSize=50&sortBy=startDate\n"
     ]
    },
    {
     "name": "stdout",
     "output_type": "stream",
     "text": [
      "Traitement : https://ec.europa.eu/info/funding-tenders/opportunities/portal/screen/opportunities/topic-details/EUBA-EFSA-2025-PLANTS-02?isExactMatch=true&status=31094501,31094502&order=DESC&pageNumber=7&pageSize=50&sortBy=startDate\n"
     ]
    },
    {
     "name": "stdout",
     "output_type": "stream",
     "text": [
      "Traitement : https://ec.europa.eu/info/funding-tenders/opportunities/portal/screen/opportunities/topic-details/I3-2025-INV1?isExactMatch=true&status=31094501,31094502&order=DESC&pageNumber=7&pageSize=50&sortBy=startDate\n"
     ]
    },
    {
     "name": "stdout",
     "output_type": "stream",
     "text": [
      "Traitement : https://ec.europa.eu/info/funding-tenders/opportunities/portal/screen/opportunities/competitive-calls-cs/11043?isExactMatch=true&status=31094501,31094502&order=DESC&pageNumber=7&pageSize=50&sortBy=startDate\n"
     ]
    },
    {
     "name": "stdout",
     "output_type": "stream",
     "text": [
      "Traitement : https://ec.europa.eu/info/funding-tenders/opportunities/portal/screen/opportunities/competitive-calls-cs/10801?isExactMatch=true&status=31094501,31094502&order=DESC&pageNumber=7&pageSize=50&sortBy=startDate\n"
     ]
    },
    {
     "name": "stdout",
     "output_type": "stream",
     "text": [
      "Traitement : https://ec.europa.eu/info/funding-tenders/opportunities/portal/screen/opportunities/competitive-calls-cs/10982?isExactMatch=true&status=31094501,31094502&order=DESC&pageNumber=7&pageSize=50&sortBy=startDate\n"
     ]
    },
    {
     "name": "stdout",
     "output_type": "stream",
     "text": [
      "Traitement : https://ec.europa.eu/info/funding-tenders/opportunities/portal/screen/opportunities/competitive-calls-cs/10882?isExactMatch=true&status=31094501,31094502&order=DESC&pageNumber=7&pageSize=50&sortBy=startDate\n"
     ]
    },
    {
     "name": "stdout",
     "output_type": "stream",
     "text": [
      "Traitement : https://ec.europa.eu/info/funding-tenders/opportunities/portal/screen/opportunities/competitive-calls-cs/10927?isExactMatch=true&status=31094501,31094502&order=DESC&pageNumber=7&pageSize=50&sortBy=startDate\n"
     ]
    },
    {
     "name": "stdout",
     "output_type": "stream",
     "text": [
      "Traitement : https://ec.europa.eu/info/funding-tenders/opportunities/portal/screen/opportunities/topic-details/HORIZON-CL2-2025-01-DEMOCRACY-04?isExactMatch=true&status=31094501,31094502&order=DESC&pageNumber=7&pageSize=50&sortBy=startDate\n"
     ]
    },
    {
     "name": "stdout",
     "output_type": "stream",
     "text": [
      "Traitement : https://ec.europa.eu/info/funding-tenders/opportunities/portal/screen/opportunities/topic-details/HORIZON-CL2-2025-01-TRANSFO-01?isExactMatch=true&status=31094501,31094502&order=DESC&pageNumber=7&pageSize=50&sortBy=startDate\n"
     ]
    },
    {
     "name": "stdout",
     "output_type": "stream",
     "text": [
      "Traitement : https://ec.europa.eu/info/funding-tenders/opportunities/portal/screen/opportunities/topic-details/HORIZON-CL2-2025-01-DEMOCRACY-11?isExactMatch=true&status=31094501,31094502&order=DESC&pageNumber=7&pageSize=50&sortBy=startDate\n"
     ]
    },
    {
     "name": "stdout",
     "output_type": "stream",
     "text": [
      "Traitement : https://ec.europa.eu/info/funding-tenders/opportunities/portal/screen/opportunities/topic-details/HORIZON-CL2-2025-02-HERITAGE-02-two-stage?isExactMatch=true&status=31094501,31094502&order=DESC&pageNumber=7&pageSize=50&sortBy=startDate\n"
     ]
    },
    {
     "name": "stdout",
     "output_type": "stream",
     "text": [
      "Traitement : https://ec.europa.eu/info/funding-tenders/opportunities/portal/screen/opportunities/topic-details/HORIZON-CL2-2025-02-TRANSFO-04-two-stage?isExactMatch=true&status=31094501,31094502&order=DESC&pageNumber=8&pageSize=50&sortBy=startDate\n"
     ]
    },
    {
     "name": "stdout",
     "output_type": "stream",
     "text": [
      "Traitement : https://ec.europa.eu/info/funding-tenders/opportunities/portal/screen/opportunities/topic-details/BCS-2025-FPA?isExactMatch=true&status=31094501,31094502&order=DESC&pageNumber=8&pageSize=50&sortBy=startDate\n"
     ]
    },
    {
     "name": "stdout",
     "output_type": "stream",
     "text": [
      "Traitement : https://ec.europa.eu/info/funding-tenders/opportunities/portal/screen/opportunities/topic-details/BCS-2025-SGA?isExactMatch=true&status=31094501,31094502&order=DESC&pageNumber=8&pageSize=50&sortBy=startDate\n"
     ]
    },
    {
     "name": "stdout",
     "output_type": "stream",
     "text": [
      "Traitement : https://ec.europa.eu/info/funding-tenders/opportunities/portal/screen/opportunities/topic-details/HORIZON-CL2-2025-01-DEMOCRACY-02?isExactMatch=true&status=31094501,31094502&order=DESC&pageNumber=8&pageSize=50&sortBy=startDate\n"
     ]
    },
    {
     "name": "stdout",
     "output_type": "stream",
     "text": [
      "Traitement : https://ec.europa.eu/info/funding-tenders/opportunities/portal/screen/opportunities/topic-details/HORIZON-CL2-2025-01-HERITAGE-05?isExactMatch=true&status=31094501,31094502&order=DESC&pageNumber=8&pageSize=50&sortBy=startDate\n"
     ]
    },
    {
     "name": "stdout",
     "output_type": "stream",
     "text": [
      "Traitement : https://ec.europa.eu/info/funding-tenders/opportunities/portal/screen/opportunities/topic-details/HORIZON-CL2-2025-01-DEMOCRACY-09?isExactMatch=true&status=31094501,31094502&order=DESC&pageNumber=8&pageSize=50&sortBy=startDate\n"
     ]
    },
    {
     "name": "stdout",
     "output_type": "stream",
     "text": [
      "Traitement : https://ec.europa.eu/info/funding-tenders/opportunities/portal/screen/opportunities/topic-details/HORIZON-CL2-2025-01-TRANSFO-10?isExactMatch=true&status=31094501,31094502&order=DESC&pageNumber=8&pageSize=50&sortBy=startDate\n"
     ]
    },
    {
     "name": "stdout",
     "output_type": "stream",
     "text": [
      "Traitement : https://ec.europa.eu/info/funding-tenders/opportunities/portal/screen/opportunities/topic-details/HORIZON-CL2-2025-01-TRANSFO-06?isExactMatch=true&status=31094501,31094502&order=DESC&pageNumber=8&pageSize=50&sortBy=startDate\n"
     ]
    },
    {
     "name": "stdout",
     "output_type": "stream",
     "text": [
      "Traitement : https://ec.europa.eu/info/funding-tenders/opportunities/portal/screen/opportunities/topic-details/HORIZON-CL2-2025-01-DEMOCRACY-03?isExactMatch=true&status=31094501,31094502&order=DESC&pageNumber=8&pageSize=50&sortBy=startDate\n"
     ]
    },
    {
     "name": "stdout",
     "output_type": "stream",
     "text": [
      "Traitement : https://ec.europa.eu/info/funding-tenders/opportunities/portal/screen/opportunities/topic-details/HORIZON-CL2-2025-01-HERITAGE-03?isExactMatch=true&status=31094501,31094502&order=DESC&pageNumber=8&pageSize=50&sortBy=startDate\n"
     ]
    },
    {
     "name": "stdout",
     "output_type": "stream",
     "text": [
      "Traitement : https://ec.europa.eu/info/funding-tenders/opportunities/portal/screen/opportunities/topic-details/HORIZON-CL2-2025-01-TRANSFO-02?isExactMatch=true&status=31094501,31094502&order=DESC&pageNumber=8&pageSize=50&sortBy=startDate\n"
     ]
    },
    {
     "name": "stdout",
     "output_type": "stream",
     "text": [
      "Traitement : https://ec.europa.eu/info/funding-tenders/opportunities/portal/screen/opportunities/topic-details/HORIZON-CL2-2025-01-TRANSFO-11?isExactMatch=true&status=31094501,31094502&order=DESC&pageNumber=8&pageSize=50&sortBy=startDate\n"
     ]
    },
    {
     "name": "stdout",
     "output_type": "stream",
     "text": [
      "Traitement : https://ec.europa.eu/info/funding-tenders/opportunities/portal/screen/opportunities/topic-details/HORIZON-CL2-2025-01-TRANSFO-08?isExactMatch=true&status=31094501,31094502&order=DESC&pageNumber=8&pageSize=50&sortBy=startDate\n"
     ]
    },
    {
     "name": "stdout",
     "output_type": "stream",
     "text": [
      "Traitement : https://ec.europa.eu/info/funding-tenders/opportunities/portal/screen/opportunities/topic-details/HORIZON-CL2-2025-01-TRANSFO-03?isExactMatch=true&status=31094501,31094502&order=DESC&pageNumber=8&pageSize=50&sortBy=startDate\n"
     ]
    },
    {
     "name": "stdout",
     "output_type": "stream",
     "text": [
      "Traitement : https://ec.europa.eu/info/funding-tenders/opportunities/portal/screen/opportunities/topic-details/HORIZON-CL2-2025-01-DEMOCRACY-05?isExactMatch=true&status=31094501,31094502&order=DESC&pageNumber=8&pageSize=50&sortBy=startDate\n"
     ]
    },
    {
     "name": "stdout",
     "output_type": "stream",
     "text": [
      "Traitement : https://ec.europa.eu/info/funding-tenders/opportunities/portal/screen/opportunities/topic-details/HORIZON-CL2-2025-01-TRANSFO-07?isExactMatch=true&status=31094501,31094502&order=DESC&pageNumber=8&pageSize=50&sortBy=startDate\n"
     ]
    },
    {
     "name": "stdout",
     "output_type": "stream",
     "text": [
      "Traitement : https://ec.europa.eu/info/funding-tenders/opportunities/portal/screen/opportunities/topic-details/HORIZON-CL2-2025-01-TRANSFO-09?isExactMatch=true&status=31094501,31094502&order=DESC&pageNumber=8&pageSize=50&sortBy=startDate\n"
     ]
    },
    {
     "name": "stdout",
     "output_type": "stream",
     "text": [
      "Traitement : https://ec.europa.eu/info/funding-tenders/opportunities/portal/screen/opportunities/topic-details/HORIZON-CL2-2025-01-HERITAGE-08?isExactMatch=true&status=31094501,31094502&order=DESC&pageNumber=8&pageSize=50&sortBy=startDate\n"
     ]
    },
    {
     "name": "stdout",
     "output_type": "stream",
     "text": [
      "Traitement : https://ec.europa.eu/info/funding-tenders/opportunities/portal/screen/opportunities/topic-details/HORIZON-CL2-2025-01-DEMOCRACY-10?isExactMatch=true&status=31094501,31094502&order=DESC&pageNumber=8&pageSize=50&sortBy=startDate\n"
     ]
    },
    {
     "name": "stdout",
     "output_type": "stream",
     "text": [
      "Traitement : https://ec.europa.eu/info/funding-tenders/opportunities/portal/screen/opportunities/topic-details/HORIZON-CL2-2025-01-DEMOCRACY-08?isExactMatch=true&status=31094501,31094502&order=DESC&pageNumber=8&pageSize=50&sortBy=startDate\n"
     ]
    },
    {
     "name": "stdout",
     "output_type": "stream",
     "text": [
      "Traitement : https://ec.europa.eu/info/funding-tenders/opportunities/portal/screen/opportunities/topic-details/HORIZON-CL2-2025-01-DEMOCRACY-01?isExactMatch=true&status=31094501,31094502&order=DESC&pageNumber=8&pageSize=50&sortBy=startDate\n"
     ]
    },
    {
     "name": "stdout",
     "output_type": "stream",
     "text": [
      "Traitement : https://ec.europa.eu/info/funding-tenders/opportunities/portal/screen/opportunities/topic-details/HORIZON-CL2-2025-01-HERITAGE-06?isExactMatch=true&status=31094501,31094502&order=DESC&pageNumber=8&pageSize=50&sortBy=startDate\n"
     ]
    },
    {
     "name": "stdout",
     "output_type": "stream",
     "text": [
      "Traitement : https://ec.europa.eu/info/funding-tenders/opportunities/portal/screen/opportunities/topic-details/HORIZON-CL2-2025-01-HERITAGE-04?isExactMatch=true&status=31094501,31094502&order=DESC&pageNumber=8&pageSize=50&sortBy=startDate\n"
     ]
    },
    {
     "name": "stdout",
     "output_type": "stream",
     "text": [
      "Traitement : https://ec.europa.eu/info/funding-tenders/opportunities/portal/screen/opportunities/topic-details/HORIZON-CL2-2025-01-HERITAGE-09?isExactMatch=true&status=31094501,31094502&order=DESC&pageNumber=8&pageSize=50&sortBy=startDate\n"
     ]
    },
    {
     "name": "stdout",
     "output_type": "stream",
     "text": [
      "Traitement : https://ec.europa.eu/info/funding-tenders/opportunities/portal/screen/opportunities/topic-details/HORIZON-CL2-2025-01-DEMOCRACY-07?isExactMatch=true&status=31094501,31094502&order=DESC&pageNumber=8&pageSize=50&sortBy=startDate\n"
     ]
    },
    {
     "name": "stdout",
     "output_type": "stream",
     "text": [
      "Traitement : https://ec.europa.eu/info/funding-tenders/opportunities/portal/screen/opportunities/topic-details/HORIZON-CL2-2025-01-DEMOCRACY-12?isExactMatch=true&status=31094501,31094502&order=DESC&pageNumber=8&pageSize=50&sortBy=startDate\n"
     ]
    },
    {
     "name": "stdout",
     "output_type": "stream",
     "text": [
      "Traitement : https://ec.europa.eu/info/funding-tenders/opportunities/portal/screen/opportunities/topic-details/HORIZON-CL2-2025-01-HERITAGE-07?isExactMatch=true&status=31094501,31094502&order=DESC&pageNumber=8&pageSize=50&sortBy=startDate\n"
     ]
    },
    {
     "name": "stdout",
     "output_type": "stream",
     "text": [
      "Traitement : https://ec.europa.eu/info/funding-tenders/opportunities/portal/screen/opportunities/topic-details/HORIZON-CL2-2025-01-TRANSFO-05?isExactMatch=true&status=31094501,31094502&order=DESC&pageNumber=8&pageSize=50&sortBy=startDate\n"
     ]
    },
    {
     "name": "stdout",
     "output_type": "stream",
     "text": [
      "Traitement : https://ec.europa.eu/info/funding-tenders/opportunities/portal/screen/opportunities/topic-details/HORIZON-CL2-2025-01-DEMOCRACY-06?isExactMatch=true&status=31094501,31094502&order=DESC&pageNumber=8&pageSize=50&sortBy=startDate\n"
     ]
    },
    {
     "name": "stdout",
     "output_type": "stream",
     "text": [
      "Traitement : https://ec.europa.eu/info/funding-tenders/opportunities/portal/screen/opportunities/topic-details/HORIZON-WIDERA-2025-06-ERA-01?isExactMatch=true&status=31094501,31094502&order=DESC&pageNumber=8&pageSize=50&sortBy=startDate\n"
     ]
    },
    {
     "name": "stdout",
     "output_type": "stream",
     "text": [
      "Traitement : https://ec.europa.eu/info/funding-tenders/opportunities/portal/screen/opportunities/topic-details/HORIZON-WIDERA-2025-06-ERA-03?isExactMatch=true&status=31094501,31094502&order=DESC&pageNumber=8&pageSize=50&sortBy=startDate\n"
     ]
    },
    {
     "name": "stdout",
     "output_type": "stream",
     "text": [
      "Traitement : https://ec.europa.eu/info/funding-tenders/opportunities/portal/screen/opportunities/topic-details/HORIZON-WIDERA-2025-06-ERA-02?isExactMatch=true&status=31094501,31094502&order=DESC&pageNumber=8&pageSize=50&sortBy=startDate\n"
     ]
    },
    {
     "name": "stdout",
     "output_type": "stream",
     "text": [
      "Traitement : https://ec.europa.eu/info/funding-tenders/opportunities/portal/screen/opportunities/topic-details/HORIZON-WIDERA-2025-06-ERA-06?isExactMatch=true&status=31094501,31094502&order=DESC&pageNumber=8&pageSize=50&sortBy=startDate\n"
     ]
    },
    {
     "name": "stdout",
     "output_type": "stream",
     "text": [
      "Traitement : https://ec.europa.eu/info/funding-tenders/opportunities/portal/screen/opportunities/topic-details/HORIZON-WIDERA-2025-06-ERA-04?isExactMatch=true&status=31094501,31094502&order=DESC&pageNumber=8&pageSize=50&sortBy=startDate\n"
     ]
    },
    {
     "name": "stdout",
     "output_type": "stream",
     "text": [
      "Traitement : https://ec.europa.eu/info/funding-tenders/opportunities/portal/screen/opportunities/topic-details/HORIZON-WIDERA-2025-06-ERA-05?isExactMatch=true&status=31094501,31094502&order=DESC&pageNumber=8&pageSize=50&sortBy=startDate\n"
     ]
    },
    {
     "name": "stdout",
     "output_type": "stream",
     "text": [
      "Traitement : https://ec.europa.eu/info/funding-tenders/opportunities/portal/screen/opportunities/topic-details/HORIZON-WIDERA-2025-06-ERA-07?isExactMatch=true&status=31094501,31094502&order=DESC&pageNumber=8&pageSize=50&sortBy=startDate\n"
     ]
    },
    {
     "name": "stdout",
     "output_type": "stream",
     "text": [
      "Traitement : https://ec.europa.eu/info/funding-tenders/opportunities/portal/screen/opportunities/topic-details/HORIZON-CL2-2025-03-HERITAGE-01?isExactMatch=true&status=31094501,31094502&order=DESC&pageNumber=8&pageSize=50&sortBy=startDate\n"
     ]
    },
    {
     "name": "stdout",
     "output_type": "stream",
     "text": [
      "Traitement : https://ec.europa.eu/info/funding-tenders/opportunities/portal/screen/opportunities/topic-details/HORIZON-MSCA-2025-MSCA4UA-01-01?isExactMatch=true&status=31094501,31094502&order=DESC&pageNumber=8&pageSize=50&sortBy=startDate\n"
     ]
    },
    {
     "name": "stdout",
     "output_type": "stream",
     "text": [
      "Traitement : https://ec.europa.eu/info/funding-tenders/opportunities/portal/screen/opportunities/topic-details/HORIZON-EIE-2025-02-CONNECT-02?isExactMatch=true&status=31094501,31094502&order=DESC&pageNumber=8&pageSize=50&sortBy=startDate\n"
     ]
    },
    {
     "name": "stdout",
     "output_type": "stream",
     "text": [
      "Traitement : https://ec.europa.eu/info/funding-tenders/opportunities/portal/screen/opportunities/topic-details/HORIZON-EIE-2025-02-CONNECT-01?isExactMatch=true&status=31094501,31094502&order=DESC&pageNumber=8&pageSize=50&sortBy=startDate\n"
     ]
    },
    {
     "name": "stdout",
     "output_type": "stream",
     "text": [
      "Traitement : https://ec.europa.eu/info/funding-tenders/opportunities/portal/screen/opportunities/topic-details/HORIZON-WIDERA-2025-05-ACCESS-01?isExactMatch=true&status=31094501,31094502&order=DESC&pageNumber=8&pageSize=50&sortBy=startDate\n"
     ]
    },
    {
     "name": "stdout",
     "output_type": "stream",
     "text": [
      "Traitement : https://ec.europa.eu/info/funding-tenders/opportunities/portal/screen/opportunities/competitive-calls-cs/10961?isExactMatch=true&status=31094501,31094502&order=DESC&pageNumber=8&pageSize=50&sortBy=startDate\n"
     ]
    },
    {
     "name": "stdout",
     "output_type": "stream",
     "text": [
      "Traitement : https://ec.europa.eu/info/funding-tenders/opportunities/portal/screen/opportunities/topic-details/PPPA-2025-LAUNCHERS-INNOVATIONS?isExactMatch=true&status=31094501,31094502&order=DESC&pageNumber=8&pageSize=50&sortBy=startDate\n"
     ]
    },
    {
     "name": "stdout",
     "output_type": "stream",
     "text": [
      "Traitement : https://ec.europa.eu/info/funding-tenders/opportunities/portal/screen/opportunities/competitive-calls-cs/10941?isExactMatch=true&status=31094501,31094502&order=DESC&pageNumber=8&pageSize=50&sortBy=startDate\n"
     ]
    },
    {
     "name": "stdout",
     "output_type": "stream",
     "text": [
      "Traitement : https://ec.europa.eu/info/funding-tenders/opportunities/portal/screen/opportunities/competitive-calls-cs/10925?isExactMatch=true&status=31094501,31094502&order=DESC&pageNumber=8&pageSize=50&sortBy=startDate\n"
     ]
    },
    {
     "name": "stdout",
     "output_type": "stream",
     "text": [
      "Traitement : https://ec.europa.eu/info/funding-tenders/opportunities/portal/screen/opportunities/competitive-calls-cs/10944?isExactMatch=true&status=31094501,31094502&order=DESC&pageNumber=8&pageSize=50&sortBy=startDate\n"
     ]
    },
    {
     "name": "stdout",
     "output_type": "stream",
     "text": [
      "Traitement : https://ec.europa.eu/info/funding-tenders/opportunities/portal/screen/opportunities/topic-details/EUBA-EFSA-2025-PLANTS-04?isExactMatch=true&status=31094501,31094502&order=DESC&pageNumber=8&pageSize=50&sortBy=startDate\n"
     ]
    },
    {
     "name": "stdout",
     "output_type": "stream",
     "text": [
      "Traitement : https://ec.europa.eu/info/funding-tenders/opportunities/portal/screen/opportunities/topic-details/HORIZON-WIDERA-2025-01-ACCESS-01?isExactMatch=true&status=31094501,31094502&order=DESC&pageNumber=8&pageSize=50&sortBy=startDate\n"
     ]
    },
    {
     "name": "stdout",
     "output_type": "stream",
     "text": [
      "Traitement : https://ec.europa.eu/info/funding-tenders/opportunities/portal/screen/opportunities/topic-details/HORIZON-MISS-2025-03-OCEAN-05?isExactMatch=true&status=31094501,31094502&order=DESC&pageNumber=8&pageSize=50&sortBy=startDate\n"
     ]
    },
    {
     "data": {
      "text/html": [
       "<div>\n",
       "<style scoped>\n",
       "    .dataframe tbody tr th:only-of-type {\n",
       "        vertical-align: middle;\n",
       "    }\n",
       "\n",
       "    .dataframe tbody tr th {\n",
       "        vertical-align: top;\n",
       "    }\n",
       "\n",
       "    .dataframe thead th {\n",
       "        text-align: right;\n",
       "    }\n",
       "</style>\n",
       "<table border=\"1\" class=\"dataframe\">\n",
       "  <thead>\n",
       "    <tr style=\"text-align: right;\">\n",
       "      <th></th>\n",
       "      <th>URL</th>\n",
       "      <th>Pertinence</th>\n",
       "      <th>Matching Word(s)</th>\n",
       "    </tr>\n",
       "  </thead>\n",
       "  <tbody>\n",
       "    <tr>\n",
       "      <th>0</th>\n",
       "      <td>https://ec.europa.eu/info/funding-tenders/opportunities/portal/screen/opportunities/topic-details/HORIZON-MSCA-2025-COFUND-02-01?isExactMatch=true&amp;status=31094501,31094502&amp;order=DESC&amp;pageNumber=1&amp;pageSize=50&amp;sortBy=startDate</td>\n",
       "      <td>No</td>\n",
       "      <td></td>\n",
       "    </tr>\n",
       "    <tr>\n",
       "      <th>1</th>\n",
       "      <td>https://ec.europa.eu/info/funding-tenders/opportunities/portal/screen/opportunities/topic-details/HORIZON-CL5-2026-02-D3-24?isExactMatch=true&amp;status=31094501,31094502&amp;order=DESC&amp;pageNumber=1&amp;pageSize=50&amp;sortBy=startDate</td>\n",
       "      <td>No</td>\n",
       "      <td></td>\n",
       "    </tr>\n",
       "    <tr>\n",
       "      <th>2</th>\n",
       "      <td>https://ec.europa.eu/info/funding-tenders/opportunities/portal/screen/opportunities/topic-details/HORIZON-CL5-2026-02-D4-03?isExactMatch=true&amp;status=31094501,31094502&amp;order=DESC&amp;pageNumber=1&amp;pageSize=50&amp;sortBy=startDate</td>\n",
       "      <td>Yes</td>\n",
       "      <td>climate resilience, social innovation</td>\n",
       "    </tr>\n",
       "    <tr>\n",
       "      <th>3</th>\n",
       "      <td>https://ec.europa.eu/info/funding-tenders/opportunities/portal/screen/opportunities/topic-details/HORIZON-CL5-2026-02-D4-05?isExactMatch=true&amp;status=31094501,31094502&amp;order=DESC&amp;pageNumber=1&amp;pageSize=50&amp;sortBy=startDate</td>\n",
       "      <td>No</td>\n",
       "      <td></td>\n",
       "    </tr>\n",
       "    <tr>\n",
       "      <th>4</th>\n",
       "      <td>https://ec.europa.eu/info/funding-tenders/opportunities/portal/screen/opportunities/topic-details/HORIZON-CL5-2026-02-D3-08?isExactMatch=true&amp;status=31094501,31094502&amp;order=DESC&amp;pageNumber=1&amp;pageSize=50&amp;sortBy=startDate</td>\n",
       "      <td>Yes</td>\n",
       "      <td>project design, renewable energy, economic impact</td>\n",
       "    </tr>\n",
       "    <tr>\n",
       "      <th>...</th>\n",
       "      <td>...</td>\n",
       "      <td>...</td>\n",
       "      <td>...</td>\n",
       "    </tr>\n",
       "    <tr>\n",
       "      <th>368</th>\n",
       "      <td>https://ec.europa.eu/info/funding-tenders/opportunities/portal/screen/opportunities/competitive-calls-cs/10925?isExactMatch=true&amp;status=31094501,31094502&amp;order=DESC&amp;pageNumber=8&amp;pageSize=50&amp;sortBy=startDate</td>\n",
       "      <td>No</td>\n",
       "      <td></td>\n",
       "    </tr>\n",
       "    <tr>\n",
       "      <th>369</th>\n",
       "      <td>https://ec.europa.eu/info/funding-tenders/opportunities/portal/screen/opportunities/competitive-calls-cs/10944?isExactMatch=true&amp;status=31094501,31094502&amp;order=DESC&amp;pageNumber=8&amp;pageSize=50&amp;sortBy=startDate</td>\n",
       "      <td>No</td>\n",
       "      <td></td>\n",
       "    </tr>\n",
       "    <tr>\n",
       "      <th>370</th>\n",
       "      <td>https://ec.europa.eu/info/funding-tenders/opportunities/portal/screen/opportunities/topic-details/EUBA-EFSA-2025-PLANTS-04?isExactMatch=true&amp;status=31094501,31094502&amp;order=DESC&amp;pageNumber=8&amp;pageSize=50&amp;sortBy=startDate</td>\n",
       "      <td>No</td>\n",
       "      <td></td>\n",
       "    </tr>\n",
       "    <tr>\n",
       "      <th>371</th>\n",
       "      <td>https://ec.europa.eu/info/funding-tenders/opportunities/portal/screen/opportunities/topic-details/HORIZON-WIDERA-2025-01-ACCESS-01?isExactMatch=true&amp;status=31094501,31094502&amp;order=DESC&amp;pageNumber=8&amp;pageSize=50&amp;sortBy=startDate</td>\n",
       "      <td>Yes</td>\n",
       "      <td>capacity building, artificial intelligence, data science, digital transformation</td>\n",
       "    </tr>\n",
       "    <tr>\n",
       "      <th>372</th>\n",
       "      <td>https://ec.europa.eu/info/funding-tenders/opportunities/portal/screen/opportunities/topic-details/HORIZON-MISS-2025-03-OCEAN-05?isExactMatch=true&amp;status=31094501,31094502&amp;order=DESC&amp;pageNumber=8&amp;pageSize=50&amp;sortBy=startDate</td>\n",
       "      <td>No</td>\n",
       "      <td></td>\n",
       "    </tr>\n",
       "  </tbody>\n",
       "</table>\n",
       "<p>373 rows × 3 columns</p>\n",
       "</div>"
      ],
      "text/plain": [
       "                                                                                                                                                                                                                                    URL  \\\n",
       "0      https://ec.europa.eu/info/funding-tenders/opportunities/portal/screen/opportunities/topic-details/HORIZON-MSCA-2025-COFUND-02-01?isExactMatch=true&status=31094501,31094502&order=DESC&pageNumber=1&pageSize=50&sortBy=startDate   \n",
       "1           https://ec.europa.eu/info/funding-tenders/opportunities/portal/screen/opportunities/topic-details/HORIZON-CL5-2026-02-D3-24?isExactMatch=true&status=31094501,31094502&order=DESC&pageNumber=1&pageSize=50&sortBy=startDate   \n",
       "2           https://ec.europa.eu/info/funding-tenders/opportunities/portal/screen/opportunities/topic-details/HORIZON-CL5-2026-02-D4-03?isExactMatch=true&status=31094501,31094502&order=DESC&pageNumber=1&pageSize=50&sortBy=startDate   \n",
       "3           https://ec.europa.eu/info/funding-tenders/opportunities/portal/screen/opportunities/topic-details/HORIZON-CL5-2026-02-D4-05?isExactMatch=true&status=31094501,31094502&order=DESC&pageNumber=1&pageSize=50&sortBy=startDate   \n",
       "4           https://ec.europa.eu/info/funding-tenders/opportunities/portal/screen/opportunities/topic-details/HORIZON-CL5-2026-02-D3-08?isExactMatch=true&status=31094501,31094502&order=DESC&pageNumber=1&pageSize=50&sortBy=startDate   \n",
       "..                                                                                                                                                                                                                                  ...   \n",
       "368                      https://ec.europa.eu/info/funding-tenders/opportunities/portal/screen/opportunities/competitive-calls-cs/10925?isExactMatch=true&status=31094501,31094502&order=DESC&pageNumber=8&pageSize=50&sortBy=startDate   \n",
       "369                      https://ec.europa.eu/info/funding-tenders/opportunities/portal/screen/opportunities/competitive-calls-cs/10944?isExactMatch=true&status=31094501,31094502&order=DESC&pageNumber=8&pageSize=50&sortBy=startDate   \n",
       "370          https://ec.europa.eu/info/funding-tenders/opportunities/portal/screen/opportunities/topic-details/EUBA-EFSA-2025-PLANTS-04?isExactMatch=true&status=31094501,31094502&order=DESC&pageNumber=8&pageSize=50&sortBy=startDate   \n",
       "371  https://ec.europa.eu/info/funding-tenders/opportunities/portal/screen/opportunities/topic-details/HORIZON-WIDERA-2025-01-ACCESS-01?isExactMatch=true&status=31094501,31094502&order=DESC&pageNumber=8&pageSize=50&sortBy=startDate   \n",
       "372     https://ec.europa.eu/info/funding-tenders/opportunities/portal/screen/opportunities/topic-details/HORIZON-MISS-2025-03-OCEAN-05?isExactMatch=true&status=31094501,31094502&order=DESC&pageNumber=8&pageSize=50&sortBy=startDate   \n",
       "\n",
       "    Pertinence  \\\n",
       "0           No   \n",
       "1           No   \n",
       "2          Yes   \n",
       "3           No   \n",
       "4          Yes   \n",
       "..         ...   \n",
       "368         No   \n",
       "369         No   \n",
       "370         No   \n",
       "371        Yes   \n",
       "372         No   \n",
       "\n",
       "                                                                     Matching Word(s)  \n",
       "0                                                                                      \n",
       "1                                                                                      \n",
       "2                                               climate resilience, social innovation  \n",
       "3                                                                                      \n",
       "4                                   project design, renewable energy, economic impact  \n",
       "..                                                                                ...  \n",
       "368                                                                                    \n",
       "369                                                                                    \n",
       "370                                                                                    \n",
       "371  capacity building, artificial intelligence, data science, digital transformation  \n",
       "372                                                                                    \n",
       "\n",
       "[373 rows x 3 columns]"
      ]
     },
     "execution_count": 10,
     "metadata": {},
     "output_type": "execute_result"
    }
   ],
   "source": [
    "from selenium import webdriver\n",
    "from selenium.webdriver.chrome.options import Options\n",
    "import time\n",
    "import pandas as pd\n",
    "\n",
    "# === Configuration du navigateur Selenium (headless) ===\n",
    "options = Options()\n",
    "options.add_argument(\"--headless\")\n",
    "options.add_argument(\"--disable-gpu\")\n",
    "options.add_argument(\"--window-size=1920,1080\")\n",
    "\n",
    "# === Fonction de nettoyage du texte ===\n",
    "def clean_text(text):\n",
    "    lines = text.split(\"\\n\")\n",
    "    cleaned_lines = [line.strip() for line in lines if line.strip() and len(line.strip()) > 1]\n",
    "    return \"\\n\".join(cleaned_lines)\n",
    "\n",
    "# === Fonction principale pour extraire et analyser une page ===\n",
    "def analyze_url(url):\n",
    "    try:\n",
    "        driver = webdriver.Chrome(options=options)\n",
    "        driver.get(url)\n",
    "        time.sleep(5)\n",
    "\n",
    "        # Scroll pour charger le contenu dynamique\n",
    "        for _ in range(10):\n",
    "            driver.execute_script(\"window.scrollBy(0, 500);\")\n",
    "            time.sleep(0.3)\n",
    "        time.sleep(3)\n",
    "\n",
    "        # Extraction du texte\n",
    "        js_code = \"\"\"\n",
    "        let desc = document.querySelector('div.showMore--three-lines');\n",
    "        if (desc) {\n",
    "            return desc.innerText.trim();\n",
    "        } else {\n",
    "            return 'Pas de description de projet détectée.';\n",
    "        }\n",
    "        \"\"\"\n",
    "        full_text = driver.execute_script(js_code)\n",
    "        cleaned = clean_text(full_text)\n",
    "        matched_keywords = [kw for kw in all_keywords_text if kw.lower() in cleaned.lower()]\n",
    "\n",
    "        return {\n",
    "            \"URL\": url,\n",
    "            \"Pertinence\": \"Yes\" if matched_keywords else \"No\",\n",
    "            \"Matching Word(s)\": \", \".join(matched_keywords) if matched_keywords else \"\"\n",
    "        }\n",
    "\n",
    "    except Exception as e:\n",
    "        return {\n",
    "            \"URL\": url,\n",
    "            \"Pertinence\": \"Error\",\n",
    "            \"Matching Word(s)\": str(e)\n",
    "        }\n",
    "    finally:\n",
    "        driver.quit()\n",
    "\n",
    "# === Charger tes liens depuis ton DataFrame ===\n",
    "# Exemple :\n",
    "# df_links = pd.read_csv(\"tes_liens.csv\")  # ou déjà chargé\n",
    "# ou si tu l'as déjà :\n",
    "# df_links = df   # si df contient déjà la colonne 'link'\n",
    "\n",
    "# Assure-toi d'avoir une colonne 'link' dans df\n",
    "results = []\n",
    "for url in df['Link']:\n",
    "    print(f\"Traitement : {url}\")\n",
    "    result = analyze_url(url)\n",
    "    results.append(result)\n",
    "\n",
    "# === Conversion en DataFrame final ===\n",
    "df_final = pd.DataFrame(results)\n",
    "df_final\n"
   ]
  },
  {
   "cell_type": "code",
   "execution_count": 11,
   "id": "d4d72d36",
   "metadata": {
    "execution": {
     "iopub.execute_input": "2025-07-16T16:07:07.860750Z",
     "iopub.status.busy": "2025-07-16T16:07:07.858767Z",
     "iopub.status.idle": "2025-07-16T16:07:07.886974Z",
     "shell.execute_reply": "2025-07-16T16:07:07.886337Z"
    }
   },
   "outputs": [],
   "source": [
    "df_yes = df_final[df_final[\"Pertinence\"] == \"Yes\"]"
   ]
  },
  {
   "cell_type": "code",
   "execution_count": 12,
   "id": "d70bcb10",
   "metadata": {
    "execution": {
     "iopub.execute_input": "2025-07-16T16:07:07.890846Z",
     "iopub.status.busy": "2025-07-16T16:07:07.890044Z",
     "iopub.status.idle": "2025-07-16T16:07:08.172552Z",
     "shell.execute_reply": "2025-07-16T16:07:08.171557Z"
    }
   },
   "outputs": [
    {
     "name": "stdout",
     "output_type": "stream",
     "text": [
      "\n",
      "✅ Résultats sauvegardés dans ''.\n"
     ]
    }
   ],
   "source": [
    "resultsYES_df_keywords = pd.DataFrame(df_yes)\n",
    "resultsYES_df_keywords.to_excel(\"resultats_pertinenceYES_keywords.xlsx\", index=False)\n",
    "print(\"\\n✅ Résultats sauvegardés dans ''.\")"
   ]
  },
  {
   "cell_type": "markdown",
   "id": "c462d146",
   "metadata": {},
   "source": [
    "#### Ajouter les colonnes de status et les dates"
   ]
  },
  {
   "cell_type": "code",
   "execution_count": 13,
   "id": "b4fedc2e",
   "metadata": {
    "execution": {
     "iopub.execute_input": "2025-07-16T16:07:08.175540Z",
     "iopub.status.busy": "2025-07-16T16:07:08.174544Z",
     "iopub.status.idle": "2025-07-16T16:07:08.189500Z",
     "shell.execute_reply": "2025-07-16T16:07:08.189500Z"
    }
   },
   "outputs": [
    {
     "name": "stderr",
     "output_type": "stream",
     "text": [
      "C:\\Users\\HADIL MARAI\\AppData\\Local\\Temp\\ipykernel_41576\\378187894.py:1: SettingWithCopyWarning: \n",
      "A value is trying to be set on a copy of a slice from a DataFrame.\n",
      "Try using .loc[row_indexer,col_indexer] = value instead\n",
      "\n",
      "See the caveats in the documentation: https://pandas.pydata.org/pandas-docs/stable/user_guide/indexing.html#returning-a-view-versus-a-copy\n",
      "  df_yes[['Title', 'Status', 'Start_date', 'Deadline']] = df[['Title', 'Status', 'Start_date', 'Deadline']]\n",
      "C:\\Users\\HADIL MARAI\\AppData\\Local\\Temp\\ipykernel_41576\\378187894.py:1: SettingWithCopyWarning: \n",
      "A value is trying to be set on a copy of a slice from a DataFrame.\n",
      "Try using .loc[row_indexer,col_indexer] = value instead\n",
      "\n",
      "See the caveats in the documentation: https://pandas.pydata.org/pandas-docs/stable/user_guide/indexing.html#returning-a-view-versus-a-copy\n",
      "  df_yes[['Title', 'Status', 'Start_date', 'Deadline']] = df[['Title', 'Status', 'Start_date', 'Deadline']]\n",
      "C:\\Users\\HADIL MARAI\\AppData\\Local\\Temp\\ipykernel_41576\\378187894.py:1: SettingWithCopyWarning: \n",
      "A value is trying to be set on a copy of a slice from a DataFrame.\n",
      "Try using .loc[row_indexer,col_indexer] = value instead\n",
      "\n",
      "See the caveats in the documentation: https://pandas.pydata.org/pandas-docs/stable/user_guide/indexing.html#returning-a-view-versus-a-copy\n",
      "  df_yes[['Title', 'Status', 'Start_date', 'Deadline']] = df[['Title', 'Status', 'Start_date', 'Deadline']]\n",
      "C:\\Users\\HADIL MARAI\\AppData\\Local\\Temp\\ipykernel_41576\\378187894.py:1: SettingWithCopyWarning: \n",
      "A value is trying to be set on a copy of a slice from a DataFrame.\n",
      "Try using .loc[row_indexer,col_indexer] = value instead\n",
      "\n",
      "See the caveats in the documentation: https://pandas.pydata.org/pandas-docs/stable/user_guide/indexing.html#returning-a-view-versus-a-copy\n",
      "  df_yes[['Title', 'Status', 'Start_date', 'Deadline']] = df[['Title', 'Status', 'Start_date', 'Deadline']]\n"
     ]
    }
   ],
   "source": [
    "df_yes[['Title', 'Status', 'Start_date', 'Deadline']] = df[['Title', 'Status', 'Start_date', 'Deadline']]\n"
   ]
  },
  {
   "cell_type": "markdown",
   "id": "78ecf96e",
   "metadata": {},
   "source": [
    "### Sortir seulement les projets qui sont Pertinents"
   ]
  },
  {
   "cell_type": "code",
   "execution_count": 14,
   "id": "314dcab9",
   "metadata": {
    "execution": {
     "iopub.execute_input": "2025-07-16T16:07:08.193493Z",
     "iopub.status.busy": "2025-07-16T16:07:08.192494Z",
     "iopub.status.idle": "2025-07-16T16:07:08.197470Z",
     "shell.execute_reply": "2025-07-16T16:07:08.197470Z"
    }
   },
   "outputs": [],
   "source": [
    "df_yes_final = df_yes[df_yes['Pertinence'] == 'Yes'].copy()\n"
   ]
  },
  {
   "cell_type": "code",
   "execution_count": 15,
   "id": "f58167e3",
   "metadata": {
    "execution": {
     "iopub.execute_input": "2025-07-16T16:07:08.200245Z",
     "iopub.status.busy": "2025-07-16T16:07:08.199460Z",
     "iopub.status.idle": "2025-07-16T16:07:08.206953Z",
     "shell.execute_reply": "2025-07-16T16:07:08.206953Z"
    }
   },
   "outputs": [
    {
     "data": {
      "text/html": [
       "<div>\n",
       "<style scoped>\n",
       "    .dataframe tbody tr th:only-of-type {\n",
       "        vertical-align: middle;\n",
       "    }\n",
       "\n",
       "    .dataframe tbody tr th {\n",
       "        vertical-align: top;\n",
       "    }\n",
       "\n",
       "    .dataframe thead th {\n",
       "        text-align: right;\n",
       "    }\n",
       "</style>\n",
       "<table border=\"1\" class=\"dataframe\">\n",
       "  <thead>\n",
       "    <tr style=\"text-align: right;\">\n",
       "      <th></th>\n",
       "      <th>URL</th>\n",
       "      <th>Pertinence</th>\n",
       "      <th>Matching Word(s)</th>\n",
       "      <th>Title</th>\n",
       "      <th>Status</th>\n",
       "      <th>Start_date</th>\n",
       "      <th>Deadline</th>\n",
       "    </tr>\n",
       "  </thead>\n",
       "  <tbody>\n",
       "    <tr>\n",
       "      <th>2</th>\n",
       "      <td>https://ec.europa.eu/info/funding-tenders/opportunities/portal/screen/opportunities/topic-details/HORIZON-CL5-2026-02-D4-03?isExactMatch=true&amp;status=31094501,31094502&amp;order=DESC&amp;pageNumber=1&amp;pageSize=50&amp;sortBy=startDate</td>\n",
       "      <td>Yes</td>\n",
       "      <td>climate resilience, social innovation</td>\n",
       "      <td>Innovative pathways for low carbon and climate resilient building stock and built environment (Built4People Partnership)</td>\n",
       "      <td>Forthcoming</td>\n",
       "      <td>16 September 2025</td>\n",
       "      <td>17 February 2026</td>\n",
       "    </tr>\n",
       "    <tr>\n",
       "      <th>4</th>\n",
       "      <td>https://ec.europa.eu/info/funding-tenders/opportunities/portal/screen/opportunities/topic-details/HORIZON-CL5-2026-02-D3-08?isExactMatch=true&amp;status=31094501,31094502&amp;order=DESC&amp;pageNumber=1&amp;pageSize=50&amp;sortBy=startDate</td>\n",
       "      <td>Yes</td>\n",
       "      <td>project design, renewable energy, economic impact</td>\n",
       "      <td>Understand and minimise the environmental impacts of offshore wind energy</td>\n",
       "      <td>Forthcoming</td>\n",
       "      <td>16 September 2025</td>\n",
       "      <td>17 February 2026</td>\n",
       "    </tr>\n",
       "    <tr>\n",
       "      <th>5</th>\n",
       "      <td>https://ec.europa.eu/info/funding-tenders/opportunities/portal/screen/opportunities/topic-details/HORIZON-CL5-2026-02-D4-02?isExactMatch=true&amp;status=31094501,31094502&amp;order=DESC&amp;pageNumber=1&amp;pageSize=50&amp;sortBy=startDate</td>\n",
       "      <td>Yes</td>\n",
       "      <td>renewable energy</td>\n",
       "      <td>Smarter buildings as part of the energy system for increased efficiency and flexibility – Societal Readiness Pilot</td>\n",
       "      <td>Forthcoming</td>\n",
       "      <td>16 September 2025</td>\n",
       "      <td>17 February 2026</td>\n",
       "    </tr>\n",
       "    <tr>\n",
       "      <th>6</th>\n",
       "      <td>https://ec.europa.eu/info/funding-tenders/opportunities/portal/screen/opportunities/topic-details/HORIZON-CL5-2026-02-D3-02?isExactMatch=true&amp;status=31094501,31094502&amp;order=DESC&amp;pageNumber=1&amp;pageSize=50&amp;sortBy=startDate</td>\n",
       "      <td>Yes</td>\n",
       "      <td>sustainable development, industrial competitiveness</td>\n",
       "      <td>Competitiveness, energy security and integration aspects of advanced biofuels and renewable fuels of non-biological origin value chains</td>\n",
       "      <td>Forthcoming</td>\n",
       "      <td>16 September 2025</td>\n",
       "      <td>17 February 2026</td>\n",
       "    </tr>\n",
       "    <tr>\n",
       "      <th>13</th>\n",
       "      <td>https://ec.europa.eu/info/funding-tenders/opportunities/portal/screen/opportunities/topic-details/HORIZON-CL5-2026-02-D4-04?isExactMatch=true&amp;status=31094501,31094502&amp;order=DESC&amp;pageNumber=1&amp;pageSize=50&amp;sortBy=startDate</td>\n",
       "      <td>Yes</td>\n",
       "      <td>artificial intelligence, renewable energy, social innovation</td>\n",
       "      <td>Innovative approaches for the deployment of Positive Energy Districts</td>\n",
       "      <td>Forthcoming</td>\n",
       "      <td>16 September 2025</td>\n",
       "      <td>17 February 2026</td>\n",
       "    </tr>\n",
       "    <tr>\n",
       "      <th>...</th>\n",
       "      <td>...</td>\n",
       "      <td>...</td>\n",
       "      <td>...</td>\n",
       "      <td>...</td>\n",
       "      <td>...</td>\n",
       "      <td>...</td>\n",
       "      <td>...</td>\n",
       "    </tr>\n",
       "    <tr>\n",
       "      <th>349</th>\n",
       "      <td>https://ec.europa.eu/info/funding-tenders/opportunities/portal/screen/opportunities/topic-details/HORIZON-CL2-2025-01-DEMOCRACY-12?isExactMatch=true&amp;status=31094501,31094502&amp;order=DESC&amp;pageNumber=8&amp;pageSize=50&amp;sortBy=startDate</td>\n",
       "      <td>Yes</td>\n",
       "      <td>capacity building, research results</td>\n",
       "      <td>Community of democracy practitioners and researchers</td>\n",
       "      <td>Open For Submission</td>\n",
       "      <td>15 May 2025</td>\n",
       "      <td>16 September 2025</td>\n",
       "    </tr>\n",
       "    <tr>\n",
       "      <th>352</th>\n",
       "      <td>https://ec.europa.eu/info/funding-tenders/opportunities/portal/screen/opportunities/topic-details/HORIZON-CL2-2025-01-DEMOCRACY-06?isExactMatch=true&amp;status=31094501,31094502&amp;order=DESC&amp;pageNumber=8&amp;pageSize=50&amp;sortBy=startDate</td>\n",
       "      <td>Yes</td>\n",
       "      <td>knowledge transfer</td>\n",
       "      <td>Towards a European research hub on contemporary antisemitism and Jewish life and culture</td>\n",
       "      <td>Open For Submission</td>\n",
       "      <td>15 May 2025</td>\n",
       "      <td>16 September 2025</td>\n",
       "    </tr>\n",
       "    <tr>\n",
       "      <th>353</th>\n",
       "      <td>https://ec.europa.eu/info/funding-tenders/opportunities/portal/screen/opportunities/topic-details/HORIZON-WIDERA-2025-06-ERA-01?isExactMatch=true&amp;status=31094501,31094502&amp;order=DESC&amp;pageNumber=8&amp;pageSize=50&amp;sortBy=startDate</td>\n",
       "      <td>Yes</td>\n",
       "      <td>innovation support, knowledge transfer, technology transfer, research results, skills development</td>\n",
       "      <td>Rolling out the ERA Policy Agenda results</td>\n",
       "      <td>Open For Submission</td>\n",
       "      <td>15 May 2025</td>\n",
       "      <td>18 September 2025</td>\n",
       "    </tr>\n",
       "    <tr>\n",
       "      <th>360</th>\n",
       "      <td>https://ec.europa.eu/info/funding-tenders/opportunities/portal/screen/opportunities/topic-details/HORIZON-CL2-2025-03-HERITAGE-01?isExactMatch=true&amp;status=31094501,31094502&amp;order=DESC&amp;pageNumber=8&amp;pageSize=50&amp;sortBy=startDate</td>\n",
       "      <td>Yes</td>\n",
       "      <td>capacity building, knowledge transfer, call for proposals, sustainable development</td>\n",
       "      <td>Co-funded European partnership for Resilient Cultural Heritage</td>\n",
       "      <td>Open For Submission</td>\n",
       "      <td>15 May 2025</td>\n",
       "      <td>16 September 2025</td>\n",
       "    </tr>\n",
       "    <tr>\n",
       "      <th>371</th>\n",
       "      <td>https://ec.europa.eu/info/funding-tenders/opportunities/portal/screen/opportunities/topic-details/HORIZON-WIDERA-2025-01-ACCESS-01?isExactMatch=true&amp;status=31094501,31094502&amp;order=DESC&amp;pageNumber=8&amp;pageSize=50&amp;sortBy=startDate</td>\n",
       "      <td>Yes</td>\n",
       "      <td>capacity building, artificial intelligence, data science, digital transformation</td>\n",
       "      <td>European Excellence Initiative (EEI)</td>\n",
       "      <td>Open For Submission</td>\n",
       "      <td>08 May 2025</td>\n",
       "      <td>20 November 2025</td>\n",
       "    </tr>\n",
       "  </tbody>\n",
       "</table>\n",
       "<p>88 rows × 7 columns</p>\n",
       "</div>"
      ],
      "text/plain": [
       "                                                                                                                                                                                                                                    URL  \\\n",
       "2           https://ec.europa.eu/info/funding-tenders/opportunities/portal/screen/opportunities/topic-details/HORIZON-CL5-2026-02-D4-03?isExactMatch=true&status=31094501,31094502&order=DESC&pageNumber=1&pageSize=50&sortBy=startDate   \n",
       "4           https://ec.europa.eu/info/funding-tenders/opportunities/portal/screen/opportunities/topic-details/HORIZON-CL5-2026-02-D3-08?isExactMatch=true&status=31094501,31094502&order=DESC&pageNumber=1&pageSize=50&sortBy=startDate   \n",
       "5           https://ec.europa.eu/info/funding-tenders/opportunities/portal/screen/opportunities/topic-details/HORIZON-CL5-2026-02-D4-02?isExactMatch=true&status=31094501,31094502&order=DESC&pageNumber=1&pageSize=50&sortBy=startDate   \n",
       "6           https://ec.europa.eu/info/funding-tenders/opportunities/portal/screen/opportunities/topic-details/HORIZON-CL5-2026-02-D3-02?isExactMatch=true&status=31094501,31094502&order=DESC&pageNumber=1&pageSize=50&sortBy=startDate   \n",
       "13          https://ec.europa.eu/info/funding-tenders/opportunities/portal/screen/opportunities/topic-details/HORIZON-CL5-2026-02-D4-04?isExactMatch=true&status=31094501,31094502&order=DESC&pageNumber=1&pageSize=50&sortBy=startDate   \n",
       "..                                                                                                                                                                                                                                  ...   \n",
       "349  https://ec.europa.eu/info/funding-tenders/opportunities/portal/screen/opportunities/topic-details/HORIZON-CL2-2025-01-DEMOCRACY-12?isExactMatch=true&status=31094501,31094502&order=DESC&pageNumber=8&pageSize=50&sortBy=startDate   \n",
       "352  https://ec.europa.eu/info/funding-tenders/opportunities/portal/screen/opportunities/topic-details/HORIZON-CL2-2025-01-DEMOCRACY-06?isExactMatch=true&status=31094501,31094502&order=DESC&pageNumber=8&pageSize=50&sortBy=startDate   \n",
       "353     https://ec.europa.eu/info/funding-tenders/opportunities/portal/screen/opportunities/topic-details/HORIZON-WIDERA-2025-06-ERA-01?isExactMatch=true&status=31094501,31094502&order=DESC&pageNumber=8&pageSize=50&sortBy=startDate   \n",
       "360   https://ec.europa.eu/info/funding-tenders/opportunities/portal/screen/opportunities/topic-details/HORIZON-CL2-2025-03-HERITAGE-01?isExactMatch=true&status=31094501,31094502&order=DESC&pageNumber=8&pageSize=50&sortBy=startDate   \n",
       "371  https://ec.europa.eu/info/funding-tenders/opportunities/portal/screen/opportunities/topic-details/HORIZON-WIDERA-2025-01-ACCESS-01?isExactMatch=true&status=31094501,31094502&order=DESC&pageNumber=8&pageSize=50&sortBy=startDate   \n",
       "\n",
       "    Pertinence  \\\n",
       "2          Yes   \n",
       "4          Yes   \n",
       "5          Yes   \n",
       "6          Yes   \n",
       "13         Yes   \n",
       "..         ...   \n",
       "349        Yes   \n",
       "352        Yes   \n",
       "353        Yes   \n",
       "360        Yes   \n",
       "371        Yes   \n",
       "\n",
       "                                                                                      Matching Word(s)  \\\n",
       "2                                                                climate resilience, social innovation   \n",
       "4                                                    project design, renewable energy, economic impact   \n",
       "5                                                                                     renewable energy   \n",
       "6                                                  sustainable development, industrial competitiveness   \n",
       "13                                        artificial intelligence, renewable energy, social innovation   \n",
       "..                                                                                                 ...   \n",
       "349                                                                capacity building, research results   \n",
       "352                                                                                 knowledge transfer   \n",
       "353  innovation support, knowledge transfer, technology transfer, research results, skills development   \n",
       "360                 capacity building, knowledge transfer, call for proposals, sustainable development   \n",
       "371                   capacity building, artificial intelligence, data science, digital transformation   \n",
       "\n",
       "                                                                                                                                       Title  \\\n",
       "2                   Innovative pathways for low carbon and climate resilient building stock and built environment (Built4People Partnership)   \n",
       "4                                                                  Understand and minimise the environmental impacts of offshore wind energy   \n",
       "5                         Smarter buildings as part of the energy system for increased efficiency and flexibility – Societal Readiness Pilot   \n",
       "6    Competitiveness, energy security and integration aspects of advanced biofuels and renewable fuels of non-biological origin value chains   \n",
       "13                                                                     Innovative approaches for the deployment of Positive Energy Districts   \n",
       "..                                                                                                                                       ...   \n",
       "349                                                                                     Community of democracy practitioners and researchers   \n",
       "352                                                 Towards a European research hub on contemporary antisemitism and Jewish life and culture   \n",
       "353                                                                                                Rolling out the ERA Policy Agenda results   \n",
       "360                                                                           Co-funded European partnership for Resilient Cultural Heritage   \n",
       "371                                                                                                     European Excellence Initiative (EEI)   \n",
       "\n",
       "                  Status         Start_date           Deadline  \n",
       "2            Forthcoming  16 September 2025   17 February 2026  \n",
       "4            Forthcoming  16 September 2025   17 February 2026  \n",
       "5            Forthcoming  16 September 2025   17 February 2026  \n",
       "6            Forthcoming  16 September 2025   17 February 2026  \n",
       "13           Forthcoming  16 September 2025   17 February 2026  \n",
       "..                   ...                ...                ...  \n",
       "349  Open For Submission        15 May 2025  16 September 2025  \n",
       "352  Open For Submission        15 May 2025  16 September 2025  \n",
       "353  Open For Submission        15 May 2025  18 September 2025  \n",
       "360  Open For Submission        15 May 2025  16 September 2025  \n",
       "371  Open For Submission        08 May 2025   20 November 2025  \n",
       "\n",
       "[88 rows x 7 columns]"
      ]
     },
     "execution_count": 15,
     "metadata": {},
     "output_type": "execute_result"
    }
   ],
   "source": [
    "df_yes_final"
   ]
  },
  {
   "cell_type": "markdown",
   "id": "8b133647",
   "metadata": {},
   "source": [
    "##### LLM to chekc the pertinence of the projects by the projects of ODF"
   ]
  },
  {
   "cell_type": "code",
   "execution_count": 16,
   "id": "7df66e5f",
   "metadata": {
    "execution": {
     "iopub.execute_input": "2025-07-16T16:07:08.211571Z",
     "iopub.status.busy": "2025-07-16T16:07:08.211571Z",
     "iopub.status.idle": "2025-07-16T16:45:04.446418Z",
     "shell.execute_reply": "2025-07-16T16:45:04.444373Z"
    }
   },
   "outputs": [
    {
     "name": "stderr",
     "output_type": "stream",
     "text": [
      "\r",
      "🔍 Analyse des URLs:   0%|                                                                                      | 0/88 [00:00<?, ?it/s]"
     ]
    },
    {
     "name": "stdout",
     "output_type": "stream",
     "text": [
      "🟡 Traitement : https://ec.europa.eu/info/funding-tenders/opportunities/portal/screen/opportunities/topic-details/HORIZON-CL5-2026-02-D4-03?isExactMatch=true&status=31094501,31094502&order=DESC&pageNumber=1&pageSize=50&sortBy=startDate\n"
     ]
    },
    {
     "name": "stderr",
     "output_type": "stream",
     "text": [
      "\r",
      "🔍 Analyse des URLs:   1%|▉                                                                             | 1/88 [00:39<56:36, 39.04s/it]"
     ]
    },
    {
     "name": "stdout",
     "output_type": "stream",
     "text": [
      "🟡 Traitement : https://ec.europa.eu/info/funding-tenders/opportunities/portal/screen/opportunities/topic-details/HORIZON-CL5-2026-02-D3-08?isExactMatch=true&status=31094501,31094502&order=DESC&pageNumber=1&pageSize=50&sortBy=startDate\n"
     ]
    },
    {
     "name": "stderr",
     "output_type": "stream",
     "text": [
      "\r",
      "🔍 Analyse des URLs:   2%|█▊                                                                            | 2/88 [01:04<44:08, 30.79s/it]"
     ]
    },
    {
     "name": "stdout",
     "output_type": "stream",
     "text": [
      "🟡 Traitement : https://ec.europa.eu/info/funding-tenders/opportunities/portal/screen/opportunities/topic-details/HORIZON-CL5-2026-02-D4-02?isExactMatch=true&status=31094501,31094502&order=DESC&pageNumber=1&pageSize=50&sortBy=startDate\n"
     ]
    },
    {
     "name": "stderr",
     "output_type": "stream",
     "text": [
      "\r",
      "🔍 Analyse des URLs:   3%|██▋                                                                           | 3/88 [01:29<40:22, 28.50s/it]"
     ]
    },
    {
     "name": "stdout",
     "output_type": "stream",
     "text": [
      "🟡 Traitement : https://ec.europa.eu/info/funding-tenders/opportunities/portal/screen/opportunities/topic-details/HORIZON-CL5-2026-02-D3-02?isExactMatch=true&status=31094501,31094502&order=DESC&pageNumber=1&pageSize=50&sortBy=startDate\n"
     ]
    },
    {
     "name": "stderr",
     "output_type": "stream",
     "text": [
      "\r",
      "🔍 Analyse des URLs:   5%|███▌                                                                          | 4/88 [01:54<37:59, 27.14s/it]"
     ]
    },
    {
     "name": "stdout",
     "output_type": "stream",
     "text": [
      "🟡 Traitement : https://ec.europa.eu/info/funding-tenders/opportunities/portal/screen/opportunities/topic-details/HORIZON-CL5-2026-02-D4-04?isExactMatch=true&status=31094501,31094502&order=DESC&pageNumber=1&pageSize=50&sortBy=startDate\n"
     ]
    },
    {
     "name": "stderr",
     "output_type": "stream",
     "text": [
      "\r",
      "🔍 Analyse des URLs:   6%|████▍                                                                         | 5/88 [02:19<36:19, 26.26s/it]"
     ]
    },
    {
     "name": "stdout",
     "output_type": "stream",
     "text": [
      "🟡 Traitement : https://ec.europa.eu/info/funding-tenders/opportunities/portal/screen/opportunities/topic-details/HORIZON-CL5-2026-02-D3-18?isExactMatch=true&status=31094501,31094502&order=DESC&pageNumber=1&pageSize=50&sortBy=startDate\n"
     ]
    },
    {
     "name": "stderr",
     "output_type": "stream",
     "text": [
      "\r",
      "🔍 Analyse des URLs:   7%|█████▎                                                                        | 6/88 [02:44<35:18, 25.84s/it]"
     ]
    },
    {
     "name": "stdout",
     "output_type": "stream",
     "text": [
      "🟡 Traitement : https://ec.europa.eu/info/funding-tenders/opportunities/portal/screen/opportunities/topic-details/HORIZON-CL5-2026-01-D6-13?isExactMatch=true&status=31094501,31094502&order=DESC&pageNumber=1&pageSize=50&sortBy=startDate\n"
     ]
    },
    {
     "name": "stderr",
     "output_type": "stream",
     "text": [
      "\r",
      "🔍 Analyse des URLs:   8%|██████▏                                                                       | 7/88 [03:09<34:15, 25.38s/it]"
     ]
    },
    {
     "name": "stdout",
     "output_type": "stream",
     "text": [
      "🟡 Traitement : https://ec.europa.eu/info/funding-tenders/opportunities/portal/screen/opportunities/topic-details/HORIZON-CL5-2026-01-D6-07?isExactMatch=true&status=31094501,31094502&order=DESC&pageNumber=1&pageSize=50&sortBy=startDate\n"
     ]
    },
    {
     "name": "stderr",
     "output_type": "stream",
     "text": [
      "\r",
      "🔍 Analyse des URLs:   9%|███████                                                                       | 8/88 [03:34<33:42, 25.28s/it]"
     ]
    },
    {
     "name": "stdout",
     "output_type": "stream",
     "text": [
      "🟡 Traitement : https://ec.europa.eu/info/funding-tenders/opportunities/portal/screen/opportunities/topic-details/HORIZON-CL5-2026-01-D6-08?isExactMatch=true&status=31094501,31094502&order=DESC&pageNumber=1&pageSize=50&sortBy=startDate\n"
     ]
    },
    {
     "name": "stderr",
     "output_type": "stream",
     "text": [
      "\r",
      "🔍 Analyse des URLs:  10%|███████▉                                                                      | 9/88 [03:59<33:12, 25.22s/it]"
     ]
    },
    {
     "name": "stdout",
     "output_type": "stream",
     "text": [
      "🟡 Traitement : https://ec.europa.eu/info/funding-tenders/opportunities/portal/screen/opportunities/topic-details/HORIZON-CL5-2026-01-D6-14?isExactMatch=true&status=31094501,31094502&order=DESC&pageNumber=1&pageSize=50&sortBy=startDate\n"
     ]
    },
    {
     "name": "stderr",
     "output_type": "stream",
     "text": [
      "\r",
      "🔍 Analyse des URLs:  11%|████████▊                                                                    | 10/88 [04:23<32:33, 25.04s/it]"
     ]
    },
    {
     "name": "stdout",
     "output_type": "stream",
     "text": [
      "🟡 Traitement : https://ec.europa.eu/info/funding-tenders/opportunities/portal/screen/opportunities/topic-details/HORIZON-CL5-2026-01-D6-09?isExactMatch=true&status=31094501,31094502&order=DESC&pageNumber=1&pageSize=50&sortBy=startDate\n"
     ]
    },
    {
     "name": "stderr",
     "output_type": "stream",
     "text": [
      "\r",
      "🔍 Analyse des URLs:  12%|█████████▋                                                                   | 11/88 [04:48<31:53, 24.85s/it]"
     ]
    },
    {
     "name": "stdout",
     "output_type": "stream",
     "text": [
      "🟡 Traitement : https://ec.europa.eu/info/funding-tenders/opportunities/portal/screen/opportunities/topic-details/HORIZON-CL5-2026-01-D6-06?isExactMatch=true&status=31094501,31094502&order=DESC&pageNumber=1&pageSize=50&sortBy=startDate\n"
     ]
    },
    {
     "name": "stderr",
     "output_type": "stream",
     "text": [
      "\r",
      "🔍 Analyse des URLs:  14%|██████████▌                                                                  | 12/88 [05:12<31:16, 24.70s/it]"
     ]
    },
    {
     "name": "stdout",
     "output_type": "stream",
     "text": [
      "🟡 Traitement : https://ec.europa.eu/info/funding-tenders/opportunities/portal/screen/opportunities/topic-details/HORIZON-CL5-2026-01-D6-10?isExactMatch=true&status=31094501,31094502&order=DESC&pageNumber=1&pageSize=50&sortBy=startDate\n"
     ]
    },
    {
     "name": "stderr",
     "output_type": "stream",
     "text": [
      "\r",
      "🔍 Analyse des URLs:  15%|███████████▍                                                                 | 13/88 [05:37<30:55, 24.74s/it]"
     ]
    },
    {
     "name": "stdout",
     "output_type": "stream",
     "text": [
      "🟡 Traitement : https://ec.europa.eu/info/funding-tenders/opportunities/portal/screen/opportunities/topic-details/HORIZON-EIE-2026-01-CONNECT-03?isExactMatch=true&status=31094501,31094502&order=DESC&pageNumber=1&pageSize=50&sortBy=startDate\n"
     ]
    },
    {
     "name": "stderr",
     "output_type": "stream",
     "text": [
      "\r",
      "🔍 Analyse des URLs:  16%|████████████▎                                                                | 14/88 [06:01<30:23, 24.64s/it]"
     ]
    },
    {
     "name": "stdout",
     "output_type": "stream",
     "text": [
      "🟡 Traitement : https://ec.europa.eu/info/funding-tenders/opportunities/portal/screen/opportunities/topic-details/HORIZON-EIE-2026-01-CONNECT-02?isExactMatch=true&status=31094501,31094502&order=DESC&pageNumber=1&pageSize=50&sortBy=startDate\n"
     ]
    },
    {
     "name": "stderr",
     "output_type": "stream",
     "text": [
      "\r",
      "🔍 Analyse des URLs:  17%|█████████████                                                                | 15/88 [06:27<30:29, 25.06s/it]"
     ]
    },
    {
     "name": "stdout",
     "output_type": "stream",
     "text": [
      "🟡 Traitement : https://ec.europa.eu/info/funding-tenders/opportunities/portal/screen/opportunities/topic-details/HORIZON-EIE-2026-01-CONNECT-01?isExactMatch=true&status=31094501,31094502&order=DESC&pageNumber=1&pageSize=50&sortBy=startDate\n"
     ]
    },
    {
     "name": "stderr",
     "output_type": "stream",
     "text": [
      "\r",
      "🔍 Analyse des URLs:  18%|██████████████                                                               | 16/88 [06:58<31:54, 26.58s/it]"
     ]
    },
    {
     "name": "stdout",
     "output_type": "stream",
     "text": [
      "🟡 Traitement : https://ec.europa.eu/info/funding-tenders/opportunities/portal/screen/opportunities/topic-details/HORIZON-EIC-2025-PATHFINDERCHALLENGES-01-04?isExactMatch=true&status=31094501,31094502&order=DESC&pageNumber=2&pageSize=50&sortBy=startDate\n"
     ]
    },
    {
     "name": "stderr",
     "output_type": "stream",
     "text": [
      "\r",
      "🔍 Analyse des URLs:  19%|██████████████▉                                                              | 17/88 [07:23<31:05, 26.27s/it]"
     ]
    },
    {
     "name": "stdout",
     "output_type": "stream",
     "text": [
      "🟡 Traitement : https://ec.europa.eu/info/funding-tenders/opportunities/portal/screen/opportunities/topic-details/HORIZON-EIC-2025-PATHFINDERCHALLENGES-01-03?isExactMatch=true&status=31094501,31094502&order=DESC&pageNumber=2&pageSize=50&sortBy=startDate\n"
     ]
    },
    {
     "name": "stderr",
     "output_type": "stream",
     "text": [
      "\r",
      "🔍 Analyse des URLs:  20%|███████████████▊                                                             | 18/88 [07:47<29:58, 25.70s/it]"
     ]
    },
    {
     "name": "stdout",
     "output_type": "stream",
     "text": [
      "🟡 Traitement : https://ec.europa.eu/info/funding-tenders/opportunities/portal/screen/opportunities/topic-details/HORIZON-EIC-2025-PATHFINDERCHALLENGES-01-02?isExactMatch=true&status=31094501,31094502&order=DESC&pageNumber=2&pageSize=50&sortBy=startDate\n"
     ]
    },
    {
     "name": "stderr",
     "output_type": "stream",
     "text": [
      "\r",
      "🔍 Analyse des URLs:  22%|████████████████▋                                                            | 19/88 [08:12<29:11, 25.39s/it]"
     ]
    },
    {
     "name": "stdout",
     "output_type": "stream",
     "text": [
      "🟡 Traitement : https://ec.europa.eu/info/funding-tenders/opportunities/portal/screen/opportunities/topic-details/HORIZON-EIC-2025-PATHFINDERCHALLENGES-01-01?isExactMatch=true&status=31094501,31094502&order=DESC&pageNumber=2&pageSize=50&sortBy=startDate\n"
     ]
    },
    {
     "name": "stderr",
     "output_type": "stream",
     "text": [
      "\r",
      "🔍 Analyse des URLs:  23%|█████████████████▌                                                           | 20/88 [08:37<28:27, 25.11s/it]"
     ]
    },
    {
     "name": "stdout",
     "output_type": "stream",
     "text": [
      "🟡 Traitement : https://ec.europa.eu/info/funding-tenders/opportunities/portal/screen/opportunities/topic-details/DIGITAL-IRIS2-2025-QCI-01?isExactMatch=true&status=31094501,31094502&order=DESC&pageNumber=2&pageSize=50&sortBy=startDate\n"
     ]
    },
    {
     "name": "stderr",
     "output_type": "stream",
     "text": [
      "\r",
      "🔍 Analyse des URLs:  24%|██████████████████▍                                                          | 21/88 [09:01<27:54, 24.99s/it]"
     ]
    },
    {
     "name": "stdout",
     "output_type": "stream",
     "text": [
      "🟡 Traitement : https://ec.europa.eu/info/funding-tenders/opportunities/portal/screen/opportunities/topic-details/CERV-2025-EQUAL-ANTIMUSLIM?isExactMatch=true&status=31094501,31094502&order=DESC&pageNumber=2&pageSize=50&sortBy=startDate\n"
     ]
    },
    {
     "name": "stderr",
     "output_type": "stream",
     "text": [
      "\r",
      "🔍 Analyse des URLs:  25%|███████████████████▎                                                         | 22/88 [09:26<27:20, 24.86s/it]"
     ]
    },
    {
     "name": "stdout",
     "output_type": "stream",
     "text": [
      "🟡 Traitement : https://ec.europa.eu/info/funding-tenders/opportunities/portal/screen/opportunities/topic-details/CERV-2025-EQUAL-DIVERSITYMGT?isExactMatch=true&status=31094501,31094502&order=DESC&pageNumber=2&pageSize=50&sortBy=startDate\n"
     ]
    },
    {
     "name": "stderr",
     "output_type": "stream",
     "text": [
      "\r",
      "🔍 Analyse des URLs:  26%|████████████████████▏                                                        | 23/88 [09:50<26:51, 24.79s/it]"
     ]
    },
    {
     "name": "stdout",
     "output_type": "stream",
     "text": [
      "🟡 Traitement : https://ec.europa.eu/info/funding-tenders/opportunities/portal/screen/opportunities/topic-details/CERV-2025-EQUAL-RESTRICTED?isExactMatch=true&status=31094501,31094502&order=DESC&pageNumber=2&pageSize=50&sortBy=startDate\n"
     ]
    },
    {
     "name": "stderr",
     "output_type": "stream",
     "text": [
      "\r",
      "🔍 Analyse des URLs:  27%|█████████████████████                                                        | 24/88 [10:15<26:16, 24.63s/it]"
     ]
    },
    {
     "name": "stdout",
     "output_type": "stream",
     "text": [
      "🟡 Traitement : https://ec.europa.eu/info/funding-tenders/opportunities/portal/screen/opportunities/topic-details/CERV-2025-EQUAL-LGBTIQ?isExactMatch=true&status=31094501,31094502&order=DESC&pageNumber=2&pageSize=50&sortBy=startDate\n"
     ]
    },
    {
     "name": "stderr",
     "output_type": "stream",
     "text": [
      "\r",
      "🔍 Analyse des URLs:  28%|█████████████████████▉                                                       | 25/88 [10:39<25:46, 24.55s/it]"
     ]
    },
    {
     "name": "stdout",
     "output_type": "stream",
     "text": [
      "🟡 Traitement : https://ec.europa.eu/info/funding-tenders/opportunities/portal/screen/opportunities/topic-details/CERV-2025-EQUAL-ANTISEMITISM?isExactMatch=true&status=31094501,31094502&order=DESC&pageNumber=2&pageSize=50&sortBy=startDate\n"
     ]
    },
    {
     "name": "stderr",
     "output_type": "stream",
     "text": [
      "\r",
      "🔍 Analyse des URLs:  30%|██████████████████████▊                                                      | 26/88 [11:03<25:19, 24.51s/it]"
     ]
    },
    {
     "name": "stdout",
     "output_type": "stream",
     "text": [
      "🟡 Traitement : https://ec.europa.eu/info/funding-tenders/opportunities/portal/screen/opportunities/topic-details/EUBA-EFSA-2025-IDATA-01-01-Lot1?isExactMatch=true&status=31094501,31094502&order=DESC&pageNumber=2&pageSize=50&sortBy=startDate\n"
     ]
    },
    {
     "name": "stderr",
     "output_type": "stream",
     "text": [
      "\r",
      "🔍 Analyse des URLs:  31%|███████████████████████▋                                                     | 27/88 [11:30<25:29, 25.07s/it]"
     ]
    },
    {
     "name": "stdout",
     "output_type": "stream",
     "text": [
      "🟡 Traitement : https://ec.europa.eu/info/funding-tenders/opportunities/portal/screen/opportunities/topic-details/EUBA-EFSA-2025-IDATA-01-02-Lot2?isExactMatch=true&status=31094501,31094502&order=DESC&pageNumber=2&pageSize=50&sortBy=startDate\n"
     ]
    },
    {
     "name": "stderr",
     "output_type": "stream",
     "text": [
      "\r",
      "🔍 Analyse des URLs:  32%|████████████████████████▌                                                    | 28/88 [11:55<25:04, 25.07s/it]"
     ]
    },
    {
     "name": "stdout",
     "output_type": "stream",
     "text": [
      "🟡 Traitement : https://ec.europa.eu/info/funding-tenders/opportunities/portal/screen/opportunities/topic-details/DIGITAL-JU-CHIPS-2025-SG-SSOI?isExactMatch=true&status=31094501,31094502&order=DESC&pageNumber=2&pageSize=50&sortBy=startDate\n"
     ]
    },
    {
     "name": "stderr",
     "output_type": "stream",
     "text": [
      "\r",
      "🔍 Analyse des URLs:  33%|█████████████████████████▍                                                   | 29/88 [12:21<24:52, 25.29s/it]"
     ]
    },
    {
     "name": "stdout",
     "output_type": "stream",
     "text": [
      "🟡 Traitement : https://ec.europa.eu/info/funding-tenders/opportunities/portal/screen/opportunities/topic-details/DIGITAL-JU-CHIPS-2025-IA-LEAI?isExactMatch=true&status=31094501,31094502&order=DESC&pageNumber=2&pageSize=50&sortBy=startDate\n"
     ]
    },
    {
     "name": "stderr",
     "output_type": "stream",
     "text": [
      "\r",
      "🔍 Analyse des URLs:  34%|██████████████████████████▏                                                  | 30/88 [12:48<24:55, 25.78s/it]"
     ]
    },
    {
     "name": "stdout",
     "output_type": "stream",
     "text": [
      "🟡 Traitement : https://ec.europa.eu/info/funding-tenders/opportunities/portal/screen/opportunities/topic-details/HORIZON-EUROHPC-JU-2025-IHPCSS-02?isExactMatch=true&status=31094501,31094502&order=DESC&pageNumber=2&pageSize=50&sortBy=startDate\n"
     ]
    },
    {
     "name": "stderr",
     "output_type": "stream",
     "text": [
      "\r",
      "🔍 Analyse des URLs:  35%|███████████████████████████▏                                                 | 31/88 [13:15<24:50, 26.15s/it]"
     ]
    },
    {
     "name": "stdout",
     "output_type": "stream",
     "text": [
      "🟡 Traitement : https://ec.europa.eu/info/funding-tenders/opportunities/portal/screen/opportunities/topic-details/CEF-DIG-2025-PLATFORMS-WORKS?isExactMatch=true&status=31094501,31094502&order=DESC&pageNumber=2&pageSize=50&sortBy=startDate\n"
     ]
    },
    {
     "name": "stderr",
     "output_type": "stream",
     "text": [
      "\r",
      "🔍 Analyse des URLs:  36%|████████████████████████████                                                 | 32/88 [13:39<23:59, 25.70s/it]"
     ]
    },
    {
     "name": "stdout",
     "output_type": "stream",
     "text": [
      "🟡 Traitement : https://ec.europa.eu/info/funding-tenders/opportunities/portal/screen/opportunities/topic-details/CERV-2025-CITIZENS-REM-HISTMIGRATION?isExactMatch=true&status=31094501,31094502&order=DESC&pageNumber=3&pageSize=50&sortBy=startDate\n"
     ]
    },
    {
     "name": "stderr",
     "output_type": "stream",
     "text": [
      "\r",
      "🔍 Analyse des URLs:  38%|████████████████████████████▉                                                | 33/88 [14:04<23:17, 25.40s/it]"
     ]
    },
    {
     "name": "stdout",
     "output_type": "stream",
     "text": [
      "🟡 Traitement : https://ec.europa.eu/info/funding-tenders/opportunities/portal/screen/opportunities/topic-details/RFCS-2025-02-AM?isExactMatch=true&status=31094501,31094502&order=DESC&pageNumber=3&pageSize=50&sortBy=startDate\n"
     ]
    },
    {
     "name": "stderr",
     "output_type": "stream",
     "text": [
      "\r",
      "🔍 Analyse des URLs:  39%|█████████████████████████████▊                                               | 34/88 [14:29<22:39, 25.18s/it]"
     ]
    },
    {
     "name": "stdout",
     "output_type": "stream",
     "text": [
      "🟡 Traitement : https://ec.europa.eu/info/funding-tenders/opportunities/portal/screen/opportunities/topic-details/RFCS-2025-02-RPJ?isExactMatch=true&status=31094501,31094502&order=DESC&pageNumber=3&pageSize=50&sortBy=startDate\n"
     ]
    },
    {
     "name": "stderr",
     "output_type": "stream",
     "text": [
      "\r",
      "🔍 Analyse des URLs:  40%|██████████████████████████████▋                                              | 35/88 [14:54<22:12, 25.13s/it]"
     ]
    },
    {
     "name": "stdout",
     "output_type": "stream",
     "text": [
      "🟡 Traitement : https://ec.europa.eu/info/funding-tenders/opportunities/portal/screen/opportunities/topic-details/HORIZON-JU-IHI-2025-11-04-two-stage?isExactMatch=true&status=31094501,31094502&order=DESC&pageNumber=3&pageSize=50&sortBy=startDate\n"
     ]
    },
    {
     "name": "stderr",
     "output_type": "stream",
     "text": [
      "\r",
      "🔍 Analyse des URLs:  41%|███████████████████████████████▌                                             | 36/88 [15:19<21:47, 25.15s/it]"
     ]
    },
    {
     "name": "stdout",
     "output_type": "stream",
     "text": [
      "🟡 Traitement : https://ec.europa.eu/info/funding-tenders/opportunities/portal/screen/opportunities/topic-details/HORIZON-JU-IHI-2025-11-02-two-stage?isExactMatch=true&status=31094501,31094502&order=DESC&pageNumber=3&pageSize=50&sortBy=startDate\n"
     ]
    },
    {
     "name": "stderr",
     "output_type": "stream",
     "text": [
      "\r",
      "🔍 Analyse des URLs:  42%|████████████████████████████████▍                                            | 37/88 [15:44<21:18, 25.07s/it]"
     ]
    },
    {
     "name": "stdout",
     "output_type": "stream",
     "text": [
      "🟡 Traitement : https://ec.europa.eu/info/funding-tenders/opportunities/portal/screen/opportunities/topic-details/HORIZON-JU-IHI-2025-11-03-two-stage?isExactMatch=true&status=31094501,31094502&order=DESC&pageNumber=3&pageSize=50&sortBy=startDate\n"
     ]
    },
    {
     "name": "stderr",
     "output_type": "stream",
     "text": [
      "\r",
      "🔍 Analyse des URLs:  43%|█████████████████████████████████▎                                           | 38/88 [16:08<20:44, 24.90s/it]"
     ]
    },
    {
     "name": "stdout",
     "output_type": "stream",
     "text": [
      "🟡 Traitement : https://ec.europa.eu/info/funding-tenders/opportunities/portal/screen/opportunities/topic-details/HORIZON-JU-IHI-2025-11-01-two-stage?isExactMatch=true&status=31094501,31094502&order=DESC&pageNumber=3&pageSize=50&sortBy=startDate\n"
     ]
    },
    {
     "name": "stderr",
     "output_type": "stream",
     "text": [
      "\r",
      "🔍 Analyse des URLs:  44%|██████████████████████████████████▏                                          | 39/88 [16:33<20:13, 24.76s/it]"
     ]
    },
    {
     "name": "stdout",
     "output_type": "stream",
     "text": [
      "🟡 Traitement : https://ec.europa.eu/info/funding-tenders/opportunities/portal/screen/opportunities/topic-details/HORIZON-JU-IHI-2025-11-05-two-stage?isExactMatch=true&status=31094501,31094502&order=DESC&pageNumber=3&pageSize=50&sortBy=startDate\n"
     ]
    },
    {
     "name": "stderr",
     "output_type": "stream",
     "text": [
      "\r",
      "🔍 Analyse des URLs:  45%|███████████████████████████████████                                          | 40/88 [16:59<20:12, 25.26s/it]"
     ]
    },
    {
     "name": "stdout",
     "output_type": "stream",
     "text": [
      "🟡 Traitement : https://ec.europa.eu/info/funding-tenders/opportunities/portal/screen/opportunities/topic-details/HORIZON-CL3-2025-02-CS-ECCC-04?isExactMatch=true&status=31094501,31094502&order=DESC&pageNumber=3&pageSize=50&sortBy=startDate\n"
     ]
    },
    {
     "name": "stderr",
     "output_type": "stream",
     "text": [
      "\r",
      "🔍 Analyse des URLs:  47%|███████████████████████████████████▉                                         | 41/88 [17:24<19:38, 25.07s/it]"
     ]
    },
    {
     "name": "stdout",
     "output_type": "stream",
     "text": [
      "🟡 Traitement : https://ec.europa.eu/info/funding-tenders/opportunities/portal/screen/opportunities/topic-details/DIGITAL-ECCC-2025-DEPLOY-CYBER-08-NCC?isExactMatch=true&status=31094501,31094502&order=DESC&pageNumber=3&pageSize=50&sortBy=startDate\n"
     ]
    },
    {
     "name": "stderr",
     "output_type": "stream",
     "text": [
      "\r",
      "🔍 Analyse des URLs:  48%|████████████████████████████████████▊                                        | 42/88 [17:48<19:07, 24.94s/it]"
     ]
    },
    {
     "name": "stdout",
     "output_type": "stream",
     "text": [
      "🟡 Traitement : https://ec.europa.eu/info/funding-tenders/opportunities/portal/screen/opportunities/topic-details/DIGITAL-ECCC-2025-DEPLOY-CYBER-08-CYBERHEALTH?isExactMatch=true&status=31094501,31094502&order=DESC&pageNumber=3&pageSize=50&sortBy=startDate\n"
     ]
    },
    {
     "name": "stderr",
     "output_type": "stream",
     "text": [
      "\r",
      "🔍 Analyse des URLs:  49%|█████████████████████████████████████▋                                       | 43/88 [18:13<18:37, 24.83s/it]"
     ]
    },
    {
     "name": "stdout",
     "output_type": "stream",
     "text": [
      "🟡 Traitement : https://ec.europa.eu/info/funding-tenders/opportunities/portal/screen/opportunities/topic-details/HORIZON-CL3-2025-01-DRS-04?isExactMatch=true&status=31094501,31094502&order=DESC&pageNumber=4&pageSize=50&sortBy=startDate\n"
     ]
    },
    {
     "name": "stderr",
     "output_type": "stream",
     "text": [
      "\r",
      "🔍 Analyse des URLs:  50%|██████████████████████████████████████▌                                      | 44/88 [18:38<18:09, 24.76s/it]"
     ]
    },
    {
     "name": "stdout",
     "output_type": "stream",
     "text": [
      "🟡 Traitement : https://ec.europa.eu/info/funding-tenders/opportunities/portal/screen/opportunities/topic-details/HORIZON-CL3-2025-01-DRS-03?isExactMatch=true&status=31094501,31094502&order=DESC&pageNumber=4&pageSize=50&sortBy=startDate\n"
     ]
    },
    {
     "name": "stderr",
     "output_type": "stream",
     "text": [
      "\r",
      "🔍 Analyse des URLs:  51%|███████████████████████████████████████▍                                     | 45/88 [19:02<17:44, 24.76s/it]"
     ]
    },
    {
     "name": "stdout",
     "output_type": "stream",
     "text": [
      "🟡 Traitement : https://ec.europa.eu/info/funding-tenders/opportunities/portal/screen/opportunities/topic-details/HORIZON-CL3-2025-01-SSRI-01?isExactMatch=true&status=31094501,31094502&order=DESC&pageNumber=4&pageSize=50&sortBy=startDate\n"
     ]
    },
    {
     "name": "stderr",
     "output_type": "stream",
     "text": [
      "\r",
      "🔍 Analyse des URLs:  52%|████████████████████████████████████████▎                                    | 46/88 [19:27<17:19, 24.74s/it]"
     ]
    },
    {
     "name": "stdout",
     "output_type": "stream",
     "text": [
      "🟡 Traitement : https://ec.europa.eu/info/funding-tenders/opportunities/portal/screen/opportunities/topic-details/HORIZON-CL3-2025-01-BM-02?isExactMatch=true&status=31094501,31094502&order=DESC&pageNumber=4&pageSize=50&sortBy=startDate\n"
     ]
    },
    {
     "name": "stderr",
     "output_type": "stream",
     "text": [
      "\r",
      "🔍 Analyse des URLs:  53%|█████████████████████████████████████████▏                                   | 47/88 [19:52<16:58, 24.84s/it]"
     ]
    },
    {
     "name": "stdout",
     "output_type": "stream",
     "text": [
      "🟡 Traitement : https://ec.europa.eu/info/funding-tenders/opportunities/portal/screen/opportunities/topic-details/HORIZON-CL4-2025-03-DIGITAL-EMERGING-09?isExactMatch=true&status=31094501,31094502&order=DESC&pageNumber=4&pageSize=50&sortBy=startDate\n"
     ]
    },
    {
     "name": "stderr",
     "output_type": "stream",
     "text": [
      "\r",
      "🔍 Analyse des URLs:  55%|██████████████████████████████████████████                                   | 48/88 [20:17<16:32, 24.81s/it]"
     ]
    },
    {
     "name": "stdout",
     "output_type": "stream",
     "text": [
      "🟡 Traitement : https://ec.europa.eu/info/funding-tenders/opportunities/portal/screen/opportunities/topic-details/HORIZON-CL4-2025-03-HUMAN-17?isExactMatch=true&status=31094501,31094502&order=DESC&pageNumber=4&pageSize=50&sortBy=startDate\n"
     ]
    },
    {
     "name": "stderr",
     "output_type": "stream",
     "text": [
      "\r",
      "🔍 Analyse des URLs:  56%|██████████████████████████████████████████▊                                  | 49/88 [20:59<19:26, 29.90s/it]"
     ]
    },
    {
     "name": "stdout",
     "output_type": "stream",
     "text": [
      "🟡 Traitement : https://ec.europa.eu/info/funding-tenders/opportunities/portal/screen/opportunities/topic-details/HORIZON-CL4-2025-03-DIGITAL-EMERGING-04?isExactMatch=true&status=31094501,31094502&order=DESC&pageNumber=4&pageSize=50&sortBy=startDate\n"
     ]
    },
    {
     "name": "stderr",
     "output_type": "stream",
     "text": [
      "\r",
      "🔍 Analyse des URLs:  57%|███████████████████████████████████████████▊                                 | 50/88 [21:24<18:01, 28.47s/it]"
     ]
    },
    {
     "name": "stdout",
     "output_type": "stream",
     "text": [
      "🟡 Traitement : https://ec.europa.eu/info/funding-tenders/opportunities/portal/screen/opportunities/topic-details/HORIZON-JU-EUROHPC-2026-COE-LH-01-03?isExactMatch=true&status=31094501,31094502&order=DESC&pageNumber=5&pageSize=50&sortBy=startDate\n"
     ]
    },
    {
     "name": "stderr",
     "output_type": "stream",
     "text": [
      "\r",
      "🔍 Analyse des URLs:  58%|████████████████████████████████████████████▋                                | 51/88 [21:50<17:10, 27.86s/it]"
     ]
    },
    {
     "name": "stdout",
     "output_type": "stream",
     "text": [
      "🟡 Traitement : https://ec.europa.eu/info/funding-tenders/opportunities/portal/screen/opportunities/topic-details/HORIZON-JU-EUROHPC-2026-COE-LH-01-02?isExactMatch=true&status=31094501,31094502&order=DESC&pageNumber=5&pageSize=50&sortBy=startDate\n"
     ]
    },
    {
     "name": "stderr",
     "output_type": "stream",
     "text": [
      "\r",
      "🔍 Analyse des URLs:  59%|█████████████████████████████████████████████▌                               | 52/88 [22:18<16:40, 27.78s/it]"
     ]
    },
    {
     "name": "stdout",
     "output_type": "stream",
     "text": [
      "🟡 Traitement : https://ec.europa.eu/info/funding-tenders/opportunities/portal/screen/opportunities/topic-details/HORIZON-CL4-2025-03-HUMAN-16?isExactMatch=true&status=31094501,31094502&order=DESC&pageNumber=5&pageSize=50&sortBy=startDate\n"
     ]
    },
    {
     "name": "stderr",
     "output_type": "stream",
     "text": [
      "\r",
      "🔍 Analyse des URLs:  60%|██████████████████████████████████████████████▍                              | 53/88 [22:42<15:39, 26.85s/it]"
     ]
    },
    {
     "name": "stdout",
     "output_type": "stream",
     "text": [
      "🟡 Traitement : https://ec.europa.eu/info/funding-tenders/opportunities/portal/screen/opportunities/topic-details/HORIZON-CL4-2025-03-DATA-08?isExactMatch=true&status=31094501,31094502&order=DESC&pageNumber=5&pageSize=50&sortBy=startDate\n"
     ]
    },
    {
     "name": "stderr",
     "output_type": "stream",
     "text": [
      "\r",
      "🔍 Analyse des URLs:  61%|███████████████████████████████████████████████▎                             | 54/88 [23:07<14:50, 26.19s/it]"
     ]
    },
    {
     "name": "stdout",
     "output_type": "stream",
     "text": [
      "🟡 Traitement : https://ec.europa.eu/info/funding-tenders/opportunities/portal/screen/opportunities/topic-details/HORIZON-CL4-2025-03-DATA-13?isExactMatch=true&status=31094501,31094502&order=DESC&pageNumber=5&pageSize=50&sortBy=startDate\n"
     ]
    },
    {
     "name": "stderr",
     "output_type": "stream",
     "text": [
      "\r",
      "🔍 Analyse des URLs:  62%|████████████████████████████████████████████████▏                            | 55/88 [23:32<14:08, 25.72s/it]"
     ]
    },
    {
     "name": "stdout",
     "output_type": "stream",
     "text": [
      "🟡 Traitement : https://ec.europa.eu/info/funding-tenders/opportunities/portal/screen/opportunities/topic-details/HORIZON-CL4-2025-04-DIGITAL-EMERGING-05?isExactMatch=true&status=31094501,31094502&order=DESC&pageNumber=5&pageSize=50&sortBy=startDate\n"
     ]
    },
    {
     "name": "stderr",
     "output_type": "stream",
     "text": [
      "\r",
      "🔍 Analyse des URLs:  64%|█████████████████████████████████████████████████                            | 56/88 [23:56<13:32, 25.40s/it]"
     ]
    },
    {
     "name": "stdout",
     "output_type": "stream",
     "text": [
      "🟡 Traitement : https://ec.europa.eu/info/funding-tenders/opportunities/portal/screen/opportunities/topic-details/HORIZON-HLTH-2025-01-DISEASE-01?isExactMatch=true&status=31094501,31094502&order=DESC&pageNumber=6&pageSize=50&sortBy=startDate\n"
     ]
    },
    {
     "name": "stderr",
     "output_type": "stream",
     "text": [
      "\r",
      "🔍 Analyse des URLs:  65%|█████████████████████████████████████████████████▉                           | 57/88 [24:22<13:13, 25.59s/it]"
     ]
    },
    {
     "name": "stdout",
     "output_type": "stream",
     "text": [
      "🟡 Traitement : https://ec.europa.eu/info/funding-tenders/opportunities/portal/screen/opportunities/topic-details/HORIZON-CL4-INDUSTRY-2025-01-MATERIALS-62?isExactMatch=true&status=31094501,31094502&order=DESC&pageNumber=7&pageSize=50&sortBy=startDate\n"
     ]
    },
    {
     "name": "stderr",
     "output_type": "stream",
     "text": [
      "\r",
      "🔍 Analyse des URLs:  66%|██████████████████████████████████████████████████▊                          | 58/88 [24:49<12:56, 25.90s/it]"
     ]
    },
    {
     "name": "stdout",
     "output_type": "stream",
     "text": [
      "🟡 Traitement : https://ec.europa.eu/info/funding-tenders/opportunities/portal/screen/opportunities/topic-details/HORIZON-CL4-INDUSTRY-2025-01-DIGITAL-62?isExactMatch=true&status=31094501,31094502&order=DESC&pageNumber=7&pageSize=50&sortBy=startDate\n"
     ]
    },
    {
     "name": "stderr",
     "output_type": "stream",
     "text": [
      "\r",
      "🔍 Analyse des URLs:  67%|███████████████████████████████████████████████████▋                         | 59/88 [25:14<12:20, 25.55s/it]"
     ]
    },
    {
     "name": "stdout",
     "output_type": "stream",
     "text": [
      "🟡 Traitement : https://ec.europa.eu/info/funding-tenders/opportunities/portal/screen/opportunities/topic-details/HORIZON-CL4-INDUSTRY-2025-01-MATERIALS-45?isExactMatch=true&status=31094501,31094502&order=DESC&pageNumber=7&pageSize=50&sortBy=startDate\n"
     ]
    },
    {
     "name": "stderr",
     "output_type": "stream",
     "text": [
      "\r",
      "🔍 Analyse des URLs:  68%|████████████████████████████████████████████████████▍                        | 60/88 [25:39<11:50, 25.38s/it]"
     ]
    },
    {
     "name": "stdout",
     "output_type": "stream",
     "text": [
      "🟡 Traitement : https://ec.europa.eu/info/funding-tenders/opportunities/portal/screen/opportunities/topic-details/HORIZON-CL4-INDUSTRY-2025-01-TWIN-TRANSITION-33?isExactMatch=true&status=31094501,31094502&order=DESC&pageNumber=7&pageSize=50&sortBy=startDate\n"
     ]
    },
    {
     "name": "stderr",
     "output_type": "stream",
     "text": [
      "\r",
      "🔍 Analyse des URLs:  69%|█████████████████████████████████████████████████████▍                       | 61/88 [26:04<11:22, 25.26s/it]"
     ]
    },
    {
     "name": "stdout",
     "output_type": "stream",
     "text": [
      "🟡 Traitement : https://ec.europa.eu/info/funding-tenders/opportunities/portal/screen/opportunities/topic-details/HORIZON-CL4-2025-02-SPACE-74?isExactMatch=true&status=31094501,31094502&order=DESC&pageNumber=7&pageSize=50&sortBy=startDate\n"
     ]
    },
    {
     "name": "stderr",
     "output_type": "stream",
     "text": [
      "\r",
      "🔍 Analyse des URLs:  70%|██████████████████████████████████████████████████████▎                      | 62/88 [26:29<10:57, 25.29s/it]"
     ]
    },
    {
     "name": "stdout",
     "output_type": "stream",
     "text": [
      "🟡 Traitement : https://ec.europa.eu/info/funding-tenders/opportunities/portal/screen/opportunities/topic-details/HORIZON-CL4-2025-02-SPACE-32?isExactMatch=true&status=31094501,31094502&order=DESC&pageNumber=7&pageSize=50&sortBy=startDate\n"
     ]
    },
    {
     "name": "stderr",
     "output_type": "stream",
     "text": [
      "\r",
      "🔍 Analyse des URLs:  72%|███████████████████████████████████████████████████████▏                     | 63/88 [26:54<10:30, 25.20s/it]"
     ]
    },
    {
     "name": "stdout",
     "output_type": "stream",
     "text": [
      "🟡 Traitement : https://ec.europa.eu/info/funding-tenders/opportunities/portal/screen/opportunities/topic-details/HORIZON-CL4-2025-02-SPACE-22?isExactMatch=true&status=31094501,31094502&order=DESC&pageNumber=7&pageSize=50&sortBy=startDate\n"
     ]
    },
    {
     "name": "stderr",
     "output_type": "stream",
     "text": [
      "\r",
      "🔍 Analyse des URLs:  73%|████████████████████████████████████████████████████████                     | 64/88 [27:19<10:00, 25.00s/it]"
     ]
    },
    {
     "name": "stdout",
     "output_type": "stream",
     "text": [
      "🟡 Traitement : https://ec.europa.eu/info/funding-tenders/opportunities/portal/screen/opportunities/topic-details/HORIZON-CL4-2025-02-SPACE-42?isExactMatch=true&status=31094501,31094502&order=DESC&pageNumber=7&pageSize=50&sortBy=startDate\n"
     ]
    },
    {
     "name": "stderr",
     "output_type": "stream",
     "text": [
      "\r",
      "🔍 Analyse des URLs:  74%|████████████████████████████████████████████████████████▉                    | 65/88 [27:44<09:37, 25.11s/it]"
     ]
    },
    {
     "name": "stdout",
     "output_type": "stream",
     "text": [
      "🟡 Traitement : https://ec.europa.eu/info/funding-tenders/opportunities/portal/screen/opportunities/topic-details/HORIZON-CL4-2025-02-SPACE-73?isExactMatch=true&status=31094501,31094502&order=DESC&pageNumber=7&pageSize=50&sortBy=startDate\n"
     ]
    },
    {
     "name": "stderr",
     "output_type": "stream",
     "text": [
      "\r",
      "🔍 Analyse des URLs:  75%|█████████████████████████████████████████████████████████▊                   | 66/88 [28:09<09:09, 24.99s/it]"
     ]
    },
    {
     "name": "stdout",
     "output_type": "stream",
     "text": [
      "🟡 Traitement : https://ec.europa.eu/info/funding-tenders/opportunities/portal/screen/opportunities/topic-details/HORIZON-CL4-2025-02-SPACE-23?isExactMatch=true&status=31094501,31094502&order=DESC&pageNumber=7&pageSize=50&sortBy=startDate\n"
     ]
    },
    {
     "name": "stderr",
     "output_type": "stream",
     "text": [
      "\r",
      "🔍 Analyse des URLs:  76%|██████████████████████████████████████████████████████████▋                  | 67/88 [28:33<08:42, 24.86s/it]"
     ]
    },
    {
     "name": "stdout",
     "output_type": "stream",
     "text": [
      "🟡 Traitement : https://ec.europa.eu/info/funding-tenders/opportunities/portal/screen/opportunities/topic-details/HORIZON-CL4-2025-02-SPACE-24?isExactMatch=true&status=31094501,31094502&order=DESC&pageNumber=7&pageSize=50&sortBy=startDate\n"
     ]
    },
    {
     "name": "stderr",
     "output_type": "stream",
     "text": [
      "\r",
      "🔍 Analyse des URLs:  77%|███████████████████████████████████████████████████████████▌                 | 68/88 [28:58<08:18, 24.91s/it]"
     ]
    },
    {
     "name": "stdout",
     "output_type": "stream",
     "text": [
      "🟡 Traitement : https://ec.europa.eu/info/funding-tenders/opportunities/portal/screen/opportunities/topic-details/HORIZON-CL4-2025-02-SPACE-41?isExactMatch=true&status=31094501,31094502&order=DESC&pageNumber=7&pageSize=50&sortBy=startDate\n"
     ]
    },
    {
     "name": "stderr",
     "output_type": "stream",
     "text": [
      "\r",
      "🔍 Analyse des URLs:  78%|████████████████████████████████████████████████████████████▍                | 69/88 [29:23<07:53, 24.90s/it]"
     ]
    },
    {
     "name": "stdout",
     "output_type": "stream",
     "text": [
      "🟡 Traitement : https://ec.europa.eu/info/funding-tenders/opportunities/portal/screen/opportunities/topic-details/HORIZON-CL4-2025-02-SPACE-21?isExactMatch=true&status=31094501,31094502&order=DESC&pageNumber=7&pageSize=50&sortBy=startDate\n"
     ]
    },
    {
     "name": "stderr",
     "output_type": "stream",
     "text": [
      "\r",
      "🔍 Analyse des URLs:  80%|█████████████████████████████████████████████████████████████▎               | 70/88 [29:50<07:37, 25.42s/it]"
     ]
    },
    {
     "name": "stdout",
     "output_type": "stream",
     "text": [
      "🟡 Traitement : https://ec.europa.eu/info/funding-tenders/opportunities/portal/screen/opportunities/topic-details/HORIZON-CL4-2025-02-SPACE-71?isExactMatch=true&status=31094501,31094502&order=DESC&pageNumber=7&pageSize=50&sortBy=startDate\n"
     ]
    },
    {
     "name": "stderr",
     "output_type": "stream",
     "text": [
      "\r",
      "🔍 Analyse des URLs:  81%|██████████████████████████████████████████████████████████████               | 71/88 [30:19<07:28, 26.41s/it]"
     ]
    },
    {
     "name": "stdout",
     "output_type": "stream",
     "text": [
      "🟡 Traitement : https://ec.europa.eu/info/funding-tenders/opportunities/portal/screen/opportunities/topic-details/HORIZON-CL4-2025-02-SPACE-43?isExactMatch=true&status=31094501,31094502&order=DESC&pageNumber=7&pageSize=50&sortBy=startDate\n"
     ]
    },
    {
     "name": "stderr",
     "output_type": "stream",
     "text": [
      "\r",
      "🔍 Analyse des URLs:  82%|███████████████████████████████████████████████████████████████              | 72/88 [30:45<07:03, 26.44s/it]"
     ]
    },
    {
     "name": "stdout",
     "output_type": "stream",
     "text": [
      "🟡 Traitement : https://ec.europa.eu/info/funding-tenders/opportunities/portal/screen/opportunities/topic-details/HORIZON-CL2-2025-01-DEMOCRACY-04?isExactMatch=true&status=31094501,31094502&order=DESC&pageNumber=7&pageSize=50&sortBy=startDate\n"
     ]
    },
    {
     "name": "stderr",
     "output_type": "stream",
     "text": [
      "\r",
      "🔍 Analyse des URLs:  83%|███████████████████████████████████████████████████████████████▉             | 73/88 [31:11<06:35, 26.37s/it]"
     ]
    },
    {
     "name": "stdout",
     "output_type": "stream",
     "text": [
      "🟡 Traitement : https://ec.europa.eu/info/funding-tenders/opportunities/portal/screen/opportunities/topic-details/HORIZON-CL2-2025-02-HERITAGE-02-two-stage?isExactMatch=true&status=31094501,31094502&order=DESC&pageNumber=7&pageSize=50&sortBy=startDate\n"
     ]
    },
    {
     "name": "stderr",
     "output_type": "stream",
     "text": [
      "\r",
      "🔍 Analyse des URLs:  84%|████████████████████████████████████████████████████████████████▊            | 74/88 [31:42<06:25, 27.53s/it]"
     ]
    },
    {
     "name": "stdout",
     "output_type": "stream",
     "text": [
      "🟡 Traitement : https://ec.europa.eu/info/funding-tenders/opportunities/portal/screen/opportunities/topic-details/BCS-2025-FPA?isExactMatch=true&status=31094501,31094502&order=DESC&pageNumber=8&pageSize=50&sortBy=startDate\n"
     ]
    },
    {
     "name": "stderr",
     "output_type": "stream",
     "text": [
      "\r",
      "🔍 Analyse des URLs:  85%|█████████████████████████████████████████████████████████████████▋           | 75/88 [32:07<05:51, 27.03s/it]"
     ]
    },
    {
     "name": "stdout",
     "output_type": "stream",
     "text": [
      "🟡 Traitement : https://ec.europa.eu/info/funding-tenders/opportunities/portal/screen/opportunities/topic-details/HORIZON-CL2-2025-01-DEMOCRACY-02?isExactMatch=true&status=31094501,31094502&order=DESC&pageNumber=8&pageSize=50&sortBy=startDate\n"
     ]
    },
    {
     "name": "stderr",
     "output_type": "stream",
     "text": [
      "\r",
      "🔍 Analyse des URLs:  86%|██████████████████████████████████████████████████████████████████▌          | 76/88 [32:32<05:15, 26.31s/it]"
     ]
    },
    {
     "name": "stdout",
     "output_type": "stream",
     "text": [
      "🟡 Traitement : https://ec.europa.eu/info/funding-tenders/opportunities/portal/screen/opportunities/topic-details/HORIZON-CL2-2025-01-TRANSFO-10?isExactMatch=true&status=31094501,31094502&order=DESC&pageNumber=8&pageSize=50&sortBy=startDate\n"
     ]
    },
    {
     "name": "stderr",
     "output_type": "stream",
     "text": [
      "\r",
      "🔍 Analyse des URLs:  88%|███████████████████████████████████████████████████████████████████▍         | 77/88 [32:57<04:44, 25.85s/it]"
     ]
    },
    {
     "name": "stdout",
     "output_type": "stream",
     "text": [
      "🟡 Traitement : https://ec.europa.eu/info/funding-tenders/opportunities/portal/screen/opportunities/topic-details/HORIZON-CL2-2025-01-DEMOCRACY-03?isExactMatch=true&status=31094501,31094502&order=DESC&pageNumber=8&pageSize=50&sortBy=startDate\n"
     ]
    },
    {
     "name": "stderr",
     "output_type": "stream",
     "text": [
      "\r",
      "🔍 Analyse des URLs:  89%|████████████████████████████████████████████████████████████████████▎        | 78/88 [33:22<04:15, 25.59s/it]"
     ]
    },
    {
     "name": "stdout",
     "output_type": "stream",
     "text": [
      "🟡 Traitement : https://ec.europa.eu/info/funding-tenders/opportunities/portal/screen/opportunities/topic-details/HORIZON-CL2-2025-01-TRANSFO-08?isExactMatch=true&status=31094501,31094502&order=DESC&pageNumber=8&pageSize=50&sortBy=startDate\n"
     ]
    },
    {
     "name": "stderr",
     "output_type": "stream",
     "text": [
      "\r",
      "🔍 Analyse des URLs:  90%|█████████████████████████████████████████████████████████████████████▏       | 79/88 [33:47<03:48, 25.43s/it]"
     ]
    },
    {
     "name": "stdout",
     "output_type": "stream",
     "text": [
      "🟡 Traitement : https://ec.europa.eu/info/funding-tenders/opportunities/portal/screen/opportunities/topic-details/HORIZON-CL2-2025-01-TRANSFO-03?isExactMatch=true&status=31094501,31094502&order=DESC&pageNumber=8&pageSize=50&sortBy=startDate\n"
     ]
    },
    {
     "name": "stderr",
     "output_type": "stream",
     "text": [
      "\r",
      "🔍 Analyse des URLs:  91%|██████████████████████████████████████████████████████████████████████       | 80/88 [34:12<03:22, 25.28s/it]"
     ]
    },
    {
     "name": "stdout",
     "output_type": "stream",
     "text": [
      "🟡 Traitement : https://ec.europa.eu/info/funding-tenders/opportunities/portal/screen/opportunities/topic-details/HORIZON-CL2-2025-01-DEMOCRACY-05?isExactMatch=true&status=31094501,31094502&order=DESC&pageNumber=8&pageSize=50&sortBy=startDate\n"
     ]
    },
    {
     "name": "stderr",
     "output_type": "stream",
     "text": [
      "\r",
      "🔍 Analyse des URLs:  92%|██████████████████████████████████████████████████████████████████████▉      | 81/88 [34:40<03:03, 26.17s/it]"
     ]
    },
    {
     "name": "stdout",
     "output_type": "stream",
     "text": [
      "🟡 Traitement : https://ec.europa.eu/info/funding-tenders/opportunities/portal/screen/opportunities/topic-details/HORIZON-CL2-2025-01-HERITAGE-08?isExactMatch=true&status=31094501,31094502&order=DESC&pageNumber=8&pageSize=50&sortBy=startDate\n"
     ]
    },
    {
     "name": "stderr",
     "output_type": "stream",
     "text": [
      "\r",
      "🔍 Analyse des URLs:  93%|███████████████████████████████████████████████████████████████████████▊     | 82/88 [35:10<02:44, 27.40s/it]"
     ]
    },
    {
     "name": "stdout",
     "output_type": "stream",
     "text": [
      "🟡 Traitement : https://ec.europa.eu/info/funding-tenders/opportunities/portal/screen/opportunities/topic-details/HORIZON-CL2-2025-01-DEMOCRACY-08?isExactMatch=true&status=31094501,31094502&order=DESC&pageNumber=8&pageSize=50&sortBy=startDate\n"
     ]
    },
    {
     "name": "stderr",
     "output_type": "stream",
     "text": [
      "\r",
      "🔍 Analyse des URLs:  94%|████████████████████████████████████████████████████████████████████████▋    | 83/88 [35:39<02:18, 27.70s/it]"
     ]
    },
    {
     "name": "stdout",
     "output_type": "stream",
     "text": [
      "🟡 Traitement : https://ec.europa.eu/info/funding-tenders/opportunities/portal/screen/opportunities/topic-details/HORIZON-CL2-2025-01-DEMOCRACY-12?isExactMatch=true&status=31094501,31094502&order=DESC&pageNumber=8&pageSize=50&sortBy=startDate\n"
     ]
    },
    {
     "name": "stderr",
     "output_type": "stream",
     "text": [
      "\r",
      "🔍 Analyse des URLs:  95%|█████████████████████████████████████████████████████████████████████████▌   | 84/88 [36:04<01:47, 26.91s/it]"
     ]
    },
    {
     "name": "stdout",
     "output_type": "stream",
     "text": [
      "🟡 Traitement : https://ec.europa.eu/info/funding-tenders/opportunities/portal/screen/opportunities/topic-details/HORIZON-CL2-2025-01-DEMOCRACY-06?isExactMatch=true&status=31094501,31094502&order=DESC&pageNumber=8&pageSize=50&sortBy=startDate\n"
     ]
    },
    {
     "name": "stderr",
     "output_type": "stream",
     "text": [
      "\r",
      "🔍 Analyse des URLs:  97%|██████████████████████████████████████████████████████████████████████████▍  | 85/88 [36:29<01:19, 26.34s/it]"
     ]
    },
    {
     "name": "stdout",
     "output_type": "stream",
     "text": [
      "🟡 Traitement : https://ec.europa.eu/info/funding-tenders/opportunities/portal/screen/opportunities/topic-details/HORIZON-WIDERA-2025-06-ERA-01?isExactMatch=true&status=31094501,31094502&order=DESC&pageNumber=8&pageSize=50&sortBy=startDate\n"
     ]
    },
    {
     "name": "stderr",
     "output_type": "stream",
     "text": [
      "\r",
      "🔍 Analyse des URLs:  98%|███████████████████████████████████████████████████████████████████████████▎ | 86/88 [36:57<00:53, 26.79s/it]"
     ]
    },
    {
     "name": "stdout",
     "output_type": "stream",
     "text": [
      "🟡 Traitement : https://ec.europa.eu/info/funding-tenders/opportunities/portal/screen/opportunities/topic-details/HORIZON-CL2-2025-03-HERITAGE-01?isExactMatch=true&status=31094501,31094502&order=DESC&pageNumber=8&pageSize=50&sortBy=startDate\n"
     ]
    },
    {
     "name": "stderr",
     "output_type": "stream",
     "text": [
      "\r",
      "🔍 Analyse des URLs:  99%|████████████████████████████████████████████████████████████████████████████▏| 87/88 [37:24<00:27, 27.02s/it]"
     ]
    },
    {
     "name": "stdout",
     "output_type": "stream",
     "text": [
      "🟡 Traitement : https://ec.europa.eu/info/funding-tenders/opportunities/portal/screen/opportunities/topic-details/HORIZON-WIDERA-2025-01-ACCESS-01?isExactMatch=true&status=31094501,31094502&order=DESC&pageNumber=8&pageSize=50&sortBy=startDate\n"
     ]
    },
    {
     "name": "stderr",
     "output_type": "stream",
     "text": [
      "\r",
      "🔍 Analyse des URLs: 100%|█████████████████████████████████████████████████████████████████████████████| 88/88 [37:51<00:00, 26.97s/it]"
     ]
    },
    {
     "name": "stderr",
     "output_type": "stream",
     "text": [
      "\r",
      "🔍 Analyse des URLs: 100%|█████████████████████████████████████████████████████████████████████████████| 88/88 [37:51<00:00, 25.81s/it]"
     ]
    },
    {
     "name": "stderr",
     "output_type": "stream",
     "text": [
      "\n"
     ]
    },
    {
     "name": "stdout",
     "output_type": "stream",
     "text": [
      "\n",
      "✅ Résultats enrichis sauvegardés dans 'df_yes_avec_pertinence_et_resume.csv'.\n",
      "                                                                                                                                                                                                                           URL  \\\n",
      "0  https://ec.europa.eu/info/funding-tenders/opportunities/portal/screen/opportunities/topic-details/HORIZON-CL5-2026-02-D4-03?isExactMatch=true&status=31094501,31094502&order=DESC&pageNumber=1&pageSize=50&sortBy=startDate   \n",
      "1  https://ec.europa.eu/info/funding-tenders/opportunities/portal/screen/opportunities/topic-details/HORIZON-CL5-2026-02-D3-08?isExactMatch=true&status=31094501,31094502&order=DESC&pageNumber=1&pageSize=50&sortBy=startDate   \n",
      "2  https://ec.europa.eu/info/funding-tenders/opportunities/portal/screen/opportunities/topic-details/HORIZON-CL5-2026-02-D4-02?isExactMatch=true&status=31094501,31094502&order=DESC&pageNumber=1&pageSize=50&sortBy=startDate   \n",
      "3  https://ec.europa.eu/info/funding-tenders/opportunities/portal/screen/opportunities/topic-details/HORIZON-CL5-2026-02-D3-02?isExactMatch=true&status=31094501,31094502&order=DESC&pageNumber=1&pageSize=50&sortBy=startDate   \n",
      "4  https://ec.europa.eu/info/funding-tenders/opportunities/portal/screen/opportunities/topic-details/HORIZON-CL5-2026-02-D4-04?isExactMatch=true&status=31094501,31094502&order=DESC&pageNumber=1&pageSize=50&sortBy=startDate   \n",
      "\n",
      "  Pertinence LLM  \\\n",
      "0            Non   \n",
      "1            Non   \n",
      "2            Non   \n",
      "3            Non   \n",
      "4            Non   \n",
      "\n",
      "                                                                                                                                                                                                                                                                                                                                                                                                                                                                                                                Résumé LLM  \n",
      "0                                                                                                                                                                                                                                                                                        L'appel à projets est vide, il n'y a pas de description du projet, ce qui rend impossible la comparaison avec les projets précédents de l'entreprise. Il est donc difficile de déterminer si l'opportunité est pertinente ou non.  \n",
      "1                                                                                                                                                                                                                                                                                                                                                                                                                                                                                                                       **  \n",
      "2                                                            L'appel à projet concerne spécifiquement le domaine de la construction et de l'énergie (bâtiments intelligents, énergie renouvelable, etc.) qui n'est pas un axe d'expertise identifié dans les projets précédents de l'entreprise. Les projets précédents de l'entreprise sont plutôt orientés vers l'incubation, la stratégie, l'économie numérique, la formation, etc. Il n'y a aucunesimilarité évidente avec les projets déjà réalisés par l'entreprise.  \n",
      "3  Les projets précédemment réalisés par l'entreprise sont principalement liés à l'incubation, l'accélération et le développement de startups, ainsi qu'à la mise en place d'écosystèmes d'entrepreneuriat et de stratégies de financement. L'appel à projets concernant les biocarburants et les combustibles renouvelables de non-biologique origin ne correspond pas à ces domaines d'expertise. L'entreprise n'a pas de projet similaire dans son portefeuille pour justifier une participation à cet appel à projets.  \n",
      "4                                      L'appel à projets concerne la mise en place de districts énergétiquement positifs (PEDs) et la résolution des défis techniques, économiques et sociétaux qui les accompagnent. Les projets précédemment réalisés par l'entreprise (FACTORIAT, National Entrepreneurship Program, Arab Bank Strategy) ne montrent aucune similitude avec ce thème et ne possèdent pas les compétences requises pour aborder les défis énergétiques et de durabilité proposés dans l'appel à projets.  \n"
     ]
    }
   ],
   "source": [
    "from selenium import webdriver\n",
    "from selenium.webdriver.chrome.options import Options\n",
    "from selenium.webdriver.common.by import By\n",
    "import time\n",
    "import pandas as pd\n",
    "from groq import Groq\n",
    "import re\n",
    "from tqdm import tqdm\n",
    "\n",
    "# === CONFIGURATION GROQ ===\n",
    "client = Groq(api_key=\"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\")\n",
    "MODEL_NAME = \"llama3-70b-8192\"\n",
    "\n",
    "# === CONFIG SELENIUM HEADLESS ===\n",
    "options = Options()\n",
    "options.add_argument(\"--headless\")\n",
    "options.add_argument(\"--disable-gpu\")\n",
    "options.add_argument(\"--window-size=1920,1080\")\n",
    "driver = webdriver.Chrome(options=options)\n",
    "\n",
    "# === TEXT CLEANUP & LIMITING FUNCTION ===\n",
    "def clean_and_limit_text(text, max_words=800):\n",
    "    text = re.sub(r'\\s+', ' ', text).strip()\n",
    "    words = text.split()\n",
    "    if len(words) > max_words:\n",
    "        return ' '.join(words[:max_words]) + \" [...] (texte tronqué)\"\n",
    "    return text\n",
    "\n",
    "# === Extraction texte depuis URL ===\n",
    "def extract_text_from_url(url):\n",
    "    try:\n",
    "        driver.get(url)\n",
    "        time.sleep(5)\n",
    "\n",
    "        for _ in range(10):\n",
    "            driver.execute_script(\"window.scrollBy(0, 500);\")\n",
    "            time.sleep(0.3)\n",
    "        time.sleep(5)\n",
    "\n",
    "        js_code = \"\"\"\n",
    "        let desc = document.querySelector('div.showMore--three-lines');\n",
    "        return desc ? desc.innerText.trim() : 'Pas de description de projet détectée.';\n",
    "        \"\"\"\n",
    "        text = driver.execute_script(js_code)\n",
    "\n",
    "        # Try also extracting UKRI accordion content\n",
    "        try:\n",
    "            open_all_btn = driver.find_element(By.CLASS_NAME, \"govuk-accordion__open-all\")\n",
    "            open_all_btn.click()\n",
    "            time.sleep(1)\n",
    "        except:\n",
    "            pass\n",
    "\n",
    "        js_accordion = \"\"\"\n",
    "        let acc = document.querySelector('div.govuk-accordion.ukri-accordion');\n",
    "        return acc ? acc.innerText.trim() : '';\n",
    "        \"\"\"\n",
    "        accordion_text = driver.execute_script(js_accordion)\n",
    "\n",
    "        full_text = f\"{text}\\n\\n---\\n\\n{accordion_text}\".strip()\n",
    "        return full_text if full_text else \"Pas de contenu détecté.\"\n",
    "\n",
    "    except Exception as e:\n",
    "        return f\"Erreur Selenium: {e}\"\n",
    "\n",
    "# === Prompt pour Groq ===\n",
    "def build_prompt(projects, site_text):\n",
    "    projects_text = \"\\n\".join([\n",
    "        f\"{i+1}. {p['Project Name']} : {p['Description']}, axe {p['Axes / Thematic Areas']}\" \n",
    "        for i, p in enumerate(projects)\n",
    "    ])\n",
    "    return f\"\"\"\n",
    "Tu es un expert en analyse de projets d'entreprise.\n",
    "\n",
    "Voici une liste de projets que cette entreprise a déjà réalisés avec leurs descriptions et axes principaux :\n",
    "\n",
    "{projects_text}\n",
    "\n",
    "Voici maintenant le contenu d'un appel à projets spécifique extrait d'une page du portail européen :\n",
    "\n",
    "{site_text}\n",
    "\n",
    "Peux-tu me dire si cette opportunité est pertinente par rapport aux projets que l'entreprise a déjà réalisés ?  \n",
    "Merci de répondre de façon claire :  \n",
    "- Pertinence : Oui / Non  \n",
    "- Projets similaires détectés : [liste]  \n",
    "- Résumé rapide expliquant ta réponse.\n",
    "\"\"\"\n",
    "\n",
    "# === Requête à Groq ===\n",
    "def query_groq(prompt, model=MODEL_NAME, max_completion_tokens=3000, temperature=1.0, stream=False, delay_between_requests=10):\n",
    "    try:\n",
    "        response = client.chat.completions.create(\n",
    "            model=model,\n",
    "            messages=[\n",
    "                {\"role\": \"system\", \"content\": \"Tu es un expert en comparaison de projets R&D.\"},\n",
    "                {\"role\": \"user\", \"content\": prompt}\n",
    "            ],\n",
    "            temperature=temperature,\n",
    "            max_completion_tokens=max_completion_tokens,\n",
    "            top_p=1,\n",
    "            stream=stream\n",
    "        )\n",
    "\n",
    "        if stream:\n",
    "            result = \"\"\n",
    "            for chunk in response:\n",
    "                delta = chunk.choices[0].delta.content\n",
    "                if delta:\n",
    "                    result += delta\n",
    "            time.sleep(delay_between_requests)\n",
    "            return result.strip()\n",
    "        else:\n",
    "            time.sleep(delay_between_requests)\n",
    "            return response.choices[0].message.content.strip()\n",
    "\n",
    "    except Exception as e:\n",
    "        return f\"Erreur Groq: {e}\"\n",
    "\n",
    "# === Analyse du résultat Groq ===\n",
    "def parse_result(text):\n",
    "    pertinence = \"Inconnu\"\n",
    "    resume = \"\"\n",
    "    try:\n",
    "        match = re.search(r\"(?i)pertinence\\s*[:\\-–]\\s*(oui|non)\", text)\n",
    "        if match:\n",
    "            pertinence = match.group(1).capitalize()\n",
    "        resume_match = re.search(r\"(?i)résumé.*?:\\s*(.+)\", text)\n",
    "        if resume_match:\n",
    "            resume = resume_match.group(1).strip()\n",
    "        else:\n",
    "            resume = \"\\n\".join(text.splitlines()[1:4]).strip()\n",
    "    except:\n",
    "        pass\n",
    "    return pertinence, resume\n",
    "\n",
    "# === Analyse d'une seule URL ===\n",
    "def analyze_url(url, projects_list):\n",
    "    print(f\"🟡 Traitement : {url}\")\n",
    "    try:\n",
    "        site_text_raw = extract_text_from_url(url)\n",
    "        site_text = clean_and_limit_text(site_text_raw, max_words=800)\n",
    "        projects_sample = projects_list[:3]  # Limiter à 3 projets\n",
    "        prompt = build_prompt(projects_sample, site_text)\n",
    "        result_text = query_groq(prompt)\n",
    "        pertinence, resume = parse_result(result_text)\n",
    "\n",
    "        return {\n",
    "            \"URL\": url,\n",
    "            \"Pertinence LLM\": pertinence,\n",
    "            \"Résumé LLM\": resume,\n",
    "            \"Réponse brute\": result_text\n",
    "        }\n",
    "    except Exception as e:\n",
    "        return {\n",
    "            \"URL\": url,\n",
    "            \"Pertinence LLM\": \"Erreur\",\n",
    "            \"Résumé LLM\": f\"Erreur pendant l'analyse : {e}\",\n",
    "            \"Réponse brute\": str(e)\n",
    "        }\n",
    "\n",
    "# === MAIN ===\n",
    "if __name__ == \"__main__\":\n",
    "    try:\n",
    "        projects_list = odf_df[['Project Name', 'Description', 'Axes / Thematic Areas']].dropna().to_dict(orient='records')\n",
    "        url_list = df_yes['URL'].dropna().unique()\n",
    "    except NameError:\n",
    "        print(\"❌ Les DataFrames 'odf_df' et 'df_yes' doivent être définis avant l'exécution.\")\n",
    "        driver.quit()\n",
    "        exit()\n",
    "\n",
    "    results = []\n",
    "    for url in tqdm(url_list, desc=\"🔍 Analyse des URLs\"):\n",
    "        result = analyze_url(url, projects_list)\n",
    "        results.append(result)\n",
    "\n",
    "    results_df = pd.DataFrame(results)\n",
    "    df_final_llm = df_yes.merge(results_df, on=\"URL\", how=\"left\")\n",
    "\n",
    "    df_final_llm.to_csv(\"df_yes_avec_pertinence_et_resume.csv\", index=False)\n",
    "    print(\"\\n✅ Résultats enrichis sauvegardés dans 'df_yes_avec_pertinence_et_resume.csv'.\")\n",
    "    print(df_final_llm[['URL', 'Pertinence LLM', 'Résumé LLM']].head())\n",
    "\n",
    "    driver.quit()\n"
   ]
  },
  {
   "cell_type": "code",
   "execution_count": 17,
   "id": "c6695b14",
   "metadata": {
    "execution": {
     "iopub.execute_input": "2025-07-16T16:45:04.462178Z",
     "iopub.status.busy": "2025-07-16T16:45:04.460127Z",
     "iopub.status.idle": "2025-07-16T16:45:04.546162Z",
     "shell.execute_reply": "2025-07-16T16:45:04.546162Z"
    }
   },
   "outputs": [],
   "source": [
    "df_final_llm.to_excel(\"df_LLM_ALL_EU.xlsx\", index=False)\n",
    "    "
   ]
  },
  {
   "cell_type": "code",
   "execution_count": 18,
   "id": "f1fd7a28",
   "metadata": {
    "execution": {
     "iopub.execute_input": "2025-07-16T16:45:04.549172Z",
     "iopub.status.busy": "2025-07-16T16:45:04.548176Z",
     "iopub.status.idle": "2025-07-16T16:45:04.561411Z",
     "shell.execute_reply": "2025-07-16T16:45:04.561411Z"
    }
   },
   "outputs": [
    {
     "data": {
      "text/html": [
       "<div>\n",
       "<style scoped>\n",
       "    .dataframe tbody tr th:only-of-type {\n",
       "        vertical-align: middle;\n",
       "    }\n",
       "\n",
       "    .dataframe tbody tr th {\n",
       "        vertical-align: top;\n",
       "    }\n",
       "\n",
       "    .dataframe thead th {\n",
       "        text-align: right;\n",
       "    }\n",
       "</style>\n",
       "<table border=\"1\" class=\"dataframe\">\n",
       "  <thead>\n",
       "    <tr style=\"text-align: right;\">\n",
       "      <th></th>\n",
       "      <th>URL</th>\n",
       "      <th>Pertinence</th>\n",
       "      <th>Matching Word(s)</th>\n",
       "      <th>Title</th>\n",
       "      <th>Status</th>\n",
       "      <th>Start_date</th>\n",
       "      <th>Deadline</th>\n",
       "      <th>Pertinence LLM</th>\n",
       "      <th>Résumé LLM</th>\n",
       "      <th>Réponse brute</th>\n",
       "    </tr>\n",
       "  </thead>\n",
       "  <tbody>\n",
       "    <tr>\n",
       "      <th>0</th>\n",
       "      <td>https://ec.europa.eu/info/funding-tenders/opportunities/portal/screen/opportunities/topic-details/HORIZON-CL5-2026-02-D4-03?isExactMatch=true&amp;status=31094501,31094502&amp;order=DESC&amp;pageNumber=1&amp;pageSize=50&amp;sortBy=startDate</td>\n",
       "      <td>Yes</td>\n",
       "      <td>climate resilience, social innovation</td>\n",
       "      <td>Innovative pathways for low carbon and climate resilient building stock and built environment (Built4People Partnership)</td>\n",
       "      <td>Forthcoming</td>\n",
       "      <td>16 September 2025</td>\n",
       "      <td>17 February 2026</td>\n",
       "      <td>Non</td>\n",
       "      <td>L'appel à projets est vide, il n'y a pas de description du projet, ce qui rend impossible la comparaison avec les projets précédents de l'entreprise. Il est donc difficile de déterminer si l'opportunité est pertinente ou non.</td>\n",
       "      <td>Pertinence : Non\\n\\nProjets similaires détectés : Aucun\\n\\nRésumé rapide : L'appel à projets est vide, il n'y a pas de description du projet, ce qui rend impossible la comparaison avec les projets précédents de l'entreprise. Il est donc difficile de déterminer si l'opportunité est pertinente ou non.</td>\n",
       "    </tr>\n",
       "    <tr>\n",
       "      <th>1</th>\n",
       "      <td>https://ec.europa.eu/info/funding-tenders/opportunities/portal/screen/opportunities/topic-details/HORIZON-CL5-2026-02-D3-08?isExactMatch=true&amp;status=31094501,31094502&amp;order=DESC&amp;pageNumber=1&amp;pageSize=50&amp;sortBy=startDate</td>\n",
       "      <td>Yes</td>\n",
       "      <td>project design, renewable energy, economic impact</td>\n",
       "      <td>Understand and minimise the environmental impacts of offshore wind energy</td>\n",
       "      <td>Forthcoming</td>\n",
       "      <td>16 September 2025</td>\n",
       "      <td>17 February 2026</td>\n",
       "      <td>Non</td>\n",
       "      <td>**</td>\n",
       "      <td>Bonjour !\\n\\nAprès avoir analysé l'appel à projets et les projets déjà réalisés par l'entreprise, voici ma réponse :\\n\\n**Pertinence : Non**\\n\\n**Projets similaires détectés : Aucun**\\n\\n**Résumé rapide :**\\nL'appel à projets concerne spécifiquement la mise en œuvre de technologies pour réduire les impacts environnementaux de l'énergie éolienne offshore, ce qui est très loin des compétences et des domaines d'intervention de l'entreprise qui sont principalement liés à l'incubation, l'accélération et le développement de startups Deeptech, ainsi que la création d'écosystèmes d'entreprises. Il n'y a donc pas de similarité évidente entre cet appel à projets et les projets déjà réalisés par l'entreprise.</td>\n",
       "    </tr>\n",
       "    <tr>\n",
       "      <th>2</th>\n",
       "      <td>https://ec.europa.eu/info/funding-tenders/opportunities/portal/screen/opportunities/topic-details/HORIZON-CL5-2026-02-D4-02?isExactMatch=true&amp;status=31094501,31094502&amp;order=DESC&amp;pageNumber=1&amp;pageSize=50&amp;sortBy=startDate</td>\n",
       "      <td>Yes</td>\n",
       "      <td>renewable energy</td>\n",
       "      <td>Smarter buildings as part of the energy system for increased efficiency and flexibility – Societal Readiness Pilot</td>\n",
       "      <td>Forthcoming</td>\n",
       "      <td>16 September 2025</td>\n",
       "      <td>17 February 2026</td>\n",
       "      <td>Non</td>\n",
       "      <td>L'appel à projet concerne spécifiquement le domaine de la construction et de l'énergie (bâtiments intelligents, énergie renouvelable, etc.) qui n'est pas un axe d'expertise identifié dans les projets précédents de l'entreprise. Les projets précédents de l'entreprise sont plutôt orientés vers l'incubation, la stratégie, l'économie numérique, la formation, etc. Il n'y a aucunesimilarité évidente avec les projets déjà réalisés par l'entreprise.</td>\n",
       "      <td>Pertinence : Non\\n\\nProjets similaires détectés : Aucun\\n\\nRésumé rapide : L'appel à projet concerne spécifiquement le domaine de la construction et de l'énergie (bâtiments intelligents, énergie renouvelable, etc.) qui n'est pas un axe d'expertise identifié dans les projets précédents de l'entreprise. Les projets précédents de l'entreprise sont plutôt orientés vers l'incubation, la stratégie, l'économie numérique, la formation, etc. Il n'y a aucunesimilarité évidente avec les projets déjà réalisés par l'entreprise.</td>\n",
       "    </tr>\n",
       "    <tr>\n",
       "      <th>3</th>\n",
       "      <td>https://ec.europa.eu/info/funding-tenders/opportunities/portal/screen/opportunities/topic-details/HORIZON-CL5-2026-02-D3-02?isExactMatch=true&amp;status=31094501,31094502&amp;order=DESC&amp;pageNumber=1&amp;pageSize=50&amp;sortBy=startDate</td>\n",
       "      <td>Yes</td>\n",
       "      <td>sustainable development, industrial competitiveness</td>\n",
       "      <td>Competitiveness, energy security and integration aspects of advanced biofuels and renewable fuels of non-biological origin value chains</td>\n",
       "      <td>Forthcoming</td>\n",
       "      <td>16 September 2025</td>\n",
       "      <td>17 February 2026</td>\n",
       "      <td>Non</td>\n",
       "      <td>Les projets précédemment réalisés par l'entreprise sont principalement liés à l'incubation, l'accélération et le développement de startups, ainsi qu'à la mise en place d'écosystèmes d'entrepreneuriat et de stratégies de financement. L'appel à projets concernant les biocarburants et les combustibles renouvelables de non-biologique origin ne correspond pas à ces domaines d'expertise. L'entreprise n'a pas de projet similaire dans son portefeuille pour justifier une participation à cet appel à projets.</td>\n",
       "      <td>Pertinence : Non\\n\\nProjets similaires détectés : Aucun\\n\\nRésumé rapide : Les projets précédemment réalisés par l'entreprise sont principalement liés à l'incubation, l'accélération et le développement de startups, ainsi qu'à la mise en place d'écosystèmes d'entrepreneuriat et de stratégies de financement. L'appel à projets concernant les biocarburants et les combustibles renouvelables de non-biologique origin ne correspond pas à ces domaines d'expertise. L'entreprise n'a pas de projet similaire dans son portefeuille pour justifier une participation à cet appel à projets.</td>\n",
       "    </tr>\n",
       "    <tr>\n",
       "      <th>4</th>\n",
       "      <td>https://ec.europa.eu/info/funding-tenders/opportunities/portal/screen/opportunities/topic-details/HORIZON-CL5-2026-02-D4-04?isExactMatch=true&amp;status=31094501,31094502&amp;order=DESC&amp;pageNumber=1&amp;pageSize=50&amp;sortBy=startDate</td>\n",
       "      <td>Yes</td>\n",
       "      <td>artificial intelligence, renewable energy, social innovation</td>\n",
       "      <td>Innovative approaches for the deployment of Positive Energy Districts</td>\n",
       "      <td>Forthcoming</td>\n",
       "      <td>16 September 2025</td>\n",
       "      <td>17 February 2026</td>\n",
       "      <td>Non</td>\n",
       "      <td>L'appel à projets concerne la mise en place de districts énergétiquement positifs (PEDs) et la résolution des défis techniques, économiques et sociétaux qui les accompagnent. Les projets précédemment réalisés par l'entreprise (FACTORIAT, National Entrepreneurship Program, Arab Bank Strategy) ne montrent aucune similitude avec ce thème et ne possèdent pas les compétences requises pour aborder les défis énergétiques et de durabilité proposés dans l'appel à projets.</td>\n",
       "      <td>Pertinence : Non\\n\\nProjets similaires détectés : Aucun\\n\\nRésumé rapide : L'appel à projets concerne la mise en place de districts énergétiquement positifs (PEDs) et la résolution des défis techniques, économiques et sociétaux qui les accompagnent. Les projets précédemment réalisés par l'entreprise (FACTORIAT, National Entrepreneurship Program, Arab Bank Strategy) ne montrent aucune similitude avec ce thème et ne possèdent pas les compétences requises pour aborder les défis énergétiques et de durabilité proposés dans l'appel à projets.</td>\n",
       "    </tr>\n",
       "    <tr>\n",
       "      <th>...</th>\n",
       "      <td>...</td>\n",
       "      <td>...</td>\n",
       "      <td>...</td>\n",
       "      <td>...</td>\n",
       "      <td>...</td>\n",
       "      <td>...</td>\n",
       "      <td>...</td>\n",
       "      <td>...</td>\n",
       "      <td>...</td>\n",
       "      <td>...</td>\n",
       "    </tr>\n",
       "    <tr>\n",
       "      <th>83</th>\n",
       "      <td>https://ec.europa.eu/info/funding-tenders/opportunities/portal/screen/opportunities/topic-details/HORIZON-CL2-2025-01-DEMOCRACY-12?isExactMatch=true&amp;status=31094501,31094502&amp;order=DESC&amp;pageNumber=8&amp;pageSize=50&amp;sortBy=startDate</td>\n",
       "      <td>Yes</td>\n",
       "      <td>capacity building, research results</td>\n",
       "      <td>Community of democracy practitioners and researchers</td>\n",
       "      <td>Open For Submission</td>\n",
       "      <td>15 May 2025</td>\n",
       "      <td>16 September 2025</td>\n",
       "      <td>Non</td>\n",
       "      <td>Les projets précédemment réalisés par l'entreprise sont principalement liés à la Deeptech, l'incubation, la stratégie, le financement et l'écosystème entrepreneurial, alors que cet appel à projet est spécifiquement lié à la démocratie, la participation citoyenne, l'éducation civique et la recherche en sciences sociales et humaines. Il n'y a pas de similarité évidente entre les deux.</td>\n",
       "      <td>Pertinence : Non\\n\\nProjets similaires détectés : Aucun\\n\\nRésumé rapide : Les projets précédemment réalisés par l'entreprise sont principalement liés à la Deeptech, l'incubation, la stratégie, le financement et l'écosystème entrepreneurial, alors que cet appel à projet est spécifiquement lié à la démocratie, la participation citoyenne, l'éducation civique et la recherche en sciences sociales et humaines. Il n'y a pas de similarité évidente entre les deux.\\n\\nCependant, il est intéressant de noter que les compétences de l'entreprise dans la stratégie, la capacity-building et la création d'écosystème pourraient être pertinentes dans le contexte de la mise en place d'un réseau de recherche et d'innovation pour renforcer et renouveler la démocratie en Europe. Il faudrait cependant adapter et étendre les compétences de l'entreprise pour répondre spécifiquement aux objectifs de cet appel à projet.</td>\n",
       "    </tr>\n",
       "    <tr>\n",
       "      <th>84</th>\n",
       "      <td>https://ec.europa.eu/info/funding-tenders/opportunities/portal/screen/opportunities/topic-details/HORIZON-CL2-2025-01-DEMOCRACY-06?isExactMatch=true&amp;status=31094501,31094502&amp;order=DESC&amp;pageNumber=8&amp;pageSize=50&amp;sortBy=startDate</td>\n",
       "      <td>Yes</td>\n",
       "      <td>knowledge transfer</td>\n",
       "      <td>Towards a European research hub on contemporary antisemitism and Jewish life and culture</td>\n",
       "      <td>Open For Submission</td>\n",
       "      <td>15 May 2025</td>\n",
       "      <td>16 September 2025</td>\n",
       "      <td>Non</td>\n",
       "      <td>Les projets précédents de l'entreprise semblent porter sur des domaines tels que le Deeptech, l'entrepreneuriat, l'économie numérique, la stratégie et le financement, alors que le projet présenté ici concerne la création d'un réseau de recherche sur l'antisémitisme contemporain et la vie juive en Europe. Les thèmes et les objectifs sont très différents, et il n'y a pas desimilarité évidente entre les deux.</td>\n",
       "      <td>Pertinence : Non\\n\\nProjets similaires détectés : Aucun\\n\\nRésumé rapide : Les projets précédents de l'entreprise semblent porter sur des domaines tels que le Deeptech, l'entrepreneuriat, l'économie numérique, la stratégie et le financement, alors que le projet présenté ici concerne la création d'un réseau de recherche sur l'antisémitisme contemporain et la vie juive en Europe. Les thèmes et les objectifs sont très différents, et il n'y a pas desimilarité évidente entre les deux.</td>\n",
       "    </tr>\n",
       "    <tr>\n",
       "      <th>85</th>\n",
       "      <td>https://ec.europa.eu/info/funding-tenders/opportunities/portal/screen/opportunities/topic-details/HORIZON-WIDERA-2025-06-ERA-01?isExactMatch=true&amp;status=31094501,31094502&amp;order=DESC&amp;pageNumber=8&amp;pageSize=50&amp;sortBy=startDate</td>\n",
       "      <td>Yes</td>\n",
       "      <td>innovation support, knowledge transfer, technology transfer, research results, skills development</td>\n",
       "      <td>Rolling out the ERA Policy Agenda results</td>\n",
       "      <td>Open For Submission</td>\n",
       "      <td>15 May 2025</td>\n",
       "      <td>18 September 2025</td>\n",
       "      <td>Non</td>\n",
       "      <td>Les projets précédents de l'entreprise sont principalement axés sur l'incubation, l'accélération, le développement stratégique et la mise en place d'écosystèmes pour les start-ups et les entreprises, alors que l'appel à projets est focalisé sur la mise en œuvre de politiques de recherche et d'innovation au niveau européen, avec des objectifs tels que l'amélioration de la reproducabilité des résultats de recherche, la réforme de l'évaluation de la recherche, la valorisation de la connaissance, etc. Les domaines d'expertise et les objectifs des projets précédents ne correspondent pas directement à ceux de cet appel à projets.</td>\n",
       "      <td>Pertinence : Non\\n\\nProjets similaires détectés : Aucun\\n\\nRésumé rapide : Les projets précédents de l'entreprise sont principalement axés sur l'incubation, l'accélération, le développement stratégique et la mise en place d'écosystèmes pour les start-ups et les entreprises, alors que l'appel à projets est focalisé sur la mise en œuvre de politiques de recherche et d'innovation au niveau européen, avec des objectifs tels que l'amélioration de la reproducabilité des résultats de recherche, la réforme de l'évaluation de la recherche, la valorisation de la connaissance, etc. Les domaines d'expertise et les objectifs des projets précédents ne correspondent pas directement à ceux de cet appel à projets.</td>\n",
       "    </tr>\n",
       "    <tr>\n",
       "      <th>86</th>\n",
       "      <td>https://ec.europa.eu/info/funding-tenders/opportunities/portal/screen/opportunities/topic-details/HORIZON-CL2-2025-03-HERITAGE-01?isExactMatch=true&amp;status=31094501,31094502&amp;order=DESC&amp;pageNumber=8&amp;pageSize=50&amp;sortBy=startDate</td>\n",
       "      <td>Yes</td>\n",
       "      <td>capacity building, knowledge transfer, call for proposals, sustainable development</td>\n",
       "      <td>Co-funded European partnership for Resilient Cultural Heritage</td>\n",
       "      <td>Open For Submission</td>\n",
       "      <td>15 May 2025</td>\n",
       "      <td>16 September 2025</td>\n",
       "      <td>Non</td>\n",
       "      <td>L'entreprise a déjà réalisé des projets liés à la Deeptech, à l'incubation, au développement stratégique, à l'économie numérique et à l'entreprenariat, mais aucun de ces projets ne concerne spécifiquement la préservation du patrimoine culturel, la recherche scientifique sur le changement climatique, ou la coopération internationale dans ce domaine. Le projet décrit dans l'appel à projets est très spécifique et nécessite une expertise dans des domaines qui ne semblent pas être au cœur de l'activité de l'entreprise.</td>\n",
       "      <td>Pertinence : Non\\n\\nProjets similaires détectés : Aucun\\n\\nRésumé rapide : L'entreprise a déjà réalisé des projets liés à la Deeptech, à l'incubation, au développement stratégique, à l'économie numérique et à l'entreprenariat, mais aucun de ces projets ne concerne spécifiquement la préservation du patrimoine culturel, la recherche scientifique sur le changement climatique, ou la coopération internationale dans ce domaine. Le projet décrit dans l'appel à projets est très spécifique et nécessite une expertise dans des domaines qui ne semblent pas être au cœur de l'activité de l'entreprise.</td>\n",
       "    </tr>\n",
       "    <tr>\n",
       "      <th>87</th>\n",
       "      <td>https://ec.europa.eu/info/funding-tenders/opportunities/portal/screen/opportunities/topic-details/HORIZON-WIDERA-2025-01-ACCESS-01?isExactMatch=true&amp;status=31094501,31094502&amp;order=DESC&amp;pageNumber=8&amp;pageSize=50&amp;sortBy=startDate</td>\n",
       "      <td>Yes</td>\n",
       "      <td>capacity building, artificial intelligence, data science, digital transformation</td>\n",
       "      <td>European Excellence Initiative (EEI)</td>\n",
       "      <td>Open For Submission</td>\n",
       "      <td>08 May 2025</td>\n",
       "      <td>20 November 2025</td>\n",
       "      <td>Non</td>\n",
       "      <td>Cette opportunité d'appel à projet est très spécifique et ciblée sur l'amélioration de l'excellence en recherche et en valorisation du savoir dans les institutions d'enseignement supérieur en Europe, notamment dans les pays Widening. Les projets précédemment réalisés par l'entreprise ne semblent pas avoir de liens directs avec ce type de projet, qui nécessite une expertise dans le domaine de l'enseignement supérieur, de la recherche et de l'innovation. Les axes de l'entreprise tel que Deeptech, Incubation, Acceleration, Digital Economy, Strategic Development, Financing ne semblent pas correspondre à ce type de projet.</td>\n",
       "      <td>Pertinence : Non\\n\\nProjets similaires détectés : Aucun\\n\\nRésumé rapide : Cette opportunité d'appel à projet est très spécifique et ciblée sur l'amélioration de l'excellence en recherche et en valorisation du savoir dans les institutions d'enseignement supérieur en Europe, notamment dans les pays Widening. Les projets précédemment réalisés par l'entreprise ne semblent pas avoir de liens directs avec ce type de projet, qui nécessite une expertise dans le domaine de l'enseignement supérieur, de la recherche et de l'innovation. Les axes de l'entreprise tel que Deeptech, Incubation, Acceleration, Digital Economy, Strategic Development, Financing ne semblent pas correspondre à ce type de projet.</td>\n",
       "    </tr>\n",
       "  </tbody>\n",
       "</table>\n",
       "<p>88 rows × 10 columns</p>\n",
       "</div>"
      ],
      "text/plain": [
       "                                                                                                                                                                                                                                   URL  \\\n",
       "0          https://ec.europa.eu/info/funding-tenders/opportunities/portal/screen/opportunities/topic-details/HORIZON-CL5-2026-02-D4-03?isExactMatch=true&status=31094501,31094502&order=DESC&pageNumber=1&pageSize=50&sortBy=startDate   \n",
       "1          https://ec.europa.eu/info/funding-tenders/opportunities/portal/screen/opportunities/topic-details/HORIZON-CL5-2026-02-D3-08?isExactMatch=true&status=31094501,31094502&order=DESC&pageNumber=1&pageSize=50&sortBy=startDate   \n",
       "2          https://ec.europa.eu/info/funding-tenders/opportunities/portal/screen/opportunities/topic-details/HORIZON-CL5-2026-02-D4-02?isExactMatch=true&status=31094501,31094502&order=DESC&pageNumber=1&pageSize=50&sortBy=startDate   \n",
       "3          https://ec.europa.eu/info/funding-tenders/opportunities/portal/screen/opportunities/topic-details/HORIZON-CL5-2026-02-D3-02?isExactMatch=true&status=31094501,31094502&order=DESC&pageNumber=1&pageSize=50&sortBy=startDate   \n",
       "4          https://ec.europa.eu/info/funding-tenders/opportunities/portal/screen/opportunities/topic-details/HORIZON-CL5-2026-02-D4-04?isExactMatch=true&status=31094501,31094502&order=DESC&pageNumber=1&pageSize=50&sortBy=startDate   \n",
       "..                                                                                                                                                                                                                                 ...   \n",
       "83  https://ec.europa.eu/info/funding-tenders/opportunities/portal/screen/opportunities/topic-details/HORIZON-CL2-2025-01-DEMOCRACY-12?isExactMatch=true&status=31094501,31094502&order=DESC&pageNumber=8&pageSize=50&sortBy=startDate   \n",
       "84  https://ec.europa.eu/info/funding-tenders/opportunities/portal/screen/opportunities/topic-details/HORIZON-CL2-2025-01-DEMOCRACY-06?isExactMatch=true&status=31094501,31094502&order=DESC&pageNumber=8&pageSize=50&sortBy=startDate   \n",
       "85     https://ec.europa.eu/info/funding-tenders/opportunities/portal/screen/opportunities/topic-details/HORIZON-WIDERA-2025-06-ERA-01?isExactMatch=true&status=31094501,31094502&order=DESC&pageNumber=8&pageSize=50&sortBy=startDate   \n",
       "86   https://ec.europa.eu/info/funding-tenders/opportunities/portal/screen/opportunities/topic-details/HORIZON-CL2-2025-03-HERITAGE-01?isExactMatch=true&status=31094501,31094502&order=DESC&pageNumber=8&pageSize=50&sortBy=startDate   \n",
       "87  https://ec.europa.eu/info/funding-tenders/opportunities/portal/screen/opportunities/topic-details/HORIZON-WIDERA-2025-01-ACCESS-01?isExactMatch=true&status=31094501,31094502&order=DESC&pageNumber=8&pageSize=50&sortBy=startDate   \n",
       "\n",
       "   Pertinence  \\\n",
       "0         Yes   \n",
       "1         Yes   \n",
       "2         Yes   \n",
       "3         Yes   \n",
       "4         Yes   \n",
       "..        ...   \n",
       "83        Yes   \n",
       "84        Yes   \n",
       "85        Yes   \n",
       "86        Yes   \n",
       "87        Yes   \n",
       "\n",
       "                                                                                     Matching Word(s)  \\\n",
       "0                                                               climate resilience, social innovation   \n",
       "1                                                   project design, renewable energy, economic impact   \n",
       "2                                                                                    renewable energy   \n",
       "3                                                 sustainable development, industrial competitiveness   \n",
       "4                                        artificial intelligence, renewable energy, social innovation   \n",
       "..                                                                                                ...   \n",
       "83                                                                capacity building, research results   \n",
       "84                                                                                 knowledge transfer   \n",
       "85  innovation support, knowledge transfer, technology transfer, research results, skills development   \n",
       "86                 capacity building, knowledge transfer, call for proposals, sustainable development   \n",
       "87                   capacity building, artificial intelligence, data science, digital transformation   \n",
       "\n",
       "                                                                                                                                      Title  \\\n",
       "0                  Innovative pathways for low carbon and climate resilient building stock and built environment (Built4People Partnership)   \n",
       "1                                                                 Understand and minimise the environmental impacts of offshore wind energy   \n",
       "2                        Smarter buildings as part of the energy system for increased efficiency and flexibility – Societal Readiness Pilot   \n",
       "3   Competitiveness, energy security and integration aspects of advanced biofuels and renewable fuels of non-biological origin value chains   \n",
       "4                                                                     Innovative approaches for the deployment of Positive Energy Districts   \n",
       "..                                                                                                                                      ...   \n",
       "83                                                                                     Community of democracy practitioners and researchers   \n",
       "84                                                 Towards a European research hub on contemporary antisemitism and Jewish life and culture   \n",
       "85                                                                                                Rolling out the ERA Policy Agenda results   \n",
       "86                                                                           Co-funded European partnership for Resilient Cultural Heritage   \n",
       "87                                                                                                     European Excellence Initiative (EEI)   \n",
       "\n",
       "                 Status         Start_date           Deadline Pertinence LLM  \\\n",
       "0           Forthcoming  16 September 2025   17 February 2026            Non   \n",
       "1           Forthcoming  16 September 2025   17 February 2026            Non   \n",
       "2           Forthcoming  16 September 2025   17 February 2026            Non   \n",
       "3           Forthcoming  16 September 2025   17 February 2026            Non   \n",
       "4           Forthcoming  16 September 2025   17 February 2026            Non   \n",
       "..                  ...                ...                ...            ...   \n",
       "83  Open For Submission        15 May 2025  16 September 2025            Non   \n",
       "84  Open For Submission        15 May 2025  16 September 2025            Non   \n",
       "85  Open For Submission        15 May 2025  18 September 2025            Non   \n",
       "86  Open For Submission        15 May 2025  16 September 2025            Non   \n",
       "87  Open For Submission        08 May 2025   20 November 2025            Non   \n",
       "\n",
       "                                                                                                                                                                                                                                                                                                                                                                                                                                                                                                                                                                                                                                                 Résumé LLM  \\\n",
       "0                                                                                                                                                                                                                                                                                                                                                                                                                         L'appel à projets est vide, il n'y a pas de description du projet, ce qui rend impossible la comparaison avec les projets précédents de l'entreprise. Il est donc difficile de déterminer si l'opportunité est pertinente ou non.   \n",
       "1                                                                                                                                                                                                                                                                                                                                                                                                                                                                                                                                                                                                                                                        **   \n",
       "2                                                                                                                                                                                             L'appel à projet concerne spécifiquement le domaine de la construction et de l'énergie (bâtiments intelligents, énergie renouvelable, etc.) qui n'est pas un axe d'expertise identifié dans les projets précédents de l'entreprise. Les projets précédents de l'entreprise sont plutôt orientés vers l'incubation, la stratégie, l'économie numérique, la formation, etc. Il n'y a aucunesimilarité évidente avec les projets déjà réalisés par l'entreprise.   \n",
       "3                                                                                                                                   Les projets précédemment réalisés par l'entreprise sont principalement liés à l'incubation, l'accélération et le développement de startups, ainsi qu'à la mise en place d'écosystèmes d'entrepreneuriat et de stratégies de financement. L'appel à projets concernant les biocarburants et les combustibles renouvelables de non-biologique origin ne correspond pas à ces domaines d'expertise. L'entreprise n'a pas de projet similaire dans son portefeuille pour justifier une participation à cet appel à projets.   \n",
       "4                                                                                                                                                                       L'appel à projets concerne la mise en place de districts énergétiquement positifs (PEDs) et la résolution des défis techniques, économiques et sociétaux qui les accompagnent. Les projets précédemment réalisés par l'entreprise (FACTORIAT, National Entrepreneurship Program, Arab Bank Strategy) ne montrent aucune similitude avec ce thème et ne possèdent pas les compétences requises pour aborder les défis énergétiques et de durabilité proposés dans l'appel à projets.   \n",
       "..                                                                                                                                                                                                                                                                                                                                                                                                                                                                                                                                                                                                                                                      ...   \n",
       "83                                                                                                                                                                                                                                                        Les projets précédemment réalisés par l'entreprise sont principalement liés à la Deeptech, l'incubation, la stratégie, le financement et l'écosystème entrepreneurial, alors que cet appel à projet est spécifiquement lié à la démocratie, la participation citoyenne, l'éducation civique et la recherche en sciences sociales et humaines. Il n'y a pas de similarité évidente entre les deux.   \n",
       "84                                                                                                                                                                                                                                Les projets précédents de l'entreprise semblent porter sur des domaines tels que le Deeptech, l'entrepreneuriat, l'économie numérique, la stratégie et le financement, alors que le projet présenté ici concerne la création d'un réseau de recherche sur l'antisémitisme contemporain et la vie juive en Europe. Les thèmes et les objectifs sont très différents, et il n'y a pas desimilarité évidente entre les deux.   \n",
       "85  Les projets précédents de l'entreprise sont principalement axés sur l'incubation, l'accélération, le développement stratégique et la mise en place d'écosystèmes pour les start-ups et les entreprises, alors que l'appel à projets est focalisé sur la mise en œuvre de politiques de recherche et d'innovation au niveau européen, avec des objectifs tels que l'amélioration de la reproducabilité des résultats de recherche, la réforme de l'évaluation de la recherche, la valorisation de la connaissance, etc. Les domaines d'expertise et les objectifs des projets précédents ne correspondent pas directement à ceux de cet appel à projets.   \n",
       "86                                                                                                                  L'entreprise a déjà réalisé des projets liés à la Deeptech, à l'incubation, au développement stratégique, à l'économie numérique et à l'entreprenariat, mais aucun de ces projets ne concerne spécifiquement la préservation du patrimoine culturel, la recherche scientifique sur le changement climatique, ou la coopération internationale dans ce domaine. Le projet décrit dans l'appel à projets est très spécifique et nécessite une expertise dans des domaines qui ne semblent pas être au cœur de l'activité de l'entreprise.   \n",
       "87        Cette opportunité d'appel à projet est très spécifique et ciblée sur l'amélioration de l'excellence en recherche et en valorisation du savoir dans les institutions d'enseignement supérieur en Europe, notamment dans les pays Widening. Les projets précédemment réalisés par l'entreprise ne semblent pas avoir de liens directs avec ce type de projet, qui nécessite une expertise dans le domaine de l'enseignement supérieur, de la recherche et de l'innovation. Les axes de l'entreprise tel que Deeptech, Incubation, Acceleration, Digital Economy, Strategic Development, Financing ne semblent pas correspondre à ce type de projet.   \n",
       "\n",
       "                                                                                                                                                                                                                                                                                                                                                                                                                                                                                                                                                                                                                                                                                                                                                                                                                                                                                                                                Réponse brute  \n",
       "0                                                                                                                                                                                                                                                                                                                                                                                                                                                                                                                                                                                                                                Pertinence : Non\\n\\nProjets similaires détectés : Aucun\\n\\nRésumé rapide : L'appel à projets est vide, il n'y a pas de description du projet, ce qui rend impossible la comparaison avec les projets précédents de l'entreprise. Il est donc difficile de déterminer si l'opportunité est pertinente ou non.  \n",
       "1                                                                                                                                                                                                         Bonjour !\\n\\nAprès avoir analysé l'appel à projets et les projets déjà réalisés par l'entreprise, voici ma réponse :\\n\\n**Pertinence : Non**\\n\\n**Projets similaires détectés : Aucun**\\n\\n**Résumé rapide :**\\nL'appel à projets concerne spécifiquement la mise en œuvre de technologies pour réduire les impacts environnementaux de l'énergie éolienne offshore, ce qui est très loin des compétences et des domaines d'intervention de l'entreprise qui sont principalement liés à l'incubation, l'accélération et le développement de startups Deeptech, ainsi que la création d'écosystèmes d'entreprises. Il n'y a donc pas de similarité évidente entre cet appel à projets et les projets déjà réalisés par l'entreprise.  \n",
       "2                                                                                                                                                                                                                                                                                                                                                                                                    Pertinence : Non\\n\\nProjets similaires détectés : Aucun\\n\\nRésumé rapide : L'appel à projet concerne spécifiquement le domaine de la construction et de l'énergie (bâtiments intelligents, énergie renouvelable, etc.) qui n'est pas un axe d'expertise identifié dans les projets précédents de l'entreprise. Les projets précédents de l'entreprise sont plutôt orientés vers l'incubation, la stratégie, l'économie numérique, la formation, etc. Il n'y a aucunesimilarité évidente avec les projets déjà réalisés par l'entreprise.  \n",
       "3                                                                                                                                                                                                                                                                                                                                          Pertinence : Non\\n\\nProjets similaires détectés : Aucun\\n\\nRésumé rapide : Les projets précédemment réalisés par l'entreprise sont principalement liés à l'incubation, l'accélération et le développement de startups, ainsi qu'à la mise en place d'écosystèmes d'entrepreneuriat et de stratégies de financement. L'appel à projets concernant les biocarburants et les combustibles renouvelables de non-biologique origin ne correspond pas à ces domaines d'expertise. L'entreprise n'a pas de projet similaire dans son portefeuille pour justifier une participation à cet appel à projets.  \n",
       "4                                                                                                                                                                                                                                                                                                                                                                              Pertinence : Non\\n\\nProjets similaires détectés : Aucun\\n\\nRésumé rapide : L'appel à projets concerne la mise en place de districts énergétiquement positifs (PEDs) et la résolution des défis techniques, économiques et sociétaux qui les accompagnent. Les projets précédemment réalisés par l'entreprise (FACTORIAT, National Entrepreneurship Program, Arab Bank Strategy) ne montrent aucune similitude avec ce thème et ne possèdent pas les compétences requises pour aborder les défis énergétiques et de durabilité proposés dans l'appel à projets.  \n",
       "..                                                                                                                                                                                                                                                                                                                                                                                                                                                                                                                                                                                                                                                                                                                                                                                                                                                                                                                                        ...  \n",
       "83  Pertinence : Non\\n\\nProjets similaires détectés : Aucun\\n\\nRésumé rapide : Les projets précédemment réalisés par l'entreprise sont principalement liés à la Deeptech, l'incubation, la stratégie, le financement et l'écosystème entrepreneurial, alors que cet appel à projet est spécifiquement lié à la démocratie, la participation citoyenne, l'éducation civique et la recherche en sciences sociales et humaines. Il n'y a pas de similarité évidente entre les deux.\\n\\nCependant, il est intéressant de noter que les compétences de l'entreprise dans la stratégie, la capacity-building et la création d'écosystème pourraient être pertinentes dans le contexte de la mise en place d'un réseau de recherche et d'innovation pour renforcer et renouveler la démocratie en Europe. Il faudrait cependant adapter et étendre les compétences de l'entreprise pour répondre spécifiquement aux objectifs de cet appel à projet.  \n",
       "84                                                                                                                                                                                                                                                                                                                                                                                                                                       Pertinence : Non\\n\\nProjets similaires détectés : Aucun\\n\\nRésumé rapide : Les projets précédents de l'entreprise semblent porter sur des domaines tels que le Deeptech, l'entrepreneuriat, l'économie numérique, la stratégie et le financement, alors que le projet présenté ici concerne la création d'un réseau de recherche sur l'antisémitisme contemporain et la vie juive en Europe. Les thèmes et les objectifs sont très différents, et il n'y a pas desimilarité évidente entre les deux.  \n",
       "85                                                                                                                                                                                                         Pertinence : Non\\n\\nProjets similaires détectés : Aucun\\n\\nRésumé rapide : Les projets précédents de l'entreprise sont principalement axés sur l'incubation, l'accélération, le développement stratégique et la mise en place d'écosystèmes pour les start-ups et les entreprises, alors que l'appel à projets est focalisé sur la mise en œuvre de politiques de recherche et d'innovation au niveau européen, avec des objectifs tels que l'amélioration de la reproducabilité des résultats de recherche, la réforme de l'évaluation de la recherche, la valorisation de la connaissance, etc. Les domaines d'expertise et les objectifs des projets précédents ne correspondent pas directement à ceux de cet appel à projets.  \n",
       "86                                                                                                                                                                                                                                                                                                                         Pertinence : Non\\n\\nProjets similaires détectés : Aucun\\n\\nRésumé rapide : L'entreprise a déjà réalisé des projets liés à la Deeptech, à l'incubation, au développement stratégique, à l'économie numérique et à l'entreprenariat, mais aucun de ces projets ne concerne spécifiquement la préservation du patrimoine culturel, la recherche scientifique sur le changement climatique, ou la coopération internationale dans ce domaine. Le projet décrit dans l'appel à projets est très spécifique et nécessite une expertise dans des domaines qui ne semblent pas être au cœur de l'activité de l'entreprise.  \n",
       "87                                                                                                                                                                                                               Pertinence : Non\\n\\nProjets similaires détectés : Aucun\\n\\nRésumé rapide : Cette opportunité d'appel à projet est très spécifique et ciblée sur l'amélioration de l'excellence en recherche et en valorisation du savoir dans les institutions d'enseignement supérieur en Europe, notamment dans les pays Widening. Les projets précédemment réalisés par l'entreprise ne semblent pas avoir de liens directs avec ce type de projet, qui nécessite une expertise dans le domaine de l'enseignement supérieur, de la recherche et de l'innovation. Les axes de l'entreprise tel que Deeptech, Incubation, Acceleration, Digital Economy, Strategic Development, Financing ne semblent pas correspondre à ce type de projet.  \n",
       "\n",
       "[88 rows x 10 columns]"
      ]
     },
     "execution_count": 18,
     "metadata": {},
     "output_type": "execute_result"
    }
   ],
   "source": [
    "\n",
    "df_final_llm"
   ]
  },
  {
   "cell_type": "code",
   "execution_count": 19,
   "id": "23d9c6f3",
   "metadata": {
    "execution": {
     "iopub.execute_input": "2025-07-16T16:45:04.575297Z",
     "iopub.status.busy": "2025-07-16T16:45:04.574245Z",
     "iopub.status.idle": "2025-07-16T16:45:04.580371Z",
     "shell.execute_reply": "2025-07-16T16:45:04.580371Z"
    }
   },
   "outputs": [
    {
     "data": {
      "text/plain": [
       "(88, 10)"
      ]
     },
     "execution_count": 19,
     "metadata": {},
     "output_type": "execute_result"
    }
   ],
   "source": [
    "df_final_llm.shape"
   ]
  },
  {
   "cell_type": "code",
   "execution_count": 20,
   "id": "dbfff143",
   "metadata": {
    "execution": {
     "iopub.execute_input": "2025-07-16T16:45:04.583541Z",
     "iopub.status.busy": "2025-07-16T16:45:04.582430Z",
     "iopub.status.idle": "2025-07-16T16:45:04.589051Z",
     "shell.execute_reply": "2025-07-16T16:45:04.589051Z"
    }
   },
   "outputs": [],
   "source": [
    "df_yes_final = df_final_llm[df_final_llm['Pertinence LLM'] == 'Oui'].copy()\n"
   ]
  },
  {
   "cell_type": "code",
   "execution_count": 21,
   "id": "8d30abca",
   "metadata": {
    "execution": {
     "iopub.execute_input": "2025-07-16T16:45:04.592062Z",
     "iopub.status.busy": "2025-07-16T16:45:04.592062Z",
     "iopub.status.idle": "2025-07-16T16:45:04.641979Z",
     "shell.execute_reply": "2025-07-16T16:45:04.640979Z"
    }
   },
   "outputs": [],
   "source": [
    "df_yes_final.to_excel(\"df_LLM_YES_EU.xlsx\", index=False)"
   ]
  },
  {
   "cell_type": "code",
   "execution_count": 22,
   "id": "7558b594",
   "metadata": {
    "execution": {
     "iopub.execute_input": "2025-07-16T16:45:04.643973Z",
     "iopub.status.busy": "2025-07-16T16:45:04.643973Z",
     "iopub.status.idle": "2025-07-16T16:45:04.653678Z",
     "shell.execute_reply": "2025-07-16T16:45:04.653678Z"
    }
   },
   "outputs": [
    {
     "data": {
      "text/html": [
       "<div>\n",
       "<style scoped>\n",
       "    .dataframe tbody tr th:only-of-type {\n",
       "        vertical-align: middle;\n",
       "    }\n",
       "\n",
       "    .dataframe tbody tr th {\n",
       "        vertical-align: top;\n",
       "    }\n",
       "\n",
       "    .dataframe thead th {\n",
       "        text-align: right;\n",
       "    }\n",
       "</style>\n",
       "<table border=\"1\" class=\"dataframe\">\n",
       "  <thead>\n",
       "    <tr style=\"text-align: right;\">\n",
       "      <th></th>\n",
       "      <th>URL</th>\n",
       "      <th>Pertinence</th>\n",
       "      <th>Matching Word(s)</th>\n",
       "      <th>Title</th>\n",
       "      <th>Status</th>\n",
       "      <th>Start_date</th>\n",
       "      <th>Deadline</th>\n",
       "      <th>Pertinence LLM</th>\n",
       "      <th>Résumé LLM</th>\n",
       "      <th>Réponse brute</th>\n",
       "    </tr>\n",
       "  </thead>\n",
       "  <tbody>\n",
       "    <tr>\n",
       "      <th>13</th>\n",
       "      <td>https://ec.europa.eu/info/funding-tenders/opportunities/portal/screen/opportunities/topic-details/HORIZON-EIE-2026-01-CONNECT-03?isExactMatch=true&amp;status=31094501,31094502&amp;order=DESC&amp;pageNumber=1&amp;pageSize=50&amp;sortBy=startDate</td>\n",
       "      <td>Yes</td>\n",
       "      <td>economic impact, co-development</td>\n",
       "      <td>Scaling up deep tech ecosystems</td>\n",
       "      <td>Forthcoming</td>\n",
       "      <td>10 September 2025</td>\n",
       "      <td>20 January 2026</td>\n",
       "      <td>Oui</td>\n",
       "      <td>L'appel à projets Europeen vise à soutenir le développement d'écosystèmes de deeptech autour d'infrastructures de recherche paneuropéennes, en générant des technologies à valeur marché et sociale. L'entreprise a déjà une expérience pertinente avec le projet FACTORIAT, qui soutient les startups deeptech et matérielle dans leur prototypage et maturité technique, ce qui correspond bien à l'objectif de cet appel à projets.</td>\n",
       "      <td>Pertinence : Oui\\n\\nProjets similaires détectés : FACTORIAT\\n\\nRésumé rapide : L'appel à projets Europeen vise à soutenir le développement d'écosystèmes de deeptech autour d'infrastructures de recherche paneuropéennes, en générant des technologies à valeur marché et sociale. L'entreprise a déjà une expérience pertinente avec le projet FACTORIAT, qui soutient les startups deeptech et matérielle dans leur prototypage et maturité technique, ce qui correspond bien à l'objectif de cet appel à projets.</td>\n",
       "    </tr>\n",
       "    <tr>\n",
       "      <th>14</th>\n",
       "      <td>https://ec.europa.eu/info/funding-tenders/opportunities/portal/screen/opportunities/topic-details/HORIZON-EIE-2026-01-CONNECT-02?isExactMatch=true&amp;status=31094501,31094502&amp;order=DESC&amp;pageNumber=1&amp;pageSize=50&amp;sortBy=startDate</td>\n",
       "      <td>Yes</td>\n",
       "      <td>cybersecurity, digital transformation</td>\n",
       "      <td>Expanding Investment Ecosystems</td>\n",
       "      <td>Forthcoming</td>\n",
       "      <td>10 September 2025</td>\n",
       "      <td>20 January 2026</td>\n",
       "      <td>Oui</td>\n",
       "      <td>Cette opportunité semble pertinente car elle vise à améliorer l'accès au financement et aux partenaires étrangers pour les start-ups issus de régions moins connectées et développées, ce qui est en ligne avec les objectifs de projets tels que le National Entrepreneurship Program qui vise à renforcer l'écosystème entrepreneurial national, et l'Arab Bank Strategy qui concerne le développement de la stratégie de financement et de partenariat pour les projets de l'économie numérique africaine. L'accent mis sur l'amélioration de l'accès au financement et aux partenaires étrangers, ainsi que la création de programmes d'accompagnement et de mise en réseau, sont des éléments clés qui lient cet appel à projets aux expériences précédentes de l'entreprise.</td>\n",
       "      <td>Pertinence : Oui\\n\\nProjets similaires détectés : National Entrepreneurship Program, Arab Bank Strategy\\n\\nRésumé rapide : Cette opportunité semble pertinente car elle vise à améliorer l'accès au financement et aux partenaires étrangers pour les start-ups issus de régions moins connectées et développées, ce qui est en ligne avec les objectifs de projets tels que le National Entrepreneurship Program qui vise à renforcer l'écosystème entrepreneurial national, et l'Arab Bank Strategy qui concerne le développement de la stratégie de financement et de partenariat pour les projets de l'économie numérique africaine. L'accent mis sur l'amélioration de l'accès au financement et aux partenaires étrangers, ainsi que la création de programmes d'accompagnement et de mise en réseau, sont des éléments clés qui lient cet appel à projets aux expériences précédentes de l'entreprise.</td>\n",
       "    </tr>\n",
       "    <tr>\n",
       "      <th>15</th>\n",
       "      <td>https://ec.europa.eu/info/funding-tenders/opportunities/portal/screen/opportunities/topic-details/HORIZON-EIE-2026-01-CONNECT-01?isExactMatch=true&amp;status=31094501,31094502&amp;order=DESC&amp;pageNumber=1&amp;pageSize=50&amp;sortBy=startDate</td>\n",
       "      <td>Yes</td>\n",
       "      <td>capacity building, public procurement</td>\n",
       "      <td>European network of national competence centers for innovation procurement</td>\n",
       "      <td>Forthcoming</td>\n",
       "      <td>10 September 2025</td>\n",
       "      <td>20 January 2026</td>\n",
       "      <td>Oui</td>\n",
       "      <td>Ce projet est pertinent pour l'entreprise en raison de son expérience dans la mise en place d'écosystèmes d'entrepreneuriat et de développement de stratégies de financement pour les entreprises innovantes, comme le montre le projet National Entrepreneurship Program. L'appel à projet propose de renforcer les compétences des acheteurs publics pour les achats publics innovants, de promouvoir les opportunités d'affaires pour les entreprises innovantes et de développer un réseau européen de centres de compétence pour l'achat public innovant. L'entreprise a déjà démontré son expertise dans la mise en place de programmes d'entrepreneuriat et de stratégies de financement, ce qui lui permet de répondre aux attentes de cet appel à projet.</td>\n",
       "      <td>Bonjour,\\n\\nAnalyse du projet :\\n\\n* Pertinence : Oui\\n* Projets similaires détectés : National Entrepreneurship Program\\n* Résumé rapide : Ce projet est pertinent pour l'entreprise en raison de son expérience dans la mise en place d'écosystèmes d'entrepreneuriat et de développement de stratégies de financement pour les entreprises innovantes, comme le montre le projet National Entrepreneurship Program. L'appel à projet propose de renforcer les compétences des acheteurs publics pour les achats publics innovants, de promouvoir les opportunités d'affaires pour les entreprises innovantes et de développer un réseau européen de centres de compétence pour l'achat public innovant. L'entreprise a déjà démontré son expertise dans la mise en place de programmes d'entrepreneuriat et de stratégies de financement, ce qui lui permet de répondre aux attentes de cet appel à projet.</td>\n",
       "    </tr>\n",
       "    <tr>\n",
       "      <th>20</th>\n",
       "      <td>https://ec.europa.eu/info/funding-tenders/opportunities/portal/screen/opportunities/topic-details/DIGITAL-IRIS2-2025-QCI-01?isExactMatch=true&amp;status=31094501,31094502&amp;order=DESC&amp;pageNumber=2&amp;pageSize=50&amp;sortBy=startDate</td>\n",
       "      <td>Yes</td>\n",
       "      <td>artificial intelligence, cybersecurity</td>\n",
       "      <td>Maturing of a European industrial ecosystem for security-certified terrestrial QKD technologies and systems</td>\n",
       "      <td>Open For Submission</td>\n",
       "      <td>15 July 2025</td>\n",
       "      <td>16 October 2025</td>\n",
       "      <td>Oui</td>\n",
       "      <td>Cette opportunité est pertinente pour l'entreprise car elle implique une composante importante de soutien à des startups et à des entreprises de pointe (DeepTech) dans le domaine de la cryptographie quantique, ce qui est en ligne avec le projet FACTORIAT qui vise à soutenir les startups dans la maturation et la production de prototypes de pointe. De plus, l'appel à projets met l'accent sur la mise en œuvre de technologies nouvelles et disruptives, ce qui est également en phase avec l'axe Deeptech de l'entreprise.</td>\n",
       "      <td>Pertinence : Oui\\n\\nProjets similaires détectés : FACTORIAT\\n\\nRésumé rapide : Cette opportunité est pertinente pour l'entreprise car elle implique une composante importante de soutien à des startups et à des entreprises de pointe (DeepTech) dans le domaine de la cryptographie quantique, ce qui est en ligne avec le projet FACTORIAT qui vise à soutenir les startups dans la maturation et la production de prototypes de pointe. De plus, l'appel à projets met l'accent sur la mise en œuvre de technologies nouvelles et disruptives, ce qui est également en phase avec l'axe Deeptech de l'entreprise.</td>\n",
       "    </tr>\n",
       "    <tr>\n",
       "      <th>28</th>\n",
       "      <td>https://ec.europa.eu/info/funding-tenders/opportunities/portal/screen/opportunities/topic-details/DIGITAL-JU-CHIPS-2025-SG-SSOI?isExactMatch=true&amp;status=31094501,31094502&amp;order=DESC&amp;pageNumber=2&amp;pageSize=50&amp;sortBy=startDate</td>\n",
       "      <td>Yes</td>\n",
       "      <td>intellectual property</td>\n",
       "      <td>DIGITAL-JU-CHIPS-2025-SG-SSOI</td>\n",
       "      <td>Open For Submission</td>\n",
       "      <td>08 July 2025</td>\n",
       "      <td>20 November 2025</td>\n",
       "      <td>Oui</td>\n",
       "      <td>** L'appel à projets européen décrit un projet d'accélération de la technologie sSOI pour améliorer la production de semi-conducteurs en Europe. Ce projet est pertinent pour l'entreprise car elle a déjà une expérience dans le domaine de l'accélération et de l'incubation de startups Hardware/Deeptech (FACTORIAT). L'objectif de cet appel à projets est de créer un accélérateur de technologie sSOI pour soutenir les entreprises européennes, ce qui aligne avec l'expérience de l'entreprise dans l'accélération et l'incubation de startups.</td>\n",
       "      <td>Analyse de pertinence :\\n\\n**Pertinence : Oui**\\n\\n**Projets similaires détectés :** FACTORIAT (axe Deeptech, Hardware, Incubation, Prototyping, Acceleration)\\n\\n**Résumé rapide :** L'appel à projets européen décrit un projet d'accélération de la technologie sSOI pour améliorer la production de semi-conducteurs en Europe. Ce projet est pertinent pour l'entreprise car elle a déjà une expérience dans le domaine de l'accélération et de l'incubation de startups Hardware/Deeptech (FACTORIAT). L'objectif de cet appel à projets est de créer un accélérateur de technologie sSOI pour soutenir les entreprises européennes, ce qui aligne avec l'expérience de l'entreprise dans l'accélération et l'incubation de startups.</td>\n",
       "    </tr>\n",
       "    <tr>\n",
       "      <th>29</th>\n",
       "      <td>https://ec.europa.eu/info/funding-tenders/opportunities/portal/screen/opportunities/topic-details/DIGITAL-JU-CHIPS-2025-IA-LEAI?isExactMatch=true&amp;status=31094501,31094502&amp;order=DESC&amp;pageNumber=2&amp;pageSize=50&amp;sortBy=startDate</td>\n",
       "      <td>Yes</td>\n",
       "      <td>digital transformation</td>\n",
       "      <td>DIGITAL-JU-CHIPS-2025-IA-LEAI</td>\n",
       "      <td>Open For Submission</td>\n",
       "      <td>08 July 2025</td>\n",
       "      <td>17 September 2025</td>\n",
       "      <td>Oui</td>\n",
       "      <td>L'appel à projet porte sur le développement de prototypes de puces AI à haute performance et faible consommation d'énergie, ce qui nécessite une expertise en matière de prototypage et de maturation technologique. Le projet FACTORIAT de l'entreprise, qui vise à soutenir les startups Deeptech et Hardware en leur offrant une aide technique et financière pour le prototypage et la maturation technologique, présente dessimilarités avec cet appel à projet. L'entreprise a déjà démontré son expertise dans ce domaine et pourrait apporter une valeur ajoutée à ce projet.</td>\n",
       "      <td>Pertinence : Oui\\n\\nProjets similaires détectés : FACTORIAT\\n\\nRésumé rapide : L'appel à projet porte sur le développement de prototypes de puces AI à haute performance et faible consommation d'énergie, ce qui nécessite une expertise en matière de prototypage et de maturation technologique. Le projet FACTORIAT de l'entreprise, qui vise à soutenir les startups Deeptech et Hardware en leur offrant une aide technique et financière pour le prototypage et la maturation technologique, présente dessimilarités avec cet appel à projet. L'entreprise a déjà démontré son expertise dans ce domaine et pourrait apporter une valeur ajoutée à ce projet.</td>\n",
       "    </tr>\n",
       "    <tr>\n",
       "      <th>41</th>\n",
       "      <td>https://ec.europa.eu/info/funding-tenders/opportunities/portal/screen/opportunities/topic-details/DIGITAL-ECCC-2025-DEPLOY-CYBER-08-NCC?isExactMatch=true&amp;status=31094501,31094502&amp;order=DESC&amp;pageNumber=3&amp;pageSize=50&amp;sortBy=startDate</td>\n",
       "      <td>Yes</td>\n",
       "      <td>technical assistance, technology transfer, incubation program, public procurement, cybersecurity</td>\n",
       "      <td>Enhancing the NCC Network</td>\n",
       "      <td>Open For Submission</td>\n",
       "      <td>12 June 2025</td>\n",
       "      <td>07 October 2025</td>\n",
       "      <td>Oui</td>\n",
       "      <td>**</td>\n",
       "      <td>After analyzing the call for projects and the list of projects already realized by the enterprise, I can provide the following answer:\\n\\n**Pertinence : Oui**\\n\\nThe call for projects is relevant to the enterprise's expertise, as it involves aspects of incubation, acceleration, and capacity building, which are similar to the activities conducted in the **FACTORIAT** project. Additionally, the focus on cybersecurity, digital economy, and startup ecosystem support aligns with the objectives of the **Arab Bank Strategy** project.\\n\\n**Projets similaires détectés : [FACTORIAT, Arab Bank Strategy]**\\n\\n**Résumé rapide :**\\nThe enterprise's experience in supporting startups and entrepreneurship ecosystems, as well as its involvement in strategic development and financing, makes it a strong candidate to contribute to the implementation of the National Coordination Centres (NCCs) and the Cybersecurity Competence Community in each Member State. The call for projects shares similarities with the enterprise's previous projects, particularly in terms of incubation, acceleration, and capacity building, making it a relevant opportunity for the enterprise to pursue.</td>\n",
       "    </tr>\n",
       "    <tr>\n",
       "      <th>45</th>\n",
       "      <td>https://ec.europa.eu/info/funding-tenders/opportunities/portal/screen/opportunities/topic-details/HORIZON-CL3-2025-01-SSRI-01?isExactMatch=true&amp;status=31094501,31094502&amp;order=DESC&amp;pageNumber=4&amp;pageSize=50&amp;sortBy=startDate</td>\n",
       "      <td>Yes</td>\n",
       "      <td>capacity building</td>\n",
       "      <td>National Contact Points (NCPs) in the field of security and cybersecurity fostering the links with National Community building for Safe, Secure and Resilient Societies</td>\n",
       "      <td>Open For Submission</td>\n",
       "      <td>12 June 2025</td>\n",
       "      <td>12 November 2025</td>\n",
       "      <td>Oui</td>\n",
       "      <td>Ce projet concerne le renforcement des liens entre les National Contact Points (NCP) et les communautés nationales de recherche et d'innovation pour améliorer la coordination et la coopération en matière de recherche et d'innovation dans le domaine de la sécurité. L'entreprise a déjà une expérience similaire avec le National Entrepreneurship Program, qui vise à mettre en place un écosystème entrepreneurial national. Les compétences acquises dans ce projet pourraient être très utiles pour répondre à cet appel à projets. De plus, l'entreprise a déjà démontré sa capacité à développer des stratégies pour des écosystèmes d'innovation, ce qui est également en ligne avec les objectifs de ce projet.</td>\n",
       "      <td>Pertinence : Oui\\n\\nProjets similaires détectés : National Entrepreneurship Program\\n\\nRésumé rapide : Ce projet concerne le renforcement des liens entre les National Contact Points (NCP) et les communautés nationales de recherche et d'innovation pour améliorer la coordination et la coopération en matière de recherche et d'innovation dans le domaine de la sécurité. L'entreprise a déjà une expérience similaire avec le National Entrepreneurship Program, qui vise à mettre en place un écosystème entrepreneurial national. Les compétences acquises dans ce projet pourraient être très utiles pour répondre à cet appel à projets. De plus, l'entreprise a déjà démontré sa capacité à développer des stratégies pour des écosystèmes d'innovation, ce qui est également en ligne avec les objectifs de ce projet.</td>\n",
       "    </tr>\n",
       "    <tr>\n",
       "      <th>48</th>\n",
       "      <td>https://ec.europa.eu/info/funding-tenders/opportunities/portal/screen/opportunities/topic-details/HORIZON-CL4-2025-03-HUMAN-17?isExactMatch=true&amp;status=31094501,31094502&amp;order=DESC&amp;pageNumber=4&amp;pageSize=50&amp;sortBy=startDate</td>\n",
       "      <td>Yes</td>\n",
       "      <td>robotics</td>\n",
       "      <td>Specific support for the Virtual Worlds Partnership and the Web 4.0 initiative (CSA) (Virtual Worlds Partnership)</td>\n",
       "      <td>Open For Submission</td>\n",
       "      <td>10 June 2025</td>\n",
       "      <td>02 October 2025</td>\n",
       "      <td>Oui</td>\n",
       "      <td>Cette opportunité est pertinente car elle concerne le développement d'un écosystème innovant (Virtual Worlds) et la mise en place d'une stratégie de recherche et d'innovation (SRIA) pour Web 4.0 en Europe, ce qui renvoie à l'axe \"Digital Economy\" et \"Strategic Development\" du projet Arab Bank Strategy. De plus, l'aspect \"capacity building\" et \"Startup Ecosystem\" du projet National Entrepreneurship Program est également présent dans cet appel à projets, avec l'objectif de soutenir l'émergence d'un écosystème européen pour Web 4.0 et Virtual Worlds.</td>\n",
       "      <td>Pertinence : Oui\\n\\nProjets similaires détectés : Arab Bank Strategy, National Entrepreneurship Program\\n\\nRésumé rapide : Cette opportunité est pertinente car elle concerne le développement d'un écosystème innovant (Virtual Worlds) et la mise en place d'une stratégie de recherche et d'innovation (SRIA) pour Web 4.0 en Europe, ce qui renvoie à l'axe \"Digital Economy\" et \"Strategic Development\" du projet Arab Bank Strategy. De plus, l'aspect \"capacity building\" et \"Startup Ecosystem\" du projet National Entrepreneurship Program est également présent dans cet appel à projets, avec l'objectif de soutenir l'émergence d'un écosystème européen pour Web 4.0 et Virtual Worlds.\\n\\nNote : Le projet FACTORIAT, qui concerne l'incubation et l'accélération de startups, peut également être lié à cet appel à projets, mais de manière moins directe.</td>\n",
       "    </tr>\n",
       "    <tr>\n",
       "      <th>52</th>\n",
       "      <td>https://ec.europa.eu/info/funding-tenders/opportunities/portal/screen/opportunities/topic-details/HORIZON-CL4-2025-03-HUMAN-16?isExactMatch=true&amp;status=31094501,31094502&amp;order=DESC&amp;pageNumber=5&amp;pageSize=50&amp;sortBy=startDate</td>\n",
       "      <td>Yes</td>\n",
       "      <td>prototyping, economic impact</td>\n",
       "      <td>Drive the evolution of the internet towards open and interoperable Web 4.0 and Virtual Worlds: building blocks in priority areas (RIA) (Virtual Worlds Partnership)</td>\n",
       "      <td>Open For Submission</td>\n",
       "      <td>10 June 2025</td>\n",
       "      <td>02 October 2025</td>\n",
       "      <td>Oui</td>\n",
       "      <td>L'opportunité décrite dans l'appel à projet européen est pertinente par rapport aux projets de l'entreprise car elle concerne l'avancement de la technologie et l'innovation dans le domaine du web et de l'internet, ce qui est en ligne avec le projet FACTORIA qui vise à aider les startups Deeptech et Hardware à matureser leurs technologies. De plus, l'accent mis sur l'open source, l'interopérabilité et la sécurité dans l'appel à projet correspondent aux axes définis dans le projet FACTORIA. Cependant, il est important de noter que les autres projets de l'entreprise (National Entrepreneurship Program et Arab Bank Strategy) semblent être plus éloignés de cette opportunité en termes de contenu et d'objectifs.</td>\n",
       "      <td>Pertinence : Oui\\n\\nProjets similaires détectés : FACTORIA\\n\\nRésumé rapide : L'opportunité décrite dans l'appel à projet européen est pertinente par rapport aux projets de l'entreprise car elle concerne l'avancement de la technologie et l'innovation dans le domaine du web et de l'internet, ce qui est en ligne avec le projet FACTORIA qui vise à aider les startups Deeptech et Hardware à matureser leurs technologies. De plus, l'accent mis sur l'open source, l'interopérabilité et la sécurité dans l'appel à projet correspondent aux axes définis dans le projet FACTORIA. Cependant, il est important de noter que les autres projets de l'entreprise (National Entrepreneurship Program et Arab Bank Strategy) semblent être plus éloignés de cette opportunité en termes de contenu et d'objectifs.</td>\n",
       "    </tr>\n",
       "  </tbody>\n",
       "</table>\n",
       "</div>"
      ],
      "text/plain": [
       "                                                                                                                                                                                                                                        URL  \\\n",
       "13         https://ec.europa.eu/info/funding-tenders/opportunities/portal/screen/opportunities/topic-details/HORIZON-EIE-2026-01-CONNECT-03?isExactMatch=true&status=31094501,31094502&order=DESC&pageNumber=1&pageSize=50&sortBy=startDate   \n",
       "14         https://ec.europa.eu/info/funding-tenders/opportunities/portal/screen/opportunities/topic-details/HORIZON-EIE-2026-01-CONNECT-02?isExactMatch=true&status=31094501,31094502&order=DESC&pageNumber=1&pageSize=50&sortBy=startDate   \n",
       "15         https://ec.europa.eu/info/funding-tenders/opportunities/portal/screen/opportunities/topic-details/HORIZON-EIE-2026-01-CONNECT-01?isExactMatch=true&status=31094501,31094502&order=DESC&pageNumber=1&pageSize=50&sortBy=startDate   \n",
       "20              https://ec.europa.eu/info/funding-tenders/opportunities/portal/screen/opportunities/topic-details/DIGITAL-IRIS2-2025-QCI-01?isExactMatch=true&status=31094501,31094502&order=DESC&pageNumber=2&pageSize=50&sortBy=startDate   \n",
       "28          https://ec.europa.eu/info/funding-tenders/opportunities/portal/screen/opportunities/topic-details/DIGITAL-JU-CHIPS-2025-SG-SSOI?isExactMatch=true&status=31094501,31094502&order=DESC&pageNumber=2&pageSize=50&sortBy=startDate   \n",
       "29          https://ec.europa.eu/info/funding-tenders/opportunities/portal/screen/opportunities/topic-details/DIGITAL-JU-CHIPS-2025-IA-LEAI?isExactMatch=true&status=31094501,31094502&order=DESC&pageNumber=2&pageSize=50&sortBy=startDate   \n",
       "41  https://ec.europa.eu/info/funding-tenders/opportunities/portal/screen/opportunities/topic-details/DIGITAL-ECCC-2025-DEPLOY-CYBER-08-NCC?isExactMatch=true&status=31094501,31094502&order=DESC&pageNumber=3&pageSize=50&sortBy=startDate   \n",
       "45            https://ec.europa.eu/info/funding-tenders/opportunities/portal/screen/opportunities/topic-details/HORIZON-CL3-2025-01-SSRI-01?isExactMatch=true&status=31094501,31094502&order=DESC&pageNumber=4&pageSize=50&sortBy=startDate   \n",
       "48           https://ec.europa.eu/info/funding-tenders/opportunities/portal/screen/opportunities/topic-details/HORIZON-CL4-2025-03-HUMAN-17?isExactMatch=true&status=31094501,31094502&order=DESC&pageNumber=4&pageSize=50&sortBy=startDate   \n",
       "52           https://ec.europa.eu/info/funding-tenders/opportunities/portal/screen/opportunities/topic-details/HORIZON-CL4-2025-03-HUMAN-16?isExactMatch=true&status=31094501,31094502&order=DESC&pageNumber=5&pageSize=50&sortBy=startDate   \n",
       "\n",
       "   Pertinence  \\\n",
       "13        Yes   \n",
       "14        Yes   \n",
       "15        Yes   \n",
       "20        Yes   \n",
       "28        Yes   \n",
       "29        Yes   \n",
       "41        Yes   \n",
       "45        Yes   \n",
       "48        Yes   \n",
       "52        Yes   \n",
       "\n",
       "                                                                                    Matching Word(s)  \\\n",
       "13                                                                   economic impact, co-development   \n",
       "14                                                             cybersecurity, digital transformation   \n",
       "15                                                             capacity building, public procurement   \n",
       "20                                                            artificial intelligence, cybersecurity   \n",
       "28                                                                             intellectual property   \n",
       "29                                                                            digital transformation   \n",
       "41  technical assistance, technology transfer, incubation program, public procurement, cybersecurity   \n",
       "45                                                                                 capacity building   \n",
       "48                                                                                          robotics   \n",
       "52                                                                      prototyping, economic impact   \n",
       "\n",
       "                                                                                                                                                                      Title  \\\n",
       "13                                                                                                                                          Scaling up deep tech ecosystems   \n",
       "14                                                                                                                                          Expanding Investment Ecosystems   \n",
       "15                                                                                               European network of national competence centers for innovation procurement   \n",
       "20                                                              Maturing of a European industrial ecosystem for security-certified terrestrial QKD technologies and systems   \n",
       "28                                                                                                                                            DIGITAL-JU-CHIPS-2025-SG-SSOI   \n",
       "29                                                                                                                                            DIGITAL-JU-CHIPS-2025-IA-LEAI   \n",
       "41                                                                                                                                                Enhancing the NCC Network   \n",
       "45  National Contact Points (NCPs) in the field of security and cybersecurity fostering the links with National Community building for Safe, Secure and Resilient Societies   \n",
       "48                                                        Specific support for the Virtual Worlds Partnership and the Web 4.0 initiative (CSA) (Virtual Worlds Partnership)   \n",
       "52      Drive the evolution of the internet towards open and interoperable Web 4.0 and Virtual Worlds: building blocks in priority areas (RIA) (Virtual Worlds Partnership)   \n",
       "\n",
       "                 Status         Start_date           Deadline Pertinence LLM  \\\n",
       "13          Forthcoming  10 September 2025    20 January 2026            Oui   \n",
       "14          Forthcoming  10 September 2025    20 January 2026            Oui   \n",
       "15          Forthcoming  10 September 2025    20 January 2026            Oui   \n",
       "20  Open For Submission       15 July 2025    16 October 2025            Oui   \n",
       "28  Open For Submission       08 July 2025   20 November 2025            Oui   \n",
       "29  Open For Submission       08 July 2025  17 September 2025            Oui   \n",
       "41  Open For Submission       12 June 2025    07 October 2025            Oui   \n",
       "45  Open For Submission       12 June 2025   12 November 2025            Oui   \n",
       "48  Open For Submission       10 June 2025    02 October 2025            Oui   \n",
       "52  Open For Submission       10 June 2025    02 October 2025            Oui   \n",
       "\n",
       "                                                                                                                                                                                                                                                                                                                                                                                                                                                                                                                                                                                                                                                                                                                                                                            Résumé LLM  \\\n",
       "13                                                                                                                                                                                                                                                                                                                                              L'appel à projets Europeen vise à soutenir le développement d'écosystèmes de deeptech autour d'infrastructures de recherche paneuropéennes, en générant des technologies à valeur marché et sociale. L'entreprise a déjà une expérience pertinente avec le projet FACTORIAT, qui soutient les startups deeptech et matérielle dans leur prototypage et maturité technique, ce qui correspond bien à l'objectif de cet appel à projets.   \n",
       "14  Cette opportunité semble pertinente car elle vise à améliorer l'accès au financement et aux partenaires étrangers pour les start-ups issus de régions moins connectées et développées, ce qui est en ligne avec les objectifs de projets tels que le National Entrepreneurship Program qui vise à renforcer l'écosystème entrepreneurial national, et l'Arab Bank Strategy qui concerne le développement de la stratégie de financement et de partenariat pour les projets de l'économie numérique africaine. L'accent mis sur l'amélioration de l'accès au financement et aux partenaires étrangers, ainsi que la création de programmes d'accompagnement et de mise en réseau, sont des éléments clés qui lient cet appel à projets aux expériences précédentes de l'entreprise.   \n",
       "15                  Ce projet est pertinent pour l'entreprise en raison de son expérience dans la mise en place d'écosystèmes d'entrepreneuriat et de développement de stratégies de financement pour les entreprises innovantes, comme le montre le projet National Entrepreneurship Program. L'appel à projet propose de renforcer les compétences des acheteurs publics pour les achats publics innovants, de promouvoir les opportunités d'affaires pour les entreprises innovantes et de développer un réseau européen de centres de compétence pour l'achat public innovant. L'entreprise a déjà démontré son expertise dans la mise en place de programmes d'entrepreneuriat et de stratégies de financement, ce qui lui permet de répondre aux attentes de cet appel à projet.   \n",
       "20                                                                                                                                                                                                                                              Cette opportunité est pertinente pour l'entreprise car elle implique une composante importante de soutien à des startups et à des entreprises de pointe (DeepTech) dans le domaine de la cryptographie quantique, ce qui est en ligne avec le projet FACTORIAT qui vise à soutenir les startups dans la maturation et la production de prototypes de pointe. De plus, l'appel à projets met l'accent sur la mise en œuvre de technologies nouvelles et disruptives, ce qui est également en phase avec l'axe Deeptech de l'entreprise.   \n",
       "28                                                                                                                                                                                                                            ** L'appel à projets européen décrit un projet d'accélération de la technologie sSOI pour améliorer la production de semi-conducteurs en Europe. Ce projet est pertinent pour l'entreprise car elle a déjà une expérience dans le domaine de l'accélération et de l'incubation de startups Hardware/Deeptech (FACTORIAT). L'objectif de cet appel à projets est de créer un accélérateur de technologie sSOI pour soutenir les entreprises européennes, ce qui aligne avec l'expérience de l'entreprise dans l'accélération et l'incubation de startups.   \n",
       "29                                                                                                                                                                                               L'appel à projet porte sur le développement de prototypes de puces AI à haute performance et faible consommation d'énergie, ce qui nécessite une expertise en matière de prototypage et de maturation technologique. Le projet FACTORIAT de l'entreprise, qui vise à soutenir les startups Deeptech et Hardware en leur offrant une aide technique et financière pour le prototypage et la maturation technologique, présente dessimilarités avec cet appel à projet. L'entreprise a déjà démontré son expertise dans ce domaine et pourrait apporter une valeur ajoutée à ce projet.   \n",
       "41                                                                                                                                                                                                                                                                                                                                                                                                                                                                                                                                                                                                                                                                                                                                                                                  **   \n",
       "45                                                        Ce projet concerne le renforcement des liens entre les National Contact Points (NCP) et les communautés nationales de recherche et d'innovation pour améliorer la coordination et la coopération en matière de recherche et d'innovation dans le domaine de la sécurité. L'entreprise a déjà une expérience similaire avec le National Entrepreneurship Program, qui vise à mettre en place un écosystème entrepreneurial national. Les compétences acquises dans ce projet pourraient être très utiles pour répondre à cet appel à projets. De plus, l'entreprise a déjà démontré sa capacité à développer des stratégies pour des écosystèmes d'innovation, ce qui est également en ligne avec les objectifs de ce projet.   \n",
       "48                                                                                                                                                                                                           Cette opportunité est pertinente car elle concerne le développement d'un écosystème innovant (Virtual Worlds) et la mise en place d'une stratégie de recherche et d'innovation (SRIA) pour Web 4.0 en Europe, ce qui renvoie à l'axe \"Digital Economy\" et \"Strategic Development\" du projet Arab Bank Strategy. De plus, l'aspect \"capacity building\" et \"Startup Ecosystem\" du projet National Entrepreneurship Program est également présent dans cet appel à projets, avec l'objectif de soutenir l'émergence d'un écosystème européen pour Web 4.0 et Virtual Worlds.   \n",
       "52                                           L'opportunité décrite dans l'appel à projet européen est pertinente par rapport aux projets de l'entreprise car elle concerne l'avancement de la technologie et l'innovation dans le domaine du web et de l'internet, ce qui est en ligne avec le projet FACTORIA qui vise à aider les startups Deeptech et Hardware à matureser leurs technologies. De plus, l'accent mis sur l'open source, l'interopérabilité et la sécurité dans l'appel à projet correspondent aux axes définis dans le projet FACTORIA. Cependant, il est important de noter que les autres projets de l'entreprise (National Entrepreneurship Program et Arab Bank Strategy) semblent être plus éloignés de cette opportunité en termes de contenu et d'objectifs.   \n",
       "\n",
       "                                                                                                                                                                                                                                                                                                                                                                                                                                                                                                                                                                                                                                                                                                                                                                                                                                                                                                                                                                                                                                                                                                                                                                                                        Réponse brute  \n",
       "13                                                                                                                                                                                                                                                                                                                                                                                                                                                                                                                                                                                                                                                                                              Pertinence : Oui\\n\\nProjets similaires détectés : FACTORIAT\\n\\nRésumé rapide : L'appel à projets Europeen vise à soutenir le développement d'écosystèmes de deeptech autour d'infrastructures de recherche paneuropéennes, en générant des technologies à valeur marché et sociale. L'entreprise a déjà une expérience pertinente avec le projet FACTORIAT, qui soutient les startups deeptech et matérielle dans leur prototypage et maturité technique, ce qui correspond bien à l'objectif de cet appel à projets.  \n",
       "14                                                                                                                                                                                                                                                                                                      Pertinence : Oui\\n\\nProjets similaires détectés : National Entrepreneurship Program, Arab Bank Strategy\\n\\nRésumé rapide : Cette opportunité semble pertinente car elle vise à améliorer l'accès au financement et aux partenaires étrangers pour les start-ups issus de régions moins connectées et développées, ce qui est en ligne avec les objectifs de projets tels que le National Entrepreneurship Program qui vise à renforcer l'écosystème entrepreneurial national, et l'Arab Bank Strategy qui concerne le développement de la stratégie de financement et de partenariat pour les projets de l'économie numérique africaine. L'accent mis sur l'amélioration de l'accès au financement et aux partenaires étrangers, ainsi que la création de programmes d'accompagnement et de mise en réseau, sont des éléments clés qui lient cet appel à projets aux expériences précédentes de l'entreprise.  \n",
       "15                                                                                                                                                                                                                                                                                                     Bonjour,\\n\\nAnalyse du projet :\\n\\n* Pertinence : Oui\\n* Projets similaires détectés : National Entrepreneurship Program\\n* Résumé rapide : Ce projet est pertinent pour l'entreprise en raison de son expérience dans la mise en place d'écosystèmes d'entrepreneuriat et de développement de stratégies de financement pour les entreprises innovantes, comme le montre le projet National Entrepreneurship Program. L'appel à projet propose de renforcer les compétences des acheteurs publics pour les achats publics innovants, de promouvoir les opportunités d'affaires pour les entreprises innovantes et de développer un réseau européen de centres de compétence pour l'achat public innovant. L'entreprise a déjà démontré son expertise dans la mise en place de programmes d'entrepreneuriat et de stratégies de financement, ce qui lui permet de répondre aux attentes de cet appel à projet.  \n",
       "20                                                                                                                                                                                                                                                                                                                                                                                                                                                                                                                                                                                              Pertinence : Oui\\n\\nProjets similaires détectés : FACTORIAT\\n\\nRésumé rapide : Cette opportunité est pertinente pour l'entreprise car elle implique une composante importante de soutien à des startups et à des entreprises de pointe (DeepTech) dans le domaine de la cryptographie quantique, ce qui est en ligne avec le projet FACTORIAT qui vise à soutenir les startups dans la maturation et la production de prototypes de pointe. De plus, l'appel à projets met l'accent sur la mise en œuvre de technologies nouvelles et disruptives, ce qui est également en phase avec l'axe Deeptech de l'entreprise.  \n",
       "28                                                                                                                                                                                                                                                                                                                                                                                                                                                                        Analyse de pertinence :\\n\\n**Pertinence : Oui**\\n\\n**Projets similaires détectés :** FACTORIAT (axe Deeptech, Hardware, Incubation, Prototyping, Acceleration)\\n\\n**Résumé rapide :** L'appel à projets européen décrit un projet d'accélération de la technologie sSOI pour améliorer la production de semi-conducteurs en Europe. Ce projet est pertinent pour l'entreprise car elle a déjà une expérience dans le domaine de l'accélération et de l'incubation de startups Hardware/Deeptech (FACTORIAT). L'objectif de cet appel à projets est de créer un accélérateur de technologie sSOI pour soutenir les entreprises européennes, ce qui aligne avec l'expérience de l'entreprise dans l'accélération et l'incubation de startups.  \n",
       "29                                                                                                                                                                                                                                                                                                                                                                                                                                                                                                                                               Pertinence : Oui\\n\\nProjets similaires détectés : FACTORIAT\\n\\nRésumé rapide : L'appel à projet porte sur le développement de prototypes de puces AI à haute performance et faible consommation d'énergie, ce qui nécessite une expertise en matière de prototypage et de maturation technologique. Le projet FACTORIAT de l'entreprise, qui vise à soutenir les startups Deeptech et Hardware en leur offrant une aide technique et financière pour le prototypage et la maturation technologique, présente dessimilarités avec cet appel à projet. L'entreprise a déjà démontré son expertise dans ce domaine et pourrait apporter une valeur ajoutée à ce projet.  \n",
       "41  After analyzing the call for projects and the list of projects already realized by the enterprise, I can provide the following answer:\\n\\n**Pertinence : Oui**\\n\\nThe call for projects is relevant to the enterprise's expertise, as it involves aspects of incubation, acceleration, and capacity building, which are similar to the activities conducted in the **FACTORIAT** project. Additionally, the focus on cybersecurity, digital economy, and startup ecosystem support aligns with the objectives of the **Arab Bank Strategy** project.\\n\\n**Projets similaires détectés : [FACTORIAT, Arab Bank Strategy]**\\n\\n**Résumé rapide :**\\nThe enterprise's experience in supporting startups and entrepreneurship ecosystems, as well as its involvement in strategic development and financing, makes it a strong candidate to contribute to the implementation of the National Coordination Centres (NCCs) and the Cybersecurity Competence Community in each Member State. The call for projects shares similarities with the enterprise's previous projects, particularly in terms of incubation, acceleration, and capacity building, making it a relevant opportunity for the enterprise to pursue.  \n",
       "45                                                                                                                                                                                                                                                                                                                                                                                Pertinence : Oui\\n\\nProjets similaires détectés : National Entrepreneurship Program\\n\\nRésumé rapide : Ce projet concerne le renforcement des liens entre les National Contact Points (NCP) et les communautés nationales de recherche et d'innovation pour améliorer la coordination et la coopération en matière de recherche et d'innovation dans le domaine de la sécurité. L'entreprise a déjà une expérience similaire avec le National Entrepreneurship Program, qui vise à mettre en place un écosystème entrepreneurial national. Les compétences acquises dans ce projet pourraient être très utiles pour répondre à cet appel à projets. De plus, l'entreprise a déjà démontré sa capacité à développer des stratégies pour des écosystèmes d'innovation, ce qui est également en ligne avec les objectifs de ce projet.  \n",
       "48                                                                                                                                                                                                                                                                                                                                         Pertinence : Oui\\n\\nProjets similaires détectés : Arab Bank Strategy, National Entrepreneurship Program\\n\\nRésumé rapide : Cette opportunité est pertinente car elle concerne le développement d'un écosystème innovant (Virtual Worlds) et la mise en place d'une stratégie de recherche et d'innovation (SRIA) pour Web 4.0 en Europe, ce qui renvoie à l'axe \"Digital Economy\" et \"Strategic Development\" du projet Arab Bank Strategy. De plus, l'aspect \"capacity building\" et \"Startup Ecosystem\" du projet National Entrepreneurship Program est également présent dans cet appel à projets, avec l'objectif de soutenir l'émergence d'un écosystème européen pour Web 4.0 et Virtual Worlds.\\n\\nNote : Le projet FACTORIAT, qui concerne l'incubation et l'accélération de startups, peut également être lié à cet appel à projets, mais de manière moins directe.  \n",
       "52                                                                                                                                                                                                                                                                                                                                                                                            Pertinence : Oui\\n\\nProjets similaires détectés : FACTORIA\\n\\nRésumé rapide : L'opportunité décrite dans l'appel à projet européen est pertinente par rapport aux projets de l'entreprise car elle concerne l'avancement de la technologie et l'innovation dans le domaine du web et de l'internet, ce qui est en ligne avec le projet FACTORIA qui vise à aider les startups Deeptech et Hardware à matureser leurs technologies. De plus, l'accent mis sur l'open source, l'interopérabilité et la sécurité dans l'appel à projet correspondent aux axes définis dans le projet FACTORIA. Cependant, il est important de noter que les autres projets de l'entreprise (National Entrepreneurship Program et Arab Bank Strategy) semblent être plus éloignés de cette opportunité en termes de contenu et d'objectifs.  "
      ]
     },
     "execution_count": 22,
     "metadata": {},
     "output_type": "execute_result"
    }
   ],
   "source": [
    "df_yes_final"
   ]
  },
  {
   "cell_type": "code",
   "execution_count": 23,
   "id": "ace6b2c4",
   "metadata": {
    "execution": {
     "iopub.execute_input": "2025-07-16T16:45:04.661393Z",
     "iopub.status.busy": "2025-07-16T16:45:04.661393Z",
     "iopub.status.idle": "2025-07-16T16:45:04.665953Z",
     "shell.execute_reply": "2025-07-16T16:45:04.665953Z"
    }
   },
   "outputs": [
    {
     "data": {
      "text/plain": [
       "(10, 10)"
      ]
     },
     "execution_count": 23,
     "metadata": {},
     "output_type": "execute_result"
    }
   ],
   "source": [
    "df_yes_final.shape"
   ]
  },
  {
   "cell_type": "code",
   "execution_count": 24,
   "id": "9dafffec",
   "metadata": {
    "execution": {
     "iopub.execute_input": "2025-07-16T16:45:04.668949Z",
     "iopub.status.busy": "2025-07-16T16:45:04.668949Z",
     "iopub.status.idle": "2025-07-16T16:45:04.678211Z",
     "shell.execute_reply": "2025-07-16T16:45:04.676990Z"
    }
   },
   "outputs": [
    {
     "name": "stdout",
     "output_type": "stream",
     "text": [
      "\n",
      "✅ Résultats enrichis sauvegardés dans 'df_yes_final.csv'.\n"
     ]
    }
   ],
   "source": [
    "df_yes_final.to_csv(\"df_yes_final.csv\", index=True)\n",
    "print(\"\\n✅ Résultats enrichis sauvegardés dans 'df_yes_final.csv'.\")"
   ]
  },
  {
   "cell_type": "code",
   "execution_count": 25,
   "id": "8e6ce914",
   "metadata": {
    "execution": {
     "iopub.execute_input": "2025-07-16T16:45:04.681158Z",
     "iopub.status.busy": "2025-07-16T16:45:04.680205Z",
     "iopub.status.idle": "2025-07-16T16:45:04.685698Z",
     "shell.execute_reply": "2025-07-16T16:45:04.685698Z"
    }
   },
   "outputs": [
    {
     "name": "stdout",
     "output_type": "stream",
     "text": [
      "13           https://ec.europa.eu/info/funding-tenders/opportunities/portal/screen/opportunities/topic-details/HORIZON-EIE-2026-01-CONNECT-03?isExactMatch=true&status=31094501,31094502&order=DESC&pageNumber=1&pageSize=50&sortBy=startDate\n",
      "14           https://ec.europa.eu/info/funding-tenders/opportunities/portal/screen/opportunities/topic-details/HORIZON-EIE-2026-01-CONNECT-02?isExactMatch=true&status=31094501,31094502&order=DESC&pageNumber=1&pageSize=50&sortBy=startDate\n",
      "15           https://ec.europa.eu/info/funding-tenders/opportunities/portal/screen/opportunities/topic-details/HORIZON-EIE-2026-01-CONNECT-01?isExactMatch=true&status=31094501,31094502&order=DESC&pageNumber=1&pageSize=50&sortBy=startDate\n",
      "20                https://ec.europa.eu/info/funding-tenders/opportunities/portal/screen/opportunities/topic-details/DIGITAL-IRIS2-2025-QCI-01?isExactMatch=true&status=31094501,31094502&order=DESC&pageNumber=2&pageSize=50&sortBy=startDate\n",
      "28            https://ec.europa.eu/info/funding-tenders/opportunities/portal/screen/opportunities/topic-details/DIGITAL-JU-CHIPS-2025-SG-SSOI?isExactMatch=true&status=31094501,31094502&order=DESC&pageNumber=2&pageSize=50&sortBy=startDate\n",
      "29            https://ec.europa.eu/info/funding-tenders/opportunities/portal/screen/opportunities/topic-details/DIGITAL-JU-CHIPS-2025-IA-LEAI?isExactMatch=true&status=31094501,31094502&order=DESC&pageNumber=2&pageSize=50&sortBy=startDate\n",
      "41    https://ec.europa.eu/info/funding-tenders/opportunities/portal/screen/opportunities/topic-details/DIGITAL-ECCC-2025-DEPLOY-CYBER-08-NCC?isExactMatch=true&status=31094501,31094502&order=DESC&pageNumber=3&pageSize=50&sortBy=startDate\n",
      "45              https://ec.europa.eu/info/funding-tenders/opportunities/portal/screen/opportunities/topic-details/HORIZON-CL3-2025-01-SSRI-01?isExactMatch=true&status=31094501,31094502&order=DESC&pageNumber=4&pageSize=50&sortBy=startDate\n",
      "48             https://ec.europa.eu/info/funding-tenders/opportunities/portal/screen/opportunities/topic-details/HORIZON-CL4-2025-03-HUMAN-17?isExactMatch=true&status=31094501,31094502&order=DESC&pageNumber=4&pageSize=50&sortBy=startDate\n",
      "52             https://ec.europa.eu/info/funding-tenders/opportunities/portal/screen/opportunities/topic-details/HORIZON-CL4-2025-03-HUMAN-16?isExactMatch=true&status=31094501,31094502&order=DESC&pageNumber=5&pageSize=50&sortBy=startDate\n",
      "Name: URL, dtype: object\n"
     ]
    }
   ],
   "source": [
    "pd.set_option('display.max_colwidth', None)\n",
    "print(df_yes_final['URL'])"
   ]
  },
  {
   "cell_type": "code",
   "execution_count": 26,
   "id": "073c50a2",
   "metadata": {
    "execution": {
     "iopub.execute_input": "2025-07-16T16:45:04.687697Z",
     "iopub.status.busy": "2025-07-16T16:45:04.687697Z",
     "iopub.status.idle": "2025-07-16T16:45:04.696688Z",
     "shell.execute_reply": "2025-07-16T16:45:04.696688Z"
    }
   },
   "outputs": [
    {
     "data": {
      "text/html": [
       "<div>\n",
       "<style scoped>\n",
       "    .dataframe tbody tr th:only-of-type {\n",
       "        vertical-align: middle;\n",
       "    }\n",
       "\n",
       "    .dataframe tbody tr th {\n",
       "        vertical-align: top;\n",
       "    }\n",
       "\n",
       "    .dataframe thead th {\n",
       "        text-align: right;\n",
       "    }\n",
       "</style>\n",
       "<table border=\"1\" class=\"dataframe\">\n",
       "  <thead>\n",
       "    <tr style=\"text-align: right;\">\n",
       "      <th></th>\n",
       "      <th>URL</th>\n",
       "      <th>Pertinence</th>\n",
       "      <th>Matching Word(s)</th>\n",
       "      <th>Title</th>\n",
       "      <th>Status</th>\n",
       "      <th>Start_date</th>\n",
       "      <th>Deadline</th>\n",
       "      <th>Pertinence LLM</th>\n",
       "      <th>Résumé LLM</th>\n",
       "      <th>Réponse brute</th>\n",
       "    </tr>\n",
       "  </thead>\n",
       "  <tbody>\n",
       "    <tr>\n",
       "      <th>13</th>\n",
       "      <td>https://ec.europa.eu/info/funding-tenders/opportunities/portal/screen/opportunities/topic-details/HORIZON-EIE-2026-01-CONNECT-03?isExactMatch=true&amp;status=31094501,31094502&amp;order=DESC&amp;pageNumber=1&amp;pageSize=50&amp;sortBy=startDate</td>\n",
       "      <td>Yes</td>\n",
       "      <td>economic impact, co-development</td>\n",
       "      <td>Scaling up deep tech ecosystems</td>\n",
       "      <td>Forthcoming</td>\n",
       "      <td>10 September 2025</td>\n",
       "      <td>20 January 2026</td>\n",
       "      <td>Oui</td>\n",
       "      <td>L'appel à projets Europeen vise à soutenir le développement d'écosystèmes de deeptech autour d'infrastructures de recherche paneuropéennes, en générant des technologies à valeur marché et sociale. L'entreprise a déjà une expérience pertinente avec le projet FACTORIAT, qui soutient les startups deeptech et matérielle dans leur prototypage et maturité technique, ce qui correspond bien à l'objectif de cet appel à projets.</td>\n",
       "      <td>Pertinence : Oui\\n\\nProjets similaires détectés : FACTORIAT\\n\\nRésumé rapide : L'appel à projets Europeen vise à soutenir le développement d'écosystèmes de deeptech autour d'infrastructures de recherche paneuropéennes, en générant des technologies à valeur marché et sociale. L'entreprise a déjà une expérience pertinente avec le projet FACTORIAT, qui soutient les startups deeptech et matérielle dans leur prototypage et maturité technique, ce qui correspond bien à l'objectif de cet appel à projets.</td>\n",
       "    </tr>\n",
       "    <tr>\n",
       "      <th>14</th>\n",
       "      <td>https://ec.europa.eu/info/funding-tenders/opportunities/portal/screen/opportunities/topic-details/HORIZON-EIE-2026-01-CONNECT-02?isExactMatch=true&amp;status=31094501,31094502&amp;order=DESC&amp;pageNumber=1&amp;pageSize=50&amp;sortBy=startDate</td>\n",
       "      <td>Yes</td>\n",
       "      <td>cybersecurity, digital transformation</td>\n",
       "      <td>Expanding Investment Ecosystems</td>\n",
       "      <td>Forthcoming</td>\n",
       "      <td>10 September 2025</td>\n",
       "      <td>20 January 2026</td>\n",
       "      <td>Oui</td>\n",
       "      <td>Cette opportunité semble pertinente car elle vise à améliorer l'accès au financement et aux partenaires étrangers pour les start-ups issus de régions moins connectées et développées, ce qui est en ligne avec les objectifs de projets tels que le National Entrepreneurship Program qui vise à renforcer l'écosystème entrepreneurial national, et l'Arab Bank Strategy qui concerne le développement de la stratégie de financement et de partenariat pour les projets de l'économie numérique africaine. L'accent mis sur l'amélioration de l'accès au financement et aux partenaires étrangers, ainsi que la création de programmes d'accompagnement et de mise en réseau, sont des éléments clés qui lient cet appel à projets aux expériences précédentes de l'entreprise.</td>\n",
       "      <td>Pertinence : Oui\\n\\nProjets similaires détectés : National Entrepreneurship Program, Arab Bank Strategy\\n\\nRésumé rapide : Cette opportunité semble pertinente car elle vise à améliorer l'accès au financement et aux partenaires étrangers pour les start-ups issus de régions moins connectées et développées, ce qui est en ligne avec les objectifs de projets tels que le National Entrepreneurship Program qui vise à renforcer l'écosystème entrepreneurial national, et l'Arab Bank Strategy qui concerne le développement de la stratégie de financement et de partenariat pour les projets de l'économie numérique africaine. L'accent mis sur l'amélioration de l'accès au financement et aux partenaires étrangers, ainsi que la création de programmes d'accompagnement et de mise en réseau, sont des éléments clés qui lient cet appel à projets aux expériences précédentes de l'entreprise.</td>\n",
       "    </tr>\n",
       "    <tr>\n",
       "      <th>15</th>\n",
       "      <td>https://ec.europa.eu/info/funding-tenders/opportunities/portal/screen/opportunities/topic-details/HORIZON-EIE-2026-01-CONNECT-01?isExactMatch=true&amp;status=31094501,31094502&amp;order=DESC&amp;pageNumber=1&amp;pageSize=50&amp;sortBy=startDate</td>\n",
       "      <td>Yes</td>\n",
       "      <td>capacity building, public procurement</td>\n",
       "      <td>European network of national competence centers for innovation procurement</td>\n",
       "      <td>Forthcoming</td>\n",
       "      <td>10 September 2025</td>\n",
       "      <td>20 January 2026</td>\n",
       "      <td>Oui</td>\n",
       "      <td>Ce projet est pertinent pour l'entreprise en raison de son expérience dans la mise en place d'écosystèmes d'entrepreneuriat et de développement de stratégies de financement pour les entreprises innovantes, comme le montre le projet National Entrepreneurship Program. L'appel à projet propose de renforcer les compétences des acheteurs publics pour les achats publics innovants, de promouvoir les opportunités d'affaires pour les entreprises innovantes et de développer un réseau européen de centres de compétence pour l'achat public innovant. L'entreprise a déjà démontré son expertise dans la mise en place de programmes d'entrepreneuriat et de stratégies de financement, ce qui lui permet de répondre aux attentes de cet appel à projet.</td>\n",
       "      <td>Bonjour,\\n\\nAnalyse du projet :\\n\\n* Pertinence : Oui\\n* Projets similaires détectés : National Entrepreneurship Program\\n* Résumé rapide : Ce projet est pertinent pour l'entreprise en raison de son expérience dans la mise en place d'écosystèmes d'entrepreneuriat et de développement de stratégies de financement pour les entreprises innovantes, comme le montre le projet National Entrepreneurship Program. L'appel à projet propose de renforcer les compétences des acheteurs publics pour les achats publics innovants, de promouvoir les opportunités d'affaires pour les entreprises innovantes et de développer un réseau européen de centres de compétence pour l'achat public innovant. L'entreprise a déjà démontré son expertise dans la mise en place de programmes d'entrepreneuriat et de stratégies de financement, ce qui lui permet de répondre aux attentes de cet appel à projet.</td>\n",
       "    </tr>\n",
       "    <tr>\n",
       "      <th>20</th>\n",
       "      <td>https://ec.europa.eu/info/funding-tenders/opportunities/portal/screen/opportunities/topic-details/DIGITAL-IRIS2-2025-QCI-01?isExactMatch=true&amp;status=31094501,31094502&amp;order=DESC&amp;pageNumber=2&amp;pageSize=50&amp;sortBy=startDate</td>\n",
       "      <td>Yes</td>\n",
       "      <td>artificial intelligence, cybersecurity</td>\n",
       "      <td>Maturing of a European industrial ecosystem for security-certified terrestrial QKD technologies and systems</td>\n",
       "      <td>Open For Submission</td>\n",
       "      <td>15 July 2025</td>\n",
       "      <td>16 October 2025</td>\n",
       "      <td>Oui</td>\n",
       "      <td>Cette opportunité est pertinente pour l'entreprise car elle implique une composante importante de soutien à des startups et à des entreprises de pointe (DeepTech) dans le domaine de la cryptographie quantique, ce qui est en ligne avec le projet FACTORIAT qui vise à soutenir les startups dans la maturation et la production de prototypes de pointe. De plus, l'appel à projets met l'accent sur la mise en œuvre de technologies nouvelles et disruptives, ce qui est également en phase avec l'axe Deeptech de l'entreprise.</td>\n",
       "      <td>Pertinence : Oui\\n\\nProjets similaires détectés : FACTORIAT\\n\\nRésumé rapide : Cette opportunité est pertinente pour l'entreprise car elle implique une composante importante de soutien à des startups et à des entreprises de pointe (DeepTech) dans le domaine de la cryptographie quantique, ce qui est en ligne avec le projet FACTORIAT qui vise à soutenir les startups dans la maturation et la production de prototypes de pointe. De plus, l'appel à projets met l'accent sur la mise en œuvre de technologies nouvelles et disruptives, ce qui est également en phase avec l'axe Deeptech de l'entreprise.</td>\n",
       "    </tr>\n",
       "    <tr>\n",
       "      <th>28</th>\n",
       "      <td>https://ec.europa.eu/info/funding-tenders/opportunities/portal/screen/opportunities/topic-details/DIGITAL-JU-CHIPS-2025-SG-SSOI?isExactMatch=true&amp;status=31094501,31094502&amp;order=DESC&amp;pageNumber=2&amp;pageSize=50&amp;sortBy=startDate</td>\n",
       "      <td>Yes</td>\n",
       "      <td>intellectual property</td>\n",
       "      <td>DIGITAL-JU-CHIPS-2025-SG-SSOI</td>\n",
       "      <td>Open For Submission</td>\n",
       "      <td>08 July 2025</td>\n",
       "      <td>20 November 2025</td>\n",
       "      <td>Oui</td>\n",
       "      <td>** L'appel à projets européen décrit un projet d'accélération de la technologie sSOI pour améliorer la production de semi-conducteurs en Europe. Ce projet est pertinent pour l'entreprise car elle a déjà une expérience dans le domaine de l'accélération et de l'incubation de startups Hardware/Deeptech (FACTORIAT). L'objectif de cet appel à projets est de créer un accélérateur de technologie sSOI pour soutenir les entreprises européennes, ce qui aligne avec l'expérience de l'entreprise dans l'accélération et l'incubation de startups.</td>\n",
       "      <td>Analyse de pertinence :\\n\\n**Pertinence : Oui**\\n\\n**Projets similaires détectés :** FACTORIAT (axe Deeptech, Hardware, Incubation, Prototyping, Acceleration)\\n\\n**Résumé rapide :** L'appel à projets européen décrit un projet d'accélération de la technologie sSOI pour améliorer la production de semi-conducteurs en Europe. Ce projet est pertinent pour l'entreprise car elle a déjà une expérience dans le domaine de l'accélération et de l'incubation de startups Hardware/Deeptech (FACTORIAT). L'objectif de cet appel à projets est de créer un accélérateur de technologie sSOI pour soutenir les entreprises européennes, ce qui aligne avec l'expérience de l'entreprise dans l'accélération et l'incubation de startups.</td>\n",
       "    </tr>\n",
       "    <tr>\n",
       "      <th>29</th>\n",
       "      <td>https://ec.europa.eu/info/funding-tenders/opportunities/portal/screen/opportunities/topic-details/DIGITAL-JU-CHIPS-2025-IA-LEAI?isExactMatch=true&amp;status=31094501,31094502&amp;order=DESC&amp;pageNumber=2&amp;pageSize=50&amp;sortBy=startDate</td>\n",
       "      <td>Yes</td>\n",
       "      <td>digital transformation</td>\n",
       "      <td>DIGITAL-JU-CHIPS-2025-IA-LEAI</td>\n",
       "      <td>Open For Submission</td>\n",
       "      <td>08 July 2025</td>\n",
       "      <td>17 September 2025</td>\n",
       "      <td>Oui</td>\n",
       "      <td>L'appel à projet porte sur le développement de prototypes de puces AI à haute performance et faible consommation d'énergie, ce qui nécessite une expertise en matière de prototypage et de maturation technologique. Le projet FACTORIAT de l'entreprise, qui vise à soutenir les startups Deeptech et Hardware en leur offrant une aide technique et financière pour le prototypage et la maturation technologique, présente dessimilarités avec cet appel à projet. L'entreprise a déjà démontré son expertise dans ce domaine et pourrait apporter une valeur ajoutée à ce projet.</td>\n",
       "      <td>Pertinence : Oui\\n\\nProjets similaires détectés : FACTORIAT\\n\\nRésumé rapide : L'appel à projet porte sur le développement de prototypes de puces AI à haute performance et faible consommation d'énergie, ce qui nécessite une expertise en matière de prototypage et de maturation technologique. Le projet FACTORIAT de l'entreprise, qui vise à soutenir les startups Deeptech et Hardware en leur offrant une aide technique et financière pour le prototypage et la maturation technologique, présente dessimilarités avec cet appel à projet. L'entreprise a déjà démontré son expertise dans ce domaine et pourrait apporter une valeur ajoutée à ce projet.</td>\n",
       "    </tr>\n",
       "    <tr>\n",
       "      <th>41</th>\n",
       "      <td>https://ec.europa.eu/info/funding-tenders/opportunities/portal/screen/opportunities/topic-details/DIGITAL-ECCC-2025-DEPLOY-CYBER-08-NCC?isExactMatch=true&amp;status=31094501,31094502&amp;order=DESC&amp;pageNumber=3&amp;pageSize=50&amp;sortBy=startDate</td>\n",
       "      <td>Yes</td>\n",
       "      <td>technical assistance, technology transfer, incubation program, public procurement, cybersecurity</td>\n",
       "      <td>Enhancing the NCC Network</td>\n",
       "      <td>Open For Submission</td>\n",
       "      <td>12 June 2025</td>\n",
       "      <td>07 October 2025</td>\n",
       "      <td>Oui</td>\n",
       "      <td>**</td>\n",
       "      <td>After analyzing the call for projects and the list of projects already realized by the enterprise, I can provide the following answer:\\n\\n**Pertinence : Oui**\\n\\nThe call for projects is relevant to the enterprise's expertise, as it involves aspects of incubation, acceleration, and capacity building, which are similar to the activities conducted in the **FACTORIAT** project. Additionally, the focus on cybersecurity, digital economy, and startup ecosystem support aligns with the objectives of the **Arab Bank Strategy** project.\\n\\n**Projets similaires détectés : [FACTORIAT, Arab Bank Strategy]**\\n\\n**Résumé rapide :**\\nThe enterprise's experience in supporting startups and entrepreneurship ecosystems, as well as its involvement in strategic development and financing, makes it a strong candidate to contribute to the implementation of the National Coordination Centres (NCCs) and the Cybersecurity Competence Community in each Member State. The call for projects shares similarities with the enterprise's previous projects, particularly in terms of incubation, acceleration, and capacity building, making it a relevant opportunity for the enterprise to pursue.</td>\n",
       "    </tr>\n",
       "    <tr>\n",
       "      <th>45</th>\n",
       "      <td>https://ec.europa.eu/info/funding-tenders/opportunities/portal/screen/opportunities/topic-details/HORIZON-CL3-2025-01-SSRI-01?isExactMatch=true&amp;status=31094501,31094502&amp;order=DESC&amp;pageNumber=4&amp;pageSize=50&amp;sortBy=startDate</td>\n",
       "      <td>Yes</td>\n",
       "      <td>capacity building</td>\n",
       "      <td>National Contact Points (NCPs) in the field of security and cybersecurity fostering the links with National Community building for Safe, Secure and Resilient Societies</td>\n",
       "      <td>Open For Submission</td>\n",
       "      <td>12 June 2025</td>\n",
       "      <td>12 November 2025</td>\n",
       "      <td>Oui</td>\n",
       "      <td>Ce projet concerne le renforcement des liens entre les National Contact Points (NCP) et les communautés nationales de recherche et d'innovation pour améliorer la coordination et la coopération en matière de recherche et d'innovation dans le domaine de la sécurité. L'entreprise a déjà une expérience similaire avec le National Entrepreneurship Program, qui vise à mettre en place un écosystème entrepreneurial national. Les compétences acquises dans ce projet pourraient être très utiles pour répondre à cet appel à projets. De plus, l'entreprise a déjà démontré sa capacité à développer des stratégies pour des écosystèmes d'innovation, ce qui est également en ligne avec les objectifs de ce projet.</td>\n",
       "      <td>Pertinence : Oui\\n\\nProjets similaires détectés : National Entrepreneurship Program\\n\\nRésumé rapide : Ce projet concerne le renforcement des liens entre les National Contact Points (NCP) et les communautés nationales de recherche et d'innovation pour améliorer la coordination et la coopération en matière de recherche et d'innovation dans le domaine de la sécurité. L'entreprise a déjà une expérience similaire avec le National Entrepreneurship Program, qui vise à mettre en place un écosystème entrepreneurial national. Les compétences acquises dans ce projet pourraient être très utiles pour répondre à cet appel à projets. De plus, l'entreprise a déjà démontré sa capacité à développer des stratégies pour des écosystèmes d'innovation, ce qui est également en ligne avec les objectifs de ce projet.</td>\n",
       "    </tr>\n",
       "    <tr>\n",
       "      <th>48</th>\n",
       "      <td>https://ec.europa.eu/info/funding-tenders/opportunities/portal/screen/opportunities/topic-details/HORIZON-CL4-2025-03-HUMAN-17?isExactMatch=true&amp;status=31094501,31094502&amp;order=DESC&amp;pageNumber=4&amp;pageSize=50&amp;sortBy=startDate</td>\n",
       "      <td>Yes</td>\n",
       "      <td>robotics</td>\n",
       "      <td>Specific support for the Virtual Worlds Partnership and the Web 4.0 initiative (CSA) (Virtual Worlds Partnership)</td>\n",
       "      <td>Open For Submission</td>\n",
       "      <td>10 June 2025</td>\n",
       "      <td>02 October 2025</td>\n",
       "      <td>Oui</td>\n",
       "      <td>Cette opportunité est pertinente car elle concerne le développement d'un écosystème innovant (Virtual Worlds) et la mise en place d'une stratégie de recherche et d'innovation (SRIA) pour Web 4.0 en Europe, ce qui renvoie à l'axe \"Digital Economy\" et \"Strategic Development\" du projet Arab Bank Strategy. De plus, l'aspect \"capacity building\" et \"Startup Ecosystem\" du projet National Entrepreneurship Program est également présent dans cet appel à projets, avec l'objectif de soutenir l'émergence d'un écosystème européen pour Web 4.0 et Virtual Worlds.</td>\n",
       "      <td>Pertinence : Oui\\n\\nProjets similaires détectés : Arab Bank Strategy, National Entrepreneurship Program\\n\\nRésumé rapide : Cette opportunité est pertinente car elle concerne le développement d'un écosystème innovant (Virtual Worlds) et la mise en place d'une stratégie de recherche et d'innovation (SRIA) pour Web 4.0 en Europe, ce qui renvoie à l'axe \"Digital Economy\" et \"Strategic Development\" du projet Arab Bank Strategy. De plus, l'aspect \"capacity building\" et \"Startup Ecosystem\" du projet National Entrepreneurship Program est également présent dans cet appel à projets, avec l'objectif de soutenir l'émergence d'un écosystème européen pour Web 4.0 et Virtual Worlds.\\n\\nNote : Le projet FACTORIAT, qui concerne l'incubation et l'accélération de startups, peut également être lié à cet appel à projets, mais de manière moins directe.</td>\n",
       "    </tr>\n",
       "    <tr>\n",
       "      <th>52</th>\n",
       "      <td>https://ec.europa.eu/info/funding-tenders/opportunities/portal/screen/opportunities/topic-details/HORIZON-CL4-2025-03-HUMAN-16?isExactMatch=true&amp;status=31094501,31094502&amp;order=DESC&amp;pageNumber=5&amp;pageSize=50&amp;sortBy=startDate</td>\n",
       "      <td>Yes</td>\n",
       "      <td>prototyping, economic impact</td>\n",
       "      <td>Drive the evolution of the internet towards open and interoperable Web 4.0 and Virtual Worlds: building blocks in priority areas (RIA) (Virtual Worlds Partnership)</td>\n",
       "      <td>Open For Submission</td>\n",
       "      <td>10 June 2025</td>\n",
       "      <td>02 October 2025</td>\n",
       "      <td>Oui</td>\n",
       "      <td>L'opportunité décrite dans l'appel à projet européen est pertinente par rapport aux projets de l'entreprise car elle concerne l'avancement de la technologie et l'innovation dans le domaine du web et de l'internet, ce qui est en ligne avec le projet FACTORIA qui vise à aider les startups Deeptech et Hardware à matureser leurs technologies. De plus, l'accent mis sur l'open source, l'interopérabilité et la sécurité dans l'appel à projet correspondent aux axes définis dans le projet FACTORIA. Cependant, il est important de noter que les autres projets de l'entreprise (National Entrepreneurship Program et Arab Bank Strategy) semblent être plus éloignés de cette opportunité en termes de contenu et d'objectifs.</td>\n",
       "      <td>Pertinence : Oui\\n\\nProjets similaires détectés : FACTORIA\\n\\nRésumé rapide : L'opportunité décrite dans l'appel à projet européen est pertinente par rapport aux projets de l'entreprise car elle concerne l'avancement de la technologie et l'innovation dans le domaine du web et de l'internet, ce qui est en ligne avec le projet FACTORIA qui vise à aider les startups Deeptech et Hardware à matureser leurs technologies. De plus, l'accent mis sur l'open source, l'interopérabilité et la sécurité dans l'appel à projet correspondent aux axes définis dans le projet FACTORIA. Cependant, il est important de noter que les autres projets de l'entreprise (National Entrepreneurship Program et Arab Bank Strategy) semblent être plus éloignés de cette opportunité en termes de contenu et d'objectifs.</td>\n",
       "    </tr>\n",
       "  </tbody>\n",
       "</table>\n",
       "</div>"
      ],
      "text/plain": [
       "                                                                                                                                                                                                                                        URL  \\\n",
       "13         https://ec.europa.eu/info/funding-tenders/opportunities/portal/screen/opportunities/topic-details/HORIZON-EIE-2026-01-CONNECT-03?isExactMatch=true&status=31094501,31094502&order=DESC&pageNumber=1&pageSize=50&sortBy=startDate   \n",
       "14         https://ec.europa.eu/info/funding-tenders/opportunities/portal/screen/opportunities/topic-details/HORIZON-EIE-2026-01-CONNECT-02?isExactMatch=true&status=31094501,31094502&order=DESC&pageNumber=1&pageSize=50&sortBy=startDate   \n",
       "15         https://ec.europa.eu/info/funding-tenders/opportunities/portal/screen/opportunities/topic-details/HORIZON-EIE-2026-01-CONNECT-01?isExactMatch=true&status=31094501,31094502&order=DESC&pageNumber=1&pageSize=50&sortBy=startDate   \n",
       "20              https://ec.europa.eu/info/funding-tenders/opportunities/portal/screen/opportunities/topic-details/DIGITAL-IRIS2-2025-QCI-01?isExactMatch=true&status=31094501,31094502&order=DESC&pageNumber=2&pageSize=50&sortBy=startDate   \n",
       "28          https://ec.europa.eu/info/funding-tenders/opportunities/portal/screen/opportunities/topic-details/DIGITAL-JU-CHIPS-2025-SG-SSOI?isExactMatch=true&status=31094501,31094502&order=DESC&pageNumber=2&pageSize=50&sortBy=startDate   \n",
       "29          https://ec.europa.eu/info/funding-tenders/opportunities/portal/screen/opportunities/topic-details/DIGITAL-JU-CHIPS-2025-IA-LEAI?isExactMatch=true&status=31094501,31094502&order=DESC&pageNumber=2&pageSize=50&sortBy=startDate   \n",
       "41  https://ec.europa.eu/info/funding-tenders/opportunities/portal/screen/opportunities/topic-details/DIGITAL-ECCC-2025-DEPLOY-CYBER-08-NCC?isExactMatch=true&status=31094501,31094502&order=DESC&pageNumber=3&pageSize=50&sortBy=startDate   \n",
       "45            https://ec.europa.eu/info/funding-tenders/opportunities/portal/screen/opportunities/topic-details/HORIZON-CL3-2025-01-SSRI-01?isExactMatch=true&status=31094501,31094502&order=DESC&pageNumber=4&pageSize=50&sortBy=startDate   \n",
       "48           https://ec.europa.eu/info/funding-tenders/opportunities/portal/screen/opportunities/topic-details/HORIZON-CL4-2025-03-HUMAN-17?isExactMatch=true&status=31094501,31094502&order=DESC&pageNumber=4&pageSize=50&sortBy=startDate   \n",
       "52           https://ec.europa.eu/info/funding-tenders/opportunities/portal/screen/opportunities/topic-details/HORIZON-CL4-2025-03-HUMAN-16?isExactMatch=true&status=31094501,31094502&order=DESC&pageNumber=5&pageSize=50&sortBy=startDate   \n",
       "\n",
       "   Pertinence  \\\n",
       "13        Yes   \n",
       "14        Yes   \n",
       "15        Yes   \n",
       "20        Yes   \n",
       "28        Yes   \n",
       "29        Yes   \n",
       "41        Yes   \n",
       "45        Yes   \n",
       "48        Yes   \n",
       "52        Yes   \n",
       "\n",
       "                                                                                    Matching Word(s)  \\\n",
       "13                                                                   economic impact, co-development   \n",
       "14                                                             cybersecurity, digital transformation   \n",
       "15                                                             capacity building, public procurement   \n",
       "20                                                            artificial intelligence, cybersecurity   \n",
       "28                                                                             intellectual property   \n",
       "29                                                                            digital transformation   \n",
       "41  technical assistance, technology transfer, incubation program, public procurement, cybersecurity   \n",
       "45                                                                                 capacity building   \n",
       "48                                                                                          robotics   \n",
       "52                                                                      prototyping, economic impact   \n",
       "\n",
       "                                                                                                                                                                      Title  \\\n",
       "13                                                                                                                                          Scaling up deep tech ecosystems   \n",
       "14                                                                                                                                          Expanding Investment Ecosystems   \n",
       "15                                                                                               European network of national competence centers for innovation procurement   \n",
       "20                                                              Maturing of a European industrial ecosystem for security-certified terrestrial QKD technologies and systems   \n",
       "28                                                                                                                                            DIGITAL-JU-CHIPS-2025-SG-SSOI   \n",
       "29                                                                                                                                            DIGITAL-JU-CHIPS-2025-IA-LEAI   \n",
       "41                                                                                                                                                Enhancing the NCC Network   \n",
       "45  National Contact Points (NCPs) in the field of security and cybersecurity fostering the links with National Community building for Safe, Secure and Resilient Societies   \n",
       "48                                                        Specific support for the Virtual Worlds Partnership and the Web 4.0 initiative (CSA) (Virtual Worlds Partnership)   \n",
       "52      Drive the evolution of the internet towards open and interoperable Web 4.0 and Virtual Worlds: building blocks in priority areas (RIA) (Virtual Worlds Partnership)   \n",
       "\n",
       "                 Status         Start_date           Deadline Pertinence LLM  \\\n",
       "13          Forthcoming  10 September 2025    20 January 2026            Oui   \n",
       "14          Forthcoming  10 September 2025    20 January 2026            Oui   \n",
       "15          Forthcoming  10 September 2025    20 January 2026            Oui   \n",
       "20  Open For Submission       15 July 2025    16 October 2025            Oui   \n",
       "28  Open For Submission       08 July 2025   20 November 2025            Oui   \n",
       "29  Open For Submission       08 July 2025  17 September 2025            Oui   \n",
       "41  Open For Submission       12 June 2025    07 October 2025            Oui   \n",
       "45  Open For Submission       12 June 2025   12 November 2025            Oui   \n",
       "48  Open For Submission       10 June 2025    02 October 2025            Oui   \n",
       "52  Open For Submission       10 June 2025    02 October 2025            Oui   \n",
       "\n",
       "                                                                                                                                                                                                                                                                                                                                                                                                                                                                                                                                                                                                                                                                                                                                                                            Résumé LLM  \\\n",
       "13                                                                                                                                                                                                                                                                                                                                              L'appel à projets Europeen vise à soutenir le développement d'écosystèmes de deeptech autour d'infrastructures de recherche paneuropéennes, en générant des technologies à valeur marché et sociale. L'entreprise a déjà une expérience pertinente avec le projet FACTORIAT, qui soutient les startups deeptech et matérielle dans leur prototypage et maturité technique, ce qui correspond bien à l'objectif de cet appel à projets.   \n",
       "14  Cette opportunité semble pertinente car elle vise à améliorer l'accès au financement et aux partenaires étrangers pour les start-ups issus de régions moins connectées et développées, ce qui est en ligne avec les objectifs de projets tels que le National Entrepreneurship Program qui vise à renforcer l'écosystème entrepreneurial national, et l'Arab Bank Strategy qui concerne le développement de la stratégie de financement et de partenariat pour les projets de l'économie numérique africaine. L'accent mis sur l'amélioration de l'accès au financement et aux partenaires étrangers, ainsi que la création de programmes d'accompagnement et de mise en réseau, sont des éléments clés qui lient cet appel à projets aux expériences précédentes de l'entreprise.   \n",
       "15                  Ce projet est pertinent pour l'entreprise en raison de son expérience dans la mise en place d'écosystèmes d'entrepreneuriat et de développement de stratégies de financement pour les entreprises innovantes, comme le montre le projet National Entrepreneurship Program. L'appel à projet propose de renforcer les compétences des acheteurs publics pour les achats publics innovants, de promouvoir les opportunités d'affaires pour les entreprises innovantes et de développer un réseau européen de centres de compétence pour l'achat public innovant. L'entreprise a déjà démontré son expertise dans la mise en place de programmes d'entrepreneuriat et de stratégies de financement, ce qui lui permet de répondre aux attentes de cet appel à projet.   \n",
       "20                                                                                                                                                                                                                                              Cette opportunité est pertinente pour l'entreprise car elle implique une composante importante de soutien à des startups et à des entreprises de pointe (DeepTech) dans le domaine de la cryptographie quantique, ce qui est en ligne avec le projet FACTORIAT qui vise à soutenir les startups dans la maturation et la production de prototypes de pointe. De plus, l'appel à projets met l'accent sur la mise en œuvre de technologies nouvelles et disruptives, ce qui est également en phase avec l'axe Deeptech de l'entreprise.   \n",
       "28                                                                                                                                                                                                                            ** L'appel à projets européen décrit un projet d'accélération de la technologie sSOI pour améliorer la production de semi-conducteurs en Europe. Ce projet est pertinent pour l'entreprise car elle a déjà une expérience dans le domaine de l'accélération et de l'incubation de startups Hardware/Deeptech (FACTORIAT). L'objectif de cet appel à projets est de créer un accélérateur de technologie sSOI pour soutenir les entreprises européennes, ce qui aligne avec l'expérience de l'entreprise dans l'accélération et l'incubation de startups.   \n",
       "29                                                                                                                                                                                               L'appel à projet porte sur le développement de prototypes de puces AI à haute performance et faible consommation d'énergie, ce qui nécessite une expertise en matière de prototypage et de maturation technologique. Le projet FACTORIAT de l'entreprise, qui vise à soutenir les startups Deeptech et Hardware en leur offrant une aide technique et financière pour le prototypage et la maturation technologique, présente dessimilarités avec cet appel à projet. L'entreprise a déjà démontré son expertise dans ce domaine et pourrait apporter une valeur ajoutée à ce projet.   \n",
       "41                                                                                                                                                                                                                                                                                                                                                                                                                                                                                                                                                                                                                                                                                                                                                                                  **   \n",
       "45                                                        Ce projet concerne le renforcement des liens entre les National Contact Points (NCP) et les communautés nationales de recherche et d'innovation pour améliorer la coordination et la coopération en matière de recherche et d'innovation dans le domaine de la sécurité. L'entreprise a déjà une expérience similaire avec le National Entrepreneurship Program, qui vise à mettre en place un écosystème entrepreneurial national. Les compétences acquises dans ce projet pourraient être très utiles pour répondre à cet appel à projets. De plus, l'entreprise a déjà démontré sa capacité à développer des stratégies pour des écosystèmes d'innovation, ce qui est également en ligne avec les objectifs de ce projet.   \n",
       "48                                                                                                                                                                                                           Cette opportunité est pertinente car elle concerne le développement d'un écosystème innovant (Virtual Worlds) et la mise en place d'une stratégie de recherche et d'innovation (SRIA) pour Web 4.0 en Europe, ce qui renvoie à l'axe \"Digital Economy\" et \"Strategic Development\" du projet Arab Bank Strategy. De plus, l'aspect \"capacity building\" et \"Startup Ecosystem\" du projet National Entrepreneurship Program est également présent dans cet appel à projets, avec l'objectif de soutenir l'émergence d'un écosystème européen pour Web 4.0 et Virtual Worlds.   \n",
       "52                                           L'opportunité décrite dans l'appel à projet européen est pertinente par rapport aux projets de l'entreprise car elle concerne l'avancement de la technologie et l'innovation dans le domaine du web et de l'internet, ce qui est en ligne avec le projet FACTORIA qui vise à aider les startups Deeptech et Hardware à matureser leurs technologies. De plus, l'accent mis sur l'open source, l'interopérabilité et la sécurité dans l'appel à projet correspondent aux axes définis dans le projet FACTORIA. Cependant, il est important de noter que les autres projets de l'entreprise (National Entrepreneurship Program et Arab Bank Strategy) semblent être plus éloignés de cette opportunité en termes de contenu et d'objectifs.   \n",
       "\n",
       "                                                                                                                                                                                                                                                                                                                                                                                                                                                                                                                                                                                                                                                                                                                                                                                                                                                                                                                                                                                                                                                                                                                                                                                                        Réponse brute  \n",
       "13                                                                                                                                                                                                                                                                                                                                                                                                                                                                                                                                                                                                                                                                                              Pertinence : Oui\\n\\nProjets similaires détectés : FACTORIAT\\n\\nRésumé rapide : L'appel à projets Europeen vise à soutenir le développement d'écosystèmes de deeptech autour d'infrastructures de recherche paneuropéennes, en générant des technologies à valeur marché et sociale. L'entreprise a déjà une expérience pertinente avec le projet FACTORIAT, qui soutient les startups deeptech et matérielle dans leur prototypage et maturité technique, ce qui correspond bien à l'objectif de cet appel à projets.  \n",
       "14                                                                                                                                                                                                                                                                                                      Pertinence : Oui\\n\\nProjets similaires détectés : National Entrepreneurship Program, Arab Bank Strategy\\n\\nRésumé rapide : Cette opportunité semble pertinente car elle vise à améliorer l'accès au financement et aux partenaires étrangers pour les start-ups issus de régions moins connectées et développées, ce qui est en ligne avec les objectifs de projets tels que le National Entrepreneurship Program qui vise à renforcer l'écosystème entrepreneurial national, et l'Arab Bank Strategy qui concerne le développement de la stratégie de financement et de partenariat pour les projets de l'économie numérique africaine. L'accent mis sur l'amélioration de l'accès au financement et aux partenaires étrangers, ainsi que la création de programmes d'accompagnement et de mise en réseau, sont des éléments clés qui lient cet appel à projets aux expériences précédentes de l'entreprise.  \n",
       "15                                                                                                                                                                                                                                                                                                     Bonjour,\\n\\nAnalyse du projet :\\n\\n* Pertinence : Oui\\n* Projets similaires détectés : National Entrepreneurship Program\\n* Résumé rapide : Ce projet est pertinent pour l'entreprise en raison de son expérience dans la mise en place d'écosystèmes d'entrepreneuriat et de développement de stratégies de financement pour les entreprises innovantes, comme le montre le projet National Entrepreneurship Program. L'appel à projet propose de renforcer les compétences des acheteurs publics pour les achats publics innovants, de promouvoir les opportunités d'affaires pour les entreprises innovantes et de développer un réseau européen de centres de compétence pour l'achat public innovant. L'entreprise a déjà démontré son expertise dans la mise en place de programmes d'entrepreneuriat et de stratégies de financement, ce qui lui permet de répondre aux attentes de cet appel à projet.  \n",
       "20                                                                                                                                                                                                                                                                                                                                                                                                                                                                                                                                                                                              Pertinence : Oui\\n\\nProjets similaires détectés : FACTORIAT\\n\\nRésumé rapide : Cette opportunité est pertinente pour l'entreprise car elle implique une composante importante de soutien à des startups et à des entreprises de pointe (DeepTech) dans le domaine de la cryptographie quantique, ce qui est en ligne avec le projet FACTORIAT qui vise à soutenir les startups dans la maturation et la production de prototypes de pointe. De plus, l'appel à projets met l'accent sur la mise en œuvre de technologies nouvelles et disruptives, ce qui est également en phase avec l'axe Deeptech de l'entreprise.  \n",
       "28                                                                                                                                                                                                                                                                                                                                                                                                                                                                        Analyse de pertinence :\\n\\n**Pertinence : Oui**\\n\\n**Projets similaires détectés :** FACTORIAT (axe Deeptech, Hardware, Incubation, Prototyping, Acceleration)\\n\\n**Résumé rapide :** L'appel à projets européen décrit un projet d'accélération de la technologie sSOI pour améliorer la production de semi-conducteurs en Europe. Ce projet est pertinent pour l'entreprise car elle a déjà une expérience dans le domaine de l'accélération et de l'incubation de startups Hardware/Deeptech (FACTORIAT). L'objectif de cet appel à projets est de créer un accélérateur de technologie sSOI pour soutenir les entreprises européennes, ce qui aligne avec l'expérience de l'entreprise dans l'accélération et l'incubation de startups.  \n",
       "29                                                                                                                                                                                                                                                                                                                                                                                                                                                                                                                                               Pertinence : Oui\\n\\nProjets similaires détectés : FACTORIAT\\n\\nRésumé rapide : L'appel à projet porte sur le développement de prototypes de puces AI à haute performance et faible consommation d'énergie, ce qui nécessite une expertise en matière de prototypage et de maturation technologique. Le projet FACTORIAT de l'entreprise, qui vise à soutenir les startups Deeptech et Hardware en leur offrant une aide technique et financière pour le prototypage et la maturation technologique, présente dessimilarités avec cet appel à projet. L'entreprise a déjà démontré son expertise dans ce domaine et pourrait apporter une valeur ajoutée à ce projet.  \n",
       "41  After analyzing the call for projects and the list of projects already realized by the enterprise, I can provide the following answer:\\n\\n**Pertinence : Oui**\\n\\nThe call for projects is relevant to the enterprise's expertise, as it involves aspects of incubation, acceleration, and capacity building, which are similar to the activities conducted in the **FACTORIAT** project. Additionally, the focus on cybersecurity, digital economy, and startup ecosystem support aligns with the objectives of the **Arab Bank Strategy** project.\\n\\n**Projets similaires détectés : [FACTORIAT, Arab Bank Strategy]**\\n\\n**Résumé rapide :**\\nThe enterprise's experience in supporting startups and entrepreneurship ecosystems, as well as its involvement in strategic development and financing, makes it a strong candidate to contribute to the implementation of the National Coordination Centres (NCCs) and the Cybersecurity Competence Community in each Member State. The call for projects shares similarities with the enterprise's previous projects, particularly in terms of incubation, acceleration, and capacity building, making it a relevant opportunity for the enterprise to pursue.  \n",
       "45                                                                                                                                                                                                                                                                                                                                                                                Pertinence : Oui\\n\\nProjets similaires détectés : National Entrepreneurship Program\\n\\nRésumé rapide : Ce projet concerne le renforcement des liens entre les National Contact Points (NCP) et les communautés nationales de recherche et d'innovation pour améliorer la coordination et la coopération en matière de recherche et d'innovation dans le domaine de la sécurité. L'entreprise a déjà une expérience similaire avec le National Entrepreneurship Program, qui vise à mettre en place un écosystème entrepreneurial national. Les compétences acquises dans ce projet pourraient être très utiles pour répondre à cet appel à projets. De plus, l'entreprise a déjà démontré sa capacité à développer des stratégies pour des écosystèmes d'innovation, ce qui est également en ligne avec les objectifs de ce projet.  \n",
       "48                                                                                                                                                                                                                                                                                                                                         Pertinence : Oui\\n\\nProjets similaires détectés : Arab Bank Strategy, National Entrepreneurship Program\\n\\nRésumé rapide : Cette opportunité est pertinente car elle concerne le développement d'un écosystème innovant (Virtual Worlds) et la mise en place d'une stratégie de recherche et d'innovation (SRIA) pour Web 4.0 en Europe, ce qui renvoie à l'axe \"Digital Economy\" et \"Strategic Development\" du projet Arab Bank Strategy. De plus, l'aspect \"capacity building\" et \"Startup Ecosystem\" du projet National Entrepreneurship Program est également présent dans cet appel à projets, avec l'objectif de soutenir l'émergence d'un écosystème européen pour Web 4.0 et Virtual Worlds.\\n\\nNote : Le projet FACTORIAT, qui concerne l'incubation et l'accélération de startups, peut également être lié à cet appel à projets, mais de manière moins directe.  \n",
       "52                                                                                                                                                                                                                                                                                                                                                                                            Pertinence : Oui\\n\\nProjets similaires détectés : FACTORIA\\n\\nRésumé rapide : L'opportunité décrite dans l'appel à projet européen est pertinente par rapport aux projets de l'entreprise car elle concerne l'avancement de la technologie et l'innovation dans le domaine du web et de l'internet, ce qui est en ligne avec le projet FACTORIA qui vise à aider les startups Deeptech et Hardware à matureser leurs technologies. De plus, l'accent mis sur l'open source, l'interopérabilité et la sécurité dans l'appel à projet correspondent aux axes définis dans le projet FACTORIA. Cependant, il est important de noter que les autres projets de l'entreprise (National Entrepreneurship Program et Arab Bank Strategy) semblent être plus éloignés de cette opportunité en termes de contenu et d'objectifs.  "
      ]
     },
     "execution_count": 26,
     "metadata": {},
     "output_type": "execute_result"
    }
   ],
   "source": [
    "df_yes_final"
   ]
  },
  {
   "cell_type": "code",
   "execution_count": 27,
   "id": "e56bbfa5",
   "metadata": {
    "execution": {
     "iopub.execute_input": "2025-07-16T16:45:04.701724Z",
     "iopub.status.busy": "2025-07-16T16:45:04.701724Z",
     "iopub.status.idle": "2025-07-16T16:45:04.707167Z",
     "shell.execute_reply": "2025-07-16T16:45:04.707167Z"
    }
   },
   "outputs": [
    {
     "data": {
      "text/plain": [
       "(10, 10)"
      ]
     },
     "execution_count": 27,
     "metadata": {},
     "output_type": "execute_result"
    }
   ],
   "source": [
    "df_yes_final.shape"
   ]
  },
  {
   "cell_type": "code",
   "execution_count": 28,
   "id": "84faa1b5",
   "metadata": {
    "execution": {
     "iopub.execute_input": "2025-07-16T16:45:04.710167Z",
     "iopub.status.busy": "2025-07-16T16:45:04.710167Z",
     "iopub.status.idle": "2025-07-16T16:45:04.715912Z",
     "shell.execute_reply": "2025-07-16T16:45:04.714912Z"
    }
   },
   "outputs": [
    {
     "name": "stdout",
     "output_type": "stream",
     "text": [
      "['URL', 'Pertinence', 'Matching Word(s)', 'Title', 'Status', 'Start_date', 'Deadline', 'Pertinence LLM', 'Résumé LLM', 'Réponse brute']\n"
     ]
    }
   ],
   "source": [
    "print(df_yes_final.columns.tolist())\n"
   ]
  },
  {
   "cell_type": "code",
   "execution_count": 29,
   "id": "81b1e060",
   "metadata": {
    "execution": {
     "iopub.execute_input": "2025-07-16T16:45:04.718935Z",
     "iopub.status.busy": "2025-07-16T16:45:04.718935Z",
     "iopub.status.idle": "2025-07-16T16:45:05.111065Z",
     "shell.execute_reply": "2025-07-16T16:45:05.111065Z"
    }
   },
   "outputs": [],
   "source": [
    "df_yes_final.to_excel('df_final_yes.xlsx', index=False, engine='openpyxl')\n"
   ]
  },
  {
   "cell_type": "code",
   "execution_count": null,
   "id": "9733766f",
   "metadata": {},
   "outputs": [],
   "source": []
  }
 ],
 "metadata": {
  "kernelspec": {
   "display_name": "ai_env",
   "language": "python",
   "name": "python3"
  },
  "language_info": {
   "codemirror_mode": {
    "name": "ipython",
    "version": 3
   },
   "file_extension": ".py",
   "mimetype": "text/x-python",
   "name": "python",
   "nbconvert_exporter": "python",
   "pygments_lexer": "ipython3",
   "version": "3.12.3"
  }
 },
 "nbformat": 4,
 "nbformat_minor": 5
}
