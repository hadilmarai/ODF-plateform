{
 "cells": [
  {
   "cell_type": "code",
   "execution_count": 1,
   "id": "8012a7ca",
   "metadata": {},
   "outputs": [
    {
     "name": "stdout",
     "output_type": "stream",
     "text": [
      "🌐 Chargement de la page 1...\n",
      "📄 10 opportunités trouvées sur la page 1.\n",
      "✔ Contracts for Innovation: resource efficient chemicals impacts | 📅 14 July 2025 9:30am UK time → 27 August 2025 11:00am UK time\n",
      "✔ Funding for core summer schools in 2026 | 📅 14 July 2025 9:00am UK time → 14 October 2025 5:00pm UK time\n",
      "✔ Smart Data Research UK Fellowships | 📅 15 July 2025 9:00am UK time → 23 September 2025 4:00pm UK time\n",
      "✔ Institutional diversity fund (invite only) | 📅 21 July 2025 9:00am UK time → 16 September 2025 4:00pm UK time\n",
      "✔ Contracts for Innovation: resource efficient automotive impacts | 📅 14 July 2025 9:30am UK time → 27 August 2025 11:00am UK time\n",
      "✔ Gap fund for early-stage development of new healthcare interventions | 📅 10 July 2025 9:00am UK time → 12 November 2025 4:00pm UK time\n",
      "✔ Contracts for Innovation: resource efficient construction impacts | 📅 14 July 2025 9:30am UK time → 27 August 2025 11:00am UK time\n",
      "✔ Digitise UK natural science collections | 📅 8 July 2025 9:00am UK time → 16 September 2025 4:00pm UK time\n",
      "✔ Expression of interest: ATI Programme strategic batch, Jul 2025 | 📅 7 July 2025 9:30am UK time → 23 July 2025 11:00am UK time\n",
      "✔ Pre-announcement: Local Innovation Partnerships Fund | 📅 Date d'ouverture non spécifiée → Date de clôture non spécifiée\n",
      "🌐 Chargement de la page 2...\n",
      "📄 10 opportunités trouvées sur la page 2.\n",
      "✔ Aviation’s non-CO2 Impacts on the Climate: programme coordinator | 📅 11 July 2025 9:00am UK time → 18 September 2025 4:00pm UK time\n",
      "✔ Research and partnership hubs for a healthy society | 📅 15 July 2025 9:00am UK time → 21 October 2025 4:00pm UK time\n",
      "✔ Agri-tech and food technology, mid and north Wales: CRD | 📅 30 June 2025 9:30am UK time → 20 August 2025 11:00am UK time\n",
      "✔ STFC leadership fellowships in public engagement | 📅 7 July 2025 9:00am UK time → 16 October 2025 4:00pm UK time\n",
      "✔ Computing resources on the STFC DiRAC HPC facility (RAC18) | 📅 3 July 2025 9:00am UK time → 18 September 2025 4:00pm UK time\n",
      "✔ Experimental medicine: invited stage two application | 📅 8 July 2025 9:00am UK time → 3 September 2025 4:00pm UK time\n",
      "✔ US-UK and Germany-UK collaborative research: seed funding in semiconductor security | 📅 3 July 2025 9:00am UK time → 31 July 2025 4:00pm UK time\n",
      "✔ Pre-announcement: Biological influence on ocean carbon: novel modelling approaches | 📅 Date d'ouverture non spécifiée → Date de clôture non spécifiée\n",
      "✔ UKRI Gambling Harms Research Coordination Centre (GHRCC) | 📅 26 June 2025 9:00am UK time → 16 September 2025 4:00pm UK time\n",
      "✔ Gambling harms research and innovation partnerships | 📅 26 June 2025 9:00am UK time → 16 September 2025 4:00pm UK time\n",
      "🌐 Chargement de la page 3...\n",
      "📄 10 opportunités trouvées sur la page 3.\n",
      "✔ Pre-announcement: multiple model assessment of biological influence on ocean carbon | 📅 Date d'ouverture non spécifiée → Date de clôture non spécifiée\n",
      "✔ Transdisciplinary research to tackle antimicrobial resistance: full application | 📅 18 June 2025 9:00am UK time → 23 September 2025 4:00pm UK time\n",
      "✔ Canada-UK NetworkPlus in semiconductor research | 📅 2 July 2025 9:00am UK time → 10 September 2025 4:00pm UK time\n",
      "✔ Knowledge Transfer Partnership: 2025 to 2026 round three | 📅 16 June 2025 9:00am UK time → 17 September 2025 11:30am UK time\n",
      "✔ UK International Ocean Drilling Programme moratorium awards | 📅 24 June 2025 9:00am UK time → Date de clôture non spécifiée\n",
      "✔ Health Technologies Connectivity Awards: round two | 📅 19 June 2025 9:00am UK time → 2 October 2025 4:00pm UK time\n",
      "✔ ADOPT facilitator support grant: round two | 📅 12 June 2025 9:30am UK time → 24 July 2025 11:00am UK time\n",
      "✔ Full ADOPT grant: round two | 📅 26 June 2025 9:30am UK time → 20 August 2025 11:00am UK time\n",
      "✔ Clinician scientist fellowship | 📅 11 June 2025 9:00am UK time → 3 September 2025 4:00pm UK time\n",
      "✔ Predoctoral clinical research training fellowship | 📅 11 June 2025 9:00am UK time → 3 September 2025 4:00pm UK time\n",
      "🌐 Chargement de la page 4...\n",
      "📄 10 opportunités trouvées sur la page 4.\n",
      "✔ Postdoctoral clinical research training fellowship | 📅 11 June 2025 9:00am UK time → 3 September 2025 4:00pm UK time\n",
      "✔ Engineer next generation veterinary vaccine technology platforms | 📅 11 June 2025 9:00am UK time → 16 September 2025 4:00pm UK time\n",
      "✔ Strategic infrastructure for engineering and physical sciences: June 2025 | 📅 18 June 2025 9:00am UK time → 28 August 2025 4:00pm UK time\n",
      "✔ Commercialising Knowledge Assets Fund: autumn 2025 | 📅 2 June 2025 9:30am UK time → 4 September 2025 11:00am UK time\n",
      "✔ Ernest Rutherford Fellowship 2025 | 📅 4 June 2025 9:00am UK time → 1 October 2025 4:00pm UK time\n",
      "✔ Research to advance UK recycling capabilities: full stage | 📅 28 May 2025 9:00am UK time → 23 July 2025 4:00pm UK time\n",
      "✔ Sandpit: moving respiratory health diagnosis into the 21st century invite only | 📅 21 May 2025 9:00am UK time → 22 July 2025 4:00pm UK time\n",
      "✔ Canada-UK semiconductors | 📅 12 May 2025 9:30am UK time → 15 October 2025 11:00am UK time\n",
      "✔ MRC Centre of Research Excellence: round three: invited full application | 📅 15 May 2025 9:00am UK time → 11 September 2025 4:00pm UK time\n",
      "✔ MRC: partnership | 📅 6 May 2025 9:00am UK time → 4 September 2025 4:00pm UK time\n",
      "🌐 Chargement de la page 5...\n",
      "📄 10 opportunités trouvées sur la page 5.\n",
      "✔ Infections and immunity: programme | 📅 6 May 2025 9:00am UK time → 4 September 2025 4:00pm UK time\n",
      "✔ Neurosciences and mental health: programme | 📅 6 May 2025 9:00am UK time → 4 September 2025 4:00pm UK time\n",
      "✔ Population and systems medicine: programme | 📅 6 May 2025 9:00am UK time → 4 September 2025 4:00pm UK time\n",
      "✔ Molecular and cellular medicine: programme | 📅 6 May 2025 9:00am UK time → 4 September 2025 4:00pm UK time\n",
      "✔ Molecular and cellular medicine: new investigator | 📅 2 May 2025 9:00am UK time → 4 September 2025 4:00pm UK time\n",
      "✔ Neurosciences and mental health: new investigator | 📅 2 May 2025 9:00am UK time → 4 September 2025 4:00pm UK time\n",
      "✔ Infections and immunity: new investigator | 📅 2 May 2025 9:00am UK time → 4 September 2025 4:00pm UK time\n",
      "✔ Population and systems medicine: new investigator | 📅 2 May 2025 9:00am UK time → 4 September 2025 4:00pm UK time\n",
      "✔ Neurosciences and mental health: research grant | 📅 1 May 2025 9:00am UK time → 4 September 2025 4:00pm UK time\n",
      "✔ Population and systems medicine: research grant | 📅 1 May 2025 9:00am UK time → 4 September 2025 4:00pm UK time\n",
      "🌐 Chargement de la page 6...\n",
      "📄 10 opportunités trouvées sur la page 6.\n",
      "✔ Molecular and cellular medicine: research grant | 📅 1 May 2025 9:00am UK time → 4 September 2025 4:00pm UK time\n",
      "✔ Infections and immunity: research grant | 📅 1 May 2025 9:00am UK time → 4 September 2025 4:00pm UK time\n",
      "✔ Pre-announcement: DARE UK Real-world Research Exemplar Programme | 📅 8 September 2025 9:00am UK time → 5 November 2025 4:00pm UK time\n",
      "✔ BBSRC new investigator award: 2025 round 3: applicant-led mode | 📅 24 April 2025 9:00am UK time → 24 September 2025 4:00pm UK time\n",
      "✔ BBSRC standard research grant: 2025 round 3: applicant-led mode | 📅 24 April 2025 9:00am UK time → 24 September 2025 4:00pm UK time\n",
      "✔ Critical mass programmes to drive a sustainable future (invitation only) | 📅 1 May 2025 9:00am UK time → 17 July 2025 4:00pm UK time\n",
      "✔ Experimental medicine stage one | 📅 17 April 2025 9:00am UK time → 1 October 2025 4:00pm UK time\n",
      "✔ Career development award | 📅 18 June 2025 9:00am UK time → 10 September 2025 4:00pm UK time\n",
      "✔ UKRI policy fellowships 2025 | 📅 22 April 2025 9:00am UK time → 15 July 2025 4:00pm UK time\n",
      "✔ Applied global health research: stage two | 📅 30 April 2025 9:00am UK time → 16 July 2025 4:00pm UK time\n",
      "🌐 Chargement de la page 7...\n",
      "📄 10 opportunités trouvées sur la page 7.\n",
      "✔ 2025 to 2026 strategic Longer and Larger (sLoLa) grants: stage one | 📅 29 May 2025 9:00am UK time → 24 July 2025 4:00pm UK time\n",
      "✔ Applied global health partnership: stage two | 📅 30 April 2025 9:00am UK time → 16 July 2025 4:00pm UK time\n",
      "✔ Collaborate with researchers in Norway | 📅 Date d'ouverture non spécifiée → Date de clôture non spécifiée\n",
      "✔ Collaborative doctoral landscape award in the arts and humanities | 📅 10 April 2025 9:00am UK time → 20 November 2025 4:00pm UK time\n",
      "✔ PATT travel grants for competitively awarded observation time 2025 | 📅 21 August 2025 9:00am UK time → 16 October 2025 4:00pm UK time\n",
      "✔ Developmental pathway funding scheme: stage one | 📅 20 March 2025 9:00am UK time → 16 July 2025 4:00pm UK time\n",
      "✔ Future Leaders Fellowships: round 10, business and non-academic | 📅 23 June 2025 9:30am UK time → 5 November 2025 11:00am UK time\n",
      "✔ Statements of Need in Research Infrastructure | 📅 17 March 2025 9:00am UK time → Date de clôture non spécifiée\n",
      "✔ EPSRC Programme grant full proposal | 📅 4 March 2025 9:00am UK time → Date de clôture non spécifiée\n",
      "✔ Mathematical sciences postdoctoral fellowship | 📅 19 February 2025 9:00am UK time → Date de clôture non spécifiée\n",
      "🌐 Chargement de la page 8...\n",
      "📄 10 opportunités trouvées sur la page 8.\n",
      "✔ Pre-announcement: Opening up the Environment 2026 | 📅 Date d'ouverture non spécifiée → Date de clôture non spécifiée\n",
      "✔ Small molecule high throughput screen using AstraZeneca facilities | 📅 10 February 2025 9:00am UK time → 9 September 2025 4:00pm UK time\n",
      "✔ AHRC responsive mode: Curiosity Award | 📅 31 January 2025 9:00am UK time → Date de clôture non spécifiée\n",
      "✔ AHRC responsive mode: catalyst awards | 📅 31 January 2025 9:00am UK time → Date de clôture non spécifiée\n",
      "✔ Pushing the frontiers of environmental research: July 2025 | 📅 5 February 2025 9:00am UK time → 16 July 2025 4:00pm UK time\n",
      "✔ Mathematical sciences open and open plus fellowship | 📅 30 January 2025 9:00am UK time → Date de clôture non spécifiée\n",
      "✔ AHRC responsive mode: UKRI NSF-SBE lead agency | 📅 11 December 2024 9:00am UK time → Date de clôture non spécifiée\n",
      "✔ AHRC responsive mode: working with Brazilian researchers | 📅 11 December 2024 9:00am UK time → Date de clôture non spécifiée\n",
      "✔ AHRC responsive mode: collaborate with researchers in Luxembourg | 📅 11 December 2024 9:00am UK time → Date de clôture non spécifiée\n",
      "✔ AHRC responsive mode: standard research grant | 📅 11 December 2024 9:00am UK time → Date de clôture non spécifiée\n",
      "🌐 Chargement de la page 9...\n",
      "📄 10 opportunités trouvées sur la page 9.\n",
      "✔ EPSRC programme grant outline stage | 📅 1 October 2024 9:00am UK time → Date de clôture non spécifiée\n",
      "✔ International Travel Award Scheme for the Biological Sciences | 📅 1 October 2024 9:00am UK time → 30 September 2025 4:00pm UK time\n",
      "✔ Projects Peer Review Panel (PPRP) 2025 | 📅 1 October 2024 9:00am UK time → 28 August 2025 4:00pm UK time\n",
      "✔ NERC urgency funding | 📅 8 July 2024 9:00am UK time → Date de clôture non spécifiée\n",
      "✔ Strategic infrastructure outlines | 📅 18 June 2024 9:00am UK time → Date de clôture non spécifiée\n",
      "✔ Work with US-based researchers on environmental science: NERC-NSF lead agency | 📅 Date d'ouverture non spécifiée → Date de clôture non spécifiée\n",
      "✔ Collaborate with the functional genomics screening laboratory | 📅 Date d'ouverture non spécifiée → Date de clôture non spécifiée\n",
      "✔ Open access fund for longform publications: stage two | 📅 15 January 2024 9:00am UK time → Date de clôture non spécifiée\n",
      "✔ Mathematical sciences small grants | 📅 2 January 2024 9:00am UK time → Date de clôture non spécifiée\n",
      "✔ EPSRC network grant: Nov 2023: responsive mode | 📅 13 November 2023 9:00am UK time → Date de clôture non spécifiée\n",
      "🌐 Chargement de la page 10...\n",
      "📄 10 opportunités trouvées sur la page 10.\n",
      "✔ EPSRC working with overseas scientists: Nov 2023: responsive mode (invite only) | 📅 13 November 2023 9:00am UK time → Date de clôture non spécifiée\n",
      "✔ EPSRC new investigator award: Nov 2023: responsive mode | 📅 13 November 2023 9:00am UK time → Date de clôture non spécifiée\n",
      "✔ EPSRC discipline hopping in ICT, Nov 2023: responsive mode | 📅 13 November 2023 9:00am UK time → Date de clôture non spécifiée\n",
      "✔ EPSRC overseas travel grant: Nov 2023: responsive mode | 📅 13 November 2023 9:00am UK time → Date de clôture non spécifiée\n",
      "✔ EPSRC standard research grant, Nov 2023: responsive mode | 📅 13 November 2023 9:00am UK time → Date de clôture non spécifiée\n",
      "✔ ESRC responsive mode: research grants round two | 📅 29 September 2023 9:00am UK time → Date de clôture non spécifiée\n",
      "✔ ESRC responsive mode: new investigator grants round two | 📅 29 September 2023 9:00am UK time → Date de clôture non spécifiée\n",
      "✔ ESRC responsive mode: working with Luxembourg researchers round two | 📅 29 September 2023 9:00am UK time → Date de clôture non spécifiée\n",
      "✔ ESRC responsive mode: secondary data analysis round two | 📅 29 September 2023 9:00am UK time → Date de clôture non spécifiée\n",
      "✔ ESRC responsive mode: UKRI-SBE lead agency opportunity round two | 📅 29 September 2023 9:00am UK time → Date de clôture non spécifiée\n",
      "🌐 Chargement de la page 11...\n",
      "📄 10 opportunités trouvées sur la page 11.\n",
      "✔ ESRC responsive mode: working with Brazilian researchers round two | 📅 29 September 2023 9:00am UK time → Date de clôture non spécifiée\n",
      "✔ Collaborate with researchers in Luxembourg | 📅 Date d'ouverture non spécifiée → Date de clôture non spécifiée\n",
      "✔ Researching motor neurone disease: highlight notice | 📅 1 December 2022 → Date de clôture non spécifiée\n",
      "✔ Work with Brazilian researchers: NERC FAPESP lead agency | 📅 Date d'ouverture non spécifiée → Date de clôture non spécifiée\n",
      "✔ PATT travel claim for competitively awarded observation time | 📅 1 January 2021 → Date de clôture non spécifiée\n",
      "✔ Collaborate with researchers in Brazil | 📅 Date d'ouverture non spécifiée → Date de clôture non spécifiée\n",
      "✔ UKRI-SBE lead agency opportunity | 📅 Date d'ouverture non spécifiée → Date de clôture non spécifiée\n",
      "✔ Institutional strategic developmental projects in higher education | 📅 Date d'ouverture non spécifiée → Date de clôture non spécifiée\n",
      "✔ Daphne Jackson fellowship | 📅 Date d'ouverture non spécifiée → Date de clôture non spécifiée\n",
      "✔ Return to research support bursary | 📅 Date d'ouverture non spécifiée → Date de clôture non spécifiée\n"
     ]
    }
   ],
   "source": [
    "from selenium import webdriver\n",
    "from selenium.webdriver.chrome.service import Service\n",
    "from selenium.webdriver.chrome.options import Options\n",
    "from selenium.webdriver.common.by import By\n",
    "from selenium.webdriver.support.ui import WebDriverWait\n",
    "from selenium.webdriver.support import expected_conditions as EC\n",
    "import time\n",
    "\n",
    "# Configurer le driver Chrome\n",
    "chrome_options = Options()\n",
    "chrome_options.add_argument(\"--start-maximized\")\n",
    "\n",
    "service = Service(r\"C:\\Users\\HADIL MARAI\\Desktop\\ODF\\chromedriver-win64\\chromedriver-win64\\chromedriver.exe\")\n",
    "driver = webdriver.Chrome(service=service, options=chrome_options)\n",
    "base_url = \"https://www.ukri.org/opportunity/page/{}/\"\n",
    "\n",
    "with open(\"projets_UKRI_full.txt\", \"w\", encoding=\"utf-8\") as f:\n",
    "    for page_num in range(1, 12):  # Pages 1 à 8\n",
    "        url = base_url.format(page_num)\n",
    "        driver.get(url)\n",
    "        print(f\"🌐 Chargement de la page {page_num}...\")\n",
    "\n",
    "        try:\n",
    "            WebDriverWait(driver, 15).until(\n",
    "                EC.presence_of_element_located((By.CSS_SELECTOR, \"div.opportunity\"))\n",
    "            )\n",
    "        except Exception:\n",
    "            print(f\"❌ Échec du chargement de la page {page_num}.\")\n",
    "            continue\n",
    "\n",
    "        opportunities = driver.find_elements(By.CSS_SELECTOR, \"div.opportunity\")\n",
    "        print(f\"📄 {len(opportunities)} opportunités trouvées sur la page {page_num}.\")\n",
    "\n",
    "        for opp in opportunities:\n",
    "            try:\n",
    "                title_el = opp.find_element(By.CSS_SELECTOR, \"h3.entry-title a\")\n",
    "                title = title_el.text.strip()\n",
    "                link = title_el.get_attribute(\"href\")\n",
    "\n",
    "                try:\n",
    "                    description = opp.find_element(By.CSS_SELECTOR, \"div.entry-content p\").text.strip()\n",
    "                except:\n",
    "                    description = \"Description non trouvée\"\n",
    "\n",
    "                try:\n",
    "                    opening_date = opp.find_element(By.XPATH, \".//dt[contains(text(), 'Opening date:')]/following-sibling::dd[1]/time\").text.strip()\n",
    "                except:\n",
    "                    opening_date = \"Date d'ouverture non spécifiée\"\n",
    "\n",
    "                try:\n",
    "                    closing_date = opp.find_element(By.XPATH, \".//dt[contains(text(), 'Closing date:')]/following-sibling::dd[1]/time\").text.strip()\n",
    "                except:\n",
    "                    closing_date = \"Date de clôture non spécifiée\"\n",
    "\n",
    "                f.write(\n",
    "                    f\"Titre: {title}\\n\"\n",
    "                    f\"Lien: {link}\\n\"\n",
    "                    f\"Description: {description}\\n\"\n",
    "                    f\"Date d'ouverture: {opening_date}\\n\"\n",
    "                    f\"Date de clôture: {closing_date}\\n\\n\"\n",
    "                )\n",
    "                print(f\"✔ {title} | 📅 {opening_date} → {closing_date}\")\n",
    "\n",
    "            except Exception as e:\n",
    "                print(f\"⚠️ Erreur lors du traitement d'une opportunité : {e}\")\n",
    "\n",
    "\n",
    "driver.quit()\n"
   ]
  },
  {
   "cell_type": "code",
   "execution_count": 10,
   "id": "3fff1955",
   "metadata": {},
   "outputs": [
    {
     "data": {
      "text/html": [
       "<div>\n",
       "<style scoped>\n",
       "    .dataframe tbody tr th:only-of-type {\n",
       "        vertical-align: middle;\n",
       "    }\n",
       "\n",
       "    .dataframe tbody tr th {\n",
       "        vertical-align: top;\n",
       "    }\n",
       "\n",
       "    .dataframe thead th {\n",
       "        text-align: right;\n",
       "    }\n",
       "</style>\n",
       "<table border=\"1\" class=\"dataframe\">\n",
       "  <thead>\n",
       "    <tr style=\"text-align: right;\">\n",
       "      <th></th>\n",
       "      <th>Title</th>\n",
       "      <th>URL</th>\n",
       "      <th>Description</th>\n",
       "      <th>Start_date</th>\n",
       "      <th>Deadline</th>\n",
       "    </tr>\n",
       "  </thead>\n",
       "  <tbody>\n",
       "    <tr>\n",
       "      <th>0</th>\n",
       "      <td>Contracts for Innovation: resource efficient chemicals impacts</td>\n",
       "      <td>https://www.ukri.org/opportunity/contracts-for-innovation-resource-efficient-chemicals-impacts/</td>\n",
       "      <td>Organisations can apply for a share of up to £3 million, inclusive of VAT, to develop the impact validation of a demonstrated resource efficiency solution.</td>\n",
       "      <td>14 July 2025 9:30am UK time</td>\n",
       "      <td>27 August 2025 11:00am UK time</td>\n",
       "    </tr>\n",
       "    <tr>\n",
       "      <th>1</th>\n",
       "      <td>Funding for core summer schools in 2026</td>\n",
       "      <td>https://www.ukri.org/opportunity/funding-for-core-summer-schools-in-2026/</td>\n",
       "      <td>Apply for funding under the STFC Funding Support for Core Summer Schools scheme for events taking place in 2026.</td>\n",
       "      <td>14 July 2025 9:00am UK time</td>\n",
       "      <td>14 October 2025 5:00pm UK time</td>\n",
       "    </tr>\n",
       "    <tr>\n",
       "      <th>2</th>\n",
       "      <td>Smart Data Research UK Fellowships</td>\n",
       "      <td>https://www.ukri.org/opportunity/smart-data-research-uk-fellowships/</td>\n",
       "      <td>Apply for a fellowship to undertake innovative and impact-focused research using smart data. Projects should address a significant real-world challenge which is relevant to the UK.</td>\n",
       "      <td>15 July 2025 9:00am UK time</td>\n",
       "      <td>23 September 2025 4:00pm UK time</td>\n",
       "    </tr>\n",
       "    <tr>\n",
       "      <th>3</th>\n",
       "      <td>Institutional diversity fund (invite only)</td>\n",
       "      <td>https://www.ukri.org/opportunity/institutional-diversity-fund-invite-only/</td>\n",
       "      <td>The purpose of this opportunity is to provide strategic research infrastructure base funding, supporting independent research organisations to support the diverse social science ecosystem in the UK.</td>\n",
       "      <td>21 July 2025 9:00am UK time</td>\n",
       "      <td>16 September 2025 4:00pm UK time</td>\n",
       "    </tr>\n",
       "    <tr>\n",
       "      <th>4</th>\n",
       "      <td>Contracts for Innovation: resource efficient automotive impacts</td>\n",
       "      <td>https://www.ukri.org/opportunity/contracts-for-innovation-resource-efficient-automotive-impacts/</td>\n",
       "      <td>Organisations can apply for a share of up to £3 million, inclusive of VAT, to develop the impact validation of a demonstrated resource efficiency solution.</td>\n",
       "      <td>14 July 2025 9:30am UK time</td>\n",
       "      <td>27 August 2025 11:00am UK time</td>\n",
       "    </tr>\n",
       "  </tbody>\n",
       "</table>\n",
       "</div>"
      ],
      "text/plain": [
       "                                                             Title  \\\n",
       "0   Contracts for Innovation: resource efficient chemicals impacts   \n",
       "1                          Funding for core summer schools in 2026   \n",
       "2                               Smart Data Research UK Fellowships   \n",
       "3                       Institutional diversity fund (invite only)   \n",
       "4  Contracts for Innovation: resource efficient automotive impacts   \n",
       "\n",
       "                                                                                                URL  \\\n",
       "0   https://www.ukri.org/opportunity/contracts-for-innovation-resource-efficient-chemicals-impacts/   \n",
       "1                         https://www.ukri.org/opportunity/funding-for-core-summer-schools-in-2026/   \n",
       "2                              https://www.ukri.org/opportunity/smart-data-research-uk-fellowships/   \n",
       "3                        https://www.ukri.org/opportunity/institutional-diversity-fund-invite-only/   \n",
       "4  https://www.ukri.org/opportunity/contracts-for-innovation-resource-efficient-automotive-impacts/   \n",
       "\n",
       "                                                                                                                                                                                              Description  \\\n",
       "0                                             Organisations can apply for a share of up to £3 million, inclusive of VAT, to develop the impact validation of a demonstrated resource efficiency solution.   \n",
       "1                                                                                        Apply for funding under the STFC Funding Support for Core Summer Schools scheme for events taking place in 2026.   \n",
       "2                    Apply for a fellowship to undertake innovative and impact-focused research using smart data. Projects should address a significant real-world challenge which is relevant to the UK.   \n",
       "3  The purpose of this opportunity is to provide strategic research infrastructure base funding, supporting independent research organisations to support the diverse social science ecosystem in the UK.   \n",
       "4                                             Organisations can apply for a share of up to £3 million, inclusive of VAT, to develop the impact validation of a demonstrated resource efficiency solution.   \n",
       "\n",
       "                    Start_date                          Deadline  \n",
       "0  14 July 2025 9:30am UK time    27 August 2025 11:00am UK time  \n",
       "1  14 July 2025 9:00am UK time    14 October 2025 5:00pm UK time  \n",
       "2  15 July 2025 9:00am UK time  23 September 2025 4:00pm UK time  \n",
       "3  21 July 2025 9:00am UK time  16 September 2025 4:00pm UK time  \n",
       "4  14 July 2025 9:30am UK time    27 August 2025 11:00am UK time  "
      ]
     },
     "execution_count": 10,
     "metadata": {},
     "output_type": "execute_result"
    }
   ],
   "source": [
    "import pandas as pd\n",
    "\n",
    "def parse_ukri_project_file(filepath):\n",
    "    with open(filepath, 'r', encoding='utf-8') as f:\n",
    "        lines = [line.strip() for line in f if line.strip()]\n",
    "\n",
    "    data = []\n",
    "    current_project = {}\n",
    "\n",
    "    for line in lines:\n",
    "        if line.startswith(\"Titre:\"):\n",
    "            if current_project:\n",
    "                data.append(current_project)\n",
    "            current_project = {\"Titre\": line.split(\":\", 1)[1].strip()}\n",
    "        elif line.startswith(\"Lien:\"):\n",
    "            current_project[\"Lien\"] = line.split(\":\", 1)[1].strip()\n",
    "        elif line.startswith(\"Description:\"):\n",
    "            current_project[\"Description\"] = line.split(\":\", 1)[1].strip()\n",
    "        elif line.startswith(\"Date d'ouverture:\"):\n",
    "            current_project[\"Date d'ouverture\"] = line.split(\":\", 1)[1].strip()\n",
    "        elif line.startswith(\"Date de clôture:\"):\n",
    "            current_project[\"Date de clôture\"] = line.split(\":\", 1)[1].strip()\n",
    "\n",
    "    if current_project:\n",
    "        data.append(current_project)\n",
    "\n",
    "    # Création du DataFrame avec renommage des colonnes en anglais\n",
    "    df = pd.DataFrame(data)\n",
    "    df.rename(columns={\n",
    "        \"Titre\": \"Title\",\n",
    "        \"Lien\": \"URL\",\n",
    "        \"Description\": \"Description\",\n",
    "        \"Date d'ouverture\": \"Start_date\",\n",
    "        \"Date de clôture\": \"Deadline\"\n",
    "    }, inplace=True)\n",
    "\n",
    "    return df\n",
    "\n",
    "# Utilisation\n",
    "df = parse_ukri_project_file(\"projets_UKRI_full.txt\")\n",
    "\n",
    "# Aperçu\n",
    "df.head()\n"
   ]
  },
  {
   "cell_type": "code",
   "execution_count": 11,
   "id": "bb1acac8",
   "metadata": {},
   "outputs": [
    {
     "name": "stdout",
     "output_type": "stream",
     "text": [
      "0       https://www.ukri.org/opportunity/contracts-for-innovation-resource-efficient-chemicals-impacts/\n",
      "1                             https://www.ukri.org/opportunity/funding-for-core-summer-schools-in-2026/\n",
      "2                                  https://www.ukri.org/opportunity/smart-data-research-uk-fellowships/\n",
      "3                            https://www.ukri.org/opportunity/institutional-diversity-fund-invite-only/\n",
      "4      https://www.ukri.org/opportunity/contracts-for-innovation-resource-efficient-automotive-impacts/\n",
      "                                                     ...                                               \n",
      "105                            https://www.ukri.org/opportunity/collaborate-with-researchers-in-brazil/\n",
      "106                                  https://www.ukri.org/opportunity/ukri-sbe-lead-agency-opportunity/\n",
      "107                                 https://www.ukri.org/opportunity/research-england-development-fund/\n",
      "108                                         https://www.ukri.org/opportunity/daphne-jackson-fellowship/\n",
      "109                                https://www.ukri.org/opportunity/return-to-research-support-bursary/\n",
      "Name: URL, Length: 110, dtype: object\n"
     ]
    }
   ],
   "source": [
    "pd.set_option('display.max_colwidth', None)\n",
    "print(df['URL'])"
   ]
  },
  {
   "cell_type": "code",
   "execution_count": 12,
   "id": "5d09c684",
   "metadata": {},
   "outputs": [],
   "source": [
    "# Dictionnaire de correspondance EN => FR\n",
    "all_keywords_text = {\n",
    "    \"strategic consulting\": \"conseil stratégique\",\n",
    "    \"technical assistance\": \"assistance technique\",\n",
    "    \"institutional support\": \"appui institutionnel\",\n",
    "    \"tailored support\": \"accompagnement personnalisé\",\n",
    "    \"innovation support\": \"accompagnement à l’innovation\",\n",
    "    \"fundraising support\": \"accompagnement à la levée de fonds\",\n",
    "    \"organizational development\": \"développement organisationnel\",\n",
    "    \"capacity building\": \"développement de capacités\",\n",
    "    \"program structuring\": \"structuration de programme\",\n",
    "    \"project design\": \"ingénierie de projet\",\n",
    "    \"project management\": \"gestion de projet\",\n",
    "    \"program steering\": \"pilotage de programme\",\n",
    "    \"growth strategy\": \"stratégie de croissance\",\n",
    "    \"sector expertise\": \"expertise sectorielle\",\n",
    "    \"project evaluation\": \"évaluation de projets\",\n",
    "    \"due diligence\": \"due diligence\",\n",
    "    \"project implementation\": \"mise en œuvre de projet\",\n",
    "    \"roadmap development\": \"élaboration de feuille de route\",\n",
    "    \"financial engineering\": \"ingénierie financière\",\n",
    "    \"strategic diagnosis\": \"diagnostic stratégique\",\n",
    "    \"monitoring and evaluation\": \"suivi-évaluation\",\n",
    "    \"operational action plan\": \"plan d’action opérationnel\",\n",
    "    \"public-private partnership\": \"partenariat public-privé\",\n",
    "    \"ecosystem animation\": \"animation d’écosystème\",\n",
    "    \"impact analysis\": \"analyse d’impact\",\n",
    "    \"partnership facilitation\": \"facilitation de partenariats\",\n",
    "    \"stakeholder mapping\": \"cartographie des acteurs\",\n",
    "    \"knowledge transfer\": \"transfert de compétences\",\n",
    "    \"collaborative innovation\": \"innovation collaborative\",\n",
    "    \"open innovation\": \"open innovation\",\n",
    "    \"economic development\": \"développement économique\",\n",
    "    \"ecosystem development\": \"développement d’écosystèmes\",\n",
    "    \"expansion strategy\": \"stratégie d’expansion\",\n",
    "    \"development strategy\": \"stratégie de développement\",\n",
    "    \"research valorization\": \"valorisation de la recherche\",\n",
    "    \"technology transfer\": \"transfert de technologie\",\n",
    "    \"technology maturation\": \"maturation technologique\",\n",
    "    \"prototype industrialization\": \"industrialisation de prototypes\",\n",
    "    \"technological co-development\": \"co-développement technologique\",\n",
    "    \"intellectual property\": \"propriété intellectuelle\",\n",
    "    \"research results\": \"résultats de recherche\",\n",
    "    \"technology readiness level\": \"niveau de maturité technologique\",\n",
    "    \"university spin-off\": \"spin-off universitaire\",\n",
    "    \"research-industry collaboration\": \"collaboration recherche-industrie\",\n",
    "    \"technology startup\": \"start-up technologique\",\n",
    "    \"technology portfolio\": \"portefeuille technologique\",\n",
    "    \"innovation commercialization\": \"commercialisation d’innovations\",\n",
    "    \"proof of concept\": \"preuve de concept\",\n",
    "    \"prototyping\": \"prototypage\",\n",
    "    \"technology incubator\": \"incubateur technologique\",\n",
    "    \"R&D support\": \"accompagnement à la R&D\",\n",
    "    \"patent exploitation\": \"exploitation de brevets\",\n",
    "    \"call for projects\": \"appel à projets\",\n",
    "    \"call for proposals\": \"appel à propositions\",\n",
    "    \"call for expression of interest\": \"appel à manifestation d’intérêt\",\n",
    "    \"call for applications\": \"appel à candidatures\",\n",
    "    \"call for consultants\": \"appel à consultants\",\n",
    "    \"innovation grant\": \"subvention à l’innovation\",\n",
    "    \"R&D project funding\": \"financement de projet R&D\",\n",
    "    \"support program\": \"programme d’accompagnement\",\n",
    "    \"support fund\": \"fonds de soutien\",\n",
    "    \"innovation competition\": \"concours d’innovation\",\n",
    "    \"incubation program\": \"programme d’incubation\",\n",
    "    \"acceleration program\": \"programme d’accélération\",\n",
    "    \"consulting assignment\": \"mission de conseil\",\n",
    "    \"public procurement\": \"marché public\",\n",
    "    \"strategic partnership\": \"partenariat stratégique\",\n",
    "    \"service delivery\": \"prestation de services\",\n",
    "    \"expert mission\": \"mission d’expertise\",\n",
    "    \"deeptech\": \"deeptech\",\n",
    "    \"biotechnology\": \"biotechnologie\",\n",
    "    \"medtech\": \"medtech\",\n",
    "    \"greentech\": \"greentech\",\n",
    "    \"agritech\": \"agritech\",\n",
    "    \"climatetech\": \"climatetech\",\n",
    "    \"healthtech\": \"healthtech\",\n",
    "    \"nanotechnology\": \"nanotechnologie\",\n",
    "    \"robotics\": \"robotique\",\n",
    "    \"artificial intelligence\": \"intelligence artificielle\",\n",
    "    \"machine learning\": \"machine learning\",\n",
    "    \"industry 4.0\": \"industrie 4.0\",\n",
    "    \"advanced materials\": \"matériaux avancés\",\n",
    "    \"clean technologies\": \"technologies propres\",\n",
    "    \"renewable energy\": \"énergies renouvelables\",\n",
    "    \"cybersecurity\": \"cybersécurité\",\n",
    "    \"data science\": \"data science\",\n",
    "    \"internet of things\": \"internet des objets\",\n",
    "    \"sustainable development\": \"développement durable\",\n",
    "    \"climate resilience\": \"résilience climatique\",\n",
    "    \"economic inclusion\": \"inclusion économique\",\n",
    "    \"empowerment through innovation\": \"autonomisation par l’innovation\",\n",
    "    \"social innovation\": \"innovation sociale\",\n",
    "    \"inclusive growth\": \"croissance inclusive\",\n",
    "    \"social impact\": \"impact sociétal\",\n",
    "    \"youth empowerment\": \"autonomisation des jeunes\",\n",
    "    \"services digitalization\": \"digitalisation des services\",\n",
    "    \"technological sovereignty\": \"souveraineté technologique\",\n",
    "    \"territorial development\": \"développement territorial\",\n",
    "    \"digital transformation\": \"transformation numérique\",\n",
    "    \"researcher empowerment\": \"autonomisation des chercheurs\",\n",
    "    \"diaspora integration\": \"intégration de la diaspora\",\n",
    "    \"cross-sector collaboration\": \"collaboration intersectorielle\",\n",
    "    \"industrial partnerships\": \"partenariats industriels\",\n",
    "    \"market-driven innovation\": \"innovation orientée marché\",\n",
    "    \"innovative SMEs\": \"PME innovantes\",\n",
    "    \"industrial entrepreneurship\": \"entrepreneuriat industriel\",\n",
    "    \"market access\": \"accès au marché\",\n",
    "    \"value chain strengthening\": \"renforcement des chaînes de valeur\",\n",
    "    \"economic impact\": \"impact économique\",\n",
    "    \"economic empowerment\": \"autonomisation économique\",\n",
    "    \"industrial competitiveness\": \"compétitivité industrielle\",\n",
    "    \"applied research\": \"recherche appliquée\",\n",
    "    \"skills development\": \"montée en compétences\",\n",
    "    \"know-how transfer\": \"transfert de savoir-faire\",\n",
    "    \"co-development\": \"co-développement\",\n",
    "    \"technology leadership\": \"leadership technologique\"\n",
    "}\n"
   ]
  },
  {
   "cell_type": "markdown",
   "id": "6e976356",
   "metadata": {},
   "source": [
    "#### Voir les mots clées si ils existent dans toute la description sur le site directement "
   ]
  },
  {
   "cell_type": "code",
   "execution_count": 21,
   "id": "df003a75",
   "metadata": {},
   "outputs": [
    {
     "name": "stderr",
     "output_type": "stream",
     "text": [
      "Checking each project...: 100%|██████████| 110/110 [08:57<00:00,  4.89s/it]\n"
     ]
    },
    {
     "name": "stdout",
     "output_type": "stream",
     "text": [
      "✅ Results saved to projets_UKRI_with_keywords.xlsx\n"
     ]
    }
   ],
   "source": [
    "from selenium import webdriver\n",
    "from selenium.webdriver.chrome.options import Options\n",
    "from selenium.webdriver.common.by import By\n",
    "import time\n",
    "import pandas as pd\n",
    "from tqdm import tqdm\n",
    "\n",
    "\n",
    "# === Configure headless browser ===\n",
    "options = Options()\n",
    "options.add_argument(\"--headless\")\n",
    "options.add_argument(\"--disable-gpu\")\n",
    "options.add_argument(\"--window-size=1920,1080\")\n",
    "\n",
    "driver = webdriver.Chrome(options=options)\n",
    "\n",
    "# === Initialize results ===\n",
    "pertinence_list = []\n",
    "keywords_list = []\n",
    "\n",
    "# === Loop through all project URLs ===\n",
    "for url in tqdm(df[\"URL\"], desc=\"Checking each project...\"):\n",
    "    try:\n",
    "        driver.get(url)\n",
    "        time.sleep(3)\n",
    "\n",
    "        # Try to open all accordion sections if present\n",
    "        try:\n",
    "            open_all_btn = driver.find_element(By.CLASS_NAME, \"govuk-accordion__open-all\")\n",
    "            open_all_btn.click()\n",
    "            time.sleep(1)\n",
    "        except:\n",
    "            pass  # No button or already opened\n",
    "\n",
    "        # Try to find the accordion text\n",
    "        try:\n",
    "            accordion_div = driver.find_element(By.CSS_SELECTOR, \".govuk-accordion.ukri-accordion\")\n",
    "            accordion_text = accordion_div.text\n",
    "        except:\n",
    "            accordion_text = \"\"\n",
    "\n",
    "        matched_keywords = [kw for kw in all_keywords_text if kw.lower() in accordion_text.lower()]\n",
    "        pertinence = \"Yes\" if matched_keywords else \"No\"\n",
    "\n",
    "    except Exception as e:\n",
    "        print(f\"Error with URL: {url} — {e}\")\n",
    "        matched_keywords = []\n",
    "        pertinence = \"No\"\n",
    "\n",
    "    # Store results\n",
    "    pertinence_list.append(pertinence)\n",
    "    keywords_list.append(\", \".join(matched_keywords))\n",
    "\n",
    "# === Add results to DataFrame ===\n",
    "df[\"Pertinence\"] = pertinence_list\n",
    "df[\"Matching Word(s)\"] = keywords_list\n",
    "\n",
    "# === Save to Excel ===\n",
    "df.to_excel(\"projets_UKRI_with_keywords.xlsx\", index=False)\n",
    "print(\"✅ Results saved to projets_UKRI_with_keywords.xlsx\")\n",
    "\n",
    "# === Close browser ===\n",
    "driver.quit()\n"
   ]
  },
  {
   "cell_type": "code",
   "execution_count": 22,
   "id": "ff38feea",
   "metadata": {},
   "outputs": [
    {
     "data": {
      "text/html": [
       "<div>\n",
       "<style scoped>\n",
       "    .dataframe tbody tr th:only-of-type {\n",
       "        vertical-align: middle;\n",
       "    }\n",
       "\n",
       "    .dataframe tbody tr th {\n",
       "        vertical-align: top;\n",
       "    }\n",
       "\n",
       "    .dataframe thead th {\n",
       "        text-align: right;\n",
       "    }\n",
       "</style>\n",
       "<table border=\"1\" class=\"dataframe\">\n",
       "  <thead>\n",
       "    <tr style=\"text-align: right;\">\n",
       "      <th></th>\n",
       "      <th>Title</th>\n",
       "      <th>URL</th>\n",
       "      <th>Description</th>\n",
       "      <th>Start_date</th>\n",
       "      <th>Deadline</th>\n",
       "      <th>Pertinence</th>\n",
       "      <th>Matching Word(s)</th>\n",
       "    </tr>\n",
       "  </thead>\n",
       "  <tbody>\n",
       "    <tr>\n",
       "      <th>0</th>\n",
       "      <td>Contracts for Innovation: resource efficient chemicals impacts</td>\n",
       "      <td>https://www.ukri.org/opportunity/contracts-for-innovation-resource-efficient-chemicals-impacts/</td>\n",
       "      <td>Organisations can apply for a share of up to £3 million, inclusive of VAT, to develop the impact validation of a demonstrated resource efficiency solution.</td>\n",
       "      <td>14 July 2025 9:30am UK time</td>\n",
       "      <td>27 August 2025 11:00am UK time</td>\n",
       "      <td>No</td>\n",
       "      <td></td>\n",
       "    </tr>\n",
       "    <tr>\n",
       "      <th>1</th>\n",
       "      <td>Funding for core summer schools in 2026</td>\n",
       "      <td>https://www.ukri.org/opportunity/funding-for-core-summer-schools-in-2026/</td>\n",
       "      <td>Apply for funding under the STFC Funding Support for Core Summer Schools scheme for events taking place in 2026.</td>\n",
       "      <td>14 July 2025 9:00am UK time</td>\n",
       "      <td>14 October 2025 5:00pm UK time</td>\n",
       "      <td>No</td>\n",
       "      <td></td>\n",
       "    </tr>\n",
       "    <tr>\n",
       "      <th>2</th>\n",
       "      <td>Smart Data Research UK Fellowships</td>\n",
       "      <td>https://www.ukri.org/opportunity/smart-data-research-uk-fellowships/</td>\n",
       "      <td>Apply for a fellowship to undertake innovative and impact-focused research using smart data. Projects should address a significant real-world challenge which is relevant to the UK.</td>\n",
       "      <td>15 July 2025 9:00am UK time</td>\n",
       "      <td>23 September 2025 4:00pm UK time</td>\n",
       "      <td>Yes</td>\n",
       "      <td>capacity building, artificial intelligence, economic impact</td>\n",
       "    </tr>\n",
       "    <tr>\n",
       "      <th>3</th>\n",
       "      <td>Institutional diversity fund (invite only)</td>\n",
       "      <td>https://www.ukri.org/opportunity/institutional-diversity-fund-invite-only/</td>\n",
       "      <td>The purpose of this opportunity is to provide strategic research infrastructure base funding, supporting independent research organisations to support the diverse social science ecosystem in the UK.</td>\n",
       "      <td>21 July 2025 9:00am UK time</td>\n",
       "      <td>16 September 2025 4:00pm UK time</td>\n",
       "      <td>Yes</td>\n",
       "      <td>artificial intelligence</td>\n",
       "    </tr>\n",
       "    <tr>\n",
       "      <th>4</th>\n",
       "      <td>Contracts for Innovation: resource efficient automotive impacts</td>\n",
       "      <td>https://www.ukri.org/opportunity/contracts-for-innovation-resource-efficient-automotive-impacts/</td>\n",
       "      <td>Organisations can apply for a share of up to £3 million, inclusive of VAT, to develop the impact validation of a demonstrated resource efficiency solution.</td>\n",
       "      <td>14 July 2025 9:30am UK time</td>\n",
       "      <td>27 August 2025 11:00am UK time</td>\n",
       "      <td>No</td>\n",
       "      <td></td>\n",
       "    </tr>\n",
       "    <tr>\n",
       "      <th>...</th>\n",
       "      <td>...</td>\n",
       "      <td>...</td>\n",
       "      <td>...</td>\n",
       "      <td>...</td>\n",
       "      <td>...</td>\n",
       "      <td>...</td>\n",
       "      <td>...</td>\n",
       "    </tr>\n",
       "    <tr>\n",
       "      <th>105</th>\n",
       "      <td>Collaborate with researchers in Brazil</td>\n",
       "      <td>https://www.ukri.org/opportunity/collaborate-with-researchers-in-brazil/</td>\n",
       "      <td>UK Research and Innovation (UKRI) and FAPESP’s lead agency agreement allows UKRI to assess joint applications from eligible UK and Brazil-based researchers from the state of São Paulo on behalf of both organisations.</td>\n",
       "      <td>Date d'ouverture non spécifiée</td>\n",
       "      <td>Date de clôture non spécifiée</td>\n",
       "      <td>Yes</td>\n",
       "      <td>intellectual property, research results</td>\n",
       "    </tr>\n",
       "    <tr>\n",
       "      <th>106</th>\n",
       "      <td>UKRI-SBE lead agency opportunity</td>\n",
       "      <td>https://www.ukri.org/opportunity/ukri-sbe-lead-agency-opportunity/</td>\n",
       "      <td>The UKRI-SBE lead agency opportunity allows UK and US-based researchers to submit a collaborative proposal that will go through a single review process. Grants are funded through existing funding programmes at the relevant lead agency.</td>\n",
       "      <td>Date d'ouverture non spécifiée</td>\n",
       "      <td>Date de clôture non spécifiée</td>\n",
       "      <td>Yes</td>\n",
       "      <td>biotechnology</td>\n",
       "    </tr>\n",
       "    <tr>\n",
       "      <th>107</th>\n",
       "      <td>Institutional strategic developmental projects in higher education</td>\n",
       "      <td>https://www.ukri.org/opportunity/research-england-development-fund/</td>\n",
       "      <td>Apply for funding to develop institutional-level innovations in research and knowledge exchange.</td>\n",
       "      <td>Date d'ouverture non spécifiée</td>\n",
       "      <td>Date de clôture non spécifiée</td>\n",
       "      <td>Yes</td>\n",
       "      <td>capacity building, social innovation</td>\n",
       "    </tr>\n",
       "    <tr>\n",
       "      <th>108</th>\n",
       "      <td>Daphne Jackson fellowship</td>\n",
       "      <td>https://www.ukri.org/opportunity/daphne-jackson-fellowship/</td>\n",
       "      <td>These fellowships are for those looking to return to a research career after a break. Fellowships combine a personalised retraining programme with a challenging research project. They are flexible, usually lasting two years at 0.5 full-time equivalent, although some UKRI funders may award longer.</td>\n",
       "      <td>Date d'ouverture non spécifiée</td>\n",
       "      <td>Date de clôture non spécifiée</td>\n",
       "      <td>Yes</td>\n",
       "      <td>economic development</td>\n",
       "    </tr>\n",
       "    <tr>\n",
       "      <th>109</th>\n",
       "      <td>Return to research support bursary</td>\n",
       "      <td>https://www.ukri.org/opportunity/return-to-research-support-bursary/</td>\n",
       "      <td>You can apply for this bursary if you are a researcher looking to return to an academic research career after a break of two or more years.</td>\n",
       "      <td>Date d'ouverture non spécifiée</td>\n",
       "      <td>Date de clôture non spécifiée</td>\n",
       "      <td>No</td>\n",
       "      <td></td>\n",
       "    </tr>\n",
       "  </tbody>\n",
       "</table>\n",
       "<p>110 rows × 7 columns</p>\n",
       "</div>"
      ],
      "text/plain": [
       "                                                                  Title  \\\n",
       "0        Contracts for Innovation: resource efficient chemicals impacts   \n",
       "1                               Funding for core summer schools in 2026   \n",
       "2                                    Smart Data Research UK Fellowships   \n",
       "3                            Institutional diversity fund (invite only)   \n",
       "4       Contracts for Innovation: resource efficient automotive impacts   \n",
       "..                                                                  ...   \n",
       "105                              Collaborate with researchers in Brazil   \n",
       "106                                    UKRI-SBE lead agency opportunity   \n",
       "107  Institutional strategic developmental projects in higher education   \n",
       "108                                           Daphne Jackson fellowship   \n",
       "109                                  Return to research support bursary   \n",
       "\n",
       "                                                                                                  URL  \\\n",
       "0     https://www.ukri.org/opportunity/contracts-for-innovation-resource-efficient-chemicals-impacts/   \n",
       "1                           https://www.ukri.org/opportunity/funding-for-core-summer-schools-in-2026/   \n",
       "2                                https://www.ukri.org/opportunity/smart-data-research-uk-fellowships/   \n",
       "3                          https://www.ukri.org/opportunity/institutional-diversity-fund-invite-only/   \n",
       "4    https://www.ukri.org/opportunity/contracts-for-innovation-resource-efficient-automotive-impacts/   \n",
       "..                                                                                                ...   \n",
       "105                          https://www.ukri.org/opportunity/collaborate-with-researchers-in-brazil/   \n",
       "106                                https://www.ukri.org/opportunity/ukri-sbe-lead-agency-opportunity/   \n",
       "107                               https://www.ukri.org/opportunity/research-england-development-fund/   \n",
       "108                                       https://www.ukri.org/opportunity/daphne-jackson-fellowship/   \n",
       "109                              https://www.ukri.org/opportunity/return-to-research-support-bursary/   \n",
       "\n",
       "                                                                                                                                                                                                                                                                                                   Description  \\\n",
       "0                                                                                                                                                  Organisations can apply for a share of up to £3 million, inclusive of VAT, to develop the impact validation of a demonstrated resource efficiency solution.   \n",
       "1                                                                                                                                                                                             Apply for funding under the STFC Funding Support for Core Summer Schools scheme for events taking place in 2026.   \n",
       "2                                                                                                                         Apply for a fellowship to undertake innovative and impact-focused research using smart data. Projects should address a significant real-world challenge which is relevant to the UK.   \n",
       "3                                                                                                       The purpose of this opportunity is to provide strategic research infrastructure base funding, supporting independent research organisations to support the diverse social science ecosystem in the UK.   \n",
       "4                                                                                                                                                  Organisations can apply for a share of up to £3 million, inclusive of VAT, to develop the impact validation of a demonstrated resource efficiency solution.   \n",
       "..                                                                                                                                                                                                                                                                                                         ...   \n",
       "105                                                                                   UK Research and Innovation (UKRI) and FAPESP’s lead agency agreement allows UKRI to assess joint applications from eligible UK and Brazil-based researchers from the state of São Paulo on behalf of both organisations.   \n",
       "106                                                                The UKRI-SBE lead agency opportunity allows UK and US-based researchers to submit a collaborative proposal that will go through a single review process. Grants are funded through existing funding programmes at the relevant lead agency.   \n",
       "107                                                                                                                                                                                                           Apply for funding to develop institutional-level innovations in research and knowledge exchange.   \n",
       "108  These fellowships are for those looking to return to a research career after a break. Fellowships combine a personalised retraining programme with a challenging research project. They are flexible, usually lasting two years at 0.5 full-time equivalent, although some UKRI funders may award longer.   \n",
       "109                                                                                                                                                                You can apply for this bursary if you are a researcher looking to return to an academic research career after a break of two or more years.   \n",
       "\n",
       "                         Start_date                          Deadline  \\\n",
       "0       14 July 2025 9:30am UK time    27 August 2025 11:00am UK time   \n",
       "1       14 July 2025 9:00am UK time    14 October 2025 5:00pm UK time   \n",
       "2       15 July 2025 9:00am UK time  23 September 2025 4:00pm UK time   \n",
       "3       21 July 2025 9:00am UK time  16 September 2025 4:00pm UK time   \n",
       "4       14 July 2025 9:30am UK time    27 August 2025 11:00am UK time   \n",
       "..                              ...                               ...   \n",
       "105  Date d'ouverture non spécifiée     Date de clôture non spécifiée   \n",
       "106  Date d'ouverture non spécifiée     Date de clôture non spécifiée   \n",
       "107  Date d'ouverture non spécifiée     Date de clôture non spécifiée   \n",
       "108  Date d'ouverture non spécifiée     Date de clôture non spécifiée   \n",
       "109  Date d'ouverture non spécifiée     Date de clôture non spécifiée   \n",
       "\n",
       "    Pertinence                                             Matching Word(s)  \n",
       "0           No                                                               \n",
       "1           No                                                               \n",
       "2          Yes  capacity building, artificial intelligence, economic impact  \n",
       "3          Yes                                      artificial intelligence  \n",
       "4           No                                                               \n",
       "..         ...                                                          ...  \n",
       "105        Yes                      intellectual property, research results  \n",
       "106        Yes                                                biotechnology  \n",
       "107        Yes                         capacity building, social innovation  \n",
       "108        Yes                                         economic development  \n",
       "109         No                                                               \n",
       "\n",
       "[110 rows x 7 columns]"
      ]
     },
     "execution_count": 22,
     "metadata": {},
     "output_type": "execute_result"
    }
   ],
   "source": [
    "df"
   ]
  },
  {
   "cell_type": "code",
   "execution_count": 28,
   "id": "fd5866fc",
   "metadata": {},
   "outputs": [
    {
     "data": {
      "text/html": [
       "<div>\n",
       "<style scoped>\n",
       "    .dataframe tbody tr th:only-of-type {\n",
       "        vertical-align: middle;\n",
       "    }\n",
       "\n",
       "    .dataframe tbody tr th {\n",
       "        vertical-align: top;\n",
       "    }\n",
       "\n",
       "    .dataframe thead th {\n",
       "        text-align: right;\n",
       "    }\n",
       "</style>\n",
       "<table border=\"1\" class=\"dataframe\">\n",
       "  <thead>\n",
       "    <tr style=\"text-align: right;\">\n",
       "      <th></th>\n",
       "      <th>Title</th>\n",
       "      <th>URL</th>\n",
       "      <th>Description</th>\n",
       "      <th>Start_date</th>\n",
       "      <th>Deadline</th>\n",
       "      <th>Pertinence</th>\n",
       "      <th>Matching Word(s)</th>\n",
       "    </tr>\n",
       "  </thead>\n",
       "  <tbody>\n",
       "    <tr>\n",
       "      <th>2</th>\n",
       "      <td>Smart Data Research UK Fellowships</td>\n",
       "      <td>https://www.ukri.org/opportunity/smart-data-research-uk-fellowships/</td>\n",
       "      <td>Apply for a fellowship to undertake innovative and impact-focused research using smart data. Projects should address a significant real-world challenge which is relevant to the UK.</td>\n",
       "      <td>15 July 2025 9:00am UK time</td>\n",
       "      <td>23 September 2025 4:00pm UK time</td>\n",
       "      <td>Yes</td>\n",
       "      <td>capacity building, artificial intelligence, economic impact</td>\n",
       "    </tr>\n",
       "    <tr>\n",
       "      <th>3</th>\n",
       "      <td>Institutional diversity fund (invite only)</td>\n",
       "      <td>https://www.ukri.org/opportunity/institutional-diversity-fund-invite-only/</td>\n",
       "      <td>The purpose of this opportunity is to provide strategic research infrastructure base funding, supporting independent research organisations to support the diverse social science ecosystem in the UK.</td>\n",
       "      <td>21 July 2025 9:00am UK time</td>\n",
       "      <td>16 September 2025 4:00pm UK time</td>\n",
       "      <td>Yes</td>\n",
       "      <td>artificial intelligence</td>\n",
       "    </tr>\n",
       "    <tr>\n",
       "      <th>5</th>\n",
       "      <td>Gap fund for early-stage development of new healthcare interventions</td>\n",
       "      <td>https://www.ukri.org/opportunity/funding-for-early-stage-development-of-new-healthcare-interventions/</td>\n",
       "      <td>Apply to the Developmental Pathway Gap Fund to address a single-step evidence gap and de-risk the development of a new medicine, medical device, diagnostic test or other medical intervention.</td>\n",
       "      <td>10 July 2025 9:00am UK time</td>\n",
       "      <td>12 November 2025 4:00pm UK time</td>\n",
       "      <td>Yes</td>\n",
       "      <td>due diligence, development strategy, technology transfer, intellectual property, service delivery, artificial intelligence, applied research</td>\n",
       "    </tr>\n",
       "    <tr>\n",
       "      <th>7</th>\n",
       "      <td>Digitise UK natural science collections</td>\n",
       "      <td>https://www.ukri.org/opportunity/digitise-uk-natural-science-collections/</td>\n",
       "      <td>Apply for funding to establish a Digitisation Hub for Natural Science Collections as part of the Distributed System of Scientific Collections (DiSSCo) UK programme.</td>\n",
       "      <td>8 July 2025 9:00am UK time</td>\n",
       "      <td>16 September 2025 4:00pm UK time</td>\n",
       "      <td>Yes</td>\n",
       "      <td>capacity building, project management, due diligence, artificial intelligence</td>\n",
       "    </tr>\n",
       "    <tr>\n",
       "      <th>10</th>\n",
       "      <td>Aviation’s non-CO2 Impacts on the Climate: programme coordinator</td>\n",
       "      <td>https://www.ukri.org/opportunity/aviations-non-co2-impacts-on-the-climate-programme-coordinator/</td>\n",
       "      <td>Apply for funding to become the programme coordinator for the Aviation’s non-CO2 Impacts on the Climate programme.</td>\n",
       "      <td>11 July 2025 9:00am UK time</td>\n",
       "      <td>18 September 2025 4:00pm UK time</td>\n",
       "      <td>Yes</td>\n",
       "      <td>due diligence, monitoring and evaluation, stakeholder mapping, artificial intelligence, applied research</td>\n",
       "    </tr>\n",
       "    <tr>\n",
       "      <th>...</th>\n",
       "      <td>...</td>\n",
       "      <td>...</td>\n",
       "      <td>...</td>\n",
       "      <td>...</td>\n",
       "      <td>...</td>\n",
       "      <td>...</td>\n",
       "      <td>...</td>\n",
       "    </tr>\n",
       "    <tr>\n",
       "      <th>103</th>\n",
       "      <td>Work with Brazilian researchers: NERC FAPESP lead agency</td>\n",
       "      <td>https://www.ukri.org/opportunity/work-with-brazilian-researchers-nerc-fapesp-lead-agency/</td>\n",
       "      <td>This opportunity allows UK-based researchers and researchers in the State of São Paulo, Brazil to submit a collaborative application under existing NERC funding opportunities. This will go through a single review process.</td>\n",
       "      <td>Date d'ouverture non spécifiée</td>\n",
       "      <td>Date de clôture non spécifiée</td>\n",
       "      <td>Yes</td>\n",
       "      <td>intellectual property, research results</td>\n",
       "    </tr>\n",
       "    <tr>\n",
       "      <th>105</th>\n",
       "      <td>Collaborate with researchers in Brazil</td>\n",
       "      <td>https://www.ukri.org/opportunity/collaborate-with-researchers-in-brazil/</td>\n",
       "      <td>UK Research and Innovation (UKRI) and FAPESP’s lead agency agreement allows UKRI to assess joint applications from eligible UK and Brazil-based researchers from the state of São Paulo on behalf of both organisations.</td>\n",
       "      <td>Date d'ouverture non spécifiée</td>\n",
       "      <td>Date de clôture non spécifiée</td>\n",
       "      <td>Yes</td>\n",
       "      <td>intellectual property, research results</td>\n",
       "    </tr>\n",
       "    <tr>\n",
       "      <th>106</th>\n",
       "      <td>UKRI-SBE lead agency opportunity</td>\n",
       "      <td>https://www.ukri.org/opportunity/ukri-sbe-lead-agency-opportunity/</td>\n",
       "      <td>The UKRI-SBE lead agency opportunity allows UK and US-based researchers to submit a collaborative proposal that will go through a single review process. Grants are funded through existing funding programmes at the relevant lead agency.</td>\n",
       "      <td>Date d'ouverture non spécifiée</td>\n",
       "      <td>Date de clôture non spécifiée</td>\n",
       "      <td>Yes</td>\n",
       "      <td>biotechnology</td>\n",
       "    </tr>\n",
       "    <tr>\n",
       "      <th>107</th>\n",
       "      <td>Institutional strategic developmental projects in higher education</td>\n",
       "      <td>https://www.ukri.org/opportunity/research-england-development-fund/</td>\n",
       "      <td>Apply for funding to develop institutional-level innovations in research and knowledge exchange.</td>\n",
       "      <td>Date d'ouverture non spécifiée</td>\n",
       "      <td>Date de clôture non spécifiée</td>\n",
       "      <td>Yes</td>\n",
       "      <td>capacity building, social innovation</td>\n",
       "    </tr>\n",
       "    <tr>\n",
       "      <th>108</th>\n",
       "      <td>Daphne Jackson fellowship</td>\n",
       "      <td>https://www.ukri.org/opportunity/daphne-jackson-fellowship/</td>\n",
       "      <td>These fellowships are for those looking to return to a research career after a break. Fellowships combine a personalised retraining programme with a challenging research project. They are flexible, usually lasting two years at 0.5 full-time equivalent, although some UKRI funders may award longer.</td>\n",
       "      <td>Date d'ouverture non spécifiée</td>\n",
       "      <td>Date de clôture non spécifiée</td>\n",
       "      <td>Yes</td>\n",
       "      <td>economic development</td>\n",
       "    </tr>\n",
       "  </tbody>\n",
       "</table>\n",
       "<p>90 rows × 7 columns</p>\n",
       "</div>"
      ],
      "text/plain": [
       "                                                                    Title  \\\n",
       "2                                      Smart Data Research UK Fellowships   \n",
       "3                              Institutional diversity fund (invite only)   \n",
       "5    Gap fund for early-stage development of new healthcare interventions   \n",
       "7                                 Digitise UK natural science collections   \n",
       "10       Aviation’s non-CO2 Impacts on the Climate: programme coordinator   \n",
       "..                                                                    ...   \n",
       "103              Work with Brazilian researchers: NERC FAPESP lead agency   \n",
       "105                                Collaborate with researchers in Brazil   \n",
       "106                                      UKRI-SBE lead agency opportunity   \n",
       "107    Institutional strategic developmental projects in higher education   \n",
       "108                                             Daphne Jackson fellowship   \n",
       "\n",
       "                                                                                                       URL  \\\n",
       "2                                     https://www.ukri.org/opportunity/smart-data-research-uk-fellowships/   \n",
       "3                               https://www.ukri.org/opportunity/institutional-diversity-fund-invite-only/   \n",
       "5    https://www.ukri.org/opportunity/funding-for-early-stage-development-of-new-healthcare-interventions/   \n",
       "7                                https://www.ukri.org/opportunity/digitise-uk-natural-science-collections/   \n",
       "10        https://www.ukri.org/opportunity/aviations-non-co2-impacts-on-the-climate-programme-coordinator/   \n",
       "..                                                                                                     ...   \n",
       "103              https://www.ukri.org/opportunity/work-with-brazilian-researchers-nerc-fapesp-lead-agency/   \n",
       "105                               https://www.ukri.org/opportunity/collaborate-with-researchers-in-brazil/   \n",
       "106                                     https://www.ukri.org/opportunity/ukri-sbe-lead-agency-opportunity/   \n",
       "107                                    https://www.ukri.org/opportunity/research-england-development-fund/   \n",
       "108                                            https://www.ukri.org/opportunity/daphne-jackson-fellowship/   \n",
       "\n",
       "                                                                                                                                                                                                                                                                                                   Description  \\\n",
       "2                                                                                                                         Apply for a fellowship to undertake innovative and impact-focused research using smart data. Projects should address a significant real-world challenge which is relevant to the UK.   \n",
       "3                                                                                                       The purpose of this opportunity is to provide strategic research infrastructure base funding, supporting independent research organisations to support the diverse social science ecosystem in the UK.   \n",
       "5                                                                                                              Apply to the Developmental Pathway Gap Fund to address a single-step evidence gap and de-risk the development of a new medicine, medical device, diagnostic test or other medical intervention.   \n",
       "7                                                                                                                                         Apply for funding to establish a Digitisation Hub for Natural Science Collections as part of the Distributed System of Scientific Collections (DiSSCo) UK programme.   \n",
       "10                                                                                                                                                                                          Apply for funding to become the programme coordinator for the Aviation’s non-CO2 Impacts on the Climate programme.   \n",
       "..                                                                                                                                                                                                                                                                                                         ...   \n",
       "103                                                                              This opportunity allows UK-based researchers and researchers in the State of São Paulo, Brazil to submit a collaborative application under existing NERC funding opportunities. This will go through a single review process.   \n",
       "105                                                                                   UK Research and Innovation (UKRI) and FAPESP’s lead agency agreement allows UKRI to assess joint applications from eligible UK and Brazil-based researchers from the state of São Paulo on behalf of both organisations.   \n",
       "106                                                                The UKRI-SBE lead agency opportunity allows UK and US-based researchers to submit a collaborative proposal that will go through a single review process. Grants are funded through existing funding programmes at the relevant lead agency.   \n",
       "107                                                                                                                                                                                                           Apply for funding to develop institutional-level innovations in research and knowledge exchange.   \n",
       "108  These fellowships are for those looking to return to a research career after a break. Fellowships combine a personalised retraining programme with a challenging research project. They are flexible, usually lasting two years at 0.5 full-time equivalent, although some UKRI funders may award longer.   \n",
       "\n",
       "                         Start_date                          Deadline  \\\n",
       "2       15 July 2025 9:00am UK time  23 September 2025 4:00pm UK time   \n",
       "3       21 July 2025 9:00am UK time  16 September 2025 4:00pm UK time   \n",
       "5       10 July 2025 9:00am UK time   12 November 2025 4:00pm UK time   \n",
       "7        8 July 2025 9:00am UK time  16 September 2025 4:00pm UK time   \n",
       "10      11 July 2025 9:00am UK time  18 September 2025 4:00pm UK time   \n",
       "..                              ...                               ...   \n",
       "103  Date d'ouverture non spécifiée     Date de clôture non spécifiée   \n",
       "105  Date d'ouverture non spécifiée     Date de clôture non spécifiée   \n",
       "106  Date d'ouverture non spécifiée     Date de clôture non spécifiée   \n",
       "107  Date d'ouverture non spécifiée     Date de clôture non spécifiée   \n",
       "108  Date d'ouverture non spécifiée     Date de clôture non spécifiée   \n",
       "\n",
       "    Pertinence  \\\n",
       "2          Yes   \n",
       "3          Yes   \n",
       "5          Yes   \n",
       "7          Yes   \n",
       "10         Yes   \n",
       "..         ...   \n",
       "103        Yes   \n",
       "105        Yes   \n",
       "106        Yes   \n",
       "107        Yes   \n",
       "108        Yes   \n",
       "\n",
       "                                                                                                                                 Matching Word(s)  \n",
       "2                                                                                     capacity building, artificial intelligence, economic impact  \n",
       "3                                                                                                                         artificial intelligence  \n",
       "5    due diligence, development strategy, technology transfer, intellectual property, service delivery, artificial intelligence, applied research  \n",
       "7                                                                   capacity building, project management, due diligence, artificial intelligence  \n",
       "10                                       due diligence, monitoring and evaluation, stakeholder mapping, artificial intelligence, applied research  \n",
       "..                                                                                                                                            ...  \n",
       "103                                                                                                       intellectual property, research results  \n",
       "105                                                                                                       intellectual property, research results  \n",
       "106                                                                                                                                 biotechnology  \n",
       "107                                                                                                          capacity building, social innovation  \n",
       "108                                                                                                                          economic development  \n",
       "\n",
       "[90 rows x 7 columns]"
      ]
     },
     "execution_count": 28,
     "metadata": {},
     "output_type": "execute_result"
    }
   ],
   "source": [
    "df_pertinence_uk= df[df[\"Pertinence\"] == \"Yes\"]\n",
    "df_pertinence_uk"
   ]
  },
  {
   "cell_type": "code",
   "execution_count": 29,
   "id": "2531e784",
   "metadata": {},
   "outputs": [],
   "source": [
    "df_pertinence_uk.to_excel(\"projets_pertinents_keywords_InnUK_from_all_description.xlsx\", index=False)"
   ]
  },
  {
   "cell_type": "code",
   "execution_count": 30,
   "id": "bfa7c194",
   "metadata": {},
   "outputs": [],
   "source": [
    "import pandas as pd\n",
    "\n",
    "# Données extraites\n",
    "data = [\n",
    "    {\n",
    "        \"Project Name\": \"FACTORIAT\",\n",
    "        \"Description\": \"Support Deeptech & Hardware startups in prototyping and tech maturation with technical and financial help.\",\n",
    "        \"Period\": \"2022–2023\",\n",
    "        \"Axes / Thematic Areas\": \"Deeptech, Hardware, Incubation, Prototyping, Acceleration\",\n",
    "        \"Region\": \"Tunisia\",\n",
    "        \"Partners / Funders\": \"Industrial partners, ODF network\",\n",
    "        \"Key Figures / Impact\": \"7 prototypes, 4 pre-industrial units\"\n",
    "    },\n",
    "    {\n",
    "        \"Project Name\": \"National Entrepreneurship Program\",\n",
    "        \"Description\": \"Design and implementation of Lesotho's national entrepreneurship ecosystem.\",\n",
    "        \"Period\": \"2022–2025\",\n",
    "        \"Axes / Thematic Areas\": \"Capacity building, Strategy, Startup Ecosystem\",\n",
    "        \"Region\": \"Lesotho\",\n",
    "        \"Partners / Funders\": \"Local government, ODF\",\n",
    "        \"Key Figures / Impact\": \"500 entrepreneurs, 15 ESOs supported\"\n",
    "    },\n",
    "    {\n",
    "        \"Project Name\": \"Arab Bank Strategy\",\n",
    "        \"Description\": \"Develop funding & partnership strategy for African digital economy projects.\",\n",
    "        \"Period\": \"N/A\",\n",
    "        \"Axes / Thematic Areas\": \"Digital Economy, Strategic Development, Financing\",\n",
    "        \"Region\": \"Sub-Saharan Africa\",\n",
    "        \"Partners / Funders\": \"Arab Bank for Economic Development in Africa\",\n",
    "        \"Key Figures / Impact\": \"Strategy developed\"\n",
    "    },\n",
    "    {\n",
    "        \"Project Name\": \"World Bank Collaboration\",\n",
    "        \"Description\": \"Develop startup ecosystem in 5 Southern African countries including Lesotho.\",\n",
    "        \"Period\": \"2020–2022\",\n",
    "        \"Axes / Thematic Areas\": \"Startup Ecosystem, Digital Economy, Entrepreneurship\",\n",
    "        \"Region\": \"Southern Africa\",\n",
    "        \"Partners / Funders\": \"World Bank\",\n",
    "        \"Key Figures / Impact\": \"SA, Lesotho, Namibia, Botswana, Eswatini\"\n",
    "    },\n",
    "    {\n",
    "        \"Project Name\": \"MDBAN – Business Angels Network\",\n",
    "        \"Description\": \"Support early-stage Maghreb startups via diaspora angel investment.\",\n",
    "        \"Period\": \"2021–Present\",\n",
    "        \"Axes / Thematic Areas\": \"Startup Support, Investment, Diaspora Engagement\",\n",
    "        \"Region\": \"MENA, Diaspora\",\n",
    "        \"Partners / Funders\": \"MDBAN, ODF\",\n",
    "        \"Key Figures / Impact\": \"56 startups financed, 33 angels\"\n",
    "    },\n",
    "    {\n",
    "        \"Project Name\": \"BIATLABS\",\n",
    "        \"Description\": \"Incubation program by BIAT Bank, run by ODF.\",\n",
    "        \"Period\": \"2016–2018\",\n",
    "        \"Axes / Thematic Areas\": \"Startup Incubation, Early-Stage Innovation\",\n",
    "        \"Region\": \"Tunisia\",\n",
    "        \"Partners / Funders\": \"BIAT (Private Bank)\",\n",
    "        \"Key Figures / Impact\": \"4 cohorts, 45 startups, 15 labeled, 6 funded\"\n",
    "    },\n",
    "    {\n",
    "        \"Project Name\": \"TECHNORIAT PPP Program\",\n",
    "        \"Description\": \"Bridge research & entrepreneurship via incubation/acceleration of researchers.\",\n",
    "        \"Period\": \"2021–2023\",\n",
    "        \"Axes / Thematic Areas\": \"Scientific Research, Deeptech, Acceleration, Entrepreneurship\",\n",
    "        \"Region\": \"Tunisia\",\n",
    "        \"Partners / Funders\": \"TECHNORIAT, PPP\",\n",
    "        \"Key Figures / Impact\": \"800 sensitized, 136 preselected, 13 incubated, 8 accelerated\"\n",
    "    },\n",
    "    {\n",
    "        \"Project Name\": \"ABI – Applied Biotech & Innovation\",\n",
    "        \"Description\": \"Turn biotech discoveries into marketable solutions with IP licensing model.\",\n",
    "        \"Period\": \"N/A\",\n",
    "        \"Axes / Thematic Areas\": \"Biotech, One Health, IP Licensing, Innovation\",\n",
    "        \"Region\": \"N/A\",\n",
    "        \"Partners / Funders\": \"ODF internal program\",\n",
    "        \"Key Figures / Impact\": \"IP Model: License IN → Maturation → License OUT\"\n",
    "    }\n",
    "]\n",
    "\n",
    "# Création du DataFrame\n",
    "odf_df = pd.DataFrame(data)\n",
    "\n"
   ]
  },
  {
   "cell_type": "code",
   "execution_count": null,
   "id": "e30f0df5",
   "metadata": {},
   "outputs": [
    {
     "name": "stderr",
     "output_type": "stream",
     "text": [
      "🔍 Analyse des URLs:   0%|          | 0/90 [00:00<?, ?it/s]"
     ]
    },
    {
     "name": "stdout",
     "output_type": "stream",
     "text": [
      "🟡 Analyse en cours : https://www.ukri.org/opportunity/smart-data-research-uk-fellowships/\n"
     ]
    },
    {
     "name": "stderr",
     "output_type": "stream",
     "text": [
      "🔍 Analyse des URLs:   1%|          | 1/90 [00:31<47:08, 31.79s/it]"
     ]
    },
    {
     "name": "stdout",
     "output_type": "stream",
     "text": [
      "🟡 Analyse en cours : https://www.ukri.org/opportunity/institutional-diversity-fund-invite-only/\n"
     ]
    },
    {
     "name": "stderr",
     "output_type": "stream",
     "text": [
      "🔍 Analyse des URLs:   2%|▏         | 2/90 [00:56<40:14, 27.44s/it]"
     ]
    },
    {
     "name": "stdout",
     "output_type": "stream",
     "text": [
      "🟡 Analyse en cours : https://www.ukri.org/opportunity/funding-for-early-stage-development-of-new-healthcare-interventions/\n"
     ]
    },
    {
     "name": "stderr",
     "output_type": "stream",
     "text": [
      "🔍 Analyse des URLs:   3%|▎         | 3/90 [01:19<37:18, 25.73s/it]"
     ]
    },
    {
     "name": "stdout",
     "output_type": "stream",
     "text": [
      "🟡 Analyse en cours : https://www.ukri.org/opportunity/digitise-uk-natural-science-collections/\n"
     ]
    },
    {
     "name": "stderr",
     "output_type": "stream",
     "text": [
      "🔍 Analyse des URLs:   4%|▍         | 4/90 [01:44<36:09, 25.22s/it]"
     ]
    },
    {
     "name": "stdout",
     "output_type": "stream",
     "text": [
      "🟡 Analyse en cours : https://www.ukri.org/opportunity/aviations-non-co2-impacts-on-the-climate-programme-coordinator/\n"
     ]
    },
    {
     "name": "stderr",
     "output_type": "stream",
     "text": [
      "🔍 Analyse des URLs:   6%|▌         | 5/90 [02:08<35:06, 24.78s/it]"
     ]
    },
    {
     "name": "stdout",
     "output_type": "stream",
     "text": [
      "🟡 Analyse en cours : https://www.ukri.org/opportunity/research-and-partnership-hubs-for-a-healthy-society/\n"
     ]
    },
    {
     "name": "stderr",
     "output_type": "stream",
     "text": [
      "🔍 Analyse des URLs:   7%|▋         | 6/90 [02:32<34:18, 24.51s/it]"
     ]
    },
    {
     "name": "stdout",
     "output_type": "stream",
     "text": [
      "🟡 Analyse en cours : https://www.ukri.org/opportunity/stfc-leadership-fellowships-in-public-engagement/\n"
     ]
    },
    {
     "name": "stderr",
     "output_type": "stream",
     "text": [
      "🔍 Analyse des URLs:   8%|▊         | 7/90 [02:55<33:27, 24.19s/it]"
     ]
    },
    {
     "name": "stdout",
     "output_type": "stream",
     "text": [
      "🟡 Analyse en cours : https://www.ukri.org/opportunity/computing-resources-on-the-stfc-dirac-hpc-facility-rac18/\n"
     ]
    },
    {
     "name": "stderr",
     "output_type": "stream",
     "text": [
      "🔍 Analyse des URLs:   9%|▉         | 8/90 [03:19<32:48, 24.00s/it]"
     ]
    },
    {
     "name": "stdout",
     "output_type": "stream",
     "text": [
      "🟡 Analyse en cours : https://www.ukri.org/opportunity/experimental-medicine-invited-stage-two-application/\n"
     ]
    },
    {
     "name": "stderr",
     "output_type": "stream",
     "text": [
      "🔍 Analyse des URLs:  10%|█         | 9/90 [03:43<32:16, 23.90s/it]"
     ]
    },
    {
     "name": "stdout",
     "output_type": "stream",
     "text": [
      "🟡 Analyse en cours : https://www.ukri.org/opportunity/us-uk-and-germany-uk-collaborative-research-seed-funding-in-semiconductor-security/\n"
     ]
    },
    {
     "name": "stderr",
     "output_type": "stream",
     "text": [
      "🔍 Analyse des URLs:  11%|█         | 10/90 [04:06<31:47, 23.84s/it]"
     ]
    },
    {
     "name": "stdout",
     "output_type": "stream",
     "text": [
      "🟡 Analyse en cours : https://www.ukri.org/opportunity/biological-influence-on-ocean-carbon-novel-modelling-approaches/\n"
     ]
    },
    {
     "name": "stderr",
     "output_type": "stream",
     "text": [
      "🔍 Analyse des URLs:  12%|█▏        | 11/90 [04:31<31:50, 24.19s/it]"
     ]
    },
    {
     "name": "stdout",
     "output_type": "stream",
     "text": [
      "🟡 Analyse en cours : https://www.ukri.org/opportunity/ukri-gambling-harms-research-coordination-centre-ghrcc/\n"
     ]
    },
    {
     "name": "stderr",
     "output_type": "stream",
     "text": [
      "🔍 Analyse des URLs:  13%|█▎        | 12/90 [04:55<31:20, 24.11s/it]"
     ]
    },
    {
     "name": "stdout",
     "output_type": "stream",
     "text": [
      "🟡 Analyse en cours : https://www.ukri.org/opportunity/gambling-harms-research-and-innovation-partnerships/\n"
     ]
    },
    {
     "name": "stderr",
     "output_type": "stream",
     "text": [
      "🔍 Analyse des URLs:  14%|█▍        | 13/90 [05:20<31:14, 24.34s/it]"
     ]
    },
    {
     "name": "stdout",
     "output_type": "stream",
     "text": [
      "🟡 Analyse en cours : https://www.ukri.org/opportunity/multiple-model-assessment-of-biological-influence-on-ocean-carbon/\n"
     ]
    },
    {
     "name": "stderr",
     "output_type": "stream",
     "text": [
      "🔍 Analyse des URLs:  16%|█▌        | 14/90 [05:46<31:18, 24.72s/it]"
     ]
    },
    {
     "name": "stdout",
     "output_type": "stream",
     "text": [
      "🟡 Analyse en cours : https://www.ukri.org/opportunity/transdisciplinary-research-to-tackle-antimicrobial-resistance-full-application/\n"
     ]
    },
    {
     "name": "stderr",
     "output_type": "stream",
     "text": [
      "🔍 Analyse des URLs:  17%|█▋        | 15/90 [06:10<30:42, 24.57s/it]"
     ]
    },
    {
     "name": "stdout",
     "output_type": "stream",
     "text": [
      "🟡 Analyse en cours : https://www.ukri.org/opportunity/canada-uk-networkplus-in-semiconductor-research/\n"
     ]
    },
    {
     "name": "stderr",
     "output_type": "stream",
     "text": [
      "🔍 Analyse des URLs:  18%|█▊        | 16/90 [06:36<30:42, 24.90s/it]"
     ]
    },
    {
     "name": "stdout",
     "output_type": "stream",
     "text": [
      "🟡 Analyse en cours : https://www.ukri.org/opportunity/uk-international-ocean-drilling-programme-moratorium-awards/\n"
     ]
    },
    {
     "name": "stderr",
     "output_type": "stream",
     "text": [
      "🔍 Analyse des URLs:  19%|█▉        | 17/90 [07:01<30:38, 25.18s/it]"
     ]
    },
    {
     "name": "stdout",
     "output_type": "stream",
     "text": [
      "🟡 Analyse en cours : https://www.ukri.org/opportunity/health-technologies-connectivity-awards-round-two/\n"
     ]
    },
    {
     "name": "stderr",
     "output_type": "stream",
     "text": [
      "🔍 Analyse des URLs:  20%|██        | 18/90 [07:25<29:38, 24.70s/it]"
     ]
    },
    {
     "name": "stdout",
     "output_type": "stream",
     "text": [
      "🟡 Analyse en cours : https://www.ukri.org/opportunity/clinician-scientist-fellowship/\n"
     ]
    },
    {
     "name": "stderr",
     "output_type": "stream",
     "text": [
      "🔍 Analyse des URLs:  21%|██        | 19/90 [07:50<29:11, 24.67s/it]"
     ]
    },
    {
     "name": "stdout",
     "output_type": "stream",
     "text": [
      "🟡 Analyse en cours : https://www.ukri.org/opportunity/pre-doctoral-clinical-research-training-fellowship/\n"
     ]
    },
    {
     "name": "stderr",
     "output_type": "stream",
     "text": [
      "🔍 Analyse des URLs:  22%|██▏       | 20/90 [08:15<28:52, 24.75s/it]"
     ]
    },
    {
     "name": "stdout",
     "output_type": "stream",
     "text": [
      "🟡 Analyse en cours : https://www.ukri.org/opportunity/post-doctoral-clinical-research-training-fellowship/\n"
     ]
    },
    {
     "name": "stderr",
     "output_type": "stream",
     "text": [
      "🔍 Analyse des URLs:  23%|██▎       | 21/90 [08:40<28:45, 25.01s/it]"
     ]
    },
    {
     "name": "stdout",
     "output_type": "stream",
     "text": [
      "🟡 Analyse en cours : https://www.ukri.org/opportunity/engineer-next-generation-veterinary-vaccine-technology-platforms/\n"
     ]
    },
    {
     "name": "stderr",
     "output_type": "stream",
     "text": [
      "🔍 Analyse des URLs:  24%|██▍       | 22/90 [09:05<28:10, 24.86s/it]"
     ]
    },
    {
     "name": "stdout",
     "output_type": "stream",
     "text": [
      "🟡 Analyse en cours : https://www.ukri.org/opportunity/strategic-infrastructure-for-engineering-and-physical-sciences-june-2025/\n"
     ]
    },
    {
     "name": "stderr",
     "output_type": "stream",
     "text": [
      "🔍 Analyse des URLs:  26%|██▌       | 23/90 [09:28<27:24, 24.54s/it]"
     ]
    },
    {
     "name": "stdout",
     "output_type": "stream",
     "text": [
      "🟡 Analyse en cours : https://www.ukri.org/opportunity/ernest-rutherford-fellowship-2025/\n"
     ]
    },
    {
     "name": "stderr",
     "output_type": "stream",
     "text": [
      "🔍 Analyse des URLs:  27%|██▋       | 24/90 [09:52<26:45, 24.32s/it]"
     ]
    },
    {
     "name": "stdout",
     "output_type": "stream",
     "text": [
      "🟡 Analyse en cours : https://www.ukri.org/opportunity/research-to-advance-uk-recycling-capabilities-full-stage/\n"
     ]
    },
    {
     "name": "stderr",
     "output_type": "stream",
     "text": [
      "🔍 Analyse des URLs:  28%|██▊       | 25/90 [10:16<26:10, 24.16s/it]"
     ]
    },
    {
     "name": "stdout",
     "output_type": "stream",
     "text": [
      "🟡 Analyse en cours : https://www.ukri.org/opportunity/sandpit-moving-respiratory-health-diagnosis-into-the-21st-century-invite-only/\n"
     ]
    },
    {
     "name": "stderr",
     "output_type": "stream",
     "text": [
      "🔍 Analyse des URLs:  29%|██▉       | 26/90 [10:39<25:31, 23.93s/it]"
     ]
    },
    {
     "name": "stdout",
     "output_type": "stream",
     "text": [
      "🟡 Analyse en cours : https://www.ukri.org/opportunity/mrc-centre-of-research-excellence-round-three/\n"
     ]
    },
    {
     "name": "stderr",
     "output_type": "stream",
     "text": [
      "🔍 Analyse des URLs:  30%|███       | 27/90 [11:06<26:02, 24.81s/it]"
     ]
    },
    {
     "name": "stdout",
     "output_type": "stream",
     "text": [
      "🟡 Analyse en cours : https://www.ukri.org/opportunity/responsive-mode-partnership/\n"
     ]
    },
    {
     "name": "stderr",
     "output_type": "stream",
     "text": [
      "🔍 Analyse des URLs:  31%|███       | 28/90 [11:30<25:19, 24.51s/it]"
     ]
    },
    {
     "name": "stdout",
     "output_type": "stream",
     "text": [
      "🟡 Analyse en cours : https://www.ukri.org/opportunity/infections-and-immunity-programme/\n"
     ]
    },
    {
     "name": "stderr",
     "output_type": "stream",
     "text": [
      "🔍 Analyse des URLs:  32%|███▏      | 29/90 [11:54<24:37, 24.22s/it]"
     ]
    },
    {
     "name": "stdout",
     "output_type": "stream",
     "text": [
      "🟡 Analyse en cours : https://www.ukri.org/opportunity/neurosciences-and-mental-health-programme/\n"
     ]
    },
    {
     "name": "stderr",
     "output_type": "stream",
     "text": [
      "🔍 Analyse des URLs:  33%|███▎      | 30/90 [12:17<24:04, 24.08s/it]"
     ]
    },
    {
     "name": "stdout",
     "output_type": "stream",
     "text": [
      "🟡 Analyse en cours : https://www.ukri.org/opportunity/population-and-systems-medicine-programme/\n"
     ]
    },
    {
     "name": "stderr",
     "output_type": "stream",
     "text": [
      "🔍 Analyse des URLs:  34%|███▍      | 31/90 [12:41<23:36, 24.01s/it]"
     ]
    },
    {
     "name": "stdout",
     "output_type": "stream",
     "text": [
      "🟡 Analyse en cours : https://www.ukri.org/opportunity/molecular-and-cellular-medicine-programme/\n"
     ]
    },
    {
     "name": "stderr",
     "output_type": "stream",
     "text": [
      "🔍 Analyse des URLs:  36%|███▌      | 32/90 [13:05<23:02, 23.84s/it]"
     ]
    },
    {
     "name": "stdout",
     "output_type": "stream",
     "text": [
      "🟡 Analyse en cours : https://www.ukri.org/opportunity/molecular-and-cellular-medicine-new-investigator/\n"
     ]
    },
    {
     "name": "stderr",
     "output_type": "stream",
     "text": [
      "🔍 Analyse des URLs:  37%|███▋      | 33/90 [13:28<22:36, 23.80s/it]"
     ]
    },
    {
     "name": "stdout",
     "output_type": "stream",
     "text": [
      "🟡 Analyse en cours : https://www.ukri.org/opportunity/neurosciences-and-mental-health-new-investigator/\n"
     ]
    },
    {
     "name": "stderr",
     "output_type": "stream",
     "text": [
      "🔍 Analyse des URLs:  38%|███▊      | 34/90 [13:52<22:11, 23.78s/it]"
     ]
    },
    {
     "name": "stdout",
     "output_type": "stream",
     "text": [
      "🟡 Analyse en cours : https://www.ukri.org/opportunity/infections-and-immunity-new-investigator/\n"
     ]
    },
    {
     "name": "stderr",
     "output_type": "stream",
     "text": [
      "🔍 Analyse des URLs:  39%|███▉      | 35/90 [14:16<21:47, 23.78s/it]"
     ]
    },
    {
     "name": "stdout",
     "output_type": "stream",
     "text": [
      "🟡 Analyse en cours : https://www.ukri.org/opportunity/population-and-systems-medicine-new-investigator/\n"
     ]
    },
    {
     "name": "stderr",
     "output_type": "stream",
     "text": [
      "🔍 Analyse des URLs:  40%|████      | 36/90 [14:39<21:19, 23.69s/it]"
     ]
    },
    {
     "name": "stdout",
     "output_type": "stream",
     "text": [
      "🟡 Analyse en cours : https://www.ukri.org/opportunity/neurosciences-and-mental-health-research/\n"
     ]
    },
    {
     "name": "stderr",
     "output_type": "stream",
     "text": [
      "🔍 Analyse des URLs:  41%|████      | 37/90 [15:03<20:55, 23.68s/it]"
     ]
    },
    {
     "name": "stdout",
     "output_type": "stream",
     "text": [
      "🟡 Analyse en cours : https://www.ukri.org/opportunity/population-and-systems-medicine-research/\n"
     ]
    },
    {
     "name": "stderr",
     "output_type": "stream",
     "text": [
      "🔍 Analyse des URLs:  42%|████▏     | 38/90 [15:27<20:32, 23.71s/it]"
     ]
    },
    {
     "name": "stdout",
     "output_type": "stream",
     "text": [
      "🟡 Analyse en cours : https://www.ukri.org/opportunity/molecular-and-cellular-medicine-research/\n"
     ]
    },
    {
     "name": "stderr",
     "output_type": "stream",
     "text": [
      "🔍 Analyse des URLs:  43%|████▎     | 39/90 [15:50<20:05, 23.64s/it]"
     ]
    },
    {
     "name": "stdout",
     "output_type": "stream",
     "text": [
      "🟡 Analyse en cours : https://www.ukri.org/opportunity/infections-and-immunity-research/\n"
     ]
    },
    {
     "name": "stderr",
     "output_type": "stream",
     "text": [
      "🔍 Analyse des URLs:  44%|████▍     | 40/90 [16:14<19:42, 23.66s/it]"
     ]
    },
    {
     "name": "stdout",
     "output_type": "stream",
     "text": [
      "🟡 Analyse en cours : https://www.ukri.org/opportunity/dare-uk-real-world-research-exemplar-programme/\n"
     ]
    },
    {
     "name": "stderr",
     "output_type": "stream",
     "text": [
      "🔍 Analyse des URLs:  46%|████▌     | 41/90 [16:38<19:19, 23.67s/it]"
     ]
    },
    {
     "name": "stdout",
     "output_type": "stream",
     "text": [
      "🟡 Analyse en cours : https://www.ukri.org/opportunity/bbsrc-new-investigator-award-2025-round-3-applicant-led-mode/\n"
     ]
    },
    {
     "name": "stderr",
     "output_type": "stream",
     "text": [
      "🔍 Analyse des URLs:  47%|████▋     | 42/90 [17:01<18:54, 23.64s/it]"
     ]
    },
    {
     "name": "stdout",
     "output_type": "stream",
     "text": [
      "🟡 Analyse en cours : https://www.ukri.org/opportunity/bbsrc-standard-research-grant-2025-round-3-applicant-led-mode/\n"
     ]
    },
    {
     "name": "stderr",
     "output_type": "stream",
     "text": [
      "🔍 Analyse des URLs:  48%|████▊     | 43/90 [17:25<18:31, 23.64s/it]"
     ]
    },
    {
     "name": "stdout",
     "output_type": "stream",
     "text": [
      "🟡 Analyse en cours : https://www.ukri.org/opportunity/critical-mass-programmes-to-drive-a-sustainable-future-invitation-only/\n"
     ]
    },
    {
     "name": "stderr",
     "output_type": "stream",
     "text": [
      "🔍 Analyse des URLs:  49%|████▉     | 44/90 [17:49<18:09, 23.69s/it]"
     ]
    },
    {
     "name": "stdout",
     "output_type": "stream",
     "text": [
      "🟡 Analyse en cours : https://www.ukri.org/opportunity/experimental-medicine/\n"
     ]
    },
    {
     "name": "stderr",
     "output_type": "stream",
     "text": [
      "🔍 Analyse des URLs:  50%|█████     | 45/90 [18:12<17:46, 23.69s/it]"
     ]
    },
    {
     "name": "stdout",
     "output_type": "stream",
     "text": [
      "🟡 Analyse en cours : https://www.ukri.org/opportunity/career-development-award/\n"
     ]
    },
    {
     "name": "stderr",
     "output_type": "stream",
     "text": [
      "🔍 Analyse des URLs:  51%|█████     | 46/90 [18:36<17:24, 23.75s/it]"
     ]
    },
    {
     "name": "stdout",
     "output_type": "stream",
     "text": [
      "🟡 Analyse en cours : https://www.ukri.org/opportunity/ukri-policy-fellowships-2025/\n"
     ]
    },
    {
     "name": "stderr",
     "output_type": "stream",
     "text": [
      "🔍 Analyse des URLs:  52%|█████▏    | 47/90 [19:00<17:03, 23.81s/it]"
     ]
    },
    {
     "name": "stdout",
     "output_type": "stream",
     "text": [
      "🟡 Analyse en cours : https://www.ukri.org/opportunity/applied-global-health-research-invited-stage-two/\n"
     ]
    },
    {
     "name": "stderr",
     "output_type": "stream",
     "text": [
      "🔍 Analyse des URLs:  53%|█████▎    | 48/90 [19:24<16:42, 23.88s/it]"
     ]
    },
    {
     "name": "stdout",
     "output_type": "stream",
     "text": [
      "🟡 Analyse en cours : https://www.ukri.org/opportunity/2025-to-2026-strategic-longer-and-larger-slola-grants/\n"
     ]
    },
    {
     "name": "stderr",
     "output_type": "stream",
     "text": [
      "🔍 Analyse des URLs:  54%|█████▍    | 49/90 [19:48<16:18, 23.86s/it]"
     ]
    },
    {
     "name": "stdout",
     "output_type": "stream",
     "text": [
      "🟡 Analyse en cours : https://www.ukri.org/opportunity/applied-global-health-partnership-invited-stage-two/\n"
     ]
    },
    {
     "name": "stderr",
     "output_type": "stream",
     "text": [
      "🔍 Analyse des URLs:  56%|█████▌    | 50/90 [20:12<15:58, 23.95s/it]"
     ]
    },
    {
     "name": "stdout",
     "output_type": "stream",
     "text": [
      "🟡 Analyse en cours : https://www.ukri.org/opportunity/collaborate-with-researchers-in-norway/\n"
     ]
    },
    {
     "name": "stderr",
     "output_type": "stream",
     "text": [
      "🔍 Analyse des URLs:  57%|█████▋    | 51/90 [20:36<15:34, 23.96s/it]"
     ]
    },
    {
     "name": "stdout",
     "output_type": "stream",
     "text": [
      "🟡 Analyse en cours : https://www.ukri.org/opportunity/collaborative-doctoral-landscape-award-in-the-arts-and-humanities/\n"
     ]
    },
    {
     "name": "stderr",
     "output_type": "stream",
     "text": [
      "🔍 Analyse des URLs:  58%|█████▊    | 52/90 [21:00<15:08, 23.92s/it]"
     ]
    },
    {
     "name": "stdout",
     "output_type": "stream",
     "text": [
      "🟡 Analyse en cours : https://www.ukri.org/opportunity/patt-travel-grants-for-competitively-awarded-observation-time-2025/\n"
     ]
    },
    {
     "name": "stderr",
     "output_type": "stream",
     "text": [
      "🔍 Analyse des URLs:  59%|█████▉    | 53/90 [21:24<14:44, 23.90s/it]"
     ]
    },
    {
     "name": "stdout",
     "output_type": "stream",
     "text": [
      "🟡 Analyse en cours : https://www.ukri.org/opportunity/developmental-pathway-funding-scheme/\n"
     ]
    },
    {
     "name": "stderr",
     "output_type": "stream",
     "text": [
      "🔍 Analyse des URLs:  60%|██████    | 54/90 [21:48<14:17, 23.82s/it]"
     ]
    },
    {
     "name": "stdout",
     "output_type": "stream",
     "text": [
      "🟡 Analyse en cours : https://www.ukri.org/opportunity/statements-of-need-in-research-infrastructure/\n"
     ]
    },
    {
     "name": "stderr",
     "output_type": "stream",
     "text": [
      "🔍 Analyse des URLs:  61%|██████    | 55/90 [22:12<13:55, 23.88s/it]"
     ]
    },
    {
     "name": "stdout",
     "output_type": "stream",
     "text": [
      "🟡 Analyse en cours : https://www.ukri.org/opportunity/epsrc-programme-grant-full-proposal/\n"
     ]
    },
    {
     "name": "stderr",
     "output_type": "stream",
     "text": [
      "🔍 Analyse des URLs:  62%|██████▏   | 56/90 [22:35<13:31, 23.86s/it]"
     ]
    },
    {
     "name": "stdout",
     "output_type": "stream",
     "text": [
      "🟡 Analyse en cours : https://www.ukri.org/opportunity/mathematical-sciences-postdoctoral-fellowship/\n"
     ]
    },
    {
     "name": "stderr",
     "output_type": "stream",
     "text": [
      "🔍 Analyse des URLs:  63%|██████▎   | 57/90 [23:00<13:15, 24.12s/it]"
     ]
    },
    {
     "name": "stdout",
     "output_type": "stream",
     "text": [
      "🟡 Analyse en cours : https://www.ukri.org/opportunity/opening-up-the-environment-2026/\n"
     ]
    },
    {
     "name": "stderr",
     "output_type": "stream",
     "text": [
      "🔍 Analyse des URLs:  64%|██████▍   | 58/90 [23:24<12:45, 23.93s/it]"
     ]
    },
    {
     "name": "stdout",
     "output_type": "stream",
     "text": [
      "🟡 Analyse en cours : https://www.ukri.org/opportunity/small-molecule-high-throughput-screen-using-astrazeneca-facilities/\n"
     ]
    },
    {
     "name": "stderr",
     "output_type": "stream",
     "text": [
      "🔍 Analyse des URLs:  66%|██████▌   | 59/90 [23:48<12:23, 23.99s/it]"
     ]
    },
    {
     "name": "stdout",
     "output_type": "stream",
     "text": [
      "🟡 Analyse en cours : https://www.ukri.org/opportunity/ahrc-responsive-mode-curiosity-award/\n"
     ]
    },
    {
     "name": "stderr",
     "output_type": "stream",
     "text": [
      "🔍 Analyse des URLs:  67%|██████▋   | 60/90 [24:11<11:56, 23.87s/it]"
     ]
    },
    {
     "name": "stdout",
     "output_type": "stream",
     "text": [
      "🟡 Analyse en cours : https://www.ukri.org/opportunity/ahrc-responsive-mode-catalyst-awards/\n"
     ]
    },
    {
     "name": "stderr",
     "output_type": "stream",
     "text": [
      "🔍 Analyse des URLs:  68%|██████▊   | 61/90 [24:35<11:29, 23.79s/it]"
     ]
    },
    {
     "name": "stdout",
     "output_type": "stream",
     "text": [
      "🟡 Analyse en cours : https://www.ukri.org/opportunity/pushing-the-frontiers-of-environmental-research-july-2025/\n"
     ]
    },
    {
     "name": "stderr",
     "output_type": "stream",
     "text": [
      "🔍 Analyse des URLs:  69%|██████▉   | 62/90 [24:58<11:03, 23.71s/it]"
     ]
    },
    {
     "name": "stdout",
     "output_type": "stream",
     "text": [
      "🟡 Analyse en cours : https://www.ukri.org/opportunity/mathematical-sciences-open-and-open-plus-fellowship/\n"
     ]
    },
    {
     "name": "stderr",
     "output_type": "stream",
     "text": [
      "🔍 Analyse des URLs:  70%|███████   | 63/90 [25:24<10:52, 24.18s/it]"
     ]
    },
    {
     "name": "stdout",
     "output_type": "stream",
     "text": [
      "🟡 Analyse en cours : https://www.ukri.org/opportunity/ahrc-responsive-mode-ukri-nsf-sbe-lead-agency/\n"
     ]
    },
    {
     "name": "stderr",
     "output_type": "stream",
     "text": [
      "🔍 Analyse des URLs:  71%|███████   | 64/90 [25:48<10:30, 24.25s/it]"
     ]
    },
    {
     "name": "stdout",
     "output_type": "stream",
     "text": [
      "🟡 Analyse en cours : https://www.ukri.org/opportunity/ahrc-responsive-mode-working-with-brazilian-researchers/\n"
     ]
    },
    {
     "name": "stderr",
     "output_type": "stream",
     "text": [
      "🔍 Analyse des URLs:  72%|███████▏  | 65/90 [26:12<10:02, 24.10s/it]"
     ]
    },
    {
     "name": "stdout",
     "output_type": "stream",
     "text": [
      "🟡 Analyse en cours : https://www.ukri.org/opportunity/ahrc-responsive-mode-collaborate-with-researchers-in-luxembourg/\n"
     ]
    },
    {
     "name": "stderr",
     "output_type": "stream",
     "text": [
      "🔍 Analyse des URLs:  73%|███████▎  | 66/90 [26:36<09:35, 23.97s/it]"
     ]
    },
    {
     "name": "stdout",
     "output_type": "stream",
     "text": [
      "🟡 Analyse en cours : https://www.ukri.org/opportunity/ahrc-responsive-mode-standard-research-grant/\n"
     ]
    },
    {
     "name": "stderr",
     "output_type": "stream",
     "text": [
      "🔍 Analyse des URLs:  74%|███████▍  | 67/90 [26:59<09:08, 23.87s/it]"
     ]
    },
    {
     "name": "stdout",
     "output_type": "stream",
     "text": [
      "🟡 Analyse en cours : https://www.ukri.org/opportunity/epsrc-programme-grant-outline-stage/\n"
     ]
    },
    {
     "name": "stderr",
     "output_type": "stream",
     "text": [
      "🔍 Analyse des URLs:  76%|███████▌  | 68/90 [27:23<08:44, 23.86s/it]"
     ]
    },
    {
     "name": "stdout",
     "output_type": "stream",
     "text": [
      "🟡 Analyse en cours : https://www.ukri.org/opportunity/bbsrc-international-travel-award-scheme/\n"
     ]
    },
    {
     "name": "stderr",
     "output_type": "stream",
     "text": [
      "🔍 Analyse des URLs:  77%|███████▋  | 69/90 [27:47<08:24, 24.01s/it]"
     ]
    },
    {
     "name": "stdout",
     "output_type": "stream",
     "text": [
      "🟡 Analyse en cours : https://www.ukri.org/opportunity/projects-peer-review-panel-pprp-2025/\n"
     ]
    },
    {
     "name": "stderr",
     "output_type": "stream",
     "text": [
      "🔍 Analyse des URLs:  78%|███████▊  | 70/90 [28:12<08:01, 24.07s/it]"
     ]
    },
    {
     "name": "stdout",
     "output_type": "stream",
     "text": [
      "🟡 Analyse en cours : https://www.ukri.org/opportunity/nerc-urgency-funding-open/\n"
     ]
    },
    {
     "name": "stderr",
     "output_type": "stream",
     "text": [
      "🔍 Analyse des URLs:  79%|███████▉  | 71/90 [28:35<07:35, 23.99s/it]"
     ]
    },
    {
     "name": "stdout",
     "output_type": "stream",
     "text": [
      "🟡 Analyse en cours : https://www.ukri.org/opportunity/strategic-infrastructure-outlines/\n"
     ]
    },
    {
     "name": "stderr",
     "output_type": "stream",
     "text": [
      "🔍 Analyse des URLs:  80%|████████  | 72/90 [28:59<07:09, 23.84s/it]"
     ]
    },
    {
     "name": "stdout",
     "output_type": "stream",
     "text": [
      "🟡 Analyse en cours : https://www.ukri.org/opportunity/epsrc-network-grant-nov-2023-responsive-mode/\n"
     ]
    },
    {
     "name": "stderr",
     "output_type": "stream",
     "text": [
      "🔍 Analyse des URLs:  81%|████████  | 73/90 [29:23<06:46, 23.92s/it]"
     ]
    },
    {
     "name": "stdout",
     "output_type": "stream",
     "text": [
      "🟡 Analyse en cours : https://www.ukri.org/opportunity/epsrc-working-with-overseas-scientists-nov-2023-responsive-mode/\n"
     ]
    },
    {
     "name": "stderr",
     "output_type": "stream",
     "text": [
      "🔍 Analyse des URLs:  82%|████████▏ | 74/90 [29:47<06:21, 23.83s/it]"
     ]
    },
    {
     "name": "stdout",
     "output_type": "stream",
     "text": [
      "🟡 Analyse en cours : https://www.ukri.org/opportunity/epsrc-new-investigator-award-nov-2023-responsive-mode/\n"
     ]
    },
    {
     "name": "stderr",
     "output_type": "stream",
     "text": [
      "🔍 Analyse des URLs:  83%|████████▎ | 75/90 [30:10<05:56, 23.75s/it]"
     ]
    },
    {
     "name": "stdout",
     "output_type": "stream",
     "text": [
      "🟡 Analyse en cours : https://www.ukri.org/opportunity/epsrc-discipline-hopping-in-ict-nov-2023-responsive-mode/\n"
     ]
    },
    {
     "name": "stderr",
     "output_type": "stream",
     "text": [
      "🔍 Analyse des URLs:  84%|████████▍ | 76/90 [30:34<05:32, 23.75s/it]"
     ]
    },
    {
     "name": "stdout",
     "output_type": "stream",
     "text": [
      "🟡 Analyse en cours : https://www.ukri.org/opportunity/epsrc-overseas-travel-grant-nov-2023-responsive-mode/\n"
     ]
    },
    {
     "name": "stderr",
     "output_type": "stream",
     "text": [
      "🔍 Analyse des URLs:  86%|████████▌ | 77/90 [30:58<05:09, 23.78s/it]"
     ]
    },
    {
     "name": "stdout",
     "output_type": "stream",
     "text": [
      "🟡 Analyse en cours : https://www.ukri.org/opportunity/epsrc-standard-research-grant-nov-2023-responsive-mode/\n"
     ]
    },
    {
     "name": "stderr",
     "output_type": "stream",
     "text": [
      "🔍 Analyse des URLs:  87%|████████▋ | 78/90 [31:22<04:46, 23.89s/it]"
     ]
    },
    {
     "name": "stdout",
     "output_type": "stream",
     "text": [
      "🟡 Analyse en cours : https://www.ukri.org/opportunity/esrc-responsive-mode-research-grants-round-two/\n"
     ]
    },
    {
     "name": "stderr",
     "output_type": "stream",
     "text": [
      "🔍 Analyse des URLs:  88%|████████▊ | 79/90 [31:46<04:23, 23.94s/it]"
     ]
    },
    {
     "name": "stdout",
     "output_type": "stream",
     "text": [
      "🟡 Analyse en cours : https://www.ukri.org/opportunity/esrc-responsive-mode-new-investigator-grants-round-two/\n"
     ]
    },
    {
     "name": "stderr",
     "output_type": "stream",
     "text": [
      "🔍 Analyse des URLs:  89%|████████▉ | 80/90 [32:10<03:59, 23.91s/it]"
     ]
    },
    {
     "name": "stdout",
     "output_type": "stream",
     "text": [
      "🟡 Analyse en cours : https://www.ukri.org/opportunity/esrc-responsive-mode-working-with-luxembourg-researchers-round-two/\n"
     ]
    },
    {
     "name": "stderr",
     "output_type": "stream",
     "text": [
      "🔍 Analyse des URLs:  90%|█████████ | 81/90 [32:33<03:34, 23.79s/it]"
     ]
    },
    {
     "name": "stdout",
     "output_type": "stream",
     "text": [
      "🟡 Analyse en cours : https://www.ukri.org/opportunity/esrc-responsive-mode-secondary-data-analysis-round-two/\n"
     ]
    },
    {
     "name": "stderr",
     "output_type": "stream",
     "text": [
      "🔍 Analyse des URLs:  91%|█████████ | 82/90 [32:57<03:10, 23.78s/it]"
     ]
    },
    {
     "name": "stdout",
     "output_type": "stream",
     "text": [
      "🟡 Analyse en cours : https://www.ukri.org/opportunity/esrc-responsive-mode-ukri-sbe-lead-agency-opportunity-round-two/\n"
     ]
    },
    {
     "name": "stderr",
     "output_type": "stream",
     "text": [
      "🔍 Analyse des URLs:  92%|█████████▏| 83/90 [33:21<02:46, 23.72s/it]"
     ]
    },
    {
     "name": "stdout",
     "output_type": "stream",
     "text": [
      "🟡 Analyse en cours : https://www.ukri.org/opportunity/esrc-responsive-mode-working-with-brazilian-researchers-round-two/\n"
     ]
    },
    {
     "name": "stderr",
     "output_type": "stream",
     "text": [
      "🔍 Analyse des URLs:  93%|█████████▎| 84/90 [33:45<02:22, 23.76s/it]"
     ]
    },
    {
     "name": "stdout",
     "output_type": "stream",
     "text": [
      "🟡 Analyse en cours : https://www.ukri.org/opportunity/collaborate-with-researchers-in-luxembourg/\n"
     ]
    },
    {
     "name": "stderr",
     "output_type": "stream",
     "text": [
      "🔍 Analyse des URLs:  94%|█████████▍| 85/90 [34:09<01:59, 23.84s/it]"
     ]
    },
    {
     "name": "stdout",
     "output_type": "stream",
     "text": [
      "🟡 Analyse en cours : https://www.ukri.org/opportunity/work-with-brazilian-researchers-nerc-fapesp-lead-agency/\n"
     ]
    },
    {
     "name": "stderr",
     "output_type": "stream",
     "text": [
      "🔍 Analyse des URLs:  96%|█████████▌| 86/90 [34:32<01:35, 23.82s/it]"
     ]
    },
    {
     "name": "stdout",
     "output_type": "stream",
     "text": [
      "🟡 Analyse en cours : https://www.ukri.org/opportunity/collaborate-with-researchers-in-brazil/\n"
     ]
    },
    {
     "name": "stderr",
     "output_type": "stream",
     "text": [
      "🔍 Analyse des URLs:  97%|█████████▋| 87/90 [34:56<01:11, 23.80s/it]"
     ]
    },
    {
     "name": "stdout",
     "output_type": "stream",
     "text": [
      "🟡 Analyse en cours : https://www.ukri.org/opportunity/ukri-sbe-lead-agency-opportunity/\n"
     ]
    },
    {
     "name": "stderr",
     "output_type": "stream",
     "text": [
      "🔍 Analyse des URLs:  98%|█████████▊| 88/90 [35:20<00:47, 23.88s/it]"
     ]
    },
    {
     "name": "stdout",
     "output_type": "stream",
     "text": [
      "🟡 Analyse en cours : https://www.ukri.org/opportunity/research-england-development-fund/\n"
     ]
    },
    {
     "name": "stderr",
     "output_type": "stream",
     "text": [
      "🔍 Analyse des URLs:  99%|█████████▉| 89/90 [35:44<00:23, 23.99s/it]"
     ]
    },
    {
     "name": "stdout",
     "output_type": "stream",
     "text": [
      "🟡 Analyse en cours : https://www.ukri.org/opportunity/daphne-jackson-fellowship/\n"
     ]
    },
    {
     "name": "stderr",
     "output_type": "stream",
     "text": [
      "🔍 Analyse des URLs: 100%|██████████| 90/90 [36:08<00:00, 24.09s/it]\n"
     ]
    },
    {
     "name": "stdout",
     "output_type": "stream",
     "text": [
      "\n",
      "✅ Résultats sauvegardés dans 'df_yes_avec_pertinence_et_resume_uk.csv'.\n"
     ]
    }
   ],
   "source": [
    "from selenium import webdriver\n",
    "from selenium.webdriver.chrome.options import Options\n",
    "from selenium.webdriver.common.by import By\n",
    "import time\n",
    "import pandas as pd\n",
    "from groq import Groq\n",
    "import re\n",
    "from tqdm import tqdm\n",
    "\n",
    "# === CONFIGURATION GROQ ===\n",
    "client = Groq(api_key=\"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\")\n",
    "MODEL_NAME = \"llama3-70b-8192\"\n",
    "\n",
    "# === CONFIGURATION SELENIUM HEADLESS ===\n",
    "options = Options()\n",
    "options.add_argument(\"--headless\")\n",
    "options.add_argument(\"--disable-gpu\")\n",
    "options.add_argument(\"--window-size=1920,1080\")\n",
    "driver = webdriver.Chrome(options=options)\n",
    "\n",
    "# === Nettoyage & Limitation texte ===\n",
    "def clean_and_limit_text(text, max_words=800):\n",
    "    text = re.sub(r'\\s+', ' ', text).strip()\n",
    "    words = text.split()\n",
    "    if len(words) > max_words:\n",
    "        return ' '.join(words[:max_words]) + \" [...] (texte tronqué)\"\n",
    "    return text\n",
    "\n",
    "# === Extraction texte depuis une URL ===\n",
    "def extract_text_from_URL(URL):\n",
    "    try:\n",
    "        driver.get(URL)\n",
    "        time.sleep(5)\n",
    "\n",
    "        for _ in range(10):\n",
    "            driver.execute_script(\"window.scrollBy(0, 500);\")\n",
    "            time.sleep(0.3)\n",
    "        time.sleep(3)\n",
    "\n",
    "        js_desc = \"\"\"\n",
    "        let desc = document.querySelector('div.showMore--three-lines');\n",
    "        return desc ? desc.innerText.trim() : '';\n",
    "        \"\"\"\n",
    "        description_text = driver.execute_script(js_desc)\n",
    "\n",
    "        try:\n",
    "            open_all_btn = driver.find_element(By.CLASS_NAME, \"govuk-accordion__open-all\")\n",
    "            open_all_btn.click()\n",
    "            time.sleep(1)\n",
    "        except:\n",
    "            pass\n",
    "\n",
    "        js_accordion = \"\"\"\n",
    "        let acc = document.querySelector('div.govuk-accordion.ukri-accordion');\n",
    "        return acc ? acc.innerText.trim() : '';\n",
    "        \"\"\"\n",
    "        accordion_text = driver.execute_script(js_accordion)\n",
    "\n",
    "        final_text = f\"{description_text}\\n\\n---\\n\\n{accordion_text}\".strip()\n",
    "        return final_text if final_text.strip() else \"Pas de contenu détecté.\"\n",
    "    \n",
    "    except Exception as e:\n",
    "        return f\"Erreur Selenium: {e}\"\n",
    "\n",
    "# === Construction du prompt pour Groq ===\n",
    "def build_prompt(projects, site_text):\n",
    "    projects_text = \"\\n\".join([\n",
    "        f\"{i+1}. {p['Project Name']} : {p['Description']} (axe {p['Axes / Thematic Areas']})\"\n",
    "        for i, p in enumerate(projects)\n",
    "    ])\n",
    "    return f\"\"\"\n",
    "Tu es un expert en analyse de projets d'entreprise.\n",
    "\n",
    "Voici une liste de projets que cette entreprise a déjà réalisés avec leurs descriptions et axes principaux :\n",
    "\n",
    "{projects_text}\n",
    "\n",
    "Voici maintenant le contenu d'un appel à projets extrait d'une page du portail européen :\n",
    "\n",
    "{site_text}\n",
    "\n",
    "Peux-tu me dire si cette opportunité est pertinente par rapport aux projets que l'entreprise a déjà réalisés ?\n",
    "Merci de répondre clairement :\n",
    "- Pertinence : Oui / Non\n",
    "- Projets similaires détectés : [liste]\n",
    "- Résumé rapide expliquant ta réponse.\n",
    "\"\"\"\n",
    "\n",
    "# === Requête Groq ===\n",
    "def query_groq(prompt, model=MODEL_NAME, max_completion_tokens=3000, temperature=1.0, stream=False, delay_between_requests=10):\n",
    "    try:\n",
    "        response = client.chat.completions.create(\n",
    "            model=model,\n",
    "            messages=[\n",
    "                {\"role\": \"system\", \"content\": \"Tu es un expert en comparaison de projets R&D.\"},\n",
    "                {\"role\": \"user\", \"content\": prompt}\n",
    "            ],\n",
    "            temperature=temperature,\n",
    "            max_completion_tokens=max_completion_tokens,\n",
    "            top_p=1,\n",
    "            stream=stream\n",
    "        )\n",
    "        if stream:\n",
    "            result = \"\"\n",
    "            for chunk in response:\n",
    "                delta = chunk.choices[0].delta.content\n",
    "                if delta:\n",
    "                    result += delta\n",
    "            time.sleep(delay_between_requests)\n",
    "            return result.strip()\n",
    "        else:\n",
    "            time.sleep(delay_between_requests)\n",
    "            return response.choices[0].message.content.strip()\n",
    "    except Exception as e:\n",
    "        return f\"Erreur Groq: {e}\"\n",
    "\n",
    "# === Parsing du résultat Groq ===\n",
    "def parse_result(text):\n",
    "    pertinence = \"Non\"\n",
    "    resume = \"\"\n",
    "\n",
    "    try:\n",
    "        match = re.search(r\"(?i)pertinence\\s*[:\\-–]\\s*(oui|non)\", text)\n",
    "        if match:\n",
    "            pertinence = match.group(1).capitalize()\n",
    "\n",
    "        resume_match = re.search(r\"(?i)résumé.*?:\\s*(.+)\", text)\n",
    "        if resume_match:\n",
    "            resume = resume_match.group(1).strip()\n",
    "        else:\n",
    "            resume = \"\\n\".join(text.splitlines()[1:4]).strip()\n",
    "    except:\n",
    "        pass\n",
    "\n",
    "    return pertinence, resume\n",
    "\n",
    "# === Analyse d'une URL ===\n",
    "def analyze_URL(URL, projects_list):\n",
    "    print(f\"🟡 Analyse en cours : {URL}\")\n",
    "    try:\n",
    "        site_text_raw = extract_text_from_URL(URL)\n",
    "        site_text = clean_and_limit_text(site_text_raw, max_words=800)\n",
    "        projects_list_sample = projects_list[:3]  # 3 projets max\n",
    "\n",
    "        prompt = build_prompt(projects_list_sample, site_text)\n",
    "        result_text = query_groq(prompt)\n",
    "        pertinence, resume = parse_result(result_text)\n",
    "        \n",
    "        return {\n",
    "            \"URL\": URL,\n",
    "            \"Pertinence LLM\": pertinence,\n",
    "            \"Résumé LLM\": resume,\n",
    "            \"Réponse brute\": result_text\n",
    "        }\n",
    "    except Exception as e:\n",
    "        return {\n",
    "            \"URL\": URL,\n",
    "            \"Pertinence LLM\": \"Erreur\",\n",
    "            \"Résumé LLM\": f\"Erreur pendant l'analyse : {e}\",\n",
    "            \"Réponse brute\": str(e)\n",
    "        }\n",
    "\n",
    "# === MAIN EXECUTION ===\n",
    "if __name__ == \"__main__\":\n",
    "    try:\n",
    "        df_pertinence_uk = pd.read_excel(\"projets_pertinents_keywords_InnUK_from_all_description.xlsx\")\n",
    "        projects_list = odf_df[['Project Name', 'Description', 'Axes / Thematic Areas']].dropna().to_dict(orient='records')\n",
    "        URL_list = df_pertinence_uk['URL'].dropna().unique()\n",
    "\n",
    "        results = []\n",
    "        for URL in tqdm(URL_list, desc=\"🔍 Analyse des URLs\"):\n",
    "            results.append(analyze_URL(URL, projects_list))\n",
    "\n",
    "        results_df = pd.DataFrame(results)\n",
    "        df_final_llm_uk = df_pertinence_uk.merge(results_df, on=\"URL\", how=\"left\")\n",
    "\n",
    "        df_final_llm_uk.to_excel(\"df_yes_avec_pertinence_et_resume_uk.xlsx\", index=False)\n",
    "        print(\"\\n✅ Résultats sauvegardés dans 'df_yes_avec_pertinence_et_resume_uk.csv'.\")\n",
    "        \n",
    "    finally:\n",
    "        driver.quit()\n"
   ]
  },
  {
   "cell_type": "code",
   "execution_count": 33,
   "id": "fc8947b2",
   "metadata": {},
   "outputs": [
    {
     "data": {
      "text/html": [
       "<div>\n",
       "<style scoped>\n",
       "    .dataframe tbody tr th:only-of-type {\n",
       "        vertical-align: middle;\n",
       "    }\n",
       "\n",
       "    .dataframe tbody tr th {\n",
       "        vertical-align: top;\n",
       "    }\n",
       "\n",
       "    .dataframe thead th {\n",
       "        text-align: right;\n",
       "    }\n",
       "</style>\n",
       "<table border=\"1\" class=\"dataframe\">\n",
       "  <thead>\n",
       "    <tr style=\"text-align: right;\">\n",
       "      <th></th>\n",
       "      <th>Title</th>\n",
       "      <th>URL</th>\n",
       "      <th>Description</th>\n",
       "      <th>Start_date</th>\n",
       "      <th>Deadline</th>\n",
       "      <th>Pertinence</th>\n",
       "      <th>Matching Word(s)</th>\n",
       "      <th>Pertinence LLM</th>\n",
       "      <th>Résumé LLM</th>\n",
       "      <th>Réponse brute</th>\n",
       "    </tr>\n",
       "  </thead>\n",
       "  <tbody>\n",
       "    <tr>\n",
       "      <th>0</th>\n",
       "      <td>Smart Data Research UK Fellowships</td>\n",
       "      <td>https://www.ukri.org/opportunity/smart-data-research-uk-fellowships/</td>\n",
       "      <td>Apply for a fellowship to undertake innovative and impact-focused research using smart data. Projects should address a significant real-world challenge which is relevant to the UK.</td>\n",
       "      <td>15 July 2025 9:00am UK time</td>\n",
       "      <td>23 September 2025 4:00pm UK time</td>\n",
       "      <td>Yes</td>\n",
       "      <td>capacity building, artificial intelligence, economic impact</td>\n",
       "      <td>Oui</td>\n",
       "      <td>L'appel à projets concerne le soutien à des entreprises et startups, ce qui correspond à l'axe d'incubation et d'accélération de FACTORIAT. De plus, l'appel à projets évoque une stratégie de financement et de partenariat, ce qui rappelle le projet Arab Bank Strategy. Enfin, la dimension de développement d'écosystème entrepreneurial dans l'appel à projets fait écho au projet National Entrepreneurship Program. L'expertise de l'entreprise dans ces domaines la rend donc pertinente pour répondre à cet appel à projets.</td>\n",
       "      <td>Après analyse de l'appel à projets et des projets précédemment réalisés par l'entreprise, voici ma réponse :\\n\\n- Pertinence : Oui\\n- Projets similaires détectés : FACTORIAT, National Entrepreneurship Program, Arab Bank Strategy\\n- Résumé rapide : L'appel à projets concerne le soutien à des entreprises et startups, ce qui correspond à l'axe d'incubation et d'accélération de FACTORIAT. De plus, l'appel à projets évoque une stratégie de financement et de partenariat, ce qui rappelle le projet Arab Bank Strategy. Enfin, la dimension de développement d'écosystème entrepreneurial dans l'appel à projets fait écho au projet National Entrepreneurship Program. L'expertise de l'entreprise dans ces domaines la rend donc pertinente pour répondre à cet appel à projets.</td>\n",
       "    </tr>\n",
       "    <tr>\n",
       "      <th>1</th>\n",
       "      <td>Institutional diversity fund (invite only)</td>\n",
       "      <td>https://www.ukri.org/opportunity/institutional-diversity-fund-invite-only/</td>\n",
       "      <td>The purpose of this opportunity is to provide strategic research infrastructure base funding, supporting independent research organisations to support the diverse social science ecosystem in the UK.</td>\n",
       "      <td>21 July 2025 9:00am UK time</td>\n",
       "      <td>16 September 2025 4:00pm UK time</td>\n",
       "      <td>Yes</td>\n",
       "      <td>artificial intelligence</td>\n",
       "      <td>Non</td>\n",
       "      <td>L'appel à projets ESRC ne correspond pas aux domaines d'expertise de l'entreprise, qui a réalisé des projets dans les domaines de l'incubation, de la prototypage, de la stratégie, du développement économique, etc. Cet appel à projets est plutôt orienté vers la recherche en sciences sociales, la communauté de recherche et l'infrastructure de recherche, ce qui est hors du champ de spécialisation de l'entreprise.</td>\n",
       "      <td>Pertinence : Non\\n\\nProjets similaires détectés :aucun\\n\\nRésumé rapide : L'appel à projets ESRC ne correspond pas aux domaines d'expertise de l'entreprise, qui a réalisé des projets dans les domaines de l'incubation, de la prototypage, de la stratégie, du développement économique, etc. Cet appel à projets est plutôt orienté vers la recherche en sciences sociales, la communauté de recherche et l'infrastructure de recherche, ce qui est hors du champ de spécialisation de l'entreprise.</td>\n",
       "    </tr>\n",
       "    <tr>\n",
       "      <th>2</th>\n",
       "      <td>Gap fund for early-stage development of new healthcare interventions</td>\n",
       "      <td>https://www.ukri.org/opportunity/funding-for-early-stage-development-of-new-healthcare-interventions/</td>\n",
       "      <td>Apply to the Developmental Pathway Gap Fund to address a single-step evidence gap and de-risk the development of a new medicine, medical device, diagnostic test or other medical intervention.</td>\n",
       "      <td>10 July 2025 9:00am UK time</td>\n",
       "      <td>12 November 2025 4:00pm UK time</td>\n",
       "      <td>Yes</td>\n",
       "      <td>due diligence, development strategy, technology transfer, intellectual property, service delivery, artificial intelligence, applied research</td>\n",
       "      <td>Non</td>\n",
       "      <td>Les projets précédemment réalisés par l'entreprise sont plus axés sur l'incubation, l'accélération, le développement stratégique et la création d'écosystèmes, principalement dans les domaines du numérique et de la Deeptech. Le projet proposé, quant à lui, concerne la recherche médicale et le développement de médicaments, ce qui n'a pas de lien direct avec les domaines d'expertise de l'entreprise.</td>\n",
       "      <td>Pertinence : Non\\n\\nProjets similaires détectés : Aucun\\n\\nRésumé rapide : Les projets précédemment réalisés par l'entreprise sont plus axés sur l'incubation, l'accélération, le développement stratégique et la création d'écosystèmes, principalement dans les domaines du numérique et de la Deeptech. Le projet proposé, quant à lui, concerne la recherche médicale et le développement de médicaments, ce qui n'a pas de lien direct avec les domaines d'expertise de l'entreprise.</td>\n",
       "    </tr>\n",
       "    <tr>\n",
       "      <th>3</th>\n",
       "      <td>Digitise UK natural science collections</td>\n",
       "      <td>https://www.ukri.org/opportunity/digitise-uk-natural-science-collections/</td>\n",
       "      <td>Apply for funding to establish a Digitisation Hub for Natural Science Collections as part of the Distributed System of Scientific Collections (DiSSCo) UK programme.</td>\n",
       "      <td>8 July 2025 9:00am UK time</td>\n",
       "      <td>16 September 2025 4:00pm UK time</td>\n",
       "      <td>Yes</td>\n",
       "      <td>capacity building, project management, due diligence, artificial intelligence</td>\n",
       "      <td>Non</td>\n",
       "      <td>L'appel à projet vise à financer la création de hubs de numérisation pour les collections scientifiques naturelles au Royaume-Uni, avec un accent sur la numérisation de masse et la capacité du secteur. Les projets précédents de l'entreprise sont axés sur l'incubation, la stratégie, l'économie numérique et le développement d'écosystèmes d'entreprises, mais ne présentent pas de lien direct avec la numérisation de collections scientifiques naturelles ou la mise en place d'infrastructures de recherche. Il n'y a donc pas de pertinence évidente entre cet appel à projet et les domaines d'expertise de l'entreprise.</td>\n",
       "      <td>Pertinence : Non\\n\\nProjets similaires détectés : Aucun\\n\\nRésumé rapide expliquant ma réponse :\\nL'appel à projet vise à financer la création de hubs de numérisation pour les collections scientifiques naturelles au Royaume-Uni, avec un accent sur la numérisation de masse et la capacité du secteur. Les projets précédents de l'entreprise sont axés sur l'incubation, la stratégie, l'économie numérique et le développement d'écosystèmes d'entreprises, mais ne présentent pas de lien direct avec la numérisation de collections scientifiques naturelles ou la mise en place d'infrastructures de recherche. Il n'y a donc pas de pertinence évidente entre cet appel à projet et les domaines d'expertise de l'entreprise.</td>\n",
       "    </tr>\n",
       "    <tr>\n",
       "      <th>4</th>\n",
       "      <td>Aviation’s non-CO2 Impacts on the Climate: programme coordinator</td>\n",
       "      <td>https://www.ukri.org/opportunity/aviations-non-co2-impacts-on-the-climate-programme-coordinator/</td>\n",
       "      <td>Apply for funding to become the programme coordinator for the Aviation’s non-CO2 Impacts on the Climate programme.</td>\n",
       "      <td>11 July 2025 9:00am UK time</td>\n",
       "      <td>18 September 2025 4:00pm UK time</td>\n",
       "      <td>Yes</td>\n",
       "      <td>due diligence, monitoring and evaluation, stakeholder mapping, artificial intelligence, applied research</td>\n",
       "      <td>Non</td>\n",
       "      <td>This funding opportunity is focused on program coordination, stakeholder engagement, and communication in the context of a research program on aviation's non-CO2 impacts on the climate. It requires expertise in project management, communication, and stakeholder engagement, which is not directly related to the Deeptech, Hardware, Incubation, Prototyping, Acceleration or Digital Economy focus of the previous projects realized by the enterprise. While some aspects of the project, such as capacity building and strategy, might be tangentially related to the National Entrepreneurship Program, the overall objectives and scope of this funding opportunity are quite different from the previous projects.</td>\n",
       "      <td>Here is my answer:\\n\\n- Pertinence : Non\\n- Projets similaires détectés : None\\n- Résumé rapide : This funding opportunity is focused on program coordination, stakeholder engagement, and communication in the context of a research program on aviation's non-CO2 impacts on the climate. It requires expertise in project management, communication, and stakeholder engagement, which is not directly related to the Deeptech, Hardware, Incubation, Prototyping, Acceleration or Digital Economy focus of the previous projects realized by the enterprise. While some aspects of the project, such as capacity building and strategy, might be tangentially related to the National Entrepreneurship Program, the overall objectives and scope of this funding opportunity are quite different from the previous projects.</td>\n",
       "    </tr>\n",
       "    <tr>\n",
       "      <th>...</th>\n",
       "      <td>...</td>\n",
       "      <td>...</td>\n",
       "      <td>...</td>\n",
       "      <td>...</td>\n",
       "      <td>...</td>\n",
       "      <td>...</td>\n",
       "      <td>...</td>\n",
       "      <td>...</td>\n",
       "      <td>...</td>\n",
       "      <td>...</td>\n",
       "    </tr>\n",
       "    <tr>\n",
       "      <th>85</th>\n",
       "      <td>Work with Brazilian researchers: NERC FAPESP lead agency</td>\n",
       "      <td>https://www.ukri.org/opportunity/work-with-brazilian-researchers-nerc-fapesp-lead-agency/</td>\n",
       "      <td>This opportunity allows UK-based researchers and researchers in the State of São Paulo, Brazil to submit a collaborative application under existing NERC funding opportunities. This will go through a single review process.</td>\n",
       "      <td>Date d'ouverture non spécifiée</td>\n",
       "      <td>Date de clôture non spécifiée</td>\n",
       "      <td>Yes</td>\n",
       "      <td>intellectual property, research results</td>\n",
       "      <td>Non</td>\n",
       "      <td>L'appel à projets décrit une opportunité de financement pour des collaborations de recherche entre des équipes basées au Royaume-Uni et dans l'État de São Paulo, au Brésil. Les projets précédemment réalisés par l'entreprise (FACTORIAT, National Entrepreneurship Program, Arab Bank Strategy) sont principalement axés sur l'incubation, le développement économique et la stratégie, tandis que cet appel à projets concerne des collaborations de recherche en sciences naturelles et de l'environnement. Il n'y a pas de similarité directe entre les deux, ce qui rend cette opportunité non pertinente pour l'entreprise.</td>\n",
       "      <td>Pertinence : Non\\n\\nProjets similaires détectés : Aucun\\n\\nRésumé rapide : L'appel à projets décrit une opportunité de financement pour des collaborations de recherche entre des équipes basées au Royaume-Uni et dans l'État de São Paulo, au Brésil. Les projets précédemment réalisés par l'entreprise (FACTORIAT, National Entrepreneurship Program, Arab Bank Strategy) sont principalement axés sur l'incubation, le développement économique et la stratégie, tandis que cet appel à projets concerne des collaborations de recherche en sciences naturelles et de l'environnement. Il n'y a pas de similarité directe entre les deux, ce qui rend cette opportunité non pertinente pour l'entreprise.</td>\n",
       "    </tr>\n",
       "    <tr>\n",
       "      <th>86</th>\n",
       "      <td>Collaborate with researchers in Brazil</td>\n",
       "      <td>https://www.ukri.org/opportunity/collaborate-with-researchers-in-brazil/</td>\n",
       "      <td>UK Research and Innovation (UKRI) and FAPESP’s lead agency agreement allows UKRI to assess joint applications from eligible UK and Brazil-based researchers from the state of São Paulo on behalf of both organisations.</td>\n",
       "      <td>Date d'ouverture non spécifiée</td>\n",
       "      <td>Date de clôture non spécifiée</td>\n",
       "      <td>Yes</td>\n",
       "      <td>intellectual property, research results</td>\n",
       "      <td>Non</td>\n",
       "      <td>L'appel à projets concerne des collaborations de recherche entre le Royaume-Uni et le Brésil, avec un focus sur les sciences, la technologie, l'ingénierie et les mathématiques (STIM). Les projets précédemment réalisés par l'entreprise sont plus liés à l'incubation, l'accélération, le développement de l'écosystème entrepreneurial et la stratégie de financement, ce qui ne correspond pas au périmètre de cet appel à projets. Aucun des projets précédents ne comporte d'éléments clés liés à la recherche, la collaboration internationale ou les domaines STEM.</td>\n",
       "      <td>Pertinence : Non\\n\\nProjets similaires détectés : Aucun\\n\\nRésumé rapide : L'appel à projets concerne des collaborations de recherche entre le Royaume-Uni et le Brésil, avec un focus sur les sciences, la technologie, l'ingénierie et les mathématiques (STIM). Les projets précédemment réalisés par l'entreprise sont plus liés à l'incubation, l'accélération, le développement de l'écosystème entrepreneurial et la stratégie de financement, ce qui ne correspond pas au périmètre de cet appel à projets. Aucun des projets précédents ne comporte d'éléments clés liés à la recherche, la collaboration internationale ou les domaines STEM.</td>\n",
       "    </tr>\n",
       "    <tr>\n",
       "      <th>87</th>\n",
       "      <td>UKRI-SBE lead agency opportunity</td>\n",
       "      <td>https://www.ukri.org/opportunity/ukri-sbe-lead-agency-opportunity/</td>\n",
       "      <td>The UKRI-SBE lead agency opportunity allows UK and US-based researchers to submit a collaborative proposal that will go through a single review process. Grants are funded through existing funding programmes at the relevant lead agency.</td>\n",
       "      <td>Date d'ouverture non spécifiée</td>\n",
       "      <td>Date de clôture non spécifiée</td>\n",
       "      <td>Yes</td>\n",
       "      <td>biotechnology</td>\n",
       "      <td>Non</td>\n",
       "      <td>L'appel à projets concerne des recherches collaboratives entre les États-Unis et le Royaume-Uni dans les domaines des sciences humaines, de la biotechnologie, des sciences économiques et sociales. Les projet précédemment réalisés par l'entreprise concernent principalement l'incubation, la prototypage, le développement économique et la création d'écosystèmes d'entrepreneuriat, ce qui ne correspond pas au domaine de recherche de cet appel à projets. Les axes principaux des projets précédents (Deeptech, Hardware, Incubation, Prototyping, Acceleration, Capacity building, Strategy, Startup Ecosystem) diffèrent significativement des thèmes de recherche évoqués dans l'appel à projets.</td>\n",
       "      <td>Pertinence : Non\\n\\nProjets similaires détectés : Aucun\\n\\nRésumé rapide expliquant ma réponse :\\nL'appel à projets concerne des recherches collaboratives entre les États-Unis et le Royaume-Uni dans les domaines des sciences humaines, de la biotechnologie, des sciences économiques et sociales. Les projet précédemment réalisés par l'entreprise concernent principalement l'incubation, la prototypage, le développement économique et la création d'écosystèmes d'entrepreneuriat, ce qui ne correspond pas au domaine de recherche de cet appel à projets. Les axes principaux des projets précédents (Deeptech, Hardware, Incubation, Prototyping, Acceleration, Capacity building, Strategy, Startup Ecosystem) diffèrent significativement des thèmes de recherche évoqués dans l'appel à projets.</td>\n",
       "    </tr>\n",
       "    <tr>\n",
       "      <th>88</th>\n",
       "      <td>Institutional strategic developmental projects in higher education</td>\n",
       "      <td>https://www.ukri.org/opportunity/research-england-development-fund/</td>\n",
       "      <td>Apply for funding to develop institutional-level innovations in research and knowledge exchange.</td>\n",
       "      <td>Date d'ouverture non spécifiée</td>\n",
       "      <td>Date de clôture non spécifiée</td>\n",
       "      <td>Yes</td>\n",
       "      <td>capacity building, social innovation</td>\n",
       "      <td>Oui</td>\n",
       "      <td>L'appel à projets RED Fund cherche à soutenir des projets stratégiques de développement institutionnel dans la recherche et l'échange de connaissances, avec un focus sur les approches novatrices et les collaborations avec des partenaires extérieurs. Les projets précédemment réalisés par l'entreprise, tels que le National Entrepreneurship Program et l'Arab Bank Strategy, montrent une expérience de développement de stratégies et d'écosystèmes pour l'innovation et l'entrepreneuriat, ainsi que la mise en place de partenariats pour soutenir l'économie numérique. Ces compétences pourraient être pertinentes pour répondre à l'appel à projets RED Fund, notamment sur les aspects de stratégie, de développement institutionnel et de collaborations avec des partenaires extérieurs.</td>\n",
       "      <td>Pertinence : Oui\\n\\nProjets similaires détectés : National Entrepreneurship Program, Arab Bank Strategy\\n\\nRésumé rapide : L'appel à projets RED Fund cherche à soutenir des projets stratégiques de développement institutionnel dans la recherche et l'échange de connaissances, avec un focus sur les approches novatrices et les collaborations avec des partenaires extérieurs. Les projets précédemment réalisés par l'entreprise, tels que le National Entrepreneurship Program et l'Arab Bank Strategy, montrent une expérience de développement de stratégies et d'écosystèmes pour l'innovation et l'entrepreneuriat, ainsi que la mise en place de partenariats pour soutenir l'économie numérique. Ces compétences pourraient être pertinentes pour répondre à l'appel à projets RED Fund, notamment sur les aspects de stratégie, de développement institutionnel et de collaborations avec des partenaires extérieurs.</td>\n",
       "    </tr>\n",
       "    <tr>\n",
       "      <th>89</th>\n",
       "      <td>Daphne Jackson fellowship</td>\n",
       "      <td>https://www.ukri.org/opportunity/daphne-jackson-fellowship/</td>\n",
       "      <td>These fellowships are for those looking to return to a research career after a break. Fellowships combine a personalised retraining programme with a challenging research project. They are flexible, usually lasting two years at 0.5 full-time equivalent, although some UKRI funders may award longer.</td>\n",
       "      <td>Date d'ouverture non spécifiée</td>\n",
       "      <td>Date de clôture non spécifiée</td>\n",
       "      <td>Yes</td>\n",
       "      <td>economic development</td>\n",
       "      <td>Non</td>\n",
       "      <td>L'appel à projets Daphne Jackson fellowships seems to be focused on supporting individual researchers in returning to a research career, with a focus on sciences, technology, engineering, mathematics, social sciences, arts and humanities. The projects realized by the company (FACTORIAT, National Entrepreneurship Program, Arab Bank Strategy) are more focused on entrepreneurship, incubation, acceleration, and strategy development, with a stronger emphasis on Deeptech, Hardware, and Digital Economy. There is no clear overlap between the Daphne Jackson fellowships and the company's past projects.</td>\n",
       "      <td>Pertinence : Non\\n\\nProjets similaires détectés : Aucun\\n\\nRésumé rapide : L'appel à projets Daphne Jackson fellowships seems to be focused on supporting individual researchers in returning to a research career, with a focus on sciences, technology, engineering, mathematics, social sciences, arts and humanities. The projects realized by the company (FACTORIAT, National Entrepreneurship Program, Arab Bank Strategy) are more focused on entrepreneurship, incubation, acceleration, and strategy development, with a stronger emphasis on Deeptech, Hardware, and Digital Economy. There is no clear overlap between the Daphne Jackson fellowships and the company's past projects.</td>\n",
       "    </tr>\n",
       "  </tbody>\n",
       "</table>\n",
       "<p>90 rows × 10 columns</p>\n",
       "</div>"
      ],
      "text/plain": [
       "                                                                   Title  \\\n",
       "0                                     Smart Data Research UK Fellowships   \n",
       "1                             Institutional diversity fund (invite only)   \n",
       "2   Gap fund for early-stage development of new healthcare interventions   \n",
       "3                                Digitise UK natural science collections   \n",
       "4       Aviation’s non-CO2 Impacts on the Climate: programme coordinator   \n",
       "..                                                                   ...   \n",
       "85              Work with Brazilian researchers: NERC FAPESP lead agency   \n",
       "86                                Collaborate with researchers in Brazil   \n",
       "87                                      UKRI-SBE lead agency opportunity   \n",
       "88    Institutional strategic developmental projects in higher education   \n",
       "89                                             Daphne Jackson fellowship   \n",
       "\n",
       "                                                                                                      URL  \\\n",
       "0                                    https://www.ukri.org/opportunity/smart-data-research-uk-fellowships/   \n",
       "1                              https://www.ukri.org/opportunity/institutional-diversity-fund-invite-only/   \n",
       "2   https://www.ukri.org/opportunity/funding-for-early-stage-development-of-new-healthcare-interventions/   \n",
       "3                               https://www.ukri.org/opportunity/digitise-uk-natural-science-collections/   \n",
       "4        https://www.ukri.org/opportunity/aviations-non-co2-impacts-on-the-climate-programme-coordinator/   \n",
       "..                                                                                                    ...   \n",
       "85              https://www.ukri.org/opportunity/work-with-brazilian-researchers-nerc-fapesp-lead-agency/   \n",
       "86                               https://www.ukri.org/opportunity/collaborate-with-researchers-in-brazil/   \n",
       "87                                     https://www.ukri.org/opportunity/ukri-sbe-lead-agency-opportunity/   \n",
       "88                                    https://www.ukri.org/opportunity/research-england-development-fund/   \n",
       "89                                            https://www.ukri.org/opportunity/daphne-jackson-fellowship/   \n",
       "\n",
       "                                                                                                                                                                                                                                                                                                  Description  \\\n",
       "0                                                                                                                        Apply for a fellowship to undertake innovative and impact-focused research using smart data. Projects should address a significant real-world challenge which is relevant to the UK.   \n",
       "1                                                                                                      The purpose of this opportunity is to provide strategic research infrastructure base funding, supporting independent research organisations to support the diverse social science ecosystem in the UK.   \n",
       "2                                                                                                             Apply to the Developmental Pathway Gap Fund to address a single-step evidence gap and de-risk the development of a new medicine, medical device, diagnostic test or other medical intervention.   \n",
       "3                                                                                                                                        Apply for funding to establish a Digitisation Hub for Natural Science Collections as part of the Distributed System of Scientific Collections (DiSSCo) UK programme.   \n",
       "4                                                                                                                                                                                          Apply for funding to become the programme coordinator for the Aviation’s non-CO2 Impacts on the Climate programme.   \n",
       "..                                                                                                                                                                                                                                                                                                        ...   \n",
       "85                                                                              This opportunity allows UK-based researchers and researchers in the State of São Paulo, Brazil to submit a collaborative application under existing NERC funding opportunities. This will go through a single review process.   \n",
       "86                                                                                   UK Research and Innovation (UKRI) and FAPESP’s lead agency agreement allows UKRI to assess joint applications from eligible UK and Brazil-based researchers from the state of São Paulo on behalf of both organisations.   \n",
       "87                                                                The UKRI-SBE lead agency opportunity allows UK and US-based researchers to submit a collaborative proposal that will go through a single review process. Grants are funded through existing funding programmes at the relevant lead agency.   \n",
       "88                                                                                                                                                                                                           Apply for funding to develop institutional-level innovations in research and knowledge exchange.   \n",
       "89  These fellowships are for those looking to return to a research career after a break. Fellowships combine a personalised retraining programme with a challenging research project. They are flexible, usually lasting two years at 0.5 full-time equivalent, although some UKRI funders may award longer.   \n",
       "\n",
       "                        Start_date                          Deadline  \\\n",
       "0      15 July 2025 9:00am UK time  23 September 2025 4:00pm UK time   \n",
       "1      21 July 2025 9:00am UK time  16 September 2025 4:00pm UK time   \n",
       "2      10 July 2025 9:00am UK time   12 November 2025 4:00pm UK time   \n",
       "3       8 July 2025 9:00am UK time  16 September 2025 4:00pm UK time   \n",
       "4      11 July 2025 9:00am UK time  18 September 2025 4:00pm UK time   \n",
       "..                             ...                               ...   \n",
       "85  Date d'ouverture non spécifiée     Date de clôture non spécifiée   \n",
       "86  Date d'ouverture non spécifiée     Date de clôture non spécifiée   \n",
       "87  Date d'ouverture non spécifiée     Date de clôture non spécifiée   \n",
       "88  Date d'ouverture non spécifiée     Date de clôture non spécifiée   \n",
       "89  Date d'ouverture non spécifiée     Date de clôture non spécifiée   \n",
       "\n",
       "   Pertinence  \\\n",
       "0         Yes   \n",
       "1         Yes   \n",
       "2         Yes   \n",
       "3         Yes   \n",
       "4         Yes   \n",
       "..        ...   \n",
       "85        Yes   \n",
       "86        Yes   \n",
       "87        Yes   \n",
       "88        Yes   \n",
       "89        Yes   \n",
       "\n",
       "                                                                                                                                Matching Word(s)  \\\n",
       "0                                                                                    capacity building, artificial intelligence, economic impact   \n",
       "1                                                                                                                        artificial intelligence   \n",
       "2   due diligence, development strategy, technology transfer, intellectual property, service delivery, artificial intelligence, applied research   \n",
       "3                                                                  capacity building, project management, due diligence, artificial intelligence   \n",
       "4                                       due diligence, monitoring and evaluation, stakeholder mapping, artificial intelligence, applied research   \n",
       "..                                                                                                                                           ...   \n",
       "85                                                                                                       intellectual property, research results   \n",
       "86                                                                                                       intellectual property, research results   \n",
       "87                                                                                                                                 biotechnology   \n",
       "88                                                                                                          capacity building, social innovation   \n",
       "89                                                                                                                          economic development   \n",
       "\n",
       "   Pertinence LLM  \\\n",
       "0             Oui   \n",
       "1             Non   \n",
       "2             Non   \n",
       "3             Non   \n",
       "4             Non   \n",
       "..            ...   \n",
       "85            Non   \n",
       "86            Non   \n",
       "87            Non   \n",
       "88            Oui   \n",
       "89            Non   \n",
       "\n",
       "                                                                                                                                                                                                                                                                                                                                                                                                                                                                                                                                                                                                                                                                                                                                                                                                   Résumé LLM  \\\n",
       "0                                                                                                                                                                                                                                                                      L'appel à projets concerne le soutien à des entreprises et startups, ce qui correspond à l'axe d'incubation et d'accélération de FACTORIAT. De plus, l'appel à projets évoque une stratégie de financement et de partenariat, ce qui rappelle le projet Arab Bank Strategy. Enfin, la dimension de développement d'écosystème entrepreneurial dans l'appel à projets fait écho au projet National Entrepreneurship Program. L'expertise de l'entreprise dans ces domaines la rend donc pertinente pour répondre à cet appel à projets.   \n",
       "1                                                                                                                                                                                                                                                                                                                                                                               L'appel à projets ESRC ne correspond pas aux domaines d'expertise de l'entreprise, qui a réalisé des projets dans les domaines de l'incubation, de la prototypage, de la stratégie, du développement économique, etc. Cet appel à projets est plutôt orienté vers la recherche en sciences sociales, la communauté de recherche et l'infrastructure de recherche, ce qui est hors du champ de spécialisation de l'entreprise.   \n",
       "2                                                                                                                                                                                                                                                                                                                                                                                             Les projets précédemment réalisés par l'entreprise sont plus axés sur l'incubation, l'accélération, le développement stratégique et la création d'écosystèmes, principalement dans les domaines du numérique et de la Deeptech. Le projet proposé, quant à lui, concerne la recherche médicale et le développement de médicaments, ce qui n'a pas de lien direct avec les domaines d'expertise de l'entreprise.   \n",
       "3                                                                                                                                                                      L'appel à projet vise à financer la création de hubs de numérisation pour les collections scientifiques naturelles au Royaume-Uni, avec un accent sur la numérisation de masse et la capacité du secteur. Les projets précédents de l'entreprise sont axés sur l'incubation, la stratégie, l'économie numérique et le développement d'écosystèmes d'entreprises, mais ne présentent pas de lien direct avec la numérisation de collections scientifiques naturelles ou la mise en place d'infrastructures de recherche. Il n'y a donc pas de pertinence évidente entre cet appel à projet et les domaines d'expertise de l'entreprise.   \n",
       "4                                                                              This funding opportunity is focused on program coordination, stakeholder engagement, and communication in the context of a research program on aviation's non-CO2 impacts on the climate. It requires expertise in project management, communication, and stakeholder engagement, which is not directly related to the Deeptech, Hardware, Incubation, Prototyping, Acceleration or Digital Economy focus of the previous projects realized by the enterprise. While some aspects of the project, such as capacity building and strategy, might be tangentially related to the National Entrepreneurship Program, the overall objectives and scope of this funding opportunity are quite different from the previous projects.   \n",
       "..                                                                                                                                                                                                                                                                                                                                                                                                                                                                                                                                                                                                                                                                                                                                                                                                        ...   \n",
       "85                                                                                                                                                                        L'appel à projets décrit une opportunité de financement pour des collaborations de recherche entre des équipes basées au Royaume-Uni et dans l'État de São Paulo, au Brésil. Les projets précédemment réalisés par l'entreprise (FACTORIAT, National Entrepreneurship Program, Arab Bank Strategy) sont principalement axés sur l'incubation, le développement économique et la stratégie, tandis que cet appel à projets concerne des collaborations de recherche en sciences naturelles et de l'environnement. Il n'y a pas de similarité directe entre les deux, ce qui rend cette opportunité non pertinente pour l'entreprise.   \n",
       "86                                                                                                                                                                                                                               L'appel à projets concerne des collaborations de recherche entre le Royaume-Uni et le Brésil, avec un focus sur les sciences, la technologie, l'ingénierie et les mathématiques (STIM). Les projets précédemment réalisés par l'entreprise sont plus liés à l'incubation, l'accélération, le développement de l'écosystème entrepreneurial et la stratégie de financement, ce qui ne correspond pas au périmètre de cet appel à projets. Aucun des projets précédents ne comporte d'éléments clés liés à la recherche, la collaboration internationale ou les domaines STEM.   \n",
       "87                                                                                             L'appel à projets concerne des recherches collaboratives entre les États-Unis et le Royaume-Uni dans les domaines des sciences humaines, de la biotechnologie, des sciences économiques et sociales. Les projet précédemment réalisés par l'entreprise concernent principalement l'incubation, la prototypage, le développement économique et la création d'écosystèmes d'entrepreneuriat, ce qui ne correspond pas au domaine de recherche de cet appel à projets. Les axes principaux des projets précédents (Deeptech, Hardware, Incubation, Prototyping, Acceleration, Capacity building, Strategy, Startup Ecosystem) diffèrent significativement des thèmes de recherche évoqués dans l'appel à projets.   \n",
       "88  L'appel à projets RED Fund cherche à soutenir des projets stratégiques de développement institutionnel dans la recherche et l'échange de connaissances, avec un focus sur les approches novatrices et les collaborations avec des partenaires extérieurs. Les projets précédemment réalisés par l'entreprise, tels que le National Entrepreneurship Program et l'Arab Bank Strategy, montrent une expérience de développement de stratégies et d'écosystèmes pour l'innovation et l'entrepreneuriat, ainsi que la mise en place de partenariats pour soutenir l'économie numérique. Ces compétences pourraient être pertinentes pour répondre à l'appel à projets RED Fund, notamment sur les aspects de stratégie, de développement institutionnel et de collaborations avec des partenaires extérieurs.   \n",
       "89                                                                                                                                                                                    L'appel à projets Daphne Jackson fellowships seems to be focused on supporting individual researchers in returning to a research career, with a focus on sciences, technology, engineering, mathematics, social sciences, arts and humanities. The projects realized by the company (FACTORIAT, National Entrepreneurship Program, Arab Bank Strategy) are more focused on entrepreneurship, incubation, acceleration, and strategy development, with a stronger emphasis on Deeptech, Hardware, and Digital Economy. There is no clear overlap between the Daphne Jackson fellowships and the company's past projects.   \n",
       "\n",
       "                                                                                                                                                                                                                                                                                                                                                                                                                                                                                                                                                                                                                                                                                                                                                                                                                                                                                                                           Réponse brute  \n",
       "0                                                                                                                                         Après analyse de l'appel à projets et des projets précédemment réalisés par l'entreprise, voici ma réponse :\\n\\n- Pertinence : Oui\\n- Projets similaires détectés : FACTORIAT, National Entrepreneurship Program, Arab Bank Strategy\\n- Résumé rapide : L'appel à projets concerne le soutien à des entreprises et startups, ce qui correspond à l'axe d'incubation et d'accélération de FACTORIAT. De plus, l'appel à projets évoque une stratégie de financement et de partenariat, ce qui rappelle le projet Arab Bank Strategy. Enfin, la dimension de développement d'écosystème entrepreneurial dans l'appel à projets fait écho au projet National Entrepreneurship Program. L'expertise de l'entreprise dans ces domaines la rend donc pertinente pour répondre à cet appel à projets.  \n",
       "1                                                                                                                                                                                                                                                                                                                                                                                                                                Pertinence : Non\\n\\nProjets similaires détectés :aucun\\n\\nRésumé rapide : L'appel à projets ESRC ne correspond pas aux domaines d'expertise de l'entreprise, qui a réalisé des projets dans les domaines de l'incubation, de la prototypage, de la stratégie, du développement économique, etc. Cet appel à projets est plutôt orienté vers la recherche en sciences sociales, la communauté de recherche et l'infrastructure de recherche, ce qui est hors du champ de spécialisation de l'entreprise.  \n",
       "2                                                                                                                                                                                                                                                                                                                                                                                                                                             Pertinence : Non\\n\\nProjets similaires détectés : Aucun\\n\\nRésumé rapide : Les projets précédemment réalisés par l'entreprise sont plus axés sur l'incubation, l'accélération, le développement stratégique et la création d'écosystèmes, principalement dans les domaines du numérique et de la Deeptech. Le projet proposé, quant à lui, concerne la recherche médicale et le développement de médicaments, ce qui n'a pas de lien direct avec les domaines d'expertise de l'entreprise.  \n",
       "3                                                                                                                                                                                               Pertinence : Non\\n\\nProjets similaires détectés : Aucun\\n\\nRésumé rapide expliquant ma réponse :\\nL'appel à projet vise à financer la création de hubs de numérisation pour les collections scientifiques naturelles au Royaume-Uni, avec un accent sur la numérisation de masse et la capacité du secteur. Les projets précédents de l'entreprise sont axés sur l'incubation, la stratégie, l'économie numérique et le développement d'écosystèmes d'entreprises, mais ne présentent pas de lien direct avec la numérisation de collections scientifiques naturelles ou la mise en place d'infrastructures de recherche. Il n'y a donc pas de pertinence évidente entre cet appel à projet et les domaines d'expertise de l'entreprise.  \n",
       "4                                                                                                       Here is my answer:\\n\\n- Pertinence : Non\\n- Projets similaires détectés : None\\n- Résumé rapide : This funding opportunity is focused on program coordination, stakeholder engagement, and communication in the context of a research program on aviation's non-CO2 impacts on the climate. It requires expertise in project management, communication, and stakeholder engagement, which is not directly related to the Deeptech, Hardware, Incubation, Prototyping, Acceleration or Digital Economy focus of the previous projects realized by the enterprise. While some aspects of the project, such as capacity building and strategy, might be tangentially related to the National Entrepreneurship Program, the overall objectives and scope of this funding opportunity are quite different from the previous projects.  \n",
       "..                                                                                                                                                                                                                                                                                                                                                                                                                                                                                                                                                                                                                                                                                                                                                                                                                                                                                                                                   ...  \n",
       "85                                                                                                                                                                                                                        Pertinence : Non\\n\\nProjets similaires détectés : Aucun\\n\\nRésumé rapide : L'appel à projets décrit une opportunité de financement pour des collaborations de recherche entre des équipes basées au Royaume-Uni et dans l'État de São Paulo, au Brésil. Les projets précédemment réalisés par l'entreprise (FACTORIAT, National Entrepreneurship Program, Arab Bank Strategy) sont principalement axés sur l'incubation, le développement économique et la stratégie, tandis que cet appel à projets concerne des collaborations de recherche en sciences naturelles et de l'environnement. Il n'y a pas de similarité directe entre les deux, ce qui rend cette opportunité non pertinente pour l'entreprise.  \n",
       "86                                                                                                                                                                                                                                                                               Pertinence : Non\\n\\nProjets similaires détectés : Aucun\\n\\nRésumé rapide : L'appel à projets concerne des collaborations de recherche entre le Royaume-Uni et le Brésil, avec un focus sur les sciences, la technologie, l'ingénierie et les mathématiques (STIM). Les projets précédemment réalisés par l'entreprise sont plus liés à l'incubation, l'accélération, le développement de l'écosystème entrepreneurial et la stratégie de financement, ce qui ne correspond pas au périmètre de cet appel à projets. Aucun des projets précédents ne comporte d'éléments clés liés à la recherche, la collaboration internationale ou les domaines STEM.  \n",
       "87                                                                                                                      Pertinence : Non\\n\\nProjets similaires détectés : Aucun\\n\\nRésumé rapide expliquant ma réponse :\\nL'appel à projets concerne des recherches collaboratives entre les États-Unis et le Royaume-Uni dans les domaines des sciences humaines, de la biotechnologie, des sciences économiques et sociales. Les projet précédemment réalisés par l'entreprise concernent principalement l'incubation, la prototypage, le développement économique et la création d'écosystèmes d'entrepreneuriat, ce qui ne correspond pas au domaine de recherche de cet appel à projets. Les axes principaux des projets précédents (Deeptech, Hardware, Incubation, Prototyping, Acceleration, Capacity building, Strategy, Startup Ecosystem) diffèrent significativement des thèmes de recherche évoqués dans l'appel à projets.  \n",
       "88  Pertinence : Oui\\n\\nProjets similaires détectés : National Entrepreneurship Program, Arab Bank Strategy\\n\\nRésumé rapide : L'appel à projets RED Fund cherche à soutenir des projets stratégiques de développement institutionnel dans la recherche et l'échange de connaissances, avec un focus sur les approches novatrices et les collaborations avec des partenaires extérieurs. Les projets précédemment réalisés par l'entreprise, tels que le National Entrepreneurship Program et l'Arab Bank Strategy, montrent une expérience de développement de stratégies et d'écosystèmes pour l'innovation et l'entrepreneuriat, ainsi que la mise en place de partenariats pour soutenir l'économie numérique. Ces compétences pourraient être pertinentes pour répondre à l'appel à projets RED Fund, notamment sur les aspects de stratégie, de développement institutionnel et de collaborations avec des partenaires extérieurs.  \n",
       "89                                                                                                                                                                                                                                    Pertinence : Non\\n\\nProjets similaires détectés : Aucun\\n\\nRésumé rapide : L'appel à projets Daphne Jackson fellowships seems to be focused on supporting individual researchers in returning to a research career, with a focus on sciences, technology, engineering, mathematics, social sciences, arts and humanities. The projects realized by the company (FACTORIAT, National Entrepreneurship Program, Arab Bank Strategy) are more focused on entrepreneurship, incubation, acceleration, and strategy development, with a stronger emphasis on Deeptech, Hardware, and Digital Economy. There is no clear overlap between the Daphne Jackson fellowships and the company's past projects.  \n",
       "\n",
       "[90 rows x 10 columns]"
      ]
     },
     "execution_count": 33,
     "metadata": {},
     "output_type": "execute_result"
    }
   ],
   "source": [
    "df_final_llm_uk"
   ]
  },
  {
   "cell_type": "code",
   "execution_count": 37,
   "id": "01a42f1d",
   "metadata": {},
   "outputs": [
    {
     "data": {
      "text/plain": [
       "(5, 10)"
      ]
     },
     "execution_count": 37,
     "metadata": {},
     "output_type": "execute_result"
    }
   ],
   "source": [
    "df_pertinence_uk_yes_llm.shape"
   ]
  },
  {
   "cell_type": "code",
   "execution_count": 35,
   "id": "40898ded",
   "metadata": {},
   "outputs": [
    {
     "data": {
      "text/html": [
       "<div>\n",
       "<style scoped>\n",
       "    .dataframe tbody tr th:only-of-type {\n",
       "        vertical-align: middle;\n",
       "    }\n",
       "\n",
       "    .dataframe tbody tr th {\n",
       "        vertical-align: top;\n",
       "    }\n",
       "\n",
       "    .dataframe thead th {\n",
       "        text-align: right;\n",
       "    }\n",
       "</style>\n",
       "<table border=\"1\" class=\"dataframe\">\n",
       "  <thead>\n",
       "    <tr style=\"text-align: right;\">\n",
       "      <th></th>\n",
       "      <th>Title</th>\n",
       "      <th>URL</th>\n",
       "      <th>Description</th>\n",
       "      <th>Start_date</th>\n",
       "      <th>Deadline</th>\n",
       "      <th>Pertinence</th>\n",
       "      <th>Matching Word(s)</th>\n",
       "      <th>Pertinence LLM</th>\n",
       "      <th>Résumé LLM</th>\n",
       "      <th>Réponse brute</th>\n",
       "    </tr>\n",
       "  </thead>\n",
       "  <tbody>\n",
       "    <tr>\n",
       "      <th>0</th>\n",
       "      <td>Smart Data Research UK Fellowships</td>\n",
       "      <td>https://www.ukri.org/opportunity/smart-data-research-uk-fellowships/</td>\n",
       "      <td>Apply for a fellowship to undertake innovative and impact-focused research using smart data. Projects should address a significant real-world challenge which is relevant to the UK.</td>\n",
       "      <td>15 July 2025 9:00am UK time</td>\n",
       "      <td>23 September 2025 4:00pm UK time</td>\n",
       "      <td>Yes</td>\n",
       "      <td>capacity building, artificial intelligence, economic impact</td>\n",
       "      <td>Oui</td>\n",
       "      <td>L'appel à projets concerne le soutien à des entreprises et startups, ce qui correspond à l'axe d'incubation et d'accélération de FACTORIAT. De plus, l'appel à projets évoque une stratégie de financement et de partenariat, ce qui rappelle le projet Arab Bank Strategy. Enfin, la dimension de développement d'écosystème entrepreneurial dans l'appel à projets fait écho au projet National Entrepreneurship Program. L'expertise de l'entreprise dans ces domaines la rend donc pertinente pour répondre à cet appel à projets.</td>\n",
       "      <td>Après analyse de l'appel à projets et des projets précédemment réalisés par l'entreprise, voici ma réponse :\\n\\n- Pertinence : Oui\\n- Projets similaires détectés : FACTORIAT, National Entrepreneurship Program, Arab Bank Strategy\\n- Résumé rapide : L'appel à projets concerne le soutien à des entreprises et startups, ce qui correspond à l'axe d'incubation et d'accélération de FACTORIAT. De plus, l'appel à projets évoque une stratégie de financement et de partenariat, ce qui rappelle le projet Arab Bank Strategy. Enfin, la dimension de développement d'écosystème entrepreneurial dans l'appel à projets fait écho au projet National Entrepreneurship Program. L'expertise de l'entreprise dans ces domaines la rend donc pertinente pour répondre à cet appel à projets.</td>\n",
       "    </tr>\n",
       "    <tr>\n",
       "      <th>49</th>\n",
       "      <td>Applied global health partnership: stage two</td>\n",
       "      <td>https://www.ukri.org/opportunity/applied-global-health-partnership-invited-stage-two/</td>\n",
       "      <td>Apply for funding to support a new research partnership to enable the development and delivery of novel research that will address global health challenges and inequities.</td>\n",
       "      <td>30 April 2025 9:00am UK time</td>\n",
       "      <td>16 July 2025 4:00pm UK time</td>\n",
       "      <td>Yes</td>\n",
       "      <td>capacity building, due diligence, project implementation, economic development, technology transfer, intellectual property, artificial intelligence, applied research, co-development</td>\n",
       "      <td>Oui</td>\n",
       "      <td>L'appel à projets concerne la mise en place de partenariats de recherche pour répondre à des défis de santé mondiale, notamment dans les pays à faible revenu (LMICs). Les axes clés de cet appel à projets sont la création de partenariats, le développement de projets de recherche appliquée et la mise en œuvre de solutions pour améliorer la santé dans ces pays. Les projets similaires détectés chez l'entreprise sont le National Entrepreneurship Program, qui concerne la mise en place d'un écosystème entrepreneurial dans un pays en développement, et l'Arab Bank Strategy, qui vise à développer des partenariats et des financements pour des projets de économie numérique en Afrique. Les compétences et expériences acquises dans ces projets pourraient être pertinentes pour répondre à cet appel à projets.</td>\n",
       "      <td>Pertinence : Oui\\n\\nProjets similaires détectés : National Entrepreneurship Program, Arab Bank Strategy\\n\\nRésumé rapide : L'appel à projets concerne la mise en place de partenariats de recherche pour répondre à des défis de santé mondiale, notamment dans les pays à faible revenu (LMICs). Les axes clés de cet appel à projets sont la création de partenariats, le développement de projets de recherche appliquée et la mise en œuvre de solutions pour améliorer la santé dans ces pays. Les projets similaires détectés chez l'entreprise sont le National Entrepreneurship Program, qui concerne la mise en place d'un écosystème entrepreneurial dans un pays en développement, et l'Arab Bank Strategy, qui vise à développer des partenariats et des financements pour des projets de économie numérique en Afrique. Les compétences et expériences acquises dans ces projets pourraient être pertinentes pour répondre à cet appel à projets.</td>\n",
       "    </tr>\n",
       "    <tr>\n",
       "      <th>67</th>\n",
       "      <td>EPSRC programme grant outline stage</td>\n",
       "      <td>https://www.ukri.org/opportunity/epsrc-programme-grant-outline-stage/</td>\n",
       "      <td>Programme grants provide flexible funding to world-leading UK research groups addressing significant research challenges.</td>\n",
       "      <td>1 October 2024 9:00am UK time</td>\n",
       "      <td>Date de clôture non spécifiée</td>\n",
       "      <td>Yes</td>\n",
       "      <td>project management, due diligence</td>\n",
       "      <td>Oui</td>\n",
       "      <td>L'appel à projets EPSRC cherche des propositions qui rassemblent les meilleurs chercheurs pour résoudre des défis de recherche plus larges et plus ouverts, en encourageant la collaboration interdisciplinaire et la création de partenariats avec l'industrie. Cela correspond aux objectifs du projet Arab Bank Strategy, qui vise à développer des stratégies de financement et de partenariat pour les projets de l'économie numérique africaine, et du projet National Entrepreneurship Program, qui vise à créer un écosystème entrepreneurial national au Lesotho. L'accent mis sur la collaboration, la créativité, l'impact et le développement de carrière des jeunes chercheurs dans l'appel à projets EPSRC est similaire aux objectifs de ces deux projets. En revanche, le projet FACTORIAT est plus ciblé sur l'incubation et l'accélération de startups Deeptech et Hardware, et ne correspond pas directement à cette opportunité.</td>\n",
       "      <td>Pertinence : Oui\\n\\nProjets similaires détectés : Arab Bank Strategy, National Entrepreneurship Program\\n\\nRésumé rapide : L'appel à projets EPSRC cherche des propositions qui rassemblent les meilleurs chercheurs pour résoudre des défis de recherche plus larges et plus ouverts, en encourageant la collaboration interdisciplinaire et la création de partenariats avec l'industrie. Cela correspond aux objectifs du projet Arab Bank Strategy, qui vise à développer des stratégies de financement et de partenariat pour les projets de l'économie numérique africaine, et du projet National Entrepreneurship Program, qui vise à créer un écosystème entrepreneurial national au Lesotho. L'accent mis sur la collaboration, la créativité, l'impact et le développement de carrière des jeunes chercheurs dans l'appel à projets EPSRC est similaire aux objectifs de ces deux projets. En revanche, le projet FACTORIAT est plus ciblé sur l'incubation et l'accélération de startups Deeptech et Hardware, et ne correspond pas directement à cette opportunité.</td>\n",
       "    </tr>\n",
       "    <tr>\n",
       "      <th>72</th>\n",
       "      <td>EPSRC network grant: Nov 2023: responsive mode</td>\n",
       "      <td>https://www.ukri.org/opportunity/epsrc-network-grant-nov-2023-responsive-mode/</td>\n",
       "      <td>You can apply for a network grant in any area within the remit of Engineering and Physical Sciences Research Council (EPSRC).</td>\n",
       "      <td>13 November 2023 9:00am UK time</td>\n",
       "      <td>Date de clôture non spécifiée</td>\n",
       "      <td>Yes</td>\n",
       "      <td>artificial intelligence</td>\n",
       "      <td>Oui</td>\n",
       "      <td>L'appel à projets de l'EPSRC concerne le financement de recherche en réseau pour favoriser la collaboration entre les chercheurs, les industries et les gouvernements. Il vise à encourager la recherche interdisciplinaire et la formation de communautés de recherche nouvelles. Les projets similaires détectés sont FACTORIAT, qui soutient les startups deeptech et hardware, et le National Entrepreneurship Program, qui vise à développer l'écosystème entrepreneurial national. L'entreprise a déjà démontré son expertise dans la mise en place de programmes d'incubation et d'accélération, ainsi que dans la conception d'écosystèmes entrepreneuriaux. L'appel à projets EPSRC correspond à ces compétences et à ces intérêts.</td>\n",
       "      <td>Pertinence : Oui\\n\\nProjets similaires détectés : FACTORIAT, National Entrepreneurship Program\\n\\nRésumé rapide : L'appel à projets de l'EPSRC concerne le financement de recherche en réseau pour favoriser la collaboration entre les chercheurs, les industries et les gouvernements. Il vise à encourager la recherche interdisciplinaire et la formation de communautés de recherche nouvelles. Les projets similaires détectés sont FACTORIAT, qui soutient les startups deeptech et hardware, et le National Entrepreneurship Program, qui vise à développer l'écosystème entrepreneurial national. L'entreprise a déjà démontré son expertise dans la mise en place de programmes d'incubation et d'accélération, ainsi que dans la conception d'écosystèmes entrepreneuriaux. L'appel à projets EPSRC correspond à ces compétences et à ces intérêts.</td>\n",
       "    </tr>\n",
       "    <tr>\n",
       "      <th>88</th>\n",
       "      <td>Institutional strategic developmental projects in higher education</td>\n",
       "      <td>https://www.ukri.org/opportunity/research-england-development-fund/</td>\n",
       "      <td>Apply for funding to develop institutional-level innovations in research and knowledge exchange.</td>\n",
       "      <td>Date d'ouverture non spécifiée</td>\n",
       "      <td>Date de clôture non spécifiée</td>\n",
       "      <td>Yes</td>\n",
       "      <td>capacity building, social innovation</td>\n",
       "      <td>Oui</td>\n",
       "      <td>L'appel à projets RED Fund cherche à soutenir des projets stratégiques de développement institutionnel dans la recherche et l'échange de connaissances, avec un focus sur les approches novatrices et les collaborations avec des partenaires extérieurs. Les projets précédemment réalisés par l'entreprise, tels que le National Entrepreneurship Program et l'Arab Bank Strategy, montrent une expérience de développement de stratégies et d'écosystèmes pour l'innovation et l'entrepreneuriat, ainsi que la mise en place de partenariats pour soutenir l'économie numérique. Ces compétences pourraient être pertinentes pour répondre à l'appel à projets RED Fund, notamment sur les aspects de stratégie, de développement institutionnel et de collaborations avec des partenaires extérieurs.</td>\n",
       "      <td>Pertinence : Oui\\n\\nProjets similaires détectés : National Entrepreneurship Program, Arab Bank Strategy\\n\\nRésumé rapide : L'appel à projets RED Fund cherche à soutenir des projets stratégiques de développement institutionnel dans la recherche et l'échange de connaissances, avec un focus sur les approches novatrices et les collaborations avec des partenaires extérieurs. Les projets précédemment réalisés par l'entreprise, tels que le National Entrepreneurship Program et l'Arab Bank Strategy, montrent une expérience de développement de stratégies et d'écosystèmes pour l'innovation et l'entrepreneuriat, ainsi que la mise en place de partenariats pour soutenir l'économie numérique. Ces compétences pourraient être pertinentes pour répondre à l'appel à projets RED Fund, notamment sur les aspects de stratégie, de développement institutionnel et de collaborations avec des partenaires extérieurs.</td>\n",
       "    </tr>\n",
       "  </tbody>\n",
       "</table>\n",
       "</div>"
      ],
      "text/plain": [
       "                                                                 Title  \\\n",
       "0                                   Smart Data Research UK Fellowships   \n",
       "49                        Applied global health partnership: stage two   \n",
       "67                                 EPSRC programme grant outline stage   \n",
       "72                      EPSRC network grant: Nov 2023: responsive mode   \n",
       "88  Institutional strategic developmental projects in higher education   \n",
       "\n",
       "                                                                                      URL  \\\n",
       "0                    https://www.ukri.org/opportunity/smart-data-research-uk-fellowships/   \n",
       "49  https://www.ukri.org/opportunity/applied-global-health-partnership-invited-stage-two/   \n",
       "67                  https://www.ukri.org/opportunity/epsrc-programme-grant-outline-stage/   \n",
       "72         https://www.ukri.org/opportunity/epsrc-network-grant-nov-2023-responsive-mode/   \n",
       "88                    https://www.ukri.org/opportunity/research-england-development-fund/   \n",
       "\n",
       "                                                                                                                                                                             Description  \\\n",
       "0   Apply for a fellowship to undertake innovative and impact-focused research using smart data. Projects should address a significant real-world challenge which is relevant to the UK.   \n",
       "49           Apply for funding to support a new research partnership to enable the development and delivery of novel research that will address global health challenges and inequities.   \n",
       "67                                                             Programme grants provide flexible funding to world-leading UK research groups addressing significant research challenges.   \n",
       "72                                                         You can apply for a network grant in any area within the remit of Engineering and Physical Sciences Research Council (EPSRC).   \n",
       "88                                                                                      Apply for funding to develop institutional-level innovations in research and knowledge exchange.   \n",
       "\n",
       "                         Start_date                          Deadline  \\\n",
       "0       15 July 2025 9:00am UK time  23 September 2025 4:00pm UK time   \n",
       "49     30 April 2025 9:00am UK time       16 July 2025 4:00pm UK time   \n",
       "67    1 October 2024 9:00am UK time     Date de clôture non spécifiée   \n",
       "72  13 November 2023 9:00am UK time     Date de clôture non spécifiée   \n",
       "88   Date d'ouverture non spécifiée     Date de clôture non spécifiée   \n",
       "\n",
       "   Pertinence  \\\n",
       "0         Yes   \n",
       "49        Yes   \n",
       "67        Yes   \n",
       "72        Yes   \n",
       "88        Yes   \n",
       "\n",
       "                                                                                                                                                                         Matching Word(s)  \\\n",
       "0                                                                                                                             capacity building, artificial intelligence, economic impact   \n",
       "49  capacity building, due diligence, project implementation, economic development, technology transfer, intellectual property, artificial intelligence, applied research, co-development   \n",
       "67                                                                                                                                                      project management, due diligence   \n",
       "72                                                                                                                                                                artificial intelligence   \n",
       "88                                                                                                                                                   capacity building, social innovation   \n",
       "\n",
       "   Pertinence LLM  \\\n",
       "0             Oui   \n",
       "49            Oui   \n",
       "67            Oui   \n",
       "72            Oui   \n",
       "88            Oui   \n",
       "\n",
       "                                                                                                                                                                                                                                                                                                                                                                                                                                                                                                                                                                                                                                                                                                                                                                                                                                                                                                                                              Résumé LLM  \\\n",
       "0                                                                                                                                                                                                                                                                                                                                                                                                                 L'appel à projets concerne le soutien à des entreprises et startups, ce qui correspond à l'axe d'incubation et d'accélération de FACTORIAT. De plus, l'appel à projets évoque une stratégie de financement et de partenariat, ce qui rappelle le projet Arab Bank Strategy. Enfin, la dimension de développement d'écosystème entrepreneurial dans l'appel à projets fait écho au projet National Entrepreneurship Program. L'expertise de l'entreprise dans ces domaines la rend donc pertinente pour répondre à cet appel à projets.   \n",
       "49                                                                                                                   L'appel à projets concerne la mise en place de partenariats de recherche pour répondre à des défis de santé mondiale, notamment dans les pays à faible revenu (LMICs). Les axes clés de cet appel à projets sont la création de partenariats, le développement de projets de recherche appliquée et la mise en œuvre de solutions pour améliorer la santé dans ces pays. Les projets similaires détectés chez l'entreprise sont le National Entrepreneurship Program, qui concerne la mise en place d'un écosystème entrepreneurial dans un pays en développement, et l'Arab Bank Strategy, qui vise à développer des partenariats et des financements pour des projets de économie numérique en Afrique. Les compétences et expériences acquises dans ces projets pourraient être pertinentes pour répondre à cet appel à projets.   \n",
       "67  L'appel à projets EPSRC cherche des propositions qui rassemblent les meilleurs chercheurs pour résoudre des défis de recherche plus larges et plus ouverts, en encourageant la collaboration interdisciplinaire et la création de partenariats avec l'industrie. Cela correspond aux objectifs du projet Arab Bank Strategy, qui vise à développer des stratégies de financement et de partenariat pour les projets de l'économie numérique africaine, et du projet National Entrepreneurship Program, qui vise à créer un écosystème entrepreneurial national au Lesotho. L'accent mis sur la collaboration, la créativité, l'impact et le développement de carrière des jeunes chercheurs dans l'appel à projets EPSRC est similaire aux objectifs de ces deux projets. En revanche, le projet FACTORIAT est plus ciblé sur l'incubation et l'accélération de startups Deeptech et Hardware, et ne correspond pas directement à cette opportunité.   \n",
       "72                                                                                                                                                                                                          L'appel à projets de l'EPSRC concerne le financement de recherche en réseau pour favoriser la collaboration entre les chercheurs, les industries et les gouvernements. Il vise à encourager la recherche interdisciplinaire et la formation de communautés de recherche nouvelles. Les projets similaires détectés sont FACTORIAT, qui soutient les startups deeptech et hardware, et le National Entrepreneurship Program, qui vise à développer l'écosystème entrepreneurial national. L'entreprise a déjà démontré son expertise dans la mise en place de programmes d'incubation et d'accélération, ainsi que dans la conception d'écosystèmes entrepreneuriaux. L'appel à projets EPSRC correspond à ces compétences et à ces intérêts.   \n",
       "88                                                                                                                                             L'appel à projets RED Fund cherche à soutenir des projets stratégiques de développement institutionnel dans la recherche et l'échange de connaissances, avec un focus sur les approches novatrices et les collaborations avec des partenaires extérieurs. Les projets précédemment réalisés par l'entreprise, tels que le National Entrepreneurship Program et l'Arab Bank Strategy, montrent une expérience de développement de stratégies et d'écosystèmes pour l'innovation et l'entrepreneuriat, ainsi que la mise en place de partenariats pour soutenir l'économie numérique. Ces compétences pourraient être pertinentes pour répondre à l'appel à projets RED Fund, notamment sur les aspects de stratégie, de développement institutionnel et de collaborations avec des partenaires extérieurs.   \n",
       "\n",
       "                                                                                                                                                                                                                                                                                                                                                                                                                                                                                                                                                                                                                                                                                                                                                                                                                                                                                                                                                                                                                                                                      Réponse brute  \n",
       "0                                                                                                                                                                                                                                                                                    Après analyse de l'appel à projets et des projets précédemment réalisés par l'entreprise, voici ma réponse :\\n\\n- Pertinence : Oui\\n- Projets similaires détectés : FACTORIAT, National Entrepreneurship Program, Arab Bank Strategy\\n- Résumé rapide : L'appel à projets concerne le soutien à des entreprises et startups, ce qui correspond à l'axe d'incubation et d'accélération de FACTORIAT. De plus, l'appel à projets évoque une stratégie de financement et de partenariat, ce qui rappelle le projet Arab Bank Strategy. Enfin, la dimension de développement d'écosystème entrepreneurial dans l'appel à projets fait écho au projet National Entrepreneurship Program. L'expertise de l'entreprise dans ces domaines la rend donc pertinente pour répondre à cet appel à projets.  \n",
       "49                                                                                                                   Pertinence : Oui\\n\\nProjets similaires détectés : National Entrepreneurship Program, Arab Bank Strategy\\n\\nRésumé rapide : L'appel à projets concerne la mise en place de partenariats de recherche pour répondre à des défis de santé mondiale, notamment dans les pays à faible revenu (LMICs). Les axes clés de cet appel à projets sont la création de partenariats, le développement de projets de recherche appliquée et la mise en œuvre de solutions pour améliorer la santé dans ces pays. Les projets similaires détectés chez l'entreprise sont le National Entrepreneurship Program, qui concerne la mise en place d'un écosystème entrepreneurial dans un pays en développement, et l'Arab Bank Strategy, qui vise à développer des partenariats et des financements pour des projets de économie numérique en Afrique. Les compétences et expériences acquises dans ces projets pourraient être pertinentes pour répondre à cet appel à projets.  \n",
       "67  Pertinence : Oui\\n\\nProjets similaires détectés : Arab Bank Strategy, National Entrepreneurship Program\\n\\nRésumé rapide : L'appel à projets EPSRC cherche des propositions qui rassemblent les meilleurs chercheurs pour résoudre des défis de recherche plus larges et plus ouverts, en encourageant la collaboration interdisciplinaire et la création de partenariats avec l'industrie. Cela correspond aux objectifs du projet Arab Bank Strategy, qui vise à développer des stratégies de financement et de partenariat pour les projets de l'économie numérique africaine, et du projet National Entrepreneurship Program, qui vise à créer un écosystème entrepreneurial national au Lesotho. L'accent mis sur la collaboration, la créativité, l'impact et le développement de carrière des jeunes chercheurs dans l'appel à projets EPSRC est similaire aux objectifs de ces deux projets. En revanche, le projet FACTORIAT est plus ciblé sur l'incubation et l'accélération de startups Deeptech et Hardware, et ne correspond pas directement à cette opportunité.  \n",
       "72                                                                                                                                                                                                                   Pertinence : Oui\\n\\nProjets similaires détectés : FACTORIAT, National Entrepreneurship Program\\n\\nRésumé rapide : L'appel à projets de l'EPSRC concerne le financement de recherche en réseau pour favoriser la collaboration entre les chercheurs, les industries et les gouvernements. Il vise à encourager la recherche interdisciplinaire et la formation de communautés de recherche nouvelles. Les projets similaires détectés sont FACTORIAT, qui soutient les startups deeptech et hardware, et le National Entrepreneurship Program, qui vise à développer l'écosystème entrepreneurial national. L'entreprise a déjà démontré son expertise dans la mise en place de programmes d'incubation et d'accélération, ainsi que dans la conception d'écosystèmes entrepreneuriaux. L'appel à projets EPSRC correspond à ces compétences et à ces intérêts.  \n",
       "88                                                                                                                                             Pertinence : Oui\\n\\nProjets similaires détectés : National Entrepreneurship Program, Arab Bank Strategy\\n\\nRésumé rapide : L'appel à projets RED Fund cherche à soutenir des projets stratégiques de développement institutionnel dans la recherche et l'échange de connaissances, avec un focus sur les approches novatrices et les collaborations avec des partenaires extérieurs. Les projets précédemment réalisés par l'entreprise, tels que le National Entrepreneurship Program et l'Arab Bank Strategy, montrent une expérience de développement de stratégies et d'écosystèmes pour l'innovation et l'entrepreneuriat, ainsi que la mise en place de partenariats pour soutenir l'économie numérique. Ces compétences pourraient être pertinentes pour répondre à l'appel à projets RED Fund, notamment sur les aspects de stratégie, de développement institutionnel et de collaborations avec des partenaires extérieurs.  "
      ]
     },
     "execution_count": 35,
     "metadata": {},
     "output_type": "execute_result"
    }
   ],
   "source": [
    "df_pertinence_uk_yes_llm = df_final_llm_uk[df_final_llm_uk[\"Pertinence LLM\"] == \"Oui\"]\n",
    "df_pertinence_uk_yes_llm"
   ]
  },
  {
   "cell_type": "code",
   "execution_count": 34,
   "id": "35002837",
   "metadata": {},
   "outputs": [],
   "source": [
    "# Save to Excel\n",
    "df_final_llm_uk.to_excel('df_final_ukllm.xlsx', index=False, engine='openpyxl')"
   ]
  }
 ],
 "metadata": {
  "kernelspec": {
   "display_name": "ai_env",
   "language": "python",
   "name": "python3"
  },
  "language_info": {
   "codemirror_mode": {
    "name": "ipython",
    "version": 3
   },
   "file_extension": ".py",
   "mimetype": "text/x-python",
   "name": "python",
   "nbconvert_exporter": "python",
   "pygments_lexer": "ipython3",
   "version": "3.10.16"
  }
 },
 "nbformat": 4,
 "nbformat_minor": 5
}
